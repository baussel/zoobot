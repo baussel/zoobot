{
 "cells": [
  {
   "cell_type": "code",
   "execution_count": 1,
   "metadata": {},
   "outputs": [],
   "source": [
    "%load_ext autoreload\n",
    "%autoreload 2\n",
    "%matplotlib inline"
   ]
  },
  {
   "cell_type": "code",
   "execution_count": 34,
   "metadata": {},
   "outputs": [],
   "source": [
    "import os\n",
    "\n",
    "import pandas as pd\n",
    "import numpy as np\n",
    "import matplotlib.pyplot as plt\n",
    "import seaborn as sns\n",
    "\n",
    "from zoobot.active_learning import metrics, simulation_timeline"
   ]
  },
  {
   "cell_type": "markdown",
   "metadata": {},
   "source": [
    "# Investigate Active Learning Subject Selection (Including Through Time)"
   ]
  },
  {
   "cell_type": "markdown",
   "metadata": {},
   "source": [
    "### Load Catalog (for subject details)"
   ]
  },
  {
   "cell_type": "code",
   "execution_count": 9,
   "metadata": {},
   "outputs": [],
   "source": [
    "gz2_catalog_loc = '../data/gz2_classifications_and_subjects.csv'\n",
    "if not os.path.isfile(gz2_catalog_loc):\n",
    "    !dvc pull -r s3 {gz2_catalog_loc}.dvc\n",
    "gz2_catalog = pd.read_csv(gz2_catalog_loc, usecols=None, dtype={'subject_id': str})"
   ]
  },
  {
   "cell_type": "code",
   "execution_count": 10,
   "metadata": {},
   "outputs": [],
   "source": [
    "catalog = gz2_catalog\n",
    "del gz2_catalog\n",
    "# TODO could extend this to include NSA catalog properties, but matching all is a bit tricky"
   ]
  },
  {
   "cell_type": "code",
   "execution_count": 25,
   "metadata": {},
   "outputs": [],
   "source": [
    "# rename for consistency with Panoptes\n",
    "catalog['smooth-or-featured_smooth_count'] = catalog['t01_smooth_or_features_a01_smooth_count']\n",
    "catalog['smooth-or-featured_smooth_fraction'] = catalog['t01_smooth_or_features_a01_smooth_fraction']\n",
    "\n",
    "catalog['smooth-or-featured_total-votes'] = catalog['t01_smooth_or_features_a01_smooth_count'] + catalog['t01_smooth_or_features_a02_features_or_disk_count'] + catalog['t01_smooth_or_features_a03_star_or_artifact_count']\n",
    "catalog['bar_yes_fraction'] = catalog['t03_bar_a06_bar_fraction']\n",
    "catalog['bar_total-votes'] = catalog['t03_bar_a06_bar_count'] + catalog['t03_bar_a07_no_bar_count']"
   ]
  },
  {
   "cell_type": "code",
   "execution_count": 12,
   "metadata": {},
   "outputs": [],
   "source": [
    "catalog['subject_id'] = catalog['id'].astype(str)\n",
    "if QUESTION == 'smooth':\n",
    "    catalog['total_votes']  = catalog['smooth-or-featured_total-votes']\n",
    "    catalog['label']  = catalog['t01_smooth_or_features_a01_smooth_count']\n",
    "elif QUESTION == 'bars':\n",
    "    catalog['total_votes']  = catalog['bar_total-votes']\n",
    "    catalog['label']  = catalog['t03_bar_a06_bar_count']"
   ]
  },
  {
   "cell_type": "markdown",
   "metadata": {},
   "source": [
    "### Select Question to Investigate"
   ]
  },
  {
   "cell_type": "code",
   "execution_count": 157,
   "metadata": {},
   "outputs": [],
   "source": [
    "QUESTION = 'smooth'\n",
    "save_dir = '../analysis/active_learning_gz2_smooth'\n",
    "\n",
    "# QUESTION = 'bars'\n",
    "# save_dir = '../analysis/active_learning_gz2_bars'\n",
    "\n",
    "if not os.path.isdir(save_dir):\n",
    "    os.mkdir(save_dir)"
   ]
  },
  {
   "cell_type": "markdown",
   "metadata": {},
   "source": [
    "### Download Pickled Iteration States"
   ]
  },
  {
   "cell_type": "code",
   "execution_count": 158,
   "metadata": {},
   "outputs": [],
   "source": [
    "if QUESTION == 'smooth':\n",
    "    states_dir = '../results/al_mutual_128px_smooth_0e0d3cb7/states'\n",
    "    # n_acquired = 128\n",
    "    !aws s3 sync --exclude \"*\" --include \"*.pickle\" s3://galaxy-zoo/results/al_mutual_128px_smooth_0e0d3cb7 {states_dir}\n",
    "if QUESTION == 'bars':\n",
    "    states_dir = '../results/al-iter-arms-53128718-mutual-bars-with-pickle'\n",
    "    n_acquired = 256\n",
    "    !aws s3 sync --exclude \"*\" --include \"*.pickle\" s3://galaxy-zoo/results/al-iter-arms-53128718-mutual-bars-with-pickle {states_dir}"
   ]
  },
  {
   "cell_type": "markdown",
   "metadata": {},
   "source": [
    "### Load Iteration States as Timeline"
   ]
  },
  {
   "cell_type": "code",
   "execution_count": 160,
   "metadata": {},
   "outputs": [],
   "source": [
    "states = []\n",
    "n_iterations = 23\n",
    "for iteration_n in range(n_iterations):\n",
    "    state_dir = os.path.join(states_dir, 'iteration_{}'.format(iteration_n))\n",
    "    states.append(metrics.load_iteration_state(state_dir))\n"
   ]
  },
  {
   "cell_type": "code",
   "execution_count": null,
   "metadata": {},
   "outputs": [
    {
     "name": "stderr",
     "output_type": "stream",
     "text": [
      "/Data/repos/zoobot/zoobot/active_learning/simulated_metrics.py:190: SettingWithCopyWarning: \n",
      "A value is trying to be set on a copy of a slice from a DataFrame.\n",
      "Try using .loc[row_indexer,col_indexer] = value instead\n",
      "\n",
      "See the caveats in the documentation: http://pandas.pydata.org/pandas-docs/stable/indexing.html#indexing-view-versus-copy\n",
      "  filtered_catalog['subject_id'] = filtered_catalog['subject_id'].astype(str)\n",
      "/Data/repos/zoobot/zoobot/active_learning/simulated_metrics.py:112: RuntimeWarning: invalid value encountered in true_divide\n",
      "  self.abs_rho_error = np.abs(self.mean_rho_prediction - (self.labels / self.total_votes))\n",
      "/Data/repos/zoobot/zoobot/active_learning/simulated_metrics.py:113: RuntimeWarning: invalid value encountered in true_divide\n",
      "  self.square_rho_error = ((self.labels / self.total_votes) - self.mean_rho_prediction) ** 2.\n"
     ]
    }
   ],
   "source": [
    "key_catalog_cols = [\n",
    "    'smooth-or-featured_smooth_count',\n",
    "    'smooth-or-featured_smooth_fraction',\n",
    "    'smooth-or-featured_total-votes',\n",
    "    'bar_yes_fraction',\n",
    "    'bar_total-votes',\n",
    "    'label',\n",
    "    'total_votes',\n",
    "    'subject_id'\n",
    "]\n",
    "\n",
    "# takes a few minutes\n",
    "timeline = simulation_timeline.Timeline(states, catalog[key_catalog_cols], n_acquired=n_acquired, save_dir=save_dir)"
   ]
  },
  {
   "cell_type": "code",
   "execution_count": null,
   "metadata": {},
   "outputs": [],
   "source": [
    "len(timeline._models)"
   ]
  },
  {
   "cell_type": "markdown",
   "metadata": {},
   "source": [
    "### Pick Feature to Investigate"
   ]
  },
  {
   "cell_type": "code",
   "execution_count": null,
   "metadata": {},
   "outputs": [],
   "source": [
    "# value = 'smooth-or-featured_smooth_fraction'\n",
    "value = 'bar_yes_fraction'"
   ]
  },
  {
   "cell_type": "code",
   "execution_count": null,
   "metadata": {},
   "outputs": [],
   "source": [
    "### Extract Values of Feature\n",
    "\n",
    "acquired = []\n",
    "random = []\n",
    "acquired_dummy = []\n",
    "random_dummy = []\n",
    "\n",
    "for iteration_n in range(n_iterations):\n",
    "    values = timeline._models[iteration_n].catalog[value]\n",
    "    acquired_values = values[:timeline.n_acquired]\n",
    "    acquired.extend(list(acquired_values))\n",
    "    random.extend(list(values))\n",
    "    # dummies records which step was used, for 2D histogram plotting\n",
    "    acquired_dummy.extend([iteration_n for _ in range(len(acquired_values))])\n",
    "    random_dummy.extend([iteration_n for _ in range(len(values))])"
   ]
  },
  {
   "cell_type": "markdown",
   "metadata": {},
   "source": [
    "### Visualise Feature By 2D Hist (value by step)"
   ]
  },
  {
   "cell_type": "code",
   "execution_count": null,
   "metadata": {},
   "outputs": [],
   "source": [
    "# from matplotlib import colors "
   ]
  },
  {
   "cell_type": "code",
   "execution_count": null,
   "metadata": {},
   "outputs": [],
   "source": []
  },
  {
   "cell_type": "code",
   "execution_count": null,
   "metadata": {},
   "outputs": [],
   "source": [
    "\n",
    "# normalizer = colors.Normalize(vmin=0, vmax=60)\n",
    "\n",
    "sns.set(font_scale=1.1)\n",
    "sns.set_style('white')\n",
    "\n",
    "fig = plt.figure(figsize=(8, 8))\n",
    "spacing = 0\n",
    "grid = plt.GridSpec(n_iterations + spacing, 2, wspace=.4, hspace=.4)\n",
    "ax0 = plt.subplot(grid[:1, 0])  # top bar is a 2D hist with only one y value (1), double height for clarity\n",
    "ax1 = plt.subplot(grid[2 + spacing:, 0])  # lower plot is 2D hist where y is step and x is values\n",
    "\n",
    "\n",
    "# fig, (ax0, ax1) = plt.subplots(ncols=2, sharex=True, sharey=True)\n",
    "ax0.hist2d(random, np.ones_like(random_dummy), bins=(10, 1), cmap='Blues')\n",
    "ax0.axes.get_yaxis().set_visible(False)\n",
    "ax0.axes.get_xaxis().set_visible(False)\n",
    "# ax0.ticks_visible=False\n",
    "ax1.hist2d(acquired, acquired_dummy, bins=(10, n_iterations), cmap='Blues')\n",
    "ax1.set_title('Acquired')\n",
    "ax0.set_title('Random')\n",
    "# ax0.set_ylabel('Iteration')\n",
    "ax1.set_ylabel('Iteration')\n",
    "\n",
    "if 'smooth' in value:\n",
    "    ax1.set_xlabel(r'Smooth Vote Fraction $\\rho$')\n",
    "else:\n",
    "    ax1.set_xlabel(r'Bar Vote Fraction $\\rho$')\n",
    "\n",
    "plt.savefig(os.path.join(save_dir, value + 'acquired_by_step.png'))"
   ]
  },
  {
   "cell_type": "markdown",
   "metadata": {},
   "source": [
    "### Visualise Feature By overlaid 1D Hist (value at each step)"
   ]
  },
  {
   "cell_type": "code",
   "execution_count": null,
   "metadata": {},
   "outputs": [],
   "source": [
    "sns.set_style('white')\n",
    "fig, ax = plt.subplots()\n",
    "alpha = 0.15\n",
    "# cmap = plt.get_cmap('magma')\n",
    "n_bins = 10\n",
    "all_labels = []\n",
    "all_acquired_labels = []\n",
    "for iteration_n in range(n_iterations):\n",
    "    color_float = iteration_n / n_iterations\n",
    "    assert isinstance(color_float, float)  # this will fail for python2\n",
    "    labels = timeline._models[iteration_n].catalog[value]\n",
    "    all_labels.extend(labels)\n",
    "    acquired_labels = labels[:timeline.n_acquired]\n",
    "    all_acquired_labels.extend(acquired_labels)\n",
    "    if iteration_n == 0:\n",
    "        bins = n_bins\n",
    "        label = 'Acquired (Per Iteration)'\n",
    "    else:\n",
    "        label = None\n",
    "    _, bins, _ = ax.hist(acquired_labels, bins=bins, alpha=alpha, histtype='step', color='k', density=True, label=label)\n",
    "    mean_acquired.append(acquired_values)\n",
    "bin_width = (bins[-1] - bins[0]) / len(bins)\n",
    "\n",
    "# timeline._models[iteration_n].catalog[value][:timeline.n_acquired]\n",
    "ax.hist(all_acquired_labels,histtype='step', bins=bins, density=True, linewidth=3., label='Acquired (Total)')\n",
    "ax.hist(all_labels,histtype='step', bins=bins, density=True, linewidth=3., label='Random')\n",
    "\n",
    "if 'smooth' in value:\n",
    "    ax.set_xlabel(r'Smooth Vote Fraction $\\rho$')\n",
    "else:\n",
    "    ax.set_xlabel(r'Bar Vote Fraction $\\rho$')\n",
    "ax.set_ylabel('Galaxies (Normalised)')\n",
    "ax.legend()\n",
    "\n",
    "fig.tight_layout()\n",
    "# plt.savefig(os.path.join(save_dir, value + 'acquired_overlaid.png'))"
   ]
  },
  {
   "cell_type": "markdown",
   "metadata": {},
   "source": [
    "### Alternative Overlay (Deprecated)"
   ]
  },
  {
   "cell_type": "code",
   "execution_count": 142,
   "metadata": {},
   "outputs": [
    {
     "data": {
      "image/png": "[encoded data removed]",
      "text/plain": [
       "<Figure size 432x288 with 2 Axes>"
      ]
     },
     "metadata": {},
     "output_type": "display_data"
    }
   ],
   "source": [
    "sns.set_style('white')\n",
    "fig, (ax0, ax1) = plt.subplots(ncols=2)\n",
    "alpha = 0.4\n",
    "cmap = plt.get_cmap('magma')\n",
    "n_bins = 8\n",
    "mean_acquired = []\n",
    "mean_random = []\n",
    "for iteration_n in range(n_iterations):\n",
    "    color_float = iteration_n / n_iterations\n",
    "    assert isinstance(color_float, float)  # this will fail for python2\n",
    "    labels = timeline._models[iteration_n].catalog['bar_yes_fraction']\n",
    "    acquired_labels = labels[:timeline.n_acquired]\n",
    "    if iteration_n == 0:\n",
    "        bins = n_bins\n",
    "    acquired_values, bins, _ = ax0.hist(acquired_labels, bins=bins, alpha=alpha, histtype='step', color=cmap(color_float))\n",
    "    mean_acquired.append(acquired_values)\n",
    "    random_values = ax1.hist(labels, alpha=alpha, histtype='step', bins=bins, color=cmap(color_float))\n",
    "    ax0.set_title('Acquired')\n",
    "    ax1.set_title('Random')\n",
    "    ax0.set_xlabel(r'Bar Vote Fraction $\\rho$')\n",
    "    ax1.set_xlabel(r'Bar Vote Fraction $\\rho$')\n",
    "bin_width = (bins[-1] - bins[0]) / len(bins)\n",
    "ax0.plot(bins[:-1] + bin_width, np.mean(mean_acquired, axis=0))\n",
    "# better: turn other bins to trace, and plot an overall and random histogram\n",
    "fig.tight_layout()\n",
    "plt.savefig(os.path.join(save_dir, value + 'acquired_overlaid.png'))"
   ]
  },
  {
   "cell_type": "code",
   "execution_count": null,
   "metadata": {},
   "outputs": [],
   "source": []
  }
 ],
 "metadata": {
  "kernelspec": {
   "display_name": "Python 3",
   "language": "python",
   "name": "python3"
  },
  "language_info": {
   "codemirror_mode": {
    "name": "ipython",
    "version": 3
   },
   "file_extension": ".py",
   "mimetype": "text/x-python",
   "name": "python",
   "nbconvert_exporter": "python",
   "pygments_lexer": "ipython3",
   "version": "3.6.7"
  }
 },
 "nbformat": 4,
 "nbformat_minor": 2
}
