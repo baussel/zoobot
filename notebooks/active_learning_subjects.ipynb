{
 "cells": [
  {
   "cell_type": "code",
   "execution_count": 1,
   "metadata": {},
   "outputs": [],
   "source": [
    "%load_ext autoreload\n",
    "%autoreload 2\n",
    "%matplotlib inline"
   ]
  },
  {
   "cell_type": "code",
   "execution_count": 21,
   "metadata": {},
   "outputs": [],
   "source": [
    "import os\n",
    "\n",
    "import pandas as pd\n",
    "import numpy as np\n",
    "import matplotlib.pyplot as plt\n",
    "import seaborn as sns\n",
    "from astropy.table import Table\n",
    "import astropy.units as u\n",
    "\n",
    "from shared_astro_utils import matching_utils\n",
    "from zoobot.active_learning import metrics, simulation_timeline"
   ]
  },
  {
   "cell_type": "markdown",
   "metadata": {},
   "source": [
    "# Investigate Active Learning Subject Selection (Including Through Time)"
   ]
  },
  {
   "cell_type": "markdown",
   "metadata": {},
   "source": [
    "### Select Question to Investigate"
   ]
  },
  {
   "cell_type": "code",
   "execution_count": 3,
   "metadata": {},
   "outputs": [],
   "source": [
    "# QUESTION = 'smooth'\n",
    "# save_dir = '../analysis/active_learning_gz2_smooth'\n",
    "\n",
    "QUESTION = 'bars'\n",
    "save_dir = '../analysis/active_learning_gz2_bars'\n",
    "\n",
    "if not os.path.isdir(save_dir):\n",
    "    os.mkdir(save_dir)"
   ]
  },
  {
   "cell_type": "markdown",
   "metadata": {},
   "source": [
    "### Load Catalog (for subject details)"
   ]
  },
  {
   "cell_type": "code",
   "execution_count": 44,
   "metadata": {},
   "outputs": [],
   "source": [
    "gz2_catalog_loc = '../data/gz2_classifications_and_subjects.csv'\n",
    "if not os.path.isfile(gz2_catalog_loc):\n",
    "    !dvc pull -r s3 {gz2_catalog_loc}.dvc\n",
    "gz2_catalog = pd.read_csv(gz2_catalog_loc, usecols=None, dtype={'subject_id': str})"
   ]
  },
  {
   "cell_type": "code",
   "execution_count": 12,
   "metadata": {},
   "outputs": [],
   "source": [
    "# catalog = gz2_catalog\n",
    "# del gz2_catalog\n",
    "# TODO could extend this to include NSA catalog properties, but matching all is a bit tricky"
   ]
  },
  {
   "cell_type": "code",
   "execution_count": 13,
   "metadata": {},
   "outputs": [],
   "source": [
    "# gz2 catalog doesn't have nsa, let's merge that in for astro features\n",
    "nsa_catalog_loc = '../data/nsa_v1_0_1.fits'\n",
    "if not os.path.isfile(nsa_catalog_loc):\n",
    "    !dvc pull -r s3 {nsa_catalog_loc}.dvc"
   ]
  },
  {
   "cell_type": "code",
   "execution_count": 40,
   "metadata": {},
   "outputs": [],
   "source": [
    "nsa_catalog = Table.read(nsa_catalog_loc)"
   ]
  },
  {
   "cell_type": "code",
   "execution_count": 41,
   "metadata": {},
   "outputs": [],
   "source": [
    "# nsa_catalog.colnames"
   ]
  },
  {
   "cell_type": "code",
   "execution_count": 42,
   "metadata": {},
   "outputs": [],
   "source": [
    "useful_cols = ['RA', 'DEC', 'PETRO_BA50', 'PETRO_BA90', 'MAG', 'ELPETRO_MASS']\n",
    "nsa_catalog = nsa_catalog[useful_cols + ['Z']]\n",
    "nsa_catalog['redshift'] = nsa_catalog['Z']\n",
    "del nsa_catalog['Z']\n",
    "for col in useful_cols:  \n",
    "    nsa_catalog[col.lower()] = nsa_catalog[col]\n",
    "    del nsa_catalog[col]\n",
    "nsa_catalog = nsa_catalog.to_pandas()"
   ]
  },
  {
   "cell_type": "code",
   "execution_count": 45,
   "metadata": {},
   "outputs": [],
   "source": [
    "catalog, _ = matching_utils.match_galaxies_to_catalog_pandas(gz2_catalog, nsa_catalog, matching_radius=u.arcsec * 10000)"
   ]
  },
  {
   "cell_type": "code",
   "execution_count": 46,
   "metadata": {},
   "outputs": [
    {
     "data": {
      "text/plain": [
       "(239695, 239695, 641409)"
      ]
     },
     "execution_count": 46,
     "metadata": {},
     "output_type": "execute_result"
    }
   ],
   "source": [
    "len(catalog), len(gz2_catalog), len(nsa_catalog)"
   ]
  },
  {
   "cell_type": "code",
   "execution_count": 47,
   "metadata": {},
   "outputs": [],
   "source": [
    "# to conserve memory\n",
    "del gz2_catalog\n",
    "del nsa_catalog"
   ]
  },
  {
   "cell_type": "code",
   "execution_count": 48,
   "metadata": {},
   "outputs": [],
   "source": [
    "# rename for consistency with Panoptes\n",
    "catalog['smooth-or-featured_smooth_count'] = catalog['t01_smooth_or_features_a01_smooth_count']\n",
    "catalog['smooth-or-featured_smooth_fraction'] = catalog['t01_smooth_or_features_a01_smooth_fraction']\n",
    "\n",
    "catalog['smooth-or-featured_total-votes'] = catalog['t01_smooth_or_features_a01_smooth_count'] + catalog['t01_smooth_or_features_a02_features_or_disk_count'] + catalog['t01_smooth_or_features_a03_star_or_artifact_count']\n",
    "catalog['bar_yes_fraction'] = catalog['t03_bar_a06_bar_fraction']\n",
    "catalog['bar_total-votes'] = catalog['t03_bar_a06_bar_count'] + catalog['t03_bar_a07_no_bar_count']"
   ]
  },
  {
   "cell_type": "code",
   "execution_count": 49,
   "metadata": {},
   "outputs": [],
   "source": [
    "catalog['subject_id'] = catalog['id'].astype(str)\n",
    "if QUESTION == 'smooth':\n",
    "    catalog['total_votes']  = catalog['smooth-or-featured_total-votes']\n",
    "    catalog['label']  = catalog['t01_smooth_or_features_a01_smooth_count']\n",
    "elif QUESTION == 'bars':\n",
    "    catalog['total_votes']  = catalog['bar_total-votes']\n",
    "    catalog['label']  = catalog['t03_bar_a06_bar_count']"
   ]
  },
  {
   "cell_type": "markdown",
   "metadata": {},
   "source": [
    "### Download Pickled Iteration States"
   ]
  },
  {
   "cell_type": "code",
   "execution_count": 50,
   "metadata": {},
   "outputs": [
    {
     "name": "stdout",
     "output_type": "stream",
     "text": [
      "^C\n"
     ]
    }
   ],
   "source": [
    "if QUESTION == 'smooth':\n",
    "    states_dir = '../results/al_mutual_128px_smooth_0e0d3cb7/states'\n",
    "    # n_acquired = 128\n",
    "    !aws s3 sync --exclude \"*\" --include \"*.pickle\" s3://galaxy-zoo/results/al_mutual_128px_smooth_0e0d3cb7 {states_dir}\n",
    "if QUESTION == 'bars':\n",
    "    states_dir = '../results/al-iter-arms-53128718-mutual-bars-with-pickle'\n",
    "    n_acquired = 256\n",
    "    !aws s3 sync --exclude \"*\" --include \"*.pickle\" s3://galaxy-zoo/results/al-iter-arms-53128718-mutual-bars-with-pickle {states_dir}"
   ]
  },
  {
   "cell_type": "markdown",
   "metadata": {},
   "source": [
    "### Load Iteration States as Timeline"
   ]
  },
  {
   "cell_type": "code",
   "execution_count": 55,
   "metadata": {},
   "outputs": [],
   "source": [
    "states = []\n",
    "n_iterations = 23\n",
    "for iteration_n in range(n_iterations):\n",
    "    state_dir = os.path.join(states_dir, 'iteration_{}'.format(iteration_n))\n",
    "    states.append(metrics.load_iteration_state(state_dir))"
   ]
  },
  {
   "cell_type": "code",
   "execution_count": 56,
   "metadata": {},
   "outputs": [
    {
     "data": {
      "text/plain": [
       "'../results/al-iter-arms-53128718-mutual-bars-with-pickle'"
      ]
     },
     "execution_count": 56,
     "metadata": {},
     "output_type": "execute_result"
    }
   ],
   "source": [
    "states_dir"
   ]
  },
  {
   "cell_type": "code",
   "execution_count": 57,
   "metadata": {},
   "outputs": [
    {
     "name": "stderr",
     "output_type": "stream",
     "text": [
      "/Data/repos/zoobot/zoobot/active_learning/simulated_metrics.py:190: SettingWithCopyWarning: \n",
      "A value is trying to be set on a copy of a slice from a DataFrame.\n",
      "Try using .loc[row_indexer,col_indexer] = value instead\n",
      "\n",
      "See the caveats in the documentation: http://pandas.pydata.org/pandas-docs/stable/indexing.html#indexing-view-versus-copy\n",
      "  filtered_catalog['subject_id'] = filtered_catalog['subject_id'].astype(str)\n"
     ]
    }
   ],
   "source": [
    "key_catalog_cols = [\n",
    "    'smooth-or-featured_smooth_count',\n",
    "    'smooth-or-featured_smooth_fraction',\n",
    "    'smooth-or-featured_total-votes',\n",
    "    'bar_yes_fraction',\n",
    "    'bar_total-votes',\n",
    "    'label',\n",
    "    'total_votes',\n",
    "    'subject_id',\n",
    "    'redshift'\n",
    "    # TODO more?\n",
    "] + [col.lower() for col in useful_cols]\n",
    "\n",
    "# takes a few minutes\n",
    "timeline = simulation_timeline.Timeline(states, catalog[key_catalog_cols], n_acquired=n_acquired, save_dir=save_dir)"
   ]
  },
  {
   "cell_type": "code",
   "execution_count": null,
   "metadata": {},
   "outputs": [],
   "source": []
  },
  {
   "cell_type": "code",
   "execution_count": 58,
   "metadata": {},
   "outputs": [
    {
     "data": {
      "text/plain": [
       "23"
      ]
     },
     "execution_count": 58,
     "metadata": {},
     "output_type": "execute_result"
    }
   ],
   "source": [
    "len(timeline._models)"
   ]
  },
  {
   "cell_type": "markdown",
   "metadata": {},
   "source": [
    "### Pick Feature to Investigate"
   ]
  },
  {
   "cell_type": "code",
   "execution_count": 65,
   "metadata": {},
   "outputs": [
    {
     "data": {
      "text/plain": [
       "['RA', 'DEC', 'PETRO_BA50', 'PETRO_BA90', 'MAG', 'ELPETRO_MASS']"
      ]
     },
     "execution_count": 65,
     "metadata": {},
     "output_type": "execute_result"
    }
   ],
   "source": [
    "useful_cols"
   ]
  },
  {
   "cell_type": "code",
   "execution_count": 108,
   "metadata": {},
   "outputs": [],
   "source": [
    "# value = 'smooth-or-featured_smooth_fraction'\n",
    "# value = 'bar_yes_fraction'\n",
    "value = 'redshift'\n",
    "# value = 'elpetro_mass'"
   ]
  },
  {
   "cell_type": "code",
   "execution_count": 109,
   "metadata": {},
   "outputs": [
    {
     "data": {
      "text/plain": [
       "array([0.10483962, 0.07260261, 0.06365951, 0.09624096, 0.03951402,\n",
       "       0.04275434, 0.0212074 , 0.02715879, 0.09425449, 0.05090568],\n",
       "      dtype=float32)"
      ]
     },
     "execution_count": 109,
     "metadata": {},
     "output_type": "execute_result"
    }
   ],
   "source": [
    "timeline._models[iteration_n].catalog[value].values[:10]"
   ]
  },
  {
   "cell_type": "code",
   "execution_count": 115,
   "metadata": {},
   "outputs": [
    {
     "data": {
      "text/plain": [
       "array([489.40212957, 331.44573603, 288.77473058, 446.64348164,\n",
       "       176.11880537, 191.01855249,  93.23293491, 119.93649422,\n",
       "       436.82960239, 228.80140362])"
      ]
     },
     "execution_count": 115,
     "metadata": {},
     "output_type": "execute_result"
    }
   ],
   "source": [
    "cosmo.luminosity_distance(timeline._models[iteration_n].catalog[value].values[:10]).value"
   ]
  },
  {
   "cell_type": "code",
   "execution_count": 119,
   "metadata": {},
   "outputs": [],
   "source": [
    "### Extract Values of Feature\n",
    "\n",
    "acquired = []\n",
    "random = []\n",
    "acquired_dummy = []\n",
    "random_dummy = []\n",
    "\n",
    "for iteration_n in range(n_iterations):\n",
    "#     values = timeline._models[iteration_n].catalog[value]\n",
    "    values = cosmo.luminosity_distance(timeline._models[iteration_n].catalog[value].values).value\n",
    "    nan_indices = np.isnan(values)\n",
    "    values = values[~nan_indices]\n",
    "    acquired_values = values[:timeline.n_acquired]\n",
    "    acquired.extend(list(acquired_values))\n",
    "    random.extend(list(values))\n",
    "    # dummies records which step was used, for 2D histogram plotting\n",
    "    acquired_dummy.extend([iteration_n for _ in range(len(acquired_values))])\n",
    "    random_dummy.extend([iteration_n for _ in range(len(values))])"
   ]
  },
  {
   "cell_type": "code",
   "execution_count": 122,
   "metadata": {},
   "outputs": [],
   "source": [
    "assert not sum(np.isnan(acquired))"
   ]
  },
  {
   "cell_type": "markdown",
   "metadata": {},
   "source": [
    "### Visualise Feature By 2D Hist (value by step)"
   ]
  },
  {
   "cell_type": "code",
   "execution_count": 100,
   "metadata": {},
   "outputs": [],
   "source": [
    "# from matplotlib import colors "
   ]
  },
  {
   "cell_type": "code",
   "execution_count": null,
   "metadata": {},
   "outputs": [],
   "source": []
  },
  {
   "cell_type": "code",
   "execution_count": 123,
   "metadata": {},
   "outputs": [
    {
     "data": {
      "image/png": "[encoded data removed]",
      "text/plain": [
       "<Figure size 720x720 with 2 Axes>"
      ]
     },
     "metadata": {},
     "output_type": "display_data"
    }
   ],
   "source": [
    "\n",
    "# normalizer = colors.Normalize(vmin=0, vmax=60)\n",
    "\n",
    "sns.set(font_scale=1.1)\n",
    "sns.set_style('white')\n",
    "\n",
    "fig = plt.figure(figsize=(10, 10))\n",
    "spacing = 0\n",
    "grid = plt.GridSpec(n_iterations + spacing, 2, wspace=.4, hspace=.4)\n",
    "ax0 = plt.subplot(grid[:1, 0])  # top bar is a 2D hist with only one y value (1), double height for clarity\n",
    "ax1 = plt.subplot(grid[2 + spacing:, 0])  # lower plot is 2D hist where y is step and x is values\n",
    "\n",
    "\n",
    "# fig, (ax0, ax1) = plt.subplots(ncols=2, sharex=True, sharey=True)\n",
    "ax0.hist2d(random, np.ones_like(random_dummy), bins=(10, 1), cmap='Blues')\n",
    "ax0.axes.get_yaxis().set_visible(False)\n",
    "ax0.axes.get_xaxis().set_visible(False)\n",
    "# ax0.ticks_visible=False\n",
    "ax1.hist2d(acquired, acquired_dummy, bins=(10, n_iterations), cmap='Blues')\n",
    "ax1.set_title('Acquired')\n",
    "ax0.set_title('Random')\n",
    "# ax0.set_ylabel('Iteration')\n",
    "ax1.set_ylabel('Iteration')\n",
    "\n",
    "if 'smooth' in value:\n",
    "    ax1.set_xlabel(r'Smooth Vote Fraction $\\rho$')\n",
    "if 'bar' in value:\n",
    "    ax1.set_xlabel(r'Bar Vote Fraction $\\rho$')\n",
    "if 'redshift' in value:\n",
    "    ax.set_xlabel(r'Redshift $z$')\n",
    "\n",
    "ax1.yaxis.set_major_formatter(\n",
    "    plt.FuncFormatter(\n",
    "        lambda x, pos: '{:d}'.format(int(x))\n",
    "    )\n",
    ")\n",
    "plt.savefig(os.path.join(save_dir, value + 'acquired_by_step.png'))"
   ]
  },
  {
   "cell_type": "markdown",
   "metadata": {},
   "source": [
    "### Visualise Feature By overlaid 1D Hist (value at each step)"
   ]
  },
  {
   "cell_type": "code",
   "execution_count": 135,
   "metadata": {},
   "outputs": [
    {
     "data": {
      "image/png": "[encoded data removed]",
      "text/plain": [
       "<Figure size 324x324 with 1 Axes>"
      ]
     },
     "metadata": {},
     "output_type": "display_data"
    }
   ],
   "source": [
    "sns.set_style('white')\n",
    "fig, ax = plt.subplots(figsize=(4.5, 4.5))\n",
    "alpha = 0.15\n",
    "# cmap = plt.get_cmap('magma')\n",
    "n_bins = 10\n",
    "\n",
    "for iteration_n in range(n_iterations):\n",
    "    color_float = iteration_n / n_iterations\n",
    "    assert isinstance(color_float, float)  # this will fail for python2\n",
    "    labels = timeline._models[iteration_n].catalog[value]\n",
    "#     labels = cosmo.luminosity_distance(timeline._models[iteration_n].catalog[value].values).value\n",
    "    all_labels.extend(labels)\n",
    "    acquired_labels = labels[:timeline.n_acquired]\n",
    "    all_acquired_labels.extend(acquired_labels)\n",
    "    if iteration_n == 0:\n",
    "        bins = n_bins\n",
    "        label = 'Acquired (Per Iteration)'\n",
    "    else:\n",
    "        label = None\n",
    "    _, bins, _ = ax.hist(acquired_labels, bins=bins, alpha=alpha, histtype='step', color='k', density=True, label=label)\n",
    "bin_width = (bins[-1] - bins[0]) / len(bins)\n",
    "\n",
    "# timeline._models[iteration_n].catalog[value][:timeline.n_acquired]\n",
    "ax.hist(all_acquired_labels,histtype='step', bins=bins, density=True, linewidth=3., label='Acquired (Total)')\n",
    "ax.hist(all_labels,histtype='step', bins=bins, density=True, linewidth=3., label='Random')\n",
    "\n",
    "if 'smooth' in value:\n",
    "    ax.set_xlabel(r'Smooth Vote Fraction $\\rho$')\n",
    "    loc = 2\n",
    "if 'bar' in value:\n",
    "    ax.set_xlabel(r'Bar Vote Fraction $\\rho$')\n",
    "    loc = 0\n",
    "if 'redshift' in value:\n",
    "    ax.set_xlabel(r'Redshift $z$')\n",
    "ax.set_ylabel('Galaxies (Normalised)')\n",
    "ax.legend(loc=loc)\n",
    "\n",
    "fig.tight_layout()\n",
    "plt.savefig(os.path.join(save_dir, value + 'acquired_overlaid.png'))"
   ]
  },
  {
   "cell_type": "code",
   "execution_count": 142,
   "metadata": {},
   "outputs": [],
   "source": [
    "last_model = timeline._models[-1]"
   ]
  },
  {
   "cell_type": "code",
   "execution_count": 154,
   "metadata": {},
   "outputs": [],
   "source": [
    "first_model = timeline._models[0]"
   ]
  },
  {
   "cell_type": "code",
   "execution_count": 156,
   "metadata": {},
   "outputs": [
    {
     "data": {
      "text/plain": [
       "Text(0.5,0,'Redshift $z$')"
      ]
     },
     "execution_count": 156,
     "metadata": {},
     "output_type": "execute_result"
    },
    {
     "data": {
      "image/png": "[encoded data removed]",
      "text/plain": [
       "<Figure size 432x288 with 1 Axes>"
      ]
     },
     "metadata": {},
     "output_type": "display_data"
    }
   ],
   "source": [
    "plt.hist2d(first_model.catalog['redshift'].values, first_model.abs_rho_error, bins=(20, 30))\n",
    "plt.ylim([0., 0.3])\n",
    "plt.ylabel(r'| Expected $\\hat{\\rho}$ - Observed $\\frac{k}{N}$')\n",
    "plt.xlabel(r'Redshift $z$')"
   ]
  },
  {
   "cell_type": "code",
   "execution_count": 158,
   "metadata": {},
   "outputs": [
    {
     "data": {
      "text/plain": [
       "Text(0.5,0,'Redshift $z$')"
      ]
     },
     "execution_count": 158,
     "metadata": {},
     "output_type": "execute_result"
    },
    {
     "data": {
      "image/png": "[encoded data removed]",
      "text/plain": [
       "<Figure size 432x288 with 1 Axes>"
      ]
     },
     "metadata": {},
     "output_type": "display_data"
    }
   ],
   "source": [
    "plt.hist2d(last_model.catalog['redshift'].values, last_model.abs_rho_error, bins=(20, 30))\n",
    "plt.ylim([0., 0.3])\n",
    "plt.ylabel(r'| Expected $\\hat{\\rho}$ - Observed $\\frac{k}{N}$ |')\n",
    "plt.xlabel(r'Redshift $z$')"
   ]
  },
  {
   "cell_type": "code",
   "execution_count": 137,
   "metadata": {},
   "outputs": [
    {
     "data": {
      "text/plain": [
       "0        0.064446\n",
       "1        0.093161\n",
       "2        0.045493\n",
       "3        0.077215\n",
       "4        0.096272\n",
       "5        0.066241\n",
       "6        0.015190\n",
       "7        0.025945\n",
       "8        0.020585\n",
       "9        0.014857\n",
       "10       0.019460\n",
       "11       0.046674\n",
       "12       0.035468\n",
       "13       0.089070\n",
       "14       0.133152\n",
       "15       0.051827\n",
       "16       0.070134\n",
       "17       0.023724\n",
       "18       0.023902\n",
       "19       0.024302\n",
       "20       0.079586\n",
       "21       0.019868\n",
       "22       0.063746\n",
       "23       0.021744\n",
       "24       0.071123\n",
       "25       0.031044\n",
       "26       0.031429\n",
       "27       0.058044\n",
       "28       0.025641\n",
       "29       0.069945\n",
       "           ...   \n",
       "14604    0.082583\n",
       "14605    0.112384\n",
       "14606    0.109877\n",
       "14607    0.040861\n",
       "14608    0.033967\n",
       "14609    0.110154\n",
       "14610    0.053690\n",
       "14611    0.133751\n",
       "14612    0.050165\n",
       "14613    0.046761\n",
       "14614    0.102702\n",
       "14615    0.061807\n",
       "14616    0.134448\n",
       "14617    0.100778\n",
       "14618    0.062813\n",
       "14619    0.033493\n",
       "14620    0.101120\n",
       "14621    0.119668\n",
       "14622    0.061763\n",
       "14623    0.055269\n",
       "14624    0.068358\n",
       "14625    0.120944\n",
       "14626    0.041143\n",
       "14627    0.081488\n",
       "14628    0.078157\n",
       "14629    0.136569\n",
       "14630    0.025880\n",
       "14631    0.137250\n",
       "14632    0.091928\n",
       "14633    0.107174\n",
       "Name: redshift, Length: 14634, dtype: float32"
      ]
     },
     "execution_count": 137,
     "metadata": {},
     "output_type": "execute_result"
    }
   ],
   "source": []
  },
  {
   "cell_type": "markdown",
   "metadata": {},
   "source": [
    "### Alternative Overlay (Deprecated)"
   ]
  },
  {
   "cell_type": "code",
   "execution_count": 39,
   "metadata": {},
   "outputs": [],
   "source": [
    "# sns.set_style('white')\n",
    "# fig, (ax0, ax1) = plt.subplots(ncols=2)\n",
    "# alpha = 0.4\n",
    "# cmap = plt.get_cmap('magma')\n",
    "# n_bins = 8\n",
    "# mean_acquired = []\n",
    "# mean_random = []\n",
    "# for iteration_n in range(n_iterations):\n",
    "#     color_float = iteration_n / n_iterations\n",
    "#     assert isinstance(color_float, float)  # this will fail for python2\n",
    "#     labels = timeline._models[iteration_n].catalog['bar_yes_fraction']\n",
    "#     acquired_labels = labels[:timeline.n_acquired]\n",
    "#     if iteration_n == 0:\n",
    "#         bins = n_bins\n",
    "#     acquired_values, bins, _ = ax0.hist(acquired_labels, bins=bins, alpha=alpha, histtype='step', color=cmap(color_float))\n",
    "#     mean_acquired.append(acquired_values)\n",
    "#     random_values = ax1.hist(labels, alpha=alpha, histtype='step', bins=bins, color=cmap(color_float))\n",
    "#     ax0.set_title('Acquired')\n",
    "#     ax1.set_title('Random')\n",
    "#     ax0.set_xlabel(r'Bar Vote Fraction $\\rho$')\n",
    "#     ax1.set_xlabel(r'Bar Vote Fraction $\\rho$')\n",
    "# bin_width = (bins[-1] - bins[0]) / len(bins)\n",
    "# ax0.plot(bins[:-1] + bin_width, np.mean(mean_acquired, axis=0))\n",
    "# # better: turn other bins to trace, and plot an overall and random histogram\n",
    "# fig.tight_layout()\n",
    "# # plt.savefig(os.path.join(save_dir, value + 'acquired_overlaid.png'))"
   ]
  },
  {
   "cell_type": "code",
   "execution_count": null,
   "metadata": {},
   "outputs": [],
   "source": []
  }
 ],
 "metadata": {
  "kernelspec": {
   "display_name": "Python 3",
   "language": "python",
   "name": "python3"
  },
  "language_info": {
   "codemirror_mode": {
    "name": "ipython",
    "version": 3
   },
   "file_extension": ".py",
   "mimetype": "text/x-python",
   "name": "python",
   "nbconvert_exporter": "python",
   "pygments_lexer": "ipython3",
   "version": "3.6.7"
  }
 },
 "nbformat": 4,
 "nbformat_minor": 2
}
