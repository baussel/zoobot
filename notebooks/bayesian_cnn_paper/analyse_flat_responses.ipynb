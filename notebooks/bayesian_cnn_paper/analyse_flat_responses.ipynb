{
 "cells": [
  {
   "cell_type": "code",
   "execution_count": 1,
   "metadata": {},
   "outputs": [],
   "source": [
    "%load_ext autoreload\n",
    "%autoreload 2\n",
    "%matplotlib inline"
   ]
  },
  {
   "cell_type": "code",
   "execution_count": 2,
   "metadata": {},
   "outputs": [],
   "source": [
    "import os\n",
    "import json\n",
    "\n",
    "from pyspark.sql import SparkSession\n",
    "import pandas as pd\n",
    "import matplotlib.pyplot as plt\n",
    "import seaborn as sns\n",
    "sns.set_context('paper')"
   ]
  },
  {
   "cell_type": "code",
   "execution_count": 3,
   "metadata": {},
   "outputs": [],
   "source": [
    "flat_dir = '/data/repos/zoobot/data/decals/classifications/streaming/flat'\n",
    "assert os.path.isdir(flat_dir)"
   ]
  },
  {
   "cell_type": "code",
   "execution_count": 4,
   "metadata": {},
   "outputs": [
    {
     "data": {
      "text/plain": [
       "791"
      ]
     },
     "execution_count": 4,
     "metadata": {},
     "output_type": "execute_result"
    }
   ],
   "source": [
    "flat_files = [os.path.join(flat_dir, x) for x in os.listdir(flat_dir) if x.endswith('json')]\n",
    "len(flat_files)"
   ]
  },
  {
   "cell_type": "code",
   "execution_count": 5,
   "metadata": {},
   "outputs": [],
   "source": [
    "def load_flat_responses(file_loc):\n",
    "    with open(file_loc, 'r') as f:\n",
    "        return pd.DataFrame([json.loads(x) for x in f.readlines()])"
   ]
  },
  {
   "cell_type": "code",
   "execution_count": 6,
   "metadata": {},
   "outputs": [
    {
     "data": {
      "text/html": [
       "<div>\n",
       "<style scoped>\n",
       "    .dataframe tbody tr th:only-of-type {\n",
       "        vertical-align: middle;\n",
       "    }\n",
       "\n",
       "    .dataframe tbody tr th {\n",
       "        vertical-align: top;\n",
       "    }\n",
       "\n",
       "    .dataframe thead th {\n",
       "        text-align: right;\n",
       "    }\n",
       "</style>\n",
       "<table border=\"1\" class=\"dataframe\">\n",
       "  <thead>\n",
       "    <tr style=\"text-align: right;\">\n",
       "      <th></th>\n",
       "      <th>created_at</th>\n",
       "      <th>user_id</th>\n",
       "      <th>subject_id</th>\n",
       "      <th>classification_id</th>\n",
       "      <th>question</th>\n",
       "      <th>response</th>\n",
       "    </tr>\n",
       "  </thead>\n",
       "  <tbody>\n",
       "    <tr>\n",
       "      <th>0</th>\n",
       "      <td>2018-05-03T10:19:08.905+01:00</td>\n",
       "      <td>1774854</td>\n",
       "      <td>20925663</td>\n",
       "      <td>105626844</td>\n",
       "      <td>smooth-or-featured</td>\n",
       "      <td>smooth</td>\n",
       "    </tr>\n",
       "    <tr>\n",
       "      <th>1</th>\n",
       "      <td>2018-05-03T10:19:08.905+01:00</td>\n",
       "      <td>1774854</td>\n",
       "      <td>20925663</td>\n",
       "      <td>105626844</td>\n",
       "      <td>how-rounded</td>\n",
       "      <td>round</td>\n",
       "    </tr>\n",
       "    <tr>\n",
       "      <th>2</th>\n",
       "      <td>2018-05-03T10:19:08.905+01:00</td>\n",
       "      <td>1774854</td>\n",
       "      <td>20925663</td>\n",
       "      <td>105626844</td>\n",
       "      <td>merging</td>\n",
       "      <td>neither-v1</td>\n",
       "    </tr>\n",
       "    <tr>\n",
       "      <th>3</th>\n",
       "      <td>2018-05-03T10:19:15.802+01:00</td>\n",
       "      <td>1774854</td>\n",
       "      <td>20926661</td>\n",
       "      <td>105626865</td>\n",
       "      <td>smooth-or-featured</td>\n",
       "      <td>smooth</td>\n",
       "    </tr>\n",
       "    <tr>\n",
       "      <th>4</th>\n",
       "      <td>2018-05-03T10:19:15.802+01:00</td>\n",
       "      <td>1774854</td>\n",
       "      <td>20926661</td>\n",
       "      <td>105626865</td>\n",
       "      <td>how-rounded</td>\n",
       "      <td>round</td>\n",
       "    </tr>\n",
       "  </tbody>\n",
       "</table>\n",
       "</div>"
      ],
      "text/plain": [
       "                      created_at  user_id subject_id classification_id  \\\n",
       "0  2018-05-03T10:19:08.905+01:00  1774854   20925663         105626844   \n",
       "1  2018-05-03T10:19:08.905+01:00  1774854   20925663         105626844   \n",
       "2  2018-05-03T10:19:08.905+01:00  1774854   20925663         105626844   \n",
       "3  2018-05-03T10:19:15.802+01:00  1774854   20926661         105626865   \n",
       "4  2018-05-03T10:19:15.802+01:00  1774854   20926661         105626865   \n",
       "\n",
       "             question    response  \n",
       "0  smooth-or-featured      smooth  \n",
       "1         how-rounded       round  \n",
       "2             merging  neither-v1  \n",
       "3  smooth-or-featured      smooth  \n",
       "4         how-rounded       round  "
      ]
     },
     "execution_count": 6,
     "metadata": {},
     "output_type": "execute_result"
    }
   ],
   "source": [
    "file_loc = flat_files[-5]\n",
    "load_flat_responses(file_loc).head()"
   ]
  },
  {
   "cell_type": "code",
   "execution_count": 7,
   "metadata": {},
   "outputs": [
    {
     "data": {
      "text/plain": [
       "'/data/repos/zoobot/data/decals/classifications/streaming/flat/part-00047-2780185b-9a4d-4d97-802d-eb3ff4c1cfb0-c000.json'"
      ]
     },
     "execution_count": 7,
     "metadata": {},
     "output_type": "execute_result"
    }
   ],
   "source": [
    "file_loc"
   ]
  },
  {
   "cell_type": "code",
   "execution_count": 8,
   "metadata": {},
   "outputs": [],
   "source": [
    "# file_dfs = [load_flat_responses(file_loc) for file_loc in flat_files]"
   ]
  },
  {
   "cell_type": "code",
   "execution_count": 9,
   "metadata": {},
   "outputs": [],
   "source": [
    "spark = None\n",
    "if not spark:\n",
    "    spark = SparkSession \\\n",
    "    .builder \\\n",
    "    .appName(\"aggregate\") \\\n",
    "    .getOrCreate()"
   ]
  },
  {
   "cell_type": "code",
   "execution_count": 10,
   "metadata": {},
   "outputs": [],
   "source": [
    "flat_df = spark.read.json(file_loc)"
   ]
  },
  {
   "cell_type": "code",
   "execution_count": 11,
   "metadata": {},
   "outputs": [
    {
     "name": "stdout",
     "output_type": "stream",
     "text": [
      "root\n",
      " |-- classification_id: string (nullable = true)\n",
      " |-- created_at: string (nullable = true)\n",
      " |-- question: string (nullable = true)\n",
      " |-- response: string (nullable = true)\n",
      " |-- subject_id: string (nullable = true)\n",
      " |-- user_id: string (nullable = true)\n",
      "\n"
     ]
    }
   ],
   "source": [
    "flat_df.printSchema()"
   ]
  },
  {
   "cell_type": "code",
   "execution_count": 12,
   "metadata": {},
   "outputs": [],
   "source": [
    "schema = flat_df.schema"
   ]
  },
  {
   "cell_type": "code",
   "execution_count": 13,
   "metadata": {},
   "outputs": [],
   "source": [
    "flat_dir_rel = '../data/decals/classifications/streaming/flat'\n",
    "# !ls {flat_dir_rel}"
   ]
  },
  {
   "cell_type": "code",
   "execution_count": 14,
   "metadata": {},
   "outputs": [
    {
     "name": "stdout",
     "output_type": "stream",
     "text": [
      "Reading flattened responses (this will take a few minutes)\n",
      "Total responses: 18840495\n"
     ]
    }
   ],
   "source": [
    "print('Reading flattened responses (this will take a few minutes)')\n",
    "df = spark.read.json(flat_dir_rel, schema=schema)  # must be a relative path to dir, not absolute path. Unclear why.\n",
    "# print('Total responses: {}'.format(df.count()))"
   ]
  },
  {
   "cell_type": "code",
   "execution_count": 15,
   "metadata": {},
   "outputs": [],
   "source": [
    "smooth_q = df.filter(df.question == 'smooth-or-featured')"
   ]
  },
  {
   "cell_type": "code",
   "execution_count": 16,
   "metadata": {},
   "outputs": [],
   "source": [
    "# this will show that there are many (1.9 million) duplicate top-level classifications"
   ]
  },
  {
   "cell_type": "code",
   "execution_count": 17,
   "metadata": {},
   "outputs": [],
   "source": [
    "# smooth_q.count()"
   ]
  },
  {
   "cell_type": "code",
   "execution_count": 18,
   "metadata": {},
   "outputs": [],
   "source": [
    "# smooth_q_grouped = smooth_q.groupby('subject_id').agg({'classification_id': 'count'})"
   ]
  },
  {
   "cell_type": "code",
   "execution_count": 19,
   "metadata": {},
   "outputs": [],
   "source": [
    "# results = smooth_q_grouped.collect()"
   ]
  },
  {
   "cell_type": "code",
   "execution_count": 20,
   "metadata": {},
   "outputs": [],
   "source": [
    "# results_df = pd.DataFrame(data=results, columns=['subject_id', 'classifications'])\n",
    "# len(results_df)"
   ]
  },
  {
   "cell_type": "code",
   "execution_count": 21,
   "metadata": {},
   "outputs": [],
   "source": [
    "# results_df['classifications'].hist(bins=50)"
   ]
  },
  {
   "cell_type": "code",
   "execution_count": 22,
   "metadata": {},
   "outputs": [],
   "source": [
    "# results_df.query('classifications < 100').hist(bins=50)"
   ]
  },
  {
   "cell_type": "code",
   "execution_count": 23,
   "metadata": {},
   "outputs": [],
   "source": [
    "# len(results_df.query('classifications <= 5'))"
   ]
  },
  {
   "cell_type": "code",
   "execution_count": 24,
   "metadata": {},
   "outputs": [],
   "source": [
    "# classification_id_counts = smooth_q.groupby('classification_id').count().collect()"
   ]
  },
  {
   "cell_type": "code",
   "execution_count": 25,
   "metadata": {},
   "outputs": [],
   "source": [
    "# class_counts_df = pd.DataFrame(data=classification_id_counts, columns=['classification_id', 'count'])"
   ]
  },
  {
   "cell_type": "code",
   "execution_count": 26,
   "metadata": {},
   "outputs": [],
   "source": [
    "# class_counts_df['count'].value_counts()"
   ]
  },
  {
   "cell_type": "markdown",
   "metadata": {},
   "source": [
    "But no duplicates for within a recent single file"
   ]
  },
  {
   "cell_type": "code",
   "execution_count": 27,
   "metadata": {},
   "outputs": [],
   "source": [
    "# single_file_c_counts_df = pd.DataFrame(\n",
    "#     data=flat_df.filter(flat_df.question == 'smooth-or-featured').groupby('classification_id').count().collect(),\n",
    "#     columns=['classification_id', 'count']\n",
    "# )"
   ]
  },
  {
   "cell_type": "code",
   "execution_count": 28,
   "metadata": {},
   "outputs": [],
   "source": [
    "# single_file_c_counts_df['count'].value_counts()"
   ]
  },
  {
   "cell_type": "code",
   "execution_count": null,
   "metadata": {},
   "outputs": [],
   "source": []
  },
  {
   "cell_type": "markdown",
   "metadata": {},
   "source": [
    "Join with subject table to check retirement_limit metadata"
   ]
  },
  {
   "cell_type": "code",
   "execution_count": 29,
   "metadata": {},
   "outputs": [],
   "source": [
    "smooth_q_dedup = smooth_q.drop_duplicates(subset=['classification_id', 'question', 'response'])"
   ]
  },
  {
   "cell_type": "code",
   "execution_count": 30,
   "metadata": {},
   "outputs": [],
   "source": [
    "subjects_dir = '../data/decals/classifications/streaming/subjects'\n",
    "subjects = spark.read.json(subjects_dir)"
   ]
  },
  {
   "cell_type": "code",
   "execution_count": 31,
   "metadata": {},
   "outputs": [
    {
     "name": "stdout",
     "output_type": "stream",
     "text": [
      "root\n",
      " |-- iauname: string (nullable = true)\n",
      " |-- retirement_limit: long (nullable = true)\n",
      " |-- subject_id: string (nullable = true)\n",
      " |-- subject_url: string (nullable = true)\n",
      " |-- upload_date: string (nullable = true)\n",
      " |-- uploader: string (nullable = true)\n",
      "\n"
     ]
    }
   ],
   "source": [
    "subjects.printSchema()"
   ]
  },
  {
   "cell_type": "code",
   "execution_count": 32,
   "metadata": {},
   "outputs": [],
   "source": [
    "# subjects.count()"
   ]
  },
  {
   "cell_type": "code",
   "execution_count": null,
   "metadata": {},
   "outputs": [],
   "source": []
  },
  {
   "cell_type": "code",
   "execution_count": 33,
   "metadata": {},
   "outputs": [],
   "source": [
    "subjects_dedup = subjects.drop_duplicates(subset=['subject_id'])"
   ]
  },
  {
   "cell_type": "code",
   "execution_count": 34,
   "metadata": {},
   "outputs": [],
   "source": [
    "# subjects_dedup.count()"
   ]
  },
  {
   "cell_type": "code",
   "execution_count": 35,
   "metadata": {},
   "outputs": [],
   "source": [
    "subjects_df = subjects_dedup.collect()\n"
   ]
  },
  {
   "cell_type": "code",
   "execution_count": 36,
   "metadata": {},
   "outputs": [],
   "source": [
    "smooth_q_df = smooth_q_dedup.collect()"
   ]
  },
  {
   "cell_type": "markdown",
   "metadata": {},
   "source": [
    "Pandas from here!"
   ]
  },
  {
   "cell_type": "code",
   "execution_count": 41,
   "metadata": {},
   "outputs": [],
   "source": [
    "subjects_col = subjects_df\n",
    "smooth_q_col = smooth_q_df\n",
    "# TODO bad naming above"
   ]
  },
  {
   "cell_type": "code",
   "execution_count": null,
   "metadata": {},
   "outputs": [],
   "source": []
  },
  {
   "cell_type": "code",
   "execution_count": 44,
   "metadata": {},
   "outputs": [
    {
     "data": {
      "text/plain": [
       "{'iauname': 'J100708.77+003701.0',\n",
       " 'retirement_limit': None,\n",
       " 'subject_id': '20243375',\n",
       " 'subject_url': 'https://panoptes-uploads.zooniverse.org/production/subject_location/55164559-1379-4575-a77b-749a2b67d823.png',\n",
       " 'upload_date': None,\n",
       " 'uploader': None}"
      ]
     },
     "execution_count": 44,
     "metadata": {},
     "output_type": "execute_result"
    }
   ],
   "source": [
    "subjects_col[0].asDict()"
   ]
  },
  {
   "cell_type": "code",
   "execution_count": 47,
   "metadata": {},
   "outputs": [],
   "source": [
    "subjects_df = pd.DataFrame(data=[x.asDict() for x in subjects_col])\n",
    "smooth_q_df = pd.DataFrame(data=[x.asDict() for x in smooth_q_col])"
   ]
  },
  {
   "cell_type": "code",
   "execution_count": 48,
   "metadata": {},
   "outputs": [
    {
     "data": {
      "text/html": [
       "<div>\n",
       "<style scoped>\n",
       "    .dataframe tbody tr th:only-of-type {\n",
       "        vertical-align: middle;\n",
       "    }\n",
       "\n",
       "    .dataframe tbody tr th {\n",
       "        vertical-align: top;\n",
       "    }\n",
       "\n",
       "    .dataframe thead th {\n",
       "        text-align: right;\n",
       "    }\n",
       "</style>\n",
       "<table border=\"1\" class=\"dataframe\">\n",
       "  <thead>\n",
       "    <tr style=\"text-align: right;\">\n",
       "      <th></th>\n",
       "      <th>iauname</th>\n",
       "      <th>retirement_limit</th>\n",
       "      <th>subject_id</th>\n",
       "      <th>subject_url</th>\n",
       "      <th>upload_date</th>\n",
       "      <th>uploader</th>\n",
       "    </tr>\n",
       "  </thead>\n",
       "  <tbody>\n",
       "    <tr>\n",
       "      <th>0</th>\n",
       "      <td>J100708.77+003701.0</td>\n",
       "      <td>NaN</td>\n",
       "      <td>20243375</td>\n",
       "      <td>https://panoptes-uploads.zooniverse.org/produc...</td>\n",
       "      <td>None</td>\n",
       "      <td>None</td>\n",
       "    </tr>\n",
       "    <tr>\n",
       "      <th>1</th>\n",
       "      <td>J100046.35+001229.0</td>\n",
       "      <td>NaN</td>\n",
       "      <td>20530055</td>\n",
       "      <td>https://panoptes-uploads.zooniverse.org/produc...</td>\n",
       "      <td>2018-03-22</td>\n",
       "      <td>None</td>\n",
       "    </tr>\n",
       "    <tr>\n",
       "      <th>2</th>\n",
       "      <td>J101549.19-001047.5</td>\n",
       "      <td>NaN</td>\n",
       "      <td>20530674</td>\n",
       "      <td>https://panoptes-uploads.zooniverse.org/produc...</td>\n",
       "      <td>2018-03-22</td>\n",
       "      <td>None</td>\n",
       "    </tr>\n",
       "    <tr>\n",
       "      <th>3</th>\n",
       "      <td>J101802.15-002527.7</td>\n",
       "      <td>NaN</td>\n",
       "      <td>20530881</td>\n",
       "      <td>https://panoptes-uploads.zooniverse.org/produc...</td>\n",
       "      <td>2018-03-22</td>\n",
       "      <td>None</td>\n",
       "    </tr>\n",
       "    <tr>\n",
       "      <th>4</th>\n",
       "      <td>J102255.98-005724.8</td>\n",
       "      <td>NaN</td>\n",
       "      <td>20530984</td>\n",
       "      <td>https://panoptes-uploads.zooniverse.org/produc...</td>\n",
       "      <td>2018-03-22</td>\n",
       "      <td>None</td>\n",
       "    </tr>\n",
       "  </tbody>\n",
       "</table>\n",
       "</div>"
      ],
      "text/plain": [
       "               iauname  retirement_limit subject_id  \\\n",
       "0  J100708.77+003701.0               NaN   20243375   \n",
       "1  J100046.35+001229.0               NaN   20530055   \n",
       "2  J101549.19-001047.5               NaN   20530674   \n",
       "3  J101802.15-002527.7               NaN   20530881   \n",
       "4  J102255.98-005724.8               NaN   20530984   \n",
       "\n",
       "                                         subject_url upload_date uploader  \n",
       "0  https://panoptes-uploads.zooniverse.org/produc...        None     None  \n",
       "1  https://panoptes-uploads.zooniverse.org/produc...  2018-03-22     None  \n",
       "2  https://panoptes-uploads.zooniverse.org/produc...  2018-03-22     None  \n",
       "3  https://panoptes-uploads.zooniverse.org/produc...  2018-03-22     None  \n",
       "4  https://panoptes-uploads.zooniverse.org/produc...  2018-03-22     None  "
      ]
     },
     "execution_count": 48,
     "metadata": {},
     "output_type": "execute_result"
    }
   ],
   "source": [
    "subjects_df.head()"
   ]
  },
  {
   "cell_type": "code",
   "execution_count": 49,
   "metadata": {},
   "outputs": [
    {
     "data": {
      "text/html": [
       "<div>\n",
       "<style scoped>\n",
       "    .dataframe tbody tr th:only-of-type {\n",
       "        vertical-align: middle;\n",
       "    }\n",
       "\n",
       "    .dataframe tbody tr th {\n",
       "        vertical-align: top;\n",
       "    }\n",
       "\n",
       "    .dataframe thead th {\n",
       "        text-align: right;\n",
       "    }\n",
       "</style>\n",
       "<table border=\"1\" class=\"dataframe\">\n",
       "  <thead>\n",
       "    <tr style=\"text-align: right;\">\n",
       "      <th></th>\n",
       "      <th>classification_id</th>\n",
       "      <th>created_at</th>\n",
       "      <th>question</th>\n",
       "      <th>response</th>\n",
       "      <th>subject_id</th>\n",
       "      <th>user_id</th>\n",
       "    </tr>\n",
       "  </thead>\n",
       "  <tbody>\n",
       "    <tr>\n",
       "      <th>0</th>\n",
       "      <td>100005922</td>\n",
       "      <td>2018-04-03T01:04:13.496+01:00</td>\n",
       "      <td>smooth-or-featured</td>\n",
       "      <td>featured-or-disk</td>\n",
       "      <td>20531782</td>\n",
       "      <td>1717874</td>\n",
       "    </tr>\n",
       "    <tr>\n",
       "      <th>1</th>\n",
       "      <td>100009364</td>\n",
       "      <td>2018-04-03T01:37:35.820+01:00</td>\n",
       "      <td>smooth-or-featured</td>\n",
       "      <td>smooth</td>\n",
       "      <td>20531914</td>\n",
       "      <td>1616840</td>\n",
       "    </tr>\n",
       "    <tr>\n",
       "      <th>2</th>\n",
       "      <td>100012701</td>\n",
       "      <td>2018-04-03T02:01:05.252+01:00</td>\n",
       "      <td>smooth-or-featured</td>\n",
       "      <td>featured-or-disk</td>\n",
       "      <td>20532832</td>\n",
       "      <td>6641</td>\n",
       "    </tr>\n",
       "    <tr>\n",
       "      <th>3</th>\n",
       "      <td>100012845</td>\n",
       "      <td>2018-04-03T02:01:53.968+01:00</td>\n",
       "      <td>smooth-or-featured</td>\n",
       "      <td>smooth</td>\n",
       "      <td>20532538</td>\n",
       "      <td>1266721</td>\n",
       "    </tr>\n",
       "    <tr>\n",
       "      <th>4</th>\n",
       "      <td>100012941</td>\n",
       "      <td>2018-04-03T02:02:33.130+01:00</td>\n",
       "      <td>smooth-or-featured</td>\n",
       "      <td>smooth</td>\n",
       "      <td>20529989</td>\n",
       "      <td>None</td>\n",
       "    </tr>\n",
       "  </tbody>\n",
       "</table>\n",
       "</div>"
      ],
      "text/plain": [
       "  classification_id                     created_at            question  \\\n",
       "0         100005922  2018-04-03T01:04:13.496+01:00  smooth-or-featured   \n",
       "1         100009364  2018-04-03T01:37:35.820+01:00  smooth-or-featured   \n",
       "2         100012701  2018-04-03T02:01:05.252+01:00  smooth-or-featured   \n",
       "3         100012845  2018-04-03T02:01:53.968+01:00  smooth-or-featured   \n",
       "4         100012941  2018-04-03T02:02:33.130+01:00  smooth-or-featured   \n",
       "\n",
       "           response subject_id  user_id  \n",
       "0  featured-or-disk   20531782  1717874  \n",
       "1            smooth   20531914  1616840  \n",
       "2  featured-or-disk   20532832     6641  \n",
       "3            smooth   20532538  1266721  \n",
       "4            smooth   20529989     None  "
      ]
     },
     "execution_count": 49,
     "metadata": {},
     "output_type": "execute_result"
    }
   ],
   "source": [
    "smooth_q_df.head()"
   ]
  },
  {
   "cell_type": "code",
   "execution_count": 65,
   "metadata": {},
   "outputs": [
    {
     "data": {
      "text/plain": [
       "2694361"
      ]
     },
     "execution_count": 65,
     "metadata": {},
     "output_type": "execute_result"
    }
   ],
   "source": [
    "len(smooth_q_df)"
   ]
  },
  {
   "cell_type": "code",
   "execution_count": 53,
   "metadata": {},
   "outputs": [],
   "source": [
    "active_subjects = subjects_df[~pd.isnull(subjects_df['retirement_limit'])]"
   ]
  },
  {
   "cell_type": "code",
   "execution_count": 54,
   "metadata": {},
   "outputs": [
    {
     "data": {
      "text/plain": [
       "51104"
      ]
     },
     "execution_count": 54,
     "metadata": {},
     "output_type": "execute_result"
    }
   ],
   "source": [
    "len(active_subjects)"
   ]
  },
  {
   "cell_type": "code",
   "execution_count": 55,
   "metadata": {},
   "outputs": [
    {
     "data": {
      "text/plain": [
       "3.0     34781\n",
       "40.0    15871\n",
       "10.0      452\n",
       "Name: retirement_limit, dtype: int64"
      ]
     },
     "execution_count": 55,
     "metadata": {},
     "output_type": "execute_result"
    }
   ],
   "source": [
    "active_subjects['retirement_limit'].value_counts()"
   ]
  },
  {
   "cell_type": "code",
   "execution_count": null,
   "metadata": {},
   "outputs": [],
   "source": [
    "# of these, 5000 have actually had 40 and another 5000 have had about 15"
   ]
  },
  {
   "cell_type": "code",
   "execution_count": 100,
   "metadata": {},
   "outputs": [],
   "source": [
    "class_agg = smooth_q_df.groupby('subject_id').agg({'classification_id': 'count'})"
   ]
  },
  {
   "cell_type": "code",
   "execution_count": 69,
   "metadata": {},
   "outputs": [
    {
     "data": {
      "text/plain": [
       "subject_id\n",
       "20529779    40\n",
       "20529780    40\n",
       "20529781    40\n",
       "20529782    40\n",
       "20529783    38\n",
       "            ..\n",
       "36258917     2\n",
       "36258918     3\n",
       "36258919     3\n",
       "36258920     2\n",
       "36258921     1\n",
       "Name: classification_id, Length: 105074, dtype: int64"
      ]
     },
     "execution_count": 69,
     "metadata": {},
     "output_type": "execute_result"
    }
   ],
   "source": [
    "class_agg['classification_id']"
   ]
  },
  {
   "cell_type": "code",
   "execution_count": 70,
   "metadata": {},
   "outputs": [],
   "source": [
    "class_and_active = pd.merge(class_agg, active_subjects, how='inner', on='subject_id')"
   ]
  },
  {
   "cell_type": "code",
   "execution_count": 73,
   "metadata": {},
   "outputs": [],
   "source": [
    "class_and_active['actual_classifications'] = class_and_active['classification_id']\n",
    "del class_and_active['classification_id']"
   ]
  },
  {
   "cell_type": "code",
   "execution_count": 74,
   "metadata": {},
   "outputs": [
    {
     "data": {
      "text/html": [
       "<div>\n",
       "<style scoped>\n",
       "    .dataframe tbody tr th:only-of-type {\n",
       "        vertical-align: middle;\n",
       "    }\n",
       "\n",
       "    .dataframe tbody tr th {\n",
       "        vertical-align: top;\n",
       "    }\n",
       "\n",
       "    .dataframe thead th {\n",
       "        text-align: right;\n",
       "    }\n",
       "</style>\n",
       "<table border=\"1\" class=\"dataframe\">\n",
       "  <thead>\n",
       "    <tr style=\"text-align: right;\">\n",
       "      <th></th>\n",
       "      <th>subject_id</th>\n",
       "      <th>iauname</th>\n",
       "      <th>retirement_limit</th>\n",
       "      <th>subject_url</th>\n",
       "      <th>upload_date</th>\n",
       "      <th>uploader</th>\n",
       "      <th>actual_classifications</th>\n",
       "    </tr>\n",
       "  </thead>\n",
       "  <tbody>\n",
       "    <tr>\n",
       "      <th>0</th>\n",
       "      <td>32396055</td>\n",
       "      <td>J094651.40-010228.5</td>\n",
       "      <td>3.0</td>\n",
       "      <td>https://panoptes-uploads.zooniverse.org/produc...</td>\n",
       "      <td>2019-04-12</td>\n",
       "      <td>None</td>\n",
       "      <td>22</td>\n",
       "    </tr>\n",
       "    <tr>\n",
       "      <th>1</th>\n",
       "      <td>32396057</td>\n",
       "      <td>J094744.18-004013.4</td>\n",
       "      <td>3.0</td>\n",
       "      <td>https://panoptes-uploads.zooniverse.org/produc...</td>\n",
       "      <td>2019-04-12</td>\n",
       "      <td>None</td>\n",
       "      <td>27</td>\n",
       "    </tr>\n",
       "    <tr>\n",
       "      <th>2</th>\n",
       "      <td>32396058</td>\n",
       "      <td>J094751.74-003242.0</td>\n",
       "      <td>3.0</td>\n",
       "      <td>https://panoptes-uploads.zooniverse.org/produc...</td>\n",
       "      <td>2019-04-12</td>\n",
       "      <td>None</td>\n",
       "      <td>13</td>\n",
       "    </tr>\n",
       "    <tr>\n",
       "      <th>3</th>\n",
       "      <td>32396060</td>\n",
       "      <td>J094751.24-004533.5</td>\n",
       "      <td>3.0</td>\n",
       "      <td>https://panoptes-uploads.zooniverse.org/produc...</td>\n",
       "      <td>2019-04-12</td>\n",
       "      <td>None</td>\n",
       "      <td>14</td>\n",
       "    </tr>\n",
       "    <tr>\n",
       "      <th>4</th>\n",
       "      <td>32396062</td>\n",
       "      <td>J094726.35-004832.0</td>\n",
       "      <td>3.0</td>\n",
       "      <td>https://panoptes-uploads.zooniverse.org/produc...</td>\n",
       "      <td>2019-04-12</td>\n",
       "      <td>None</td>\n",
       "      <td>18</td>\n",
       "    </tr>\n",
       "  </tbody>\n",
       "</table>\n",
       "</div>"
      ],
      "text/plain": [
       "  subject_id              iauname  retirement_limit  \\\n",
       "0   32396055  J094651.40-010228.5               3.0   \n",
       "1   32396057  J094744.18-004013.4               3.0   \n",
       "2   32396058  J094751.74-003242.0               3.0   \n",
       "3   32396060  J094751.24-004533.5               3.0   \n",
       "4   32396062  J094726.35-004832.0               3.0   \n",
       "\n",
       "                                         subject_url upload_date uploader  \\\n",
       "0  https://panoptes-uploads.zooniverse.org/produc...  2019-04-12     None   \n",
       "1  https://panoptes-uploads.zooniverse.org/produc...  2019-04-12     None   \n",
       "2  https://panoptes-uploads.zooniverse.org/produc...  2019-04-12     None   \n",
       "3  https://panoptes-uploads.zooniverse.org/produc...  2019-04-12     None   \n",
       "4  https://panoptes-uploads.zooniverse.org/produc...  2019-04-12     None   \n",
       "\n",
       "   actual_classifications  \n",
       "0                      22  \n",
       "1                      27  \n",
       "2                      13  \n",
       "3                      14  \n",
       "4                      18  "
      ]
     },
     "execution_count": 74,
     "metadata": {},
     "output_type": "execute_result"
    }
   ],
   "source": [
    "class_and_active.head()"
   ]
  },
  {
   "cell_type": "code",
   "execution_count": 86,
   "metadata": {},
   "outputs": [],
   "source": [
    "class_and_active['upload_date'] = pd.to_datetime(class_and_active['upload_date'])"
   ]
  },
  {
   "cell_type": "code",
   "execution_count": 90,
   "metadata": {},
   "outputs": [
    {
     "data": {
      "image/png": "[encoded data removed]",
      "text/plain": [
       "<Figure size 432x288 with 1 Axes>"
      ]
     },
     "metadata": {
      "needs_background": "light"
     },
     "output_type": "display_data"
    }
   ],
   "source": [
    "class_and_active['upload_date'].hist(bins=50)\n",
    "_ = plt.xticks(rotation=45)"
   ]
  },
  {
   "cell_type": "code",
   "execution_count": 92,
   "metadata": {},
   "outputs": [],
   "source": [
    "class_and_active = class_and_active[class_and_active['upload_date'] < pd.to_datetime('2019-06-30')]"
   ]
  },
  {
   "cell_type": "code",
   "execution_count": 93,
   "metadata": {},
   "outputs": [
    {
     "data": {
      "text/plain": [
       "<matplotlib.axes._subplots.AxesSubplot at 0x1a96c9898>"
      ]
     },
     "execution_count": 93,
     "metadata": {},
     "output_type": "execute_result"
    },
    {
     "data": {
      "image/png": "[encoded data removed]",
      "text/plain": [
       "<Figure size 432x288 with 1 Axes>"
      ]
     },
     "metadata": {
      "needs_background": "light"
     },
     "output_type": "display_data"
    }
   ],
   "source": [
    "sns.scatterplot(data=class_and_active, x='retirement_limit', y='actual_classifications')"
   ]
  },
  {
   "cell_type": "code",
   "execution_count": 105,
   "metadata": {},
   "outputs": [
    {
     "data": {
      "text/plain": [
       "(0.0, 50.0)"
      ]
     },
     "execution_count": 105,
     "metadata": {},
     "output_type": "execute_result"
    },
    {
     "data": {
      "image/png": "[encoded data removed]",
      "text/plain": [
       "<Figure size 432x288 with 1 Axes>"
      ]
     },
     "metadata": {
      "needs_background": "light"
     },
     "output_type": "display_data"
    }
   ],
   "source": [
    "active = class_and_active.query('retirement_limit == 40').query('actual_classifications < 50')\n",
    "sns.kdeplot(active['actual_classifications'])\n",
    "plt.xlim([0., 50.])"
   ]
  },
  {
   "cell_type": "code",
   "execution_count": 106,
   "metadata": {},
   "outputs": [
    {
     "data": {
      "text/plain": [
       "(0.0, 50.0)"
      ]
     },
     "execution_count": 106,
     "metadata": {},
     "output_type": "execute_result"
    },
    {
     "data": {
      "image/png": "[encoded data removed]",
      "text/plain": [
       "<Figure size 432x288 with 1 Axes>"
      ]
     },
     "metadata": {
      "needs_background": "light"
     },
     "output_type": "display_data"
    }
   ],
   "source": [
    "random = class_and_active.query('retirement_limit == 3').query('actual_classifications < 50')\n",
    "sns.kdeplot(random['actual_classifications'])\n",
    "plt.xlim([0., 50.])"
   ]
  },
  {
   "cell_type": "code",
   "execution_count": 102,
   "metadata": {},
   "outputs": [
    {
     "data": {
      "text/plain": [
       "5000"
      ]
     },
     "execution_count": 102,
     "metadata": {},
     "output_type": "execute_result"
    }
   ],
   "source": [
    "len(random.query('actual_classifications > 30'))"
   ]
  },
  {
   "cell_type": "code",
   "execution_count": 103,
   "metadata": {},
   "outputs": [
    {
     "data": {
      "text/plain": [
       "2019-04-16    4990\n",
       "2019-06-20       5\n",
       "2019-04-12       5\n",
       "Name: upload_date, dtype: int64"
      ]
     },
     "execution_count": 103,
     "metadata": {},
     "output_type": "execute_result"
    }
   ],
   "source": [
    "random.query('actual_classifications > 30')['upload_date'].value_counts()"
   ]
  },
  {
   "cell_type": "code",
   "execution_count": 104,
   "metadata": {},
   "outputs": [
    {
     "data": {
      "text/plain": [
       "2019-04-12    5124\n",
       "2019-06-20       6\n",
       "2019-04-16       3\n",
       "Name: upload_date, dtype: int64"
      ]
     },
     "execution_count": 104,
     "metadata": {},
     "output_type": "execute_result"
    }
   ],
   "source": [
    "random.query('actual_classifications > 9').query('actual_classifications < 30')['upload_date'].value_counts()"
   ]
  },
  {
   "cell_type": "code",
   "execution_count": 107,
   "metadata": {},
   "outputs": [
    {
     "data": {
      "text/plain": [
       "2019-06-20    9980\n",
       "2019-05-21     990\n",
       "2019-06-17     599\n",
       "2019-04-12      86\n",
       "Name: upload_date, dtype: int64"
      ]
     },
     "execution_count": 107,
     "metadata": {},
     "output_type": "execute_result"
    }
   ],
   "source": [
    "random.query('actual_classifications < 9')['upload_date'].value_counts()"
   ]
  },
  {
   "cell_type": "code",
   "execution_count": 215,
   "metadata": {},
   "outputs": [
    {
     "data": {
      "text/plain": [
       "(0.0, 50.0)"
      ]
     },
     "execution_count": 215,
     "metadata": {},
     "output_type": "execute_result"
    },
    {
     "data": {
      "image/png": "[encoded data removed]",
      "text/plain": [
       "<Figure size 432x288 with 1 Axes>"
      ]
     },
     "metadata": {
      "needs_background": "light"
     },
     "output_type": "display_data"
    }
   ],
   "source": [
    "random = class_and_active.query('retirement_limit == 3').query('actual_classifications < 50')\n",
    "sns.kdeplot(random[random['upload_date'] > pd.to_datetime('2019-05-21')]['actual_classifications'])\n",
    "plt.xlim([0., 50.])"
   ]
  },
  {
   "cell_type": "markdown",
   "metadata": {},
   "source": [
    "All the galaxies uploaded since 21/05/2019 have been getting a suitably small number of classifications, so the system seems to be working"
   ]
  },
  {
   "cell_type": "code",
   "execution_count": 152,
   "metadata": {},
   "outputs": [],
   "source": [
    "responses_and_active = pd.merge(smooth_q_df, active_subjects, how='inner', on='subject_id')"
   ]
  },
  {
   "cell_type": "code",
   "execution_count": 158,
   "metadata": {},
   "outputs": [
    {
     "data": {
      "text/plain": [
       "(2694361, 655025)"
      ]
     },
     "execution_count": 158,
     "metadata": {},
     "output_type": "execute_result"
    }
   ],
   "source": [
    "len(smooth_q_df), len(responses_and_active)"
   ]
  },
  {
   "cell_type": "code",
   "execution_count": 153,
   "metadata": {},
   "outputs": [],
   "source": [
    "responses_and_active = responses_and_active[~pd.isnull(responses_and_active['upload_date'])]"
   ]
  },
  {
   "cell_type": "code",
   "execution_count": 154,
   "metadata": {},
   "outputs": [
    {
     "data": {
      "text/plain": [
       "0         2019-04-12\n",
       "1         2019-04-12\n",
       "2         2019-04-12\n",
       "3         2019-04-12\n",
       "4         2019-04-12\n",
       "             ...    \n",
       "665446    2019-08-23\n",
       "665450    2019-08-23\n",
       "665451    2019-08-23\n",
       "665455    2019-08-23\n",
       "665456    2019-08-23\n",
       "Name: upload_date, Length: 655025, dtype: object"
      ]
     },
     "execution_count": 154,
     "metadata": {},
     "output_type": "execute_result"
    }
   ],
   "source": [
    "responses_and_active['upload_date']"
   ]
  },
  {
   "cell_type": "code",
   "execution_count": 164,
   "metadata": {},
   "outputs": [],
   "source": [
    "# responses_and_active['upload_date'] = pd.to_datetime(responses_and_active['upload_date']).dt.date\n",
    "responses_and_active['created_at'] = pd.to_datetime(responses_and_active['created_at'], utc=True).dt.date"
   ]
  },
  {
   "cell_type": "code",
   "execution_count": 176,
   "metadata": {},
   "outputs": [
    {
     "data": {
      "text/plain": [
       "40482     2019-05-22\n",
       "40483     2019-05-30\n",
       "40484     2019-06-02\n",
       "40485     2019-06-10\n",
       "40486     2019-06-05\n",
       "             ...    \n",
       "651224    2019-08-16\n",
       "651225    2019-09-05\n",
       "651226    2019-08-04\n",
       "651227    2019-08-06\n",
       "651228    2019-08-19\n",
       "Name: created_at, Length: 272865, dtype: object"
      ]
     },
     "execution_count": 176,
     "metadata": {},
     "output_type": "execute_result"
    }
   ],
   "source": [
    "responses_and_active.query('retirement_limit == 40')['created_at']"
   ]
  },
  {
   "cell_type": "code",
   "execution_count": 189,
   "metadata": {},
   "outputs": [],
   "source": [
    "random_classifications = responses_and_active.query('retirement_limit == 3').groupby('created_at').agg({'classification_id': 'count'}).reset_index()\n",
    "priority_classifications = responses_and_active.query('retirement_limit == 40').groupby('created_at').agg({'classification_id': 'count'}).reset_index()"
   ]
  },
  {
   "cell_type": "code",
   "execution_count": 190,
   "metadata": {},
   "outputs": [
    {
     "data": {
      "text/html": [
       "<div>\n",
       "<style scoped>\n",
       "    .dataframe tbody tr th:only-of-type {\n",
       "        vertical-align: middle;\n",
       "    }\n",
       "\n",
       "    .dataframe tbody tr th {\n",
       "        vertical-align: top;\n",
       "    }\n",
       "\n",
       "    .dataframe thead th {\n",
       "        text-align: right;\n",
       "    }\n",
       "</style>\n",
       "<table border=\"1\" class=\"dataframe\">\n",
       "  <thead>\n",
       "    <tr style=\"text-align: right;\">\n",
       "      <th></th>\n",
       "      <th>created_at</th>\n",
       "      <th>classification_id</th>\n",
       "    </tr>\n",
       "  </thead>\n",
       "  <tbody>\n",
       "    <tr>\n",
       "      <th>0</th>\n",
       "      <td>2019-04-12</td>\n",
       "      <td>23</td>\n",
       "    </tr>\n",
       "    <tr>\n",
       "      <th>1</th>\n",
       "      <td>2019-04-13</td>\n",
       "      <td>1836</td>\n",
       "    </tr>\n",
       "    <tr>\n",
       "      <th>2</th>\n",
       "      <td>2019-04-14</td>\n",
       "      <td>3693</td>\n",
       "    </tr>\n",
       "    <tr>\n",
       "      <th>3</th>\n",
       "      <td>2019-04-15</td>\n",
       "      <td>5181</td>\n",
       "    </tr>\n",
       "    <tr>\n",
       "      <th>4</th>\n",
       "      <td>2019-04-16</td>\n",
       "      <td>5899</td>\n",
       "    </tr>\n",
       "  </tbody>\n",
       "</table>\n",
       "</div>"
      ],
      "text/plain": [
       "   created_at  classification_id\n",
       "0  2019-04-12                 23\n",
       "1  2019-04-13               1836\n",
       "2  2019-04-14               3693\n",
       "3  2019-04-15               5181\n",
       "4  2019-04-16               5899"
      ]
     },
     "execution_count": 190,
     "metadata": {},
     "output_type": "execute_result"
    }
   ],
   "source": [
    "random_classifications.head()"
   ]
  },
  {
   "cell_type": "code",
   "execution_count": 194,
   "metadata": {},
   "outputs": [
    {
     "data": {
      "text/plain": [
       "(0, 12000)"
      ]
     },
     "execution_count": 194,
     "metadata": {},
     "output_type": "execute_result"
    },
    {
     "data": {
      "image/png": "[encoded data removed]",
      "text/plain": [
       "<Figure size 432x288 with 1 Axes>"
      ]
     },
     "metadata": {
      "needs_background": "light"
     },
     "output_type": "display_data"
    }
   ],
   "source": [
    "plt.plot(priority_classifications['created_at'], priority_classifications['classification_id'], label='priority')\n",
    "plt.plot(random_classifications['created_at'], random_classifications['classification_id'], label='random')\n",
    "plt.legend()\n",
    "plt.xticks(rotation=45)\n",
    "plt.ylim([0, 12000])"
   ]
  },
  {
   "cell_type": "code",
   "execution_count": 211,
   "metadata": {},
   "outputs": [],
   "source": [
    "temp = responses_and_active.groupby('subject_id').agg({'classification_id': 'count', 'created_at': 'first'}).reset_index()\n",
    "actual_random_classifications = temp.query('classification_id < 6').groupby('created_at').agg({'classification_id': 'count'}).reset_index()\n",
    "actual_priority_classifications = temp.query('classification_id > 35').groupby('created_at').agg({'classification_id': 'count'}).reset_index()"
   ]
  },
  {
   "cell_type": "code",
   "execution_count": 212,
   "metadata": {},
   "outputs": [
    {
     "data": {
      "text/html": [
       "<div>\n",
       "<style scoped>\n",
       "    .dataframe tbody tr th:only-of-type {\n",
       "        vertical-align: middle;\n",
       "    }\n",
       "\n",
       "    .dataframe tbody tr th {\n",
       "        vertical-align: top;\n",
       "    }\n",
       "\n",
       "    .dataframe thead th {\n",
       "        text-align: right;\n",
       "    }\n",
       "</style>\n",
       "<table border=\"1\" class=\"dataframe\">\n",
       "  <thead>\n",
       "    <tr style=\"text-align: right;\">\n",
       "      <th></th>\n",
       "      <th>created_at</th>\n",
       "      <th>classification_id</th>\n",
       "    </tr>\n",
       "  </thead>\n",
       "  <tbody>\n",
       "    <tr>\n",
       "      <th>0</th>\n",
       "      <td>2019-05-21</td>\n",
       "      <td>3</td>\n",
       "    </tr>\n",
       "    <tr>\n",
       "      <th>1</th>\n",
       "      <td>2019-05-22</td>\n",
       "      <td>62</td>\n",
       "    </tr>\n",
       "    <tr>\n",
       "      <th>2</th>\n",
       "      <td>2019-05-23</td>\n",
       "      <td>108</td>\n",
       "    </tr>\n",
       "    <tr>\n",
       "      <th>3</th>\n",
       "      <td>2019-05-24</td>\n",
       "      <td>133</td>\n",
       "    </tr>\n",
       "    <tr>\n",
       "      <th>4</th>\n",
       "      <td>2019-05-25</td>\n",
       "      <td>57</td>\n",
       "    </tr>\n",
       "  </tbody>\n",
       "</table>\n",
       "</div>"
      ],
      "text/plain": [
       "   created_at  classification_id\n",
       "0  2019-05-21                  3\n",
       "1  2019-05-22                 62\n",
       "2  2019-05-23                108\n",
       "3  2019-05-24                133\n",
       "4  2019-05-25                 57"
      ]
     },
     "execution_count": 212,
     "metadata": {},
     "output_type": "execute_result"
    }
   ],
   "source": [
    "actual_random_classifications.head()"
   ]
  },
  {
   "cell_type": "code",
   "execution_count": 213,
   "metadata": {},
   "outputs": [
    {
     "data": {
      "text/html": [
       "<div>\n",
       "<style scoped>\n",
       "    .dataframe tbody tr th:only-of-type {\n",
       "        vertical-align: middle;\n",
       "    }\n",
       "\n",
       "    .dataframe tbody tr th {\n",
       "        vertical-align: top;\n",
       "    }\n",
       "\n",
       "    .dataframe thead th {\n",
       "        text-align: right;\n",
       "    }\n",
       "</style>\n",
       "<table border=\"1\" class=\"dataframe\">\n",
       "  <thead>\n",
       "    <tr style=\"text-align: right;\">\n",
       "      <th></th>\n",
       "      <th>created_at</th>\n",
       "      <th>classification_id</th>\n",
       "    </tr>\n",
       "  </thead>\n",
       "  <tbody>\n",
       "    <tr>\n",
       "      <th>0</th>\n",
       "      <td>2019-04-16</td>\n",
       "      <td>118</td>\n",
       "    </tr>\n",
       "    <tr>\n",
       "      <th>1</th>\n",
       "      <td>2019-04-17</td>\n",
       "      <td>229</td>\n",
       "    </tr>\n",
       "    <tr>\n",
       "      <th>2</th>\n",
       "      <td>2019-04-18</td>\n",
       "      <td>145</td>\n",
       "    </tr>\n",
       "    <tr>\n",
       "      <th>3</th>\n",
       "      <td>2019-04-19</td>\n",
       "      <td>140</td>\n",
       "    </tr>\n",
       "    <tr>\n",
       "      <th>4</th>\n",
       "      <td>2019-04-20</td>\n",
       "      <td>77</td>\n",
       "    </tr>\n",
       "  </tbody>\n",
       "</table>\n",
       "</div>"
      ],
      "text/plain": [
       "   created_at  classification_id\n",
       "0  2019-04-16                118\n",
       "1  2019-04-17                229\n",
       "2  2019-04-18                145\n",
       "3  2019-04-19                140\n",
       "4  2019-04-20                 77"
      ]
     },
     "execution_count": 213,
     "metadata": {},
     "output_type": "execute_result"
    }
   ],
   "source": [
    "actual_priority_classifications.head()"
   ]
  },
  {
   "cell_type": "code",
   "execution_count": 214,
   "metadata": {},
   "outputs": [
    {
     "data": {
      "text/plain": [
       "(array([737180., 737211., 737241., 737272., 737303., 737333.]),\n",
       " <a list of 6 Text xticklabel objects>)"
      ]
     },
     "execution_count": 214,
     "metadata": {},
     "output_type": "execute_result"
    },
    {
     "data": {
      "image/png": "[encoded data removed]",
      "text/plain": [
       "<Figure size 432x288 with 1 Axes>"
      ]
     },
     "metadata": {
      "needs_background": "light"
     },
     "output_type": "display_data"
    }
   ],
   "source": [
    "plt.plot(actual_priority_classifications['created_at'], actual_priority_classifications['classification_id'], label='priority')\n",
    "plt.plot(actual_random_classifications['created_at'], actual_random_classifications['classification_id'], label='random')\n",
    "plt.legend()\n",
    "plt.xticks(rotation=45)\n",
    "# plt.ylim([0, 12000])"
   ]
  },
  {
   "cell_type": "code",
   "execution_count": null,
   "metadata": {},
   "outputs": [],
   "source": []
  },
  {
   "cell_type": "code",
   "execution_count": null,
   "metadata": {},
   "outputs": [],
   "source": []
  }
 ],
 "metadata": {
  "kernelspec": {
   "display_name": "Python 3",
   "language": "python",
   "name": "python3"
  },
  "language_info": {
   "codemirror_mode": {
    "name": "ipython",
    "version": 3
   },
   "file_extension": ".py",
   "mimetype": "text/x-python",
   "name": "python",
   "nbconvert_exporter": "python",
   "pygments_lexer": "ipython3",
   "version": "3.6.7"
  }
 },
 "nbformat": 4,
 "nbformat_minor": 2
}
