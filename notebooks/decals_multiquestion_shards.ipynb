{
 "cells": [
  {
   "cell_type": "code",
   "execution_count": 28,
   "metadata": {},
   "outputs": [
    {
     "name": "stdout",
     "output_type": "stream",
     "text": [
      "The autoreload extension is already loaded. To reload it, use:\n",
      "  %reload_ext autoreload\n"
     ]
    }
   ],
   "source": [
    "%load_ext autoreload\n",
    "%autoreload 2\n",
    "%matplotlib inline"
   ]
  },
  {
   "cell_type": "code",
   "execution_count": 29,
   "metadata": {},
   "outputs": [],
   "source": [
    "import os\n",
    "\n",
    "import numpy as np\n",
    "import pandas as pd\n",
    "import matplotlib.pyplot as plt\n",
    "import seaborn as sns\n",
    "sns.set_context('notebook')\n",
    "import matplotlib.gridspec as gridspec\n",
    "import scipy\n",
    "from PIL import Image"
   ]
  },
  {
   "cell_type": "code",
   "execution_count": 30,
   "metadata": {},
   "outputs": [],
   "source": [
    "df = pd.read_csv('decals_smooth_may_eval_shards/mac_catalog.csv')"
   ]
  },
  {
   "cell_type": "code",
   "execution_count": 31,
   "metadata": {},
   "outputs": [
    {
     "data": {
      "text/plain": [
       "0       0.0\n",
       "1       0.0\n",
       "2       0.0\n",
       "3       0.0\n",
       "4       0.0\n",
       "       ... \n",
       "4995    0.0\n",
       "4996    0.0\n",
       "4997    0.0\n",
       "4998    0.0\n",
       "4999    0.0\n",
       "Name: bar_strong, Length: 5000, dtype: float64"
      ]
     },
     "execution_count": 31,
     "metadata": {},
     "output_type": "execute_result"
    }
   ],
   "source": [
    "df['bar_strong']  # missing the latest values"
   ]
  },
  {
   "cell_type": "code",
   "execution_count": 32,
   "metadata": {},
   "outputs": [],
   "source": [
    "full_df = pd.read_csv('../data/decals/prepared_catalogs/decals_smooth_may/full_catalog.csv')"
   ]
  },
  {
   "cell_type": "code",
   "execution_count": 33,
   "metadata": {},
   "outputs": [],
   "source": [
    "retired = full_df[full_df['smooth-or-featured_total-votes'] > 35]"
   ]
  },
  {
   "cell_type": "code",
   "execution_count": 34,
   "metadata": {},
   "outputs": [
    {
     "data": {
      "text/plain": [
       "(0.0, 30.0)"
      ]
     },
     "execution_count": 34,
     "metadata": {},
     "output_type": "execute_result"
    },
    {
     "data": {
      "image/png": "[encoded data removed]",
      "text/plain": [
       "<Figure size 432x288 with 1 Axes>"
      ]
     },
     "metadata": {
      "needs_background": "light"
     },
     "output_type": "display_data"
    }
   ],
   "source": [
    "n_bins=20\n",
    "alpha = 0.3\n",
    "_, bins, _ = plt.hist(retired['bar_strong'], bins=n_bins, alpha=alpha, label='strong')\n",
    "plt.hist(retired['bar_weak'], bins=bins, alpha=alpha, label='weak')\n",
    "plt.hist(retired['bar_no'], bins=bins, alpha=alpha, label='no')\n",
    "plt.legend()\n",
    "plt.xlim([0., 30.])"
   ]
  },
  {
   "cell_type": "code",
   "execution_count": 35,
   "metadata": {},
   "outputs": [
    {
     "data": {
      "text/plain": [
       "(0.0, 1.0)"
      ]
     },
     "execution_count": 35,
     "metadata": {},
     "output_type": "execute_result"
    },
    {
     "data": {
      "image/png": "[encoded data removed]",
      "text/plain": [
       "<Figure size 432x288 with 1 Axes>"
      ]
     },
     "metadata": {
      "needs_background": "light"
     },
     "output_type": "display_data"
    }
   ],
   "source": [
    "n_bins=10\n",
    "alpha = 0.3\n",
    "_, bins, _ = plt.hist(retired['bar_strong_fraction'], bins=n_bins, alpha=alpha, label='strong')\n",
    "plt.hist(retired['bar_weak_fraction'], bins=bins, alpha=alpha, label='weak')\n",
    "plt.hist(retired['bar_no_fraction'], bins=bins, alpha=alpha, label='no')\n",
    "plt.legend()\n",
    "plt.xlim([0., 1.])"
   ]
  },
  {
   "cell_type": "code",
   "execution_count": 36,
   "metadata": {},
   "outputs": [],
   "source": [
    "# del retired['file_loc']"
   ]
  },
  {
   "cell_type": "code",
   "execution_count": 37,
   "metadata": {},
   "outputs": [],
   "source": [
    "# small_df = pd.merge(df[['id_str', 'file_loc']], retired, on='id_str', how='inner')"
   ]
  },
  {
   "cell_type": "code",
   "execution_count": 38,
   "metadata": {},
   "outputs": [],
   "source": [
    "# len(small_df)"
   ]
  },
  {
   "cell_type": "code",
   "execution_count": 39,
   "metadata": {},
   "outputs": [],
   "source": [
    "# small_df['file_loc'] = '/data/repos/zoobot/notebooks/' + small_df['file_loc']"
   ]
  },
  {
   "cell_type": "code",
   "execution_count": 40,
   "metadata": {},
   "outputs": [],
   "source": [
    "# assert all(small_df['file_loc'].apply(os.path.exists))"
   ]
  },
  {
   "cell_type": "code",
   "execution_count": 41,
   "metadata": {},
   "outputs": [],
   "source": [
    "# os.chdir('/data/repos/zoobot')"
   ]
  },
  {
   "cell_type": "code",
   "execution_count": 42,
   "metadata": {},
   "outputs": [],
   "source": [
    "# small_df.to_csv('notebooks/decals_smooth_may_eval_shards/mac_catalog_correct_labels.csv', index=False)"
   ]
  },
  {
   "cell_type": "code",
   "execution_count": 43,
   "metadata": {},
   "outputs": [],
   "source": [
    "# bar_df = small_df[small_df['bar_total-votes'] >= 10]\n",
    "# bar_df.to_csv(tfrecord_csv_loc, index=False)\n",
    "# tfrecord_csv_loc = '/data/repos/zoobot/notebooks/decals_smooth_may_eval_shards/mac_catalog_feat10_correct_labels.csv'"
   ]
  },
  {
   "cell_type": "code",
   "execution_count": 44,
   "metadata": {},
   "outputs": [],
   "source": [
    "# eval_size = int(len(bar_df)/4)"
   ]
  },
  {
   "cell_type": "code",
   "execution_count": 45,
   "metadata": {},
   "outputs": [],
   "source": [
    "# !python /data/repos/zoobot/make_decals_tfrecords.py --labelled-catalog={tfrecord_csv_loc} --eval-size={eval_size} --shard-dir=/data/repos/zoobot/data/decals/shards/multilabel --img-size 64"
   ]
  },
  {
   "cell_type": "code",
   "execution_count": 54,
   "metadata": {},
   "outputs": [],
   "source": [
    "bar_df = retired[retired['bar_total-votes'] >= 10]"
   ]
  },
  {
   "cell_type": "code",
   "execution_count": 55,
   "metadata": {},
   "outputs": [],
   "source": [
    "eval_size = int(len(bar_df)/4)\n",
    "img_size=256"
   ]
  },
  {
   "cell_type": "code",
   "execution_count": 57,
   "metadata": {},
   "outputs": [],
   "source": [
    "tfrecord_csv_loc = '/data/repos/zoobot/notebooks/decals_smooth_may_eval_shards/mac_catalog_feat10_correct_labels_full_{}.csv'.format(img_size)\n",
    "bar_df.to_csv(tfrecord_csv_loc, index=False)"
   ]
  },
  {
   "cell_type": "code",
   "execution_count": 58,
   "metadata": {},
   "outputs": [
    {
     "name": "stdout",
     "output_type": "stream",
     "text": [
      "\n",
      "WARNING: The TensorFlow contrib module will not be included in TensorFlow 2.0.\n",
      "For more information, please see:\n",
      "  * https://github.com/tensorflow/community/blob/master/rfcs/20180907-contrib-sunset.md\n",
      "  * https://github.com/tensorflow/addons\n",
      "If you depend on functionality not listed there, please file an issue.\n",
      "\n",
      "Traceback (most recent call last):\n",
      "  File \"/data/repos/zoobot/make_decals_tfrecords.py\", line 58, in <module>\n",
      "    shard_size=shard_size\n",
      "  File \"/Data/repos/zoobot/zoobot/active_learning/database.py\", line 187, in write_catalog_to_tfrecord_shards\n",
      "    reader=catalog_to_tfrecord.get_reader(df['file_loc']),\n",
      "  File \"/Data/repos/zoobot/zoobot/tfrecord/catalog_to_tfrecord.py\", line 71, in get_reader\n",
      "    assert all(os.path.isfile(loc) for loc in paths)\n",
      "AssertionError\n"
     ]
    }
   ],
   "source": [
    "!python /data/repos/zoobot/make_decals_tfrecords.py --labelled-catalog={tfrecord_csv_loc} --eval-size={eval_size} --shard-dir=/data/repos/zoobot/data/decals/shards/multilabel_{img_size} --img-size {img_size}"
   ]
  },
  {
   "cell_type": "code",
   "execution_count": null,
   "metadata": {},
   "outputs": [],
   "source": []
  }
 ],
 "metadata": {
  "kernelspec": {
   "display_name": "Python 3",
   "language": "python",
   "name": "python3"
  },
  "language_info": {
   "codemirror_mode": {
    "name": "ipython",
    "version": 3
   },
   "file_extension": ".py",
   "mimetype": "text/x-python",
   "name": "python",
   "nbconvert_exporter": "python",
   "pygments_lexer": "ipython3",
   "version": "3.6.7"
  }
 },
 "nbformat": 4,
 "nbformat_minor": 2
}
