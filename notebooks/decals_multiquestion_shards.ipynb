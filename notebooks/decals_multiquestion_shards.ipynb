{
 "cells": [
  {
   "cell_type": "code",
   "execution_count": 2,
   "metadata": {},
   "outputs": [],
   "source": [
    "%load_ext autoreload\n",
    "%autoreload 2\n",
    "%matplotlib inline"
   ]
  },
  {
   "cell_type": "code",
   "execution_count": 3,
   "metadata": {},
   "outputs": [],
   "source": [
    "import os\n",
    "\n",
    "import numpy as np\n",
    "import pandas as pd\n",
    "import matplotlib.pyplot as plt\n",
    "import seaborn as sns\n",
    "sns.set_context('notebook')\n",
    "import matplotlib.gridspec as gridspec\n",
    "import scipy\n",
    "from PIL import Image"
   ]
  },
  {
   "cell_type": "markdown",
   "metadata": {},
   "source": [
    "Create decals shards from catalogs"
   ]
  },
  {
   "cell_type": "code",
   "execution_count": 4,
   "metadata": {},
   "outputs": [],
   "source": [
    "# full_df = pd.read_csv('../data/decals/prepared_catalogs/decals_smooth_may/full_catalog.csv')"
   ]
  },
  {
   "cell_type": "code",
   "execution_count": 5,
   "metadata": {},
   "outputs": [],
   "source": [
    "# full_df = pd.read_csv('/home/walml/repos/zoobot/data/decals_dr5_uploadable_master_catalog_nov_2019.csv')\n",
    "full_df = pd.read_csv('/home/walml/repos/zoobot/data/classifications_2020_04_09_dedup.csv')"
   ]
  },
  {
   "cell_type": "code",
   "execution_count": 6,
   "metadata": {},
   "outputs": [],
   "source": [
    "retired = full_df[full_df['smooth-or-featured_total-votes'] > 35]"
   ]
  },
  {
   "cell_type": "code",
   "execution_count": 7,
   "metadata": {},
   "outputs": [
    {
     "data": {
      "text/plain": [
       "(0.0, 30.0)"
      ]
     },
     "execution_count": 7,
     "metadata": {},
     "output_type": "execute_result"
    },
    {
     "data": {
      "image/png": "[encoded data removed]",
      "text/plain": [
       "<Figure size 432x288 with 1 Axes>"
      ]
     },
     "metadata": {
      "needs_background": "light"
     },
     "output_type": "display_data"
    }
   ],
   "source": [
    "n_bins= 30\n",
    "alpha = 0.3\n",
    "_, bins, _ = plt.hist(retired['bar_strong'], bins=n_bins, alpha=alpha, label='strong')\n",
    "plt.hist(retired['bar_weak'], bins=bins, alpha=alpha, label='weak')\n",
    "plt.hist(retired['bar_no'], bins=bins, alpha=alpha, label='no')\n",
    "plt.legend()\n",
    "plt.xlim([0., 30.])"
   ]
  },
  {
   "cell_type": "code",
   "execution_count": 8,
   "metadata": {},
   "outputs": [
    {
     "name": "stderr",
     "output_type": "stream",
     "text": [
      "/home/walml/anaconda3/envs/agnfinder/lib/python3.7/site-packages/numpy/lib/histograms.py:839: RuntimeWarning: invalid value encountered in greater_equal\n",
      "  keep = (tmp_a >= first_edge)\n",
      "/home/walml/anaconda3/envs/agnfinder/lib/python3.7/site-packages/numpy/lib/histograms.py:840: RuntimeWarning: invalid value encountered in less_equal\n",
      "  keep &= (tmp_a <= last_edge)\n"
     ]
    },
    {
     "data": {
      "text/plain": [
       "(0.0, 1.0)"
      ]
     },
     "execution_count": 8,
     "metadata": {},
     "output_type": "execute_result"
    },
    {
     "data": {
      "image/png": "[encoded data removed]",
      "text/plain": [
       "<Figure size 432x288 with 1 Axes>"
      ]
     },
     "metadata": {
      "needs_background": "light"
     },
     "output_type": "display_data"
    }
   ],
   "source": [
    "n_bins= 20\n",
    "alpha = 0.3\n",
    "_, bins, _ = plt.hist(retired['bar_strong_fraction'], bins=n_bins, alpha=alpha, label='strong')\n",
    "plt.hist(retired['bar_weak_fraction'], bins=bins, alpha=alpha, label='weak')\n",
    "plt.hist(retired['bar_no_fraction'], bins=bins, alpha=alpha, label='no')\n",
    "plt.legend()\n",
    "plt.xlim([0., 1.])"
   ]
  },
  {
   "cell_type": "code",
   "execution_count": 9,
   "metadata": {},
   "outputs": [],
   "source": [
    "# del retired['file_loc']"
   ]
  },
  {
   "cell_type": "code",
   "execution_count": 10,
   "metadata": {},
   "outputs": [],
   "source": [
    "# small_df = pd.merge(df[['id_str', 'file_loc']], retired, on='id_str', how='inner')"
   ]
  },
  {
   "cell_type": "code",
   "execution_count": 11,
   "metadata": {},
   "outputs": [],
   "source": [
    "# len(small_df)"
   ]
  },
  {
   "cell_type": "code",
   "execution_count": 12,
   "metadata": {},
   "outputs": [],
   "source": [
    "# small_df['file_loc'] = '/data/repos/zoobot/notebooks/' + small_df['file_loc']"
   ]
  },
  {
   "cell_type": "code",
   "execution_count": 13,
   "metadata": {},
   "outputs": [],
   "source": [
    "# assert all(small_df['file_loc'].apply(os.path.exists))"
   ]
  },
  {
   "cell_type": "code",
   "execution_count": 14,
   "metadata": {},
   "outputs": [],
   "source": [
    "# os.chdir('/data/repos/zoobot')"
   ]
  },
  {
   "cell_type": "code",
   "execution_count": 15,
   "metadata": {},
   "outputs": [],
   "source": [
    "# small_df.to_csv('notebooks/decals_smooth_may_eval_shards/mac_catalog_correct_labels.csv', index=False)"
   ]
  },
  {
   "cell_type": "code",
   "execution_count": 16,
   "metadata": {},
   "outputs": [],
   "source": [
    "# bar_df = small_df[small_df['bar_total-votes'] >= 10]\n",
    "# bar_df.to_csv(tfrecord_csv_loc, index=False)\n",
    "# tfrecord_csv_loc = '/data/repos/zoobot/notebooks/decals_smooth_may_eval_shards/mac_catalog_feat10_correct_labels.csv'"
   ]
  },
  {
   "cell_type": "code",
   "execution_count": 17,
   "metadata": {},
   "outputs": [],
   "source": [
    "# eval_size = int(len(bar_df)/4)"
   ]
  },
  {
   "cell_type": "code",
   "execution_count": 18,
   "metadata": {},
   "outputs": [],
   "source": [
    "# !python /data/repos/zoobot/make_decals_tfrecords.py --labelled-catalog={tfrecord_csv_loc} --eval-size={eval_size} --shard-dir=/data/repos/zoobot/data/decals/shards/multilabel --img-size 64"
   ]
  },
  {
   "cell_type": "code",
   "execution_count": 19,
   "metadata": {},
   "outputs": [
    {
     "data": {
      "text/plain": [
       "22103"
      ]
     },
     "execution_count": 19,
     "metadata": {},
     "output_type": "execute_result"
    }
   ],
   "source": [
    "bar_df = retired[retired['bar_total-votes'] >= 10]\n",
    "len(bar_df)"
   ]
  },
  {
   "cell_type": "code",
   "execution_count": 20,
   "metadata": {},
   "outputs": [],
   "source": [
    "eval_size = int(len(bar_df)/4)\n",
    "img_size=256"
   ]
  },
  {
   "cell_type": "code",
   "execution_count": 21,
   "metadata": {},
   "outputs": [],
   "source": [
    "tfrecord_csv_loc = '/home/walml/repos/zoobot/data/latest_labelled_catalog_{}.csv'.format(img_size)\n",
    "bar_df.to_csv(tfrecord_csv_loc, index=False)"
   ]
  },
  {
   "cell_type": "code",
   "execution_count": 24,
   "metadata": {},
   "outputs": [],
   "source": [
    "home = '/data/phys-zooniverse/chri5177'"
   ]
  },
  {
   "cell_type": "code",
   "execution_count": 25,
   "metadata": {},
   "outputs": [
    {
     "name": "stdout",
     "output_type": "stream",
     "text": [
      "/data/phys-zooniverse/chri5177/repos/zoobot/make_decals_tfrecords.py --labelled-catalog=/home/walml/repos/zoobot/data/latest_labelled_catalog_256.csv --eval-size=5525 --shard-dir=/data/phys-zooniverse/chri5177/repos/zoobot/data/decals/shards/multilabel_256 --img-size 256\n"
     ]
    }
   ],
   "source": [
    "!echo {home}/repos/zoobot/make_decals_tfrecords.py --labelled-catalog={tfrecord_csv_loc} --eval-size={eval_size} --shard-dir={home}/repos/zoobot/data/decals/shards/multilabel_{img_size} --img-size {img_size}"
   ]
  },
  {
   "cell_type": "code",
   "execution_count": 23,
   "metadata": {},
   "outputs": [
    {
     "name": "stdout",
     "output_type": "stream",
     "text": [
      "ERROR! Session/line number was not unique in database. History logging moved to new session 233\n"
     ]
    }
   ],
   "source": [
    "# !python /data/repos/zoobot/make_decals_tfrecords.py --labelled-catalog={tfrecord_csv_loc} --eval-size={eval_size} --shard-dir=/data/repos/zoobot/data/decals/shards/multilabel_{img_size} --img-size {img_size}"
   ]
  },
  {
   "cell_type": "code",
   "execution_count": null,
   "metadata": {},
   "outputs": [],
   "source": []
  }
 ],
 "metadata": {
  "kernelspec": {
   "display_name": "Python 3",
   "language": "python",
   "name": "python3"
  },
  "language_info": {
   "codemirror_mode": {
    "name": "ipython",
    "version": 3
   },
   "file_extension": ".py",
   "mimetype": "text/x-python",
   "name": "python",
   "nbconvert_exporter": "python",
   "pygments_lexer": "ipython3",
   "version": "3.7.6"
  }
 },
 "nbformat": 4,
 "nbformat_minor": 4
}
