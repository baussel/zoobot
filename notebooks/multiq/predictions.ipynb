{
 "cells": [
  {
   "cell_type": "code",
   "execution_count": 1,
   "metadata": {},
   "outputs": [],
   "source": [
    "%load_ext autoreload\n",
    "%autoreload 2\n",
    "%matplotlib inline"
   ]
  },
  {
   "cell_type": "code",
   "execution_count": 2,
   "metadata": {},
   "outputs": [
    {
     "name": "stdout",
     "output_type": "stream",
     "text": [
      "/home/walml/repos/zoobot/notebooks/multiq\n"
     ]
    }
   ],
   "source": [
    "!pwd"
   ]
  },
  {
   "cell_type": "code",
   "execution_count": 3,
   "metadata": {},
   "outputs": [
    {
     "name": "stdout",
     "output_type": "stream",
     "text": [
      "Already up-to-date.\n"
     ]
    }
   ],
   "source": [
    "!git pull"
   ]
  },
  {
   "cell_type": "code",
   "execution_count": 4,
   "metadata": {},
   "outputs": [],
   "source": [
    "import matplotlib.pyplot as plt"
   ]
  },
  {
   "cell_type": "code",
   "execution_count": 5,
   "metadata": {},
   "outputs": [],
   "source": [
    "import os\n",
    "import logging\n",
    "import argparse\n",
    "\n",
    "import numpy as np\n",
    "import matplotlib\n",
    "from matplotlib.ticker import StrMethodFormatter\n",
    "\n",
    "import matplotlib.pyplot as plt\n",
    "import matplotlib.gridspec as gridspec\n",
    "import seaborn as sns\n",
    "from sklearn import metrics\n",
    "import tensorflow as tf\n",
    "import pandas as pd\n",
    "from astropy.table import Table  # for NSA\n",
    "from astropy import units as u\n",
    "from sklearn.metrics import confusion_matrix, roc_curve\n",
    "from PIL import Image\n",
    "from scipy.stats import binom\n",
    "from IPython.display import display, Markdown\n",
    "\n",
    "from shared_astro_utils import astropy_utils, matching_utils\n",
    "from zoobot.estimators import make_predictions, bayesian_estimator_funcs\n",
    "from zoobot.tfrecord import read_tfrecord\n",
    "from zoobot.uncertainty import discrete_coverage\n",
    "from zoobot.estimators import input_utils, losses\n",
    "from zoobot.tfrecord import catalog_to_tfrecord\n",
    "from zoobot.active_learning import metrics, simulated_metrics, acquisition_utils, check_uncertainty, simulation_timeline, default_estimator_params"
   ]
  },
  {
   "cell_type": "code",
   "execution_count": 6,
   "metadata": {},
   "outputs": [],
   "source": [
    "gpus = tf.config.experimental.list_physical_devices('GPU')\n",
    "if gpus:\n",
    "    for gpu in gpus:\n",
    "        tf.config.experimental.set_memory_growth(gpu, True)\n"
   ]
  },
  {
   "cell_type": "code",
   "execution_count": 7,
   "metadata": {},
   "outputs": [],
   "source": [
    "os.chdir('/home/walml/repos/zoobot')"
   ]
  },
  {
   "cell_type": "code",
   "execution_count": 8,
   "metadata": {},
   "outputs": [],
   "source": [
    "model_name = 'latest_offline'"
   ]
  },
  {
   "cell_type": "code",
   "execution_count": 9,
   "metadata": {},
   "outputs": [],
   "source": [
    "# Figures will be saved to here\n",
    "\n",
    "analysis_dir = 'analysis/multiquestion'\n",
    "save_dir = f'{analysis_dir}/{model_name}'\n",
    "if not os.path.exists(save_dir):\n",
    "    os.mkdir(save_dir)\n",
    "    \n",
    "single_model_name = '{}-single'.format(model_name)\n",
    "single_save_dir = f'{analysis_dir}/{single_model_name}'\n",
    "if not os.path.exists(single_save_dir):\n",
    "    os.mkdir(single_save_dir)\n",
    "assert single_save_dir != save_dir"
   ]
  },
  {
   "cell_type": "code",
   "execution_count": 10,
   "metadata": {},
   "outputs": [],
   "source": [
    "\n",
    "\n",
    "# NEW_PREDICTIONS = False\n",
    "NEW_PREDICTIONS = True"
   ]
  },
  {
   "cell_type": "markdown",
   "metadata": {},
   "source": [
    "### Load the (latest) model under `model_name` folder in `results_dir`"
   ]
  },
  {
   "cell_type": "code",
   "execution_count": 11,
   "metadata": {},
   "outputs": [],
   "source": [
    "results_dir = 'results'\n",
    "\n",
    "img_size = 128\n",
    "\n",
    "tfrecord_loc = f'data/decals/shards/multilabel_{img_size}/eval/s{img_size}_shard_0.tfrecord'"
   ]
  },
  {
   "cell_type": "markdown",
   "metadata": {},
   "source": [
    "#### Download previously trained model (only if new predictions needed)"
   ]
  },
  {
   "cell_type": "code",
   "execution_count": null,
   "metadata": {},
   "outputs": [],
   "source": []
  },
  {
   "cell_type": "code",
   "execution_count": null,
   "metadata": {},
   "outputs": [],
   "source": []
  },
  {
   "cell_type": "markdown",
   "metadata": {},
   "source": [
    "#### Download previously-made shards (only if new predictions needed)"
   ]
  },
  {
   "cell_type": "code",
   "execution_count": null,
   "metadata": {},
   "outputs": [],
   "source": []
  },
  {
   "cell_type": "markdown",
   "metadata": {},
   "source": [
    "### Load original catalog"
   ]
  },
  {
   "cell_type": "code",
   "execution_count": 12,
   "metadata": {},
   "outputs": [],
   "source": [
    "catalog = pd.read_csv('data/latest_labelled_catalog.csv', dtype={'subject_id': str})"
   ]
  },
  {
   "cell_type": "markdown",
   "metadata": {},
   "source": [
    "### Predict many rho for the galaxies in tfrecord_loc. Record id_strs to join into catalog later."
   ]
  },
  {
   "cell_type": "code",
   "execution_count": null,
   "metadata": {},
   "outputs": [],
   "source": []
  },
  {
   "cell_type": "markdown",
   "metadata": {},
   "source": [
    "**Stop here if you're reloading from saved predictions**"
   ]
  },
  {
   "cell_type": "code",
   "execution_count": 13,
   "metadata": {},
   "outputs": [],
   "source": [
    "def dummy_acquisition_func(samples):\n",
    "    return np.random.rand(len(samples))"
   ]
  },
  {
   "cell_type": "code",
   "execution_count": 14,
   "metadata": {},
   "outputs": [],
   "source": [
    "assert NEW_PREDICTIONS"
   ]
  },
  {
   "cell_type": "code",
   "execution_count": 15,
   "metadata": {},
   "outputs": [
    {
     "name": "stdout",
     "output_type": "stream",
     "text": [
      "{smooth-or-featured, indices 0 to 1, asked after None: (0, 1), has-spiral-arms, indices 2 to 3, asked after <zoobot.estimators.losses.Answer object at 0x7f1b3d2b0890>: (2, 3), spiral-winding, indices 4 to 6, asked after <zoobot.estimators.losses.Answer object at 0x7f1b3d2b0910>: (4, 6), bar, indices 7 to 9, asked after <zoobot.estimators.losses.Answer object at 0x7f1b3d2b0890>: (7, 9), bulge-size, indices 10 to 14, asked after <zoobot.estimators.losses.Answer object at 0x7f1b3d2b0890>: (10, 14)}\n",
      "Name: smooth-or-featured, start 0, end 1\n",
      "Name: has-spiral-arms, start 2, end 3\n",
      "Name: spiral-winding, start 4, end 6\n",
      "Name: bar, start 7, end 9\n",
      "Name: bulge-size, start 10, end 14\n"
     ]
    }
   ],
   "source": [
    "batch_size = 32\n",
    "initial_size = 128\n",
    "final_size = 64\n",
    "channels = 3\n",
    "\n",
    "label_cols = [\n",
    "    'smooth-or-featured_smooth',\n",
    "    'smooth-or-featured_featured-or-disk',\n",
    "    'has-spiral-arms_yes',\n",
    "    'has-spiral-arms_no',\n",
    "    'spiral-winding_tight',\n",
    "    'spiral-winding_medium',\n",
    "    'spiral-winding_loose',\n",
    "    'bar_strong',\n",
    "    'bar_weak',\n",
    "    'bar_no',\n",
    "    'bulge-size_dominant',\n",
    "    'bulge-size_large',\n",
    "    'bulge-size_moderate',\n",
    "    'bulge-size_small',\n",
    "    'bulge-size_none'\n",
    "]\n",
    "\n",
    "questions = [\n",
    "    'smooth-or-featured',\n",
    "    'has-spiral-arms',\n",
    "    'spiral-winding',\n",
    "    'bar',\n",
    "    'bulge-size'\n",
    "]\n",
    "\n",
    "model = default_estimator_params.get_model(label_cols, questions, final_size)\n",
    "\n",
    "checkpoint_dir = f'{results_dir}/{model_name}/results/models'\n",
    "model.load_weights(checkpoint_dir)\n",
    "\n",
    "\n",
    "eval_config = default_estimator_params.get_eval_config(tfrecord_loc, label_cols, batch_size, initial_size, final_size, channels)\n",
    "test_dataset = input_utils.get_input(config=eval_config)"
   ]
  },
  {
   "cell_type": "code",
   "execution_count": 69,
   "metadata": {},
   "outputs": [
    {
     "name": "stdout",
     "output_type": "stream",
     "text": [
      "(<tf.Tensor: shape=(32, 64, 64, 1), dtype=float32, numpy=\n",
      "array([[[[ 1.07765198e-01],\n",
      "         [ 1.07765198e-01],\n",
      "         [ 1.07765198e-01],\n",
      "         ...,\n",
      "         [ 1.07765198e-01],\n",
      "         [ 1.07765198e-01],\n",
      "         [ 1.07765198e-01]],\n",
      "\n",
      "        [[ 1.07765198e-01],\n",
      "         [ 1.07765198e-01],\n",
      "         [ 1.07765198e-01],\n",
      "         ...,\n",
      "         [ 1.24636154e+01],\n",
      "         [ 1.07765198e-01],\n",
      "         [ 1.07765198e-01]],\n",
      "\n",
      "        [[ 1.07765198e-01],\n",
      "         [ 1.07765198e-01],\n",
      "         [ 1.07765198e-01],\n",
      "         ...,\n",
      "         [ 1.87107811e+01],\n",
      "         [ 5.38036728e+00],\n",
      "         [ 1.07765198e-01]],\n",
      "\n",
      "        ...,\n",
      "\n",
      "        [[ 1.07765198e-01],\n",
      "         [ 1.07765198e-01],\n",
      "         [ 1.07765198e-01],\n",
      "         ...,\n",
      "         [ 1.97105484e+01],\n",
      "         [ 1.54304085e+01],\n",
      "         [ 2.22529182e+01]],\n",
      "\n",
      "        [[ 1.07765198e-01],\n",
      "         [ 1.07765198e-01],\n",
      "         [ 1.07765198e-01],\n",
      "         ...,\n",
      "         [ 2.20700741e+01],\n",
      "         [ 2.27248192e+01],\n",
      "         [ 2.17790070e+01]],\n",
      "\n",
      "        [[ 1.07765198e-01],\n",
      "         [ 1.07765198e-01],\n",
      "         [ 1.07765198e-01],\n",
      "         ...,\n",
      "         [ 1.13294106e+01],\n",
      "         [ 2.00386696e+01],\n",
      "         [ 1.60904770e+01]]],\n",
      "\n",
      "\n",
      "       [[[-2.26409912e-01],\n",
      "         [-2.26409912e-01],\n",
      "         [-2.26409912e-01],\n",
      "         ...,\n",
      "         [ 1.80567436e+01],\n",
      "         [ 1.12009678e+01],\n",
      "         [ 2.17594452e+01]],\n",
      "\n",
      "        [[-2.26409912e-01],\n",
      "         [-2.26409912e-01],\n",
      "         [-2.26409912e-01],\n",
      "         ...,\n",
      "         [ 1.51979561e+01],\n",
      "         [ 1.85827103e+01],\n",
      "         [ 1.69405613e+01]],\n",
      "\n",
      "        [[-2.26409912e-01],\n",
      "         [-2.26409912e-01],\n",
      "         [-2.26409912e-01],\n",
      "         ...,\n",
      "         [ 2.16951733e+01],\n",
      "         [ 2.38951588e+01],\n",
      "         [ 8.18776894e+00]],\n",
      "\n",
      "        ...,\n",
      "\n",
      "        [[-2.26409912e-01],\n",
      "         [-2.26409912e-01],\n",
      "         [-2.26409912e-01],\n",
      "         ...,\n",
      "         [ 7.84934425e+00],\n",
      "         [ 1.52114201e+01],\n",
      "         [ 1.48310928e+01]],\n",
      "\n",
      "        [[-2.26409912e-01],\n",
      "         [-2.26409912e-01],\n",
      "         [-2.26409912e-01],\n",
      "         ...,\n",
      "         [ 8.16714191e+00],\n",
      "         [ 1.19725704e+01],\n",
      "         [ 1.76428146e+01]],\n",
      "\n",
      "        [[-2.26409912e-01],\n",
      "         [-2.26409912e-01],\n",
      "         [-2.26409912e-01],\n",
      "         ...,\n",
      "         [ 1.81797218e+01],\n",
      "         [ 1.84680862e+01],\n",
      "         [ 8.35874557e-01]]],\n",
      "\n",
      "\n",
      "       [[[-1.16539001e-03],\n",
      "         [-1.16539001e-03],\n",
      "         [-1.16539001e-03],\n",
      "         ...,\n",
      "         [-1.16539001e-03],\n",
      "         [-1.16539001e-03],\n",
      "         [-1.16539001e-03]],\n",
      "\n",
      "        [[-1.16539001e-03],\n",
      "         [-1.16539001e-03],\n",
      "         [-1.16539001e-03],\n",
      "         ...,\n",
      "         [-1.16539001e-03],\n",
      "         [-1.16539001e-03],\n",
      "         [-1.16539001e-03]],\n",
      "\n",
      "        [[-1.16539001e-03],\n",
      "         [-1.16539001e-03],\n",
      "         [-1.16539001e-03],\n",
      "         ...,\n",
      "         [ 1.14658699e+01],\n",
      "         [-1.16539001e-03],\n",
      "         [-1.16539001e-03]],\n",
      "\n",
      "        ...,\n",
      "\n",
      "        [[-1.16539001e-03],\n",
      "         [-1.16539001e-03],\n",
      "         [-1.16539001e-03],\n",
      "         ...,\n",
      "         [-1.16539001e-03],\n",
      "         [-1.16539001e-03],\n",
      "         [-1.16539001e-03]],\n",
      "\n",
      "        [[-1.16539001e-03],\n",
      "         [-1.16539001e-03],\n",
      "         [-1.16539001e-03],\n",
      "         ...,\n",
      "         [-1.16539001e-03],\n",
      "         [-1.16539001e-03],\n",
      "         [-1.16539001e-03]],\n",
      "\n",
      "        [[-1.16539001e-03],\n",
      "         [-1.16539001e-03],\n",
      "         [-1.16539001e-03],\n",
      "         ...,\n",
      "         [-1.16539001e-03],\n",
      "         [-1.16539001e-03],\n",
      "         [-1.16539001e-03]]],\n",
      "\n",
      "\n",
      "       ...,\n",
      "\n",
      "\n",
      "       [[[ 2.23671474e+01],\n",
      "         [ 1.75857277e+01],\n",
      "         [ 1.70198536e+01],\n",
      "         ...,\n",
      "         [ 1.67056255e+01],\n",
      "         [ 1.78142548e+01],\n",
      "         [ 2.07892456e+01]],\n",
      "\n",
      "        [[ 1.77544537e+01],\n",
      "         [ 1.32834854e+01],\n",
      "         [ 1.77629623e+01],\n",
      "         ...,\n",
      "         [ 1.82292233e+01],\n",
      "         [ 1.69944115e+01],\n",
      "         [ 2.28129578e+01]],\n",
      "\n",
      "        [[ 2.07658691e+01],\n",
      "         [ 1.28675632e+01],\n",
      "         [ 1.81473103e+01],\n",
      "         ...,\n",
      "         [ 1.98303642e+01],\n",
      "         [ 1.59129763e+01],\n",
      "         [ 2.09796696e+01]],\n",
      "\n",
      "        ...,\n",
      "\n",
      "        [[ 1.00284576e-01],\n",
      "         [ 1.00284576e-01],\n",
      "         [ 1.00284576e-01],\n",
      "         ...,\n",
      "         [ 1.00284576e-01],\n",
      "         [ 1.00284576e-01],\n",
      "         [ 1.00284576e-01]],\n",
      "\n",
      "        [[ 1.00284576e-01],\n",
      "         [ 1.00284576e-01],\n",
      "         [ 1.00284576e-01],\n",
      "         ...,\n",
      "         [ 1.00284576e-01],\n",
      "         [ 1.00284576e-01],\n",
      "         [ 1.00284576e-01]],\n",
      "\n",
      "        [[ 1.00284576e-01],\n",
      "         [ 1.00284576e-01],\n",
      "         [ 1.00284576e-01],\n",
      "         ...,\n",
      "         [ 1.00284576e-01],\n",
      "         [ 1.00284576e-01],\n",
      "         [ 1.00284576e-01]]],\n",
      "\n",
      "\n",
      "       [[[ 6.24965096e+00],\n",
      "         [ 1.46480703e+01],\n",
      "         [ 1.78649063e+01],\n",
      "         ...,\n",
      "         [ 4.36725616e-01],\n",
      "         [ 4.36725616e-01],\n",
      "         [ 4.36725616e-01]],\n",
      "\n",
      "        [[ 2.15597763e+01],\n",
      "         [ 1.80995121e+01],\n",
      "         [ 2.43497829e+01],\n",
      "         ...,\n",
      "         [ 4.36725616e-01],\n",
      "         [ 4.36725616e-01],\n",
      "         [ 4.36725616e-01]],\n",
      "\n",
      "        [[ 1.51739416e+01],\n",
      "         [ 2.39789047e+01],\n",
      "         [ 1.79627991e+01],\n",
      "         ...,\n",
      "         [ 4.36725616e-01],\n",
      "         [ 4.36725616e-01],\n",
      "         [ 4.36725616e-01]],\n",
      "\n",
      "        ...,\n",
      "\n",
      "        [[ 1.66454525e+01],\n",
      "         [ 1.88560257e+01],\n",
      "         [ 2.44101238e+01],\n",
      "         ...,\n",
      "         [ 2.06724205e+01],\n",
      "         [ 2.15071793e+01],\n",
      "         [ 1.44596539e+01]],\n",
      "\n",
      "        [[ 1.89154587e+01],\n",
      "         [ 1.46721373e+01],\n",
      "         [ 1.24417191e+01],\n",
      "         ...,\n",
      "         [ 2.26192474e+01],\n",
      "         [ 2.27218895e+01],\n",
      "         [ 2.08129845e+01]],\n",
      "\n",
      "        [[ 2.10406017e+01],\n",
      "         [ 1.20321970e+01],\n",
      "         [ 1.22305222e+01],\n",
      "         ...,\n",
      "         [ 1.91299591e+01],\n",
      "         [ 2.24278297e+01],\n",
      "         [ 7.86273766e+00]]],\n",
      "\n",
      "\n",
      "       [[[-5.05569458e-01],\n",
      "         [-5.05569458e-01],\n",
      "         [-5.05569458e-01],\n",
      "         ...,\n",
      "         [ 1.65783157e+01],\n",
      "         [ 1.69082222e+01],\n",
      "         [ 2.14911079e+01]],\n",
      "\n",
      "        [[ 1.88916206e+00],\n",
      "         [ 1.33343000e+01],\n",
      "         [ 1.69538918e+01],\n",
      "         ...,\n",
      "         [ 1.42524185e+01],\n",
      "         [ 1.63701859e+01],\n",
      "         [ 1.74791927e+01]],\n",
      "\n",
      "        [[ 1.18758221e+01],\n",
      "         [ 1.52736721e+01],\n",
      "         [ 1.52155895e+01],\n",
      "         ...,\n",
      "         [ 1.29248266e+01],\n",
      "         [ 1.42572479e+01],\n",
      "         [ 1.75587540e+01]],\n",
      "\n",
      "        ...,\n",
      "\n",
      "        [[ 1.45408447e+02],\n",
      "         [ 3.13821411e+01],\n",
      "         [ 1.67662945e+01],\n",
      "         ...,\n",
      "         [ 1.46331425e+01],\n",
      "         [ 1.46848221e+01],\n",
      "         [ 1.54028320e+01]],\n",
      "\n",
      "        [[ 4.37989998e+01],\n",
      "         [ 2.19620647e+01],\n",
      "         [ 1.63195686e+01],\n",
      "         ...,\n",
      "         [ 1.04108677e+01],\n",
      "         [ 1.27825565e+01],\n",
      "         [ 1.45447493e+01]],\n",
      "\n",
      "        [[ 1.20126972e+01],\n",
      "         [ 1.72317848e+01],\n",
      "         [ 1.44031401e+01],\n",
      "         ...,\n",
      "         [ 1.71812706e+01],\n",
      "         [ 1.86037369e+01],\n",
      "         [ 1.73395844e+01]]]], dtype=float32)>, <tf.Tensor: shape=(32, 15), dtype=float32, numpy=\n",
      "array([[14., 25., 16.,  9.,  8.,  7.,  1.,  4.,  9., 12.,  0.,  6., 15.,\n",
      "         4.,  0.],\n",
      "       [18., 20., 15.,  4.,  4.,  6.,  5.,  1.,  6., 12.,  1.,  0.,  3.,\n",
      "        12.,  3.],\n",
      "       [ 4., 24., 20.,  3., 13.,  6.,  1.,  0.,  4., 19.,  2.,  0., 12.,\n",
      "         9.,  0.],\n",
      "       [ 6., 28., 24.,  4.,  9., 15.,  0.,  1., 10., 17.,  0.,  0.,  8.,\n",
      "        19.,  1.],\n",
      "       [15., 20.,  9., 11.,  3.,  5.,  1.,  0.,  4., 16.,  0.,  1.,  1.,\n",
      "        16.,  2.],\n",
      "       [ 6., 32., 30.,  2.,  2., 16., 12., 16.,  7.,  9.,  1., 10., 21.,\n",
      "         0.,  0.],\n",
      "       [21., 14., 10.,  4.,  5.,  4.,  1.,  1.,  8.,  5.,  0.,  1.,  7.,\n",
      "         5.,  1.],\n",
      "       [ 3., 34., 32.,  2.,  3., 20.,  9., 24., 10.,  0.,  0.,  4., 21.,\n",
      "         9.,  0.],\n",
      "       [24., 12.,  5.,  6.,  1.,  1.,  3.,  2.,  2.,  7.,  5.,  0.,  2.,\n",
      "         3.,  1.],\n",
      "       [ 1., 37., 30.,  6.,  0.,  8., 22.,  6., 16., 14.,  0.,  1., 18.,\n",
      "        14.,  3.],\n",
      "       [ 2., 36., 29.,  4.,  0.,  2., 27., 15., 14.,  4.,  0.,  1.,  1.,\n",
      "        10., 21.],\n",
      "       [ 2., 36., 33.,  2., 12., 16.,  5., 19.,  6., 10.,  0.,  7., 24.,\n",
      "         4.,  0.],\n",
      "       [ 8., 33., 27.,  6.,  7., 12.,  8.,  8., 11., 14.,  1.,  8., 21.,\n",
      "         3.,  0.],\n",
      "       [13., 26., 17.,  8.,  1., 11.,  5.,  1.,  6., 18.,  1.,  5., 19.,\n",
      "         0.,  0.],\n",
      "       [ 2., 34., 31.,  2., 18., 10.,  3.,  5., 10., 18.,  1.,  2., 12.,\n",
      "        18.,  0.],\n",
      "       [ 1., 37., 35.,  1.,  8., 23.,  4.,  0., 18., 18.,  0.,  2., 12.,\n",
      "        22.,  0.],\n",
      "       [15., 24., 11., 10.,  8.,  2.,  1.,  1.,  8., 12.,  0.,  2., 10.,\n",
      "         7.,  2.],\n",
      "       [20., 18.,  9.,  9.,  6.,  2.,  1.,  0.,  4., 14.,  1.,  0.,  5.,\n",
      "        11.,  1.],\n",
      "       [22., 12.,  4.,  7.,  0.,  3.,  1.,  2.,  7.,  2.,  0.,  2.,  9.,\n",
      "         0.,  0.],\n",
      "       [ 7., 32., 12., 19.,  3.,  8.,  1., 16.,  6.,  9.,  0.,  2., 21.,\n",
      "         6.,  2.],\n",
      "       [ 1., 35., 34.,  0., 18., 13.,  3.,  1.,  3., 30.,  0.,  0., 12.,\n",
      "        21.,  1.],\n",
      "       [11., 21.,  4., 17.,  1.,  1.,  2.,  0.,  1., 20.,  0.,  0.,  3.,\n",
      "         8., 10.],\n",
      "       [29., 48., 34., 12.,  9., 17.,  8.,  4., 28., 14.,  1.,  0.,  8.,\n",
      "        34.,  3.],\n",
      "       [21., 16.,  8.,  8.,  0.,  5.,  3.,  4.,  7.,  5.,  1.,  4.,  8.,\n",
      "         3.,  0.],\n",
      "       [20., 18., 11.,  7.,  5.,  5.,  1.,  0.,  9.,  9.,  0.,  0.,  6.,\n",
      "        10.,  2.],\n",
      "       [ 1., 36., 35.,  0., 25., 10.,  0.,  3.,  4., 28.,  0.,  0.,  0.,\n",
      "        35.,  0.],\n",
      "       [22., 15.,  4., 10.,  0.,  3.,  1., 10.,  2.,  2.,  0.,  4.,  9.,\n",
      "         1.,  0.],\n",
      "       [11., 25., 22.,  3., 12.,  9.,  1.,  3.,  8., 14.,  0.,  0.,  3.,\n",
      "        22.,  0.],\n",
      "       [ 0., 40., 39.,  0., 33.,  5.,  1.,  6., 17., 16.,  0.,  0.,  7.,\n",
      "        31.,  1.],\n",
      "       [ 1., 37., 34.,  1.,  5., 25.,  4.,  1., 14., 20.,  0.,  0.,  0.,\n",
      "        31.,  4.],\n",
      "       [16., 22., 16.,  6., 14.,  2.,  0.,  0.,  6., 16.,  0.,  2.,  5.,\n",
      "        14.,  1.],\n",
      "       [ 3., 39., 35.,  3.,  5., 25.,  5.,  8., 19., 11.,  0.,  0.,  3.,\n",
      "        32.,  3.]], dtype=float32)>)\n"
     ]
    }
   ],
   "source": [
    "for d in test_dataset:\n",
    "    print(d)\n",
    "    break"
   ]
  },
  {
   "cell_type": "code",
   "execution_count": 16,
   "metadata": {},
   "outputs": [],
   "source": [
    "n_samples = 10"
   ]
  },
  {
   "cell_type": "code",
   "execution_count": 17,
   "metadata": {},
   "outputs": [],
   "source": [
    "# %timeit predictions = model.predict(test_dataset)"
   ]
  },
  {
   "cell_type": "code",
   "execution_count": 93,
   "metadata": {},
   "outputs": [
    {
     "data": {
      "text/plain": [
       "['J224844.07+170151.1',\n",
       " 'J104246.30+031226.2',\n",
       " 'J143952.90-001925.4',\n",
       " 'J113855.91-024452.3',\n",
       " 'J143037.53-014514.3']"
      ]
     },
     "execution_count": 93,
     "metadata": {},
     "output_type": "execute_result"
    }
   ],
   "source": [
    "feature_spec = input_utils.get_feature_spec({'id_str': 'string'})\n",
    "id_str_dataset = input_utils.get_dataset(tfrecord_loc, feature_spec, batch_size=1, shuffle=False, repeat=False)\n",
    "# for d in id_str_dataset:\n",
    "#     data = str(d['id_str'].numpy().squeeze())[2:-1]  # remove the stray 'b..'\n",
    "#     print(data, type(data))\n",
    "id_strs = [str(d['id_str'].numpy().squeeze())[2:-1] for d in id_str_dataset]\n",
    "id_strs[:5]"
   ]
  },
  {
   "cell_type": "code",
   "execution_count": 18,
   "metadata": {},
   "outputs": [
    {
     "name": "stdout",
     "output_type": "stream",
     "text": [
      "[(0, 1), (2, 3), (4, 6), (7, 9), (10, 14)]\n",
      "0 1\n",
      "2 3\n",
      "4 6\n",
      "7 9\n",
      "10 14\n"
     ]
    }
   ],
   "source": [
    "predictions = np.stack([model.predict(test_dataset) for n in range(n_samples)], axis=-1)"
   ]
  },
  {
   "cell_type": "code",
   "execution_count": 19,
   "metadata": {},
   "outputs": [
    {
     "data": {
      "text/plain": [
       "(3000, 15, 10)"
      ]
     },
     "execution_count": 19,
     "metadata": {},
     "output_type": "execute_result"
    }
   ],
   "source": [
    "predictions.shape"
   ]
  },
  {
   "cell_type": "code",
   "execution_count": 20,
   "metadata": {},
   "outputs": [
    {
     "name": "stdout",
     "output_type": "stream",
     "text": [
      "[[14. 25. 16.  9.  8.  7.  1.  4.  9. 12.  0.  6. 15.  4.  0.]\n",
      " [18. 20. 15.  4.  4.  6.  5.  1.  6. 12.  1.  0.  3. 12.  3.]\n",
      " [ 4. 24. 20.  3. 13.  6.  1.  0.  4. 19.  2.  0. 12.  9.  0.]\n",
      " [ 6. 28. 24.  4.  9. 15.  0.  1. 10. 17.  0.  0.  8. 19.  1.]\n",
      " [15. 20.  9. 11.  3.  5.  1.  0.  4. 16.  0.  1.  1. 16.  2.]\n",
      " [ 6. 32. 30.  2.  2. 16. 12. 16.  7.  9.  1. 10. 21.  0.  0.]\n",
      " [21. 14. 10.  4.  5.  4.  1.  1.  8.  5.  0.  1.  7.  5.  1.]\n",
      " [ 3. 34. 32.  2.  3. 20.  9. 24. 10.  0.  0.  4. 21.  9.  0.]\n",
      " [24. 12.  5.  6.  1.  1.  3.  2.  2.  7.  5.  0.  2.  3.  1.]\n",
      " [ 1. 37. 30.  6.  0.  8. 22.  6. 16. 14.  0.  1. 18. 14.  3.]\n",
      " [ 2. 36. 29.  4.  0.  2. 27. 15. 14.  4.  0.  1.  1. 10. 21.]\n",
      " [ 2. 36. 33.  2. 12. 16.  5. 19.  6. 10.  0.  7. 24.  4.  0.]\n",
      " [ 8. 33. 27.  6.  7. 12.  8.  8. 11. 14.  1.  8. 21.  3.  0.]\n",
      " [13. 26. 17.  8.  1. 11.  5.  1.  6. 18.  1.  5. 19.  0.  0.]\n",
      " [ 2. 34. 31.  2. 18. 10.  3.  5. 10. 18.  1.  2. 12. 18.  0.]\n",
      " [ 1. 37. 35.  1.  8. 23.  4.  0. 18. 18.  0.  2. 12. 22.  0.]\n",
      " [15. 24. 11. 10.  8.  2.  1.  1.  8. 12.  0.  2. 10.  7.  2.]\n",
      " [20. 18.  9.  9.  6.  2.  1.  0.  4. 14.  1.  0.  5. 11.  1.]\n",
      " [22. 12.  4.  7.  0.  3.  1.  2.  7.  2.  0.  2.  9.  0.  0.]\n",
      " [ 7. 32. 12. 19.  3.  8.  1. 16.  6.  9.  0.  2. 21.  6.  2.]\n",
      " [ 1. 35. 34.  0. 18. 13.  3.  1.  3. 30.  0.  0. 12. 21.  1.]\n",
      " [11. 21.  4. 17.  1.  1.  2.  0.  1. 20.  0.  0.  3.  8. 10.]\n",
      " [29. 48. 34. 12.  9. 17.  8.  4. 28. 14.  1.  0.  8. 34.  3.]\n",
      " [21. 16.  8.  8.  0.  5.  3.  4.  7.  5.  1.  4.  8.  3.  0.]\n",
      " [20. 18. 11.  7.  5.  5.  1.  0.  9.  9.  0.  0.  6. 10.  2.]\n",
      " [ 1. 36. 35.  0. 25. 10.  0.  3.  4. 28.  0.  0.  0. 35.  0.]\n",
      " [22. 15.  4. 10.  0.  3.  1. 10.  2.  2.  0.  4.  9.  1.  0.]\n",
      " [11. 25. 22.  3. 12.  9.  1.  3.  8. 14.  0.  0.  3. 22.  0.]\n",
      " [ 0. 40. 39.  0. 33.  5.  1.  6. 17. 16.  0.  0.  7. 31.  1.]\n",
      " [ 1. 37. 34.  1.  5. 25.  4.  1. 14. 20.  0.  0.  0. 31.  4.]\n",
      " [16. 22. 16.  6. 14.  2.  0.  0.  6. 16.  0.  2.  5. 14.  1.]\n",
      " [ 3. 39. 35.  3.  5. 25.  5.  8. 19. 11.  0.  0.  3. 32.  3.]]\n"
     ]
    }
   ],
   "source": [
    "for batch_x, batch_y in test_dataset:\n",
    "    print(batch_y.numpy())\n",
    "    break"
   ]
  },
  {
   "cell_type": "code",
   "execution_count": 21,
   "metadata": {},
   "outputs": [
    {
     "data": {
      "text/plain": [
       "(3000, 15)"
      ]
     },
     "execution_count": 21,
     "metadata": {},
     "output_type": "execute_result"
    }
   ],
   "source": [
    "labels = np.concatenate([batch_y for (_, batch_y) in test_dataset], axis=0)\n",
    "labels.shape"
   ]
  },
  {
   "cell_type": "code",
   "execution_count": 22,
   "metadata": {},
   "outputs": [
    {
     "data": {
      "text/plain": [
       "<matplotlib.legend.Legend at 0x7f1beaf3f550>"
      ]
     },
     "execution_count": 22,
     "metadata": {},
     "output_type": "execute_result"
    }
   ],
   "source": [
    "fig, ax = plt.subplots()\n",
    "ax.hist(predictions[:, 0], alpha=0.5, label='Predictions', density=True)\n",
    "ax.hist(labels[:, 0] / labels[:, :2].sum(axis=1), alpha=0.5, label='Labels', density=True)\n",
    "plt.legend()"
   ]
  },
  {
   "cell_type": "code",
   "execution_count": 23,
   "metadata": {},
   "outputs": [
    {
     "name": "stdout",
     "output_type": "stream",
     "text": [
      "0.0011355771 0.0\n",
      "0.7831212 129.0\n"
     ]
    }
   ],
   "source": [
    "print(predictions[:, 0].min(), labels[:, 0].min())\n",
    "print(predictions[:, 0].max(), labels[:, 0].max())"
   ]
  },
  {
   "cell_type": "code",
   "execution_count": 24,
   "metadata": {},
   "outputs": [
    {
     "name": "stdout",
     "output_type": "stream",
     "text": [
      "{smooth-or-featured, indices 0 to 1, asked after None: (0, 1), has-spiral-arms, indices 2 to 3, asked after <zoobot.estimators.losses.Answer object at 0x7f1b3d286e50>: (2, 3), spiral-winding, indices 4 to 6, asked after <zoobot.estimators.losses.Answer object at 0x7f1b3d286d90>: (4, 6), bar, indices 7 to 9, asked after <zoobot.estimators.losses.Answer object at 0x7f1b3d286e50>: (7, 9), bulge-size, indices 10 to 14, asked after <zoobot.estimators.losses.Answer object at 0x7f1b3d286e50>: (10, 14)}\n"
     ]
    }
   ],
   "source": [
    "questions = [\n",
    "    'smooth-or-featured',\n",
    "    'has-spiral-arms',\n",
    "    'spiral-winding',\n",
    "    'bar',\n",
    "    'bulge-size'\n",
    "]\n",
    "\n",
    "# will load labels from shard, in this order\n",
    "# will predict all label columns, in this order\n",
    "label_cols = [\n",
    "    'smooth-or-featured_smooth',\n",
    "    'smooth-or-featured_featured-or-disk',\n",
    "    'has-spiral-arms_yes',\n",
    "    'has-spiral-arms_no',\n",
    "    'spiral-winding_tight',\n",
    "    'spiral-winding_medium',\n",
    "    'spiral-winding_loose',\n",
    "    'bar_strong',\n",
    "    'bar_weak',\n",
    "    'bar_no',\n",
    "    'bulge-size_dominant',\n",
    "    'bulge-size_large',\n",
    "    'bulge-size_moderate',\n",
    "    'bulge-size_small',\n",
    "    'bulge-size_none'\n",
    "]\n",
    "\n",
    "schema = losses.Schema(label_cols, questions)"
   ]
  },
  {
   "cell_type": "code",
   "execution_count": 25,
   "metadata": {},
   "outputs": [
    {
     "data": {
      "text/plain": [
       "[array([1., 1., 1., 1., 1., 1., 1., 1., 1., 1., 1., 1.]),\n",
       " array([1., 1., 1., 1., 1., 1., 1., 1., 1., 1., 1., 1., 1.])]"
      ]
     },
     "execution_count": 25,
     "metadata": {},
     "output_type": "execute_result"
    }
   ],
   "source": [
    "[np.ones(12), np.ones(13)]"
   ]
  },
  {
   "cell_type": "code",
   "execution_count": 26,
   "metadata": {},
   "outputs": [
    {
     "data": {
      "text/plain": [
       "[smooth-or-featured, indices 0 to 1, asked after None,\n",
       " has-spiral-arms, indices 2 to 3, asked after <zoobot.estimators.losses.Answer object at 0x7f1b3d286e50>,\n",
       " spiral-winding, indices 4 to 6, asked after <zoobot.estimators.losses.Answer object at 0x7f1b3d286d90>,\n",
       " bar, indices 7 to 9, asked after <zoobot.estimators.losses.Answer object at 0x7f1b3d286e50>,\n",
       " bulge-size, indices 10 to 14, asked after <zoobot.estimators.losses.Answer object at 0x7f1b3d286e50>]"
      ]
     },
     "execution_count": 26,
     "metadata": {},
     "output_type": "execute_result"
    }
   ],
   "source": [
    "schema.questions"
   ]
  },
  {
   "cell_type": "code",
   "execution_count": 27,
   "metadata": {},
   "outputs": [
    {
     "data": {
      "text/plain": [
       "(3000, 15, 10)"
      ]
     },
     "execution_count": 27,
     "metadata": {},
     "output_type": "execute_result"
    }
   ],
   "source": [
    "predictions.shape"
   ]
  },
  {
   "cell_type": "code",
   "execution_count": 103,
   "metadata": {},
   "outputs": [],
   "source": [
    "acquisitions = acquisition_utils.mutual_info_acquisition_func_multiq(predictions, schema, retirement=40)"
   ]
  },
  {
   "cell_type": "code",
   "execution_count": null,
   "metadata": {},
   "outputs": [],
   "source": [
    "acquisitions.shape"
   ]
  },
  {
   "cell_type": "code",
   "execution_count": 59,
   "metadata": {},
   "outputs": [
    {
     "data": {
      "text/plain": [
       "array([[0.20862834, 0.29740119, 0.27880279, ..., 0.21985868, 0.15542965,\n",
       "        0.14275306],\n",
       "       [0.20862838, 0.29740123, 0.27880283, ..., 0.21985863, 0.15542967,\n",
       "        0.14275309],\n",
       "       [0.32989444, 0.45954588, 0.31294316, ..., 0.27461486, 0.15823927,\n",
       "        0.31965007],\n",
       "       ...,\n",
       "       [0.0343687 , 0.02446134, 0.15760891, ..., 0.12666556, 0.18491837,\n",
       "        0.19205809],\n",
       "       [0.1005033 , 0.04032477, 0.20806837, ..., 0.09526883, 0.07083213,\n",
       "        0.12252146],\n",
       "       [0.00872393, 0.04900534, 0.0327565 , ..., 0.15817884, 0.01634649,\n",
       "        0.36885604]])"
      ]
     },
     "execution_count": 59,
     "metadata": {},
     "output_type": "execute_result"
    }
   ],
   "source": [
    "acquisitions"
   ]
  },
  {
   "cell_type": "code",
   "execution_count": 56,
   "metadata": {},
   "outputs": [],
   "source": [
    "single_q_acquisitions = np.array(acquisition_utils.mutual_info_acquisition_func(predictions[:, 0], expected_votes=40))"
   ]
  },
  {
   "cell_type": "code",
   "execution_count": 67,
   "metadata": {},
   "outputs": [
    {
     "data": {
      "text/plain": [
       "{smooth-or-featured, indices 0 to 1, asked after None: (0, 1),\n",
       " has-spiral-arms, indices 2 to 3, asked after <zoobot.estimators.losses.Answer object at 0x7f1b3d286e50>: (2,\n",
       "  3),\n",
       " spiral-winding, indices 4 to 6, asked after <zoobot.estimators.losses.Answer object at 0x7f1b3d286d90>: (4,\n",
       "  6),\n",
       " bar, indices 7 to 9, asked after <zoobot.estimators.losses.Answer object at 0x7f1b3d286e50>: (7,\n",
       "  9),\n",
       " bulge-size, indices 10 to 14, asked after <zoobot.estimators.losses.Answer object at 0x7f1b3d286e50>: (10,\n",
       "  14)}"
      ]
     },
     "execution_count": 67,
     "metadata": {},
     "output_type": "execute_result"
    }
   ],
   "source": [
    "schema.named_index_groups"
   ]
  },
  {
   "cell_type": "code",
   "execution_count": 57,
   "metadata": {},
   "outputs": [
    {
     "data": {
      "text/plain": [
       "(3000,)"
      ]
     },
     "execution_count": 57,
     "metadata": {},
     "output_type": "execute_result"
    }
   ],
   "source": [
    "single_q_acquisitions.shape"
   ]
  },
  {
   "cell_type": "code",
   "execution_count": 62,
   "metadata": {},
   "outputs": [
    {
     "data": {
      "text/plain": [
       "(array([0.20862834, 0.29740119, 0.27880279, 0.19704377, 0.2409442 ]),\n",
       " array([0.20862834, 0.29740119, 0.27880279, 0.19704377, 0.2409442 ]),\n",
       " array([0.20862838, 0.29740123, 0.27880283, 0.19704379, 0.2409443 ]))"
      ]
     },
     "execution_count": 62,
     "metadata": {},
     "output_type": "execute_result"
    }
   ],
   "source": [
    "single_q_acquisitions[:5], acquisitions[0, :5], acquisitions[1, :5]  # smooth mutual acq should be identical, for both answers by symmmetry"
   ]
  },
  {
   "cell_type": "code",
   "execution_count": 64,
   "metadata": {},
   "outputs": [
    {
     "data": {
      "text/plain": [
       "(array([0.32989444, 0.45954588, 0.31294316, 0.20919655, 0.26870684]),\n",
       " array([0.32989443, 0.45954586, 0.31294321, 0.20919683, 0.26870686]))"
      ]
     },
     "execution_count": 64,
     "metadata": {},
     "output_type": "execute_result"
    }
   ],
   "source": [
    "acquisitions[2, :5], acquisitions[3, :5]  # has-spiral-arms also by symmetry"
   ]
  },
  {
   "cell_type": "code",
   "execution_count": 68,
   "metadata": {},
   "outputs": [
    {
     "data": {
      "text/plain": [
       "(array([0.08391296, 0.03665699, 0.0886729 , 0.11334952, 0.04709457]),\n",
       " array([0.02729164, 0.00917715, 0.04794962, 0.09453026, 0.02857872]),\n",
       " array([0.04532028, 0.04689237, 0.04532356, 0.05627989, 0.01320041]))"
      ]
     },
     "execution_count": 68,
     "metadata": {},
     "output_type": "execute_result"
    }
   ],
   "source": [
    "acquisitions[4, :5], acquisitions[5, :5], acquisitions[6, :5]  # but for spiral winding there are 3 answers so *not* identical"
   ]
  },
  {
   "cell_type": "code",
   "execution_count": 101,
   "metadata": {},
   "outputs": [
    {
     "data": {
      "text/plain": [
       "((3000, 15, 10), (15, 3000), 3000)"
      ]
     },
     "execution_count": 101,
     "metadata": {},
     "output_type": "execute_result"
    }
   ],
   "source": [
    "predictions.shape, acquisitions.shape, len(id_strs)"
   ]
  },
  {
   "cell_type": "code",
   "execution_count": 153,
   "metadata": {},
   "outputs": [],
   "source": [
    "def prediction_to_row(prediction, acquisition, id_str):\n",
    "    row = {\n",
    "        'id_str': id_str\n",
    "    }\n",
    "    for n, col in enumerate(label_cols):\n",
    "        answer = label_cols[n]\n",
    "        row[answer + '_prediction'] = prediction[n]\n",
    "        row[answer + '_acquisition'] = acquisition[n]\n",
    "        row[answer + '_prediction_mean'] = float(prediction[n].mean())\n",
    "        row[answer + '_acquisition'] = acquisition[n]\n",
    "        row['total_acquisition'] = acquisition.sum()\n",
    "    return row"
   ]
  },
  {
   "cell_type": "code",
   "execution_count": 154,
   "metadata": {},
   "outputs": [],
   "source": [
    "data = [prediction_to_row(predictions[n], acquisitions[n], id_strs[n]) for n in range(len(predictions))]\n",
    "predictions_df = pd.DataFrame(data)"
   ]
  },
  {
   "cell_type": "code",
   "execution_count": 155,
   "metadata": {},
   "outputs": [
    {
     "data": {
      "text/html": [
       "<div>\n",
       "<style scoped>\n",
       "    .dataframe tbody tr th:only-of-type {\n",
       "        vertical-align: middle;\n",
       "    }\n",
       "\n",
       "    .dataframe tbody tr th {\n",
       "        vertical-align: top;\n",
       "    }\n",
       "\n",
       "    .dataframe thead th {\n",
       "        text-align: right;\n",
       "    }\n",
       "</style>\n",
       "<table border=\"1\" class=\"dataframe\">\n",
       "  <thead>\n",
       "    <tr style=\"text-align: right;\">\n",
       "      <th></th>\n",
       "      <th>id_str</th>\n",
       "      <th>smooth-or-featured_smooth_prediction</th>\n",
       "      <th>smooth-or-featured_smooth_acquisition</th>\n",
       "      <th>smooth-or-featured_smooth_prediction_mean</th>\n",
       "      <th>total_acquisition</th>\n",
       "      <th>smooth-or-featured_featured-or-disk_prediction</th>\n",
       "      <th>smooth-or-featured_featured-or-disk_acquisition</th>\n",
       "      <th>smooth-or-featured_featured-or-disk_prediction_mean</th>\n",
       "      <th>has-spiral-arms_yes_prediction</th>\n",
       "      <th>has-spiral-arms_yes_acquisition</th>\n",
       "      <th>...</th>\n",
       "      <th>bulge-size_large_prediction_mean</th>\n",
       "      <th>bulge-size_moderate_prediction</th>\n",
       "      <th>bulge-size_moderate_acquisition</th>\n",
       "      <th>bulge-size_moderate_prediction_mean</th>\n",
       "      <th>bulge-size_small_prediction</th>\n",
       "      <th>bulge-size_small_acquisition</th>\n",
       "      <th>bulge-size_small_prediction_mean</th>\n",
       "      <th>bulge-size_none_prediction</th>\n",
       "      <th>bulge-size_none_acquisition</th>\n",
       "      <th>bulge-size_none_prediction_mean</th>\n",
       "    </tr>\n",
       "  </thead>\n",
       "  <tbody>\n",
       "    <tr>\n",
       "      <th>0</th>\n",
       "      <td>J224844.07+170151.1</td>\n",
       "      <td>[0.49333224, 0.5264563, 0.4956327, 0.47158065,...</td>\n",
       "      <td>0.208628</td>\n",
       "      <td>0.486091</td>\n",
       "      <td>1.681395</td>\n",
       "      <td>[0.5066678, 0.4735437, 0.5043673, 0.5284194, 0...</td>\n",
       "      <td>0.208628</td>\n",
       "      <td>0.513909</td>\n",
       "      <td>[0.6205298, 0.571885, 0.686062, 0.7807885, 0.7...</td>\n",
       "      <td>0.329894</td>\n",
       "      <td>...</td>\n",
       "      <td>0.126900</td>\n",
       "      <td>[0.6139363, 0.5567187, 0.584058, 0.5262548, 0....</td>\n",
       "      <td>0.034369</td>\n",
       "      <td>0.579971</td>\n",
       "      <td>[0.21819551, 0.27732334, 0.22935092, 0.3581047...</td>\n",
       "      <td>0.100503</td>\n",
       "      <td>0.244910</td>\n",
       "      <td>[0.013018016, 0.02522339, 0.01664927, 0.020853...</td>\n",
       "      <td>0.008724</td>\n",
       "      <td>0.019232</td>\n",
       "    </tr>\n",
       "    <tr>\n",
       "      <th>1</th>\n",
       "      <td>J104246.30+031226.2</td>\n",
       "      <td>[0.55133706, 0.50066274, 0.4947316, 0.63381946...</td>\n",
       "      <td>0.297401</td>\n",
       "      <td>0.500009</td>\n",
       "      <td>1.967434</td>\n",
       "      <td>[0.44866288, 0.49933726, 0.5052684, 0.36618054...</td>\n",
       "      <td>0.297401</td>\n",
       "      <td>0.499991</td>\n",
       "      <td>[0.49914318, 0.7616962, 0.64079475, 0.510167, ...</td>\n",
       "      <td>0.459546</td>\n",
       "      <td>...</td>\n",
       "      <td>0.059813</td>\n",
       "      <td>[0.3762123, 0.40098393, 0.36548764, 0.37701485...</td>\n",
       "      <td>0.024461</td>\n",
       "      <td>0.362793</td>\n",
       "      <td>[0.51242024, 0.48183507, 0.45916402, 0.4608878...</td>\n",
       "      <td>0.040325</td>\n",
       "      <td>0.470813</td>\n",
       "      <td>[0.058737613, 0.048151053, 0.0936679, 0.062748...</td>\n",
       "      <td>0.049005</td>\n",
       "      <td>0.084034</td>\n",
       "    </tr>\n",
       "    <tr>\n",
       "      <th>2</th>\n",
       "      <td>J143952.90-001925.4</td>\n",
       "      <td>[0.22298491, 0.19184615, 0.18465021, 0.2159828...</td>\n",
       "      <td>0.278803</td>\n",
       "      <td>0.258827</td>\n",
       "      <td>1.890342</td>\n",
       "      <td>[0.7770151, 0.80815387, 0.81534976, 0.78401715...</td>\n",
       "      <td>0.278803</td>\n",
       "      <td>0.741173</td>\n",
       "      <td>[0.9280623, 0.92364717, 0.8959794, 0.8645305, ...</td>\n",
       "      <td>0.312943</td>\n",
       "      <td>...</td>\n",
       "      <td>0.041147</td>\n",
       "      <td>[0.5585494, 0.5274871, 0.58201444, 0.5659715, ...</td>\n",
       "      <td>0.157609</td>\n",
       "      <td>0.521774</td>\n",
       "      <td>[0.36456895, 0.43314785, 0.34329855, 0.3803579...</td>\n",
       "      <td>0.208068</td>\n",
       "      <td>0.413869</td>\n",
       "      <td>[0.009340882, 0.0072707455, 0.010822257, 0.008...</td>\n",
       "      <td>0.032757</td>\n",
       "      <td>0.012827</td>\n",
       "    </tr>\n",
       "    <tr>\n",
       "      <th>3</th>\n",
       "      <td>J113855.91-024452.3</td>\n",
       "      <td>[0.09693279, 0.09240318, 0.1026969, 0.04287319...</td>\n",
       "      <td>0.197044</td>\n",
       "      <td>0.077395</td>\n",
       "      <td>2.411497</td>\n",
       "      <td>[0.90306723, 0.9075968, 0.89730304, 0.95712686...</td>\n",
       "      <td>0.197044</td>\n",
       "      <td>0.922605</td>\n",
       "      <td>[0.96403784, 0.9599584, 0.9202997, 0.98349077,...</td>\n",
       "      <td>0.209197</td>\n",
       "      <td>...</td>\n",
       "      <td>0.009799</td>\n",
       "      <td>[0.1855586, 0.28382158, 0.19716321, 0.27474037...</td>\n",
       "      <td>0.116950</td>\n",
       "      <td>0.251536</td>\n",
       "      <td>[0.77641493, 0.6621835, 0.75591004, 0.6797888,...</td>\n",
       "      <td>0.116815</td>\n",
       "      <td>0.707333</td>\n",
       "      <td>[0.02655003, 0.040866718, 0.029073028, 0.02563...</td>\n",
       "      <td>0.069017</td>\n",
       "      <td>0.025778</td>\n",
       "    </tr>\n",
       "    <tr>\n",
       "      <th>4</th>\n",
       "      <td>J143037.53-014514.3</td>\n",
       "      <td>[0.43528113, 0.44516835, 0.3539564, 0.45112154...</td>\n",
       "      <td>0.240944</td>\n",
       "      <td>0.437941</td>\n",
       "      <td>1.599642</td>\n",
       "      <td>[0.56471884, 0.5548317, 0.64604354, 0.54887843...</td>\n",
       "      <td>0.240944</td>\n",
       "      <td>0.562059</td>\n",
       "      <td>[0.69379324, 0.7305028, 0.81205684, 0.6400081,...</td>\n",
       "      <td>0.268707</td>\n",
       "      <td>...</td>\n",
       "      <td>0.011102</td>\n",
       "      <td>[0.1118396, 0.19561791, 0.16903256, 0.12841101...</td>\n",
       "      <td>0.106887</td>\n",
       "      <td>0.171454</td>\n",
       "      <td>[0.7536261, 0.7325473, 0.6856994, 0.71109986, ...</td>\n",
       "      <td>0.061889</td>\n",
       "      <td>0.710091</td>\n",
       "      <td>[0.117780454, 0.051234502, 0.12446839, 0.14291...</td>\n",
       "      <td>0.114257</td>\n",
       "      <td>0.097118</td>\n",
       "    </tr>\n",
       "  </tbody>\n",
       "</table>\n",
       "<p>5 rows × 47 columns</p>\n",
       "</div>"
      ],
      "text/plain": [
       "                id_str               smooth-or-featured_smooth_prediction  \\\n",
       "0  J224844.07+170151.1  [0.49333224, 0.5264563, 0.4956327, 0.47158065,...   \n",
       "1  J104246.30+031226.2  [0.55133706, 0.50066274, 0.4947316, 0.63381946...   \n",
       "2  J143952.90-001925.4  [0.22298491, 0.19184615, 0.18465021, 0.2159828...   \n",
       "3  J113855.91-024452.3  [0.09693279, 0.09240318, 0.1026969, 0.04287319...   \n",
       "4  J143037.53-014514.3  [0.43528113, 0.44516835, 0.3539564, 0.45112154...   \n",
       "\n",
       "   smooth-or-featured_smooth_acquisition  \\\n",
       "0                               0.208628   \n",
       "1                               0.297401   \n",
       "2                               0.278803   \n",
       "3                               0.197044   \n",
       "4                               0.240944   \n",
       "\n",
       "   smooth-or-featured_smooth_prediction_mean  total_acquisition  \\\n",
       "0                                   0.486091           1.681395   \n",
       "1                                   0.500009           1.967434   \n",
       "2                                   0.258827           1.890342   \n",
       "3                                   0.077395           2.411497   \n",
       "4                                   0.437941           1.599642   \n",
       "\n",
       "      smooth-or-featured_featured-or-disk_prediction  \\\n",
       "0  [0.5066678, 0.4735437, 0.5043673, 0.5284194, 0...   \n",
       "1  [0.44866288, 0.49933726, 0.5052684, 0.36618054...   \n",
       "2  [0.7770151, 0.80815387, 0.81534976, 0.78401715...   \n",
       "3  [0.90306723, 0.9075968, 0.89730304, 0.95712686...   \n",
       "4  [0.56471884, 0.5548317, 0.64604354, 0.54887843...   \n",
       "\n",
       "   smooth-or-featured_featured-or-disk_acquisition  \\\n",
       "0                                         0.208628   \n",
       "1                                         0.297401   \n",
       "2                                         0.278803   \n",
       "3                                         0.197044   \n",
       "4                                         0.240944   \n",
       "\n",
       "   smooth-or-featured_featured-or-disk_prediction_mean  \\\n",
       "0                                           0.513909     \n",
       "1                                           0.499991     \n",
       "2                                           0.741173     \n",
       "3                                           0.922605     \n",
       "4                                           0.562059     \n",
       "\n",
       "                      has-spiral-arms_yes_prediction  \\\n",
       "0  [0.6205298, 0.571885, 0.686062, 0.7807885, 0.7...   \n",
       "1  [0.49914318, 0.7616962, 0.64079475, 0.510167, ...   \n",
       "2  [0.9280623, 0.92364717, 0.8959794, 0.8645305, ...   \n",
       "3  [0.96403784, 0.9599584, 0.9202997, 0.98349077,...   \n",
       "4  [0.69379324, 0.7305028, 0.81205684, 0.6400081,...   \n",
       "\n",
       "   has-spiral-arms_yes_acquisition  ...  bulge-size_large_prediction_mean  \\\n",
       "0                         0.329894  ...                          0.126900   \n",
       "1                         0.459546  ...                          0.059813   \n",
       "2                         0.312943  ...                          0.041147   \n",
       "3                         0.209197  ...                          0.009799   \n",
       "4                         0.268707  ...                          0.011102   \n",
       "\n",
       "                      bulge-size_moderate_prediction  \\\n",
       "0  [0.6139363, 0.5567187, 0.584058, 0.5262548, 0....   \n",
       "1  [0.3762123, 0.40098393, 0.36548764, 0.37701485...   \n",
       "2  [0.5585494, 0.5274871, 0.58201444, 0.5659715, ...   \n",
       "3  [0.1855586, 0.28382158, 0.19716321, 0.27474037...   \n",
       "4  [0.1118396, 0.19561791, 0.16903256, 0.12841101...   \n",
       "\n",
       "   bulge-size_moderate_acquisition  bulge-size_moderate_prediction_mean  \\\n",
       "0                         0.034369                             0.579971   \n",
       "1                         0.024461                             0.362793   \n",
       "2                         0.157609                             0.521774   \n",
       "3                         0.116950                             0.251536   \n",
       "4                         0.106887                             0.171454   \n",
       "\n",
       "                         bulge-size_small_prediction  \\\n",
       "0  [0.21819551, 0.27732334, 0.22935092, 0.3581047...   \n",
       "1  [0.51242024, 0.48183507, 0.45916402, 0.4608878...   \n",
       "2  [0.36456895, 0.43314785, 0.34329855, 0.3803579...   \n",
       "3  [0.77641493, 0.6621835, 0.75591004, 0.6797888,...   \n",
       "4  [0.7536261, 0.7325473, 0.6856994, 0.71109986, ...   \n",
       "\n",
       "   bulge-size_small_acquisition  bulge-size_small_prediction_mean  \\\n",
       "0                      0.100503                          0.244910   \n",
       "1                      0.040325                          0.470813   \n",
       "2                      0.208068                          0.413869   \n",
       "3                      0.116815                          0.707333   \n",
       "4                      0.061889                          0.710091   \n",
       "\n",
       "                          bulge-size_none_prediction  \\\n",
       "0  [0.013018016, 0.02522339, 0.01664927, 0.020853...   \n",
       "1  [0.058737613, 0.048151053, 0.0936679, 0.062748...   \n",
       "2  [0.009340882, 0.0072707455, 0.010822257, 0.008...   \n",
       "3  [0.02655003, 0.040866718, 0.029073028, 0.02563...   \n",
       "4  [0.117780454, 0.051234502, 0.12446839, 0.14291...   \n",
       "\n",
       "   bulge-size_none_acquisition  bulge-size_none_prediction_mean  \n",
       "0                     0.008724                         0.019232  \n",
       "1                     0.049005                         0.084034  \n",
       "2                     0.032757                         0.012827  \n",
       "3                     0.069017                         0.025778  \n",
       "4                     0.114257                         0.097118  \n",
       "\n",
       "[5 rows x 47 columns]"
      ]
     },
     "execution_count": 155,
     "metadata": {},
     "output_type": "execute_result"
    }
   ],
   "source": [
    "predictions_df.head()"
   ]
  },
  {
   "cell_type": "code",
   "execution_count": 156,
   "metadata": {},
   "outputs": [
    {
     "data": {
      "text/plain": [
       "3000"
      ]
     },
     "execution_count": 156,
     "metadata": {},
     "output_type": "execute_result"
    }
   ],
   "source": [
    "predictions_df['iauname'] = predictions_df['id_str']\n",
    "df = pd.merge(catalog, predictions_df, how='inner', on='iauname')\n",
    "len(df)"
   ]
  },
  {
   "cell_type": "code",
   "execution_count": 157,
   "metadata": {},
   "outputs": [
    {
     "data": {
      "text/plain": [
       "array(['subject_id', 'bar_no', 'bar_strong', 'bar_weak',\n",
       "       'bulge-size_dominant', 'bulge-size_large', 'bulge-size_moderate',\n",
       "       'bulge-size_none', 'bulge-size_small', 'disk-edge-on_no',\n",
       "       'disk-edge-on_yes', 'edge-on-bulge_boxy', 'edge-on-bulge_none',\n",
       "       'edge-on-bulge_rounded', 'has-spiral-arms_no',\n",
       "       'has-spiral-arms_yes', 'how-rounded_cigar-shaped',\n",
       "       'how-rounded_in-between', 'how-rounded_round', 'merging_both-v1',\n",
       "       'merging_major-disturbance', 'merging_merger',\n",
       "       'merging_minor-disturbance', 'merging_neither-v1', 'merging_none',\n",
       "       'merging_tidal-debris-v1', 'smooth-or-featured_artifact',\n",
       "       'smooth-or-featured_featured-or-disk', 'smooth-or-featured_smooth',\n",
       "       'spiral-arm-count_1', 'spiral-arm-count_2', 'spiral-arm-count_3',\n",
       "       'spiral-arm-count_4', 'spiral-arm-count_cant-tell',\n",
       "       'spiral-arm-count_more-than-4', 'spiral-winding_loose',\n",
       "       'spiral-winding_medium', 'spiral-winding_tight',\n",
       "       'smooth-or-featured_total-votes', 'how-rounded_total-votes',\n",
       "       'disk-edge-on_total-votes', 'edge-on-bulge_total-votes',\n",
       "       'bar_total-votes', 'has-spiral-arms_total-votes',\n",
       "       'spiral-winding_total-votes', 'spiral-arm-count_total-votes',\n",
       "       'bulge-size_total-votes', 'merging_total-votes',\n",
       "       'smooth-or-featured_smooth_fraction',\n",
       "       'smooth-or-featured_featured-or-disk_fraction',\n",
       "       'smooth-or-featured_artifact_fraction',\n",
       "       'how-rounded_round_fraction', 'how-rounded_in-between_fraction',\n",
       "       'how-rounded_cigar-shaped_fraction', 'disk-edge-on_yes_fraction',\n",
       "       'disk-edge-on_no_fraction', 'edge-on-bulge_rounded_fraction',\n",
       "       'edge-on-bulge_boxy_fraction', 'edge-on-bulge_none_fraction',\n",
       "       'bar_strong_fraction', 'bar_weak_fraction', 'bar_no_fraction',\n",
       "       'has-spiral-arms_yes_fraction', 'has-spiral-arms_no_fraction',\n",
       "       'spiral-winding_tight_fraction', 'spiral-winding_medium_fraction',\n",
       "       'spiral-winding_loose_fraction', 'spiral-arm-count_1_fraction',\n",
       "       'spiral-arm-count_2_fraction', 'spiral-arm-count_3_fraction',\n",
       "       'spiral-arm-count_4_fraction',\n",
       "       'spiral-arm-count_more-than-4_fraction',\n",
       "       'spiral-arm-count_cant-tell_fraction', 'bulge-size_none_fraction',\n",
       "       'bulge-size_small_fraction', 'bulge-size_moderate_fraction',\n",
       "       'bulge-size_large_fraction', 'bulge-size_dominant_fraction',\n",
       "       'merging_merger_fraction', 'merging_tidal-debris-v1_fraction',\n",
       "       'merging_both-v1_fraction', 'merging_neither-v1_fraction',\n",
       "       'merging_major-disturbance_fraction',\n",
       "       'merging_minor-disturbance_fraction', 'merging_none_fraction',\n",
       "       'iauname', 'retirement_limit', 'subject_url', 'upload_date',\n",
       "       'uploader', 'png_loc', 'id_str',\n",
       "       'smooth-or-featured_smooth_prediction',\n",
       "       'smooth-or-featured_smooth_acquisition',\n",
       "       'smooth-or-featured_smooth_prediction_mean', 'total_acquisition',\n",
       "       'smooth-or-featured_featured-or-disk_prediction',\n",
       "       'smooth-or-featured_featured-or-disk_acquisition',\n",
       "       'smooth-or-featured_featured-or-disk_prediction_mean',\n",
       "       'has-spiral-arms_yes_prediction',\n",
       "       'has-spiral-arms_yes_acquisition',\n",
       "       'has-spiral-arms_yes_prediction_mean',\n",
       "       'has-spiral-arms_no_prediction', 'has-spiral-arms_no_acquisition',\n",
       "       'has-spiral-arms_no_prediction_mean',\n",
       "       'spiral-winding_tight_prediction',\n",
       "       'spiral-winding_tight_acquisition',\n",
       "       'spiral-winding_tight_prediction_mean',\n",
       "       'spiral-winding_medium_prediction',\n",
       "       'spiral-winding_medium_acquisition',\n",
       "       'spiral-winding_medium_prediction_mean',\n",
       "       'spiral-winding_loose_prediction',\n",
       "       'spiral-winding_loose_acquisition',\n",
       "       'spiral-winding_loose_prediction_mean', 'bar_strong_prediction',\n",
       "       'bar_strong_acquisition', 'bar_strong_prediction_mean',\n",
       "       'bar_weak_prediction', 'bar_weak_acquisition',\n",
       "       'bar_weak_prediction_mean', 'bar_no_prediction',\n",
       "       'bar_no_acquisition', 'bar_no_prediction_mean',\n",
       "       'bulge-size_dominant_prediction',\n",
       "       'bulge-size_dominant_acquisition',\n",
       "       'bulge-size_dominant_prediction_mean',\n",
       "       'bulge-size_large_prediction', 'bulge-size_large_acquisition',\n",
       "       'bulge-size_large_prediction_mean',\n",
       "       'bulge-size_moderate_prediction',\n",
       "       'bulge-size_moderate_acquisition',\n",
       "       'bulge-size_moderate_prediction_mean',\n",
       "       'bulge-size_small_prediction', 'bulge-size_small_acquisition',\n",
       "       'bulge-size_small_prediction_mean', 'bulge-size_none_prediction',\n",
       "       'bulge-size_none_acquisition', 'bulge-size_none_prediction_mean'],\n",
       "      dtype=object)"
      ]
     },
     "execution_count": 157,
     "metadata": {},
     "output_type": "execute_result"
    }
   ],
   "source": [
    "df.columns.values"
   ]
  },
  {
   "cell_type": "code",
   "execution_count": 158,
   "metadata": {},
   "outputs": [
    {
     "data": {
      "text/plain": [
       "0       https://panoptes-uploads.zooniverse.org/produc...\n",
       "1       https://panoptes-uploads.zooniverse.org/produc...\n",
       "2       https://panoptes-uploads.zooniverse.org/produc...\n",
       "3       https://panoptes-uploads.zooniverse.org/produc...\n",
       "4       https://panoptes-uploads.zooniverse.org/produc...\n",
       "                              ...                        \n",
       "2995    https://panoptes-uploads.zooniverse.org/produc...\n",
       "2996    https://panoptes-uploads.zooniverse.org/produc...\n",
       "2997    https://panoptes-uploads.zooniverse.org/produc...\n",
       "2998    https://panoptes-uploads.zooniverse.org/produc...\n",
       "2999    https://panoptes-uploads.zooniverse.org/produc...\n",
       "Name: subject_url, Length: 3000, dtype: object"
      ]
     },
     "execution_count": 158,
     "metadata": {},
     "output_type": "execute_result"
    }
   ],
   "source": [
    "df['subject_url']"
   ]
  },
  {
   "cell_type": "code",
   "execution_count": 159,
   "metadata": {},
   "outputs": [],
   "source": [
    "df['file_loc'] = df['png_loc'].apply(lambda x: '/media/walml/beta/decals/png_native' + x[32:])"
   ]
  },
  {
   "cell_type": "code",
   "execution_count": 160,
   "metadata": {},
   "outputs": [
    {
     "data": {
      "text/plain": [
       "0       /media/walml/beta/decals/png_native/dr5/J095/J...\n",
       "1       /media/walml/beta/decals/png_native/dr5/J004/J...\n",
       "2       /media/walml/beta/decals/png_native/dr5/J104/J...\n",
       "3       /media/walml/beta/decals/png_native/dr5/J010/J...\n",
       "4       /media/walml/beta/decals/png_native/dr5/J133/J...\n",
       "                              ...                        \n",
       "2995    /media/walml/beta/decals/png_native/dr5/J141/J...\n",
       "2996    /media/walml/beta/decals/png_native/dr5/J115/J...\n",
       "2997    /media/walml/beta/decals/png_native/dr5/J171/J...\n",
       "2998    /media/walml/beta/decals/png_native/dr5/J024/J...\n",
       "2999    /media/walml/beta/decals/png_native/dr5/J113/J...\n",
       "Name: file_loc, Length: 3000, dtype: object"
      ]
     },
     "execution_count": 160,
     "metadata": {},
     "output_type": "execute_result"
    }
   ],
   "source": [
    "df['file_loc']"
   ]
  },
  {
   "cell_type": "code",
   "execution_count": 233,
   "metadata": {},
   "outputs": [],
   "source": [
    "# copied from trust_the_model.ipynb\n",
    "def show_galaxies(df, scale=3, nrows=3, ncols=3):\n",
    "    fig = plt.gcf()\n",
    "\n",
    "    plt.figure(figsize=(scale * nrows, scale * ncols * 1.025))\n",
    "    gs1 = gridspec.GridSpec(nrows, ncols)\n",
    "    gs1.update(wspace=0.0, hspace=0.0)\n",
    "    galaxy_n = 0\n",
    "    for row_n in range(nrows):\n",
    "        for col_n in range(ncols):\n",
    "            galaxy = df.iloc[galaxy_n]\n",
    "            image = Image.open(galaxy['file_loc'])\n",
    "            ax = plt.subplot(gs1[row_n, col_n])\n",
    "            ax.imshow(image)\n",
    "#             ax.text(10, 20, 'Smooth = {:.2f}'.format(galaxy['smooth-or-featured_smooth_fraction']), fontsize=12, color='r')\n",
    "#             ax.text(10, 50, r'$\\rho = {:.2f}$, Var ${:.3f}$'.format(galaxy['median_prediction'], 3*galaxy['predictions_var']), fontsize=12, color='r')\n",
    "#             ax.text(10, 80, '$L = {:.2f}$'.format(galaxy['bcnn_likelihood']), fontsize=12, color='r')\n",
    "            ax.axis('off')\n",
    "            galaxy_n += 1\n",
    "#     print('Mean L: {:.2f}'.format(df[:nrows * ncols]['bcnn_likelihood'].mean()))\n",
    "    fig = plt.gcf()\n",
    "#     fig.tight_layout()\n",
    "    return fig\n"
   ]
  },
  {
   "cell_type": "code",
   "execution_count": 236,
   "metadata": {},
   "outputs": [
    {
     "name": "stderr",
     "output_type": "stream",
     "text": [
      "/home/walml/anaconda3/envs/zoobot/lib/python3.7/site-packages/ipykernel_launcher.py:5: RuntimeWarning: More than 20 figures have been opened. Figures created through the pyplot interface (`matplotlib.pyplot.figure`) are retained until explicitly closed and may consume too much memory. (To control this warning, see the rcParam `figure.max_open_warning`).\n",
      "  \"\"\"\n"
     ]
    }
   ],
   "source": [
    "fig = show_galaxies(df.sort_values('bulge-size_none_prediction_mean', ascending=False)[:9])\n",
    "fig.savefig('results/temp/bulge_size_none.png')\n",
    "plt.close()"
   ]
  },
  {
   "cell_type": "code",
   "execution_count": 237,
   "metadata": {},
   "outputs": [
    {
     "name": "stderr",
     "output_type": "stream",
     "text": [
      "/home/walml/anaconda3/envs/zoobot/lib/python3.7/site-packages/ipykernel_launcher.py:5: RuntimeWarning: More than 20 figures have been opened. Figures created through the pyplot interface (`matplotlib.pyplot.figure`) are retained until explicitly closed and may consume too much memory. (To control this warning, see the rcParam `figure.max_open_warning`).\n",
      "  \"\"\"\n"
     ]
    }
   ],
   "source": [
    "fig = show_galaxies(df.sort_values('bulge-size_moderate_prediction_mean', ascending=False)[:9])\n",
    "fig.savefig('results/temp/bulge_size_moderate.png')\n",
    "plt.close()"
   ]
  },
  {
   "cell_type": "code",
   "execution_count": 238,
   "metadata": {},
   "outputs": [
    {
     "name": "stderr",
     "output_type": "stream",
     "text": [
      "/home/walml/anaconda3/envs/zoobot/lib/python3.7/site-packages/ipykernel_launcher.py:5: RuntimeWarning: More than 20 figures have been opened. Figures created through the pyplot interface (`matplotlib.pyplot.figure`) are retained until explicitly closed and may consume too much memory. (To control this warning, see the rcParam `figure.max_open_warning`).\n",
      "  \"\"\"\n"
     ]
    }
   ],
   "source": [
    "fig = show_galaxies(df.sort_values('bulge-size_dominant_prediction_mean', ascending=False)[:9])\n",
    "fig.savefig('results/temp/bulge_size_dominant.png')\n",
    "plt.close()"
   ]
  },
  {
   "cell_type": "code",
   "execution_count": 239,
   "metadata": {},
   "outputs": [
    {
     "name": "stderr",
     "output_type": "stream",
     "text": [
      "/home/walml/anaconda3/envs/zoobot/lib/python3.7/site-packages/ipykernel_launcher.py:5: RuntimeWarning: More than 20 figures have been opened. Figures created through the pyplot interface (`matplotlib.pyplot.figure`) are retained until explicitly closed and may consume too much memory. (To control this warning, see the rcParam `figure.max_open_warning`).\n",
      "  \"\"\"\n"
     ]
    }
   ],
   "source": [
    "fig = show_galaxies(df.sort_values('has-spiral-arms_yes_prediction_mean', ascending=False)[:9])\n",
    "fig.savefig('results/temp/has-spiral-arms_yes.png')\n",
    "plt.close()"
   ]
  },
  {
   "cell_type": "code",
   "execution_count": 240,
   "metadata": {},
   "outputs": [
    {
     "name": "stderr",
     "output_type": "stream",
     "text": [
      "/home/walml/anaconda3/envs/zoobot/lib/python3.7/site-packages/ipykernel_launcher.py:5: RuntimeWarning: More than 20 figures have been opened. Figures created through the pyplot interface (`matplotlib.pyplot.figure`) are retained until explicitly closed and may consume too much memory. (To control this warning, see the rcParam `figure.max_open_warning`).\n",
      "  \"\"\"\n"
     ]
    }
   ],
   "source": [
    "fig = show_galaxies(df.sort_values('has-spiral-arms_no_prediction_mean', ascending=False)[:9])\n",
    "fig.savefig('results/temp/has-spiral-arms_no.png')\n",
    "plt.close()"
   ]
  },
  {
   "cell_type": "code",
   "execution_count": 241,
   "metadata": {},
   "outputs": [
    {
     "name": "stderr",
     "output_type": "stream",
     "text": [
      "/home/walml/anaconda3/envs/zoobot/lib/python3.7/site-packages/ipykernel_launcher.py:5: RuntimeWarning: More than 20 figures have been opened. Figures created through the pyplot interface (`matplotlib.pyplot.figure`) are retained until explicitly closed and may consume too much memory. (To control this warning, see the rcParam `figure.max_open_warning`).\n",
      "  \"\"\"\n"
     ]
    }
   ],
   "source": [
    "fig = show_galaxies(df[df['has-spiral-arms_yes_prediction_mean'] > 0.5].sort_values('spiral-winding_tight_prediction_mean', ascending=False)[:9])\n",
    "fig.savefig('results/temp/spiral-winding_tight.png')\n",
    "plt.close()"
   ]
  },
  {
   "cell_type": "code",
   "execution_count": 242,
   "metadata": {},
   "outputs": [
    {
     "name": "stderr",
     "output_type": "stream",
     "text": [
      "/home/walml/anaconda3/envs/zoobot/lib/python3.7/site-packages/ipykernel_launcher.py:5: RuntimeWarning: More than 20 figures have been opened. Figures created through the pyplot interface (`matplotlib.pyplot.figure`) are retained until explicitly closed and may consume too much memory. (To control this warning, see the rcParam `figure.max_open_warning`).\n",
      "  \"\"\"\n"
     ]
    }
   ],
   "source": [
    "fig = show_galaxies(df[df['has-spiral-arms_yes_prediction_mean'] > 0.5].sort_values('spiral-winding_loose_prediction_mean', ascending=False)[:9])\n",
    "fig.savefig('results/temp/spiral-winding_loose.png')\n",
    "plt.close()"
   ]
  },
  {
   "cell_type": "code",
   "execution_count": 243,
   "metadata": {},
   "outputs": [
    {
     "name": "stderr",
     "output_type": "stream",
     "text": [
      "/home/walml/anaconda3/envs/zoobot/lib/python3.7/site-packages/ipykernel_launcher.py:5: RuntimeWarning: More than 20 figures have been opened. Figures created through the pyplot interface (`matplotlib.pyplot.figure`) are retained until explicitly closed and may consume too much memory. (To control this warning, see the rcParam `figure.max_open_warning`).\n",
      "  \"\"\"\n"
     ]
    }
   ],
   "source": [
    "fig = show_galaxies(df[df['has-spiral-arms_yes_prediction_mean'] > 0.5].sort_values('spiral-winding_medium_prediction_mean', ascending=False)[:9])\n",
    "fig.savefig('results/temp/spiral-winding_medium.png')"
   ]
  },
  {
   "cell_type": "code",
   "execution_count": 244,
   "metadata": {},
   "outputs": [
    {
     "name": "stderr",
     "output_type": "stream",
     "text": [
      "/home/walml/anaconda3/envs/zoobot/lib/python3.7/site-packages/ipykernel_launcher.py:5: RuntimeWarning: More than 20 figures have been opened. Figures created through the pyplot interface (`matplotlib.pyplot.figure`) are retained until explicitly closed and may consume too much memory. (To control this warning, see the rcParam `figure.max_open_warning`).\n",
      "  \"\"\"\n"
     ]
    }
   ],
   "source": [
    "fig = show_galaxies(df.sort_values('bar_strong_prediction_mean', ascending=False)[:9])\n",
    "fig.savefig('results/temp/bar_strong.png')\n",
    "plt.close()"
   ]
  },
  {
   "cell_type": "code",
   "execution_count": 245,
   "metadata": {},
   "outputs": [
    {
     "name": "stderr",
     "output_type": "stream",
     "text": [
      "/home/walml/anaconda3/envs/zoobot/lib/python3.7/site-packages/ipykernel_launcher.py:5: RuntimeWarning: More than 20 figures have been opened. Figures created through the pyplot interface (`matplotlib.pyplot.figure`) are retained until explicitly closed and may consume too much memory. (To control this warning, see the rcParam `figure.max_open_warning`).\n",
      "  \"\"\"\n"
     ]
    }
   ],
   "source": [
    "fig = show_galaxies(df.sort_values('bar_weak_prediction_mean', ascending=False)[:9])\n",
    "fig.savefig('results/temp/bar_weak.png')\n",
    "plt.close()"
   ]
  },
  {
   "cell_type": "code",
   "execution_count": 246,
   "metadata": {},
   "outputs": [
    {
     "name": "stderr",
     "output_type": "stream",
     "text": [
      "/home/walml/anaconda3/envs/zoobot/lib/python3.7/site-packages/ipykernel_launcher.py:5: RuntimeWarning: More than 20 figures have been opened. Figures created through the pyplot interface (`matplotlib.pyplot.figure`) are retained until explicitly closed and may consume too much memory. (To control this warning, see the rcParam `figure.max_open_warning`).\n",
      "  \"\"\"\n"
     ]
    }
   ],
   "source": [
    "fig = show_galaxies(df.sort_values('bar_no_prediction_mean', ascending=False)[:9])\n",
    "fig.savefig('results/temp/bar_no.png')\n",
    "plt.close()"
   ]
  },
  {
   "cell_type": "code",
   "execution_count": null,
   "metadata": {},
   "outputs": [],
   "source": []
  },
  {
   "cell_type": "code",
   "execution_count": 247,
   "metadata": {},
   "outputs": [
    {
     "name": "stderr",
     "output_type": "stream",
     "text": [
      "/home/walml/anaconda3/envs/zoobot/lib/python3.7/site-packages/ipykernel_launcher.py:5: RuntimeWarning: More than 20 figures have been opened. Figures created through the pyplot interface (`matplotlib.pyplot.figure`) are retained until explicitly closed and may consume too much memory. (To control this warning, see the rcParam `figure.max_open_warning`).\n",
      "  \"\"\"\n"
     ]
    }
   ],
   "source": [
    "fig = show_galaxies(df.sort_values('smooth-or-featured_smooth_acquisition', ascending=False)[:9])\n",
    "fig.savefig('results/temp/smooth-or-featured_smooth_acquisition_informative.png')\n",
    "plt.close()"
   ]
  },
  {
   "cell_type": "code",
   "execution_count": 248,
   "metadata": {},
   "outputs": [
    {
     "name": "stderr",
     "output_type": "stream",
     "text": [
      "/home/walml/anaconda3/envs/zoobot/lib/python3.7/site-packages/ipykernel_launcher.py:5: RuntimeWarning: More than 20 figures have been opened. Figures created through the pyplot interface (`matplotlib.pyplot.figure`) are retained until explicitly closed and may consume too much memory. (To control this warning, see the rcParam `figure.max_open_warning`).\n",
      "  \"\"\"\n"
     ]
    }
   ],
   "source": [
    "fig = show_galaxies(df.sort_values('smooth-or-featured_smooth_acquisition', ascending=True)[:9])\n",
    "fig.savefig('results/temp/smooth-or-featured_smooth_acquisition_not_informative.png')\n",
    "plt.close()"
   ]
  },
  {
   "cell_type": "code",
   "execution_count": 249,
   "metadata": {},
   "outputs": [
    {
     "name": "stderr",
     "output_type": "stream",
     "text": [
      "/home/walml/anaconda3/envs/zoobot/lib/python3.7/site-packages/ipykernel_launcher.py:5: RuntimeWarning: More than 20 figures have been opened. Figures created through the pyplot interface (`matplotlib.pyplot.figure`) are retained until explicitly closed and may consume too much memory. (To control this warning, see the rcParam `figure.max_open_warning`).\n",
      "  \"\"\"\n"
     ]
    }
   ],
   "source": [
    "fig = show_galaxies(df.sort_values('total_acquisition', ascending=False)[:9])\n",
    "fig.savefig('results/temp/total_acquisition_informative.png')\n",
    "plt.close()"
   ]
  },
  {
   "cell_type": "code",
   "execution_count": 250,
   "metadata": {},
   "outputs": [
    {
     "name": "stderr",
     "output_type": "stream",
     "text": [
      "/home/walml/anaconda3/envs/zoobot/lib/python3.7/site-packages/ipykernel_launcher.py:5: RuntimeWarning: More than 20 figures have been opened. Figures created through the pyplot interface (`matplotlib.pyplot.figure`) are retained until explicitly closed and may consume too much memory. (To control this warning, see the rcParam `figure.max_open_warning`).\n",
      "  \"\"\"\n"
     ]
    }
   ],
   "source": [
    "fig = show_galaxies(df.sort_values('total_acquisition', ascending=True)[:9])\n",
    "fig.savefig('results/temp/total_acquisition_not_informative.png')\n",
    "plt.close()"
   ]
  },
  {
   "cell_type": "code",
   "execution_count": 251,
   "metadata": {},
   "outputs": [
    {
     "name": "stderr",
     "output_type": "stream",
     "text": [
      "/home/walml/anaconda3/envs/zoobot/lib/python3.7/site-packages/ipykernel_launcher.py:1: RuntimeWarning: More than 20 figures have been opened. Figures created through the pyplot interface (`matplotlib.pyplot.figure`) are retained until explicitly closed and may consume too much memory. (To control this warning, see the rcParam `figure.max_open_warning`).\n",
      "  \"\"\"Entry point for launching an IPython kernel.\n"
     ]
    },
    {
     "ename": "ValueError",
     "evalue": "x and y must be the same size",
     "output_type": "error",
     "traceback": [
      "\u001b[0;31m---------------------------------------------------------------------------\u001b[0m",
      "\u001b[0;31mValueError\u001b[0m                                Traceback (most recent call last)",
      "\u001b[0;32m<ipython-input-251-4f7c872f6fd1>\u001b[0m in \u001b[0;36m<module>\u001b[0;34m\u001b[0m\n\u001b[1;32m      1\u001b[0m \u001b[0mfig\u001b[0m\u001b[0;34m,\u001b[0m \u001b[0max\u001b[0m \u001b[0;34m=\u001b[0m \u001b[0mplt\u001b[0m\u001b[0;34m.\u001b[0m\u001b[0msubplots\u001b[0m\u001b[0;34m(\u001b[0m\u001b[0;34m)\u001b[0m\u001b[0;34m\u001b[0m\u001b[0;34m\u001b[0m\u001b[0m\n\u001b[0;32m----> 2\u001b[0;31m \u001b[0max\u001b[0m\u001b[0;34m.\u001b[0m\u001b[0mscatter\u001b[0m\u001b[0;34m(\u001b[0m\u001b[0mpredictions\u001b[0m\u001b[0;34m[\u001b[0m\u001b[0;34m:\u001b[0m\u001b[0;34m,\u001b[0m \u001b[0;36m0\u001b[0m\u001b[0;34m]\u001b[0m\u001b[0;34m,\u001b[0m \u001b[0mlabels\u001b[0m\u001b[0;34m[\u001b[0m\u001b[0;34m:\u001b[0m\u001b[0;34m,\u001b[0m \u001b[0;36m0\u001b[0m\u001b[0;34m]\u001b[0m \u001b[0;34m/\u001b[0m \u001b[0mlabels\u001b[0m\u001b[0;34m[\u001b[0m\u001b[0;34m:\u001b[0m\u001b[0;34m,\u001b[0m \u001b[0;34m:\u001b[0m\u001b[0;36m2\u001b[0m\u001b[0;34m]\u001b[0m\u001b[0;34m.\u001b[0m\u001b[0msum\u001b[0m\u001b[0;34m(\u001b[0m\u001b[0maxis\u001b[0m\u001b[0;34m=\u001b[0m\u001b[0;36m1\u001b[0m\u001b[0;34m)\u001b[0m\u001b[0;34m)\u001b[0m\u001b[0;34m\u001b[0m\u001b[0;34m\u001b[0m\u001b[0m\n\u001b[0m\u001b[1;32m      3\u001b[0m \u001b[0mplt\u001b[0m\u001b[0;34m.\u001b[0m\u001b[0mclose\u001b[0m\u001b[0;34m(\u001b[0m\u001b[0;34m)\u001b[0m\u001b[0;34m\u001b[0m\u001b[0;34m\u001b[0m\u001b[0m\n",
      "\u001b[0;32m~/anaconda3/envs/zoobot/lib/python3.7/site-packages/matplotlib/__init__.py\u001b[0m in \u001b[0;36minner\u001b[0;34m(ax, data, *args, **kwargs)\u001b[0m\n\u001b[1;32m   1597\u001b[0m     \u001b[0;32mdef\u001b[0m \u001b[0minner\u001b[0m\u001b[0;34m(\u001b[0m\u001b[0max\u001b[0m\u001b[0;34m,\u001b[0m \u001b[0;34m*\u001b[0m\u001b[0margs\u001b[0m\u001b[0;34m,\u001b[0m \u001b[0mdata\u001b[0m\u001b[0;34m=\u001b[0m\u001b[0;32mNone\u001b[0m\u001b[0;34m,\u001b[0m \u001b[0;34m**\u001b[0m\u001b[0mkwargs\u001b[0m\u001b[0;34m)\u001b[0m\u001b[0;34m:\u001b[0m\u001b[0;34m\u001b[0m\u001b[0;34m\u001b[0m\u001b[0m\n\u001b[1;32m   1598\u001b[0m         \u001b[0;32mif\u001b[0m \u001b[0mdata\u001b[0m \u001b[0;32mis\u001b[0m \u001b[0;32mNone\u001b[0m\u001b[0;34m:\u001b[0m\u001b[0;34m\u001b[0m\u001b[0;34m\u001b[0m\u001b[0m\n\u001b[0;32m-> 1599\u001b[0;31m             \u001b[0;32mreturn\u001b[0m \u001b[0mfunc\u001b[0m\u001b[0;34m(\u001b[0m\u001b[0max\u001b[0m\u001b[0;34m,\u001b[0m \u001b[0;34m*\u001b[0m\u001b[0mmap\u001b[0m\u001b[0;34m(\u001b[0m\u001b[0msanitize_sequence\u001b[0m\u001b[0;34m,\u001b[0m \u001b[0margs\u001b[0m\u001b[0;34m)\u001b[0m\u001b[0;34m,\u001b[0m \u001b[0;34m**\u001b[0m\u001b[0mkwargs\u001b[0m\u001b[0;34m)\u001b[0m\u001b[0;34m\u001b[0m\u001b[0;34m\u001b[0m\u001b[0m\n\u001b[0m\u001b[1;32m   1600\u001b[0m \u001b[0;34m\u001b[0m\u001b[0m\n\u001b[1;32m   1601\u001b[0m         \u001b[0mbound\u001b[0m \u001b[0;34m=\u001b[0m \u001b[0mnew_sig\u001b[0m\u001b[0;34m.\u001b[0m\u001b[0mbind\u001b[0m\u001b[0;34m(\u001b[0m\u001b[0max\u001b[0m\u001b[0;34m,\u001b[0m \u001b[0;34m*\u001b[0m\u001b[0margs\u001b[0m\u001b[0;34m,\u001b[0m \u001b[0;34m**\u001b[0m\u001b[0mkwargs\u001b[0m\u001b[0;34m)\u001b[0m\u001b[0;34m\u001b[0m\u001b[0;34m\u001b[0m\u001b[0m\n",
      "\u001b[0;32m~/anaconda3/envs/zoobot/lib/python3.7/site-packages/matplotlib/axes/_axes.py\u001b[0m in \u001b[0;36mscatter\u001b[0;34m(self, x, y, s, c, marker, cmap, norm, vmin, vmax, alpha, linewidths, verts, edgecolors, plotnonfinite, **kwargs)\u001b[0m\n\u001b[1;32m   4441\u001b[0m         \u001b[0my\u001b[0m \u001b[0;34m=\u001b[0m \u001b[0mnp\u001b[0m\u001b[0;34m.\u001b[0m\u001b[0mma\u001b[0m\u001b[0;34m.\u001b[0m\u001b[0mravel\u001b[0m\u001b[0;34m(\u001b[0m\u001b[0my\u001b[0m\u001b[0;34m)\u001b[0m\u001b[0;34m\u001b[0m\u001b[0;34m\u001b[0m\u001b[0m\n\u001b[1;32m   4442\u001b[0m         \u001b[0;32mif\u001b[0m \u001b[0mx\u001b[0m\u001b[0;34m.\u001b[0m\u001b[0msize\u001b[0m \u001b[0;34m!=\u001b[0m \u001b[0my\u001b[0m\u001b[0;34m.\u001b[0m\u001b[0msize\u001b[0m\u001b[0;34m:\u001b[0m\u001b[0;34m\u001b[0m\u001b[0;34m\u001b[0m\u001b[0m\n\u001b[0;32m-> 4443\u001b[0;31m             \u001b[0;32mraise\u001b[0m \u001b[0mValueError\u001b[0m\u001b[0;34m(\u001b[0m\u001b[0;34m\"x and y must be the same size\"\u001b[0m\u001b[0;34m)\u001b[0m\u001b[0;34m\u001b[0m\u001b[0;34m\u001b[0m\u001b[0m\n\u001b[0m\u001b[1;32m   4444\u001b[0m \u001b[0;34m\u001b[0m\u001b[0m\n\u001b[1;32m   4445\u001b[0m         \u001b[0;32mif\u001b[0m \u001b[0ms\u001b[0m \u001b[0;32mis\u001b[0m \u001b[0;32mNone\u001b[0m\u001b[0;34m:\u001b[0m\u001b[0;34m\u001b[0m\u001b[0;34m\u001b[0m\u001b[0m\n",
      "\u001b[0;31mValueError\u001b[0m: x and y must be the same size"
     ]
    }
   ],
   "source": [
    "fig, ax = plt.subplots()\n",
    "ax.scatter(predictions[:, 0], labels[:, 0] / labels[:, :2].sum(axis=1))\n",
    "plt.close()"
   ]
  },
  {
   "cell_type": "code",
   "execution_count": null,
   "metadata": {},
   "outputs": [],
   "source": [
    "fig, ax = plt.subplots()\n",
    "ax.scatter(predictions[:, 4], labels[:, 4] / labels[:, 4:7].sum(axis=1))"
   ]
  },
  {
   "cell_type": "code",
   "execution_count": null,
   "metadata": {},
   "outputs": [],
   "source": [
    "fig, ax = plt.subplots()\n",
    "ax.scatter(predictions[:, 5], labels[:, 5] / labels[:, 4:7].sum(axis=1))"
   ]
  },
  {
   "cell_type": "code",
   "execution_count": null,
   "metadata": {},
   "outputs": [],
   "source": [
    "fig, ax = plt.subplots()\n",
    "ax.scatter(predictions[:, 6], labels[:, 6] / labels[:, 4:7].sum(axis=1))"
   ]
  },
  {
   "cell_type": "code",
   "execution_count": null,
   "metadata": {},
   "outputs": [],
   "source": [
    "assert False"
   ]
  },
  {
   "cell_type": "code",
   "execution_count": null,
   "metadata": {},
   "outputs": [],
   "source": [
    "\n",
    "images, id_strs, samples = check_uncertainty.calculate_predictions(\n",
    "    tfrecord_loc, n_galaxies, results_dir, model_name, inital_size=img_size, n_samples=n_samples)\n",
    "assert samples.shape[1] == n_samples"
   ]
  },
  {
   "cell_type": "code",
   "execution_count": null,
   "metadata": {},
   "outputs": [],
   "source": [
    "subjects = [{'matrix': images[n], 'id_str': id_strs[n].decode('utf-8')} for n in range(len(id_strs))]\n",
    "acquisitions = dummy_acquisition_func(samples)\n",
    "# acquisitions = acquisition_utils.mutual_info_acquisition_func(samples, expected_votes=EXPECTED_VOTES)\n",
    "metrics.save_iteration_state(save_dir, subjects, samples, acquisitions)"
   ]
  },
  {
   "cell_type": "markdown",
   "metadata": {},
   "source": [
    "Repeat for single model"
   ]
  },
  {
   "cell_type": "code",
   "execution_count": null,
   "metadata": {},
   "outputs": [],
   "source": [
    "images, id_strs, samples = check_uncertainty.calculate_predictions(\n",
    "    tfrecord_loc, n_galaxies, results_dir, model_name, inital_size=256, n_samples=1) # normal model name, for path"
   ]
  },
  {
   "cell_type": "code",
   "execution_count": null,
   "metadata": {},
   "outputs": [],
   "source": [
    "subjects = [{'matrix': images[n], 'id_str': id_strs[n].decode('utf-8')} for n in range(len(id_strs))]\n",
    "acquisitions = dummy_acquisition_func(samples)\n",
    "# acquisitions = acquisition_utils.mutual_info_acquisition_func(samples, expected_votes=EXPECTED_VOTES)\n",
    "metrics.save_iteration_state(single_save_dir, subjects, samples, acquisitions)"
   ]
  },
  {
   "cell_type": "code",
   "execution_count": null,
   "metadata": {},
   "outputs": [],
   "source": [
    "# model.show_mutual_info_vs_predictions(save_dir)"
   ]
  },
  {
   "cell_type": "markdown",
   "metadata": {},
   "source": [
    "### Load the Saved Predictions"
   ]
  },
  {
   "cell_type": "code",
   "execution_count": null,
   "metadata": {},
   "outputs": [],
   "source": [
    "state = metrics.load_iteration_state(save_dir)\n",
    "model = metrics.Model(state, name=model_name)\n",
    "assert set(model.id_strs) - set(catalog['subject_id'].values) == set()"
   ]
  },
  {
   "cell_type": "code",
   "execution_count": null,
   "metadata": {},
   "outputs": [],
   "source": [
    "sim_model = simulated_metrics.SimulatedModel(model, catalog)"
   ]
  },
  {
   "cell_type": "code",
   "execution_count": null,
   "metadata": {},
   "outputs": [],
   "source": []
  },
  {
   "cell_type": "markdown",
   "metadata": {},
   "source": [
    "Repeat for single"
   ]
  },
  {
   "cell_type": "code",
   "execution_count": null,
   "metadata": {},
   "outputs": [],
   "source": [
    "single_state = metrics.load_iteration_state(single_save_dir)\n",
    "single_model = metrics.Model(single_state, name=model_name)"
   ]
  },
  {
   "cell_type": "code",
   "execution_count": null,
   "metadata": {},
   "outputs": [],
   "source": [
    "single_sim_model = simulated_metrics.SimulatedModel(single_model, catalog)"
   ]
  },
  {
   "cell_type": "markdown",
   "metadata": {},
   "source": [
    "Are they the same galaxies?"
   ]
  },
  {
   "cell_type": "code",
   "execution_count": null,
   "metadata": {},
   "outputs": [],
   "source": [
    "assert state.id_strs == single_state.id_strs"
   ]
  },
  {
   "cell_type": "code",
   "execution_count": null,
   "metadata": {},
   "outputs": [],
   "source": [
    "single_sim_model.labels "
   ]
  },
  {
   "cell_type": "code",
   "execution_count": null,
   "metadata": {},
   "outputs": [],
   "source": [
    "sim_model.labels"
   ]
  },
  {
   "cell_type": "code",
   "execution_count": null,
   "metadata": {},
   "outputs": [],
   "source": [
    "fig, ax = plt.subplots()\n",
    "alpha = 0.6\n",
    "ax.hist(single_sim_model.labels, bins=30, alpha=alpha)\n",
    "ax.hist(sim_model.labels, bins=30, alpha=alpha)"
   ]
  },
  {
   "cell_type": "markdown",
   "metadata": {},
   "source": [
    "They are, but in a different order - remember, catalogs are sorted by acquisition value"
   ]
  },
  {
   "cell_type": "code",
   "execution_count": null,
   "metadata": {},
   "outputs": [],
   "source": [
    "# to check that the right models have been loaded - should be around 40 for smooth, 0-40 for bars\n",
    "plt.hist(sim_model.total_votes), sim_model.total_votes.mean()"
   ]
  },
  {
   "cell_type": "markdown",
   "metadata": {},
   "source": [
    "### Visualise Posteriors"
   ]
  },
  {
   "cell_type": "markdown",
   "metadata": {},
   "source": [
    "Check for systematic offset - in general, model seems slightly skewed towards low k?"
   ]
  },
  {
   "cell_type": "code",
   "execution_count": null,
   "metadata": {},
   "outputs": [],
   "source": [
    "# sns.set_context('paper')\n",
    "sns.set(font_scale=1.)\n",
    "sns.set_style('white')\n",
    "# matplotlib.rcParams.update({'font.size': 50}\n",
    "\n",
    "# dummy for bins\n",
    "fig, (ax0, ax1) = plt.subplots(nrows=2)\n",
    "_, bins_rho, _ = ax0.hist(sim_model.labels/ sim_model.total_votes, bins=25, alpha=alpha, label='Actual')\n",
    "_, bins_k, _ = ax1.hist(sim_model.labels, bins=25, alpha=alpha, label='Actual')\n",
    "\n",
    "fig, (ax0, ax1) = plt.subplots(nrows=2)\n",
    "\n",
    "_, bins, _ = ax0.hist(sim_model.mean_rho_prediction, bins=bins_rho, alpha=alpha, label='Model')\n",
    "ax0.hist(sim_model.labels/ sim_model.total_votes, bins=bins_rho, alpha=alpha, label='Actual')\n",
    "ax0.set_xlabel(r'Vote Fraction $\\rho$')\n",
    "ax0.set_ylabel('Galaxies')\n",
    "ax0.legend()\n",
    "ax0.set_xlim([0., 1.])\n",
    "\n",
    "_, bins, _ = ax1.hist(sim_model.expected_k_prediction, bins=bins_k, alpha=alpha, label='Model')\n",
    "ax1.hist(sim_model.labels, bins=bins_k, alpha=alpha, label='Actual')\n",
    "ax1.set_xlabel(r'Positive Responses $k$')\n",
    "ax1.set_ylabel('Galaxies')\n",
    "ax1.legend()\n",
    "ax1.set_xlim([0, 40])\n",
    "\n",
    "fig.tight_layout()\n",
    "# fig.savefig(os.path.join(save_dir, 'posterior_over_full_sample.png'))\n",
    "# fig.savefig(os.path.join(save_dir, 'posterior_over_full_sample.pdf'))"
   ]
  },
  {
   "cell_type": "code",
   "execution_count": null,
   "metadata": {},
   "outputs": [],
   "source": [
    "def custom_samples(samples, labels, total_votes):\n",
    "    sns.set_context('paper', font_scale=1.5)\n",
    "    fig, axes = plt.subplots(nrows=len(labels), figsize=(3, len(labels)*1.5), sharex=True)\n",
    "    make_predictions.plot_samples(samples, labels, total_votes, fig, axes, alpha=0.06)\n",
    "    for ax in axes:\n",
    "        ax.set_xlim([0, 50])\n",
    "    \n",
    "    for n in range(len(labels)):\n",
    "#         axes[n].set_ylabel(r'$p(v|D)$', visible=True)\n",
    "        axes[n].set_ylabel(r'$p(v|w)$', visible=True)\n",
    "        axes[n].yaxis.set_visible(True)\n",
    "    \n",
    "    axes[-1].set_xlabel('Volunteer Votes')\n",
    "    fig.tight_layout()\n",
    "\n",
    "    axes[0].legend(\n",
    "        loc='lower center', \n",
    "        bbox_to_anchor=(0.5, 1.1),\n",
    "        ncol=1, \n",
    "        fancybox=True, \n",
    "        shadow=False\n",
    "    )\n",
    "    fig.tight_layout()\n",
    "    return fig"
   ]
  },
  {
   "cell_type": "code",
   "execution_count": null,
   "metadata": {},
   "outputs": [],
   "source": [
    "def custom_samples_with_galaxies(sim_model, selected_slice):\n",
    "    \n",
    "    samples = np.array(sim_model.model.samples)[selected_slice]\n",
    "    labels = np.array(sim_model.labels)[selected_slice]\n",
    "    total_votes = sim_model.total_votes[selected_slice]\n",
    "    catalog = sim_model.catalog[selected_slice]\n",
    "    \n",
    "    \n",
    "    sns.set_context('paper', font_scale=1.5)\n",
    "    \n",
    "    im_width = 2\n",
    "    single_width = 3\n",
    "    multiple_width = 3\n",
    "    height = im_width\n",
    "    \n",
    "    fig = plt.figure(figsize=(0.8 * len(labels) * height / 1.5, 0.8 * (im_width + single_width + multiple_width) * 1.75))\n",
    "    gs = gridspec.GridSpec(len(labels) * height, im_width + single_width + multiple_width)  # y, x format\n",
    "    image_axes = []\n",
    "    single_axes = []\n",
    "    multiple_axes = []\n",
    "    for galaxy_n in range(len(labels)):\n",
    "        x_slice = slice(galaxy_n*height, (galaxy_n+1)*height)\n",
    "        image_axes.append(plt.subplot(gs[x_slice, :im_width]))\n",
    "        single_axes.append(plt.subplot(gs[x_slice, im_width:im_width+single_width]))\n",
    "        multiple_axes.append(plt.subplot(gs[x_slice, im_width+single_width:]))\n",
    "    \n",
    "\n",
    "#     fig, axes = plt.subplots(nrows=len(labels), figsize=(3, len(labels)*1.5), sharex=True)\n",
    "    make_predictions.plot_samples(samples[:, :1], labels, total_votes, fig, single_axes, alpha=0.06)\n",
    "    for ax in single_axes:\n",
    "        ax.set_xlim([0, 50])\n",
    "\n",
    "    make_predictions.plot_samples(samples, labels, total_votes, fig, multiple_axes, alpha=0.06)\n",
    "    for ax in multiple_axes:\n",
    "        ax.set_xlim([0, 50])\n",
    "        \n",
    "        \n",
    "    for ax_n, ax in enumerate(image_axes):\n",
    "        plot_galaxy(catalog.iloc[ax_n]['png_loc'], ax)\n",
    "        \n",
    "    \n",
    "    for n in range(len(labels)):\n",
    "        multiple_axes[n].set_ylabel(r'$p(k|N, D)$', visible=True)\n",
    "        multiple_axes[n].yaxis.set_visible(True)\n",
    "        single_axes[n].set_ylabel(r'$p(k|N, w)$', visible=True)\n",
    "        single_axes[n].yaxis.set_visible(True)\n",
    "        single_axes[n].yaxis.set_major_locator(plt.NullLocator())\n",
    "        multiple_axes[n].yaxis.set_major_locator(plt.NullLocator())\n",
    "        if n < len(labels) - 1:\n",
    "            single_axes[n].xaxis.set_major_locator(plt.NullLocator())\n",
    "            multiple_axes[n].xaxis.set_major_locator(plt.NullLocator())\n",
    "    \n",
    "    if QUESTION == 'bars':\n",
    "        question = 'Bar'\n",
    "    else:\n",
    "        question = 'Smooth'\n",
    "    single_axes[-1].set_xlabel(r\"$k$ '{}' votes, of $N$ total\".format(question))\n",
    "    multiple_axes[-1].set_xlabel(r\"$k$ '{}' votes, of $N$ total\".format(question))\n",
    "    fig.tight_layout()\n",
    "\n",
    "    single_axes[0].legend(\n",
    "        loc='lower center', \n",
    "        bbox_to_anchor=(0.5, 1.1),\n",
    "        ncol=1, \n",
    "        fancybox=True, \n",
    "        shadow=False\n",
    "    )\n",
    "    \n",
    "    multiple_axes[0].legend(\n",
    "        loc='lower center', \n",
    "        bbox_to_anchor=(0.5, 1.1),\n",
    "        ncol=1, \n",
    "        fancybox=True, \n",
    "        shadow=False\n",
    "    )\n",
    "\n",
    "    \n",
    "    fig.tight_layout()\n",
    "    return fig"
   ]
  },
  {
   "cell_type": "code",
   "execution_count": null,
   "metadata": {},
   "outputs": [],
   "source": [
    "def plot_galaxy(image_loc, ax, n_examples=10, crop=0):\n",
    "    im_size = 424\n",
    "    im = Image.open(image_loc)\n",
    "    if QUESTION == 'bars':\n",
    "        crop = 120\n",
    "    else:\n",
    "        crop = 35\n",
    "    cropped_im = im.crop((crop, crop, 424 - crop, 424 - crop))\n",
    "    ax.imshow(cropped_im)\n",
    "    ax.grid(False)\n",
    "    ax.get_yaxis().set_visible(False)\n",
    "    ax.get_xaxis().set_visible(False)\n"
   ]
  },
  {
   "cell_type": "code",
   "execution_count": null,
   "metadata": {},
   "outputs": [],
   "source": [
    "# fig, axes = plt.subplots(1, 10, figsize=(20, 12))\n",
    "# for ax_n, ax in enumerate(axes):\n",
    "#     plot_galaxy(sim_model.catalog.iloc[ax_n]['png_loc'], ax)"
   ]
  },
  {
   "cell_type": "code",
   "execution_count": null,
   "metadata": {},
   "outputs": [],
   "source": [
    "# 1 2"
   ]
  },
  {
   "cell_type": "code",
   "execution_count": null,
   "metadata": {},
   "outputs": [],
   "source": [
    "selected = slice(80, 73, -1)  # smooth\n",
    "\n",
    "# selected = slice(0, 7)\n",
    "\n",
    "if QUESTION == 'bars':\n",
    "    selected = slice(0, 7)"
   ]
  },
  {
   "cell_type": "code",
   "execution_count": null,
   "metadata": {},
   "outputs": [],
   "source": [
    "# np.array(sim_model.model.samples)[selected, :]\n",
    "# np.array(sim_model.labels)[selected]\n",
    "# sim_model.catalog['smooth-or-featured_total-votes'][selected]"
   ]
  },
  {
   "cell_type": "code",
   "execution_count": null,
   "metadata": {},
   "outputs": [],
   "source": [
    "fig = custom_samples_with_galaxies(sim_model, selected)\n",
    "# fig.savefig(os.path.join(save_dir, 'mc_model_{}.png'.format(len(np.array(sim_model.labels)[selected]))))\n",
    "# fig.savefig(os.path.join(save_dir, 'mc_model_{}.pdf'.format(len(np.array(sim_model.labels)[selected]))))"
   ]
  },
  {
   "cell_type": "code",
   "execution_count": null,
   "metadata": {},
   "outputs": [],
   "source": [
    "# be sure to switch label in custom_samples before running this\n",
    "# fig = custom_samples(np.array(single_sim_model.model.samples)[selected, :1], np.array(single_sim_model.labels)[selected], total_votes=single_sim_model.total_votes)\n",
    "# fig.savefig(os.path.join(save_dir, 'single_model_{}.png'.format(len(np.array(sim_model.labels)[selected]))))\n",
    "# fig.savefig(os.path.join(save_dir, 'single_model_{}.eps'.format(len(np.array(sim_model.labels)[selected]))))"
   ]
  },
  {
   "cell_type": "code",
   "execution_count": null,
   "metadata": {},
   "outputs": [],
   "source": [
    "sns.set(font_scale=1.2)\n",
    "sns.set_style('white')\n",
    "\n",
    "fig, ax = plt.subplots()\n",
    "ungrouped_coverage_df = discrete_coverage.evaluate_discrete_coverage(\n",
    "    sim_model.labels, \n",
    "    sim_model.bin_probs)\n",
    "coverage_df = ungrouped_coverage_df.groupby('max_state_error').agg({'prediction': 'sum', 'observed': 'sum'}).reset_index()\n",
    "\n",
    "ungrouped_single_coverage_df = discrete_coverage.evaluate_discrete_coverage(\n",
    "    single_sim_model.labels, \n",
    "    single_sim_model.bin_probs)\n",
    "single_coverage_df = ungrouped_single_coverage_df.groupby('max_state_error').agg({'prediction': 'sum', 'observed': 'sum'}).reset_index()\n",
    "\n",
    "\n",
    "plt.plot(coverage_df['max_state_error'], coverage_df['prediction'], label='MC Model Expects')\n",
    "plt.plot(single_coverage_df['max_state_error'], single_coverage_df['prediction'], label='Single Model Expects')\n",
    "plt.plot(single_coverage_df['max_state_error'], coverage_df['observed'], 'k--', label='Actual')\n",
    "\n",
    "ax.set_xlabel('Max Allowed Vote Error')\n",
    "ax.set_ylabel('Galaxies Within Max Error')\n",
    "ax.legend()\n",
    "ax.xaxis.set_major_formatter(StrMethodFormatter('{x:.0f}'))  # must expect 'x' kw arg\n",
    "\n",
    "ax.set_xlim([0, 15])\n",
    "fig.tight_layout()\n",
    "fig.savefig(os.path.join(save_dir, 'coverage_comparison_200_samples.png'))\n",
    "fig.savefig(os.path.join(save_dir, 'coverage_comparison_200_samples.pdf'))"
   ]
  },
  {
   "cell_type": "code",
   "execution_count": null,
   "metadata": {},
   "outputs": [],
   "source": [
    "ungrouped_coverage_df.to_csv(os.path.join(save_dir, QUESTION + '_ungrouped_coverage_df.csv'), index=False)\n",
    "ungrouped_single_coverage_df.to_csv(os.path.join(save_dir, QUESTION + '_ungrouped_coverage_df.csv'), index=False)"
   ]
  },
  {
   "cell_type": "code",
   "execution_count": null,
   "metadata": {},
   "outputs": [],
   "source": [
    "coverage_df['error'] = coverage_df['prediction'] - coverage_df['observed']\n",
    "coverage_df['relative_error'] = coverage_df['error'] / coverage_df['observed']\n",
    "coverage_df.to_csv(os.path.join(save_dir, QUESTION + '_coverage_df.csv'), index=False)\n",
    "coverage_df.head(20)"
   ]
  },
  {
   "cell_type": "code",
   "execution_count": null,
   "metadata": {},
   "outputs": [],
   "source": [
    "single_coverage_df['error'] = single_coverage_df['prediction'] - single_coverage_df['observed']\n",
    "single_coverage_df['relative_error'] = single_coverage_df['error'] / single_coverage_df['observed']\n",
    "single_coverage_df.to_csv(os.path.join(save_dir, QUESTION + '_single_coverage_df.csv'), index=False)\n",
    "single_coverage_df.head(20)"
   ]
  },
  {
   "cell_type": "code",
   "execution_count": null,
   "metadata": {},
   "outputs": [],
   "source": []
  },
  {
   "cell_type": "code",
   "execution_count": null,
   "metadata": {},
   "outputs": [],
   "source": []
  },
  {
   "cell_type": "markdown",
   "metadata": {},
   "source": [
    "TODO - I might consider adding an MSE model as a comparison, to hopefully beat. I think this might be quite similar though. Ideally I can compare this with previous work somehow."
   ]
  },
  {
   "cell_type": "code",
   "execution_count": null,
   "metadata": {},
   "outputs": [],
   "source": [
    "sns.set(font_scale=1.2)\n",
    "sns.set_style('white')\n",
    "fig, ax = plt.subplots()\n",
    "ax.hist(sim_model.abs_rho_error, bins=25)\n",
    "# ax.axvline(sim_model.mean_abs_rho_error, color='r') \n",
    "ax.set_xlim([0, 1.])\n",
    "ax.set_ylabel('Galaxies')\n",
    "ax.set_xlabel(r'| Expected $\\hat{\\rho}$ - observed vote fraction $\\frac{k}{N}$ |')\n",
    "fig.tight_layout()\n",
    "fig.savefig(os.path.join(save_dir, 'difference_in_rho.png'))\n",
    "fig.savefig(os.path.join(save_dir, 'difference_in_rho.pdf'))"
   ]
  },
  {
   "cell_type": "code",
   "execution_count": null,
   "metadata": {},
   "outputs": [],
   "source": [
    "sim_model.abs_rho_error.mean(), single_sim_model.abs_rho_error.mean()"
   ]
  },
  {
   "cell_type": "code",
   "execution_count": null,
   "metadata": {},
   "outputs": [],
   "source": [
    "np.sqrt(sim_model.mean_abs_rho_error), np.sqrt(single_sim_model.mean_abs_rho_error)  "
   ]
  },
  {
   "cell_type": "code",
   "execution_count": null,
   "metadata": {},
   "outputs": [],
   "source": [
    "np.sqrt(sim_model.mean_square_rho_error), np.sqrt(single_sim_model.mean_square_rho_error) # this is the rmse"
   ]
  },
  {
   "cell_type": "code",
   "execution_count": null,
   "metadata": {},
   "outputs": [],
   "source": [
    "# alpha = 0.3\n",
    "# n_bins = 25\n",
    "\n",
    "# # dummy for bins\n",
    "# fig, ax = plt.subplots()\n",
    "# _, bins, _  = ax.hist(sim_model.labels / sim_model.total_votes, bins=n_bins, alpha=alpha, label=r'Observed $\\rho$')\n",
    "# ax.hist(sim_model.mean_rho_prediction, bins=n_bins, alpha=alpha, label=r'Mean Rho Prediction $\\hat{\\rho}}$')\n",
    "# # ax.hist(single_sim_model.mean_rho_prediction, bins=bins, alpha=alpha, label=r'Single Rho Prediction $\\hat{\\rho}}$')\n",
    "\n",
    "# fig, ax = plt.subplots()\n",
    "# sns.set(font_scale=1.)\n",
    "# sns.set_style('white')\n",
    "\n",
    "# ax.hist(sim_model.mean_rho_prediction, bins=bins, alpha=alpha, label=r'Mean Rho Prediction $\\hat{\\rho}}$')\n",
    "# # ax.hist(single_sim_model.mean_rho_prediction, bins=bins, alpha=alpha, label=r'Single Rho Prediction $\\hat{\\rho}}$')\n",
    "# ax.hist(sim_model.labels / sim_model.total_votes, bins=bins, alpha=alpha, label=r'Observed $\\rho$')\n",
    "# ax.legend()\n",
    "# ax.set_xlim([0., 1.])\n",
    "# ax.set_ylabel('Galaxies')\n",
    "# ax.set_xlabel(r'Typical vote fraction $\\rho$')\n",
    "# fig.tight_layout()\n",
    "# fig.savefig(os.path.join(save_dir, 'typical_vote_fraction_distribution.png'))\n",
    "\n",
    "# This is a repeat of the above histograms"
   ]
  },
  {
   "cell_type": "code",
   "execution_count": null,
   "metadata": {},
   "outputs": [],
   "source": [
    "np.sum(sim_model.mean_rho_prediction > 0.5), np.sum(single_sim_model.mean_rho_prediction > 0.5), np.sum((sim_model.labels / sim_model.total_votes) > 0.5)"
   ]
  },
  {
   "cell_type": "code",
   "execution_count": null,
   "metadata": {},
   "outputs": [],
   "source": [
    "(sim_model.labels / sim_model.total_votes).min(), (sim_model.labels / sim_model.total_votes).max()"
   ]
  },
  {
   "cell_type": "code",
   "execution_count": null,
   "metadata": {},
   "outputs": [],
   "source": [
    "sim_model.mean_rho_prediction.min(), sim_model.mean_rho_prediction.max()"
   ]
  },
  {
   "cell_type": "code",
   "execution_count": null,
   "metadata": {},
   "outputs": [],
   "source": [
    "single_sim_model.mean_rho_prediction.min(), single_sim_model.mean_rho_prediction.max()"
   ]
  },
  {
   "cell_type": "code",
   "execution_count": null,
   "metadata": {},
   "outputs": [],
   "source": [
    "sim_model.total_votes"
   ]
  },
  {
   "cell_type": "markdown",
   "metadata": {},
   "source": [
    "## Save DataFrame of predictions + catalog (GZ2) for use elsewhere"
   ]
  },
  {
   "cell_type": "code",
   "execution_count": null,
   "metadata": {},
   "outputs": [],
   "source": [
    "import json"
   ]
  },
  {
   "cell_type": "code",
   "execution_count": null,
   "metadata": {},
   "outputs": [],
   "source": [
    "response_df = pd.DataFrame(data={\n",
    "    'total_votes': sim_model.total_votes, \n",
    "    'k': sim_model.labels, \n",
    "    'vote_fraction': (sim_model.labels / sim_model.total_votes), \n",
    "    'rho_prediction': sim_model.mean_rho_prediction\n",
    "#     'png_loc': sim_model.catalog.png_loc\n",
    "})\n",
    "safe_catalog_cols = list(set(sim_model.catalog.columns.values) - set(['total_votes', 'ra_subject', 'dec_subject']))\n",
    "df = pd.concat([response_df, sim_model.catalog[safe_catalog_cols]], axis=1)\n",
    "df['smooth'] = df['vote_fraction'] > 0.5\n",
    "df['confidence_proxy'] = np.abs(0.5 - df['rho_prediction'])\n",
    "df['rho_predictions'] = 0\n",
    "for n in range(len(df)):\n",
    "    df['rho_predictions'][n] = json.dumps(list(sim_model.model.samples[n, :]))\n",
    "    df = df.sort_values('confidence_proxy', ascending=False)"
   ]
  },
  {
   "cell_type": "code",
   "execution_count": null,
   "metadata": {},
   "outputs": [],
   "source": [
    "df['rho_predictions']"
   ]
  },
  {
   "cell_type": "code",
   "execution_count": null,
   "metadata": {},
   "outputs": [],
   "source": [
    "df.head()"
   ]
  },
  {
   "cell_type": "code",
   "execution_count": null,
   "metadata": {},
   "outputs": [],
   "source": [
    "df.to_parquet('/data/repos/zoobot/notebooks/{}_test_predictions_and_gz2_catalog.parquet'.format(QUESTION))"
   ]
  },
  {
   "cell_type": "markdown",
   "metadata": {},
   "source": [
    "### Replicate (ish) Sanchez 2017 ROC Curves"
   ]
  },
  {
   "cell_type": "code",
   "execution_count": null,
   "metadata": {},
   "outputs": [],
   "source": [
    "confusion_matrix((sim_model.labels / sim_model.total_votes) > 0.5, sim_model.mean_rho_prediction > 0.5)"
   ]
  },
  {
   "cell_type": "code",
   "execution_count": null,
   "metadata": {},
   "outputs": [],
   "source": [
    " 1 - ((66 + 99) / (490 + 1845 + 66 + 99))"
   ]
  },
  {
   "cell_type": "code",
   "execution_count": null,
   "metadata": {},
   "outputs": [],
   "source": [
    " 1 - ((189 + 81) / (1858 + 189 + 81 + 372))"
   ]
  },
  {
   "cell_type": "code",
   "execution_count": null,
   "metadata": {},
   "outputs": [],
   "source": [
    "fig, ax = plt.subplots()\n",
    "sns.set(font_scale=1.2)\n",
    "sns.set_style('white')\n",
    "\n",
    "fpr, tpr, _ = roc_curve(df['smooth'], df['rho_prediction'])\n",
    "ax.plot(fpr, tpr, label='All')\n",
    "df_low_entropy = df[df['confidence_proxy'] > 0.3]\n",
    "fpr, tpr, _ = roc_curve(df_low_entropy['smooth'], df_low_entropy['rho_prediction'])\n",
    "ax.plot(fpr, tpr, label=r'\"High Confidence\" i.e. $\\hat{\\rho} < 0.2$ or $\\hat{\\rho} > 0.8$')\n",
    "ax.set_xlabel('False Positive Rate')\n",
    "ax.set_ylabel('True Positive Rate')\n",
    "ax.legend()\n",
    "\n",
    "fig.tight_layout()\n",
    "fig.savefig(os.path.join(save_dir, 'roc_curve.png'))\n",
    "fig.savefig(os.path.join(save_dir, 'roc_curve.pdf'))"
   ]
  },
  {
   "cell_type": "code",
   "execution_count": null,
   "metadata": {},
   "outputs": [],
   "source": [
    "len(df), len(df_low_entropy)"
   ]
  },
  {
   "cell_type": "code",
   "execution_count": null,
   "metadata": {},
   "outputs": [],
   "source": []
  },
  {
   "cell_type": "markdown",
   "metadata": {},
   "source": [
    "### Replicate(ish) Khan 2018 Confusion Matrices"
   ]
  },
  {
   "cell_type": "markdown",
   "metadata": {},
   "source": [
    "> After selecting the OBJIDs from Table 2 based on the probability thresholds of 0.985 and 0.926 for spirals and ellipticals respectively,"
   ]
  },
  {
   "cell_type": "code",
   "execution_count": null,
   "metadata": {},
   "outputs": [],
   "source": [
    "df.sample(1)"
   ]
  },
  {
   "cell_type": "code",
   "execution_count": null,
   "metadata": {},
   "outputs": [],
   "source": [
    "cdf_array = binom.cdf((df['total_votes'] / 2.).astype(int), df['total_votes'], df['rho_prediction'])"
   ]
  },
  {
   "cell_type": "code",
   "execution_count": null,
   "metadata": {},
   "outputs": [],
   "source": [
    "(df['total_votes'] / 2.).astype(int).sample(10)"
   ]
  },
  {
   "cell_type": "code",
   "execution_count": null,
   "metadata": {},
   "outputs": [],
   "source": [
    "df['total_votes'].sample(10)"
   ]
  },
  {
   "cell_type": "code",
   "execution_count": null,
   "metadata": {},
   "outputs": [],
   "source": [
    "df['rho_prediction'].sample(10)"
   ]
  },
  {
   "cell_type": "code",
   "execution_count": null,
   "metadata": {},
   "outputs": [],
   "source": [
    "plt.hist(cdf_array, bins=30)"
   ]
  },
  {
   "cell_type": "code",
   "execution_count": null,
   "metadata": {},
   "outputs": [],
   "source": [
    "binom.cdf(20, 40, 0.88)"
   ]
  },
  {
   "cell_type": "code",
   "execution_count": null,
   "metadata": {},
   "outputs": [],
   "source": [
    "sum(1 - cdf_array > 0.985)"
   ]
  },
  {
   "cell_type": "code",
   "execution_count": null,
   "metadata": {},
   "outputs": [],
   "source": [
    "sum(cdf_array > 0.926)"
   ]
  },
  {
   "cell_type": "code",
   "execution_count": null,
   "metadata": {},
   "outputs": [],
   "source": [
    "high_prob_df = df[(cdf_array < (1 - 0.985)) | (cdf_array > 0.926)]"
   ]
  },
  {
   "cell_type": "code",
   "execution_count": null,
   "metadata": {},
   "outputs": [],
   "source": [
    "len(high_prob_df)"
   ]
  },
  {
   "cell_type": "code",
   "execution_count": null,
   "metadata": {},
   "outputs": [],
   "source": [
    "if QUESTION == 'smooth':\n",
    "    spiral_pc_to_keep = 516 / 6677\n",
    "    n_spirals = int(len(df) * spiral_pc_to_keep)\n",
    "    elliptical_pc_to_keep = 550 / 5904\n",
    "    n_ellipticals = int(len(df) * elliptical_pc_to_keep)\n",
    "    print(spiral_pc_to_keep, n_spirals, elliptical_pc_to_keep, n_ellipticals)\n",
    "    high_prob_df = pd.concat([\n",
    "        df.sort_values('rho_prediction')[:n_spirals],\n",
    "        df.sort_values('rho_prediction', ascending=False)[:n_ellipticals]\n",
    "    ])\n",
    "if QUESTION == 'bars':\n",
    "    n_to_keep = int(len(df) * 0.08)\n",
    "    high_prob_df = pd.concat([\n",
    "        df.sort_values('rho_prediction')[:int(n_to_keep/2)],\n",
    "        df.sort_values('rho_prediction', ascending=False)[:int(n_to_keep/2)]\n",
    "    ])\n",
    "\n"
   ]
  },
  {
   "cell_type": "code",
   "execution_count": null,
   "metadata": {},
   "outputs": [],
   "source": [
    "high_prob_df.sample(20)"
   ]
  },
  {
   "cell_type": "code",
   "execution_count": null,
   "metadata": {},
   "outputs": [],
   "source": [
    "confusion_matrix(high_prob_df['vote_fraction'] >= 0.5, high_prob_df['rho_prediction'] >= 0.5)"
   ]
  },
  {
   "cell_type": "code",
   "execution_count": null,
   "metadata": {},
   "outputs": [],
   "source": [
    "error = high_prob_df[~(high_prob_df['vote_fraction'] > 0.5) & (high_prob_df['rho_prediction'] > 0.5)]"
   ]
  },
  {
   "cell_type": "code",
   "execution_count": null,
   "metadata": {},
   "outputs": [],
   "source": [
    "error"
   ]
  },
  {
   "cell_type": "code",
   "execution_count": null,
   "metadata": {},
   "outputs": [],
   "source": [
    "error['vote_fraction'] > 0.5, error['rho_prediction'] > 0.5"
   ]
  },
  {
   "cell_type": "code",
   "execution_count": null,
   "metadata": {},
   "outputs": [],
   "source": [
    "img = Image.open(error.iloc[0]['png_loc'])\n",
    "plt.imshow(img)\n",
    "fontdict = {'size': 16, 'color': 'white'}\n",
    "plt.text(30, 360, r'Expected vote frac $\\hat{\\rho}$: 0.80', fontdict=fontdict)\n",
    "plt.text(30, 400, r'Observed vote frac $\\frac{k}{N}$: 0.50', fontdict=fontdict)\n",
    "plt.axis('off')\n",
    "plt.savefig(os.path.join(save_dir, 'high_prob_error_0.png'))\n",
    "plt.savefig(os.path.join(save_dir, 'high_prob_error_0.eps'))"
   ]
  },
  {
   "cell_type": "code",
   "execution_count": null,
   "metadata": {},
   "outputs": [],
   "source": [
    "# img = Image.open(error.iloc[1]['png_loc'])\n",
    "# plt.imshow(img)\n",
    "# fontdict = {'size': 16, 'color': 'white'}\n",
    "# plt.text(30, 360, r'Expected vote frac $\\hat{\\rho}$: 0.13', fontdict=fontdict)\n",
    "# plt.text(30, 400, r'Observed vote frac $\\frac{k}{N}$: 0.54', fontdict=fontdict)\n",
    "# plt.axis('off')\n",
    "# plt.savefig(os.path.join(save_dir, 'high_prob_error_1.png'))\n",
    "# plt.savefig(os.path.join(save_dir, 'high_prob_error_1.eps'))"
   ]
  },
  {
   "cell_type": "code",
   "execution_count": null,
   "metadata": {},
   "outputs": [],
   "source": [
    "confusion_matrix(df['vote_fraction'][:int(len(df) / 2)] > 0.5, df['rho_prediction'][:int(len(df) / 2)] > 0.5)"
   ]
  },
  {
   "cell_type": "code",
   "execution_count": null,
   "metadata": {},
   "outputs": [],
   "source": [
    "if QUESTION == 'smooth':\n",
    "    labels = ['Smooth', 'Featured']\n",
    "    \n",
    "#     cm = np.array([[ 232,    2], [   0, 191]])\n",
    "#     name = 'confusion_matrix_high_confidence'\n",
    "    \n",
    "    cm = np.array([[ 490,   66],\n",
    "       [  99, 1845]])\n",
    "    name = 'confusion_matrix'\n",
    "    \n",
    "if QUESTION == 'bars':\n",
    "    labels = ['No Bar', 'Bar']\n",
    "    cm = np.array([[100,    0], [   0,   100]])\n",
    "    name = 'confusion_matrix_high_confidence'\n",
    "    \n",
    "#     cm = np.array([[1858,    81], [   189,   372]])\n",
    "#     name = 'confusion_matrix'\n",
    "\n",
    "sns.set(font_scale=3.)\n",
    "sns.set_style('white')\n",
    "\n",
    "fig, ax = plt.subplots(figsize=(8, 8))\n",
    "ax = sns.heatmap(cm, annot=True, fmt='d', cmap=\"Blues\", xticklabels=labels, yticklabels=labels, cbar=False, square=True, ax=ax)\n",
    "ax.set_xlabel('Predicted')\n",
    "ax.set_ylabel('Observed')\n",
    "fig.tight_layout()\n",
    "fig.savefig(os.path.join(save_dir, '{}.png'.format(name)))\n",
    "fig.savefig(os.path.join(save_dir, '{}.pdf'.format(name)))"
   ]
  },
  {
   "cell_type": "code",
   "execution_count": null,
   "metadata": {},
   "outputs": [],
   "source": [
    "1 - (8 / (1159 + 83 + 8))"
   ]
  },
  {
   "cell_type": "code",
   "execution_count": null,
   "metadata": {},
   "outputs": [],
   "source": [
    "# sim_model.export_performance_metrics(save_dir)"
   ]
  },
  {
   "cell_type": "code",
   "execution_count": null,
   "metadata": {},
   "outputs": [],
   "source": [
    "# Draw a galaxy, infer a range of p, redraw, and measure accuracy - work in progress"
   ]
  },
  {
   "cell_type": "code",
   "execution_count": null,
   "metadata": {},
   "outputs": [],
   "source": []
  },
  {
   "cell_type": "markdown",
   "metadata": {},
   "source": [
    "### Plot other standard acquisition visualisations"
   ]
  },
  {
   "cell_type": "code",
   "execution_count": null,
   "metadata": {},
   "outputs": [],
   "source": [
    "new_acquisition_viz = False\n",
    "if new_acquisition_viz:\n",
    "    image_locs = sim_model.catalog['png_loc']\n",
    "    images = np.stack([np.array(Image.open(loc)) for loc in image_locs])\n",
    "    assert images.shape == (2500, 424, 424, 3)\n",
    "    acquisition_utils.save_acquisition_examples(images, sim_model.mutual_info, 'mutual_info', save_dir)"
   ]
  },
  {
   "cell_type": "code",
   "execution_count": null,
   "metadata": {},
   "outputs": [],
   "source": [
    "# fig, row = plt.subplots(ncols=3, figsize=(12, 4))"
   ]
  },
  {
   "cell_type": "code",
   "execution_count": null,
   "metadata": {},
   "outputs": [],
   "source": [
    "# row = sim_model.acquisition_vs_volunteer_votes(row)"
   ]
  },
  {
   "cell_type": "markdown",
   "metadata": {},
   "source": [
    "### Visualise Selection of Catalog Features w.r.t. Acquisition Function"
   ]
  },
  {
   "cell_type": "code",
   "execution_count": null,
   "metadata": {},
   "outputs": [],
   "source": [
    "fig = plt.figure(constrained_layout=True, figsize=(20, 12))\n",
    "gs = gridspec.GridSpec(6, 5, figure=fig)"
   ]
  },
  {
   "cell_type": "markdown",
   "metadata": {},
   "source": [
    "#### Smooth Votes"
   ]
  },
  {
   "cell_type": "code",
   "execution_count": null,
   "metadata": {},
   "outputs": [],
   "source": [
    "ax0 = plt.subplot(gs[:4, :])\n",
    "sns.scatterplot(\n",
    "    np.array(sim_model.catalog['smooth-or-featured_smooth_fraction'] * 40).astype(int),\n",
    "    sim_model.model.acquisitions, hue=np.array(sim_model.model.acquisitions) > np.array(sim_model.model.acquisitions[103]),\n",
    "    ax=ax0)\n",
    "ax0.set_ylabel('Mutual Information')\n",
    "ax0.set_xlabel('Smooth Votes')\n",
    "ax0.legend([r'Top 10% $\\mathcal{I}$', r'Bottom 90% $\\mathcal{I}$'])"
   ]
  },
  {
   "cell_type": "code",
   "execution_count": null,
   "metadata": {},
   "outputs": [],
   "source": [
    "ax1 = plt.subplot(gs[4:, :])\n",
    "ax1.hist(np.array(sim_model.labels * 40).astype(int), density=True, alpha=0.4)\n",
    "ax1.hist(np.array(sim_model.labels * 40).astype(int)[:200], density=True, alpha=0.4)\n",
    "ax1.set_ylabel('Frequency')\n",
    "ax1.set_xlabel('Smooth Votes')"
   ]
  },
  {
   "cell_type": "code",
   "execution_count": null,
   "metadata": {},
   "outputs": [],
   "source": [
    "plt.savefig(os.path.join(save_dir, 'temp.png'))"
   ]
  },
  {
   "cell_type": "markdown",
   "metadata": {},
   "source": [
    "#### Redshift"
   ]
  },
  {
   "cell_type": "code",
   "execution_count": null,
   "metadata": {},
   "outputs": [],
   "source": [
    "fig, ax = plt.subplots()\n",
    "sns.jointplot(np.array(sim_model.labels * 40).astype(int), sim_model.catalog['redshift'], kind='kde')\n",
    "ax0.set_ylabel('Redshift')\n",
    "ax0.set_xlabel('Volunteer Votes')"
   ]
  },
  {
   "cell_type": "code",
   "execution_count": null,
   "metadata": {},
   "outputs": [],
   "source": [
    "ax0 = plt.subplot(gs[:2, :])\n",
    "sns.jointplot(np.array(sim_model.labels * 40).astype(int), sim_model.catalog['redshift'], kind='kde', ax=ax0)\n",
    "ax0.set_ylabel('Redshift')\n",
    "ax0.set_xlabel('Volunteer Votes')"
   ]
  },
  {
   "cell_type": "code",
   "execution_count": null,
   "metadata": {},
   "outputs": [],
   "source": []
  },
  {
   "cell_type": "code",
   "execution_count": null,
   "metadata": {},
   "outputs": [],
   "source": [
    "ax0 = plt.subplot(gs[:2, :])\n",
    "sns.jointplot(sim_model.catalog['redshift'], sim_model.model.acquisitions, ax=ax0)\n",
    "ax0.set_ylabel('Mutual Information')\n",
    "ax0.set_xlabel('Redshift')"
   ]
  },
  {
   "cell_type": "code",
   "execution_count": null,
   "metadata": {},
   "outputs": [],
   "source": [
    "ax1 = plt.subplot(gs[4:, :])\n",
    "\n",
    "ax1.hist(sim_model.catalog['redshift'], density=True, alpha=0.4)\n",
    "# ax1.hist(sim_model.catalog['redshift'], density=True, alpha=0.4)\n",
    "ax1.set_ylabel('Frequency')\n",
    "ax1.set_xlabel('Smooth Votes')\n",
    "# TODO sort by mutual information"
   ]
  },
  {
   "cell_type": "code",
   "execution_count": null,
   "metadata": {},
   "outputs": [],
   "source": []
  },
  {
   "cell_type": "code",
   "execution_count": null,
   "metadata": {},
   "outputs": [],
   "source": []
  },
  {
   "cell_type": "code",
   "execution_count": null,
   "metadata": {},
   "outputs": [],
   "source": []
  },
  {
   "cell_type": "markdown",
   "metadata": {},
   "source": [
    "### Below here is only relevant for DECALS, with extra questions. TODO update with GZ2 merger options?"
   ]
  },
  {
   "cell_type": "code",
   "execution_count": null,
   "metadata": {},
   "outputs": [],
   "source": [
    "assert False"
   ]
  },
  {
   "cell_type": "code",
   "execution_count": null,
   "metadata": {},
   "outputs": [],
   "source": [
    "merger_strs"
   ]
  },
  {
   "cell_type": "code",
   "execution_count": null,
   "metadata": {},
   "outputs": [],
   "source": [
    "merger_label = 'merging_major-disturbance'"
   ]
  },
  {
   "cell_type": "code",
   "execution_count": null,
   "metadata": {},
   "outputs": [],
   "source": [
    "ax0 = plt.subplot(gs[:2, :])\n",
    "sns.scatterplot(sim_model.catalog[merger_label], sim_model.model.mutual_info, ax=ax0)\n",
    "ax0.set_ylabel('Mutual Information')\n",
    "ax0.set_xlabel(merger_label)"
   ]
  },
  {
   "cell_type": "code",
   "execution_count": null,
   "metadata": {},
   "outputs": [],
   "source": [
    "_ = plt.hist(sim_model.catalog[merger_label], bins=40)"
   ]
  },
  {
   "cell_type": "code",
   "execution_count": null,
   "metadata": {},
   "outputs": [],
   "source": [
    "featured_no_merger = sim_model.model.mutual_info[(sim_model.catalog[merger_label] == 0) & (sim_model.catalog['smooth-or-featured_smooth_fraction'] < 0.4)]\n",
    "featured_merger = sim_model.model.mutual_info[(sim_model.catalog[merger_label] > 0) & (sim_model.catalog['smooth-or-featured_smooth_fraction'] < 0.4)]"
   ]
  },
  {
   "cell_type": "code",
   "execution_count": null,
   "metadata": {},
   "outputs": [],
   "source": [
    "featured_no_merger.mean()"
   ]
  },
  {
   "cell_type": "code",
   "execution_count": null,
   "metadata": {},
   "outputs": [],
   "source": [
    "featured_merger.mean()"
   ]
  },
  {
   "cell_type": "code",
   "execution_count": null,
   "metadata": {},
   "outputs": [],
   "source": [
    "fig, ax = plt.subplots()"
   ]
  },
  {
   "cell_type": "code",
   "execution_count": null,
   "metadata": {},
   "outputs": [],
   "source": [
    "ax.hist(featured_no_merger, alpha=0.3, density=True)"
   ]
  },
  {
   "cell_type": "code",
   "execution_count": null,
   "metadata": {},
   "outputs": [],
   "source": [
    "ax.hist(featured_merger, alpha=0.3, density=True)"
   ]
  },
  {
   "cell_type": "code",
   "execution_count": null,
   "metadata": {},
   "outputs": [],
   "source": [
    "fig"
   ]
  },
  {
   "cell_type": "code",
   "execution_count": null,
   "metadata": {},
   "outputs": [],
   "source": [
    "ax = sns.scatterplot(\n",
    "    sim_model.catalog['smooth-or-featured_artifact'], \n",
    "    sim_model.model.mutual_info, \n",
    "    hue=sim_model.model.mutual_info > sim_model.model.mutual_info[103])\n",
    "ax.set_xlim([0, 14.5])"
   ]
  },
  {
   "cell_type": "code",
   "execution_count": null,
   "metadata": {},
   "outputs": [],
   "source": [
    "sns.regplot(\n",
    "    sim_model.catalog['smooth-or-featured_artifact'], \n",
    "    sim_model.model.mutual_info)"
   ]
  },
  {
   "cell_type": "code",
   "execution_count": null,
   "metadata": {},
   "outputs": [],
   "source": [
    "fig, ax = plt.subplots()"
   ]
  },
  {
   "cell_type": "code",
   "execution_count": null,
   "metadata": {},
   "outputs": [],
   "source": [
    "ax.hist(\n",
    "    sim_model.catalog['smooth-or-featured_artifact'][sim_model.model.mutual_info > sim_model.model.mutual_info[100]],\n",
    "    density=True,\n",
    "    alpha=0.4,\n",
    ")\n",
    "ax.hist(\n",
    "    sim_model.catalog['smooth-or-featured_artifact'][sim_model.model.mutual_info < sim_model.model.mutual_info[100]],\n",
    "    density=True,\n",
    "    alpha=0.4,\n",
    ")"
   ]
  },
  {
   "cell_type": "code",
   "execution_count": null,
   "metadata": {},
   "outputs": [],
   "source": []
  },
  {
   "cell_type": "code",
   "execution_count": null,
   "metadata": {},
   "outputs": [],
   "source": [
    "fig"
   ]
  },
  {
   "cell_type": "code",
   "execution_count": null,
   "metadata": {},
   "outputs": [],
   "source": [
    "has-spiral-arms_yes\n",
    "spiral-winding_prediction-encoded"
   ]
  },
  {
   "cell_type": "code",
   "execution_count": null,
   "metadata": {},
   "outputs": [],
   "source": [
    "sns.scatterplot(\n",
    "    sim_model.catalog['has-spiral-arms_yes'][sim_model.catalog['smooth-or-featured_smooth_fraction'] < 0.5], \n",
    "    sim_model.model.mutual_info[sim_model.catalog['smooth-or-featured_smooth_fraction'] < 0.5], \n",
    "    hue=sim_model.model.mutual_info > sim_model.model.mutual_info[100])"
   ]
  },
  {
   "cell_type": "code",
   "execution_count": null,
   "metadata": {},
   "outputs": [],
   "source": [
    "fig, ax = plt.subplots()\n",
    "ax.hist(\n",
    "    sim_model.catalog['has-spiral-arms_yes'][sim_model.model.mutual_info > sim_model.model.mutual_info[100]],\n",
    "    density=True,\n",
    "    alpha=0.4,\n",
    ")\n",
    "ax.hist(\n",
    "    sim_model.catalog['has-spiral-arms_yes'][sim_model.model.mutual_info < sim_model.model.mutual_info[100]],\n",
    "    density=True,\n",
    "    alpha=0.4,\n",
    ")"
   ]
  },
  {
   "cell_type": "code",
   "execution_count": null,
   "metadata": {},
   "outputs": [],
   "source": [
    "fig, ax = plt.subplots()\n",
    "ax.hist(\n",
    "    sim_model.catalog['redshift'][sim_model.model.mutual_info > sim_model.model.mutual_info[100]],\n",
    "    density=True,\n",
    "    alpha=0.4,\n",
    ")\n",
    "ax.hist(\n",
    "    sim_model.catalog['redshift'][sim_model.model.mutual_info < sim_model.model.mutual_info[100]],\n",
    "    density=True,\n",
    "    alpha=0.4,\n",
    ")"
   ]
  },
  {
   "cell_type": "code",
   "execution_count": null,
   "metadata": {},
   "outputs": [],
   "source": [
    "fig, ax = plt.subplots()\n",
    "ax.hist(\n",
    "    sim_model.catalog['merging_major-disturbance'][sim_model.model.mutual_info > sim_model.model.mutual_info[100]],\n",
    "    density=True,\n",
    "    alpha=0.4,\n",
    ")\n",
    "ax.hist(\n",
    "    sim_model.catalog['merging_major-disturbance'][sim_model.model.mutual_info < sim_model.model.mutual_info[100]],\n",
    "    density=True,\n",
    "    alpha=0.4,\n",
    ")"
   ]
  },
  {
   "cell_type": "code",
   "execution_count": null,
   "metadata": {},
   "outputs": [],
   "source": [
    "for merger_label in merger_strs:\n",
    "    print('\\n' + merger_label)\n",
    "    print(sim_model.model.mutual_info[sim_model.catalog[merger_label] > 1].mean())\n",
    "    print(sim_model.model.mutual_info[sim_model.catalog[merger_label] == 1].mean())"
   ]
  },
  {
   "cell_type": "code",
   "execution_count": null,
   "metadata": {},
   "outputs": [],
   "source": [
    "data = [\n",
    "    {'Volunteer Response': 'Merging', 'Mean Mutual Information': sim_model.model.mutual_info[sim_model.catalog['merging_both-v1'] > 1].mean()},\n",
    "    {'Volunteer Response': 'Major Disturbance', 'Mean Mutual Information': sim_model.model.mutual_info[sim_model.catalog['merging_major-disturbance'] > 1].mean()},\n",
    "    {'Volunteer Response': 'Minor Disturbance', 'Mean Mutual Information': sim_model.model.mutual_info[sim_model.catalog['merging_minor-disturbance'] > 1].mean()},\n",
    "    {'Volunteer Response': 'No Disturbance', 'Mean Mutual Information': sim_model.model.mutual_info[sim_model.catalog['merging_none'] > 20].mean()}\n",
    "    ]"
   ]
  },
  {
   "cell_type": "code",
   "execution_count": null,
   "metadata": {},
   "outputs": [],
   "source": [
    "df = pd.DataFrame(data)"
   ]
  },
  {
   "cell_type": "code",
   "execution_count": null,
   "metadata": {},
   "outputs": [],
   "source": [
    "df.head()"
   ]
  },
  {
   "cell_type": "code",
   "execution_count": null,
   "metadata": {},
   "outputs": [],
   "source": []
  },
  {
   "cell_type": "code",
   "execution_count": null,
   "metadata": {},
   "outputs": [],
   "source": [
    "fig, ax = plt.subplots()\n",
    "ax = sns.barplot(data=df, y='Volunteer Response', x='Mean Mutual Information', ax=ax)\n",
    "ax.set_xlim([0.2, 0.36])\n",
    "fig.tight_layout()"
   ]
  },
  {
   "cell_type": "code",
   "execution_count": null,
   "metadata": {},
   "outputs": [],
   "source": [
    "print(sim_model.model.mutual_info[(sim_model.catalog['merging_minor-disturbance'] + sim_model.catalog['merging_major-disturbance']) > 0].mean())\n",
    "print(sim_model.model.mutual_info[(sim_model.catalog['merging_minor-disturbance'] + sim_model.catalog['merging_major-disturbance']) == 0].mean())"
   ]
  },
  {
   "cell_type": "code",
   "execution_count": null,
   "metadata": {},
   "outputs": [],
   "source": [
    "plt.hist(sim_model.catalog['merging_tidal-debris-v1'], bins=40)"
   ]
  },
  {
   "cell_type": "code",
   "execution_count": null,
   "metadata": {},
   "outputs": [],
   "source": []
  },
  {
   "cell_type": "code",
   "execution_count": null,
   "metadata": {},
   "outputs": [],
   "source": []
  },
  {
   "cell_type": "code",
   "execution_count": null,
   "metadata": {},
   "outputs": [],
   "source": []
  }
 ],
 "metadata": {
  "kernelspec": {
   "display_name": "Python 3",
   "language": "python",
   "name": "python3"
  },
  "language_info": {
   "codemirror_mode": {
    "name": "ipython",
    "version": 3
   },
   "file_extension": ".py",
   "mimetype": "text/x-python",
   "name": "python",
   "nbconvert_exporter": "python",
   "pygments_lexer": "ipython3",
   "version": "3.7.6"
  }
 },
 "nbformat": 4,
 "nbformat_minor": 4
}
