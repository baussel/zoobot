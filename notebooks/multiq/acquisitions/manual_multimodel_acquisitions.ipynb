{
 "cells": [
  {
   "cell_type": "code",
   "execution_count": 1,
   "metadata": {},
   "outputs": [],
   "source": [
    "%load_ext autoreload\n",
    "%autoreload 2\n",
    "%matplotlib inline"
   ]
  },
  {
   "cell_type": "code",
   "execution_count": 2,
   "metadata": {},
   "outputs": [],
   "source": [
    "import matplotlib"
   ]
  },
  {
   "cell_type": "code",
   "execution_count": 3,
   "metadata": {},
   "outputs": [],
   "source": [
    "import os\n",
    "import logging\n",
    "import argparse\n",
    "import glob\n",
    "import json\n",
    "from collections import Counter\n",
    "\n",
    "import numpy as np\n",
    "from matplotlib.ticker import StrMethodFormatter\n",
    "\n",
    "import matplotlib.pyplot as plt\n",
    "import matplotlib.gridspec as gridspec\n",
    "import seaborn as sns\n",
    "from sklearn import metrics\n",
    "import tensorflow as tf\n",
    "import pandas as pd\n",
    "from astropy.table import Table  # for NSA\n",
    "from astropy import units as u\n",
    "from sklearn.metrics import confusion_matrix, roc_curve\n",
    "from PIL import Image\n",
    "from scipy.stats import binom\n",
    "from IPython.display import display, Markdown\n",
    "\n",
    "from sklearn.metrics import accuracy_score, mean_squared_error, mean_absolute_error\n",
    "\n",
    "from shared_astro_utils import astropy_utils, matching_utils\n",
    "from zoobot.estimators import make_predictions, bayesian_estimator_funcs\n",
    "from zoobot.tfrecord import read_tfrecord\n",
    "from zoobot.uncertainty import discrete_coverage\n",
    "from zoobot.estimators import input_utils, losses\n",
    "from zoobot.tfrecord import catalog_to_tfrecord\n",
    "from zoobot.active_learning import metrics, simulated_metrics, acquisition_utils, check_uncertainty, simulation_timeline, run_estimator_config\n"
   ]
  },
  {
   "cell_type": "code",
   "execution_count": 4,
   "metadata": {},
   "outputs": [],
   "source": [
    "from zoobot.active_learning.metrics import IterationState\n",
    "import pickle"
   ]
  },
  {
   "cell_type": "code",
   "execution_count": 5,
   "metadata": {},
   "outputs": [],
   "source": [
    "import tensorflow_probability as tfp"
   ]
  },
  {
   "cell_type": "code",
   "execution_count": 6,
   "metadata": {},
   "outputs": [],
   "source": [
    "os.chdir('/home/walml/repos/zoobot')"
   ]
  },
  {
   "cell_type": "code",
   "execution_count": 7,
   "metadata": {},
   "outputs": [],
   "source": [
    "gpus = tf.config.experimental.list_physical_devices('GPU')\n",
    "if gpus:\n",
    "    for gpu in gpus:\n",
    "        tf.config.experimental.set_memory_growth(gpu, True)\n"
   ]
  },
  {
   "cell_type": "code",
   "execution_count": 8,
   "metadata": {},
   "outputs": [],
   "source": [
    "catalog_loc = 'data/gz2/gz2_master_catalog.csv'\n",
    "catalog = pd.read_csv(catalog_loc, dtype={'subject_id': str})  # original catalog\n",
    "catalog['file_loc'] = catalog['local_png_loc'].apply(lambda x: '/media/walml/beta/gz2' + x[32:])\n",
    "catalog['id_str'] = catalog['dr7objid'].apply(lambda x: 'dr7objid_' + str(x))"
   ]
  },
  {
   "cell_type": "code",
   "execution_count": 9,
   "metadata": {},
   "outputs": [
    {
     "name": "stdout",
     "output_type": "stream",
     "text": [
      "{has-spiral-arms, indices 0 to 1, asked after None: (0, 1)}\n"
     ]
    }
   ],
   "source": [
    "\n",
    "questions = [\n",
    "    'smooth-or-featured',\n",
    "    'has-spiral-arms',\n",
    "    'bar',\n",
    "    'bulge-size'\n",
    "]\n",
    "\n",
    "# decals cols\n",
    "# version = 'decals'\n",
    "# label_cols = [\n",
    "#     'smooth-or-featured_smooth',\n",
    "#     'smooth-or-featured_featured-or-disk',\n",
    "#     'has-spiral-arms_yes',\n",
    "#     'has-spiral-arms_no',\n",
    "#     'bar_strong',\n",
    "#     'bar_weak',\n",
    "#     'bar_no',\n",
    "#     'bulge-size_dominant',\n",
    "#     'bulge-size_large',\n",
    "#     'bulge-size_moderate',\n",
    "#     'bulge-size_small',\n",
    "#     'bulge-size_none'\n",
    "# ]\n",
    "\n",
    "# gz2 cols\n",
    "version = 'gz2'\n",
    "label_cols = [\n",
    "    'smooth-or-featured_smooth',\n",
    "    'smooth-or-featured_featured-or-disk',\n",
    "    'has-spiral-arms_yes',\n",
    "    'has-spiral-arms_no',\n",
    "    'bar_yes',\n",
    "    'bar_no',\n",
    "    'bulge-size_dominant',\n",
    "    'bulge-size_obvious',\n",
    "    'bulge-size_just-noticeable',\n",
    "    'bulge-size_no'\n",
    "]\n",
    "\n",
    "\n",
    "\n",
    "schema = losses.Schema(label_cols, questions, version=version)\n",
    "\n",
    "batch_size = 8\n",
    "initial_size = 300\n",
    "# initial_size = 128\n",
    "crop_size = int(initial_size * 0.75)\n",
    "# crop_size = 128\n",
    "final_size = 224\n",
    "channels = 3\n",
    "\n",
    "n_samples = 10\n"
   ]
  },
  {
   "cell_type": "code",
   "execution_count": null,
   "metadata": {},
   "outputs": [],
   "source": []
  },
  {
   "cell_type": "code",
   "execution_count": 10,
   "metadata": {},
   "outputs": [
    {
     "name": "stdout",
     "output_type": "stream",
     "text": [
      "16384\n",
      "16384\n",
      "16384\n",
      "1\n",
      "1\n",
      "1\n"
     ]
    }
   ],
   "source": [
    "folders = [\n",
    "    'latest_dirichlet_active_2p5_dual',\n",
    "    'latest_dirichlet_active_2p5_dual_skip500',\n",
    "    'latest_dirichlet_active_2p5_dual_skip1500_repeat',\n",
    "    'latest_dirichlet_active_2p5_model_c',\n",
    "    'latest_dirichlet_active_2p5_model_d',\n",
    "    'latest_dirichlet_active_2p5_model_e'\n",
    "]\n",
    "samples_list = []\n",
    "id_strs_list = []\n",
    "acquisitions_list = []\n",
    "\n",
    "for folder in folders:\n",
    "    state_loc = f'results/temp/{folder}/iteration_0/state.pickle'\n",
    "    with open(state_loc, 'rb') as f:\n",
    "        state = pickle.load(f)\n",
    "        samples = state.samples\n",
    "        print(len(samples))\n",
    "        if len(samples) == 1:\n",
    "            samples = samples[0]\n",
    "    samples_list.append(samples)\n",
    "    id_strs_list.append(state.id_strs)\n",
    "    acquisitions_list.append(state.acquisitions)"
   ]
  },
  {
   "cell_type": "code",
   "execution_count": 11,
   "metadata": {},
   "outputs": [
    {
     "data": {
      "text/plain": [
       "['dr7objid_587739132962406756',\n",
       " 'dr7objid_588010358538633456',\n",
       " 'dr7objid_588016891708768414',\n",
       " 'dr7objid_587735431226130460',\n",
       " 'dr7objid_587742629062181111',\n",
       " 'dr7objid_587733081347850349',\n",
       " 'dr7objid_587731520671776948',\n",
       " 'dr7objid_587739845388206341',\n",
       " 'dr7objid_587732589570752553',\n",
       " 'dr7objid_587738946662826176']"
      ]
     },
     "execution_count": 11,
     "metadata": {},
     "output_type": "execute_result"
    }
   ],
   "source": [
    "id_strs_list[2][:10]"
   ]
  },
  {
   "cell_type": "code",
   "execution_count": 12,
   "metadata": {},
   "outputs": [
    {
     "data": {
      "text/plain": [
       "['dr7objid_587739132962406756',\n",
       " 'dr7objid_588010358538633456',\n",
       " 'dr7objid_588016891708768414',\n",
       " 'dr7objid_587735431226130460',\n",
       " 'dr7objid_587742629062181111',\n",
       " 'dr7objid_587733081347850349',\n",
       " 'dr7objid_587731520671776948',\n",
       " 'dr7objid_587739845388206341',\n",
       " 'dr7objid_587732589570752553',\n",
       " 'dr7objid_587738946662826176']"
      ]
     },
     "execution_count": 12,
     "metadata": {},
     "output_type": "execute_result"
    }
   ],
   "source": [
    "id_strs_list[3][:10]"
   ]
  },
  {
   "cell_type": "code",
   "execution_count": null,
   "metadata": {},
   "outputs": [],
   "source": []
  },
  {
   "cell_type": "code",
   "execution_count": 13,
   "metadata": {},
   "outputs": [],
   "source": [
    "def visualise_positions(id_strs_to_viz, all_id_strs, invert=False):\n",
    "    missing = pd.Series(all_id_strs).isin(id_strs_to_viz)\n",
    "    if invert:\n",
    "        missing = ~missing\n",
    "    print(missing.sum())\n",
    "    fig, ax = plt.subplots(figsize=(20, 4))\n",
    "    for i in missing[missing].index:\n",
    "        ax.axvline(i)"
   ]
  },
  {
   "cell_type": "code",
   "execution_count": 14,
   "metadata": {},
   "outputs": [
    {
     "name": "stdout",
     "output_type": "stream",
     "text": [
      "1024\n"
     ]
    },
    {
     "data": {
      "image/png": "[encoded data removed]",
      "text/plain": [
       "<Figure size 1440x288 with 1 Axes>"
      ]
     },
     "metadata": {
      "needs_background": "light"
     },
     "output_type": "display_data"
    }
   ],
   "source": [
    "visualise_positions(id_strs_list[3], id_strs_list[2], invert=True)"
   ]
  },
  {
   "cell_type": "code",
   "execution_count": null,
   "metadata": {},
   "outputs": [],
   "source": []
  },
  {
   "cell_type": "code",
   "execution_count": 16,
   "metadata": {},
   "outputs": [
    {
     "ename": "NameError",
     "evalue": "name 'id_strs_to_viz' is not defined",
     "output_type": "error",
     "traceback": [
      "\u001b[0;31m---------------------------------------------------------------------------\u001b[0m",
      "\u001b[0;31mNameError\u001b[0m                                 Traceback (most recent call last)",
      "\u001b[0;32m<ipython-input-16-168ac7905943>\u001b[0m in \u001b[0;36m<module>\u001b[0;34m\u001b[0m\n\u001b[0;32m----> 1\u001b[0;31m \u001b[0mvisualise_positions\u001b[0m\u001b[0;34m(\u001b[0m\u001b[0mid_strs_to_viz\u001b[0m\u001b[0;34m,\u001b[0m \u001b[0mid_strs_list\u001b[0m\u001b[0;34m[\u001b[0m\u001b[0;36m2\u001b[0m\u001b[0;34m]\u001b[0m\u001b[0;34m,\u001b[0m \u001b[0minvert\u001b[0m\u001b[0;34m=\u001b[0m\u001b[0;32mFalse\u001b[0m\u001b[0;34m)\u001b[0m\u001b[0;34m\u001b[0m\u001b[0;34m\u001b[0m\u001b[0m\n\u001b[0m",
      "\u001b[0;31mNameError\u001b[0m: name 'id_strs_to_viz' is not defined"
     ]
    }
   ],
   "source": [
    "visualise_positions(id_strs_to_viz, id_strs_list[2], invert=False)"
   ]
  },
  {
   "cell_type": "code",
   "execution_count": null,
   "metadata": {},
   "outputs": [],
   "source": []
  },
  {
   "cell_type": "code",
   "execution_count": null,
   "metadata": {},
   "outputs": [],
   "source": []
  },
  {
   "cell_type": "code",
   "execution_count": null,
   "metadata": {},
   "outputs": [],
   "source": [
    "# check which ids were acquired, by reading the iteration 1 acquired shard"
   ]
  },
  {
   "cell_type": "code",
   "execution_count": 17,
   "metadata": {},
   "outputs": [],
   "source": [
    "def get_id_strs_in_shard(loc):\n",
    "    feature_spec = input_utils.get_feature_spec({'id_str': 'string'})\n",
    "    id_str_dataset = input_utils.get_dataset(loc, feature_spec, batch_size=1, shuffle=False, repeat=False, drop_remainder=False)\n",
    "    id_strs = [str(d['id_str'].numpy().squeeze())[2:-1] for d in id_str_dataset]\n",
    "    return id_strs"
   ]
  },
  {
   "cell_type": "code",
   "execution_count": 18,
   "metadata": {},
   "outputs": [],
   "source": [
    "# folder = 'latest_dirichlet_active_2p5_dual_repeat'\n",
    "# folder = 'latest_dirichlet_active_2p5_dual_skip1500_repeat'\n",
    "# folder = 'latest_dirichlet_active_2p5_model_e'\n",
    "folder = 'latest_dirichlet_active_2p5_6model_effnet'\n",
    "locs = glob.glob(f'results/temp/{folder}/iteration_1/acquired_tfrecords/*.tfrecord')"
   ]
  },
  {
   "cell_type": "code",
   "execution_count": 19,
   "metadata": {},
   "outputs": [
    {
     "data": {
      "text/plain": [
       "['results/temp/latest_dirichlet_active_2p5_6model_effnet/iteration_1/acquired_tfrecords/s300_shard_2.tfrecord',\n",
       " 'results/temp/latest_dirichlet_active_2p5_6model_effnet/iteration_1/acquired_tfrecords/s300_shard_1.tfrecord',\n",
       " 'results/temp/latest_dirichlet_active_2p5_6model_effnet/iteration_1/acquired_tfrecords/s300_shard_0.tfrecord']"
      ]
     },
     "execution_count": 19,
     "metadata": {},
     "output_type": "execute_result"
    }
   ],
   "source": [
    "locs"
   ]
  },
  {
   "cell_type": "code",
   "execution_count": 20,
   "metadata": {},
   "outputs": [],
   "source": [
    "state_loc = f'results/temp/{folder}/iteration_0/state.pickle'\n",
    "with open(state_loc, 'rb') as f:\n",
    "    state = pickle.load(f)"
   ]
  },
  {
   "cell_type": "code",
   "execution_count": 21,
   "metadata": {},
   "outputs": [
    {
     "name": "stderr",
     "output_type": "stream",
     "text": [
      "WARNING:root:Loading single tfrecord results/temp/latest_dirichlet_active_2p5_6model_effnet/iteration_1/acquired_tfrecords/s300_shard_2.tfrecord - is this expected?\n"
     ]
    }
   ],
   "source": [
    "ids_in_shard = get_id_strs_in_shard(locs[0])"
   ]
  },
  {
   "cell_type": "code",
   "execution_count": 22,
   "metadata": {},
   "outputs": [
    {
     "ename": "FileNotFoundError",
     "evalue": "[Errno 2] No such file or directory: 'results/temp/latest_dirichlet_active_2p5_6model_effnet/instructions/subjects_requested.json'",
     "output_type": "error",
     "traceback": [
      "\u001b[0;31m---------------------------------------------------------------------------\u001b[0m",
      "\u001b[0;31mFileNotFoundError\u001b[0m                         Traceback (most recent call last)",
      "\u001b[0;32m<ipython-input-22-a71c7d4ce16c>\u001b[0m in \u001b[0;36m<module>\u001b[0;34m\u001b[0m\n\u001b[1;32m      1\u001b[0m \u001b[0mloc\u001b[0m \u001b[0;34m=\u001b[0m \u001b[0;34mf'results/temp/{folder}/instructions/subjects_requested.json'\u001b[0m\u001b[0;34m\u001b[0m\u001b[0;34m\u001b[0m\u001b[0m\n\u001b[0;32m----> 2\u001b[0;31m \u001b[0;32mwith\u001b[0m \u001b[0mopen\u001b[0m\u001b[0;34m(\u001b[0m\u001b[0mloc\u001b[0m\u001b[0;34m,\u001b[0m \u001b[0;34m'r'\u001b[0m\u001b[0;34m)\u001b[0m \u001b[0;32mas\u001b[0m \u001b[0mf\u001b[0m\u001b[0;34m:\u001b[0m\u001b[0;34m\u001b[0m\u001b[0;34m\u001b[0m\u001b[0m\n\u001b[0m\u001b[1;32m      3\u001b[0m     \u001b[0mid_strs_requested\u001b[0m \u001b[0;34m=\u001b[0m \u001b[0mjson\u001b[0m\u001b[0;34m.\u001b[0m\u001b[0mload\u001b[0m\u001b[0;34m(\u001b[0m\u001b[0mf\u001b[0m\u001b[0;34m)\u001b[0m\u001b[0;34m\u001b[0m\u001b[0;34m\u001b[0m\u001b[0m\n",
      "\u001b[0;31mFileNotFoundError\u001b[0m: [Errno 2] No such file or directory: 'results/temp/latest_dirichlet_active_2p5_6model_effnet/instructions/subjects_requested.json'"
     ]
    }
   ],
   "source": [
    "loc = f'results/temp/{folder}/instructions/subjects_requested.json'\n",
    "with open(loc, 'r') as f:\n",
    "    id_strs_requested = json.load(f)"
   ]
  },
  {
   "cell_type": "code",
   "execution_count": null,
   "metadata": {},
   "outputs": [],
   "source": [
    "# worryingly, these still form the weird pattern vs. the state.id_strs variable!"
   ]
  },
  {
   "cell_type": "code",
   "execution_count": 23,
   "metadata": {},
   "outputs": [],
   "source": [
    "acq = state.acquisitions\n",
    "ids = state.id_strs\n",
    "top_ids = [ids[n] for n in np.argsort(acq)[::-1][:1024]]"
   ]
  },
  {
   "cell_type": "code",
   "execution_count": 24,
   "metadata": {},
   "outputs": [],
   "source": [
    "# visualise_positions(ids_in_shard, state.id_strs, invert=False)"
   ]
  },
  {
   "cell_type": "code",
   "execution_count": 25,
   "metadata": {},
   "outputs": [
    {
     "name": "stdout",
     "output_type": "stream",
     "text": [
      "1024\n"
     ]
    },
    {
     "data": {
      "image/png": "[encoded data removed]",
      "text/plain": [
       "<Figure size 1440x288 with 1 Axes>"
      ]
     },
     "metadata": {
      "needs_background": "light"
     },
     "output_type": "display_data"
    }
   ],
   "source": [
    "visualise_positions(top_ids, state.id_strs, invert=False)"
   ]
  },
  {
   "cell_type": "code",
   "execution_count": 26,
   "metadata": {},
   "outputs": [
    {
     "data": {
      "image/png": "[encoded data removed]",
      "text/plain": [
       "<Figure size 1440x288 with 1 Axes>"
      ]
     },
     "metadata": {
      "needs_background": "light"
     },
     "output_type": "display_data"
    }
   ],
   "source": [
    "fig, ax = plt.subplots(figsize=(20, 4))\n",
    "for i in np.argsort(state.acquisitions)[::-1][:1024]:\n",
    "    ax.axvline(i)"
   ]
  },
  {
   "cell_type": "code",
   "execution_count": 27,
   "metadata": {},
   "outputs": [
    {
     "ename": "NameError",
     "evalue": "name 'id_strs_requested' is not defined",
     "output_type": "error",
     "traceback": [
      "\u001b[0;31m---------------------------------------------------------------------------\u001b[0m",
      "\u001b[0;31mNameError\u001b[0m                                 Traceback (most recent call last)",
      "\u001b[0;32m<ipython-input-27-a15658b71cba>\u001b[0m in \u001b[0;36m<module>\u001b[0;34m\u001b[0m\n\u001b[0;32m----> 1\u001b[0;31m \u001b[0mvisualise_positions\u001b[0m\u001b[0;34m(\u001b[0m\u001b[0mid_strs_requested\u001b[0m\u001b[0;34m,\u001b[0m \u001b[0mstate\u001b[0m\u001b[0;34m.\u001b[0m\u001b[0mid_strs\u001b[0m\u001b[0;34m,\u001b[0m \u001b[0minvert\u001b[0m\u001b[0;34m=\u001b[0m\u001b[0;32mFalse\u001b[0m\u001b[0;34m)\u001b[0m\u001b[0;34m\u001b[0m\u001b[0;34m\u001b[0m\u001b[0m\n\u001b[0m",
      "\u001b[0;31mNameError\u001b[0m: name 'id_strs_requested' is not defined"
     ]
    }
   ],
   "source": [
    "visualise_positions(id_strs_requested, state.id_strs, invert=False)"
   ]
  },
  {
   "cell_type": "code",
   "execution_count": null,
   "metadata": {},
   "outputs": [],
   "source": [
    "# args_to_sort = np.argsort(acq)[::-1]\n",
    "args_to_sort = np.argsort(np.random.rand(len(ids)))\n",
    "subjects = np.arange(len(ids))\n",
    "n_subjects_to_acquire = 1024\n",
    "top_acquisition_subjects = [subjects[i] for i in args_to_sort][1500:n_subjects_to_acquire+1500]"
   ]
  },
  {
   "cell_type": "code",
   "execution_count": null,
   "metadata": {},
   "outputs": [],
   "source": [
    "# top_acquisition_subjects"
   ]
  },
  {
   "cell_type": "code",
   "execution_count": null,
   "metadata": {},
   "outputs": [],
   "source": [
    "len(ids_in_shard)"
   ]
  },
  {
   "cell_type": "code",
   "execution_count": null,
   "metadata": {},
   "outputs": [],
   "source": [
    "top_ids[:2]"
   ]
  },
  {
   "cell_type": "code",
   "execution_count": null,
   "metadata": {},
   "outputs": [],
   "source": [
    "ids_in_shard[:2]"
   ]
  },
  {
   "cell_type": "code",
   "execution_count": null,
   "metadata": {},
   "outputs": [],
   "source": [
    "len(set(top_ids) - set(ids_in_shard))"
   ]
  },
  {
   "cell_type": "code",
   "execution_count": null,
   "metadata": {},
   "outputs": [],
   "source": [
    "visualise_positions(top_ids, id_strs_list[0], invert=False)"
   ]
  },
  {
   "cell_type": "code",
   "execution_count": null,
   "metadata": {},
   "outputs": [],
   "source": []
  },
  {
   "cell_type": "code",
   "execution_count": null,
   "metadata": {},
   "outputs": [],
   "source": []
  },
  {
   "cell_type": "code",
   "execution_count": null,
   "metadata": {},
   "outputs": [],
   "source": [
    "folders = [\n",
    "    'latest_dirichlet_active_2p5_dual',\n",
    "    'latest_dirichlet_active_2p5_dual_skip500',\n",
    "    'latest_dirichlet_active_2p5_dual_skip1500_repeat',\n",
    "#     'latest_dirichlet_active_2p5_model_c',\n",
    "    'latest_dirichlet_active_2p5_model_d',\n",
    "    'latest_dirichlet_active_2p5_model_e'\n",
    "]\n",
    "samples_list = []\n",
    "id_strs_list = []\n",
    "acquisitions_list = []\n",
    "\n",
    "for folder in folders:\n",
    "    state_loc = f'results/temp/{folder}/iteration_0/state.pickle'\n",
    "    with open(state_loc, 'rb') as f:\n",
    "        state = pickle.load(f)\n",
    "        samples = state.samples\n",
    "        print(len(samples))\n",
    "        if len(samples) == 1:\n",
    "            samples = samples[0]\n",
    "    samples_list.append(samples)\n",
    "    id_strs_list.append(state.id_strs)\n",
    "#     acquisitions_list.append(state.acquisitions)"
   ]
  },
  {
   "cell_type": "code",
   "execution_count": null,
   "metadata": {},
   "outputs": [],
   "source": [
    "[len(i) for i in id_strs_list]"
   ]
  },
  {
   "cell_type": "code",
   "execution_count": null,
   "metadata": {},
   "outputs": [],
   "source": [
    "len(set(id_strs_list[3]).intersection(set(id_strs_list[2])))"
   ]
  },
  {
   "cell_type": "code",
   "execution_count": null,
   "metadata": {},
   "outputs": [],
   "source": [
    "len(set(id_strs_list[2]) - set(id_strs_list[3]))"
   ]
  },
  {
   "cell_type": "code",
   "execution_count": null,
   "metadata": {},
   "outputs": [],
   "source": [
    "for s in samples_list:\n",
    "    print(len(s))\n",
    "    print(s.shape)"
   ]
  },
  {
   "cell_type": "code",
   "execution_count": null,
   "metadata": {},
   "outputs": [],
   "source": [
    "new = True\n",
    "if new:\n",
    "    mi, predictive, expected = acquisition_utils.get_multimodel_acq(samples_list, schema)\n",
    "    mi.shape"
   ]
  },
  {
   "cell_type": "code",
   "execution_count": null,
   "metadata": {},
   "outputs": [],
   "source": [
    "if new:\n",
    "    np.savetxt('results/temp/manual_multimodel_acquisitions.npy', mi)"
   ]
  },
  {
   "cell_type": "code",
   "execution_count": null,
   "metadata": {},
   "outputs": [],
   "source": [
    "np.loadtxt('results/temp/manual_multimodel_acquisitions.npy')"
   ]
  },
  {
   "cell_type": "code",
   "execution_count": null,
   "metadata": {},
   "outputs": [],
   "source": [
    "plt.hist(mi, bins=30)"
   ]
  },
  {
   "cell_type": "code",
   "execution_count": null,
   "metadata": {},
   "outputs": [],
   "source": [
    "import matplotlib as mpl\n",
    "cycler = mpl.rcParams['axes.prop_cycle']\n",
    "# https://matplotlib.org/cycler/\n",
    "colors = [c['color'] for c in cycler]"
   ]
  },
  {
   "cell_type": "code",
   "execution_count": null,
   "metadata": {},
   "outputs": [],
   "source": [
    "colors"
   ]
  },
  {
   "cell_type": "code",
   "execution_count": null,
   "metadata": {},
   "outputs": [],
   "source": [
    "assert len(colors) > len(samples_list)"
   ]
  },
  {
   "cell_type": "code",
   "execution_count": null,
   "metadata": {},
   "outputs": [],
   "source": [
    "len(samples_list)"
   ]
  },
  {
   "cell_type": "code",
   "execution_count": null,
   "metadata": {},
   "outputs": [],
   "source": [
    "def show_predictions(samples_list, catalog, id_strs, question, answer, sort_order=None, n_examples=5):  \n",
    "    \n",
    "    if sort_order is None:\n",
    "        id_str_sorted = id_strs\n",
    "#         catalog_sorted = catalog\n",
    "    else:\n",
    "#         catalog_sorted = catalog[sort_order]\n",
    "        id_str_sorted = [id_strs[n] for n in sort_order]\n",
    "\n",
    "    fig, axes = plt.subplots(nrows=n_examples, ncols=2, figsize=(10, 3 * n_examples))\n",
    "    for n in range(n_examples):\n",
    "        \n",
    "        galaxy = catalog[catalog['id_str'] == id_str_sorted[n]].squeeze()\n",
    "\n",
    "        row = axes[n]\n",
    "        total_votes = galaxy['smooth-or-featured_featured-or-disk'].astype(np.float32)\n",
    "#         total_votes = 40.\n",
    "#         print(total_votes)\n",
    "        votes = np.linspace(0., total_votes)\n",
    "        x = np.stack([votes, total_votes-votes], axis=-1)  # also need the counts for other answer, no\n",
    "        votes_this_answer = x[:, answer.index - question.start_index]\n",
    "\n",
    "        for model_n, samples in enumerate(samples_list):\n",
    "\n",
    "            if sort_order is None:\n",
    "                samples_sorted = samples\n",
    "            else:\n",
    "                samples_sorted = samples[sort_order]\n",
    "\n",
    "            ax = row[0]\n",
    "\n",
    "            all_log_probs = []\n",
    "            color = colors[model_n]\n",
    "            n_samples = samples.shape[2]\n",
    "            for d in range(n_samples):\n",
    "                concentrations = tf.constant(samples_sorted[n, question.start_index:question.end_index+1, d].astype(np.float32))\n",
    "                log_probs = tfp.distributions.DirichletMultinomial(total_votes, concentrations).prob(x)\n",
    "                all_log_probs.append(log_probs)\n",
    "                ax.plot(votes_this_answer, log_probs, alpha=.15, color=color)\n",
    "            all_log_probs = np.array(all_log_probs).mean(axis=0)\n",
    "            ax.plot(votes_this_answer, all_log_probs, linewidth=2., color=color)\n",
    "            ax.axvline(galaxy[answer.text], color='k', linestyle='--')\n",
    "            \n",
    "            ax = row[1]\n",
    "            ax.imshow(np.array(Image.open(galaxy['file_loc'])))\n",
    "            ax.axis('off')"
   ]
  },
  {
   "cell_type": "code",
   "execution_count": null,
   "metadata": {},
   "outputs": [],
   "source": [
    "question = schema.questions[0]\n",
    "answer = question.answers[0]\n",
    "sort_order = np.argsort(mi.squeeze())\n",
    "# print(sort_order)\n",
    "show_predictions(samples_list, catalog, id_strs_list[0], question, answer, sort_order=sort_order, n_examples=8)"
   ]
  },
  {
   "cell_type": "code",
   "execution_count": null,
   "metadata": {},
   "outputs": [],
   "source": [
    "sort_order = np.argsort(mi.squeeze())[::-1]\n",
    "# print(sort_order)\n",
    "show_predictions(samples_list, catalog, id_strs_list[0], question, answer, sort_order=sort_order, n_examples=8)"
   ]
  },
  {
   "cell_type": "code",
   "execution_count": null,
   "metadata": {},
   "outputs": [],
   "source": []
  },
  {
   "cell_type": "code",
   "execution_count": null,
   "metadata": {},
   "outputs": [],
   "source": [
    "acq_df = pd.DataFrame(data={'id_str': id_strs_list[0], 'acquisition': mi.squeeze()})\n",
    "df = pd.merge(acq_df, catalog, on='id_str', how='left')"
   ]
  },
  {
   "cell_type": "code",
   "execution_count": null,
   "metadata": {},
   "outputs": [],
   "source": [
    "df['has-spiral-arms_fraction'] = df['has-spiral-arms_yes'] / df['has-spiral-arms_total-votes']\n",
    "df['log_acquisition'] = np.log10(df['acquisition']+1e-5)"
   ]
  },
  {
   "cell_type": "code",
   "execution_count": null,
   "metadata": {},
   "outputs": [],
   "source": [
    "# copied from touch table\n",
    "def quality_check(df, n_bins=10, n_galaxies_per_bin=10):\n",
    "\n",
    "#     df['binned_acq'], bins = pd.cut(df['acquisition'], n_bins, labels=False, retbins=True)\n",
    "    df['binned_acq'], bins = pd.cut(df['log_acquisition'], n_bins, labels=False, retbins=True)\n",
    "    print(bins)\n",
    "    print(df['binned_acq'].value_counts())\n",
    "    \n",
    "    scale = 3\n",
    "    plt.figure(figsize=(scale * n_galaxies_per_bin, scale * n_bins))\n",
    "    gs1 = gridspec.GridSpec(n_galaxies_per_bin, n_bins)\n",
    "    gs1.update(wspace=0.0, hspace=0.0)\n",
    "    for bin_n in range(n_bins):\n",
    "        selected_df = df.query('binned_acq == {}'.format(bin_n))\n",
    "        selected_df = selected_df.sample(len(selected_df))  # shuffle\n",
    "        for galaxy_n in range(n_galaxies_per_bin):\n",
    "            if galaxy_n < len(selected_df):\n",
    "                galaxy = selected_df.iloc[galaxy_n]\n",
    "                image = Image.open(galaxy['file_loc'])\n",
    "                ax = plt.subplot(gs1[galaxy_n, bin_n])\n",
    "                ax.imshow(image)\n",
    "                ax.text(50, 50, 'Spiral = {:.2f}'.format(galaxy['has-spiral-arms_fraction']), fontsize=16, color='r')\n",
    "#                 ax.text(50, 120, 'N = {}'.format(galaxy['total']), fontsize=16, color='r')\n",
    "                if galaxy_n == 0:\n",
    "                    ax.text(80, -50, 'Feat: {:.2f} to {:.2f}'.format(bins[bin_n], bins[bin_n + 1]), fontsize=16, color='black')\n",
    "                ax.axis('off')\n",
    "#     plt.savefig('touch_table_retirement_{}.pdf'.format(retirement_limit))\n",
    "    return df"
   ]
  },
  {
   "cell_type": "code",
   "execution_count": null,
   "metadata": {},
   "outputs": [],
   "source": [
    "catalog.columns.values"
   ]
  },
  {
   "cell_type": "code",
   "execution_count": null,
   "metadata": {},
   "outputs": [],
   "source": [
    "sns.jointplot(df['log_acquisition'], df['has-spiral-arms_fraction'], kind='hex')"
   ]
  },
  {
   "cell_type": "code",
   "execution_count": null,
   "metadata": {},
   "outputs": [],
   "source": [
    "sns.jointplot(df['log_acquisition'], df['has-spiral-arms_fraction'], kind='hex')"
   ]
  },
  {
   "cell_type": "code",
   "execution_count": null,
   "metadata": {},
   "outputs": [],
   "source": [
    "df.sort_values('log_acquisition', ascending=False).iloc[1024]['log_acquisition']"
   ]
  },
  {
   "cell_type": "code",
   "execution_count": null,
   "metadata": {},
   "outputs": [],
   "source": [
    "df.sort_values('log_acquisition', ascending=False).iloc[int(len(df)/2)]['log_acquisition']"
   ]
  },
  {
   "cell_type": "code",
   "execution_count": null,
   "metadata": {},
   "outputs": [],
   "source": [
    "df['log_acquisition'].hist(bins=30)"
   ]
  },
  {
   "cell_type": "code",
   "execution_count": null,
   "metadata": {},
   "outputs": [],
   "source": [
    "_ = quality_check(df.query('log_acquisition > -3.'))"
   ]
  },
  {
   "cell_type": "code",
   "execution_count": null,
   "metadata": {},
   "outputs": [],
   "source": []
  }
 ],
 "metadata": {
  "kernelspec": {
   "display_name": "Python 3",
   "language": "python",
   "name": "python3"
  },
  "language_info": {
   "codemirror_mode": {
    "name": "ipython",
    "version": 3
   },
   "file_extension": ".py",
   "mimetype": "text/x-python",
   "name": "python",
   "nbconvert_exporter": "python",
   "pygments_lexer": "ipython3",
   "version": "3.7.6"
  }
 },
 "nbformat": 4,
 "nbformat_minor": 4
}
