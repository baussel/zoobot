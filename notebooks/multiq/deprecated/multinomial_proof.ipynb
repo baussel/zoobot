{
 "cells": [
  {
   "cell_type": "code",
   "execution_count": 17,
   "metadata": {},
   "outputs": [],
   "source": [
    "%matplotlib inline\n",
    "\n",
    "import numpy as np\n",
    "import matplotlib.pyplot as plt\n",
    "import tensorflow as tf\n",
    "import tensorflow_probability as tfp\n",
    "\n",
    "from zoobot.active_learning import acquisition_utils"
   ]
  },
  {
   "cell_type": "code",
   "execution_count": null,
   "metadata": {},
   "outputs": [],
   "source": [
    "## Beta"
   ]
  },
  {
   "cell_type": "code",
   "execution_count": null,
   "metadata": {},
   "outputs": [],
   "source": []
  },
  {
   "cell_type": "code",
   "execution_count": 71,
   "metadata": {},
   "outputs": [
    {
     "data": {
      "text/plain": [
       "[<tf.Tensor: shape=(), dtype=float64, numpy=0.02325255233494368>,\n",
       " <tf.Tensor: shape=(), dtype=float64, numpy=0.017367584271349715>,\n",
       " <tf.Tensor: shape=(), dtype=float64, numpy=0.06598492199680626>,\n",
       " <tf.Tensor: shape=(), dtype=float64, numpy=0.04481636225227129>,\n",
       " <tf.Tensor: shape=(), dtype=float64, numpy=0.014244972966766196>]"
      ]
     },
     "execution_count": 71,
     "metadata": {},
     "output_type": "execute_result"
    }
   ],
   "source": [
    "n_votes = 10\n",
    "actual_votes = 3  # scalar\n",
    "\n",
    "concentrations = np.random.rand(5, 2)\n",
    "individual_dists = [tfp.distributions.BetaBinomial(n_votes, concentration0=concentrations[n, 0], concentration1=concentrations[n, 1]) for n in range(len(concentrations))]\n",
    "\n",
    "[d.prob(actual_votes) for d in individual_dists]"
   ]
  },
  {
   "cell_type": "code",
   "execution_count": 72,
   "metadata": {},
   "outputs": [
    {
     "data": {
      "text/plain": [
       "0.033133278764427426"
      ]
     },
     "execution_count": 72,
     "metadata": {},
     "output_type": "execute_result"
    }
   ],
   "source": [
    "np.mean([d.prob(actual_votes) for d in individual_dists])"
   ]
  },
  {
   "cell_type": "code",
   "execution_count": 81,
   "metadata": {},
   "outputs": [
    {
     "data": {
      "text/plain": [
       "<tf.Tensor: shape=(), dtype=float64, numpy=0.029732357823104225>"
      ]
     },
     "execution_count": 81,
     "metadata": {},
     "output_type": "execute_result"
    }
   ],
   "source": [
    "mean_concentrations = concentrations.mean(axis=0)\n",
    "agg_dist = tfp.distributions.BetaBinomial(n_votes, *mean_concentrations)\n",
    "agg_dist.prob(actual_votes)"
   ]
  },
  {
   "cell_type": "code",
   "execution_count": 105,
   "metadata": {},
   "outputs": [
    {
     "data": {
      "text/plain": [
       "[<matplotlib.lines.Line2D at 0x7f4a442b9ed0>]"
      ]
     },
     "execution_count": 105,
     "metadata": {},
     "output_type": "execute_result"
    },
    {
     "data": {
      "image/png": "[encoded data removed]",
      "text/plain": [
       "<Figure size 432x288 with 1 Axes>"
      ]
     },
     "metadata": {
      "needs_background": "light"
     },
     "output_type": "display_data"
    }
   ],
   "source": [
    "log_probs = []\n",
    "x = np.arange(0, n_votes)\n",
    "for d in individual_dists:\n",
    "    prob = d.log_prob(x)\n",
    "    plt.plot(x, prob, alpha=.1, color='k')\n",
    "    log_probs.append(prob)\n",
    "plt.plot(x, agg_dist.log_prob(x))\n",
    "plt.plot(x, np.mean(log_probs, axis=0))"
   ]
  },
  {
   "cell_type": "code",
   "execution_count": 106,
   "metadata": {},
   "outputs": [],
   "source": [
    "from scipy.optimize import least_squares"
   ]
  },
  {
   "cell_type": "code",
   "execution_count": null,
   "metadata": {},
   "outputs": [],
   "source": []
  },
  {
   "cell_type": "code",
   "execution_count": 114,
   "metadata": {},
   "outputs": [
    {
     "data": {
      "text/plain": [
       "<tf.Tensor: shape=(10,), dtype=float32, numpy=\n",
       "array([-1.7361519, -2.3780062, -2.6085293, -2.7263129, -2.7857363,\n",
       "       -2.804086 , -2.7857363, -2.7263129, -2.6085298, -2.3780062],\n",
       "      dtype=float32)>"
      ]
     },
     "execution_count": 114,
     "metadata": {},
     "output_type": "execute_result"
    }
   ],
   "source": [
    "x = np.arange(0, n_votes)\n",
    "dist_prob = lambda c: tfp.distributions.BetaBinomial(n_votes, *c).log_prob(x)\n",
    "dist_prob([0.5, 0.5])"
   ]
  },
  {
   "cell_type": "code",
   "execution_count": 115,
   "metadata": {},
   "outputs": [],
   "source": [
    "f0 = lambda c: dist_prob(c) -np.mean(probs, axis=0)"
   ]
  },
  {
   "cell_type": "code",
   "execution_count": 121,
   "metadata": {},
   "outputs": [],
   "source": [
    "result = least_squares(f0, mean_concentrations)\n"
   ]
  },
  {
   "cell_type": "code",
   "execution_count": 124,
   "metadata": {},
   "outputs": [
    {
     "data": {
      "text/plain": [
       "<tf.Tensor: shape=(10,), dtype=float64, numpy=\n",
       "array([-2.81098497, -1.95201648, -1.83808084, -1.74315074, -1.64288504,\n",
       "       -1.52820032, -1.38999025, -1.21347885, -0.9670899 , -0.55483414])>"
      ]
     },
     "execution_count": 124,
     "metadata": {},
     "output_type": "execute_result"
    }
   ],
   "source": [
    "f0(mean_concentrations)"
   ]
  },
  {
   "cell_type": "code",
   "execution_count": 123,
   "metadata": {},
   "outputs": [
    {
     "data": {
      "text/plain": [
       "<tf.Tensor: shape=(10,), dtype=float64, numpy=\n",
       "array([-1.69971206, -0.71292235, -0.6192475 , -0.59126195, -0.59085089,\n",
       "       -0.60912237, -0.64483176, -0.7015337 , -0.79017742, -0.94406764])>"
      ]
     },
     "execution_count": 123,
     "metadata": {},
     "output_type": "execute_result"
    }
   ],
   "source": [
    "f0(result.x)"
   ]
  },
  {
   "cell_type": "code",
   "execution_count": 122,
   "metadata": {},
   "outputs": [
    {
     "data": {
      "text/plain": [
       "[<matplotlib.lines.Line2D at 0x7f4a44bd64d0>]"
      ]
     },
     "execution_count": 122,
     "metadata": {},
     "output_type": "execute_result"
    },
    {
     "data": {
      "image/png": "[encoded data removed]",
      "text/plain": [
       "<Figure size 432x288 with 1 Axes>"
      ]
     },
     "metadata": {
      "needs_background": "light"
     },
     "output_type": "display_data"
    }
   ],
   "source": [
    "log_probs = []\n",
    "x = np.arange(0, n_votes)\n",
    "for d in individual_dists:\n",
    "    prob = d.log_prob(x)\n",
    "#     plt.plot(x, prob, alpha=.1, color='k')\n",
    "    log_probs.append(prob)\n",
    "plt.plot(x, agg_dist.log_prob(x))\n",
    "plt.plot(x, np.mean(log_probs, axis=0))\n",
    "plt.plot(x, tfp.distributions.BetaBinomial(n_votes, *result.x).log_prob(x))"
   ]
  },
  {
   "cell_type": "code",
   "execution_count": 87,
   "metadata": {},
   "outputs": [
    {
     "data": {
      "text/plain": [
       "array([0.59984233, 1.06891808])"
      ]
     },
     "execution_count": 87,
     "metadata": {},
     "output_type": "execute_result"
    }
   ],
   "source": [
    "result.x"
   ]
  },
  {
   "cell_type": "code",
   "execution_count": null,
   "metadata": {},
   "outputs": [],
   "source": []
  },
  {
   "cell_type": "code",
   "execution_count": null,
   "metadata": {},
   "outputs": [],
   "source": [
    "## Dirichlet"
   ]
  },
  {
   "cell_type": "code",
   "execution_count": 10,
   "metadata": {},
   "outputs": [],
   "source": [
    "concentrations = np.random.rand(5, 3)"
   ]
  },
  {
   "cell_type": "code",
   "execution_count": 45,
   "metadata": {},
   "outputs": [],
   "source": [
    "n_votes = 5"
   ]
  },
  {
   "cell_type": "code",
   "execution_count": 46,
   "metadata": {},
   "outputs": [],
   "source": [
    "individual_dists = [tfp.distributions.DirichletMultinomial(n_votes, concentrations[n]) for n in range(len(concentrations))]"
   ]
  },
  {
   "cell_type": "code",
   "execution_count": 47,
   "metadata": {},
   "outputs": [
    {
     "data": {
      "text/plain": [
       "[<tfp.distributions.DirichletMultinomial 'DirichletMultinomial' batch_shape=[] event_shape=[3] dtype=float64>,\n",
       " <tfp.distributions.DirichletMultinomial 'DirichletMultinomial' batch_shape=[] event_shape=[3] dtype=float64>,\n",
       " <tfp.distributions.DirichletMultinomial 'DirichletMultinomial' batch_shape=[] event_shape=[3] dtype=float64>,\n",
       " <tfp.distributions.DirichletMultinomial 'DirichletMultinomial' batch_shape=[] event_shape=[3] dtype=float64>,\n",
       " <tfp.distributions.DirichletMultinomial 'DirichletMultinomial' batch_shape=[] event_shape=[3] dtype=float64>]"
      ]
     },
     "execution_count": 47,
     "metadata": {},
     "output_type": "execute_result"
    }
   ],
   "source": [
    "individual_dists"
   ]
  },
  {
   "cell_type": "code",
   "execution_count": 54,
   "metadata": {},
   "outputs": [],
   "source": [
    "actual_votes = [1, 2, 2]"
   ]
  },
  {
   "cell_type": "code",
   "execution_count": 55,
   "metadata": {},
   "outputs": [
    {
     "data": {
      "text/plain": [
       "[<tf.Tensor: shape=(), dtype=float64, numpy=0.008757700983285875>,\n",
       " <tf.Tensor: shape=(), dtype=float64, numpy=0.004213899825972968>,\n",
       " <tf.Tensor: shape=(), dtype=float64, numpy=0.011469274593985751>,\n",
       " <tf.Tensor: shape=(), dtype=float64, numpy=0.014853418302021953>,\n",
       " <tf.Tensor: shape=(), dtype=float64, numpy=0.00710146950483513>]"
      ]
     },
     "execution_count": 55,
     "metadata": {},
     "output_type": "execute_result"
    }
   ],
   "source": [
    "[d.prob(actual_votes) for d in individual_dists]"
   ]
  },
  {
   "cell_type": "code",
   "execution_count": 56,
   "metadata": {},
   "outputs": [
    {
     "data": {
      "text/plain": [
       "<tf.Tensor: shape=(), dtype=float64, numpy=0.015485661635243314>"
      ]
     },
     "execution_count": 56,
     "metadata": {},
     "output_type": "execute_result"
    }
   ],
   "source": [
    "mean_concentrations = concentrations.mean(axis=0)\n",
    "agg_dist = tfp.distributions.DirichletMultinomial(n_votes, mean_concentrations)\n",
    "agg_dist.prob(actual_votes)"
   ]
  },
  {
   "cell_type": "code",
   "execution_count": 57,
   "metadata": {},
   "outputs": [
    {
     "data": {
      "text/plain": [
       "(1, 3, 5)"
      ]
     },
     "execution_count": 57,
     "metadata": {},
     "output_type": "execute_result"
    }
   ],
   "source": [
    "concentrations_batch = np.expand_dims(concentrations, axis=0).astype(np.float32).transpose(0, 2, 1)\n",
    "concentrations_batch.shape"
   ]
  },
  {
   "cell_type": "code",
   "execution_count": 58,
   "metadata": {},
   "outputs": [
    {
     "data": {
      "text/plain": [
       "<tfp.distributions.MixtureSameFamily 'MixtureSameFamily' batch_shape=[1] event_shape=[3] dtype=float32>"
      ]
     },
     "execution_count": 58,
     "metadata": {},
     "output_type": "execute_result"
    }
   ],
   "source": [
    "mixture = acquisition_utils.dirichlet_mixture(concentrations_batch, n_votes, n_samples=5)\n",
    "mixture"
   ]
  },
  {
   "cell_type": "code",
   "execution_count": 59,
   "metadata": {},
   "outputs": [
    {
     "data": {
      "text/plain": [
       "<tf.Tensor: shape=(1,), dtype=float32, numpy=array([0.00927915], dtype=float32)>"
      ]
     },
     "execution_count": 59,
     "metadata": {},
     "output_type": "execute_result"
    }
   ],
   "source": [
    "mixture.prob(np.expand_dims(actual_votes, axis=0))"
   ]
  },
  {
   "cell_type": "code",
   "execution_count": null,
   "metadata": {},
   "outputs": [],
   "source": []
  },
  {
   "cell_type": "code",
   "execution_count": null,
   "metadata": {},
   "outputs": [],
   "source": []
  },
  {
   "cell_type": "code",
   "execution_count": null,
   "metadata": {},
   "outputs": [],
   "source": []
  }
 ],
 "metadata": {
  "kernelspec": {
   "display_name": "Python 3",
   "language": "python",
   "name": "python3"
  },
  "language_info": {
   "codemirror_mode": {
    "name": "ipython",
    "version": 3
   },
   "file_extension": ".py",
   "mimetype": "text/x-python",
   "name": "python",
   "nbconvert_exporter": "python",
   "pygments_lexer": "ipython3",
   "version": "3.7.6"
  }
 },
 "nbformat": 4,
 "nbformat_minor": 4
}
