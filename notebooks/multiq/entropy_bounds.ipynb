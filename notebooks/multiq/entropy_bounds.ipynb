{
 "cells": [
  {
   "cell_type": "code",
   "execution_count": 1,
   "metadata": {},
   "outputs": [],
   "source": [
    "%load_ext autoreload\n",
    "%autoreload 2\n",
    "%matplotlib inline"
   ]
  },
  {
   "cell_type": "code",
   "execution_count": 2,
   "metadata": {},
   "outputs": [],
   "source": [
    "import tensorflow as tf\n",
    "import tensorflow_probability as tfp\n",
    "import numpy as np\n",
    "import pandas as pd\n",
    "import matplotlib.pyplot as plt"
   ]
  },
  {
   "cell_type": "code",
   "execution_count": 3,
   "metadata": {},
   "outputs": [],
   "source": [
    "from zoobot.estimators import mixture_stats, dirichlet_stats"
   ]
  },
  {
   "cell_type": "markdown",
   "metadata": {},
   "source": [
    "## Pairwise KL (TFP)"
   ]
  },
  {
   "cell_type": "code",
   "execution_count": 4,
   "metadata": {},
   "outputs": [
    {
     "data": {
      "text/plain": [
       "<tf.Tensor: shape=(), dtype=float64, numpy=1.6897230184338479>"
      ]
     },
     "execution_count": 4,
     "metadata": {},
     "output_type": "execute_result"
    }
   ],
   "source": [
    "# https://www.tensorflow.org/probability/api_docs/python/tfp/distributions/Dirichlet#kl_divergence\n",
    "# https://github.com/tensorflow/probability/blob/v0.10.1/tensorflow_probability/python/distributions/dirichlet.py#L354\n",
    "p = tfp.distributions.Dirichlet(np.random.rand(3))\n",
    "q = tfp.distributions.Dirichlet(np.random.rand(3))\n",
    "p.kl_divergence(q)"
   ]
  },
  {
   "cell_type": "code",
   "execution_count": 5,
   "metadata": {},
   "outputs": [
    {
     "data": {
      "text/plain": [
       "<tf.Tensor: shape=(), dtype=float32, numpy=13.678894>"
      ]
     },
     "execution_count": 5,
     "metadata": {},
     "output_type": "execute_result"
    }
   ],
   "source": [
    "p = tfp.distributions.Dirichlet([12., 14., 3.])\n",
    "q = tfp.distributions.Dirichlet([3., 14., 12.])\n",
    "p.kl_divergence(q)"
   ]
  },
  {
   "cell_type": "code",
   "execution_count": null,
   "metadata": {},
   "outputs": [],
   "source": []
  },
  {
   "cell_type": "code",
   "execution_count": 41,
   "metadata": {},
   "outputs": [
    {
     "data": {
      "text/plain": [
       "13.678896103896108"
      ]
     },
     "execution_count": 41,
     "metadata": {},
     "output_type": "execute_result"
    }
   ],
   "source": [
    "mixture_stats.dirichlet_kl_div(np.array([12., 14., 3.]), np.array([3., 14., 12.])).numpy()"
   ]
  },
  {
   "cell_type": "code",
   "execution_count": 8,
   "metadata": {},
   "outputs": [
    {
     "data": {
      "text/plain": [
       "-2.5960693"
      ]
     },
     "execution_count": 8,
     "metadata": {},
     "output_type": "execute_result"
    }
   ],
   "source": [
    "# https://github.com/tensorflow/probability/blob/v0.10.1/tensorflow_probability/python/distributions/dirichlet.py#L237\n",
    "# immplementing https://en.wikipedia.org/wiki/Dirichlet_distribution#Entropy\n",
    "tfp.distributions.Dirichlet([3., 14., 12.], validate_args=True).entropy().numpy()  # differential so can be negative"
   ]
  },
  {
   "cell_type": "code",
   "execution_count": 9,
   "metadata": {},
   "outputs": [],
   "source": [
    "# my copied version (note the lbeta, digamma tricks)\n",
    "def dirichlet_entropy(concentration):\n",
    "    k = len(concentration)\n",
    "    total_concentration = concentration.sum()\n",
    "    return (tf.math.lbeta(concentration) +\n",
    "            ((total_concentration - k) * tf.math.digamma(total_concentration)) -\n",
    "            tf.reduce_sum((concentration - 1.) * tf.math.digamma(concentration),\n",
    "                          axis=-1)).numpy()"
   ]
  },
  {
   "cell_type": "code",
   "execution_count": 10,
   "metadata": {},
   "outputs": [
    {
     "data": {
      "text/plain": [
       "-2.5960668548883206"
      ]
     },
     "execution_count": 10,
     "metadata": {},
     "output_type": "execute_result"
    }
   ],
   "source": [
    "dirichlet_entropy(np.array([3., 14., 12.]))"
   ]
  },
  {
   "cell_type": "code",
   "execution_count": null,
   "metadata": {},
   "outputs": [],
   "source": []
  },
  {
   "cell_type": "markdown",
   "metadata": {},
   "source": [
    "## Pairwise Chernoff distance (custom)"
   ]
  },
  {
   "cell_type": "code",
   "execution_count": 11,
   "metadata": {},
   "outputs": [
    {
     "data": {
      "text/plain": [
       "0.6931471805599454"
      ]
     },
     "execution_count": 11,
     "metadata": {},
     "output_type": "execute_result"
    }
   ],
   "source": [
    "mixture_stats.dirichlet_chernoff(np.array([1, 2, 3]), np.array([3, 2, 1]), lam=0.5)"
   ]
  },
  {
   "cell_type": "code",
   "execution_count": 12,
   "metadata": {},
   "outputs": [
    {
     "data": {
      "text/plain": [
       "9.233299140837175"
      ]
     },
     "execution_count": 12,
     "metadata": {},
     "output_type": "execute_result"
    }
   ],
   "source": [
    "\n",
    "mixture_stats.dirichlet_chernoff(np.array([1, 2, 10]), np.array([30, 2, 1]), lam=0.5)"
   ]
  },
  {
   "cell_type": "code",
   "execution_count": 13,
   "metadata": {},
   "outputs": [
    {
     "data": {
      "text/plain": [
       "-0.0"
      ]
     },
     "execution_count": 13,
     "metadata": {},
     "output_type": "execute_result"
    }
   ],
   "source": [
    "\n",
    "mixture_stats.dirichlet_chernoff(np.array([1, 2, 1]), np.array([1, 2, 1]), lam=0.5)"
   ]
  },
  {
   "cell_type": "code",
   "execution_count": 14,
   "metadata": {},
   "outputs": [
    {
     "name": "stdout",
     "output_type": "stream",
     "text": [
      "37 µs ± 199 ns per loop (mean ± std. dev. of 7 runs, 10000 loops each)\n"
     ]
    }
   ],
   "source": [
    "\n",
    "%timeit mixture_stats.dirichlet_chernoff(np.array([1, 2, 1]), np.array([1, 2, 1]), lam=0.5)"
   ]
  },
  {
   "cell_type": "code",
   "execution_count": null,
   "metadata": {},
   "outputs": [],
   "source": []
  },
  {
   "cell_type": "code",
   "execution_count": null,
   "metadata": {},
   "outputs": [],
   "source": []
  },
  {
   "cell_type": "code",
   "execution_count": 15,
   "metadata": {},
   "outputs": [],
   "source": [
    "weights = np.ones(3) / np.ones(3).sum()"
   ]
  },
  {
   "cell_type": "code",
   "execution_count": 16,
   "metadata": {},
   "outputs": [
    {
     "data": {
      "text/plain": [
       "(2, 3)"
      ]
     },
     "execution_count": 16,
     "metadata": {},
     "output_type": "execute_result"
    }
   ],
   "source": [
    "# alphas_2_answers_3_models = np.array([[1., 2.], [1.5, 1.5], [2., 1.]])\n",
    "answer_model = np.array([[2., 18.], [4, 15], [3., 16.]]).transpose()\n",
    "answer_model.shape\n"
   ]
  },
  {
   "cell_type": "code",
   "execution_count": 17,
   "metadata": {},
   "outputs": [
    {
     "data": {
      "text/plain": [
       "[array([2., 4., 3.]), array([18., 15., 16.])]"
      ]
     },
     "execution_count": 17,
     "metadata": {},
     "output_type": "execute_result"
    }
   ],
   "source": [
    "[x for x in answer_model]"
   ]
  },
  {
   "cell_type": "code",
   "execution_count": 18,
   "metadata": {},
   "outputs": [
    {
     "data": {
      "text/plain": [
       "-1.2083379349001881"
      ]
     },
     "execution_count": 18,
     "metadata": {},
     "output_type": "execute_result"
    }
   ],
   "source": [
    "mixture_stats.entropy_given_components(answer_model, weights)"
   ]
  },
  {
   "cell_type": "code",
   "execution_count": 45,
   "metadata": {},
   "outputs": [
    {
     "name": "stdout",
     "output_type": "stream",
     "text": [
      "Collecting line_profiler\n",
      "  Downloading line_profiler-3.0.2-cp37-cp37m-manylinux2010_x86_64.whl (68 kB)\n",
      "\u001b[K     |████████████████████████████████| 68 kB 1.3 MB/s eta 0:00:011\n",
      "\u001b[?25hRequirement already satisfied: IPython in /home/walml/anaconda3/envs/zoobot/lib/python3.7/site-packages (from line_profiler) (7.13.0)\n",
      "Requirement already satisfied: setuptools>=18.5 in /home/walml/anaconda3/envs/zoobot/lib/python3.7/site-packages (from IPython->line_profiler) (45.1.0.post20200127)\n",
      "Requirement already satisfied: prompt-toolkit!=3.0.0,!=3.0.1,<3.1.0,>=2.0.0 in /home/walml/anaconda3/envs/zoobot/lib/python3.7/site-packages (from IPython->line_profiler) (3.0.4)\n",
      "Requirement already satisfied: traitlets>=4.2 in /home/walml/anaconda3/envs/zoobot/lib/python3.7/site-packages (from IPython->line_profiler) (4.3.3)\n",
      "Requirement already satisfied: decorator in /home/walml/anaconda3/envs/zoobot/lib/python3.7/site-packages (from IPython->line_profiler) (4.4.2)\n",
      "Requirement already satisfied: pexpect; sys_platform != \"win32\" in /home/walml/anaconda3/envs/zoobot/lib/python3.7/site-packages (from IPython->line_profiler) (4.8.0)\n",
      "Requirement already satisfied: pickleshare in /home/walml/anaconda3/envs/zoobot/lib/python3.7/site-packages (from IPython->line_profiler) (0.7.5)\n",
      "Requirement already satisfied: pygments in /home/walml/anaconda3/envs/zoobot/lib/python3.7/site-packages (from IPython->line_profiler) (2.6.1)\n",
      "Requirement already satisfied: jedi>=0.10 in /home/walml/anaconda3/envs/zoobot/lib/python3.7/site-packages (from IPython->line_profiler) (0.16.0)\n",
      "Requirement already satisfied: backcall in /home/walml/anaconda3/envs/zoobot/lib/python3.7/site-packages (from IPython->line_profiler) (0.1.0)\n",
      "Requirement already satisfied: wcwidth in /home/walml/anaconda3/envs/zoobot/lib/python3.7/site-packages (from prompt-toolkit!=3.0.0,!=3.0.1,<3.1.0,>=2.0.0->IPython->line_profiler) (0.1.9)\n",
      "Requirement already satisfied: ipython-genutils in /home/walml/anaconda3/envs/zoobot/lib/python3.7/site-packages (from traitlets>=4.2->IPython->line_profiler) (0.2.0)\n",
      "Requirement already satisfied: six in /home/walml/anaconda3/envs/zoobot/lib/python3.7/site-packages (from traitlets>=4.2->IPython->line_profiler) (1.14.0)\n",
      "Requirement already satisfied: ptyprocess>=0.5 in /home/walml/anaconda3/envs/zoobot/lib/python3.7/site-packages (from pexpect; sys_platform != \"win32\"->IPython->line_profiler) (0.6.0)\n",
      "Requirement already satisfied: parso>=0.5.2 in /home/walml/anaconda3/envs/zoobot/lib/python3.7/site-packages (from jedi>=0.10->IPython->line_profiler) (0.6.2)\n",
      "Installing collected packages: line-profiler\n",
      "Successfully installed line-profiler-3.0.2\n"
     ]
    }
   ],
   "source": [
    "!pip install line_profiler"
   ]
  },
  {
   "cell_type": "code",
   "execution_count": 46,
   "metadata": {},
   "outputs": [],
   "source": [
    "\n",
    "\n",
    "%load_ext line_profiler\n",
    "\n"
   ]
  },
  {
   "cell_type": "code",
   "execution_count": 20,
   "metadata": {},
   "outputs": [
    {
     "data": {
      "text/plain": [
       "-0.295267279738745"
      ]
     },
     "execution_count": 20,
     "metadata": {},
     "output_type": "execute_result"
    }
   ],
   "source": [
    "mixture_stats.distance_term(answer_model, weights=weights, distance_func=mixture_stats.dirichlet_kl_div)"
   ]
  },
  {
   "cell_type": "code",
   "execution_count": 23,
   "metadata": {},
   "outputs": [
    {
     "data": {
      "text/plain": [
       "-0.08492450054555271"
      ]
     },
     "execution_count": 23,
     "metadata": {},
     "output_type": "execute_result"
    }
   ],
   "source": [
    "mixture_stats.distance_term(answer_model, weights=weights, distance_func=lambda x, y: mixture_stats.dirichlet_chernoff(x, y, lam=.5))"
   ]
  },
  {
   "cell_type": "code",
   "execution_count": 25,
   "metadata": {},
   "outputs": [
    {
     "data": {
      "text/plain": [
       "(-1.1234134343546354, -0.9130706551614431)"
      ]
     },
     "execution_count": 25,
     "metadata": {},
     "output_type": "execute_result"
    }
   ],
   "source": [
    "mixture_stats.entropy_lower_bound(answer_model, weights=weights), mixture_stats.entropy_upper_bound(answer_model, weights=weights)"
   ]
  },
  {
   "cell_type": "code",
   "execution_count": 59,
   "metadata": {},
   "outputs": [],
   "source": [
    "!pip install numba"
   ]
  },
  {
   "cell_type": "code",
   "execution_count": 26,
   "metadata": {},
   "outputs": [
    {
     "name": "stdout",
     "output_type": "stream",
     "text": [
      "3.25 ms ± 21.1 µs per loop (mean ± std. dev. of 7 runs, 100 loops each)\n"
     ]
    }
   ],
   "source": [
    "%timeit mixture_stats.entropy_lower_bound(answer_model, weights=weights)"
   ]
  },
  {
   "cell_type": "code",
   "execution_count": 56,
   "metadata": {},
   "outputs": [
    {
     "data": {
      "text/plain": [
       "Timer unit: 1e-06 s\n",
       "\n",
       "Total time: 0.015654 s\n",
       "File: /home/walml/repos/zoobot/zoobot/estimators/mixture_stats.py\n",
       "Function: entropy_given_components at line 85\n",
       "\n",
       "Line #      Hits         Time  Per Hit   % Time  Line Contents\n",
       "==============================================================\n",
       "    85                                           def entropy_given_components(answer_model, weights):\n",
       "    86         1      10722.0  10722.0     68.5      list_of_alphas = tf.transpose(answer_model)\n",
       "    87         1       4932.0   4932.0     31.5      return np.sum(weights * np.array([tfp.distributions.Dirichlet(alpha).entropy() for alpha in list_of_alphas]))"
      ]
     },
     "metadata": {},
     "output_type": "display_data"
    }
   ],
   "source": [
    "%lprun -f mixture_stats.entropy_given_components mixture_stats.entropy_upper_bound(answer_model, weights=weights)"
   ]
  },
  {
   "cell_type": "code",
   "execution_count": 57,
   "metadata": {},
   "outputs": [
    {
     "data": {
      "text/plain": [
       "Timer unit: 1e-06 s\n",
       "\n",
       "Total time: 0.016074 s\n",
       "File: /home/walml/repos/zoobot/zoobot/estimators/mixture_stats.py\n",
       "Function: distance_term at line 16\n",
       "\n",
       "Line #      Hits         Time  Per Hit   % Time  Line Contents\n",
       "==============================================================\n",
       "    16                                           def distance_term(answer_model, weights, distance_func):\n",
       "    17         1          2.0      2.0      0.0      n_dim = len(weights)\n",
       "    18         1          4.0      4.0      0.0      i_terms = np.zeros(len(weights))\n",
       "    19         4          2.0      0.5      0.0      for i in range(n_dim):\n",
       "    20         3         12.0      4.0      0.1          j_terms = np.zeros(len(weights))\n",
       "    21        12         29.0      2.4      0.2          for j in range(n_dim):\n",
       "    22                                                       # the i=j term is not 0, don't skip it\n",
       "    23         9      14013.0   1557.0     87.2              distance = distance_func(answer_model[:, i], answer_model[:, j])\n",
       "    24         9       1810.0    201.1     11.3              j_terms[j] = weights[j] * np.exp(-distance)\n",
       "    25         3        193.0     64.3      1.2          i_terms[i] = weights[i] * np.log(np.sum(j_terms))\n",
       "    26         1          9.0      9.0      0.1      return np.sum(i_terms)"
      ]
     },
     "metadata": {},
     "output_type": "display_data"
    }
   ],
   "source": [
    "%lprun -f mixture_stats.distance_term mixture_stats.entropy_upper_bound(answer_model, weights=weights)"
   ]
  },
  {
   "cell_type": "code",
   "execution_count": 58,
   "metadata": {},
   "outputs": [
    {
     "data": {
      "text/plain": [
       "Timer unit: 1e-06 s\n",
       "\n",
       "Total time: 0.022466 s\n",
       "File: /home/walml/repos/zoobot/zoobot/estimators/mixture_stats.py\n",
       "Function: entropy_upper_bound at line 8\n",
       "\n",
       "Line #      Hits         Time  Per Hit   % Time  Line Contents\n",
       "==============================================================\n",
       "     8                                           def entropy_upper_bound(arr_of_alphas, weights):\n",
       "     9         1      22466.0  22466.0    100.0      return entropy_given_components(arr_of_alphas, weights) - distance_term(arr_of_alphas, weights, distance_func=dirichlet_kl_div)"
      ]
     },
     "metadata": {},
     "output_type": "display_data"
    }
   ],
   "source": [
    "%lprun -f mixture_stats.entropy_upper_bound mixture_stats.entropy_upper_bound(answer_model, weights=weights)"
   ]
  },
  {
   "cell_type": "code",
   "execution_count": 67,
   "metadata": {},
   "outputs": [],
   "source": [
    "from zoobot.estimators.dirichlet_stats import DirichletEqualMixture"
   ]
  },
  {
   "cell_type": "code",
   "execution_count": 68,
   "metadata": {},
   "outputs": [],
   "source": []
  },
  {
   "cell_type": "code",
   "execution_count": 69,
   "metadata": {},
   "outputs": [],
   "source": [
    "# alphas = np.expand_dims(arr_of_alphas.transpose(), axis=0)\n",
    "# alphas.shape  # batch, answers, models"
   ]
  },
  {
   "cell_type": "code",
   "execution_count": 70,
   "metadata": {},
   "outputs": [],
   "source": [
    "# mixture = DirichletEqualMixture(alphas) \n",
    "# mixture.prob(np.expand_dims([0.3, 0.6, 0.1], axis=0))"
   ]
  },
  {
   "cell_type": "code",
   "execution_count": 81,
   "metadata": {},
   "outputs": [],
   "source": [
    "import scipy.integrate as integrate\n",
    "\n",
    "def numerical_entropy(answer_model):  # equal weights\n",
    "    \n",
    "    batch_answer_model = np.expand_dims(answer_model, axis=0)\n",
    "#     print(batch_answer_model.shape)\n",
    "    mixture = dirichlet_stats.DirichletEqualMixture(batch_answer_model)  # batch dim = 1\n",
    "    entropy_func = lambda x: -mixture.mean_prob(np.array([x, 1-x])) * mixture.mean_log_prob(np.array([x, 1-x]))\n",
    "    result = integrate.quad(entropy_func, 0, 1)\n",
    "    return result[0]"
   ]
  },
  {
   "cell_type": "code",
   "execution_count": null,
   "metadata": {},
   "outputs": [],
   "source": []
  },
  {
   "cell_type": "code",
   "execution_count": 82,
   "metadata": {},
   "outputs": [
    {
     "data": {
      "text/plain": [
       "-1.0660501697854963"
      ]
     },
     "execution_count": 82,
     "metadata": {},
     "output_type": "execute_result"
    }
   ],
   "source": [
    "numerical_entropy(answer_model)"
   ]
  },
  {
   "cell_type": "code",
   "execution_count": null,
   "metadata": {},
   "outputs": [],
   "source": []
  },
  {
   "cell_type": "code",
   "execution_count": null,
   "metadata": {},
   "outputs": [],
   "source": []
  },
  {
   "cell_type": "code",
   "execution_count": 83,
   "metadata": {},
   "outputs": [],
   "source": [
    "import pandas as pd\n",
    "\n",
    "df = pd.read_csv('/home/walml/repos/zoobot/temp/decals_n2_allq_m0.csv')  # same real predictions\n",
    "df = df.sample(len(df))  # shuffle"
   ]
  },
  {
   "cell_type": "code",
   "execution_count": 159,
   "metadata": {},
   "outputs": [],
   "source": [
    "from zoobot import label_metadata\n",
    "from zoobot.estimators import dirichlet_stats"
   ]
  },
  {
   "cell_type": "code",
   "execution_count": 160,
   "metadata": {},
   "outputs": [],
   "source": [
    "concentration_cols = [a + '_concentration' for a in label_metadata.decals_label_cols]"
   ]
  },
  {
   "cell_type": "code",
   "execution_count": 161,
   "metadata": {},
   "outputs": [
    {
     "data": {
      "text/plain": [
       "(10000, 34, 5)"
      ]
     },
     "execution_count": 161,
     "metadata": {},
     "output_type": "execute_result"
    }
   ],
   "source": [
    "concentrations = dirichlet_stats.load_all_concentrations(df, concentration_cols)\n",
    "concentrations.shape"
   ]
  },
  {
   "cell_type": "code",
   "execution_count": 162,
   "metadata": {},
   "outputs": [],
   "source": [
    "all_alphas = concentrations[:100, 5:7]  # has_spiral_arms"
   ]
  },
  {
   "cell_type": "code",
   "execution_count": 163,
   "metadata": {},
   "outputs": [
    {
     "name": "stdout",
     "output_type": "stream",
     "text": [
      "-0.549 <= -0.485 <= -0.352\n",
      "-0.664 <= -0.651 <= -0.623\n",
      "-0.597 <= -0.585 <= -0.562\n",
      "-0.985 <= -0.957 <= -0.897\n",
      "-0.835 <= -0.808 <= -0.751\n",
      "-0.511 <= -0.446 <= -0.306\n",
      "-2.372 <= -2.363 <= -2.346\n",
      "-0.960 <= -0.901 <= -0.777\n",
      "-0.716 <= -0.706 <= -0.684\n",
      "-0.788 <= -0.777 <= -0.754\n"
     ]
    }
   ],
   "source": [
    "weights = np.ones(5) * 0.2\n",
    "data = []\n",
    "for n in range(0, 10):\n",
    "    answer_model = all_alphas[n]\n",
    "    lower = mixture_stats.entropy_lower_bound(answer_model, weights=weights)\n",
    "    upper = mixture_stats.entropy_upper_bound(answer_model, weights=weights)\n",
    "    actual = numerical_entropy(answer_model)\n",
    "    print('{:.3f} <= {:.3f} <= {:.3f}'.format(lower, actual, upper))\n",
    "    result = {}\n",
    "    result['galaxy'] = n\n",
    "    result['lower'] = lower\n",
    "    result['upper'] = upper\n",
    "    result['actual'] = actual\n",
    "    data.append(result)\n",
    "e = pd.DataFrame(data)"
   ]
  },
  {
   "cell_type": "code",
   "execution_count": 164,
   "metadata": {},
   "outputs": [
    {
     "data": {
      "text/html": [
       "<div>\n",
       "<style scoped>\n",
       "    .dataframe tbody tr th:only-of-type {\n",
       "        vertical-align: middle;\n",
       "    }\n",
       "\n",
       "    .dataframe tbody tr th {\n",
       "        vertical-align: top;\n",
       "    }\n",
       "\n",
       "    .dataframe thead th {\n",
       "        text-align: right;\n",
       "    }\n",
       "</style>\n",
       "<table border=\"1\" class=\"dataframe\">\n",
       "  <thead>\n",
       "    <tr style=\"text-align: right;\">\n",
       "      <th></th>\n",
       "      <th>galaxy</th>\n",
       "      <th>lower</th>\n",
       "      <th>upper</th>\n",
       "      <th>actual</th>\n",
       "    </tr>\n",
       "  </thead>\n",
       "  <tbody>\n",
       "    <tr>\n",
       "      <th>0</th>\n",
       "      <td>0</td>\n",
       "      <td>-0.549051</td>\n",
       "      <td>-0.351861</td>\n",
       "      <td>-0.485023</td>\n",
       "    </tr>\n",
       "    <tr>\n",
       "      <th>1</th>\n",
       "      <td>1</td>\n",
       "      <td>-0.663523</td>\n",
       "      <td>-0.623418</td>\n",
       "      <td>-0.650689</td>\n",
       "    </tr>\n",
       "    <tr>\n",
       "      <th>2</th>\n",
       "      <td>2</td>\n",
       "      <td>-0.596766</td>\n",
       "      <td>-0.561716</td>\n",
       "      <td>-0.585281</td>\n",
       "    </tr>\n",
       "    <tr>\n",
       "      <th>3</th>\n",
       "      <td>3</td>\n",
       "      <td>-0.985200</td>\n",
       "      <td>-0.896957</td>\n",
       "      <td>-0.956962</td>\n",
       "    </tr>\n",
       "    <tr>\n",
       "      <th>4</th>\n",
       "      <td>4</td>\n",
       "      <td>-0.834662</td>\n",
       "      <td>-0.750925</td>\n",
       "      <td>-0.807906</td>\n",
       "    </tr>\n",
       "    <tr>\n",
       "      <th>5</th>\n",
       "      <td>5</td>\n",
       "      <td>-0.511441</td>\n",
       "      <td>-0.305562</td>\n",
       "      <td>-0.445836</td>\n",
       "    </tr>\n",
       "    <tr>\n",
       "      <th>6</th>\n",
       "      <td>6</td>\n",
       "      <td>-2.371629</td>\n",
       "      <td>-2.346186</td>\n",
       "      <td>-2.363307</td>\n",
       "    </tr>\n",
       "    <tr>\n",
       "      <th>7</th>\n",
       "      <td>7</td>\n",
       "      <td>-0.960317</td>\n",
       "      <td>-0.776642</td>\n",
       "      <td>-0.900755</td>\n",
       "    </tr>\n",
       "    <tr>\n",
       "      <th>8</th>\n",
       "      <td>8</td>\n",
       "      <td>-0.715538</td>\n",
       "      <td>-0.684436</td>\n",
       "      <td>-0.705563</td>\n",
       "    </tr>\n",
       "    <tr>\n",
       "      <th>9</th>\n",
       "      <td>9</td>\n",
       "      <td>-0.788377</td>\n",
       "      <td>-0.753583</td>\n",
       "      <td>-0.776748</td>\n",
       "    </tr>\n",
       "  </tbody>\n",
       "</table>\n",
       "</div>"
      ],
      "text/plain": [
       "   galaxy     lower     upper    actual\n",
       "0       0 -0.549051 -0.351861 -0.485023\n",
       "1       1 -0.663523 -0.623418 -0.650689\n",
       "2       2 -0.596766 -0.561716 -0.585281\n",
       "3       3 -0.985200 -0.896957 -0.956962\n",
       "4       4 -0.834662 -0.750925 -0.807906\n",
       "5       5 -0.511441 -0.305562 -0.445836\n",
       "6       6 -2.371629 -2.346186 -2.363307\n",
       "7       7 -0.960317 -0.776642 -0.900755\n",
       "8       8 -0.715538 -0.684436 -0.705563\n",
       "9       9 -0.788377 -0.753583 -0.776748"
      ]
     },
     "execution_count": 164,
     "metadata": {},
     "output_type": "execute_result"
    }
   ],
   "source": [
    "e"
   ]
  },
  {
   "cell_type": "code",
   "execution_count": 165,
   "metadata": {},
   "outputs": [],
   "source": [
    "e['midpoint'] = e['lower'] + (e['upper'] - e['lower'])/2 \n",
    "e['offset'] = e['actual'] - e['midpoint']  \n",
    "mean_offset = e['offset'].mean()"
   ]
  },
  {
   "cell_type": "code",
   "execution_count": 166,
   "metadata": {},
   "outputs": [
    {
     "data": {
      "text/plain": [
       "<matplotlib.axes._subplots.AxesSubplot at 0x7fa3733b6c10>"
      ]
     },
     "execution_count": 166,
     "metadata": {},
     "output_type": "execute_result"
    },
    {
     "data": {
      "image/png": "[encoded data removed]",
      "text/plain": [
       "<Figure size 432x288 with 1 Axes>"
      ]
     },
     "metadata": {
      "needs_background": "light"
     },
     "output_type": "display_data"
    }
   ],
   "source": [
    "e['offset'].hist()"
   ]
  },
  {
   "cell_type": "code",
   "execution_count": 167,
   "metadata": {},
   "outputs": [],
   "source": [
    "e['actual_offset'] = e['actual'] - mean_offset"
   ]
  },
  {
   "cell_type": "code",
   "execution_count": 168,
   "metadata": {},
   "outputs": [
    {
     "data": {
      "text/plain": [
       "array([-0.45045593, -0.64347019, -0.57924095, -0.94107859, -0.79279359,\n",
       "       -0.40850155, -2.35890763, -0.86847949, -0.69998698, -0.7709799 ])"
      ]
     },
     "execution_count": 168,
     "metadata": {},
     "output_type": "execute_result"
    }
   ],
   "source": [
    "e['midpoint'].values"
   ]
  },
  {
   "cell_type": "code",
   "execution_count": 169,
   "metadata": {},
   "outputs": [],
   "source": [
    "e = e.sort_values('midpoint').reset_index(drop=True)"
   ]
  },
  {
   "cell_type": "code",
   "execution_count": 170,
   "metadata": {},
   "outputs": [],
   "source": [
    "e['rank'] = e.index"
   ]
  },
  {
   "cell_type": "code",
   "execution_count": 171,
   "metadata": {},
   "outputs": [
    {
     "data": {
      "text/html": [
       "<div>\n",
       "<style scoped>\n",
       "    .dataframe tbody tr th:only-of-type {\n",
       "        vertical-align: middle;\n",
       "    }\n",
       "\n",
       "    .dataframe tbody tr th {\n",
       "        vertical-align: top;\n",
       "    }\n",
       "\n",
       "    .dataframe thead th {\n",
       "        text-align: right;\n",
       "    }\n",
       "</style>\n",
       "<table border=\"1\" class=\"dataframe\">\n",
       "  <thead>\n",
       "    <tr style=\"text-align: right;\">\n",
       "      <th></th>\n",
       "      <th>galaxy</th>\n",
       "      <th>lower</th>\n",
       "      <th>upper</th>\n",
       "      <th>actual</th>\n",
       "      <th>midpoint</th>\n",
       "      <th>offset</th>\n",
       "      <th>actual_offset</th>\n",
       "      <th>rank</th>\n",
       "    </tr>\n",
       "  </thead>\n",
       "  <tbody>\n",
       "    <tr>\n",
       "      <th>0</th>\n",
       "      <td>6</td>\n",
       "      <td>-2.371629</td>\n",
       "      <td>-2.346186</td>\n",
       "      <td>-2.363307</td>\n",
       "      <td>-2.358908</td>\n",
       "      <td>-0.004399</td>\n",
       "      <td>-2.346890</td>\n",
       "      <td>0</td>\n",
       "    </tr>\n",
       "    <tr>\n",
       "      <th>1</th>\n",
       "      <td>3</td>\n",
       "      <td>-0.985200</td>\n",
       "      <td>-0.896957</td>\n",
       "      <td>-0.956962</td>\n",
       "      <td>-0.941079</td>\n",
       "      <td>-0.015884</td>\n",
       "      <td>-0.940545</td>\n",
       "      <td>1</td>\n",
       "    </tr>\n",
       "    <tr>\n",
       "      <th>2</th>\n",
       "      <td>7</td>\n",
       "      <td>-0.960317</td>\n",
       "      <td>-0.776642</td>\n",
       "      <td>-0.900755</td>\n",
       "      <td>-0.868479</td>\n",
       "      <td>-0.032275</td>\n",
       "      <td>-0.884337</td>\n",
       "      <td>2</td>\n",
       "    </tr>\n",
       "    <tr>\n",
       "      <th>3</th>\n",
       "      <td>4</td>\n",
       "      <td>-0.834662</td>\n",
       "      <td>-0.750925</td>\n",
       "      <td>-0.807906</td>\n",
       "      <td>-0.792794</td>\n",
       "      <td>-0.015112</td>\n",
       "      <td>-0.791489</td>\n",
       "      <td>3</td>\n",
       "    </tr>\n",
       "    <tr>\n",
       "      <th>4</th>\n",
       "      <td>9</td>\n",
       "      <td>-0.788377</td>\n",
       "      <td>-0.753583</td>\n",
       "      <td>-0.776748</td>\n",
       "      <td>-0.770980</td>\n",
       "      <td>-0.005768</td>\n",
       "      <td>-0.760330</td>\n",
       "      <td>4</td>\n",
       "    </tr>\n",
       "    <tr>\n",
       "      <th>5</th>\n",
       "      <td>8</td>\n",
       "      <td>-0.715538</td>\n",
       "      <td>-0.684436</td>\n",
       "      <td>-0.705563</td>\n",
       "      <td>-0.699987</td>\n",
       "      <td>-0.005576</td>\n",
       "      <td>-0.689146</td>\n",
       "      <td>5</td>\n",
       "    </tr>\n",
       "    <tr>\n",
       "      <th>6</th>\n",
       "      <td>1</td>\n",
       "      <td>-0.663523</td>\n",
       "      <td>-0.623418</td>\n",
       "      <td>-0.650689</td>\n",
       "      <td>-0.643470</td>\n",
       "      <td>-0.007219</td>\n",
       "      <td>-0.634272</td>\n",
       "      <td>6</td>\n",
       "    </tr>\n",
       "    <tr>\n",
       "      <th>7</th>\n",
       "      <td>2</td>\n",
       "      <td>-0.596766</td>\n",
       "      <td>-0.561716</td>\n",
       "      <td>-0.585281</td>\n",
       "      <td>-0.579241</td>\n",
       "      <td>-0.006040</td>\n",
       "      <td>-0.568863</td>\n",
       "      <td>7</td>\n",
       "    </tr>\n",
       "    <tr>\n",
       "      <th>8</th>\n",
       "      <td>0</td>\n",
       "      <td>-0.549051</td>\n",
       "      <td>-0.351861</td>\n",
       "      <td>-0.485023</td>\n",
       "      <td>-0.450456</td>\n",
       "      <td>-0.034567</td>\n",
       "      <td>-0.468605</td>\n",
       "      <td>8</td>\n",
       "    </tr>\n",
       "    <tr>\n",
       "      <th>9</th>\n",
       "      <td>5</td>\n",
       "      <td>-0.511441</td>\n",
       "      <td>-0.305562</td>\n",
       "      <td>-0.445836</td>\n",
       "      <td>-0.408502</td>\n",
       "      <td>-0.037335</td>\n",
       "      <td>-0.429419</td>\n",
       "      <td>9</td>\n",
       "    </tr>\n",
       "  </tbody>\n",
       "</table>\n",
       "</div>"
      ],
      "text/plain": [
       "   galaxy     lower     upper    actual  midpoint    offset  actual_offset  \\\n",
       "0       6 -2.371629 -2.346186 -2.363307 -2.358908 -0.004399      -2.346890   \n",
       "1       3 -0.985200 -0.896957 -0.956962 -0.941079 -0.015884      -0.940545   \n",
       "2       7 -0.960317 -0.776642 -0.900755 -0.868479 -0.032275      -0.884337   \n",
       "3       4 -0.834662 -0.750925 -0.807906 -0.792794 -0.015112      -0.791489   \n",
       "4       9 -0.788377 -0.753583 -0.776748 -0.770980 -0.005768      -0.760330   \n",
       "5       8 -0.715538 -0.684436 -0.705563 -0.699987 -0.005576      -0.689146   \n",
       "6       1 -0.663523 -0.623418 -0.650689 -0.643470 -0.007219      -0.634272   \n",
       "7       2 -0.596766 -0.561716 -0.585281 -0.579241 -0.006040      -0.568863   \n",
       "8       0 -0.549051 -0.351861 -0.485023 -0.450456 -0.034567      -0.468605   \n",
       "9       5 -0.511441 -0.305562 -0.445836 -0.408502 -0.037335      -0.429419   \n",
       "\n",
       "   rank  \n",
       "0     0  \n",
       "1     1  \n",
       "2     2  \n",
       "3     3  \n",
       "4     4  \n",
       "5     5  \n",
       "6     6  \n",
       "7     7  \n",
       "8     8  \n",
       "9     9  "
      ]
     },
     "execution_count": 171,
     "metadata": {},
     "output_type": "execute_result"
    }
   ],
   "source": [
    "e"
   ]
  },
  {
   "cell_type": "code",
   "execution_count": 172,
   "metadata": {},
   "outputs": [],
   "source": [
    "import seaborn as sns"
   ]
  },
  {
   "cell_type": "code",
   "execution_count": 173,
   "metadata": {},
   "outputs": [
    {
     "data": {
      "text/plain": [
       "Text(0.5, 0, 'Galaxy (rank)')"
      ]
     },
     "execution_count": 173,
     "metadata": {},
     "output_type": "execute_result"
    },
    {
     "data": {
      "image/png": "[encoded data removed]",
      "text/plain": [
       "<Figure size 864x576 with 1 Axes>"
      ]
     },
     "metadata": {
      "needs_background": "light"
     },
     "output_type": "display_data"
    }
   ],
   "source": [
    "fig, ax = plt.subplots(figsize=(12, 8))\n",
    "sns.scatterplot(data=e, x='rank', y='lower', label='lower', marker='+', ax=ax)\n",
    "sns.scatterplot(data=e, x='rank', y='upper', label='upper', marker='+', ax=ax)\n",
    "sns.scatterplot(data=e, x='rank', y='actual', label='actual', marker='x', ax=ax)\n",
    "# sns.scatterplot(data=e, x='rank', y='actual_offset', label='actual_offset', marker='x', ax=ax)\n",
    "plt.legend()\n",
    "plt.ylabel('Differential Entropy')\n",
    "plt.xlabel('Galaxy (rank)')"
   ]
  },
  {
   "cell_type": "markdown",
   "metadata": {},
   "source": [
    "Can now calculate 'entropy of whole mixture' term, and already knew average entropy of each component, so MI known.\n",
    "Remains to be tested if the error in the mixture entropy is smaller than the mixture entropy - average entropy variation"
   ]
  },
  {
   "cell_type": "code",
   "execution_count": 174,
   "metadata": {},
   "outputs": [],
   "source": [
    "from zoobot.active_learning import acquisition_utils\n",
    "from zoobot import label_metadata\n",
    "from zoobot.estimators import losses"
   ]
  },
  {
   "cell_type": "code",
   "execution_count": 175,
   "metadata": {},
   "outputs": [
    {
     "name": "stdout",
     "output_type": "stream",
     "text": [
      "{smooth-or-featured, indices 0 to 2, asked after None: (0, 2), disk-edge-on, indices 3 to 4, asked after smooth-or-featured_featured-or-disk, index 1: (3, 4), has-spiral-arms, indices 5 to 6, asked after disk-edge-on_no, index 4: (5, 6), bar, indices 7 to 9, asked after disk-edge-on_no, index 4: (7, 9), bulge-size, indices 10 to 14, asked after disk-edge-on_no, index 4: (10, 14), how-rounded, indices 15 to 17, asked after smooth-or-featured_smooth, index 0: (15, 17), edge-on-bulge, indices 18 to 20, asked after disk-edge-on_yes, index 3: (18, 20), spiral-winding, indices 21 to 23, asked after has-spiral-arms_yes, index 5: (21, 23), spiral-arm-count, indices 24 to 29, asked after has-spiral-arms_yes, index 5: (24, 29), merging, indices 30 to 33, asked after None: (30, 33)}\n"
     ]
    }
   ],
   "source": [
    "# decals cols\n",
    "questions = label_metadata.decals_questions\n",
    "version = 'decals'\n",
    "label_cols = label_metadata.decals_label_cols\n",
    "\n",
    "# gz2 cols\n",
    "# questions = label_metadata.gz2_questions\n",
    "# version = 'gz2'\n",
    "# label_cols = label_metadata.gz2_label_cols\n",
    "\n",
    "\n",
    "\n",
    "schema = losses.Schema(label_cols, questions, version=version)"
   ]
  },
  {
   "cell_type": "code",
   "execution_count": 176,
   "metadata": {},
   "outputs": [
    {
     "name": "stdout",
     "output_type": "stream",
     "text": [
      "(10000, 34, 5)\n"
     ]
    }
   ],
   "source": [
    "print(concentrations.shape)"
   ]
  },
  {
   "cell_type": "code",
   "execution_count": 185,
   "metadata": {},
   "outputs": [],
   "source": [
    "concentrations_cut = concentrations.astype(np.float32)[:100]\n",
    "samples_list = [concentrations_cut, concentrations_cut + np.random.rand(*concentrations_cut.shape)]"
   ]
  },
  {
   "cell_type": "code",
   "execution_count": 186,
   "metadata": {},
   "outputs": [
    {
     "data": {
      "text/plain": [
       "(100, 34, 5)"
      ]
     },
     "execution_count": 186,
     "metadata": {},
     "output_type": "execute_result"
    }
   ],
   "source": [
    "concentrations_cut.shape"
   ]
  },
  {
   "cell_type": "code",
   "execution_count": 187,
   "metadata": {},
   "outputs": [
    {
     "name": "stderr",
     "output_type": "stream",
     "text": [
      "WARNING:root:Only optimising over four questions\n"
     ]
    },
    {
     "name": "stdout",
     "output_type": "stream",
     "text": [
      "smooth-or-featured\n",
      "Calculating predictive entropy\n",
      "Calculating expected entropy\n"
     ]
    },
    {
     "name": "stderr",
     "output_type": "stream",
     "text": [
      "WARNING:root:Skipping disk-edge-on\n"
     ]
    },
    {
     "name": "stdout",
     "output_type": "stream",
     "text": [
      "Calculating joint p of being asked\n",
      "has-spiral-arms\n",
      "Calculating predictive entropy\n",
      "Calculating expected entropy\n",
      "Calculating joint p of being asked\n",
      "bar\n",
      "Calculating predictive entropy\n",
      "Calculating expected entropy\n",
      "Calculating joint p of being asked\n",
      "bulge-size\n",
      "Calculating predictive entropy\n",
      "Calculating expected entropy\n"
     ]
    },
    {
     "name": "stderr",
     "output_type": "stream",
     "text": [
      "WARNING:root:Skipping how-rounded\n",
      "WARNING:root:Skipping edge-on-bulge\n",
      "WARNING:root:Skipping spiral-winding\n",
      "WARNING:root:Skipping spiral-arm-count\n",
      "WARNING:root:Skipping merging\n"
     ]
    },
    {
     "name": "stdout",
     "output_type": "stream",
     "text": [
      "Calculating joint p of being asked\n"
     ]
    }
   ],
   "source": [
    "mi, predictive, expected = acquisition_utils.get_multimodel_acq(samples_list, schema)"
   ]
  },
  {
   "cell_type": "code",
   "execution_count": 188,
   "metadata": {},
   "outputs": [
    {
     "data": {
      "text/plain": [
       "((100, 4), (100, 4))"
      ]
     },
     "execution_count": 188,
     "metadata": {},
     "output_type": "execute_result"
    }
   ],
   "source": [
    "predictive.shape, expected.shape"
   ]
  },
  {
   "cell_type": "code",
   "execution_count": 189,
   "metadata": {},
   "outputs": [
    {
     "data": {
      "text/plain": [
       "(100, 4)"
      ]
     },
     "execution_count": 189,
     "metadata": {},
     "output_type": "execute_result"
    }
   ],
   "source": [
    "mi.shape"
   ]
  },
  {
   "cell_type": "code",
   "execution_count": 190,
   "metadata": {},
   "outputs": [
    {
     "data": {
      "text/plain": [
       "array([[ -2.68519668,  -0.49891518,  -1.84529885,  -7.06700113],\n",
       "       [ -3.11963945,  -0.64634737,  -3.09750469,  -8.94095922],\n",
       "       [ -3.11249568,  -0.58956897,  -2.96697336,  -8.72229828],\n",
       "       [ -3.09089189,  -0.9027819 ,  -1.96608695, -10.32378614],\n",
       "       [ -4.16451508,  -0.78854599,  -4.44639261,  -7.00549797],\n",
       "       [ -3.10252563,  -0.4106918 ,  -4.90679756,  -9.07237766],\n",
       "       [ -3.78109782,  -2.25849747,  -2.46322675,  -9.10447209],\n",
       "       [ -4.24569935,  -0.85942494,  -3.8937461 ,  -7.42340108],\n",
       "       [ -3.40083414,  -0.7041205 ,  -3.07806841,  -9.96670384],\n",
       "       [ -3.26466055,  -0.76708154,  -2.08420836, -11.00645117],\n",
       "       [ -4.33471238,  -2.52066879,  -5.39304625, -10.52670628],\n",
       "       [ -3.66097236,  -0.98352536,  -2.92292196,  -6.80564493],\n",
       "       [ -2.49976652,  -0.40922369,  -2.67851269,  -8.0020479 ],\n",
       "       [ -2.92571485,  -1.34988406,  -3.41383319,  -9.52317482],\n",
       "       [ -3.40384343,  -0.79479311,  -3.68303757,  -6.44338085],\n",
       "       [ -2.9020347 ,  -0.60892951,  -3.79195561,  -7.24142962],\n",
       "       [ -3.36347479,  -0.69942656,  -2.05000107, -10.31165307],\n",
       "       [ -3.1588455 ,  -0.62878433,  -3.2667262 ,  -7.60277859],\n",
       "       [ -3.56810616,  -0.89885283,  -2.18809052,  -8.3722894 ],\n",
       "       [ -3.44211896,  -2.17046064,  -2.93338652,  -9.6714355 ],\n",
       "       [ -4.11928647,  -2.13097046,  -4.46592693, -10.34988276],\n",
       "       [ -3.15235663,  -0.59466993,  -2.5277079 ,  -8.55501063],\n",
       "       [ -4.14172087,  -1.96660657,  -3.89034034, -10.54214631],\n",
       "       [ -4.16799635,  -2.16623475,  -4.27340053, -10.29486924],\n",
       "       [ -4.12430358,  -2.03651494,  -3.12806132, -11.97351126],\n",
       "       [ -3.45354364,  -0.99379397,  -4.40960911, -10.4497352 ],\n",
       "       [ -3.33176617,  -1.03718144,  -2.37147598, -10.84152975],\n",
       "       [ -3.21837533,  -0.981646  ,  -3.23016615,  -9.29934455],\n",
       "       [ -4.05498494,  -1.2564046 ,  -3.85815452,  -6.78176689],\n",
       "       [ -3.85577485,  -2.46134453,  -4.77796063,  -8.45959468],\n",
       "       [ -4.3416005 ,  -2.18341187,  -5.27849363, -10.07780185],\n",
       "       [ -4.57705896,  -0.66048116,  -2.71618519,  -7.04631769],\n",
       "       [ -3.99447531,  -1.10063029,  -4.0660138 ,  -6.5076142 ],\n",
       "       [ -3.31556649,  -1.95261724,  -4.43985526,  -7.97393022],\n",
       "       [ -4.23150367,  -1.01779419,  -4.08910085,  -7.74329633],\n",
       "       [ -3.6050719 ,  -1.45941477,  -2.76246628,  -7.45427199],\n",
       "       [ -4.18966594,  -1.83888138,  -4.6875777 ,  -9.21247772],\n",
       "       [ -3.68308978,  -0.66519867,  -3.62992754,  -8.1763866 ],\n",
       "       [ -3.27905166,  -1.39703899,  -2.3272633 ,  -8.12388855],\n",
       "       [ -4.0365791 ,  -2.04661259,  -4.89010203,  -9.20114334],\n",
       "       [ -4.16968713,  -2.4658567 ,  -5.28876311, -10.3254772 ],\n",
       "       [ -3.8657811 ,  -2.47908332,  -5.23139145, -10.30353774],\n",
       "       [ -3.94165365,  -1.61730304,  -4.53966867, -10.08888899],\n",
       "       [ -3.18300072,  -0.60664476,  -4.10372093,  -9.70877076],\n",
       "       [ -4.09069933,  -1.7169943 ,  -3.78958129,  -9.66067215],\n",
       "       [ -3.50565277,  -0.76696749,  -3.70068763,  -9.84053167],\n",
       "       [ -3.12656528,  -0.43624718,  -1.91955427,  -7.08349396],\n",
       "       [ -2.73671153,  -0.49813762,  -4.33844565, -11.34194255],\n",
       "       [ -4.22385892,  -1.83781835,  -3.69232489,  -8.73392863],\n",
       "       [ -2.3024564 ,  -0.72716466,  -2.05874663, -10.28033572],\n",
       "       [ -4.48322932,  -0.79276871,  -4.75661773,  -7.49419255],\n",
       "       [ -3.16522473,  -0.71245353,  -2.67937616, -10.16101707],\n",
       "       [ -3.22469411,  -1.46519285,  -3.35379672, -10.32046703],\n",
       "       [ -3.27796775,  -0.58650574,  -2.80199419,  -8.27866551],\n",
       "       [ -3.94685004,  -1.47301733,  -4.49734114,  -7.53678262],\n",
       "       [ -3.57965128,  -1.31055111,  -2.95972425,  -6.97766175],\n",
       "       [ -2.94492708,  -1.05272234,  -3.4938224 ,  -7.08403779],\n",
       "       [ -2.92575005,  -0.70331976,  -2.17094615,  -6.16760549],\n",
       "       [ -3.10713722,  -1.25984891,  -4.93085421,  -6.53789781],\n",
       "       [ -3.20018573,  -0.47777146,  -2.41483554, -10.42181699],\n",
       "       [ -4.36283154,  -2.20094885,  -4.93458289, -10.12198714],\n",
       "       [ -4.02161612,  -2.29252071,  -3.94054111, -10.03310296],\n",
       "       [ -3.09522012,  -0.46239133,  -1.67829045,  -9.83985775],\n",
       "       [ -1.2918246 ,  -0.17533232,  -1.30792981,  -7.61626821],\n",
       "       [ -3.60561503,  -2.32595329,  -5.09310191,  -6.87904792],\n",
       "       [ -4.09676836,  -0.81454955,  -2.32991268,  -7.16923225],\n",
       "       [ -4.75268406,  -1.09623651,  -3.4690129 ,  -6.84640013],\n",
       "       [ -3.05401452,  -0.60235888,  -1.76456301,  -8.788134  ],\n",
       "       [ -3.23769221,  -2.18629437,  -3.41462022,  -7.44019674],\n",
       "       [ -3.85921353,  -2.26597908,  -4.40788821,  -7.97132205],\n",
       "       [ -3.78120897,  -1.78128336,  -3.6641473 ,  -8.65601887],\n",
       "       [ -4.01235154,  -2.49875074,  -3.69114367,  -9.52539091],\n",
       "       [ -3.90940387,  -0.95002382,  -4.02557184,  -7.97814585],\n",
       "       [ -4.18731237,  -1.78257629,  -3.60325279,  -8.2797898 ],\n",
       "       [ -3.58245057,  -0.86307482,  -3.75092484,  -7.86093127],\n",
       "       [ -2.77305792,  -0.39994032,  -2.74182189,  -8.94316923],\n",
       "       [ -3.93498161,  -2.13722616,  -5.29198005,  -9.7751653 ],\n",
       "       [ -3.47922197,  -1.28351048,  -3.92620331,  -7.37251502],\n",
       "       [ -3.75009762,  -0.90074085,  -3.72318033, -10.73972339],\n",
       "       [ -3.8663916 ,  -0.84918044,  -4.79250236,  -8.48312801],\n",
       "       [ -3.72824193,  -1.57336953,  -4.28248171,  -8.39227994],\n",
       "       [ -4.22598476,  -2.21575856,  -4.72841019,  -9.53811287],\n",
       "       [ -4.00724042,  -0.94100452,  -3.84703262,  -8.13158321],\n",
       "       [ -3.46952003,  -1.76560531,  -4.41640748,  -9.18691747],\n",
       "       [ -3.12055682,  -0.55946176,  -3.52319275, -11.8026364 ],\n",
       "       [ -3.88385269,  -0.68854946,  -3.4914034 ,  -7.72611534],\n",
       "       [ -3.99760469,  -1.40278792,  -3.04523866,  -7.06754071],\n",
       "       [ -3.51175954,  -1.09796432,  -4.55545943,  -9.78828116],\n",
       "       [ -2.96662979,  -1.17138099,  -3.05711506,  -8.96060673],\n",
       "       [ -3.1278508 ,  -0.58915911,  -2.09417186,  -9.27889217],\n",
       "       [ -2.44203396,  -0.35560882,  -3.03153577,  -7.55310439],\n",
       "       [ -2.96355917,  -0.51932281,  -4.93011312, -10.06797017],\n",
       "       [ -4.16149208,  -2.65591951,  -4.84874201,  -9.71840572],\n",
       "       [ -4.61802805,  -1.3031211 ,  -3.64209783,  -7.0839313 ],\n",
       "       [ -3.36444945,  -0.77953239,  -2.20396697, -10.44768939],\n",
       "       [ -3.69914022,  -1.46668621,  -3.48041953, -10.71653014],\n",
       "       [ -3.92630789,  -1.81457021,  -3.2558949 ,  -9.93656363],\n",
       "       [ -4.16666483,  -2.08234125,  -4.7198903 ,  -9.90914723],\n",
       "       [ -3.19383506,  -0.50500763,  -2.42747523, -10.22641358],\n",
       "       [ -3.72019551,  -1.69228366,  -2.45685015,  -9.66320588]])"
      ]
     },
     "execution_count": 190,
     "metadata": {},
     "output_type": "execute_result"
    }
   ],
   "source": [
    "expected"
   ]
  },
  {
   "cell_type": "code",
   "execution_count": 191,
   "metadata": {},
   "outputs": [
    {
     "data": {
      "text/plain": [
       "array([[ -2.68248444,  -0.49466054,  -1.83624637,  -7.04003045],\n",
       "       [ -3.11215371,  -0.64576471,  -3.07452443,  -8.93304184],\n",
       "       [ -3.10146236,  -0.58484454,  -2.95621088,  -8.68125223],\n",
       "       [ -3.07307848,  -0.89068753,  -1.96374802, -10.29525968],\n",
       "       [ -4.15299019,  -0.78559744,  -4.41893828,  -7.00350187],\n",
       "       [ -3.09822534,  -0.41050312,  -4.89794243,  -9.04476927],\n",
       "       [ -3.77714682,  -2.23801631,  -2.45633997,  -9.06428701],\n",
       "       [ -4.2355938 ,  -0.85536781,  -3.88045099,  -7.41252977],\n",
       "       [ -3.39658644,  -0.70354913,  -3.04201724,  -9.94201554],\n",
       "       [ -3.25395955,  -0.76522924,  -2.08154394, -10.96081814],\n",
       "       [ -4.33163425,  -2.49819449,  -5.36577322, -10.46738745],\n",
       "       [ -3.65602351,  -0.97977298,  -2.91350855,  -6.79538401],\n",
       "       [ -2.4919961 ,  -0.4023908 ,  -2.65803564,  -7.96994663],\n",
       "       [ -2.92314769,  -1.34811629,  -3.39995969,  -9.50004852],\n",
       "       [ -3.39518527,  -0.79125912,  -3.65936182,  -6.44037078],\n",
       "       [ -2.89548608,  -0.60744462,  -3.78320663,  -7.23022252],\n",
       "       [ -3.35900359,  -0.69837816,  -2.04912059, -10.25100523],\n",
       "       [ -3.15565603,  -0.62834429,  -3.26103576,  -7.58880733],\n",
       "       [ -3.5582071 ,  -0.89362674,  -2.18430199,  -8.34777097],\n",
       "       [ -3.43247629,  -2.15603055,  -2.93297226,  -9.6428621 ],\n",
       "       [ -4.11724585,  -2.11132624,  -4.44597913, -10.31053583],\n",
       "       [ -3.1456924 ,  -0.59031376,  -2.52544196,  -8.53061153],\n",
       "       [ -4.13795968,  -1.92919183,  -3.85968708, -10.48932798],\n",
       "       [ -4.16350105,  -2.13305258,  -4.25513589, -10.24594832],\n",
       "       [ -4.10550693,  -2.01706658,  -3.09962346, -11.87865255],\n",
       "       [ -3.45223859,  -0.96939272,  -4.38310754, -10.41901843],\n",
       "       [ -3.32738321,  -1.03332792,  -2.367537  , -10.81443173],\n",
       "       [ -3.21016317,  -0.97582458,  -3.21049391,  -9.26166037],\n",
       "       [ -4.051075  ,  -1.25454357,  -3.825168  ,  -6.76023301],\n",
       "       [ -3.85286048,  -2.44635455,  -4.74341363,  -8.43533722],\n",
       "       [ -4.34010727,  -2.16479374,  -5.25080359, -10.03545962],\n",
       "       [ -4.55937156,  -0.65556464,  -2.70322718,  -7.0381618 ],\n",
       "       [ -3.990809  ,  -1.09581927,  -4.05258646,  -6.49849397],\n",
       "       [ -3.31418289,  -1.9448357 ,  -4.42040389,  -7.96311429],\n",
       "       [ -4.22581363,  -1.01376707,  -4.05978543,  -7.73800581],\n",
       "       [ -3.60383074,  -1.44355655,  -2.75135864,  -7.39973506],\n",
       "       [ -4.1860733 ,  -1.81395412,  -4.65539613,  -9.18809526],\n",
       "       [ -3.67907319,  -0.66467417,  -3.60849403,  -8.15345909],\n",
       "       [ -3.27226751,  -1.38938798,  -2.32408123,  -8.10653317],\n",
       "       [ -4.0328615 ,  -2.02592629,  -4.83799368,  -9.18762504],\n",
       "       [ -4.16704505,  -2.44248386,  -5.24574458, -10.26498029],\n",
       "       [ -3.86401329,  -2.43756524,  -5.17520262, -10.25860272],\n",
       "       [ -3.93628227,  -1.60659146,  -4.51520626, -10.03440771],\n",
       "       [ -3.17509927,  -0.60414095,  -4.05106276,  -9.69037205],\n",
       "       [ -4.08688341,  -1.65998447,  -3.76371323,  -9.600355  ],\n",
       "       [ -3.50319667,  -0.76586886,  -3.68776815,  -9.80971894],\n",
       "       [ -3.12365666,  -0.4342987 ,  -1.91011466,  -7.05590352],\n",
       "       [ -2.73228088,  -0.49731957,  -4.28232124, -11.24652061],\n",
       "       [ -4.21950896,  -1.80488803,  -3.65629044,  -8.70748907],\n",
       "       [ -2.29467008,  -0.71812392,  -2.04478934, -10.21202018],\n",
       "       [ -4.47725337,  -0.78968189,  -4.71393531,  -7.47551645],\n",
       "       [ -3.15669712,  -0.69796939,  -2.67265678, -10.09683478],\n",
       "       [ -3.21461996,  -1.45746687,  -3.33754929, -10.28417419],\n",
       "       [ -3.27223009,  -0.58447686,  -2.78867711,  -8.24309321],\n",
       "       [ -3.93938028,  -1.45315177,  -4.47400211,  -7.5332474 ],\n",
       "       [ -3.57626006,  -1.30730999,  -2.9504496 ,  -6.96841747],\n",
       "       [ -2.93685811,  -1.05180842,  -3.46406711,  -7.07351761],\n",
       "       [ -2.92263446,  -0.69641031,  -2.16594616,  -6.15239622],\n",
       "       [ -3.10505562,  -1.23216128,  -4.88079869,  -6.52177087],\n",
       "       [ -3.19752983,  -0.47600237,  -2.41162559, -10.36532485],\n",
       "       [ -4.35946107,  -2.15732534,  -4.87804972, -10.0554842 ],\n",
       "       [ -4.01886118,  -2.28626305,  -3.91468976, -10.01035578],\n",
       "       [ -3.09078181,  -0.46194159,  -1.67429416,  -9.79094998],\n",
       "       [ -1.28064722,  -0.16061136,  -1.28536529,  -7.58184615],\n",
       "       [ -3.60232724,  -2.30350854,  -5.04706274,  -6.85915305],\n",
       "       [ -4.08879246,  -0.81115482,  -2.31831029,  -7.15071649],\n",
       "       [ -4.73346373,  -1.09275423,  -3.44052584,  -6.84290092],\n",
       "       [ -3.05027595,  -0.60167758,  -1.76196329,  -8.71514177],\n",
       "       [ -3.23383814,  -2.14744844,  -3.39201096,  -7.42472549],\n",
       "       [ -3.85663808,  -2.18487099,  -4.37830794,  -7.96053967],\n",
       "       [ -3.77747968,  -1.77252352,  -3.64505656,  -8.64247023],\n",
       "       [ -4.00875714,  -2.49655462,  -3.66496648,  -9.47563407],\n",
       "       [ -3.90570259,  -0.9464299 ,  -4.01654381,  -7.94809911],\n",
       "       [ -4.18271243,  -1.77811003,  -3.59842211,  -8.25464595],\n",
       "       [ -3.57854152,  -0.85686524,  -3.71998005,  -7.84158559],\n",
       "       [ -2.76845673,  -0.39708552,  -2.70370486,  -8.90899653],\n",
       "       [ -3.93008256,  -2.11434638,  -5.26244514,  -9.75346699],\n",
       "       [ -3.46893964,  -1.27378664,  -3.90541775,  -7.35697137],\n",
       "       [ -3.74519639,  -0.89540737,  -3.69335458, -10.69343154],\n",
       "       [ -3.86086589,  -0.84263323,  -4.75421665,  -8.47513339],\n",
       "       [ -3.72499147,  -1.56711188,  -4.25499273,  -8.35736615],\n",
       "       [ -4.21718939,  -2.19639889,  -4.71538521,  -9.50154295],\n",
       "       [ -4.00518363,  -0.93764671,  -3.8263118 ,  -8.10825371],\n",
       "       [ -3.46845553,  -1.73636849,  -4.39780149,  -9.1698343 ],\n",
       "       [ -3.1156113 ,  -0.55735894,  -3.49769101, -11.73613964],\n",
       "       [ -3.87993146,  -0.68831981,  -3.47776736,  -7.70839612],\n",
       "       [ -3.99427035,  -1.39986912,  -3.04352701,  -7.0540432 ],\n",
       "       [ -3.50886606,  -1.0951824 ,  -4.50342523,  -9.76826598],\n",
       "       [ -2.96579835,  -1.16300927,  -3.0520078 ,  -8.94144039],\n",
       "       [ -3.12313655,  -0.58815749,  -2.08914253,  -9.2373689 ],\n",
       "       [ -2.43829416,  -0.3461937 ,  -3.01031763,  -7.53453037],\n",
       "       [ -2.95993102,  -0.51739049,  -4.86219841, -10.03340155],\n",
       "       [ -4.15930126,  -2.63525188,  -4.81192328,  -9.6671957 ],\n",
       "       [ -4.60933504,  -1.28251711,  -3.62234375,  -7.07986445],\n",
       "       [ -3.34943049,  -0.75554154,  -2.20125121, -10.41951476],\n",
       "       [ -3.69172704,  -1.45521539,  -3.4581659 , -10.62410362],\n",
       "       [ -3.92133204,  -1.79755727,  -3.24025633,  -9.90657813],\n",
       "       [ -4.16389917,  -2.04702717,  -4.69865917,  -9.86978489],\n",
       "       [ -3.19142862,  -0.50485294,  -2.42612338, -10.20363085],\n",
       "       [ -3.71915624,  -1.68351753,  -2.45512028,  -9.62158084]])"
      ]
     },
     "execution_count": 191,
     "metadata": {},
     "output_type": "execute_result"
    }
   ],
   "source": [
    "predictive"
   ]
  },
  {
   "cell_type": "code",
   "execution_count": 192,
   "metadata": {},
   "outputs": [
    {
     "data": {
      "text/plain": [
       "array([[2.71223817e-03, 2.37314346e-03, 5.04927257e-03, 1.50436564e-02],\n",
       "       [7.48573894e-03, 1.79034618e-04, 7.06112570e-03, 2.43276708e-03],\n",
       "       [1.10333198e-02, 2.67967741e-04, 6.10443276e-04, 2.32811495e-03],\n",
       "       [1.78134047e-02, 7.76745655e-03, 1.50214380e-03, 1.83207543e-02],\n",
       "       [1.15248943e-02, 2.22555545e-04, 2.07224711e-03, 1.50665172e-04],\n",
       "       [4.30029838e-03, 4.93515810e-05, 2.31618452e-03, 7.22136978e-03],\n",
       "       [3.95100334e-03, 7.96468344e-04, 2.67812010e-04, 1.56271146e-03],\n",
       "       [1.01055433e-02, 2.34311882e-04, 7.67832616e-04, 6.27851475e-04],\n",
       "       [4.24769614e-03, 1.02853927e-04, 6.48962335e-03, 4.44417751e-03],\n",
       "       [1.07010028e-02, 5.53167603e-04, 7.95700153e-04, 1.36278154e-02],\n",
       "       [3.07813077e-03, 1.90423458e-03, 2.31082867e-03, 5.02605152e-03],\n",
       "       [4.94885645e-03, 6.87854595e-05, 1.72558709e-04, 1.88094449e-04],\n",
       "       [7.77042143e-03, 1.60705067e-03, 4.81606836e-03, 7.55000803e-03],\n",
       "       [2.56716714e-03, 8.35213167e-04, 6.55478396e-03, 1.09264323e-02],\n",
       "       [8.65816534e-03, 2.48725189e-04, 1.66631728e-03, 2.11851204e-04],\n",
       "       [6.54861985e-03, 3.97075934e-04, 2.33955951e-03, 2.99688691e-03],\n",
       "       [4.47119975e-03, 3.37299201e-04, 2.83276535e-04, 1.95121329e-02],\n",
       "       [3.18946648e-03, 1.27204750e-04, 1.64494401e-03, 4.03869809e-03],\n",
       "       [9.89905850e-03, 5.13589320e-04, 3.72314416e-04, 2.40952776e-03],\n",
       "       [9.64266978e-03, 1.05005787e-02, 3.01454671e-04, 2.07924702e-02],\n",
       "       [2.04062101e-03, 1.92181340e-03, 1.95151268e-03, 3.84934795e-03],\n",
       "       [6.66422341e-03, 2.75057989e-03, 1.43076520e-03, 1.54061044e-02],\n",
       "       [3.76118863e-03, 5.17166467e-03, 4.23705714e-03, 7.30083274e-03],\n",
       "       [4.49530349e-03, 2.76452137e-03, 1.52168969e-03, 4.07577120e-03],\n",
       "       [1.87966471e-02, 1.65260021e-02, 2.41647179e-02, 8.06050072e-02],\n",
       "       [1.30505444e-03, 4.55089726e-03, 4.94261127e-03, 5.72875899e-03],\n",
       "       [4.38295797e-03, 1.16359711e-03, 1.18940138e-03, 8.18242787e-03],\n",
       "       [8.21216420e-03, 1.75172632e-03, 5.91958882e-03, 1.13395760e-02],\n",
       "       [3.90994587e-03, 6.33072247e-05, 1.12211087e-03, 7.32523675e-04],\n",
       "       [2.91436981e-03, 1.60204870e-03, 3.69219767e-03, 2.59250591e-03],\n",
       "       [1.49323031e-03, 1.45001748e-03, 2.15655633e-03, 3.29769795e-03],\n",
       "       [1.76874084e-02, 1.86639113e-04, 4.91907568e-04, 3.09611017e-04],\n",
       "       [3.66630971e-03, 1.75572529e-04, 4.90014994e-04, 3.32831956e-04],\n",
       "       [1.38359506e-03, 1.64082128e-03, 4.10153300e-03, 2.28065603e-03],\n",
       "       [5.69003665e-03, 1.75422767e-04, 1.27699129e-03, 2.30457028e-04],\n",
       "       [1.24116327e-03, 3.64903693e-04, 2.55591003e-04, 1.25491553e-03],\n",
       "       [3.59264675e-03, 1.97450321e-03, 2.54912099e-03, 1.93134858e-03],\n",
       "       [4.01659256e-03, 2.95964996e-05, 1.20944949e-03, 1.29375299e-03],\n",
       "       [6.78414974e-03, 2.17993854e-03, 9.06642002e-04, 4.94492877e-03],\n",
       "       [3.71759372e-03, 1.82192182e-03, 4.58938299e-03, 1.19060876e-03],\n",
       "       [2.64208359e-03, 2.61521279e-03, 4.81339046e-03, 6.76906670e-03],\n",
       "       [1.76780581e-03, 5.10807930e-03, 6.91306062e-03, 5.52847418e-03],\n",
       "       [5.37137892e-03, 1.35277110e-03, 3.08937090e-03, 6.88046934e-03],\n",
       "       [7.90145161e-03, 7.30067850e-04, 1.53542169e-02, 5.36474690e-03],\n",
       "       [3.81592280e-03, 4.62631671e-03, 2.09917888e-03, 4.89470402e-03],\n",
       "       [2.45610345e-03, 2.26738804e-04, 2.66636824e-03, 6.35923905e-03],\n",
       "       [2.90862229e-03, 5.03237507e-04, 2.43799220e-03, 7.12585590e-03],\n",
       "       [4.43064761e-03, 2.64258512e-04, 1.81302220e-02, 3.08247495e-02],\n",
       "       [4.34996921e-03, 1.88272238e-03, 2.06019420e-03, 1.51162668e-03],\n",
       "       [7.78631955e-03, 4.69881220e-03, 7.25413089e-03, 3.55061776e-02],\n",
       "       [5.97594666e-03, 1.82786830e-04, 2.52744861e-03, 1.10590927e-03],\n",
       "       [8.52761820e-03, 9.32177191e-03, 4.32448968e-03, 4.13067369e-02],\n",
       "       [1.00741547e-02, 4.65931431e-03, 9.79835261e-03, 2.18871458e-02],\n",
       "       [5.73765653e-03, 1.51499007e-04, 9.94403130e-04, 2.65622827e-03],\n",
       "       [7.46975481e-03, 2.24256502e-03, 2.63467385e-03, 3.99080261e-04],\n",
       "       [3.39121511e-03, 7.07225892e-05, 2.02376264e-04, 2.01713708e-04],\n",
       "       [8.06897257e-03, 5.18862236e-04, 1.68931110e-02, 5.97266788e-03],\n",
       "       [3.11558744e-03, 1.84072903e-04, 1.33203481e-04, 4.05186150e-04],\n",
       "       [2.08160546e-03, 4.19139087e-03, 7.57747180e-03, 2.44131842e-03],\n",
       "       [2.65589472e-03, 4.64003065e-04, 8.41916925e-04, 1.48169386e-02],\n",
       "       [3.37046612e-03, 3.11645468e-03, 4.03871836e-03, 4.75095627e-03],\n",
       "       [2.75493577e-03, 5.82839984e-04, 2.40780040e-03, 2.11867751e-03],\n",
       "       [4.43831370e-03, 2.68418249e-04, 2.38510930e-03, 2.91897151e-02],\n",
       "       [1.11773761e-02, 5.62923804e-03, 8.62858350e-03, 1.31628649e-02],\n",
       "       [3.28778584e-03, 2.25509743e-03, 4.62570522e-03, 1.99890244e-03],\n",
       "       [7.97590041e-03, 2.45882839e-04, 8.40368996e-04, 1.34110978e-03],\n",
       "       [1.92203276e-02, 9.75193562e-05, 7.97763493e-04, 9.79933488e-05],\n",
       "       [3.73857581e-03, 1.10530707e-04, 4.21765266e-04, 1.18418858e-02],\n",
       "       [3.85406959e-03, 3.60429395e-03, 2.09778546e-03, 1.43548971e-03],\n",
       "       [2.57544586e-03, 8.12629686e-03, 2.96367632e-03, 1.08029666e-03],\n",
       "       [3.72928940e-03, 5.84349149e-04, 1.27350074e-03, 9.03799475e-04],\n",
       "       [3.59440692e-03, 1.60457756e-04, 1.91261808e-03, 3.63544910e-03],\n",
       "       [3.70128320e-03, 2.98398620e-04, 7.49585037e-04, 2.49474119e-03],\n",
       "       [4.59994175e-03, 2.58288307e-04, 2.79363066e-04, 1.45409427e-03],\n",
       "       [3.90905481e-03, 8.22686798e-04, 4.09977208e-03, 2.56304551e-03],\n",
       "       [4.60119252e-03, 7.28634910e-04, 9.72869102e-03, 8.72196960e-03],\n",
       "       [4.89905333e-03, 2.49729488e-03, 3.22369273e-03, 2.36833859e-03],\n",
       "       [1.02823267e-02, 5.69896747e-04, 1.21820366e-03, 9.10984740e-04],\n",
       "       [4.90122835e-03, 1.08854397e-03, 6.08733457e-03, 9.44800813e-03],\n",
       "       [5.52570857e-03, 6.30969013e-04, 3.68968070e-03, 7.70459695e-04],\n",
       "       [3.25046430e-03, 4.23409371e-04, 1.85997830e-03, 2.36236104e-03],\n",
       "       [8.79536488e-03, 1.62277226e-03, 1.09178306e-03, 3.06537407e-03],\n",
       "       [2.05679798e-03, 2.53526159e-04, 1.56449184e-03, 1.76145614e-03],\n",
       "       [1.06449688e-03, 5.75122457e-03, 3.66001601e-03, 3.36045955e-03],\n",
       "       [4.94551768e-03, 9.45438878e-04, 1.14656958e-02, 2.98972415e-02],\n",
       "       [3.92122989e-03, 2.59372360e-05, 1.54009448e-03, 2.00126117e-03],\n",
       "       [3.33433642e-03, 1.00778429e-04, 5.90989159e-05, 4.66032138e-04],\n",
       "       [2.89348143e-03, 6.41710140e-04, 1.20028160e-02, 4.61693387e-03],\n",
       "       [8.31434390e-04, 2.95158189e-03, 1.80064440e-03, 6.75739389e-03],\n",
       "       [4.71424878e-03, 6.14323722e-04, 3.08465837e-03, 2.54676267e-02],\n",
       "       [3.73979596e-03, 1.99894277e-03, 4.50486348e-03, 3.94348635e-03],\n",
       "       [3.62814976e-03, 6.24029894e-04, 2.19326460e-02, 1.11637262e-02],\n",
       "       [2.19082277e-03, 2.04419437e-03, 3.64166747e-03, 5.06508023e-03],\n",
       "       [8.69300902e-03, 8.16058701e-04, 7.82396679e-04, 1.61075145e-04],\n",
       "       [1.50189600e-02, 1.78824515e-02, 2.02429230e-03, 2.10009836e-02],\n",
       "       [7.41318163e-03, 9.16664593e-03, 1.77834843e-02, 7.38605713e-02],\n",
       "       [4.97585065e-03, 2.19489528e-03, 2.01758359e-03, 3.86852791e-03],\n",
       "       [2.76565417e-03, 3.08855689e-03, 1.85686665e-03, 3.44261632e-03],\n",
       "       [2.40643892e-03, 4.46158763e-05, 3.89900349e-04, 6.57102309e-03],\n",
       "       [1.03927264e-03, 1.78729178e-03, 3.52697309e-04, 8.48676910e-03]])"
      ]
     },
     "execution_count": 192,
     "metadata": {},
     "output_type": "execute_result"
    }
   ],
   "source": [
    "mi"
   ]
  },
  {
   "cell_type": "code",
   "execution_count": 195,
   "metadata": {},
   "outputs": [
    {
     "data": {
      "text/plain": [
       "(array([ 4., 20., 21., 17., 25.,  9.,  2.,  1.,  0.,  1.]),\n",
       " array([-4.73346373, -4.38818208, -4.04290043, -3.69761878, -3.35233713,\n",
       "        -3.00705548, -2.66177383, -2.31649218, -1.97121053, -1.62592887,\n",
       "        -1.28064722]),\n",
       " <a list of 10 Patch objects>)"
      ]
     },
     "execution_count": 195,
     "metadata": {},
     "output_type": "execute_result"
    },
    {
     "data": {
      "image/png": "[encoded data removed]",
      "text/plain": [
       "<Figure size 432x288 with 1 Axes>"
      ]
     },
     "metadata": {
      "needs_background": "light"
     },
     "output_type": "display_data"
    }
   ],
   "source": [
    "plt.hist(expected[:, 0])\n",
    "plt.hist(predictive[:, 0])"
   ]
  },
  {
   "cell_type": "code",
   "execution_count": null,
   "metadata": {},
   "outputs": [],
   "source": [
    "# low acquisition, often low confidence as uncertain\n",
    "fig, axes = plt.subplots(nrows=3, ncols=8, sharex=True, figsize=(24, 8))\n",
    "all_axes = [ax for row in axes for ax in row]\n",
    "sort = np.argsort(state.acquisitions)[::-1]\n",
    "for subject_n in range(24):\n",
    "    ax = all_axes[subject_n]\n",
    "    id_str = state.id_strs[sort[subject_n+50]]  # 50th to be acquired, but still acquired\n",
    "    matched_row = catalog[catalog['id_str'] == id_str].squeeze()\n",
    "    loc = matched_row['file_loc']\n",
    "    ax.imshow(np.array(Image.open(loc)))\n",
    "    ax.axis('off')"
   ]
  },
  {
   "cell_type": "markdown",
   "metadata": {},
   "source": [
    "dirichlet process is great model for unknown and infinite number of clusters - volunteer skill?\n",
    "https://www.ncbi.nlm.nih.gov/pmc/articles/PMC3541698/"
   ]
  },
  {
   "cell_type": "markdown",
   "metadata": {},
   "source": [
    "https://en.wikipedia.org/wiki/Bhattacharyya_distance\n",
    "\n",
    "https://www.sciencedirect.com/science/article/pii/S0031320307003123#fd2 for chernoff derivation. They don't like KL distance though, not sure how they can think undefined and tf can derive/include...\n",
    "\n",
    "r implementation\n",
    "https://rdrr.io/cran/Compositional/man/kl.diri.html\n",
    "https://rdrr.io/cran/Compositional/src/R/kl.diri.R\n",
    "\n",
    "#http://bariskurt.com/kullback-leibler-divergence-between-two-dirichlet-and-beta-distributions/\n",
    "https://benmoran.wordpress.com/2012/07/11/distances-divergences-dirichlet-distributions/\n",
    "\n",
    "https://onlinelibrary.wiley.com/doi/book/10.1002/9781119995784 dirichlet book, maybe request dirichlet chapter in a while\n",
    "\n",
    "http://www.inference.org.uk/mackay/laplace.pdf https://statmodeling.stat.columbia.edu/2009/04/29/conjugate_prior/ can approximate dirichlet with gaussian better in softmax basis - not sure what happens when skewed?\n",
    "\n",
    "\n",
    "Information theory + chernoff\n",
    "https://arxiv.org/pdf/1102.2684.pdf\n",
    "\n",
    "Renyi divergence\n",
    "https://arxiv.org/pdf/1206.2459.pdf"
   ]
  },
  {
   "cell_type": "code",
   "execution_count": null,
   "metadata": {},
   "outputs": [],
   "source": []
  }
 ],
 "metadata": {
  "kernelspec": {
   "display_name": "Python 3",
   "language": "python",
   "name": "python3"
  },
  "language_info": {
   "codemirror_mode": {
    "name": "ipython",
    "version": 3
   },
   "file_extension": ".py",
   "mimetype": "text/x-python",
   "name": "python",
   "nbconvert_exporter": "python",
   "pygments_lexer": "ipython3",
   "version": "3.7.6"
  }
 },
 "nbformat": 4,
 "nbformat_minor": 4
}
