{
 "cells": [
  {
   "cell_type": "code",
   "execution_count": 1,
   "metadata": {},
   "outputs": [],
   "source": [
    "%load_ext autoreload\n",
    "%autoreload 2\n",
    "%matplotlib inline"
   ]
  },
  {
   "cell_type": "code",
   "execution_count": 2,
   "metadata": {},
   "outputs": [],
   "source": [
    "import matplotlib"
   ]
  },
  {
   "cell_type": "code",
   "execution_count": 390,
   "metadata": {},
   "outputs": [],
   "source": [
    "import os\n",
    "import logging\n",
    "import argparse\n",
    "import glob\n",
    "import json\n",
    "\n",
    "import numpy as np\n",
    "from matplotlib.ticker import StrMethodFormatter\n",
    "\n",
    "import matplotlib.pyplot as plt\n",
    "import matplotlib.gridspec as gridspec\n",
    "import seaborn as sns\n",
    "from sklearn import metrics\n",
    "import tensorflow as tf\n",
    "import pandas as pd\n",
    "from astropy.table import Table  # for NSA\n",
    "from astropy import units as u\n",
    "from sklearn.metrics import confusion_matrix, roc_curve\n",
    "from PIL import Image\n",
    "from scipy.stats import binom\n",
    "from IPython.display import display, Markdown\n",
    "from sklearn.metrics import accuracy_score, mean_squared_error, mean_absolute_error, confusion_matrix\n",
    "\n",
    "from shared_astro_utils import astropy_utils, matching_utils\n",
    "from zoobot.estimators import make_predictions, bayesian_estimator_funcs\n",
    "from zoobot.tfrecord import read_tfrecord\n",
    "from zoobot.uncertainty import discrete_coverage\n",
    "from zoobot.estimators import input_utils, losses\n",
    "from zoobot.tfrecord import catalog_to_tfrecord\n",
    "from zoobot.active_learning import metrics, simulated_metrics, acquisition_utils, check_uncertainty, simulation_timeline, run_estimator_config\n"
   ]
  },
  {
   "cell_type": "code",
   "execution_count": 4,
   "metadata": {},
   "outputs": [],
   "source": [
    "os.chdir('/home/walml/repos/zoobot')"
   ]
  },
  {
   "cell_type": "code",
   "execution_count": 5,
   "metadata": {},
   "outputs": [
    {
     "name": "stdout",
     "output_type": "stream",
     "text": [
      "{smooth-or-featured, indices 0 to 1, asked after None: (0, 1), has-spiral-arms, indices 2 to 3, asked after <zoobot.estimators.losses.Answer object at 0x7f67b92e4310>: (2, 3), bar, indices 4 to 6, asked after <zoobot.estimators.losses.Answer object at 0x7f67b92e4310>: (4, 6), bulge-size, indices 7 to 11, asked after <zoobot.estimators.losses.Answer object at 0x7f67b92e4310>: (7, 11)}\n"
     ]
    },
    {
     "data": {
      "text/plain": [
       "[smooth-or-featured, indices 0 to 1, asked after None,\n",
       " has-spiral-arms, indices 2 to 3, asked after <zoobot.estimators.losses.Answer object at 0x7f67b92e4310>,\n",
       " bar, indices 4 to 6, asked after <zoobot.estimators.losses.Answer object at 0x7f67b92e4310>,\n",
       " bulge-size, indices 7 to 11, asked after <zoobot.estimators.losses.Answer object at 0x7f67b92e4310>]"
      ]
     },
     "execution_count": 5,
     "metadata": {},
     "output_type": "execute_result"
    }
   ],
   "source": [
    "label_cols = [\n",
    "    'smooth-or-featured_smooth',\n",
    "    'smooth-or-featured_featured-or-disk',\n",
    "    'has-spiral-arms_yes',\n",
    "    'has-spiral-arms_no',\n",
    "#     'spiral-winding_tight',\n",
    "#     'spiral-winding_medium',\n",
    "#     'spiral-winding_loose',\n",
    "    'bar_strong',\n",
    "    'bar_weak',\n",
    "    'bar_no',\n",
    "    'bulge-size_dominant',\n",
    "    'bulge-size_large',\n",
    "    'bulge-size_moderate',\n",
    "    'bulge-size_small',\n",
    "    'bulge-size_none'\n",
    "]\n",
    "\n",
    "questions = [\n",
    "    'smooth-or-featured',\n",
    "    'has-spiral-arms',\n",
    "#     'spiral-winding',\n",
    "    'bar',\n",
    "    'bulge-size'\n",
    "]\n",
    "\n",
    "schema = losses.Schema(label_cols, questions, version='decals')\n",
    "schema.questions"
   ]
  },
  {
   "cell_type": "markdown",
   "metadata": {},
   "source": [
    "## Load aggregated expert classifications"
   ]
  },
  {
   "cell_type": "code",
   "execution_count": 208,
   "metadata": {},
   "outputs": [],
   "source": [
    "expert_df = pd.read_csv('../gz-panoptes-reduction/temp/calibration_experts/classifications.csv')"
   ]
  },
  {
   "cell_type": "code",
   "execution_count": 209,
   "metadata": {},
   "outputs": [
    {
     "data": {
      "text/plain": [
       "0      J113200.89+253837.9\n",
       "1      J112214.40+241758.0\n",
       "2      J085808.74+061816.4\n",
       "3      J091427.67+073429.7\n",
       "4      J120258.33+090325.5\n",
       "              ...         \n",
       "141    J143039.56-003854.4\n",
       "142    J104713.62+012940.1\n",
       "143    J124559.79+033511.2\n",
       "144    J132100.97-005739.7\n",
       "145    J002331.99-005106.5\n",
       "Name: iauname, Length: 146, dtype: object"
      ]
     },
     "execution_count": 209,
     "metadata": {},
     "output_type": "execute_result"
    }
   ],
   "source": [
    "expert_df['iauname']"
   ]
  },
  {
   "cell_type": "code",
   "execution_count": 210,
   "metadata": {},
   "outputs": [
    {
     "data": {
      "text/plain": [
       "0      37763488\n",
       "1      37763455\n",
       "2      37763393\n",
       "3      37763390\n",
       "4      37763537\n",
       "         ...   \n",
       "141    37763420\n",
       "142    37763516\n",
       "143    37763401\n",
       "144    37763554\n",
       "145    37763509\n",
       "Name: subject_id, Length: 146, dtype: int64"
      ]
     },
     "execution_count": 210,
     "metadata": {},
     "output_type": "execute_result"
    }
   ],
   "source": [
    "expert_df['subject_id']"
   ]
  },
  {
   "cell_type": "code",
   "execution_count": 211,
   "metadata": {},
   "outputs": [
    {
     "data": {
      "text/plain": [
       "<matplotlib.axes._subplots.AxesSubplot at 0x7f664b7f2350>"
      ]
     },
     "execution_count": 211,
     "metadata": {},
     "output_type": "execute_result"
    },
    {
     "data": {
      "image/png": "[encoded data removed]",
      "text/plain": [
       "<Figure size 432x288 with 1 Axes>"
      ]
     },
     "metadata": {
      "needs_background": "light"
     },
     "output_type": "display_data"
    }
   ],
   "source": [
    "expert_df['smooth-or-featured_total-votes'].hist()"
   ]
  },
  {
   "cell_type": "markdown",
   "metadata": {},
   "source": [
    "## Get DR5 classifications and filter to calibration galaxies (for speed)"
   ]
  },
  {
   "cell_type": "code",
   "execution_count": 331,
   "metadata": {},
   "outputs": [],
   "source": [
    "dr5 = pd.read_csv('../gz-panoptes-reduction/data/decals-dr5-classifications.csv')  # in here, uploaded as default (N=40)\n",
    "# dr5 = pd.read_csv('../gz-panoptes-reduction/data/enhanced-classifications.csv')  # in here, uploaded as random (N=3)"
   ]
  },
  {
   "cell_type": "code",
   "execution_count": 332,
   "metadata": {},
   "outputs": [],
   "source": [
    "def get_iauname(subject_data):\n",
    "    data = json.loads(subject_data)\n",
    "    for subject_id, values in data.items():\n",
    "        for key in ['iauname', '#iauname', '!iauname']:\n",
    "            if key in values.keys():\n",
    "                return values[key]"
   ]
  },
  {
   "cell_type": "code",
   "execution_count": 333,
   "metadata": {},
   "outputs": [],
   "source": [
    "dr5['iauname'] = dr5['subject_data'].apply(get_iauname)"
   ]
  },
  {
   "cell_type": "code",
   "execution_count": 334,
   "metadata": {},
   "outputs": [],
   "source": [
    "dr5_expert = dr5['iauname'].isin(expert_df['iauname'])"
   ]
  },
  {
   "cell_type": "code",
   "execution_count": 335,
   "metadata": {},
   "outputs": [
    {
     "data": {
      "text/plain": [
       "5207"
      ]
     },
     "execution_count": 335,
     "metadata": {},
     "output_type": "execute_result"
    }
   ],
   "source": [
    "dr5_expert.sum()"
   ]
  },
  {
   "cell_type": "code",
   "execution_count": 337,
   "metadata": {},
   "outputs": [],
   "source": [
    "volunteer_export = dr5[dr5_expert]"
   ]
  },
  {
   "cell_type": "code",
   "execution_count": 338,
   "metadata": {},
   "outputs": [
    {
     "data": {
      "text/html": [
       "<div>\n",
       "<style scoped>\n",
       "    .dataframe tbody tr th:only-of-type {\n",
       "        vertical-align: middle;\n",
       "    }\n",
       "\n",
       "    .dataframe tbody tr th {\n",
       "        vertical-align: top;\n",
       "    }\n",
       "\n",
       "    .dataframe thead th {\n",
       "        text-align: right;\n",
       "    }\n",
       "</style>\n",
       "<table border=\"1\" class=\"dataframe\">\n",
       "  <thead>\n",
       "    <tr style=\"text-align: right;\">\n",
       "      <th></th>\n",
       "      <th>classification_id</th>\n",
       "      <th>user_name</th>\n",
       "      <th>user_id</th>\n",
       "      <th>user_ip</th>\n",
       "      <th>workflow_id</th>\n",
       "      <th>workflow_name</th>\n",
       "      <th>workflow_version</th>\n",
       "      <th>created_at</th>\n",
       "      <th>gold_standard</th>\n",
       "      <th>expert</th>\n",
       "      <th>metadata</th>\n",
       "      <th>annotations</th>\n",
       "      <th>subject_data</th>\n",
       "      <th>subject_ids</th>\n",
       "      <th>iauname</th>\n",
       "    </tr>\n",
       "  </thead>\n",
       "  <tbody>\n",
       "    <tr>\n",
       "      <th>176073</th>\n",
       "      <td>100721018</td>\n",
       "      <td>AdrianC100</td>\n",
       "      <td>1765894.0</td>\n",
       "      <td>0950dbf86d9d0ccb013f</td>\n",
       "      <td>6122</td>\n",
       "      <td>DECaLS DR5</td>\n",
       "      <td>66.403</td>\n",
       "      <td>2018-04-08 20:29:16 UTC</td>\n",
       "      <td>NaN</td>\n",
       "      <td>NaN</td>\n",
       "      <td>{\"session\":\"7cc257450299a47746e71904e83b5d14cc...</td>\n",
       "      <td>[{\"task\":\"T0\",\"task_label\":\"Is the galaxy simp...</td>\n",
       "      <td>{\"20684324\":{\"retired\":{\"id\":13831423,\"workflo...</td>\n",
       "      <td>20684324</td>\n",
       "      <td>J115537.58+000228.3</td>\n",
       "    </tr>\n",
       "    <tr>\n",
       "      <th>176776</th>\n",
       "      <td>100741739</td>\n",
       "      <td>lindadriftwood</td>\n",
       "      <td>107263.0</td>\n",
       "      <td>48969f461b5a18d57a0d</td>\n",
       "      <td>6122</td>\n",
       "      <td>DECaLS DR5</td>\n",
       "      <td>66.403</td>\n",
       "      <td>2018-04-08 23:27:25 UTC</td>\n",
       "      <td>NaN</td>\n",
       "      <td>NaN</td>\n",
       "      <td>{\"session\":\"2448c90aa715d43a2b7aac8f31fdfbadde...</td>\n",
       "      <td>[{\"task\":\"T0\",\"task_label\":\"Is the galaxy simp...</td>\n",
       "      <td>{\"20684836\":{\"retired\":{\"id\":13834418,\"workflo...</td>\n",
       "      <td>20684836</td>\n",
       "      <td>J123744.73-004120.4</td>\n",
       "    </tr>\n",
       "    <tr>\n",
       "      <th>176782</th>\n",
       "      <td>100741905</td>\n",
       "      <td>lindadriftwood</td>\n",
       "      <td>107263.0</td>\n",
       "      <td>48969f461b5a18d57a0d</td>\n",
       "      <td>6122</td>\n",
       "      <td>DECaLS DR5</td>\n",
       "      <td>66.403</td>\n",
       "      <td>2018-04-08 23:28:45 UTC</td>\n",
       "      <td>NaN</td>\n",
       "      <td>NaN</td>\n",
       "      <td>{\"session\":\"2448c90aa715d43a2b7aac8f31fdfbadde...</td>\n",
       "      <td>[{\"task\":\"T0\",\"task_label\":\"Is the galaxy simp...</td>\n",
       "      <td>{\"20685667\":{\"retired\":{\"id\":13834439,\"workflo...</td>\n",
       "      <td>20685667</td>\n",
       "      <td>J131959.38+005707.7</td>\n",
       "    </tr>\n",
       "    <tr>\n",
       "      <th>178071</th>\n",
       "      <td>100770163</td>\n",
       "      <td>docjuker</td>\n",
       "      <td>81363.0</td>\n",
       "      <td>d9d642392a4972bb26fc</td>\n",
       "      <td>6122</td>\n",
       "      <td>DECaLS DR5</td>\n",
       "      <td>66.403</td>\n",
       "      <td>2018-04-09 05:00:07 UTC</td>\n",
       "      <td>NaN</td>\n",
       "      <td>NaN</td>\n",
       "      <td>{\"session\":\"3f218e65142c1e660af635b6e94a5f2a94...</td>\n",
       "      <td>[{\"task\":\"T0\",\"task_label\":\"Is the galaxy simp...</td>\n",
       "      <td>{\"20684836\":{\"retired\":{\"id\":13834418,\"workflo...</td>\n",
       "      <td>20684836</td>\n",
       "      <td>J123744.73-004120.4</td>\n",
       "    </tr>\n",
       "    <tr>\n",
       "      <th>178315</th>\n",
       "      <td>100778123</td>\n",
       "      <td>e.valenzuela</td>\n",
       "      <td>1766037.0</td>\n",
       "      <td>34e04e0b914fd659ef20</td>\n",
       "      <td>6122</td>\n",
       "      <td>DECaLS DR5</td>\n",
       "      <td>66.403</td>\n",
       "      <td>2018-04-09 06:51:20 UTC</td>\n",
       "      <td>NaN</td>\n",
       "      <td>NaN</td>\n",
       "      <td>{\"session\":\"cc4fe748745ce614b5a0f60d63178b7e83...</td>\n",
       "      <td>[{\"task\":\"T0\",\"task_label\":\"Is the galaxy simp...</td>\n",
       "      <td>{\"20684836\":{\"retired\":{\"id\":13834418,\"workflo...</td>\n",
       "      <td>20684836</td>\n",
       "      <td>J123744.73-004120.4</td>\n",
       "    </tr>\n",
       "    <tr>\n",
       "      <th>...</th>\n",
       "      <td>...</td>\n",
       "      <td>...</td>\n",
       "      <td>...</td>\n",
       "      <td>...</td>\n",
       "      <td>...</td>\n",
       "      <td>...</td>\n",
       "      <td>...</td>\n",
       "      <td>...</td>\n",
       "      <td>...</td>\n",
       "      <td>...</td>\n",
       "      <td>...</td>\n",
       "      <td>...</td>\n",
       "      <td>...</td>\n",
       "      <td>...</td>\n",
       "      <td>...</td>\n",
       "    </tr>\n",
       "    <tr>\n",
       "      <th>1913925</th>\n",
       "      <td>152971686</td>\n",
       "      <td>dharnade</td>\n",
       "      <td>1879435.0</td>\n",
       "      <td>edfd2079ef37b749296f</td>\n",
       "      <td>6122</td>\n",
       "      <td>DECaLS DR5</td>\n",
       "      <td>66.425</td>\n",
       "      <td>2019-03-15 18:47:58 UTC</td>\n",
       "      <td>NaN</td>\n",
       "      <td>NaN</td>\n",
       "      <td>{\"source\":\"api\",\"session\":\"670eb28166f249c98a2...</td>\n",
       "      <td>[{\"task\":\"T0\",\"task_label\":\"Is the galaxy simp...</td>\n",
       "      <td>{\"28483722\":{\"retired\":null,\"!ra\":153.90289387...</td>\n",
       "      <td>28483722</td>\n",
       "      <td>J101536.68+062052.1</td>\n",
       "    </tr>\n",
       "    <tr>\n",
       "      <th>1914286</th>\n",
       "      <td>152992005</td>\n",
       "      <td>CDHunts</td>\n",
       "      <td>1879743.0</td>\n",
       "      <td>5c05afbb99577a05a14a</td>\n",
       "      <td>6122</td>\n",
       "      <td>DECaLS DR5</td>\n",
       "      <td>66.425</td>\n",
       "      <td>2019-03-15 19:53:15 UTC</td>\n",
       "      <td>NaN</td>\n",
       "      <td>NaN</td>\n",
       "      <td>{\"source\":\"api\",\"session\":\"92a43be07a66f3b27e6...</td>\n",
       "      <td>[{\"task\":\"T0\",\"task_label\":\"Is the galaxy simp...</td>\n",
       "      <td>{\"28485533\":{\"retired\":null,\"!ra\":158.09299316...</td>\n",
       "      <td>28485533</td>\n",
       "      <td>J103222.31+060011.2</td>\n",
       "    </tr>\n",
       "    <tr>\n",
       "      <th>1914303</th>\n",
       "      <td>152992825</td>\n",
       "      <td>CDHunts</td>\n",
       "      <td>1879743.0</td>\n",
       "      <td>5c05afbb99577a05a14a</td>\n",
       "      <td>6122</td>\n",
       "      <td>DECaLS DR5</td>\n",
       "      <td>66.425</td>\n",
       "      <td>2019-03-15 19:55:29 UTC</td>\n",
       "      <td>NaN</td>\n",
       "      <td>NaN</td>\n",
       "      <td>{\"source\":\"api\",\"session\":\"92a43be07a66f3b27e6...</td>\n",
       "      <td>[{\"task\":\"T0\",\"task_label\":\"Is the galaxy simp...</td>\n",
       "      <td>{\"28486488\":{\"retired\":null,\"!ra\":168.39860411...</td>\n",
       "      <td>28486488</td>\n",
       "      <td>J111335.65+102212.7</td>\n",
       "    </tr>\n",
       "    <tr>\n",
       "      <th>1914411</th>\n",
       "      <td>153002135</td>\n",
       "      <td>Moggsy8</td>\n",
       "      <td>1662467.0</td>\n",
       "      <td>163ee48be79a9d5b0b98</td>\n",
       "      <td>6122</td>\n",
       "      <td>DECaLS DR5</td>\n",
       "      <td>66.425</td>\n",
       "      <td>2019-03-15 20:25:54 UTC</td>\n",
       "      <td>NaN</td>\n",
       "      <td>NaN</td>\n",
       "      <td>{\"source\":\"api\",\"session\":\"6762491e65c5a730551...</td>\n",
       "      <td>[{\"task\":\"T0\",\"task_label\":\"Is the galaxy simp...</td>\n",
       "      <td>{\"28486390\":{\"retired\":null,\"!ra\":311.79380914...</td>\n",
       "      <td>28486390</td>\n",
       "      <td>J204710.50+002147.8</td>\n",
       "    </tr>\n",
       "    <tr>\n",
       "      <th>1914451</th>\n",
       "      <td>153006529</td>\n",
       "      <td>pcarl13</td>\n",
       "      <td>1879738.0</td>\n",
       "      <td>1396e2c69d8cfb5c542d</td>\n",
       "      <td>6122</td>\n",
       "      <td>DECaLS DR5</td>\n",
       "      <td>66.425</td>\n",
       "      <td>2019-03-15 20:38:53 UTC</td>\n",
       "      <td>NaN</td>\n",
       "      <td>NaN</td>\n",
       "      <td>{\"source\":\"api\",\"session\":\"59c33fc6883c0e39561...</td>\n",
       "      <td>[{\"task\":\"T0\",\"task_label\":\"Is the galaxy simp...</td>\n",
       "      <td>{\"28484111\":{\"retired\":null,\"!ra\":27.360146971...</td>\n",
       "      <td>28484111</td>\n",
       "      <td>J014926.42+010234.6</td>\n",
       "    </tr>\n",
       "  </tbody>\n",
       "</table>\n",
       "<p>5207 rows × 15 columns</p>\n",
       "</div>"
      ],
      "text/plain": [
       "         classification_id       user_name    user_id               user_ip  \\\n",
       "176073           100721018      AdrianC100  1765894.0  0950dbf86d9d0ccb013f   \n",
       "176776           100741739  lindadriftwood   107263.0  48969f461b5a18d57a0d   \n",
       "176782           100741905  lindadriftwood   107263.0  48969f461b5a18d57a0d   \n",
       "178071           100770163        docjuker    81363.0  d9d642392a4972bb26fc   \n",
       "178315           100778123    e.valenzuela  1766037.0  34e04e0b914fd659ef20   \n",
       "...                    ...             ...        ...                   ...   \n",
       "1913925          152971686        dharnade  1879435.0  edfd2079ef37b749296f   \n",
       "1914286          152992005         CDHunts  1879743.0  5c05afbb99577a05a14a   \n",
       "1914303          152992825         CDHunts  1879743.0  5c05afbb99577a05a14a   \n",
       "1914411          153002135         Moggsy8  1662467.0  163ee48be79a9d5b0b98   \n",
       "1914451          153006529         pcarl13  1879738.0  1396e2c69d8cfb5c542d   \n",
       "\n",
       "         workflow_id workflow_name  workflow_version               created_at  \\\n",
       "176073          6122    DECaLS DR5            66.403  2018-04-08 20:29:16 UTC   \n",
       "176776          6122    DECaLS DR5            66.403  2018-04-08 23:27:25 UTC   \n",
       "176782          6122    DECaLS DR5            66.403  2018-04-08 23:28:45 UTC   \n",
       "178071          6122    DECaLS DR5            66.403  2018-04-09 05:00:07 UTC   \n",
       "178315          6122    DECaLS DR5            66.403  2018-04-09 06:51:20 UTC   \n",
       "...              ...           ...               ...                      ...   \n",
       "1913925         6122    DECaLS DR5            66.425  2019-03-15 18:47:58 UTC   \n",
       "1914286         6122    DECaLS DR5            66.425  2019-03-15 19:53:15 UTC   \n",
       "1914303         6122    DECaLS DR5            66.425  2019-03-15 19:55:29 UTC   \n",
       "1914411         6122    DECaLS DR5            66.425  2019-03-15 20:25:54 UTC   \n",
       "1914451         6122    DECaLS DR5            66.425  2019-03-15 20:38:53 UTC   \n",
       "\n",
       "         gold_standard  expert  \\\n",
       "176073             NaN     NaN   \n",
       "176776             NaN     NaN   \n",
       "176782             NaN     NaN   \n",
       "178071             NaN     NaN   \n",
       "178315             NaN     NaN   \n",
       "...                ...     ...   \n",
       "1913925            NaN     NaN   \n",
       "1914286            NaN     NaN   \n",
       "1914303            NaN     NaN   \n",
       "1914411            NaN     NaN   \n",
       "1914451            NaN     NaN   \n",
       "\n",
       "                                                  metadata  \\\n",
       "176073   {\"session\":\"7cc257450299a47746e71904e83b5d14cc...   \n",
       "176776   {\"session\":\"2448c90aa715d43a2b7aac8f31fdfbadde...   \n",
       "176782   {\"session\":\"2448c90aa715d43a2b7aac8f31fdfbadde...   \n",
       "178071   {\"session\":\"3f218e65142c1e660af635b6e94a5f2a94...   \n",
       "178315   {\"session\":\"cc4fe748745ce614b5a0f60d63178b7e83...   \n",
       "...                                                    ...   \n",
       "1913925  {\"source\":\"api\",\"session\":\"670eb28166f249c98a2...   \n",
       "1914286  {\"source\":\"api\",\"session\":\"92a43be07a66f3b27e6...   \n",
       "1914303  {\"source\":\"api\",\"session\":\"92a43be07a66f3b27e6...   \n",
       "1914411  {\"source\":\"api\",\"session\":\"6762491e65c5a730551...   \n",
       "1914451  {\"source\":\"api\",\"session\":\"59c33fc6883c0e39561...   \n",
       "\n",
       "                                               annotations  \\\n",
       "176073   [{\"task\":\"T0\",\"task_label\":\"Is the galaxy simp...   \n",
       "176776   [{\"task\":\"T0\",\"task_label\":\"Is the galaxy simp...   \n",
       "176782   [{\"task\":\"T0\",\"task_label\":\"Is the galaxy simp...   \n",
       "178071   [{\"task\":\"T0\",\"task_label\":\"Is the galaxy simp...   \n",
       "178315   [{\"task\":\"T0\",\"task_label\":\"Is the galaxy simp...   \n",
       "...                                                    ...   \n",
       "1913925  [{\"task\":\"T0\",\"task_label\":\"Is the galaxy simp...   \n",
       "1914286  [{\"task\":\"T0\",\"task_label\":\"Is the galaxy simp...   \n",
       "1914303  [{\"task\":\"T0\",\"task_label\":\"Is the galaxy simp...   \n",
       "1914411  [{\"task\":\"T0\",\"task_label\":\"Is the galaxy simp...   \n",
       "1914451  [{\"task\":\"T0\",\"task_label\":\"Is the galaxy simp...   \n",
       "\n",
       "                                              subject_data  subject_ids  \\\n",
       "176073   {\"20684324\":{\"retired\":{\"id\":13831423,\"workflo...     20684324   \n",
       "176776   {\"20684836\":{\"retired\":{\"id\":13834418,\"workflo...     20684836   \n",
       "176782   {\"20685667\":{\"retired\":{\"id\":13834439,\"workflo...     20685667   \n",
       "178071   {\"20684836\":{\"retired\":{\"id\":13834418,\"workflo...     20684836   \n",
       "178315   {\"20684836\":{\"retired\":{\"id\":13834418,\"workflo...     20684836   \n",
       "...                                                    ...          ...   \n",
       "1913925  {\"28483722\":{\"retired\":null,\"!ra\":153.90289387...     28483722   \n",
       "1914286  {\"28485533\":{\"retired\":null,\"!ra\":158.09299316...     28485533   \n",
       "1914303  {\"28486488\":{\"retired\":null,\"!ra\":168.39860411...     28486488   \n",
       "1914411  {\"28486390\":{\"retired\":null,\"!ra\":311.79380914...     28486390   \n",
       "1914451  {\"28484111\":{\"retired\":null,\"!ra\":27.360146971...     28484111   \n",
       "\n",
       "                     iauname  \n",
       "176073   J115537.58+000228.3  \n",
       "176776   J123744.73-004120.4  \n",
       "176782   J131959.38+005707.7  \n",
       "178071   J123744.73-004120.4  \n",
       "178315   J123744.73-004120.4  \n",
       "...                      ...  \n",
       "1913925  J101536.68+062052.1  \n",
       "1914286  J103222.31+060011.2  \n",
       "1914303  J111335.65+102212.7  \n",
       "1914411  J204710.50+002147.8  \n",
       "1914451  J014926.42+010234.6  \n",
       "\n",
       "[5207 rows x 15 columns]"
      ]
     },
     "execution_count": 338,
     "metadata": {},
     "output_type": "execute_result"
    }
   ],
   "source": [
    "volunteer_export"
   ]
  },
  {
   "cell_type": "code",
   "execution_count": 339,
   "metadata": {},
   "outputs": [],
   "source": [
    "del volunteer_export['iauname']  # messes up the schema"
   ]
  },
  {
   "cell_type": "code",
   "execution_count": 340,
   "metadata": {},
   "outputs": [],
   "source": [
    "volunteer_export.to_csv('../gz-panoptes-reduction/data/volunteer_calibration_export.csv', index=False)"
   ]
  },
  {
   "cell_type": "markdown",
   "metadata": {},
   "source": [
    "### Process volunteer classifications for this filtered export, see process...md"
   ]
  },
  {
   "cell_type": "code",
   "execution_count": 344,
   "metadata": {},
   "outputs": [],
   "source": [
    "volunteers_df = pd.read_csv('../gz-panoptes-reduction/temp/calibration_volunteers/classifications.csv')"
   ]
  },
  {
   "cell_type": "code",
   "execution_count": 345,
   "metadata": {},
   "outputs": [],
   "source": [
    "def get_file_loc(iauname):\n",
    "    return f'/media/walml/beta/decals/png_native/dr5/{iauname[:4]}/{iauname}.png'"
   ]
  },
  {
   "cell_type": "code",
   "execution_count": 346,
   "metadata": {},
   "outputs": [],
   "source": [
    "volunteers_df['file_loc'] = volunteers_df['iauname'].apply(get_file_loc)\n",
    "volunteers_df['id_str'] = volunteers_df['iauname']"
   ]
  },
  {
   "cell_type": "code",
   "execution_count": 347,
   "metadata": {},
   "outputs": [
    {
     "data": {
      "text/plain": [
       "63     J002113.62-000424.0\n",
       "121    J002144.54-005053.9\n",
       "56     J002331.99-005106.5\n",
       "13     J002504.59-005352.5\n",
       "128    J003713.27+004756.9\n",
       "              ...         \n",
       "5      J163255.91+235645.1\n",
       "66     J203824.00+002111.8\n",
       "76     J204710.50+002147.8\n",
       "50     J205658.69+001128.3\n",
       "93     J214833.87-071715.8\n",
       "Name: iauname, Length: 143, dtype: object"
      ]
     },
     "execution_count": 347,
     "metadata": {},
     "output_type": "execute_result"
    }
   ],
   "source": [
    "volunteers_df['iauname'].sort_values()"
   ]
  },
  {
   "cell_type": "code",
   "execution_count": 348,
   "metadata": {},
   "outputs": [],
   "source": [
    "volunteers_df.to_csv('data/decals/temp_calibration_catalog.csv', index=False)  # with volunteer responses"
   ]
  },
  {
   "cell_type": "code",
   "execution_count": 349,
   "metadata": {},
   "outputs": [
    {
     "name": "stdout",
     "output_type": "stream",
     "text": [
      "2020-05-12 15:19:29.481256: I tensorflow/stream_executor/platform/default/dso_loader.cc:44] Successfully opened dynamic library libnvinfer.so.6\n",
      "2020-05-12 15:19:29.495218: I tensorflow/stream_executor/platform/default/dso_loader.cc:44] Successfully opened dynamic library libnvinfer_plugin.so.6\n",
      "['subject_id' 'bar_no' 'bar_strong' 'bar_weak' 'bulge-size_dominant'\n",
      " 'bulge-size_large' 'bulge-size_moderate' 'bulge-size_none'\n",
      " 'bulge-size_small' 'disk-edge-on_no' 'disk-edge-on_yes'\n",
      " 'edge-on-bulge_boxy' 'edge-on-bulge_none' 'edge-on-bulge_rounded'\n",
      " 'has-spiral-arms_no' 'has-spiral-arms_yes' 'how-rounded_cigar-shaped'\n",
      " 'how-rounded_in-between' 'how-rounded_round' 'merging_both-v1'\n",
      " 'merging_major-disturbance' 'merging_merger' 'merging_minor-disturbance'\n",
      " 'merging_neither-v1' 'merging_none' 'merging_tidal-debris-v1'\n",
      " 'smooth-or-featured_artifact' 'smooth-or-featured_featured-or-disk'\n",
      " 'smooth-or-featured_smooth' 'spiral-arm-count_1' 'spiral-arm-count_2'\n",
      " 'spiral-arm-count_3' 'spiral-arm-count_4' 'spiral-arm-count_cant-tell'\n",
      " 'spiral-arm-count_more-than-4' 'spiral-winding_loose'\n",
      " 'spiral-winding_medium' 'spiral-winding_tight'\n",
      " 'smooth-or-featured_total-votes' 'how-rounded_total-votes'\n",
      " 'disk-edge-on_total-votes' 'edge-on-bulge_total-votes' 'bar_total-votes'\n",
      " 'has-spiral-arms_total-votes' 'spiral-winding_total-votes'\n",
      " 'spiral-arm-count_total-votes' 'bulge-size_total-votes'\n",
      " 'merging_total-votes' 'smooth-or-featured_smooth_fraction'\n",
      " 'smooth-or-featured_featured-or-disk_fraction'\n",
      " 'smooth-or-featured_artifact_fraction' 'how-rounded_round_fraction'\n",
      " 'how-rounded_in-between_fraction' 'how-rounded_cigar-shaped_fraction'\n",
      " 'disk-edge-on_yes_fraction' 'disk-edge-on_no_fraction'\n",
      " 'edge-on-bulge_rounded_fraction' 'edge-on-bulge_boxy_fraction'\n",
      " 'edge-on-bulge_none_fraction' 'bar_strong_fraction' 'bar_weak_fraction'\n",
      " 'bar_no_fraction' 'has-spiral-arms_yes_fraction'\n",
      " 'has-spiral-arms_no_fraction' 'spiral-winding_tight_fraction'\n",
      " 'spiral-winding_medium_fraction' 'spiral-winding_loose_fraction'\n",
      " 'spiral-arm-count_1_fraction' 'spiral-arm-count_2_fraction'\n",
      " 'spiral-arm-count_3_fraction' 'spiral-arm-count_4_fraction'\n",
      " 'spiral-arm-count_more-than-4_fraction'\n",
      " 'spiral-arm-count_cant-tell_fraction' 'bulge-size_none_fraction'\n",
      " 'bulge-size_small_fraction' 'bulge-size_moderate_fraction'\n",
      " 'bulge-size_large_fraction' 'bulge-size_dominant_fraction'\n",
      " 'merging_merger_fraction' 'merging_tidal-debris-v1_fraction'\n",
      " 'merging_both-v1_fraction' 'merging_neither-v1_fraction'\n",
      " 'merging_major-disturbance_fraction' 'merging_minor-disturbance_fraction'\n",
      " 'merging_none_fraction' 'subject_url' 'iauname' 'upload_date' 'uploader'\n",
      " 'retirement_limit' 'file_loc' 'id_str']\n",
      "INFO:143 before filter, 32 after filter\n",
      "143 before filter, 32 after filter\n",
      "INFO:Expected files at: /media/walml/beta/decals/png_native/dr5/J130/J130059.98+024957.0.png\n",
      "INFO:Train test fraction: 0.96875\n",
      "INFO:\n",
      "Training subjects: 31\n",
      "INFO:Eval subjects: 1\n",
      "WARNING:data/decals/shards/temp_calibration_shards_feat/train/s256_shard_0.tfrecord already exists - deleting\n",
      "100%|██████████████████████████████| 31/31 [00:05<00:00,  5.95 subjects saved/s]\n",
      "WARNING:data/decals/shards/temp_calibration_shards_feat/eval/s256_shard_0.tfrecord already exists - deleting\n",
      "100%|████████████████████████████████| 1/1 [00:00<00:00, 21.98 subjects saved/s]\n"
     ]
    }
   ],
   "source": [
    "!python make_decals_tfrecords.py --labelled-catalog=data/decals/temp_calibration_catalog.csv --eval-size=1 --shard-dir=data/decals/shards/temp_calibration_shards_feat --img-size 256 --feat"
   ]
  },
  {
   "cell_type": "code",
   "execution_count": null,
   "metadata": {},
   "outputs": [],
   "source": []
  },
  {
   "cell_type": "code",
   "execution_count": null,
   "metadata": {},
   "outputs": [],
   "source": []
  },
  {
   "cell_type": "code",
   "execution_count": null,
   "metadata": {},
   "outputs": [],
   "source": []
  },
  {
   "cell_type": "markdown",
   "metadata": {},
   "source": [
    "## Optionally, check these iaunames do appear in the subject export"
   ]
  },
  {
   "cell_type": "code",
   "execution_count": 180,
   "metadata": {},
   "outputs": [],
   "source": [
    "subjects = pd.read_csv('../gz-panoptes-reduction/data/latest_subjects_export.csv')"
   ]
  },
  {
   "cell_type": "code",
   "execution_count": 181,
   "metadata": {},
   "outputs": [
    {
     "data": {
      "text/plain": [
       "subject_id                                                        15069047\n",
       "project_id                                                            5733\n",
       "workflow_id                                                            NaN\n",
       "subject_set_id                                                       16811\n",
       "metadata                 {\"ra\":212.68791,\"dec\":1.04629,\"nsa_id\":12916,\"...\n",
       "locations                {\"0\":\"https://panoptes-uploads.zooniverse.org/...\n",
       "classifications_count                                                    0\n",
       "retired_at                                                             NaN\n",
       "retirement_reason                                                      NaN\n",
       "created_at                                         2017-11-29 15:22:03 UTC\n",
       "updated_at                                         2017-11-29 15:22:03 UTC\n",
       "Name: 0, dtype: object"
      ]
     },
     "execution_count": 181,
     "metadata": {},
     "output_type": "execute_result"
    }
   ],
   "source": [
    "subjects.iloc[0]"
   ]
  },
  {
   "cell_type": "code",
   "execution_count": 182,
   "metadata": {},
   "outputs": [],
   "source": [
    "def get_subject_iauname(subject_data):\n",
    "    data = json.loads(subject_data)\n",
    "    for key in ['iauname', '#iauname', '!iauname']:\n",
    "        if key in data.keys():\n",
    "            return data[key]"
   ]
  },
  {
   "cell_type": "code",
   "execution_count": 183,
   "metadata": {},
   "outputs": [],
   "source": [
    "subjects['iauname'] = subjects['metadata'].apply(get_subject_iauname)"
   ]
  },
  {
   "cell_type": "code",
   "execution_count": 184,
   "metadata": {},
   "outputs": [
    {
     "data": {
      "text/plain": [
       "J012607.39-011949.9    9\n",
       "J211441.06-002054.9    8\n",
       "J010251.60-013329.0    8\n",
       "J103012.83-005644.1    8\n",
       "J095905.51+023809.9    8\n",
       "                      ..\n",
       "J094700.73+020426.8    1\n",
       "J134203.23+032916.2    1\n",
       "J133855.67-004807.1    1\n",
       "J105225.96+060616.8    1\n",
       "J134538.64+000553.2    1\n",
       "Name: iauname, Length: 262012, dtype: int64"
      ]
     },
     "execution_count": 184,
     "metadata": {},
     "output_type": "execute_result"
    }
   ],
   "source": [
    "subjects['iauname'].value_counts()"
   ]
  },
  {
   "cell_type": "code",
   "execution_count": 185,
   "metadata": {},
   "outputs": [],
   "source": [
    "is_expert = subjects['iauname'].isin(expert_df['iauname'])"
   ]
  },
  {
   "cell_type": "code",
   "execution_count": 186,
   "metadata": {},
   "outputs": [
    {
     "data": {
      "text/plain": [
       "304"
      ]
     },
     "execution_count": 186,
     "metadata": {},
     "output_type": "execute_result"
    }
   ],
   "source": [
    "is_expert.sum()"
   ]
  },
  {
   "cell_type": "code",
   "execution_count": 187,
   "metadata": {},
   "outputs": [],
   "source": [
    "expert_subjects = subjects[is_expert]"
   ]
  },
  {
   "cell_type": "code",
   "execution_count": 189,
   "metadata": {},
   "outputs": [
    {
     "data": {
      "text/html": [
       "<div>\n",
       "<style scoped>\n",
       "    .dataframe tbody tr th:only-of-type {\n",
       "        vertical-align: middle;\n",
       "    }\n",
       "\n",
       "    .dataframe tbody tr th {\n",
       "        vertical-align: top;\n",
       "    }\n",
       "\n",
       "    .dataframe thead th {\n",
       "        text-align: right;\n",
       "    }\n",
       "</style>\n",
       "<table border=\"1\" class=\"dataframe\">\n",
       "  <thead>\n",
       "    <tr style=\"text-align: right;\">\n",
       "      <th></th>\n",
       "      <th>subject_id</th>\n",
       "      <th>project_id</th>\n",
       "      <th>workflow_id</th>\n",
       "      <th>subject_set_id</th>\n",
       "      <th>metadata</th>\n",
       "      <th>locations</th>\n",
       "      <th>classifications_count</th>\n",
       "      <th>retired_at</th>\n",
       "      <th>retirement_reason</th>\n",
       "      <th>created_at</th>\n",
       "      <th>updated_at</th>\n",
       "      <th>iauname</th>\n",
       "    </tr>\n",
       "  </thead>\n",
       "  <tbody>\n",
       "    <tr>\n",
       "      <th>8647</th>\n",
       "      <td>20684324</td>\n",
       "      <td>5733</td>\n",
       "      <td>6122.0</td>\n",
       "      <td>20156</td>\n",
       "      <td>{\"!ra\":178.9065979881638,\"!dec\":0.041202658277...</td>\n",
       "      <td>{\"0\":\"https://panoptes-uploads.zooniverse.org/...</td>\n",
       "      <td>41</td>\n",
       "      <td>2018-04-18 02:14:15 UTC</td>\n",
       "      <td>classification_count</td>\n",
       "      <td>2018-03-30 11:00:44 UTC</td>\n",
       "      <td>2018-03-30 11:00:44 UTC</td>\n",
       "      <td>J115537.58+000228.3</td>\n",
       "    </tr>\n",
       "    <tr>\n",
       "      <th>8749</th>\n",
       "      <td>20684426</td>\n",
       "      <td>5733</td>\n",
       "      <td>6122.0</td>\n",
       "      <td>20156</td>\n",
       "      <td>{\"!ra\":185.0802046337571,\"!dec\":-1.09524956288...</td>\n",
       "      <td>{\"0\":\"https://panoptes-uploads.zooniverse.org/...</td>\n",
       "      <td>40</td>\n",
       "      <td>2018-04-18 15:10:05 UTC</td>\n",
       "      <td>classification_count</td>\n",
       "      <td>2018-03-30 11:00:50 UTC</td>\n",
       "      <td>2018-03-30 11:00:50 UTC</td>\n",
       "      <td>J122019.24-010542.8</td>\n",
       "    </tr>\n",
       "    <tr>\n",
       "      <th>9155</th>\n",
       "      <td>20684832</td>\n",
       "      <td>5733</td>\n",
       "      <td>6122.0</td>\n",
       "      <td>20156</td>\n",
       "      <td>{\"!ra\":189.5102332677443,\"!dec\":-0.71238729663...</td>\n",
       "      <td>{\"0\":\"https://panoptes-uploads.zooniverse.org/...</td>\n",
       "      <td>40</td>\n",
       "      <td>2018-04-19 20:07:44 UTC</td>\n",
       "      <td>classification_count</td>\n",
       "      <td>2018-03-30 11:01:16 UTC</td>\n",
       "      <td>2018-03-30 11:01:16 UTC</td>\n",
       "      <td>J123802.45-004244.5</td>\n",
       "    </tr>\n",
       "    <tr>\n",
       "      <th>9159</th>\n",
       "      <td>20684836</td>\n",
       "      <td>5733</td>\n",
       "      <td>6122.0</td>\n",
       "      <td>20156</td>\n",
       "      <td>{\"!ra\":189.4364250978784,\"!dec\":-0.68900958094...</td>\n",
       "      <td>{\"0\":\"https://panoptes-uploads.zooniverse.org/...</td>\n",
       "      <td>40</td>\n",
       "      <td>2018-04-18 15:23:54 UTC</td>\n",
       "      <td>classification_count</td>\n",
       "      <td>2018-03-30 11:01:16 UTC</td>\n",
       "      <td>2018-03-30 11:01:16 UTC</td>\n",
       "      <td>J123744.73-004120.4</td>\n",
       "    </tr>\n",
       "    <tr>\n",
       "      <th>9277</th>\n",
       "      <td>20684954</td>\n",
       "      <td>5733</td>\n",
       "      <td>6122.0</td>\n",
       "      <td>20156</td>\n",
       "      <td>{\"!ra\":190.8568025710639,\"!dec\":-0.08997173611...</td>\n",
       "      <td>{\"0\":\"https://panoptes-uploads.zooniverse.org/...</td>\n",
       "      <td>40</td>\n",
       "      <td>2018-04-20 03:43:29 UTC</td>\n",
       "      <td>classification_count</td>\n",
       "      <td>2018-03-30 11:01:23 UTC</td>\n",
       "      <td>2018-03-30 11:01:23 UTC</td>\n",
       "      <td>J124325.63-000523.9</td>\n",
       "    </tr>\n",
       "  </tbody>\n",
       "</table>\n",
       "</div>"
      ],
      "text/plain": [
       "      subject_id  project_id  workflow_id  subject_set_id  \\\n",
       "8647    20684324        5733       6122.0           20156   \n",
       "8749    20684426        5733       6122.0           20156   \n",
       "9155    20684832        5733       6122.0           20156   \n",
       "9159    20684836        5733       6122.0           20156   \n",
       "9277    20684954        5733       6122.0           20156   \n",
       "\n",
       "                                               metadata  \\\n",
       "8647  {\"!ra\":178.9065979881638,\"!dec\":0.041202658277...   \n",
       "8749  {\"!ra\":185.0802046337571,\"!dec\":-1.09524956288...   \n",
       "9155  {\"!ra\":189.5102332677443,\"!dec\":-0.71238729663...   \n",
       "9159  {\"!ra\":189.4364250978784,\"!dec\":-0.68900958094...   \n",
       "9277  {\"!ra\":190.8568025710639,\"!dec\":-0.08997173611...   \n",
       "\n",
       "                                              locations  \\\n",
       "8647  {\"0\":\"https://panoptes-uploads.zooniverse.org/...   \n",
       "8749  {\"0\":\"https://panoptes-uploads.zooniverse.org/...   \n",
       "9155  {\"0\":\"https://panoptes-uploads.zooniverse.org/...   \n",
       "9159  {\"0\":\"https://panoptes-uploads.zooniverse.org/...   \n",
       "9277  {\"0\":\"https://panoptes-uploads.zooniverse.org/...   \n",
       "\n",
       "      classifications_count               retired_at     retirement_reason  \\\n",
       "8647                     41  2018-04-18 02:14:15 UTC  classification_count   \n",
       "8749                     40  2018-04-18 15:10:05 UTC  classification_count   \n",
       "9155                     40  2018-04-19 20:07:44 UTC  classification_count   \n",
       "9159                     40  2018-04-18 15:23:54 UTC  classification_count   \n",
       "9277                     40  2018-04-20 03:43:29 UTC  classification_count   \n",
       "\n",
       "                   created_at               updated_at              iauname  \n",
       "8647  2018-03-30 11:00:44 UTC  2018-03-30 11:00:44 UTC  J115537.58+000228.3  \n",
       "8749  2018-03-30 11:00:50 UTC  2018-03-30 11:00:50 UTC  J122019.24-010542.8  \n",
       "9155  2018-03-30 11:01:16 UTC  2018-03-30 11:01:16 UTC  J123802.45-004244.5  \n",
       "9159  2018-03-30 11:01:16 UTC  2018-03-30 11:01:16 UTC  J123744.73-004120.4  \n",
       "9277  2018-03-30 11:01:23 UTC  2018-03-30 11:01:23 UTC  J124325.63-000523.9  "
      ]
     },
     "execution_count": 189,
     "metadata": {},
     "output_type": "execute_result"
    }
   ],
   "source": [
    "expert_subjects.head()"
   ]
  },
  {
   "cell_type": "code",
   "execution_count": 134,
   "metadata": {},
   "outputs": [],
   "source": [
    "# expert_subjects['locations'].apply(lambda x: json.loads(x)[\"0\"]).values"
   ]
  },
  {
   "cell_type": "markdown",
   "metadata": {},
   "source": [
    "## Optionally, check these subjects do appear in the extracted subjects"
   ]
  },
  {
   "cell_type": "code",
   "execution_count": 190,
   "metadata": {},
   "outputs": [],
   "source": [
    "subjects_loaded = pd.read_parquet('../gz-panoptes-reduction/temp/latest_subjects.parquet')"
   ]
  },
  {
   "cell_type": "code",
   "execution_count": 191,
   "metadata": {},
   "outputs": [],
   "source": [
    "assert not any(subjects_loaded['subject_id'].isna())"
   ]
  },
  {
   "cell_type": "code",
   "execution_count": 192,
   "metadata": {},
   "outputs": [
    {
     "data": {
      "text/plain": [
       "J225631.29+174704.0    5\n",
       "J103723.62+021845.5    5\n",
       "J000304.29+134501.8    4\n",
       "J090124.30+101159.0    4\n",
       "J162255.17+142031.6    4\n",
       "                      ..\n",
       "J085225.29+170453.0    1\n",
       "J005454.75+002601.5    1\n",
       "J000240.19-004450.9    1\n",
       "J013401.50+260418.5    1\n",
       "J141845.23+053510.7    1\n",
       "Name: iauname, Length: 262012, dtype: int64"
      ]
     },
     "execution_count": 192,
     "metadata": {},
     "output_type": "execute_result"
    }
   ],
   "source": [
    "subjects_loaded['iauname'].value_counts()"
   ]
  },
  {
   "cell_type": "code",
   "execution_count": 193,
   "metadata": {},
   "outputs": [],
   "source": [
    "expert_loaded = subjects_loaded['iauname'].isin(expert_df['iauname'])"
   ]
  },
  {
   "cell_type": "code",
   "execution_count": 194,
   "metadata": {},
   "outputs": [
    {
     "data": {
      "text/plain": [
       "298"
      ]
     },
     "execution_count": 194,
     "metadata": {},
     "output_type": "execute_result"
    }
   ],
   "source": [
    "expert_loaded.sum()"
   ]
  },
  {
   "cell_type": "code",
   "execution_count": 195,
   "metadata": {},
   "outputs": [],
   "source": [
    "expert_loaded = subjects_loaded[expert_loaded]"
   ]
  },
  {
   "cell_type": "code",
   "execution_count": 196,
   "metadata": {},
   "outputs": [
    {
     "data": {
      "text/html": [
       "<div>\n",
       "<style scoped>\n",
       "    .dataframe tbody tr th:only-of-type {\n",
       "        vertical-align: middle;\n",
       "    }\n",
       "\n",
       "    .dataframe tbody tr th {\n",
       "        vertical-align: top;\n",
       "    }\n",
       "\n",
       "    .dataframe thead th {\n",
       "        text-align: right;\n",
       "    }\n",
       "</style>\n",
       "<table border=\"1\" class=\"dataframe\">\n",
       "  <thead>\n",
       "    <tr style=\"text-align: right;\">\n",
       "      <th></th>\n",
       "      <th>subject_id</th>\n",
       "      <th>subject_url</th>\n",
       "      <th>iauname</th>\n",
       "      <th>upload_date</th>\n",
       "      <th>uploader</th>\n",
       "      <th>retirement_limit</th>\n",
       "    </tr>\n",
       "  </thead>\n",
       "  <tbody>\n",
       "    <tr>\n",
       "      <th>7046</th>\n",
       "      <td>20684324</td>\n",
       "      <td>https://panoptes-uploads.zooniverse.org/produc...</td>\n",
       "      <td>J115537.58+000228.3</td>\n",
       "      <td>2018-03-30</td>\n",
       "      <td>None</td>\n",
       "      <td>NaN</td>\n",
       "    </tr>\n",
       "    <tr>\n",
       "      <th>7148</th>\n",
       "      <td>20684426</td>\n",
       "      <td>https://panoptes-uploads.zooniverse.org/produc...</td>\n",
       "      <td>J122019.24-010542.8</td>\n",
       "      <td>2018-03-30</td>\n",
       "      <td>None</td>\n",
       "      <td>NaN</td>\n",
       "    </tr>\n",
       "    <tr>\n",
       "      <th>7554</th>\n",
       "      <td>20684832</td>\n",
       "      <td>https://panoptes-uploads.zooniverse.org/produc...</td>\n",
       "      <td>J123802.45-004244.5</td>\n",
       "      <td>2018-03-30</td>\n",
       "      <td>None</td>\n",
       "      <td>NaN</td>\n",
       "    </tr>\n",
       "    <tr>\n",
       "      <th>7558</th>\n",
       "      <td>20684836</td>\n",
       "      <td>https://panoptes-uploads.zooniverse.org/produc...</td>\n",
       "      <td>J123744.73-004120.4</td>\n",
       "      <td>2018-03-30</td>\n",
       "      <td>None</td>\n",
       "      <td>NaN</td>\n",
       "    </tr>\n",
       "    <tr>\n",
       "      <th>7676</th>\n",
       "      <td>20684954</td>\n",
       "      <td>https://panoptes-uploads.zooniverse.org/produc...</td>\n",
       "      <td>J124325.63-000523.9</td>\n",
       "      <td>2018-03-30</td>\n",
       "      <td>None</td>\n",
       "      <td>NaN</td>\n",
       "    </tr>\n",
       "    <tr>\n",
       "      <th>...</th>\n",
       "      <td>...</td>\n",
       "      <td>...</td>\n",
       "      <td>...</td>\n",
       "      <td>...</td>\n",
       "      <td>...</td>\n",
       "      <td>...</td>\n",
       "    </tr>\n",
       "    <tr>\n",
       "      <th>125798</th>\n",
       "      <td>37763554</td>\n",
       "      <td>https://panoptes-uploads.zooniverse.org/produc...</td>\n",
       "      <td>J132100.97-005739.7</td>\n",
       "      <td>2019-10-23</td>\n",
       "      <td>panoptes_oracle</td>\n",
       "      <td>5.0</td>\n",
       "    </tr>\n",
       "    <tr>\n",
       "      <th>125799</th>\n",
       "      <td>37763555</td>\n",
       "      <td>https://panoptes-uploads.zooniverse.org/produc...</td>\n",
       "      <td>J111335.65+102212.7</td>\n",
       "      <td>2019-10-23</td>\n",
       "      <td>panoptes_oracle</td>\n",
       "      <td>5.0</td>\n",
       "    </tr>\n",
       "    <tr>\n",
       "      <th>125800</th>\n",
       "      <td>37763556</td>\n",
       "      <td>https://panoptes-uploads.zooniverse.org/produc...</td>\n",
       "      <td>J091932.24-002436.2</td>\n",
       "      <td>2019-10-23</td>\n",
       "      <td>panoptes_oracle</td>\n",
       "      <td>5.0</td>\n",
       "    </tr>\n",
       "    <tr>\n",
       "      <th>125801</th>\n",
       "      <td>37763557</td>\n",
       "      <td>https://panoptes-uploads.zooniverse.org/produc...</td>\n",
       "      <td>J113517.25-033739.2</td>\n",
       "      <td>2019-10-23</td>\n",
       "      <td>panoptes_oracle</td>\n",
       "      <td>5.0</td>\n",
       "    </tr>\n",
       "    <tr>\n",
       "      <th>125802</th>\n",
       "      <td>37763559</td>\n",
       "      <td>https://panoptes-uploads.zooniverse.org/produc...</td>\n",
       "      <td>J083223.94+042835.4</td>\n",
       "      <td>2019-10-23</td>\n",
       "      <td>panoptes_oracle</td>\n",
       "      <td>5.0</td>\n",
       "    </tr>\n",
       "  </tbody>\n",
       "</table>\n",
       "<p>298 rows × 6 columns</p>\n",
       "</div>"
      ],
      "text/plain": [
       "        subject_id                                        subject_url  \\\n",
       "7046      20684324  https://panoptes-uploads.zooniverse.org/produc...   \n",
       "7148      20684426  https://panoptes-uploads.zooniverse.org/produc...   \n",
       "7554      20684832  https://panoptes-uploads.zooniverse.org/produc...   \n",
       "7558      20684836  https://panoptes-uploads.zooniverse.org/produc...   \n",
       "7676      20684954  https://panoptes-uploads.zooniverse.org/produc...   \n",
       "...            ...                                                ...   \n",
       "125798    37763554  https://panoptes-uploads.zooniverse.org/produc...   \n",
       "125799    37763555  https://panoptes-uploads.zooniverse.org/produc...   \n",
       "125800    37763556  https://panoptes-uploads.zooniverse.org/produc...   \n",
       "125801    37763557  https://panoptes-uploads.zooniverse.org/produc...   \n",
       "125802    37763559  https://panoptes-uploads.zooniverse.org/produc...   \n",
       "\n",
       "                    iauname upload_date         uploader  retirement_limit  \n",
       "7046    J115537.58+000228.3  2018-03-30             None               NaN  \n",
       "7148    J122019.24-010542.8  2018-03-30             None               NaN  \n",
       "7554    J123802.45-004244.5  2018-03-30             None               NaN  \n",
       "7558    J123744.73-004120.4  2018-03-30             None               NaN  \n",
       "7676    J124325.63-000523.9  2018-03-30             None               NaN  \n",
       "...                     ...         ...              ...               ...  \n",
       "125798  J132100.97-005739.7  2019-10-23  panoptes_oracle               5.0  \n",
       "125799  J111335.65+102212.7  2019-10-23  panoptes_oracle               5.0  \n",
       "125800  J091932.24-002436.2  2019-10-23  panoptes_oracle               5.0  \n",
       "125801  J113517.25-033739.2  2019-10-23  panoptes_oracle               5.0  \n",
       "125802  J083223.94+042835.4  2019-10-23  panoptes_oracle               5.0  \n",
       "\n",
       "[298 rows x 6 columns]"
      ]
     },
     "execution_count": 196,
     "metadata": {},
     "output_type": "execute_result"
    }
   ],
   "source": [
    "expert_loaded"
   ]
  },
  {
   "cell_type": "code",
   "execution_count": null,
   "metadata": {},
   "outputs": [],
   "source": []
  },
  {
   "cell_type": "code",
   "execution_count": null,
   "metadata": {},
   "outputs": [],
   "source": []
  },
  {
   "cell_type": "markdown",
   "metadata": {},
   "source": [
    "## Now let's analyse!"
   ]
  },
  {
   "cell_type": "code",
   "execution_count": 350,
   "metadata": {},
   "outputs": [],
   "source": [
    "volunteers_df = pd.read_csv('../gz-panoptes-reduction/temp/calibration_volunteers/classifications.csv')"
   ]
  },
  {
   "cell_type": "code",
   "execution_count": 351,
   "metadata": {},
   "outputs": [
    {
     "data": {
      "text/html": [
       "<div>\n",
       "<style scoped>\n",
       "    .dataframe tbody tr th:only-of-type {\n",
       "        vertical-align: middle;\n",
       "    }\n",
       "\n",
       "    .dataframe tbody tr th {\n",
       "        vertical-align: top;\n",
       "    }\n",
       "\n",
       "    .dataframe thead th {\n",
       "        text-align: right;\n",
       "    }\n",
       "</style>\n",
       "<table border=\"1\" class=\"dataframe\">\n",
       "  <thead>\n",
       "    <tr style=\"text-align: right;\">\n",
       "      <th></th>\n",
       "      <th>subject_id</th>\n",
       "      <th>bar_no</th>\n",
       "      <th>bar_strong</th>\n",
       "      <th>bar_weak</th>\n",
       "      <th>bulge-size_dominant</th>\n",
       "      <th>bulge-size_large</th>\n",
       "      <th>bulge-size_moderate</th>\n",
       "      <th>bulge-size_none</th>\n",
       "      <th>bulge-size_small</th>\n",
       "      <th>disk-edge-on_no</th>\n",
       "      <th>...</th>\n",
       "      <th>merging_both-v1_fraction</th>\n",
       "      <th>merging_neither-v1_fraction</th>\n",
       "      <th>merging_major-disturbance_fraction</th>\n",
       "      <th>merging_minor-disturbance_fraction</th>\n",
       "      <th>merging_none_fraction</th>\n",
       "      <th>subject_url</th>\n",
       "      <th>iauname</th>\n",
       "      <th>upload_date</th>\n",
       "      <th>uploader</th>\n",
       "      <th>retirement_limit</th>\n",
       "    </tr>\n",
       "  </thead>\n",
       "  <tbody>\n",
       "    <tr>\n",
       "      <th>0</th>\n",
       "      <td>20768151</td>\n",
       "      <td>0</td>\n",
       "      <td>0</td>\n",
       "      <td>0</td>\n",
       "      <td>0</td>\n",
       "      <td>0</td>\n",
       "      <td>0</td>\n",
       "      <td>0</td>\n",
       "      <td>0</td>\n",
       "      <td>0</td>\n",
       "      <td>...</td>\n",
       "      <td>0.0</td>\n",
       "      <td>1.000000</td>\n",
       "      <td>0.000000</td>\n",
       "      <td>0.000000</td>\n",
       "      <td>0.000000</td>\n",
       "      <td>https://panoptes-uploads.zooniverse.org/produc...</td>\n",
       "      <td>J113200.89+253837.9</td>\n",
       "      <td>2018-04-09</td>\n",
       "      <td>NaN</td>\n",
       "      <td>NaN</td>\n",
       "    </tr>\n",
       "    <tr>\n",
       "      <th>1</th>\n",
       "      <td>26443662</td>\n",
       "      <td>6</td>\n",
       "      <td>0</td>\n",
       "      <td>1</td>\n",
       "      <td>0</td>\n",
       "      <td>0</td>\n",
       "      <td>0</td>\n",
       "      <td>6</td>\n",
       "      <td>1</td>\n",
       "      <td>7</td>\n",
       "      <td>...</td>\n",
       "      <td>0.0</td>\n",
       "      <td>0.000000</td>\n",
       "      <td>0.026316</td>\n",
       "      <td>0.184211</td>\n",
       "      <td>0.763158</td>\n",
       "      <td>https://panoptes-uploads.zooniverse.org/produc...</td>\n",
       "      <td>J104713.62+012940.1</td>\n",
       "      <td>2018-09-28</td>\n",
       "      <td>NaN</td>\n",
       "      <td>NaN</td>\n",
       "    </tr>\n",
       "    <tr>\n",
       "      <th>2</th>\n",
       "      <td>26444498</td>\n",
       "      <td>3</td>\n",
       "      <td>0</td>\n",
       "      <td>0</td>\n",
       "      <td>0</td>\n",
       "      <td>0</td>\n",
       "      <td>2</td>\n",
       "      <td>0</td>\n",
       "      <td>1</td>\n",
       "      <td>3</td>\n",
       "      <td>...</td>\n",
       "      <td>0.0</td>\n",
       "      <td>0.000000</td>\n",
       "      <td>0.025641</td>\n",
       "      <td>0.102564</td>\n",
       "      <td>0.846154</td>\n",
       "      <td>https://panoptes-uploads.zooniverse.org/produc...</td>\n",
       "      <td>J122202.43+012341.9</td>\n",
       "      <td>2018-09-28</td>\n",
       "      <td>NaN</td>\n",
       "      <td>NaN</td>\n",
       "    </tr>\n",
       "    <tr>\n",
       "      <th>3</th>\n",
       "      <td>20923190</td>\n",
       "      <td>8</td>\n",
       "      <td>1</td>\n",
       "      <td>6</td>\n",
       "      <td>0</td>\n",
       "      <td>1</td>\n",
       "      <td>5</td>\n",
       "      <td>2</td>\n",
       "      <td>7</td>\n",
       "      <td>15</td>\n",
       "      <td>...</td>\n",
       "      <td>0.0</td>\n",
       "      <td>0.689655</td>\n",
       "      <td>0.000000</td>\n",
       "      <td>0.000000</td>\n",
       "      <td>0.000000</td>\n",
       "      <td>https://panoptes-uploads.zooniverse.org/produc...</td>\n",
       "      <td>J142300.69+004226.7</td>\n",
       "      <td>2018-04-19</td>\n",
       "      <td>NaN</td>\n",
       "      <td>NaN</td>\n",
       "    </tr>\n",
       "    <tr>\n",
       "      <th>4</th>\n",
       "      <td>21663456</td>\n",
       "      <td>2</td>\n",
       "      <td>0</td>\n",
       "      <td>1</td>\n",
       "      <td>0</td>\n",
       "      <td>0</td>\n",
       "      <td>3</td>\n",
       "      <td>0</td>\n",
       "      <td>0</td>\n",
       "      <td>3</td>\n",
       "      <td>...</td>\n",
       "      <td>0.0</td>\n",
       "      <td>0.179487</td>\n",
       "      <td>0.076923</td>\n",
       "      <td>0.025641</td>\n",
       "      <td>0.692308</td>\n",
       "      <td>https://panoptes-uploads.zooniverse.org/produc...</td>\n",
       "      <td>J011235.69-002452.6</td>\n",
       "      <td>2018-05-16</td>\n",
       "      <td>NaN</td>\n",
       "      <td>NaN</td>\n",
       "    </tr>\n",
       "  </tbody>\n",
       "</table>\n",
       "<p>5 rows × 90 columns</p>\n",
       "</div>"
      ],
      "text/plain": [
       "   subject_id  bar_no  bar_strong  bar_weak  bulge-size_dominant  \\\n",
       "0    20768151       0           0         0                    0   \n",
       "1    26443662       6           0         1                    0   \n",
       "2    26444498       3           0         0                    0   \n",
       "3    20923190       8           1         6                    0   \n",
       "4    21663456       2           0         1                    0   \n",
       "\n",
       "   bulge-size_large  bulge-size_moderate  bulge-size_none  bulge-size_small  \\\n",
       "0                 0                    0                0                 0   \n",
       "1                 0                    0                6                 1   \n",
       "2                 0                    2                0                 1   \n",
       "3                 1                    5                2                 7   \n",
       "4                 0                    3                0                 0   \n",
       "\n",
       "   disk-edge-on_no  ...  merging_both-v1_fraction  \\\n",
       "0                0  ...                       0.0   \n",
       "1                7  ...                       0.0   \n",
       "2                3  ...                       0.0   \n",
       "3               15  ...                       0.0   \n",
       "4                3  ...                       0.0   \n",
       "\n",
       "   merging_neither-v1_fraction  merging_major-disturbance_fraction  \\\n",
       "0                     1.000000                            0.000000   \n",
       "1                     0.000000                            0.026316   \n",
       "2                     0.000000                            0.025641   \n",
       "3                     0.689655                            0.000000   \n",
       "4                     0.179487                            0.076923   \n",
       "\n",
       "   merging_minor-disturbance_fraction  merging_none_fraction  \\\n",
       "0                            0.000000               0.000000   \n",
       "1                            0.184211               0.763158   \n",
       "2                            0.102564               0.846154   \n",
       "3                            0.000000               0.000000   \n",
       "4                            0.025641               0.692308   \n",
       "\n",
       "                                         subject_url              iauname  \\\n",
       "0  https://panoptes-uploads.zooniverse.org/produc...  J113200.89+253837.9   \n",
       "1  https://panoptes-uploads.zooniverse.org/produc...  J104713.62+012940.1   \n",
       "2  https://panoptes-uploads.zooniverse.org/produc...  J122202.43+012341.9   \n",
       "3  https://panoptes-uploads.zooniverse.org/produc...  J142300.69+004226.7   \n",
       "4  https://panoptes-uploads.zooniverse.org/produc...  J011235.69-002452.6   \n",
       "\n",
       "   upload_date  uploader  retirement_limit  \n",
       "0   2018-04-09       NaN               NaN  \n",
       "1   2018-09-28       NaN               NaN  \n",
       "2   2018-09-28       NaN               NaN  \n",
       "3   2018-04-19       NaN               NaN  \n",
       "4   2018-05-16       NaN               NaN  \n",
       "\n",
       "[5 rows x 90 columns]"
      ]
     },
     "execution_count": 351,
     "metadata": {},
     "output_type": "execute_result"
    }
   ],
   "source": [
    "volunteers_df.head()"
   ]
  },
  {
   "cell_type": "code",
   "execution_count": 352,
   "metadata": {},
   "outputs": [
    {
     "data": {
      "text/html": [
       "<div>\n",
       "<style scoped>\n",
       "    .dataframe tbody tr th:only-of-type {\n",
       "        vertical-align: middle;\n",
       "    }\n",
       "\n",
       "    .dataframe tbody tr th {\n",
       "        vertical-align: top;\n",
       "    }\n",
       "\n",
       "    .dataframe thead th {\n",
       "        text-align: right;\n",
       "    }\n",
       "</style>\n",
       "<table border=\"1\" class=\"dataframe\">\n",
       "  <thead>\n",
       "    <tr style=\"text-align: right;\">\n",
       "      <th></th>\n",
       "      <th>iauname</th>\n",
       "      <th>smooth-or-featured_smooth_prediction</th>\n",
       "      <th>smooth-or-featured_featured-or-disk_prediction</th>\n",
       "      <th>has-spiral-arms_yes_prediction</th>\n",
       "      <th>has-spiral-arms_no_prediction</th>\n",
       "      <th>bar_strong_prediction</th>\n",
       "      <th>bar_weak_prediction</th>\n",
       "      <th>bar_no_prediction</th>\n",
       "      <th>bulge-size_dominant_prediction</th>\n",
       "      <th>bulge-size_large_prediction</th>\n",
       "      <th>...</th>\n",
       "      <th>has-spiral-arms_yes_prediction_mean</th>\n",
       "      <th>has-spiral-arms_no_prediction_mean</th>\n",
       "      <th>bar_strong_prediction_mean</th>\n",
       "      <th>bar_weak_prediction_mean</th>\n",
       "      <th>bar_no_prediction_mean</th>\n",
       "      <th>bulge-size_dominant_prediction_mean</th>\n",
       "      <th>bulge-size_large_prediction_mean</th>\n",
       "      <th>bulge-size_moderate_prediction_mean</th>\n",
       "      <th>bulge-size_small_prediction_mean</th>\n",
       "      <th>bulge-size_none_prediction_mean</th>\n",
       "    </tr>\n",
       "  </thead>\n",
       "  <tbody>\n",
       "    <tr>\n",
       "      <th>0</th>\n",
       "      <td>J095827.12+053202.9</td>\n",
       "      <td>[0.3450254201889038, 0.30479463934898376, 0.39...</td>\n",
       "      <td>[0.6549745798110962, 0.6952053904533386, 0.608...</td>\n",
       "      <td>[0.7786278128623962, 0.8500095009803772, 0.700...</td>\n",
       "      <td>[0.22137221693992615, 0.1499904841184616, 0.29...</td>\n",
       "      <td>[0.02487005852162838, 0.11330746114253998, 0.0...</td>\n",
       "      <td>[0.18685849010944366, 0.36131736636161804, 0.1...</td>\n",
       "      <td>[0.788271427154541, 0.5253751873970032, 0.7674...</td>\n",
       "      <td>[0.009098440408706665, 0.012319830246269703, 0...</td>\n",
       "      <td>[0.037743255496025085, 0.034372299909591675, 0...</td>\n",
       "      <td>...</td>\n",
       "      <td>0.787338</td>\n",
       "      <td>0.212662</td>\n",
       "      <td>0.092769</td>\n",
       "      <td>0.336509</td>\n",
       "      <td>0.570721</td>\n",
       "      <td>0.012773</td>\n",
       "      <td>0.044555</td>\n",
       "      <td>0.496052</td>\n",
       "      <td>0.419309</td>\n",
       "      <td>0.027311</td>\n",
       "    </tr>\n",
       "    <tr>\n",
       "      <th>1</th>\n",
       "      <td>J110941.14+071441.8</td>\n",
       "      <td>[0.08003682643175125, 0.1025530993938446, 0.08...</td>\n",
       "      <td>[0.9199631810188293, 0.8974469304084778, 0.910...</td>\n",
       "      <td>[0.8051676750183105, 0.6734292507171631, 0.868...</td>\n",
       "      <td>[0.19483232498168945, 0.3265707194805145, 0.13...</td>\n",
       "      <td>[0.4113297462463379, 0.42520251870155334, 0.25...</td>\n",
       "      <td>[0.46923506259918213, 0.41790667176246643, 0.5...</td>\n",
       "      <td>[0.1194351315498352, 0.15689074993133545, 0.17...</td>\n",
       "      <td>[0.004876687657088041, 0.00576606672257185, 0....</td>\n",
       "      <td>[0.01144727785140276, 0.022490520030260086, 0....</td>\n",
       "      <td>...</td>\n",
       "      <td>0.834448</td>\n",
       "      <td>0.165552</td>\n",
       "      <td>0.343783</td>\n",
       "      <td>0.502387</td>\n",
       "      <td>0.153831</td>\n",
       "      <td>0.004817</td>\n",
       "      <td>0.016683</td>\n",
       "      <td>0.302045</td>\n",
       "      <td>0.580433</td>\n",
       "      <td>0.096022</td>\n",
       "    </tr>\n",
       "    <tr>\n",
       "      <th>2</th>\n",
       "      <td>J093958.09+015709.4</td>\n",
       "      <td>[0.09729380160570145, 0.10157424956560135, 0.0...</td>\n",
       "      <td>[0.9027062058448792, 0.8984256982803345, 0.933...</td>\n",
       "      <td>[0.9475104212760925, 0.9266517162322998, 0.946...</td>\n",
       "      <td>[0.05248962715268135, 0.0733482837677002, 0.05...</td>\n",
       "      <td>[0.23868361115455627, 0.3454155921936035, 0.43...</td>\n",
       "      <td>[0.32898783683776855, 0.3356339931488037, 0.34...</td>\n",
       "      <td>[0.4323284924030304, 0.3189504146575928, 0.215...</td>\n",
       "      <td>[0.008311137557029724, 0.01008316595107317, 0....</td>\n",
       "      <td>[0.062162671238183975, 0.08302217721939087, 0....</td>\n",
       "      <td>...</td>\n",
       "      <td>0.942493</td>\n",
       "      <td>0.057507</td>\n",
       "      <td>0.297989</td>\n",
       "      <td>0.351566</td>\n",
       "      <td>0.350445</td>\n",
       "      <td>0.007794</td>\n",
       "      <td>0.058494</td>\n",
       "      <td>0.559477</td>\n",
       "      <td>0.363848</td>\n",
       "      <td>0.010387</td>\n",
       "    </tr>\n",
       "    <tr>\n",
       "      <th>3</th>\n",
       "      <td>J124558.63-022016.8</td>\n",
       "      <td>[0.0973023772239685, 0.07113342732191086, 0.12...</td>\n",
       "      <td>[0.9026975631713867, 0.9288665652275085, 0.877...</td>\n",
       "      <td>[0.8264166116714478, 0.895691990852356, 0.8152...</td>\n",
       "      <td>[0.17358334362506866, 0.10430800169706345, 0.1...</td>\n",
       "      <td>[0.05856238678097725, 0.08202864974737167, 0.2...</td>\n",
       "      <td>[0.20573413372039795, 0.28753671050071716, 0.4...</td>\n",
       "      <td>[0.7357034683227539, 0.6304346323013306, 0.347...</td>\n",
       "      <td>[0.01753147691488266, 0.016825733706355095, 0....</td>\n",
       "      <td>[0.2540201246738434, 0.21038715541362762, 0.22...</td>\n",
       "      <td>...</td>\n",
       "      <td>0.765977</td>\n",
       "      <td>0.234023</td>\n",
       "      <td>0.099067</td>\n",
       "      <td>0.319492</td>\n",
       "      <td>0.581441</td>\n",
       "      <td>0.019294</td>\n",
       "      <td>0.233290</td>\n",
       "      <td>0.648751</td>\n",
       "      <td>0.087655</td>\n",
       "      <td>0.011011</td>\n",
       "    </tr>\n",
       "    <tr>\n",
       "      <th>4</th>\n",
       "      <td>J095329.76+083046.0</td>\n",
       "      <td>[0.03761093318462372, 0.027074767276644707, 0....</td>\n",
       "      <td>[0.9623891115188599, 0.9729252457618713, 0.957...</td>\n",
       "      <td>[0.9734212160110474, 0.9820564389228821, 0.968...</td>\n",
       "      <td>[0.026578761637210846, 0.01794363558292389, 0....</td>\n",
       "      <td>[0.046255506575107574, 0.047422803938388824, 0...</td>\n",
       "      <td>[0.2421794980764389, 0.3618539869785309, 0.236...</td>\n",
       "      <td>[0.7115649580955505, 0.5907232761383057, 0.720...</td>\n",
       "      <td>[0.00443657860159874, 0.0038920296356081963, 0...</td>\n",
       "      <td>[0.012406635098159313, 0.009039342403411865, 0...</td>\n",
       "      <td>...</td>\n",
       "      <td>0.979264</td>\n",
       "      <td>0.020736</td>\n",
       "      <td>0.051826</td>\n",
       "      <td>0.288098</td>\n",
       "      <td>0.660076</td>\n",
       "      <td>0.004195</td>\n",
       "      <td>0.011121</td>\n",
       "      <td>0.239974</td>\n",
       "      <td>0.726394</td>\n",
       "      <td>0.018315</td>\n",
       "    </tr>\n",
       "  </tbody>\n",
       "</table>\n",
       "<p>5 rows × 25 columns</p>\n",
       "</div>"
      ],
      "text/plain": [
       "               iauname               smooth-or-featured_smooth_prediction  \\\n",
       "0  J095827.12+053202.9  [0.3450254201889038, 0.30479463934898376, 0.39...   \n",
       "1  J110941.14+071441.8  [0.08003682643175125, 0.1025530993938446, 0.08...   \n",
       "2  J093958.09+015709.4  [0.09729380160570145, 0.10157424956560135, 0.0...   \n",
       "3  J124558.63-022016.8  [0.0973023772239685, 0.07113342732191086, 0.12...   \n",
       "4  J095329.76+083046.0  [0.03761093318462372, 0.027074767276644707, 0....   \n",
       "\n",
       "      smooth-or-featured_featured-or-disk_prediction  \\\n",
       "0  [0.6549745798110962, 0.6952053904533386, 0.608...   \n",
       "1  [0.9199631810188293, 0.8974469304084778, 0.910...   \n",
       "2  [0.9027062058448792, 0.8984256982803345, 0.933...   \n",
       "3  [0.9026975631713867, 0.9288665652275085, 0.877...   \n",
       "4  [0.9623891115188599, 0.9729252457618713, 0.957...   \n",
       "\n",
       "                      has-spiral-arms_yes_prediction  \\\n",
       "0  [0.7786278128623962, 0.8500095009803772, 0.700...   \n",
       "1  [0.8051676750183105, 0.6734292507171631, 0.868...   \n",
       "2  [0.9475104212760925, 0.9266517162322998, 0.946...   \n",
       "3  [0.8264166116714478, 0.895691990852356, 0.8152...   \n",
       "4  [0.9734212160110474, 0.9820564389228821, 0.968...   \n",
       "\n",
       "                       has-spiral-arms_no_prediction  \\\n",
       "0  [0.22137221693992615, 0.1499904841184616, 0.29...   \n",
       "1  [0.19483232498168945, 0.3265707194805145, 0.13...   \n",
       "2  [0.05248962715268135, 0.0733482837677002, 0.05...   \n",
       "3  [0.17358334362506866, 0.10430800169706345, 0.1...   \n",
       "4  [0.026578761637210846, 0.01794363558292389, 0....   \n",
       "\n",
       "                               bar_strong_prediction  \\\n",
       "0  [0.02487005852162838, 0.11330746114253998, 0.0...   \n",
       "1  [0.4113297462463379, 0.42520251870155334, 0.25...   \n",
       "2  [0.23868361115455627, 0.3454155921936035, 0.43...   \n",
       "3  [0.05856238678097725, 0.08202864974737167, 0.2...   \n",
       "4  [0.046255506575107574, 0.047422803938388824, 0...   \n",
       "\n",
       "                                 bar_weak_prediction  \\\n",
       "0  [0.18685849010944366, 0.36131736636161804, 0.1...   \n",
       "1  [0.46923506259918213, 0.41790667176246643, 0.5...   \n",
       "2  [0.32898783683776855, 0.3356339931488037, 0.34...   \n",
       "3  [0.20573413372039795, 0.28753671050071716, 0.4...   \n",
       "4  [0.2421794980764389, 0.3618539869785309, 0.236...   \n",
       "\n",
       "                                   bar_no_prediction  \\\n",
       "0  [0.788271427154541, 0.5253751873970032, 0.7674...   \n",
       "1  [0.1194351315498352, 0.15689074993133545, 0.17...   \n",
       "2  [0.4323284924030304, 0.3189504146575928, 0.215...   \n",
       "3  [0.7357034683227539, 0.6304346323013306, 0.347...   \n",
       "4  [0.7115649580955505, 0.5907232761383057, 0.720...   \n",
       "\n",
       "                      bulge-size_dominant_prediction  \\\n",
       "0  [0.009098440408706665, 0.012319830246269703, 0...   \n",
       "1  [0.004876687657088041, 0.00576606672257185, 0....   \n",
       "2  [0.008311137557029724, 0.01008316595107317, 0....   \n",
       "3  [0.01753147691488266, 0.016825733706355095, 0....   \n",
       "4  [0.00443657860159874, 0.0038920296356081963, 0...   \n",
       "\n",
       "                         bulge-size_large_prediction  ...  \\\n",
       "0  [0.037743255496025085, 0.034372299909591675, 0...  ...   \n",
       "1  [0.01144727785140276, 0.022490520030260086, 0....  ...   \n",
       "2  [0.062162671238183975, 0.08302217721939087, 0....  ...   \n",
       "3  [0.2540201246738434, 0.21038715541362762, 0.22...  ...   \n",
       "4  [0.012406635098159313, 0.009039342403411865, 0...  ...   \n",
       "\n",
       "  has-spiral-arms_yes_prediction_mean has-spiral-arms_no_prediction_mean  \\\n",
       "0                            0.787338                           0.212662   \n",
       "1                            0.834448                           0.165552   \n",
       "2                            0.942493                           0.057507   \n",
       "3                            0.765977                           0.234023   \n",
       "4                            0.979264                           0.020736   \n",
       "\n",
       "  bar_strong_prediction_mean  bar_weak_prediction_mean  \\\n",
       "0                   0.092769                  0.336509   \n",
       "1                   0.343783                  0.502387   \n",
       "2                   0.297989                  0.351566   \n",
       "3                   0.099067                  0.319492   \n",
       "4                   0.051826                  0.288098   \n",
       "\n",
       "   bar_no_prediction_mean  bulge-size_dominant_prediction_mean  \\\n",
       "0                0.570721                             0.012773   \n",
       "1                0.153831                             0.004817   \n",
       "2                0.350445                             0.007794   \n",
       "3                0.581441                             0.019294   \n",
       "4                0.660076                             0.004195   \n",
       "\n",
       "   bulge-size_large_prediction_mean  bulge-size_moderate_prediction_mean  \\\n",
       "0                          0.044555                             0.496052   \n",
       "1                          0.016683                             0.302045   \n",
       "2                          0.058494                             0.559477   \n",
       "3                          0.233290                             0.648751   \n",
       "4                          0.011121                             0.239974   \n",
       "\n",
       "   bulge-size_small_prediction_mean  bulge-size_none_prediction_mean  \n",
       "0                          0.419309                         0.027311  \n",
       "1                          0.580433                         0.096022  \n",
       "2                          0.363848                         0.010387  \n",
       "3                          0.087655                         0.011011  \n",
       "4                          0.726394                         0.018315  \n",
       "\n",
       "[5 rows x 25 columns]"
      ]
     },
     "execution_count": 352,
     "metadata": {},
     "output_type": "execute_result"
    }
   ],
   "source": [
    "ml_df = pd.read_csv('temp/calibration_predictions.csv')\n",
    "ml_df = ml_df[['iauname'] + [a.text + '_prediction' for a in schema.answers] + [a.text + '_prediction_mean' for a in schema.answers]]\n",
    "ml_df.head()"
   ]
  },
  {
   "cell_type": "code",
   "execution_count": 353,
   "metadata": {},
   "outputs": [],
   "source": [
    "# ml_vols = pd.merge(ml_df, volunteers_df, how='inner', on='iauname')"
   ]
  },
  {
   "cell_type": "code",
   "execution_count": 354,
   "metadata": {},
   "outputs": [],
   "source": [
    "# sns.scatterplot(data=ml_vols, x='smooth-or-featured_smooth_fraction', y='smooth-or-featured_smooth_prediction_mean')"
   ]
  },
  {
   "cell_type": "code",
   "execution_count": 355,
   "metadata": {},
   "outputs": [],
   "source": [
    "answer_cols = [a.text for a in schema.answers]\n",
    "expert_df = pd.read_csv('../gz-panoptes-reduction/temp/calibration_experts/classifications.csv')\n",
    "expert_df = expert_df[answer_cols + ['iauname'] + [x + '_fraction' for x in answer_cols] + [q.text + '_total-votes' for q in schema.questions]]\n",
    "# rename_answers = dict(zip(answer_cols, [x + '_expert' for x in answer_cols]))\n",
    "# rename_fractions = dict(zip([x + '_fraction' for x in answer_cols], [x + '_fraction_expert' for x in answer_cols]))\n",
    "# rename_totals = dict(zip([x + '_total-votes' for x in answer_cols], [x + '_total-votes_expert' for x in answer_cols]))\n",
    "# expert_df = expert_df.rename(columns=rename_answers)\n",
    "# expert_df = expert_df.rename(columns=rename_fractions)\n",
    "# expert_df = expert_df.rename(columns=rename_totals)"
   ]
  },
  {
   "cell_type": "code",
   "execution_count": 356,
   "metadata": {},
   "outputs": [
    {
     "data": {
      "text/plain": [
       "array(['smooth-or-featured_smooth', 'smooth-or-featured_featured-or-disk',\n",
       "       'has-spiral-arms_yes', 'has-spiral-arms_no', 'bar_strong',\n",
       "       'bar_weak', 'bar_no', 'bulge-size_dominant', 'bulge-size_large',\n",
       "       'bulge-size_moderate', 'bulge-size_small', 'bulge-size_none',\n",
       "       'iauname', 'smooth-or-featured_smooth_fraction',\n",
       "       'smooth-or-featured_featured-or-disk_fraction',\n",
       "       'has-spiral-arms_yes_fraction', 'has-spiral-arms_no_fraction',\n",
       "       'bar_strong_fraction', 'bar_weak_fraction', 'bar_no_fraction',\n",
       "       'bulge-size_dominant_fraction', 'bulge-size_large_fraction',\n",
       "       'bulge-size_moderate_fraction', 'bulge-size_small_fraction',\n",
       "       'bulge-size_none_fraction', 'smooth-or-featured_total-votes',\n",
       "       'has-spiral-arms_total-votes', 'bar_total-votes',\n",
       "       'bulge-size_total-votes'], dtype=object)"
      ]
     },
     "execution_count": 356,
     "metadata": {},
     "output_type": "execute_result"
    }
   ],
   "source": [
    "expert_df.columns.values"
   ]
  },
  {
   "cell_type": "code",
   "execution_count": 357,
   "metadata": {},
   "outputs": [],
   "source": [
    "df = pd.merge(volunteers_df, ml_df, how='inner', on='iauname')\n",
    "df = pd.merge(df, expert_df, how='inner', on='iauname', suffixes=('_volunteer', '_expert'))"
   ]
  },
  {
   "cell_type": "code",
   "execution_count": 358,
   "metadata": {},
   "outputs": [
    {
     "data": {
      "text/plain": [
       "array(['subject_id', 'bar_no_volunteer', 'bar_strong_volunteer',\n",
       "       'bar_weak_volunteer', 'bulge-size_dominant_volunteer',\n",
       "       'bulge-size_large_volunteer', 'bulge-size_moderate_volunteer',\n",
       "       'bulge-size_none_volunteer', 'bulge-size_small_volunteer',\n",
       "       'disk-edge-on_no', 'disk-edge-on_yes', 'edge-on-bulge_boxy',\n",
       "       'edge-on-bulge_none', 'edge-on-bulge_rounded',\n",
       "       'has-spiral-arms_no_volunteer', 'has-spiral-arms_yes_volunteer',\n",
       "       'how-rounded_cigar-shaped', 'how-rounded_in-between',\n",
       "       'how-rounded_round', 'merging_both-v1',\n",
       "       'merging_major-disturbance', 'merging_merger',\n",
       "       'merging_minor-disturbance', 'merging_neither-v1', 'merging_none',\n",
       "       'merging_tidal-debris-v1', 'smooth-or-featured_artifact',\n",
       "       'smooth-or-featured_featured-or-disk_volunteer',\n",
       "       'smooth-or-featured_smooth_volunteer', 'spiral-arm-count_1',\n",
       "       'spiral-arm-count_2', 'spiral-arm-count_3', 'spiral-arm-count_4',\n",
       "       'spiral-arm-count_cant-tell', 'spiral-arm-count_more-than-4',\n",
       "       'spiral-winding_loose', 'spiral-winding_medium',\n",
       "       'spiral-winding_tight', 'smooth-or-featured_total-votes_volunteer',\n",
       "       'how-rounded_total-votes', 'disk-edge-on_total-votes',\n",
       "       'edge-on-bulge_total-votes', 'bar_total-votes_volunteer',\n",
       "       'has-spiral-arms_total-votes_volunteer',\n",
       "       'spiral-winding_total-votes', 'spiral-arm-count_total-votes',\n",
       "       'bulge-size_total-votes_volunteer', 'merging_total-votes',\n",
       "       'smooth-or-featured_smooth_fraction_volunteer',\n",
       "       'smooth-or-featured_featured-or-disk_fraction_volunteer',\n",
       "       'smooth-or-featured_artifact_fraction',\n",
       "       'how-rounded_round_fraction', 'how-rounded_in-between_fraction',\n",
       "       'how-rounded_cigar-shaped_fraction', 'disk-edge-on_yes_fraction',\n",
       "       'disk-edge-on_no_fraction', 'edge-on-bulge_rounded_fraction',\n",
       "       'edge-on-bulge_boxy_fraction', 'edge-on-bulge_none_fraction',\n",
       "       'bar_strong_fraction_volunteer', 'bar_weak_fraction_volunteer',\n",
       "       'bar_no_fraction_volunteer',\n",
       "       'has-spiral-arms_yes_fraction_volunteer',\n",
       "       'has-spiral-arms_no_fraction_volunteer',\n",
       "       'spiral-winding_tight_fraction', 'spiral-winding_medium_fraction',\n",
       "       'spiral-winding_loose_fraction', 'spiral-arm-count_1_fraction',\n",
       "       'spiral-arm-count_2_fraction', 'spiral-arm-count_3_fraction',\n",
       "       'spiral-arm-count_4_fraction',\n",
       "       'spiral-arm-count_more-than-4_fraction',\n",
       "       'spiral-arm-count_cant-tell_fraction',\n",
       "       'bulge-size_none_fraction_volunteer',\n",
       "       'bulge-size_small_fraction_volunteer',\n",
       "       'bulge-size_moderate_fraction_volunteer',\n",
       "       'bulge-size_large_fraction_volunteer',\n",
       "       'bulge-size_dominant_fraction_volunteer',\n",
       "       'merging_merger_fraction', 'merging_tidal-debris-v1_fraction',\n",
       "       'merging_both-v1_fraction', 'merging_neither-v1_fraction',\n",
       "       'merging_major-disturbance_fraction',\n",
       "       'merging_minor-disturbance_fraction', 'merging_none_fraction',\n",
       "       'subject_url', 'iauname', 'upload_date', 'uploader',\n",
       "       'retirement_limit', 'smooth-or-featured_smooth_prediction',\n",
       "       'smooth-or-featured_featured-or-disk_prediction',\n",
       "       'has-spiral-arms_yes_prediction', 'has-spiral-arms_no_prediction',\n",
       "       'bar_strong_prediction', 'bar_weak_prediction',\n",
       "       'bar_no_prediction', 'bulge-size_dominant_prediction',\n",
       "       'bulge-size_large_prediction', 'bulge-size_moderate_prediction',\n",
       "       'bulge-size_small_prediction', 'bulge-size_none_prediction',\n",
       "       'smooth-or-featured_smooth_prediction_mean',\n",
       "       'smooth-or-featured_featured-or-disk_prediction_mean',\n",
       "       'has-spiral-arms_yes_prediction_mean',\n",
       "       'has-spiral-arms_no_prediction_mean', 'bar_strong_prediction_mean',\n",
       "       'bar_weak_prediction_mean', 'bar_no_prediction_mean',\n",
       "       'bulge-size_dominant_prediction_mean',\n",
       "       'bulge-size_large_prediction_mean',\n",
       "       'bulge-size_moderate_prediction_mean',\n",
       "       'bulge-size_small_prediction_mean',\n",
       "       'bulge-size_none_prediction_mean',\n",
       "       'smooth-or-featured_smooth_expert',\n",
       "       'smooth-or-featured_featured-or-disk_expert',\n",
       "       'has-spiral-arms_yes_expert', 'has-spiral-arms_no_expert',\n",
       "       'bar_strong_expert', 'bar_weak_expert', 'bar_no_expert',\n",
       "       'bulge-size_dominant_expert', 'bulge-size_large_expert',\n",
       "       'bulge-size_moderate_expert', 'bulge-size_small_expert',\n",
       "       'bulge-size_none_expert',\n",
       "       'smooth-or-featured_smooth_fraction_expert',\n",
       "       'smooth-or-featured_featured-or-disk_fraction_expert',\n",
       "       'has-spiral-arms_yes_fraction_expert',\n",
       "       'has-spiral-arms_no_fraction_expert', 'bar_strong_fraction_expert',\n",
       "       'bar_weak_fraction_expert', 'bar_no_fraction_expert',\n",
       "       'bulge-size_dominant_fraction_expert',\n",
       "       'bulge-size_large_fraction_expert',\n",
       "       'bulge-size_moderate_fraction_expert',\n",
       "       'bulge-size_small_fraction_expert',\n",
       "       'bulge-size_none_fraction_expert',\n",
       "       'smooth-or-featured_total-votes_expert',\n",
       "       'has-spiral-arms_total-votes_expert', 'bar_total-votes_expert',\n",
       "       'bulge-size_total-votes_expert'], dtype=object)"
      ]
     },
     "execution_count": 358,
     "metadata": {},
     "output_type": "execute_result"
    }
   ],
   "source": [
    "df.columns.values"
   ]
  },
  {
   "cell_type": "markdown",
   "metadata": {},
   "source": [
    "Now, finally, we can compare...."
   ]
  },
  {
   "cell_type": "code",
   "execution_count": 359,
   "metadata": {},
   "outputs": [
    {
     "data": {
      "text/plain": [
       "<matplotlib.axes._subplots.AxesSubplot at 0x7f6618b26a10>"
      ]
     },
     "execution_count": 359,
     "metadata": {},
     "output_type": "execute_result"
    },
    {
     "data": {
      "image/png": "[encoded data removed]",
      "text/plain": [
       "<Figure size 432x288 with 1 Axes>"
      ]
     },
     "metadata": {
      "needs_background": "light"
     },
     "output_type": "display_data"
    }
   ],
   "source": [
    "sns.scatterplot(data=df, x='smooth-or-featured_smooth_fraction_volunteer', y='smooth-or-featured_smooth_prediction_mean', hue='smooth-or-featured_smooth_fraction_expert', legend=False)\n",
    "# sns.scatterplot(data=df, x='smooth-or-featured_smooth_fraction_expert', y='smooth-or-featured_smooth_fraction_volunteer', alpha=alpha)"
   ]
  },
  {
   "cell_type": "code",
   "execution_count": 404,
   "metadata": {},
   "outputs": [
    {
     "data": {
      "text/plain": [
       "<matplotlib.legend.Legend at 0x7f6621843e50>"
      ]
     },
     "execution_count": 404,
     "metadata": {},
     "output_type": "execute_result"
    },
    {
     "data": {
      "image/png": "[encoded data removed]",
      "text/plain": [
       "<Figure size 432x288 with 1 Axes>"
      ]
     },
     "metadata": {},
     "output_type": "display_data"
    }
   ],
   "source": [
    "sns.set()\n",
    "alpha = 0.5\n",
    "_, bins = np.histogram(np.linspace(0., 1.), bins=15)\n",
    "plt.hist(df['smooth-or-featured_smooth_fraction_expert'].values, alpha=alpha, label='Expert', bins=bins)\n",
    "plt.hist(df['smooth-or-featured_smooth_fraction_volunteer'].values, alpha=alpha, label='Vol', bins=bins)\n",
    "plt.hist(df['smooth-or-featured_smooth_prediction_mean'].values, alpha=alpha, label='ML', bins=bins)\n",
    "plt.xlabel('Smooth fraction')\n",
    "plt.ylabel('Galaxy Count')\n",
    "plt.xlim(0., 1.)\n",
    "plt.legend()"
   ]
  },
  {
   "cell_type": "code",
   "execution_count": 378,
   "metadata": {},
   "outputs": [],
   "source": [
    "df['bar_volunteer'] = df['bar_strong_volunteer'] + df['bar_weak_volunteer']\n",
    "df['bar_fraction_volunteer'] = df['bar_volunteer'] / df['bar_total-votes_volunteer']\n",
    "\n",
    "df['bar_expert'] = df['bar_strong_expert'] + df['bar_weak_expert']\n",
    "df['bar_fraction_expert'] = df['bar_expert'] / df['bar_total-votes_expert']\n",
    "\n",
    "df['bar_prediction_mean'] = df['bar_strong_prediction_mean'] + df['bar_weak_prediction_mean']\n"
   ]
  },
  {
   "cell_type": "code",
   "execution_count": 407,
   "metadata": {},
   "outputs": [
    {
     "data": {
      "text/plain": [
       "<matplotlib.legend.Legend at 0x7f661e875710>"
      ]
     },
     "execution_count": 407,
     "metadata": {},
     "output_type": "execute_result"
    },
    {
     "data": {
      "image/png": "[encoded data removed]",
      "text/plain": [
       "<Figure size 432x288 with 1 Axes>"
      ]
     },
     "metadata": {},
     "output_type": "display_data"
    }
   ],
   "source": [
    "sns.set()\n",
    "alpha = 0.5\n",
    "_, bins = np.histogram(np.linspace(0., 1.), bins=15)\n",
    "plt.hist(df['bar_fraction_expert'].values, alpha=alpha, bins=bins, label='Expert')\n",
    "plt.hist(df['bar_fraction_volunteer'].values, alpha=alpha, bins=bins, label='Vol')\n",
    "plt.hist(df['bar_prediction_mean'].values, alpha=alpha, bins=bins, label='ML')\n",
    "plt.xlabel('Bar (any) fraction')\n",
    "plt.ylabel('Galaxy Count')\n",
    "plt.legend()"
   ]
  },
  {
   "cell_type": "code",
   "execution_count": null,
   "metadata": {},
   "outputs": [],
   "source": []
  },
  {
   "cell_type": "code",
   "execution_count": 380,
   "metadata": {},
   "outputs": [
    {
     "data": {
      "text/plain": [
       "<matplotlib.axes._subplots.AxesSubplot at 0x7f661b456b50>"
      ]
     },
     "execution_count": 380,
     "metadata": {},
     "output_type": "execute_result"
    },
    {
     "data": {
      "image/png": "[encoded data removed]",
      "text/plain": [
       "<Figure size 432x288 with 1 Axes>"
      ]
     },
     "metadata": {
      "needs_background": "light"
     },
     "output_type": "display_data"
    }
   ],
   "source": [
    "sns.scatterplot(data=df, x='bar_fraction_expert', y='bar_fraction_volunteer')\n",
    "sns.scatterplot(data=df, x='bar_fraction_expert', y='bar_prediction_mean')"
   ]
  },
  {
   "cell_type": "code",
   "execution_count": 387,
   "metadata": {},
   "outputs": [],
   "source": [
    "df['is_bar'] = df['bar_fraction_expert'] > 0.85\n",
    "df['is_not_bar'] = df['bar_fraction_expert'] < 0.15\n",
    "ambiguous = ~df['is_bar'] & ~df['is_not_bar']"
   ]
  },
  {
   "cell_type": "code",
   "execution_count": 416,
   "metadata": {},
   "outputs": [
    {
     "name": "stdout",
     "output_type": "stream",
     "text": [
      "0.9473684210526315\n"
     ]
    },
    {
     "data": {
      "text/plain": [
       "Text(0.5, 1, 'Volunteers')"
      ]
     },
     "execution_count": 416,
     "metadata": {},
     "output_type": "execute_result"
    },
    {
     "data": {
      "image/png": "[encoded data removed]",
      "text/plain": [
       "<Figure size 432x288 with 2 Axes>"
      ]
     },
     "metadata": {},
     "output_type": "display_data"
    }
   ],
   "source": [
    "confident = df[~ambiguous]\n",
    "print(accuracy_score(confident['is_bar'], confident['bar_fraction_volunteer'] > 0.5))\n",
    "cm = confusion_matrix(confident['is_bar'], confident['bar_fraction_volunteer'] > 0.5)\n",
    "sns.heatmap(cm, annot=True, xticklabels=['Not Bar', 'Bar'], yticklabels=['Not Bar', 'Bar'])\n",
    "plt.xlabel('Predicted')\n",
    "plt.ylabel('Actual')\n",
    "plt.title('Volunteers')"
   ]
  },
  {
   "cell_type": "code",
   "execution_count": 417,
   "metadata": {},
   "outputs": [
    {
     "name": "stdout",
     "output_type": "stream",
     "text": [
      "0.8421052631578947\n"
     ]
    },
    {
     "data": {
      "text/plain": [
       "Text(0.5, 1, 'ML')"
      ]
     },
     "execution_count": 417,
     "metadata": {},
     "output_type": "execute_result"
    },
    {
     "data": {
      "image/png": "[encoded data removed]",
      "text/plain": [
       "<Figure size 432x288 with 2 Axes>"
      ]
     },
     "metadata": {},
     "output_type": "display_data"
    }
   ],
   "source": [
    "print(accuracy_score(confident['is_bar'], confident['bar_prediction_mean'] > 0.5))\n",
    "cm = confusion_matrix(confident['is_bar'], confident['bar_prediction_mean'] > 0.5)\n",
    "sns.heatmap(cm, annot=True, xticklabels=['Not Bar', 'Bar'], yticklabels=['Not Bar', 'Bar'])\n",
    "plt.xlabel('Predicted')\n",
    "plt.ylabel('Actual')\n",
    "plt.title('ML')"
   ]
  },
  {
   "cell_type": "code",
   "execution_count": 361,
   "metadata": {},
   "outputs": [
    {
     "data": {
      "text/plain": [
       "<matplotlib.axes._subplots.AxesSubplot at 0x7f6706287b90>"
      ]
     },
     "execution_count": 361,
     "metadata": {},
     "output_type": "execute_result"
    },
    {
     "data": {
      "image/png": "[encoded data removed]",
      "text/plain": [
       "<Figure size 432x288 with 1 Axes>"
      ]
     },
     "metadata": {
      "needs_background": "light"
     },
     "output_type": "display_data"
    }
   ],
   "source": [
    "df['smooth-or-featured_total-votes_expert'].hist()"
   ]
  },
  {
   "cell_type": "code",
   "execution_count": 362,
   "metadata": {},
   "outputs": [
    {
     "data": {
      "text/plain": [
       "<matplotlib.axes._subplots.AxesSubplot at 0x7f6619a93910>"
      ]
     },
     "execution_count": 362,
     "metadata": {},
     "output_type": "execute_result"
    },
    {
     "data": {
      "image/png": "[encoded data removed]",
      "text/plain": [
       "<Figure size 432x288 with 1 Axes>"
      ]
     },
     "metadata": {
      "needs_background": "light"
     },
     "output_type": "display_data"
    }
   ],
   "source": [
    "df['smooth-or-featured_smooth_expert'].hist()"
   ]
  },
  {
   "cell_type": "code",
   "execution_count": 410,
   "metadata": {},
   "outputs": [
    {
     "data": {
      "text/plain": [
       "Text(0, 0.5, 'Galaxy count')"
      ]
     },
     "execution_count": 410,
     "metadata": {},
     "output_type": "execute_result"
    },
    {
     "data": {
      "image/png": "[encoded data removed]",
      "text/plain": [
       "<Figure size 432x288 with 1 Axes>"
      ]
     },
     "metadata": {},
     "output_type": "display_data"
    }
   ],
   "source": [
    "sns.set()\n",
    "alpha = 0.5\n",
    "_, bins = np.histogram(np.linspace(0., 1.))\n",
    "plt.hist(df['has-spiral-arms_yes_fraction_expert'].values, alpha=alpha, bins=bins, label='Expert')\n",
    "plt.hist(df['has-spiral-arms_yes_fraction_volunteer'].values, alpha=alpha, bins=bins, label='Vol')\n",
    "plt.hist(df['has-spiral-arms_yes_prediction_mean'].values, alpha=alpha, bins=bins, label='ML')\n",
    "plt.legend()\n",
    "plt.xlim(0., 1.)\n",
    "plt.xlabel('Spiral arms yes fraction')\n",
    "plt.ylabel('Galaxy count')"
   ]
  },
  {
   "cell_type": "code",
   "execution_count": null,
   "metadata": {},
   "outputs": [],
   "source": [
    "# df['is_smooth'] = df['smooth-or-featured_smooth_fraction_expert'] > 0.75\n",
    "# df['is_not_smooth'] = df['smooth-or-featured_smooth_fraction_expert'] < 0.25\n",
    "# ambiguous = ~is_spiral & ~is_not_spiral"
   ]
  },
  {
   "cell_type": "code",
   "execution_count": null,
   "metadata": {},
   "outputs": [],
   "source": [
    "accuracy_score(confident['is_spiral'], confident['has-spiral-arms_yes_prediction_mean'] > 0.5)"
   ]
  },
  {
   "cell_type": "code",
   "execution_count": null,
   "metadata": {},
   "outputs": [],
   "source": []
  },
  {
   "cell_type": "code",
   "execution_count": null,
   "metadata": {},
   "outputs": [],
   "source": []
  },
  {
   "cell_type": "code",
   "execution_count": 364,
   "metadata": {},
   "outputs": [],
   "source": []
  },
  {
   "cell_type": "code",
   "execution_count": null,
   "metadata": {},
   "outputs": [],
   "source": []
  },
  {
   "cell_type": "code",
   "execution_count": null,
   "metadata": {},
   "outputs": [],
   "source": []
  },
  {
   "cell_type": "code",
   "execution_count": null,
   "metadata": {},
   "outputs": [],
   "source": []
  },
  {
   "cell_type": "code",
   "execution_count": null,
   "metadata": {},
   "outputs": [],
   "source": []
  },
  {
   "cell_type": "code",
   "execution_count": 365,
   "metadata": {},
   "outputs": [
    {
     "data": {
      "text/plain": [
       "0.11087559423075653"
      ]
     },
     "execution_count": 365,
     "metadata": {},
     "output_type": "execute_result"
    }
   ],
   "source": [
    "mean_absolute_error(df['has-spiral-arms_yes_fraction_volunteer'], df['has-spiral-arms_yes_prediction_mean'])"
   ]
  },
  {
   "cell_type": "code",
   "execution_count": null,
   "metadata": {},
   "outputs": [],
   "source": []
  },
  {
   "cell_type": "code",
   "execution_count": 366,
   "metadata": {},
   "outputs": [
    {
     "name": "stderr",
     "output_type": "stream",
     "text": [
      "/home/walml/anaconda3/envs/zoobot/lib/python3.7/site-packages/ipykernel_launcher.py:1: UserWarning: Boolean Series key will be reindexed to match DataFrame index.\n",
      "  \"\"\"Entry point for launching an IPython kernel.\n"
     ]
    },
    {
     "data": {
      "text/plain": [
       "0.84"
      ]
     },
     "execution_count": 366,
     "metadata": {},
     "output_type": "execute_result"
    }
   ],
   "source": [
    "confident = df[~ambiguous]\n",
    "accuracy_score(confident['is_spiral'], confident['has-spiral-arms_yes_fraction_volunteer'] > 0.5)"
   ]
  },
  {
   "cell_type": "code",
   "execution_count": 367,
   "metadata": {},
   "outputs": [
    {
     "data": {
      "text/plain": [
       "0.84"
      ]
     },
     "execution_count": 367,
     "metadata": {},
     "output_type": "execute_result"
    }
   ],
   "source": [
    "accuracy_score(confident['is_spiral'], confident['has-spiral-arms_yes_prediction_mean'] > 0.5)"
   ]
  },
  {
   "cell_type": "code",
   "execution_count": 374,
   "metadata": {},
   "outputs": [
    {
     "data": {
      "text/plain": [
       "0.8"
      ]
     },
     "execution_count": 374,
     "metadata": {},
     "output_type": "execute_result"
    }
   ],
   "source": [
    "accuracy_score(confident['is_spiral'], (confident['has-spiral-arms_yes_prediction_mean'] + confident['has-spiral-arms_yes_fraction_volunteer'] / 2)> 0.5)"
   ]
  },
  {
   "cell_type": "code",
   "execution_count": 368,
   "metadata": {},
   "outputs": [
    {
     "data": {
      "text/plain": [
       "0.023584859869389366"
      ]
     },
     "execution_count": 368,
     "metadata": {},
     "output_type": "execute_result"
    }
   ],
   "source": [
    "mean_squared_error(df['has-spiral-arms_yes_fraction_volunteer'], df['has-spiral-arms_yes_prediction_mean'])"
   ]
  },
  {
   "cell_type": "code",
   "execution_count": 369,
   "metadata": {},
   "outputs": [
    {
     "data": {
      "text/plain": [
       "0.11087559423075653"
      ]
     },
     "execution_count": 369,
     "metadata": {},
     "output_type": "execute_result"
    }
   ],
   "source": [
    "mean_absolute_error(df['has-spiral-arms_yes_fraction_volunteer'], df['has-spiral-arms_yes_prediction_mean'])"
   ]
  },
  {
   "cell_type": "code",
   "execution_count": 370,
   "metadata": {},
   "outputs": [
    {
     "data": {
      "text/plain": [
       "0.06684759725560098"
      ]
     },
     "execution_count": 370,
     "metadata": {},
     "output_type": "execute_result"
    }
   ],
   "source": [
    "mean_absolute_error(df['smooth-or-featured_smooth_fraction_volunteer'], df['smooth-or-featured_smooth_prediction_mean'])"
   ]
  },
  {
   "cell_type": "code",
   "execution_count": 371,
   "metadata": {},
   "outputs": [
    {
     "data": {
      "text/plain": [
       "0.03871982267021459"
      ]
     },
     "execution_count": 371,
     "metadata": {},
     "output_type": "execute_result"
    }
   ],
   "source": [
    "mean_squared_error(df['has-spiral-arms_yes_fraction_expert'], df['has-spiral-arms_yes_prediction_mean'])"
   ]
  },
  {
   "cell_type": "code",
   "execution_count": null,
   "metadata": {},
   "outputs": [],
   "source": []
  },
  {
   "cell_type": "code",
   "execution_count": 372,
   "metadata": {},
   "outputs": [
    {
     "data": {
      "text/plain": [
       "0.008618609399430866"
      ]
     },
     "execution_count": 372,
     "metadata": {},
     "output_type": "execute_result"
    }
   ],
   "source": [
    "mean_squared_error(df['smooth-or-featured_smooth_fraction_volunteer'], df['smooth-or-featured_smooth_prediction_mean'])"
   ]
  },
  {
   "cell_type": "code",
   "execution_count": 373,
   "metadata": {},
   "outputs": [
    {
     "data": {
      "text/plain": [
       "0.06684759725560098"
      ]
     },
     "execution_count": 373,
     "metadata": {},
     "output_type": "execute_result"
    }
   ],
   "source": [
    "mean_absolute_error(df['smooth-or-featured_smooth_fraction_volunteer'], df['smooth-or-featured_smooth_prediction_mean'])"
   ]
  },
  {
   "cell_type": "code",
   "execution_count": null,
   "metadata": {},
   "outputs": [],
   "source": []
  },
  {
   "cell_type": "code",
   "execution_count": null,
   "metadata": {},
   "outputs": [],
   "source": []
  },
  {
   "cell_type": "code",
   "execution_count": null,
   "metadata": {},
   "outputs": [],
   "source": []
  },
  {
   "cell_type": "code",
   "execution_count": null,
   "metadata": {},
   "outputs": [],
   "source": []
  }
 ],
 "metadata": {
  "kernelspec": {
   "display_name": "Python 3",
   "language": "python",
   "name": "python3"
  },
  "language_info": {
   "codemirror_mode": {
    "name": "ipython",
    "version": 3
   },
   "file_extension": ".py",
   "mimetype": "text/x-python",
   "name": "python",
   "nbconvert_exporter": "python",
   "pygments_lexer": "ipython3",
   "version": "3.7.4"
  }
 },
 "nbformat": 4,
 "nbformat_minor": 4
}
