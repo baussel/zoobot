{
 "cells": [
  {
   "cell_type": "code",
   "execution_count": 29,
   "metadata": {},
   "outputs": [
    {
     "name": "stdout",
     "output_type": "stream",
     "text": [
      "The autoreload extension is already loaded. To reload it, use:\n",
      "  %reload_ext autoreload\n"
     ]
    }
   ],
   "source": [
    "%load_ext autoreload\n",
    "%autoreload 2\n",
    "%matplotlib inline"
   ]
  },
  {
   "cell_type": "code",
   "execution_count": 30,
   "metadata": {},
   "outputs": [],
   "source": [
    "import matplotlib"
   ]
  },
  {
   "cell_type": "code",
   "execution_count": 31,
   "metadata": {},
   "outputs": [],
   "source": [
    "import sklearn"
   ]
  },
  {
   "cell_type": "code",
   "execution_count": 32,
   "metadata": {},
   "outputs": [],
   "source": [
    "import os\n",
    "import logging\n",
    "import argparse\n",
    "import glob\n",
    "import json\n",
    "from multiprocessing import Pool\n",
    "\n",
    "from IPython.display import display, Markdown\n",
    "\n",
    "import numpy as np\n",
    "import matplotlib.pyplot as plt\n",
    "from matplotlib.ticker import StrMethodFormatter\n",
    "import matplotlib.gridspec as gridspec\n",
    "import seaborn as sns\n",
    "from PIL import Image\n",
    "\n",
    "import pandas as pd\n",
    "from astropy.table import Table  # for NSA\n",
    "from astropy import units as u\n",
    "\n",
    "from scipy import stats, integrate\n",
    "from scipy.stats import binom\n",
    "import statsmodels.api as sm\n",
    "\n",
    "from sklearn import metrics\n",
    "from sklearn.metrics import confusion_matrix, plot_confusion_matrix, roc_curve, mean_squared_error, mean_absolute_error\n",
    "import tensorflow as tf\n",
    "\n",
    "from shared_astro_utils import astropy_utils, matching_utils\n",
    "from zoobot.estimators import make_predictions, bayesian_estimator_funcs\n",
    "from zoobot.tfrecord import read_tfrecord\n",
    "from zoobot.uncertainty import discrete_coverage\n",
    "from zoobot.estimators import input_utils, losses, dirichlet_stats\n",
    "from zoobot.tfrecord import catalog_to_tfrecord\n",
    "from zoobot.active_learning import metrics, simulated_metrics, acquisition_utils, check_uncertainty, simulation_timeline, run_estimator_config\n",
    "from zoobot.active_learning import acquisition_utils\n",
    "from zoobot import label_metadata\n"
   ]
  },
  {
   "cell_type": "code",
   "execution_count": 33,
   "metadata": {},
   "outputs": [],
   "source": [
    "os.chdir('/home/walml/repos/zoobot')"
   ]
  },
  {
   "cell_type": "code",
   "execution_count": 34,
   "metadata": {},
   "outputs": [
    {
     "name": "stdout",
     "output_type": "stream",
     "text": [
      "{smooth-or-featured, indices 0 to 2, asked after None: (0, 2), disk-edge-on, indices 3 to 4, asked after smooth-or-featured_featured-or-disk, index 1: (3, 4), has-spiral-arms, indices 5 to 6, asked after disk-edge-on_no, index 4: (5, 6), bar, indices 7 to 9, asked after disk-edge-on_no, index 4: (7, 9), bulge-size, indices 10 to 14, asked after disk-edge-on_no, index 4: (10, 14), how-rounded, indices 15 to 17, asked after smooth-or-featured_smooth, index 0: (15, 17), edge-on-bulge, indices 18 to 20, asked after disk-edge-on_yes, index 3: (18, 20), spiral-winding, indices 21 to 23, asked after has-spiral-arms_yes, index 5: (21, 23), spiral-arm-count, indices 24 to 29, asked after has-spiral-arms_yes, index 5: (24, 29), merging, indices 30 to 33, asked after None: (30, 33)}\n"
     ]
    },
    {
     "data": {
      "text/plain": [
       "[smooth-or-featured, indices 0 to 2, asked after None,\n",
       " disk-edge-on, indices 3 to 4, asked after smooth-or-featured_featured-or-disk, index 1,\n",
       " has-spiral-arms, indices 5 to 6, asked after disk-edge-on_no, index 4,\n",
       " bar, indices 7 to 9, asked after disk-edge-on_no, index 4,\n",
       " bulge-size, indices 10 to 14, asked after disk-edge-on_no, index 4,\n",
       " how-rounded, indices 15 to 17, asked after smooth-or-featured_smooth, index 0,\n",
       " edge-on-bulge, indices 18 to 20, asked after disk-edge-on_yes, index 3,\n",
       " spiral-winding, indices 21 to 23, asked after has-spiral-arms_yes, index 5,\n",
       " spiral-arm-count, indices 24 to 29, asked after has-spiral-arms_yes, index 5,\n",
       " merging, indices 30 to 33, asked after None]"
      ]
     },
     "execution_count": 34,
     "metadata": {},
     "output_type": "execute_result"
    }
   ],
   "source": [
    "questions = label_metadata.decals_questions\n",
    "label_cols = label_metadata.decals_label_cols\n",
    "version = 'decals'\n",
    "\n",
    "schema = losses.Schema(label_cols, questions, version=version)\n",
    "schema.questions"
   ]
  },
  {
   "cell_type": "code",
   "execution_count": 35,
   "metadata": {},
   "outputs": [
    {
     "name": "stdout",
     "output_type": "stream",
     "text": [
      "49700\n",
      "49700\n",
      "49700\n",
      "(49700, 34, 15)\n"
     ]
    }
   ],
   "source": [
    "\n",
    "# previously shared in draft paper\n",
    "# predictions_loc = 'results/temp/decals_n2_allq_m0_all.csv'\n",
    "# eval_loc = 'results/temp/decals_n2_allq_m0_eval_shards/eval_df.csv'\n",
    "\n",
    "# with overzealous cleaning\n",
    "eval_loc = 'results/decals_dr_full_eval_df.csv'\n",
    "eval_df = pd.read_csv(eval_loc)\n",
    "eval_df['local_png_loc'] = eval_df['local_png_loc'].apply(lambda x: x.replace('/data/phys-zooniverse/chri5177', '/media/walml/beta/decals'))\n",
    "# eval_df doesn't include total-votes, add it\n",
    "for question in schema.questions:\n",
    "    eval_df[question.text + '_total-votes'] = np.array([eval_df[answer.text].values for answer in question.answers]).sum(axis=0)\n",
    "\n",
    "# one model\n",
    "# predictions_loc = 'results/decals_dr_full_m0_eval_predictions.csv'  # .1-20\n",
    "# predictions = pd.read_csv(predictions_loc)\n",
    "# samples = dirichlet_stats.load_all_concentrations(eval_predictions, concentration_cols=[a.text + '_concentration' for a in schema.answers])\n",
    "\n",
    "# several models (ensemble)\n",
    "samples = []\n",
    "predictions_locs = [f'results/decals_dr_full_m{n}_eval_predictions.csv' for n in range(3)]  # 0, 1, 2\n",
    "for predictions_loc in predictions_locs:\n",
    "    predictions = pd.read_csv(predictions_loc)\n",
    "    # filter to eval\n",
    "    eval_predictions = predictions[predictions['iauname'].isin(eval_df['id_str'])]\n",
    "    print(len(eval_predictions))\n",
    "    model_samples = dirichlet_stats.load_all_concentrations(eval_predictions, concentration_cols=[a.text + '_concentration' for a in schema.answers])\n",
    "    samples.append(model_samples)\n",
    "samples = np.concatenate(samples, axis=2)\n",
    "\n",
    "print(samples.shape)\n",
    "\n"
   ]
  },
  {
   "cell_type": "code",
   "execution_count": 36,
   "metadata": {},
   "outputs": [
    {
     "name": "stderr",
     "output_type": "stream",
     "text": [
      "/home/walml/anaconda3/envs/zoobot/lib/python3.7/site-packages/ipykernel_launcher.py:3: SettingWithCopyWarning: \n",
      "A value is trying to be set on a copy of a slice from a DataFrame.\n",
      "Try using .loc[row_indexer,col_indexer] = value instead\n",
      "\n",
      "See the caveats in the documentation: https://pandas.pydata.org/pandas-docs/stable/user_guide/indexing.html#returning-a-view-versus-a-copy\n",
      "  This is separate from the ipykernel package so we can avoid doing imports until\n"
     ]
    }
   ],
   "source": [
    "is_retired = eval_predictions['smooth-or-featured_total-votes'] > 34\n",
    "retired = eval_predictions[is_retired]\n",
    "retired['file_loc'] = retired['local_png_loc'].apply(lambda x: '/media/walml/beta/decals' + x.replace('/data/phys-zooniverse/chri5177', ''))\n",
    "retired_samples = samples[is_retired]\n"
   ]
  },
  {
   "cell_type": "code",
   "execution_count": 9,
   "metadata": {},
   "outputs": [
    {
     "data": {
      "text/plain": [
       "11346"
      ]
     },
     "execution_count": 9,
     "metadata": {},
     "output_type": "execute_result"
    }
   ],
   "source": [
    "len(retired)  # only high conf"
   ]
  },
  {
   "cell_type": "code",
   "execution_count": 80,
   "metadata": {},
   "outputs": [],
   "source": [
    "# predicted_fractions_t2 = dirichlet_stats.dirichlet_prob_of_answers(retired_samples, schema, temperature=.2)"
   ]
  },
  {
   "cell_type": "code",
   "execution_count": 92,
   "metadata": {},
   "outputs": [],
   "source": [
    "question = schema.get_question('has-spiral-arms')"
   ]
  },
  {
   "cell_type": "code",
   "execution_count": 132,
   "metadata": {},
   "outputs": [],
   "source": [
    "posteriors_1 = dirichlet_stats.get_posteriors(samples[:5000], eval_df, eval_df['id_str'], question, question.answers[0])"
   ]
  },
  {
   "cell_type": "code",
   "execution_count": 133,
   "metadata": {},
   "outputs": [],
   "source": [
    "posteriors_2 = dirichlet_stats.get_posteriors(samples[:5000], eval_df, eval_df['id_str'], question, question.answers[0], temperature=.2)"
   ]
  },
  {
   "cell_type": "code",
   "execution_count": 134,
   "metadata": {},
   "outputs": [
    {
     "data": {
      "text/plain": [
       "<matplotlib.legend.Legend at 0x7f58a8496750>"
      ]
     },
     "execution_count": 134,
     "metadata": {},
     "output_type": "execute_result"
    },
    {
     "data": {
      "image/png": "[encoded data removed]",
      "text/plain": [
       "<Figure size 432x288 with 1 Axes>"
      ]
     },
     "metadata": {
      "needs_background": "light"
     },
     "output_type": "display_data"
    }
   ],
   "source": [
    "plt.plot(posteriors_1[0][0], posteriors_1[0][1][0], label='T=1')\n",
    "plt.plot(posteriors_2[0][0], posteriors_2[0][1][0], label='T=.2')\n",
    "plt.legend()"
   ]
  },
  {
   "cell_type": "code",
   "execution_count": 135,
   "metadata": {},
   "outputs": [
    {
     "data": {
      "text/plain": [
       "0.1666673"
      ]
     },
     "execution_count": 135,
     "metadata": {},
     "output_type": "execute_result"
    }
   ],
   "source": [
    "posteriors_1[0][1].mean()"
   ]
  },
  {
   "cell_type": "code",
   "execution_count": 136,
   "metadata": {},
   "outputs": [
    {
     "data": {
      "text/plain": [
       "[<matplotlib.lines.Line2D at 0x7f58a20b4850>]"
      ]
     },
     "execution_count": 136,
     "metadata": {},
     "output_type": "execute_result"
    },
    {
     "data": {
      "image/png": "[encoded data removed]",
      "text/plain": [
       "<Figure size 432x288 with 1 Axes>"
      ]
     },
     "metadata": {
      "needs_background": "light"
     },
     "output_type": "display_data"
    }
   ],
   "source": [
    "plt.plot(posteriors_2[0][0], posteriors_2[0][1][0], label='T=.2')"
   ]
  },
  {
   "cell_type": "code",
   "execution_count": 148,
   "metadata": {},
   "outputs": [
    {
     "data": {
      "text/plain": [
       "array([0., 1., 2., 3., 4., 5.])"
      ]
     },
     "execution_count": 148,
     "metadata": {},
     "output_type": "execute_result"
    }
   ],
   "source": [
    "posteriors_1[0][0]"
   ]
  },
  {
   "cell_type": "code",
   "execution_count": 150,
   "metadata": {},
   "outputs": [
    {
     "data": {
      "text/plain": [
       "0.020788019190045286"
      ]
     },
     "execution_count": 150,
     "metadata": {},
     "output_type": "execute_result"
    }
   ],
   "source": [
    "(posteriors_1[0][0] * posteriors_1[0][1][0]).mean()"
   ]
  },
  {
   "cell_type": "code",
   "execution_count": 147,
   "metadata": {},
   "outputs": [
    {
     "data": {
      "text/plain": [
       "0.19929264423747858"
      ]
     },
     "execution_count": 147,
     "metadata": {},
     "output_type": "execute_result"
    }
   ],
   "source": [
    "(posteriors_2[0][0] * posteriors_2[0][1][0]).mean()"
   ]
  },
  {
   "cell_type": "code",
   "execution_count": 139,
   "metadata": {},
   "outputs": [
    {
     "data": {
      "text/plain": [
       "array([8.85923862e-01, 1.04122214e-01, 9.31201968e-03, 6.22269174e-04,\n",
       "       2.79667238e-05, 6.37467622e-07], dtype=float32)"
      ]
     },
     "execution_count": 139,
     "metadata": {},
     "output_type": "execute_result"
    }
   ],
   "source": [
    "posteriors_1[0][1][0]"
   ]
  },
  {
   "cell_type": "code",
   "execution_count": 140,
   "metadata": {},
   "outputs": [
    {
     "data": {
      "text/plain": [
       "array([0.40440845, 0.26354185, 0.16261092, 0.09465348, 0.05089431,\n",
       "       0.0238909 ], dtype=float32)"
      ]
     },
     "execution_count": 140,
     "metadata": {},
     "output_type": "execute_result"
    }
   ],
   "source": [
    "posteriors_2[0][1][0]"
   ]
  },
  {
   "cell_type": "code",
   "execution_count": 141,
   "metadata": {},
   "outputs": [
    {
     "data": {
      "text/plain": [
       "0.1666673"
      ]
     },
     "execution_count": 141,
     "metadata": {},
     "output_type": "execute_result"
    }
   ],
   "source": [
    "fractions_1[0]"
   ]
  },
  {
   "cell_type": "code",
   "execution_count": 151,
   "metadata": {},
   "outputs": [],
   "source": [
    "fractions_1 = np.array([(x*p).mean() for (x, p) in posteriors_1])\n",
    "fractions_2 = np.array([(x*p).mean() for (x, p) in posteriors_2])"
   ]
  },
  {
   "cell_type": "code",
   "execution_count": 152,
   "metadata": {},
   "outputs": [
    {
     "data": {
      "text/plain": [
       "array([ 0.17599548, -0.11918951,  0.        , ...,  0.        ,\n",
       "       -0.09866866,  0.14691466])"
      ]
     },
     "execution_count": 152,
     "metadata": {},
     "output_type": "execute_result"
    }
   ],
   "source": [
    "fractions_2 - fractions_1"
   ]
  },
  {
   "cell_type": "code",
   "execution_count": 153,
   "metadata": {},
   "outputs": [
    {
     "data": {
      "text/plain": [
       "(array([  67.,  102.,   53.,  108.,   69.,   55.,   55.,   55.,   52.,\n",
       "          42.,   28.,   57.,   51.,   43., 1657.,   46.,   52.,   55.,\n",
       "          69.,   68.,   74.,  108.,  114.,  152.,  193.,  328.,  367.,\n",
       "         223.,  438.,  219.]),\n",
       " array([-0.19948772, -0.18606427, -0.17264081, -0.15921736, -0.14579391,\n",
       "        -0.13237045, -0.118947  , -0.10552355, -0.09210009, -0.07867664,\n",
       "        -0.06525318, -0.05182973, -0.03840628, -0.02498282, -0.01155937,\n",
       "         0.00186408,  0.01528754,  0.02871099,  0.04213445,  0.0555579 ,\n",
       "         0.06898135,  0.08240481,  0.09582826,  0.10925171,  0.12267517,\n",
       "         0.13609862,  0.14952208,  0.16294553,  0.17636898,  0.18979244,\n",
       "         0.20321589]),\n",
       " <a list of 30 Patch objects>)"
      ]
     },
     "execution_count": 153,
     "metadata": {},
     "output_type": "execute_result"
    },
    {
     "data": {
      "image/png": "[encoded data removed]",
      "text/plain": [
       "<Figure size 432x288 with 1 Axes>"
      ]
     },
     "metadata": {
      "needs_background": "light"
     },
     "output_type": "display_data"
    }
   ],
   "source": [
    "plt.hist(fractions_2 - fractions_1, bins=30)"
   ]
  },
  {
   "cell_type": "code",
   "execution_count": 154,
   "metadata": {},
   "outputs": [
    {
     "data": {
      "text/plain": [
       "(array([1614.,    0.,    0.,    4.,   29.,  215.,  410.,  524.,  410.,\n",
       "         367.,  311.,  264.,  146.,  145.,   93.,  103.,   64.,   57.,\n",
       "          56.,   52.,   31.,   25.,   17.,   16.,    5.,    9.,    7.,\n",
       "           8.,    7.,   11.]),\n",
       " array([0.        , 0.02909401, 0.05818801, 0.08728202, 0.11637602,\n",
       "        0.14547003, 0.17456403, 0.20365804, 0.23275204, 0.26184605,\n",
       "        0.29094005, 0.32003406, 0.34912806, 0.37822207, 0.40731608,\n",
       "        0.43641008, 0.46550409, 0.49459809, 0.5236921 , 0.5527861 ,\n",
       "        0.58188011, 0.61097411, 0.64006812, 0.66916212, 0.69825613,\n",
       "        0.72735013, 0.75644414, 0.78553815, 0.81463215, 0.84372616,\n",
       "        0.87282016]),\n",
       " <a list of 30 Patch objects>)"
      ]
     },
     "execution_count": 154,
     "metadata": {},
     "output_type": "execute_result"
    },
    {
     "data": {
      "image/png": "[encoded data removed]",
      "text/plain": [
       "<Figure size 432x288 with 1 Axes>"
      ]
     },
     "metadata": {
      "needs_background": "light"
     },
     "output_type": "display_data"
    }
   ],
   "source": [
    "plt.hist(fractions_1, alpha=.5, bins=30)\n",
    "plt.hist(fractions_2, alpha=.5, bins=30)"
   ]
  },
  {
   "cell_type": "code",
   "execution_count": 176,
   "metadata": {},
   "outputs": [
    {
     "data": {
      "text/plain": [
       "5"
      ]
     },
     "execution_count": 176,
     "metadata": {},
     "output_type": "execute_result"
    }
   ],
   "source": [
    "question.start_index"
   ]
  },
  {
   "cell_type": "code",
   "execution_count": 177,
   "metadata": {},
   "outputs": [],
   "source": [
    "fractions = np.zeros(shape=(5000, 34))\n",
    "fractions[:, 5] = fractions_1\n",
    "fractions[:, 6] = 1 - fractions_1"
   ]
  },
  {
   "cell_type": "code",
   "execution_count": 178,
   "metadata": {},
   "outputs": [
    {
     "name": "stdout",
     "output_type": "stream",
     "text": [
      "Has Spiral Arms & 0.3291 & 0.7100 & 0.3291 & 0.3416 \\\\\n"
     ]
    },
    {
     "name": "stderr",
     "output_type": "stream",
     "text": [
      "/home/walml/anaconda3/envs/zoobot/lib/python3.7/site-packages/ipykernel_launcher.py:15: RuntimeWarning: invalid value encountered in greater\n",
      "  from ipykernel import kernelapp as app\n"
     ]
    }
   ],
   "source": [
    "print_metrics(question, eval_df[:5000], fractions)"
   ]
  },
  {
   "cell_type": "code",
   "execution_count": 163,
   "metadata": {},
   "outputs": [
    {
     "data": {
      "text/plain": [
       "5000"
      ]
     },
     "execution_count": 163,
     "metadata": {},
     "output_type": "execute_result"
    }
   ],
   "source": [
    "len(fractions_1)"
   ]
  },
  {
   "cell_type": "code",
   "execution_count": 164,
   "metadata": {},
   "outputs": [
    {
     "data": {
      "text/plain": [
       "(187, 0)"
      ]
     },
     "execution_count": 164,
     "metadata": {},
     "output_type": "execute_result"
    }
   ],
   "source": [
    "np.sum((fractions_1 > 0.5) & (fractions_2 < 0.5)), np.sum((fractions_1 < 0.5) & (fractions_2 > 0.5))"
   ]
  },
  {
   "cell_type": "code",
   "execution_count": null,
   "metadata": {},
   "outputs": [],
   "source": [
    "predicted_fractions = fractions_2"
   ]
  },
  {
   "cell_type": "code",
   "execution_count": 155,
   "metadata": {},
   "outputs": [],
   "source": [
    "# predicted_fractions = dirichlet_stats.dirichlet_prob_of_answers(retired_samples, schema)"
   ]
  },
  {
   "cell_type": "code",
   "execution_count": 84,
   "metadata": {},
   "outputs": [
    {
     "data": {
      "text/plain": [
       "(11346, 34)"
      ]
     },
     "execution_count": 84,
     "metadata": {},
     "output_type": "execute_result"
    }
   ],
   "source": [
    "predicted_fractions.shape"
   ]
  },
  {
   "cell_type": "code",
   "execution_count": 82,
   "metadata": {},
   "outputs": [
    {
     "data": {
      "text/plain": [
       "array([0.23841113, 0.00605906, 0.0017458 , ..., 0.250504  , 0.8176042 ,\n",
       "       0.77220434], dtype=float32)"
      ]
     },
     "execution_count": 82,
     "metadata": {},
     "output_type": "execute_result"
    }
   ],
   "source": [
    "(predicted_fractions - predicted_fractions_t2)[:, 0]"
   ]
  },
  {
   "cell_type": "code",
   "execution_count": 83,
   "metadata": {},
   "outputs": [
    {
     "data": {
      "image/png": "[encoded data removed]",
      "text/plain": [
       "<Figure size 432x288 with 1 Axes>"
      ]
     },
     "metadata": {
      "needs_background": "light"
     },
     "output_type": "display_data"
    }
   ],
   "source": [
    "_ = plt.hist((predicted_fractions_t2 - predicted_fractions)[:, 0], bins=30)"
   ]
  },
  {
   "cell_type": "code",
   "execution_count": 48,
   "metadata": {},
   "outputs": [],
   "source": [
    "# answer = 'smooth-or-featured_smooth'\n",
    "# answer = schema.get_answer('smooth-or-featured_featured-or-disk')\n",
    "# answer = schema.get_answer('smooth-or-featured_artifact')\n",
    "# answer = schema.get_answer('bar_weak')\n",
    "question = schema.get_question('smooth-or-featured')"
   ]
  },
  {
   "cell_type": "code",
   "execution_count": 49,
   "metadata": {},
   "outputs": [
    {
     "data": {
      "text/plain": [
       "10"
      ]
     },
     "execution_count": 49,
     "metadata": {},
     "output_type": "execute_result"
    }
   ],
   "source": [
    "len(schema.questions)"
   ]
  },
  {
   "cell_type": "code",
   "execution_count": 165,
   "metadata": {},
   "outputs": [],
   "source": [
    "def get_label(text, question):\n",
    "    return clean_text(text.replace(question.text, '').title())"
   ]
  },
  {
   "cell_type": "code",
   "execution_count": 166,
   "metadata": {},
   "outputs": [],
   "source": [
    "def clean_text(text):\n",
    "    return text.replace('-', ' ').replace('_', '').title()"
   ]
  },
  {
   "cell_type": "code",
   "execution_count": 52,
   "metadata": {},
   "outputs": [
    {
     "data": {
      "text/plain": [
       "smooth-or-featured, indices 0 to 2, asked after None"
      ]
     },
     "execution_count": 52,
     "metadata": {},
     "output_type": "execute_result"
    }
   ],
   "source": [
    "question"
   ]
  },
  {
   "cell_type": "code",
   "execution_count": null,
   "metadata": {},
   "outputs": [],
   "source": []
  },
  {
   "cell_type": "code",
   "execution_count": 53,
   "metadata": {},
   "outputs": [],
   "source": [
    "# retirement = 1\n",
    "# predicted_fractions = np.expand_dims(predicted_fractions, axis=-1)\n",
    "# acquisition_utils.get_expected_votes(samples, question, retirement, schema, round_votes=False).shape"
   ]
  },
  {
   "cell_type": "markdown",
   "metadata": {},
   "source": [
    "# Discrete Metrics"
   ]
  },
  {
   "cell_type": "code",
   "execution_count": 167,
   "metadata": {},
   "outputs": [],
   "source": [
    "def filter_to_sensible(label_df, predictions, question):\n",
    "#     if prev_a is not None:\n",
    "#         prev_q = prev_a.question\n",
    "#         prev_q_cols = [answer.text + '_fraction' for answer in prev_q.answers]\n",
    "#         is_sensible = (label_df[prev_a.text + '_fraction'] / label_df[prev_q_cols].sum(axis=1)) > 0.5\n",
    "#         valid_labels, valid_predictions = label_df[is_sensible], predicted_fractions[is_sensible]\n",
    "#     else:\n",
    "#         valid_labels, valid_predictions = label_df, predicted_fractions\n",
    "    retirement = 1\n",
    "    samples = np.expand_dims(predictions, axis=-1)\n",
    "    expected_votes = acquisition_utils.get_expected_votes_human(label_df, question, retirement, schema, round_votes=False)\n",
    "    if not isinstance(expected_votes, np.ndarray):\n",
    "        expected_votes = expected_votes.numpy()  # hack, should fix properly...\n",
    "#     print(expected_votes)\n",
    "    is_sensible = expected_votes > 0.5\n",
    "    valid_labels, valid_predictions = label_df[is_sensible], predictions[is_sensible]\n",
    "    return valid_labels, valid_predictions\n",
    "\n",
    "\n",
    "# def get_binary_answers(question, label_df, predicted_fractions):\n",
    "#     # previous question should be valid\n",
    "#     valid_labels, valid_predictions = filter_to_sensible(label_df, predicted_fractions, question)\n",
    "#     cols = [answer.text + '_fraction' for answer in question.answers]\n",
    "#     y_true = np.argmax(valid_labels[cols].values, axis=1)\n",
    "#     y_pred = np.argmax(valid_predictions[:, question.start_index:question.end_index+1], axis=1)\n",
    "#     return y_true, y_pred\n",
    "    \n",
    "    \n",
    "# def print_metrics(question, label_df, predicted_fractions):\n",
    "#     y_true, y_pred = get_binary_answers(question, label_df, predicted_fractions)\n",
    "#     print('Acc: {:.4f}, Precision: {:.4f}, Recall: {:.4f}, F1: {:.4f} <- {})'.format(\n",
    "#         metrics.accuracy_score(y_true, y_pred),\n",
    "#         metrics.precision_score(y_true, y_pred, average='micro'),\n",
    "#         metrics.recall_score(y_true, y_pred, average='micro'),\n",
    "#         metrics.f1_score(y_true, y_pred, average='micro'),\n",
    "#         question.text\n",
    "#     ))\n",
    "\n",
    "# def show_confusion_matrix(question, label_df, predicted_fractions):\n",
    "    \n",
    "#     y_true, y_pred = get_binary_answers(question, label_df, predicted_fractions)\n",
    "#     cm = confusion_matrix(y_true, y_pred)\n",
    "\n",
    "#     labels = [get_label(a.text, question) for a in question.answers]\n",
    "    \n",
    "#     fig, ax = plt.subplots()\n",
    "#     ax.set_title(clean_text(question.text))\n",
    "\n",
    "#     return sns.heatmap(\n",
    "#         cm,\n",
    "#         annot=True,\n",
    "#         cmap='Blues',\n",
    "#         fmt='d',\n",
    "#         xticklabels=labels,\n",
    "#         yticklabels=labels,\n",
    "#         cbar=False,\n",
    "#         annot_kws={\"size\": 14},\n",
    "#         ax=ax,\n",
    "#         square=True,\n",
    "#         robust=True\n",
    "#     )\n"
   ]
  },
  {
   "cell_type": "code",
   "execution_count": 55,
   "metadata": {},
   "outputs": [
    {
     "data": {
      "text/plain": [
       "11346"
      ]
     },
     "execution_count": 55,
     "metadata": {},
     "output_type": "execute_result"
    }
   ],
   "source": [
    "len(retired)"
   ]
  },
  {
   "cell_type": "code",
   "execution_count": 56,
   "metadata": {},
   "outputs": [
    {
     "data": {
      "text/plain": [
       "2859"
      ]
     },
     "execution_count": 56,
     "metadata": {},
     "output_type": "execute_result"
    }
   ],
   "source": [
    "np.sum((retired['smooth-or-featured_featured-or-disk_fraction'] * retired['disk-edge-on_no_fraction']) > 0.5)"
   ]
  },
  {
   "cell_type": "code",
   "execution_count": 57,
   "metadata": {},
   "outputs": [
    {
     "name": "stderr",
     "output_type": "stream",
     "text": [
      "/home/walml/anaconda3/envs/zoobot/lib/python3.7/site-packages/ipykernel_launcher.py:15: RuntimeWarning: invalid value encountered in greater\n",
      "  from ipykernel import kernelapp as app\n"
     ]
    },
    {
     "data": {
      "text/plain": [
       "2859"
      ]
     },
     "execution_count": 57,
     "metadata": {},
     "output_type": "execute_result"
    }
   ],
   "source": [
    "valid_labels, valid_predictions = filter_to_sensible(retired, predicted_fractions, schema.get_question('has-spiral-arms'))\n",
    "len(valid_labels)"
   ]
  },
  {
   "cell_type": "code",
   "execution_count": 58,
   "metadata": {},
   "outputs": [],
   "source": [
    "retirement = 1  # assumed number of votes at top question\n",
    "# votes for specific question, given fraction predictions and retirement (=1)\n",
    "expected_votes = acquisition_utils.get_expected_votes_human(retired, question, retirement, schema, round_votes=False)  "
   ]
  },
  {
   "cell_type": "code",
   "execution_count": 168,
   "metadata": {},
   "outputs": [],
   "source": [
    "def get_binary_responses(question, label_df, predicted_fractions):\n",
    "    # previous question should be valid\n",
    "    valid_labels, valid_predictions = filter_to_sensible(label_df, predicted_fractions, question)\n",
    "    cols = [answer.text + '_fraction' for answer in question.answers]\n",
    "    # most likely answer, might be less than .5 though\n",
    "    y_true = np.argmax(valid_labels[cols].values, axis=1)\n",
    "    y_pred = np.argmax(valid_predictions[:, question.start_index:question.end_index+1], axis=1)\n",
    "    return y_true, y_pred\n",
    "\n",
    "def print_metrics(question, label_df, predicted_fractions):\n",
    "    y_true, y_pred = get_binary_responses(question, label_df, predicted_fractions)\n",
    "#     print(pd.value_counts(y_pred))\n",
    "#     average = 'micro'\n",
    "    average = 'weighted'\n",
    "    \n",
    "    # human\n",
    "#     print('Acc: {:.4f}, Precision: {:.4f}, Recall: {:.4f}, F1: {:.4f} <- {}'.format(\n",
    "#         sklearn.metrics.accuracy_score(y_true, y_pred),\n",
    "#         sklearn.metrics.precision_score(y_true, y_pred, average=average),\n",
    "#         sklearn.metrics.recall_score(y_true, y_pred, average=average),\n",
    "#         sklearn.metrics.f1_score(y_true, y_pred, average=average),\n",
    "#         question.text\n",
    "#     ))\n",
    "    # latex\n",
    "    print('{} & {:.4f} & {:.4f} & {:.4f} & {:.4f} \\\\\\\\'.format(\n",
    "        question.text.replace('-', ' ').replace('_', ' ').title(),\n",
    "        sklearn.metrics.accuracy_score(y_true, y_pred),\n",
    "        sklearn.metrics.precision_score(y_true, y_pred, average=average),\n",
    "        sklearn.metrics.recall_score(y_true, y_pred, average=average),\n",
    "        sklearn.metrics.f1_score(y_true, y_pred, average=average)\n",
    "))\n",
    "\n",
    "    \n",
    "def show_confusion_matrix(question, label_df, predicted_fractions):\n",
    "    y_true, y_pred = get_binary_responses(question, label_df, predicted_fractions)\n",
    "    \n",
    "    labels = range(len(question.answers))\n",
    "    cm = confusion_matrix(y_true, y_pred, labels=labels)\n",
    "    \n",
    "    ticklabels = [get_label(a.text, question) for a in question.answers]\n",
    "    fig, ax = plt.subplots()\n",
    "    ax.set_title(clean_text(question.text))\n",
    "\n",
    "    return sns.heatmap(\n",
    "        cm,\n",
    "        annot=True,\n",
    "        cmap='Blues',\n",
    "        fmt='d',\n",
    "        xticklabels=ticklabels,\n",
    "        yticklabels=ticklabels,\n",
    "        cbar=False,\n",
    "        annot_kws={\"size\": 14},\n",
    "        ax=ax,\n",
    "        square=True,\n",
    "        robust=True\n",
    "    )\n"
   ]
  },
  {
   "cell_type": "markdown",
   "metadata": {},
   "source": [
    "## Metrics for all (sensible) galaxies"
   ]
  },
  {
   "cell_type": "code",
   "execution_count": 60,
   "metadata": {},
   "outputs": [
    {
     "name": "stdout",
     "output_type": "stream",
     "text": [
      "Question & Accuracy & Precision & Recall & F1 \\\n",
      "\\hline \\hline\n",
      "Smooth Or Featured & 0.9352 & 0.9363 & 0.9352 & 0.9356 \\\\\n",
      "Disk Edge On & 0.9871 & 0.9871 & 0.9871 & 0.9871 \\\\\n",
      "Has Spiral Arms & 0.9349 & 0.9364 & 0.9349 & 0.9356 \\\\\n",
      "Bar & 0.8185 & 0.8095 & 0.8185 & 0.8110 \\\\\n",
      "Bulge Size & 0.8419 & 0.8405 & 0.8419 & 0.8409 \\\\\n",
      "How Rounded & 0.9314 & 0.9313 & 0.9314 & 0.9313 \\\\\n",
      "Edge On Bulge & 0.9111 & 0.9134 & 0.9111 & 0.8996 \\\\\n",
      "Spiral Winding & 0.7832 & 0.8041 & 0.7832 & 0.7874 \\\\\n",
      "Spiral Arm Count & 0.7742 & 0.7555 & 0.7742 & 0.7560 \\\\\n",
      "Merging & 0.8798 & 0.8672 & 0.8798 & 0.8511 \\\\\n"
     ]
    },
    {
     "name": "stderr",
     "output_type": "stream",
     "text": [
      "/home/walml/anaconda3/envs/zoobot/lib/python3.7/site-packages/ipykernel_launcher.py:15: RuntimeWarning: invalid value encountered in greater\n",
      "  from ipykernel import kernelapp as app\n"
     ]
    }
   ],
   "source": [
    "print('Question & Accuracy & Precision & Recall & F1 \\\\')\n",
    "print('\\hline \\hline')\n",
    "for question in schema.questions:\n",
    "    print_metrics(question, retired, predicted_fractions)\n",
    "#     plt.savefig('/home/walml/repos/zoobot/results/temp/mean_cm_decals_n2_m0_allq_' + question.text + '.png')"
   ]
  },
  {
   "cell_type": "markdown",
   "metadata": {},
   "source": [
    "Acc: 0.934, Global Precision: 0.934, Recall: 0.934, F1: 0.934 <- smooth-or-featured\n",
    "Acc: 0.988, Global Precision: 0.988, Recall: 0.988, F1: 0.988 <- disk-edge-on\n",
    "Acc: 0.925, Global Precision: 0.925, Recall: 0.925, F1: 0.925 <- has-spiral-arms\n",
    "Acc: 0.830, Global Precision: 0.830, Recall: 0.830, F1: 0.830 <- bar\n",
    "Acc: 0.832, Global Precision: 0.832, Recall: 0.832, F1: 0.832 <- bulge-size\n",
    "Acc: 0.929, Global Precision: 0.929, Recall: 0.929, F1: 0.929 <- how-rounded\n",
    "Acc: 0.921, Global Precision: 0.921, Recall: 0.921, F1: 0.921 <- edge-on-bulge\n",
    "Acc: 0.794, Global Precision: 0.794, Recall: 0.794, F1: 0.794 <- spiral-winding\n",
    "Acc: 0.767, Global Precision: 0.767, Recall: 0.767, F1: 0.767 <- spiral-arm-count\n",
    "Acc: 0.888, Global Precision: 0.888, Recall: 0.888, F1: 0.888 <- merging\n"
   ]
  },
  {
   "cell_type": "code",
   "execution_count": 61,
   "metadata": {},
   "outputs": [
    {
     "name": "stderr",
     "output_type": "stream",
     "text": [
      "/home/walml/anaconda3/envs/zoobot/lib/python3.7/site-packages/ipykernel_launcher.py:15: RuntimeWarning: invalid value encountered in greater\n",
      "  from ipykernel import kernelapp as app\n"
     ]
    },
    {
     "data": {
      "image/png": "[encoded data removed]",
      "text/plain": [
       "<Figure size 432x288 with 1 Axes>"
      ]
     },
     "metadata": {
      "needs_background": "light"
     },
     "output_type": "display_data"
    },
    {
     "data": {
      "image/png": "[encoded data removed]",
      "text/plain": [
       "<Figure size 432x288 with 1 Axes>"
      ]
     },
     "metadata": {
      "needs_background": "light"
     },
     "output_type": "display_data"
    },
    {
     "data": {
      "image/png": "[encoded data removed]",
      "text/plain": [
       "<Figure size 432x288 with 1 Axes>"
      ]
     },
     "metadata": {
      "needs_background": "light"
     },
     "output_type": "display_data"
    },
    {
     "data": {
      "image/png": "[encoded data removed]",
      "text/plain": [
       "<Figure size 432x288 with 1 Axes>"
      ]
     },
     "metadata": {
      "needs_background": "light"
     },
     "output_type": "display_data"
    },
    {
     "data": {
      "image/png": "[encoded data removed]",
      "text/plain": [
       "<Figure size 432x288 with 1 Axes>"
      ]
     },
     "metadata": {
      "needs_background": "light"
     },
     "output_type": "display_data"
    },
    {
     "data": {
      "image/png": "[encoded data removed]",
      "text/plain": [
       "<Figure size 432x288 with 1 Axes>"
      ]
     },
     "metadata": {
      "needs_background": "light"
     },
     "output_type": "display_data"
    },
    {
     "data": {
      "image/png": "[encoded data removed]",
      "text/plain": [
       "<Figure size 432x288 with 1 Axes>"
      ]
     },
     "metadata": {
      "needs_background": "light"
     },
     "output_type": "display_data"
    },
    {
     "data": {
      "image/png": "[encoded data removed]",
      "text/plain": [
       "<Figure size 432x288 with 1 Axes>"
      ]
     },
     "metadata": {
      "needs_background": "light"
     },
     "output_type": "display_data"
    },
    {
     "data": {
      "image/png": "[encoded data removed]",
      "text/plain": [
       "<Figure size 432x288 with 1 Axes>"
      ]
     },
     "metadata": {
      "needs_background": "light"
     },
     "output_type": "display_data"
    },
    {
     "data": {
      "image/png": "[encoded data removed]",
      "text/plain": [
       "<Figure size 432x288 with 1 Axes>"
      ]
     },
     "metadata": {
      "needs_background": "light"
     },
     "output_type": "display_data"
    }
   ],
   "source": [
    "for question in schema.questions:\n",
    "    fig = show_confusion_matrix(question, retired, predicted_fractions)\n",
    "#     plt.tight_layout()\n",
    "#     plt.savefig('/home/walml/repos/zoobot/results/temp/cm_decals_dr_full_ensemble_allq_allconf_' + question.text + '.png')\n",
    "#     plt.clf()  # comment to view, uncomment to save without interfering with each other"
   ]
  },
  {
   "cell_type": "markdown",
   "metadata": {},
   "source": [
    "## Metrics for high confidence galaxies\n",
    "\n",
    "Defining high confidence in multi-q case is harder. Perhaps, that fraction for any one answer?"
   ]
  },
  {
   "cell_type": "code",
   "execution_count": 62,
   "metadata": {},
   "outputs": [],
   "source": [
    "# high_confidence = (retired[answer.text + '_fraction'] > 0.8) | (retired[answer.text + '_fraction'] < 0.2)\n",
    "# print_metrics(question, retired[high_confidence], predicted_fractions[high_confidence])\n",
    "\n",
    "# show_confusion_matrix(question, retired[high_confidence], predicted_fractions[high_confidence])"
   ]
  },
  {
   "cell_type": "code",
   "execution_count": 63,
   "metadata": {},
   "outputs": [
    {
     "name": "stdout",
     "output_type": "stream",
     "text": [
      "Question & Accuracy & Precision & Recall & F1 \\\\\n",
      "\\hline \\hline\n",
      "Smooth Or Featured & 0.9997 & 0.9997 & 0.9997 & 0.9997 \\\\\n",
      "Disk Edge On & 0.9980 & 0.9980 & 0.9980 & 0.9980 \\\\\n",
      "Has Spiral Arms & 0.9921 & 0.9933 & 0.9921 & 0.9924 \\\\\n"
     ]
    },
    {
     "name": "stderr",
     "output_type": "stream",
     "text": [
      "/home/walml/anaconda3/envs/zoobot/lib/python3.7/site-packages/ipykernel_launcher.py:8: RuntimeWarning: invalid value encountered in greater\n",
      "  \n"
     ]
    },
    {
     "name": "stdout",
     "output_type": "stream",
     "text": [
      "Bar & 0.9945 & 0.9964 & 0.9945 & 0.9951 \\\\\n",
      "Bulge Size & 1.0000 & 1.0000 & 1.0000 & 1.0000 \\\\\n",
      "How Rounded & 0.9968 & 0.9968 & 0.9968 & 0.9968 \\\\\n",
      "Edge On Bulge & 0.9961 & 0.9961 & 0.9961 & 0.9961 \\\\\n",
      "Spiral Winding & 0.9906 & 1.0000 & 0.9906 & 0.9953 \\\\\n",
      "Spiral Arm Count & 0.9863 & 0.9891 & 0.9863 & 0.9871 \\\\\n",
      "Merging & 0.9987 & 0.9987 & 0.9987 & 0.9987 \\\\\n"
     ]
    },
    {
     "data": {
      "image/png": "[encoded data removed]",
      "text/plain": [
       "<Figure size 432x288 with 1 Axes>"
      ]
     },
     "metadata": {
      "needs_background": "light"
     },
     "output_type": "display_data"
    },
    {
     "data": {
      "image/png": "[encoded data removed]",
      "text/plain": [
       "<Figure size 432x288 with 1 Axes>"
      ]
     },
     "metadata": {
      "needs_background": "light"
     },
     "output_type": "display_data"
    },
    {
     "data": {
      "image/png": "[encoded data removed]",
      "text/plain": [
       "<Figure size 432x288 with 1 Axes>"
      ]
     },
     "metadata": {
      "needs_background": "light"
     },
     "output_type": "display_data"
    },
    {
     "data": {
      "image/png": "[encoded data removed]",
      "text/plain": [
       "<Figure size 432x288 with 1 Axes>"
      ]
     },
     "metadata": {
      "needs_background": "light"
     },
     "output_type": "display_data"
    },
    {
     "data": {
      "image/png": "[encoded data removed]",
      "text/plain": [
       "<Figure size 432x288 with 1 Axes>"
      ]
     },
     "metadata": {
      "needs_background": "light"
     },
     "output_type": "display_data"
    },
    {
     "data": {
      "image/png": "[encoded data removed]",
      "text/plain": [
       "<Figure size 432x288 with 1 Axes>"
      ]
     },
     "metadata": {
      "needs_background": "light"
     },
     "output_type": "display_data"
    },
    {
     "data": {
      "image/png": "[encoded data removed]",
      "text/plain": [
       "<Figure size 432x288 with 1 Axes>"
      ]
     },
     "metadata": {
      "needs_background": "light"
     },
     "output_type": "display_data"
    },
    {
     "data": {
      "image/png": "[encoded data removed]",
      "text/plain": [
       "<Figure size 432x288 with 1 Axes>"
      ]
     },
     "metadata": {
      "needs_background": "light"
     },
     "output_type": "display_data"
    },
    {
     "data": {
      "image/png": "[encoded data removed]",
      "text/plain": [
       "<Figure size 432x288 with 1 Axes>"
      ]
     },
     "metadata": {
      "needs_background": "light"
     },
     "output_type": "display_data"
    },
    {
     "data": {
      "image/png": "[encoded data removed]",
      "text/plain": [
       "<Figure size 432x288 with 1 Axes>"
      ]
     },
     "metadata": {
      "needs_background": "light"
     },
     "output_type": "display_data"
    }
   ],
   "source": [
    "print(r'Question & Accuracy & Precision & Recall & F1 \\\\')\n",
    "print('\\hline \\hline')\n",
    "for question in schema.questions:\n",
    "#     if len(question.answers) == 2:\n",
    "#         answer = question.answers[0]\n",
    "    answers = question.answers\n",
    "    fractions = np.array([retired[answer.text + '_fraction'] for answer in answers])\n",
    "    high_confidence = np.any(fractions > 0.8, axis=0)\n",
    "    print_metrics(question, retired[high_confidence], predicted_fractions[high_confidence])\n",
    "    fig = show_confusion_matrix(question, retired[high_confidence], predicted_fractions[high_confidence])\n",
    "#     plt.savefig('/home/walml/repos/zoobot/results/temp/cm_decals_dr_full_ensemble_allq_highconf_' + question.text + '.png')\n",
    "#     plt.clf()  # comment to view, uncomment to save without interfering with each other"
   ]
  },
  {
   "cell_type": "code",
   "execution_count": 28,
   "metadata": {},
   "outputs": [
    {
     "ename": "AssertionError",
     "evalue": "",
     "output_type": "error",
     "traceback": [
      "\u001b[0;31m---------------------------------------------------------------------------\u001b[0m",
      "\u001b[0;31mAssertionError\u001b[0m                            Traceback (most recent call last)",
      "\u001b[0;32m<ipython-input-28-a871fdc9ebee>\u001b[0m in \u001b[0;36m<module>\u001b[0;34m\u001b[0m\n\u001b[0;32m----> 1\u001b[0;31m \u001b[0;32massert\u001b[0m \u001b[0;32mFalse\u001b[0m\u001b[0;34m\u001b[0m\u001b[0;34m\u001b[0m\u001b[0m\n\u001b[0m",
      "\u001b[0;31mAssertionError\u001b[0m: "
     ]
    }
   ],
   "source": [
    "assert False"
   ]
  },
  {
   "cell_type": "code",
   "execution_count": null,
   "metadata": {},
   "outputs": [],
   "source": [
    "for question in schema.questions:\n",
    "    for answer in question.answers:\n",
    "        retired[answer.text + '_ml_fraction'] = predicted_fractions[:, answer.index]"
   ]
  },
  {
   "cell_type": "code",
   "execution_count": null,
   "metadata": {},
   "outputs": [],
   "source": [
    "question = schema.get_question('spiral-arm-count')\n",
    "answer = schema.get_answer('spiral-arm-count_cant-tell')"
   ]
  },
  {
   "cell_type": "code",
   "execution_count": null,
   "metadata": {},
   "outputs": [],
   "source": [
    "confused_cant_tell_arms = retired[answer.text + '_fraction'] "
   ]
  },
  {
   "cell_type": "code",
   "execution_count": null,
   "metadata": {},
   "outputs": [],
   "source": [
    "\n",
    "\n",
    "valid_labels, valid_predictions = filter_to_sensible(retired, predicted_fractions, question)\n",
    "y_true, y_pred = get_binary_responses(question, valid_labels, valid_predictions)"
   ]
  },
  {
   "cell_type": "code",
   "execution_count": null,
   "metadata": {},
   "outputs": [],
   "source": [
    "cant_tell_confused_with_two = (y_true == 5) & (y_pred == 1)\n",
    "two_confused_with_cant_tell = (y_true == 1) & (y_pred == 5)"
   ]
  },
  {
   "cell_type": "code",
   "execution_count": null,
   "metadata": {},
   "outputs": [],
   "source": [
    "valid_labels[cant_tell_confused_with_two]['locations'].values[:5]"
   ]
  },
  {
   "cell_type": "code",
   "execution_count": null,
   "metadata": {},
   "outputs": [],
   "source": [
    "retired['spiral-arm-count_2_ml_fraction']"
   ]
  },
  {
   "cell_type": "code",
   "execution_count": null,
   "metadata": {},
   "outputs": [],
   "source": [
    "retired['spiral-arm-count_cant-tell_ml_fraction']"
   ]
  },
  {
   "cell_type": "code",
   "execution_count": null,
   "metadata": {},
   "outputs": [],
   "source": [
    "# copied from trust_the_model.ipynb\n",
    "def show_galaxies(df, scale=3, nrows=6, ncols=6):\n",
    "    fig = plt.gcf()\n",
    "\n",
    "    plt.figure(figsize=(scale * nrows * 1.505, scale * ncols / 2.59))\n",
    "    gs1 = gridspec.GridSpec(nrows, ncols)\n",
    "    gs1.update(wspace=0.0, hspace=0.0)\n",
    "    galaxy_n = 0\n",
    "    for row_n in range(nrows):\n",
    "        for col_n in range(ncols):\n",
    "            galaxy = df.iloc[galaxy_n]\n",
    "            image = Image.open(galaxy['file_loc'])\n",
    "            ax = plt.subplot(gs1[row_n, col_n])\n",
    "            ax.imshow(image)\n",
    "            ax.text(35, 50, 'Vol: 2={:.2f}, ?={:.2f}'.format(galaxy['spiral-arm-count_2_fraction'], galaxy['spiral-arm-count_cant-tell_fraction']), fontsize=12, color='r')\n",
    "            ax.text(35, 100, 'ML: 2={:.2f}, ?={:.2f}'.format(galaxy['spiral-arm-count_2_ml_fraction'], galaxy['spiral-arm-count_cant-tell_ml_fraction']), fontsize=12, color='r')\n",
    "#             ax.text(10, 50, r'$\\rho = {:.2f}$, Var ${:.3f}$'.format(galaxy['median_prediction'], 3*galaxy['predictions_var']), fontsize=12, color='r')\n",
    "#             ax.text(10, 80, '$L = {:.2f}$'.format(galaxy['bcnn_likelihood']), fontsize=12, color='r')\n",
    "            ax.axis('off')\n",
    "            galaxy_n += 1\n",
    "#     print('Mean L: {:.2f}'.format(df[:nrows * ncols]['bcnn_likelihood'].mean()))\n",
    "    fig = plt.gcf()\n",
    "    fig.tight_layout()\n",
    "    return fig\n"
   ]
  },
  {
   "cell_type": "code",
   "execution_count": null,
   "metadata": {},
   "outputs": [],
   "source": [
    "_ = show_galaxies(valid_labels[cant_tell_confused_with_two].sample(8), nrows=2, ncols=4)"
   ]
  },
  {
   "cell_type": "code",
   "execution_count": null,
   "metadata": {},
   "outputs": [],
   "source": [
    "_ = show_galaxies(valid_labels[two_confused_with_cant_tell].sample(8), nrows=2, ncols=4)"
   ]
  },
  {
   "cell_type": "markdown",
   "metadata": {},
   "source": [
    "# Regression Metrics"
   ]
  },
  {
   "cell_type": "code",
   "execution_count": null,
   "metadata": {},
   "outputs": [],
   "source": [
    "errors = []\n",
    "min_total_votes = 20\n",
    "for question_n, question in enumerate(schema.questions):\n",
    "    for answer in question.answers:\n",
    "        print(question.text, answer.text)\n",
    "        valid_labels, valid_predictions = filter_to_sensible(retired, predicted_fractions, question)  # df, np.array\n",
    "        valid_labels.reset_index()\n",
    "        enough_votes = valid_labels[question.text + '_total-votes'] >= min_total_votes  # not quite the same as filter_to_sensible\n",
    "        y_true = valid_labels.loc[enough_votes, answer.text + '_fraction']\n",
    "        y_pred = valid_predictions[enough_votes, answer.index]\n",
    "        assert not pd.isna(y_true).any()\n",
    "        assert not pd.isna(y_pred).any()\n",
    "        absolute = mean_absolute_error(y_true, y_pred)\n",
    "        mse = mean_squared_error(y_true, y_pred)\n",
    "        errors.append({'answer': answer.text, 'rmse': np.sqrt(mse), 'mean_absolute_error': absolute, 'question_n': question_n})\n",
    "\n",
    "metrics = pd.DataFrame(errors)\n"
   ]
  },
  {
   "cell_type": "code",
   "execution_count": null,
   "metadata": {},
   "outputs": [],
   "source": [
    "colorbrewer = [\n",
    "    '#8dd3c7',\n",
    "    '#ffffb3',\n",
    "    '#bebada',\n",
    "    '#fb8072',\n",
    "    '#80b1d3',\n",
    "    '#fdb462',\n",
    "    '#b3de69',\n",
    "    '#fccde5',\n",
    "    '#d9d9d9',\n",
    "    '#bc80bd'\n",
    "]\n",
    "base_palette = sns.color_palette(colorbrewer)\n"
   ]
  },
  {
   "cell_type": "code",
   "execution_count": null,
   "metadata": {},
   "outputs": [],
   "source": [
    "# base_palette = sns.husl_palette(len(schema.questions))\n",
    "# base_palette = sns.choose_colorbrewer_palette('qualitative')\n",
    "\n",
    "# import random\n",
    "# random.shuffle(base_palette)\n",
    "# sns.palplot(base_palette)"
   ]
  },
  {
   "cell_type": "code",
   "execution_count": null,
   "metadata": {},
   "outputs": [],
   "source": [
    "repeating_palette = []\n",
    "for q_n, question in enumerate(schema.questions):\n",
    "    for a_n, answer in enumerate(question.answers):\n",
    "        repeating_palette.append(base_palette[q_n])"
   ]
  },
  {
   "cell_type": "code",
   "execution_count": null,
   "metadata": {},
   "outputs": [],
   "source": [
    "sns.set_style('whitegrid', {'axes.edgecolor': '0.2'})\n",
    "sns.set_context('notebook')\n",
    "sns.set_palette(repeating_palette)\n",
    "fig, ax = plt.subplots(figsize=(6, 8))\n",
    "sns.barplot(data=metrics, y='answer', x='mean_absolute_error', ax=ax)\n",
    "plt.xlabel('Vote Fraction Mean Deviation')\n",
    "plt.ylabel('')\n",
    "fig.tight_layout()\n",
    "# plt.savefig('mean_deviation_bar.pdf')"
   ]
  },
  {
   "cell_type": "code",
   "execution_count": null,
   "metadata": {},
   "outputs": [],
   "source": [
    "fig, ax = plt.subplots(figsize=(10, 10))\n",
    "sns.barplot(data=metrics, y='answer', x='rmse', ax=ax)"
   ]
  },
  {
   "cell_type": "code",
   "execution_count": null,
   "metadata": {},
   "outputs": [],
   "source": [
    "\n",
    "# question = schema.get_question('has-spiral-arms')\n",
    "answer = schema.get_answer('bulge-size_moderate')\n",
    "question = answer.question\n",
    "# answer = question.answers[0]\n",
    "valid_labels, valid_predictions = filter_to_sensible(retired, predicted_fractions, question)\n",
    "sns.scatterplot(valid_labels[answer.text + '_fraction'], valid_predictions[:, answer.index], alpha=.1)\n",
    "\n"
   ]
  },
  {
   "cell_type": "code",
   "execution_count": null,
   "metadata": {},
   "outputs": [],
   "source": [
    "plt.hist(valid_labels[question.text + '_total-votes'], bins=40, range=(0, 60))"
   ]
  },
  {
   "cell_type": "code",
   "execution_count": null,
   "metadata": {},
   "outputs": [],
   "source": [
    "question.asked_after"
   ]
  },
  {
   "cell_type": "code",
   "execution_count": null,
   "metadata": {},
   "outputs": [],
   "source": [
    "valid_labels.iloc[np.argsort(valid_labels[question.text + '_total-votes'])[:10]]['smooth-or-featured_featured-or-disk_fraction']"
   ]
  },
  {
   "cell_type": "code",
   "execution_count": null,
   "metadata": {},
   "outputs": [],
   "source": [
    "plt.hist(valid_labels[answer.text + '_fraction'], bins=40)"
   ]
  },
  {
   "cell_type": "code",
   "execution_count": null,
   "metadata": {},
   "outputs": [],
   "source": [
    "valid_labels['smooth-or-featured_total-votes'].hist(bins=30, range=[0., 120])"
   ]
  },
  {
   "cell_type": "code",
   "execution_count": null,
   "metadata": {},
   "outputs": [],
   "source": [
    "\n",
    "fig, axes = plt.subplots(nrows=len(label_cols), figsize=(8, len(label_cols) * 3))\n",
    "ax_n = 0\n",
    "for question in schema.questions:\n",
    "    valid_labels, valid_predictions = filter_to_sensible(retired, predicted_fractions, question)\n",
    "    for answer in question.answers:\n",
    "        sns.scatterplot(valid_labels[answer.text + '_fraction'], valid_predictions[:, answer.index], ax=axes[ax_n], alpha=.14)\n",
    "        ax_n += 1\n"
   ]
  },
  {
   "cell_type": "code",
   "execution_count": null,
   "metadata": {},
   "outputs": [],
   "source": []
  },
  {
   "cell_type": "code",
   "execution_count": null,
   "metadata": {},
   "outputs": [],
   "source": []
  },
  {
   "cell_type": "code",
   "execution_count": null,
   "metadata": {},
   "outputs": [],
   "source": [
    "retired['smooth-or-featured_total-votes'].hist(bins=30)"
   ]
  },
  {
   "cell_type": "code",
   "execution_count": null,
   "metadata": {},
   "outputs": [],
   "source": [
    "is_intense = retired['smooth-or-featured_total-votes'] > 75\n",
    "intense_labels, intense_predictions = retired[is_intense], predicted_fractions[is_intense]"
   ]
  },
  {
   "cell_type": "code",
   "execution_count": null,
   "metadata": {},
   "outputs": [],
   "source": [
    "def mimic_fewer(galaxy, question):\n",
    "    data = []\n",
    "    n_answers = len(question.answers)\n",
    "    actual_votes = galaxy[[a.text for a in question.answers]].values\n",
    "    actual_fractions = actual_votes / actual_votes.sum()\n",
    "    total_votes = actual_votes.sum()\n",
    "    \n",
    "    removed_votes = 0\n",
    "    latest_votes = actual_votes.copy()\n",
    "    while removed_votes < total_votes:\n",
    "        fractions = np.array([latest_votes[answer_n]/latest_votes.sum() for answer_n in range(n_answers)])\n",
    "        assert latest_votes.sum() + removed_votes == total_votes\n",
    "        data.append({'n_votes': total_votes - removed_votes, 'votes': latest_votes.copy(), 'fractions': fractions, 'deviations': np.abs(fractions - actual_fractions)})\n",
    "        \n",
    "#         answer_above_0 = latest_votes > 0\n",
    "#         valid_answer_indices = np.arange(n_answers)[answer_above_0]\n",
    "#         index_to_reduce = np.random.choice(valid_answer_indices)\n",
    "        index_to_reduce = np.random.choice(np.arange(n_answers), p=fractions)\n",
    "        latest_votes[index_to_reduce] = latest_votes[index_to_reduce] - 1\n",
    "        removed_votes += 1\n",
    "        \n",
    "    return data\n",
    "            "
   ]
  },
  {
   "cell_type": "code",
   "execution_count": null,
   "metadata": {},
   "outputs": [],
   "source": [
    "question = schema.get_question('smooth-or-featured')\n",
    "# question = schema.get_question('has-spiral-arms')\n",
    "# question = schema.get_question('bar')\n",
    "# question = schema.get_question('bulge-size')\n",
    "galaxy = intense_labels.sample().squeeze()\n",
    "mimic = pd.DataFrame(data=mimic_fewer(galaxy, question))\n",
    "\n",
    "# sns.set()\n",
    "# n_votes = mimic['n_votes']\n",
    "# fractions = np.stack(mimic['fractions'], axis=0)\n",
    "# for answer_n, answer in enumerate(question.answers):\n",
    "#     print(answer.text)\n",
    "#     plt.plot(n_votes, fractions[:, answer_n], label=answer.text)\n",
    "#     plt.axhline(mimic.sort_values('n_votes')['fractions'].iloc[-1][answer_n], linestyle='--', color='k', alpha=.5)\n",
    "# plt.legend()"
   ]
  },
  {
   "cell_type": "code",
   "execution_count": null,
   "metadata": {},
   "outputs": [],
   "source": [
    "# mimic['deviations']"
   ]
  },
  {
   "cell_type": "code",
   "execution_count": null,
   "metadata": {},
   "outputs": [],
   "source": [
    "# sns.set()\n",
    "# deviations = np.stack(mimic['deviations'], axis=0)\n",
    "# n_votes = mimic['n_votes']\n",
    "# for answer_n, answer in enumerate(question.answers):\n",
    "#     print(answer.text)\n",
    "#     plt.plot(n_votes, deviations[:, answer_n], label=answer.text)\n",
    "# plt.legend()"
   ]
  },
  {
   "cell_type": "code",
   "execution_count": null,
   "metadata": {},
   "outputs": [],
   "source": [
    "deviations"
   ]
  },
  {
   "cell_type": "code",
   "execution_count": null,
   "metadata": {},
   "outputs": [],
   "source": [
    "data = []\n",
    "valid_intense, _ = filter_to_sensible(intense_labels, intense_predictions, question)\n",
    "# print(len(valid_intense))\n",
    "for n_votes in np.arange(1, 40):\n",
    "    print(n_votes)\n",
    "    all_deviations = []\n",
    "    for _, galaxy in valid_intense.iterrows():\n",
    "        mimic = pd.DataFrame(data=mimic_fewer(galaxy, question))\n",
    "        deviations = mimic.query(f'n_votes == {n_votes}')['deviations'].squeeze()\n",
    "        assert len(deviations) > 0\n",
    "#         assert deviations.shape == (len(question.answers),)\n",
    "        all_deviations.append(deviations)\n",
    "    all_deviations = np.stack(all_deviations, axis=0)\n",
    "    mean_abs = all_deviations.mean(axis=0)\n",
    "    result = {'n_votes': n_votes}\n",
    "    result.update(dict(zip([a.text for a in question.answers], mean_abs)))\n",
    "    data.append(result)"
   ]
  },
  {
   "cell_type": "code",
   "execution_count": null,
   "metadata": {},
   "outputs": [],
   "source": [
    "deviation_df = pd.DataFrame(data=data)"
   ]
  },
  {
   "cell_type": "code",
   "execution_count": null,
   "metadata": {},
   "outputs": [],
   "source": [
    "def convert_to_label(x):\n",
    "    return x.replace(question.text, '').replace('_', '').capitalize()"
   ]
  },
  {
   "cell_type": "code",
   "execution_count": null,
   "metadata": {},
   "outputs": [],
   "source": [
    "# colors = sns.color_palette('mako', 5)\n",
    "# colors = sns.color_palette('mako')\n",
    "# colors = base_palette\n",
    "\n",
    "# colorbrewer = [\n",
    "#     '#8dd3c7',\n",
    "#     '#ffffb3',\n",
    "#     '#bebada',\n",
    "#     '#fb8072',\n",
    "#     '#80b1d3',\n",
    "#     '#fdb462',\n",
    "#     '#b3de69',\n",
    "#     '#fccde5',\n",
    "#     '#d9d9d9',\n",
    "#     '#bc80bd'\n",
    "# ]\n",
    "# colors = sns.color_palette(colorbrewer[-5:])\n"
   ]
  },
  {
   "cell_type": "code",
   "execution_count": null,
   "metadata": {},
   "outputs": [],
   "source": []
  },
  {
   "cell_type": "code",
   "execution_count": null,
   "metadata": {},
   "outputs": [],
   "source": [
    "# prob_of_answers = np.expand_dims(galaxy[[a.text + '_fraction' for a in schema.answers]], axis=0)\n",
    "# galaxy['smooth-or-featured_featured-or-disk_fraction']                         \n",
    "# deviation_df['n_votes_total'] = deviation_df['n_votes'] / schema.joint_p(prob_of_answers, question.asked_after.text)  # looks more impressive, but is maybe a level of complexity too far - not used"
   ]
  },
  {
   "cell_type": "code",
   "execution_count": null,
   "metadata": {},
   "outputs": [],
   "source": [
    "sns.set_context('notebook')\n",
    "sns.set(font_scale=1.3, style='whitegrid', rc={'grid.linewidth': .5})  # softening the grid lines\n",
    "\n",
    "colors = sns.color_palette('deep', len(question.answers))\n",
    "# colors = ['y', 'b', 'g', 'r', 't']\n",
    "\n",
    "for a_n, a in enumerate(question.answers):\n",
    "\n",
    "    # exclude 'dominant' for bulge, rare  question.answers[1:]\n",
    "    # exclude no for spiral, no need      if a_n == 0:\n",
    "    sns.lineplot(data=deviation_df, x='n_votes', y=a.text, color=colors[a_n], label=convert_to_label(a.text), marker='.', markersize=10.)\n",
    "    plt.axhline(metrics.query(f'answer == \"{a.text}\"').squeeze()['mean_absolute_error'], color=colors[a_n], linestyle='--')\n",
    "plt.legend()\n",
    "plt.ylabel('Mean error vs. all votes')\n",
    "plt.xlabel('Truncated number of votes')\n",
    "# if question.text == 'smooth-or-featured':\n",
    "plt.xlim([0, 20])\n",
    "plt.ylim(0., .25)\n",
    "# if question.text == 'bulge-size':\n",
    "#     plt.xlim([0, 20])\n",
    "#     plt.ylim(0., .25)\n",
    "plt.title(question.text.replace('-', ' ').title())  # .title = capitalize each word (isn't python <3)\n",
    "plt.tight_layout()\n",
    "plt.savefig('notebooks/multiq/performance/vs_all_votes_' + question.text + '.png')\n",
    "plt.savefig('notebooks/multiq/performance/vs_all_votes_' + question.text + '.pdf')"
   ]
  },
  {
   "cell_type": "code",
   "execution_count": null,
   "metadata": {},
   "outputs": [],
   "source": []
  }
 ],
 "metadata": {
  "kernelspec": {
   "display_name": "Python 3",
   "language": "python",
   "name": "python3"
  },
  "language_info": {
   "codemirror_mode": {
    "name": "ipython",
    "version": 3
   },
   "file_extension": ".py",
   "mimetype": "text/x-python",
   "name": "python",
   "nbconvert_exporter": "python",
   "pygments_lexer": "ipython3",
   "version": "3.7.6"
  }
 },
 "nbformat": 4,
 "nbformat_minor": 4
}
