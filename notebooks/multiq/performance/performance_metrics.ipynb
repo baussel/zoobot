{
 "cells": [
  {
   "cell_type": "code",
   "execution_count": 1,
   "metadata": {},
   "outputs": [],
   "source": [
    "%load_ext autoreload\n",
    "%autoreload 2\n",
    "%matplotlib inline"
   ]
  },
  {
   "cell_type": "code",
   "execution_count": 2,
   "metadata": {},
   "outputs": [],
   "source": [
    "# !pip install -e /home/walml/repos/zoobot_private"
   ]
  },
  {
   "cell_type": "code",
   "execution_count": 3,
   "metadata": {},
   "outputs": [],
   "source": [
    "import matplotlib"
   ]
  },
  {
   "cell_type": "code",
   "execution_count": 4,
   "metadata": {},
   "outputs": [],
   "source": [
    "import sklearn"
   ]
  },
  {
   "cell_type": "code",
   "execution_count": 5,
   "metadata": {},
   "outputs": [],
   "source": [
    "import os\n",
    "import logging\n",
    "import argparse\n",
    "import glob\n",
    "import json\n",
    "from multiprocessing import Pool\n",
    "\n",
    "from IPython.display import display, Markdown\n",
    "\n",
    "import numpy as np\n",
    "import matplotlib.pyplot as plt\n",
    "from matplotlib.ticker import StrMethodFormatter\n",
    "import matplotlib.gridspec as gridspec\n",
    "import seaborn as sns\n",
    "from PIL import Image\n",
    "\n",
    "import pandas as pd\n",
    "from astropy.table import Table  # for NSA\n",
    "from astropy import units as u\n",
    "\n",
    "from scipy import stats, integrate\n",
    "from scipy.stats import binom\n",
    "import statsmodels.api as sm\n",
    "\n",
    "from sklearn import metrics\n",
    "from sklearn.metrics import confusion_matrix, plot_confusion_matrix, roc_curve, mean_squared_error, mean_absolute_error\n",
    "import tensorflow as tf\n",
    "\n",
    "from shared_astro_utils import astropy_utils, matching_utils\n",
    "from zoobot.tfrecord import read_tfrecord\n",
    "from zoobot.uncertainty import discrete_coverage\n",
    "from zoobot.estimators import input_utils, losses, dirichlet_stats\n",
    "from zoobot.tfrecord import catalog_to_tfrecord\n",
    "from zoobot.active_learning import metrics, simulated_metrics, acquisition_utils, check_uncertainty, simulation_timeline, run_estimator_config\n",
    "from zoobot.active_learning import acquisition_utils\n",
    "from zoobot import label_metadata\n"
   ]
  },
  {
   "cell_type": "code",
   "execution_count": 6,
   "metadata": {},
   "outputs": [],
   "source": [
    "os.chdir('/home/walml/repos/zoobot_private')"
   ]
  },
  {
   "cell_type": "code",
   "execution_count": 7,
   "metadata": {},
   "outputs": [
    {
     "name": "stdout",
     "output_type": "stream",
     "text": [
      "{smooth-or-featured, indices 0 to 2, asked after None: (0, 2), disk-edge-on, indices 3 to 4, asked after smooth-or-featured_featured-or-disk, index 1: (3, 4), has-spiral-arms, indices 5 to 6, asked after disk-edge-on_no, index 4: (5, 6), bar, indices 7 to 9, asked after disk-edge-on_no, index 4: (7, 9), bulge-size, indices 10 to 14, asked after disk-edge-on_no, index 4: (10, 14), how-rounded, indices 15 to 17, asked after smooth-or-featured_smooth, index 0: (15, 17), edge-on-bulge, indices 18 to 20, asked after disk-edge-on_yes, index 3: (18, 20), spiral-winding, indices 21 to 23, asked after has-spiral-arms_yes, index 5: (21, 23), spiral-arm-count, indices 24 to 29, asked after has-spiral-arms_yes, index 5: (24, 29), merging, indices 30 to 33, asked after None: (30, 33)}\n"
     ]
    },
    {
     "data": {
      "text/plain": [
       "[smooth-or-featured, indices 0 to 2, asked after None,\n",
       " disk-edge-on, indices 3 to 4, asked after smooth-or-featured_featured-or-disk, index 1,\n",
       " has-spiral-arms, indices 5 to 6, asked after disk-edge-on_no, index 4,\n",
       " bar, indices 7 to 9, asked after disk-edge-on_no, index 4,\n",
       " bulge-size, indices 10 to 14, asked after disk-edge-on_no, index 4,\n",
       " how-rounded, indices 15 to 17, asked after smooth-or-featured_smooth, index 0,\n",
       " edge-on-bulge, indices 18 to 20, asked after disk-edge-on_yes, index 3,\n",
       " spiral-winding, indices 21 to 23, asked after has-spiral-arms_yes, index 5,\n",
       " spiral-arm-count, indices 24 to 29, asked after has-spiral-arms_yes, index 5,\n",
       " merging, indices 30 to 33, asked after None]"
      ]
     },
     "execution_count": 7,
     "metadata": {},
     "output_type": "execute_result"
    }
   ],
   "source": [
    "questions = label_metadata.decals_questions\n",
    "label_cols = label_metadata.decals_label_cols\n",
    "version = 'decals'\n",
    "\n",
    "schema = losses.Schema(label_cols, questions, version=version)\n",
    "schema.questions"
   ]
  },
  {
   "cell_type": "code",
   "execution_count": 8,
   "metadata": {},
   "outputs": [],
   "source": [
    "\n",
    "# previously shared in draft paper\n",
    "# predictions_loc = 'results/temp/decals_n2_allq_m0_all.csv'\n",
    "# eval_loc = 'results/temp/decals_n2_allq_m0_eval_shards/eval_df.csv'"
   ]
  },
  {
   "cell_type": "code",
   "execution_count": 9,
   "metadata": {},
   "outputs": [],
   "source": [
    "eval_loc = 'results/decals_dr_full_eval_df.csv'\n",
    "eval_df = pd.read_csv(eval_loc)\n",
    "eval_df['local_png_loc'] = eval_df['local_png_loc'].apply(lambda x: x.replace('/data/phys-zooniverse/chri5177', '/media/walml/beta/decals'))\n",
    "# eval_df doesn't include total-votes, add it\n",
    "for question in schema.questions:\n",
    "    eval_df[question.text + '_total-votes'] = np.array([eval_df[answer.text].values for answer in question.answers]).sum(axis=0)"
   ]
  },
  {
   "cell_type": "code",
   "execution_count": 10,
   "metadata": {},
   "outputs": [
    {
     "name": "stdout",
     "output_type": "stream",
     "text": [
      "(34215, 34, 1)\n"
     ]
    }
   ],
   "source": [
    "\n",
    "\n",
    "\n",
    "\n",
    "# one model - paper\n",
    "# predictions_loc = 'results/decals_dr_full_m0_eval_predictions.csv'  # .1-20\n",
    "# predictions = pd.read_csv(predictions_loc)\n",
    "# samples = dirichlet_stats.load_all_concentrations(eval_predictions, concentration_cols=[a.text + '_concentration' for a in schema.answers])\n",
    "\n",
    "# one model - replication on galahad\n",
    "# predictions_loc = '/home/walml/repos/zoobot/data/results/dr5_color_morphology_0.csv'  # failed\n",
    "# predictions_loc = '/home/walml/repos/zoobot/data/results/dr5_greyscale_morphology_0.csv'  # failed\n",
    "# predictions_loc = '/home/walml/repos/zoobot/data/results/dr5_greyscale_morphology_paper_0.csv'  # pretrained weights worked\n",
    "# predictions_loc = '/home/walml/repos/zoobot/data/results/dr5_greyscale_single_morphology_0.csv'  #failed\n",
    "# predictions_loc = '/home/walml/repos/zoobot/data/results/dr5_color_single_morphology_0.csv'  # failed\n",
    "# predictions_loc = '/home/walml/repos/zoobot/data/results/dr5_greyscale_single_paper_morphology_0.csv'  # double-checked pretrained weights, definitely works\n",
    "# predictions_loc = '/home/walml/repos/zoobot/data/results/dr5_greyscale_debug_morphology_0.csv'  # replication works again, happy days\n",
    "predictions_loc = '/home/walml/repos/zoobot/data/results/dr5_color_debug_morphology_0.csv'  # replication works again, happy days\n",
    "\n",
    "# predictions_locs = glob.glob('/home/walml/repos/zoobot/data/results/dr5_color_debug_morphology_*.csv')\n",
    "# predictions_locs = glob.glob('/home/walml/repos/zoobot/data/results/dr5_greyscale_debug_morphology_*.csv') \n",
    "predictions_locs = glob.glob('/home/walml/repos/zoobot/data/results/dr5_color_dist_morphology_*.csv')\n",
    "eval_predictions = []\n",
    "for predictions_loc in predictions_locs:\n",
    "\n",
    "    pred_chunk = pd.read_csv(predictions_loc)\n",
    "    # print(predictions.columns.values)\n",
    "    # tweak a few cols\n",
    "    pred_chunk['iauname'] = pred_chunk['image_loc'].apply(lambda x: os.path.basename(x).replace('.png', ''))\n",
    "    prediction_cols = [col for col in pred_chunk.columns.values if col.endswith('_pred')]\n",
    "    pred_chunk = pred_chunk.rename(columns=dict(zip(prediction_cols, [col.replace('_pred', '_concentration') for col in prediction_cols])))\n",
    "    eval_pred_chunk = pred_chunk[pred_chunk['iauname'].isin(eval_df['id_str'])]\n",
    "    eval_predictions.append(eval_pred_chunk)\n",
    "\n",
    "eval_predictions = pd.concat(eval_predictions, axis=0)\n",
    "# add in labels\n",
    "eval_predictions = pd.merge(eval_predictions, eval_df, on='iauname', how='inner')\n",
    "samples = dirichlet_stats.load_all_concentrations(eval_predictions, concentration_cols=[a.text + '_concentration' for a in schema.answers])\n",
    "\n",
    "# # several models (ensemble)\n",
    "# samples = []\n",
    "# predictions_locs = [f'results/decals_dr_full_m{n}_eval_predictions.csv' for n in range(3)]  # 0, 1, 2\n",
    "# for predictions_loc in predictions_locs:\n",
    "#     predictions = pd.read_csv(predictions_loc)\n",
    "#     # filter to eval\n",
    "#     eval_predictions = predictions[predictions['iauname'].isin(eval_df['id_str'])]\n",
    "#     print(len(eval_predictions))\n",
    "#     model_samples = dirichlet_stats.load_all_concentrations(eval_predictions, concentration_cols=[a.text + '_concentration' for a in schema.answers])\n",
    "#     samples.append(model_samples)\n",
    "# samples = np.concatenate(samples, axis=2)  # must be same iaunames, sorted\n",
    "\n",
    "print(samples.shape)\n",
    "\n"
   ]
  },
  {
   "cell_type": "code",
   "execution_count": 11,
   "metadata": {},
   "outputs": [
    {
     "data": {
      "text/html": [
       "<div>\n",
       "<style scoped>\n",
       "    .dataframe tbody tr th:only-of-type {\n",
       "        vertical-align: middle;\n",
       "    }\n",
       "\n",
       "    .dataframe tbody tr th {\n",
       "        vertical-align: top;\n",
       "    }\n",
       "\n",
       "    .dataframe thead th {\n",
       "        text-align: right;\n",
       "    }\n",
       "</style>\n",
       "<table border=\"1\" class=\"dataframe\">\n",
       "  <thead>\n",
       "    <tr style=\"text-align: right;\">\n",
       "      <th></th>\n",
       "      <th>image_loc</th>\n",
       "      <th>smooth-or-featured_smooth_concentration</th>\n",
       "      <th>smooth-or-featured_featured-or-disk_concentration</th>\n",
       "      <th>smooth-or-featured_artifact_concentration</th>\n",
       "      <th>disk-edge-on_yes_concentration</th>\n",
       "      <th>disk-edge-on_no_concentration</th>\n",
       "      <th>has-spiral-arms_yes_concentration</th>\n",
       "      <th>has-spiral-arms_no_concentration</th>\n",
       "      <th>bar_strong_concentration</th>\n",
       "      <th>bar_weak_concentration</th>\n",
       "      <th>...</th>\n",
       "      <th>petro_th50</th>\n",
       "      <th>petro_th90</th>\n",
       "      <th>sersic_nmgy_r</th>\n",
       "      <th>elpetro_absmag_r</th>\n",
       "      <th>active_learning_on</th>\n",
       "      <th>in_gzd_ab</th>\n",
       "      <th>local_png_loc</th>\n",
       "      <th>png_exists</th>\n",
       "      <th>file_loc</th>\n",
       "      <th>id_str</th>\n",
       "    </tr>\n",
       "  </thead>\n",
       "  <tbody>\n",
       "    <tr>\n",
       "      <th>0</th>\n",
       "      <td>/share/nas/walml/galaxy_zoo/decals/dr5/png/J08...</td>\n",
       "      <td>[29.26467514038086]</td>\n",
       "      <td>[15.30496597290039]</td>\n",
       "      <td>[7.926961421966553]</td>\n",
       "      <td>[2.690880298614502]</td>\n",
       "      <td>[13.509353637695312]</td>\n",
       "      <td>[2.3066246509552]</td>\n",
       "      <td>[9.277851104736328]</td>\n",
       "      <td>[6.099160671234131]</td>\n",
       "      <td>[2.6284122467041016]</td>\n",
       "      <td>...</td>\n",
       "      <td>4.050050</td>\n",
       "      <td>10.752045</td>\n",
       "      <td>144.28433</td>\n",
       "      <td>-17.005320</td>\n",
       "      <td>False</td>\n",
       "      <td>False</td>\n",
       "      <td>/media/walml/beta/decals/png_native/dr5/J081/J...</td>\n",
       "      <td>True</td>\n",
       "      <td>/data/phys-zooniverse/chri5177/png_native/dr5/...</td>\n",
       "      <td>J081628.26+243922.8</td>\n",
       "    </tr>\n",
       "    <tr>\n",
       "      <th>1</th>\n",
       "      <td>/share/nas/walml/galaxy_zoo/decals/dr5/png/J08...</td>\n",
       "      <td>[2.6538031101226807]</td>\n",
       "      <td>[35.16917037963867]</td>\n",
       "      <td>[4.398383140563965]</td>\n",
       "      <td>[1.544217586517334]</td>\n",
       "      <td>[98.14318084716797]</td>\n",
       "      <td>[30.59093475341797]</td>\n",
       "      <td>[1.4372429847717285]</td>\n",
       "      <td>[1.0826834440231323]</td>\n",
       "      <td>[6.530796051025391]</td>\n",
       "      <td>...</td>\n",
       "      <td>10.364794</td>\n",
       "      <td>22.970627</td>\n",
       "      <td>2183.71900</td>\n",
       "      <td>-19.257286</td>\n",
       "      <td>False</td>\n",
       "      <td>True</td>\n",
       "      <td>/media/walml/beta/decals/png_native/dr5/J081/J...</td>\n",
       "      <td>True</td>\n",
       "      <td>/data/phys-zooniverse/chri5177/png_native/dr5/...</td>\n",
       "      <td>J081915.52+244733.5</td>\n",
       "    </tr>\n",
       "    <tr>\n",
       "      <th>2</th>\n",
       "      <td>/share/nas/walml/galaxy_zoo/decals/dr5/png/J08...</td>\n",
       "      <td>[4.948700428009033]</td>\n",
       "      <td>[38.06023025512695]</td>\n",
       "      <td>[3.2505109310150146]</td>\n",
       "      <td>[2.7801520824432373]</td>\n",
       "      <td>[53.98447036743164]</td>\n",
       "      <td>[3.2259788513183594]</td>\n",
       "      <td>[2.2009341716766357]</td>\n",
       "      <td>[9.829585075378418]</td>\n",
       "      <td>[3.4065966606140137]</td>\n",
       "      <td>...</td>\n",
       "      <td>5.382372</td>\n",
       "      <td>13.294090</td>\n",
       "      <td>1859.51230</td>\n",
       "      <td>-19.943620</td>\n",
       "      <td>False</td>\n",
       "      <td>True</td>\n",
       "      <td>/media/walml/beta/decals/png_native/dr5/J081/J...</td>\n",
       "      <td>True</td>\n",
       "      <td>/data/phys-zooniverse/chri5177/png_native/dr5/...</td>\n",
       "      <td>J081847.58+243214.7</td>\n",
       "    </tr>\n",
       "    <tr>\n",
       "      <th>3</th>\n",
       "      <td>/share/nas/walml/galaxy_zoo/decals/dr5/png/J08...</td>\n",
       "      <td>[63.74696731567383]</td>\n",
       "      <td>[14.742385864257812]</td>\n",
       "      <td>[11.714091300964355]</td>\n",
       "      <td>[8.741035461425781]</td>\n",
       "      <td>[42.126792907714844]</td>\n",
       "      <td>[2.3095312118530273]</td>\n",
       "      <td>[50.95892333984375]</td>\n",
       "      <td>[2.227480173110962]</td>\n",
       "      <td>[9.179601669311523]</td>\n",
       "      <td>...</td>\n",
       "      <td>4.883406</td>\n",
       "      <td>16.149550</td>\n",
       "      <td>1551.06970</td>\n",
       "      <td>-19.174963</td>\n",
       "      <td>False</td>\n",
       "      <td>True</td>\n",
       "      <td>/media/walml/beta/decals/png_native/dr5/J082/J...</td>\n",
       "      <td>True</td>\n",
       "      <td>/data/phys-zooniverse/chri5177/png_native/dr5/...</td>\n",
       "      <td>J082126.80+242711.0</td>\n",
       "    </tr>\n",
       "    <tr>\n",
       "      <th>4</th>\n",
       "      <td>/share/nas/walml/galaxy_zoo/decals/dr5/png/J08...</td>\n",
       "      <td>[3.1002674102783203]</td>\n",
       "      <td>[38.158660888671875]</td>\n",
       "      <td>[2.867671012878418]</td>\n",
       "      <td>[5.822169303894043]</td>\n",
       "      <td>[6.176462173461914]</td>\n",
       "      <td>[11.922823905944824]</td>\n",
       "      <td>[1.1894803047180176]</td>\n",
       "      <td>[1.5265798568725586]</td>\n",
       "      <td>[4.177759170532227]</td>\n",
       "      <td>...</td>\n",
       "      <td>13.265611</td>\n",
       "      <td>41.275604</td>\n",
       "      <td>1745.06450</td>\n",
       "      <td>-19.297043</td>\n",
       "      <td>False</td>\n",
       "      <td>True</td>\n",
       "      <td>/media/walml/beta/decals/png_native/dr5/J083/J...</td>\n",
       "      <td>True</td>\n",
       "      <td>/data/phys-zooniverse/chri5177/png_native/dr5/...</td>\n",
       "      <td>J083300.20+260050.5</td>\n",
       "    </tr>\n",
       "  </tbody>\n",
       "</table>\n",
       "<p>5 rows × 139 columns</p>\n",
       "</div>"
      ],
      "text/plain": [
       "                                           image_loc  \\\n",
       "0  /share/nas/walml/galaxy_zoo/decals/dr5/png/J08...   \n",
       "1  /share/nas/walml/galaxy_zoo/decals/dr5/png/J08...   \n",
       "2  /share/nas/walml/galaxy_zoo/decals/dr5/png/J08...   \n",
       "3  /share/nas/walml/galaxy_zoo/decals/dr5/png/J08...   \n",
       "4  /share/nas/walml/galaxy_zoo/decals/dr5/png/J08...   \n",
       "\n",
       "  smooth-or-featured_smooth_concentration  \\\n",
       "0                     [29.26467514038086]   \n",
       "1                    [2.6538031101226807]   \n",
       "2                     [4.948700428009033]   \n",
       "3                     [63.74696731567383]   \n",
       "4                    [3.1002674102783203]   \n",
       "\n",
       "  smooth-or-featured_featured-or-disk_concentration  \\\n",
       "0                               [15.30496597290039]   \n",
       "1                               [35.16917037963867]   \n",
       "2                               [38.06023025512695]   \n",
       "3                              [14.742385864257812]   \n",
       "4                              [38.158660888671875]   \n",
       "\n",
       "  smooth-or-featured_artifact_concentration disk-edge-on_yes_concentration  \\\n",
       "0                       [7.926961421966553]            [2.690880298614502]   \n",
       "1                       [4.398383140563965]            [1.544217586517334]   \n",
       "2                      [3.2505109310150146]           [2.7801520824432373]   \n",
       "3                      [11.714091300964355]            [8.741035461425781]   \n",
       "4                       [2.867671012878418]            [5.822169303894043]   \n",
       "\n",
       "  disk-edge-on_no_concentration has-spiral-arms_yes_concentration  \\\n",
       "0          [13.509353637695312]                 [2.3066246509552]   \n",
       "1           [98.14318084716797]               [30.59093475341797]   \n",
       "2           [53.98447036743164]              [3.2259788513183594]   \n",
       "3          [42.126792907714844]              [2.3095312118530273]   \n",
       "4           [6.176462173461914]              [11.922823905944824]   \n",
       "\n",
       "  has-spiral-arms_no_concentration bar_strong_concentration  \\\n",
       "0              [9.277851104736328]      [6.099160671234131]   \n",
       "1             [1.4372429847717285]     [1.0826834440231323]   \n",
       "2             [2.2009341716766357]      [9.829585075378418]   \n",
       "3              [50.95892333984375]      [2.227480173110962]   \n",
       "4             [1.1894803047180176]     [1.5265798568725586]   \n",
       "\n",
       "  bar_weak_concentration  ... petro_th50 petro_th90 sersic_nmgy_r  \\\n",
       "0   [2.6284122467041016]  ...   4.050050  10.752045     144.28433   \n",
       "1    [6.530796051025391]  ...  10.364794  22.970627    2183.71900   \n",
       "2   [3.4065966606140137]  ...   5.382372  13.294090    1859.51230   \n",
       "3    [9.179601669311523]  ...   4.883406  16.149550    1551.06970   \n",
       "4    [4.177759170532227]  ...  13.265611  41.275604    1745.06450   \n",
       "\n",
       "  elpetro_absmag_r active_learning_on in_gzd_ab  \\\n",
       "0       -17.005320              False     False   \n",
       "1       -19.257286              False      True   \n",
       "2       -19.943620              False      True   \n",
       "3       -19.174963              False      True   \n",
       "4       -19.297043              False      True   \n",
       "\n",
       "                                       local_png_loc png_exists  \\\n",
       "0  /media/walml/beta/decals/png_native/dr5/J081/J...       True   \n",
       "1  /media/walml/beta/decals/png_native/dr5/J081/J...       True   \n",
       "2  /media/walml/beta/decals/png_native/dr5/J081/J...       True   \n",
       "3  /media/walml/beta/decals/png_native/dr5/J082/J...       True   \n",
       "4  /media/walml/beta/decals/png_native/dr5/J083/J...       True   \n",
       "\n",
       "                                            file_loc               id_str  \n",
       "0  /data/phys-zooniverse/chri5177/png_native/dr5/...  J081628.26+243922.8  \n",
       "1  /data/phys-zooniverse/chri5177/png_native/dr5/...  J081915.52+244733.5  \n",
       "2  /data/phys-zooniverse/chri5177/png_native/dr5/...  J081847.58+243214.7  \n",
       "3  /data/phys-zooniverse/chri5177/png_native/dr5/...  J082126.80+242711.0  \n",
       "4  /data/phys-zooniverse/chri5177/png_native/dr5/...  J083300.20+260050.5  \n",
       "\n",
       "[5 rows x 139 columns]"
      ]
     },
     "execution_count": 11,
     "metadata": {},
     "output_type": "execute_result"
    }
   ],
   "source": [
    "eval_predictions.head()"
   ]
  },
  {
   "cell_type": "code",
   "execution_count": 12,
   "metadata": {},
   "outputs": [
    {
     "data": {
      "text/plain": [
       "array([[[29.26467514],\n",
       "        [15.30496597]],\n",
       "\n",
       "       [[ 2.65380311],\n",
       "        [35.16917038]],\n",
       "\n",
       "       [[ 4.94870043],\n",
       "        [38.06023026]],\n",
       "\n",
       "       [[63.74696732],\n",
       "        [14.74238586]],\n",
       "\n",
       "       [[ 3.10026741],\n",
       "        [38.15866089]]])"
      ]
     },
     "execution_count": 12,
     "metadata": {},
     "output_type": "execute_result"
    }
   ],
   "source": [
    "samples[:5, :2]"
   ]
  },
  {
   "cell_type": "code",
   "execution_count": 13,
   "metadata": {},
   "outputs": [
    {
     "name": "stderr",
     "output_type": "stream",
     "text": [
      "/home/walml/anaconda3/envs/zoobot/lib/python3.7/site-packages/ipykernel_launcher.py:3: SettingWithCopyWarning: \n",
      "A value is trying to be set on a copy of a slice from a DataFrame.\n",
      "Try using .loc[row_indexer,col_indexer] = value instead\n",
      "\n",
      "See the caveats in the documentation: https://pandas.pydata.org/pandas-docs/stable/user_guide/indexing.html#returning-a-view-versus-a-copy\n",
      "  This is separate from the ipykernel package so we can avoid doing imports until\n"
     ]
    }
   ],
   "source": [
    "is_retired = eval_predictions['smooth-or-featured_total-votes'] > 34\n",
    "retired = eval_predictions[is_retired]\n",
    "retired['file_loc'] = retired['image_loc'].apply(lambda x: '/media/walml/beta1/decals' + x)\n",
    "# retired['file_loc'] = retired['local_png_loc'].apply(lambda x: '/media/walml/beta/decals' + x.replace('/data/phys-zooniverse/chri5177', ''))\n",
    "retired_samples = samples[is_retired]\n"
   ]
  },
  {
   "cell_type": "code",
   "execution_count": 14,
   "metadata": {},
   "outputs": [
    {
     "data": {
      "text/plain": [
       "10700"
      ]
     },
     "execution_count": 14,
     "metadata": {},
     "output_type": "execute_result"
    }
   ],
   "source": [
    "len(retired)  # only high conf"
   ]
  },
  {
   "cell_type": "code",
   "execution_count": 15,
   "metadata": {},
   "outputs": [],
   "source": [
    "predicted_fractions = dirichlet_stats.dirichlet_prob_of_answers(retired_samples, schema, temperature=None)"
   ]
  },
  {
   "cell_type": "code",
   "execution_count": null,
   "metadata": {},
   "outputs": [],
   "source": []
  },
  {
   "cell_type": "markdown",
   "metadata": {},
   "source": [
    "## Loss"
   ]
  },
  {
   "cell_type": "code",
   "execution_count": 16,
   "metadata": {},
   "outputs": [],
   "source": [
    "answers = [a.text for a in schema.answers]"
   ]
  },
  {
   "cell_type": "code",
   "execution_count": 17,
   "metadata": {},
   "outputs": [
    {
     "data": {
      "text/plain": [
       "['smooth-or-featured_smooth',\n",
       " 'smooth-or-featured_featured-or-disk',\n",
       " 'smooth-or-featured_artifact',\n",
       " 'disk-edge-on_yes',\n",
       " 'disk-edge-on_no',\n",
       " 'has-spiral-arms_yes',\n",
       " 'has-spiral-arms_no',\n",
       " 'bar_strong',\n",
       " 'bar_weak',\n",
       " 'bar_no',\n",
       " 'bulge-size_dominant',\n",
       " 'bulge-size_large',\n",
       " 'bulge-size_moderate',\n",
       " 'bulge-size_small',\n",
       " 'bulge-size_none',\n",
       " 'how-rounded_round',\n",
       " 'how-rounded_in-between',\n",
       " 'how-rounded_cigar-shaped',\n",
       " 'edge-on-bulge_boxy',\n",
       " 'edge-on-bulge_none',\n",
       " 'edge-on-bulge_rounded',\n",
       " 'spiral-winding_tight',\n",
       " 'spiral-winding_medium',\n",
       " 'spiral-winding_loose',\n",
       " 'spiral-arm-count_1',\n",
       " 'spiral-arm-count_2',\n",
       " 'spiral-arm-count_3',\n",
       " 'spiral-arm-count_4',\n",
       " 'spiral-arm-count_more-than-4',\n",
       " 'spiral-arm-count_cant-tell',\n",
       " 'merging_none',\n",
       " 'merging_minor-disturbance',\n",
       " 'merging_major-disturbance',\n",
       " 'merging_merger']"
      ]
     },
     "execution_count": 17,
     "metadata": {},
     "output_type": "execute_result"
    }
   ],
   "source": [
    "answers"
   ]
  },
  {
   "cell_type": "code",
   "execution_count": 18,
   "metadata": {},
   "outputs": [],
   "source": [
    "labels = eval_predictions[answers].values"
   ]
  },
  {
   "cell_type": "code",
   "execution_count": 19,
   "metadata": {},
   "outputs": [
    {
     "data": {
      "text/plain": [
       "array([[ 7.,  2.,  0., ...,  3.,  2.,  0.],\n",
       "       [ 0., 17.,  2., ...,  2.,  0.,  0.],\n",
       "       [ 3., 15.,  1., ...,  0.,  0.,  0.],\n",
       "       ...,\n",
       "       [ 0.,  5.,  0., ...,  2.,  1.,  0.],\n",
       "       [ 4.,  1.,  0., ...,  2.,  0.,  2.],\n",
       "       [ 0.,  4.,  1., ...,  2.,  2.,  0.]])"
      ]
     },
     "execution_count": 19,
     "metadata": {},
     "output_type": "execute_result"
    }
   ],
   "source": [
    "labels"
   ]
  },
  {
   "cell_type": "code",
   "execution_count": 20,
   "metadata": {},
   "outputs": [
    {
     "data": {
      "text/plain": [
       "['smooth-or-featured_smooth_concentration',\n",
       " 'smooth-or-featured_featured-or-disk_concentration',\n",
       " 'smooth-or-featured_artifact_concentration',\n",
       " 'disk-edge-on_yes_concentration',\n",
       " 'disk-edge-on_no_concentration',\n",
       " 'has-spiral-arms_yes_concentration',\n",
       " 'has-spiral-arms_no_concentration',\n",
       " 'bar_strong_concentration',\n",
       " 'bar_weak_concentration',\n",
       " 'bar_no_concentration',\n",
       " 'bulge-size_dominant_concentration',\n",
       " 'bulge-size_large_concentration',\n",
       " 'bulge-size_moderate_concentration',\n",
       " 'bulge-size_small_concentration',\n",
       " 'bulge-size_none_concentration',\n",
       " 'how-rounded_round_concentration',\n",
       " 'how-rounded_in-between_concentration',\n",
       " 'how-rounded_cigar-shaped_concentration',\n",
       " 'edge-on-bulge_boxy_concentration',\n",
       " 'edge-on-bulge_none_concentration',\n",
       " 'edge-on-bulge_rounded_concentration',\n",
       " 'spiral-winding_tight_concentration',\n",
       " 'spiral-winding_medium_concentration',\n",
       " 'spiral-winding_loose_concentration',\n",
       " 'spiral-arm-count_1_concentration',\n",
       " 'spiral-arm-count_2_concentration',\n",
       " 'spiral-arm-count_3_concentration',\n",
       " 'spiral-arm-count_4_concentration',\n",
       " 'spiral-arm-count_more-than-4_concentration',\n",
       " 'spiral-arm-count_cant-tell_concentration',\n",
       " 'merging_none_concentration',\n",
       " 'merging_minor-disturbance_concentration',\n",
       " 'merging_major-disturbance_concentration',\n",
       " 'merging_merger_concentration']"
      ]
     },
     "execution_count": 20,
     "metadata": {},
     "output_type": "execute_result"
    }
   ],
   "source": [
    "conc_cols = [col for col in eval_predictions if 'concentration' in col]\n",
    "conc_cols"
   ]
  },
  {
   "cell_type": "code",
   "execution_count": 21,
   "metadata": {},
   "outputs": [],
   "source": [
    "# concentrations = eval_predictions[conc_cols].values"
   ]
  },
  {
   "cell_type": "code",
   "execution_count": 22,
   "metadata": {},
   "outputs": [],
   "source": [
    "# concentrations"
   ]
  },
  {
   "cell_type": "code",
   "execution_count": 23,
   "metadata": {},
   "outputs": [],
   "source": [
    "# samples"
   ]
  },
  {
   "cell_type": "code",
   "execution_count": 24,
   "metadata": {},
   "outputs": [],
   "source": [
    "multiquestion_loss = losses.get_multiquestion_loss(schema.question_index_groups)\n",
    "loss = lambda x, y: multiquestion_loss(x, y) / batch_size  "
   ]
  },
  {
   "cell_type": "code",
   "execution_count": 25,
   "metadata": {},
   "outputs": [
    {
     "data": {
      "text/plain": [
       "(34215, 34, 1)"
      ]
     },
     "execution_count": 25,
     "metadata": {},
     "output_type": "execute_result"
    }
   ],
   "source": [
    "samples.shape"
   ]
  },
  {
   "cell_type": "code",
   "execution_count": 26,
   "metadata": {},
   "outputs": [
    {
     "data": {
      "text/plain": [
       "34215"
      ]
     },
     "execution_count": 26,
     "metadata": {},
     "output_type": "execute_result"
    }
   ],
   "source": [
    "len(samples)"
   ]
  },
  {
   "cell_type": "code",
   "execution_count": null,
   "metadata": {},
   "outputs": [],
   "source": []
  },
  {
   "cell_type": "code",
   "execution_count": 27,
   "metadata": {},
   "outputs": [
    {
     "data": {
      "text/plain": [
       "(TensorShape([34215, 34]), TensorShape([34215, 34]))"
      ]
     },
     "execution_count": 27,
     "metadata": {},
     "output_type": "execute_result"
    }
   ],
   "source": [
    "tf_labels = tf.constant(labels)\n",
    "tf_preds = tf.constant(samples.squeeze())\n",
    "tf_labels.shape, tf_preds.shape"
   ]
  },
  {
   "cell_type": "code",
   "execution_count": 28,
   "metadata": {},
   "outputs": [
    {
     "data": {
      "text/plain": [
       "0.11802775689459119"
      ]
     },
     "execution_count": 28,
     "metadata": {},
     "output_type": "execute_result"
    }
   ],
   "source": [
    "10 * 256 * multiquestion_loss(tf_labels, tf_preds).numpy() / len(labels)\n",
    "#  color 0.9028478536738243\n",
    "# greyscale 0.9040616712301955"
   ]
  },
  {
   "cell_type": "code",
   "execution_count": 29,
   "metadata": {},
   "outputs": [
    {
     "data": {
      "text/plain": [
       "(34215, 10)"
      ]
     },
     "execution_count": 29,
     "metadata": {},
     "output_type": "execute_result"
    }
   ],
   "source": [
    "loss = losses.calculate_multiquestion_loss(labels, samples.squeeze(), schema.question_index_groups).numpy()  # this version doesn't reduce\n",
    "loss.shape"
   ]
  },
  {
   "cell_type": "code",
   "execution_count": 45,
   "metadata": {},
   "outputs": [
    {
     "data": {
      "text/plain": [
       "[{'question': 'smooth-or-featured',\n",
       "  'mean_loss': 3.011364875277798,\n",
       "  'channels': 'color_2x'},\n",
       " {'question': 'disk-edge-on',\n",
       "  'mean_loss': 0.6891547206449515,\n",
       "  'channels': 'color_2x'},\n",
       " {'question': 'has-spiral-arms',\n",
       "  'mean_loss': 0.7455253736561503,\n",
       "  'channels': 'color_2x'},\n",
       " {'question': 'bar', 'mean_loss': 1.3064328655061177, 'channels': 'color_2x'},\n",
       " {'question': 'bulge-size',\n",
       "  'mean_loss': 2.0668172782890806,\n",
       "  'channels': 'color_2x'},\n",
       " {'question': 'how-rounded',\n",
       "  'mean_loss': 1.6908017630705412,\n",
       "  'channels': 'color_2x'},\n",
       " {'question': 'edge-on-bulge',\n",
       "  'mean_loss': 0.49195570026476504,\n",
       "  'channels': 'color_2x'},\n",
       " {'question': 'spiral-winding',\n",
       "  'mean_loss': 0.9382972125740999,\n",
       "  'channels': 'color_2x'},\n",
       " {'question': 'spiral-arm-count',\n",
       "  'mean_loss': 1.4549831992242677,\n",
       "  'channels': 'color_2x'},\n",
       " {'question': 'merging',\n",
       "  'mean_loss': 3.379351485432598,\n",
       "  'channels': 'color_2x'}]"
      ]
     },
     "execution_count": 45,
     "metadata": {},
     "output_type": "execute_result"
    }
   ],
   "source": [
    "mean_loss_by_q = loss.mean(axis=0)\n",
    "rows = [{'question': question.text, 'mean_loss': l, 'channels': 'color_2x'} for question, l in zip(schema.questions, mean_loss_by_q)]\n",
    "rows"
   ]
  },
  {
   "cell_type": "code",
   "execution_count": 46,
   "metadata": {},
   "outputs": [],
   "source": [
    "\n",
    "data = pd.DataFrame(data=rows)\n",
    "# data.to_csv('mean_loss_color_dist.csv', index=False)"
   ]
  },
  {
   "cell_type": "code",
   "execution_count": 49,
   "metadata": {},
   "outputs": [
    {
     "data": {
      "image/png": "[encoded data removed]",
      "text/plain": [
       "<Figure size 432x576 with 1 Axes>"
      ]
     },
     "metadata": {},
     "output_type": "display_data"
    }
   ],
   "source": [
    "\n",
    "data_color = pd.read_csv('mean_loss_color.csv')\n",
    "data_greyscale = pd.read_csv('mean_loss_greyscale.csv')\n",
    "data_color_2x = pd.read_csv('mean_loss_color_dist.csv')\n",
    "data = pd.concat([data_greyscale, data_color, data_color_2x])\n",
    "                             \n",
    "sns.set_style('whitegrid', {'axes.edgecolor': '0.2'})\n",
    "sns.set_context('notebook')\n",
    "# sns.set_palette(repeating_palette)\n",
    "fig, ax = plt.subplots(figsize=(6, 8))\n",
    "sns.barplot(data=data, y='question', x='mean_loss', hue='channels', ax=ax)\n",
    "plt.xlabel('Mean Loss')\n",
    "plt.ylabel('')\n",
    "fig.tight_layout()\n",
    "# plt.savefig('mean_deviation_bar.pdf')"
   ]
  },
  {
   "cell_type": "markdown",
   "metadata": {},
   "source": [
    "# Discrete Metrics"
   ]
  },
  {
   "cell_type": "code",
   "execution_count": 33,
   "metadata": {},
   "outputs": [],
   "source": [
    "def get_label(text, question):\n",
    "    return clean_text(text.replace(question.text, '').title())"
   ]
  },
  {
   "cell_type": "code",
   "execution_count": 34,
   "metadata": {},
   "outputs": [],
   "source": [
    "def clean_text(text):\n",
    "    return text.replace('-', ' ').replace('_', '').title()"
   ]
  },
  {
   "cell_type": "code",
   "execution_count": 35,
   "metadata": {},
   "outputs": [],
   "source": [
    "def filter_to_sensible(label_df, predictions, question):\n",
    "#     if prev_a is not None:\n",
    "#         prev_q = prev_a.question\n",
    "#         prev_q_cols = [answer.text + '_fraction' for answer in prev_q.answers]\n",
    "#         is_sensible = (label_df[prev_a.text + '_fraction'] / label_df[prev_q_cols].sum(axis=1)) > 0.5\n",
    "#         valid_labels, valid_predictions = label_df[is_sensible], predicted_fractions[is_sensible]\n",
    "#     else:\n",
    "#         valid_labels, valid_predictions = label_df, predicted_fractions\n",
    "    retirement = 1\n",
    "    samples = np.expand_dims(predictions, axis=-1)\n",
    "    expected_votes = acquisition_utils.get_expected_votes_human(label_df, question, retirement, schema, round_votes=False)\n",
    "    if not isinstance(expected_votes, np.ndarray):\n",
    "        expected_votes = expected_votes.numpy()  # hack, should fix properly...\n",
    "#     print(expected_votes)\n",
    "    is_sensible = expected_votes > 0.5\n",
    "    valid_labels, valid_predictions = label_df[is_sensible], predictions[is_sensible]\n",
    "    return valid_labels, valid_predictions\n",
    "\n",
    "\n",
    "# def get_binary_answers(question, label_df, predicted_fractions):\n",
    "#     # previous question should be valid\n",
    "#     valid_labels, valid_predictions = filter_to_sensible(label_df, predicted_fractions, question)\n",
    "#     cols = [answer.text + '_fraction' for answer in question.answers]\n",
    "#     y_true = np.argmax(valid_labels[cols].values, axis=1)\n",
    "#     y_pred = np.argmax(valid_predictions[:, question.start_index:question.end_index+1], axis=1)\n",
    "#     return y_true, y_pred\n",
    "    \n",
    "    \n",
    "# def print_metrics(question, label_df, predicted_fractions):\n",
    "#     y_true, y_pred = get_binary_answers(question, label_df, predicted_fractions)\n",
    "#     print('Acc: {:.4f}, Precision: {:.4f}, Recall: {:.4f}, F1: {:.4f} <- {})'.format(\n",
    "#         metrics.accuracy_score(y_true, y_pred),\n",
    "#         metrics.precision_score(y_true, y_pred, average='micro'),\n",
    "#         metrics.recall_score(y_true, y_pred, average='micro'),\n",
    "#         metrics.f1_score(y_true, y_pred, average='micro'),\n",
    "#         question.text\n",
    "#     ))\n",
    "\n",
    "# def show_confusion_matrix(question, label_df, predicted_fractions):\n",
    "    \n",
    "#     y_true, y_pred = get_binary_answers(question, label_df, predicted_fractions)\n",
    "#     cm = confusion_matrix(y_true, y_pred)\n",
    "\n",
    "#     labels = [get_label(a.text, question) for a in question.answers]\n",
    "    \n",
    "#     fig, ax = plt.subplots()\n",
    "#     ax.set_title(clean_text(question.text))\n",
    "\n",
    "#     return sns.heatmap(\n",
    "#         cm,\n",
    "#         annot=True,\n",
    "#         cmap='Blues',\n",
    "#         fmt='d',\n",
    "#         xticklabels=labels,\n",
    "#         yticklabels=labels,\n",
    "#         cbar=False,\n",
    "#         annot_kws={\"size\": 14},\n",
    "#         ax=ax,\n",
    "#         square=True,\n",
    "#         robust=True\n",
    "#     )\n"
   ]
  },
  {
   "cell_type": "code",
   "execution_count": 36,
   "metadata": {},
   "outputs": [
    {
     "data": {
      "text/plain": [
       "10700"
      ]
     },
     "execution_count": 36,
     "metadata": {},
     "output_type": "execute_result"
    }
   ],
   "source": [
    "len(retired)"
   ]
  },
  {
   "cell_type": "code",
   "execution_count": 37,
   "metadata": {},
   "outputs": [
    {
     "data": {
      "text/plain": [
       "2530"
      ]
     },
     "execution_count": 37,
     "metadata": {},
     "output_type": "execute_result"
    }
   ],
   "source": [
    "np.sum((retired['smooth-or-featured_featured-or-disk_fraction'] * retired['disk-edge-on_no_fraction']) > 0.5)"
   ]
  },
  {
   "cell_type": "code",
   "execution_count": 38,
   "metadata": {},
   "outputs": [
    {
     "name": "stderr",
     "output_type": "stream",
     "text": [
      "/home/walml/anaconda3/envs/zoobot/lib/python3.7/site-packages/ipykernel_launcher.py:15: RuntimeWarning: invalid value encountered in greater\n",
      "  from ipykernel import kernelapp as app\n"
     ]
    },
    {
     "data": {
      "text/plain": [
       "2530"
      ]
     },
     "execution_count": 38,
     "metadata": {},
     "output_type": "execute_result"
    }
   ],
   "source": [
    "valid_labels, valid_predictions = filter_to_sensible(retired, predicted_fractions, schema.get_question('has-spiral-arms'))\n",
    "len(valid_labels)"
   ]
  },
  {
   "cell_type": "code",
   "execution_count": 39,
   "metadata": {},
   "outputs": [],
   "source": [
    "retirement = 1  # assumed number of votes at top question\n",
    "# votes for specific question, given fraction predictions and retirement (=1)\n",
    "expected_votes = acquisition_utils.get_expected_votes_human(retired, question, retirement, schema, round_votes=False)  "
   ]
  },
  {
   "cell_type": "code",
   "execution_count": 40,
   "metadata": {},
   "outputs": [],
   "source": [
    "def get_binary_responses(question, label_df, predicted_fractions):\n",
    "    # previous question should be valid\n",
    "    valid_labels, valid_predictions = filter_to_sensible(label_df, predicted_fractions, question)\n",
    "    cols = [answer.text + '_fraction' for answer in question.answers]\n",
    "    # most likely answer, might be less than .5 though\n",
    "    y_true = np.argmax(valid_labels[cols].values, axis=1)\n",
    "    y_pred = np.argmax(valid_predictions[:, question.start_index:question.end_index+1], axis=1)\n",
    "    return y_true, y_pred\n",
    "\n",
    "def print_metrics(question, label_df, predicted_fractions):\n",
    "    y_true, y_pred = get_binary_responses(question, label_df, predicted_fractions)\n",
    "#     print(pd.value_counts(y_pred))\n",
    "#     average = 'micro'\n",
    "    average = 'weighted'\n",
    "    \n",
    "    # human\n",
    "#     print('Acc: {:.4f}, Precision: {:.4f}, Recall: {:.4f}, F1: {:.4f} <- {}'.format(\n",
    "#         sklearn.metrics.accuracy_score(y_true, y_pred),\n",
    "#         sklearn.metrics.precision_score(y_true, y_pred, average=average),\n",
    "#         sklearn.metrics.recall_score(y_true, y_pred, average=average),\n",
    "#         sklearn.metrics.f1_score(y_true, y_pred, average=average),\n",
    "#         question.text\n",
    "#     ))\n",
    "    # latex\n",
    "    print('{} & {} & {:.4f} & {:.4f} & {:.4f} & {:.4f} \\\\\\\\'.format(\n",
    "        question.text.replace('-', ' ').replace('_', ' ').title(),\n",
    "        len(y_true),\n",
    "        sklearn.metrics.accuracy_score(y_true, y_pred),\n",
    "        sklearn.metrics.precision_score(y_true, y_pred, average=average),\n",
    "        sklearn.metrics.recall_score(y_true, y_pred, average=average),\n",
    "        sklearn.metrics.f1_score(y_true, y_pred, average=average)\n",
    "))\n",
    "\n",
    "    \n",
    "def show_confusion_matrix(question, label_df, predicted_fractions, ax=None, blank_yticks=False, add_title=False):\n",
    "    y_true, y_pred = get_binary_responses(question, label_df, predicted_fractions)\n",
    "    \n",
    "    labels = range(len(question.answers))\n",
    "    cm = confusion_matrix(y_true, y_pred, labels=labels)\n",
    "    \n",
    "    ticklabels = [get_label(a.text, question) for a in question.answers]\n",
    "    \n",
    "    # manual tweaks\n",
    "    for n in range(len(ticklabels)):\n",
    "        if ticklabels[n] == 'Featured Or Disk':\n",
    "            ticklabels[n] = 'Featured/Disk'\n",
    "        elif ticklabels[n] == 'Cigar Shaped':\n",
    "            ticklabels[n] = 'Cigar'\n",
    "        elif ticklabels[n] == 'More Than 4':\n",
    "            ticklabels[n] = '>4'\n",
    "        elif ticklabels[n] == 'Cant Tell':\n",
    "            ticklabels[n] = '?'\n",
    "        elif ticklabels[n] == 'Minor Disturbance':\n",
    "            ticklabels[n] = 'Minor Dist.'\n",
    "        elif ticklabels[n] == 'Major Disturbance':\n",
    "            ticklabels[n] = 'Major Dist.'\n",
    "            \n",
    "    if ax is None:\n",
    "        _, ax = plt.subplots()\n",
    "    \n",
    "    if add_title:\n",
    "        ax.set_title(clean_text(question.text))\n",
    "\n",
    "    if blank_yticks:\n",
    "#         yticklabels = ['' for _ in ticklabels]\n",
    "        yticklabels = [''.join([' '] * len(s)) for s in ticklabels]\n",
    "    else:\n",
    "        yticklabels = ticklabels\n",
    "    return sns.heatmap(\n",
    "        cm,\n",
    "        annot=True,\n",
    "        cmap='Blues',\n",
    "        fmt='d',\n",
    "        xticklabels=ticklabels,\n",
    "        yticklabels=yticklabels,\n",
    "        cbar=False,\n",
    "#         annot_kws={\"size\": 14},\n",
    "        ax=ax,\n",
    "        square=True,\n",
    "        robust=True\n",
    "    )\n"
   ]
  },
  {
   "cell_type": "markdown",
   "metadata": {},
   "source": [
    "## Metrics for all (sensible) galaxies"
   ]
  },
  {
   "cell_type": "code",
   "execution_count": 41,
   "metadata": {},
   "outputs": [
    {
     "name": "stdout",
     "output_type": "stream",
     "text": [
      "Question & Count & Accuracy & Precision & Recall & F1 \\\n",
      "\\hline \\hline\n",
      "Smooth Or Featured & 10700 & 0.9151 & 0.9155 & 0.9151 & 0.9152 \\\\\n",
      "Disk Edge On & 3374 & 0.9840 & 0.9841 & 0.9840 & 0.9840 \\\\\n",
      "Has Spiral Arms & 2530 & 0.9004 & 0.9140 & 0.9004 & 0.9058 \\\\\n",
      "Bar & 2530 & 0.7502 & 0.7365 & 0.7502 & 0.7273 \\\\\n",
      "Bulge Size & 2530 & 0.7917 & 0.7952 & 0.7917 & 0.7896 \\\\\n",
      "How Rounded & 6632 & 0.9133 & 0.9154 & 0.9133 & 0.9134 \\\\\n",
      "Edge On Bulge & 445 & 0.8899 & 0.8907 & 0.8899 & 0.8868 \\\\\n",
      "Spiral Winding & 1770 & 0.7599 & 0.7539 & 0.7599 & 0.7530 \\\\\n",
      "Spiral Arm Count & 1770 & 0.7147 & 0.6661 & 0.7147 & 0.6796 \\\\\n",
      "Merging & 10700 & 0.8795 & 0.8621 & 0.8795 & 0.8518 \\\\\n"
     ]
    },
    {
     "name": "stderr",
     "output_type": "stream",
     "text": [
      "/home/walml/anaconda3/envs/zoobot/lib/python3.7/site-packages/ipykernel_launcher.py:15: RuntimeWarning: invalid value encountered in greater\n",
      "  from ipykernel import kernelapp as app\n",
      "/home/walml/anaconda3/envs/zoobot/lib/python3.7/site-packages/sklearn/metrics/_classification.py:1272: UndefinedMetricWarning: Precision is ill-defined and being set to 0.0 in labels with no predicted samples. Use `zero_division` parameter to control this behavior.\n",
      "  _warn_prf(average, modifier, msg_start, len(result))\n"
     ]
    }
   ],
   "source": [
    "print('Question & Count & Accuracy & Precision & Recall & F1 \\\\')  # need to add second slash back manually\n",
    "print('\\hline \\hline')\n",
    "for question in schema.questions:\n",
    "    print_metrics(question, retired, predicted_fractions)\n",
    "#     plt.savefig('/home/walml/repos/zoobot/results/temp/mean_cm_decals_n2_m0_allq_' + question.text + '.png')"
   ]
  },
  {
   "cell_type": "markdown",
   "metadata": {},
   "source": [
    "Acc: 0.934, Global Precision: 0.934, Recall: 0.934, F1: 0.934 <- smooth-or-featured\n",
    "Acc: 0.988, Global Precision: 0.988, Recall: 0.988, F1: 0.988 <- disk-edge-on\n",
    "Acc: 0.925, Global Precision: 0.925, Recall: 0.925, F1: 0.925 <- has-spiral-arms\n",
    "Acc: 0.830, Global Precision: 0.830, Recall: 0.830, F1: 0.830 <- bar\n",
    "Acc: 0.832, Global Precision: 0.832, Recall: 0.832, F1: 0.832 <- bulge-size\n",
    "Acc: 0.929, Global Precision: 0.929, Recall: 0.929, F1: 0.929 <- how-rounded\n",
    "Acc: 0.921, Global Precision: 0.921, Recall: 0.921, F1: 0.921 <- edge-on-bulge\n",
    "Acc: 0.794, Global Precision: 0.794, Recall: 0.794, F1: 0.794 <- spiral-winding\n",
    "Acc: 0.767, Global Precision: 0.767, Recall: 0.767, F1: 0.767 <- spiral-arm-count\n",
    "Acc: 0.888, Global Precision: 0.888, Recall: 0.888, F1: 0.888 <- merging\n"
   ]
  },
  {
   "cell_type": "code",
   "execution_count": 42,
   "metadata": {},
   "outputs": [],
   "source": [
    "sns.set(font_scale=1.2)"
   ]
  },
  {
   "cell_type": "markdown",
   "metadata": {},
   "source": [
    "## Metrics for All Galaxies"
   ]
  },
  {
   "cell_type": "code",
   "execution_count": 43,
   "metadata": {},
   "outputs": [
    {
     "name": "stderr",
     "output_type": "stream",
     "text": [
      "/home/walml/anaconda3/envs/zoobot/lib/python3.7/site-packages/ipykernel_launcher.py:15: RuntimeWarning: invalid value encountered in greater\n",
      "  from ipykernel import kernelapp as app\n"
     ]
    },
    {
     "data": {
      "image/png": "[encoded data removed]",
      "text/plain": [
       "<Figure size 432x288 with 1 Axes>"
      ]
     },
     "metadata": {},
     "output_type": "display_data"
    },
    {
     "data": {
      "image/png": "[encoded data removed]",
      "text/plain": [
       "<Figure size 432x288 with 1 Axes>"
      ]
     },
     "metadata": {},
     "output_type": "display_data"
    },
    {
     "data": {
      "image/png": "[encoded data removed]",
      "text/plain": [
       "<Figure size 432x288 with 1 Axes>"
      ]
     },
     "metadata": {},
     "output_type": "display_data"
    },
    {
     "data": {
      "image/png": "[encoded data removed]",
      "text/plain": [
       "<Figure size 432x288 with 1 Axes>"
      ]
     },
     "metadata": {},
     "output_type": "display_data"
    },
    {
     "data": {
      "image/png": "[encoded data removed]",
      "text/plain": [
       "<Figure size 432x288 with 1 Axes>"
      ]
     },
     "metadata": {},
     "output_type": "display_data"
    },
    {
     "data": {
      "image/png": "[encoded data removed]",
      "text/plain": [
       "<Figure size 432x288 with 1 Axes>"
      ]
     },
     "metadata": {},
     "output_type": "display_data"
    },
    {
     "data": {
      "image/png": "[encoded data removed]",
      "text/plain": [
       "<Figure size 432x288 with 1 Axes>"
      ]
     },
     "metadata": {},
     "output_type": "display_data"
    },
    {
     "data": {
      "image/png": "[encoded data removed]",
      "text/plain": [
       "<Figure size 432x288 with 1 Axes>"
      ]
     },
     "metadata": {},
     "output_type": "display_data"
    },
    {
     "data": {
      "image/png": "[encoded data removed]",
      "text/plain": [
       "<Figure size 432x288 with 1 Axes>"
      ]
     },
     "metadata": {},
     "output_type": "display_data"
    },
    {
     "data": {
      "image/png": "[encoded data removed]",
      "text/plain": [
       "<Figure size 432x288 with 1 Axes>"
      ]
     },
     "metadata": {},
     "output_type": "display_data"
    }
   ],
   "source": [
    "for question in schema.questions:\n",
    "    fig = show_confusion_matrix(question, retired, predicted_fractions)\n",
    "    plt.tight_layout()\n",
    "#     plt.savefig('/home/walml/repos/zoobot_private/results/temp/thesis_cm_decals_dr_full_ensemble_allq_allconf_' + question.text + '.png')\n",
    "#     plt.clf()  # comment to view, uncomment to save without interfering with each other"
   ]
  },
  {
   "cell_type": "code",
   "execution_count": 38,
   "metadata": {},
   "outputs": [
    {
     "ename": "AssertionError",
     "evalue": "",
     "output_type": "error",
     "traceback": [
      "\u001b[0;31m---------------------------------------------------------------------------\u001b[0m",
      "\u001b[0;31mAssertionError\u001b[0m                            Traceback (most recent call last)",
      "\u001b[0;32m<ipython-input-38-a871fdc9ebee>\u001b[0m in \u001b[0;36m<module>\u001b[0;34m\u001b[0m\n\u001b[0;32m----> 1\u001b[0;31m \u001b[0;32massert\u001b[0m \u001b[0;32mFalse\u001b[0m\u001b[0;34m\u001b[0m\u001b[0;34m\u001b[0m\u001b[0m\n\u001b[0m",
      "\u001b[0;31mAssertionError\u001b[0m: "
     ]
    }
   ],
   "source": [
    "assert False"
   ]
  },
  {
   "cell_type": "markdown",
   "metadata": {},
   "source": [
    "## Metrics for high confidence galaxies\n",
    "\n",
    "Defining high confidence in multi-q case is harder. Perhaps, that fraction for any one answer?"
   ]
  },
  {
   "cell_type": "code",
   "execution_count": 118,
   "metadata": {},
   "outputs": [],
   "source": [
    "# high_confidence = (retired[answer.text + '_fraction'] > 0.8) | (retired[answer.text + '_fraction'] < 0.2)\n",
    "# print_metrics(question, retired[high_confidence], predicted_fractions[high_confidence])\n",
    "\n",
    "# show_confusion_matrix(question, retired[high_confidence], predicted_fractions[high_confidence])"
   ]
  },
  {
   "cell_type": "code",
   "execution_count": 44,
   "metadata": {},
   "outputs": [
    {
     "name": "stdout",
     "output_type": "stream",
     "text": [
      "Question & Count & Accuracy & Precision & Recall & F1 \\\\\n",
      "\\hline \\hline\n",
      "Smooth Or Featured & 3275 & 0.9979 & 0.9979 & 0.9979 & 0.9979 \\\\\n",
      "Disk Edge On & 3087 & 0.9974 & 0.9974 & 0.9974 & 0.9974 \\\\\n",
      "Has Spiral Arms & 1803 & 0.9700 & 0.9810 & 0.9700 & 0.9736 \\\\\n"
     ]
    },
    {
     "name": "stderr",
     "output_type": "stream",
     "text": [
      "/home/walml/anaconda3/envs/zoobot/lib/python3.7/site-packages/ipykernel_launcher.py:8: RuntimeWarning: invalid value encountered in greater\n",
      "  \n"
     ]
    },
    {
     "name": "stdout",
     "output_type": "stream",
     "text": [
      "Bar & 465 & 0.9849 & 0.9914 & 0.9849 & 0.9878 \\\\\n",
      "Bulge Size & 211 & 0.9716 & 0.9716 & 0.9716 & 0.9715 \\\\\n",
      "How Rounded & 3692 & 0.9913 & 0.9914 & 0.9913 & 0.9913 \\\\\n",
      "Edge On Bulge & 229 & 0.9869 & 0.9873 & 0.9869 & 0.9870 \\\\\n",
      "Spiral Winding & 180 & 0.9889 & 1.0000 & 0.9889 & 0.9943 \\\\\n",
      "Spiral Arm Count & 577 & 0.9567 & 0.9700 & 0.9567 & 0.9614 \\\\\n"
     ]
    },
    {
     "name": "stderr",
     "output_type": "stream",
     "text": [
      "/home/walml/anaconda3/envs/zoobot/lib/python3.7/site-packages/sklearn/metrics/_classification.py:1272: UndefinedMetricWarning: Recall is ill-defined and being set to 0.0 in labels with no true samples. Use `zero_division` parameter to control this behavior.\n",
      "  _warn_prf(average, modifier, msg_start, len(result))\n"
     ]
    },
    {
     "name": "stdout",
     "output_type": "stream",
     "text": [
      "Merging & 2967 & 0.9987 & 0.9990 & 0.9987 & 0.9988 \\\\\n"
     ]
    },
    {
     "data": {
      "image/png": "[encoded data removed]",
      "text/plain": [
       "<Figure size 432x288 with 1 Axes>"
      ]
     },
     "metadata": {},
     "output_type": "display_data"
    },
    {
     "data": {
      "image/png": "[encoded data removed]",
      "text/plain": [
       "<Figure size 432x288 with 1 Axes>"
      ]
     },
     "metadata": {},
     "output_type": "display_data"
    },
    {
     "data": {
      "image/png": "[encoded data removed]",
      "text/plain": [
       "<Figure size 432x288 with 1 Axes>"
      ]
     },
     "metadata": {},
     "output_type": "display_data"
    },
    {
     "data": {
      "image/png": "[encoded data removed]",
      "text/plain": [
       "<Figure size 432x288 with 1 Axes>"
      ]
     },
     "metadata": {},
     "output_type": "display_data"
    },
    {
     "data": {
      "image/png": "[encoded data removed]",
      "text/plain": [
       "<Figure size 432x288 with 1 Axes>"
      ]
     },
     "metadata": {},
     "output_type": "display_data"
    },
    {
     "data": {
      "image/png": "[encoded data removed]",
      "text/plain": [
       "<Figure size 432x288 with 1 Axes>"
      ]
     },
     "metadata": {},
     "output_type": "display_data"
    },
    {
     "data": {
      "image/png": "[encoded data removed]",
      "text/plain": [
       "<Figure size 432x288 with 1 Axes>"
      ]
     },
     "metadata": {},
     "output_type": "display_data"
    },
    {
     "data": {
      "image/png": "[encoded data removed]",
      "text/plain": [
       "<Figure size 432x288 with 1 Axes>"
      ]
     },
     "metadata": {},
     "output_type": "display_data"
    },
    {
     "data": {
      "image/png": "[encoded data removed]",
      "text/plain": [
       "<Figure size 432x288 with 1 Axes>"
      ]
     },
     "metadata": {},
     "output_type": "display_data"
    },
    {
     "data": {
      "image/png": "[encoded data removed]",
      "text/plain": [
       "<Figure size 432x288 with 1 Axes>"
      ]
     },
     "metadata": {},
     "output_type": "display_data"
    }
   ],
   "source": [
    "print(r'Question & Count & Accuracy & Precision & Recall & F1 \\\\')\n",
    "print('\\hline \\hline')\n",
    "for question in schema.questions:\n",
    "#     if len(question.answers) == 2:\n",
    "#         answer = question.answers[0]\n",
    "    answers = question.answers\n",
    "    fractions = np.array([retired[answer.text + '_fraction'] for answer in answers])\n",
    "    high_confidence = np.any(fractions > 0.8, axis=0)\n",
    "    print_metrics(question, retired[high_confidence], predicted_fractions[high_confidence])\n",
    "    fig = show_confusion_matrix(question, retired[high_confidence], predicted_fractions[high_confidence])\n",
    "    plt.tight_layout()\n",
    "#     plt.savefig('/home/walml/repos/zoobot/results/temp/thesis_cm_decals_dr_full_ensemble_allq_highconf_' + question.text + '.png')\n",
    "#     plt.clf()  # comment to view, uncomment to save without interfering with each other"
   ]
  },
  {
   "cell_type": "code",
   "execution_count": null,
   "metadata": {},
   "outputs": [],
   "source": [
    "assert False"
   ]
  },
  {
   "cell_type": "code",
   "execution_count": null,
   "metadata": {},
   "outputs": [],
   "source": []
  },
  {
   "cell_type": "markdown",
   "metadata": {},
   "source": [
    "## Metrics for Both"
   ]
  },
  {
   "cell_type": "code",
   "execution_count": 58,
   "metadata": {},
   "outputs": [
    {
     "ename": "AttributeError",
     "evalue": "'Figure' object has no attribute 'subplot_mosaic'",
     "output_type": "error",
     "traceback": [
      "\u001b[0;31m---------------------------------------------------------------------------\u001b[0m",
      "\u001b[0;31mAttributeError\u001b[0m                            Traceback (most recent call last)",
      "\u001b[0;32m<ipython-input-58-7659d499b0c8>\u001b[0m in \u001b[0;36m<module>\u001b[0;34m\u001b[0m\n\u001b[0;32m----> 1\u001b[0;31m axd = plt.figure(constrained_layout=True).subplot_mosaic(\n\u001b[0m\u001b[1;32m      2\u001b[0m     \"\"\"\n\u001b[1;32m      3\u001b[0m     \u001b[0mABD\u001b[0m\u001b[0;34m\u001b[0m\u001b[0;34m\u001b[0m\u001b[0m\n\u001b[1;32m      4\u001b[0m     \u001b[0mCCD\u001b[0m\u001b[0;34m\u001b[0m\u001b[0;34m\u001b[0m\u001b[0m\n\u001b[1;32m      5\u001b[0m     \"\"\"\n",
      "\u001b[0;31mAttributeError\u001b[0m: 'Figure' object has no attribute 'subplot_mosaic'"
     ]
    },
    {
     "data": {
      "text/plain": [
       "<Figure size 432x288 with 0 Axes>"
      ]
     },
     "metadata": {},
     "output_type": "display_data"
    }
   ],
   "source": [
    "# axd = plt.figure(constrained_layout=True).subplot_mosaic(\n",
    "#     \"\"\"\n",
    "#     ABD\n",
    "#     CCD\n",
    "#     \"\"\"\n",
    "# )\n",
    "# https://matplotlib.org/stable/tutorials/provisional/mosaic.html#sphx-glr-tutorials-provisional-mosaic-py\n",
    "# not yet released"
   ]
  },
  {
   "cell_type": "code",
   "execution_count": 139,
   "metadata": {},
   "outputs": [
    {
     "data": {
      "text/plain": [
       "Text(-0.5, 0.5, 'Merging')"
      ]
     },
     "execution_count": 139,
     "metadata": {},
     "output_type": "execute_result"
    },
    {
     "data": {
      "image/png": "[encoded data removed]",
      "text/plain": [
       "<Figure size 756x360 with 6 Axes>"
      ]
     },
     "metadata": {},
     "output_type": "display_data"
    }
   ],
   "source": [
    "\n",
    "fig = plt.figure(constrained_layout=True, figsize=(10.5, 5))\n",
    "gs = fig.add_gridspec(8, 10)\n",
    "\n",
    "ax0 = fig.add_subplot(gs[:6, 0])\n",
    "ax1 = fig.add_subplot(gs[:6, 1:5])\n",
    "ax2 = fig.add_subplot(gs[:6, 6:])\n",
    "\n",
    "ax3 = fig.add_subplot(gs[6:, 1:5])\n",
    "ax4 = fig.add_subplot(gs[6:, 6:])\n",
    "\n",
    "ax5 = fig.add_subplot(gs[:6, 5:6])\n",
    "\n",
    "label_size = 16\n",
    "ax3.text(0.5, 0.75, 'True', horizontalalignment='center', verticalalignment='center', fontsize=label_size)\n",
    "ax4.text(0.5, 0.75, 'True', horizontalalignment='center', verticalalignment='center', fontsize=label_size)\n",
    "\n",
    "ax0.text(0.8, 0.5, 'Predicted', rotation='vertical', horizontalalignment='center', verticalalignment='center', fontsize=label_size)\n",
    "ax0.text(-0.5, 0.5, clean_text(question.text), rotation='vertical', horizontalalignment='center', verticalalignment='center', fontsize=label_size)\n"
   ]
  },
  {
   "cell_type": "code",
   "execution_count": 145,
   "metadata": {},
   "outputs": [
    {
     "name": "stdout",
     "output_type": "stream",
     "text": [
      "smooth-or-featured\n",
      "disk-edge-on\n"
     ]
    },
    {
     "name": "stderr",
     "output_type": "stream",
     "text": [
      "/home/walml/anaconda3/envs/zoobot/lib/python3.7/site-packages/ipykernel_launcher.py:21: RuntimeWarning: invalid value encountered in greater\n"
     ]
    },
    {
     "name": "stdout",
     "output_type": "stream",
     "text": [
      "has-spiral-arms\n"
     ]
    },
    {
     "name": "stderr",
     "output_type": "stream",
     "text": [
      "/home/walml/anaconda3/envs/zoobot/lib/python3.7/site-packages/ipykernel_launcher.py:15: RuntimeWarning: invalid value encountered in greater\n",
      "  from ipykernel import kernelapp as app\n"
     ]
    },
    {
     "name": "stdout",
     "output_type": "stream",
     "text": [
      "bar\n",
      "bulge-size\n",
      "how-rounded\n",
      "edge-on-bulge\n",
      "spiral-winding\n",
      "spiral-arm-count\n",
      "merging\n"
     ]
    },
    {
     "data": {
      "text/plain": [
       "<Figure size 756x360 with 0 Axes>"
      ]
     },
     "metadata": {},
     "output_type": "display_data"
    },
    {
     "data": {
      "text/plain": [
       "<Figure size 756x360 with 0 Axes>"
      ]
     },
     "metadata": {},
     "output_type": "display_data"
    },
    {
     "data": {
      "text/plain": [
       "<Figure size 756x360 with 0 Axes>"
      ]
     },
     "metadata": {},
     "output_type": "display_data"
    },
    {
     "data": {
      "text/plain": [
       "<Figure size 756x360 with 0 Axes>"
      ]
     },
     "metadata": {},
     "output_type": "display_data"
    },
    {
     "data": {
      "text/plain": [
       "<Figure size 756x360 with 0 Axes>"
      ]
     },
     "metadata": {},
     "output_type": "display_data"
    },
    {
     "data": {
      "text/plain": [
       "<Figure size 756x360 with 0 Axes>"
      ]
     },
     "metadata": {},
     "output_type": "display_data"
    },
    {
     "data": {
      "text/plain": [
       "<Figure size 756x360 with 0 Axes>"
      ]
     },
     "metadata": {},
     "output_type": "display_data"
    },
    {
     "data": {
      "text/plain": [
       "<Figure size 756x360 with 0 Axes>"
      ]
     },
     "metadata": {},
     "output_type": "display_data"
    },
    {
     "data": {
      "text/plain": [
       "<Figure size 756x360 with 0 Axes>"
      ]
     },
     "metadata": {},
     "output_type": "display_data"
    },
    {
     "data": {
      "text/plain": [
       "<Figure size 756x360 with 0 Axes>"
      ]
     },
     "metadata": {},
     "output_type": "display_data"
    }
   ],
   "source": [
    "for question in schema.questions:\n",
    "    print(question.text)\n",
    "    \n",
    "\n",
    "    fig = plt.figure(constrained_layout=True, figsize=(10.5, 5))\n",
    "    gs = fig.add_gridspec(8, 10)\n",
    "\n",
    "    ax0 = fig.add_subplot(gs[:6, 0])\n",
    "    ax1 = fig.add_subplot(gs[:6, 1:5])\n",
    "    ax2 = fig.add_subplot(gs[:6, 6:])\n",
    "\n",
    "    ax3 = fig.add_subplot(gs[6:, 1:5])\n",
    "    ax4 = fig.add_subplot(gs[6:, 6:])\n",
    "\n",
    "    ax5 = fig.add_subplot(gs[:6, 5:6])\n",
    "    \n",
    "#     fig, (ax0, ax1) = plt.subplots(ncols=2, figsize=(10, 10))\n",
    "    fig = show_confusion_matrix(question, retired, predicted_fractions, ax=ax1)\n",
    "\n",
    "    fractions = np.array([retired[answer.text + '_fraction'] for answer in question.answers])\n",
    "    high_confidence = np.any(fractions > 0.8, axis=0)\n",
    "    fig = show_confusion_matrix(question, retired[high_confidence], predicted_fractions[high_confidence], ax=ax2, blank_yticks=False)\n",
    "    \n",
    "    label_size = 16\n",
    "    ax3.text(0.5, 0.75, 'True', horizontalalignment='center', verticalalignment='center', fontsize=label_size)\n",
    "    ax4.text(0.5, 0.75, 'True', horizontalalignment='center', verticalalignment='center', fontsize=label_size)\n",
    "\n",
    "    ax0.text(0.8, 0.5, 'Predicted', rotation='vertical', horizontalalignment='center', verticalalignment='center', fontsize=label_size)\n",
    "    ax0.text(-0.5, 0.5, clean_text(question.text), rotation='vertical', horizontalalignment='center', verticalalignment='center', fontsize=label_size, weight='bold')\n",
    "\n",
    "    for ax in [ax0, ax3, ax4, ax5]:\n",
    "        ax.grid('off')\n",
    "        ax.axis('off')\n",
    "        \n",
    "    # comment to view vs save. clf needed to not interfere with each other\n",
    "    plt.savefig('/home/walml/repos/zoobot_private/results/temp/cm_decals_dr_full_ensemble_paired_' + question.text + '.png')\n",
    "    plt.clf()  \n",
    "    "
   ]
  },
  {
   "cell_type": "code",
   "execution_count": null,
   "metadata": {},
   "outputs": [],
   "source": []
  },
  {
   "cell_type": "code",
   "execution_count": null,
   "metadata": {},
   "outputs": [],
   "source": []
  },
  {
   "cell_type": "code",
   "execution_count": 35,
   "metadata": {},
   "outputs": [
    {
     "name": "stderr",
     "output_type": "stream",
     "text": [
      "/home/walml/anaconda3/envs/zoobot/lib/python3.7/site-packages/ipykernel_launcher.py:3: SettingWithCopyWarning: \n",
      "A value is trying to be set on a copy of a slice from a DataFrame.\n",
      "Try using .loc[row_indexer,col_indexer] = value instead\n",
      "\n",
      "See the caveats in the documentation: https://pandas.pydata.org/pandas-docs/stable/user_guide/indexing.html#returning-a-view-versus-a-copy\n",
      "  This is separate from the ipykernel package so we can avoid doing imports until\n"
     ]
    }
   ],
   "source": [
    "for question in schema.questions:\n",
    "    for answer in question.answers:\n",
    "        retired[answer.text + '_ml_fraction'] = predicted_fractions[:, answer.index]"
   ]
  },
  {
   "cell_type": "code",
   "execution_count": 36,
   "metadata": {},
   "outputs": [],
   "source": [
    "question = schema.get_question('spiral-arm-count')\n",
    "answer = schema.get_answer('spiral-arm-count_cant-tell')"
   ]
  },
  {
   "cell_type": "code",
   "execution_count": 37,
   "metadata": {},
   "outputs": [],
   "source": [
    "confused_cant_tell_arms = retired[answer.text + '_fraction'] "
   ]
  },
  {
   "cell_type": "code",
   "execution_count": 38,
   "metadata": {},
   "outputs": [
    {
     "name": "stderr",
     "output_type": "stream",
     "text": [
      "/home/walml/anaconda3/envs/zoobot/lib/python3.7/site-packages/ipykernel_launcher.py:15: RuntimeWarning: invalid value encountered in greater\n",
      "  from ipykernel import kernelapp as app\n"
     ]
    }
   ],
   "source": [
    "\n",
    "\n",
    "valid_labels, valid_predictions = filter_to_sensible(retired, predicted_fractions, question)\n",
    "y_true, y_pred = get_binary_responses(question, valid_labels, valid_predictions)"
   ]
  },
  {
   "cell_type": "code",
   "execution_count": 39,
   "metadata": {},
   "outputs": [],
   "source": [
    "cant_tell_confused_with_two = (y_true == 5) & (y_pred == 1)\n",
    "two_confused_with_cant_tell = (y_true == 1) & (y_pred == 5)"
   ]
  },
  {
   "cell_type": "code",
   "execution_count": 40,
   "metadata": {},
   "outputs": [
    {
     "data": {
      "text/plain": [
       "array(['[\"https://panoptes-uploads.zooniverse.org/production/subject_location/7d6d6cad-de5c-4243-bc1f-6b0ac0e73596.png\"]',\n",
       "       '[\"https://panoptes-uploads.zooniverse.org/production/subject_location/72ceb6be-1873-4c5e-8d42-5e3f20b6ca9b.png\"]',\n",
       "       '[\"https://panoptes-uploads.zooniverse.org/production/subject_location/e8bf70c8-32f7-4db6-a667-51d726905af3.png\"]',\n",
       "       '[\"https://panoptes-uploads.zooniverse.org/production/subject_location/14e26ad2-7250-47f1-8fa2-83ac20d75626.png\"]',\n",
       "       '[\"https://panoptes-uploads.zooniverse.org/production/subject_location/0e06788b-27e0-49b7-b703-1cbae1255774.png\"]'],\n",
       "      dtype=object)"
      ]
     },
     "execution_count": 40,
     "metadata": {},
     "output_type": "execute_result"
    }
   ],
   "source": [
    "valid_labels[cant_tell_confused_with_two]['locations'].values[:5]"
   ]
  },
  {
   "cell_type": "code",
   "execution_count": 41,
   "metadata": {},
   "outputs": [
    {
     "data": {
      "text/plain": [
       "1        0.909988\n",
       "3        0.489325\n",
       "4        0.939987\n",
       "5        0.262811\n",
       "6        0.491270\n",
       "           ...   \n",
       "49609    0.171202\n",
       "49627    0.373450\n",
       "49652    0.308567\n",
       "49671    0.351261\n",
       "49680    0.183243\n",
       "Name: spiral-arm-count_2_ml_fraction, Length: 11346, dtype: float32"
      ]
     },
     "execution_count": 41,
     "metadata": {},
     "output_type": "execute_result"
    }
   ],
   "source": [
    "retired['spiral-arm-count_2_ml_fraction']"
   ]
  },
  {
   "cell_type": "code",
   "execution_count": 42,
   "metadata": {},
   "outputs": [
    {
     "data": {
      "text/plain": [
       "1        0.034408\n",
       "3        0.047830\n",
       "4        0.013235\n",
       "5        0.280942\n",
       "6        0.248969\n",
       "           ...   \n",
       "49609    0.587892\n",
       "49627    0.377485\n",
       "49652    0.247354\n",
       "49671    0.421153\n",
       "49680    0.445591\n",
       "Name: spiral-arm-count_cant-tell_ml_fraction, Length: 11346, dtype: float32"
      ]
     },
     "execution_count": 42,
     "metadata": {},
     "output_type": "execute_result"
    }
   ],
   "source": [
    "retired['spiral-arm-count_cant-tell_ml_fraction']"
   ]
  },
  {
   "cell_type": "code",
   "execution_count": 43,
   "metadata": {},
   "outputs": [],
   "source": [
    "# copied from trust_the_model.ipynb\n",
    "def show_galaxies(df, scale=3, nrows=6, ncols=6):\n",
    "    fig = plt.gcf()\n",
    "\n",
    "    plt.figure(figsize=(scale * nrows * 1.505, scale * ncols / 2.59))\n",
    "    gs1 = gridspec.GridSpec(nrows, ncols)\n",
    "    gs1.update(wspace=0.0, hspace=0.0)\n",
    "    galaxy_n = 0\n",
    "    for row_n in range(nrows):\n",
    "        for col_n in range(ncols):\n",
    "            galaxy = df.iloc[galaxy_n]\n",
    "            image = Image.open(galaxy['file_loc'])\n",
    "            ax = plt.subplot(gs1[row_n, col_n])\n",
    "            ax.imshow(image)\n",
    "            ax.text(35, 50, 'Vol: 2={:.2f}, ?={:.2f}'.format(galaxy['spiral-arm-count_2_fraction'], galaxy['spiral-arm-count_cant-tell_fraction']), fontsize=12, color='r')\n",
    "            ax.text(35, 100, 'ML: 2={:.2f}, ?={:.2f}'.format(galaxy['spiral-arm-count_2_ml_fraction'], galaxy['spiral-arm-count_cant-tell_ml_fraction']), fontsize=12, color='r')\n",
    "#             ax.text(10, 50, r'$\\rho = {:.2f}$, Var ${:.3f}$'.format(galaxy['median_prediction'], 3*galaxy['predictions_var']), fontsize=12, color='r')\n",
    "#             ax.text(10, 80, '$L = {:.2f}$'.format(galaxy['bcnn_likelihood']), fontsize=12, color='r')\n",
    "            ax.axis('off')\n",
    "            galaxy_n += 1\n",
    "#     print('Mean L: {:.2f}'.format(df[:nrows * ncols]['bcnn_likelihood'].mean()))\n",
    "    fig = plt.gcf()\n",
    "    fig.tight_layout()\n",
    "    return fig\n"
   ]
  },
  {
   "cell_type": "code",
   "execution_count": 44,
   "metadata": {},
   "outputs": [
    {
     "ename": "PermissionError",
     "evalue": "[Errno 13] Permission denied: '/media/walml/beta/decals/png_native/dr5/J130/J130836.21-022016.2.png'",
     "output_type": "error",
     "traceback": [
      "\u001b[0;31m---------------------------------------------------------------------------\u001b[0m",
      "\u001b[0;31mPermissionError\u001b[0m                           Traceback (most recent call last)",
      "\u001b[0;32m<ipython-input-44-51d871078e54>\u001b[0m in \u001b[0;36m<module>\u001b[0;34m\u001b[0m\n\u001b[0;32m----> 1\u001b[0;31m \u001b[0m_\u001b[0m \u001b[0;34m=\u001b[0m \u001b[0mshow_galaxies\u001b[0m\u001b[0;34m(\u001b[0m\u001b[0mvalid_labels\u001b[0m\u001b[0;34m[\u001b[0m\u001b[0mcant_tell_confused_with_two\u001b[0m\u001b[0;34m]\u001b[0m\u001b[0;34m.\u001b[0m\u001b[0msample\u001b[0m\u001b[0;34m(\u001b[0m\u001b[0;36m8\u001b[0m\u001b[0;34m)\u001b[0m\u001b[0;34m,\u001b[0m \u001b[0mnrows\u001b[0m\u001b[0;34m=\u001b[0m\u001b[0;36m2\u001b[0m\u001b[0;34m,\u001b[0m \u001b[0mncols\u001b[0m\u001b[0;34m=\u001b[0m\u001b[0;36m4\u001b[0m\u001b[0;34m)\u001b[0m\u001b[0;34m\u001b[0m\u001b[0;34m\u001b[0m\u001b[0m\n\u001b[0m",
      "\u001b[0;32m<ipython-input-43-d470de5d1a68>\u001b[0m in \u001b[0;36mshow_galaxies\u001b[0;34m(df, scale, nrows, ncols)\u001b[0m\n\u001b[1;32m     10\u001b[0m         \u001b[0;32mfor\u001b[0m \u001b[0mcol_n\u001b[0m \u001b[0;32min\u001b[0m \u001b[0mrange\u001b[0m\u001b[0;34m(\u001b[0m\u001b[0mncols\u001b[0m\u001b[0;34m)\u001b[0m\u001b[0;34m:\u001b[0m\u001b[0;34m\u001b[0m\u001b[0;34m\u001b[0m\u001b[0m\n\u001b[1;32m     11\u001b[0m             \u001b[0mgalaxy\u001b[0m \u001b[0;34m=\u001b[0m \u001b[0mdf\u001b[0m\u001b[0;34m.\u001b[0m\u001b[0miloc\u001b[0m\u001b[0;34m[\u001b[0m\u001b[0mgalaxy_n\u001b[0m\u001b[0;34m]\u001b[0m\u001b[0;34m\u001b[0m\u001b[0;34m\u001b[0m\u001b[0m\n\u001b[0;32m---> 12\u001b[0;31m             \u001b[0mimage\u001b[0m \u001b[0;34m=\u001b[0m \u001b[0mImage\u001b[0m\u001b[0;34m.\u001b[0m\u001b[0mopen\u001b[0m\u001b[0;34m(\u001b[0m\u001b[0mgalaxy\u001b[0m\u001b[0;34m[\u001b[0m\u001b[0;34m'file_loc'\u001b[0m\u001b[0;34m]\u001b[0m\u001b[0;34m)\u001b[0m\u001b[0;34m\u001b[0m\u001b[0;34m\u001b[0m\u001b[0m\n\u001b[0m\u001b[1;32m     13\u001b[0m             \u001b[0max\u001b[0m \u001b[0;34m=\u001b[0m \u001b[0mplt\u001b[0m\u001b[0;34m.\u001b[0m\u001b[0msubplot\u001b[0m\u001b[0;34m(\u001b[0m\u001b[0mgs1\u001b[0m\u001b[0;34m[\u001b[0m\u001b[0mrow_n\u001b[0m\u001b[0;34m,\u001b[0m \u001b[0mcol_n\u001b[0m\u001b[0;34m]\u001b[0m\u001b[0;34m)\u001b[0m\u001b[0;34m\u001b[0m\u001b[0;34m\u001b[0m\u001b[0m\n\u001b[1;32m     14\u001b[0m             \u001b[0max\u001b[0m\u001b[0;34m.\u001b[0m\u001b[0mimshow\u001b[0m\u001b[0;34m(\u001b[0m\u001b[0mimage\u001b[0m\u001b[0;34m)\u001b[0m\u001b[0;34m\u001b[0m\u001b[0;34m\u001b[0m\u001b[0m\n",
      "\u001b[0;32m~/anaconda3/envs/zoobot/lib/python3.7/site-packages/PIL/Image.py\u001b[0m in \u001b[0;36mopen\u001b[0;34m(fp, mode)\u001b[0m\n\u001b[1;32m   2841\u001b[0m \u001b[0;34m\u001b[0m\u001b[0m\n\u001b[1;32m   2842\u001b[0m     \u001b[0;32mif\u001b[0m \u001b[0mfilename\u001b[0m\u001b[0;34m:\u001b[0m\u001b[0;34m\u001b[0m\u001b[0;34m\u001b[0m\u001b[0m\n\u001b[0;32m-> 2843\u001b[0;31m         \u001b[0mfp\u001b[0m \u001b[0;34m=\u001b[0m \u001b[0mbuiltins\u001b[0m\u001b[0;34m.\u001b[0m\u001b[0mopen\u001b[0m\u001b[0;34m(\u001b[0m\u001b[0mfilename\u001b[0m\u001b[0;34m,\u001b[0m \u001b[0;34m\"rb\"\u001b[0m\u001b[0;34m)\u001b[0m\u001b[0;34m\u001b[0m\u001b[0;34m\u001b[0m\u001b[0m\n\u001b[0m\u001b[1;32m   2844\u001b[0m         \u001b[0mexclusive_fp\u001b[0m \u001b[0;34m=\u001b[0m \u001b[0;32mTrue\u001b[0m\u001b[0;34m\u001b[0m\u001b[0;34m\u001b[0m\u001b[0m\n\u001b[1;32m   2845\u001b[0m \u001b[0;34m\u001b[0m\u001b[0m\n",
      "\u001b[0;31mPermissionError\u001b[0m: [Errno 13] Permission denied: '/media/walml/beta/decals/png_native/dr5/J130/J130836.21-022016.2.png'"
     ]
    },
    {
     "data": {
      "text/plain": [
       "<Figure size 432x288 with 0 Axes>"
      ]
     },
     "metadata": {},
     "output_type": "display_data"
    },
    {
     "data": {
      "text/plain": [
       "<Figure size 650.16x333.591 with 0 Axes>"
      ]
     },
     "metadata": {},
     "output_type": "display_data"
    }
   ],
   "source": [
    "_ = show_galaxies(valid_labels[cant_tell_confused_with_two].sample(8), nrows=2, ncols=4)"
   ]
  },
  {
   "cell_type": "code",
   "execution_count": 45,
   "metadata": {},
   "outputs": [
    {
     "ename": "PermissionError",
     "evalue": "[Errno 13] Permission denied: '/media/walml/beta/decals/png_native/dr5/J123/J123209.35+113307.3.png'",
     "output_type": "error",
     "traceback": [
      "\u001b[0;31m---------------------------------------------------------------------------\u001b[0m",
      "\u001b[0;31mPermissionError\u001b[0m                           Traceback (most recent call last)",
      "\u001b[0;32m<ipython-input-45-dfb54328e696>\u001b[0m in \u001b[0;36m<module>\u001b[0;34m\u001b[0m\n\u001b[0;32m----> 1\u001b[0;31m \u001b[0m_\u001b[0m \u001b[0;34m=\u001b[0m \u001b[0mshow_galaxies\u001b[0m\u001b[0;34m(\u001b[0m\u001b[0mvalid_labels\u001b[0m\u001b[0;34m[\u001b[0m\u001b[0mtwo_confused_with_cant_tell\u001b[0m\u001b[0;34m]\u001b[0m\u001b[0;34m.\u001b[0m\u001b[0msample\u001b[0m\u001b[0;34m(\u001b[0m\u001b[0;36m8\u001b[0m\u001b[0;34m)\u001b[0m\u001b[0;34m,\u001b[0m \u001b[0mnrows\u001b[0m\u001b[0;34m=\u001b[0m\u001b[0;36m2\u001b[0m\u001b[0;34m,\u001b[0m \u001b[0mncols\u001b[0m\u001b[0;34m=\u001b[0m\u001b[0;36m4\u001b[0m\u001b[0;34m)\u001b[0m\u001b[0;34m\u001b[0m\u001b[0;34m\u001b[0m\u001b[0m\n\u001b[0m",
      "\u001b[0;32m<ipython-input-43-d470de5d1a68>\u001b[0m in \u001b[0;36mshow_galaxies\u001b[0;34m(df, scale, nrows, ncols)\u001b[0m\n\u001b[1;32m     10\u001b[0m         \u001b[0;32mfor\u001b[0m \u001b[0mcol_n\u001b[0m \u001b[0;32min\u001b[0m \u001b[0mrange\u001b[0m\u001b[0;34m(\u001b[0m\u001b[0mncols\u001b[0m\u001b[0;34m)\u001b[0m\u001b[0;34m:\u001b[0m\u001b[0;34m\u001b[0m\u001b[0;34m\u001b[0m\u001b[0m\n\u001b[1;32m     11\u001b[0m             \u001b[0mgalaxy\u001b[0m \u001b[0;34m=\u001b[0m \u001b[0mdf\u001b[0m\u001b[0;34m.\u001b[0m\u001b[0miloc\u001b[0m\u001b[0;34m[\u001b[0m\u001b[0mgalaxy_n\u001b[0m\u001b[0;34m]\u001b[0m\u001b[0;34m\u001b[0m\u001b[0;34m\u001b[0m\u001b[0m\n\u001b[0;32m---> 12\u001b[0;31m             \u001b[0mimage\u001b[0m \u001b[0;34m=\u001b[0m \u001b[0mImage\u001b[0m\u001b[0;34m.\u001b[0m\u001b[0mopen\u001b[0m\u001b[0;34m(\u001b[0m\u001b[0mgalaxy\u001b[0m\u001b[0;34m[\u001b[0m\u001b[0;34m'file_loc'\u001b[0m\u001b[0;34m]\u001b[0m\u001b[0;34m)\u001b[0m\u001b[0;34m\u001b[0m\u001b[0;34m\u001b[0m\u001b[0m\n\u001b[0m\u001b[1;32m     13\u001b[0m             \u001b[0max\u001b[0m \u001b[0;34m=\u001b[0m \u001b[0mplt\u001b[0m\u001b[0;34m.\u001b[0m\u001b[0msubplot\u001b[0m\u001b[0;34m(\u001b[0m\u001b[0mgs1\u001b[0m\u001b[0;34m[\u001b[0m\u001b[0mrow_n\u001b[0m\u001b[0;34m,\u001b[0m \u001b[0mcol_n\u001b[0m\u001b[0;34m]\u001b[0m\u001b[0;34m)\u001b[0m\u001b[0;34m\u001b[0m\u001b[0;34m\u001b[0m\u001b[0m\n\u001b[1;32m     14\u001b[0m             \u001b[0max\u001b[0m\u001b[0;34m.\u001b[0m\u001b[0mimshow\u001b[0m\u001b[0;34m(\u001b[0m\u001b[0mimage\u001b[0m\u001b[0;34m)\u001b[0m\u001b[0;34m\u001b[0m\u001b[0;34m\u001b[0m\u001b[0m\n",
      "\u001b[0;32m~/anaconda3/envs/zoobot/lib/python3.7/site-packages/PIL/Image.py\u001b[0m in \u001b[0;36mopen\u001b[0;34m(fp, mode)\u001b[0m\n\u001b[1;32m   2841\u001b[0m \u001b[0;34m\u001b[0m\u001b[0m\n\u001b[1;32m   2842\u001b[0m     \u001b[0;32mif\u001b[0m \u001b[0mfilename\u001b[0m\u001b[0;34m:\u001b[0m\u001b[0;34m\u001b[0m\u001b[0;34m\u001b[0m\u001b[0m\n\u001b[0;32m-> 2843\u001b[0;31m         \u001b[0mfp\u001b[0m \u001b[0;34m=\u001b[0m \u001b[0mbuiltins\u001b[0m\u001b[0;34m.\u001b[0m\u001b[0mopen\u001b[0m\u001b[0;34m(\u001b[0m\u001b[0mfilename\u001b[0m\u001b[0;34m,\u001b[0m \u001b[0;34m\"rb\"\u001b[0m\u001b[0;34m)\u001b[0m\u001b[0;34m\u001b[0m\u001b[0;34m\u001b[0m\u001b[0m\n\u001b[0m\u001b[1;32m   2844\u001b[0m         \u001b[0mexclusive_fp\u001b[0m \u001b[0;34m=\u001b[0m \u001b[0;32mTrue\u001b[0m\u001b[0;34m\u001b[0m\u001b[0;34m\u001b[0m\u001b[0m\n\u001b[1;32m   2845\u001b[0m \u001b[0;34m\u001b[0m\u001b[0m\n",
      "\u001b[0;31mPermissionError\u001b[0m: [Errno 13] Permission denied: '/media/walml/beta/decals/png_native/dr5/J123/J123209.35+113307.3.png'"
     ]
    },
    {
     "data": {
      "text/plain": [
       "<Figure size 432x288 with 0 Axes>"
      ]
     },
     "metadata": {},
     "output_type": "display_data"
    },
    {
     "data": {
      "text/plain": [
       "<Figure size 650.16x333.591 with 0 Axes>"
      ]
     },
     "metadata": {},
     "output_type": "display_data"
    }
   ],
   "source": [
    "_ = show_galaxies(valid_labels[two_confused_with_cant_tell].sample(8), nrows=2, ncols=4)"
   ]
  },
  {
   "cell_type": "markdown",
   "metadata": {},
   "source": [
    "# Regression Metrics"
   ]
  },
  {
   "cell_type": "code",
   "execution_count": null,
   "metadata": {},
   "outputs": [],
   "source": [
    "errors = []\n",
    "min_total_votes = 20\n",
    "for question_n, question in enumerate(schema.questions):\n",
    "    for answer in question.answers:\n",
    "        print(question.text, answer.text)\n",
    "        valid_labels, valid_predictions = filter_to_sensible(retired, predicted_fractions, question)  # df, np.array\n",
    "        valid_labels.reset_index()\n",
    "        enough_votes = valid_labels[question.text + '_total-votes'] >= min_total_votes  # not quite the same as filter_to_sensible\n",
    "        y_true = valid_labels.loc[enough_votes, answer.text + '_fraction']\n",
    "        y_pred = valid_predictions[enough_votes, answer.index]\n",
    "        assert not pd.isna(y_true).any()\n",
    "        assert not pd.isna(y_pred).any()\n",
    "        absolute = mean_absolute_error(y_true, y_pred)\n",
    "        mse = mean_squared_error(y_true, y_pred)\n",
    "        errors.append({'answer': answer.text, 'rmse': np.sqrt(mse), 'mean_absolute_error': absolute, 'question_n': question_n})\n",
    "\n",
    "metrics = pd.DataFrame(errors)\n"
   ]
  },
  {
   "cell_type": "code",
   "execution_count": null,
   "metadata": {},
   "outputs": [],
   "source": [
    "colorbrewer = [\n",
    "    '#8dd3c7',\n",
    "    '#ffffb3',\n",
    "    '#bebada',\n",
    "    '#fb8072',\n",
    "    '#80b1d3',\n",
    "    '#fdb462',\n",
    "    '#b3de69',\n",
    "    '#fccde5',\n",
    "    '#d9d9d9',\n",
    "    '#bc80bd'\n",
    "]\n",
    "base_palette = sns.color_palette(colorbrewer)\n"
   ]
  },
  {
   "cell_type": "code",
   "execution_count": null,
   "metadata": {},
   "outputs": [],
   "source": [
    "# base_palette = sns.husl_palette(len(schema.questions))\n",
    "# base_palette = sns.choose_colorbrewer_palette('qualitative')\n",
    "\n",
    "# import random\n",
    "# random.shuffle(base_palette)\n",
    "# sns.palplot(base_palette)"
   ]
  },
  {
   "cell_type": "code",
   "execution_count": null,
   "metadata": {},
   "outputs": [],
   "source": [
    "repeating_palette = []\n",
    "for q_n, question in enumerate(schema.questions):\n",
    "    for a_n, answer in enumerate(question.answers):\n",
    "        repeating_palette.append(base_palette[q_n])"
   ]
  },
  {
   "cell_type": "code",
   "execution_count": null,
   "metadata": {},
   "outputs": [],
   "source": [
    "sns.set_style('whitegrid', {'axes.edgecolor': '0.2'})\n",
    "sns.set_context('notebook')\n",
    "sns.set_palette(repeating_palette)\n",
    "fig, ax = plt.subplots(figsize=(6, 8))\n",
    "sns.barplot(data=metrics, y='answer', x='mean_absolute_error', ax=ax)\n",
    "plt.xlabel('Vote Fraction Mean Deviation')\n",
    "plt.ylabel('')\n",
    "fig.tight_layout()\n",
    "# plt.savefig('mean_deviation_bar.pdf')"
   ]
  },
  {
   "cell_type": "code",
   "execution_count": null,
   "metadata": {},
   "outputs": [],
   "source": [
    "fig, ax = plt.subplots(figsize=(10, 10))\n",
    "sns.barplot(data=metrics, y='answer', x='rmse', ax=ax)"
   ]
  },
  {
   "cell_type": "code",
   "execution_count": null,
   "metadata": {},
   "outputs": [],
   "source": [
    "\n",
    "# question = schema.get_question('has-spiral-arms')\n",
    "answer = schema.get_answer('bulge-size_moderate')\n",
    "question = answer.question\n",
    "# answer = question.answers[0]\n",
    "valid_labels, valid_predictions = filter_to_sensible(retired, predicted_fractions, question)\n",
    "sns.scatterplot(valid_labels[answer.text + '_fraction'], valid_predictions[:, answer.index], alpha=.1)\n",
    "\n"
   ]
  },
  {
   "cell_type": "code",
   "execution_count": null,
   "metadata": {},
   "outputs": [],
   "source": [
    "plt.hist(valid_labels[question.text + '_total-votes'], bins=40, range=(0, 60))"
   ]
  },
  {
   "cell_type": "code",
   "execution_count": null,
   "metadata": {},
   "outputs": [],
   "source": [
    "question.asked_after"
   ]
  },
  {
   "cell_type": "code",
   "execution_count": null,
   "metadata": {},
   "outputs": [],
   "source": [
    "valid_labels.iloc[np.argsort(valid_labels[question.text + '_total-votes'])[:10]]['smooth-or-featured_featured-or-disk_fraction']"
   ]
  },
  {
   "cell_type": "code",
   "execution_count": null,
   "metadata": {},
   "outputs": [],
   "source": [
    "plt.hist(valid_labels[answer.text + '_fraction'], bins=40)"
   ]
  },
  {
   "cell_type": "code",
   "execution_count": null,
   "metadata": {},
   "outputs": [],
   "source": [
    "valid_labels['smooth-or-featured_total-votes'].hist(bins=30, range=[0., 120])"
   ]
  },
  {
   "cell_type": "code",
   "execution_count": null,
   "metadata": {},
   "outputs": [],
   "source": [
    "\n",
    "fig, axes = plt.subplots(nrows=len(label_cols), figsize=(8, len(label_cols) * 3))\n",
    "ax_n = 0\n",
    "for question in schema.questions:\n",
    "    valid_labels, valid_predictions = filter_to_sensible(retired, predicted_fractions, question)\n",
    "    for answer in question.answers:\n",
    "        sns.scatterplot(valid_labels[answer.text + '_fraction'], valid_predictions[:, answer.index], ax=axes[ax_n], alpha=.14)\n",
    "        ax_n += 1\n"
   ]
  },
  {
   "cell_type": "code",
   "execution_count": null,
   "metadata": {},
   "outputs": [],
   "source": []
  },
  {
   "cell_type": "code",
   "execution_count": null,
   "metadata": {},
   "outputs": [],
   "source": []
  },
  {
   "cell_type": "code",
   "execution_count": null,
   "metadata": {},
   "outputs": [],
   "source": [
    "retired['smooth-or-featured_total-votes'].hist(bins=30)"
   ]
  },
  {
   "cell_type": "code",
   "execution_count": null,
   "metadata": {},
   "outputs": [],
   "source": [
    "is_intense = retired['smooth-or-featured_total-votes'] > 75\n",
    "intense_labels, intense_predictions = retired[is_intense], predicted_fractions[is_intense]"
   ]
  },
  {
   "cell_type": "code",
   "execution_count": null,
   "metadata": {},
   "outputs": [],
   "source": [
    "def mimic_fewer(galaxy, question):\n",
    "    data = []\n",
    "    n_answers = len(question.answers)\n",
    "    actual_votes = galaxy[[a.text for a in question.answers]].values\n",
    "    actual_fractions = actual_votes / actual_votes.sum()\n",
    "    total_votes = actual_votes.sum()\n",
    "    \n",
    "    removed_votes = 0\n",
    "    latest_votes = actual_votes.copy()\n",
    "    while removed_votes < total_votes:\n",
    "        fractions = np.array([latest_votes[answer_n]/latest_votes.sum() for answer_n in range(n_answers)])\n",
    "        assert latest_votes.sum() + removed_votes == total_votes\n",
    "        data.append({'n_votes': total_votes - removed_votes, 'votes': latest_votes.copy(), 'fractions': fractions, 'deviations': np.abs(fractions - actual_fractions)})\n",
    "        \n",
    "#         answer_above_0 = latest_votes > 0\n",
    "#         valid_answer_indices = np.arange(n_answers)[answer_above_0]\n",
    "#         index_to_reduce = np.random.choice(valid_answer_indices)\n",
    "        index_to_reduce = np.random.choice(np.arange(n_answers), p=fractions)\n",
    "        latest_votes[index_to_reduce] = latest_votes[index_to_reduce] - 1\n",
    "        removed_votes += 1\n",
    "        \n",
    "    return data\n",
    "            "
   ]
  },
  {
   "cell_type": "code",
   "execution_count": null,
   "metadata": {},
   "outputs": [],
   "source": [
    "question = schema.get_question('smooth-or-featured')\n",
    "# question = schema.get_question('has-spiral-arms')\n",
    "# question = schema.get_question('bar')\n",
    "# question = schema.get_question('bulge-size')\n",
    "galaxy = intense_labels.sample().squeeze()\n",
    "mimic = pd.DataFrame(data=mimic_fewer(galaxy, question))\n",
    "\n",
    "# sns.set()\n",
    "# n_votes = mimic['n_votes']\n",
    "# fractions = np.stack(mimic['fractions'], axis=0)\n",
    "# for answer_n, answer in enumerate(question.answers):\n",
    "#     print(answer.text)\n",
    "#     plt.plot(n_votes, fractions[:, answer_n], label=answer.text)\n",
    "#     plt.axhline(mimic.sort_values('n_votes')['fractions'].iloc[-1][answer_n], linestyle='--', color='k', alpha=.5)\n",
    "# plt.legend()"
   ]
  },
  {
   "cell_type": "code",
   "execution_count": null,
   "metadata": {},
   "outputs": [],
   "source": [
    "# mimic['deviations']"
   ]
  },
  {
   "cell_type": "code",
   "execution_count": null,
   "metadata": {},
   "outputs": [],
   "source": [
    "# sns.set()\n",
    "# deviations = np.stack(mimic['deviations'], axis=0)\n",
    "# n_votes = mimic['n_votes']\n",
    "# for answer_n, answer in enumerate(question.answers):\n",
    "#     print(answer.text)\n",
    "#     plt.plot(n_votes, deviations[:, answer_n], label=answer.text)\n",
    "# plt.legend()"
   ]
  },
  {
   "cell_type": "code",
   "execution_count": null,
   "metadata": {},
   "outputs": [],
   "source": [
    "deviations"
   ]
  },
  {
   "cell_type": "code",
   "execution_count": null,
   "metadata": {},
   "outputs": [],
   "source": [
    "data = []\n",
    "valid_intense, _ = filter_to_sensible(intense_labels, intense_predictions, question)\n",
    "# print(len(valid_intense))\n",
    "for n_votes in np.arange(1, 40):\n",
    "    print(n_votes)\n",
    "    all_deviations = []\n",
    "    for _, galaxy in valid_intense.iterrows():\n",
    "        mimic = pd.DataFrame(data=mimic_fewer(galaxy, question))\n",
    "        deviations = mimic.query(f'n_votes == {n_votes}')['deviations'].squeeze()\n",
    "        assert len(deviations) > 0\n",
    "#         assert deviations.shape == (len(question.answers),)\n",
    "        all_deviations.append(deviations)\n",
    "    all_deviations = np.stack(all_deviations, axis=0)\n",
    "    mean_abs = all_deviations.mean(axis=0)\n",
    "    result = {'n_votes': n_votes}\n",
    "    result.update(dict(zip([a.text for a in question.answers], mean_abs)))\n",
    "    data.append(result)"
   ]
  },
  {
   "cell_type": "code",
   "execution_count": null,
   "metadata": {},
   "outputs": [],
   "source": [
    "deviation_df = pd.DataFrame(data=data)"
   ]
  },
  {
   "cell_type": "code",
   "execution_count": null,
   "metadata": {},
   "outputs": [],
   "source": [
    "def convert_to_label(x):\n",
    "    return x.replace(question.text, '').replace('_', '').capitalize()"
   ]
  },
  {
   "cell_type": "code",
   "execution_count": null,
   "metadata": {},
   "outputs": [],
   "source": [
    "# colors = sns.color_palette('mako', 5)\n",
    "# colors = sns.color_palette('mako')\n",
    "# colors = base_palette\n",
    "\n",
    "# colorbrewer = [\n",
    "#     '#8dd3c7',\n",
    "#     '#ffffb3',\n",
    "#     '#bebada',\n",
    "#     '#fb8072',\n",
    "#     '#80b1d3',\n",
    "#     '#fdb462',\n",
    "#     '#b3de69',\n",
    "#     '#fccde5',\n",
    "#     '#d9d9d9',\n",
    "#     '#bc80bd'\n",
    "# ]\n",
    "# colors = sns.color_palette(colorbrewer[-5:])\n"
   ]
  },
  {
   "cell_type": "code",
   "execution_count": null,
   "metadata": {},
   "outputs": [],
   "source": []
  },
  {
   "cell_type": "code",
   "execution_count": null,
   "metadata": {},
   "outputs": [],
   "source": [
    "# prob_of_answers = np.expand_dims(galaxy[[a.text + '_fraction' for a in schema.answers]], axis=0)\n",
    "# galaxy['smooth-or-featured_featured-or-disk_fraction']                         \n",
    "# deviation_df['n_votes_total'] = deviation_df['n_votes'] / schema.joint_p(prob_of_answers, question.asked_after.text)  # looks more impressive, but is maybe a level of complexity too far - not used"
   ]
  },
  {
   "cell_type": "code",
   "execution_count": null,
   "metadata": {},
   "outputs": [],
   "source": [
    "sns.set_context('notebook')\n",
    "sns.set(font_scale=1.3, style='whitegrid', rc={'grid.linewidth': .5})  # softening the grid lines\n",
    "\n",
    "colors = sns.color_palette('deep', len(question.answers))\n",
    "# colors = ['y', 'b', 'g', 'r', 't']\n",
    "\n",
    "for a_n, a in enumerate(question.answers):\n",
    "\n",
    "    # exclude 'dominant' for bulge, rare  question.answers[1:]\n",
    "    # exclude no for spiral, no need      if a_n == 0:\n",
    "    sns.lineplot(data=deviation_df, x='n_votes', y=a.text, color=colors[a_n], label=convert_to_label(a.text), marker='.', markersize=10.)\n",
    "    plt.axhline(metrics.query(f'answer == \"{a.text}\"').squeeze()['mean_absolute_error'], color=colors[a_n], linestyle='--')\n",
    "plt.legend()\n",
    "plt.ylabel('Mean error vs. all votes')\n",
    "plt.xlabel('Truncated number of votes')\n",
    "# if question.text == 'smooth-or-featured':\n",
    "plt.xlim([0, 20])\n",
    "plt.ylim(0., .25)\n",
    "# if question.text == 'bulge-size':\n",
    "#     plt.xlim([0, 20])\n",
    "#     plt.ylim(0., .25)\n",
    "plt.title(question.text.replace('-', ' ').title())  # .title = capitalize each word (isn't python <3)\n",
    "plt.tight_layout()\n",
    "plt.savefig('notebooks/multiq/performance/vs_all_votes_' + question.text + '.png')\n",
    "plt.savefig('notebooks/multiq/performance/vs_all_votes_' + question.text + '.pdf')"
   ]
  },
  {
   "cell_type": "code",
   "execution_count": null,
   "metadata": {},
   "outputs": [],
   "source": []
  }
 ],
 "metadata": {
  "kernelspec": {
   "display_name": "Python 3",
   "language": "python",
   "name": "python3"
  },
  "language_info": {
   "codemirror_mode": {
    "name": "ipython",
    "version": 3
   },
   "file_extension": ".py",
   "mimetype": "text/x-python",
   "name": "python",
   "nbconvert_exporter": "python",
   "pygments_lexer": "ipython3",
   "version": "3.7.6"
  }
 },
 "nbformat": 4,
 "nbformat_minor": 4
}
