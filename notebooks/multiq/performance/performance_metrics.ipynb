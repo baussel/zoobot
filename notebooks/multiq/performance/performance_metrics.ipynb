{
 "cells": [
  {
   "cell_type": "code",
   "execution_count": 1,
   "metadata": {},
   "outputs": [],
   "source": [
    "%load_ext autoreload\n",
    "%autoreload 2\n",
    "%matplotlib inline"
   ]
  },
  {
   "cell_type": "code",
   "execution_count": 2,
   "metadata": {},
   "outputs": [],
   "source": [
    "import matplotlib"
   ]
  },
  {
   "cell_type": "code",
   "execution_count": 3,
   "metadata": {},
   "outputs": [],
   "source": [
    "import sklearn"
   ]
  },
  {
   "cell_type": "code",
   "execution_count": 4,
   "metadata": {},
   "outputs": [],
   "source": [
    "import os\n",
    "import logging\n",
    "import argparse\n",
    "import glob\n",
    "import json\n",
    "from multiprocessing import Pool\n",
    "\n",
    "from IPython.display import display, Markdown\n",
    "\n",
    "import numpy as np\n",
    "import matplotlib.pyplot as plt\n",
    "from matplotlib.ticker import StrMethodFormatter\n",
    "import matplotlib.gridspec as gridspec\n",
    "import seaborn as sns\n",
    "from PIL import Image\n",
    "\n",
    "import pandas as pd\n",
    "from astropy.table import Table  # for NSA\n",
    "from astropy import units as u\n",
    "\n",
    "from scipy import stats, integrate\n",
    "from scipy.stats import binom\n",
    "import statsmodels.api as sm\n",
    "\n",
    "from sklearn import metrics\n",
    "from sklearn.metrics import confusion_matrix, plot_confusion_matrix, roc_curve, mean_squared_error, mean_absolute_error\n",
    "import tensorflow as tf\n",
    "\n",
    "from shared_astro_utils import astropy_utils, matching_utils\n",
    "from zoobot.estimators import make_predictions, bayesian_estimator_funcs\n",
    "from zoobot.tfrecord import read_tfrecord\n",
    "from zoobot.uncertainty import discrete_coverage\n",
    "from zoobot.estimators import input_utils, losses, dirichlet_stats\n",
    "from zoobot.tfrecord import catalog_to_tfrecord\n",
    "from zoobot.active_learning import metrics, simulated_metrics, acquisition_utils, check_uncertainty, simulation_timeline, run_estimator_config\n",
    "from zoobot.active_learning import acquisition_utils\n",
    "from zoobot import label_metadata\n"
   ]
  },
  {
   "cell_type": "code",
   "execution_count": 5,
   "metadata": {},
   "outputs": [],
   "source": [
    "os.chdir('/home/walml/repos/zoobot')"
   ]
  },
  {
   "cell_type": "code",
   "execution_count": 6,
   "metadata": {},
   "outputs": [
    {
     "name": "stdout",
     "output_type": "stream",
     "text": [
      "{smooth-or-featured, indices 0 to 2, asked after None: (0, 2), disk-edge-on, indices 3 to 4, asked after smooth-or-featured_featured-or-disk, index 1: (3, 4), has-spiral-arms, indices 5 to 6, asked after disk-edge-on_no, index 4: (5, 6), bar, indices 7 to 9, asked after disk-edge-on_no, index 4: (7, 9), bulge-size, indices 10 to 14, asked after disk-edge-on_no, index 4: (10, 14), how-rounded, indices 15 to 17, asked after smooth-or-featured_smooth, index 0: (15, 17), edge-on-bulge, indices 18 to 20, asked after disk-edge-on_yes, index 3: (18, 20), spiral-winding, indices 21 to 23, asked after has-spiral-arms_yes, index 5: (21, 23), spiral-arm-count, indices 24 to 29, asked after has-spiral-arms_yes, index 5: (24, 29), merging, indices 30 to 33, asked after None: (30, 33)}\n"
     ]
    },
    {
     "data": {
      "text/plain": [
       "[smooth-or-featured, indices 0 to 2, asked after None,\n",
       " disk-edge-on, indices 3 to 4, asked after smooth-or-featured_featured-or-disk, index 1,\n",
       " has-spiral-arms, indices 5 to 6, asked after disk-edge-on_no, index 4,\n",
       " bar, indices 7 to 9, asked after disk-edge-on_no, index 4,\n",
       " bulge-size, indices 10 to 14, asked after disk-edge-on_no, index 4,\n",
       " how-rounded, indices 15 to 17, asked after smooth-or-featured_smooth, index 0,\n",
       " edge-on-bulge, indices 18 to 20, asked after disk-edge-on_yes, index 3,\n",
       " spiral-winding, indices 21 to 23, asked after has-spiral-arms_yes, index 5,\n",
       " spiral-arm-count, indices 24 to 29, asked after has-spiral-arms_yes, index 5,\n",
       " merging, indices 30 to 33, asked after None]"
      ]
     },
     "execution_count": 6,
     "metadata": {},
     "output_type": "execute_result"
    }
   ],
   "source": [
    "questions = label_metadata.decals_questions\n",
    "label_cols = label_metadata.decals_label_cols\n",
    "version = 'decals'\n",
    "\n",
    "schema = losses.Schema(label_cols, questions, version=version)\n",
    "schema.questions"
   ]
  },
  {
   "cell_type": "code",
   "execution_count": 7,
   "metadata": {},
   "outputs": [
    {
     "name": "stdout",
     "output_type": "stream",
     "text": [
      "49700\n",
      "49700\n",
      "49700\n",
      "(49700, 34, 15)\n"
     ]
    }
   ],
   "source": [
    "\n",
    "# previously shared in draft paper\n",
    "# predictions_loc = 'results/temp/decals_n2_allq_m0_all.csv'\n",
    "# eval_loc = 'results/temp/decals_n2_allq_m0_eval_shards/eval_df.csv'\n",
    "\n",
    "# with overzealous cleaning\n",
    "eval_loc = 'results/decals_dr_full_eval_df.csv'\n",
    "eval_df = pd.read_csv(eval_loc)\n",
    "eval_df['local_png_loc'] = eval_df['local_png_loc'].apply(lambda x: x.replace('/data/phys-zooniverse/chri5177', '/media/walml/beta/decals'))\n",
    "# eval_df doesn't include total-votes, add it\n",
    "for question in schema.questions:\n",
    "    eval_df[question.text + '_total-votes'] = np.array([eval_df[answer.text].values for answer in question.answers]).sum(axis=0)\n",
    "\n",
    "# one model\n",
    "# predictions_loc = 'results/decals_dr_full_m0_eval_predictions.csv'  # .1-20\n",
    "# predictions = pd.read_csv(predictions_loc)\n",
    "# samples = dirichlet_stats.load_all_concentrations(eval_predictions, concentration_cols=[a.text + '_concentration' for a in schema.answers])\n",
    "\n",
    "# several models (ensemble)\n",
    "samples = []\n",
    "predictions_locs = [f'results/decals_dr_full_m{n}_eval_predictions.csv' for n in range(3)]  # 0, 1, 2\n",
    "for predictions_loc in predictions_locs:\n",
    "    predictions = pd.read_csv(predictions_loc)\n",
    "    # filter to eval\n",
    "    eval_predictions = predictions[predictions['iauname'].isin(eval_df['id_str'])]\n",
    "    print(len(eval_predictions))\n",
    "    model_samples = dirichlet_stats.load_all_concentrations(eval_predictions, concentration_cols=[a.text + '_concentration' for a in schema.answers])\n",
    "    samples.append(model_samples)\n",
    "samples = np.concatenate(samples, axis=2)  # must be same iaunames, sorted\n",
    "\n",
    "print(samples.shape)\n",
    "\n"
   ]
  },
  {
   "cell_type": "code",
   "execution_count": 8,
   "metadata": {},
   "outputs": [
    {
     "name": "stderr",
     "output_type": "stream",
     "text": [
      "/home/walml/anaconda3/envs/zoobot/lib/python3.7/site-packages/ipykernel_launcher.py:3: SettingWithCopyWarning: \n",
      "A value is trying to be set on a copy of a slice from a DataFrame.\n",
      "Try using .loc[row_indexer,col_indexer] = value instead\n",
      "\n",
      "See the caveats in the documentation: https://pandas.pydata.org/pandas-docs/stable/user_guide/indexing.html#returning-a-view-versus-a-copy\n",
      "  This is separate from the ipykernel package so we can avoid doing imports until\n"
     ]
    }
   ],
   "source": [
    "is_retired = eval_predictions['smooth-or-featured_total-votes'] > 34\n",
    "retired = eval_predictions[is_retired]\n",
    "retired['file_loc'] = retired['local_png_loc'].apply(lambda x: '/media/walml/beta/decals' + x.replace('/data/phys-zooniverse/chri5177', ''))\n",
    "retired_samples = samples[is_retired]\n"
   ]
  },
  {
   "cell_type": "code",
   "execution_count": 9,
   "metadata": {},
   "outputs": [
    {
     "data": {
      "text/plain": [
       "11346"
      ]
     },
     "execution_count": 9,
     "metadata": {},
     "output_type": "execute_result"
    }
   ],
   "source": [
    "len(retired)  # only high conf"
   ]
  },
  {
   "cell_type": "code",
   "execution_count": 10,
   "metadata": {},
   "outputs": [],
   "source": [
    "predicted_fractions = dirichlet_stats.dirichlet_prob_of_answers(retired_samples, schema, temperature=None)"
   ]
  },
  {
   "cell_type": "code",
   "execution_count": null,
   "metadata": {},
   "outputs": [],
   "source": [
    "question = schema.get_question('has-spiral-arms')"
   ]
  },
  {
   "cell_type": "code",
   "execution_count": null,
   "metadata": {},
   "outputs": [],
   "source": [
    "# posteriors_1 = dirichlet_stats.get_posteriors(samples[:5000], eval_df, eval_df['id_str'], question, question.answers[0])"
   ]
  },
  {
   "cell_type": "code",
   "execution_count": null,
   "metadata": {},
   "outputs": [],
   "source": [
    "# posteriors_2 = dirichlet_stats.get_posteriors(samples[:5000], eval_df, eval_df['id_str'], question, question.answers[0], temperature=.2)"
   ]
  },
  {
   "cell_type": "code",
   "execution_count": null,
   "metadata": {},
   "outputs": [],
   "source": [
    "# plt.plot(posteriors_1[0][0], posteriors_1[0][1][0], label='T=1')\n",
    "# plt.plot(posteriors_2[0][0], posteriors_2[0][1][0], label='T=.2')\n",
    "# plt.legend()"
   ]
  },
  {
   "cell_type": "code",
   "execution_count": null,
   "metadata": {},
   "outputs": [],
   "source": [
    "posteriors_1[0][1].mean()"
   ]
  },
  {
   "cell_type": "code",
   "execution_count": null,
   "metadata": {},
   "outputs": [],
   "source": [
    "plt.plot(posteriors_2[0][0], posteriors_2[0][1][0], label='T=.2')"
   ]
  },
  {
   "cell_type": "code",
   "execution_count": null,
   "metadata": {},
   "outputs": [],
   "source": [
    "posteriors_1[0][0]"
   ]
  },
  {
   "cell_type": "code",
   "execution_count": null,
   "metadata": {},
   "outputs": [],
   "source": [
    "(posteriors_1[0][0] * posteriors_1[0][1][0]).mean()"
   ]
  },
  {
   "cell_type": "code",
   "execution_count": null,
   "metadata": {},
   "outputs": [],
   "source": [
    "(posteriors_2[0][0] * posteriors_2[0][1][0]).mean()"
   ]
  },
  {
   "cell_type": "code",
   "execution_count": null,
   "metadata": {},
   "outputs": [],
   "source": [
    "posteriors_1[0][1][0]"
   ]
  },
  {
   "cell_type": "code",
   "execution_count": null,
   "metadata": {},
   "outputs": [],
   "source": [
    "posteriors_2[0][1][0]"
   ]
  },
  {
   "cell_type": "code",
   "execution_count": null,
   "metadata": {},
   "outputs": [],
   "source": [
    "fractions_1[0]"
   ]
  },
  {
   "cell_type": "code",
   "execution_count": null,
   "metadata": {},
   "outputs": [],
   "source": [
    "fractions_1 = np.array([(x*p).mean() for (x, p) in posteriors_1])\n",
    "fractions_2 = np.array([(x*p).mean() for (x, p) in posteriors_2])"
   ]
  },
  {
   "cell_type": "code",
   "execution_count": null,
   "metadata": {},
   "outputs": [],
   "source": [
    "fractions_2 - fractions_1"
   ]
  },
  {
   "cell_type": "code",
   "execution_count": null,
   "metadata": {},
   "outputs": [],
   "source": [
    "plt.hist(fractions_2 - fractions_1, bins=30)"
   ]
  },
  {
   "cell_type": "code",
   "execution_count": null,
   "metadata": {},
   "outputs": [],
   "source": [
    "plt.hist(fractions_1, alpha=.5, bins=30)\n",
    "plt.hist(fractions_2, alpha=.5, bins=30)"
   ]
  },
  {
   "cell_type": "code",
   "execution_count": null,
   "metadata": {},
   "outputs": [],
   "source": [
    "question.start_index"
   ]
  },
  {
   "cell_type": "code",
   "execution_count": null,
   "metadata": {},
   "outputs": [],
   "source": [
    "fractions = np.zeros(shape=(5000, 34))\n",
    "fractions[:, 5] = fractions_1\n",
    "fractions[:, 6] = 1 - fractions_1"
   ]
  },
  {
   "cell_type": "code",
   "execution_count": null,
   "metadata": {},
   "outputs": [],
   "source": [
    "print_metrics(question, eval_df[:5000], fractions)"
   ]
  },
  {
   "cell_type": "code",
   "execution_count": null,
   "metadata": {},
   "outputs": [],
   "source": [
    "len(fractions_1)"
   ]
  },
  {
   "cell_type": "code",
   "execution_count": null,
   "metadata": {},
   "outputs": [],
   "source": [
    "np.sum((fractions_1 > 0.5) & (fractions_2 < 0.5)), np.sum((fractions_1 < 0.5) & (fractions_2 > 0.5))"
   ]
  },
  {
   "cell_type": "code",
   "execution_count": null,
   "metadata": {},
   "outputs": [],
   "source": [
    "predicted_fractions = fractions_2"
   ]
  },
  {
   "cell_type": "code",
   "execution_count": null,
   "metadata": {},
   "outputs": [],
   "source": [
    "# predicted_fractions = dirichlet_stats.dirichlet_prob_of_answers(retired_samples, schema)"
   ]
  },
  {
   "cell_type": "code",
   "execution_count": null,
   "metadata": {},
   "outputs": [],
   "source": [
    "predicted_fractions.shape"
   ]
  },
  {
   "cell_type": "code",
   "execution_count": null,
   "metadata": {},
   "outputs": [],
   "source": [
    "(predicted_fractions - predicted_fractions_t2)[:, 0]"
   ]
  },
  {
   "cell_type": "code",
   "execution_count": null,
   "metadata": {},
   "outputs": [],
   "source": [
    "_ = plt.hist((predicted_fractions_t2 - predicted_fractions)[:, 0], bins=30)"
   ]
  },
  {
   "cell_type": "code",
   "execution_count": null,
   "metadata": {},
   "outputs": [],
   "source": [
    "# answer = 'smooth-or-featured_smooth'\n",
    "# answer = schema.get_answer('smooth-or-featured_featured-or-disk')\n",
    "# answer = schema.get_answer('smooth-or-featured_artifact')\n",
    "# answer = schema.get_answer('bar_weak')\n",
    "question = schema.get_question('smooth-or-featured')"
   ]
  },
  {
   "cell_type": "code",
   "execution_count": null,
   "metadata": {},
   "outputs": [],
   "source": [
    "len(schema.questions)"
   ]
  },
  {
   "cell_type": "code",
   "execution_count": null,
   "metadata": {},
   "outputs": [],
   "source": [
    "question"
   ]
  },
  {
   "cell_type": "code",
   "execution_count": null,
   "metadata": {},
   "outputs": [],
   "source": []
  },
  {
   "cell_type": "code",
   "execution_count": null,
   "metadata": {},
   "outputs": [],
   "source": [
    "# retirement = 1\n",
    "# predicted_fractions = np.expand_dims(predicted_fractions, axis=-1)\n",
    "# acquisition_utils.get_expected_votes(samples, question, retirement, schema, round_votes=False).shape"
   ]
  },
  {
   "cell_type": "markdown",
   "metadata": {},
   "source": [
    "# Discrete Metrics"
   ]
  },
  {
   "cell_type": "code",
   "execution_count": 12,
   "metadata": {},
   "outputs": [],
   "source": [
    "def get_label(text, question):\n",
    "    return clean_text(text.replace(question.text, '').title())"
   ]
  },
  {
   "cell_type": "code",
   "execution_count": 13,
   "metadata": {},
   "outputs": [],
   "source": [
    "def clean_text(text):\n",
    "    return text.replace('-', ' ').replace('_', '').title()"
   ]
  },
  {
   "cell_type": "code",
   "execution_count": 14,
   "metadata": {},
   "outputs": [],
   "source": [
    "def filter_to_sensible(label_df, predictions, question):\n",
    "#     if prev_a is not None:\n",
    "#         prev_q = prev_a.question\n",
    "#         prev_q_cols = [answer.text + '_fraction' for answer in prev_q.answers]\n",
    "#         is_sensible = (label_df[prev_a.text + '_fraction'] / label_df[prev_q_cols].sum(axis=1)) > 0.5\n",
    "#         valid_labels, valid_predictions = label_df[is_sensible], predicted_fractions[is_sensible]\n",
    "#     else:\n",
    "#         valid_labels, valid_predictions = label_df, predicted_fractions\n",
    "    retirement = 1\n",
    "    samples = np.expand_dims(predictions, axis=-1)\n",
    "    expected_votes = acquisition_utils.get_expected_votes_human(label_df, question, retirement, schema, round_votes=False)\n",
    "    if not isinstance(expected_votes, np.ndarray):\n",
    "        expected_votes = expected_votes.numpy()  # hack, should fix properly...\n",
    "#     print(expected_votes)\n",
    "    is_sensible = expected_votes > 0.5\n",
    "    valid_labels, valid_predictions = label_df[is_sensible], predictions[is_sensible]\n",
    "    return valid_labels, valid_predictions\n",
    "\n",
    "\n",
    "# def get_binary_answers(question, label_df, predicted_fractions):\n",
    "#     # previous question should be valid\n",
    "#     valid_labels, valid_predictions = filter_to_sensible(label_df, predicted_fractions, question)\n",
    "#     cols = [answer.text + '_fraction' for answer in question.answers]\n",
    "#     y_true = np.argmax(valid_labels[cols].values, axis=1)\n",
    "#     y_pred = np.argmax(valid_predictions[:, question.start_index:question.end_index+1], axis=1)\n",
    "#     return y_true, y_pred\n",
    "    \n",
    "    \n",
    "# def print_metrics(question, label_df, predicted_fractions):\n",
    "#     y_true, y_pred = get_binary_answers(question, label_df, predicted_fractions)\n",
    "#     print('Acc: {:.4f}, Precision: {:.4f}, Recall: {:.4f}, F1: {:.4f} <- {})'.format(\n",
    "#         metrics.accuracy_score(y_true, y_pred),\n",
    "#         metrics.precision_score(y_true, y_pred, average='micro'),\n",
    "#         metrics.recall_score(y_true, y_pred, average='micro'),\n",
    "#         metrics.f1_score(y_true, y_pred, average='micro'),\n",
    "#         question.text\n",
    "#     ))\n",
    "\n",
    "# def show_confusion_matrix(question, label_df, predicted_fractions):\n",
    "    \n",
    "#     y_true, y_pred = get_binary_answers(question, label_df, predicted_fractions)\n",
    "#     cm = confusion_matrix(y_true, y_pred)\n",
    "\n",
    "#     labels = [get_label(a.text, question) for a in question.answers]\n",
    "    \n",
    "#     fig, ax = plt.subplots()\n",
    "#     ax.set_title(clean_text(question.text))\n",
    "\n",
    "#     return sns.heatmap(\n",
    "#         cm,\n",
    "#         annot=True,\n",
    "#         cmap='Blues',\n",
    "#         fmt='d',\n",
    "#         xticklabels=labels,\n",
    "#         yticklabels=labels,\n",
    "#         cbar=False,\n",
    "#         annot_kws={\"size\": 14},\n",
    "#         ax=ax,\n",
    "#         square=True,\n",
    "#         robust=True\n",
    "#     )\n"
   ]
  },
  {
   "cell_type": "code",
   "execution_count": 15,
   "metadata": {},
   "outputs": [
    {
     "data": {
      "text/plain": [
       "11346"
      ]
     },
     "execution_count": 15,
     "metadata": {},
     "output_type": "execute_result"
    }
   ],
   "source": [
    "len(retired)"
   ]
  },
  {
   "cell_type": "code",
   "execution_count": 16,
   "metadata": {},
   "outputs": [
    {
     "data": {
      "text/plain": [
       "2859"
      ]
     },
     "execution_count": 16,
     "metadata": {},
     "output_type": "execute_result"
    }
   ],
   "source": [
    "np.sum((retired['smooth-or-featured_featured-or-disk_fraction'] * retired['disk-edge-on_no_fraction']) > 0.5)"
   ]
  },
  {
   "cell_type": "code",
   "execution_count": 17,
   "metadata": {},
   "outputs": [
    {
     "name": "stderr",
     "output_type": "stream",
     "text": [
      "/home/walml/anaconda3/envs/zoobot/lib/python3.7/site-packages/ipykernel_launcher.py:15: RuntimeWarning: invalid value encountered in greater\n",
      "  from ipykernel import kernelapp as app\n"
     ]
    },
    {
     "data": {
      "text/plain": [
       "2859"
      ]
     },
     "execution_count": 17,
     "metadata": {},
     "output_type": "execute_result"
    }
   ],
   "source": [
    "valid_labels, valid_predictions = filter_to_sensible(retired, predicted_fractions, schema.get_question('has-spiral-arms'))\n",
    "len(valid_labels)"
   ]
  },
  {
   "cell_type": "code",
   "execution_count": 18,
   "metadata": {},
   "outputs": [],
   "source": [
    "retirement = 1  # assumed number of votes at top question\n",
    "# votes for specific question, given fraction predictions and retirement (=1)\n",
    "expected_votes = acquisition_utils.get_expected_votes_human(retired, question, retirement, schema, round_votes=False)  "
   ]
  },
  {
   "cell_type": "code",
   "execution_count": 29,
   "metadata": {},
   "outputs": [],
   "source": [
    "def get_binary_responses(question, label_df, predicted_fractions):\n",
    "    # previous question should be valid\n",
    "    valid_labels, valid_predictions = filter_to_sensible(label_df, predicted_fractions, question)\n",
    "    cols = [answer.text + '_fraction' for answer in question.answers]\n",
    "    # most likely answer, might be less than .5 though\n",
    "    y_true = np.argmax(valid_labels[cols].values, axis=1)\n",
    "    y_pred = np.argmax(valid_predictions[:, question.start_index:question.end_index+1], axis=1)\n",
    "    return y_true, y_pred\n",
    "\n",
    "def print_metrics(question, label_df, predicted_fractions):\n",
    "    y_true, y_pred = get_binary_responses(question, label_df, predicted_fractions)\n",
    "#     print(pd.value_counts(y_pred))\n",
    "#     average = 'micro'\n",
    "    average = 'weighted'\n",
    "    \n",
    "    # human\n",
    "#     print('Acc: {:.4f}, Precision: {:.4f}, Recall: {:.4f}, F1: {:.4f} <- {}'.format(\n",
    "#         sklearn.metrics.accuracy_score(y_true, y_pred),\n",
    "#         sklearn.metrics.precision_score(y_true, y_pred, average=average),\n",
    "#         sklearn.metrics.recall_score(y_true, y_pred, average=average),\n",
    "#         sklearn.metrics.f1_score(y_true, y_pred, average=average),\n",
    "#         question.text\n",
    "#     ))\n",
    "    # latex\n",
    "    print('{} & {} & {:.4f} & {:.4f} & {:.4f} & {:.4f} \\\\\\\\'.format(\n",
    "        question.text.replace('-', ' ').replace('_', ' ').title(),\n",
    "        len(y_true),\n",
    "        sklearn.metrics.accuracy_score(y_true, y_pred),\n",
    "        sklearn.metrics.precision_score(y_true, y_pred, average=average),\n",
    "        sklearn.metrics.recall_score(y_true, y_pred, average=average),\n",
    "        sklearn.metrics.f1_score(y_true, y_pred, average=average)\n",
    "))\n",
    "\n",
    "    \n",
    "def show_confusion_matrix(question, label_df, predicted_fractions):\n",
    "    y_true, y_pred = get_binary_responses(question, label_df, predicted_fractions)\n",
    "    \n",
    "    labels = range(len(question.answers))\n",
    "    cm = confusion_matrix(y_true, y_pred, labels=labels)\n",
    "    \n",
    "    ticklabels = [get_label(a.text, question) for a in question.answers]\n",
    "    # manual tweaks\n",
    "    for n in range(len(ticklabels)):\n",
    "        if ticklabels[n] == 'Featured Or Disk':\n",
    "            ticklabels[n] = 'Featured/Disk'\n",
    "        elif ticklabels[n] == 'Cigar Shaped':\n",
    "            ticklabels[n] = 'Cigar'\n",
    "        elif ticklabels[n] == 'More Than 4':\n",
    "            ticklabels[n] = '>4'\n",
    "        elif ticklabels[n] == 'Minor Disturbance':\n",
    "            ticklabels[n] = 'Minor Disturb.'\n",
    "        elif ticklabels[n] == 'Major Disturbance':\n",
    "            ticklabels[n] = 'Major Disturb.'\n",
    "            \n",
    "    fig, ax = plt.subplots()\n",
    "    ax.set_title(clean_text(question.text))\n",
    "\n",
    "    return sns.heatmap(\n",
    "        cm,\n",
    "        annot=True,\n",
    "        cmap='Blues',\n",
    "        fmt='d',\n",
    "        xticklabels=ticklabels,\n",
    "        yticklabels=ticklabels,\n",
    "        cbar=False,\n",
    "#         annot_kws={\"size\": 14},\n",
    "        ax=ax,\n",
    "        square=True,\n",
    "        robust=True\n",
    "    )\n"
   ]
  },
  {
   "cell_type": "markdown",
   "metadata": {},
   "source": [
    "## Metrics for all (sensible) galaxies"
   ]
  },
  {
   "cell_type": "code",
   "execution_count": 20,
   "metadata": {},
   "outputs": [
    {
     "name": "stdout",
     "output_type": "stream",
     "text": [
      "Question & Count & Accuracy & Precision & Recall & F1 \\\n",
      "\\hline \\hline\n",
      "Smooth Or Featured & 11346 & 0.9352 & 0.9363 & 0.9352 & 0.9356 \\\\\n",
      "Disk Edge On & 3803 & 0.9871 & 0.9871 & 0.9871 & 0.9871 \\\\\n",
      "Has Spiral Arms & 2859 & 0.9349 & 0.9364 & 0.9349 & 0.9356 \\\\\n",
      "Bar & 2859 & 0.8185 & 0.8095 & 0.8185 & 0.8110 \\\\\n",
      "Bulge Size & 2859 & 0.8419 & 0.8405 & 0.8419 & 0.8409 \\\\\n",
      "How Rounded & 6805 & 0.9314 & 0.9313 & 0.9314 & 0.9313 \\\\\n",
      "Edge On Bulge & 506 & 0.9111 & 0.9134 & 0.9111 & 0.8996 \\\\\n",
      "Spiral Winding & 1997 & 0.7832 & 0.8041 & 0.7832 & 0.7874 \\\\\n",
      "Spiral Arm Count & 1997 & 0.7742 & 0.7555 & 0.7742 & 0.7560 \\\\\n",
      "Merging & 11346 & 0.8798 & 0.8672 & 0.8798 & 0.8511 \\\\\n"
     ]
    },
    {
     "name": "stderr",
     "output_type": "stream",
     "text": [
      "/home/walml/anaconda3/envs/zoobot/lib/python3.7/site-packages/ipykernel_launcher.py:15: RuntimeWarning: invalid value encountered in greater\n",
      "  from ipykernel import kernelapp as app\n",
      "/home/walml/anaconda3/envs/zoobot/lib/python3.7/site-packages/sklearn/metrics/_classification.py:1272: UndefinedMetricWarning: Precision is ill-defined and being set to 0.0 in labels with no predicted samples. Use `zero_division` parameter to control this behavior.\n",
      "  _warn_prf(average, modifier, msg_start, len(result))\n"
     ]
    }
   ],
   "source": [
    "print('Question & Count & Accuracy & Precision & Recall & F1 \\\\')  # need to add second slash back manually\n",
    "print('\\hline \\hline')\n",
    "for question in schema.questions:\n",
    "    print_metrics(question, retired, predicted_fractions)\n",
    "#     plt.savefig('/home/walml/repos/zoobot/results/temp/mean_cm_decals_n2_m0_allq_' + question.text + '.png')"
   ]
  },
  {
   "cell_type": "markdown",
   "metadata": {},
   "source": [
    "Acc: 0.934, Global Precision: 0.934, Recall: 0.934, F1: 0.934 <- smooth-or-featured\n",
    "Acc: 0.988, Global Precision: 0.988, Recall: 0.988, F1: 0.988 <- disk-edge-on\n",
    "Acc: 0.925, Global Precision: 0.925, Recall: 0.925, F1: 0.925 <- has-spiral-arms\n",
    "Acc: 0.830, Global Precision: 0.830, Recall: 0.830, F1: 0.830 <- bar\n",
    "Acc: 0.832, Global Precision: 0.832, Recall: 0.832, F1: 0.832 <- bulge-size\n",
    "Acc: 0.929, Global Precision: 0.929, Recall: 0.929, F1: 0.929 <- how-rounded\n",
    "Acc: 0.921, Global Precision: 0.921, Recall: 0.921, F1: 0.921 <- edge-on-bulge\n",
    "Acc: 0.794, Global Precision: 0.794, Recall: 0.794, F1: 0.794 <- spiral-winding\n",
    "Acc: 0.767, Global Precision: 0.767, Recall: 0.767, F1: 0.767 <- spiral-arm-count\n",
    "Acc: 0.888, Global Precision: 0.888, Recall: 0.888, F1: 0.888 <- merging\n"
   ]
  },
  {
   "cell_type": "code",
   "execution_count": 21,
   "metadata": {},
   "outputs": [],
   "source": [
    "sns.set(font_scale=1.2)"
   ]
  },
  {
   "cell_type": "markdown",
   "metadata": {},
   "source": [
    "## Metrics for All Galaxies"
   ]
  },
  {
   "cell_type": "code",
   "execution_count": 34,
   "metadata": {},
   "outputs": [
    {
     "name": "stderr",
     "output_type": "stream",
     "text": [
      "/home/walml/anaconda3/envs/zoobot/lib/python3.7/site-packages/ipykernel_launcher.py:15: RuntimeWarning: invalid value encountered in greater\n",
      "  from ipykernel import kernelapp as app\n"
     ]
    },
    {
     "data": {
      "text/plain": [
       "<Figure size 432x288 with 0 Axes>"
      ]
     },
     "metadata": {},
     "output_type": "display_data"
    },
    {
     "data": {
      "text/plain": [
       "<Figure size 432x288 with 0 Axes>"
      ]
     },
     "metadata": {},
     "output_type": "display_data"
    },
    {
     "data": {
      "text/plain": [
       "<Figure size 432x288 with 0 Axes>"
      ]
     },
     "metadata": {},
     "output_type": "display_data"
    },
    {
     "data": {
      "text/plain": [
       "<Figure size 432x288 with 0 Axes>"
      ]
     },
     "metadata": {},
     "output_type": "display_data"
    },
    {
     "data": {
      "text/plain": [
       "<Figure size 432x288 with 0 Axes>"
      ]
     },
     "metadata": {},
     "output_type": "display_data"
    },
    {
     "data": {
      "text/plain": [
       "<Figure size 432x288 with 0 Axes>"
      ]
     },
     "metadata": {},
     "output_type": "display_data"
    },
    {
     "data": {
      "text/plain": [
       "<Figure size 432x288 with 0 Axes>"
      ]
     },
     "metadata": {},
     "output_type": "display_data"
    },
    {
     "data": {
      "text/plain": [
       "<Figure size 432x288 with 0 Axes>"
      ]
     },
     "metadata": {},
     "output_type": "display_data"
    },
    {
     "data": {
      "text/plain": [
       "<Figure size 432x288 with 0 Axes>"
      ]
     },
     "metadata": {},
     "output_type": "display_data"
    },
    {
     "data": {
      "text/plain": [
       "<Figure size 432x288 with 0 Axes>"
      ]
     },
     "metadata": {},
     "output_type": "display_data"
    }
   ],
   "source": [
    "for question in schema.questions:\n",
    "    fig = show_confusion_matrix(question, retired, predicted_fractions)\n",
    "    plt.tight_layout()\n",
    "    plt.savefig('/home/walml/repos/zoobot/results/temp/thesis_cm_decals_dr_full_ensemble_allq_allconf_' + question.text + '.png')\n",
    "    plt.clf()  # comment to view, uncomment to save without interfering with each other"
   ]
  },
  {
   "cell_type": "code",
   "execution_count": 23,
   "metadata": {},
   "outputs": [
    {
     "ename": "AssertionError",
     "evalue": "",
     "output_type": "error",
     "traceback": [
      "\u001b[0;31m---------------------------------------------------------------------------\u001b[0m",
      "\u001b[0;31mAssertionError\u001b[0m                            Traceback (most recent call last)",
      "\u001b[0;32m<ipython-input-23-a871fdc9ebee>\u001b[0m in \u001b[0;36m<module>\u001b[0;34m\u001b[0m\n\u001b[0;32m----> 1\u001b[0;31m \u001b[0;32massert\u001b[0m \u001b[0;32mFalse\u001b[0m\u001b[0;34m\u001b[0m\u001b[0;34m\u001b[0m\u001b[0m\n\u001b[0m",
      "\u001b[0;31mAssertionError\u001b[0m: "
     ]
    }
   ],
   "source": [
    "assert False"
   ]
  },
  {
   "cell_type": "markdown",
   "metadata": {},
   "source": [
    "## Metrics for high confidence galaxies\n",
    "\n",
    "Defining high confidence in multi-q case is harder. Perhaps, that fraction for any one answer?"
   ]
  },
  {
   "cell_type": "code",
   "execution_count": 24,
   "metadata": {},
   "outputs": [],
   "source": [
    "# high_confidence = (retired[answer.text + '_fraction'] > 0.8) | (retired[answer.text + '_fraction'] < 0.2)\n",
    "# print_metrics(question, retired[high_confidence], predicted_fractions[high_confidence])\n",
    "\n",
    "# show_confusion_matrix(question, retired[high_confidence], predicted_fractions[high_confidence])"
   ]
  },
  {
   "cell_type": "code",
   "execution_count": 32,
   "metadata": {},
   "outputs": [
    {
     "name": "stdout",
     "output_type": "stream",
     "text": [
      "Question & Count & Accuracy & Precision & Recall & F1 \\\\\n",
      "\\hline \\hline\n",
      "Smooth Or Featured & 3495 & 0.9997 & 0.9997 & 0.9997 & 0.9997 \\\\\n",
      "Disk Edge On & 3480 & 0.9980 & 0.9980 & 0.9980 & 0.9980 \\\\\n"
     ]
    },
    {
     "name": "stderr",
     "output_type": "stream",
     "text": [
      "/home/walml/anaconda3/envs/zoobot/lib/python3.7/site-packages/ipykernel_launcher.py:8: RuntimeWarning: invalid value encountered in greater\n",
      "  \n"
     ]
    },
    {
     "name": "stdout",
     "output_type": "stream",
     "text": [
      "Has Spiral Arms & 2024 & 0.9921 & 0.9933 & 0.9921 & 0.9924 \\\\\n",
      "Bar & 543 & 0.9945 & 0.9964 & 0.9945 & 0.9951 \\\\\n",
      "Bulge Size & 237 & 1.0000 & 1.0000 & 1.0000 & 1.0000 \\\\\n",
      "How Rounded & 3774 & 0.9968 & 0.9968 & 0.9968 & 0.9968 \\\\\n",
      "Edge On Bulge & 258 & 0.9961 & 0.9961 & 0.9961 & 0.9961 \\\\\n",
      "Spiral Winding & 213 & 0.9906 & 1.0000 & 0.9906 & 0.9953 \\\\\n",
      "Spiral Arm Count & 659 & 0.9863 & 0.9891 & 0.9863 & 0.9871 \\\\\n",
      "Merging & 3108 & 0.9987 & 0.9987 & 0.9987 & 0.9987 \\\\\n"
     ]
    },
    {
     "data": {
      "text/plain": [
       "<Figure size 432x288 with 0 Axes>"
      ]
     },
     "metadata": {},
     "output_type": "display_data"
    },
    {
     "data": {
      "text/plain": [
       "<Figure size 432x288 with 0 Axes>"
      ]
     },
     "metadata": {},
     "output_type": "display_data"
    },
    {
     "data": {
      "text/plain": [
       "<Figure size 432x288 with 0 Axes>"
      ]
     },
     "metadata": {},
     "output_type": "display_data"
    },
    {
     "data": {
      "text/plain": [
       "<Figure size 432x288 with 0 Axes>"
      ]
     },
     "metadata": {},
     "output_type": "display_data"
    },
    {
     "data": {
      "text/plain": [
       "<Figure size 432x288 with 0 Axes>"
      ]
     },
     "metadata": {},
     "output_type": "display_data"
    },
    {
     "data": {
      "text/plain": [
       "<Figure size 432x288 with 0 Axes>"
      ]
     },
     "metadata": {},
     "output_type": "display_data"
    },
    {
     "data": {
      "text/plain": [
       "<Figure size 432x288 with 0 Axes>"
      ]
     },
     "metadata": {},
     "output_type": "display_data"
    },
    {
     "data": {
      "text/plain": [
       "<Figure size 432x288 with 0 Axes>"
      ]
     },
     "metadata": {},
     "output_type": "display_data"
    },
    {
     "data": {
      "text/plain": [
       "<Figure size 432x288 with 0 Axes>"
      ]
     },
     "metadata": {},
     "output_type": "display_data"
    },
    {
     "data": {
      "text/plain": [
       "<Figure size 432x288 with 0 Axes>"
      ]
     },
     "metadata": {},
     "output_type": "display_data"
    }
   ],
   "source": [
    "print(r'Question & Count & Accuracy & Precision & Recall & F1 \\\\')\n",
    "print('\\hline \\hline')\n",
    "for question in schema.questions:\n",
    "#     if len(question.answers) == 2:\n",
    "#         answer = question.answers[0]\n",
    "    answers = question.answers\n",
    "    fractions = np.array([retired[answer.text + '_fraction'] for answer in answers])\n",
    "    high_confidence = np.any(fractions > 0.8, axis=0)\n",
    "    print_metrics(question, retired[high_confidence], predicted_fractions[high_confidence])\n",
    "    fig = show_confusion_matrix(question, retired[high_confidence], predicted_fractions[high_confidence])\n",
    "    plt.tight_layout()\n",
    "    plt.savefig('/home/walml/repos/zoobot/results/temp/thesis_cm_decals_dr_full_ensemble_allq_highconf_' + question.text + '.png')\n",
    "    plt.clf()  # comment to view, uncomment to save without interfering with each other"
   ]
  },
  {
   "cell_type": "code",
   "execution_count": null,
   "metadata": {},
   "outputs": [],
   "source": [
    "assert False"
   ]
  },
  {
   "cell_type": "code",
   "execution_count": 35,
   "metadata": {},
   "outputs": [
    {
     "name": "stderr",
     "output_type": "stream",
     "text": [
      "/home/walml/anaconda3/envs/zoobot/lib/python3.7/site-packages/ipykernel_launcher.py:3: SettingWithCopyWarning: \n",
      "A value is trying to be set on a copy of a slice from a DataFrame.\n",
      "Try using .loc[row_indexer,col_indexer] = value instead\n",
      "\n",
      "See the caveats in the documentation: https://pandas.pydata.org/pandas-docs/stable/user_guide/indexing.html#returning-a-view-versus-a-copy\n",
      "  This is separate from the ipykernel package so we can avoid doing imports until\n"
     ]
    }
   ],
   "source": [
    "for question in schema.questions:\n",
    "    for answer in question.answers:\n",
    "        retired[answer.text + '_ml_fraction'] = predicted_fractions[:, answer.index]"
   ]
  },
  {
   "cell_type": "code",
   "execution_count": 36,
   "metadata": {},
   "outputs": [],
   "source": [
    "question = schema.get_question('spiral-arm-count')\n",
    "answer = schema.get_answer('spiral-arm-count_cant-tell')"
   ]
  },
  {
   "cell_type": "code",
   "execution_count": 37,
   "metadata": {},
   "outputs": [],
   "source": [
    "confused_cant_tell_arms = retired[answer.text + '_fraction'] "
   ]
  },
  {
   "cell_type": "code",
   "execution_count": 38,
   "metadata": {},
   "outputs": [
    {
     "name": "stderr",
     "output_type": "stream",
     "text": [
      "/home/walml/anaconda3/envs/zoobot/lib/python3.7/site-packages/ipykernel_launcher.py:15: RuntimeWarning: invalid value encountered in greater\n",
      "  from ipykernel import kernelapp as app\n"
     ]
    }
   ],
   "source": [
    "\n",
    "\n",
    "valid_labels, valid_predictions = filter_to_sensible(retired, predicted_fractions, question)\n",
    "y_true, y_pred = get_binary_responses(question, valid_labels, valid_predictions)"
   ]
  },
  {
   "cell_type": "code",
   "execution_count": 39,
   "metadata": {},
   "outputs": [],
   "source": [
    "cant_tell_confused_with_two = (y_true == 5) & (y_pred == 1)\n",
    "two_confused_with_cant_tell = (y_true == 1) & (y_pred == 5)"
   ]
  },
  {
   "cell_type": "code",
   "execution_count": 40,
   "metadata": {},
   "outputs": [
    {
     "data": {
      "text/plain": [
       "array(['[\"https://panoptes-uploads.zooniverse.org/production/subject_location/7d6d6cad-de5c-4243-bc1f-6b0ac0e73596.png\"]',\n",
       "       '[\"https://panoptes-uploads.zooniverse.org/production/subject_location/72ceb6be-1873-4c5e-8d42-5e3f20b6ca9b.png\"]',\n",
       "       '[\"https://panoptes-uploads.zooniverse.org/production/subject_location/e8bf70c8-32f7-4db6-a667-51d726905af3.png\"]',\n",
       "       '[\"https://panoptes-uploads.zooniverse.org/production/subject_location/14e26ad2-7250-47f1-8fa2-83ac20d75626.png\"]',\n",
       "       '[\"https://panoptes-uploads.zooniverse.org/production/subject_location/0e06788b-27e0-49b7-b703-1cbae1255774.png\"]'],\n",
       "      dtype=object)"
      ]
     },
     "execution_count": 40,
     "metadata": {},
     "output_type": "execute_result"
    }
   ],
   "source": [
    "valid_labels[cant_tell_confused_with_two]['locations'].values[:5]"
   ]
  },
  {
   "cell_type": "code",
   "execution_count": 41,
   "metadata": {},
   "outputs": [
    {
     "data": {
      "text/plain": [
       "1        0.909988\n",
       "3        0.489325\n",
       "4        0.939987\n",
       "5        0.262811\n",
       "6        0.491270\n",
       "           ...   \n",
       "49609    0.171202\n",
       "49627    0.373450\n",
       "49652    0.308567\n",
       "49671    0.351261\n",
       "49680    0.183243\n",
       "Name: spiral-arm-count_2_ml_fraction, Length: 11346, dtype: float32"
      ]
     },
     "execution_count": 41,
     "metadata": {},
     "output_type": "execute_result"
    }
   ],
   "source": [
    "retired['spiral-arm-count_2_ml_fraction']"
   ]
  },
  {
   "cell_type": "code",
   "execution_count": 42,
   "metadata": {},
   "outputs": [
    {
     "data": {
      "text/plain": [
       "1        0.034408\n",
       "3        0.047830\n",
       "4        0.013235\n",
       "5        0.280942\n",
       "6        0.248969\n",
       "           ...   \n",
       "49609    0.587892\n",
       "49627    0.377485\n",
       "49652    0.247354\n",
       "49671    0.421153\n",
       "49680    0.445591\n",
       "Name: spiral-arm-count_cant-tell_ml_fraction, Length: 11346, dtype: float32"
      ]
     },
     "execution_count": 42,
     "metadata": {},
     "output_type": "execute_result"
    }
   ],
   "source": [
    "retired['spiral-arm-count_cant-tell_ml_fraction']"
   ]
  },
  {
   "cell_type": "code",
   "execution_count": 43,
   "metadata": {},
   "outputs": [],
   "source": [
    "# copied from trust_the_model.ipynb\n",
    "def show_galaxies(df, scale=3, nrows=6, ncols=6):\n",
    "    fig = plt.gcf()\n",
    "\n",
    "    plt.figure(figsize=(scale * nrows * 1.505, scale * ncols / 2.59))\n",
    "    gs1 = gridspec.GridSpec(nrows, ncols)\n",
    "    gs1.update(wspace=0.0, hspace=0.0)\n",
    "    galaxy_n = 0\n",
    "    for row_n in range(nrows):\n",
    "        for col_n in range(ncols):\n",
    "            galaxy = df.iloc[galaxy_n]\n",
    "            image = Image.open(galaxy['file_loc'])\n",
    "            ax = plt.subplot(gs1[row_n, col_n])\n",
    "            ax.imshow(image)\n",
    "            ax.text(35, 50, 'Vol: 2={:.2f}, ?={:.2f}'.format(galaxy['spiral-arm-count_2_fraction'], galaxy['spiral-arm-count_cant-tell_fraction']), fontsize=12, color='r')\n",
    "            ax.text(35, 100, 'ML: 2={:.2f}, ?={:.2f}'.format(galaxy['spiral-arm-count_2_ml_fraction'], galaxy['spiral-arm-count_cant-tell_ml_fraction']), fontsize=12, color='r')\n",
    "#             ax.text(10, 50, r'$\\rho = {:.2f}$, Var ${:.3f}$'.format(galaxy['median_prediction'], 3*galaxy['predictions_var']), fontsize=12, color='r')\n",
    "#             ax.text(10, 80, '$L = {:.2f}$'.format(galaxy['bcnn_likelihood']), fontsize=12, color='r')\n",
    "            ax.axis('off')\n",
    "            galaxy_n += 1\n",
    "#     print('Mean L: {:.2f}'.format(df[:nrows * ncols]['bcnn_likelihood'].mean()))\n",
    "    fig = plt.gcf()\n",
    "    fig.tight_layout()\n",
    "    return fig\n"
   ]
  },
  {
   "cell_type": "code",
   "execution_count": 44,
   "metadata": {},
   "outputs": [
    {
     "ename": "PermissionError",
     "evalue": "[Errno 13] Permission denied: '/media/walml/beta/decals/png_native/dr5/J130/J130836.21-022016.2.png'",
     "output_type": "error",
     "traceback": [
      "\u001b[0;31m---------------------------------------------------------------------------\u001b[0m",
      "\u001b[0;31mPermissionError\u001b[0m                           Traceback (most recent call last)",
      "\u001b[0;32m<ipython-input-44-51d871078e54>\u001b[0m in \u001b[0;36m<module>\u001b[0;34m\u001b[0m\n\u001b[0;32m----> 1\u001b[0;31m \u001b[0m_\u001b[0m \u001b[0;34m=\u001b[0m \u001b[0mshow_galaxies\u001b[0m\u001b[0;34m(\u001b[0m\u001b[0mvalid_labels\u001b[0m\u001b[0;34m[\u001b[0m\u001b[0mcant_tell_confused_with_two\u001b[0m\u001b[0;34m]\u001b[0m\u001b[0;34m.\u001b[0m\u001b[0msample\u001b[0m\u001b[0;34m(\u001b[0m\u001b[0;36m8\u001b[0m\u001b[0;34m)\u001b[0m\u001b[0;34m,\u001b[0m \u001b[0mnrows\u001b[0m\u001b[0;34m=\u001b[0m\u001b[0;36m2\u001b[0m\u001b[0;34m,\u001b[0m \u001b[0mncols\u001b[0m\u001b[0;34m=\u001b[0m\u001b[0;36m4\u001b[0m\u001b[0;34m)\u001b[0m\u001b[0;34m\u001b[0m\u001b[0;34m\u001b[0m\u001b[0m\n\u001b[0m",
      "\u001b[0;32m<ipython-input-43-d470de5d1a68>\u001b[0m in \u001b[0;36mshow_galaxies\u001b[0;34m(df, scale, nrows, ncols)\u001b[0m\n\u001b[1;32m     10\u001b[0m         \u001b[0;32mfor\u001b[0m \u001b[0mcol_n\u001b[0m \u001b[0;32min\u001b[0m \u001b[0mrange\u001b[0m\u001b[0;34m(\u001b[0m\u001b[0mncols\u001b[0m\u001b[0;34m)\u001b[0m\u001b[0;34m:\u001b[0m\u001b[0;34m\u001b[0m\u001b[0;34m\u001b[0m\u001b[0m\n\u001b[1;32m     11\u001b[0m             \u001b[0mgalaxy\u001b[0m \u001b[0;34m=\u001b[0m \u001b[0mdf\u001b[0m\u001b[0;34m.\u001b[0m\u001b[0miloc\u001b[0m\u001b[0;34m[\u001b[0m\u001b[0mgalaxy_n\u001b[0m\u001b[0;34m]\u001b[0m\u001b[0;34m\u001b[0m\u001b[0;34m\u001b[0m\u001b[0m\n\u001b[0;32m---> 12\u001b[0;31m             \u001b[0mimage\u001b[0m \u001b[0;34m=\u001b[0m \u001b[0mImage\u001b[0m\u001b[0;34m.\u001b[0m\u001b[0mopen\u001b[0m\u001b[0;34m(\u001b[0m\u001b[0mgalaxy\u001b[0m\u001b[0;34m[\u001b[0m\u001b[0;34m'file_loc'\u001b[0m\u001b[0;34m]\u001b[0m\u001b[0;34m)\u001b[0m\u001b[0;34m\u001b[0m\u001b[0;34m\u001b[0m\u001b[0m\n\u001b[0m\u001b[1;32m     13\u001b[0m             \u001b[0max\u001b[0m \u001b[0;34m=\u001b[0m \u001b[0mplt\u001b[0m\u001b[0;34m.\u001b[0m\u001b[0msubplot\u001b[0m\u001b[0;34m(\u001b[0m\u001b[0mgs1\u001b[0m\u001b[0;34m[\u001b[0m\u001b[0mrow_n\u001b[0m\u001b[0;34m,\u001b[0m \u001b[0mcol_n\u001b[0m\u001b[0;34m]\u001b[0m\u001b[0;34m)\u001b[0m\u001b[0;34m\u001b[0m\u001b[0;34m\u001b[0m\u001b[0m\n\u001b[1;32m     14\u001b[0m             \u001b[0max\u001b[0m\u001b[0;34m.\u001b[0m\u001b[0mimshow\u001b[0m\u001b[0;34m(\u001b[0m\u001b[0mimage\u001b[0m\u001b[0;34m)\u001b[0m\u001b[0;34m\u001b[0m\u001b[0;34m\u001b[0m\u001b[0m\n",
      "\u001b[0;32m~/anaconda3/envs/zoobot/lib/python3.7/site-packages/PIL/Image.py\u001b[0m in \u001b[0;36mopen\u001b[0;34m(fp, mode)\u001b[0m\n\u001b[1;32m   2841\u001b[0m \u001b[0;34m\u001b[0m\u001b[0m\n\u001b[1;32m   2842\u001b[0m     \u001b[0;32mif\u001b[0m \u001b[0mfilename\u001b[0m\u001b[0;34m:\u001b[0m\u001b[0;34m\u001b[0m\u001b[0;34m\u001b[0m\u001b[0m\n\u001b[0;32m-> 2843\u001b[0;31m         \u001b[0mfp\u001b[0m \u001b[0;34m=\u001b[0m \u001b[0mbuiltins\u001b[0m\u001b[0;34m.\u001b[0m\u001b[0mopen\u001b[0m\u001b[0;34m(\u001b[0m\u001b[0mfilename\u001b[0m\u001b[0;34m,\u001b[0m \u001b[0;34m\"rb\"\u001b[0m\u001b[0;34m)\u001b[0m\u001b[0;34m\u001b[0m\u001b[0;34m\u001b[0m\u001b[0m\n\u001b[0m\u001b[1;32m   2844\u001b[0m         \u001b[0mexclusive_fp\u001b[0m \u001b[0;34m=\u001b[0m \u001b[0;32mTrue\u001b[0m\u001b[0;34m\u001b[0m\u001b[0;34m\u001b[0m\u001b[0m\n\u001b[1;32m   2845\u001b[0m \u001b[0;34m\u001b[0m\u001b[0m\n",
      "\u001b[0;31mPermissionError\u001b[0m: [Errno 13] Permission denied: '/media/walml/beta/decals/png_native/dr5/J130/J130836.21-022016.2.png'"
     ]
    },
    {
     "data": {
      "text/plain": [
       "<Figure size 432x288 with 0 Axes>"
      ]
     },
     "metadata": {},
     "output_type": "display_data"
    },
    {
     "data": {
      "text/plain": [
       "<Figure size 650.16x333.591 with 0 Axes>"
      ]
     },
     "metadata": {},
     "output_type": "display_data"
    }
   ],
   "source": [
    "_ = show_galaxies(valid_labels[cant_tell_confused_with_two].sample(8), nrows=2, ncols=4)"
   ]
  },
  {
   "cell_type": "code",
   "execution_count": 45,
   "metadata": {},
   "outputs": [
    {
     "ename": "PermissionError",
     "evalue": "[Errno 13] Permission denied: '/media/walml/beta/decals/png_native/dr5/J123/J123209.35+113307.3.png'",
     "output_type": "error",
     "traceback": [
      "\u001b[0;31m---------------------------------------------------------------------------\u001b[0m",
      "\u001b[0;31mPermissionError\u001b[0m                           Traceback (most recent call last)",
      "\u001b[0;32m<ipython-input-45-dfb54328e696>\u001b[0m in \u001b[0;36m<module>\u001b[0;34m\u001b[0m\n\u001b[0;32m----> 1\u001b[0;31m \u001b[0m_\u001b[0m \u001b[0;34m=\u001b[0m \u001b[0mshow_galaxies\u001b[0m\u001b[0;34m(\u001b[0m\u001b[0mvalid_labels\u001b[0m\u001b[0;34m[\u001b[0m\u001b[0mtwo_confused_with_cant_tell\u001b[0m\u001b[0;34m]\u001b[0m\u001b[0;34m.\u001b[0m\u001b[0msample\u001b[0m\u001b[0;34m(\u001b[0m\u001b[0;36m8\u001b[0m\u001b[0;34m)\u001b[0m\u001b[0;34m,\u001b[0m \u001b[0mnrows\u001b[0m\u001b[0;34m=\u001b[0m\u001b[0;36m2\u001b[0m\u001b[0;34m,\u001b[0m \u001b[0mncols\u001b[0m\u001b[0;34m=\u001b[0m\u001b[0;36m4\u001b[0m\u001b[0;34m)\u001b[0m\u001b[0;34m\u001b[0m\u001b[0;34m\u001b[0m\u001b[0m\n\u001b[0m",
      "\u001b[0;32m<ipython-input-43-d470de5d1a68>\u001b[0m in \u001b[0;36mshow_galaxies\u001b[0;34m(df, scale, nrows, ncols)\u001b[0m\n\u001b[1;32m     10\u001b[0m         \u001b[0;32mfor\u001b[0m \u001b[0mcol_n\u001b[0m \u001b[0;32min\u001b[0m \u001b[0mrange\u001b[0m\u001b[0;34m(\u001b[0m\u001b[0mncols\u001b[0m\u001b[0;34m)\u001b[0m\u001b[0;34m:\u001b[0m\u001b[0;34m\u001b[0m\u001b[0;34m\u001b[0m\u001b[0m\n\u001b[1;32m     11\u001b[0m             \u001b[0mgalaxy\u001b[0m \u001b[0;34m=\u001b[0m \u001b[0mdf\u001b[0m\u001b[0;34m.\u001b[0m\u001b[0miloc\u001b[0m\u001b[0;34m[\u001b[0m\u001b[0mgalaxy_n\u001b[0m\u001b[0;34m]\u001b[0m\u001b[0;34m\u001b[0m\u001b[0;34m\u001b[0m\u001b[0m\n\u001b[0;32m---> 12\u001b[0;31m             \u001b[0mimage\u001b[0m \u001b[0;34m=\u001b[0m \u001b[0mImage\u001b[0m\u001b[0;34m.\u001b[0m\u001b[0mopen\u001b[0m\u001b[0;34m(\u001b[0m\u001b[0mgalaxy\u001b[0m\u001b[0;34m[\u001b[0m\u001b[0;34m'file_loc'\u001b[0m\u001b[0;34m]\u001b[0m\u001b[0;34m)\u001b[0m\u001b[0;34m\u001b[0m\u001b[0;34m\u001b[0m\u001b[0m\n\u001b[0m\u001b[1;32m     13\u001b[0m             \u001b[0max\u001b[0m \u001b[0;34m=\u001b[0m \u001b[0mplt\u001b[0m\u001b[0;34m.\u001b[0m\u001b[0msubplot\u001b[0m\u001b[0;34m(\u001b[0m\u001b[0mgs1\u001b[0m\u001b[0;34m[\u001b[0m\u001b[0mrow_n\u001b[0m\u001b[0;34m,\u001b[0m \u001b[0mcol_n\u001b[0m\u001b[0;34m]\u001b[0m\u001b[0;34m)\u001b[0m\u001b[0;34m\u001b[0m\u001b[0;34m\u001b[0m\u001b[0m\n\u001b[1;32m     14\u001b[0m             \u001b[0max\u001b[0m\u001b[0;34m.\u001b[0m\u001b[0mimshow\u001b[0m\u001b[0;34m(\u001b[0m\u001b[0mimage\u001b[0m\u001b[0;34m)\u001b[0m\u001b[0;34m\u001b[0m\u001b[0;34m\u001b[0m\u001b[0m\n",
      "\u001b[0;32m~/anaconda3/envs/zoobot/lib/python3.7/site-packages/PIL/Image.py\u001b[0m in \u001b[0;36mopen\u001b[0;34m(fp, mode)\u001b[0m\n\u001b[1;32m   2841\u001b[0m \u001b[0;34m\u001b[0m\u001b[0m\n\u001b[1;32m   2842\u001b[0m     \u001b[0;32mif\u001b[0m \u001b[0mfilename\u001b[0m\u001b[0;34m:\u001b[0m\u001b[0;34m\u001b[0m\u001b[0;34m\u001b[0m\u001b[0m\n\u001b[0;32m-> 2843\u001b[0;31m         \u001b[0mfp\u001b[0m \u001b[0;34m=\u001b[0m \u001b[0mbuiltins\u001b[0m\u001b[0;34m.\u001b[0m\u001b[0mopen\u001b[0m\u001b[0;34m(\u001b[0m\u001b[0mfilename\u001b[0m\u001b[0;34m,\u001b[0m \u001b[0;34m\"rb\"\u001b[0m\u001b[0;34m)\u001b[0m\u001b[0;34m\u001b[0m\u001b[0;34m\u001b[0m\u001b[0m\n\u001b[0m\u001b[1;32m   2844\u001b[0m         \u001b[0mexclusive_fp\u001b[0m \u001b[0;34m=\u001b[0m \u001b[0;32mTrue\u001b[0m\u001b[0;34m\u001b[0m\u001b[0;34m\u001b[0m\u001b[0m\n\u001b[1;32m   2845\u001b[0m \u001b[0;34m\u001b[0m\u001b[0m\n",
      "\u001b[0;31mPermissionError\u001b[0m: [Errno 13] Permission denied: '/media/walml/beta/decals/png_native/dr5/J123/J123209.35+113307.3.png'"
     ]
    },
    {
     "data": {
      "text/plain": [
       "<Figure size 432x288 with 0 Axes>"
      ]
     },
     "metadata": {},
     "output_type": "display_data"
    },
    {
     "data": {
      "text/plain": [
       "<Figure size 650.16x333.591 with 0 Axes>"
      ]
     },
     "metadata": {},
     "output_type": "display_data"
    }
   ],
   "source": [
    "_ = show_galaxies(valid_labels[two_confused_with_cant_tell].sample(8), nrows=2, ncols=4)"
   ]
  },
  {
   "cell_type": "markdown",
   "metadata": {},
   "source": [
    "# Regression Metrics"
   ]
  },
  {
   "cell_type": "code",
   "execution_count": null,
   "metadata": {},
   "outputs": [],
   "source": [
    "errors = []\n",
    "min_total_votes = 20\n",
    "for question_n, question in enumerate(schema.questions):\n",
    "    for answer in question.answers:\n",
    "        print(question.text, answer.text)\n",
    "        valid_labels, valid_predictions = filter_to_sensible(retired, predicted_fractions, question)  # df, np.array\n",
    "        valid_labels.reset_index()\n",
    "        enough_votes = valid_labels[question.text + '_total-votes'] >= min_total_votes  # not quite the same as filter_to_sensible\n",
    "        y_true = valid_labels.loc[enough_votes, answer.text + '_fraction']\n",
    "        y_pred = valid_predictions[enough_votes, answer.index]\n",
    "        assert not pd.isna(y_true).any()\n",
    "        assert not pd.isna(y_pred).any()\n",
    "        absolute = mean_absolute_error(y_true, y_pred)\n",
    "        mse = mean_squared_error(y_true, y_pred)\n",
    "        errors.append({'answer': answer.text, 'rmse': np.sqrt(mse), 'mean_absolute_error': absolute, 'question_n': question_n})\n",
    "\n",
    "metrics = pd.DataFrame(errors)\n"
   ]
  },
  {
   "cell_type": "code",
   "execution_count": null,
   "metadata": {},
   "outputs": [],
   "source": [
    "colorbrewer = [\n",
    "    '#8dd3c7',\n",
    "    '#ffffb3',\n",
    "    '#bebada',\n",
    "    '#fb8072',\n",
    "    '#80b1d3',\n",
    "    '#fdb462',\n",
    "    '#b3de69',\n",
    "    '#fccde5',\n",
    "    '#d9d9d9',\n",
    "    '#bc80bd'\n",
    "]\n",
    "base_palette = sns.color_palette(colorbrewer)\n"
   ]
  },
  {
   "cell_type": "code",
   "execution_count": null,
   "metadata": {},
   "outputs": [],
   "source": [
    "# base_palette = sns.husl_palette(len(schema.questions))\n",
    "# base_palette = sns.choose_colorbrewer_palette('qualitative')\n",
    "\n",
    "# import random\n",
    "# random.shuffle(base_palette)\n",
    "# sns.palplot(base_palette)"
   ]
  },
  {
   "cell_type": "code",
   "execution_count": null,
   "metadata": {},
   "outputs": [],
   "source": [
    "repeating_palette = []\n",
    "for q_n, question in enumerate(schema.questions):\n",
    "    for a_n, answer in enumerate(question.answers):\n",
    "        repeating_palette.append(base_palette[q_n])"
   ]
  },
  {
   "cell_type": "code",
   "execution_count": null,
   "metadata": {},
   "outputs": [],
   "source": [
    "sns.set_style('whitegrid', {'axes.edgecolor': '0.2'})\n",
    "sns.set_context('notebook')\n",
    "sns.set_palette(repeating_palette)\n",
    "fig, ax = plt.subplots(figsize=(6, 8))\n",
    "sns.barplot(data=metrics, y='answer', x='mean_absolute_error', ax=ax)\n",
    "plt.xlabel('Vote Fraction Mean Deviation')\n",
    "plt.ylabel('')\n",
    "fig.tight_layout()\n",
    "# plt.savefig('mean_deviation_bar.pdf')"
   ]
  },
  {
   "cell_type": "code",
   "execution_count": null,
   "metadata": {},
   "outputs": [],
   "source": [
    "fig, ax = plt.subplots(figsize=(10, 10))\n",
    "sns.barplot(data=metrics, y='answer', x='rmse', ax=ax)"
   ]
  },
  {
   "cell_type": "code",
   "execution_count": null,
   "metadata": {},
   "outputs": [],
   "source": [
    "\n",
    "# question = schema.get_question('has-spiral-arms')\n",
    "answer = schema.get_answer('bulge-size_moderate')\n",
    "question = answer.question\n",
    "# answer = question.answers[0]\n",
    "valid_labels, valid_predictions = filter_to_sensible(retired, predicted_fractions, question)\n",
    "sns.scatterplot(valid_labels[answer.text + '_fraction'], valid_predictions[:, answer.index], alpha=.1)\n",
    "\n"
   ]
  },
  {
   "cell_type": "code",
   "execution_count": null,
   "metadata": {},
   "outputs": [],
   "source": [
    "plt.hist(valid_labels[question.text + '_total-votes'], bins=40, range=(0, 60))"
   ]
  },
  {
   "cell_type": "code",
   "execution_count": null,
   "metadata": {},
   "outputs": [],
   "source": [
    "question.asked_after"
   ]
  },
  {
   "cell_type": "code",
   "execution_count": null,
   "metadata": {},
   "outputs": [],
   "source": [
    "valid_labels.iloc[np.argsort(valid_labels[question.text + '_total-votes'])[:10]]['smooth-or-featured_featured-or-disk_fraction']"
   ]
  },
  {
   "cell_type": "code",
   "execution_count": null,
   "metadata": {},
   "outputs": [],
   "source": [
    "plt.hist(valid_labels[answer.text + '_fraction'], bins=40)"
   ]
  },
  {
   "cell_type": "code",
   "execution_count": null,
   "metadata": {},
   "outputs": [],
   "source": [
    "valid_labels['smooth-or-featured_total-votes'].hist(bins=30, range=[0., 120])"
   ]
  },
  {
   "cell_type": "code",
   "execution_count": null,
   "metadata": {},
   "outputs": [],
   "source": [
    "\n",
    "fig, axes = plt.subplots(nrows=len(label_cols), figsize=(8, len(label_cols) * 3))\n",
    "ax_n = 0\n",
    "for question in schema.questions:\n",
    "    valid_labels, valid_predictions = filter_to_sensible(retired, predicted_fractions, question)\n",
    "    for answer in question.answers:\n",
    "        sns.scatterplot(valid_labels[answer.text + '_fraction'], valid_predictions[:, answer.index], ax=axes[ax_n], alpha=.14)\n",
    "        ax_n += 1\n"
   ]
  },
  {
   "cell_type": "code",
   "execution_count": null,
   "metadata": {},
   "outputs": [],
   "source": []
  },
  {
   "cell_type": "code",
   "execution_count": null,
   "metadata": {},
   "outputs": [],
   "source": []
  },
  {
   "cell_type": "code",
   "execution_count": null,
   "metadata": {},
   "outputs": [],
   "source": [
    "retired['smooth-or-featured_total-votes'].hist(bins=30)"
   ]
  },
  {
   "cell_type": "code",
   "execution_count": null,
   "metadata": {},
   "outputs": [],
   "source": [
    "is_intense = retired['smooth-or-featured_total-votes'] > 75\n",
    "intense_labels, intense_predictions = retired[is_intense], predicted_fractions[is_intense]"
   ]
  },
  {
   "cell_type": "code",
   "execution_count": null,
   "metadata": {},
   "outputs": [],
   "source": [
    "def mimic_fewer(galaxy, question):\n",
    "    data = []\n",
    "    n_answers = len(question.answers)\n",
    "    actual_votes = galaxy[[a.text for a in question.answers]].values\n",
    "    actual_fractions = actual_votes / actual_votes.sum()\n",
    "    total_votes = actual_votes.sum()\n",
    "    \n",
    "    removed_votes = 0\n",
    "    latest_votes = actual_votes.copy()\n",
    "    while removed_votes < total_votes:\n",
    "        fractions = np.array([latest_votes[answer_n]/latest_votes.sum() for answer_n in range(n_answers)])\n",
    "        assert latest_votes.sum() + removed_votes == total_votes\n",
    "        data.append({'n_votes': total_votes - removed_votes, 'votes': latest_votes.copy(), 'fractions': fractions, 'deviations': np.abs(fractions - actual_fractions)})\n",
    "        \n",
    "#         answer_above_0 = latest_votes > 0\n",
    "#         valid_answer_indices = np.arange(n_answers)[answer_above_0]\n",
    "#         index_to_reduce = np.random.choice(valid_answer_indices)\n",
    "        index_to_reduce = np.random.choice(np.arange(n_answers), p=fractions)\n",
    "        latest_votes[index_to_reduce] = latest_votes[index_to_reduce] - 1\n",
    "        removed_votes += 1\n",
    "        \n",
    "    return data\n",
    "            "
   ]
  },
  {
   "cell_type": "code",
   "execution_count": null,
   "metadata": {},
   "outputs": [],
   "source": [
    "question = schema.get_question('smooth-or-featured')\n",
    "# question = schema.get_question('has-spiral-arms')\n",
    "# question = schema.get_question('bar')\n",
    "# question = schema.get_question('bulge-size')\n",
    "galaxy = intense_labels.sample().squeeze()\n",
    "mimic = pd.DataFrame(data=mimic_fewer(galaxy, question))\n",
    "\n",
    "# sns.set()\n",
    "# n_votes = mimic['n_votes']\n",
    "# fractions = np.stack(mimic['fractions'], axis=0)\n",
    "# for answer_n, answer in enumerate(question.answers):\n",
    "#     print(answer.text)\n",
    "#     plt.plot(n_votes, fractions[:, answer_n], label=answer.text)\n",
    "#     plt.axhline(mimic.sort_values('n_votes')['fractions'].iloc[-1][answer_n], linestyle='--', color='k', alpha=.5)\n",
    "# plt.legend()"
   ]
  },
  {
   "cell_type": "code",
   "execution_count": null,
   "metadata": {},
   "outputs": [],
   "source": [
    "# mimic['deviations']"
   ]
  },
  {
   "cell_type": "code",
   "execution_count": null,
   "metadata": {},
   "outputs": [],
   "source": [
    "# sns.set()\n",
    "# deviations = np.stack(mimic['deviations'], axis=0)\n",
    "# n_votes = mimic['n_votes']\n",
    "# for answer_n, answer in enumerate(question.answers):\n",
    "#     print(answer.text)\n",
    "#     plt.plot(n_votes, deviations[:, answer_n], label=answer.text)\n",
    "# plt.legend()"
   ]
  },
  {
   "cell_type": "code",
   "execution_count": null,
   "metadata": {},
   "outputs": [],
   "source": [
    "deviations"
   ]
  },
  {
   "cell_type": "code",
   "execution_count": null,
   "metadata": {},
   "outputs": [],
   "source": [
    "data = []\n",
    "valid_intense, _ = filter_to_sensible(intense_labels, intense_predictions, question)\n",
    "# print(len(valid_intense))\n",
    "for n_votes in np.arange(1, 40):\n",
    "    print(n_votes)\n",
    "    all_deviations = []\n",
    "    for _, galaxy in valid_intense.iterrows():\n",
    "        mimic = pd.DataFrame(data=mimic_fewer(galaxy, question))\n",
    "        deviations = mimic.query(f'n_votes == {n_votes}')['deviations'].squeeze()\n",
    "        assert len(deviations) > 0\n",
    "#         assert deviations.shape == (len(question.answers),)\n",
    "        all_deviations.append(deviations)\n",
    "    all_deviations = np.stack(all_deviations, axis=0)\n",
    "    mean_abs = all_deviations.mean(axis=0)\n",
    "    result = {'n_votes': n_votes}\n",
    "    result.update(dict(zip([a.text for a in question.answers], mean_abs)))\n",
    "    data.append(result)"
   ]
  },
  {
   "cell_type": "code",
   "execution_count": null,
   "metadata": {},
   "outputs": [],
   "source": [
    "deviation_df = pd.DataFrame(data=data)"
   ]
  },
  {
   "cell_type": "code",
   "execution_count": null,
   "metadata": {},
   "outputs": [],
   "source": [
    "def convert_to_label(x):\n",
    "    return x.replace(question.text, '').replace('_', '').capitalize()"
   ]
  },
  {
   "cell_type": "code",
   "execution_count": null,
   "metadata": {},
   "outputs": [],
   "source": [
    "# colors = sns.color_palette('mako', 5)\n",
    "# colors = sns.color_palette('mako')\n",
    "# colors = base_palette\n",
    "\n",
    "# colorbrewer = [\n",
    "#     '#8dd3c7',\n",
    "#     '#ffffb3',\n",
    "#     '#bebada',\n",
    "#     '#fb8072',\n",
    "#     '#80b1d3',\n",
    "#     '#fdb462',\n",
    "#     '#b3de69',\n",
    "#     '#fccde5',\n",
    "#     '#d9d9d9',\n",
    "#     '#bc80bd'\n",
    "# ]\n",
    "# colors = sns.color_palette(colorbrewer[-5:])\n"
   ]
  },
  {
   "cell_type": "code",
   "execution_count": null,
   "metadata": {},
   "outputs": [],
   "source": []
  },
  {
   "cell_type": "code",
   "execution_count": null,
   "metadata": {},
   "outputs": [],
   "source": [
    "# prob_of_answers = np.expand_dims(galaxy[[a.text + '_fraction' for a in schema.answers]], axis=0)\n",
    "# galaxy['smooth-or-featured_featured-or-disk_fraction']                         \n",
    "# deviation_df['n_votes_total'] = deviation_df['n_votes'] / schema.joint_p(prob_of_answers, question.asked_after.text)  # looks more impressive, but is maybe a level of complexity too far - not used"
   ]
  },
  {
   "cell_type": "code",
   "execution_count": null,
   "metadata": {},
   "outputs": [],
   "source": [
    "sns.set_context('notebook')\n",
    "sns.set(font_scale=1.3, style='whitegrid', rc={'grid.linewidth': .5})  # softening the grid lines\n",
    "\n",
    "colors = sns.color_palette('deep', len(question.answers))\n",
    "# colors = ['y', 'b', 'g', 'r', 't']\n",
    "\n",
    "for a_n, a in enumerate(question.answers):\n",
    "\n",
    "    # exclude 'dominant' for bulge, rare  question.answers[1:]\n",
    "    # exclude no for spiral, no need      if a_n == 0:\n",
    "    sns.lineplot(data=deviation_df, x='n_votes', y=a.text, color=colors[a_n], label=convert_to_label(a.text), marker='.', markersize=10.)\n",
    "    plt.axhline(metrics.query(f'answer == \"{a.text}\"').squeeze()['mean_absolute_error'], color=colors[a_n], linestyle='--')\n",
    "plt.legend()\n",
    "plt.ylabel('Mean error vs. all votes')\n",
    "plt.xlabel('Truncated number of votes')\n",
    "# if question.text == 'smooth-or-featured':\n",
    "plt.xlim([0, 20])\n",
    "plt.ylim(0., .25)\n",
    "# if question.text == 'bulge-size':\n",
    "#     plt.xlim([0, 20])\n",
    "#     plt.ylim(0., .25)\n",
    "plt.title(question.text.replace('-', ' ').title())  # .title = capitalize each word (isn't python <3)\n",
    "plt.tight_layout()\n",
    "plt.savefig('notebooks/multiq/performance/vs_all_votes_' + question.text + '.png')\n",
    "plt.savefig('notebooks/multiq/performance/vs_all_votes_' + question.text + '.pdf')"
   ]
  },
  {
   "cell_type": "code",
   "execution_count": null,
   "metadata": {},
   "outputs": [],
   "source": []
  }
 ],
 "metadata": {
  "kernelspec": {
   "display_name": "Python 3",
   "language": "python",
   "name": "python3"
  },
  "language_info": {
   "codemirror_mode": {
    "name": "ipython",
    "version": 3
   },
   "file_extension": ".py",
   "mimetype": "text/x-python",
   "name": "python",
   "nbconvert_exporter": "python",
   "pygments_lexer": "ipython3",
   "version": "3.7.6"
  }
 },
 "nbformat": 4,
 "nbformat_minor": 4
}
