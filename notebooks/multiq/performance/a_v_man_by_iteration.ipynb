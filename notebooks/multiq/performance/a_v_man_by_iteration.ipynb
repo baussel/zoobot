{
 "cells": [
  {
   "cell_type": "code",
   "execution_count": 1,
   "metadata": {},
   "outputs": [],
   "source": [
    "%load_ext autoreload\n",
    "%autoreload 2\n",
    "%matplotlib inline"
   ]
  },
  {
   "cell_type": "code",
   "execution_count": 2,
   "metadata": {},
   "outputs": [],
   "source": [
    "import os\n",
    "import logging\n",
    "import argparse\n",
    "import glob\n",
    "import json\n",
    "from collections import Counter\n",
    "\n",
    "import numpy as np\n",
    "import matplotlib\n",
    "from matplotlib.ticker import StrMethodFormatter\n",
    "\n",
    "import matplotlib.pyplot as plt\n",
    "import matplotlib.gridspec as gridspec\n",
    "import seaborn as sns\n",
    "from sklearn import metrics\n",
    "import tensorflow as tf\n",
    "import pandas as pd\n",
    "from astropy.table import Table  # for NSA\n",
    "from astropy import units as u\n",
    "from sklearn.metrics import confusion_matrix, roc_curve\n",
    "from PIL import Image\n",
    "from scipy.stats import binom\n",
    "from IPython.display import display, Markdown\n",
    "\n",
    "from sklearn.metrics import accuracy_score, mean_squared_error, mean_absolute_error\n",
    "\n",
    "from shared_astro_utils import astropy_utils, matching_utils\n",
    "from zoobot.estimators import make_predictions, bayesian_estimator_funcs\n",
    "from zoobot.tfrecord import read_tfrecord\n",
    "from zoobot.uncertainty import discrete_coverage\n",
    "from zoobot.estimators import input_utils, losses\n",
    "from zoobot.tfrecord import catalog_to_tfrecord\n",
    "from zoobot.active_learning import metrics, simulated_metrics, acquisition_utils, check_uncertainty, simulation_timeline, run_estimator_config\n",
    "from zoobot import label_metadata\n",
    "from zoobot.estimators import losses\n",
    "from zoobot.estimators import dirichlet_stats\n"
   ]
  },
  {
   "cell_type": "code",
   "execution_count": 3,
   "metadata": {},
   "outputs": [],
   "source": [
    "os.chdir('/home/walml/repos/zoobot')"
   ]
  },
  {
   "cell_type": "code",
   "execution_count": 4,
   "metadata": {},
   "outputs": [],
   "source": [
    "gpus = tf.config.experimental.list_physical_devices('GPU')\n",
    "if gpus:\n",
    "    for gpu in gpus:\n",
    "        tf.config.experimental.set_memory_growth(gpu, True)\n"
   ]
  },
  {
   "cell_type": "code",
   "execution_count": 5,
   "metadata": {},
   "outputs": [],
   "source": [
    "catalog_loc = 'data/gz2/gz2_master_catalog.csv'\n",
    "catalog = pd.read_csv(catalog_loc, dtype={'subject_id': str})  # original catalog\n",
    "catalog['file_loc'] = catalog['local_png_loc'].apply(lambda x: '/media/walml/beta/galaxy_zoo/gz2' + x[32:])\n",
    "catalog['id_str'] = catalog['dr7objid'].apply(lambda x: 'dr7objid_' + str(x))"
   ]
  },
  {
   "cell_type": "code",
   "execution_count": 6,
   "metadata": {},
   "outputs": [
    {
     "name": "stdout",
     "output_type": "stream",
     "text": [
      "{smooth-or-featured, indices 0 to 1, asked after None: (0, 1)}\n"
     ]
    }
   ],
   "source": [
    "# label_cols = label_metadata.gz2_label_cols\n",
    "# questions = label_metadata.gz2_questions\n",
    "\n",
    "label_cols = label_metadata.gz2_partial_label_cols\n",
    "questions = label_metadata.gz2_partial_questions\n",
    "\n",
    "# state_loc = 'results/temp/gz2_all_q_warm_active/iteration_0/state.pickle'\n",
    "# label_cols = label_metadata.gz2_label_cols\n",
    "# questions = label_metadata.gz2_questions\n",
    "\n",
    "version = 'gz2'\n",
    "schema = losses.Schema(label_cols, questions, version=version)\n",
    "answer_cols = [a.text for a in schema.answers]"
   ]
  },
  {
   "cell_type": "code",
   "execution_count": 7,
   "metadata": {},
   "outputs": [],
   "source": [
    "concentration_cols = [col + '_concentration' for col in label_cols]\n",
    "concentration_mean_cols = [col + '_concentration_mean' for col in label_cols]\n",
    "\n",
    "# for it in it_list:\n",
    "#     for col in concentration_cols:\n",
    "#         it[col] = it[col].apply(lambda x: np.array(json.loads(x)))"
   ]
  },
  {
   "cell_type": "code",
   "execution_count": 25,
   "metadata": {},
   "outputs": [
    {
     "data": {
      "text/html": [
       "<div>\n",
       "<style scoped>\n",
       "    .dataframe tbody tr th:only-of-type {\n",
       "        vertical-align: middle;\n",
       "    }\n",
       "\n",
       "    .dataframe tbody tr th {\n",
       "        vertical-align: top;\n",
       "    }\n",
       "\n",
       "    .dataframe thead th {\n",
       "        text-align: right;\n",
       "    }\n",
       "</style>\n",
       "<table border=\"1\" class=\"dataframe\">\n",
       "  <thead>\n",
       "    <tr style=\"text-align: right;\">\n",
       "      <th></th>\n",
       "      <th>iteration</th>\n",
       "      <th>model</th>\n",
       "      <th>mode</th>\n",
       "      <th>mean_loss</th>\n",
       "      <th>mean_like</th>\n",
       "    </tr>\n",
       "  </thead>\n",
       "  <tbody>\n",
       "    <tr>\n",
       "      <th>0</th>\n",
       "      <td>0</td>\n",
       "      <td>0</td>\n",
       "      <td>active</td>\n",
       "      <td>2.486559</td>\n",
       "      <td>0.104135</td>\n",
       "    </tr>\n",
       "    <tr>\n",
       "      <th>1</th>\n",
       "      <td>0</td>\n",
       "      <td>0</td>\n",
       "      <td>baseline</td>\n",
       "      <td>2.487594</td>\n",
       "      <td>0.104209</td>\n",
       "    </tr>\n",
       "    <tr>\n",
       "      <th>2</th>\n",
       "      <td>0</td>\n",
       "      <td>1</td>\n",
       "      <td>active</td>\n",
       "      <td>2.517586</td>\n",
       "      <td>0.103039</td>\n",
       "    </tr>\n",
       "    <tr>\n",
       "      <th>3</th>\n",
       "      <td>0</td>\n",
       "      <td>1</td>\n",
       "      <td>baseline</td>\n",
       "      <td>2.520201</td>\n",
       "      <td>0.103090</td>\n",
       "    </tr>\n",
       "    <tr>\n",
       "      <th>4</th>\n",
       "      <td>0</td>\n",
       "      <td>2</td>\n",
       "      <td>active</td>\n",
       "      <td>2.561514</td>\n",
       "      <td>0.098703</td>\n",
       "    </tr>\n",
       "  </tbody>\n",
       "</table>\n",
       "</div>"
      ],
      "text/plain": [
       "   iteration  model      mode  mean_loss  mean_like\n",
       "0          0      0    active   2.486559   0.104135\n",
       "1          0      0  baseline   2.487594   0.104209\n",
       "2          0      1    active   2.517586   0.103039\n",
       "3          0      1  baseline   2.520201   0.103090\n",
       "4          0      2    active   2.561514   0.098703"
      ]
     },
     "execution_count": 25,
     "metadata": {},
     "output_type": "execute_result"
    }
   ],
   "source": [
    "iterations = range(0, 2) # sometimes skip first\n",
    "m = 0\n",
    "n_models = 3  # oops I left this\n",
    "\n",
    "# optimise spiral, predict 4q\n",
    "# active_locs = [f'temp/gz2_1q_conc_active_it2_m{n}.csv' for n in range(n_models)]\n",
    "# baseline_locs = [f'temp/gz2_1q_conc_baseline_it2_m{n}.csv' for n in range(n_models)]\n",
    "\n",
    "\n",
    "# optimise smooth/feat, predict 1q\n",
    "data = []\n",
    "for iteration_n in iterations:\n",
    "    \n",
    "#     active_concentrations = []\n",
    "#     baseline_concentrations = []\n",
    "    for model_n in range(n_models):\n",
    "\n",
    "#         if iteration_n > 0:\n",
    "#             active_loc = f'temp/gz2_1q_1active_it{iteration_n}_m{model_n}_log.csv'\n",
    "#             baseline_loc = f'temp/gz2_1q_1baseline_it{iteration_n}_m{model_n}_log.csv'\n",
    "        if iteration_n == 1:\n",
    "            active_loc = f'temp/gz2_1q_1active_best_it{iteration_n}_m{model_n}.csv'\n",
    "            baseline_loc = f'temp/gz2_1q_1baseline_it{iteration_n}_m{model_n}_log.csv'\n",
    "        elif iteration_n == 0:\n",
    "            active_loc = f'temp/gz2_1q_1active_it{iteration_n}_m{model_n}.csv'\n",
    "            baseline_loc = f'temp/gz2_1q_1baseline_it{iteration_n}_m{model_n}.csv'\n",
    "\n",
    "\n",
    "        active_df = pd.read_csv(active_loc)\n",
    "        baseline_df = pd.read_csv(baseline_loc)\n",
    "\n",
    "        labels = active_df[answer_cols].values  # same for all\n",
    "\n",
    "        active_concentration = dirichlet_stats.load_all_concentrations(active_df, concentration_cols)\n",
    "        baseline_concentration = dirichlet_stats.load_all_concentrations(baseline_df, concentration_cols)\n",
    "\n",
    "        active_loss = dirichlet_stats.dirichlet_mixture_loss(labels, active_concentration, schema.question_index_groups)\n",
    "        baseline_loss = dirichlet_stats.dirichlet_mixture_loss(labels, baseline_concentration, schema.question_index_groups)\n",
    "\n",
    "        active_like = np.exp(-active_loss)  # inverse of neg log likelihood\n",
    "        baseline_like = np.exp(-baseline_loss)\n",
    "\n",
    "        data.append({\n",
    "            'iteration': iteration_n,\n",
    "            'model': model_n,\n",
    "            'mode': 'active',\n",
    "            'mean_loss': active_loss.mean(),\n",
    "            'mean_like': active_like.mean()\n",
    "        })\n",
    "        data.append({\n",
    "            'iteration': iteration_n,\n",
    "            'model': model_n,\n",
    "            'mode': 'baseline',\n",
    "            'mean_loss': baseline_loss.mean(),\n",
    "            'mean_like': baseline_like.mean()\n",
    "        })\n",
    "\n",
    "# final\n",
    "final_loc = 'temp/gz2_allq_not_sim_unfiltered_300_offline_1q.csv'\n",
    "final_df = pd.read_csv(final_loc)\n",
    "final_concentration = dirichlet_stats.load_all_concentrations(final_df, concentration_cols)\n",
    "final_loss = dirichlet_stats.dirichlet_mixture_loss(labels, final_concentration, schema.question_index_groups)\n",
    "final_like = np.exp(-final_loss)  # inverse of neg log likelihood\n",
    "data.append({\n",
    "    'iteration': 5,\n",
    "    'model': 0,\n",
    "    'mode': 'final',\n",
    "    'mean_loss': final_loss.mean(),\n",
    "    'mean_like': final_like.mean()\n",
    "})\n",
    "\n",
    "results = pd.DataFrame(data=data)\n",
    "results.head()"
   ]
  },
  {
   "cell_type": "code",
   "execution_count": 31,
   "metadata": {},
   "outputs": [
    {
     "data": {
      "text/plain": [
       "<matplotlib.axes._subplots.AxesSubplot at 0x7fc9d2eef2d0>"
      ]
     },
     "execution_count": 31,
     "metadata": {},
     "output_type": "execute_result"
    },
    {
     "data": {
      "image/png": "[encoded data removed]",
      "text/plain": [
       "<Figure size 432x288 with 1 Axes>"
      ]
     },
     "metadata": {
      "needs_background": "light"
     },
     "output_type": "display_data"
    }
   ],
   "source": [
    "sns.scatterplot(data=results, x='iteration', y='mean_loss', hue='model', marker='+')"
   ]
  },
  {
   "cell_type": "code",
   "execution_count": 26,
   "metadata": {},
   "outputs": [
    {
     "data": {
      "text/plain": [
       "<matplotlib.axes._subplots.AxesSubplot at 0x7fc880614910>"
      ]
     },
     "execution_count": 26,
     "metadata": {},
     "output_type": "execute_result"
    },
    {
     "data": {
      "image/png": "[encoded data removed]",
      "text/plain": [
       "<Figure size 432x288 with 1 Axes>"
      ]
     },
     "metadata": {
      "needs_background": "light"
     },
     "output_type": "display_data"
    }
   ],
   "source": [
    "sns.scatterplot(data=results.query('mode==\"baseline\"'), x='iteration', y='mean_loss', hue='model', marker='+')"
   ]
  },
  {
   "cell_type": "code",
   "execution_count": 30,
   "metadata": {},
   "outputs": [
    {
     "data": {
      "text/plain": [
       "<matplotlib.axes._subplots.AxesSubplot at 0x7fc8ed3b18d0>"
      ]
     },
     "execution_count": 30,
     "metadata": {},
     "output_type": "execute_result"
    },
    {
     "data": {
      "image/png": "[encoded data removed]",
      "text/plain": [
       "<Figure size 432x288 with 1 Axes>"
      ]
     },
     "metadata": {
      "needs_background": "light"
     },
     "output_type": "display_data"
    }
   ],
   "source": [
    "sns.scatterplot(data=results.query('mode==\"active\"'), x='iteration', y='mean_loss', hue='model', marker='+')"
   ]
  },
  {
   "cell_type": "code",
   "execution_count": 37,
   "metadata": {},
   "outputs": [
    {
     "data": {
      "text/plain": [
       "0     0\n",
       "1     0\n",
       "2     1\n",
       "3     1\n",
       "4     2\n",
       "5     2\n",
       "6     0\n",
       "7     0\n",
       "8     1\n",
       "9     1\n",
       "10    2\n",
       "11    2\n",
       "12    0\n",
       "Name: model, dtype: int64"
      ]
     },
     "execution_count": 37,
     "metadata": {},
     "output_type": "execute_result"
    }
   ],
   "source": [
    "results['model']"
   ]
  },
  {
   "cell_type": "code",
   "execution_count": 49,
   "metadata": {},
   "outputs": [],
   "source": [
    "import matplotlib as mpl\n",
    "cycler = mpl.rcParams['axes.prop_cycle']\n",
    "# https://matplotlib.org/cycler/\n",
    "colors = [c['color'] for c in cycler]"
   ]
  },
  {
   "cell_type": "code",
   "execution_count": 50,
   "metadata": {},
   "outputs": [
    {
     "data": {
      "image/png": "[encoded data removed]",
      "text/plain": [
       "<Figure size 432x288 with 1 Axes>"
      ]
     },
     "metadata": {
      "needs_background": "light"
     },
     "output_type": "display_data"
    }
   ],
   "source": [
    "\n",
    "for model_n in range(3):\n",
    "    color = colors[model_n]\n",
    "    model = results[(results['iteration'] < 2) & (results['model'] == model_n)]\n",
    "    baseline = model.query('mode==\"baseline\"')\n",
    "    active = model.query('mode==\"active\"')\n",
    "    plt.plot(baseline['iteration'], baseline['mean_loss'], linestyle='--', color=color)\n",
    "    plt.plot(active['iteration'], active['mean_loss'], color=color)\n",
    "#     plt.plot(results[to_plot])"
   ]
  },
  {
   "cell_type": "code",
   "execution_count": 41,
   "metadata": {},
   "outputs": [
    {
     "data": {
      "text/html": [
       "<div>\n",
       "<style scoped>\n",
       "    .dataframe tbody tr th:only-of-type {\n",
       "        vertical-align: middle;\n",
       "    }\n",
       "\n",
       "    .dataframe tbody tr th {\n",
       "        vertical-align: top;\n",
       "    }\n",
       "\n",
       "    .dataframe thead th {\n",
       "        text-align: right;\n",
       "    }\n",
       "</style>\n",
       "<table border=\"1\" class=\"dataframe\">\n",
       "  <thead>\n",
       "    <tr style=\"text-align: right;\">\n",
       "      <th></th>\n",
       "      <th>iteration</th>\n",
       "      <th>model</th>\n",
       "      <th>mode</th>\n",
       "      <th>mean_loss</th>\n",
       "      <th>mean_like</th>\n",
       "    </tr>\n",
       "  </thead>\n",
       "  <tbody>\n",
       "    <tr>\n",
       "      <th>10</th>\n",
       "      <td>1</td>\n",
       "      <td>2</td>\n",
       "      <td>active</td>\n",
       "      <td>2.540648</td>\n",
       "      <td>0.100021</td>\n",
       "    </tr>\n",
       "    <tr>\n",
       "      <th>11</th>\n",
       "      <td>1</td>\n",
       "      <td>2</td>\n",
       "      <td>baseline</td>\n",
       "      <td>2.541879</td>\n",
       "      <td>0.101677</td>\n",
       "    </tr>\n",
       "  </tbody>\n",
       "</table>\n",
       "</div>"
      ],
      "text/plain": [
       "    iteration  model      mode  mean_loss  mean_like\n",
       "10          1      2    active   2.540648   0.100021\n",
       "11          1      2  baseline   2.541879   0.101677"
      ]
     },
     "execution_count": 41,
     "metadata": {},
     "output_type": "execute_result"
    }
   ],
   "source": [
    "results[to_plot]"
   ]
  },
  {
   "cell_type": "code",
   "execution_count": 29,
   "metadata": {},
   "outputs": [
    {
     "data": {
      "text/plain": [
       "<matplotlib.axes._subplots.AxesSubplot at 0x7fc9d73fe9d0>"
      ]
     },
     "execution_count": 29,
     "metadata": {},
     "output_type": "execute_result"
    },
    {
     "data": {
      "image/png": "[encoded data removed]",
      "text/plain": [
       "<Figure size 432x288 with 1 Axes>"
      ]
     },
     "metadata": {
      "needs_background": "light"
     },
     "output_type": "display_data"
    }
   ],
   "source": [
    "sns.scatterplot(data=results, x='iteration', y='mean_like', hue='model', marker='+')"
   ]
  },
  {
   "cell_type": "code",
   "execution_count": null,
   "metadata": {},
   "outputs": [],
   "source": []
  }
 ],
 "metadata": {
  "kernelspec": {
   "display_name": "Python 3",
   "language": "python",
   "name": "python3"
  },
  "language_info": {
   "codemirror_mode": {
    "name": "ipython",
    "version": 3
   },
   "file_extension": ".py",
   "mimetype": "text/x-python",
   "name": "python",
   "nbconvert_exporter": "python",
   "pygments_lexer": "ipython3",
   "version": "3.7.6"
  }
 },
 "nbformat": 4,
 "nbformat_minor": 4
}
