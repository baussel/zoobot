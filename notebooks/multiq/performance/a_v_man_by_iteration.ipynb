{
 "cells": [
  {
   "cell_type": "code",
   "execution_count": 4,
   "metadata": {},
   "outputs": [],
   "source": [
    "%load_ext autoreload\n",
    "%autoreload 2\n",
    "%matplotlib inline"
   ]
  },
  {
   "cell_type": "code",
   "execution_count": 12,
   "metadata": {},
   "outputs": [],
   "source": [
    "import os\n",
    "import logging\n",
    "import argparse\n",
    "import glob\n",
    "import json\n",
    "from collections import Counter\n",
    "\n",
    "import numpy as np\n",
    "import matplotlib\n",
    "from matplotlib.ticker import StrMethodFormatter\n",
    "\n",
    "import matplotlib.pyplot as plt\n",
    "import matplotlib.gridspec as gridspec\n",
    "import seaborn as sns\n",
    "from sklearn import metrics\n",
    "import tensorflow as tf\n",
    "import pandas as pd\n",
    "from astropy.table import Table  # for NSA\n",
    "from astropy import units as u\n",
    "from sklearn.metrics import confusion_matrix, roc_curve\n",
    "from PIL import Image\n",
    "from scipy.stats import binom\n",
    "from IPython.display import display, Markdown\n",
    "\n",
    "from sklearn.metrics import accuracy_score, mean_squared_error, mean_absolute_error\n",
    "\n",
    "from shared_astro_utils import astropy_utils, matching_utils\n",
    "from zoobot.estimators import make_predictions, bayesian_estimator_funcs\n",
    "from zoobot.tfrecord import read_tfrecord\n",
    "from zoobot.uncertainty import discrete_coverage\n",
    "from zoobot.estimators import input_utils, losses\n",
    "from zoobot.tfrecord import catalog_to_tfrecord\n",
    "from zoobot.active_learning import metrics, simulated_metrics, acquisition_utils, check_uncertainty, simulation_timeline, run_estimator_config\n",
    "from zoobot import label_metadata\n",
    "from zoobot.estimators import losses\n",
    "from zoobot.estimators import dirichlet_stats\n"
   ]
  },
  {
   "cell_type": "code",
   "execution_count": 6,
   "metadata": {},
   "outputs": [],
   "source": [
    "os.chdir('/home/walml/repos/zoobot')"
   ]
  },
  {
   "cell_type": "code",
   "execution_count": 7,
   "metadata": {},
   "outputs": [],
   "source": [
    "gpus = tf.config.experimental.list_physical_devices('GPU')\n",
    "if gpus:\n",
    "    for gpu in gpus:\n",
    "        tf.config.experimental.set_memory_growth(gpu, True)\n"
   ]
  },
  {
   "cell_type": "code",
   "execution_count": 8,
   "metadata": {},
   "outputs": [],
   "source": [
    "catalog_loc = 'data/gz2/gz2_master_catalog.csv'\n",
    "catalog = pd.read_csv(catalog_loc, dtype={'subject_id': str})  # original catalog\n",
    "catalog['file_loc'] = catalog['local_png_loc'].apply(lambda x: '/media/walml/beta/galaxy_zoo/gz2' + x[32:])\n",
    "catalog['id_str'] = catalog['dr7objid'].apply(lambda x: 'dr7objid_' + str(x))"
   ]
  },
  {
   "cell_type": "code",
   "execution_count": 9,
   "metadata": {},
   "outputs": [
    {
     "name": "stdout",
     "output_type": "stream",
     "text": [
      "{smooth-or-featured, indices 0 to 1, asked after None: (0, 1)}\n"
     ]
    }
   ],
   "source": [
    "# label_cols = label_metadata.gz2_label_cols\n",
    "# questions = label_metadata.gz2_questions\n",
    "\n",
    "label_cols = label_metadata.gz2_partial_label_cols\n",
    "questions = label_metadata.gz2_partial_questions\n",
    "\n",
    "# state_loc = 'results/temp/gz2_all_q_warm_active/iteration_0/state.pickle'\n",
    "# label_cols = label_metadata.gz2_label_cols\n",
    "# questions = label_metadata.gz2_questions\n",
    "\n",
    "version = 'gz2'\n",
    "schema = losses.Schema(label_cols, questions, version=version)\n",
    "answer_cols = [a.text for a in schema.answers]"
   ]
  },
  {
   "cell_type": "code",
   "execution_count": 10,
   "metadata": {},
   "outputs": [],
   "source": [
    "concentration_cols = [col + '_concentration' for col in label_cols]\n",
    "concentration_mean_cols = [col + '_concentration_mean' for col in label_cols]\n",
    "\n",
    "# for it in it_list:\n",
    "#     for col in concentration_cols:\n",
    "#         it[col] = it[col].apply(lambda x: np.array(json.loads(x)))"
   ]
  },
  {
   "cell_type": "code",
   "execution_count": 28,
   "metadata": {},
   "outputs": [
    {
     "data": {
      "text/html": [
       "<div>\n",
       "<style scoped>\n",
       "    .dataframe tbody tr th:only-of-type {\n",
       "        vertical-align: middle;\n",
       "    }\n",
       "\n",
       "    .dataframe tbody tr th {\n",
       "        vertical-align: top;\n",
       "    }\n",
       "\n",
       "    .dataframe thead th {\n",
       "        text-align: right;\n",
       "    }\n",
       "</style>\n",
       "<table border=\"1\" class=\"dataframe\">\n",
       "  <thead>\n",
       "    <tr style=\"text-align: right;\">\n",
       "      <th></th>\n",
       "      <th>iteration</th>\n",
       "      <th>model</th>\n",
       "      <th>mode</th>\n",
       "      <th>mean_loss</th>\n",
       "      <th>mean_like</th>\n",
       "    </tr>\n",
       "  </thead>\n",
       "  <tbody>\n",
       "    <tr>\n",
       "      <th>0</th>\n",
       "      <td>1</td>\n",
       "      <td>0</td>\n",
       "      <td>active</td>\n",
       "      <td>2.462232</td>\n",
       "      <td>0.107561</td>\n",
       "    </tr>\n",
       "    <tr>\n",
       "      <th>1</th>\n",
       "      <td>1</td>\n",
       "      <td>0</td>\n",
       "      <td>baseline</td>\n",
       "      <td>2.614635</td>\n",
       "      <td>0.094907</td>\n",
       "    </tr>\n",
       "    <tr>\n",
       "      <th>2</th>\n",
       "      <td>1</td>\n",
       "      <td>1</td>\n",
       "      <td>active</td>\n",
       "      <td>2.660439</td>\n",
       "      <td>0.094170</td>\n",
       "    </tr>\n",
       "    <tr>\n",
       "      <th>3</th>\n",
       "      <td>1</td>\n",
       "      <td>1</td>\n",
       "      <td>baseline</td>\n",
       "      <td>2.917970</td>\n",
       "      <td>0.076301</td>\n",
       "    </tr>\n",
       "    <tr>\n",
       "      <th>4</th>\n",
       "      <td>1</td>\n",
       "      <td>2</td>\n",
       "      <td>active</td>\n",
       "      <td>3.011805</td>\n",
       "      <td>0.074483</td>\n",
       "    </tr>\n",
       "  </tbody>\n",
       "</table>\n",
       "</div>"
      ],
      "text/plain": [
       "   iteration  model      mode  mean_loss  mean_like\n",
       "0          1      0    active   2.462232   0.107561\n",
       "1          1      0  baseline   2.614635   0.094907\n",
       "2          1      1    active   2.660439   0.094170\n",
       "3          1      1  baseline   2.917970   0.076301\n",
       "4          1      2    active   3.011805   0.074483"
      ]
     },
     "execution_count": 28,
     "metadata": {},
     "output_type": "execute_result"
    }
   ],
   "source": [
    "iterations = range(1, 3)\n",
    "m = 0\n",
    "n_models = 3  # oops I left this\n",
    "\n",
    "# optimise spiral, predict 4q\n",
    "# active_locs = [f'temp/gz2_1q_conc_active_it2_m{n}.csv' for n in range(n_models)]\n",
    "# baseline_locs = [f'temp/gz2_1q_conc_baseline_it2_m{n}.csv' for n in range(n_models)]\n",
    "\n",
    "\n",
    "# optimise smooth/feat, predict 1q\n",
    "data = []\n",
    "for iteration_n in iterations:\n",
    "    \n",
    "#     active_concentrations = []\n",
    "#     baseline_concentrations = []\n",
    "    for model_n in range(n_models):\n",
    "\n",
    "        active_loc = f'temp/gz2_1q_1active_it{iteration_n}_m{model_n}.csv'\n",
    "        baseline_loc = f'temp/gz2_1q_1baseline_it{iteration_n}_m{model_n}.csv'\n",
    "\n",
    "        active_df = pd.read_csv(active_loc)\n",
    "        baseline_df = pd.read_csv(baseline_loc)\n",
    "\n",
    "        labels = active_df[answer_cols].values  # same for all\n",
    "\n",
    "        active_concentration = dirichlet_stats.load_all_concentrations(active_df, concentration_cols)\n",
    "        baseline_concentration = dirichlet_stats.load_all_concentrations(baseline_df, concentration_cols)\n",
    "\n",
    "        active_loss = dirichlet_stats.dirichlet_mixture_loss(labels, active_concentration, schema.question_index_groups)\n",
    "        baseline_loss = dirichlet_stats.dirichlet_mixture_loss(labels, baseline_concentration, schema.question_index_groups)\n",
    "\n",
    "        active_like = np.exp(-active_loss)  # inverse of neg log likelihood\n",
    "        baseline_like = np.exp(-baseline_loss)\n",
    "\n",
    "        data.append({\n",
    "            'iteration': iteration_n,\n",
    "            'model': model_n,\n",
    "            'mode': 'active',\n",
    "            'mean_loss': active_loss.mean(),\n",
    "            'mean_like': active_like.mean()\n",
    "        })\n",
    "        data.append({\n",
    "            'iteration': iteration_n,\n",
    "            'model': model_n,\n",
    "            'mode': 'baseline',\n",
    "            'mean_loss': baseline_loss.mean(),\n",
    "            'mean_like': baseline_like.mean()\n",
    "        })\n",
    "\n",
    "results = pd.DataFrame(data=data)\n",
    "results.head()"
   ]
  },
  {
   "cell_type": "code",
   "execution_count": 29,
   "metadata": {},
   "outputs": [
    {
     "data": {
      "text/plain": [
       "<matplotlib.axes._subplots.AxesSubplot at 0x7f4471070790>"
      ]
     },
     "execution_count": 29,
     "metadata": {},
     "output_type": "execute_result"
    },
    {
     "data": {
      "image/png": "[encoded data removed]",
      "text/plain": [
       "<Figure size 432x288 with 1 Axes>"
      ]
     },
     "metadata": {
      "needs_background": "light"
     },
     "output_type": "display_data"
    }
   ],
   "source": [
    "sns.scatterplot(data=results, x='iteration', y='mean_loss', hue='mode')"
   ]
  },
  {
   "cell_type": "code",
   "execution_count": 12,
   "metadata": {},
   "outputs": [],
   "source": []
  },
  {
   "cell_type": "code",
   "execution_count": 15,
   "metadata": {},
   "outputs": [
    {
     "data": {
      "text/plain": [
       "(15000, 2, 6)"
      ]
     },
     "execution_count": 15,
     "metadata": {},
     "output_type": "execute_result"
    }
   ],
   "source": []
  },
  {
   "cell_type": "code",
   "execution_count": 16,
   "metadata": {},
   "outputs": [
    {
     "name": "stdout",
     "output_type": "stream",
     "text": [
      "[('smooth-or-featured', 2.4622324)]\n",
      "[('smooth-or-featured', 2.6604395)]\n",
      "[('smooth-or-featured', 3.0118046)]\n"
     ]
    }
   ],
   "source": [
    "for model_n in range(n_models):\n",
    "    \n",
    "    print(list(zip(questions, single_loss.mean(axis=0))))"
   ]
  },
  {
   "cell_type": "code",
   "execution_count": 17,
   "metadata": {},
   "outputs": [
    {
     "data": {
      "text/plain": [
       "[('smooth-or-featured', 2.5806737)]"
      ]
     },
     "execution_count": 17,
     "metadata": {},
     "output_type": "execute_result"
    }
   ],
   "source": [
    "\n",
    "active_losses = dirichlet_stats.dirichlet_mixture_loss(labels, active_concentrations_combined, schema.question_index_groups)\n",
    "list(zip(questions, active_losses.mean(axis=0)))"
   ]
  },
  {
   "cell_type": "code",
   "execution_count": null,
   "metadata": {},
   "outputs": [],
   "source": []
  },
  {
   "cell_type": "code",
   "execution_count": 18,
   "metadata": {},
   "outputs": [],
   "source": [
    "baseline_concentrations_combined = np.concatenate(baseline_concentrations, axis=-1)"
   ]
  },
  {
   "cell_type": "code",
   "execution_count": 19,
   "metadata": {},
   "outputs": [
    {
     "name": "stdout",
     "output_type": "stream",
     "text": [
      "[('smooth-or-featured', 2.6146355)]\n",
      "[('smooth-or-featured', 2.9179704)]\n",
      "[('smooth-or-featured', 2.6192918)]\n"
     ]
    }
   ],
   "source": [
    "for model_n in range(n_models):\n",
    "    baseline_single_loss = dirichlet_stats.dirichlet_mixture_loss(labels, baseline_concentrations[model_n], schema.question_index_groups)\n",
    "    print(list(zip(questions, baseline_single_loss.mean(axis=0))))"
   ]
  },
  {
   "cell_type": "code",
   "execution_count": 20,
   "metadata": {},
   "outputs": [
    {
     "data": {
      "text/plain": [
       "[('smooth-or-featured', 2.590078)]"
      ]
     },
     "execution_count": 20,
     "metadata": {},
     "output_type": "execute_result"
    }
   ],
   "source": [
    "\n",
    "baseline_losses = dirichlet_stats.dirichlet_mixture_loss(labels, baseline_concentrations_combined, schema.question_index_groups)\n",
    "list(zip(questions, baseline_losses.mean(axis=0)))"
   ]
  },
  {
   "cell_type": "code",
   "execution_count": null,
   "metadata": {},
   "outputs": [],
   "source": []
  }
 ],
 "metadata": {
  "kernelspec": {
   "display_name": "Python 3",
   "language": "python",
   "name": "python3"
  },
  "language_info": {
   "codemirror_mode": {
    "name": "ipython",
    "version": 3
   },
   "file_extension": ".py",
   "mimetype": "text/x-python",
   "name": "python",
   "nbconvert_exporter": "python",
   "pygments_lexer": "ipython3",
   "version": "3.7.6"
  }
 },
 "nbformat": 4,
 "nbformat_minor": 4
}
