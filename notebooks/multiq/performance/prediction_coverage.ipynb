{
 "cells": [
  {
   "cell_type": "code",
   "execution_count": 1,
   "metadata": {},
   "outputs": [],
   "source": [
    "%load_ext autoreload\n",
    "%autoreload 2\n",
    "%matplotlib inline"
   ]
  },
  {
   "cell_type": "code",
   "execution_count": 2,
   "metadata": {},
   "outputs": [],
   "source": [
    "import os\n",
    "\n",
    "import matplotlib.pyplot as plt\n",
    "import matplotlib.gridspec as gridspec\n",
    "from matplotlib.ticker import PercentFormatter\n",
    "import seaborn as sns\n",
    "import arviz as az\n",
    "import tensorflow_probability as tfp\n",
    "import pickle\n",
    "import numpy as np\n",
    "import tensorflow as tf\n",
    "import pandas as pd\n",
    "\n",
    "from zoobot.active_learning import acquisition_utils\n",
    "from zoobot.active_learning.metrics import IterationState\n",
    "from zoobot import label_metadata\n",
    "from zoobot.estimators import losses, dirichlet_stats"
   ]
  },
  {
   "cell_type": "code",
   "execution_count": 3,
   "metadata": {},
   "outputs": [],
   "source": [
    "os.chdir('/home/walml/repos/zoobot')"
   ]
  },
  {
   "cell_type": "code",
   "execution_count": 4,
   "metadata": {},
   "outputs": [],
   "source": [
    "gpus = tf.config.experimental.list_physical_devices('GPU')\n",
    "if gpus:\n",
    "    for gpu in gpus:\n",
    "        tf.config.experimental.set_memory_growth(gpu, True)\n"
   ]
  },
  {
   "cell_type": "code",
   "execution_count": null,
   "metadata": {},
   "outputs": [],
   "source": []
  },
  {
   "cell_type": "markdown",
   "metadata": {},
   "source": [
    "## Check hpd works"
   ]
  },
  {
   "cell_type": "code",
   "execution_count": 5,
   "metadata": {},
   "outputs": [],
   "source": [
    "import scipy.stats"
   ]
  },
  {
   "cell_type": "code",
   "execution_count": 6,
   "metadata": {},
   "outputs": [
    {
     "name": "stdout",
     "output_type": "stream",
     "text": [
      "11 19\n",
      "0.9012628532946048\n"
     ]
    },
    {
     "data": {
      "text/plain": [
       "(0, 30)"
      ]
     },
     "execution_count": 6,
     "metadata": {},
     "output_type": "execute_result"
    },
    {
     "data": {
      "image/png": "[encoded data removed]",
      "text/plain": [
       "<Figure size 432x288 with 1 Axes>"
      ]
     },
     "metadata": {
      "needs_background": "light"
     },
     "output_type": "display_data"
    }
   ],
   "source": [
    "n = 30\n",
    "k = np.arange(0, n+1)\n",
    "p = 0.5\n",
    "posterior = scipy.stats.binom.pmf(k, n, p)\n",
    "\n",
    "(lower_lim, upper_lim), confidence, unimodal = dirichlet_stats.get_hpd(k, posterior, ci=.8)\n",
    "print(lower_lim, upper_lim)\n",
    "print(confidence)\n",
    "\n",
    "plt.scatter(k, posterior)\n",
    "plt.axvline(lower_lim)\n",
    "plt.axvline(upper_lim)\n",
    "plt.xlim(0, n)"
   ]
  },
  {
   "cell_type": "code",
   "execution_count": 7,
   "metadata": {},
   "outputs": [
    {
     "data": {
      "text/plain": [
       "0.9012628532946048"
      ]
     },
     "execution_count": 7,
     "metadata": {},
     "output_type": "execute_result"
    }
   ],
   "source": [
    "posterior[lower_lim:upper_lim+1].sum()"
   ]
  },
  {
   "cell_type": "code",
   "execution_count": 8,
   "metadata": {},
   "outputs": [
    {
     "data": {
      "text/plain": [
       "0.850387215614313"
      ]
     },
     "execution_count": 8,
     "metadata": {},
     "output_type": "execute_result"
    }
   ],
   "source": [
    "posterior[lower_lim:upper_lim].sum()"
   ]
  },
  {
   "cell_type": "markdown",
   "metadata": {},
   "source": [
    "## Check coverage works"
   ]
  },
  {
   "cell_type": "code",
   "execution_count": 9,
   "metadata": {},
   "outputs": [],
   "source": [
    "from scipy.stats import binom"
   ]
  },
  {
   "cell_type": "code",
   "execution_count": 10,
   "metadata": {},
   "outputs": [],
   "source": [
    "n_galaxies = 500\n",
    "num_answers = 10\n",
    "x = np.arange(0., num_answers+1)  # zero\n",
    "true_values = []\n",
    "posteriors = []\n",
    "for n in range(n_galaxies):\n",
    "    p = np.random.rand()\n",
    "    probs = binom(num_answers, p).pmf(x)\n",
    "    posteriors.append((x, probs))\n",
    "    true_values.append(binom.rvs(num_answers, p))"
   ]
  },
  {
   "cell_type": "code",
   "execution_count": 11,
   "metadata": {},
   "outputs": [],
   "source": [
    "coverage = dirichlet_stats.get_coverage(posteriors, true_values)"
   ]
  },
  {
   "cell_type": "code",
   "execution_count": 12,
   "metadata": {},
   "outputs": [
    {
     "data": {
      "text/html": [
       "<div>\n",
       "<style scoped>\n",
       "    .dataframe tbody tr th:only-of-type {\n",
       "        vertical-align: middle;\n",
       "    }\n",
       "\n",
       "    .dataframe tbody tr th {\n",
       "        vertical-align: top;\n",
       "    }\n",
       "\n",
       "    .dataframe thead th {\n",
       "        text-align: right;\n",
       "    }\n",
       "</style>\n",
       "<table border=\"1\" class=\"dataframe\">\n",
       "  <thead>\n",
       "    <tr style=\"text-align: right;\">\n",
       "      <th></th>\n",
       "      <th>target_index</th>\n",
       "      <th>requested_ci_width_dont_use</th>\n",
       "      <th>confidence</th>\n",
       "      <th>lower_edge</th>\n",
       "      <th>upper_edge</th>\n",
       "      <th>true_value</th>\n",
       "      <th>true_within_hpd</th>\n",
       "      <th>unimodal</th>\n",
       "    </tr>\n",
       "  </thead>\n",
       "  <tbody>\n",
       "    <tr>\n",
       "      <th>0</th>\n",
       "      <td>0</td>\n",
       "      <td>0.10</td>\n",
       "      <td>0.286924</td>\n",
       "      <td>8.0</td>\n",
       "      <td>8.0</td>\n",
       "      <td>7</td>\n",
       "      <td>False</td>\n",
       "      <td>True</td>\n",
       "    </tr>\n",
       "    <tr>\n",
       "      <th>1</th>\n",
       "      <td>1</td>\n",
       "      <td>0.10</td>\n",
       "      <td>0.248919</td>\n",
       "      <td>4.0</td>\n",
       "      <td>4.0</td>\n",
       "      <td>5</td>\n",
       "      <td>False</td>\n",
       "      <td>True</td>\n",
       "    </tr>\n",
       "    <tr>\n",
       "      <th>2</th>\n",
       "      <td>2</td>\n",
       "      <td>0.10</td>\n",
       "      <td>0.884919</td>\n",
       "      <td>0.0</td>\n",
       "      <td>0.0</td>\n",
       "      <td>0</td>\n",
       "      <td>True</td>\n",
       "      <td>True</td>\n",
       "    </tr>\n",
       "    <tr>\n",
       "      <th>3</th>\n",
       "      <td>3</td>\n",
       "      <td>0.10</td>\n",
       "      <td>0.514185</td>\n",
       "      <td>0.0</td>\n",
       "      <td>0.0</td>\n",
       "      <td>0</td>\n",
       "      <td>True</td>\n",
       "      <td>True</td>\n",
       "    </tr>\n",
       "    <tr>\n",
       "      <th>4</th>\n",
       "      <td>4</td>\n",
       "      <td>0.10</td>\n",
       "      <td>0.241886</td>\n",
       "      <td>5.0</td>\n",
       "      <td>5.0</td>\n",
       "      <td>5</td>\n",
       "      <td>True</td>\n",
       "      <td>True</td>\n",
       "    </tr>\n",
       "    <tr>\n",
       "      <th>...</th>\n",
       "      <td>...</td>\n",
       "      <td>...</td>\n",
       "      <td>...</td>\n",
       "      <td>...</td>\n",
       "      <td>...</td>\n",
       "      <td>...</td>\n",
       "      <td>...</td>\n",
       "      <td>...</td>\n",
       "    </tr>\n",
       "    <tr>\n",
       "      <th>24967</th>\n",
       "      <td>467</td>\n",
       "      <td>0.95</td>\n",
       "      <td>0.984460</td>\n",
       "      <td>5.0</td>\n",
       "      <td>10.0</td>\n",
       "      <td>8</td>\n",
       "      <td>True</td>\n",
       "      <td>True</td>\n",
       "    </tr>\n",
       "    <tr>\n",
       "      <th>24975</th>\n",
       "      <td>475</td>\n",
       "      <td>0.95</td>\n",
       "      <td>0.984117</td>\n",
       "      <td>5.0</td>\n",
       "      <td>10.0</td>\n",
       "      <td>6</td>\n",
       "      <td>True</td>\n",
       "      <td>True</td>\n",
       "    </tr>\n",
       "    <tr>\n",
       "      <th>24976</th>\n",
       "      <td>476</td>\n",
       "      <td>0.95</td>\n",
       "      <td>0.990261</td>\n",
       "      <td>0.0</td>\n",
       "      <td>3.0</td>\n",
       "      <td>0</td>\n",
       "      <td>True</td>\n",
       "      <td>True</td>\n",
       "    </tr>\n",
       "    <tr>\n",
       "      <th>24979</th>\n",
       "      <td>479</td>\n",
       "      <td>0.95</td>\n",
       "      <td>0.985610</td>\n",
       "      <td>5.0</td>\n",
       "      <td>10.0</td>\n",
       "      <td>7</td>\n",
       "      <td>True</td>\n",
       "      <td>True</td>\n",
       "    </tr>\n",
       "    <tr>\n",
       "      <th>24996</th>\n",
       "      <td>496</td>\n",
       "      <td>0.95</td>\n",
       "      <td>0.987733</td>\n",
       "      <td>6.0</td>\n",
       "      <td>10.0</td>\n",
       "      <td>10</td>\n",
       "      <td>True</td>\n",
       "      <td>True</td>\n",
       "    </tr>\n",
       "  </tbody>\n",
       "</table>\n",
       "<p>1778 rows × 8 columns</p>\n",
       "</div>"
      ],
      "text/plain": [
       "       target_index  requested_ci_width_dont_use  confidence  lower_edge  \\\n",
       "0                 0                         0.10    0.286924         8.0   \n",
       "1                 1                         0.10    0.248919         4.0   \n",
       "2                 2                         0.10    0.884919         0.0   \n",
       "3                 3                         0.10    0.514185         0.0   \n",
       "4                 4                         0.10    0.241886         5.0   \n",
       "...             ...                          ...         ...         ...   \n",
       "24967           467                         0.95    0.984460         5.0   \n",
       "24975           475                         0.95    0.984117         5.0   \n",
       "24976           476                         0.95    0.990261         0.0   \n",
       "24979           479                         0.95    0.985610         5.0   \n",
       "24996           496                         0.95    0.987733         6.0   \n",
       "\n",
       "       upper_edge  true_value  true_within_hpd  unimodal  \n",
       "0             8.0           7            False      True  \n",
       "1             4.0           5            False      True  \n",
       "2             0.0           0             True      True  \n",
       "3             0.0           0             True      True  \n",
       "4             5.0           5             True      True  \n",
       "...           ...         ...              ...       ...  \n",
       "24967        10.0           8             True      True  \n",
       "24975        10.0           6             True      True  \n",
       "24976         3.0           0             True      True  \n",
       "24979        10.0           7             True      True  \n",
       "24996        10.0          10             True      True  \n",
       "\n",
       "[1778 rows x 8 columns]"
      ]
     },
     "execution_count": 12,
     "metadata": {},
     "output_type": "execute_result"
    }
   ],
   "source": [
    "coverage"
   ]
  },
  {
   "cell_type": "code",
   "execution_count": 13,
   "metadata": {},
   "outputs": [],
   "source": [
    "# sns.set_context('talk')\n",
    "# fig, ax = plt.subplots()\n",
    "\n",
    "# plot_binned(coverage, label='Test')\n",
    "\n",
    "# ax.plot([0., 1.], [0., 1.], 'k--')\n",
    "# ax.set_xlim(0, 1.)\n",
    "# ax.set_ylim(0, 1.)\n",
    "# ax.set_ylabel('Ratio in interval')\n",
    "# ax.set_xlabel('Credible interval width')\n",
    "# ax.xaxis.set_major_formatter(PercentFormatter(xmax=1.))\n",
    "# ax.yaxis.set_major_formatter(PercentFormatter(xmax=1.))\n",
    "# ax.set_title(question.text.replace('-', ' ').title())\n",
    "# fig.tight_layout()"
   ]
  },
  {
   "cell_type": "markdown",
   "metadata": {},
   "source": [
    "## Use predictions"
   ]
  },
  {
   "cell_type": "code",
   "execution_count": 14,
   "metadata": {},
   "outputs": [
    {
     "name": "stdout",
     "output_type": "stream",
     "text": [
      "{smooth-or-featured, indices 0 to 2, asked after None: (0, 2), disk-edge-on, indices 3 to 4, asked after smooth-or-featured_featured-or-disk, index 1: (3, 4), has-spiral-arms, indices 5 to 6, asked after disk-edge-on_no, index 4: (5, 6), bar, indices 7 to 9, asked after disk-edge-on_no, index 4: (7, 9), bulge-size, indices 10 to 14, asked after disk-edge-on_no, index 4: (10, 14), how-rounded, indices 15 to 17, asked after smooth-or-featured_smooth, index 0: (15, 17), edge-on-bulge, indices 18 to 20, asked after disk-edge-on_yes, index 3: (18, 20), spiral-winding, indices 21 to 23, asked after has-spiral-arms_yes, index 5: (21, 23), spiral-arm-count, indices 24 to 29, asked after has-spiral-arms_yes, index 5: (24, 29), merging, indices 30 to 33, asked after None: (30, 33)}\n",
      "(49700, 34, 15)\n"
     ]
    }
   ],
   "source": [
    "\n",
    "# state_loc = 'results/4q/latest_dirichlet_unfiltered_active_m3_warm/iteration_0/state.pickle'\n",
    "# label_cols = label_metadata.gz2_partial_label_cols\n",
    "# questions = label_metadata.gz2_partial_questions\n",
    "\n",
    "\n",
    "\n",
    "# state_loc = 'results/temp/gz2_all_q_warm_active/iteration_0/state.pickle'\n",
    "# label_cols = label_metadata.gz2_label_cols\n",
    "# questions = label_metadata.gz2_questions\n",
    "# version = 'gz2'\n",
    "# schema = losses.Schema(label_cols, questions, version=version)\n",
    "\n",
    "# with open(state_loc, 'rb') as f:\n",
    "#     state = pickle.load(f)\n",
    "\n",
    "# samples_list = state.samples\n",
    "# n_models = len(state.samples)\n",
    "# state.samples[0].shape, state.acquisitions.shape, len(state.id_strs)\n",
    "\n",
    "label_cols = label_metadata.decals_label_cols\n",
    "questions = label_metadata.decals_questions\n",
    "version = 'decals'\n",
    "schema = losses.Schema(label_cols, questions, version=version)\n",
    "\n",
    "# predictions_loc = 'results/temp/decals_n2_allq_m0_all.csv'\n",
    "# eval_loc = 'results/temp/decals_n2_allq_m0_eval_shards/eval_df.csv'\n",
    "\n",
    "eval_loc = 'results/decals_dr_full_eval_df.csv'\n",
    "eval_df = pd.read_csv(eval_loc).sort_values('iauname').reset_index()\n",
    "\n",
    "# one model, many dropout\n",
    "# predictions_loc = 'results/decals_dr_full_m0_eval_predictions.csv'  # .1-20\n",
    "# predictions = pd.read_csv(predictions_loc)\n",
    "\n",
    "# samples = dirichlet_stats.load_all_concentrations(eval_predictions, concentration_cols=[a.text + '_concentration' for a in schema.answers])\n",
    "# samples_list = [samples]\n",
    "\n",
    "# # many models, many dropout\n",
    "predictions_locs = [\n",
    "    'results/decals_dr_full_m0_eval_predictions.csv',\n",
    "    'results/decals_dr_full_m1_eval_predictions.csv',\n",
    "    'results/decals_dr_full_m2_eval_predictions.csv'\n",
    "]\n",
    "all_samples = []\n",
    "for predictions_loc in predictions_locs:\n",
    "    predictions = pd.read_csv(predictions_loc).sort_values('iauname').reset_index()\n",
    "    assert all(predictions['iauname'] == eval_df['iauname'])\n",
    "    all_samples.append(dirichlet_stats.load_all_concentrations(predictions, concentration_cols=[a.text + '_concentration' for a in schema.answers]))\n",
    "all_samples = np.concatenate(all_samples, axis=2)\n",
    "print(all_samples.shape)\n",
    "\n",
    "assert len(eval_df) == len(all_samples)\n",
    "\n"
   ]
  },
  {
   "cell_type": "code",
   "execution_count": 15,
   "metadata": {},
   "outputs": [
    {
     "data": {
      "text/plain": [
       "0        J000001.55-000533.3\n",
       "1        J000001.85+004309.3\n",
       "2        J000002.29-042805.0\n",
       "3        J000002.70+081756.0\n",
       "4        J000006.63+004442.5\n",
       "                ...         \n",
       "49695    J235923.20+010820.9\n",
       "49696    J235928.70+013500.0\n",
       "49697    J235941.09-051613.8\n",
       "49698    J235943.02+004227.3\n",
       "49699    J235948.49-004607.8\n",
       "Name: iauname, Length: 49700, dtype: object"
      ]
     },
     "execution_count": 15,
     "metadata": {},
     "output_type": "execute_result"
    }
   ],
   "source": [
    "eval_df['iauname']"
   ]
  },
  {
   "cell_type": "code",
   "execution_count": 16,
   "metadata": {},
   "outputs": [
    {
     "data": {
      "text/plain": [
       "0        J000001.55-000533.3\n",
       "1        J000001.85+004309.3\n",
       "2        J000002.29-042805.0\n",
       "3        J000002.70+081756.0\n",
       "4        J000006.63+004442.5\n",
       "                ...         \n",
       "49695    J235923.20+010820.9\n",
       "49696    J235928.70+013500.0\n",
       "49697    J235941.09-051613.8\n",
       "49698    J235943.02+004227.3\n",
       "49699    J235948.49-004607.8\n",
       "Name: iauname, Length: 49700, dtype: object"
      ]
     },
     "execution_count": 16,
     "metadata": {},
     "output_type": "execute_result"
    }
   ],
   "source": [
    "predictions['iauname']"
   ]
  },
  {
   "cell_type": "code",
   "execution_count": 17,
   "metadata": {},
   "outputs": [],
   "source": [
    "# n_samples = samples_list.shape[2]"
   ]
  },
  {
   "cell_type": "code",
   "execution_count": 18,
   "metadata": {},
   "outputs": [
    {
     "data": {
      "text/plain": [
       "'has-spiral-arms_yes'"
      ]
     },
     "execution_count": 18,
     "metadata": {},
     "output_type": "execute_result"
    }
   ],
   "source": [
    "# question = schema.get_question('smooth-or-featured')  # not binary any more!\n",
    "question = schema.get_question('has-spiral-arms')\n",
    "# question = schema.get_question('disk-edge-on')\n",
    "# question = schema.get_question('bar')\n",
    "answer = question.answers[0]\n",
    "answer.text"
   ]
  },
  {
   "cell_type": "code",
   "execution_count": 19,
   "metadata": {},
   "outputs": [],
   "source": [
    "# # apply a filter to eval_df and to samples\n",
    "# is_featured = eval_df['smooth-or-featured_featured-or-disk_fraction'] > 0.5\n",
    "# eval_df = eval_df[is_featured].reset_index()\n",
    "# all_samples = all_samples[is_featured]\n",
    "# len(eval_df), len(all_samples)"
   ]
  },
  {
   "cell_type": "markdown",
   "metadata": {},
   "source": [
    "## Some basic checks to see if I can correctly find credible intervals"
   ]
  },
  {
   "cell_type": "code",
   "execution_count": 20,
   "metadata": {},
   "outputs": [
    {
     "data": {
      "text/plain": [
       "array([[ 1.73236871,  1.92396593,  2.19221926,  2.46112347,  2.19485617,\n",
       "         2.1873529 ,  2.02861118,  2.42874908,  2.6538465 ,  2.5580101 ,\n",
       "         1.71689355,  2.21185541,  1.92379689,  1.80206728,  1.88299227],\n",
       "       [19.66293335, 16.92928886, 17.52332306, 15.99224186, 16.01057053,\n",
       "        17.76146126, 16.12827682, 13.63426113, 14.63040924, 14.46552944,\n",
       "        28.61507607, 23.55917358, 23.88155937, 24.00099373, 31.79277039]])"
      ]
     },
     "execution_count": 20,
     "metadata": {},
     "output_type": "execute_result"
    }
   ],
   "source": [
    "all_samples[1, question.start_index:question.end_index+1]"
   ]
  },
  {
   "cell_type": "code",
   "execution_count": 21,
   "metadata": {},
   "outputs": [],
   "source": [
    "def get_coverage_data(samples, df, question, answer, n_galaxies):\n",
    "    assert len(samples) == len(df)\n",
    "    assert len(samples) >= n_galaxies\n",
    "    id_strs = list(df['iauname']) # legacy, I assume df and samples are both sorted by iauname\n",
    "    true_values = df[answer.text].values\n",
    "    \n",
    "    # (votes for zeroth answer, (p of votes per model))\n",
    "    all_galaxy_posteriors = dirichlet_stats.get_posteriors(samples[:n_galaxies], df, id_strs, question, answer)  \n",
    "    \n",
    "    first_posteriors = [(votes, p_of_votes[0]) for votes, p_of_votes in all_galaxy_posteriors]  # first model and first dropout, they are concat if many models\n",
    "\n",
    "    mean_posteriors = [(votes, p_of_votes.mean(axis=0)) for votes, p_of_votes in all_galaxy_posteriors]\n",
    "    \n",
    "    test_index = 0\n",
    "#     print(all_galaxy_posteriors[test_index][1])\n",
    "#     print(mean_posteriors[test_index][1])\n",
    "    for p in all_galaxy_posteriors[test_index][1]:\n",
    "        plt.plot(p, alpha=.3)\n",
    "    plt.plot(mean_posteriors[test_index][1])\n",
    "    plt.axvline(true_values[test_index])\n",
    "    \n",
    "    coverage_first = dirichlet_stats.get_coverage(first_posteriors, true_values)\n",
    "    coverage_all = dirichlet_stats.get_coverage(mean_posteriors, true_values)\n",
    "    \n",
    "    return (first_posteriors, mean_posteriors), (coverage_first, coverage_all), true_values"
   ]
  },
  {
   "cell_type": "code",
   "execution_count": 22,
   "metadata": {},
   "outputs": [],
   "source": [
    "disk = np.array(eval_df['disk-edge-on_no'] > 0.5)\n",
    "spiral = np.array(eval_df['has-spiral-arms_yes'] > 0.5)\n",
    "featured = np.array(eval_df['smooth-or-featured_featured-or-disk_fraction'] > 0.5)"
   ]
  },
  {
   "cell_type": "code",
   "execution_count": 23,
   "metadata": {},
   "outputs": [
    {
     "data": {
      "text/plain": [
       "'[\"https://panoptes-uploads.zooniverse.org/production/subject_location/9b8e52e2-122c-4f68-b0ab-42098d947d19.png\", \"https://panoptes-uploads.zooniverse.org/production/subject_location/9b8e52e2-122c-4f68-b0ab-42098d947d19.png\"]'"
      ]
     },
     "execution_count": 23,
     "metadata": {},
     "output_type": "execute_result"
    }
   ],
   "source": [
    "eval_df[featured]['locations'].iloc[0]"
   ]
  },
  {
   "cell_type": "code",
   "execution_count": 24,
   "metadata": {},
   "outputs": [
    {
     "data": {
      "text/plain": [
       "2        0.800000\n",
       "5        0.600000\n",
       "7        1.000000\n",
       "8        0.600000\n",
       "10       0.600000\n",
       "           ...   \n",
       "49689    0.555556\n",
       "49691    0.600000\n",
       "49692    0.600000\n",
       "49693    0.800000\n",
       "49696    1.000000\n",
       "Name: smooth-or-featured_featured-or-disk_fraction, Length: 13829, dtype: float64"
      ]
     },
     "execution_count": 24,
     "metadata": {},
     "output_type": "execute_result"
    }
   ],
   "source": [
    "eval_df[featured]['smooth-or-featured_featured-or-disk_fraction']"
   ]
  },
  {
   "cell_type": "code",
   "execution_count": 25,
   "metadata": {},
   "outputs": [
    {
     "data": {
      "text/plain": [
       "2        1.000000\n",
       "5        0.666667\n",
       "7        1.000000\n",
       "8        1.000000\n",
       "10       0.666667\n",
       "           ...   \n",
       "49689    0.400000\n",
       "49691    1.000000\n",
       "49692    1.000000\n",
       "49693    1.000000\n",
       "49696    0.000000\n",
       "Name: disk-edge-on_no_fraction, Length: 13829, dtype: float64"
      ]
     },
     "execution_count": 25,
     "metadata": {},
     "output_type": "execute_result"
    }
   ],
   "source": [
    "eval_df[featured]['disk-edge-on_no_fraction']"
   ]
  },
  {
   "cell_type": "code",
   "execution_count": 26,
   "metadata": {},
   "outputs": [
    {
     "data": {
      "text/plain": [
       "has-spiral-arms_yes, index 5"
      ]
     },
     "execution_count": 26,
     "metadata": {},
     "output_type": "execute_result"
    }
   ],
   "source": [
    "answer"
   ]
  },
  {
   "cell_type": "code",
   "execution_count": 27,
   "metadata": {},
   "outputs": [
    {
     "data": {
      "text/plain": [
       "'[100.02777099609375, 97.82882690429688, 93.5253677368164, 99.10511016845703, 98.50114440917969]'"
      ]
     },
     "execution_count": 27,
     "metadata": {},
     "output_type": "execute_result"
    }
   ],
   "source": [
    "predictions['smooth-or-featured_smooth_concentration'][0]"
   ]
  },
  {
   "cell_type": "code",
   "execution_count": 28,
   "metadata": {},
   "outputs": [],
   "source": [
    "# all_samples[0]"
   ]
  },
  {
   "cell_type": "code",
   "execution_count": 29,
   "metadata": {},
   "outputs": [
    {
     "data": {
      "text/html": [
       "<div>\n",
       "<style scoped>\n",
       "    .dataframe tbody tr th:only-of-type {\n",
       "        vertical-align: middle;\n",
       "    }\n",
       "\n",
       "    .dataframe tbody tr th {\n",
       "        vertical-align: top;\n",
       "    }\n",
       "\n",
       "    .dataframe thead th {\n",
       "        text-align: right;\n",
       "    }\n",
       "</style>\n",
       "<table border=\"1\" class=\"dataframe\">\n",
       "  <thead>\n",
       "    <tr style=\"text-align: right;\">\n",
       "      <th></th>\n",
       "      <th>disk-edge-on_yes_concentration</th>\n",
       "      <th>disk-edge-on_no_concentration</th>\n",
       "    </tr>\n",
       "  </thead>\n",
       "  <tbody>\n",
       "    <tr>\n",
       "      <th>2</th>\n",
       "      <td>[1.6704418659210205, 1.5056101083755493, 1.518...</td>\n",
       "      <td>[85.40021514892578, 86.37328338623047, 87.5264...</td>\n",
       "    </tr>\n",
       "    <tr>\n",
       "      <th>5</th>\n",
       "      <td>[10.476568222045898, 13.2660493850708, 10.6818...</td>\n",
       "      <td>[19.548341751098633, 15.24882698059082, 14.765...</td>\n",
       "    </tr>\n",
       "    <tr>\n",
       "      <th>7</th>\n",
       "      <td>[4.086644172668457, 4.091834545135498, 4.27661...</td>\n",
       "      <td>[84.64031982421875, 88.56946563720703, 89.9156...</td>\n",
       "    </tr>\n",
       "    <tr>\n",
       "      <th>8</th>\n",
       "      <td>[7.499283790588379, 6.787842273712158, 7.71753...</td>\n",
       "      <td>[92.62247467041016, 87.59896850585938, 92.9716...</td>\n",
       "    </tr>\n",
       "    <tr>\n",
       "      <th>10</th>\n",
       "      <td>[1.949257493019104, 3.583475112915039, 2.28213...</td>\n",
       "      <td>[76.83738708496094, 48.18535232543945, 77.3098...</td>\n",
       "    </tr>\n",
       "    <tr>\n",
       "      <th>...</th>\n",
       "      <td>...</td>\n",
       "      <td>...</td>\n",
       "    </tr>\n",
       "    <tr>\n",
       "      <th>49689</th>\n",
       "      <td>[13.5394287109375, 13.017696380615234, 17.6887...</td>\n",
       "      <td>[8.27752685546875, 9.687857627868652, 8.934642...</td>\n",
       "    </tr>\n",
       "    <tr>\n",
       "      <th>49691</th>\n",
       "      <td>[11.786920547485352, 12.340838432312012, 11.74...</td>\n",
       "      <td>[94.87384796142578, 95.27072143554688, 97.0742...</td>\n",
       "    </tr>\n",
       "    <tr>\n",
       "      <th>49692</th>\n",
       "      <td>[3.6933367252349854, 3.8627138137817383, 4.578...</td>\n",
       "      <td>[82.29533386230469, 75.79218292236328, 74.3439...</td>\n",
       "    </tr>\n",
       "    <tr>\n",
       "      <th>49693</th>\n",
       "      <td>[2.9183106422424316, 2.055495023727417, 2.3561...</td>\n",
       "      <td>[93.61643981933594, 98.97185516357422, 97.9350...</td>\n",
       "    </tr>\n",
       "    <tr>\n",
       "      <th>49696</th>\n",
       "      <td>[63.72642517089844, 45.71076202392578, 80.9197...</td>\n",
       "      <td>[1.8153541088104248, 2.13322114944458, 1.87233...</td>\n",
       "    </tr>\n",
       "  </tbody>\n",
       "</table>\n",
       "<p>13829 rows × 2 columns</p>\n",
       "</div>"
      ],
      "text/plain": [
       "                          disk-edge-on_yes_concentration  \\\n",
       "2      [1.6704418659210205, 1.5056101083755493, 1.518...   \n",
       "5      [10.476568222045898, 13.2660493850708, 10.6818...   \n",
       "7      [4.086644172668457, 4.091834545135498, 4.27661...   \n",
       "8      [7.499283790588379, 6.787842273712158, 7.71753...   \n",
       "10     [1.949257493019104, 3.583475112915039, 2.28213...   \n",
       "...                                                  ...   \n",
       "49689  [13.5394287109375, 13.017696380615234, 17.6887...   \n",
       "49691  [11.786920547485352, 12.340838432312012, 11.74...   \n",
       "49692  [3.6933367252349854, 3.8627138137817383, 4.578...   \n",
       "49693  [2.9183106422424316, 2.055495023727417, 2.3561...   \n",
       "49696  [63.72642517089844, 45.71076202392578, 80.9197...   \n",
       "\n",
       "                           disk-edge-on_no_concentration  \n",
       "2      [85.40021514892578, 86.37328338623047, 87.5264...  \n",
       "5      [19.548341751098633, 15.24882698059082, 14.765...  \n",
       "7      [84.64031982421875, 88.56946563720703, 89.9156...  \n",
       "8      [92.62247467041016, 87.59896850585938, 92.9716...  \n",
       "10     [76.83738708496094, 48.18535232543945, 77.3098...  \n",
       "...                                                  ...  \n",
       "49689  [8.27752685546875, 9.687857627868652, 8.934642...  \n",
       "49691  [94.87384796142578, 95.27072143554688, 97.0742...  \n",
       "49692  [82.29533386230469, 75.79218292236328, 74.3439...  \n",
       "49693  [93.61643981933594, 98.97185516357422, 97.9350...  \n",
       "49696  [1.8153541088104248, 2.13322114944458, 1.87233...  \n",
       "\n",
       "[13829 rows x 2 columns]"
      ]
     },
     "execution_count": 29,
     "metadata": {},
     "output_type": "execute_result"
    }
   ],
   "source": [
    "predictions[featured][['disk-edge-on_yes_concentration', 'disk-edge-on_no_concentration']]  # last 5 only"
   ]
  },
  {
   "cell_type": "code",
   "execution_count": 30,
   "metadata": {},
   "outputs": [
    {
     "data": {
      "text/plain": [
       "array([[36.76354218, 37.65036392, 38.57816315, 43.98692703, 31.98897934],\n",
       "       [ 1.74843776,  1.7670188 ,  1.70662975,  1.6974647 ,  1.76423585]])"
      ]
     },
     "execution_count": 30,
     "metadata": {},
     "output_type": "execute_result"
    }
   ],
   "source": [
    "all_samples[featured][0, question.start_index:question.end_index+1, 10:]"
   ]
  },
  {
   "cell_type": "code",
   "execution_count": 31,
   "metadata": {},
   "outputs": [
    {
     "data": {
      "text/plain": [
       "(has-spiral-arms, indices 5 to 6, asked after disk-edge-on_no, index 4,\n",
       " has-spiral-arms_yes, index 5)"
      ]
     },
     "execution_count": 31,
     "metadata": {},
     "output_type": "execute_result"
    }
   ],
   "source": [
    "question, answer"
   ]
  },
  {
   "cell_type": "code",
   "execution_count": 32,
   "metadata": {},
   "outputs": [
    {
     "name": "stdout",
     "output_type": "stream",
     "text": [
      "[0.] [1.]\n"
     ]
    },
    {
     "ename": "IndexError",
     "evalue": "",
     "output_type": "error",
     "traceback": [
      "\u001b[0;31m---------------------------------------------------------------------------\u001b[0m",
      "\u001b[0;31mIndexError\u001b[0m                                Traceback (most recent call last)",
      "\u001b[0;32m<ipython-input-32-4cfb3b4b91f7>\u001b[0m in \u001b[0;36m<module>\u001b[0;34m\u001b[0m\n\u001b[1;32m      1\u001b[0m (first_posteriors, mean_posteriors), (coverage_first, coverage_all), true_values = get_coverage_data(\n\u001b[0;32m----> 2\u001b[0;31m     all_samples[featured], eval_df[featured], question, answer, n_galaxies=500)\n\u001b[0m",
      "\u001b[0;32m<ipython-input-21-562c195997bc>\u001b[0m in \u001b[0;36mget_coverage_data\u001b[0;34m(samples, df, question, answer, n_galaxies)\u001b[0m\n\u001b[1;32m     20\u001b[0m     \u001b[0mplt\u001b[0m\u001b[0;34m.\u001b[0m\u001b[0maxvline\u001b[0m\u001b[0;34m(\u001b[0m\u001b[0mtrue_values\u001b[0m\u001b[0;34m[\u001b[0m\u001b[0mtest_index\u001b[0m\u001b[0;34m]\u001b[0m\u001b[0;34m)\u001b[0m\u001b[0;34m\u001b[0m\u001b[0;34m\u001b[0m\u001b[0m\n\u001b[1;32m     21\u001b[0m \u001b[0;34m\u001b[0m\u001b[0m\n\u001b[0;32m---> 22\u001b[0;31m     \u001b[0mcoverage_first\u001b[0m \u001b[0;34m=\u001b[0m \u001b[0mdirichlet_stats\u001b[0m\u001b[0;34m.\u001b[0m\u001b[0mget_coverage\u001b[0m\u001b[0;34m(\u001b[0m\u001b[0mfirst_posteriors\u001b[0m\u001b[0;34m,\u001b[0m \u001b[0mtrue_values\u001b[0m\u001b[0;34m)\u001b[0m\u001b[0;34m\u001b[0m\u001b[0;34m\u001b[0m\u001b[0m\n\u001b[0m\u001b[1;32m     23\u001b[0m     \u001b[0mcoverage_all\u001b[0m \u001b[0;34m=\u001b[0m \u001b[0mdirichlet_stats\u001b[0m\u001b[0;34m.\u001b[0m\u001b[0mget_coverage\u001b[0m\u001b[0;34m(\u001b[0m\u001b[0mmean_posteriors\u001b[0m\u001b[0;34m,\u001b[0m \u001b[0mtrue_values\u001b[0m\u001b[0;34m)\u001b[0m\u001b[0;34m\u001b[0m\u001b[0;34m\u001b[0m\u001b[0m\n\u001b[1;32m     24\u001b[0m \u001b[0;34m\u001b[0m\u001b[0m\n",
      "\u001b[0;32m~/repos/zoobot/zoobot/estimators/dirichlet_stats.py\u001b[0m in \u001b[0;36mget_coverage\u001b[0;34m(posteriors, true_values)\u001b[0m\n\u001b[1;32m    182\u001b[0m         \u001b[0;32mfor\u001b[0m \u001b[0mtarget_n\u001b[0m\u001b[0;34m,\u001b[0m \u001b[0;34m(\u001b[0m\u001b[0mx\u001b[0m\u001b[0;34m,\u001b[0m \u001b[0mposterior\u001b[0m\u001b[0;34m)\u001b[0m \u001b[0;32min\u001b[0m \u001b[0menumerate\u001b[0m\u001b[0;34m(\u001b[0m\u001b[0mposteriors\u001b[0m\u001b[0;34m)\u001b[0m\u001b[0;34m:\u001b[0m  \u001b[0;31m# n posteriors\u001b[0m\u001b[0;34m\u001b[0m\u001b[0;34m\u001b[0m\u001b[0m\n\u001b[1;32m    183\u001b[0m             \u001b[0mtrue_value\u001b[0m \u001b[0;34m=\u001b[0m \u001b[0mtrue_values\u001b[0m\u001b[0;34m[\u001b[0m\u001b[0mtarget_n\u001b[0m\u001b[0;34m]\u001b[0m\u001b[0;34m\u001b[0m\u001b[0;34m\u001b[0m\u001b[0m\n\u001b[0;32m--> 184\u001b[0;31m             \u001b[0;34m(\u001b[0m\u001b[0mlower_lim\u001b[0m\u001b[0;34m,\u001b[0m \u001b[0mhigher_lim\u001b[0m\u001b[0;34m)\u001b[0m\u001b[0;34m,\u001b[0m \u001b[0mconfidence\u001b[0m\u001b[0;34m,\u001b[0m \u001b[0munimodal\u001b[0m \u001b[0;34m=\u001b[0m \u001b[0mget_hpd\u001b[0m\u001b[0;34m(\u001b[0m\u001b[0mx\u001b[0m\u001b[0;34m,\u001b[0m \u001b[0mposterior\u001b[0m\u001b[0;34m,\u001b[0m \u001b[0mci\u001b[0m\u001b[0;34m=\u001b[0m\u001b[0mci_width\u001b[0m\u001b[0;34m)\u001b[0m\u001b[0;34m\u001b[0m\u001b[0;34m\u001b[0m\u001b[0m\n\u001b[0m\u001b[1;32m    185\u001b[0m             \u001b[0mwithin_any_ci\u001b[0m \u001b[0;34m=\u001b[0m \u001b[0mlower_lim\u001b[0m \u001b[0;34m<=\u001b[0m \u001b[0mtrue_value\u001b[0m \u001b[0;34m<=\u001b[0m \u001b[0mhigher_lim\u001b[0m  \u001b[0;31m# inclusive\u001b[0m\u001b[0;34m\u001b[0m\u001b[0;34m\u001b[0m\u001b[0m\n\u001b[1;32m    186\u001b[0m             results.append({\n",
      "\u001b[0;32m~/repos/zoobot/zoobot/estimators/dirichlet_stats.py\u001b[0m in \u001b[0;36mget_hpd\u001b[0;34m(x, p, ci)\u001b[0m\n\u001b[1;32m    151\u001b[0m     \u001b[0;32mif\u001b[0m \u001b[0mlen\u001b[0m\u001b[0;34m(\u001b[0m\u001b[0mp\u001b[0m\u001b[0;34m)\u001b[0m \u001b[0;34m<=\u001b[0m \u001b[0;36m1\u001b[0m\u001b[0;34m:\u001b[0m\u001b[0;34m\u001b[0m\u001b[0;34m\u001b[0m\u001b[0m\n\u001b[1;32m    152\u001b[0m         \u001b[0mprint\u001b[0m\u001b[0;34m(\u001b[0m\u001b[0mx\u001b[0m\u001b[0;34m,\u001b[0m \u001b[0mp\u001b[0m\u001b[0;34m)\u001b[0m\u001b[0;34m\u001b[0m\u001b[0;34m\u001b[0m\u001b[0m\n\u001b[0;32m--> 153\u001b[0;31m         \u001b[0;32mraise\u001b[0m \u001b[0mIndexError\u001b[0m\u001b[0;34m\u001b[0m\u001b[0;34m\u001b[0m\u001b[0m\n\u001b[0m\u001b[1;32m    154\u001b[0m     \u001b[0;32massert\u001b[0m \u001b[0mx\u001b[0m\u001b[0;34m.\u001b[0m\u001b[0mndim\u001b[0m \u001b[0;34m==\u001b[0m \u001b[0;36m1\u001b[0m\u001b[0;34m\u001b[0m\u001b[0;34m\u001b[0m\u001b[0m\n\u001b[1;32m    155\u001b[0m     \u001b[0;32massert\u001b[0m \u001b[0mx\u001b[0m\u001b[0;34m.\u001b[0m\u001b[0mshape\u001b[0m \u001b[0;34m==\u001b[0m \u001b[0mp\u001b[0m\u001b[0;34m.\u001b[0m\u001b[0mshape\u001b[0m\u001b[0;34m\u001b[0m\u001b[0;34m\u001b[0m\u001b[0m\n",
      "\u001b[0;31mIndexError\u001b[0m: "
     ]
    },
    {
     "data": {
      "image/png": "[encoded data removed]",
      "text/plain": [
       "<Figure size 432x288 with 1 Axes>"
      ]
     },
     "metadata": {
      "needs_background": "light"
     },
     "output_type": "display_data"
    }
   ],
   "source": [
    "(first_posteriors, mean_posteriors), (coverage_first, coverage_all), true_values = get_coverage_data(\n",
    "    all_samples[featured], eval_df[featured], question, answer, n_galaxies=500)"
   ]
  },
  {
   "cell_type": "code",
   "execution_count": null,
   "metadata": {},
   "outputs": [],
   "source": [
    "coverage_first.query('target_index == 0')"
   ]
  },
  {
   "cell_type": "code",
   "execution_count": null,
   "metadata": {},
   "outputs": [],
   "source": [
    "coverage_first['confidence'].hist()"
   ]
  },
  {
   "cell_type": "code",
   "execution_count": null,
   "metadata": {},
   "outputs": [],
   "source": [
    "coverage_all['confidence'].hist()"
   ]
  },
  {
   "cell_type": "code",
   "execution_count": null,
   "metadata": {},
   "outputs": [],
   "source": [
    "coverage_all['confidence_rounded'] = np.around(coverage_all['confidence'], 2)\n",
    "temp = coverage_all.groupby('confidence_rounded').agg({'true_within_hpd': 'mean'}).reset_index()\n",
    "plt.plot(temp['confidence_rounded'], temp['true_within_hpd'])\n",
    "plt.plot([0, 1], [0, 1], color='k', linestyle='--')"
   ]
  },
  {
   "cell_type": "code",
   "execution_count": null,
   "metadata": {},
   "outputs": [],
   "source": []
  },
  {
   "cell_type": "code",
   "execution_count": null,
   "metadata": {},
   "outputs": [],
   "source": [
    "coverage_all.query('target_index == 1')"
   ]
  },
  {
   "cell_type": "code",
   "execution_count": null,
   "metadata": {},
   "outputs": [],
   "source": [
    "# test_index = 1\n",
    "# x, p = all_posteriors[test_index]\n",
    "# for d in p:\n",
    "#     plt.scatter(x, x, marker='+')\n",
    "#     plt.axvline(true_values[test_index])"
   ]
  },
  {
   "cell_type": "code",
   "execution_count": null,
   "metadata": {},
   "outputs": [],
   "source": [
    "p"
   ]
  },
  {
   "cell_type": "code",
   "execution_count": null,
   "metadata": {},
   "outputs": [],
   "source": [
    "# (lower_edge, upper_edge), confidence, unimodal = dirichlet_stats.get_hpd(x, p, ci=.9)\n",
    "# lower_edge, upper_edge, confidence"
   ]
  },
  {
   "cell_type": "code",
   "execution_count": null,
   "metadata": {},
   "outputs": [],
   "source": [
    "# x, p = first_posteriors[0]\n",
    "# for d in p:\n",
    "#     plt.scatter(x, p, marker='+')\n",
    "#     plt.axvline(true_values[0])"
   ]
  },
  {
   "cell_type": "code",
   "execution_count": null,
   "metadata": {},
   "outputs": [],
   "source": [
    "# (lower_edge, upper_edge), confidence, unimodal = dirichlet_stats.get_hpd(x, p, ci=.9)\n",
    "# lower_edge, upper_edge, confidence"
   ]
  },
  {
   "cell_type": "code",
   "execution_count": null,
   "metadata": {},
   "outputs": [],
   "source": [
    "plt.scatter(x, p, marker='+')\n",
    "plt.axvline(lower_edge)\n",
    "plt.axvline(upper_edge)"
   ]
  },
  {
   "cell_type": "code",
   "execution_count": null,
   "metadata": {},
   "outputs": [],
   "source": [
    "# sns.scatterplot(x=eval_predictions['has-spiral-arms_yes_fraction'], y=eval_predictions['has-spiral-arms_yes_concentration_mean']/(eval_predictions['has-spiral-arms_no_concentration_mean'] + eval_predictions['has-spiral-arms_yes_concentration_mean']), alpha=.01)"
   ]
  },
  {
   "cell_type": "code",
   "execution_count": null,
   "metadata": {},
   "outputs": [],
   "source": [
    "# is_retired = eval_predictions['smooth-or-featured_total-votes'] > 36 \n",
    "# retired = eval_predictions[is_retired]\n",
    "# sns.scatterplot(x=retired['has-spiral-arms_yes_fraction'], y=retired['has-spiral-arms_yes_concentration_mean']/(retired['has-spiral-arms_no_concentration_mean'] + retired['has-spiral-arms_yes_concentration_mean']), alpha=.07)"
   ]
  },
  {
   "cell_type": "markdown",
   "metadata": {},
   "source": [
    "## Now let's find coverage for various subsets"
   ]
  },
  {
   "cell_type": "code",
   "execution_count": null,
   "metadata": {},
   "outputs": [],
   "source": [
    "\n",
    "# temp = 0.2\n",
    "# tempered_posteriors = [(indices, (posterior ** temp) / np.sum(posterior ** temp)) for (indices, posterior) in first_posteriors]\n",
    "\n",
    "# uniform_posteriors = [(indices, np.ones(len(indices)) / len(indices)) for (indices, posterior) in first_posteriors]"
   ]
  },
  {
   "cell_type": "code",
   "execution_count": null,
   "metadata": {},
   "outputs": [],
   "source": [
    "# plt.plot(first_posteriors[0][0], first_posteriors[0][1], label='original')\n",
    "# plt.plot(tempered_posteriors[0][0], tempered_posteriors[0][1], label='tempered')"
   ]
  },
  {
   "cell_type": "code",
   "execution_count": null,
   "metadata": {},
   "outputs": [],
   "source": [
    "\n",
    "# coverage_tempered = dirichlet_stats.get_coverage(tempered_posteriors, true_values)\n",
    "# coverage_uniform = dirichlet_stats.get_coverage(uniform_posteriors, true_values)"
   ]
  },
  {
   "cell_type": "code",
   "execution_count": 33,
   "metadata": {},
   "outputs": [],
   "source": [
    "def plot_binned(coverage, label, n_bins=20, min_count=20, plt_kwargs={}):\n",
    "    coverage['confidence_bin'], bins = pd.cut(coverage['confidence'], bins=n_bins, retbins=True)\n",
    "    coverage['bin_center'] = coverage['confidence_bin'].apply(lambda interval: float(interval.mid))\n",
    "    grouped_by_bin = coverage.groupby('bin_center').agg({'true_within_hpd': 'mean', 'confidence': 'count'}).reset_index()\n",
    "    grouped_by_bin = grouped_by_bin.rename(columns={'confidence': 'count'})\n",
    "    selected = grouped_by_bin.query(f'count > {min_count}')\n",
    "#     print(coverage['confidence_bin'])\n",
    "#     print(coverage['bin_center'].astype(float))\n",
    "#     fig, ax = plt.subplots(figsize=figsize)\n",
    "    plt.plot(selected['bin_center'].astype(float), selected['true_within_hpd'], label=label, marker='.', **plt_kwargs)"
   ]
  },
  {
   "cell_type": "code",
   "execution_count": 34,
   "metadata": {},
   "outputs": [
    {
     "ename": "NameError",
     "evalue": "name 'coverage_first' is not defined",
     "output_type": "error",
     "traceback": [
      "\u001b[0;31m---------------------------------------------------------------------------\u001b[0m",
      "\u001b[0;31mNameError\u001b[0m                                 Traceback (most recent call last)",
      "\u001b[0;32m<ipython-input-34-ad6d9c26eba1>\u001b[0m in \u001b[0;36m<module>\u001b[0;34m\u001b[0m\n\u001b[1;32m      2\u001b[0m \u001b[0mfig\u001b[0m\u001b[0;34m,\u001b[0m \u001b[0max\u001b[0m \u001b[0;34m=\u001b[0m \u001b[0mplt\u001b[0m\u001b[0;34m.\u001b[0m\u001b[0msubplots\u001b[0m\u001b[0;34m(\u001b[0m\u001b[0;34m)\u001b[0m\u001b[0;34m\u001b[0m\u001b[0;34m\u001b[0m\u001b[0m\n\u001b[1;32m      3\u001b[0m \u001b[0;34m\u001b[0m\u001b[0m\n\u001b[0;32m----> 4\u001b[0;31m \u001b[0mplot_binned\u001b[0m\u001b[0;34m(\u001b[0m\u001b[0mcoverage_first\u001b[0m\u001b[0;34m,\u001b[0m \u001b[0mlabel\u001b[0m\u001b[0;34m=\u001b[0m\u001b[0;34m'One Model'\u001b[0m\u001b[0;34m)\u001b[0m\u001b[0;34m\u001b[0m\u001b[0;34m\u001b[0m\u001b[0m\n\u001b[0m\u001b[1;32m      5\u001b[0m \u001b[0mplot_binned\u001b[0m\u001b[0;34m(\u001b[0m\u001b[0mcoverage_all\u001b[0m\u001b[0;34m,\u001b[0m \u001b[0mlabel\u001b[0m\u001b[0;34m=\u001b[0m\u001b[0;34m'All Models'\u001b[0m\u001b[0;34m)\u001b[0m\u001b[0;34m\u001b[0m\u001b[0;34m\u001b[0m\u001b[0m\n\u001b[1;32m      6\u001b[0m \u001b[0;31m# plot_binned(coverage_tempered, label='Tempered')\u001b[0m\u001b[0;34m\u001b[0m\u001b[0;34m\u001b[0m\u001b[0;34m\u001b[0m\u001b[0m\n",
      "\u001b[0;31mNameError\u001b[0m: name 'coverage_first' is not defined"
     ]
    },
    {
     "data": {
      "image/png": "[encoded data removed]",
      "text/plain": [
       "<Figure size 432x288 with 1 Axes>"
      ]
     },
     "metadata": {
      "needs_background": "light"
     },
     "output_type": "display_data"
    }
   ],
   "source": [
    "sns.set_context('talk')\n",
    "fig, ax = plt.subplots()\n",
    "\n",
    "plot_binned(coverage_first, label='One Model')\n",
    "plot_binned(coverage_all, label='All Models')\n",
    "# plot_binned(coverage_tempered, label='Tempered')\n",
    "# plot_binned(coverage_uniform, label='Uniform')\n",
    "\n",
    "ax.plot([0., 1.], [0., 1.], 'k--')\n",
    "ax.set_xlim(0, 1.)\n",
    "ax.set_ylim(0, 1.)\n",
    "ax.set_ylabel('Ratio in interval')\n",
    "ax.set_xlabel('Credible interval width')\n",
    "ax.xaxis.set_major_formatter(PercentFormatter(xmax=1.))\n",
    "ax.yaxis.set_major_formatter(PercentFormatter(xmax=1.))\n",
    "ax.set_title(question.text.replace('-', ' ').title())\n",
    "fig.tight_layout()\n",
    "# fig.savefig('calibration_single_model_' + question.text + '.pdf')\n",
    "\n",
    "# I think I'm measuring wrong - how is a uniform posterior overconfident?!"
   ]
  },
  {
   "cell_type": "code",
   "execution_count": 35,
   "metadata": {},
   "outputs": [],
   "source": [
    "n_galaxies = 1000"
   ]
  },
  {
   "cell_type": "code",
   "execution_count": 36,
   "metadata": {},
   "outputs": [],
   "source": [
    "# # featured = eval_df['smooth-or-featured_featured-or-disk_fraction'] > 0.5\n",
    "# more_than_10 = (eval_df['disk-edge-on_no'] > 10) & (eval_df['disk-edge-on_no'] <= 20)\n",
    "# eval_df_10 = eval_df[more_than_10]\n",
    "# samples_10 = all_samples[more_than_10]\n",
    "# print(len(samples_10))\n",
    "# (first_posteriors_10, mean_posteriors_10), (coverage_first_10, coverage_all_10), true_values_10 = get_coverage_data(samples_10, eval_df_10, question, answer, n_galaxies=n_galaxies)"
   ]
  },
  {
   "cell_type": "code",
   "execution_count": 46,
   "metadata": {},
   "outputs": [],
   "source": [
    "# question = schema.get_question('disk-edge-on')\n",
    "question = schema.get_question('has-spiral-arms')\n",
    "answer = question.answers[0]"
   ]
  },
  {
   "cell_type": "code",
   "execution_count": 47,
   "metadata": {},
   "outputs": [],
   "source": [
    "featured = eval_df['smooth-or-featured_featured-or-disk_fraction'] > 0.5  # already applied\n",
    "not_disk = eval_df['disk-edge-on_no_fraction'] > 0.5\n",
    "\n",
    "max_5_disk = (eval_df['disk-edge-on_no'] >= 3) & (eval_df['disk-edge-on_no'] <= 5)\n",
    "max_5_featured = (eval_df['smooth-or-featured_total-votes'] >= 3) & (eval_df['smooth-or-featured_total-votes'] <= 5)\n",
    "\n",
    "around_40_disk = (eval_df['disk-edge-on_no'] >= 30) & (eval_df['disk-edge-on_no'] <= 40)\n",
    "around_40_featured = (eval_df['smooth-or-featured_total-votes'] >= 30) & (eval_df['smooth-or-featured_total-votes'] <= 40)"
   ]
  },
  {
   "cell_type": "code",
   "execution_count": 48,
   "metadata": {},
   "outputs": [
    {
     "name": "stdout",
     "output_type": "stream",
     "text": [
      "5960\n"
     ]
    },
    {
     "name": "stderr",
     "output_type": "stream",
     "text": [
      "WARNING:root:Possible second mode, hpd will fail: [0.2730935  0.22336316 0.21735173 0.2861915 ]\n",
      "WARNING:root:Possible second mode, hpd will fail: [0.2730935  0.22336316 0.21735173 0.2861915 ]\n",
      "WARNING:root:Possible second mode, hpd will fail: [0.2730935  0.22336316 0.21735173 0.2861915 ]\n",
      "WARNING:root:Possible second mode, hpd will fail: [0.2730935  0.22336316 0.21735173 0.2861915 ]\n",
      "WARNING:root:Possible second mode, hpd will fail: [0.2730935  0.22336316 0.21735173 0.2861915 ]\n",
      "WARNING:root:Possible second mode, hpd will fail: [0.2730935  0.22336316 0.21735173 0.2861915 ]\n",
      "WARNING:root:Possible second mode, hpd will fail: [0.2730935  0.22336316 0.21735173 0.2861915 ]\n",
      "WARNING:root:Possible second mode, hpd will fail: [0.2730935  0.22336316 0.21735173 0.2861915 ]\n",
      "WARNING:root:Possible second mode, hpd will fail: [0.2730935  0.22336316 0.21735173 0.2861915 ]\n",
      "WARNING:root:Possible second mode, hpd will fail: [0.2730935  0.22336316 0.21735173 0.2861915 ]\n",
      "WARNING:root:Possible second mode, hpd will fail: [0.2730935  0.22336316 0.21735173 0.2861915 ]\n",
      "WARNING:root:Possible second mode, hpd will fail: [0.2730935  0.22336316 0.21735173 0.2861915 ]\n",
      "WARNING:root:Possible second mode, hpd will fail: [0.2730935  0.22336316 0.21735173 0.2861915 ]\n",
      "WARNING:root:Possible second mode, hpd will fail: [0.2730935  0.22336316 0.21735173 0.2861915 ]\n",
      "WARNING:root:Possible second mode, hpd will fail: [0.2730935  0.22336316 0.21735173 0.2861915 ]\n",
      "WARNING:root:Possible second mode, hpd will fail: [0.2730935  0.22336316 0.21735173 0.2861915 ]\n",
      "WARNING:root:Possible second mode, hpd will fail: [0.2730935  0.22336316 0.21735173 0.2861915 ]\n",
      "WARNING:root:Possible second mode, hpd will fail: [0.2730935  0.22336316 0.21735173 0.2861915 ]\n",
      "WARNING:root:Possible second mode, hpd will fail: [0.2730935  0.22336316 0.21735173 0.2861915 ]\n",
      "WARNING:root:Possible second mode, hpd will fail: [0.2730935  0.22336316 0.21735173 0.2861915 ]\n",
      "WARNING:root:Possible second mode, hpd will fail: [0.2730935  0.22336316 0.21735173 0.2861915 ]\n",
      "WARNING:root:Possible second mode, hpd will fail: [0.2730935  0.22336316 0.21735173 0.2861915 ]\n",
      "WARNING:root:Possible second mode, hpd will fail: [0.2730935  0.22336316 0.21735173 0.2861915 ]\n",
      "WARNING:root:Possible second mode, hpd will fail: [0.2730935  0.22336316 0.21735173 0.2861915 ]\n",
      "WARNING:root:Possible second mode, hpd will fail: [0.2730935  0.22336316 0.21735173 0.2861915 ]\n",
      "WARNING:root:Possible second mode, hpd will fail: [0.2730935  0.22336316 0.21735173 0.2861915 ]\n",
      "WARNING:root:Possible second mode, hpd will fail: [0.2730935  0.22336316 0.21735173 0.2861915 ]\n",
      "WARNING:root:Possible second mode, hpd will fail: [0.2730935  0.22336316 0.21735173 0.2861915 ]\n",
      "WARNING:root:Possible second mode, hpd will fail: [0.2730935  0.22336316 0.21735173 0.2861915 ]\n",
      "WARNING:root:Possible second mode, hpd will fail: [0.2730935  0.22336316 0.21735173 0.2861915 ]\n",
      "WARNING:root:Possible second mode, hpd will fail: [0.2730935  0.22336316 0.21735173 0.2861915 ]\n",
      "WARNING:root:Possible second mode, hpd will fail: [0.2730935  0.22336316 0.21735173 0.2861915 ]\n",
      "WARNING:root:Possible second mode, hpd will fail: [0.2730935  0.22336316 0.21735173 0.2861915 ]\n",
      "WARNING:root:Possible second mode, hpd will fail: [0.2730935  0.22336316 0.21735173 0.2861915 ]\n",
      "WARNING:root:Possible second mode, hpd will fail: [0.2730935  0.22336316 0.21735173 0.2861915 ]\n",
      "WARNING:root:Possible second mode, hpd will fail: [0.2730935  0.22336316 0.21735173 0.2861915 ]\n",
      "WARNING:root:Possible second mode, hpd will fail: [0.2730935  0.22336316 0.21735173 0.2861915 ]\n",
      "WARNING:root:Possible second mode, hpd will fail: [0.2730935  0.22336316 0.21735173 0.2861915 ]\n",
      "WARNING:root:Possible second mode, hpd will fail: [0.2730935  0.22336316 0.21735173 0.2861915 ]\n",
      "WARNING:root:Possible second mode, hpd will fail: [0.2730935  0.22336316 0.21735173 0.2861915 ]\n",
      "WARNING:root:Possible second mode, hpd will fail: [0.2730935  0.22336316 0.21735173 0.2861915 ]\n",
      "WARNING:root:Possible second mode, hpd will fail: [0.2730935  0.22336316 0.21735173 0.2861915 ]\n",
      "WARNING:root:Possible second mode, hpd will fail: [0.2730935  0.22336316 0.21735173 0.2861915 ]\n",
      "WARNING:root:Possible second mode, hpd will fail: [0.2730935  0.22336316 0.21735173 0.2861915 ]\n",
      "WARNING:root:Possible second mode, hpd will fail: [0.2730935  0.22336316 0.21735173 0.2861915 ]\n",
      "WARNING:root:Possible second mode, hpd will fail: [0.2730935  0.22336316 0.21735173 0.2861915 ]\n",
      "WARNING:root:Possible second mode, hpd will fail: [0.2730935  0.22336316 0.21735173 0.2861915 ]\n",
      "WARNING:root:Possible second mode, hpd will fail: [0.2730935  0.22336316 0.21735173 0.2861915 ]\n",
      "WARNING:root:Possible second mode, hpd will fail: [0.2730935  0.22336316 0.21735173 0.2861915 ]\n",
      "WARNING:root:Possible second mode, hpd will fail: [0.2730935  0.22336316 0.21735173 0.2861915 ]\n"
     ]
    },
    {
     "data": {
      "image/png": "[encoded data removed]",
      "text/plain": [
       "<Figure size 432x288 with 1 Axes>"
      ]
     },
     "metadata": {
      "needs_background": "light"
     },
     "output_type": "display_data"
    }
   ],
   "source": [
    "\n",
    "if question.text == 'disk-edge-on':\n",
    "    eval_df_5 = eval_df[max_5_featured & featured]\n",
    "    samples_5 = all_samples[max_5_featured & featured]\n",
    "if question.text == 'has-spiral-arms':\n",
    "    eval_df_5 = eval_df[max_5_disk & featured & not_disk]\n",
    "    samples_5 = all_samples[max_5_disk & featured & not_disk]\n",
    "\n",
    "print(len(samples_5))\n",
    "n_galaxies = len(samples_5)\n",
    "# n_galaxies = 100\n",
    "(first_posteriors_5, mean_posteriors_5), (coverage_first_5, coverage_all_5), true_values_5 = get_coverage_data(samples_5, eval_df_5, question, answer, n_galaxies=n_galaxies)"
   ]
  },
  {
   "cell_type": "code",
   "execution_count": 49,
   "metadata": {},
   "outputs": [],
   "source": [
    "unimodal = coverage_all_5['unimodal']\n",
    "coverage_all_5 = coverage_all_5[unimodal]  # only ever multimodal in ensemble"
   ]
  },
  {
   "cell_type": "code",
   "execution_count": 50,
   "metadata": {},
   "outputs": [
    {
     "name": "stdout",
     "output_type": "stream",
     "text": [
      "1214\n"
     ]
    },
    {
     "data": {
      "image/png": "[encoded data removed]",
      "text/plain": [
       "<Figure size 432x288 with 1 Axes>"
      ]
     },
     "metadata": {
      "needs_background": "light"
     },
     "output_type": "display_data"
    }
   ],
   "source": [
    "\n",
    "\n",
    "if question.text == 'disk-edge-on':\n",
    "    eval_df_40 = eval_df[around_40_featured & featured]\n",
    "    samples_40 = all_samples[around_40_featured & featured]\n",
    "if question.text == 'has-spiral-arms':\n",
    "    eval_df_40 = eval_df[around_40_disk & featured & not_disk]\n",
    "    samples_40 = all_samples[around_40_disk & featured & not_disk]\n",
    "\n",
    "print(len(samples_40))\n",
    "# n_galaxies = 100\n",
    "n_galaxies = len(samples_40)\n",
    "(first_posteriors_40, mean_posteriors_40), (coverage_first_40, coverage_all_40), true_values_40 = get_coverage_data(samples_40, eval_df_40, question, answer, n_galaxies=n_galaxies)"
   ]
  },
  {
   "cell_type": "code",
   "execution_count": 51,
   "metadata": {},
   "outputs": [],
   "source": [
    "unimodal = coverage_all_40['unimodal']\n",
    "coverage_all_40 = coverage_all_40[unimodal]  # only ever multimodal in ensemble"
   ]
  },
  {
   "cell_type": "code",
   "execution_count": 52,
   "metadata": {},
   "outputs": [],
   "source": [
    "# adding galaxies, calibration turning point changes: 40, 55, 60! \n",
    "# many fewer galaxies for high N\n",
    "# need to address why this is happening (something with binning, I assume)\n",
    "# run a simulation with few galaxies, and increase"
   ]
  },
  {
   "cell_type": "code",
   "execution_count": 53,
   "metadata": {},
   "outputs": [],
   "source": [
    "\n",
    "# temp = 0.2\n",
    "# tempered_posteriors = [(indices, (posterior ** temp) / np.sum(posterior ** temp)) for (indices, posterior) in mean_posteriors_40]\n",
    "# coverage_40_t20 = dirichlet_stats.get_coverage(tempered_posteriors, true_values_40)\n",
    "\n",
    "\n",
    "# temp = 0.2\n",
    "# tempered_posteriors = [(indices, (posterior ** temp) / np.sum(posterior ** temp)) for (indices, posterior) in mean_posteriors_5]\n",
    "# coverage_5_t20 = dirichlet_stats.get_coverage(tempered_posteriors, true_values_5)"
   ]
  },
  {
   "cell_type": "code",
   "execution_count": 60,
   "metadata": {},
   "outputs": [
    {
     "data": {
      "image/png": "[encoded data removed]",
      "text/plain": [
       "<Figure size 432x288 with 1 Axes>"
      ]
     },
     "metadata": {
      "needs_background": "light"
     },
     "output_type": "display_data"
    }
   ],
   "source": [
    "sns.set_context('talk')\n",
    "fig, ax = plt.subplots(figsize=None)\n",
    "\n",
    "min_count = 100\n",
    "\n",
    "colors = sns.color_palette()\n",
    "# plot_binned(coverage_first_5, label=None, plt_kwargs={'linestyle': 'dashed', 'color': colors[0], 'alpha': .8})\n",
    "plot_binned(coverage_all_5, label=r'$3 \\leq N \\leq 5$', plt_kwargs={'linestyle': 'solid', 'color': colors[0], 'alpha': .8}, min_count=min_count)\n",
    "# plot_binned(coverage_first_10, label='10-20')\n",
    "# plot_binned(coverage_first_40, label=None, plt_kwargs={'linestyle': 'dashed', 'color': colors[1], 'alpha': .8})\n",
    "plot_binned(coverage_all_40, label=r'$30 \\leq N \\leq 40$', plt_kwargs={'linestyle': 'solid', 'color': colors[1], 'alpha': .8}, min_count=min_count)\n",
    "\n",
    "\n",
    "# plot_binned(coverage_all_10, label='All Models')\n",
    "# plot_binned(coverage_tempered, label='Tempered')\n",
    "# plot_binned(coverage_uniform, label='Uniform')\n",
    "\n",
    "ax.plot([0., 1.], [0., 1.], 'k--')\n",
    "ax.set_xlim(0, 1.)\n",
    "ax.set_ylim(0, 1.)\n",
    "ax.set_ylabel('Ratio in interval')\n",
    "ax.set_xlabel('Credible interval width')\n",
    "ax.xaxis.set_major_formatter(PercentFormatter(xmax=1.))\n",
    "ax.yaxis.set_major_formatter(PercentFormatter(xmax=1.))\n",
    "ax.set_title(question.text.replace('-', ' ').title())\n",
    "fig.tight_layout()\n",
    "plt.legend()\n",
    "\n",
    "# plt.savefig('spiral-arm-coverage.png')\n",
    "# plt.savefig('spiral-arm-coverage.pdf')\n",
    "plt.savefig('spiral-arm-coverage_all.png')\n",
    "plt.savefig('spiral-arm-coverage_all.pdf')\n",
    "# plt.savefig('disk-edge-on-coverage_all.png')\n",
    "# plt.savefig('disk-edge-on-coverage_all.pdf')"
   ]
  },
  {
   "cell_type": "code",
   "execution_count": null,
   "metadata": {},
   "outputs": [],
   "source": [
    "assert False"
   ]
  },
  {
   "cell_type": "code",
   "execution_count": null,
   "metadata": {},
   "outputs": [],
   "source": [
    "# sns.set_context('talk')\n",
    "# fig, ax = plt.subplots(figsize=(12, 8))\n",
    "\n",
    "# plot_binned(coverage_5_t20, label='5 T20')\n",
    "# plot_binned(coverage_40_t20, label='40 T20')\n",
    "\n",
    "# ax.plot([0., 1.], [0., 1.], 'k--')\n",
    "# ax.set_xlim(0, 1.)\n",
    "# ax.set_ylim(0, 1.)\n",
    "# ax.set_ylabel('Ratio in interval')\n",
    "# ax.set_xlabel('Credible interval width')\n",
    "# ax.xaxis.set_major_formatter(PercentFormatter(xmax=1.))\n",
    "# ax.yaxis.set_major_formatter(PercentFormatter(xmax=1.))\n",
    "# ax.set_title(question.text.replace('-', ' ').title())\n",
    "# fig.tight_layout()\n"
   ]
  },
  {
   "cell_type": "code",
   "execution_count": null,
   "metadata": {},
   "outputs": [],
   "source": [
    "assert False"
   ]
  },
  {
   "cell_type": "code",
   "execution_count": null,
   "metadata": {},
   "outputs": [],
   "source": [
    "sns.set_context('talk')\n",
    "fig, ax = plt.subplots()\n",
    "\n",
    "plot_binned(coverage_first_5, label='<5')\n",
    "# plot_binned(coverage_first_10, label='10-20')\n",
    "plot_binned(coverage_first_40, label='30-50')\n",
    "\n",
    "# plot_binned(coverage_all_10, label='All Models')\n",
    "# plot_binned(coverage_tempered, label='Tempered')\n",
    "# plot_binned(coverage_uniform, label='Uniform')\n",
    "\n",
    "ax.plot([0., 1.], [0., 1.], 'k--')\n",
    "ax.set_xlim(0, 1.)\n",
    "ax.set_ylim(0, 1.)\n",
    "ax.set_ylabel('Ratio in interval')\n",
    "ax.set_xlabel('Credible interval width')\n",
    "ax.xaxis.set_major_formatter(PercentFormatter(xmax=1.))\n",
    "ax.yaxis.set_major_formatter(PercentFormatter(xmax=1.))\n",
    "ax.set_title(question.text.replace('-', ' ').title())\n",
    "fig.tight_layout()"
   ]
  },
  {
   "cell_type": "code",
   "execution_count": null,
   "metadata": {},
   "outputs": [],
   "source": [
    "sns.set_context('talk')\n",
    "fig, ax = plt.subplots()\n",
    "\n",
    "plot_binned(coverage_first_5, label='<5')\n",
    "# plot_binned(coverage_first_10, label='10-20')\n",
    "plot_binned(coverage_first_40, label='30-50')\n",
    "\n",
    "# plot_binned(coverage_all_10, label='All Models')\n",
    "# plot_binned(coverage_tempered, label='Tempered')\n",
    "# plot_binned(coverage_uniform, label='Uniform')\n",
    "\n",
    "ax.plot([0., 1.], [0., 1.], 'k--')\n",
    "ax.set_xlim(0, 1.)\n",
    "ax.set_ylim(0, 1.)\n",
    "ax.set_ylabel('Ratio in interval')\n",
    "ax.set_xlabel('Credible interval width')\n",
    "ax.xaxis.set_major_formatter(PercentFormatter(xmax=1.))\n",
    "ax.yaxis.set_major_formatter(PercentFormatter(xmax=1.))\n",
    "ax.set_title(question.text.replace('-', ' ').title())\n",
    "fig.tight_layout()"
   ]
  },
  {
   "cell_type": "code",
   "execution_count": null,
   "metadata": {},
   "outputs": [],
   "source": [
    "grouped_by_bin = coverage_all.groupby('bin_center').agg({'true_within_hpd': 'mean'}).reset_index()\n",
    "sns.scatterplot(data=grouped_by_bin, x='bin_center', y='true_within_hpd')\n",
    "plt.plot([0., 1.], [0., 1.], 'k--')\n",
    "plt.xlim([0., 1.])\n",
    "plt.ylim([0., 1.])\n",
    "plt.title(question.text)"
   ]
  },
  {
   "cell_type": "code",
   "execution_count": null,
   "metadata": {},
   "outputs": [],
   "source": [
    "sns.lineplot(data=coverage_first, x='bin_center', y='true_within_hpd', ci=90)\n",
    "sns.lineplot(data=coverage_all, x='bin_center', y='true_within_hpd', ci=90)\n",
    "plt.plot([0., 1.], [0., 1.], 'k--')"
   ]
  },
  {
   "cell_type": "code",
   "execution_count": null,
   "metadata": {},
   "outputs": [],
   "source": []
  },
  {
   "cell_type": "code",
   "execution_count": null,
   "metadata": {},
   "outputs": [],
   "source": [
    "coverage_first.groupby('confidence_bin').agg({'true_within_hpd': 'mean'})"
   ]
  },
  {
   "cell_type": "code",
   "execution_count": null,
   "metadata": {},
   "outputs": [],
   "source": [
    "sns.set_context('talk')\n",
    "fig, ax = plt.subplots(figsize=(8, 8))\n",
    "sns.lineplot(data=coverage_first, x='bin_center', y='true_within_hpd', ax=ax, ci=90, label='First')\n",
    "sns.lineplot(data=coverage_all, x='bin_center', y='true_within_hpd', ax=ax, ci=90, label='All')\n",
    "ax.plot([0, 1.], [0, 1.], 'k--')\n",
    "fig.tight_layout()\n",
    "# This the same as my manual version below\n",
    "ax.set_xlim([0., 1.])\n",
    "ax.set_ylim([0., 1.])"
   ]
  },
  {
   "cell_type": "code",
   "execution_count": null,
   "metadata": {},
   "outputs": [],
   "source": []
  },
  {
   "cell_type": "code",
   "execution_count": null,
   "metadata": {},
   "outputs": [],
   "source": [
    "top_acq = np.argsort(state.acquisitions) > (4 * len(state.acquisitions) / 5.)\n",
    "print(top_acq.mean())\n",
    "\n",
    "selector = top_acq\n",
    "coverage_first = dirichlet_stats.get_coverage(\n",
    "    [y for n, y in enumerate(first_posteriors) if selector[n]],\n",
    "    [y for n, y in enumerate(true_values) if selector[n]]\n",
    ")\n",
    "coverage_all = dirichlet_stats.get_coverage(\n",
    "    [y for n, y in enumerate(mean_posteriors) if selector[n]],\n",
    "    [y for n, y in enumerate(true_values) if selector[n]]\n",
    ")\n",
    "\n",
    "fig, ax = plt.subplots(figsize=(8, 8))\n",
    "sns.lineplot(data=coverage_first, x='ci_width', y='true_within_hpd', ax=ax, ci=90, label='First')\n",
    "sns.lineplot(data=coverage_all, x='ci_width', y='true_within_hpd', ax=ax, ci=90, label='All')\n",
    "ax.plot([0, 1.], [0, 1.], 'k--')\n",
    "fig.tight_layout()\n",
    "# This the same as my manual version below\n",
    "ax.set_xlim([0., 1.])\n",
    "ax.set_ylim([0., 1.])"
   ]
  },
  {
   "cell_type": "code",
   "execution_count": null,
   "metadata": {},
   "outputs": [],
   "source": []
  },
  {
   "cell_type": "code",
   "execution_count": null,
   "metadata": {},
   "outputs": [],
   "source": []
  },
  {
   "cell_type": "code",
   "execution_count": null,
   "metadata": {},
   "outputs": [],
   "source": []
  },
  {
   "cell_type": "code",
   "execution_count": null,
   "metadata": {},
   "outputs": [],
   "source": []
  },
  {
   "cell_type": "code",
   "execution_count": null,
   "metadata": {},
   "outputs": [],
   "source": []
  },
  {
   "cell_type": "code",
   "execution_count": null,
   "metadata": {},
   "outputs": [],
   "source": []
  }
 ],
 "metadata": {
  "kernelspec": {
   "display_name": "Python 3",
   "language": "python",
   "name": "python3"
  },
  "language_info": {
   "codemirror_mode": {
    "name": "ipython",
    "version": 3
   },
   "file_extension": ".py",
   "mimetype": "text/x-python",
   "name": "python",
   "nbconvert_exporter": "python",
   "pygments_lexer": "ipython3",
   "version": "3.7.6"
  }
 },
 "nbformat": 4,
 "nbformat_minor": 4
}
