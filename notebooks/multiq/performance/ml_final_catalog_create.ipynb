{
 "cells": [
  {
   "cell_type": "code",
   "execution_count": 1,
   "metadata": {},
   "outputs": [],
   "source": [
    "%load_ext autoreload\n",
    "%autoreload 2\n",
    "%matplotlib inline"
   ]
  },
  {
   "cell_type": "code",
   "execution_count": 2,
   "metadata": {},
   "outputs": [],
   "source": [
    "import os\n",
    "import logging\n",
    "import argparse\n",
    "import glob\n",
    "import json\n",
    "from multiprocessing import Pool\n",
    "\n",
    "from IPython.display import display, Markdown\n",
    "\n",
    "import numpy as np\n",
    "import matplotlib.pyplot as plt\n",
    "from matplotlib.ticker import StrMethodFormatter\n",
    "import matplotlib.gridspec as gridspec\n",
    "import seaborn as sns\n",
    "from PIL import Image\n",
    "\n",
    "import pandas as pd\n",
    "from astropy.table import Table  # for NSA\n",
    "from astropy import units as u\n",
    "\n",
    "from scipy import stats, integrate\n",
    "from scipy.stats import binom\n",
    "import statsmodels.api as sm\n",
    "\n",
    "from sklearn import metrics\n",
    "from sklearn.metrics import confusion_matrix, plot_confusion_matrix, roc_curve, mean_squared_error, mean_absolute_error\n",
    "import tensorflow as tf\n",
    "\n",
    "from shared_astro_utils import astropy_utils, matching_utils\n",
    "from zoobot.estimators import make_predictions, bayesian_estimator_funcs\n",
    "from zoobot.tfrecord import read_tfrecord\n",
    "from zoobot.uncertainty import discrete_coverage\n",
    "from zoobot.estimators import input_utils, losses, dirichlet_stats\n",
    "from zoobot.tfrecord import catalog_to_tfrecord\n",
    "from zoobot.active_learning import metrics, simulated_metrics, acquisition_utils, check_uncertainty, simulation_timeline, run_estimator_config\n",
    "from zoobot.active_learning import acquisition_utils\n",
    "from zoobot import label_metadata\n"
   ]
  },
  {
   "cell_type": "code",
   "execution_count": 3,
   "metadata": {},
   "outputs": [],
   "source": [
    "os.chdir('/home/walml/repos/zoobot')"
   ]
  },
  {
   "cell_type": "code",
   "execution_count": 4,
   "metadata": {},
   "outputs": [
    {
     "name": "stdout",
     "output_type": "stream",
     "text": [
      "{smooth-or-featured, indices 0 to 2, asked after None: (0, 2), disk-edge-on, indices 3 to 4, asked after smooth-or-featured_featured-or-disk, index 1: (3, 4), has-spiral-arms, indices 5 to 6, asked after disk-edge-on_no, index 4: (5, 6), bar, indices 7 to 9, asked after disk-edge-on_no, index 4: (7, 9), bulge-size, indices 10 to 14, asked after disk-edge-on_no, index 4: (10, 14), how-rounded, indices 15 to 17, asked after smooth-or-featured_smooth, index 0: (15, 17), edge-on-bulge, indices 18 to 20, asked after disk-edge-on_yes, index 3: (18, 20), spiral-winding, indices 21 to 23, asked after has-spiral-arms_yes, index 5: (21, 23), spiral-arm-count, indices 24 to 29, asked after has-spiral-arms_yes, index 5: (24, 29), merging, indices 30 to 33, asked after None: (30, 33)}\n"
     ]
    },
    {
     "data": {
      "text/plain": [
       "[smooth-or-featured, indices 0 to 2, asked after None,\n",
       " disk-edge-on, indices 3 to 4, asked after smooth-or-featured_featured-or-disk, index 1,\n",
       " has-spiral-arms, indices 5 to 6, asked after disk-edge-on_no, index 4,\n",
       " bar, indices 7 to 9, asked after disk-edge-on_no, index 4,\n",
       " bulge-size, indices 10 to 14, asked after disk-edge-on_no, index 4,\n",
       " how-rounded, indices 15 to 17, asked after smooth-or-featured_smooth, index 0,\n",
       " edge-on-bulge, indices 18 to 20, asked after disk-edge-on_yes, index 3,\n",
       " spiral-winding, indices 21 to 23, asked after has-spiral-arms_yes, index 5,\n",
       " spiral-arm-count, indices 24 to 29, asked after has-spiral-arms_yes, index 5,\n",
       " merging, indices 30 to 33, asked after None]"
      ]
     },
     "execution_count": 4,
     "metadata": {},
     "output_type": "execute_result"
    }
   ],
   "source": [
    "questions = label_metadata.decals_questions\n",
    "label_cols = label_metadata.decals_label_cols\n",
    "version = 'decals'\n",
    "\n",
    "schema = losses.Schema(label_cols, questions, version=version)\n",
    "schema.questions"
   ]
  },
  {
   "cell_type": "markdown",
   "metadata": {},
   "source": [
    "## Combine predictions from all models into one catalog"
   ]
  },
  {
   "cell_type": "code",
   "execution_count": 5,
   "metadata": {},
   "outputs": [],
   "source": [
    "\n",
    "# DR1\n",
    "# predictions_locs = [f'results/folder_dr1_model_decals_dr_train_labelled_m{n}_predictions.csv' for n in range(5)]\n",
    "# save_loc = 'latest_ml_catalog_dr1_only.parquet'\n",
    "\n",
    "# DR2\n",
    "# predictions_locs = [f'results/folder_dr2_model_decals_dr_train_labelled_m{n}_predictions.csv' for n in range(5)]\n",
    "# save_loc = 'latest_ml_catalog_dr2_only.parquet'\n",
    "\n",
    "# DR5, directly from tfrecords (includes 3k duplicates)\n",
    "# called eval_predictions, but is actually predictions on all tfrecords (labelled and unlabelled)\n",
    "# predictions_locs = [f'results/decals_dr_train_labelled_m{n}_eval_predictions.csv' for n in range(5)]\n",
    "predictions_locs = [f'results/folder_dr5_model_decals_dr_train_labelled_m{n}_predictions.csv' for n in range(5)]\n",
    "# TODO chnage to 5\n",
    "save_loc = 'latest_ml_catalog_dr5_only.parquet'\n"
   ]
  },
  {
   "cell_type": "code",
   "execution_count": 6,
   "metadata": {},
   "outputs": [
    {
     "name": "stdout",
     "output_type": "stream",
     "text": [
      "(343128, 34, 25)\n"
     ]
    }
   ],
   "source": [
    "concentration_cols = [a.text + '_concentration' for a in schema.answers]\n",
    "\n",
    "# copied from performance_metrics.ipynb\n",
    "samples = []\n",
    "for predictions_loc in predictions_locs:\n",
    "    predictions = pd.read_csv(predictions_loc)\n",
    "    model_samples = dirichlet_stats.load_all_concentrations(predictions, concentration_cols=concentration_cols)\n",
    "    samples.append(model_samples)\n",
    "samples = np.concatenate(samples, axis=2)\n",
    "\n",
    "print(samples.shape)"
   ]
  },
  {
   "cell_type": "code",
   "execution_count": 7,
   "metadata": {},
   "outputs": [
    {
     "data": {
      "text/plain": [
       "343128"
      ]
     },
     "execution_count": 7,
     "metadata": {},
     "output_type": "execute_result"
    }
   ],
   "source": [
    "len(predictions)"
   ]
  },
  {
   "cell_type": "code",
   "execution_count": 8,
   "metadata": {},
   "outputs": [
    {
     "data": {
      "text/plain": [
       "array(['png_loc', 'smooth-or-featured_smooth_concentration',\n",
       "       'smooth-or-featured_featured-or-disk_concentration',\n",
       "       'smooth-or-featured_artifact_concentration',\n",
       "       'disk-edge-on_yes_concentration', 'disk-edge-on_no_concentration',\n",
       "       'has-spiral-arms_yes_concentration',\n",
       "       'has-spiral-arms_no_concentration', 'bar_strong_concentration',\n",
       "       'bar_weak_concentration', 'bar_no_concentration',\n",
       "       'bulge-size_dominant_concentration',\n",
       "       'bulge-size_large_concentration',\n",
       "       'bulge-size_moderate_concentration',\n",
       "       'bulge-size_small_concentration', 'bulge-size_none_concentration',\n",
       "       'how-rounded_round_concentration',\n",
       "       'how-rounded_in-between_concentration',\n",
       "       'how-rounded_cigar-shaped_concentration',\n",
       "       'edge-on-bulge_boxy_concentration',\n",
       "       'edge-on-bulge_none_concentration',\n",
       "       'edge-on-bulge_rounded_concentration',\n",
       "       'spiral-winding_tight_concentration',\n",
       "       'spiral-winding_medium_concentration',\n",
       "       'spiral-winding_loose_concentration',\n",
       "       'spiral-arm-count_1_concentration',\n",
       "       'spiral-arm-count_2_concentration',\n",
       "       'spiral-arm-count_3_concentration',\n",
       "       'spiral-arm-count_4_concentration',\n",
       "       'spiral-arm-count_more-than-4_concentration',\n",
       "       'spiral-arm-count_cant-tell_concentration',\n",
       "       'merging_none_concentration',\n",
       "       'merging_minor-disturbance_concentration',\n",
       "       'merging_major-disturbance_concentration',\n",
       "       'merging_merger_concentration'], dtype=object)"
      ]
     },
     "execution_count": 8,
     "metadata": {},
     "output_type": "execute_result"
    }
   ],
   "source": [
    "predictions.columns.values"
   ]
  },
  {
   "cell_type": "code",
   "execution_count": 9,
   "metadata": {},
   "outputs": [],
   "source": [
    "predictions['iauname'] = predictions['png_loc'].apply(lambda x: x.split('/')[-1].replace('.jpeg', '').replace('.png', '').replace('_standard', ''))"
   ]
  },
  {
   "cell_type": "code",
   "execution_count": 10,
   "metadata": {},
   "outputs": [
    {
     "data": {
      "text/plain": [
       "0         J223253.27-005423.9\n",
       "1         J223445.65-010456.2\n",
       "2         J223515.21-003519.5\n",
       "3         J223402.99+001117.3\n",
       "4         J223710.17-005700.4\n",
       "                 ...         \n",
       "343123    J022211.96-003834.5\n",
       "343124    J022221.11-074059.5\n",
       "343125    J022903.73-082413.6\n",
       "343126    J022727.34-043858.2\n",
       "343127    J022513.64-015438.9\n",
       "Name: iauname, Length: 343128, dtype: object"
      ]
     },
     "execution_count": 10,
     "metadata": {},
     "output_type": "execute_result"
    }
   ],
   "source": [
    "predictions['iauname']"
   ]
  },
  {
   "cell_type": "code",
   "execution_count": 11,
   "metadata": {},
   "outputs": [],
   "source": [
    "iauname_df = predictions[['iauname', 'png_loc']]"
   ]
  },
  {
   "cell_type": "code",
   "execution_count": 12,
   "metadata": {},
   "outputs": [],
   "source": [
    "data = []\n",
    "for sample in samples:\n",
    "    row = {}\n",
    "    for n, col in enumerate(label_cols):\n",
    "        answer = label_cols[n]\n",
    "        # slow, but works\n",
    "        row[answer + '_concentration'] = json.dumps(list(np.around(sample[n], 4).astype(float)))\n",
    "    data.append(row)\n",
    "\n",
    "concentration_df = pd.DataFrame(data=data)"
   ]
  },
  {
   "cell_type": "code",
   "execution_count": 13,
   "metadata": {},
   "outputs": [
    {
     "data": {
      "text/html": [
       "<div>\n",
       "<style scoped>\n",
       "    .dataframe tbody tr th:only-of-type {\n",
       "        vertical-align: middle;\n",
       "    }\n",
       "\n",
       "    .dataframe tbody tr th {\n",
       "        vertical-align: top;\n",
       "    }\n",
       "\n",
       "    .dataframe thead th {\n",
       "        text-align: right;\n",
       "    }\n",
       "</style>\n",
       "<table border=\"1\" class=\"dataframe\">\n",
       "  <thead>\n",
       "    <tr style=\"text-align: right;\">\n",
       "      <th></th>\n",
       "      <th>smooth-or-featured_smooth_concentration</th>\n",
       "      <th>smooth-or-featured_featured-or-disk_concentration</th>\n",
       "      <th>smooth-or-featured_artifact_concentration</th>\n",
       "      <th>disk-edge-on_yes_concentration</th>\n",
       "      <th>disk-edge-on_no_concentration</th>\n",
       "      <th>has-spiral-arms_yes_concentration</th>\n",
       "      <th>has-spiral-arms_no_concentration</th>\n",
       "      <th>bar_strong_concentration</th>\n",
       "      <th>bar_weak_concentration</th>\n",
       "      <th>bar_no_concentration</th>\n",
       "      <th>...</th>\n",
       "      <th>spiral-arm-count_1_concentration</th>\n",
       "      <th>spiral-arm-count_2_concentration</th>\n",
       "      <th>spiral-arm-count_3_concentration</th>\n",
       "      <th>spiral-arm-count_4_concentration</th>\n",
       "      <th>spiral-arm-count_more-than-4_concentration</th>\n",
       "      <th>spiral-arm-count_cant-tell_concentration</th>\n",
       "      <th>merging_none_concentration</th>\n",
       "      <th>merging_minor-disturbance_concentration</th>\n",
       "      <th>merging_major-disturbance_concentration</th>\n",
       "      <th>merging_merger_concentration</th>\n",
       "    </tr>\n",
       "  </thead>\n",
       "  <tbody>\n",
       "    <tr>\n",
       "      <th>0</th>\n",
       "      <td>[18.8731, 22.7141, 20.7146, 18.2101, 20.091, 1...</td>\n",
       "      <td>[39.0552, 51.8402, 43.3618, 49.3892, 43.879, 4...</td>\n",
       "      <td>[3.5365, 3.58, 3.7669, 3.2913, 3.9583, 3.2235,...</td>\n",
       "      <td>[3.501, 5.4355, 4.2553, 4.0008, 4.7009, 5.2416...</td>\n",
       "      <td>[42.9519, 36.9419, 42.9178, 57.9632, 34.6256, ...</td>\n",
       "      <td>[5.0956, 4.2247, 4.4058, 8.8174, 4.3745, 3.958...</td>\n",
       "      <td>[4.0325, 6.3041, 5.5175, 3.8162, 5.7515, 5.471...</td>\n",
       "      <td>[10.8883, 22.3576, 15.8604, 19.8254, 20.8928, ...</td>\n",
       "      <td>[6.6697, 6.7961, 7.1283, 9.6206, 6.4508, 5.426...</td>\n",
       "      <td>[7.0041, 7.3049, 7.5909, 6.4403, 5.4805, 7.024...</td>\n",
       "      <td>...</td>\n",
       "      <td>[10.3803, 10.5544, 11.7161, 7.2947, 6.7669, 5....</td>\n",
       "      <td>[74.1174, 84.4166, 82.518, 91.4303, 79.7492, 9...</td>\n",
       "      <td>[2.9143, 1.7124, 1.9782, 1.6086, 2.2643, 1.353...</td>\n",
       "      <td>[1.0625, 1.0588, 1.0609, 1.0303, 1.1333, 1.029...</td>\n",
       "      <td>[1.0027, 1.0097, 1.0072, 1.0024, 1.0108, 1.006...</td>\n",
       "      <td>[22.7806, 18.1786, 20.8253, 10.4263, 19.3903, ...</td>\n",
       "      <td>[51.5797, 56.9599, 50.3964, 37.8404, 51.686, 3...</td>\n",
       "      <td>[14.1546, 12.8948, 11.3041, 8.4152, 12.9024, 9...</td>\n",
       "      <td>[4.6987, 4.8144, 3.9932, 2.6639, 4.2171, 3.049...</td>\n",
       "      <td>[1.4204, 1.4245, 1.6515, 1.7707, 1.6373, 2.010...</td>\n",
       "    </tr>\n",
       "    <tr>\n",
       "      <th>1</th>\n",
       "      <td>[100.2998, 100.9084, 98.8625, 96.6109, 95.5195...</td>\n",
       "      <td>[11.3494, 11.9764, 11.8131, 13.3513, 10.6898, ...</td>\n",
       "      <td>[21.192, 21.4996, 19.7249, 21.2485, 21.661, 22...</td>\n",
       "      <td>[7.3492, 11.0223, 7.2616, 6.4169, 5.3163, 6.09...</td>\n",
       "      <td>[100.9746, 100.9995, 100.9881, 93.2174, 99.654...</td>\n",
       "      <td>[1.066, 1.0411, 1.1538, 1.1333, 1.1911, 1.0931...</td>\n",
       "      <td>[48.0764, 67.1999, 42.7396, 49.795, 34.2735, 4...</td>\n",
       "      <td>[1.0816, 1.021, 1.0374, 1.2873, 1.2634, 1.0353...</td>\n",
       "      <td>[2.2426, 1.9689, 2.1154, 3.1913, 2.7703, 1.957...</td>\n",
       "      <td>[76.0942, 85.964, 65.8677, 50.1279, 54.3441, 5...</td>\n",
       "      <td>...</td>\n",
       "      <td>[3.1159, 1.5191, 1.6137, 4.1671, 3.3328, 2.584...</td>\n",
       "      <td>[4.1307, 1.8367, 3.4813, 9.5983, 7.1829, 3.680...</td>\n",
       "      <td>[2.0401, 1.7039, 1.6891, 4.3883, 3.3034, 4.800...</td>\n",
       "      <td>[1.5661, 1.4354, 1.1941, 2.3287, 1.9341, 1.882...</td>\n",
       "      <td>[2.2376, 2.0628, 1.575, 2.4465, 2.0777, 2.3039...</td>\n",
       "      <td>[5.6598, 3.2196, 3.8623, 11.6139, 7.3158, 7.41...</td>\n",
       "      <td>[64.3555, 75.4268, 67.9457, 58.0742, 56.7317, ...</td>\n",
       "      <td>[2.9335, 2.95, 3.8461, 3.9544, 3.3731, 3.6801,...</td>\n",
       "      <td>[1.1221, 1.0583, 1.162, 1.2146, 1.1471, 1.2354...</td>\n",
       "      <td>[1.1054, 1.1007, 1.181, 1.3842, 1.2649, 1.261,...</td>\n",
       "    </tr>\n",
       "    <tr>\n",
       "      <th>2</th>\n",
       "      <td>[100.6286, 99.8829, 100.1223, 99.6535, 99.7411...</td>\n",
       "      <td>[9.5877, 12.1126, 10.7685, 10.212, 9.5006, 11....</td>\n",
       "      <td>[13.8786, 12.557, 12.7363, 13.4321, 13.8922, 1...</td>\n",
       "      <td>[7.2084, 7.5475, 9.4287, 7.4908, 8.8195, 6.983...</td>\n",
       "      <td>[99.0, 100.9875, 100.8836, 99.2058, 100.2806, ...</td>\n",
       "      <td>[1.1055, 1.1696, 1.1697, 1.2031, 1.174, 1.2169...</td>\n",
       "      <td>[43.6163, 41.2119, 40.3802, 36.7099, 41.3417, ...</td>\n",
       "      <td>[1.3803, 1.0141, 1.029, 1.5132, 1.1614, 1.1021...</td>\n",
       "      <td>[2.8964, 1.9269, 2.0382, 3.2041, 2.4041, 2.269...</td>\n",
       "      <td>[75.3437, 55.8791, 59.1298, 66.628, 64.1499, 5...</td>\n",
       "      <td>...</td>\n",
       "      <td>[1.6679, 1.0134, 1.0149, 1.8143, 1.1796, 1.661...</td>\n",
       "      <td>[7.5613, 2.0045, 2.3126, 7.9255, 3.1963, 4.049...</td>\n",
       "      <td>[4.0654, 1.8939, 1.7705, 4.3699, 3.2378, 4.417...</td>\n",
       "      <td>[5.6245, 1.8998, 2.1777, 4.407, 3.3383, 2.4469...</td>\n",
       "      <td>[5.9456, 2.1951, 3.1281, 5.4452, 4.665, 2.6137...</td>\n",
       "      <td>[15.8112, 3.3296, 3.5174, 13.1405, 7.1652, 9.3...</td>\n",
       "      <td>[81.8863, 77.5161, 81.7811, 73.9158, 80.9015, ...</td>\n",
       "      <td>[4.9307, 4.2565, 5.0386, 4.4947, 5.0667, 4.605...</td>\n",
       "      <td>[1.3159, 1.0919, 1.1438, 1.2673, 1.1925, 1.196...</td>\n",
       "      <td>[1.1482, 1.1133, 1.1168, 1.2639, 1.1763, 1.140...</td>\n",
       "    </tr>\n",
       "    <tr>\n",
       "      <th>3</th>\n",
       "      <td>[71.2866, 82.2588, 75.9155, 66.3959, 77.7713, ...</td>\n",
       "      <td>[6.4053, 6.2552, 5.9803, 5.4375, 6.469, 5.3874...</td>\n",
       "      <td>[8.545, 8.136, 10.5003, 9.1182, 7.9304, 9.0336...</td>\n",
       "      <td>[7.1974, 12.0605, 6.5911, 6.3696, 11.9035, 4.4...</td>\n",
       "      <td>[28.5018, 36.8346, 24.632, 21.1756, 52.8328, 2...</td>\n",
       "      <td>[3.0817, 2.7644, 2.375, 2.474, 4.4556, 2.6432,...</td>\n",
       "      <td>[14.0236, 14.9046, 19.2895, 11.8857, 14.4581, ...</td>\n",
       "      <td>[2.9977, 2.5995, 2.9434, 2.555, 2.4383, 2.8204...</td>\n",
       "      <td>[6.9935, 7.3001, 6.3014, 6.4472, 9.795, 5.5185...</td>\n",
       "      <td>[40.8346, 44.7967, 38.0588, 39.491, 47.8499, 3...</td>\n",
       "      <td>...</td>\n",
       "      <td>[6.0013, 1.8884, 3.7468, 3.1089, 1.407, 5.6581...</td>\n",
       "      <td>[34.1222, 28.1465, 20.2378, 24.8247, 44.7048, ...</td>\n",
       "      <td>[2.1075, 3.3162, 2.8961, 2.0058, 2.8996, 2.685...</td>\n",
       "      <td>[1.3432, 1.881, 1.7137, 1.3124, 1.8995, 1.5268...</td>\n",
       "      <td>[2.0902, 2.2166, 2.5132, 1.8517, 1.876, 2.1202...</td>\n",
       "      <td>[11.2085, 10.3061, 11.2904, 9.2863, 9.681, 15....</td>\n",
       "      <td>[66.5555, 76.7336, 64.9932, 67.0382, 83.479, 4...</td>\n",
       "      <td>[23.5164, 17.218, 21.946, 18.2494, 20.7623, 18...</td>\n",
       "      <td>[4.5913, 2.4923, 4.1921, 3.7639, 2.8685, 4.339...</td>\n",
       "      <td>[1.1565, 1.1684, 1.2812, 1.2579, 1.1201, 1.211...</td>\n",
       "    </tr>\n",
       "    <tr>\n",
       "      <th>4</th>\n",
       "      <td>[43.4332, 41.4422, 35.893, 50.8412, 40.0915, 3...</td>\n",
       "      <td>[11.328, 14.0638, 10.8818, 15.8887, 11.1832, 1...</td>\n",
       "      <td>[8.1987, 6.5369, 7.4544, 8.9742, 8.0949, 5.511...</td>\n",
       "      <td>[4.7779, 4.7764, 3.994, 4.4643, 5.0072, 3.6229...</td>\n",
       "      <td>[44.1802, 40.3991, 36.5893, 37.2032, 35.2251, ...</td>\n",
       "      <td>[2.5664, 3.0394, 2.5884, 2.7524, 2.4275, 3.717...</td>\n",
       "      <td>[10.6808, 9.1973, 8.9464, 14.7528, 8.8792, 9.3...</td>\n",
       "      <td>[1.4609, 1.675, 1.5845, 1.8152, 1.6327, 1.4944...</td>\n",
       "      <td>[6.4947, 6.9151, 6.4102, 7.1318, 5.835, 8.1248...</td>\n",
       "      <td>[63.03, 52.9313, 47.167, 53.8787, 46.8882, 49....</td>\n",
       "      <td>...</td>\n",
       "      <td>[6.4754, 10.2901, 12.0365, 8.7904, 12.3105, 4....</td>\n",
       "      <td>[4.7843, 9.2146, 8.6585, 7.5258, 10.2603, 4.20...</td>\n",
       "      <td>[2.4778, 2.5925, 2.4461, 2.8785, 2.5333, 1.911...</td>\n",
       "      <td>[1.5907, 1.4149, 1.3169, 2.0221, 1.3608, 1.302...</td>\n",
       "      <td>[1.2753, 1.163, 1.1522, 1.518, 1.2171, 1.0554,...</td>\n",
       "      <td>[32.8962, 37.2702, 36.8641, 37.6862, 40.8479, ...</td>\n",
       "      <td>[22.7559, 21.1437, 24.3475, 24.4952, 22.2225, ...</td>\n",
       "      <td>[14.9245, 12.6263, 15.7483, 17.0295, 13.2497, ...</td>\n",
       "      <td>[6.7779, 4.2665, 6.5508, 7.0939, 5.3469, 7.484...</td>\n",
       "      <td>[1.6118, 1.9507, 1.5931, 1.9319, 1.6597, 1.727...</td>\n",
       "    </tr>\n",
       "  </tbody>\n",
       "</table>\n",
       "<p>5 rows × 34 columns</p>\n",
       "</div>"
      ],
      "text/plain": [
       "             smooth-or-featured_smooth_concentration  \\\n",
       "0  [18.8731, 22.7141, 20.7146, 18.2101, 20.091, 1...   \n",
       "1  [100.2998, 100.9084, 98.8625, 96.6109, 95.5195...   \n",
       "2  [100.6286, 99.8829, 100.1223, 99.6535, 99.7411...   \n",
       "3  [71.2866, 82.2588, 75.9155, 66.3959, 77.7713, ...   \n",
       "4  [43.4332, 41.4422, 35.893, 50.8412, 40.0915, 3...   \n",
       "\n",
       "   smooth-or-featured_featured-or-disk_concentration  \\\n",
       "0  [39.0552, 51.8402, 43.3618, 49.3892, 43.879, 4...   \n",
       "1  [11.3494, 11.9764, 11.8131, 13.3513, 10.6898, ...   \n",
       "2  [9.5877, 12.1126, 10.7685, 10.212, 9.5006, 11....   \n",
       "3  [6.4053, 6.2552, 5.9803, 5.4375, 6.469, 5.3874...   \n",
       "4  [11.328, 14.0638, 10.8818, 15.8887, 11.1832, 1...   \n",
       "\n",
       "           smooth-or-featured_artifact_concentration  \\\n",
       "0  [3.5365, 3.58, 3.7669, 3.2913, 3.9583, 3.2235,...   \n",
       "1  [21.192, 21.4996, 19.7249, 21.2485, 21.661, 22...   \n",
       "2  [13.8786, 12.557, 12.7363, 13.4321, 13.8922, 1...   \n",
       "3  [8.545, 8.136, 10.5003, 9.1182, 7.9304, 9.0336...   \n",
       "4  [8.1987, 6.5369, 7.4544, 8.9742, 8.0949, 5.511...   \n",
       "\n",
       "                      disk-edge-on_yes_concentration  \\\n",
       "0  [3.501, 5.4355, 4.2553, 4.0008, 4.7009, 5.2416...   \n",
       "1  [7.3492, 11.0223, 7.2616, 6.4169, 5.3163, 6.09...   \n",
       "2  [7.2084, 7.5475, 9.4287, 7.4908, 8.8195, 6.983...   \n",
       "3  [7.1974, 12.0605, 6.5911, 6.3696, 11.9035, 4.4...   \n",
       "4  [4.7779, 4.7764, 3.994, 4.4643, 5.0072, 3.6229...   \n",
       "\n",
       "                       disk-edge-on_no_concentration  \\\n",
       "0  [42.9519, 36.9419, 42.9178, 57.9632, 34.6256, ...   \n",
       "1  [100.9746, 100.9995, 100.9881, 93.2174, 99.654...   \n",
       "2  [99.0, 100.9875, 100.8836, 99.2058, 100.2806, ...   \n",
       "3  [28.5018, 36.8346, 24.632, 21.1756, 52.8328, 2...   \n",
       "4  [44.1802, 40.3991, 36.5893, 37.2032, 35.2251, ...   \n",
       "\n",
       "                   has-spiral-arms_yes_concentration  \\\n",
       "0  [5.0956, 4.2247, 4.4058, 8.8174, 4.3745, 3.958...   \n",
       "1  [1.066, 1.0411, 1.1538, 1.1333, 1.1911, 1.0931...   \n",
       "2  [1.1055, 1.1696, 1.1697, 1.2031, 1.174, 1.2169...   \n",
       "3  [3.0817, 2.7644, 2.375, 2.474, 4.4556, 2.6432,...   \n",
       "4  [2.5664, 3.0394, 2.5884, 2.7524, 2.4275, 3.717...   \n",
       "\n",
       "                    has-spiral-arms_no_concentration  \\\n",
       "0  [4.0325, 6.3041, 5.5175, 3.8162, 5.7515, 5.471...   \n",
       "1  [48.0764, 67.1999, 42.7396, 49.795, 34.2735, 4...   \n",
       "2  [43.6163, 41.2119, 40.3802, 36.7099, 41.3417, ...   \n",
       "3  [14.0236, 14.9046, 19.2895, 11.8857, 14.4581, ...   \n",
       "4  [10.6808, 9.1973, 8.9464, 14.7528, 8.8792, 9.3...   \n",
       "\n",
       "                            bar_strong_concentration  \\\n",
       "0  [10.8883, 22.3576, 15.8604, 19.8254, 20.8928, ...   \n",
       "1  [1.0816, 1.021, 1.0374, 1.2873, 1.2634, 1.0353...   \n",
       "2  [1.3803, 1.0141, 1.029, 1.5132, 1.1614, 1.1021...   \n",
       "3  [2.9977, 2.5995, 2.9434, 2.555, 2.4383, 2.8204...   \n",
       "4  [1.4609, 1.675, 1.5845, 1.8152, 1.6327, 1.4944...   \n",
       "\n",
       "                              bar_weak_concentration  \\\n",
       "0  [6.6697, 6.7961, 7.1283, 9.6206, 6.4508, 5.426...   \n",
       "1  [2.2426, 1.9689, 2.1154, 3.1913, 2.7703, 1.957...   \n",
       "2  [2.8964, 1.9269, 2.0382, 3.2041, 2.4041, 2.269...   \n",
       "3  [6.9935, 7.3001, 6.3014, 6.4472, 9.795, 5.5185...   \n",
       "4  [6.4947, 6.9151, 6.4102, 7.1318, 5.835, 8.1248...   \n",
       "\n",
       "                                bar_no_concentration  ...  \\\n",
       "0  [7.0041, 7.3049, 7.5909, 6.4403, 5.4805, 7.024...  ...   \n",
       "1  [76.0942, 85.964, 65.8677, 50.1279, 54.3441, 5...  ...   \n",
       "2  [75.3437, 55.8791, 59.1298, 66.628, 64.1499, 5...  ...   \n",
       "3  [40.8346, 44.7967, 38.0588, 39.491, 47.8499, 3...  ...   \n",
       "4  [63.03, 52.9313, 47.167, 53.8787, 46.8882, 49....  ...   \n",
       "\n",
       "                    spiral-arm-count_1_concentration  \\\n",
       "0  [10.3803, 10.5544, 11.7161, 7.2947, 6.7669, 5....   \n",
       "1  [3.1159, 1.5191, 1.6137, 4.1671, 3.3328, 2.584...   \n",
       "2  [1.6679, 1.0134, 1.0149, 1.8143, 1.1796, 1.661...   \n",
       "3  [6.0013, 1.8884, 3.7468, 3.1089, 1.407, 5.6581...   \n",
       "4  [6.4754, 10.2901, 12.0365, 8.7904, 12.3105, 4....   \n",
       "\n",
       "                    spiral-arm-count_2_concentration  \\\n",
       "0  [74.1174, 84.4166, 82.518, 91.4303, 79.7492, 9...   \n",
       "1  [4.1307, 1.8367, 3.4813, 9.5983, 7.1829, 3.680...   \n",
       "2  [7.5613, 2.0045, 2.3126, 7.9255, 3.1963, 4.049...   \n",
       "3  [34.1222, 28.1465, 20.2378, 24.8247, 44.7048, ...   \n",
       "4  [4.7843, 9.2146, 8.6585, 7.5258, 10.2603, 4.20...   \n",
       "\n",
       "                    spiral-arm-count_3_concentration  \\\n",
       "0  [2.9143, 1.7124, 1.9782, 1.6086, 2.2643, 1.353...   \n",
       "1  [2.0401, 1.7039, 1.6891, 4.3883, 3.3034, 4.800...   \n",
       "2  [4.0654, 1.8939, 1.7705, 4.3699, 3.2378, 4.417...   \n",
       "3  [2.1075, 3.3162, 2.8961, 2.0058, 2.8996, 2.685...   \n",
       "4  [2.4778, 2.5925, 2.4461, 2.8785, 2.5333, 1.911...   \n",
       "\n",
       "                    spiral-arm-count_4_concentration  \\\n",
       "0  [1.0625, 1.0588, 1.0609, 1.0303, 1.1333, 1.029...   \n",
       "1  [1.5661, 1.4354, 1.1941, 2.3287, 1.9341, 1.882...   \n",
       "2  [5.6245, 1.8998, 2.1777, 4.407, 3.3383, 2.4469...   \n",
       "3  [1.3432, 1.881, 1.7137, 1.3124, 1.8995, 1.5268...   \n",
       "4  [1.5907, 1.4149, 1.3169, 2.0221, 1.3608, 1.302...   \n",
       "\n",
       "          spiral-arm-count_more-than-4_concentration  \\\n",
       "0  [1.0027, 1.0097, 1.0072, 1.0024, 1.0108, 1.006...   \n",
       "1  [2.2376, 2.0628, 1.575, 2.4465, 2.0777, 2.3039...   \n",
       "2  [5.9456, 2.1951, 3.1281, 5.4452, 4.665, 2.6137...   \n",
       "3  [2.0902, 2.2166, 2.5132, 1.8517, 1.876, 2.1202...   \n",
       "4  [1.2753, 1.163, 1.1522, 1.518, 1.2171, 1.0554,...   \n",
       "\n",
       "            spiral-arm-count_cant-tell_concentration  \\\n",
       "0  [22.7806, 18.1786, 20.8253, 10.4263, 19.3903, ...   \n",
       "1  [5.6598, 3.2196, 3.8623, 11.6139, 7.3158, 7.41...   \n",
       "2  [15.8112, 3.3296, 3.5174, 13.1405, 7.1652, 9.3...   \n",
       "3  [11.2085, 10.3061, 11.2904, 9.2863, 9.681, 15....   \n",
       "4  [32.8962, 37.2702, 36.8641, 37.6862, 40.8479, ...   \n",
       "\n",
       "                          merging_none_concentration  \\\n",
       "0  [51.5797, 56.9599, 50.3964, 37.8404, 51.686, 3...   \n",
       "1  [64.3555, 75.4268, 67.9457, 58.0742, 56.7317, ...   \n",
       "2  [81.8863, 77.5161, 81.7811, 73.9158, 80.9015, ...   \n",
       "3  [66.5555, 76.7336, 64.9932, 67.0382, 83.479, 4...   \n",
       "4  [22.7559, 21.1437, 24.3475, 24.4952, 22.2225, ...   \n",
       "\n",
       "             merging_minor-disturbance_concentration  \\\n",
       "0  [14.1546, 12.8948, 11.3041, 8.4152, 12.9024, 9...   \n",
       "1  [2.9335, 2.95, 3.8461, 3.9544, 3.3731, 3.6801,...   \n",
       "2  [4.9307, 4.2565, 5.0386, 4.4947, 5.0667, 4.605...   \n",
       "3  [23.5164, 17.218, 21.946, 18.2494, 20.7623, 18...   \n",
       "4  [14.9245, 12.6263, 15.7483, 17.0295, 13.2497, ...   \n",
       "\n",
       "             merging_major-disturbance_concentration  \\\n",
       "0  [4.6987, 4.8144, 3.9932, 2.6639, 4.2171, 3.049...   \n",
       "1  [1.1221, 1.0583, 1.162, 1.2146, 1.1471, 1.2354...   \n",
       "2  [1.3159, 1.0919, 1.1438, 1.2673, 1.1925, 1.196...   \n",
       "3  [4.5913, 2.4923, 4.1921, 3.7639, 2.8685, 4.339...   \n",
       "4  [6.7779, 4.2665, 6.5508, 7.0939, 5.3469, 7.484...   \n",
       "\n",
       "                        merging_merger_concentration  \n",
       "0  [1.4204, 1.4245, 1.6515, 1.7707, 1.6373, 2.010...  \n",
       "1  [1.1054, 1.1007, 1.181, 1.3842, 1.2649, 1.261,...  \n",
       "2  [1.1482, 1.1133, 1.1168, 1.2639, 1.1763, 1.140...  \n",
       "3  [1.1565, 1.1684, 1.2812, 1.2579, 1.1201, 1.211...  \n",
       "4  [1.6118, 1.9507, 1.5931, 1.9319, 1.6597, 1.727...  \n",
       "\n",
       "[5 rows x 34 columns]"
      ]
     },
     "execution_count": 13,
     "metadata": {},
     "output_type": "execute_result"
    }
   ],
   "source": [
    "concentration_df.head()"
   ]
  },
  {
   "cell_type": "code",
   "execution_count": 14,
   "metadata": {},
   "outputs": [],
   "source": [
    "# # overwrite the columns of the final predictions df with the samples from all models, making the ensemble catalog\n",
    "# for col_n, col in enumerate(concentration_cols):\n",
    "#     predictions[col] = predictions[col].apply(lambda x: samples[:, col_n])   # remember to convert back to json at end\n",
    "# #     predictions.loc[:, col] = samples[:, col_n] # can't slice like this sadly"
   ]
  },
  {
   "cell_type": "markdown",
   "metadata": {},
   "source": [
    "### Remove the volunteer predictions, we want just the ML in this catalog. Can merge back in if we like later."
   ]
  },
  {
   "cell_type": "code",
   "execution_count": 15,
   "metadata": {},
   "outputs": [],
   "source": [
    "# for q in schema.questions:\n",
    "#     for a in q.answers:\n",
    "#         try:\n",
    "#             del predictions[a.text]\n",
    "#             del predictions[a.text + '_fraction']\n",
    "#         except KeyError:\n",
    "#             pass"
   ]
  },
  {
   "cell_type": "markdown",
   "metadata": {},
   "source": [
    "## Calculate vote fractions"
   ]
  },
  {
   "cell_type": "code",
   "execution_count": 16,
   "metadata": {},
   "outputs": [],
   "source": [
    "# copied from advanced_ml\n",
    "def apply_over_questions(concentrations, question_index_groups, func):\n",
    "    results = []\n",
    "    for q_n in range(len(question_index_groups)):\n",
    "        q_indices = question_index_groups[q_n]\n",
    "        q_start = q_indices[0]\n",
    "        q_end = q_indices[1]\n",
    "        q_result = func(concentrations[:, q_start:q_end+1])\n",
    "        results.append(q_result)\n",
    "    \n",
    "    results = np.concatenate(results, axis=1)\n",
    "    return results  # leave the reduce_sum to the estimator\n",
    "\n",
    "def mean_for_answers(concentrations_for_q):\n",
    "     return dirichlet_stats.DirichletEqualMixture(concentrations_for_q).mean()\n",
    "    "
   ]
  },
  {
   "cell_type": "code",
   "execution_count": 17,
   "metadata": {},
   "outputs": [
    {
     "data": {
      "text/plain": [
       "(343128, 34)"
      ]
     },
     "execution_count": 17,
     "metadata": {},
     "output_type": "execute_result"
    }
   ],
   "source": [
    "# using samples because concentrations_df is json-serialised\n",
    "mean_answers = apply_over_questions(samples, schema.question_index_groups, mean_for_answers)  # calculate the mean prediction for every question\n",
    "# mean_answers = apply_over_questions(concentrations[:, :, :1], schema.question_index_groups, mean_for_answers)  # calculate the prediction for just the first model\n",
    "mean_answers.shape  # shape of (galaxies, mean prediction for answer)"
   ]
  },
  {
   "cell_type": "code",
   "execution_count": 18,
   "metadata": {},
   "outputs": [],
   "source": [
    "fraction_cols = [a + '_fraction' for a in schema.label_cols]\n",
    "fractions_df = pd.DataFrame(data=mean_answers, columns=fraction_cols)"
   ]
  },
  {
   "cell_type": "markdown",
   "metadata": {},
   "source": [
    "## Join together"
   ]
  },
  {
   "cell_type": "code",
   "execution_count": 19,
   "metadata": {},
   "outputs": [],
   "source": [
    "df = pd.concat([iauname_df, concentration_df, fractions_df], axis=1)"
   ]
  },
  {
   "cell_type": "markdown",
   "metadata": {},
   "source": [
    "## Calculate proportion of volunteers who would be asked"
   ]
  },
  {
   "cell_type": "code",
   "execution_count": 20,
   "metadata": {},
   "outputs": [],
   "source": [
    "retirement = 1\n",
    "for question in schema.questions:\n",
    "    expected_votes = acquisition_utils.get_expected_votes_human(df, question, retirement, schema, round_votes=False)\n",
    "    if isinstance(expected_votes, tf.Tensor):\n",
    "        expected_votes = expected_votes.numpy()\n",
    "    df[question.text + '_proportion_volunteers_asked'] = expected_votes"
   ]
  },
  {
   "cell_type": "markdown",
   "metadata": {},
   "source": [
    "## Correct file paths (my use only)"
   ]
  },
  {
   "cell_type": "code",
   "execution_count": 21,
   "metadata": {},
   "outputs": [
    {
     "data": {
      "text/plain": [
       "'/data/phys-zooniverse/chri5177/galaxy_zoo/decals/dr5/png/J223/J223253.27-005423.9.png'"
      ]
     },
     "execution_count": 21,
     "metadata": {},
     "output_type": "execute_result"
    }
   ],
   "source": [
    "predictions['png_loc'][0] "
   ]
  },
  {
   "cell_type": "code",
   "execution_count": 22,
   "metadata": {},
   "outputs": [],
   "source": [
    "predictions['png_loc'] = predictions['png_loc'].str.replace('/data/phys-zooniverse/chri5177/galaxy_zoo/decals/', '')"
   ]
  },
  {
   "cell_type": "code",
   "execution_count": 23,
   "metadata": {},
   "outputs": [],
   "source": [
    "if 'dr1' in save_loc:\n",
    "    predictions['local_png_loc'] = predictions['png_loc'].apply(lambda x: os.path.join('/media/walml/beta/galaxy_zoo/decals', x))\n",
    "elif 'dr2' in save_loc:\n",
    "    # same\n",
    "    predictions['local_png_loc'] = predictions['png_loc'].apply(lambda x: os.path.join('/media/walml/beta/galaxy_zoo/decals', x))\n",
    "elif 'dr5' in save_loc:\n",
    "    predictions['local_png_loc'] = predictions['png_loc'].apply(lambda x: os.path.join('/media/walml/beta/decals/png_native', x.replace('/png/', '/')))\n",
    "else:\n",
    "    assert False"
   ]
  },
  {
   "cell_type": "code",
   "execution_count": 24,
   "metadata": {},
   "outputs": [
    {
     "data": {
      "text/plain": [
       "'/media/walml/beta/decals/png_native/dr5/J223/J223253.27-005423.9.png'"
      ]
     },
     "execution_count": 24,
     "metadata": {},
     "output_type": "execute_result"
    }
   ],
   "source": [
    "predictions['local_png_loc'][0]"
   ]
  },
  {
   "cell_type": "code",
   "execution_count": 25,
   "metadata": {},
   "outputs": [],
   "source": [
    "assert os.path.isfile(predictions['local_png_loc'][0])"
   ]
  },
  {
   "cell_type": "code",
   "execution_count": 26,
   "metadata": {},
   "outputs": [],
   "source": [
    "# drop duplicates\n",
    "df['iauname'].duplicated().value_counts()  # some galaxies in the shards have duplicates, somehow?! luckily, very very few.\n",
    "df = df.drop_duplicates(subset=['iauname'], keep='first')"
   ]
  },
  {
   "cell_type": "code",
   "execution_count": 27,
   "metadata": {},
   "outputs": [],
   "source": [
    "# easy to save as concentrations are already json-serialised\n",
    "df.to_parquet(save_loc, index=False)"
   ]
  },
  {
   "cell_type": "code",
   "execution_count": 28,
   "metadata": {},
   "outputs": [
    {
     "data": {
      "text/plain": [
       "array(['iauname', 'png_loc', 'smooth-or-featured_smooth_concentration',\n",
       "       'smooth-or-featured_featured-or-disk_concentration',\n",
       "       'smooth-or-featured_artifact_concentration',\n",
       "       'disk-edge-on_yes_concentration', 'disk-edge-on_no_concentration',\n",
       "       'has-spiral-arms_yes_concentration',\n",
       "       'has-spiral-arms_no_concentration', 'bar_strong_concentration',\n",
       "       'bar_weak_concentration', 'bar_no_concentration',\n",
       "       'bulge-size_dominant_concentration',\n",
       "       'bulge-size_large_concentration',\n",
       "       'bulge-size_moderate_concentration',\n",
       "       'bulge-size_small_concentration', 'bulge-size_none_concentration',\n",
       "       'how-rounded_round_concentration',\n",
       "       'how-rounded_in-between_concentration',\n",
       "       'how-rounded_cigar-shaped_concentration',\n",
       "       'edge-on-bulge_boxy_concentration',\n",
       "       'edge-on-bulge_none_concentration',\n",
       "       'edge-on-bulge_rounded_concentration',\n",
       "       'spiral-winding_tight_concentration',\n",
       "       'spiral-winding_medium_concentration',\n",
       "       'spiral-winding_loose_concentration',\n",
       "       'spiral-arm-count_1_concentration',\n",
       "       'spiral-arm-count_2_concentration',\n",
       "       'spiral-arm-count_3_concentration',\n",
       "       'spiral-arm-count_4_concentration',\n",
       "       'spiral-arm-count_more-than-4_concentration',\n",
       "       'spiral-arm-count_cant-tell_concentration',\n",
       "       'merging_none_concentration',\n",
       "       'merging_minor-disturbance_concentration',\n",
       "       'merging_major-disturbance_concentration',\n",
       "       'merging_merger_concentration',\n",
       "       'smooth-or-featured_smooth_fraction',\n",
       "       'smooth-or-featured_featured-or-disk_fraction',\n",
       "       'smooth-or-featured_artifact_fraction',\n",
       "       'disk-edge-on_yes_fraction', 'disk-edge-on_no_fraction',\n",
       "       'has-spiral-arms_yes_fraction', 'has-spiral-arms_no_fraction',\n",
       "       'bar_strong_fraction', 'bar_weak_fraction', 'bar_no_fraction',\n",
       "       'bulge-size_dominant_fraction', 'bulge-size_large_fraction',\n",
       "       'bulge-size_moderate_fraction', 'bulge-size_small_fraction',\n",
       "       'bulge-size_none_fraction', 'how-rounded_round_fraction',\n",
       "       'how-rounded_in-between_fraction',\n",
       "       'how-rounded_cigar-shaped_fraction', 'edge-on-bulge_boxy_fraction',\n",
       "       'edge-on-bulge_none_fraction', 'edge-on-bulge_rounded_fraction',\n",
       "       'spiral-winding_tight_fraction', 'spiral-winding_medium_fraction',\n",
       "       'spiral-winding_loose_fraction', 'spiral-arm-count_1_fraction',\n",
       "       'spiral-arm-count_2_fraction', 'spiral-arm-count_3_fraction',\n",
       "       'spiral-arm-count_4_fraction',\n",
       "       'spiral-arm-count_more-than-4_fraction',\n",
       "       'spiral-arm-count_cant-tell_fraction', 'merging_none_fraction',\n",
       "       'merging_minor-disturbance_fraction',\n",
       "       'merging_major-disturbance_fraction', 'merging_merger_fraction',\n",
       "       'smooth-or-featured_proportion_volunteers_asked',\n",
       "       'disk-edge-on_proportion_volunteers_asked',\n",
       "       'has-spiral-arms_proportion_volunteers_asked',\n",
       "       'bar_proportion_volunteers_asked',\n",
       "       'bulge-size_proportion_volunteers_asked',\n",
       "       'how-rounded_proportion_volunteers_asked',\n",
       "       'edge-on-bulge_proportion_volunteers_asked',\n",
       "       'spiral-winding_proportion_volunteers_asked',\n",
       "       'spiral-arm-count_proportion_volunteers_asked',\n",
       "       'merging_proportion_volunteers_asked'], dtype=object)"
      ]
     },
     "execution_count": 28,
     "metadata": {},
     "output_type": "execute_result"
    }
   ],
   "source": [
    "df.columns.values"
   ]
  },
  {
   "cell_type": "code",
   "execution_count": null,
   "metadata": {},
   "outputs": [],
   "source": []
  },
  {
   "cell_type": "code",
   "execution_count": null,
   "metadata": {},
   "outputs": [],
   "source": []
  },
  {
   "cell_type": "code",
   "execution_count": null,
   "metadata": {},
   "outputs": [],
   "source": []
  },
  {
   "cell_type": "code",
   "execution_count": null,
   "metadata": {},
   "outputs": [],
   "source": []
  },
  {
   "cell_type": "code",
   "execution_count": null,
   "metadata": {},
   "outputs": [],
   "source": []
  }
 ],
 "metadata": {
  "kernelspec": {
   "display_name": "Python 3",
   "language": "python",
   "name": "python3"
  },
  "language_info": {
   "codemirror_mode": {
    "name": "ipython",
    "version": 3
   },
   "file_extension": ".py",
   "mimetype": "text/x-python",
   "name": "python",
   "nbconvert_exporter": "python",
   "pygments_lexer": "ipython3",
   "version": "3.7.6"
  }
 },
 "nbformat": 4,
 "nbformat_minor": 4
}
