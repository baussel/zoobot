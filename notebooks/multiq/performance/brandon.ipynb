{
 "cells": [
  {
   "cell_type": "code",
   "execution_count": 1,
   "metadata": {},
   "outputs": [],
   "source": [
    "%load_ext autoreload\n",
    "%autoreload 2\n",
    "%matplotlib inline"
   ]
  },
  {
   "cell_type": "code",
   "execution_count": 13,
   "metadata": {},
   "outputs": [],
   "source": [
    "import os\n",
    "import logging\n",
    "import argparse\n",
    "import glob\n",
    "import json\n",
    "from multiprocessing import Pool\n",
    "\n",
    "from IPython.display import display, Markdown\n",
    "import sklearn\n",
    "import numpy as np\n",
    "import matplotlib.pyplot as plt\n",
    "from matplotlib.ticker import StrMethodFormatter\n",
    "import matplotlib.gridspec as gridspec\n",
    "import seaborn as sns\n",
    "from PIL import Image\n",
    "\n",
    "import pandas as pd\n",
    "from astropy.table import Table  # for NSA\n",
    "from astropy import units as u\n",
    "\n",
    "from scipy import stats, integrate\n",
    "from scipy.stats import binom\n",
    "import statsmodels.api as sm\n",
    "\n",
    "from sklearn import metrics\n",
    "from sklearn.metrics import confusion_matrix, plot_confusion_matrix, roc_curve, mean_squared_error, mean_absolute_error\n",
    "import tensorflow as tf\n",
    "\n",
    "from shared_astro_utils import astropy_utils, matching_utils\n",
    "from zoobot.estimators import make_predictions, bayesian_estimator_funcs\n",
    "from zoobot.tfrecord import read_tfrecord\n",
    "from zoobot.uncertainty import discrete_coverage\n",
    "from zoobot.estimators import input_utils, losses, dirichlet_stats\n",
    "from zoobot.tfrecord import catalog_to_tfrecord\n",
    "from zoobot.active_learning import metrics, simulated_metrics, acquisition_utils, check_uncertainty, simulation_timeline, run_estimator_config\n",
    "from zoobot.active_learning import acquisition_utils\n",
    "from zoobot import label_metadata\n"
   ]
  },
  {
   "cell_type": "code",
   "execution_count": 3,
   "metadata": {},
   "outputs": [],
   "source": [
    "os.chdir('/home/walml/repos/zoobot')"
   ]
  },
  {
   "cell_type": "code",
   "execution_count": 4,
   "metadata": {},
   "outputs": [
    {
     "name": "stdout",
     "output_type": "stream",
     "text": [
      "{smooth-or-featured, indices 0 to 2, asked after None: (0, 2), disk-edge-on, indices 3 to 4, asked after smooth-or-featured_featured-or-disk, index 1: (3, 4), has-spiral-arms, indices 5 to 6, asked after disk-edge-on_no, index 4: (5, 6), bar, indices 7 to 9, asked after disk-edge-on_no, index 4: (7, 9), bulge-size, indices 10 to 14, asked after disk-edge-on_no, index 4: (10, 14), how-rounded, indices 15 to 17, asked after smooth-or-featured_smooth, index 0: (15, 17), edge-on-bulge, indices 18 to 20, asked after disk-edge-on_yes, index 3: (18, 20), spiral-winding, indices 21 to 23, asked after has-spiral-arms_yes, index 5: (21, 23), spiral-arm-count, indices 24 to 29, asked after has-spiral-arms_yes, index 5: (24, 29), merging, indices 30 to 33, asked after None: (30, 33)}\n"
     ]
    },
    {
     "data": {
      "text/plain": [
       "[smooth-or-featured, indices 0 to 2, asked after None,\n",
       " disk-edge-on, indices 3 to 4, asked after smooth-or-featured_featured-or-disk, index 1,\n",
       " has-spiral-arms, indices 5 to 6, asked after disk-edge-on_no, index 4,\n",
       " bar, indices 7 to 9, asked after disk-edge-on_no, index 4,\n",
       " bulge-size, indices 10 to 14, asked after disk-edge-on_no, index 4,\n",
       " how-rounded, indices 15 to 17, asked after smooth-or-featured_smooth, index 0,\n",
       " edge-on-bulge, indices 18 to 20, asked after disk-edge-on_yes, index 3,\n",
       " spiral-winding, indices 21 to 23, asked after has-spiral-arms_yes, index 5,\n",
       " spiral-arm-count, indices 24 to 29, asked after has-spiral-arms_yes, index 5,\n",
       " merging, indices 30 to 33, asked after None]"
      ]
     },
     "execution_count": 4,
     "metadata": {},
     "output_type": "execute_result"
    }
   ],
   "source": [
    "questions = label_metadata.decals_questions\n",
    "label_cols = label_metadata.decals_label_cols\n",
    "version = 'decals'\n",
    "\n",
    "schema = losses.Schema(label_cols, questions, version=version)\n",
    "schema.questions"
   ]
  },
  {
   "cell_type": "code",
   "execution_count": 5,
   "metadata": {},
   "outputs": [
    {
     "name": "stdout",
     "output_type": "stream",
     "text": [
      "49700\n",
      "49700\n",
      "49700\n",
      "(49700, 34, 15)\n"
     ]
    }
   ],
   "source": [
    "\n",
    "# previously shared in draft paper\n",
    "# predictions_loc = 'results/temp/decals_n2_allq_m0_all.csv'\n",
    "# eval_loc = 'results/temp/decals_n2_allq_m0_eval_shards/eval_df.csv'\n",
    "\n",
    "# with overzealous cleaning\n",
    "eval_loc = 'results/decals_dr_full_eval_df.csv'\n",
    "eval_df = pd.read_csv(eval_loc)\n",
    "eval_df['local_png_loc'] = eval_df['local_png_loc'].apply(lambda x: x.replace('/data/phys-zooniverse/chri5177', '/media/walml/beta/decals'))\n",
    "# eval_df doesn't include total-votes, add it\n",
    "for question in schema.questions:\n",
    "    eval_df[question.text + '_total-votes'] = np.array([eval_df[answer.text].values for answer in question.answers]).sum(axis=0)\n",
    "\n",
    "# one model\n",
    "# predictions_loc = 'results/decals_dr_full_m0_eval_predictions.csv'  # .1-20\n",
    "# predictions = pd.read_csv(predictions_loc)\n",
    "# samples = dirichlet_stats.load_all_concentrations(eval_predictions, concentration_cols=[a.text + '_concentration' for a in schema.answers])\n",
    "\n",
    "# several models (ensemble)\n",
    "samples = []\n",
    "predictions_locs = [f'results/decals_dr_full_m{n}_eval_predictions.csv' for n in range(3)]  # 0, 1, 2\n",
    "for predictions_loc in predictions_locs:\n",
    "    predictions = pd.read_csv(predictions_loc)\n",
    "    # filter to eval\n",
    "    eval_predictions = predictions[predictions['iauname'].isin(eval_df['id_str'])]\n",
    "    print(len(eval_predictions))\n",
    "    model_samples = dirichlet_stats.load_all_concentrations(eval_predictions, concentration_cols=[a.text + '_concentration' for a in schema.answers])\n",
    "    samples.append(model_samples)\n",
    "samples = np.concatenate(samples, axis=2)  # must be same iaunames, sorted\n",
    "\n",
    "print(samples.shape)\n",
    "\n"
   ]
  },
  {
   "cell_type": "code",
   "execution_count": 6,
   "metadata": {},
   "outputs": [
    {
     "name": "stderr",
     "output_type": "stream",
     "text": [
      "/home/walml/anaconda3/envs/zoobot/lib/python3.7/site-packages/ipykernel_launcher.py:3: SettingWithCopyWarning: \n",
      "A value is trying to be set on a copy of a slice from a DataFrame.\n",
      "Try using .loc[row_indexer,col_indexer] = value instead\n",
      "\n",
      "See the caveats in the documentation: https://pandas.pydata.org/pandas-docs/stable/user_guide/indexing.html#returning-a-view-versus-a-copy\n",
      "  This is separate from the ipykernel package so we can avoid doing imports until\n"
     ]
    }
   ],
   "source": [
    "is_retired = eval_predictions['smooth-or-featured_total-votes'] > 34\n",
    "retired = eval_predictions[is_retired]\n",
    "retired['file_loc'] = retired['local_png_loc'].apply(lambda x: '/media/walml/beta/decals' + x.replace('/data/phys-zooniverse/chri5177', ''))\n",
    "retired_samples = samples[is_retired]\n"
   ]
  },
  {
   "cell_type": "code",
   "execution_count": 7,
   "metadata": {},
   "outputs": [],
   "source": [
    "predicted_fractions = dirichlet_stats.dirichlet_prob_of_answers(retired_samples, schema, temperature=None)"
   ]
  },
  {
   "cell_type": "code",
   "execution_count": 8,
   "metadata": {},
   "outputs": [],
   "source": [
    "def filter_to_sensible(label_df, predictions, question):\n",
    "#     if prev_a is not None:\n",
    "#         prev_q = prev_a.question\n",
    "#         prev_q_cols = [answer.text + '_fraction' for answer in prev_q.answers]\n",
    "#         is_sensible = (label_df[prev_a.text + '_fraction'] / label_df[prev_q_cols].sum(axis=1)) > 0.5\n",
    "#         valid_labels, valid_predictions = label_df[is_sensible], predicted_fractions[is_sensible]\n",
    "#     else:\n",
    "#         valid_labels, valid_predictions = label_df, predicted_fractions\n",
    "    retirement = 1\n",
    "    samples = np.expand_dims(predictions, axis=-1)\n",
    "    expected_votes = acquisition_utils.get_expected_votes_human(label_df, question, retirement, schema, round_votes=False)\n",
    "    if not isinstance(expected_votes, np.ndarray):\n",
    "        expected_votes = expected_votes.numpy()  # hack, should fix properly...\n",
    "#     print(expected_votes)\n",
    "    is_sensible = expected_votes > 0.5\n",
    "    valid_labels, valid_predictions = label_df[is_sensible], predictions[is_sensible]\n",
    "    return valid_labels, valid_predictions\n"
   ]
  },
  {
   "cell_type": "code",
   "execution_count": 11,
   "metadata": {},
   "outputs": [],
   "source": [
    "def get_binary_responses(question, label_df, predicted_fractions):\n",
    "    # previous question should be valid\n",
    "    valid_labels, valid_predictions = filter_to_sensible(label_df, predicted_fractions, question)\n",
    "    cols = [answer.text + '_fraction' for answer in question.answers]\n",
    "    # most likely answer, might be less than .5 though\n",
    "    y_true = np.argmax(valid_labels[cols].values, axis=1)\n",
    "    y_pred = np.argmax(valid_predictions[:, question.start_index:question.end_index+1], axis=1)\n",
    "    return y_true, y_pred\n",
    "\n",
    "def print_metrics(question, label_df, predicted_fractions):\n",
    "    y_true, y_pred = get_binary_responses(question, label_df, predicted_fractions)\n",
    "#     print(pd.value_counts(y_pred))\n",
    "#     average = 'micro'\n",
    "    average = 'weighted'\n",
    "    \n",
    "    # human\n",
    "#     print('Acc: {:.4f}, Precision: {:.4f}, Recall: {:.4f}, F1: {:.4f} <- {}'.format(\n",
    "#         sklearn.metrics.accuracy_score(y_true, y_pred),\n",
    "#         sklearn.metrics.precision_score(y_true, y_pred, average=average),\n",
    "#         sklearn.metrics.recall_score(y_true, y_pred, average=average),\n",
    "#         sklearn.metrics.f1_score(y_true, y_pred, average=average),\n",
    "#         question.text\n",
    "#     ))\n",
    "    # latex\n",
    "    print('{} & {} & {:.4f} & {:.4f} & {:.4f} & {:.4f} \\\\\\\\'.format(\n",
    "        question.text.replace('-', ' ').replace('_', ' ').title(),\n",
    "        len(y_true),\n",
    "        sklearn.metrics.accuracy_score(y_true, y_pred),\n",
    "        sklearn.metrics.precision_score(y_true, y_pred, average=average),\n",
    "        sklearn.metrics.recall_score(y_true, y_pred, average=average),\n",
    "        sklearn.metrics.f1_score(y_true, y_pred, average=average)\n",
    "))\n",
    "\n",
    "    \n",
    "def show_confusion_matrix(question, label_df, predicted_fractions):\n",
    "    y_true, y_pred = get_binary_responses(question, label_df, predicted_fractions)\n",
    "    \n",
    "    labels = range(len(question.answers))\n",
    "    cm = confusion_matrix(y_true, y_pred, labels=labels)\n",
    "    \n",
    "    ticklabels = [get_label(a.text, question) for a in question.answers]\n",
    "    # manual tweaks\n",
    "    for n in range(len(ticklabels)):\n",
    "        if ticklabels[n] == 'Featured Or Disk':\n",
    "            ticklabels[n] = 'Featured/Disk'\n",
    "        elif ticklabels[n] == 'Cigar Shaped':\n",
    "            ticklabels[n] = 'Cigar'\n",
    "        elif ticklabels[n] == 'More Than 4':\n",
    "            ticklabels[n] = '>4'\n",
    "        elif ticklabels[n] == 'Minor Disturbance':\n",
    "            ticklabels[n] = 'Minor Disturb.'\n",
    "        elif ticklabels[n] == 'Major Disturbance':\n",
    "            ticklabels[n] = 'Major Disturb.'\n",
    "            \n",
    "    fig, ax = plt.subplots()\n",
    "    ax.set_title(clean_text(question.text))\n",
    "\n",
    "    return sns.heatmap(\n",
    "        cm,\n",
    "        annot=True,\n",
    "        cmap='Blues',\n",
    "        fmt='d',\n",
    "        xticklabels=ticklabels,\n",
    "        yticklabels=ticklabels,\n",
    "        cbar=False,\n",
    "#         annot_kws={\"size\": 14},\n",
    "        ax=ax,\n",
    "        square=True,\n",
    "        robust=True\n",
    "    )\n"
   ]
  },
  {
   "cell_type": "code",
   "execution_count": 9,
   "metadata": {},
   "outputs": [
    {
     "name": "stderr",
     "output_type": "stream",
     "text": [
      "/home/walml/anaconda3/envs/zoobot/lib/python3.7/site-packages/ipykernel_launcher.py:15: RuntimeWarning: invalid value encountered in greater\n",
      "  from ipykernel import kernelapp as app\n"
     ]
    },
    {
     "data": {
      "text/plain": [
       "2859"
      ]
     },
     "execution_count": 9,
     "metadata": {},
     "output_type": "execute_result"
    }
   ],
   "source": []
  },
  {
   "cell_type": "code",
   "execution_count": 10,
   "metadata": {},
   "outputs": [],
   "source": [
    "retirement = 1  # assumed number of votes at top question\n",
    "# votes for specific question, given fraction predictions and retirement (=1)\n",
    "expected_votes = acquisition_utils.get_expected_votes_human(retired, question, retirement, schema, round_votes=False)  "
   ]
  },
  {
   "cell_type": "code",
   "execution_count": 14,
   "metadata": {},
   "outputs": [
    {
     "name": "stdout",
     "output_type": "stream",
     "text": [
      "Smooth Or Featured & 11346 & 0.9352 & 0.9363 & 0.9352 & 0.9356 \\\\\n",
      "Disk Edge On & 3803 & 0.9871 & 0.9871 & 0.9871 & 0.9871 \\\\\n",
      "Has Spiral Arms & 2859 & 0.9349 & 0.9364 & 0.9349 & 0.9356 \\\\\n",
      "Bar & 2859 & 0.8185 & 0.8095 & 0.8185 & 0.8110 \\\\\n",
      "Bulge Size & 2859 & 0.8419 & 0.8405 & 0.8419 & 0.8409 \\\\\n",
      "How Rounded & 6805 & 0.9314 & 0.9313 & 0.9314 & 0.9313 \\\\\n",
      "Edge On Bulge & 506 & 0.9111 & 0.9134 & 0.9111 & 0.8996 \\\\\n",
      "Spiral Winding & 1997 & 0.7832 & 0.8041 & 0.7832 & 0.7874 \\\\\n",
      "Spiral Arm Count & 1997 & 0.7742 & 0.7555 & 0.7742 & 0.7560 \\\\\n",
      "Merging & 11346 & 0.8798 & 0.8672 & 0.8798 & 0.8511 \\\\\n"
     ]
    },
    {
     "name": "stderr",
     "output_type": "stream",
     "text": [
      "/home/walml/anaconda3/envs/zoobot/lib/python3.7/site-packages/ipykernel_launcher.py:15: RuntimeWarning: invalid value encountered in greater\n",
      "  from ipykernel import kernelapp as app\n",
      "/home/walml/anaconda3/envs/zoobot/lib/python3.7/site-packages/sklearn/metrics/_classification.py:1272: UndefinedMetricWarning: Precision is ill-defined and being set to 0.0 in labels with no predicted samples. Use `zero_division` parameter to control this behavior.\n",
      "  _warn_prf(average, modifier, msg_start, len(result))\n"
     ]
    }
   ],
   "source": [
    "for question in schema.questions:\n",
    "    print_metrics(question, retired, predicted_fractions)"
   ]
  },
  {
   "cell_type": "code",
   "execution_count": 21,
   "metadata": {},
   "outputs": [
    {
     "data": {
      "text/plain": [
       "array([[1, 0, 0, 0, 0],\n",
       "       [1, 0, 0, 0, 0],\n",
       "       [1, 0, 0, 0, 0],\n",
       "       [1, 0, 0, 0, 0],\n",
       "       [1, 0, 0, 0, 0]])"
      ]
     },
     "execution_count": 21,
     "metadata": {},
     "output_type": "execute_result"
    }
   ],
   "source": [
    "# y_true = [0, 1, 2, 3, 4]\n",
    "# y_pred = [0, 0, 0, 0, 0]\n",
    "# labels=y_true\n",
    "# cm = confusion_matrix(y_true, y_pred, labels=labels)\n",
    "# cm"
   ]
  },
  {
   "cell_type": "code",
   "execution_count": 50,
   "metadata": {},
   "outputs": [],
   "source": [
    "def get_big_cm(label_df, predicted_fractions, schema):\n",
    "    y_pred = []\n",
    "    y_true = []\n",
    "    for question in schema.questions:\n",
    "        y_true_q, y_pred_q = get_binary_responses(question, label_df, predicted_fractions)\n",
    "        print(len(y_true_q))\n",
    "        y_pred_q += question.start_index\n",
    "        y_true_q += question.start_index\n",
    "#         valid_labels, valid_predictions = filter_to_sensible(retired, predicted_fractions, schema.get_question('has-spiral-arms'))\n",
    "#         for galaxy_n in len(valid_predictions):\n",
    "#             question_answer = question.start_index + np.argmax(valid_predictions[galaxy_n, indices])\n",
    "#             y_pred.append(galaxy)\n",
    "#             y_true = valid_labels.iloc[galaxy_n][question.]\n",
    "        y_pred += list(y_pred_q)\n",
    "        y_true += list(y_true_q)\n",
    "        \n",
    "    return np.array(y_true), np.array(y_pred)"
   ]
  },
  {
   "cell_type": "code",
   "execution_count": 51,
   "metadata": {},
   "outputs": [
    {
     "name": "stdout",
     "output_type": "stream",
     "text": [
      "11346\n",
      "3803\n",
      "2859\n",
      "2859\n",
      "2859\n",
      "6805\n",
      "506\n",
      "1997\n",
      "1997\n",
      "11346\n"
     ]
    },
    {
     "name": "stderr",
     "output_type": "stream",
     "text": [
      "/home/walml/anaconda3/envs/zoobot/lib/python3.7/site-packages/ipykernel_launcher.py:15: RuntimeWarning: invalid value encountered in greater\n",
      "  from ipykernel import kernelapp as app\n"
     ]
    }
   ],
   "source": [
    "y_true, y_pred = get_big_cm(retired, predicted_fractions, schema)"
   ]
  },
  {
   "cell_type": "code",
   "execution_count": 52,
   "metadata": {},
   "outputs": [],
   "source": [
    "big_cm = confusion_matrix(y_true, y_pred)"
   ]
  },
  {
   "cell_type": "code",
   "execution_count": 54,
   "metadata": {},
   "outputs": [
    {
     "data": {
      "text/plain": [
       "<matplotlib.axes._subplots.AxesSubplot at 0x7f7cdb612190>"
      ]
     },
     "execution_count": 54,
     "metadata": {},
     "output_type": "execute_result"
    },
    {
     "data": {
      "image/png": "[encoded data removed]",
      "text/plain": [
       "<Figure size 432x288 with 2 Axes>"
      ]
     },
     "metadata": {
      "needs_background": "light"
     },
     "output_type": "display_data"
    }
   ],
   "source": [
    "sns.heatmap(big_cm)"
   ]
  },
  {
   "cell_type": "code",
   "execution_count": 55,
   "metadata": {},
   "outputs": [
    {
     "name": "stderr",
     "output_type": "stream",
     "text": [
      "/home/walml/anaconda3/envs/zoobot/lib/python3.7/site-packages/ipykernel_launcher.py:15: RuntimeWarning: invalid value encountered in greater\n",
      "  from ipykernel import kernelapp as app\n"
     ]
    }
   ],
   "source": [
    "feat_labels, feat_predictions = filter_to_sensible(retired, predicted_fractions, schema.get_question('has-spiral-arms'))"
   ]
  },
  {
   "cell_type": "code",
   "execution_count": 73,
   "metadata": {},
   "outputs": [],
   "source": [
    "def get_vol_vector(labels, questions_to_include):  # all q's must be relevant\n",
    "    vol_vectors = np.zeros((len(labels), len(questions_to_include)))\n",
    "    for question_n, question in enumerate(questions_to_include):\n",
    "        cols = [answer.text + '_fraction' for answer in question.answers]\n",
    "        question_responses = valid_labels[cols].values\n",
    "        vol_vectors[:, question_n] = np.argmax(question_responses, axis=1)\n",
    "    return vol_vectors"
   ]
  },
  {
   "cell_type": "code",
   "execution_count": 91,
   "metadata": {},
   "outputs": [],
   "source": [
    "def get_ml_vector(preds, questions_to_include):  # all q's must be relevant\n",
    "    ml_vectors = np.zeros((len(preds), len(questions_to_include)))\n",
    "    for question_n, question in enumerate(questions_to_include):\n",
    "        question_responses = preds[:, question.start_index:question.end_index+1]\n",
    "        ml_vectors[:, question_n] = np.argmax(question_responses, axis=1)\n",
    "    return ml_vectors"
   ]
  },
  {
   "cell_type": "code",
   "execution_count": 108,
   "metadata": {},
   "outputs": [],
   "source": [
    "questions_to_include = [\n",
    "    schema.get_question('bar'),\n",
    "    schema.get_question('has-spiral-arms'),\n",
    "    schema.get_question('merging')\n",
    "]"
   ]
  },
  {
   "cell_type": "code",
   "execution_count": 109,
   "metadata": {},
   "outputs": [
    {
     "name": "stdout",
     "output_type": "stream",
     "text": [
      "(2859, 3)\n"
     ]
    }
   ],
   "source": [
    "vol_vectors = get_vol_vector(feat_labels, questions_to_include)"
   ]
  },
  {
   "cell_type": "code",
   "execution_count": 110,
   "metadata": {},
   "outputs": [
    {
     "data": {
      "text/plain": [
       "(2859, 3)"
      ]
     },
     "execution_count": 110,
     "metadata": {},
     "output_type": "execute_result"
    }
   ],
   "source": [
    "vol_vectors.shape"
   ]
  },
  {
   "cell_type": "code",
   "execution_count": 111,
   "metadata": {},
   "outputs": [],
   "source": [
    "# col_indices = [answer.index for question in questions_to_include for answer in question.answers]\n",
    "# col_indices\n",
    "# ml_vectors = feat_predictions[:, col_indices]\n",
    "# ml_vectors.shape"
   ]
  },
  {
   "cell_type": "code",
   "execution_count": 112,
   "metadata": {},
   "outputs": [
    {
     "data": {
      "text/plain": [
       "(2859, 3)"
      ]
     },
     "execution_count": 112,
     "metadata": {},
     "output_type": "execute_result"
    }
   ],
   "source": [
    "ml_vectors = get_ml_vector(feat_predictions, questions_to_include)\n",
    "ml_vectors.shape"
   ]
  },
  {
   "cell_type": "code",
   "execution_count": 113,
   "metadata": {},
   "outputs": [],
   "source": [
    "def get_label(text, question):\n",
    "    return clean_text(text.replace(question.text, '').title())\n",
    "\n",
    "def clean_text(text):\n",
    "    return text.replace('-', ' ').replace('_', '').title()"
   ]
  },
  {
   "cell_type": "code",
   "execution_count": 149,
   "metadata": {},
   "outputs": [],
   "source": [
    "def show_cm(y_true, y_pred, labels, question, title=None, normalize=None):\n",
    "    cm = confusion_matrix(y_true, y_pred, labels=labels, normalize=normalize)\n",
    "    \n",
    "    ticklabels = [get_label(a.text, question) for a in question.answers]\n",
    "    # manual tweaks\n",
    "    for n in range(len(ticklabels)):\n",
    "        if ticklabels[n] == 'Featured Or Disk':\n",
    "            ticklabels[n] = 'Featured/Disk'\n",
    "        elif ticklabels[n] == 'Cigar Shaped':\n",
    "            ticklabels[n] = 'Cigar'\n",
    "        elif ticklabels[n] == 'More Than 4':\n",
    "            ticklabels[n] = '>4'\n",
    "        elif ticklabels[n] == 'Minor Disturbance':\n",
    "            ticklabels[n] = 'Minor Disturb.'\n",
    "        elif ticklabels[n] == 'Major Disturbance':\n",
    "            ticklabels[n] = 'Major Disturb.'\n",
    "    \n",
    "    fig, ax = plt.subplots()\n",
    "    if title:\n",
    "        ax.set_title(title)\n",
    "    \n",
    "    if normalise == 'true':\n",
    "        fmt = 'd'\n",
    "    else:\n",
    "        fmt = None\n",
    "\n",
    "    return sns.heatmap(\n",
    "        cm,\n",
    "        annot=True,\n",
    "        cmap='Blues',\n",
    "        fmt='.2g',\n",
    "        xticklabels=ticklabels,\n",
    "        yticklabels=ticklabels,\n",
    "        cbar=False,\n",
    "#         annot_kws={\"size\": 14},\n",
    "        ax=ax,\n",
    "        square=True,\n",
    "        robust=True\n",
    "    )"
   ]
  },
  {
   "cell_type": "code",
   "execution_count": 141,
   "metadata": {},
   "outputs": [
    {
     "data": {
      "text/plain": [
       "<matplotlib.axes._subplots.AxesSubplot at 0x7f7cf2ace4d0>"
      ]
     },
     "execution_count": 141,
     "metadata": {},
     "output_type": "execute_result"
    },
    {
     "data": {
      "image/png": "[encoded data removed]",
      "text/plain": [
       "<Figure size 432x288 with 1 Axes>"
      ]
     },
     "metadata": {
      "needs_background": "light"
     },
     "output_type": "display_data"
    }
   ],
   "source": [
    "question_n = 2\n",
    "question = questions_to_include[question_n]\n",
    "show_cm(vol_vectors[:, question_n], ml_vectors[:, question_n], labels=np.arange(len(question.answers)), question=question)"
   ]
  },
  {
   "cell_type": "code",
   "execution_count": null,
   "metadata": {},
   "outputs": [],
   "source": []
  },
  {
   "cell_type": "code",
   "execution_count": null,
   "metadata": {},
   "outputs": [],
   "source": []
  },
  {
   "cell_type": "code",
   "execution_count": 153,
   "metadata": {},
   "outputs": [
    {
     "data": {
      "text/plain": [
       "<matplotlib.axes._subplots.AxesSubplot at 0x7f7cf2abdf50>"
      ]
     },
     "execution_count": 153,
     "metadata": {},
     "output_type": "execute_result"
    },
    {
     "data": {
      "image/png": "[encoded data removed]",
      "text/plain": [
       "<Figure size 432x288 with 1 Axes>"
      ]
     },
     "metadata": {
      "needs_background": "light"
     },
     "output_type": "display_data"
    },
    {
     "data": {
      "image/png": "[encoded data removed]",
      "text/plain": [
       "<Figure size 432x288 with 1 Axes>"
      ]
     },
     "metadata": {
      "needs_background": "light"
     },
     "output_type": "display_data"
    }
   ],
   "source": [
    "question_c = 1\n",
    "question_n = 0\n",
    "question = questions_to_include[question_n]\n",
    "correct = vol_vectors[:, question_c] == ml_vectors[:, question_c]\n",
    "\n",
    "title = 'bar for spiral=right'\n",
    "title_2 = 'bar for spiral=wrong'\n",
    "normalize = 'true'\n",
    "show_cm(vol_vectors[correct, question_n], ml_vectors[correct, question_n], labels=np.arange(len(question.answers)), question=question, normalize=normalize, title=title)\n",
    "show_cm(vol_vectors[~correct, question_n], ml_vectors[~correct, question_n], labels=np.arange(len(question.answers)), question=question, normalize=normalize, title=title_2)"
   ]
  },
  {
   "cell_type": "code",
   "execution_count": 154,
   "metadata": {},
   "outputs": [
    {
     "data": {
      "text/plain": [
       "<matplotlib.axes._subplots.AxesSubplot at 0x7f7cf2c9da50>"
      ]
     },
     "execution_count": 154,
     "metadata": {},
     "output_type": "execute_result"
    },
    {
     "data": {
      "image/png": "[encoded data removed]",
      "text/plain": [
       "<Figure size 432x288 with 1 Axes>"
      ]
     },
     "metadata": {
      "needs_background": "light"
     },
     "output_type": "display_data"
    },
    {
     "data": {
      "image/png": "[encoded data removed]",
      "text/plain": [
       "<Figure size 432x288 with 1 Axes>"
      ]
     },
     "metadata": {
      "needs_background": "light"
     },
     "output_type": "display_data"
    }
   ],
   "source": [
    "question_c = 0\n",
    "question_n = 1\n",
    "question = questions_to_include[question_n]\n",
    "correct = vol_vectors[:, question_c] == ml_vectors[:, question_c]\n",
    "\n",
    "title = 'spiral for bar=right'\n",
    "title_2 = 'spiral for bar=wrong'\n",
    "normalize = 'true'\n",
    "show_cm(vol_vectors[correct, question_n], ml_vectors[correct, question_n], labels=np.arange(len(question.answers)), question=question, normalize=normalize, title=title)\n",
    "show_cm(vol_vectors[~correct, question_n], ml_vectors[~correct, question_n], labels=np.arange(len(question.answers)), question=question, normalize=normalize, title=title_2)"
   ]
  },
  {
   "cell_type": "code",
   "execution_count": 155,
   "metadata": {},
   "outputs": [
    {
     "data": {
      "text/plain": [
       "<matplotlib.axes._subplots.AxesSubplot at 0x7f7cf2b9f790>"
      ]
     },
     "execution_count": 155,
     "metadata": {},
     "output_type": "execute_result"
    },
    {
     "data": {
      "image/png": "[encoded data removed]",
      "text/plain": [
       "<Figure size 432x288 with 1 Axes>"
      ]
     },
     "metadata": {
      "needs_background": "light"
     },
     "output_type": "display_data"
    },
    {
     "data": {
      "image/png": "[encoded data removed]",
      "text/plain": [
       "<Figure size 432x288 with 1 Axes>"
      ]
     },
     "metadata": {
      "needs_background": "light"
     },
     "output_type": "display_data"
    }
   ],
   "source": [
    "question_c = 2\n",
    "question_n = 1\n",
    "question = questions_to_include[question_n]\n",
    "correct = vol_vectors[:, question_c] == ml_vectors[:, question_c]\n",
    "\n",
    "title = 'spiral for merger=right'\n",
    "title_2 = 'spiral for merger=wrong'\n",
    "normalize = 'true'\n",
    "show_cm(vol_vectors[correct, question_n], ml_vectors[correct, question_n], labels=np.arange(len(question.answers)), question=question, normalize=normalize, title=title)\n",
    "show_cm(vol_vectors[~correct, question_n], ml_vectors[~correct, question_n], labels=np.arange(len(question.answers)), question=question, normalize=normalize, title=title_2)"
   ]
  },
  {
   "cell_type": "code",
   "execution_count": 147,
   "metadata": {},
   "outputs": [
    {
     "data": {
      "text/plain": [
       "<matplotlib.axes._subplots.AxesSubplot at 0x7f7cf2722310>"
      ]
     },
     "execution_count": 147,
     "metadata": {},
     "output_type": "execute_result"
    },
    {
     "data": {
      "image/png": "[encoded data removed]",
      "text/plain": [
       "<Figure size 432x288 with 2 Axes>"
      ]
     },
     "metadata": {
      "needs_background": "light"
     },
     "output_type": "display_data"
    }
   ],
   "source": [
    "cm = confusion_matrix([0, 0, 0], [1, 1, 1])\n",
    "sns.heatmap(cm)"
   ]
  },
  {
   "cell_type": "markdown",
   "metadata": {},
   "source": [
    "if wrong about bars, more likely to think non-spirals are spirals\n",
    "\n",
    "if wrong about spirals, more likely to think weak bars are not bars\n",
    "\n",
    "\n",
    "true labels = rows, predicted = columns"
   ]
  },
  {
   "cell_type": "code",
   "execution_count": null,
   "metadata": {},
   "outputs": [],
   "source": []
  },
  {
   "cell_type": "code",
   "execution_count": null,
   "metadata": {},
   "outputs": [],
   "source": [
    "def get_big_cm(label_df, predicted_fractions, schema):\n",
    "    y_pred = []\n",
    "    y_true = []\n",
    "    for question in schema.questions:\n",
    "        y_true_q, y_pred_q = get_binary_responses(question, label_df, predicted_fractions)\n",
    "        print(len(y_true_q))\n",
    "        y_pred_q += question.start_index\n",
    "        y_true_q += question.start_index\n",
    "#         valid_labels, valid_predictions = filter_to_sensible(retired, predicted_fractions, schema.get_question('has-spiral-arms'))\n",
    "#         for galaxy_n in len(valid_predictions):\n",
    "#             question_answer = question.start_index + np.argmax(valid_predictions[galaxy_n, indices])\n",
    "#             y_pred.append(galaxy)\n",
    "#             y_true = valid_labels.iloc[galaxy_n][question.]\n",
    "        y_pred += list(y_pred_q)\n",
    "        y_true += list(y_true_q)\n",
    "        \n",
    "    return np.array(y_true), np.array(y_pred)"
   ]
  }
 ],
 "metadata": {
  "kernelspec": {
   "display_name": "Python 3",
   "language": "python",
   "name": "python3"
  },
  "language_info": {
   "codemirror_mode": {
    "name": "ipython",
    "version": 3
   },
   "file_extension": ".py",
   "mimetype": "text/x-python",
   "name": "python",
   "nbconvert_exporter": "python",
   "pygments_lexer": "ipython3",
   "version": "3.7.6"
  }
 },
 "nbformat": 4,
 "nbformat_minor": 4
}
