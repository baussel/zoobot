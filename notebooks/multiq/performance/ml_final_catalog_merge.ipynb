{
 "cells": [
  {
   "cell_type": "code",
   "execution_count": 1,
   "metadata": {},
   "outputs": [],
   "source": [
    "%load_ext autoreload\n",
    "%autoreload 2\n",
    "%matplotlib inline"
   ]
  },
  {
   "cell_type": "code",
   "execution_count": 2,
   "metadata": {},
   "outputs": [],
   "source": [
    "import os\n",
    "import logging\n",
    "import argparse\n",
    "import glob\n",
    "import json\n",
    "\n",
    "import numpy as np\n",
    "import matplotlib.pyplot as plt\n",
    "from matplotlib.ticker import StrMethodFormatter\n",
    "import matplotlib.gridspec as gridspec\n",
    "import seaborn as sns\n",
    "from PIL import Image\n",
    "\n",
    "import pandas as pd\n",
    "\n",
    "from sklearn import metrics\n",
    "from sklearn.metrics import confusion_matrix, plot_confusion_matrix, roc_curve, mean_squared_error, mean_absolute_error\n",
    "import tensorflow as tf\n",
    "\n",
    "import seaborn as sns\n",
    "sns.set_context('notebook')\n",
    "\n",
    "from shared_astro_utils import astropy_utils, matching_utils\n",
    "from zoobot.estimators import make_predictions, bayesian_estimator_funcs\n",
    "from zoobot.tfrecord import read_tfrecord\n",
    "from zoobot.uncertainty import discrete_coverage\n",
    "from zoobot.estimators import input_utils, losses, dirichlet_stats\n",
    "from zoobot.tfrecord import catalog_to_tfrecord\n",
    "from zoobot.active_learning import metrics, simulated_metrics, acquisition_utils, check_uncertainty, simulation_timeline, run_estimator_config\n",
    "from zoobot.active_learning import acquisition_utils\n",
    "from zoobot import label_metadata\n"
   ]
  },
  {
   "cell_type": "code",
   "execution_count": 3,
   "metadata": {},
   "outputs": [],
   "source": [
    "os.chdir('/home/walml/repos/zoobot')"
   ]
  },
  {
   "cell_type": "code",
   "execution_count": 4,
   "metadata": {},
   "outputs": [
    {
     "name": "stdout",
     "output_type": "stream",
     "text": [
      "{smooth-or-featured, indices 0 to 2, asked after None: (0, 2), disk-edge-on, indices 3 to 4, asked after smooth-or-featured_featured-or-disk, index 1: (3, 4), has-spiral-arms, indices 5 to 6, asked after disk-edge-on_no, index 4: (5, 6), bar, indices 7 to 9, asked after disk-edge-on_no, index 4: (7, 9), bulge-size, indices 10 to 14, asked after disk-edge-on_no, index 4: (10, 14), how-rounded, indices 15 to 17, asked after smooth-or-featured_smooth, index 0: (15, 17), edge-on-bulge, indices 18 to 20, asked after disk-edge-on_yes, index 3: (18, 20), spiral-winding, indices 21 to 23, asked after has-spiral-arms_yes, index 5: (21, 23), spiral-arm-count, indices 24 to 29, asked after has-spiral-arms_yes, index 5: (24, 29), merging, indices 30 to 33, asked after None: (30, 33)}\n"
     ]
    },
    {
     "data": {
      "text/plain": [
       "[smooth-or-featured, indices 0 to 2, asked after None,\n",
       " disk-edge-on, indices 3 to 4, asked after smooth-or-featured_featured-or-disk, index 1,\n",
       " has-spiral-arms, indices 5 to 6, asked after disk-edge-on_no, index 4,\n",
       " bar, indices 7 to 9, asked after disk-edge-on_no, index 4,\n",
       " bulge-size, indices 10 to 14, asked after disk-edge-on_no, index 4,\n",
       " how-rounded, indices 15 to 17, asked after smooth-or-featured_smooth, index 0,\n",
       " edge-on-bulge, indices 18 to 20, asked after disk-edge-on_yes, index 3,\n",
       " spiral-winding, indices 21 to 23, asked after has-spiral-arms_yes, index 5,\n",
       " spiral-arm-count, indices 24 to 29, asked after has-spiral-arms_yes, index 5,\n",
       " merging, indices 30 to 33, asked after None]"
      ]
     },
     "execution_count": 4,
     "metadata": {},
     "output_type": "execute_result"
    }
   ],
   "source": [
    "questions = label_metadata.decals_questions\n",
    "label_cols = label_metadata.decals_label_cols\n",
    "version = 'decals'\n",
    "\n",
    "schema = losses.Schema(label_cols, questions, version=version)\n",
    "schema.questions"
   ]
  },
  {
   "cell_type": "code",
   "execution_count": 5,
   "metadata": {},
   "outputs": [],
   "source": [
    "dr1_dr2_vols_loc = 'dr2_volunteer_catalog.parquet'\n",
    "dr5_vols_loc = 'dr5_volunteer_catalog.parquet'\n",
    "\n",
    "dr1_ml_loc = 'latest_ml_catalog_dr1_only.parquet'\n",
    "dr2_ml_loc = 'latest_ml_catalog_dr2_only.parquet'\n",
    "dr5_ml_loc = 'latest_ml_catalog_dr5_only.parquet'\n",
    "\n",
    "dr1_dr2_vols = pd.read_parquet(dr1_dr2_vols_loc)\n",
    "dr5_vols = pd.read_parquet(dr5_vols_loc)\n",
    "\n",
    "dr1_ml = pd.read_parquet(dr1_ml_loc)\n",
    "dr2_ml = pd.read_parquet(dr2_ml_loc)\n",
    "dr5_ml = pd.read_parquet(dr5_ml_loc)\n"
   ]
  },
  {
   "cell_type": "code",
   "execution_count": 6,
   "metadata": {},
   "outputs": [],
   "source": [
    "# I already picked before which data release to use for galaxies classified in both (DR2 over DR1), lets stick with that by checking the filename\n",
    "dr1_dr2_vols['dr1'] = dr1_dr2_vols['jpeg_loc'].apply(lambda x: 'dr1/standard' in x)"
   ]
  },
  {
   "cell_type": "code",
   "execution_count": 7,
   "metadata": {},
   "outputs": [],
   "source": [
    "dr1_vols = dr1_dr2_vols.query('dr1')\n",
    "dr2_vols = dr1_dr2_vols[~dr1_dr2_vols['dr1']]"
   ]
  },
  {
   "cell_type": "code",
   "execution_count": 8,
   "metadata": {},
   "outputs": [
    {
     "name": "stdout",
     "output_type": "stream",
     "text": [
      "32017 60943 92960\n"
     ]
    }
   ],
   "source": [
    "dr1_ml_use = dr1_ml[dr1_ml['iauname'].isin(dr1_vols['iauname'])]\n",
    "dr2_ml_use = dr2_ml[dr2_ml['iauname'].isin(dr2_vols['iauname'])]\n",
    "print(len(dr1_ml_use), len(dr2_ml_use), len(dr1_dr2_vols))\n",
    "assert len(dr1_ml_use) + len(dr2_ml_use) == len(dr1_dr2_vols)"
   ]
  },
  {
   "cell_type": "code",
   "execution_count": 9,
   "metadata": {},
   "outputs": [
    {
     "name": "stdout",
     "output_type": "stream",
     "text": [
      "313789\n",
      "309067\n",
      "3852 870 92960\n",
      "313789\n"
     ]
    }
   ],
   "source": [
    "# assert all(dr5_ml['iauname'].isin(dr5_vols))\n",
    "\n",
    "iaunames_any_vols = set(dr5_vols['iauname']).union(set(dr1_dr2_vols['iauname']))\n",
    "print(len(iaunames_any_vols))\n",
    "\n",
    "dr5_ml_use = dr5_ml[dr5_ml['iauname'].isin(iaunames_any_vols)]\n",
    "# for DR5, lets again use DR5 predictions if we have them and DR2 if not\n",
    "print(len(dr5_ml_use))\n",
    "\n",
    "dr1_ml_use = dr1_ml_use[~dr1_ml_use['iauname'].isin(dr5_ml_use['iauname'])]\n",
    "dr2_ml_use = dr2_ml_use[~dr2_ml_use['iauname'].isin(dr5_ml_use['iauname'])]\n",
    "print(len(dr1_ml_use), len(dr2_ml_use), len(dr1_dr2_vols))\n",
    "# assert len(dr1_ml_use) + len(dr2_ml_use) + dr5_ml == 314k ish\n",
    "print(len(dr1_ml_use) + len(dr2_ml_use) + len(dr5_ml_use))"
   ]
  },
  {
   "cell_type": "code",
   "execution_count": 10,
   "metadata": {},
   "outputs": [],
   "source": [
    "df = pd.concat([dr5_ml_use, dr2_ml_use, dr1_ml_use])"
   ]
  },
  {
   "cell_type": "code",
   "execution_count": 11,
   "metadata": {},
   "outputs": [],
   "source": [
    "assert not any(df['iauname'].duplicated())"
   ]
  },
  {
   "cell_type": "code",
   "execution_count": 12,
   "metadata": {},
   "outputs": [],
   "source": [
    "df['file_loc'] = df['png_loc'].str.replace('/data/phys-zooniverse/chri5177/galaxy_zoo/decals/', '')\n",
    "del df['png_loc']"
   ]
  },
  {
   "cell_type": "code",
   "execution_count": 13,
   "metadata": {},
   "outputs": [
    {
     "data": {
      "text/plain": [
       "0                     dr5/png/J223/J223253.27-005423.9.png\n",
       "1                     dr5/png/J223/J223445.65-010456.2.png\n",
       "2                     dr5/png/J223/J223515.21-003519.5.png\n",
       "3                     dr5/png/J223/J223402.99+001117.3.png\n",
       "4                     dr5/png/J223/J223710.17-005700.4.png\n",
       "                               ...                        \n",
       "32384    dr1_dr2/png/dr1/standard/J001337.43+000452.1_s...\n",
       "32395    dr1_dr2/png/dr1/standard/J223508.28+011340.5_s...\n",
       "32400    dr1_dr2/png/dr1/standard/J213415.99+004744.7_s...\n",
       "32414    dr1_dr2/png/dr1/standard/J001256.27+005121.3_s...\n",
       "32425    dr1_dr2/png/dr1/standard/J234157.85+001630.4_s...\n",
       "Name: file_loc, Length: 313789, dtype: object"
      ]
     },
     "execution_count": 13,
     "metadata": {},
     "output_type": "execute_result"
    }
   ],
   "source": [
    "df['file_loc']"
   ]
  },
  {
   "cell_type": "code",
   "execution_count": 14,
   "metadata": {},
   "outputs": [
    {
     "data": {
      "text/plain": [
       "array(['iauname', 'smooth-or-featured_smooth_concentration',\n",
       "       'smooth-or-featured_featured-or-disk_concentration',\n",
       "       'smooth-or-featured_artifact_concentration',\n",
       "       'disk-edge-on_yes_concentration', 'disk-edge-on_no_concentration',\n",
       "       'has-spiral-arms_yes_concentration',\n",
       "       'has-spiral-arms_no_concentration', 'bar_strong_concentration',\n",
       "       'bar_weak_concentration', 'bar_no_concentration',\n",
       "       'bulge-size_dominant_concentration',\n",
       "       'bulge-size_large_concentration',\n",
       "       'bulge-size_moderate_concentration',\n",
       "       'bulge-size_small_concentration', 'bulge-size_none_concentration',\n",
       "       'how-rounded_round_concentration',\n",
       "       'how-rounded_in-between_concentration',\n",
       "       'how-rounded_cigar-shaped_concentration',\n",
       "       'edge-on-bulge_boxy_concentration',\n",
       "       'edge-on-bulge_none_concentration',\n",
       "       'edge-on-bulge_rounded_concentration',\n",
       "       'spiral-winding_tight_concentration',\n",
       "       'spiral-winding_medium_concentration',\n",
       "       'spiral-winding_loose_concentration',\n",
       "       'spiral-arm-count_1_concentration',\n",
       "       'spiral-arm-count_2_concentration',\n",
       "       'spiral-arm-count_3_concentration',\n",
       "       'spiral-arm-count_4_concentration',\n",
       "       'spiral-arm-count_more-than-4_concentration',\n",
       "       'spiral-arm-count_cant-tell_concentration',\n",
       "       'merging_none_concentration',\n",
       "       'merging_minor-disturbance_concentration',\n",
       "       'merging_major-disturbance_concentration',\n",
       "       'merging_merger_concentration',\n",
       "       'smooth-or-featured_smooth_fraction',\n",
       "       'smooth-or-featured_featured-or-disk_fraction',\n",
       "       'smooth-or-featured_artifact_fraction',\n",
       "       'disk-edge-on_yes_fraction', 'disk-edge-on_no_fraction',\n",
       "       'has-spiral-arms_yes_fraction', 'has-spiral-arms_no_fraction',\n",
       "       'bar_strong_fraction', 'bar_weak_fraction', 'bar_no_fraction',\n",
       "       'bulge-size_dominant_fraction', 'bulge-size_large_fraction',\n",
       "       'bulge-size_moderate_fraction', 'bulge-size_small_fraction',\n",
       "       'bulge-size_none_fraction', 'how-rounded_round_fraction',\n",
       "       'how-rounded_in-between_fraction',\n",
       "       'how-rounded_cigar-shaped_fraction', 'edge-on-bulge_boxy_fraction',\n",
       "       'edge-on-bulge_none_fraction', 'edge-on-bulge_rounded_fraction',\n",
       "       'spiral-winding_tight_fraction', 'spiral-winding_medium_fraction',\n",
       "       'spiral-winding_loose_fraction', 'spiral-arm-count_1_fraction',\n",
       "       'spiral-arm-count_2_fraction', 'spiral-arm-count_3_fraction',\n",
       "       'spiral-arm-count_4_fraction',\n",
       "       'spiral-arm-count_more-than-4_fraction',\n",
       "       'spiral-arm-count_cant-tell_fraction', 'merging_none_fraction',\n",
       "       'merging_minor-disturbance_fraction',\n",
       "       'merging_major-disturbance_fraction', 'merging_merger_fraction',\n",
       "       'smooth-or-featured_proportion_volunteers_asked',\n",
       "       'disk-edge-on_proportion_volunteers_asked',\n",
       "       'has-spiral-arms_proportion_volunteers_asked',\n",
       "       'bar_proportion_volunteers_asked',\n",
       "       'bulge-size_proportion_volunteers_asked',\n",
       "       'how-rounded_proportion_volunteers_asked',\n",
       "       'edge-on-bulge_proportion_volunteers_asked',\n",
       "       'spiral-winding_proportion_volunteers_asked',\n",
       "       'spiral-arm-count_proportion_volunteers_asked',\n",
       "       'merging_proportion_volunteers_asked', 'file_loc'], dtype=object)"
      ]
     },
     "execution_count": 14,
     "metadata": {},
     "output_type": "execute_result"
    }
   ],
   "source": [
    "df.columns.values"
   ]
  },
  {
   "cell_type": "code",
   "execution_count": 15,
   "metadata": {},
   "outputs": [],
   "source": [
    "df.to_parquet('final_ml_catalog.parquet')\n",
    "df.to_parquet('final_ml_catalog.csv')"
   ]
  },
  {
   "cell_type": "code",
   "execution_count": null,
   "metadata": {},
   "outputs": [],
   "source": []
  },
  {
   "cell_type": "code",
   "execution_count": null,
   "metadata": {},
   "outputs": [],
   "source": []
  },
  {
   "cell_type": "code",
   "execution_count": null,
   "metadata": {},
   "outputs": [],
   "source": []
  },
  {
   "cell_type": "code",
   "execution_count": null,
   "metadata": {},
   "outputs": [],
   "source": []
  },
  {
   "cell_type": "code",
   "execution_count": null,
   "metadata": {},
   "outputs": [],
   "source": []
  },
  {
   "cell_type": "code",
   "execution_count": null,
   "metadata": {},
   "outputs": [],
   "source": []
  },
  {
   "cell_type": "code",
   "execution_count": null,
   "metadata": {},
   "outputs": [],
   "source": []
  },
  {
   "cell_type": "code",
   "execution_count": null,
   "metadata": {},
   "outputs": [],
   "source": []
  }
 ],
 "metadata": {
  "kernelspec": {
   "display_name": "Python 3",
   "language": "python",
   "name": "python3"
  },
  "language_info": {
   "codemirror_mode": {
    "name": "ipython",
    "version": 3
   },
   "file_extension": ".py",
   "mimetype": "text/x-python",
   "name": "python",
   "nbconvert_exporter": "python",
   "pygments_lexer": "ipython3",
   "version": "3.7.6"
  }
 },
 "nbformat": 4,
 "nbformat_minor": 4
}
