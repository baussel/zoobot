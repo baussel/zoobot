{
 "cells": [
  {
   "cell_type": "code",
   "execution_count": 1,
   "metadata": {},
   "outputs": [],
   "source": [
    "%load_ext autoreload\n",
    "%autoreload 2\n",
    "%matplotlib inline"
   ]
  },
  {
   "cell_type": "code",
   "execution_count": 2,
   "metadata": {},
   "outputs": [],
   "source": [
    "import matplotlib"
   ]
  },
  {
   "cell_type": "code",
   "execution_count": 3,
   "metadata": {},
   "outputs": [],
   "source": [
    "import os\n",
    "import logging\n",
    "import argparse\n",
    "import glob\n",
    "import json\n",
    "from collections import Counter\n",
    "\n",
    "import numpy as np\n",
    "from matplotlib.ticker import StrMethodFormatter\n",
    "\n",
    "import matplotlib.pyplot as plt\n",
    "import matplotlib.gridspec as gridspec\n",
    "import seaborn as sns\n",
    "from sklearn import metrics\n",
    "import tensorflow as tf\n",
    "import pandas as pd\n",
    "from astropy.table import Table  # for NSA\n",
    "from astropy import units as u\n",
    "from sklearn.metrics import confusion_matrix, roc_curve\n",
    "from PIL import Image\n",
    "from scipy.stats import binom\n",
    "from IPython.display import display, Markdown\n",
    "\n",
    "from sklearn.metrics import accuracy_score, mean_squared_error, mean_absolute_error\n",
    "\n",
    "from shared_astro_utils import astropy_utils, matching_utils\n",
    "from zoobot.estimators import make_predictions, bayesian_estimator_funcs\n",
    "from zoobot.tfrecord import read_tfrecord\n",
    "from zoobot.uncertainty import discrete_coverage\n",
    "from zoobot.estimators import input_utils, losses\n",
    "from zoobot.tfrecord import catalog_to_tfrecord\n",
    "from zoobot.active_learning import metrics, simulated_metrics, acquisition_utils, check_uncertainty, simulation_timeline, run_estimator_config\n",
    "from zoobot import label_metadata\n",
    "from zoobot.estimators import losses, dirichlet_stats\n"
   ]
  },
  {
   "cell_type": "code",
   "execution_count": 4,
   "metadata": {},
   "outputs": [],
   "source": [
    "os.chdir('/home/walml/repos/zoobot')"
   ]
  },
  {
   "cell_type": "code",
   "execution_count": 5,
   "metadata": {},
   "outputs": [],
   "source": [
    "gpus = tf.config.experimental.list_physical_devices('GPU')\n",
    "if gpus:\n",
    "    for gpu in gpus:\n",
    "        tf.config.experimental.set_memory_growth(gpu, True)\n"
   ]
  },
  {
   "cell_type": "code",
   "execution_count": 6,
   "metadata": {},
   "outputs": [],
   "source": [
    "# catalog_loc = 'data/gz2/gz2_master_catalog.csv'\n",
    "# catalog = pd.read_csv(catalog_loc, dtype={'subject_id': str})  # original catalog\n",
    "# catalog['file_loc'] = catalog['local_png_loc'].apply(lambda x: '/media/walml/beta/galaxy_zoo/gz2' + x[32:])\n",
    "# catalog['id_str'] = catalog['dr7objid'].apply(lambda x: 'dr7objid_' + str(x))\n",
    "\n",
    "\n",
    "catalog_loc = 'data/decals/decals_master_catalog.csv'\n",
    "catalog = pd.read_csv(catalog_loc, dtype={'subject_id': str})  # original catalog\n",
    "# catalog['file_loc'] = catalog['local_png_loc'].apply(lambda x: '/media/walml/beta/gz2' + x[32:])\n",
    "catalog['file_loc'] = catalog['local_png_loc'].apply(lambda x: '/media/walml/beta/decals' + x.replace('/data/phys-zooniverse/chri5177', ''))\n",
    "# retired = catalog[catalog['smooth-or-featured_total-votes'] > 35]\n"
   ]
  },
  {
   "cell_type": "code",
   "execution_count": 7,
   "metadata": {},
   "outputs": [
    {
     "name": "stdout",
     "output_type": "stream",
     "text": [
      "{smooth-or-featured, indices 0 to 2, asked after None: (0, 2), disk-edge-on, indices 3 to 4, asked after smooth-or-featured_featured-or-disk, index 1: (3, 4), has-spiral-arms, indices 5 to 6, asked after disk-edge-on_no, index 4: (5, 6), bar, indices 7 to 9, asked after disk-edge-on_no, index 4: (7, 9), bulge-size, indices 10 to 14, asked after disk-edge-on_no, index 4: (10, 14), how-rounded, indices 15 to 17, asked after smooth-or-featured_smooth, index 0: (15, 17), edge-on-bulge, indices 18 to 20, asked after disk-edge-on_yes, index 3: (18, 20), spiral-winding, indices 21 to 23, asked after has-spiral-arms_yes, index 5: (21, 23), spiral-arm-count, indices 24 to 29, asked after has-spiral-arms_yes, index 5: (24, 29), merging, indices 30 to 33, asked after None: (30, 33)}\n"
     ]
    }
   ],
   "source": [
    "# label_cols = label_metadata.gz2_label_cols\n",
    "# questions = label_metadata.gz2_questions\n",
    "\n",
    "# label_cols = label_metadata.gz2_partial_label_cols\n",
    "# questions = label_metadata.gz2_partial_questions\n",
    "# version = 'gz2'\n",
    "\n",
    "\n",
    "label_cols = label_metadata.decals_label_cols\n",
    "questions = label_metadata.decals_questions\n",
    "version = 'decals'\n",
    "\n",
    "schema = losses.Schema(label_cols, questions, version=version)"
   ]
  },
  {
   "cell_type": "code",
   "execution_count": 8,
   "metadata": {},
   "outputs": [],
   "source": [
    "concentration_cols = [col + '_concentration' for col in label_cols]\n",
    "concentration_mean_cols = [col + '_concentration_mean' for col in label_cols]\n",
    "\n",
    "# for it in it_list:\n",
    "#     for col in concentration_cols:\n",
    "#         it[col] = it[col].apply(lambda x: np.array(json.loads(x)))"
   ]
  },
  {
   "cell_type": "code",
   "execution_count": 9,
   "metadata": {},
   "outputs": [],
   "source": [
    "m = 0\n",
    "n_models = 1  # important\n",
    "\n",
    "# optimise spiral, predict 4q\n",
    "# active_locs = [f'temp/gz2_1q_conc_active_it2_m{n}.csv' for n in range(n_models)]\n",
    "# baseline_locs = [f'temp/gz2_1q_conc_baseline_it2_m{n}.csv' for n in range(n_models)]\n",
    "\n",
    "\n",
    "# optimise smooth/feat, predict 1q\n",
    "\n",
    "# active_locs = [f'temp/gz2_1q_1active_it0_m{n}.csv' for n in range(n_models)]\n",
    "# baseline_locs = [f'temp/gz2_1q_1baseline_it0_m{n}.csv' for n in range(n_models)]\n",
    "\n",
    "# active_locs = [f'temp/gz2_1q_1active_it1_m{n}.csv' for n in range(n_models)]\n",
    "# baseline_locs = [f'temp/gz2_1q_1baseline_it1_m{n}.csv' for n in range(n_models)]\n",
    "\n",
    "# active_locs = [f'temp/gz2_1q_1active_it2_m{n}.csv' for n in range(n_models)]\n",
    "# baseline_locs = [f'temp/gz2_1q_1baseline_it2_m{n}.csv' for n in range(n_models)]\n",
    "\n",
    "# active_locs = [f'temp/gz2_1q_1active_it2_m{n}_log.csv' for n in range(n_models)]\n",
    "# baseline_locs = [f'temp/gz2_1q_1baseline_it2_m{n}_log.csv' for n in range(n_models)]\n",
    "\n",
    "# baseline_locs = [f'temp/gz2_1q_1baseline_it1_m{n}_log.csv' for n in range(n_models)]\n",
    "# active_locs = [f'temp/gz2_1q_1active_best_it1_m{n}.csv' for n in range(n_models)]\n",
    "# active_dfs = [pd.read_csv(loc) for loc in active_locs]\n",
    "# baseline_dfs = [pd.read_csv(loc) for loc in baseline_locs]\n",
    "\n",
    "df_a = pd.read_csv('results/decals_dr_full_m0_eval_predictions.csv')  # .1-20\n",
    "# df_a = pd.read_csv('results/decals_dr_full_reparam_eval_predictions.csv')\n",
    "df_b = pd.read_csv('results/decals_dr_full_1_to_100_eval_predictions.csv')  # better at all questions than .1-20, in this case\n",
    "\n",
    "active_dfs = [df_a]\n",
    "baseline_dfs = [df_b]\n",
    "\n"
   ]
  },
  {
   "cell_type": "code",
   "execution_count": null,
   "metadata": {},
   "outputs": [],
   "source": []
  },
  {
   "cell_type": "code",
   "execution_count": 10,
   "metadata": {},
   "outputs": [],
   "source": [
    "active_concentrations = [dirichlet_stats.load_all_concentrations(df, concentration_cols) for df in active_dfs]\n",
    "baseline_concentrations = [dirichlet_stats.load_all_concentrations(df, concentration_cols) for df in baseline_dfs]"
   ]
  },
  {
   "cell_type": "code",
   "execution_count": 11,
   "metadata": {},
   "outputs": [],
   "source": [
    "answer_cols = [a.text for a in schema.answers]\n",
    "labels = active_dfs[0][answer_cols].values  # same for all"
   ]
  },
  {
   "cell_type": "code",
   "execution_count": 12,
   "metadata": {},
   "outputs": [
    {
     "data": {
      "text/plain": [
       "(49700, 34)"
      ]
     },
     "execution_count": 12,
     "metadata": {},
     "output_type": "execute_result"
    }
   ],
   "source": [
    "labels.shape"
   ]
  },
  {
   "cell_type": "code",
   "execution_count": 13,
   "metadata": {},
   "outputs": [
    {
     "data": {
      "text/plain": [
       "(49700, 34, 5)"
      ]
     },
     "execution_count": 13,
     "metadata": {},
     "output_type": "execute_result"
    }
   ],
   "source": [
    "active_concentrations[0].shape"
   ]
  },
  {
   "cell_type": "code",
   "execution_count": 14,
   "metadata": {},
   "outputs": [
    {
     "data": {
      "text/plain": [
       "(49700, 34, 5)"
      ]
     },
     "execution_count": 14,
     "metadata": {},
     "output_type": "execute_result"
    }
   ],
   "source": [
    "active_concentrations_combined = np.concatenate(active_concentrations, axis=-1)\n",
    "active_concentrations_combined.shape"
   ]
  },
  {
   "cell_type": "code",
   "execution_count": 15,
   "metadata": {},
   "outputs": [
    {
     "name": "stdout",
     "output_type": "stream",
     "text": [
      "[('smooth-or-featured', 2.4208422), ('disk-edge-on', 0.5823309), ('has-spiral-arms', 0.62160194), ('bar', 1.0855035), ('bulge-size', 1.7106684), ('how-rounded', 1.3781377), ('edge-on-bulge', 0.41242525), ('spiral-winding', 0.8165927), ('spiral-arm-count', 1.1861445), ('merging', 2.9442751)]\n"
     ]
    }
   ],
   "source": [
    "for model_n in range(n_models):\n",
    "    single_loss = dirichlet_stats.dirichlet_mixture_loss(labels, active_concentrations[model_n], schema.question_index_groups)\n",
    "    print(list(zip(questions, single_loss.mean(axis=0))))"
   ]
  },
  {
   "cell_type": "code",
   "execution_count": 16,
   "metadata": {},
   "outputs": [
    {
     "data": {
      "text/plain": [
       "[('smooth-or-featured', 2.4208422),\n",
       " ('disk-edge-on', 0.5823309),\n",
       " ('has-spiral-arms', 0.62160194),\n",
       " ('bar', 1.0855035),\n",
       " ('bulge-size', 1.7106684),\n",
       " ('how-rounded', 1.3781377),\n",
       " ('edge-on-bulge', 0.41242525),\n",
       " ('spiral-winding', 0.8165927),\n",
       " ('spiral-arm-count', 1.1861445),\n",
       " ('merging', 2.9442751)]"
      ]
     },
     "execution_count": 16,
     "metadata": {},
     "output_type": "execute_result"
    }
   ],
   "source": [
    "\n",
    "active_losses = dirichlet_stats.dirichlet_mixture_loss(labels, active_concentrations_combined, schema.question_index_groups)\n",
    "list(zip(questions, active_losses.mean(axis=0)))"
   ]
  },
  {
   "cell_type": "code",
   "execution_count": null,
   "metadata": {},
   "outputs": [],
   "source": []
  },
  {
   "cell_type": "code",
   "execution_count": 17,
   "metadata": {},
   "outputs": [],
   "source": [
    "baseline_concentrations_combined = np.concatenate(baseline_concentrations, axis=-1)"
   ]
  },
  {
   "cell_type": "code",
   "execution_count": 18,
   "metadata": {},
   "outputs": [
    {
     "name": "stdout",
     "output_type": "stream",
     "text": [
      "[('smooth-or-featured', 2.3931053), ('disk-edge-on', 0.580685), ('has-spiral-arms', 0.6120071), ('bar', 1.0784818), ('bulge-size', 1.706477), ('how-rounded', 1.3837879), ('edge-on-bulge', 0.4107455), ('spiral-winding', 0.80784), ('spiral-arm-count', 1.1735061), ('merging', 2.892194)]\n"
     ]
    }
   ],
   "source": [
    "for model_n in range(n_models):\n",
    "    baseline_single_loss = dirichlet_stats.dirichlet_mixture_loss(labels, baseline_concentrations[model_n], schema.question_index_groups)\n",
    "    print(list(zip(questions, baseline_single_loss.mean(axis=0))))"
   ]
  },
  {
   "cell_type": "code",
   "execution_count": 19,
   "metadata": {},
   "outputs": [
    {
     "data": {
      "text/plain": [
       "[('smooth-or-featured', 2.3931053),\n",
       " ('disk-edge-on', 0.580685),\n",
       " ('has-spiral-arms', 0.6120071),\n",
       " ('bar', 1.0784818),\n",
       " ('bulge-size', 1.706477),\n",
       " ('how-rounded', 1.3837879),\n",
       " ('edge-on-bulge', 0.4107455),\n",
       " ('spiral-winding', 0.80784),\n",
       " ('spiral-arm-count', 1.1735061),\n",
       " ('merging', 2.892194)]"
      ]
     },
     "execution_count": 19,
     "metadata": {},
     "output_type": "execute_result"
    }
   ],
   "source": [
    "\n",
    "baseline_losses = dirichlet_stats.dirichlet_mixture_loss(labels, baseline_concentrations_combined, schema.question_index_groups)\n",
    "list(zip(questions, baseline_losses.mean(axis=0)))"
   ]
  },
  {
   "cell_type": "code",
   "execution_count": 20,
   "metadata": {},
   "outputs": [],
   "source": [
    "assert len(active_losses) == len(baseline_losses)"
   ]
  },
  {
   "cell_type": "code",
   "execution_count": 21,
   "metadata": {},
   "outputs": [],
   "source": [
    "active_like = np.exp(-active_losses)  # inverse of neg log likelihood = \n",
    "baseline_like = np.exp(-baseline_losses)"
   ]
  },
  {
   "cell_type": "code",
   "execution_count": 22,
   "metadata": {},
   "outputs": [
    {
     "data": {
      "text/plain": [
       "<matplotlib.legend.Legend at 0x7f1d2317aa50>"
      ]
     },
     "execution_count": 22,
     "metadata": {},
     "output_type": "execute_result"
    },
    {
     "data": {
      "image/png": "[encoded data removed]",
      "text/plain": [
       "<Figure size 432x288 with 1 Axes>"
      ]
     },
     "metadata": {
      "needs_background": "light"
     },
     "output_type": "display_data"
    }
   ],
   "source": [
    "plt.hist(active_losses[:, 0], bins=30, alpha=.5, range=(0., 8.), label='active')\n",
    "plt.hist(baseline_losses[:, 0], bins=30, alpha=.5, range=(0., 8.), label='baseline')\n",
    "plt.legend()"
   ]
  },
  {
   "cell_type": "code",
   "execution_count": 23,
   "metadata": {},
   "outputs": [
    {
     "data": {
      "text/plain": [
       "[<matplotlib.lines.Line2D at 0x7f1cf99fc450>]"
      ]
     },
     "execution_count": 23,
     "metadata": {},
     "output_type": "execute_result"
    },
    {
     "data": {
      "image/png": "[encoded data removed]",
      "text/plain": [
       "<Figure size 432x288 with 1 Axes>"
      ]
     },
     "metadata": {
      "needs_background": "light"
     },
     "output_type": "display_data"
    }
   ],
   "source": [
    "plt.scatter(baseline_losses[:, 0], active_losses[:, 0], alpha=.1)\n",
    "plt.plot([0., 10], [0., 10.], color='r')"
   ]
  },
  {
   "cell_type": "code",
   "execution_count": 24,
   "metadata": {},
   "outputs": [
    {
     "data": {
      "text/plain": [
       "(49700, 10)"
      ]
     },
     "execution_count": 24,
     "metadata": {},
     "output_type": "execute_result"
    }
   ],
   "source": [
    "baseline_losses.shape"
   ]
  },
  {
   "cell_type": "code",
   "execution_count": 25,
   "metadata": {},
   "outputs": [
    {
     "data": {
      "text/plain": [
       "[<matplotlib.lines.Line2D at 0x7f1d23108810>]"
      ]
     },
     "execution_count": 25,
     "metadata": {},
     "output_type": "execute_result"
    },
    {
     "data": {
      "image/png": "[encoded data removed]",
      "text/plain": [
       "<Figure size 432x288 with 1 Axes>"
      ]
     },
     "metadata": {
      "needs_background": "light"
     },
     "output_type": "display_data"
    }
   ],
   "source": [
    "question_n = 0\n",
    "plt.scatter(baseline_losses[:, question_n], active_losses[:, question_n], alpha=.1)\n",
    "plt.plot([0., 10], [0., 10.], color='r')"
   ]
  },
  {
   "cell_type": "code",
   "execution_count": 26,
   "metadata": {},
   "outputs": [
    {
     "data": {
      "text/plain": [
       "(0.0, 0.5)"
      ]
     },
     "execution_count": 26,
     "metadata": {},
     "output_type": "execute_result"
    },
    {
     "data": {
      "image/png": "[encoded data removed]",
      "text/plain": [
       "<Figure size 432x288 with 1 Axes>"
      ]
     },
     "metadata": {
      "needs_background": "light"
     },
     "output_type": "display_data"
    }
   ],
   "source": [
    "question_n = 0\n",
    "plt.scatter(baseline_like[:, question_n], active_like[:, question_n], alpha=.02)\n",
    "plt.xlabel('Baseline likelihood')\n",
    "plt.ylabel('Active likelihood')\n",
    "plt.plot([0., 1], [0., 1.], color='r')\n",
    "plt.xlim(0., .5)\n",
    "plt.ylim((0., .5))"
   ]
  },
  {
   "cell_type": "code",
   "execution_count": 27,
   "metadata": {},
   "outputs": [
    {
     "data": {
      "text/plain": [
       "(0.0, 0.3)"
      ]
     },
     "execution_count": 27,
     "metadata": {},
     "output_type": "execute_result"
    },
    {
     "data": {
      "image/png": "[encoded data removed]",
      "text/plain": [
       "<Figure size 432x288 with 1 Axes>"
      ]
     },
     "metadata": {
      "needs_background": "light"
     },
     "output_type": "display_data"
    }
   ],
   "source": [
    "question_n = 0\n",
    "plt.hist2d(baseline_like[:, question_n], active_like[:, question_n], bins=(120, 120))\n",
    "plt.xlabel('Baseline likelihood')\n",
    "plt.ylabel('Active likelihood')\n",
    "plt.plot([0., 1], [0., 1.], color='r')\n",
    "plt.xlim(0., .3)\n",
    "plt.ylim((0., .3))"
   ]
  },
  {
   "cell_type": "code",
   "execution_count": null,
   "metadata": {},
   "outputs": [],
   "source": []
  },
  {
   "cell_type": "code",
   "execution_count": 28,
   "metadata": {},
   "outputs": [
    {
     "data": {
      "text/plain": [
       "<matplotlib.lines.Line2D at 0x7f1d23a00ad0>"
      ]
     },
     "execution_count": 28,
     "metadata": {},
     "output_type": "execute_result"
    },
    {
     "data": {
      "image/png": "[encoded data removed]",
      "text/plain": [
       "<Figure size 432x288 with 1 Axes>"
      ]
     },
     "metadata": {
      "needs_background": "light"
     },
     "output_type": "display_data"
    }
   ],
   "source": [
    "question_n = 0\n",
    "plt.scatter(np.arange(len(baseline_losses)), active_losses[:, question_n] - baseline_losses[:, question_n], alpha=.1)\n",
    "plt.axhline(0., color='r')"
   ]
  },
  {
   "cell_type": "code",
   "execution_count": 29,
   "metadata": {},
   "outputs": [
    {
     "data": {
      "text/plain": [
       "<matplotlib.lines.Line2D at 0x7f1d2389cf10>"
      ]
     },
     "execution_count": 29,
     "metadata": {},
     "output_type": "execute_result"
    },
    {
     "data": {
      "image/png": "[encoded data removed]",
      "text/plain": [
       "<Figure size 432x288 with 1 Axes>"
      ]
     },
     "metadata": {
      "needs_background": "light"
     },
     "output_type": "display_data"
    }
   ],
   "source": [
    "question_n = 0\n",
    "_ = plt.hist(active_losses[:, question_n] - baseline_losses[:, question_n], range=(-1, 1), bins=50)\n",
    "plt.xlim(-1, 1)\n",
    "plt.axvline(0., color='r')"
   ]
  },
  {
   "cell_type": "code",
   "execution_count": 30,
   "metadata": {},
   "outputs": [
    {
     "name": "stdout",
     "output_type": "stream",
     "text": [
      "0.0277466\n"
     ]
    }
   ],
   "source": [
    "for question_n in range(1):\n",
    "    print((active_losses[:, question_n] - baseline_losses[:, question_n]).mean())"
   ]
  },
  {
   "cell_type": "code",
   "execution_count": null,
   "metadata": {},
   "outputs": [],
   "source": []
  },
  {
   "cell_type": "code",
   "execution_count": 31,
   "metadata": {},
   "outputs": [
    {
     "name": "stdout",
     "output_type": "stream",
     "text": [
      "0 0.0277466\n",
      "2 0.021593425\n",
      "5 0.017561112\n",
      "10 0.013909197\n",
      "20 0.013032243\n",
      "30 0.015426359\n",
      "40 0.016858043\n"
     ]
    }
   ],
   "source": [
    "question_n = 0\n",
    "delta_loss = active_losses[:, question_n] - baseline_losses[:, question_n]\n",
    "for window in [0, 2, 5, 10, 20, 30, 40]:\n",
    "    delta_loss_clipped = np.clip(delta_loss, np.percentile(delta_loss, window), np.percentile(delta_loss, 100 - window))\n",
    "    print(window, delta_loss_clipped.mean()) \n",
    "# negative delta loss = baseline bigger loss than active = active better, and vica versa\n",
    "# possibly active learning helps more with the hardest galaxies, in exchange for some of the easiest galaxies?\n",
    "# no, I'm being silly, it's DELTA loss..."
   ]
  },
  {
   "cell_type": "code",
   "execution_count": 32,
   "metadata": {},
   "outputs": [
    {
     "name": "stdout",
     "output_type": "stream",
     "text": [
      "0 0.0277466\n",
      "2 0.021593425\n",
      "5 0.017561112\n",
      "10 0.013909197\n",
      "20 0.013032243\n",
      "30 0.015426359\n",
      "40 0.016858043\n"
     ]
    }
   ],
   "source": [
    "\n",
    "for window in [0, 2, 5, 10, 20, 30, 40]:\n",
    "    delta_loss_clipped = np.clip(delta_loss, np.percentile(delta_loss, window), np.percentile(delta_loss, 100 - window))\n",
    "    print(window, delta_loss_clipped.mean()) \n",
    "# negative delta loss = baseline bigger loss than active = active better, and vica versa\n",
    "# possibly active learning helps more with the hardest galaxies, in exchange for some of the easiest galaxies?\n",
    "# no, I'm being silly, it's DELTA loss..."
   ]
  },
  {
   "cell_type": "code",
   "execution_count": 33,
   "metadata": {},
   "outputs": [],
   "source": [
    "question_n = 0"
   ]
  },
  {
   "cell_type": "code",
   "execution_count": 34,
   "metadata": {},
   "outputs": [
    {
     "name": "stdout",
     "output_type": "stream",
     "text": [
      "0 10\n",
      "0 10 4970 0.0825794 0.35294117647058826\n",
      "10 20\n",
      "10 20 4970 0.050987583 0.5294117647058824\n",
      "20 30\n",
      "20 30 4970 0.026222315 0.9117647058823529\n",
      "30 40\n",
      "30 40 4970 0.020161854 0.8823529411764706\n",
      "40 50\n",
      "40 50 4970 0.013343639 1.3529411764705883\n",
      "50 60\n",
      "50 60 4970 0.0027974274 0.5882352941176471\n",
      "60 70\n",
      "60 70 4970 -0.021607058 1.411764705882353\n",
      "70 80\n",
      "70 80 4970 -0.001891026 0.8235294117647058\n",
      "80 90\n",
      "80 90 4970 -0.022334235 7.970588235294118\n",
      "90 100\n",
      "90 100 4969 0.12378937 8.088235294117647\n"
     ]
    }
   ],
   "source": [
    "results = []\n",
    "mean_loss = (active_losses[:, question_n] + baseline_losses[:, question_n]) / 2\n",
    "delta_loss = active_losses[:, question_n] - baseline_losses[:, question_n]\n",
    "bin_width = 10\n",
    "for min_pc in np.arange(0, 100, bin_width):\n",
    "    max_pc = min_pc + bin_width\n",
    "    print(min_pc, max_pc)\n",
    "    min_val, max_val = np.percentile(mean_loss, min_pc), np.percentile(mean_loss, max_pc)\n",
    "    selection = (mean_loss < max_val) & (mean_loss >= min_val)\n",
    "    \n",
    "    valid_delta = delta_loss[selection]\n",
    "    print(min_pc, max_pc, len(valid_delta), valid_delta.mean(), labels[selection][question_n].mean()) \n",
    "    results.append((min_pc, max_pc, valid_delta.mean(), labels[selection][question_n].mean(), labels[selection][question_n]))\n"
   ]
  },
  {
   "cell_type": "code",
   "execution_count": 35,
   "metadata": {},
   "outputs": [
    {
     "data": {
      "text/plain": [
       "<matplotlib.lines.Line2D at 0x7f1d23694b10>"
      ]
     },
     "execution_count": 35,
     "metadata": {},
     "output_type": "execute_result"
    },
    {
     "data": {
      "image/png": "[encoded data removed]",
      "text/plain": [
       "<Figure size 432x288 with 1 Axes>"
      ]
     },
     "metadata": {
      "needs_background": "light"
     },
     "output_type": "display_data"
    }
   ],
   "source": [
    "x = [r[0] for r in results]\n",
    "y = [r[2] for r in results]\n",
    "plt.plot(x, y, marker='.')\n",
    "plt.xlabel('<- Lower loss (easy)   Higher loss (hard) ->')\n",
    "plt.ylabel('<- active better   baseline better ->')\n",
    "plt.axhline(0., color='grey', alpha=.8, linestyle='--')\n",
    "plt.axhline(np.mean([r[2] for r in results]), color='g', alpha=.5, linestyle='--')"
   ]
  },
  {
   "cell_type": "code",
   "execution_count": 36,
   "metadata": {},
   "outputs": [
    {
     "name": "stdout",
     "output_type": "stream",
     "text": [
      "0 5\n",
      "0 5 2485 -0.00028094059 10.294117647058824\n",
      "5 10\n",
      "5 10 2485 -2.1172307e-05 8.088235294117647\n",
      "10 15\n",
      "10 15 2485 0.00032184235 0.3235294117647059\n",
      "15 20\n",
      "15 20 2485 0.0005425977 7.970588235294118\n",
      "20 25\n",
      "20 25 2485 0.00023155875 0.8235294117647058\n",
      "25 30\n",
      "25 30 2485 -5.9839094e-05 2.4411764705882355\n",
      "30 35\n",
      "30 35 2485 0.0013463243 1.411764705882353\n",
      "35 40\n",
      "35 40 2485 0.0013033091 0.6176470588235294\n",
      "40 45\n",
      "40 45 2485 0.0006889218 0.47058823529411764\n",
      "45 50\n",
      "45 50 2485 -0.0016650541 0.5882352941176471\n",
      "50 55\n",
      "50 55 2485 -0.00227248 1.3529411764705883\n",
      "55 60\n",
      "55 60 2485 -0.0025884493 0.5294117647058824\n",
      "60 65\n",
      "60 65 2485 -0.0033521364 0.6470588235294118\n",
      "65 70\n",
      "65 70 2485 -0.005151978 0.8823529411764706\n",
      "70 75\n",
      "70 75 2485 -0.0057332893 1.2941176470588236\n",
      "75 80\n",
      "75 80 2485 -0.008744115 0.9117647058823529\n",
      "80 85\n",
      "80 85 2485 -0.013000533 0.5294117647058824\n",
      "85 90\n",
      "85 90 2485 -0.022934314 0.35294117647058826\n",
      "90 95\n",
      "90 95 2485 -0.040194925 0.6176470588235294\n",
      "95 100\n",
      "95 100 2484 -0.04828516 0.35294117647058826\n"
     ]
    },
    {
     "data": {
      "text/plain": [
       "<matplotlib.lines.Line2D at 0x7f1cf98b5350>"
      ]
     },
     "execution_count": 36,
     "metadata": {},
     "output_type": "execute_result"
    },
    {
     "data": {
      "image/png": "[encoded data removed]",
      "text/plain": [
       "<Figure size 432x288 with 1 Axes>"
      ]
     },
     "metadata": {
      "needs_background": "light"
     },
     "output_type": "display_data"
    }
   ],
   "source": [
    "results = []\n",
    "mean_like = (active_like[:, question_n] + baseline_like[:, question_n]) / 2\n",
    "delta_like = active_like[:, question_n] - baseline_like[:, question_n]\n",
    "bin_width = 5\n",
    "for min_pc in np.arange(0, 100, bin_width):\n",
    "    max_pc = min_pc + bin_width\n",
    "    print(min_pc, max_pc)\n",
    "    min_val, max_val = np.percentile(mean_like, min_pc), np.percentile(mean_like, max_pc)\n",
    "    selection = (mean_like < max_val) & (mean_like >= min_val)\n",
    "    \n",
    "    valid_delta = delta_like[selection]\n",
    "    print(min_pc, max_pc, len(valid_delta), valid_delta.mean(), labels[selection][question_n].mean()) \n",
    "    results.append((min_pc, max_pc, valid_delta.mean(), labels[selection][question_n].mean(), labels[selection][question_n]))\n",
    "\n",
    "x = [r[0] for r in results]\n",
    "y = [r[2] for r in results]\n",
    "plt.plot(x, y, marker='.')\n",
    "plt.xlabel('<- Lower like (hard)   Higher like (easy) ->')\n",
    "plt.ylabel('<- baseline better   active better ->')\n",
    "plt.axhline(0., color='grey', alpha=.8, linestyle='--')\n",
    "plt.axhline(np.mean([r[2] for r in results]), color='g', alpha=.5, linestyle='--')"
   ]
  },
  {
   "cell_type": "code",
   "execution_count": 37,
   "metadata": {},
   "outputs": [
    {
     "name": "stdout",
     "output_type": "stream",
     "text": [
      "0.0 0.0\n",
      "0.0\n"
     ]
    },
    {
     "name": "stderr",
     "output_type": "stream",
     "text": [
      "/home/walml/anaconda3/envs/zoobot/lib/python3.7/site-packages/ipykernel_launcher.py:16: RuntimeWarning: Mean of empty slice.\n",
      "  app.launch_new_instance()\n",
      "/home/walml/anaconda3/envs/zoobot/lib/python3.7/site-packages/numpy/core/_methods.py:161: RuntimeWarning: invalid value encountered in true_divide\n",
      "  ret = ret.dtype.type(ret / rcount)\n"
     ]
    },
    {
     "ename": "IndexError",
     "evalue": "index 0 is out of bounds for axis 0 with size 0",
     "output_type": "error",
     "traceback": [
      "\u001b[0;31m---------------------------------------------------------------------------\u001b[0m",
      "\u001b[0;31mIndexError\u001b[0m                                Traceback (most recent call last)",
      "\u001b[0;32m<ipython-input-37-72390e4e4bd2>\u001b[0m in \u001b[0;36m<module>\u001b[0;34m\u001b[0m\n\u001b[1;32m     14\u001b[0m     \u001b[0mvalid_delta\u001b[0m \u001b[0;34m=\u001b[0m \u001b[0mdelta_like\u001b[0m\u001b[0;34m[\u001b[0m\u001b[0mselection\u001b[0m\u001b[0;34m]\u001b[0m\u001b[0;34m\u001b[0m\u001b[0;34m\u001b[0m\u001b[0m\n\u001b[1;32m     15\u001b[0m \u001b[0;31m#     print(min_pc, max_pc, len(valid_delta), valid_delta.mean(), labels[selection][question_n].mean())\u001b[0m\u001b[0;34m\u001b[0m\u001b[0;34m\u001b[0m\u001b[0;34m\u001b[0m\u001b[0m\n\u001b[0;32m---> 16\u001b[0;31m     \u001b[0mresults\u001b[0m\u001b[0;34m.\u001b[0m\u001b[0mappend\u001b[0m\u001b[0;34m(\u001b[0m\u001b[0;34m(\u001b[0m\u001b[0mmin_pc\u001b[0m\u001b[0;34m,\u001b[0m \u001b[0mmax_pc\u001b[0m\u001b[0;34m,\u001b[0m \u001b[0mvalid_delta\u001b[0m\u001b[0;34m.\u001b[0m\u001b[0mmean\u001b[0m\u001b[0;34m(\u001b[0m\u001b[0;34m)\u001b[0m\u001b[0;34m,\u001b[0m \u001b[0mlabels\u001b[0m\u001b[0;34m[\u001b[0m\u001b[0mselection\u001b[0m\u001b[0;34m]\u001b[0m\u001b[0;34m[\u001b[0m\u001b[0mquestion_n\u001b[0m\u001b[0;34m]\u001b[0m\u001b[0;34m.\u001b[0m\u001b[0mmean\u001b[0m\u001b[0;34m(\u001b[0m\u001b[0;34m)\u001b[0m\u001b[0;34m,\u001b[0m \u001b[0mlabels\u001b[0m\u001b[0;34m[\u001b[0m\u001b[0mselection\u001b[0m\u001b[0;34m]\u001b[0m\u001b[0;34m[\u001b[0m\u001b[0mquestion_n\u001b[0m\u001b[0;34m]\u001b[0m\u001b[0;34m)\u001b[0m\u001b[0;34m)\u001b[0m\u001b[0;34m\u001b[0m\u001b[0;34m\u001b[0m\u001b[0m\n\u001b[0m\u001b[1;32m     17\u001b[0m \u001b[0;34m\u001b[0m\u001b[0m\n\u001b[1;32m     18\u001b[0m \u001b[0mx\u001b[0m \u001b[0;34m=\u001b[0m \u001b[0;34m[\u001b[0m\u001b[0mr\u001b[0m\u001b[0;34m[\u001b[0m\u001b[0;36m0\u001b[0m\u001b[0;34m]\u001b[0m \u001b[0;32mfor\u001b[0m \u001b[0mr\u001b[0m \u001b[0;32min\u001b[0m \u001b[0mresults\u001b[0m\u001b[0;34m]\u001b[0m\u001b[0;34m\u001b[0m\u001b[0;34m\u001b[0m\u001b[0m\n",
      "\u001b[0;31mIndexError\u001b[0m: index 0 is out of bounds for axis 0 with size 0"
     ]
    }
   ],
   "source": [
    "\n",
    "results = []\n",
    "mean_like = (active_like[:, question_n] + baseline_like[:, question_n]) / 2\n",
    "delta_like = active_like[:, question_n] - baseline_like[:, question_n]\n",
    "votes = active_dfs[0]['smooth-or-featured_featured-or-disk'].values  # FEATURED votes\n",
    "\n",
    "bin_width = 10\n",
    "for min_pc in np.arange(0, 100, bin_width):\n",
    "    max_pc = min_pc + bin_width\n",
    "    min_val, max_val = np.percentile(votes, min_pc), np.percentile(votes, max_pc)\n",
    "    selection = (votes < max_val) & (votes >= min_val)\n",
    "    print(min_val, max_val)\n",
    "    print(selection.mean())\n",
    "    \n",
    "    valid_delta = delta_like[selection]\n",
    "#     print(min_pc, max_pc, len(valid_delta), valid_delta.mean(), labels[selection][question_n].mean()) \n",
    "    results.append((min_pc, max_pc, valid_delta.mean(), labels[selection][question_n].mean(), labels[selection][question_n]))\n",
    "\n",
    "x = [r[0] for r in results]\n",
    "y = [r[2] for r in results]\n",
    "plt.plot(x, y, marker='.')\n",
    "plt.xlabel('<- Fewer featured votes   More votes ->')\n",
    "plt.ylabel('<- baseline better   active better ->')\n",
    "plt.axhline(0., color='grey', alpha=.8, linestyle='--')\n",
    "plt.axhline(np.mean([r[2] for r in results]), color='g', alpha=.5, linestyle='--')"
   ]
  },
  {
   "cell_type": "code",
   "execution_count": null,
   "metadata": {},
   "outputs": [],
   "source": [
    "question_n = 0\n",
    "results = []\n",
    "mean_like = (active_like[:, question_n] + baseline_like[:, question_n]) / 2\n",
    "delta_like = active_like[:, question_n] - baseline_like[:, question_n]\n",
    "votes = active_dfs[0]['smooth-or-featured_featured-or-disk'].values\n",
    "\n",
    "votes_binned = pd.cut(votes, bins=20)\n",
    "df = pd.DataFrame(data={'votes_binned': votes_binned, 'delta_like': delta_like})\n",
    "df['votes_center'] = df['votes_binned'].apply(lambda x: x.left + (x.right - x.left)/2)\n",
    "\n",
    "grouped = df.groupby('votes_center').agg({'delta_like': 'mean'}).reset_index()\n",
    "\n",
    "sns.lineplot(data=grouped, x='votes_center', y='delta_like', marker='.', markersize=10)\n",
    "\n",
    "# bin_width = 10\n",
    "# for min_pc in np.arange(0, 100, bin_width):\n",
    "#     max_pc = min_pc + bin_width\n",
    "#     min_val, max_val = np.percentile(votes, min_pc), np.percentile(votes, max_pc)\n",
    "#     selection = (votes < max_val) & (votes >= min_val)\n",
    "#     print(min_val, max_val)\n",
    "#     print(selection.mean())\n",
    "    \n",
    "#     valid_delta = delta_like[selection]\n",
    "# #     print(min_pc, max_pc, len(valid_delta), valid_delta.mean(), labels[selection][question_n].mean()) \n",
    "#     results.append((min_pc, max_pc, valid_delta.mean(), labels[selection][question_n].mean(), labels[selection][question_n]))\n",
    "\n",
    "# x = [r[0] for r in results]\n",
    "# y = [r[2] for r in results]\n",
    "# plt.plot(x, y, marker='.')\n",
    "# plt.xlabel('<- Fewer votes   More votes ->')\n",
    "plt.ylabel('<- baseline better   active better ->')\n",
    "plt.axhline(0., color='grey', alpha=.8, linestyle='--')\n",
    "# plt.axhline(np.mean([r[2] for r in results]), color='g', alpha=.5, linestyle='--')"
   ]
  },
  {
   "cell_type": "code",
   "execution_count": null,
   "metadata": {},
   "outputs": [],
   "source": [
    "plt.hist(votes, bins=15)"
   ]
  },
  {
   "cell_type": "code",
   "execution_count": null,
   "metadata": {},
   "outputs": [],
   "source": [
    "assert False"
   ]
  },
  {
   "cell_type": "code",
   "execution_count": null,
   "metadata": {},
   "outputs": [],
   "source": [
    "# def pretend_fewer_votes_multiq(labels, question_index_groups):\n",
    "    \n",
    "#     q_losses = []\n",
    "#     for q_n in range(len(question_index_groups)):\n",
    "#         q_indices = question_index_groups[q_n]\n",
    "#         q_start = q_indices[0]\n",
    "#         q_end = q_indices[1]\n",
    "#         q_loss = pretend_fewer_votes(labels[:, q_start:q_end+1])\n",
    "#         q_losses.append(q_loss)\n",
    "    \n",
    "#     total_loss = np.stack(q_losses, axis=1)\n",
    "#     return total_loss\n",
    "\n",
    "def pretend_fewer_votes(votes, new_total=10):\n",
    "    # votes = (batch, answer) for one q\n",
    "\n",
    "    n_votes = votes.shape[1]\n",
    "    new_vote_indices = [np.random.choice(np.arange(n_votes), p=v/v.sum(), size=new_total) for v in votes]\n",
    "    new_votes = []\n",
    "    for n in new_vote_indices:\n",
    "        these_votes = np.zeros(n_votes)\n",
    "        for i in n:\n",
    "            these_votes[i] += 1\n",
    "        new_votes.append(these_votes)\n",
    "    return np.array(new_votes)"
   ]
  },
  {
   "cell_type": "code",
   "execution_count": null,
   "metadata": {},
   "outputs": [],
   "source": [
    "schema.question_index_groups"
   ]
  },
  {
   "cell_type": "code",
   "execution_count": null,
   "metadata": {},
   "outputs": [],
   "source": [
    "question_n = 0\n",
    "question_indices = [2, 4]\n",
    "question_slice = slice(*question_indices)\n",
    "batch_slice = labels[:, question_slice].sum(axis=1) >= 10\n",
    "fewer_votes = pretend_fewer_votes(labels[batch_slice, question_slice])"
   ]
  },
  {
   "cell_type": "code",
   "execution_count": null,
   "metadata": {},
   "outputs": [],
   "source": [
    "reduced_labels = labels.copy()\n",
    "reduced_labels[batch_slice, question_slice] = fewer_votes"
   ]
  },
  {
   "cell_type": "code",
   "execution_count": null,
   "metadata": {},
   "outputs": [],
   "source": [
    "reduced_labels[batch_slice, question_slice]"
   ]
  },
  {
   "cell_type": "code",
   "execution_count": null,
   "metadata": {},
   "outputs": [],
   "source": [
    "active_losses_reduced = dirichlet_stats.dirichlet_mixture_loss(reduced_labels, active_concentrations_combined, schema.question_index_groups)\n",
    "baseline_losses_reduced = dirichlet_stats.dirichlet_mixture_loss(reduced_labels, baseline_concentrations_combined, schema.question_index_groups)"
   ]
  },
  {
   "cell_type": "code",
   "execution_count": null,
   "metadata": {},
   "outputs": [],
   "source": [
    "\n",
    "np.mean(active_losses[:, question_n]), np.mean(baseline_losses[:, question_n])"
   ]
  },
  {
   "cell_type": "code",
   "execution_count": null,
   "metadata": {},
   "outputs": [],
   "source": [
    "\n",
    "np.mean(active_losses_reduced[:, question_n]), np.mean(baseline_losses_reduced[:, question_n])"
   ]
  },
  {
   "cell_type": "code",
   "execution_count": null,
   "metadata": {},
   "outputs": [],
   "source": [
    "active_like_reduced = np.exp(-active_losses_reduced)\n",
    "baseline_like_reduced = np.exp(-baseline_losses_reduced)"
   ]
  },
  {
   "cell_type": "code",
   "execution_count": null,
   "metadata": {},
   "outputs": [],
   "source": [
    "\n",
    "np.mean(active_like_reduced[batch_slice, question_n]), np.mean(baseline_like_reduced[batch_slice, question_n])"
   ]
  },
  {
   "cell_type": "code",
   "execution_count": null,
   "metadata": {},
   "outputs": [],
   "source": [
    "results = []\n",
    "mean_like = (active_like_reduced[batch_slice, question_n] + baseline_like_reduced[batch_slice, question_n]) / 2\n",
    "delta_like = active_like_reduced[batch_slice, question_n] - baseline_like_reduced[batch_slice, question_n]\n",
    "bin_width = 10\n",
    "for min_pc in np.arange(0, 100, bin_width):\n",
    "    max_pc = min_pc + bin_width\n",
    "    min_val, max_val = np.percentile(mean_like, min_pc), np.percentile(mean_like, max_pc)\n",
    "    selection = (mean_like < max_val) & (mean_like >= min_val)\n",
    "    \n",
    "    valid_delta = delta_like[selection]\n",
    "    results.append((min_pc, max_pc, valid_delta.mean()))\n",
    "\n",
    "x = [r[0] for r in results]\n",
    "y = [r[2] for r in results]\n",
    "plt.plot(x, y, marker='.')\n",
    "plt.xlabel('<- Lower like (worse)   Higher like (better) ->')\n",
    "plt.ylabel('<- baseline better   active better ->')\n",
    "plt.axhline(0., color='grey', alpha=.8, linestyle='--')\n",
    "plt.axhline(np.mean([r[2] for r in results]), color='g', alpha=.5, linestyle='--')"
   ]
  },
  {
   "cell_type": "code",
   "execution_count": null,
   "metadata": {},
   "outputs": [],
   "source": []
  },
  {
   "cell_type": "code",
   "execution_count": null,
   "metadata": {},
   "outputs": [],
   "source": []
  },
  {
   "cell_type": "code",
   "execution_count": null,
   "metadata": {},
   "outputs": [],
   "source": [
    "# feat_votes = active_dfs[0]['smooth-or-featured_featured-or-disk']\n",
    "# limit = feat\n",
    "plt.scatter(active_dfs[0]['smooth-or-featured_featured-or-disk'], mean_loss, alpha=.02, s=10)\n",
    "plt.xlim(0, 50)\n",
    "plt.ylim(0, 4)\n",
    "plt.xlabel('Featured/spiral total votes')\n",
    "plt.ylabel('Spiral loss')"
   ]
  },
  {
   "cell_type": "code",
   "execution_count": null,
   "metadata": {},
   "outputs": [],
   "source": [
    "# feat_votes = active_dfs[0]['smooth-or-featured_featured-or-disk']\n",
    "# limit = feat\n",
    "g = sns.jointplot(active_dfs[0]['smooth-or-featured_featured-or-disk'], mean_loss, kind='hex')\n",
    "g.ax_marg_x.set_xlim(0, 50)\n",
    "g.ax_marg_y.set_ylim(0, 4)"
   ]
  },
  {
   "cell_type": "code",
   "execution_count": null,
   "metadata": {},
   "outputs": [],
   "source": [
    "# copied from trust_the_model.ipynb\n",
    "def show_galaxies(df, scale=3, nrows=3, ncols=3):\n",
    "    fig = plt.gcf()\n",
    "\n",
    "    plt.figure(figsize=(scale * nrows, scale * ncols * 1.025))\n",
    "    gs1 = gridspec.GridSpec(nrows, ncols)\n",
    "    gs1.update(wspace=0.0, hspace=0.0)\n",
    "    galaxy_n = 0\n",
    "    for row_n in range(nrows):\n",
    "        for col_n in range(ncols):\n",
    "            galaxy = df.iloc[galaxy_n]\n",
    "            ax = plt.subplot(gs1[row_n, col_n])\n",
    "            if os.path.isfile(galaxy['local_png_loc']):\n",
    "                image = Image.open(galaxy['local_png_loc'])\n",
    "                ax.imshow(image)\n",
    "    #             ax.text(10, 20, 'Smooth = {:.2f}'.format(galaxy['smooth-or-featured_smooth_fraction']), fontsize=12, color='r')\n",
    "    #             ax.text(10, 50, r'$\\rho = {:.2f}$, Var ${:.3f}$'.format(galaxy['median_prediction'], 3*galaxy['predictions_var']), fontsize=12, color='r')\n",
    "    #             ax.text(10, 80, '$L = {:.2f}$'.format(galaxy['bcnn_likelihood']), fontsize=12, color='r')\n",
    "            else:\n",
    "                print('Failed to find ', galaxy['local_png_loc'])\n",
    "            ax.axis('off')\n",
    "            galaxy_n += 1\n",
    "#     print('Mean L: {:.2f}'.format(df[:nrows * ncols]['bcnn_likelihood'].mean()))\n",
    "    fig = plt.gcf()\n",
    "#     fig.tight_layout()\n",
    "    return fig\n"
   ]
  },
  {
   "cell_type": "code",
   "execution_count": null,
   "metadata": {},
   "outputs": [],
   "source": [
    "# active_df_with_pics = pd.merge(active_dfs[0], catalog['', how='left', on='id_str')"
   ]
  },
  {
   "cell_type": "code",
   "execution_count": null,
   "metadata": {},
   "outputs": [],
   "source": [
    "# active_df_with_pics.columns.values"
   ]
  },
  {
   "cell_type": "code",
   "execution_count": null,
   "metadata": {},
   "outputs": [],
   "source": [
    "\n",
    "min_pc = 0\n",
    "max_pc = 10\n",
    "min_val, max_val = np.percentile(mean_loss, min_pc), np.percentile(mean_loss, max_pc)\n",
    "selection = (mean_loss < max_val) & (mean_loss >= min_val)\n",
    "\n",
    "\n",
    "\n",
    "_ = show_galaxies(active_dfs[0][selection])"
   ]
  },
  {
   "cell_type": "code",
   "execution_count": null,
   "metadata": {},
   "outputs": [],
   "source": [
    "\n",
    "min_pc = 20\n",
    "max_pc = 30\n",
    "min_val, max_val = np.percentile(mean_loss, min_pc), np.percentile(mean_loss, max_pc)\n",
    "selection = (mean_loss < max_val) & (mean_loss >= min_val)\n",
    "\n",
    "\n",
    "\n",
    "_ = show_galaxies(active_dfs[0][selection])"
   ]
  },
  {
   "cell_type": "code",
   "execution_count": null,
   "metadata": {},
   "outputs": [],
   "source": [
    "\n",
    "min_pc = 80\n",
    "max_pc = 90\n",
    "min_val, max_val = np.percentile(mean_loss, min_pc), np.percentile(mean_loss, max_pc)\n",
    "selection = (mean_loss < max_val) & (mean_loss >= min_val)\n",
    "\n",
    "\n",
    "\n",
    "_ = show_galaxies(active_dfs[0][selection])"
   ]
  },
  {
   "cell_type": "code",
   "execution_count": null,
   "metadata": {},
   "outputs": [],
   "source": [
    "\n",
    "min_pc = 90\n",
    "max_pc = 100\n",
    "min_val, max_val = np.percentile(mean_loss, min_pc), np.percentile(mean_loss, max_pc)\n",
    "selection = (mean_loss < max_val) & (mean_loss >= min_val)\n",
    "\n",
    "\n",
    "\n",
    "_ = show_galaxies(active_dfs[0][selection])"
   ]
  },
  {
   "cell_type": "code",
   "execution_count": null,
   "metadata": {},
   "outputs": [],
   "source": [
    "question_n"
   ]
  },
  {
   "cell_type": "code",
   "execution_count": null,
   "metadata": {},
   "outputs": [],
   "source": [
    "limits = (0., 8.)\n",
    "plt.hist(active_losses[:, question_n], bins=30, alpha=.5, range=limits, label='active')\n",
    "plt.hist(baseline_losses[:, question_n], bins=30, alpha=.5, range=limits, label='baseline')\n",
    "plt.legend()"
   ]
  },
  {
   "cell_type": "code",
   "execution_count": null,
   "metadata": {},
   "outputs": [],
   "source": []
  },
  {
   "cell_type": "code",
   "execution_count": null,
   "metadata": {},
   "outputs": [],
   "source": [
    "active_losses[:, question_n].mean(), baseline_losses[:, question_n].mean()"
   ]
  },
  {
   "cell_type": "code",
   "execution_count": null,
   "metadata": {},
   "outputs": [],
   "source": [
    "limits = (0., 8.)\n",
    "plt.hist(np.exp(active_losses[:, question_n]), bins=30, alpha=.5, range=limits, label='active')\n",
    "plt.hist(np.exp(baseline_losses[:, question_n]), bins=30, alpha=.5, range=limits, label='baseline')\n",
    "plt.legend()"
   ]
  },
  {
   "cell_type": "code",
   "execution_count": null,
   "metadata": {},
   "outputs": [],
   "source": [
    "active_like"
   ]
  },
  {
   "cell_type": "code",
   "execution_count": null,
   "metadata": {},
   "outputs": [],
   "source": []
  },
  {
   "cell_type": "code",
   "execution_count": null,
   "metadata": {},
   "outputs": [],
   "source": [
    "total_votes = labels[:, :3].sum(axis=1)\n",
    "retired_selection = total_votes > 36\n",
    "retired_selection.mean()"
   ]
  },
  {
   "cell_type": "code",
   "execution_count": null,
   "metadata": {},
   "outputs": [],
   "source": [
    "plt.hist(total_votes, bins=30)"
   ]
  },
  {
   "cell_type": "code",
   "execution_count": null,
   "metadata": {},
   "outputs": [],
   "source": [
    "schema.questions"
   ]
  },
  {
   "cell_type": "code",
   "execution_count": null,
   "metadata": {},
   "outputs": [],
   "source": [
    "question_n = 2\n",
    "bins = 30\n",
    "plt.hist(active_like[:, question_n], bins=bins, alpha=.5, label='active')\n",
    "plt.hist(baseline_like[:, question_n], bins=bins, alpha=.5, label='baseline')\n",
    "plt.legend()"
   ]
  },
  {
   "cell_type": "code",
   "execution_count": null,
   "metadata": {},
   "outputs": [],
   "source": [
    "\n",
    "active_like.mean(axis=0), baseline_like.mean(axis=0)"
   ]
  },
  {
   "cell_type": "code",
   "execution_count": null,
   "metadata": {},
   "outputs": [],
   "source": [
    "\n",
    "active_like.mean(axis=0) - baseline_like.mean(axis=0)"
   ]
  },
  {
   "cell_type": "code",
   "execution_count": null,
   "metadata": {},
   "outputs": [],
   "source": [
    "active_like[:, question_n].mean(), baseline_like[:, question_n].mean()"
   ]
  },
  {
   "cell_type": "code",
   "execution_count": null,
   "metadata": {},
   "outputs": [],
   "source": [
    "np.product(active_like[:, question_n]), np.product(baseline_like[:, question_n])"
   ]
  },
  {
   "cell_type": "code",
   "execution_count": null,
   "metadata": {},
   "outputs": [],
   "source": [
    "low, high = 10 ** 3, .9\n",
    "bins = np.logspace(np.log10(low),np.log10(high), 50)\n",
    "plt.hist(active_like[:, question_n]), bins=bins, alpha=.5, label='active')\n",
    "plt.hist(baseline_like[:, question_n]), bins=bins, alpha=.5, label='baseline')\n",
    "plt.gca().set_xscale(\"log\")\n",
    "plt.legend()"
   ]
  },
  {
   "cell_type": "code",
   "execution_count": null,
   "metadata": {},
   "outputs": [],
   "source": [
    "np.exp(active_losses[:, question_n]).mean(), np.exp(baseline_losses[:, question_n]).mean()"
   ]
  },
  {
   "cell_type": "code",
   "execution_count": null,
   "metadata": {},
   "outputs": [],
   "source": []
  }
 ],
 "metadata": {
  "kernelspec": {
   "display_name": "Python 3",
   "language": "python",
   "name": "python3"
  },
  "language_info": {
   "codemirror_mode": {
    "name": "ipython",
    "version": 3
   },
   "file_extension": ".py",
   "mimetype": "text/x-python",
   "name": "python",
   "nbconvert_exporter": "python",
   "pygments_lexer": "ipython3",
   "version": "3.7.6"
  }
 },
 "nbformat": 4,
 "nbformat_minor": 4
}
