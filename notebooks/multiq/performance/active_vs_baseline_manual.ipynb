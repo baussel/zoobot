{
 "cells": [
  {
   "cell_type": "code",
   "execution_count": 1,
   "metadata": {},
   "outputs": [],
   "source": [
    "%load_ext autoreload\n",
    "%autoreload 2\n",
    "%matplotlib inline"
   ]
  },
  {
   "cell_type": "code",
   "execution_count": 2,
   "metadata": {},
   "outputs": [],
   "source": [
    "import matplotlib"
   ]
  },
  {
   "cell_type": "code",
   "execution_count": 3,
   "metadata": {},
   "outputs": [],
   "source": [
    "import os\n",
    "import logging\n",
    "import argparse\n",
    "import glob\n",
    "import json\n",
    "from collections import Counter\n",
    "\n",
    "import numpy as np\n",
    "from matplotlib.ticker import StrMethodFormatter\n",
    "\n",
    "import matplotlib.pyplot as plt\n",
    "import matplotlib.gridspec as gridspec\n",
    "import seaborn as sns\n",
    "from sklearn import metrics\n",
    "import tensorflow as tf\n",
    "import pandas as pd\n",
    "from astropy.table import Table  # for NSA\n",
    "from astropy import units as u\n",
    "from sklearn.metrics import confusion_matrix, roc_curve\n",
    "from PIL import Image\n",
    "from scipy.stats import binom\n",
    "from IPython.display import display, Markdown\n",
    "\n",
    "from sklearn.metrics import accuracy_score, mean_squared_error, mean_absolute_error\n",
    "\n",
    "from shared_astro_utils import astropy_utils, matching_utils\n",
    "from zoobot.estimators import make_predictions, bayesian_estimator_funcs\n",
    "from zoobot.tfrecord import read_tfrecord\n",
    "from zoobot.uncertainty import discrete_coverage\n",
    "from zoobot.estimators import input_utils, losses\n",
    "from zoobot.tfrecord import catalog_to_tfrecord\n",
    "from zoobot.active_learning import metrics, simulated_metrics, acquisition_utils, check_uncertainty, simulation_timeline, run_estimator_config\n",
    "from zoobot import label_metadata\n",
    "from zoobot.estimators import losses\n"
   ]
  },
  {
   "cell_type": "code",
   "execution_count": 4,
   "metadata": {},
   "outputs": [],
   "source": [
    "os.chdir('/home/walml/repos/zoobot')"
   ]
  },
  {
   "cell_type": "code",
   "execution_count": 5,
   "metadata": {},
   "outputs": [],
   "source": [
    "gpus = tf.config.experimental.list_physical_devices('GPU')\n",
    "if gpus:\n",
    "    for gpu in gpus:\n",
    "        tf.config.experimental.set_memory_growth(gpu, True)\n"
   ]
  },
  {
   "cell_type": "code",
   "execution_count": 6,
   "metadata": {},
   "outputs": [],
   "source": [
    "catalog_loc = 'data/gz2/gz2_master_catalog.csv'\n",
    "catalog = pd.read_csv(catalog_loc, dtype={'subject_id': str})  # original catalog\n",
    "catalog['file_loc'] = catalog['local_png_loc'].apply(lambda x: '/media/walml/beta/galaxy_zoo/gz2' + x[32:])\n",
    "catalog['id_str'] = catalog['dr7objid'].apply(lambda x: 'dr7objid_' + str(x))"
   ]
  },
  {
   "cell_type": "code",
   "execution_count": 7,
   "metadata": {},
   "outputs": [
    {
     "name": "stdout",
     "output_type": "stream",
     "text": [
      "{smooth-or-featured, indices 0 to 1, asked after None: (0, 1)}\n"
     ]
    }
   ],
   "source": [
    "# label_cols = label_metadata.gz2_label_cols\n",
    "# questions = label_metadata.gz2_questions\n",
    "\n",
    "label_cols = label_metadata.gz2_partial_label_cols\n",
    "questions = label_metadata.gz2_partial_questions\n",
    "\n",
    "# state_loc = 'results/temp/gz2_all_q_warm_active/iteration_0/state.pickle'\n",
    "# label_cols = label_metadata.gz2_label_cols\n",
    "# questions = label_metadata.gz2_questions\n",
    "\n",
    "version = 'gz2'\n",
    "schema = losses.Schema(label_cols, questions, version=version)"
   ]
  },
  {
   "cell_type": "code",
   "execution_count": 8,
   "metadata": {},
   "outputs": [],
   "source": [
    "concentration_cols = [col + '_concentration' for col in label_cols]\n",
    "concentration_mean_cols = [col + '_concentration_mean' for col in label_cols]\n",
    "\n",
    "# for it in it_list:\n",
    "#     for col in concentration_cols:\n",
    "#         it[col] = it[col].apply(lambda x: np.array(json.loads(x)))"
   ]
  },
  {
   "cell_type": "code",
   "execution_count": 10,
   "metadata": {},
   "outputs": [],
   "source": [
    "m = 0\n",
    "n_models = 3  # important\n",
    "\n",
    "# optimise spiral, predict 4q\n",
    "# active_locs = [f'temp/gz2_1q_conc_active_it2_m{n}.csv' for n in range(n_models)]\n",
    "# baseline_locs = [f'temp/gz2_1q_conc_baseline_it2_m{n}.csv' for n in range(n_models)]\n",
    "\n",
    "\n",
    "# optimise smooth/feat, predict 1q\n",
    "\n",
    "# active_locs = [f'temp/gz2_1q_1active_it0_m{n}.csv' for n in range(n_models)]\n",
    "# baseline_locs = [f'temp/gz2_1q_1baseline_it0_m{n}.csv' for n in range(n_models)]\n",
    "\n",
    "# active_locs = [f'temp/gz2_1q_1active_it1_m{n}.csv' for n in range(n_models)]\n",
    "# baseline_locs = [f'temp/gz2_1q_1baseline_it1_m{n}.csv' for n in range(n_models)]\n",
    "\n",
    "# active_locs = [f'temp/gz2_1q_1active_it2_m{n}.csv' for n in range(n_models)]\n",
    "# baseline_locs = [f'temp/gz2_1q_1baseline_it2_m{n}.csv' for n in range(n_models)]\n",
    "\n",
    "# active_locs = [f'temp/gz2_1q_1active_it2_m{n}_log.csv' for n in range(n_models)]\n",
    "# baseline_locs = [f'temp/gz2_1q_1baseline_it2_m{n}_log.csv' for n in range(n_models)]\n",
    "\n",
    "baseline_locs = [f'temp/gz2_1q_1baseline_it1_m{n}_log.csv' for n in range(n_models)]\n",
    "active_locs = [f'temp/gz2_1q_1active_best_it1_m{n}.csv' for n in range(n_models)]\n",
    "\n",
    "active_dfs = [pd.read_csv(loc) for loc in active_locs]\n",
    "baseline_dfs = [pd.read_csv(loc) for loc in baseline_locs]\n"
   ]
  },
  {
   "cell_type": "code",
   "execution_count": 11,
   "metadata": {},
   "outputs": [],
   "source": []
  },
  {
   "cell_type": "code",
   "execution_count": 12,
   "metadata": {},
   "outputs": [],
   "source": [
    "active_concentrations = [dirichlet_stats.load_all_concentrations(df, concentration_cols) for df in active_dfs]\n",
    "baseline_concentrations = [dirichlet_stats.load_all_concentrations(df, concentration_cols) for df in baseline_dfs]"
   ]
  },
  {
   "cell_type": "code",
   "execution_count": 13,
   "metadata": {},
   "outputs": [],
   "source": [
    "answer_cols = [a.text for a in schema.answers]\n",
    "labels = active_dfs[0][answer_cols].values  # same for all"
   ]
  },
  {
   "cell_type": "code",
   "execution_count": 14,
   "metadata": {},
   "outputs": [
    {
     "data": {
      "text/plain": [
       "(15000, 2)"
      ]
     },
     "execution_count": 14,
     "metadata": {},
     "output_type": "execute_result"
    }
   ],
   "source": [
    "labels.shape"
   ]
  },
  {
   "cell_type": "code",
   "execution_count": 15,
   "metadata": {},
   "outputs": [
    {
     "data": {
      "text/plain": [
       "(15000, 2, 2)"
      ]
     },
     "execution_count": 15,
     "metadata": {},
     "output_type": "execute_result"
    }
   ],
   "source": [
    "active_concentrations[0].shape"
   ]
  },
  {
   "cell_type": "code",
   "execution_count": 16,
   "metadata": {},
   "outputs": [
    {
     "data": {
      "text/plain": [
       "(15000, 2, 6)"
      ]
     },
     "execution_count": 16,
     "metadata": {},
     "output_type": "execute_result"
    }
   ],
   "source": [
    "active_concentrations_combined = np.concatenate(active_concentrations, axis=-1)\n",
    "active_concentrations_combined.shape"
   ]
  },
  {
   "cell_type": "code",
   "execution_count": 17,
   "metadata": {},
   "outputs": [
    {
     "name": "stdout",
     "output_type": "stream",
     "text": [
      "[('smooth-or-featured', 2.4551694)]\n",
      "[('smooth-or-featured', 2.527824)]\n",
      "[('smooth-or-featured', 2.5406475)]\n"
     ]
    }
   ],
   "source": [
    "for model_n in range(n_models):\n",
    "    single_loss = dirichlet_stats.dirichlet_mixture_loss(labels, active_concentrations[model_n], schema.question_index_groups)\n",
    "    print(list(zip(questions, single_loss.mean(axis=0))))"
   ]
  },
  {
   "cell_type": "code",
   "execution_count": 18,
   "metadata": {},
   "outputs": [
    {
     "data": {
      "text/plain": [
       "[('smooth-or-featured', 2.4800339)]"
      ]
     },
     "execution_count": 18,
     "metadata": {},
     "output_type": "execute_result"
    }
   ],
   "source": [
    "\n",
    "active_losses = dirichlet_stats.dirichlet_mixture_loss(labels, active_concentrations_combined, schema.question_index_groups)\n",
    "list(zip(questions, active_losses.mean(axis=0)))"
   ]
  },
  {
   "cell_type": "code",
   "execution_count": null,
   "metadata": {},
   "outputs": [],
   "source": []
  },
  {
   "cell_type": "code",
   "execution_count": 19,
   "metadata": {},
   "outputs": [],
   "source": [
    "baseline_concentrations_combined = np.concatenate(baseline_concentrations, axis=-1)"
   ]
  },
  {
   "cell_type": "code",
   "execution_count": 20,
   "metadata": {},
   "outputs": [
    {
     "name": "stdout",
     "output_type": "stream",
     "text": [
      "[('smooth-or-featured', 2.453548)]\n",
      "[('smooth-or-featured', 2.514228)]\n",
      "[('smooth-or-featured', 2.5418787)]\n"
     ]
    }
   ],
   "source": [
    "for model_n in range(n_models):\n",
    "    baseline_single_loss = dirichlet_stats.dirichlet_mixture_loss(labels, baseline_concentrations[model_n], schema.question_index_groups)\n",
    "    print(list(zip(questions, baseline_single_loss.mean(axis=0))))"
   ]
  },
  {
   "cell_type": "code",
   "execution_count": 21,
   "metadata": {},
   "outputs": [
    {
     "data": {
      "text/plain": [
       "[('smooth-or-featured', 2.4775681)]"
      ]
     },
     "execution_count": 21,
     "metadata": {},
     "output_type": "execute_result"
    }
   ],
   "source": [
    "\n",
    "baseline_losses = dirichlet_stats.dirichlet_mixture_loss(labels, baseline_concentrations_combined, schema.question_index_groups)\n",
    "list(zip(questions, baseline_losses.mean(axis=0)))"
   ]
  },
  {
   "cell_type": "code",
   "execution_count": 22,
   "metadata": {},
   "outputs": [],
   "source": [
    "assert len(active_losses) == len(baseline_losses)"
   ]
  },
  {
   "cell_type": "code",
   "execution_count": 23,
   "metadata": {},
   "outputs": [],
   "source": [
    "active_like = np.exp(-active_losses)  # inverse of neg log likelihood = \n",
    "baseline_like = np.exp(-baseline_losses)"
   ]
  },
  {
   "cell_type": "code",
   "execution_count": 24,
   "metadata": {},
   "outputs": [
    {
     "data": {
      "text/plain": [
       "<matplotlib.legend.Legend at 0x7fba808c0a50>"
      ]
     },
     "execution_count": 24,
     "metadata": {},
     "output_type": "execute_result"
    },
    {
     "data": {
      "image/png": "[encoded data removed]",
      "text/plain": [
       "<Figure size 432x288 with 1 Axes>"
      ]
     },
     "metadata": {
      "needs_background": "light"
     },
     "output_type": "display_data"
    }
   ],
   "source": [
    "plt.hist(active_losses[:, 0], bins=30, alpha=.5, range=(0., 8.), label='active')\n",
    "plt.hist(baseline_losses[:, 0], bins=30, alpha=.5, range=(0., 8.), label='baseline')\n",
    "plt.legend()"
   ]
  },
  {
   "cell_type": "code",
   "execution_count": 25,
   "metadata": {},
   "outputs": [
    {
     "data": {
      "text/plain": [
       "[<matplotlib.lines.Line2D at 0x7fba30ce7850>]"
      ]
     },
     "execution_count": 25,
     "metadata": {},
     "output_type": "execute_result"
    },
    {
     "data": {
      "image/png": "[encoded data removed]",
      "text/plain": [
       "<Figure size 432x288 with 1 Axes>"
      ]
     },
     "metadata": {
      "needs_background": "light"
     },
     "output_type": "display_data"
    }
   ],
   "source": [
    "plt.scatter(baseline_losses[:, 0], active_losses[:, 0], alpha=.1)\n",
    "plt.plot([0., 10], [0., 10.], color='r')"
   ]
  },
  {
   "cell_type": "code",
   "execution_count": 26,
   "metadata": {},
   "outputs": [
    {
     "data": {
      "text/plain": [
       "(15000, 1)"
      ]
     },
     "execution_count": 26,
     "metadata": {},
     "output_type": "execute_result"
    }
   ],
   "source": [
    "baseline_losses.shape"
   ]
  },
  {
   "cell_type": "code",
   "execution_count": 27,
   "metadata": {},
   "outputs": [
    {
     "data": {
      "text/plain": [
       "[<matplotlib.lines.Line2D at 0x7fba3098c050>]"
      ]
     },
     "execution_count": 27,
     "metadata": {},
     "output_type": "execute_result"
    },
    {
     "data": {
      "image/png": "[encoded data removed]",
      "text/plain": [
       "<Figure size 432x288 with 1 Axes>"
      ]
     },
     "metadata": {
      "needs_background": "light"
     },
     "output_type": "display_data"
    }
   ],
   "source": [
    "question_n = 0\n",
    "plt.scatter(baseline_losses[:, question_n], active_losses[:, question_n], alpha=.1)\n",
    "plt.plot([0., 10], [0., 10.], color='r')"
   ]
  },
  {
   "cell_type": "code",
   "execution_count": 28,
   "metadata": {},
   "outputs": [
    {
     "data": {
      "text/plain": [
       "(0.0, 0.5)"
      ]
     },
     "execution_count": 28,
     "metadata": {},
     "output_type": "execute_result"
    },
    {
     "data": {
      "image/png": "[encoded data removed]",
      "text/plain": [
       "<Figure size 432x288 with 1 Axes>"
      ]
     },
     "metadata": {
      "needs_background": "light"
     },
     "output_type": "display_data"
    }
   ],
   "source": [
    "question_n = 0\n",
    "plt.scatter(baseline_like[:, question_n], active_like[:, question_n], alpha=.02)\n",
    "plt.xlabel('Baseline likelihood')\n",
    "plt.ylabel('Active likelihood')\n",
    "plt.plot([0., 1], [0., 1.], color='r')\n",
    "plt.xlim(0., .5)\n",
    "plt.ylim((0., .5))"
   ]
  },
  {
   "cell_type": "code",
   "execution_count": 29,
   "metadata": {},
   "outputs": [
    {
     "data": {
      "text/plain": [
       "(0.0, 0.3)"
      ]
     },
     "execution_count": 29,
     "metadata": {},
     "output_type": "execute_result"
    },
    {
     "data": {
      "image/png": "[encoded data removed]",
      "text/plain": [
       "<Figure size 432x288 with 1 Axes>"
      ]
     },
     "metadata": {
      "needs_background": "light"
     },
     "output_type": "display_data"
    }
   ],
   "source": [
    "question_n = 0\n",
    "plt.hist2d(baseline_like[:, question_n], active_like[:, question_n], bins=(120, 120))\n",
    "plt.xlabel('Baseline likelihood')\n",
    "plt.ylabel('Active likelihood')\n",
    "plt.plot([0., 1], [0., 1.], color='r')\n",
    "plt.xlim(0., .3)\n",
    "plt.ylim((0., .3))"
   ]
  },
  {
   "cell_type": "code",
   "execution_count": null,
   "metadata": {},
   "outputs": [],
   "source": []
  },
  {
   "cell_type": "code",
   "execution_count": 30,
   "metadata": {},
   "outputs": [
    {
     "data": {
      "text/plain": [
       "<matplotlib.lines.Line2D at 0x7fba30d255d0>"
      ]
     },
     "execution_count": 30,
     "metadata": {},
     "output_type": "execute_result"
    },
    {
     "data": {
      "image/png": "[encoded data removed]",
      "text/plain": [
       "<Figure size 432x288 with 1 Axes>"
      ]
     },
     "metadata": {
      "needs_background": "light"
     },
     "output_type": "display_data"
    }
   ],
   "source": [
    "question_n = 0\n",
    "plt.scatter(np.arange(len(baseline_losses)), active_losses[:, question_n] - baseline_losses[:, question_n], alpha=.1)\n",
    "plt.axhline(0., color='r')"
   ]
  },
  {
   "cell_type": "code",
   "execution_count": 31,
   "metadata": {},
   "outputs": [
    {
     "data": {
      "text/plain": [
       "<matplotlib.lines.Line2D at 0x7fba30b4d910>"
      ]
     },
     "execution_count": 31,
     "metadata": {},
     "output_type": "execute_result"
    },
    {
     "data": {
      "image/png": "[encoded data removed]",
      "text/plain": [
       "<Figure size 432x288 with 1 Axes>"
      ]
     },
     "metadata": {
      "needs_background": "light"
     },
     "output_type": "display_data"
    }
   ],
   "source": [
    "question_n = 0\n",
    "_ = plt.hist(active_losses[:, question_n] - baseline_losses[:, question_n], range=(-1, 1), bins=50)\n",
    "plt.xlim(-1, 1)\n",
    "plt.axvline(0., color='r')"
   ]
  },
  {
   "cell_type": "code",
   "execution_count": 32,
   "metadata": {},
   "outputs": [
    {
     "name": "stdout",
     "output_type": "stream",
     "text": [
      "0.0024658428\n"
     ]
    }
   ],
   "source": [
    "for question_n in range(1):\n",
    "    print((active_losses[:, question_n] - baseline_losses[:, question_n]).mean())"
   ]
  },
  {
   "cell_type": "code",
   "execution_count": null,
   "metadata": {},
   "outputs": [],
   "source": []
  },
  {
   "cell_type": "code",
   "execution_count": 33,
   "metadata": {},
   "outputs": [
    {
     "name": "stdout",
     "output_type": "stream",
     "text": [
      "0 0.0024658428\n",
      "2 0.0031592315\n",
      "5 0.004284855\n",
      "10 0.005986318\n",
      "20 0.008164917\n",
      "30 0.0077225426\n",
      "40 0.006998348\n"
     ]
    }
   ],
   "source": [
    "question_n = 0\n",
    "delta_loss = active_losses[:, question_n] - baseline_losses[:, question_n]\n",
    "for window in [0, 2, 5, 10, 20, 30, 40]:\n",
    "    delta_loss_clipped = np.clip(delta_loss, np.percentile(delta_loss, window), np.percentile(delta_loss, 100 - window))\n",
    "    print(window, delta_loss_clipped.mean()) \n",
    "# negative delta loss = baseline bigger loss than active = active better, and vica versa\n",
    "# possibly active learning helps more with the hardest galaxies, in exchange for some of the easiest galaxies?\n",
    "# no, I'm being silly, it's DELTA loss..."
   ]
  },
  {
   "cell_type": "code",
   "execution_count": 34,
   "metadata": {},
   "outputs": [
    {
     "name": "stdout",
     "output_type": "stream",
     "text": [
      "0 0.0024658428\n",
      "2 0.0031592315\n",
      "5 0.004284855\n",
      "10 0.005986318\n",
      "20 0.008164917\n",
      "30 0.0077225426\n",
      "40 0.006998348\n"
     ]
    }
   ],
   "source": [
    "\n",
    "for window in [0, 2, 5, 10, 20, 30, 40]:\n",
    "    delta_loss_clipped = np.clip(delta_loss, np.percentile(delta_loss, window), np.percentile(delta_loss, 100 - window))\n",
    "    print(window, delta_loss_clipped.mean()) \n",
    "# negative delta loss = baseline bigger loss than active = active better, and vica versa\n",
    "# possibly active learning helps more with the hardest galaxies, in exchange for some of the easiest galaxies?\n",
    "# no, I'm being silly, it's DELTA loss..."
   ]
  },
  {
   "cell_type": "code",
   "execution_count": 35,
   "metadata": {},
   "outputs": [],
   "source": [
    "question_n = 0"
   ]
  },
  {
   "cell_type": "code",
   "execution_count": 36,
   "metadata": {},
   "outputs": [
    {
     "name": "stdout",
     "output_type": "stream",
     "text": [
      "0 10\n",
      "0 10 1500 0.021985445 23.0\n",
      "10 20\n",
      "10 20 1500 0.025077749 20.0\n",
      "20 30\n",
      "20 30 1500 0.012153567 22.0\n",
      "30 40\n",
      "30 40 1500 0.0014728802 29.5\n",
      "40 50\n",
      "40 50 1500 0.0063807876 20.0\n",
      "50 60\n",
      "50 60 1500 0.002270775 26.0\n",
      "60 70\n",
      "60 70 1500 0.01316482 22.5\n",
      "70 80\n",
      "70 80 1500 0.016400922 19.5\n",
      "80 90\n",
      "80 90 1500 0.0030652059 19.0\n",
      "90 100\n",
      "90 100 1499 -0.07595566 29.5\n"
     ]
    }
   ],
   "source": [
    "results = []\n",
    "mean_loss = (active_losses[:, question_n] + baseline_losses[:, question_n]) / 2\n",
    "delta_loss = active_losses[:, question_n] - baseline_losses[:, question_n]\n",
    "bin_width = 10\n",
    "for min_pc in np.arange(0, 100, bin_width):\n",
    "    max_pc = min_pc + bin_width\n",
    "    print(min_pc, max_pc)\n",
    "    min_val, max_val = np.percentile(mean_loss, min_pc), np.percentile(mean_loss, max_pc)\n",
    "    selection = (mean_loss < max_val) & (mean_loss >= min_val)\n",
    "    \n",
    "    valid_delta = delta_loss[selection]\n",
    "    print(min_pc, max_pc, len(valid_delta), valid_delta.mean(), labels[selection][question_n].mean()) \n",
    "    results.append((min_pc, max_pc, valid_delta.mean(), labels[selection][question_n].mean(), labels[selection][question_n]))\n"
   ]
  },
  {
   "cell_type": "code",
   "execution_count": 37,
   "metadata": {},
   "outputs": [
    {
     "data": {
      "text/plain": [
       "<matplotlib.lines.Line2D at 0x7fba2f3095d0>"
      ]
     },
     "execution_count": 37,
     "metadata": {},
     "output_type": "execute_result"
    },
    {
     "data": {
      "image/png": "[encoded data removed]",
      "text/plain": [
       "<Figure size 432x288 with 1 Axes>"
      ]
     },
     "metadata": {
      "needs_background": "light"
     },
     "output_type": "display_data"
    }
   ],
   "source": [
    "x = [r[0] for r in results]\n",
    "y = [r[2] for r in results]\n",
    "plt.plot(x, y, marker='.')\n",
    "plt.xlabel('<- Lower loss (easy)   Higher loss (hard) ->')\n",
    "plt.ylabel('<- active better   baseline better ->')\n",
    "plt.axhline(0., color='grey', alpha=.8, linestyle='--')\n",
    "plt.axhline(np.mean([r[2] for r in results]), color='g', alpha=.5, linestyle='--')"
   ]
  },
  {
   "cell_type": "code",
   "execution_count": 38,
   "metadata": {},
   "outputs": [
    {
     "name": "stdout",
     "output_type": "stream",
     "text": [
      "0 5\n",
      "0 5 750 0.0016335244 21.0\n",
      "5 10\n",
      "5 10 750 0.0015584818 29.5\n",
      "10 15\n",
      "10 15 750 5.4453412e-05 24.0\n",
      "15 20\n",
      "15 20 750 -0.00047530374 19.0\n",
      "20 25\n",
      "20 25 750 -0.00088422984 23.0\n",
      "25 30\n",
      "25 30 750 -0.0006169342 19.5\n",
      "30 35\n",
      "30 35 750 -0.0011883294 19.0\n",
      "35 40\n",
      "35 40 750 -0.0005766119 22.5\n",
      "40 45\n",
      "40 45 750 -0.000106309264 26.0\n",
      "45 50\n",
      "45 50 750 -0.00043365787 18.5\n",
      "50 55\n",
      "50 55 750 -0.0005779145 20.0\n",
      "55 60\n",
      "55 60 750 -0.0006702223 20.5\n",
      "60 65\n",
      "60 65 750 -1.1197189e-05 29.5\n",
      "65 70\n",
      "65 70 750 -0.00020608166 22.5\n",
      "70 75\n",
      "70 75 750 -0.0015145607 23.0\n",
      "75 80\n",
      "75 80 750 -0.0020251826 22.0\n",
      "80 85\n",
      "80 85 750 -0.0036284195 20.0\n",
      "85 90\n",
      "85 90 750 -0.0049021654 21.5\n",
      "90 95\n",
      "90 95 750 -0.005463262 23.0\n",
      "95 100\n",
      "95 100 749 -0.0015478204 27.0\n"
     ]
    },
    {
     "data": {
      "text/plain": [
       "<matplotlib.lines.Line2D at 0x7fba2c29b690>"
      ]
     },
     "execution_count": 38,
     "metadata": {},
     "output_type": "execute_result"
    },
    {
     "data": {
      "image/png": "[encoded data removed]",
      "text/plain": [
       "<Figure size 432x288 with 1 Axes>"
      ]
     },
     "metadata": {
      "needs_background": "light"
     },
     "output_type": "display_data"
    }
   ],
   "source": [
    "results = []\n",
    "mean_like = (active_like[:, question_n] + baseline_like[:, question_n]) / 2\n",
    "delta_like = active_like[:, question_n] - baseline_like[:, question_n]\n",
    "bin_width = 5\n",
    "for min_pc in np.arange(0, 100, bin_width):\n",
    "    max_pc = min_pc + bin_width\n",
    "    print(min_pc, max_pc)\n",
    "    min_val, max_val = np.percentile(mean_like, min_pc), np.percentile(mean_like, max_pc)\n",
    "    selection = (mean_like < max_val) & (mean_like >= min_val)\n",
    "    \n",
    "    valid_delta = delta_like[selection]\n",
    "    print(min_pc, max_pc, len(valid_delta), valid_delta.mean(), labels[selection][question_n].mean()) \n",
    "    results.append((min_pc, max_pc, valid_delta.mean(), labels[selection][question_n].mean(), labels[selection][question_n]))\n",
    "\n",
    "x = [r[0] for r in results]\n",
    "y = [r[2] for r in results]\n",
    "plt.plot(x, y, marker='.')\n",
    "plt.xlabel('<- Lower like (hard)   Higher like (easy) ->')\n",
    "plt.ylabel('<- baseline better   active better ->')\n",
    "plt.axhline(0., color='grey', alpha=.8, linestyle='--')\n",
    "plt.axhline(np.mean([r[2] for r in results]), color='g', alpha=.5, linestyle='--')"
   ]
  },
  {
   "cell_type": "code",
   "execution_count": 39,
   "metadata": {},
   "outputs": [
    {
     "name": "stdout",
     "output_type": "stream",
     "text": [
      "0.0 2.0\n",
      "0.0652\n",
      "2.0 3.0\n",
      "0.08246666666666666\n",
      "3.0 4.0\n",
      "0.09926666666666667\n",
      "4.0 5.0\n",
      "0.0916\n",
      "5.0 7.0\n",
      "0.14646666666666666\n",
      "7.0 9.0\n",
      "0.09253333333333333\n",
      "9.0 14.0\n",
      "0.11826666666666667\n",
      "14.0 21.200000000000728\n",
      "0.1042\n",
      "21.200000000000728 33.0\n",
      "0.0938\n",
      "33.0 60.0\n",
      "0.10613333333333333\n"
     ]
    },
    {
     "data": {
      "text/plain": [
       "<matplotlib.lines.Line2D at 0x7fba2c212490>"
      ]
     },
     "execution_count": 39,
     "metadata": {},
     "output_type": "execute_result"
    },
    {
     "data": {
      "image/png": "[encoded data removed]",
      "text/plain": [
       "<Figure size 432x288 with 1 Axes>"
      ]
     },
     "metadata": {
      "needs_background": "light"
     },
     "output_type": "display_data"
    }
   ],
   "source": [
    "\n",
    "results = []\n",
    "mean_like = (active_like[:, question_n] + baseline_like[:, question_n]) / 2\n",
    "delta_like = active_like[:, question_n] - baseline_like[:, question_n]\n",
    "votes = active_dfs[0]['smooth-or-featured_featured-or-disk'].values  # FEATURED votes\n",
    "\n",
    "bin_width = 10\n",
    "for min_pc in np.arange(0, 100, bin_width):\n",
    "    max_pc = min_pc + bin_width\n",
    "    min_val, max_val = np.percentile(votes, min_pc), np.percentile(votes, max_pc)\n",
    "    selection = (votes < max_val) & (votes >= min_val)\n",
    "    print(min_val, max_val)\n",
    "    print(selection.mean())\n",
    "    \n",
    "    valid_delta = delta_like[selection]\n",
    "#     print(min_pc, max_pc, len(valid_delta), valid_delta.mean(), labels[selection][question_n].mean()) \n",
    "    results.append((min_pc, max_pc, valid_delta.mean(), labels[selection][question_n].mean(), labels[selection][question_n]))\n",
    "\n",
    "x = [r[0] for r in results]\n",
    "y = [r[2] for r in results]\n",
    "plt.plot(x, y, marker='.')\n",
    "plt.xlabel('<- Fewer featured votes   More votes ->')\n",
    "plt.ylabel('<- baseline better   active better ->')\n",
    "plt.axhline(0., color='grey', alpha=.8, linestyle='--')\n",
    "plt.axhline(np.mean([r[2] for r in results]), color='g', alpha=.5, linestyle='--')"
   ]
  },
  {
   "cell_type": "code",
   "execution_count": 40,
   "metadata": {},
   "outputs": [
    {
     "data": {
      "text/plain": [
       "<matplotlib.lines.Line2D at 0x7fba2c2ddc10>"
      ]
     },
     "execution_count": 40,
     "metadata": {},
     "output_type": "execute_result"
    },
    {
     "data": {
      "image/png": "[encoded data removed]",
      "text/plain": [
       "<Figure size 432x288 with 1 Axes>"
      ]
     },
     "metadata": {
      "needs_background": "light"
     },
     "output_type": "display_data"
    }
   ],
   "source": [
    "question_n = 0\n",
    "results = []\n",
    "mean_like = (active_like[:, question_n] + baseline_like[:, question_n]) / 2\n",
    "delta_like = active_like[:, question_n] - baseline_like[:, question_n]\n",
    "votes = active_dfs[0]['smooth-or-featured_featured-or-disk'].values\n",
    "\n",
    "votes_binned = pd.cut(votes, bins=20)\n",
    "df = pd.DataFrame(data={'votes_binned': votes_binned, 'delta_like': delta_like})\n",
    "df['votes_center'] = df['votes_binned'].apply(lambda x: x.left + (x.right - x.left)/2)\n",
    "\n",
    "grouped = df.groupby('votes_center').agg({'delta_like': 'mean'}).reset_index()\n",
    "\n",
    "sns.lineplot(data=grouped, x='votes_center', y='delta_like', marker='.', markersize=10)\n",
    "\n",
    "# bin_width = 10\n",
    "# for min_pc in np.arange(0, 100, bin_width):\n",
    "#     max_pc = min_pc + bin_width\n",
    "#     min_val, max_val = np.percentile(votes, min_pc), np.percentile(votes, max_pc)\n",
    "#     selection = (votes < max_val) & (votes >= min_val)\n",
    "#     print(min_val, max_val)\n",
    "#     print(selection.mean())\n",
    "    \n",
    "#     valid_delta = delta_like[selection]\n",
    "# #     print(min_pc, max_pc, len(valid_delta), valid_delta.mean(), labels[selection][question_n].mean()) \n",
    "#     results.append((min_pc, max_pc, valid_delta.mean(), labels[selection][question_n].mean(), labels[selection][question_n]))\n",
    "\n",
    "# x = [r[0] for r in results]\n",
    "# y = [r[2] for r in results]\n",
    "# plt.plot(x, y, marker='.')\n",
    "# plt.xlabel('<- Fewer votes   More votes ->')\n",
    "plt.ylabel('<- baseline better   active better ->')\n",
    "plt.axhline(0., color='grey', alpha=.8, linestyle='--')\n",
    "# plt.axhline(np.mean([r[2] for r in results]), color='g', alpha=.5, linestyle='--')"
   ]
  },
  {
   "cell_type": "code",
   "execution_count": 41,
   "metadata": {},
   "outputs": [
    {
     "data": {
      "text/plain": [
       "(array([3704., 4333., 1874., 1025.,  737.,  620.,  498.,  496.,  451.,\n",
       "         525.,  396.,  206.,   92.,   32.,   11.]),\n",
       " array([ 0.,  4.,  8., 12., 16., 20., 24., 28., 32., 36., 40., 44., 48.,\n",
       "        52., 56., 60.]),\n",
       " <a list of 15 Patch objects>)"
      ]
     },
     "execution_count": 41,
     "metadata": {},
     "output_type": "execute_result"
    },
    {
     "data": {
      "image/png": "[encoded data removed]",
      "text/plain": [
       "<Figure size 432x288 with 1 Axes>"
      ]
     },
     "metadata": {
      "needs_background": "light"
     },
     "output_type": "display_data"
    }
   ],
   "source": [
    "plt.hist(votes, bins=15)"
   ]
  },
  {
   "cell_type": "code",
   "execution_count": 42,
   "metadata": {},
   "outputs": [
    {
     "ename": "AssertionError",
     "evalue": "",
     "output_type": "error",
     "traceback": [
      "\u001b[0;31m---------------------------------------------------------------------------\u001b[0m",
      "\u001b[0;31mAssertionError\u001b[0m                            Traceback (most recent call last)",
      "\u001b[0;32m<ipython-input-42-a871fdc9ebee>\u001b[0m in \u001b[0;36m<module>\u001b[0;34m\u001b[0m\n\u001b[0;32m----> 1\u001b[0;31m \u001b[0;32massert\u001b[0m \u001b[0;32mFalse\u001b[0m\u001b[0;34m\u001b[0m\u001b[0;34m\u001b[0m\u001b[0m\n\u001b[0m",
      "\u001b[0;31mAssertionError\u001b[0m: "
     ]
    }
   ],
   "source": [
    "assert False"
   ]
  },
  {
   "cell_type": "code",
   "execution_count": null,
   "metadata": {},
   "outputs": [],
   "source": [
    "# def pretend_fewer_votes_multiq(labels, question_index_groups):\n",
    "    \n",
    "#     q_losses = []\n",
    "#     for q_n in range(len(question_index_groups)):\n",
    "#         q_indices = question_index_groups[q_n]\n",
    "#         q_start = q_indices[0]\n",
    "#         q_end = q_indices[1]\n",
    "#         q_loss = pretend_fewer_votes(labels[:, q_start:q_end+1])\n",
    "#         q_losses.append(q_loss)\n",
    "    \n",
    "#     total_loss = np.stack(q_losses, axis=1)\n",
    "#     return total_loss\n",
    "\n",
    "def pretend_fewer_votes(votes, new_total=10):\n",
    "    # votes = (batch, answer) for one q\n",
    "\n",
    "    n_votes = votes.shape[1]\n",
    "    new_vote_indices = [np.random.choice(np.arange(n_votes), p=v/v.sum(), size=new_total) for v in votes]\n",
    "    new_votes = []\n",
    "    for n in new_vote_indices:\n",
    "        these_votes = np.zeros(n_votes)\n",
    "        for i in n:\n",
    "            these_votes[i] += 1\n",
    "        new_votes.append(these_votes)\n",
    "    return np.array(new_votes)"
   ]
  },
  {
   "cell_type": "code",
   "execution_count": null,
   "metadata": {},
   "outputs": [],
   "source": [
    "schema.question_index_groups"
   ]
  },
  {
   "cell_type": "code",
   "execution_count": null,
   "metadata": {},
   "outputs": [],
   "source": [
    "question_n = 0\n",
    "question_indices = [2, 4]\n",
    "question_slice = slice(*question_indices)\n",
    "batch_slice = labels[:, question_slice].sum(axis=1) >= 10\n",
    "fewer_votes = pretend_fewer_votes(labels[batch_slice, question_slice])"
   ]
  },
  {
   "cell_type": "code",
   "execution_count": null,
   "metadata": {},
   "outputs": [],
   "source": [
    "reduced_labels = labels.copy()\n",
    "reduced_labels[batch_slice, question_slice] = fewer_votes"
   ]
  },
  {
   "cell_type": "code",
   "execution_count": null,
   "metadata": {},
   "outputs": [],
   "source": [
    "reduced_labels[batch_slice, question_slice]"
   ]
  },
  {
   "cell_type": "code",
   "execution_count": null,
   "metadata": {},
   "outputs": [],
   "source": [
    "active_losses_reduced = dirichlet_stats.dirichlet_mixture_loss(reduced_labels, active_concentrations_combined, schema.question_index_groups)\n",
    "baseline_losses_reduced = dirichlet_stats.dirichlet_mixture_loss(reduced_labels, baseline_concentrations_combined, schema.question_index_groups)"
   ]
  },
  {
   "cell_type": "code",
   "execution_count": null,
   "metadata": {},
   "outputs": [],
   "source": [
    "\n",
    "np.mean(active_losses[:, question_n]), np.mean(baseline_losses[:, question_n])"
   ]
  },
  {
   "cell_type": "code",
   "execution_count": null,
   "metadata": {},
   "outputs": [],
   "source": [
    "\n",
    "np.mean(active_losses_reduced[:, question_n]), np.mean(baseline_losses_reduced[:, question_n])"
   ]
  },
  {
   "cell_type": "code",
   "execution_count": null,
   "metadata": {},
   "outputs": [],
   "source": [
    "active_like_reduced = np.exp(-active_losses_reduced)\n",
    "baseline_like_reduced = np.exp(-baseline_losses_reduced)"
   ]
  },
  {
   "cell_type": "code",
   "execution_count": null,
   "metadata": {},
   "outputs": [],
   "source": [
    "\n",
    "np.mean(active_like_reduced[batch_slice, question_n]), np.mean(baseline_like_reduced[batch_slice, question_n])"
   ]
  },
  {
   "cell_type": "code",
   "execution_count": null,
   "metadata": {},
   "outputs": [],
   "source": [
    "results = []\n",
    "mean_like = (active_like_reduced[batch_slice, question_n] + baseline_like_reduced[batch_slice, question_n]) / 2\n",
    "delta_like = active_like_reduced[batch_slice, question_n] - baseline_like_reduced[batch_slice, question_n]\n",
    "bin_width = 10\n",
    "for min_pc in np.arange(0, 100, bin_width):\n",
    "    max_pc = min_pc + bin_width\n",
    "    min_val, max_val = np.percentile(mean_like, min_pc), np.percentile(mean_like, max_pc)\n",
    "    selection = (mean_like < max_val) & (mean_like >= min_val)\n",
    "    \n",
    "    valid_delta = delta_like[selection]\n",
    "    results.append((min_pc, max_pc, valid_delta.mean()))\n",
    "\n",
    "x = [r[0] for r in results]\n",
    "y = [r[2] for r in results]\n",
    "plt.plot(x, y, marker='.')\n",
    "plt.xlabel('<- Lower like (worse)   Higher like (better) ->')\n",
    "plt.ylabel('<- baseline better   active better ->')\n",
    "plt.axhline(0., color='grey', alpha=.8, linestyle='--')\n",
    "plt.axhline(np.mean([r[2] for r in results]), color='g', alpha=.5, linestyle='--')"
   ]
  },
  {
   "cell_type": "code",
   "execution_count": null,
   "metadata": {},
   "outputs": [],
   "source": []
  },
  {
   "cell_type": "code",
   "execution_count": null,
   "metadata": {},
   "outputs": [],
   "source": []
  },
  {
   "cell_type": "code",
   "execution_count": null,
   "metadata": {},
   "outputs": [],
   "source": [
    "# feat_votes = active_dfs[0]['smooth-or-featured_featured-or-disk']\n",
    "# limit = feat\n",
    "plt.scatter(active_dfs[0]['smooth-or-featured_featured-or-disk'], mean_loss, alpha=.02, s=10)\n",
    "plt.xlim(0, 50)\n",
    "plt.ylim(0, 4)\n",
    "plt.xlabel('Featured/spiral total votes')\n",
    "plt.ylabel('Spiral loss')"
   ]
  },
  {
   "cell_type": "code",
   "execution_count": null,
   "metadata": {},
   "outputs": [],
   "source": [
    "# feat_votes = active_dfs[0]['smooth-or-featured_featured-or-disk']\n",
    "# limit = feat\n",
    "g = sns.jointplot(active_dfs[0]['smooth-or-featured_featured-or-disk'], mean_loss, kind='hex')\n",
    "g.ax_marg_x.set_xlim(0, 50)\n",
    "g.ax_marg_y.set_ylim(0, 4)"
   ]
  },
  {
   "cell_type": "code",
   "execution_count": null,
   "metadata": {},
   "outputs": [],
   "source": [
    "# copied from trust_the_model.ipynb\n",
    "def show_galaxies(df, scale=3, nrows=3, ncols=3):\n",
    "    fig = plt.gcf()\n",
    "\n",
    "    plt.figure(figsize=(scale * nrows, scale * ncols * 1.025))\n",
    "    gs1 = gridspec.GridSpec(nrows, ncols)\n",
    "    gs1.update(wspace=0.0, hspace=0.0)\n",
    "    galaxy_n = 0\n",
    "    for row_n in range(nrows):\n",
    "        for col_n in range(ncols):\n",
    "            galaxy = df.iloc[galaxy_n]\n",
    "            ax = plt.subplot(gs1[row_n, col_n])\n",
    "            if os.path.isfile(galaxy['local_png_loc']):\n",
    "                image = Image.open(galaxy['local_png_loc'])\n",
    "                ax.imshow(image)\n",
    "    #             ax.text(10, 20, 'Smooth = {:.2f}'.format(galaxy['smooth-or-featured_smooth_fraction']), fontsize=12, color='r')\n",
    "    #             ax.text(10, 50, r'$\\rho = {:.2f}$, Var ${:.3f}$'.format(galaxy['median_prediction'], 3*galaxy['predictions_var']), fontsize=12, color='r')\n",
    "    #             ax.text(10, 80, '$L = {:.2f}$'.format(galaxy['bcnn_likelihood']), fontsize=12, color='r')\n",
    "            else:\n",
    "                print('Failed to find ', galaxy['local_png_loc'])\n",
    "            ax.axis('off')\n",
    "            galaxy_n += 1\n",
    "#     print('Mean L: {:.2f}'.format(df[:nrows * ncols]['bcnn_likelihood'].mean()))\n",
    "    fig = plt.gcf()\n",
    "#     fig.tight_layout()\n",
    "    return fig\n"
   ]
  },
  {
   "cell_type": "code",
   "execution_count": null,
   "metadata": {},
   "outputs": [],
   "source": [
    "# active_df_with_pics = pd.merge(active_dfs[0], catalog['', how='left', on='id_str')"
   ]
  },
  {
   "cell_type": "code",
   "execution_count": null,
   "metadata": {},
   "outputs": [],
   "source": [
    "# active_df_with_pics.columns.values"
   ]
  },
  {
   "cell_type": "code",
   "execution_count": null,
   "metadata": {},
   "outputs": [],
   "source": [
    "\n",
    "min_pc = 0\n",
    "max_pc = 10\n",
    "min_val, max_val = np.percentile(mean_loss, min_pc), np.percentile(mean_loss, max_pc)\n",
    "selection = (mean_loss < max_val) & (mean_loss >= min_val)\n",
    "\n",
    "\n",
    "\n",
    "_ = show_galaxies(active_dfs[0][selection])"
   ]
  },
  {
   "cell_type": "code",
   "execution_count": null,
   "metadata": {},
   "outputs": [],
   "source": [
    "\n",
    "min_pc = 20\n",
    "max_pc = 30\n",
    "min_val, max_val = np.percentile(mean_loss, min_pc), np.percentile(mean_loss, max_pc)\n",
    "selection = (mean_loss < max_val) & (mean_loss >= min_val)\n",
    "\n",
    "\n",
    "\n",
    "_ = show_galaxies(active_dfs[0][selection])"
   ]
  },
  {
   "cell_type": "code",
   "execution_count": null,
   "metadata": {},
   "outputs": [],
   "source": [
    "\n",
    "min_pc = 80\n",
    "max_pc = 90\n",
    "min_val, max_val = np.percentile(mean_loss, min_pc), np.percentile(mean_loss, max_pc)\n",
    "selection = (mean_loss < max_val) & (mean_loss >= min_val)\n",
    "\n",
    "\n",
    "\n",
    "_ = show_galaxies(active_dfs[0][selection])"
   ]
  },
  {
   "cell_type": "code",
   "execution_count": null,
   "metadata": {},
   "outputs": [],
   "source": [
    "\n",
    "min_pc = 90\n",
    "max_pc = 100\n",
    "min_val, max_val = np.percentile(mean_loss, min_pc), np.percentile(mean_loss, max_pc)\n",
    "selection = (mean_loss < max_val) & (mean_loss >= min_val)\n",
    "\n",
    "\n",
    "\n",
    "_ = show_galaxies(active_dfs[0][selection])"
   ]
  },
  {
   "cell_type": "code",
   "execution_count": null,
   "metadata": {},
   "outputs": [],
   "source": [
    "question_n"
   ]
  },
  {
   "cell_type": "code",
   "execution_count": null,
   "metadata": {},
   "outputs": [],
   "source": [
    "limits = (0., 8.)\n",
    "plt.hist(active_losses[:, question_n], bins=30, alpha=.5, range=limits, label='active')\n",
    "plt.hist(baseline_losses[:, question_n], bins=30, alpha=.5, range=limits, label='baseline')\n",
    "plt.legend()"
   ]
  },
  {
   "cell_type": "code",
   "execution_count": null,
   "metadata": {},
   "outputs": [],
   "source": []
  },
  {
   "cell_type": "code",
   "execution_count": null,
   "metadata": {},
   "outputs": [],
   "source": [
    "active_losses[:, question_n].mean(), baseline_losses[:, question_n].mean()"
   ]
  },
  {
   "cell_type": "code",
   "execution_count": null,
   "metadata": {},
   "outputs": [],
   "source": [
    "limits = (0., 8.)\n",
    "plt.hist(np.exp(active_losses[:, question_n]), bins=30, alpha=.5, range=limits, label='active')\n",
    "plt.hist(np.exp(baseline_losses[:, question_n]), bins=30, alpha=.5, range=limits, label='baseline')\n",
    "plt.legend()"
   ]
  },
  {
   "cell_type": "code",
   "execution_count": null,
   "metadata": {},
   "outputs": [],
   "source": [
    "active_like"
   ]
  },
  {
   "cell_type": "code",
   "execution_count": null,
   "metadata": {},
   "outputs": [],
   "source": []
  },
  {
   "cell_type": "code",
   "execution_count": null,
   "metadata": {},
   "outputs": [],
   "source": [
    "total_votes = labels[:, :3].sum(axis=1)\n",
    "retired_selection = total_votes > 36\n",
    "retired_selection.mean()"
   ]
  },
  {
   "cell_type": "code",
   "execution_count": null,
   "metadata": {},
   "outputs": [],
   "source": [
    "plt.hist(total_votes, bins=30)"
   ]
  },
  {
   "cell_type": "code",
   "execution_count": null,
   "metadata": {},
   "outputs": [],
   "source": [
    "schema.questions"
   ]
  },
  {
   "cell_type": "code",
   "execution_count": null,
   "metadata": {},
   "outputs": [],
   "source": [
    "question_n = 2\n",
    "bins = 30\n",
    "plt.hist(active_like[:, question_n], bins=bins, alpha=.5, label='active')\n",
    "plt.hist(baseline_like[:, question_n], bins=bins, alpha=.5, label='baseline')\n",
    "plt.legend()"
   ]
  },
  {
   "cell_type": "code",
   "execution_count": null,
   "metadata": {},
   "outputs": [],
   "source": [
    "\n",
    "active_like.mean(axis=0), baseline_like.mean(axis=0)"
   ]
  },
  {
   "cell_type": "code",
   "execution_count": null,
   "metadata": {},
   "outputs": [],
   "source": [
    "\n",
    "active_like.mean(axis=0) - baseline_like.mean(axis=0)"
   ]
  },
  {
   "cell_type": "code",
   "execution_count": null,
   "metadata": {},
   "outputs": [],
   "source": [
    "active_like[:, question_n].mean(), baseline_like[:, question_n].mean()"
   ]
  },
  {
   "cell_type": "code",
   "execution_count": null,
   "metadata": {},
   "outputs": [],
   "source": [
    "np.product(active_like[:, question_n]), np.product(baseline_like[:, question_n])"
   ]
  },
  {
   "cell_type": "code",
   "execution_count": null,
   "metadata": {},
   "outputs": [],
   "source": [
    "low, high = 10 ** 3, .9\n",
    "bins = np.logspace(np.log10(low),np.log10(high), 50)\n",
    "plt.hist(active_like[:, question_n]), bins=bins, alpha=.5, label='active')\n",
    "plt.hist(baseline_like[:, question_n]), bins=bins, alpha=.5, label='baseline')\n",
    "plt.gca().set_xscale(\"log\")\n",
    "plt.legend()"
   ]
  },
  {
   "cell_type": "code",
   "execution_count": null,
   "metadata": {},
   "outputs": [],
   "source": [
    "np.exp(active_losses[:, question_n]).mean(), np.exp(baseline_losses[:, question_n]).mean()"
   ]
  },
  {
   "cell_type": "code",
   "execution_count": null,
   "metadata": {},
   "outputs": [],
   "source": []
  }
 ],
 "metadata": {
  "kernelspec": {
   "display_name": "Python 3",
   "language": "python",
   "name": "python3"
  },
  "language_info": {
   "codemirror_mode": {
    "name": "ipython",
    "version": 3
   },
   "file_extension": ".py",
   "mimetype": "text/x-python",
   "name": "python",
   "nbconvert_exporter": "python",
   "pygments_lexer": "ipython3",
   "version": "3.7.6"
  }
 },
 "nbformat": 4,
 "nbformat_minor": 4
}
