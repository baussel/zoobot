{
 "cells": [
  {
   "cell_type": "code",
   "execution_count": 1,
   "metadata": {},
   "outputs": [],
   "source": [
    "%load_ext autoreload\n",
    "%autoreload 2\n",
    "%matplotlib inline"
   ]
  },
  {
   "cell_type": "code",
   "execution_count": 2,
   "metadata": {},
   "outputs": [],
   "source": [
    "import matplotlib"
   ]
  },
  {
   "cell_type": "code",
   "execution_count": 15,
   "metadata": {},
   "outputs": [],
   "source": [
    "import os\n",
    "import logging\n",
    "import argparse\n",
    "import glob\n",
    "import json\n",
    "from collections import Counter\n",
    "\n",
    "import numpy as np\n",
    "from matplotlib.ticker import StrMethodFormatter\n",
    "\n",
    "import matplotlib.pyplot as plt\n",
    "import matplotlib.gridspec as gridspec\n",
    "import seaborn as sns\n",
    "from sklearn import metrics\n",
    "import tensorflow as tf\n",
    "import pandas as pd\n",
    "from astropy.table import Table  # for NSA\n",
    "from astropy import units as u\n",
    "from sklearn.metrics import confusion_matrix, roc_curve\n",
    "from PIL import Image\n",
    "from scipy.stats import binom\n",
    "from IPython.display import display, Markdown\n",
    "\n",
    "from sklearn.metrics import accuracy_score, mean_squared_error, mean_absolute_error\n",
    "\n",
    "from shared_astro_utils import astropy_utils, matching_utils\n",
    "from zoobot.estimators import make_predictions, bayesian_estimator_funcs\n",
    "from zoobot.tfrecord import read_tfrecord\n",
    "from zoobot.uncertainty import discrete_coverage\n",
    "from zoobot.estimators import input_utils, losses, concentration_utils \n",
    "from zoobot.tfrecord import catalog_to_tfrecord\n",
    "from zoobot.active_learning import metrics, simulated_metrics, acquisition_utils, check_uncertainty, simulation_timeline, run_estimator_config\n",
    "from zoobot import label_metadata\n",
    "from zoobot.active_learning import acquisition_utils\n",
    "from zoobot.estimators import dirichlet_stats"
   ]
  },
  {
   "cell_type": "code",
   "execution_count": 4,
   "metadata": {},
   "outputs": [],
   "source": [
    "os.chdir('/home/walml/repos/zoobot')"
   ]
  },
  {
   "cell_type": "code",
   "execution_count": 5,
   "metadata": {},
   "outputs": [
    {
     "name": "stdout",
     "output_type": "stream",
     "text": [
      "{smooth-or-featured, indices 0 to 2, asked after None: (0, 2), disk-edge-on, indices 3 to 4, asked after smooth-or-featured_featured-or-disk, index 1: (3, 4), has-spiral-arms, indices 5 to 6, asked after disk-edge-on_no, index 4: (5, 6), bar, indices 7 to 9, asked after disk-edge-on_no, index 4: (7, 9), bulge-size, indices 10 to 14, asked after disk-edge-on_no, index 4: (10, 14), how-rounded, indices 15 to 17, asked after smooth-or-featured_smooth, index 0: (15, 17), edge-on-bulge, indices 18 to 20, asked after disk-edge-on_yes, index 3: (18, 20), spiral-winding, indices 21 to 23, asked after has-spiral-arms_yes, index 5: (21, 23), spiral-arm-count, indices 24 to 29, asked after has-spiral-arms_yes, index 5: (24, 29), merging, indices 30 to 33, asked after None: (30, 33)}\n"
     ]
    }
   ],
   "source": [
    "label_cols = label_metadata.decals_label_cols\n",
    "questions = label_metadata.decals_questions\n",
    "\n",
    "\n",
    "# state_loc = 'results/temp/gz2_all_q_warm_active/iteration_0/state.pickle'\n",
    "# label_cols = label_metadata.gz2_label_cols\n",
    "# questions = label_metadata.gz2_questions\n",
    "\n",
    "version = 'decals'\n",
    "schema = losses.Schema(label_cols, questions, version=version)"
   ]
  },
  {
   "cell_type": "code",
   "execution_count": 84,
   "metadata": {},
   "outputs": [],
   "source": [
    "m = 0\n",
    "\n",
    "n2 = pd.read_csv(f'temp/decals_n2_allq_m{m}.csv')\n",
    "retired = pd.read_csv(f'temp/decals_retired_allq_m{m}.csv')"
   ]
  },
  {
   "cell_type": "code",
   "execution_count": 85,
   "metadata": {},
   "outputs": [],
   "source": [
    "concentration_cols = [col + '_concentration' for col in label_cols]\n",
    "# concentration_mean_cols = [col + '_concentration_mean' for col in label_cols]"
   ]
  },
  {
   "cell_type": "code",
   "execution_count": null,
   "metadata": {},
   "outputs": [],
   "source": []
  },
  {
   "cell_type": "code",
   "execution_count": null,
   "metadata": {},
   "outputs": [],
   "source": []
  },
  {
   "cell_type": "code",
   "execution_count": null,
   "metadata": {},
   "outputs": [],
   "source": []
  },
  {
   "cell_type": "code",
   "execution_count": 86,
   "metadata": {},
   "outputs": [],
   "source": [
    "id_strs=n2['iauname']\n",
    "\n",
    "answer_cols = [a.text for a in schema.answers]\n",
    "labels = n2[answer_cols].values  # same for all\n",
    "\n",
    "n2_concentrations = concentration_utils.load_all_concentrations(n2, concentration_cols)\n",
    "n2_d0 = n2_concentrations[:, :, 0]  # first dropout only\n",
    "n2_mean = n2_concentrations.mean(axis=2)\n",
    "\n",
    "retired_concentrations = concentration_utils.load_all_concentrations(retired, concentration_cols)\n",
    "retired_d0 = retired_concentrations[:, :, 0]  # first dropout only\n",
    "retired_mean = retired_concentrations.mean(axis=2)"
   ]
  },
  {
   "cell_type": "code",
   "execution_count": 89,
   "metadata": {},
   "outputs": [],
   "source": [
    "mean_c_loss_list = []\n",
    "for predictions in [n2_d0, retired_d0]:\n",
    "    loss = losses.multiquestion_loss(\n",
    "        tf.constant(labels, dtype=tf.float32),\n",
    "        tf.constant(predictions, dtype=tf.float32),\n",
    "        schema.question_index_groups\n",
    "    )\n",
    "    mean_c_loss_list.append(loss)\n",
    "    \n"
   ]
  },
  {
   "cell_type": "code",
   "execution_count": 90,
   "metadata": {},
   "outputs": [],
   "source": [
    "# mixture_loss_list_old = []  # much, much slower - more than 5x slower, I think!\n",
    "# for concentrations in [n2_concentrations, retired_concentrations]:\n",
    "#     loss = dirichlet_stats.dirichlet_mixture_loss(\n",
    "#         labels.astype(np.float32),\n",
    "#         concentrations.astype(np.float32),\n",
    "#         schema.question_index_groups\n",
    "#     )\n",
    "#     mixture_loss_list_old.append(loss)\n"
   ]
  },
  {
   "cell_type": "code",
   "execution_count": 91,
   "metadata": {},
   "outputs": [],
   "source": [
    "mixture_loss_list = [] \n",
    "for concentrations in [n2_concentrations, retired_concentrations]:\n",
    "    loss = dirichlet_stats.dirichlet_mixture_loss(\n",
    "        labels.astype(np.float32),\n",
    "        concentrations.astype(np.float32),\n",
    "        schema.question_index_groups\n",
    "    )\n",
    "    mixture_loss_list.append(loss)\n"
   ]
  },
  {
   "cell_type": "code",
   "execution_count": 92,
   "metadata": {},
   "outputs": [],
   "source": [
    "# mixture_loss_list_old"
   ]
  },
  {
   "cell_type": "code",
   "execution_count": 93,
   "metadata": {},
   "outputs": [
    {
     "data": {
      "text/plain": [
       "[<tf.Tensor: shape=(10000, 10), dtype=float32, numpy=\n",
       " array([[ 4.765076  ,  3.4311857 ,  2.3687313 , ...,  4.0230474 ,\n",
       "          7.1300426 ,  5.622688  ],\n",
       "        [ 4.9147744 ,  1.1056249 ,  1.9638116 , ...,  2.0667663 ,\n",
       "          4.4188237 ,  6.5865803 ],\n",
       "        [ 4.7715483 ,  0.40806296,  0.8256049 , ..., -0.        ,\n",
       "         -0.        , 14.693946  ],\n",
       "        ...,\n",
       "        [ 3.846275  , -0.        , -0.        , ..., -0.        ,\n",
       "         -0.        ,  1.3941455 ],\n",
       "        [ 2.2607617 ,  1.382334  , -0.        , ..., -0.        ,\n",
       "         -0.        ,  3.7067997 ],\n",
       "        [ 2.8507156 ,  0.4699279 , -0.        , ..., -0.        ,\n",
       "         -0.        ,  1.10864   ]], dtype=float32)>,\n",
       " <tf.Tensor: shape=(10000, 10), dtype=float32, numpy=\n",
       " array([[ 4.3190722 ,  3.1281054 ,  2.29303   , ...,  4.365605  ,\n",
       "          8.514804  ,  5.3978753 ],\n",
       "        [ 4.796269  ,  1.1384985 ,  2.1909742 , ...,  2.0987647 ,\n",
       "          4.784202  ,  6.6104884 ],\n",
       "        [ 5.3674273 ,  0.8506503 ,  0.9590745 , ..., -0.        ,\n",
       "         -0.        ,  8.782398  ],\n",
       "        ...,\n",
       "        [ 3.7639067 , -0.        , -0.        , ..., -0.        ,\n",
       "         -0.        ,  1.6015701 ],\n",
       "        [ 2.7958183 ,  0.98015606, -0.        , ..., -0.        ,\n",
       "         -0.        ,  3.3978162 ],\n",
       "        [ 1.9603822 ,  0.48412678, -0.        , ..., -0.        ,\n",
       "         -0.        ,  1.6167138 ]], dtype=float32)>]"
      ]
     },
     "execution_count": 93,
     "metadata": {},
     "output_type": "execute_result"
    }
   ],
   "source": [
    "mixture_loss_list"
   ]
  },
  {
   "cell_type": "code",
   "execution_count": null,
   "metadata": {},
   "outputs": [],
   "source": []
  },
  {
   "cell_type": "code",
   "execution_count": null,
   "metadata": {},
   "outputs": [],
   "source": []
  },
  {
   "cell_type": "code",
   "execution_count": null,
   "metadata": {},
   "outputs": [],
   "source": []
  },
  {
   "cell_type": "code",
   "execution_count": 96,
   "metadata": {},
   "outputs": [],
   "source": [
    "n2_loss = mixture_loss_list[0].numpy()\n",
    "retired_loss = mixture_loss_list[1].numpy()"
   ]
  },
  {
   "cell_type": "code",
   "execution_count": 97,
   "metadata": {},
   "outputs": [
    {
     "data": {
      "text/plain": [
       "(1.287296, 1.3187366)"
      ]
     },
     "execution_count": 97,
     "metadata": {},
     "output_type": "execute_result"
    }
   ],
   "source": [
    "n2_loss.mean(), retired_loss.mean()"
   ]
  },
  {
   "cell_type": "code",
   "execution_count": 98,
   "metadata": {},
   "outputs": [
    {
     "data": {
      "text/plain": [
       "(2.6029947, 2.6554103)"
      ]
     },
     "execution_count": 98,
     "metadata": {},
     "output_type": "execute_result"
    }
   ],
   "source": [
    "retired_galaxies = (n2['smooth-or-featured_total-votes'] > 36) &  (n2['smooth-or-featured_total-votes'] < 70)\n",
    "n2_loss[retired_galaxies].mean(), retired_loss[retired_galaxies].mean()"
   ]
  },
  {
   "cell_type": "code",
   "execution_count": 99,
   "metadata": {},
   "outputs": [],
   "source": [
    "data = []\n",
    "model = 'n2'\n",
    "for question_n, question in enumerate(schema.questions):\n",
    "    data.append({'model': model, 'question': question.text, 'loss': n2_loss[:, question_n].mean()})"
   ]
  },
  {
   "cell_type": "code",
   "execution_count": 100,
   "metadata": {},
   "outputs": [],
   "source": [
    "\n",
    "model = 'retired'\n",
    "for question_n, question in enumerate(schema.questions):\n",
    "    data.append({'model': model, 'question': question.text, 'loss': retired_loss[:, question_n].mean()})"
   ]
  },
  {
   "cell_type": "code",
   "execution_count": 101,
   "metadata": {},
   "outputs": [],
   "source": [
    "df = pd.DataFrame(data=data)"
   ]
  },
  {
   "cell_type": "code",
   "execution_count": 102,
   "metadata": {},
   "outputs": [
    {
     "data": {
      "text/plain": [
       "<matplotlib.axes._subplots.AxesSubplot at 0x7fc7bb384790>"
      ]
     },
     "execution_count": 102,
     "metadata": {},
     "output_type": "execute_result"
    },
    {
     "data": {
      "image/png": "[encoded data removed]",
      "text/plain": [
       "<Figure size 1152x432 with 1 Axes>"
      ]
     },
     "metadata": {
      "needs_background": "light"
     },
     "output_type": "display_data"
    }
   ],
   "source": [
    "plt.subplots(figsize=(16, 6))\n",
    "sns.barplot(data=df, x='question', y='loss', hue='model')"
   ]
  },
  {
   "cell_type": "code",
   "execution_count": null,
   "metadata": {},
   "outputs": [],
   "source": []
  },
  {
   "cell_type": "code",
   "execution_count": 103,
   "metadata": {},
   "outputs": [],
   "source": [
    "mean_per_q = df.groupby('question').agg({'loss': 'min'}).reset_index()\n",
    "mean_per_q['min_loss'] = mean_per_q['loss']\n",
    "del mean_per_q['loss']"
   ]
  },
  {
   "cell_type": "code",
   "execution_count": 104,
   "metadata": {},
   "outputs": [],
   "source": [
    "df = pd.merge(df, mean_per_q, on='question', how='inner')"
   ]
  },
  {
   "cell_type": "code",
   "execution_count": 105,
   "metadata": {},
   "outputs": [],
   "source": [
    "df['loss_delta'] = df['loss'] - df['min_loss']"
   ]
  },
  {
   "cell_type": "code",
   "execution_count": 106,
   "metadata": {},
   "outputs": [
    {
     "data": {
      "text/plain": [
       "<matplotlib.axes._subplots.AxesSubplot at 0x7fc84aea5810>"
      ]
     },
     "execution_count": 106,
     "metadata": {},
     "output_type": "execute_result"
    },
    {
     "data": {
      "image/png": "[encoded data removed]",
      "text/plain": [
       "<Figure size 1152x432 with 1 Axes>"
      ]
     },
     "metadata": {
      "needs_background": "light"
     },
     "output_type": "display_data"
    }
   ],
   "source": [
    "plt.subplots(figsize=(16, 6))\n",
    "sns.barplot(data=df, x='question', y='loss_delta', hue='model')"
   ]
  },
  {
   "cell_type": "code",
   "execution_count": null,
   "metadata": {},
   "outputs": [],
   "source": []
  }
 ],
 "metadata": {
  "kernelspec": {
   "display_name": "Python 3",
   "language": "python",
   "name": "python3"
  },
  "language_info": {
   "codemirror_mode": {
    "name": "ipython",
    "version": 3
   },
   "file_extension": ".py",
   "mimetype": "text/x-python",
   "name": "python",
   "nbconvert_exporter": "python",
   "pygments_lexer": "ipython3",
   "version": "3.7.6"
  }
 },
 "nbformat": 4,
 "nbformat_minor": 4
}
