{
 "cells": [
  {
   "cell_type": "code",
   "execution_count": 1,
   "metadata": {},
   "outputs": [],
   "source": [
    "%load_ext autoreload\n",
    "%autoreload 2\n",
    "%matplotlib inline"
   ]
  },
  {
   "cell_type": "code",
   "execution_count": 2,
   "metadata": {},
   "outputs": [],
   "source": [
    "import matplotlib"
   ]
  },
  {
   "cell_type": "code",
   "execution_count": 3,
   "metadata": {},
   "outputs": [],
   "source": [
    "import os\n",
    "import logging\n",
    "import argparse\n",
    "import glob\n",
    "import json\n",
    "from collections import Counter\n",
    "\n",
    "import numpy as np\n",
    "from matplotlib.ticker import StrMethodFormatter\n",
    "\n",
    "import matplotlib.pyplot as plt\n",
    "import matplotlib.gridspec as gridspec\n",
    "import seaborn as sns\n",
    "from sklearn import metrics\n",
    "import tensorflow as tf\n",
    "import pandas as pd\n",
    "from astropy.table import Table  # for NSA\n",
    "from astropy import units as u\n",
    "from sklearn.metrics import confusion_matrix, roc_curve\n",
    "from PIL import Image\n",
    "from scipy.stats import binom\n",
    "from IPython.display import display, Markdown\n",
    "\n",
    "from sklearn.metrics import accuracy_score, mean_squared_error, mean_absolute_error\n",
    "\n",
    "from shared_astro_utils import astropy_utils, matching_utils\n",
    "from zoobot.estimators import make_predictions, bayesian_estimator_funcs\n",
    "from zoobot.tfrecord import read_tfrecord\n",
    "from zoobot.uncertainty import discrete_coverage\n",
    "from zoobot.estimators import input_utils, losses\n",
    "from zoobot.tfrecord import catalog_to_tfrecord\n",
    "from zoobot.active_learning import metrics, simulated_metrics, acquisition_utils, check_uncertainty, simulation_timeline, run_estimator_config\n"
   ]
  },
  {
   "cell_type": "code",
   "execution_count": 4,
   "metadata": {},
   "outputs": [],
   "source": [
    "gpus = tf.config.experimental.list_physical_devices('GPU')\n",
    "if gpus:\n",
    "    for gpu in gpus:\n",
    "        tf.config.experimental.set_memory_growth(gpu, True)\n"
   ]
  },
  {
   "cell_type": "code",
   "execution_count": 5,
   "metadata": {},
   "outputs": [],
   "source": [
    "os.chdir('/home/walml/repos/zoobot')"
   ]
  },
  {
   "cell_type": "code",
   "execution_count": 6,
   "metadata": {},
   "outputs": [],
   "source": [
    "# catalog_loc = 'data/latest_labelled_catalog.csv\n",
    "# catalog_loc = 'data/decals/decals_master_catalog.csv'\n",
    "catalog_loc = 'data/gz2/gz2_master_catalog.csv'\n",
    "catalog = pd.read_csv(catalog_loc, dtype={'subject_id': str})  # original catalog\n",
    "catalog['file_loc'] = catalog['local_png_loc'].apply(lambda x: '/media/walml/beta/decals/png_native' + x[32:])\n",
    "\n",
    "\n",
    "# catalog_loc = 'data/decals/temp_calibration_catalog.csv'\n",
    "# catalog = pd.read_csv(catalog_loc, dtype={'subject_id': str})  # original catalog\n"
   ]
  },
  {
   "cell_type": "code",
   "execution_count": 7,
   "metadata": {},
   "outputs": [],
   "source": [
    "label_cols = [\n",
    "    'has-spiral-arms_yes',\n",
    "    'has-spiral-arms_no'\n",
    "]\n"
   ]
  },
  {
   "cell_type": "code",
   "execution_count": 9,
   "metadata": {},
   "outputs": [],
   "source": [
    "\n",
    "batch_size = 8\n",
    "initial_size = 300\n",
    "# initial_size = 128\n",
    "crop_size = int(initial_size * 0.75)\n",
    "# crop_size = 128\n",
    "final_size = 224\n",
    "channels = 3"
   ]
  },
  {
   "cell_type": "code",
   "execution_count": 10,
   "metadata": {},
   "outputs": [
    {
     "name": "stderr",
     "output_type": "stream",
     "text": [
      "WARNING:root:Loading multiple tfrecords with interleaving, shuffle=False\n"
     ]
    },
    {
     "name": "stdout",
     "output_type": "stream",
     "text": [
      "['/home/walml/repos/zoobot/data/gz2/shards/all_featp5_facep5_sim_300/eval_shards/s300_shard_0.tfrecord']\n"
     ]
    }
   ],
   "source": [
    "train_locs = glob.glob(f'/home/walml/repos/zoobot/data/gz2/shards/all_featp5_facep5_sim_{initial_size}/train_shards/*.tfrecord')\n",
    "eval_locs = glob.glob(f'/home/walml/repos/zoobot/data/gz2/shards/all_featp5_facep5_sim_{initial_size}/eval_shards/*.tfrecord')\n",
    "# tfrecord_locs = train_locs + eval_locs\n",
    "tfrecord_locs = eval_locs\n",
    "\n",
    "print(tfrecord_locs)\n",
    "eval_config = run_estimator_config.get_eval_config(tfrecord_locs, label_cols, batch_size, initial_size, final_size, channels)\n",
    "# print(eval_config.greyscale)\n",
    "# print(eval_config.permute_channels)\n",
    "eval_config.drop_remainder = False\n",
    "dataset = input_utils.get_input(config=eval_config)\n"
   ]
  },
  {
   "cell_type": "code",
   "execution_count": 297,
   "metadata": {},
   "outputs": [],
   "source": [
    "def get_data_from_loc(loc):\n",
    "    feature_spec = input_utils.get_feature_spec({'id_str': 'string'})\n",
    "    id_str_dataset = input_utils.get_dataset(loc, feature_spec, batch_size=1, shuffle=False, repeat=False, drop_remainder=False)\n",
    "    id_strs = [str(d['id_str'].numpy().squeeze())[2:-1] for d in id_str_dataset]\n",
    "    eval_config = run_estimator_config.get_eval_config(loc, label_cols, batch_size, initial_size, final_size, channels)\n",
    "    dataset = input_utils.get_input(config=eval_config)\n",
    "#     all_fingerprints = [fingerprint_batch(b) for b, _ in dataset]\n",
    "#     flat_fingerprints = [tuple(f.numpy().astype(float)) for b in all_fingerprints for f in b]\n",
    "#     fingerprint_db = pd.DataFrame(data={'id_str': id_strs, 'fingerprint': flat_fingerprints})\n",
    "    fingerprint_db = pd.DataFrame(data={'id_str': id_strs})\n",
    "    return fingerprint_db"
   ]
  },
  {
   "cell_type": "code",
   "execution_count": 298,
   "metadata": {},
   "outputs": [
    {
     "name": "stderr",
     "output_type": "stream",
     "text": [
      "WARNING:root:Loading single tfrecord /home/walml/repos/zoobot/data/gz2/shards/all_featp5_facep5_sim_300/train_shards/s300_shard_2.tfrecord - is this expected?\n",
      "WARNING:root:Loading single tfrecord /home/walml/repos/zoobot/data/gz2/shards/all_featp5_facep5_sim_300/train_shards/s300_shard_2.tfrecord - is this expected?\n",
      "WARNING:root:Loading single tfrecord /home/walml/repos/zoobot/data/gz2/shards/all_featp5_facep5_sim_300/train_shards/s300_shard_1.tfrecord - is this expected?\n",
      "WARNING:root:Loading single tfrecord /home/walml/repos/zoobot/data/gz2/shards/all_featp5_facep5_sim_300/train_shards/s300_shard_1.tfrecord - is this expected?\n",
      "WARNING:root:Loading single tfrecord /home/walml/repos/zoobot/data/gz2/shards/all_featp5_facep5_sim_300/train_shards/s300_shard_0.tfrecord - is this expected?\n",
      "WARNING:root:Loading single tfrecord /home/walml/repos/zoobot/data/gz2/shards/all_featp5_facep5_sim_300/train_shards/s300_shard_0.tfrecord - is this expected?\n"
     ]
    }
   ],
   "source": [
    "fingerprint_data = []\n",
    "for loc in train_locs:\n",
    "    fingerprint_db = get_data_from_loc(loc)\n",
    "    name = os.path.basename(loc)\n",
    "    fingerprint_db['name'] = name\n",
    "    fingerprint_data.append(fingerprint_db)\n",
    "fingerprint_df = pd.concat(fingerprint_data, axis=0)"
   ]
  },
  {
   "cell_type": "code",
   "execution_count": 299,
   "metadata": {},
   "outputs": [
    {
     "data": {
      "text/html": [
       "<div>\n",
       "<style scoped>\n",
       "    .dataframe tbody tr th:only-of-type {\n",
       "        vertical-align: middle;\n",
       "    }\n",
       "\n",
       "    .dataframe tbody tr th {\n",
       "        vertical-align: top;\n",
       "    }\n",
       "\n",
       "    .dataframe thead th {\n",
       "        text-align: right;\n",
       "    }\n",
       "</style>\n",
       "<table border=\"1\" class=\"dataframe\">\n",
       "  <thead>\n",
       "    <tr style=\"text-align: right;\">\n",
       "      <th></th>\n",
       "      <th>id_str</th>\n",
       "      <th>name</th>\n",
       "    </tr>\n",
       "  </thead>\n",
       "  <tbody>\n",
       "    <tr>\n",
       "      <th>0</th>\n",
       "      <td>dr7objid_587741602027012125</td>\n",
       "      <td>s300_shard_2.tfrecord</td>\n",
       "    </tr>\n",
       "    <tr>\n",
       "      <th>1</th>\n",
       "      <td>dr7objid_587733609088418036</td>\n",
       "      <td>s300_shard_2.tfrecord</td>\n",
       "    </tr>\n",
       "    <tr>\n",
       "      <th>2</th>\n",
       "      <td>dr7objid_587729409151926291</td>\n",
       "      <td>s300_shard_2.tfrecord</td>\n",
       "    </tr>\n",
       "    <tr>\n",
       "      <th>3</th>\n",
       "      <td>dr7objid_587739406264238209</td>\n",
       "      <td>s300_shard_2.tfrecord</td>\n",
       "    </tr>\n",
       "    <tr>\n",
       "      <th>4</th>\n",
       "      <td>dr7objid_587741725511778505</td>\n",
       "      <td>s300_shard_2.tfrecord</td>\n",
       "    </tr>\n",
       "  </tbody>\n",
       "</table>\n",
       "</div>"
      ],
      "text/plain": [
       "                        id_str                   name\n",
       "0  dr7objid_587741602027012125  s300_shard_2.tfrecord\n",
       "1  dr7objid_587733609088418036  s300_shard_2.tfrecord\n",
       "2  dr7objid_587729409151926291  s300_shard_2.tfrecord\n",
       "3  dr7objid_587739406264238209  s300_shard_2.tfrecord\n",
       "4  dr7objid_587741725511778505  s300_shard_2.tfrecord"
      ]
     },
     "execution_count": 299,
     "metadata": {},
     "output_type": "execute_result"
    }
   ],
   "source": [
    "fingerprint_df.head()"
   ]
  },
  {
   "cell_type": "code",
   "execution_count": 301,
   "metadata": {},
   "outputs": [],
   "source": [
    "# fingerprint_df['fingerprint'].value_counts()"
   ]
  },
  {
   "cell_type": "code",
   "execution_count": 310,
   "metadata": {},
   "outputs": [
    {
     "data": {
      "text/plain": [
       "s300_shard_1.tfrecord    4096\n",
       "s300_shard_0.tfrecord    4096\n",
       "s300_shard_2.tfrecord     323\n",
       "Name: name, dtype: int64"
      ]
     },
     "execution_count": 310,
     "metadata": {},
     "output_type": "execute_result"
    }
   ],
   "source": [
    "fingerprint_df['name'].value_counts()"
   ]
  },
  {
   "cell_type": "code",
   "execution_count": 259,
   "metadata": {},
   "outputs": [],
   "source": []
  },
  {
   "cell_type": "code",
   "execution_count": 303,
   "metadata": {},
   "outputs": [
    {
     "name": "stderr",
     "output_type": "stream",
     "text": [
      "WARNING:root:Loading multiple tfrecords with interleaving, shuffle=False\n",
      "WARNING:root:Loading multiple tfrecords with interleaving, shuffle=False\n"
     ]
    }
   ],
   "source": [
    "multirecord = get_data_from_loc(train_locs)"
   ]
  },
  {
   "cell_type": "code",
   "execution_count": 306,
   "metadata": {},
   "outputs": [
    {
     "data": {
      "text/plain": [
       "(8515, 8515)"
      ]
     },
     "execution_count": 306,
     "metadata": {},
     "output_type": "execute_result"
    }
   ],
   "source": [
    "len(multirecord), len(fingerprint_df)"
   ]
  },
  {
   "cell_type": "code",
   "execution_count": 309,
   "metadata": {},
   "outputs": [
    {
     "data": {
      "text/plain": [
       "8515"
      ]
     },
     "execution_count": 309,
     "metadata": {},
     "output_type": "execute_result"
    }
   ],
   "source": [
    "len(set(multirecord['id_str']).intersection(set(fingerprint_df['id_str'])))"
   ]
  },
  {
   "cell_type": "code",
   "execution_count": 304,
   "metadata": {},
   "outputs": [],
   "source": [
    "df = pd.merge(multirecord, fingerprint_df[['id_str', 'name']], on='id_str', how='left')"
   ]
  },
  {
   "cell_type": "code",
   "execution_count": 305,
   "metadata": {},
   "outputs": [
    {
     "data": {
      "text/plain": [
       "dr7objid_587733441048740041    1\n",
       "dr7objid_587742060554616867    1\n",
       "dr7objid_587742014368907518    1\n",
       "dr7objid_587732482218524798    1\n",
       "dr7objid_587742014908334278    1\n",
       "                              ..\n",
       "dr7objid_587739721385247023    1\n",
       "dr7objid_587728879260860524    1\n",
       "dr7objid_587736543630852175    1\n",
       "dr7objid_587741533312516203    1\n",
       "dr7objid_587736542017487081    1\n",
       "Name: id_str, Length: 8515, dtype: int64"
      ]
     },
     "execution_count": 305,
     "metadata": {},
     "output_type": "execute_result"
    }
   ],
   "source": [
    "df['id_str'].value_counts()"
   ]
  },
  {
   "cell_type": "code",
   "execution_count": 311,
   "metadata": {},
   "outputs": [
    {
     "data": {
      "text/plain": [
       "s300_shard_1.tfrecord    4096\n",
       "s300_shard_0.tfrecord    4096\n",
       "s300_shard_2.tfrecord     323\n",
       "Name: name, dtype: int64"
      ]
     },
     "execution_count": 311,
     "metadata": {},
     "output_type": "execute_result"
    }
   ],
   "source": [
    "df['name'].value_counts()"
   ]
  },
  {
   "cell_type": "code",
   "execution_count": 312,
   "metadata": {},
   "outputs": [
    {
     "data": {
      "text/plain": [
       "0       s300_shard_2.tfrecord\n",
       "1       s300_shard_1.tfrecord\n",
       "2       s300_shard_0.tfrecord\n",
       "3       s300_shard_2.tfrecord\n",
       "4       s300_shard_1.tfrecord\n",
       "                ...          \n",
       "8510    s300_shard_0.tfrecord\n",
       "8511    s300_shard_1.tfrecord\n",
       "8512    s300_shard_0.tfrecord\n",
       "8513    s300_shard_1.tfrecord\n",
       "8514    s300_shard_0.tfrecord\n",
       "Name: name, Length: 8515, dtype: object"
      ]
     },
     "execution_count": 312,
     "metadata": {},
     "output_type": "execute_result"
    }
   ],
   "source": [
    "df['name']"
   ]
  },
  {
   "cell_type": "markdown",
   "metadata": {},
   "source": [
    "So the loading pattern is cycle of length=3 until smallest record exhausted, then cycle of length=2, etc"
   ]
  },
  {
   "cell_type": "code",
   "execution_count": null,
   "metadata": {},
   "outputs": [],
   "source": []
  },
  {
   "cell_type": "code",
   "execution_count": null,
   "metadata": {},
   "outputs": [],
   "source": []
  },
  {
   "cell_type": "code",
   "execution_count": 245,
   "metadata": {},
   "outputs": [],
   "source": [
    "def fingerprint_batch(image_batch, loc=None):\n",
    "#     return np.array([fingerprint(image) for image in image_batch.numpy()])\n",
    "    result = tf.reduce_sum(image_batch, axis=[1, 2])\n",
    "    \n",
    "    if loc is not None:\n",
    "        with open(loc, 'a+') as f:\n",
    "            for image_fingerprint in result.numpy().astype(float):\n",
    "                f.write(json.dumps(tuple(image_fingerprint.flatten())) + '\\n')\n",
    "    return result"
   ]
  },
  {
   "cell_type": "code",
   "execution_count": 246,
   "metadata": {},
   "outputs": [],
   "source": [
    "def fingerprint(image):\n",
    "    return image.sum(axis=1)"
   ]
  },
  {
   "cell_type": "code",
   "execution_count": 247,
   "metadata": {},
   "outputs": [
    {
     "data": {
      "text/plain": [
       "(224, 3)"
      ]
     },
     "execution_count": 247,
     "metadata": {},
     "output_type": "execute_result"
    }
   ],
   "source": [
    "fingerprint(np.random.rand(final_size, final_size, channels)).shape"
   ]
  },
  {
   "cell_type": "code",
   "execution_count": 248,
   "metadata": {
    "scrolled": true
   },
   "outputs": [
    {
     "name": "stdout",
     "output_type": "stream",
     "text": [
      "8\n",
      "(8, 3)\n"
     ]
    }
   ],
   "source": [
    "dummy_batch = tf.constant(np.random.rand(batch_size, final_size, final_size, channels), dtype=tf.float32)\n",
    "result = fingerprint_batch(dummy_batch)\n",
    "print(len(result))\n",
    "print(result.shape)"
   ]
  },
  {
   "cell_type": "code",
   "execution_count": 249,
   "metadata": {},
   "outputs": [],
   "source": [
    "temp_loc = 'notebooks/multiq/loaded.text'\n",
    "if os.path.isfile(temp_loc):\n",
    "    os.remove(temp_loc)"
   ]
  },
  {
   "cell_type": "code",
   "execution_count": 250,
   "metadata": {},
   "outputs": [],
   "source": [
    "model = tf.keras.Sequential(\n",
    "    [\n",
    "        tf.keras.layers.Lambda(lambda x: fingerprint_batch(x, loc=temp_loc), output_shape=[batch_size, final_size, channels]),\n",
    "        tf.keras.layers.Lambda(lambda x: tf.random.uniform(shape=[batch_size]), output_shape=[batch_size])\n",
    "    ]\n",
    ")\n",
    "model.run_eagerly = True"
   ]
  },
  {
   "cell_type": "code",
   "execution_count": 251,
   "metadata": {},
   "outputs": [],
   "source": [
    "_ = model.predict(dummy_batch)"
   ]
  },
  {
   "cell_type": "code",
   "execution_count": null,
   "metadata": {},
   "outputs": [],
   "source": []
  },
  {
   "cell_type": "code",
   "execution_count": 252,
   "metadata": {},
   "outputs": [],
   "source": [
    "with open(temp_loc, 'r') as f:\n",
    "    contents = f.readlines()"
   ]
  },
  {
   "cell_type": "code",
   "execution_count": 253,
   "metadata": {},
   "outputs": [],
   "source": [
    "batch_fingerprints = [json.loads(line) for line in contents]"
   ]
  },
  {
   "cell_type": "code",
   "execution_count": 254,
   "metadata": {},
   "outputs": [
    {
     "data": {
      "text/plain": [
       "8"
      ]
     },
     "execution_count": 254,
     "metadata": {},
     "output_type": "execute_result"
    }
   ],
   "source": [
    "len(batch_fingerprints)"
   ]
  },
  {
   "cell_type": "code",
   "execution_count": 255,
   "metadata": {},
   "outputs": [
    {
     "data": {
      "text/plain": [
       "3"
      ]
     },
     "execution_count": 255,
     "metadata": {},
     "output_type": "execute_result"
    }
   ],
   "source": [
    "len(batch_fingerprints[0])"
   ]
  },
  {
   "cell_type": "code",
   "execution_count": 256,
   "metadata": {},
   "outputs": [
    {
     "data": {
      "text/plain": [
       "25051.34765625"
      ]
     },
     "execution_count": 256,
     "metadata": {},
     "output_type": "execute_result"
    }
   ],
   "source": [
    "batch_fingerprints[0][0]"
   ]
  },
  {
   "cell_type": "code",
   "execution_count": null,
   "metadata": {},
   "outputs": [],
   "source": []
  }
 ],
 "metadata": {
  "kernelspec": {
   "display_name": "Python 3",
   "language": "python",
   "name": "python3"
  },
  "language_info": {
   "codemirror_mode": {
    "name": "ipython",
    "version": 3
   },
   "file_extension": ".py",
   "mimetype": "text/x-python",
   "name": "python",
   "nbconvert_exporter": "python",
   "pygments_lexer": "ipython3",
   "version": "3.7.6"
  }
 },
 "nbformat": 4,
 "nbformat_minor": 4
}
