{
 "cells": [
  {
   "cell_type": "code",
   "execution_count": null,
   "metadata": {},
   "outputs": [],
   "source": []
  },
  {
   "cell_type": "code",
   "execution_count": null,
   "metadata": {},
   "outputs": [],
   "source": [
    "output = np.array(list(partitions(3, 4)))\n",
    "output"
   ]
  },
  {
   "cell_type": "markdown",
   "metadata": {},
   "source": [
    "## Understanding Mixtures"
   ]
  },
  {
   "cell_type": "code",
   "execution_count": null,
   "metadata": {},
   "outputs": [],
   "source": [
    "n_components = 15\n",
    "# prob_batch_dim = 0\n",
    "\n",
    "# it's easiest if component_probs is one-dimensional (i.e. prob of each component), without trying to add a batch shape\n",
    "# because mixture distribution batch shape must = components distribution rightmost batch shape, or be scalar (so be scalar)\n",
    "component_probs = tf.ones((n_components)) / (prob_batch_dim * n_components)\n",
    "categorical = tfp.distributions.Categorical(probs=component_probs)\n",
    "categorical\n",
    "\n",
    "# leading dimensions - 1 are batch\n",
    "# final dimension is num. components"
   ]
  },
  {
   "cell_type": "code",
   "execution_count": null,
   "metadata": {},
   "outputs": [],
   "source": [
    "# final batch size dimension must equal n components\n",
    "# so batch size is specified by earlier dimensions only\n",
    "\n",
    "anything = 3\n",
    "# mixture_distribution n components equals components_distribution rightmost batch shape.\n",
    "batch_dimension = (anything, n_components)\n",
    "component_batch_size = 32\n",
    "\n",
    "# this will all create batch dimension, as Normal has no event dimension ever\n",
    "# (always independent, so may as well call batch)\n",
    "mu = tf.zeros(batch_dimension)  \n",
    "sigma = tf.ones(batch_dimension)\n",
    "\n",
    "component_distribution = tfp.distributions.Normal(mu, sigma) \n",
    "component_distribution\n"
   ]
  },
  {
   "cell_type": "code",
   "execution_count": null,
   "metadata": {},
   "outputs": [],
   "source": [
    "component_distribution.sample()"
   ]
  },
  {
   "cell_type": "code",
   "execution_count": null,
   "metadata": {},
   "outputs": [],
   "source": [
    "mixture = tfp.distributions.MixtureSameFamily(\n",
    "    categorical,\n",
    "    component_distribution\n",
    ")\n",
    "mixture"
   ]
  },
  {
   "cell_type": "code",
   "execution_count": null,
   "metadata": {},
   "outputs": [],
   "source": [
    "# now with DM, DM can have an event shape, so that uses the rightmost shape of the params\n",
    "batch_size = n_components  # mixture_distribution n components equals components_distribution rightmost batch shape.\n",
    "event_size = 5\n",
    "concentration = tf.random.uniform((batch_size, event_size))\n",
    "\n",
    "total_votes = 10  # will broadcast\n",
    "component_distribution = tfp.distributions.DirichletMultinomial(total_votes, concentration) \n",
    "component_distribution\n"
   ]
  },
  {
   "cell_type": "code",
   "execution_count": null,
   "metadata": {},
   "outputs": [],
   "source": [
    "mixture = tfp.distributions.MixtureSameFamily(\n",
    "    categorical,\n",
    "    component_distribution\n",
    ")\n",
    "mixture"
   ]
  },
  {
   "cell_type": "code",
   "execution_count": null,
   "metadata": {},
   "outputs": [],
   "source": [
    "mixture.sample()"
   ]
  },
  {
   "cell_type": "code",
   "execution_count": null,
   "metadata": {},
   "outputs": [],
   "source": [
    "# and we can add another batch dimension to do many galaxies at once\n",
    "\n",
    "n_galaxies = 32\n",
    "# now with DM, DM can have an event shape, so that uses the rightmost shape of the params\n",
    "# batch_size = (n_galaxies, n_components)\n",
    "# event_size = 5\n",
    "\n",
    "concentration = tf.random.uniform((n_galaxies, n_components, event_size))\n",
    "\n",
    "total_votes = 10  # will broadcast\n",
    "component_distribution = tfp.distributions.DirichletMultinomial(total_votes, concentration) \n",
    "print(component_distribution)\n",
    "\n",
    "mixture = tfp.distributions.MixtureSameFamily(\n",
    "    categorical,\n",
    "    component_distribution\n",
    ")\n",
    "print(mixture)\n",
    "\n",
    "mixture.sample()"
   ]
  },
  {
   "cell_type": "code",
   "execution_count": null,
   "metadata": {},
   "outputs": [],
   "source": [
    "concentration = tf.random.uniform((n_samples, n_galaxies, event_size))\n",
    "dirichlet = tfp.distributions.DirichletMultinomial(total_votes, concentration) \n",
    "print(dirichlet)\n",
    "\n",
    "dirichlet_over_models = tfp.distributions.Independent(\n",
    "    dirichlet\n",
    ")\n",
    "print(dirichlet_over_models)\n",
    "\n",
    "component_probs = tf.ones((n_samples)) / n_samples\n",
    "categorical = tfp.distributions.Categorical(probs=component_probs)\n",
    "\n",
    "mixture = tfp.distributions.MixtureSameFamily(\n",
    "    categorical,\n",
    "    dirichlet_over_models\n",
    ")\n",
    "print(mixture)\n",
    "\n",
    "mixture.sample()"
   ]
  },
  {
   "cell_type": "code",
   "execution_count": null,
   "metadata": {},
   "outputs": [],
   "source": [
    "n_answers = 2\n",
    "concentration_per_g = np.array([[2., 2.], [2., 2.]])\n",
    "concentration = np.stack([concentration_per_g] * 5, axis=0)\n",
    "concentration.shape"
   ]
  },
  {
   "cell_type": "code",
   "execution_count": null,
   "metadata": {},
   "outputs": [],
   "source": [
    "total_votes = 10"
   ]
  },
  {
   "cell_type": "code",
   "execution_count": null,
   "metadata": {},
   "outputs": [],
   "source": [
    "n_samples = 2\n",
    "\n",
    "dirichlet = tfp.distributions.DirichletMultinomial(total_votes, tf.constant(concentration, tf.float32), validate_args=True) \n",
    "counts = dirichlet.sample().numpy()\n",
    "counts\n"
   ]
  },
  {
   "cell_type": "code",
   "execution_count": null,
   "metadata": {},
   "outputs": [],
   "source": [
    "print(dirichlet.prob(counts))"
   ]
  },
  {
   "cell_type": "code",
   "execution_count": null,
   "metadata": {},
   "outputs": [],
   "source": [
    "counts.shape"
   ]
  },
  {
   "cell_type": "code",
   "execution_count": null,
   "metadata": {},
   "outputs": [],
   "source": [
    "# dirichlet.prob(np.random.randint(size=(5, 2, 2))"
   ]
  },
  {
   "cell_type": "code",
   "execution_count": null,
   "metadata": {},
   "outputs": [],
   "source": []
  },
  {
   "cell_type": "code",
   "execution_count": null,
   "metadata": {},
   "outputs": [],
   "source": [
    "\n",
    "# eats a batch shape, as it assumes rightmost batch shape of distribution is component-wise\n",
    "component_probs = tf.zeros((n_samples))  # equal unnormalised log prob i.e. equal prob\n",
    "categorical = tfp.distributions.Categorical(logits=component_probs)\n",
    "\n",
    "mixture = tfp.distributions.MixtureSameFamily(\n",
    "    categorical,\n",
    "    dirichlet\n",
    ")\n",
    "print(mixture)\n",
    "\n",
    "# this is the results having picked a random component each time\n",
    "# mixture.sample()"
   ]
  },
  {
   "cell_type": "code",
   "execution_count": null,
   "metadata": {},
   "outputs": [],
   "source": [
    "mixture.prob(mixture.sample())"
   ]
  },
  {
   "cell_type": "code",
   "execution_count": null,
   "metadata": {},
   "outputs": [],
   "source": [
    "votes = [(v, total_votes - v) for v in range(total_votes+1)]\n",
    "votes_batched = [[v] * 5 for v in votes]\n",
    "votes_batched\n",
    "x = tf.constant(np.array(votes_batched), dtype=tf.float32)\n",
    "x.shape"
   ]
  },
  {
   "cell_type": "code",
   "execution_count": null,
   "metadata": {},
   "outputs": [],
   "source": [
    "mixture.sample()"
   ]
  },
  {
   "cell_type": "code",
   "execution_count": null,
   "metadata": {},
   "outputs": [],
   "source": [
    "probs = [mixture.prob(b) for b in x]\n",
    "plt.plot(probs)"
   ]
  },
  {
   "cell_type": "code",
   "execution_count": null,
   "metadata": {},
   "outputs": [],
   "source": []
  },
  {
   "cell_type": "code",
   "execution_count": null,
   "metadata": {},
   "outputs": [],
   "source": [
    "from scipy.integrate import dblquad\n",
    "area = dblquad(lambda x, y: x*y, 0, 0.5, lambda x: 0, lambda x: 1-2*x)\n",
    "area"
   ]
  },
  {
   "cell_type": "code",
   "execution_count": null,
   "metadata": {},
   "outputs": [],
   "source": [
    "mixture.entropy()"
   ]
  },
  {
   "cell_type": "code",
   "execution_count": null,
   "metadata": {},
   "outputs": [],
   "source": [
    "mixture.entropy_lower_bound()"
   ]
  },
  {
   "cell_type": "code",
   "execution_count": null,
   "metadata": {},
   "outputs": [],
   "source": [
    "mixture"
   ]
  },
  {
   "cell_type": "code",
   "execution_count": null,
   "metadata": {},
   "outputs": [],
   "source": [
    "n_samples = 15\n",
    "# eats a batch shape, as it assumes rightmost batch shape of distribution is component-wise\n",
    "component_probs = tf.zeros((n_samples))  # equal unnormalised log prob i.e. equal prob\n",
    "categorical = tfp.distributions.Categorical(logits=component_probs)\n",
    "# print(categorical)"
   ]
  },
  {
   "cell_type": "code",
   "execution_count": null,
   "metadata": {},
   "outputs": [],
   "source": [
    "\n",
    "# components = [tfp.distributions.Multinomial(total_count=10., logits=tf.zeros(event_size)) for _ in range(n_samples)]\n",
    "\n",
    "# concentration = tf.random.uniform(shape=[event_size])\n",
    "# components = [tfp.distributions.DirichletMultinomial(total_votes, concentration) for _ in range(n_samples)]\n",
    "\n",
    "concentration = tf.random.uniform(shape=[batch_size, event_size])\n",
    "components = [tfp.distributions.DirichletMultinomial(total_votes, concentration) for _ in range(n_samples)]\n",
    "\n",
    "print(components[0])\n",
    "\n",
    "mixture = tfp.distributions.Mixture(\n",
    "    categorical,\n",
    "    components,\n",
    "    validate_args=True\n",
    ")\n",
    "print(mixture)\n",
    "print(mixture.sample())\n",
    "\n",
    "# this is the results having picked a random component each time\n",
    "# mixture.sample()"
   ]
  },
  {
   "cell_type": "code",
   "execution_count": null,
   "metadata": {},
   "outputs": [],
   "source": [
    "\n",
    "# eats a batch shape, as it assumes rightmost batch shape of distribution is component-wise\n",
    "component_probs = tf.zeros((n_samples))  # equal unnormalised log prob i.e. equal prob\n",
    "categorical = tfp.distributions.Categorical(logits=component_probs)\n",
    "print(categorical)\n",
    "\n",
    "# components = [tfp.distributions.Multinomial(total_count=10., logits=tf.zeros(event_size)) for _ in range(n_samples)]\n",
    "\n",
    "concentration = tf.ones(shape=[event_size])\n",
    "components = [tfp.distributions.DirichletMultinomial(total_votes, concentration) for _ in range(n_samples)]\n",
    "\n",
    "print(components[0])\n",
    "\n",
    "mixture = tfp.distributions.Mixture(\n",
    "    categorical,\n",
    "    components,\n",
    "    validate_args=True\n",
    ")\n",
    "print(mixture)\n",
    "print(mixture.sample())\n",
    "\n",
    "# this is the results having picked a random component each time\n",
    "# mixture.sample()"
   ]
  },
  {
   "cell_type": "code",
   "execution_count": null,
   "metadata": {},
   "outputs": [],
   "source": [
    "tfp.distributions.Uniform()"
   ]
  },
  {
   "cell_type": "code",
   "execution_count": null,
   "metadata": {},
   "outputs": [],
   "source": [
    "# mixture.kl_divergence(tfp.distributions.Uniform())"
   ]
  },
  {
   "cell_type": "code",
   "execution_count": null,
   "metadata": {},
   "outputs": [],
   "source": [
    "# and we can add another batch dimension to do many galaxies at once\n",
    "\n",
    "n_samples = 15\n",
    "\n",
    "component_probs = tf.ones((n_samples)) / n_samples\n",
    "categorical = tfp.distributions.Categorical(probs=component_probs)\n",
    "categorical\n",
    "\n",
    "# mixture_distribution n components equals components_distribution rightmost batch shape.\n",
    "batch_size = n_samples\n",
    "event_size = 3\n",
    "\n",
    "concentration = tf.random.uniform((n_samples, event_size))\n",
    "\n",
    "total_votes = 10  # will broadcast\n",
    "component_distribution = tfp.distributions.DirichletMultinomial(total_votes, concentration) \n",
    "print(component_distribution)\n",
    "\n",
    "mixture = tfp.distributions.MixtureSameFamily(\n",
    "    categorical,\n",
    "    component_distribution\n",
    ")\n",
    "print(mixture)\n",
    "\n",
    "mixture.sample()"
   ]
  },
  {
   "cell_type": "code",
   "execution_count": null,
   "metadata": {},
   "outputs": [],
   "source": [
    "# and we can add another batch dimension to do many galaxies at once\n",
    "\n",
    "n_samples = 15\n",
    "\n",
    "component_probs = tf.ones((n_samples)) / n_samples\n",
    "categorical = tfp.distributions.Categorical(probs=component_probs)\n",
    "categorical\n",
    "\n",
    "# mixture_distribution n components equals components_distribution rightmost batch shape.\n",
    "batch_size = n_samples\n",
    "event_size = 3\n",
    "\n",
    "concentration = tf.random.uniform((n_samples, event_size))\n",
    "\n",
    "total_votes = 10  # will broadcast\n",
    "component_distribution = tfp.distributions.DirichletMultinomial(total_votes, concentration) \n",
    "print(component_distribution)\n",
    "\n",
    "mixture = tfp.distributions.MixtureSameFamily(\n",
    "    categorical,\n",
    "    component_distribution\n",
    ")\n",
    "print(mixture)\n",
    "\n",
    "mixture.sample()"
   ]
  },
  {
   "cell_type": "code",
   "execution_count": null,
   "metadata": {},
   "outputs": [],
   "source": []
  },
  {
   "cell_type": "code",
   "execution_count": null,
   "metadata": {},
   "outputs": [],
   "source": [
    "samples_by_q = samples[:, question.start_index:question.end_index+1].astype(np.float32)\n",
    "samples_by_q.shape"
   ]
  },
  {
   "cell_type": "code",
   "execution_count": null,
   "metadata": {},
   "outputs": [],
   "source": [
    "\n",
    "# expected_votes = tf.ones(1000) * 40.\n",
    "# n_samples = tf.ones(1000) * 15.\n",
    "expected_votes = 40\n",
    "n_samples = 15\n",
    "mixture = acquisition_utils.dirichlet_mixture(samples_by_q, expected_votes, n_samples)"
   ]
  },
  {
   "cell_type": "code",
   "execution_count": null,
   "metadata": {},
   "outputs": [],
   "source": [
    "mixture"
   ]
  },
  {
   "cell_type": "code",
   "execution_count": null,
   "metadata": {},
   "outputs": [],
   "source": [
    "draw = mixture.sample()\n",
    "draw.shape"
   ]
  },
  {
   "cell_type": "code",
   "execution_count": null,
   "metadata": {},
   "outputs": [],
   "source": [
    "draw"
   ]
  },
  {
   "cell_type": "code",
   "execution_count": null,
   "metadata": {},
   "outputs": [],
   "source": [
    "# x = np.array([np.linspace(0., 40.) for _ in range(32)])\n",
    "# x = np.stack([x], axis=1)\n",
    "votes = np.random.randint(low=0, high=40, size=(32, 15))\n",
    "x = np.stack([votes, 40-votes], axis=-1)\n",
    "print(x.shape)\n",
    "# print(x.shape)\n",
    "# log_probs = mixture.log_prob(x)  # batch broadcasted\n",
    "# print(log_probs.shape)\n",
    "# fig, axes = plt.subplots(nrows=10, figsize=(8, 20))\n",
    "# for n in range(10):\n",
    "#     ax = axes[n]\n",
    "#     ax.plot(x, log_probs[n])\n",
    "# fig.tight_layout()"
   ]
  },
  {
   "cell_type": "code",
   "execution_count": null,
   "metadata": {},
   "outputs": [],
   "source": [
    "mixture.mean()"
   ]
  },
  {
   "cell_type": "code",
   "execution_count": null,
   "metadata": {},
   "outputs": [],
   "source": [
    "new_samples = mixture.sample()"
   ]
  }
 ],
 "metadata": {
  "kernelspec": {
   "display_name": "Python 3",
   "language": "python",
   "name": "python3"
  },
  "language_info": {
   "codemirror_mode": {
    "name": "ipython",
    "version": 3
   },
   "file_extension": ".py",
   "mimetype": "text/x-python",
   "name": "python",
   "nbconvert_exporter": "python",
   "pygments_lexer": "ipython3",
   "version": "3.7.6"
  }
 },
 "nbformat": 4,
 "nbformat_minor": 4
}
