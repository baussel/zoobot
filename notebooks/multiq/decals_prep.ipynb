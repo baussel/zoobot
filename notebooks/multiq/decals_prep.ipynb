{
 "cells": [
  {
   "cell_type": "code",
   "execution_count": 25,
   "metadata": {},
   "outputs": [],
   "source": [
    "import matplotlib.pyplot as plt\n",
    "import pandas as pd\n",
    "from astropy.table import Table\n",
    "import os\n",
    "import numpy as np\n",
    "import cartopy.crs as ccrs\n",
    "import json"
   ]
  },
  {
   "cell_type": "code",
   "execution_count": 26,
   "metadata": {},
   "outputs": [],
   "source": [
    "os.chdir('/home/walml/repos/zoobot')"
   ]
  },
  {
   "cell_type": "code",
   "execution_count": 31,
   "metadata": {},
   "outputs": [],
   "source": [
    "nsa = Table.read('/media/walml/beta/galaxy_zoo/decals/catalogs/nsa_v1_0_0.fits')\n",
    "\n",
    "nsa = nsa[['RA', 'DEC', 'IAUNAME', 'PETROTHETA']].to_pandas()\n",
    "\n",
    "for col in nsa.columns.values:\n",
    "    nsa[col.lower()] = nsa[col]\n",
    "    del nsa[col]\n",
    "\n",
    "nsa['iauname'] = nsa['iauname'].str.decode('utf8')"
   ]
  },
  {
   "cell_type": "code",
   "execution_count": 32,
   "metadata": {},
   "outputs": [
    {
     "data": {
      "text/html": [
       "<div>\n",
       "<style scoped>\n",
       "    .dataframe tbody tr th:only-of-type {\n",
       "        vertical-align: middle;\n",
       "    }\n",
       "\n",
       "    .dataframe tbody tr th {\n",
       "        vertical-align: top;\n",
       "    }\n",
       "\n",
       "    .dataframe thead th {\n",
       "        text-align: right;\n",
       "    }\n",
       "</style>\n",
       "<table border=\"1\" class=\"dataframe\">\n",
       "  <thead>\n",
       "    <tr style=\"text-align: right;\">\n",
       "      <th></th>\n",
       "      <th>ra</th>\n",
       "      <th>dec</th>\n",
       "      <th>iauname</th>\n",
       "      <th>petrotheta</th>\n",
       "    </tr>\n",
       "  </thead>\n",
       "  <tbody>\n",
       "    <tr>\n",
       "      <th>0</th>\n",
       "      <td>146.714215</td>\n",
       "      <td>-1.041280</td>\n",
       "      <td>J094651.40-010228.5</td>\n",
       "      <td>7.247893</td>\n",
       "    </tr>\n",
       "    <tr>\n",
       "      <th>1</th>\n",
       "      <td>146.628585</td>\n",
       "      <td>-0.765162</td>\n",
       "      <td>J094630.85-004554.5</td>\n",
       "      <td>5.617822</td>\n",
       "    </tr>\n",
       "    <tr>\n",
       "      <th>2</th>\n",
       "      <td>146.631706</td>\n",
       "      <td>-0.988347</td>\n",
       "      <td>J094631.59-005917.7</td>\n",
       "      <td>4.769891</td>\n",
       "    </tr>\n",
       "    <tr>\n",
       "      <th>3</th>\n",
       "      <td>146.934129</td>\n",
       "      <td>-0.670405</td>\n",
       "      <td>J094744.18-004013.4</td>\n",
       "      <td>6.243227</td>\n",
       "    </tr>\n",
       "    <tr>\n",
       "      <th>4</th>\n",
       "      <td>146.963500</td>\n",
       "      <td>-0.544776</td>\n",
       "      <td>J094751.74-003242.0</td>\n",
       "      <td>8.891541</td>\n",
       "    </tr>\n",
       "    <tr>\n",
       "      <th>...</th>\n",
       "      <td>...</td>\n",
       "      <td>...</td>\n",
       "      <td>...</td>\n",
       "      <td>...</td>\n",
       "    </tr>\n",
       "    <tr>\n",
       "      <th>641404</th>\n",
       "      <td>357.755712</td>\n",
       "      <td>-10.010851</td>\n",
       "      <td>J235101.08-100042.7</td>\n",
       "      <td>17.017670</td>\n",
       "    </tr>\n",
       "    <tr>\n",
       "      <th>641405</th>\n",
       "      <td>358.197549</td>\n",
       "      <td>-10.883763</td>\n",
       "      <td>J235247.10-105259.6</td>\n",
       "      <td>17.845497</td>\n",
       "    </tr>\n",
       "    <tr>\n",
       "      <th>641406</th>\n",
       "      <td>358.336971</td>\n",
       "      <td>-10.544118</td>\n",
       "      <td>J235320.91-103238.7</td>\n",
       "      <td>5.330101</td>\n",
       "    </tr>\n",
       "    <tr>\n",
       "      <th>641407</th>\n",
       "      <td>358.530488</td>\n",
       "      <td>-10.405839</td>\n",
       "      <td>J235406.94-102419.7</td>\n",
       "      <td>27.653702</td>\n",
       "    </tr>\n",
       "    <tr>\n",
       "      <th>641408</th>\n",
       "      <td>358.562009</td>\n",
       "      <td>-10.236361</td>\n",
       "      <td>J235414.90-101409.4</td>\n",
       "      <td>7.805213</td>\n",
       "    </tr>\n",
       "  </tbody>\n",
       "</table>\n",
       "<p>641409 rows × 4 columns</p>\n",
       "</div>"
      ],
      "text/plain": [
       "                ra        dec              iauname  petrotheta\n",
       "0       146.714215  -1.041280  J094651.40-010228.5    7.247893\n",
       "1       146.628585  -0.765162  J094630.85-004554.5    5.617822\n",
       "2       146.631706  -0.988347  J094631.59-005917.7    4.769891\n",
       "3       146.934129  -0.670405  J094744.18-004013.4    6.243227\n",
       "4       146.963500  -0.544776  J094751.74-003242.0    8.891541\n",
       "...            ...        ...                  ...         ...\n",
       "641404  357.755712 -10.010851  J235101.08-100042.7   17.017670\n",
       "641405  358.197549 -10.883763  J235247.10-105259.6   17.845497\n",
       "641406  358.336971 -10.544118  J235320.91-103238.7    5.330101\n",
       "641407  358.530488 -10.405839  J235406.94-102419.7   27.653702\n",
       "641408  358.562009 -10.236361  J235414.90-101409.4    7.805213\n",
       "\n",
       "[641409 rows x 4 columns]"
      ]
     },
     "execution_count": 32,
     "metadata": {},
     "output_type": "execute_result"
    }
   ],
   "source": [
    "nsa"
   ]
  },
  {
   "cell_type": "code",
   "execution_count": 42,
   "metadata": {},
   "outputs": [],
   "source": [
    "decals_joint = Table.read('/media/walml/beta/galaxy_zoo/decals/catalogs/dr5_nsa_v1_0_0_to_upload.fits')\n",
    "# for multidim_col in ['nmgy', 'nmgy_ivar', 'rnmgy', 'absmag', 'amivar', 'extinction', 'kcorrect', 'kcoeff', 'mtol', 'nprof', 'profmean', 'profmean_ivar', 'qstokes', 'ustokes', 'bastokes', 'phistokes', 'petroflux', 'petroflux_ivar', 'fiberflux', 'fiberflux_ivar', 'sersicflux', 'sersicflux_ivar', 'asymmetry', 'clumpy', 'dflags', 'proftheta']:\n",
    "#     del decals_joint[multidim_col]\n",
    "del decals_joint[['fits_ready', 'fits_filled', 'png_ready']]\n",
    "decals_joint.write('/media/walml/beta/galaxy_zoo/decals/catalogs/nsa_v1_0_0_to_upload.fits')\n",
    "# decals_joint = decals_joint.to_pandas()"
   ]
  },
  {
   "cell_type": "code",
   "execution_count": 39,
   "metadata": {},
   "outputs": [
    {
     "data": {
      "text/plain": [
       "343128"
      ]
     },
     "execution_count": 39,
     "metadata": {},
     "output_type": "execute_result"
    }
   ],
   "source": [
    "len(decals_joint)"
   ]
  },
  {
   "cell_type": "code",
   "execution_count": 41,
   "metadata": {},
   "outputs": [
    {
     "data": {
      "text/html": [
       "<div>\n",
       "<style scoped>\n",
       "    .dataframe tbody tr th:only-of-type {\n",
       "        vertical-align: middle;\n",
       "    }\n",
       "\n",
       "    .dataframe tbody tr th {\n",
       "        vertical-align: top;\n",
       "    }\n",
       "\n",
       "    .dataframe thead th {\n",
       "        text-align: right;\n",
       "    }\n",
       "</style>\n",
       "<table border=\"1\" class=\"dataframe\">\n",
       "  <thead>\n",
       "    <tr style=\"text-align: right;\">\n",
       "      <th></th>\n",
       "      <th>iauname</th>\n",
       "      <th>nsa_id</th>\n",
       "      <th>ra</th>\n",
       "      <th>dec</th>\n",
       "      <th>petrotheta</th>\n",
       "      <th>petroth50</th>\n",
       "      <th>petroth90</th>\n",
       "      <th>z</th>\n",
       "      <th>fits_loc</th>\n",
       "      <th>png_loc</th>\n",
       "      <th>fits_ready</th>\n",
       "      <th>fits_filled</th>\n",
       "      <th>png_ready</th>\n",
       "    </tr>\n",
       "  </thead>\n",
       "  <tbody>\n",
       "    <tr>\n",
       "      <th>0</th>\n",
       "      <td>b'J094651.40-010228.5'</td>\n",
       "      <td>0</td>\n",
       "      <td>146.714215</td>\n",
       "      <td>-1.041280</td>\n",
       "      <td>7.247893</td>\n",
       "      <td>3.464192</td>\n",
       "      <td>10.453795</td>\n",
       "      <td>0.021222</td>\n",
       "      <td>b'/Volumes/alpha/decals/fits_native/dr5/J094/J...</td>\n",
       "      <td>b'/Volumes/alpha/decals/png_native/dr5/J094/J0...</td>\n",
       "      <td>True</td>\n",
       "      <td>True</td>\n",
       "      <td>True</td>\n",
       "    </tr>\n",
       "    <tr>\n",
       "      <th>1</th>\n",
       "      <td>b'J094630.85-004554.5'</td>\n",
       "      <td>1</td>\n",
       "      <td>146.628585</td>\n",
       "      <td>-0.765162</td>\n",
       "      <td>5.617822</td>\n",
       "      <td>2.326989</td>\n",
       "      <td>6.721991</td>\n",
       "      <td>0.064656</td>\n",
       "      <td>b'/Volumes/alpha/decals/fits_native/dr5/J094/J...</td>\n",
       "      <td>b'/Volumes/alpha/decals/png_native/dr5/J094/J0...</td>\n",
       "      <td>True</td>\n",
       "      <td>True</td>\n",
       "      <td>True</td>\n",
       "    </tr>\n",
       "    <tr>\n",
       "      <th>2</th>\n",
       "      <td>b'J094631.59-005917.7'</td>\n",
       "      <td>2</td>\n",
       "      <td>146.631706</td>\n",
       "      <td>-0.988347</td>\n",
       "      <td>4.769891</td>\n",
       "      <td>2.278736</td>\n",
       "      <td>5.177910</td>\n",
       "      <td>0.052654</td>\n",
       "      <td>b'/Volumes/alpha/decals/fits_native/dr5/J094/J...</td>\n",
       "      <td>b'/Volumes/alpha/decals/png_native/dr5/J094/J0...</td>\n",
       "      <td>True</td>\n",
       "      <td>True</td>\n",
       "      <td>True</td>\n",
       "    </tr>\n",
       "    <tr>\n",
       "      <th>3</th>\n",
       "      <td>b'J094744.18-004013.4'</td>\n",
       "      <td>3</td>\n",
       "      <td>146.934129</td>\n",
       "      <td>-0.670405</td>\n",
       "      <td>6.243227</td>\n",
       "      <td>2.655191</td>\n",
       "      <td>9.177605</td>\n",
       "      <td>0.121270</td>\n",
       "      <td>b'/Volumes/alpha/decals/fits_native/dr5/J094/J...</td>\n",
       "      <td>b'/Volumes/alpha/decals/png_native/dr5/J094/J0...</td>\n",
       "      <td>True</td>\n",
       "      <td>True</td>\n",
       "      <td>True</td>\n",
       "    </tr>\n",
       "    <tr>\n",
       "      <th>4</th>\n",
       "      <td>b'J094751.74-003242.0'</td>\n",
       "      <td>4</td>\n",
       "      <td>146.963500</td>\n",
       "      <td>-0.544776</td>\n",
       "      <td>8.891541</td>\n",
       "      <td>4.383704</td>\n",
       "      <td>10.253274</td>\n",
       "      <td>0.055981</td>\n",
       "      <td>b'/Volumes/alpha/decals/fits_native/dr5/J094/J...</td>\n",
       "      <td>b'/Volumes/alpha/decals/png_native/dr5/J094/J0...</td>\n",
       "      <td>True</td>\n",
       "      <td>True</td>\n",
       "      <td>True</td>\n",
       "    </tr>\n",
       "    <tr>\n",
       "      <th>...</th>\n",
       "      <td>...</td>\n",
       "      <td>...</td>\n",
       "      <td>...</td>\n",
       "      <td>...</td>\n",
       "      <td>...</td>\n",
       "      <td>...</td>\n",
       "      <td>...</td>\n",
       "      <td>...</td>\n",
       "      <td>...</td>\n",
       "      <td>...</td>\n",
       "      <td>...</td>\n",
       "      <td>...</td>\n",
       "      <td>...</td>\n",
       "    </tr>\n",
       "    <tr>\n",
       "      <th>343123</th>\n",
       "      <td>b'J230924.60-001458.1'</td>\n",
       "      <td>698646</td>\n",
       "      <td>347.352267</td>\n",
       "      <td>-0.249637</td>\n",
       "      <td>7.473316</td>\n",
       "      <td>3.746857</td>\n",
       "      <td>8.638098</td>\n",
       "      <td>0.116300</td>\n",
       "      <td>b'/Volumes/alpha/decals/fits_native/dr5/J230/J...</td>\n",
       "      <td>b'/Volumes/alpha/decals/png_native/dr5/J230/J2...</td>\n",
       "      <td>True</td>\n",
       "      <td>True</td>\n",
       "      <td>True</td>\n",
       "    </tr>\n",
       "    <tr>\n",
       "      <th>343124</th>\n",
       "      <td>b'J235101.08-100042.7'</td>\n",
       "      <td>698661</td>\n",
       "      <td>357.755712</td>\n",
       "      <td>-10.010851</td>\n",
       "      <td>17.017670</td>\n",
       "      <td>7.430995</td>\n",
       "      <td>19.937094</td>\n",
       "      <td>0.074300</td>\n",
       "      <td>b'/Volumes/alpha/decals/fits_native/dr5/J235/J...</td>\n",
       "      <td>b'/Volumes/alpha/decals/png_native/dr5/J235/J2...</td>\n",
       "      <td>True</td>\n",
       "      <td>True</td>\n",
       "      <td>True</td>\n",
       "    </tr>\n",
       "    <tr>\n",
       "      <th>343125</th>\n",
       "      <td>b'J235247.10-105259.6'</td>\n",
       "      <td>698664</td>\n",
       "      <td>358.197549</td>\n",
       "      <td>-10.883763</td>\n",
       "      <td>17.845497</td>\n",
       "      <td>8.614392</td>\n",
       "      <td>18.517103</td>\n",
       "      <td>0.076100</td>\n",
       "      <td>b'/Volumes/alpha/decals/fits_native/dr5/J235/J...</td>\n",
       "      <td>b'/Volumes/alpha/decals/png_native/dr5/J235/J2...</td>\n",
       "      <td>True</td>\n",
       "      <td>False</td>\n",
       "      <td>True</td>\n",
       "    </tr>\n",
       "    <tr>\n",
       "      <th>343126</th>\n",
       "      <td>b'J235320.91-103238.7'</td>\n",
       "      <td>698665</td>\n",
       "      <td>358.336971</td>\n",
       "      <td>-10.544118</td>\n",
       "      <td>5.330101</td>\n",
       "      <td>2.929065</td>\n",
       "      <td>7.437321</td>\n",
       "      <td>0.077100</td>\n",
       "      <td>b'/Volumes/alpha/decals/fits_native/dr5/J235/J...</td>\n",
       "      <td>b'/Volumes/alpha/decals/png_native/dr5/J235/J2...</td>\n",
       "      <td>True</td>\n",
       "      <td>True</td>\n",
       "      <td>True</td>\n",
       "    </tr>\n",
       "    <tr>\n",
       "      <th>343127</th>\n",
       "      <td>b'J235414.90-101409.4'</td>\n",
       "      <td>698667</td>\n",
       "      <td>358.562009</td>\n",
       "      <td>-10.236361</td>\n",
       "      <td>7.805213</td>\n",
       "      <td>3.951229</td>\n",
       "      <td>9.888474</td>\n",
       "      <td>0.074800</td>\n",
       "      <td>b'/Volumes/alpha/decals/fits_native/dr5/J235/J...</td>\n",
       "      <td>b'/Volumes/alpha/decals/png_native/dr5/J235/J2...</td>\n",
       "      <td>True</td>\n",
       "      <td>False</td>\n",
       "      <td>True</td>\n",
       "    </tr>\n",
       "  </tbody>\n",
       "</table>\n",
       "<p>343128 rows × 13 columns</p>\n",
       "</div>"
      ],
      "text/plain": [
       "                       iauname  nsa_id          ra        dec  petrotheta  \\\n",
       "0       b'J094651.40-010228.5'       0  146.714215  -1.041280    7.247893   \n",
       "1       b'J094630.85-004554.5'       1  146.628585  -0.765162    5.617822   \n",
       "2       b'J094631.59-005917.7'       2  146.631706  -0.988347    4.769891   \n",
       "3       b'J094744.18-004013.4'       3  146.934129  -0.670405    6.243227   \n",
       "4       b'J094751.74-003242.0'       4  146.963500  -0.544776    8.891541   \n",
       "...                        ...     ...         ...        ...         ...   \n",
       "343123  b'J230924.60-001458.1'  698646  347.352267  -0.249637    7.473316   \n",
       "343124  b'J235101.08-100042.7'  698661  357.755712 -10.010851   17.017670   \n",
       "343125  b'J235247.10-105259.6'  698664  358.197549 -10.883763   17.845497   \n",
       "343126  b'J235320.91-103238.7'  698665  358.336971 -10.544118    5.330101   \n",
       "343127  b'J235414.90-101409.4'  698667  358.562009 -10.236361    7.805213   \n",
       "\n",
       "        petroth50  petroth90         z  \\\n",
       "0        3.464192  10.453795  0.021222   \n",
       "1        2.326989   6.721991  0.064656   \n",
       "2        2.278736   5.177910  0.052654   \n",
       "3        2.655191   9.177605  0.121270   \n",
       "4        4.383704  10.253274  0.055981   \n",
       "...           ...        ...       ...   \n",
       "343123   3.746857   8.638098  0.116300   \n",
       "343124   7.430995  19.937094  0.074300   \n",
       "343125   8.614392  18.517103  0.076100   \n",
       "343126   2.929065   7.437321  0.077100   \n",
       "343127   3.951229   9.888474  0.074800   \n",
       "\n",
       "                                                 fits_loc  \\\n",
       "0       b'/Volumes/alpha/decals/fits_native/dr5/J094/J...   \n",
       "1       b'/Volumes/alpha/decals/fits_native/dr5/J094/J...   \n",
       "2       b'/Volumes/alpha/decals/fits_native/dr5/J094/J...   \n",
       "3       b'/Volumes/alpha/decals/fits_native/dr5/J094/J...   \n",
       "4       b'/Volumes/alpha/decals/fits_native/dr5/J094/J...   \n",
       "...                                                   ...   \n",
       "343123  b'/Volumes/alpha/decals/fits_native/dr5/J230/J...   \n",
       "343124  b'/Volumes/alpha/decals/fits_native/dr5/J235/J...   \n",
       "343125  b'/Volumes/alpha/decals/fits_native/dr5/J235/J...   \n",
       "343126  b'/Volumes/alpha/decals/fits_native/dr5/J235/J...   \n",
       "343127  b'/Volumes/alpha/decals/fits_native/dr5/J235/J...   \n",
       "\n",
       "                                                  png_loc  fits_ready  \\\n",
       "0       b'/Volumes/alpha/decals/png_native/dr5/J094/J0...        True   \n",
       "1       b'/Volumes/alpha/decals/png_native/dr5/J094/J0...        True   \n",
       "2       b'/Volumes/alpha/decals/png_native/dr5/J094/J0...        True   \n",
       "3       b'/Volumes/alpha/decals/png_native/dr5/J094/J0...        True   \n",
       "4       b'/Volumes/alpha/decals/png_native/dr5/J094/J0...        True   \n",
       "...                                                   ...         ...   \n",
       "343123  b'/Volumes/alpha/decals/png_native/dr5/J230/J2...        True   \n",
       "343124  b'/Volumes/alpha/decals/png_native/dr5/J235/J2...        True   \n",
       "343125  b'/Volumes/alpha/decals/png_native/dr5/J235/J2...        True   \n",
       "343126  b'/Volumes/alpha/decals/png_native/dr5/J235/J2...        True   \n",
       "343127  b'/Volumes/alpha/decals/png_native/dr5/J235/J2...        True   \n",
       "\n",
       "        fits_filled  png_ready  \n",
       "0              True       True  \n",
       "1              True       True  \n",
       "2              True       True  \n",
       "3              True       True  \n",
       "4              True       True  \n",
       "...             ...        ...  \n",
       "343123         True       True  \n",
       "343124         True       True  \n",
       "343125        False       True  \n",
       "343126         True       True  \n",
       "343127        False       True  \n",
       "\n",
       "[343128 rows x 13 columns]"
      ]
     },
     "execution_count": 41,
     "metadata": {},
     "output_type": "execute_result"
    }
   ],
   "source": [
    "decals_joint"
   ]
  },
  {
   "cell_type": "code",
   "execution_count": 36,
   "metadata": {},
   "outputs": [],
   "source": [
    "decals_joint['iauname'] = decals_joint['iauname'].apply(lambda x: x.decode())"
   ]
  },
  {
   "cell_type": "code",
   "execution_count": null,
   "metadata": {},
   "outputs": [],
   "source": [
    "decals_joint['iauname']"
   ]
  },
  {
   "cell_type": "code",
   "execution_count": null,
   "metadata": {},
   "outputs": [],
   "source": [
    "dr1_dr2 = Table.read('/media/walml/beta/galaxy_zoo/decals/catalogs/decals_dr1_and_dr2.csv').to_pandas()"
   ]
  },
  {
   "cell_type": "code",
   "execution_count": null,
   "metadata": {},
   "outputs": [],
   "source": [
    "dr1_dr2['iauname'].sample(50)"
   ]
  },
  {
   "cell_type": "code",
   "execution_count": null,
   "metadata": {},
   "outputs": [],
   "source": [
    "nsa['iauname']"
   ]
  },
  {
   "cell_type": "code",
   "execution_count": null,
   "metadata": {},
   "outputs": [],
   "source": [
    "nsa_and_dr12 = pd.merge(nsa, dr1_dr2, on='iauname', how='inner')"
   ]
  },
  {
   "cell_type": "code",
   "execution_count": null,
   "metadata": {},
   "outputs": [],
   "source": [
    "len(dr1_dr2), len(nsa_and_dr12)"
   ]
  },
  {
   "cell_type": "code",
   "execution_count": null,
   "metadata": {},
   "outputs": [],
   "source": [
    "nsa_and_dr5 = pd.merge(nsa, decals_joint, on='iauname', how='inner')\n",
    "len(decals_joint), len(nsa_and_dr5)"
   ]
  },
  {
   "cell_type": "markdown",
   "metadata": {},
   "source": [
    "Let's verify the selection cuts that I think were made, were actually made"
   ]
  },
  {
   "cell_type": "code",
   "execution_count": null,
   "metadata": {},
   "outputs": [],
   "source": [
    "valid_cols = []\n",
    "for col in dr1_dr2.columns.values:\n",
    "    if np.all(pd.isna(dr1_dr2[col])):\n",
    "        print(col)\n",
    "    else:\n",
    "        valid_cols.append(col)"
   ]
  },
  {
   "cell_type": "code",
   "execution_count": null,
   "metadata": {},
   "outputs": [],
   "source": [
    "dr1_dr2_valid = dr1_dr2[valid_cols]"
   ]
  },
  {
   "cell_type": "code",
   "execution_count": null,
   "metadata": {},
   "outputs": [],
   "source": [
    "dr1 = dr1_dr2_valid.query('data_release == \"DR1\"')\n",
    "dr2 = dr1_dr2_valid.query('data_release == \"DR2\"')\n",
    "len(dr1), len(dr2), len(dr1) + len(dr2)"
   ]
  },
  {
   "cell_type": "markdown",
   "metadata": {},
   "source": [
    "For DR1, no cuts were applied. For DR2, petrotheta > 3 was applied."
   ]
  },
  {
   "cell_type": "code",
   "execution_count": 17,
   "metadata": {},
   "outputs": [
    {
     "data": {
      "text/plain": [
       "array(['_id', 'absolute_size', 'counters', 'data_release', 'dec',\n",
       "       'group_id', 'iauname', 'mag', 'nobs_max', 'nsa_id', 'petroflux_r',\n",
       "       'petrorad_50_r', 'petrorad_r', 'ra', 'redshift', 'retire_at',\n",
       "       'survey'], dtype=object)"
      ]
     },
     "execution_count": 17,
     "metadata": {},
     "output_type": "execute_result"
    }
   ],
   "source": [
    "dr1.columns.values"
   ]
  },
  {
   "cell_type": "code",
   "execution_count": 18,
   "metadata": {},
   "outputs": [
    {
     "data": {
      "text/plain": [
       "3.0006349086761475"
      ]
     },
     "execution_count": 18,
     "metadata": {},
     "output_type": "execute_result"
    }
   ],
   "source": [
    "dr2['petrorad_r'].min()"
   ]
  },
  {
   "cell_type": "code",
   "execution_count": 19,
   "metadata": {},
   "outputs": [
    {
     "data": {
      "text/plain": [
       "<matplotlib.legend.Legend at 0x7f1b04994110>"
      ]
     },
     "execution_count": 19,
     "metadata": {},
     "output_type": "execute_result"
    },
    {
     "data": {
      "image/png": "[encoded data removed]",
      "text/plain": [
       "<Figure size 432x288 with 1 Axes>"
      ]
     },
     "metadata": {
      "needs_background": "light"
     },
     "output_type": "display_data"
    }
   ],
   "source": [
    "fig, ax = plt.subplots()\n",
    "_, bins = np.histogram(np.linspace(0., 15.), bins=30)\n",
    "ax.hist(dr1.query('petrorad_r < 20')['petrorad_r'], bins, alpha=.5, label='DR1', density=True)\n",
    "ax.hist(dr2.query('petrorad_r < 20')['petrorad_r'], bins, alpha=.5, label='DR2', density=True)\n",
    "ax.legend()"
   ]
  },
  {
   "cell_type": "markdown",
   "metadata": {},
   "source": [
    "Coleman said PETROTHETA > 3 - let's check that's the same as 'petrorad_r' here"
   ]
  },
  {
   "cell_type": "code",
   "execution_count": 20,
   "metadata": {},
   "outputs": [
    {
     "data": {
      "text/plain": [
       "ra                        148.453\n",
       "dec                      0.204961\n",
       "iauname       J095348.63+001217.8\n",
       "petrotheta                3.00063\n",
       "Name: 661, dtype: object"
      ]
     },
     "execution_count": 20,
     "metadata": {},
     "output_type": "execute_result"
    }
   ],
   "source": [
    "min_r_index = np.argmin(dr2['petrorad_r'])\n",
    "min_r_iauname = dr2.iloc[min_r_index]['iauname']\n",
    "nsa[nsa['iauname'] == min_r_iauname].squeeze()"
   ]
  },
  {
   "cell_type": "markdown",
   "metadata": {},
   "source": [
    "Yep, checks out - it was just renamed.\n"
   ]
  },
  {
   "cell_type": "code",
   "execution_count": 21,
   "metadata": {},
   "outputs": [
    {
     "name": "stderr",
     "output_type": "stream",
     "text": [
      "/home/walml/anaconda3/envs/zoobot/lib/python3.7/site-packages/ipykernel_launcher.py:1: SettingWithCopyWarning: \n",
      "A value is trying to be set on a copy of a slice from a DataFrame.\n",
      "Try using .loc[row_indexer,col_indexer] = value instead\n",
      "\n",
      "See the caveats in the documentation: https://pandas.pydata.org/pandas-docs/stable/user_guide/indexing.html#returning-a-view-versus-a-copy\n",
      "  \"\"\"Entry point for launching an IPython kernel.\n",
      "/home/walml/anaconda3/envs/zoobot/lib/python3.7/site-packages/ipykernel_launcher.py:2: SettingWithCopyWarning: \n",
      "A value is trying to be set on a copy of a slice from a DataFrame.\n",
      "Try using .loc[row_indexer,col_indexer] = value instead\n",
      "\n",
      "See the caveats in the documentation: https://pandas.pydata.org/pandas-docs/stable/user_guide/indexing.html#returning-a-view-versus-a-copy\n",
      "  \n",
      "/home/walml/anaconda3/envs/zoobot/lib/python3.7/site-packages/ipykernel_launcher.py:3: SettingWithCopyWarning: \n",
      "A value is trying to be set on a copy of a slice from a DataFrame.\n",
      "Try using .loc[row_indexer,col_indexer] = value instead\n",
      "\n",
      "See the caveats in the documentation: https://pandas.pydata.org/pandas-docs/stable/user_guide/indexing.html#returning-a-view-versus-a-copy\n",
      "  This is separate from the ipykernel package so we can avoid doing imports until\n"
     ]
    }
   ],
   "source": [
    "dr1['petrotheta'] = dr1['petrorad_r']\n",
    "dr2['petrotheta'] = dr2['petrorad_r']\n",
    "dr1_dr2_valid['petrotheta'] = dr1_dr2_valid['petrorad_r']"
   ]
  },
  {
   "cell_type": "markdown",
   "metadata": {},
   "source": [
    "\n",
    "Coleman also removed galaxies with suspicious petrotheta, as did I - https://github.com/zooniverse/decals/blob/master/decals/a_download_decals/get_catalogs/selection_cuts.py#L28"
   ]
  },
  {
   "cell_type": "markdown",
   "metadata": {},
   "source": [
    "In theory then, if we apply those same two cuts retrospectively to DR1, we should have all DR1/DR2 galaxies in the DR5 joint catalog"
   ]
  },
  {
   "cell_type": "code",
   "execution_count": 22,
   "metadata": {},
   "outputs": [
    {
     "name": "stdout",
     "output_type": "stream",
     "text": [
      "42117 37514\n",
      "61595 61595\n"
     ]
    }
   ],
   "source": [
    "\n",
    "# https://github.com/zooniverse/decals/blob/master/decals/a_download_decals/get_catalogs/selection_cuts.py#L28\n",
    "def apply_selection_cuts(input_catalog, snap_tolerance=1e-3):\n",
    "    \"\"\"\n",
    "    Select only galaxies with petrotheta > 3 and not within 1e-3 of bad measurement snap value\n",
    "    Args:\n",
    "        catalog (astropy.Table): Galaxy catalog including NSA information\n",
    "        snap_tolerance (float): Minimum deviation from bad measurement snap value allowed\n",
    "    Returns:\n",
    "        (astropy.Table) catalog of galaxies matching selection criteria above\n",
    "    \"\"\"\n",
    "\n",
    "    # Galaxies should be sufficiently extended across the sky\n",
    "    petrotheta_above_3 = input_catalog['petrotheta'] > 3\n",
    "\n",
    "    # NSA catalog’s petrotheta calculation sometimes fails to a ‘default’ value\n",
    "    # Any galaxies with petrotheta within 1e-3 of the snap_to value likely has the wrong size.\n",
    "    bad_petrotheta_value = 27.653702  # this 'magic' value can be confirmed by looking at petrotheta histograms\n",
    "    snap_lower_limit = bad_petrotheta_value - snap_tolerance\n",
    "    snap_upper_limit = bad_petrotheta_value + snap_tolerance\n",
    "\n",
    "    above_snap_lower_limit = input_catalog['petrotheta'] > snap_lower_limit\n",
    "    below_snap_upper_limit = input_catalog['petrotheta'] < snap_upper_limit\n",
    "    within_snap_window = above_snap_lower_limit & below_snap_upper_limit\n",
    "\n",
    "    selected_catalog = input_catalog[petrotheta_above_3 & ~ within_snap_window]\n",
    "    return selected_catalog\n",
    "\n",
    "dr1_cut = apply_selection_cuts(dr1)\n",
    "print(len(dr1), len(dr1_cut))  # should be lower\n",
    "\n",
    "dr2_cut = apply_selection_cuts(dr2)\n",
    "print(len(dr2_cut), len(dr2))  # should not change"
   ]
  },
  {
   "cell_type": "code",
   "execution_count": 23,
   "metadata": {},
   "outputs": [
    {
     "name": "stdout",
     "output_type": "stream",
     "text": [
      "343128 343128\n"
     ]
    }
   ],
   "source": [
    "decals_joint_cut = apply_selection_cuts(decals_joint)\n",
    "print(len(decals_joint), len(decals_joint_cut))  # obviously should also have already been applied"
   ]
  },
  {
   "cell_type": "code",
   "execution_count": null,
   "metadata": {},
   "outputs": [],
   "source": []
  },
  {
   "cell_type": "code",
   "execution_count": 24,
   "metadata": {},
   "outputs": [],
   "source": [
    "dr1_dr2_cut = apply_selection_cuts(dr1_dr2_valid)\n",
    "dr5_and_dr1_dr2 = pd.merge(decals_joint, dr1_dr2_cut, on='iauname', how='inner')"
   ]
  },
  {
   "cell_type": "code",
   "execution_count": 25,
   "metadata": {},
   "outputs": [
    {
     "data": {
      "text/plain": [
       "(97790, 99109)"
      ]
     },
     "execution_count": 25,
     "metadata": {},
     "output_type": "execute_result"
    }
   ],
   "source": [
    "len(dr5_and_dr1_dr2), len(dr1_cut) + len(dr2_cut)  # okay, still dropping 1300 galaxies. Which?"
   ]
  },
  {
   "cell_type": "code",
   "execution_count": 26,
   "metadata": {},
   "outputs": [
    {
     "data": {
      "text/plain": [
       "1319"
      ]
     },
     "execution_count": 26,
     "metadata": {},
     "output_type": "execute_result"
    }
   ],
   "source": [
    "dr5_not_dr1_dr2 = dr1_dr2_cut[~dr1_dr2_cut['iauname'].isin(decals_joint['iauname'])]\n",
    "len(dr5_not_dr1_dr2)"
   ]
  },
  {
   "cell_type": "code",
   "execution_count": 27,
   "metadata": {},
   "outputs": [
    {
     "data": {
      "text/plain": [
       "DR2    884\n",
       "DR1    435\n",
       "Name: data_release, dtype: int64"
      ]
     },
     "execution_count": 27,
     "metadata": {},
     "output_type": "execute_result"
    }
   ],
   "source": [
    "dr5_not_dr1_dr2['data_release'].value_counts()"
   ]
  },
  {
   "cell_type": "code",
   "execution_count": 28,
   "metadata": {},
   "outputs": [
    {
     "data": {
      "text/plain": [
       "1941       7.470318\n",
       "2012       8.978271\n",
       "2018       4.330838\n",
       "2021       5.566817\n",
       "2031       5.566817\n",
       "            ...    \n",
       "102980     4.330838\n",
       "103161     8.085743\n",
       "103175    10.529021\n",
       "103194     7.155531\n",
       "103221     9.624050\n",
       "Name: petrotheta, Length: 1319, dtype: float64"
      ]
     },
     "execution_count": 28,
     "metadata": {},
     "output_type": "execute_result"
    }
   ],
   "source": [
    "dr5_not_dr1_dr2['petrotheta']"
   ]
  },
  {
   "cell_type": "code",
   "execution_count": 29,
   "metadata": {},
   "outputs": [
    {
     "data": {
      "text/plain": [
       "1941      0.076049\n",
       "2012      0.058630\n",
       "2018      0.055588\n",
       "2021      0.055906\n",
       "2031      0.060712\n",
       "            ...   \n",
       "102980    0.044473\n",
       "103161    0.135384\n",
       "103175    0.125000\n",
       "103194    0.081100\n",
       "103221    0.086672\n",
       "Name: redshift, Length: 1319, dtype: float64"
      ]
     },
     "execution_count": 29,
     "metadata": {},
     "output_type": "execute_result"
    }
   ],
   "source": [
    "dr5_not_dr1_dr2['redshift']"
   ]
  },
  {
   "cell_type": "markdown",
   "metadata": {},
   "source": [
    "Okay, it's not obvious why those are missing. It's possible some bricks with grz observations were removed on the DECALS side? I think I will press on and potentially remove these 1300 galaxies from the final catalog."
   ]
  },
  {
   "cell_type": "markdown",
   "metadata": {},
   "source": [
    "## From Catalog to Images"
   ]
  },
  {
   "cell_type": "code",
   "execution_count": 150,
   "metadata": {},
   "outputs": [
    {
     "data": {
      "text/plain": [
       "(343128, 343128)"
      ]
     },
     "execution_count": 150,
     "metadata": {},
     "output_type": "execute_result"
    }
   ],
   "source": [
    "to_upload = Table.read('/media/walml/beta/decals/catalogs/dr5_nsa1_0_0_to_upload.fits').to_pandas()  # same table, now with png_ready/fits_ready/fits_filled cols added\n",
    "to_upload['iauname'] = to_upload['iauname'].str.decode('utf8')\n",
    "len(decals_joint), len(to_upload)"
   ]
  },
  {
   "cell_type": "code",
   "execution_count": 31,
   "metadata": {},
   "outputs": [
    {
     "data": {
      "text/plain": [
       "True    343128\n",
       "Name: fits_ready, dtype: int64"
      ]
     },
     "execution_count": 31,
     "metadata": {},
     "output_type": "execute_result"
    }
   ],
   "source": [
    "to_upload['fits_ready'].value_counts()"
   ]
  },
  {
   "cell_type": "code",
   "execution_count": 32,
   "metadata": {},
   "outputs": [
    {
     "data": {
      "text/plain": [
       "True    343128\n",
       "Name: png_ready, dtype: int64"
      ]
     },
     "execution_count": 32,
     "metadata": {},
     "output_type": "execute_result"
    }
   ],
   "source": [
    "to_upload['png_ready'].value_counts()"
   ]
  },
  {
   "cell_type": "code",
   "execution_count": 33,
   "metadata": {},
   "outputs": [
    {
     "data": {
      "text/plain": [
       "True     307484\n",
       "False     35644\n",
       "Name: fits_filled, dtype: int64"
      ]
     },
     "execution_count": 33,
     "metadata": {},
     "output_type": "execute_result"
    }
   ],
   "source": [
    "to_upload['fits_filled'].value_counts()  # >20% of pixels in any band being 0 or nan"
   ]
  },
  {
   "cell_type": "code",
   "execution_count": 34,
   "metadata": {},
   "outputs": [
    {
     "data": {
      "text/plain": [
       "99109"
      ]
     },
     "execution_count": 34,
     "metadata": {},
     "output_type": "execute_result"
    }
   ],
   "source": [
    "len(dr1_dr2_cut)"
   ]
  },
  {
   "cell_type": "code",
   "execution_count": 35,
   "metadata": {},
   "outputs": [
    {
     "data": {
      "text/plain": [
       "93196"
      ]
     },
     "execution_count": 35,
     "metadata": {},
     "output_type": "execute_result"
    }
   ],
   "source": [
    "# And how many were already in DR1/2?\n",
    "np.sum(to_upload.query('fits_filled')['iauname'].isin(dr1_dr2_cut['iauname'])) # which is a little lower than all, because of the 10% or so with bad fits data (we lose about 6% here)"
   ]
  },
  {
   "cell_type": "markdown",
   "metadata": {},
   "source": [
    "## So 307,484 galaxies could have been uploaded, some of which were in DR1/2. Which actually were?"
   ]
  },
  {
   "cell_type": "code",
   "execution_count": 36,
   "metadata": {},
   "outputs": [
    {
     "data": {
      "text/plain": [
       "239715"
      ]
     },
     "execution_count": 36,
     "metadata": {},
     "output_type": "execute_result"
    }
   ],
   "source": [
    "latest_export = pd.read_csv('/home/walml/Downloads/classifications_200520.csv')\n",
    "len(latest_export)"
   ]
  },
  {
   "cell_type": "code",
   "execution_count": 37,
   "metadata": {},
   "outputs": [
    {
     "data": {
      "text/plain": [
       "32"
      ]
     },
     "execution_count": 37,
     "metadata": {},
     "output_type": "execute_result"
    }
   ],
   "source": [
    "np.sum(latest_export['iauname'].duplicated())"
   ]
  },
  {
   "cell_type": "code",
   "execution_count": 38,
   "metadata": {},
   "outputs": [
    {
     "data": {
      "text/html": [
       "<div>\n",
       "<style scoped>\n",
       "    .dataframe tbody tr th:only-of-type {\n",
       "        vertical-align: middle;\n",
       "    }\n",
       "\n",
       "    .dataframe tbody tr th {\n",
       "        vertical-align: top;\n",
       "    }\n",
       "\n",
       "    .dataframe thead th {\n",
       "        text-align: right;\n",
       "    }\n",
       "</style>\n",
       "<table border=\"1\" class=\"dataframe\">\n",
       "  <thead>\n",
       "    <tr style=\"text-align: right;\">\n",
       "      <th></th>\n",
       "      <th>iauname</th>\n",
       "      <th>smooth-or-featured_artifact</th>\n",
       "      <th>smooth-or-featured_featured-or-disk</th>\n",
       "      <th>smooth-or-featured_smooth</th>\n",
       "      <th>how-rounded_cigar-shaped</th>\n",
       "      <th>how-rounded_in-between</th>\n",
       "      <th>how-rounded_round</th>\n",
       "      <th>disk-edge-on_no</th>\n",
       "      <th>disk-edge-on_yes</th>\n",
       "      <th>edge-on-bulge_boxy</th>\n",
       "      <th>...</th>\n",
       "      <th>bulge-size_obvious-v1_fraction</th>\n",
       "      <th>bulge-size_tiny-v1_fraction</th>\n",
       "      <th>bulge-size_none-v1_fraction</th>\n",
       "      <th>merging_none_fraction</th>\n",
       "      <th>merging_minor-disturbance_fraction</th>\n",
       "      <th>merging_major-disturbance_fraction</th>\n",
       "      <th>merging_merger_fraction</th>\n",
       "      <th>merging_both-v1_fraction</th>\n",
       "      <th>merging_neither-v1_fraction</th>\n",
       "      <th>merging_tidal-debris-v1_fraction</th>\n",
       "    </tr>\n",
       "  </thead>\n",
       "  <tbody>\n",
       "    <tr>\n",
       "      <th>0</th>\n",
       "      <td>J000000.80+004200.0</td>\n",
       "      <td>0.0</td>\n",
       "      <td>2.0</td>\n",
       "      <td>3.0</td>\n",
       "      <td>0.0</td>\n",
       "      <td>1.0</td>\n",
       "      <td>2.0</td>\n",
       "      <td>2.0</td>\n",
       "      <td>0.0</td>\n",
       "      <td>0.0</td>\n",
       "      <td>...</td>\n",
       "      <td>0.0</td>\n",
       "      <td>0.0</td>\n",
       "      <td>0.0</td>\n",
       "      <td>0.400000</td>\n",
       "      <td>0.000000</td>\n",
       "      <td>0.00</td>\n",
       "      <td>0.60</td>\n",
       "      <td>0.0</td>\n",
       "      <td>0.0</td>\n",
       "      <td>0.0</td>\n",
       "    </tr>\n",
       "    <tr>\n",
       "      <th>1</th>\n",
       "      <td>J000001.03+003228.7</td>\n",
       "      <td>0.0</td>\n",
       "      <td>1.0</td>\n",
       "      <td>4.0</td>\n",
       "      <td>0.0</td>\n",
       "      <td>4.0</td>\n",
       "      <td>0.0</td>\n",
       "      <td>1.0</td>\n",
       "      <td>0.0</td>\n",
       "      <td>0.0</td>\n",
       "      <td>...</td>\n",
       "      <td>0.0</td>\n",
       "      <td>0.0</td>\n",
       "      <td>0.0</td>\n",
       "      <td>0.200000</td>\n",
       "      <td>0.200000</td>\n",
       "      <td>0.00</td>\n",
       "      <td>0.60</td>\n",
       "      <td>0.0</td>\n",
       "      <td>0.0</td>\n",
       "      <td>0.0</td>\n",
       "    </tr>\n",
       "    <tr>\n",
       "      <th>2</th>\n",
       "      <td>J000001.55-000533.3</td>\n",
       "      <td>0.0</td>\n",
       "      <td>0.0</td>\n",
       "      <td>4.0</td>\n",
       "      <td>1.0</td>\n",
       "      <td>2.0</td>\n",
       "      <td>1.0</td>\n",
       "      <td>0.0</td>\n",
       "      <td>0.0</td>\n",
       "      <td>0.0</td>\n",
       "      <td>...</td>\n",
       "      <td>0.0</td>\n",
       "      <td>0.0</td>\n",
       "      <td>0.0</td>\n",
       "      <td>0.500000</td>\n",
       "      <td>0.000000</td>\n",
       "      <td>0.25</td>\n",
       "      <td>0.25</td>\n",
       "      <td>0.0</td>\n",
       "      <td>0.0</td>\n",
       "      <td>0.0</td>\n",
       "    </tr>\n",
       "    <tr>\n",
       "      <th>3</th>\n",
       "      <td>J000001.85+004309.3</td>\n",
       "      <td>1.0</td>\n",
       "      <td>1.0</td>\n",
       "      <td>2.0</td>\n",
       "      <td>0.0</td>\n",
       "      <td>2.0</td>\n",
       "      <td>0.0</td>\n",
       "      <td>0.0</td>\n",
       "      <td>1.0</td>\n",
       "      <td>0.0</td>\n",
       "      <td>...</td>\n",
       "      <td>0.0</td>\n",
       "      <td>0.0</td>\n",
       "      <td>0.0</td>\n",
       "      <td>0.666667</td>\n",
       "      <td>0.333333</td>\n",
       "      <td>0.00</td>\n",
       "      <td>0.00</td>\n",
       "      <td>0.0</td>\n",
       "      <td>0.0</td>\n",
       "      <td>0.0</td>\n",
       "    </tr>\n",
       "    <tr>\n",
       "      <th>4</th>\n",
       "      <td>J000002.29-042805.0</td>\n",
       "      <td>1.0</td>\n",
       "      <td>4.0</td>\n",
       "      <td>0.0</td>\n",
       "      <td>0.0</td>\n",
       "      <td>0.0</td>\n",
       "      <td>0.0</td>\n",
       "      <td>4.0</td>\n",
       "      <td>0.0</td>\n",
       "      <td>0.0</td>\n",
       "      <td>...</td>\n",
       "      <td>0.0</td>\n",
       "      <td>0.0</td>\n",
       "      <td>0.0</td>\n",
       "      <td>0.250000</td>\n",
       "      <td>0.500000</td>\n",
       "      <td>0.00</td>\n",
       "      <td>0.25</td>\n",
       "      <td>0.0</td>\n",
       "      <td>0.0</td>\n",
       "      <td>0.0</td>\n",
       "    </tr>\n",
       "  </tbody>\n",
       "</table>\n",
       "<p>5 rows × 95 columns</p>\n",
       "</div>"
      ],
      "text/plain": [
       "               iauname  smooth-or-featured_artifact  \\\n",
       "0  J000000.80+004200.0                          0.0   \n",
       "1  J000001.03+003228.7                          0.0   \n",
       "2  J000001.55-000533.3                          0.0   \n",
       "3  J000001.85+004309.3                          1.0   \n",
       "4  J000002.29-042805.0                          1.0   \n",
       "\n",
       "   smooth-or-featured_featured-or-disk  smooth-or-featured_smooth  \\\n",
       "0                                  2.0                        3.0   \n",
       "1                                  1.0                        4.0   \n",
       "2                                  0.0                        4.0   \n",
       "3                                  1.0                        2.0   \n",
       "4                                  4.0                        0.0   \n",
       "\n",
       "   how-rounded_cigar-shaped  how-rounded_in-between  how-rounded_round  \\\n",
       "0                       0.0                     1.0                2.0   \n",
       "1                       0.0                     4.0                0.0   \n",
       "2                       1.0                     2.0                1.0   \n",
       "3                       0.0                     2.0                0.0   \n",
       "4                       0.0                     0.0                0.0   \n",
       "\n",
       "   disk-edge-on_no  disk-edge-on_yes  edge-on-bulge_boxy  ...  \\\n",
       "0              2.0               0.0                 0.0  ...   \n",
       "1              1.0               0.0                 0.0  ...   \n",
       "2              0.0               0.0                 0.0  ...   \n",
       "3              0.0               1.0                 0.0  ...   \n",
       "4              4.0               0.0                 0.0  ...   \n",
       "\n",
       "   bulge-size_obvious-v1_fraction  bulge-size_tiny-v1_fraction  \\\n",
       "0                             0.0                          0.0   \n",
       "1                             0.0                          0.0   \n",
       "2                             0.0                          0.0   \n",
       "3                             0.0                          0.0   \n",
       "4                             0.0                          0.0   \n",
       "\n",
       "   bulge-size_none-v1_fraction  merging_none_fraction  \\\n",
       "0                          0.0               0.400000   \n",
       "1                          0.0               0.200000   \n",
       "2                          0.0               0.500000   \n",
       "3                          0.0               0.666667   \n",
       "4                          0.0               0.250000   \n",
       "\n",
       "   merging_minor-disturbance_fraction  merging_major-disturbance_fraction  \\\n",
       "0                            0.000000                                0.00   \n",
       "1                            0.200000                                0.00   \n",
       "2                            0.000000                                0.25   \n",
       "3                            0.333333                                0.00   \n",
       "4                            0.500000                                0.00   \n",
       "\n",
       "   merging_merger_fraction  merging_both-v1_fraction  \\\n",
       "0                     0.60                       0.0   \n",
       "1                     0.60                       0.0   \n",
       "2                     0.25                       0.0   \n",
       "3                     0.00                       0.0   \n",
       "4                     0.25                       0.0   \n",
       "\n",
       "   merging_neither-v1_fraction  merging_tidal-debris-v1_fraction  \n",
       "0                          0.0                               0.0  \n",
       "1                          0.0                               0.0  \n",
       "2                          0.0                               0.0  \n",
       "3                          0.0                               0.0  \n",
       "4                          0.0                               0.0  \n",
       "\n",
       "[5 rows x 95 columns]"
      ]
     },
     "execution_count": 38,
     "metadata": {},
     "output_type": "execute_result"
    }
   ],
   "source": [
    "latest_export.head()"
   ]
  },
  {
   "cell_type": "code",
   "execution_count": 39,
   "metadata": {},
   "outputs": [
    {
     "data": {
      "text/plain": [
       "array(['iauname', 'smooth-or-featured_artifact',\n",
       "       'smooth-or-featured_featured-or-disk', 'smooth-or-featured_smooth',\n",
       "       'how-rounded_cigar-shaped', 'how-rounded_in-between',\n",
       "       'how-rounded_round', 'disk-edge-on_no', 'disk-edge-on_yes',\n",
       "       'edge-on-bulge_boxy', 'edge-on-bulge_none',\n",
       "       'edge-on-bulge_rounded', 'bar_no', 'bar_weak', 'bar_strong',\n",
       "       'has-spiral-arms_no', 'has-spiral-arms_yes',\n",
       "       'spiral-winding_loose', 'spiral-winding_medium',\n",
       "       'spiral-winding_tight', 'spiral-arm-count_1', 'spiral-arm-count_2',\n",
       "       'spiral-arm-count_3', 'spiral-arm-count_4',\n",
       "       'spiral-arm-count_cant-tell', 'spiral-arm-count_more-than-4',\n",
       "       'bulge-size_none', 'bulge-size_small', 'bulge-size_moderate',\n",
       "       'bulge-size_large', 'bulge-size_dominant', 'bulge-size_obvious-v1',\n",
       "       'bulge-size_tiny-v1', 'bulge-size_none-v1', 'merging_none',\n",
       "       'merging_minor-disturbance', 'merging_major-disturbance',\n",
       "       'merging_merger', 'merging_both-v1', 'merging_neither-v1',\n",
       "       'merging_tidal-debris-v1', 'ra', 'dec', 'redshift', 'subject_id',\n",
       "       'smooth-or-featured_total-votes', 'how-rounded_total-votes',\n",
       "       'disk-edge-on_total-votes', 'edge-on-bulge_total-votes',\n",
       "       'bar_total-votes', 'has-spiral-arms_total-votes',\n",
       "       'spiral-winding_total-votes', 'spiral-arm-count_total-votes',\n",
       "       'bulge-size_total-votes', 'merging_total-votes',\n",
       "       'smooth-or-featured_artifact_fraction',\n",
       "       'smooth-or-featured_featured-or-disk_fraction',\n",
       "       'smooth-or-featured_smooth_fraction',\n",
       "       'how-rounded_cigar-shaped_fraction',\n",
       "       'how-rounded_in-between_fraction', 'how-rounded_round_fraction',\n",
       "       'disk-edge-on_no_fraction', 'disk-edge-on_yes_fraction',\n",
       "       'edge-on-bulge_boxy_fraction', 'edge-on-bulge_none_fraction',\n",
       "       'edge-on-bulge_rounded_fraction', 'bar_no_fraction',\n",
       "       'bar_weak_fraction', 'bar_strong_fraction',\n",
       "       'has-spiral-arms_no_fraction', 'has-spiral-arms_yes_fraction',\n",
       "       'spiral-winding_loose_fraction', 'spiral-winding_medium_fraction',\n",
       "       'spiral-winding_tight_fraction', 'spiral-arm-count_1_fraction',\n",
       "       'spiral-arm-count_2_fraction', 'spiral-arm-count_3_fraction',\n",
       "       'spiral-arm-count_4_fraction',\n",
       "       'spiral-arm-count_cant-tell_fraction',\n",
       "       'spiral-arm-count_more-than-4_fraction',\n",
       "       'bulge-size_none_fraction', 'bulge-size_small_fraction',\n",
       "       'bulge-size_moderate_fraction', 'bulge-size_large_fraction',\n",
       "       'bulge-size_dominant_fraction', 'bulge-size_obvious-v1_fraction',\n",
       "       'bulge-size_tiny-v1_fraction', 'bulge-size_none-v1_fraction',\n",
       "       'merging_none_fraction', 'merging_minor-disturbance_fraction',\n",
       "       'merging_major-disturbance_fraction', 'merging_merger_fraction',\n",
       "       'merging_both-v1_fraction', 'merging_neither-v1_fraction',\n",
       "       'merging_tidal-debris-v1_fraction'], dtype=object)"
      ]
     },
     "execution_count": 39,
     "metadata": {},
     "output_type": "execute_result"
    }
   ],
   "source": [
    "latest_export.columns.values"
   ]
  },
  {
   "cell_type": "code",
   "execution_count": 40,
   "metadata": {},
   "outputs": [
    {
     "data": {
      "text/plain": [
       "False    239682\n",
       "True         33\n",
       "Name: iauname, dtype: int64"
      ]
     },
     "execution_count": 40,
     "metadata": {},
     "output_type": "execute_result"
    }
   ],
   "source": [
    "pd.isna(latest_export['iauname']).value_counts()"
   ]
  },
  {
   "cell_type": "code",
   "execution_count": 41,
   "metadata": {},
   "outputs": [],
   "source": [
    "latest_export = latest_export.dropna(subset=['iauname'])"
   ]
  },
  {
   "cell_type": "code",
   "execution_count": 42,
   "metadata": {},
   "outputs": [
    {
     "data": {
      "text/plain": [
       "True    239682\n",
       "Name: iauname, dtype: int64"
      ]
     },
     "execution_count": 42,
     "metadata": {},
     "output_type": "execute_result"
    }
   ],
   "source": [
    "was_known_galaxy = latest_export['iauname'].isin(nsa['iauname'])\n",
    "was_known_galaxy.value_counts()"
   ]
  },
  {
   "cell_type": "code",
   "execution_count": 43,
   "metadata": {},
   "outputs": [
    {
     "data": {
      "text/plain": [
       "True     239631\n",
       "False        51\n",
       "Name: iauname, dtype: int64"
      ]
     },
     "execution_count": 43,
     "metadata": {},
     "output_type": "execute_result"
    }
   ],
   "source": [
    "was_imaged_galaxy = latest_export['iauname'].isin(to_upload['iauname'])\n",
    "was_imaged_galaxy.value_counts()"
   ]
  },
  {
   "cell_type": "code",
   "execution_count": 44,
   "metadata": {},
   "outputs": [],
   "source": [
    "not_imaged_iaunames = latest_export[~was_imaged_galaxy]['iauname']"
   ]
  },
  {
   "cell_type": "code",
   "execution_count": null,
   "metadata": {},
   "outputs": [],
   "source": []
  },
  {
   "cell_type": "code",
   "execution_count": 108,
   "metadata": {},
   "outputs": [],
   "source": [
    "latest_subjects = pd.read_csv('/home/walml/repos/gz-panoptes-reduction/data/latest_subjects_export.csv')"
   ]
  },
  {
   "cell_type": "code",
   "execution_count": 109,
   "metadata": {},
   "outputs": [
    {
     "data": {
      "text/plain": [
       "715548"
      ]
     },
     "execution_count": 109,
     "metadata": {},
     "output_type": "execute_result"
    }
   ],
   "source": [
    "len(latest_subjects)"
   ]
  },
  {
   "cell_type": "code",
   "execution_count": 113,
   "metadata": {},
   "outputs": [
    {
     "data": {
      "text/plain": [
       "6122.0     230381\n",
       "10582.0    192614\n",
       "11308.0     50000\n",
       "10581.0     19867\n",
       "6527.0       1601\n",
       "5653.0        875\n",
       "12410.0       150\n",
       "Name: workflow_id, dtype: int64"
      ]
     },
     "execution_count": 113,
     "metadata": {},
     "output_type": "execute_result"
    }
   ],
   "source": [
    "latest_subjects['workflow_id'].value_counts()"
   ]
  },
  {
   "cell_type": "code",
   "execution_count": 128,
   "metadata": {},
   "outputs": [
    {
     "data": {
      "text/plain": [
       "442862"
      ]
     },
     "execution_count": 128,
     "metadata": {},
     "output_type": "execute_result"
    }
   ],
   "source": [
    "latest_subjects = latest_subjects[latest_subjects['workflow_id'].isin([6122.0, 10582.0, 10581.0])]  # decals public workflows\n",
    "len(latest_subjects)"
   ]
  },
  {
   "cell_type": "code",
   "execution_count": 137,
   "metadata": {},
   "outputs": [
    {
     "data": {
      "text/plain": [
       "414660"
      ]
     },
     "execution_count": 137,
     "metadata": {},
     "output_type": "execute_result"
    }
   ],
   "source": [
    "latest_subjects = latest_subjects[~latest_subjects['subject_set_id'].isin([77652])]  # remove eagle subjects\n",
    "len(latest_subjects)"
   ]
  },
  {
   "cell_type": "code",
   "execution_count": 129,
   "metadata": {},
   "outputs": [
    {
     "data": {
      "text/plain": [
       "{'!ra': 199.83293823928753,\n",
       " '!dec': -1.0749441501917854,\n",
       " '!mag_g': 16.980735659599304,\n",
       " '!mag_i': 15.506054162979126,\n",
       " '!mag_r': 15.984987616539001,\n",
       " '!mag_u': 18.876254558563232,\n",
       " '!mag_z': 15.15299677848816,\n",
       " '!nsa_id': 10755,\n",
       " '!iauname': 'J131919.89-010429.7',\n",
       " '!redshift': 0.08300412446260452,\n",
       " '!mag_abs_r': -21.241125106811523,\n",
       " '!mag_faruv': -999.0,\n",
       " '!petroflux': 345.6597900390625,\n",
       " '!petroth50': 3.882611036300659,\n",
       " '!mag_nearuv': 22.02775824815035,\n",
       " '!petrotheta': 9.777639389038086,\n",
       " '!nsa_version': '1_0_0',\n",
       " '#upload_date': '2018-03-30',\n",
       " '!absolute_size': 15.42694563997034,\n",
       " '!decals_search': '[Click to view in DECALS](+tab+http://www.legacysurvey.org/viewer?ra=199.83293823928753&dec=-1.0749441501917854&zoom=15&layer=decals-dr5)',\n",
       " '!simbad_search': '[Click to search SIMBAD](+tab+http://simbad.u-strasbg.fr/simbad/sim-coo?Coord=199.83293823928753+%09-1.0749441501917854&CooFrame=FK5&CooEpoch=2000&CooEqui=2000&CooDefinedFrames=none&Radius=10.0&Radius.unit=arcmin&submit=submit+query&CoordList=)',\n",
       " '!nasa_ned_search': '[Click to search NASA NED](+tab+https://ned.ipac.caltech.edu/cgi-bin/objsearch?search_type=Near+Position+Search&in_csys=Equatorial&in_equinox=J2000.0&lon=199.83293824d&lat=-1.07494415d&radius=0.16666666666666666&hconst=73&omegam=0.27&omegav=0.73&corr_z=1&z_constraint=Unconstrained&z_value1=&z_value2=&z_unit=z&ot_include=ANY&nmp_op=ANY&out_csys=Equatorial&out_equinox=J2000.0&obj_sort=Distance+to+search+center&of=pre_text&zv_breaker=30000.0&list_limit=5&img_stamp=YES)',\n",
       " 'metadata_message': 'Metadata is available in [Talk](+tab+https://www.zooniverse.org/projects/zookeeper/galaxy-zoo/talk)'}"
      ]
     },
     "execution_count": 129,
     "metadata": {},
     "output_type": "execute_result"
    }
   ],
   "source": [
    "latest_subjects['metadata'][10000]"
   ]
  },
  {
   "cell_type": "code",
   "execution_count": 130,
   "metadata": {},
   "outputs": [
    {
     "ename": "TypeError",
     "evalue": "the JSON object must be str, bytes or bytearray, not dict",
     "output_type": "error",
     "traceback": [
      "\u001b[0;31m---------------------------------------------------------------------------\u001b[0m",
      "\u001b[0;31mTypeError\u001b[0m                                 Traceback (most recent call last)",
      "\u001b[0;32m<ipython-input-130-9308e2c24883>\u001b[0m in \u001b[0;36m<module>\u001b[0;34m\u001b[0m\n\u001b[0;32m----> 1\u001b[0;31m \u001b[0mlatest_subjects\u001b[0m\u001b[0;34m[\u001b[0m\u001b[0;34m'metadata'\u001b[0m\u001b[0;34m]\u001b[0m \u001b[0;34m=\u001b[0m \u001b[0mlatest_subjects\u001b[0m\u001b[0;34m[\u001b[0m\u001b[0;34m'metadata'\u001b[0m\u001b[0;34m]\u001b[0m\u001b[0;34m.\u001b[0m\u001b[0mapply\u001b[0m\u001b[0;34m(\u001b[0m\u001b[0mjson\u001b[0m\u001b[0;34m.\u001b[0m\u001b[0mloads\u001b[0m\u001b[0;34m)\u001b[0m\u001b[0;34m\u001b[0m\u001b[0;34m\u001b[0m\u001b[0m\n\u001b[0m",
      "\u001b[0;32m~/anaconda3/envs/zoobot/lib/python3.7/site-packages/pandas/core/series.py\u001b[0m in \u001b[0;36mapply\u001b[0;34m(self, func, convert_dtype, args, **kwds)\u001b[0m\n\u001b[1;32m   3846\u001b[0m             \u001b[0;32melse\u001b[0m\u001b[0;34m:\u001b[0m\u001b[0;34m\u001b[0m\u001b[0;34m\u001b[0m\u001b[0m\n\u001b[1;32m   3847\u001b[0m                 \u001b[0mvalues\u001b[0m \u001b[0;34m=\u001b[0m \u001b[0mself\u001b[0m\u001b[0;34m.\u001b[0m\u001b[0mastype\u001b[0m\u001b[0;34m(\u001b[0m\u001b[0mobject\u001b[0m\u001b[0;34m)\u001b[0m\u001b[0;34m.\u001b[0m\u001b[0mvalues\u001b[0m\u001b[0;34m\u001b[0m\u001b[0;34m\u001b[0m\u001b[0m\n\u001b[0;32m-> 3848\u001b[0;31m                 \u001b[0mmapped\u001b[0m \u001b[0;34m=\u001b[0m \u001b[0mlib\u001b[0m\u001b[0;34m.\u001b[0m\u001b[0mmap_infer\u001b[0m\u001b[0;34m(\u001b[0m\u001b[0mvalues\u001b[0m\u001b[0;34m,\u001b[0m \u001b[0mf\u001b[0m\u001b[0;34m,\u001b[0m \u001b[0mconvert\u001b[0m\u001b[0;34m=\u001b[0m\u001b[0mconvert_dtype\u001b[0m\u001b[0;34m)\u001b[0m\u001b[0;34m\u001b[0m\u001b[0;34m\u001b[0m\u001b[0m\n\u001b[0m\u001b[1;32m   3849\u001b[0m \u001b[0;34m\u001b[0m\u001b[0m\n\u001b[1;32m   3850\u001b[0m         \u001b[0;32mif\u001b[0m \u001b[0mlen\u001b[0m\u001b[0;34m(\u001b[0m\u001b[0mmapped\u001b[0m\u001b[0;34m)\u001b[0m \u001b[0;32mand\u001b[0m \u001b[0misinstance\u001b[0m\u001b[0;34m(\u001b[0m\u001b[0mmapped\u001b[0m\u001b[0;34m[\u001b[0m\u001b[0;36m0\u001b[0m\u001b[0;34m]\u001b[0m\u001b[0;34m,\u001b[0m \u001b[0mSeries\u001b[0m\u001b[0;34m)\u001b[0m\u001b[0;34m:\u001b[0m\u001b[0;34m\u001b[0m\u001b[0;34m\u001b[0m\u001b[0m\n",
      "\u001b[0;32mpandas/_libs/lib.pyx\u001b[0m in \u001b[0;36mpandas._libs.lib.map_infer\u001b[0;34m()\u001b[0m\n",
      "\u001b[0;32m~/anaconda3/envs/zoobot/lib/python3.7/json/__init__.py\u001b[0m in \u001b[0;36mloads\u001b[0;34m(s, encoding, cls, object_hook, parse_float, parse_int, parse_constant, object_pairs_hook, **kw)\u001b[0m\n\u001b[1;32m    339\u001b[0m     \u001b[0;32melse\u001b[0m\u001b[0;34m:\u001b[0m\u001b[0;34m\u001b[0m\u001b[0;34m\u001b[0m\u001b[0m\n\u001b[1;32m    340\u001b[0m         \u001b[0;32mif\u001b[0m \u001b[0;32mnot\u001b[0m \u001b[0misinstance\u001b[0m\u001b[0;34m(\u001b[0m\u001b[0ms\u001b[0m\u001b[0;34m,\u001b[0m \u001b[0;34m(\u001b[0m\u001b[0mbytes\u001b[0m\u001b[0;34m,\u001b[0m \u001b[0mbytearray\u001b[0m\u001b[0;34m)\u001b[0m\u001b[0;34m)\u001b[0m\u001b[0;34m:\u001b[0m\u001b[0;34m\u001b[0m\u001b[0;34m\u001b[0m\u001b[0m\n\u001b[0;32m--> 341\u001b[0;31m             raise TypeError(f'the JSON object must be str, bytes or bytearray, '\n\u001b[0m\u001b[1;32m    342\u001b[0m                             f'not {s.__class__.__name__}')\n\u001b[1;32m    343\u001b[0m         \u001b[0ms\u001b[0m \u001b[0;34m=\u001b[0m \u001b[0ms\u001b[0m\u001b[0;34m.\u001b[0m\u001b[0mdecode\u001b[0m\u001b[0;34m(\u001b[0m\u001b[0mdetect_encoding\u001b[0m\u001b[0;34m(\u001b[0m\u001b[0ms\u001b[0m\u001b[0;34m)\u001b[0m\u001b[0;34m,\u001b[0m \u001b[0;34m'surrogatepass'\u001b[0m\u001b[0;34m)\u001b[0m\u001b[0;34m\u001b[0m\u001b[0;34m\u001b[0m\u001b[0m\n",
      "\u001b[0;31mTypeError\u001b[0m: the JSON object must be str, bytes or bytearray, not dict"
     ]
    }
   ],
   "source": [
    "latest_subjects['metadata'] = latest_subjects['metadata'].apply(json.loads)"
   ]
  },
  {
   "cell_type": "code",
   "execution_count": 131,
   "metadata": {},
   "outputs": [],
   "source": [
    "def get_iauname(metadata):\n",
    "    possible_keys = ['iauname', '!iauname', 'IAUNAME', '!IAUNAME']\n",
    "    for key in possible_keys:\n",
    "        if key in metadata.keys():\n",
    "            return metadata[key]\n",
    "    return np.nan"
   ]
  },
  {
   "cell_type": "code",
   "execution_count": 132,
   "metadata": {},
   "outputs": [],
   "source": [
    "latest_subjects['iauname'] = latest_subjects['metadata'].apply(get_iauname)"
   ]
  },
  {
   "cell_type": "code",
   "execution_count": 138,
   "metadata": {},
   "outputs": [
    {
     "data": {
      "text/plain": [
       "0"
      ]
     },
     "execution_count": 138,
     "metadata": {},
     "output_type": "execute_result"
    }
   ],
   "source": [
    "pd.isna(latest_subjects['iauname']).sum()"
   ]
  },
  {
   "cell_type": "code",
   "execution_count": 92,
   "metadata": {},
   "outputs": [
    {
     "data": {
      "text/html": [
       "<div>\n",
       "<style scoped>\n",
       "    .dataframe tbody tr th:only-of-type {\n",
       "        vertical-align: middle;\n",
       "    }\n",
       "\n",
       "    .dataframe tbody tr th {\n",
       "        vertical-align: top;\n",
       "    }\n",
       "\n",
       "    .dataframe thead th {\n",
       "        text-align: right;\n",
       "    }\n",
       "</style>\n",
       "<table border=\"1\" class=\"dataframe\">\n",
       "  <thead>\n",
       "    <tr style=\"text-align: right;\">\n",
       "      <th></th>\n",
       "      <th>subject_id</th>\n",
       "      <th>project_id</th>\n",
       "      <th>workflow_id</th>\n",
       "      <th>subject_set_id</th>\n",
       "      <th>metadata</th>\n",
       "      <th>locations</th>\n",
       "      <th>classifications_count</th>\n",
       "      <th>retired_at</th>\n",
       "      <th>retirement_reason</th>\n",
       "      <th>created_at</th>\n",
       "      <th>updated_at</th>\n",
       "    </tr>\n",
       "  </thead>\n",
       "  <tbody>\n",
       "    <tr>\n",
       "      <th>0</th>\n",
       "      <td>15069047</td>\n",
       "      <td>5733</td>\n",
       "      <td>NaN</td>\n",
       "      <td>16811</td>\n",
       "      <td>{\"ra\":212.68791,\"dec\":1.04629,\"nsa_id\":12916,\"...</td>\n",
       "      <td>{\"0\":\"https://panoptes-uploads.zooniverse.org/...</td>\n",
       "      <td>0</td>\n",
       "      <td>NaN</td>\n",
       "      <td>NaN</td>\n",
       "      <td>2017-11-29 15:22:03 UTC</td>\n",
       "      <td>2017-11-29 15:22:03 UTC</td>\n",
       "    </tr>\n",
       "    <tr>\n",
       "      <th>1</th>\n",
       "      <td>15069048</td>\n",
       "      <td>5733</td>\n",
       "      <td>NaN</td>\n",
       "      <td>16811</td>\n",
       "      <td>{\"ra\":221.7156558079232,\"dec\":-1.1468751688107...</td>\n",
       "      <td>{\"0\":\"https://panoptes-uploads.zooniverse.org/...</td>\n",
       "      <td>0</td>\n",
       "      <td>NaN</td>\n",
       "      <td>NaN</td>\n",
       "      <td>2017-11-29 15:22:04 UTC</td>\n",
       "      <td>2017-11-29 15:22:04 UTC</td>\n",
       "    </tr>\n",
       "    <tr>\n",
       "      <th>2</th>\n",
       "      <td>15069051</td>\n",
       "      <td>5733</td>\n",
       "      <td>NaN</td>\n",
       "      <td>16811</td>\n",
       "      <td>{\"ra\":227.5465212792697,\"dec\":-1.2463287455668...</td>\n",
       "      <td>{\"0\":\"https://panoptes-uploads.zooniverse.org/...</td>\n",
       "      <td>0</td>\n",
       "      <td>NaN</td>\n",
       "      <td>NaN</td>\n",
       "      <td>2017-11-29 15:22:05 UTC</td>\n",
       "      <td>2017-11-29 15:22:05 UTC</td>\n",
       "    </tr>\n",
       "    <tr>\n",
       "      <th>3</th>\n",
       "      <td>15069055</td>\n",
       "      <td>5733</td>\n",
       "      <td>NaN</td>\n",
       "      <td>16811</td>\n",
       "      <td>{\"ra\":19.768410730246767,\"dec\":-0.138544312058...</td>\n",
       "      <td>{\"0\":\"https://panoptes-uploads.zooniverse.org/...</td>\n",
       "      <td>0</td>\n",
       "      <td>NaN</td>\n",
       "      <td>NaN</td>\n",
       "      <td>2017-11-29 15:22:07 UTC</td>\n",
       "      <td>2017-11-29 15:22:07 UTC</td>\n",
       "    </tr>\n",
       "    <tr>\n",
       "      <th>4</th>\n",
       "      <td>15069058</td>\n",
       "      <td>5733</td>\n",
       "      <td>NaN</td>\n",
       "      <td>16811</td>\n",
       "      <td>{\"ra\":34.74994151816515,\"dec\":-0.6017355103458...</td>\n",
       "      <td>{\"0\":\"https://panoptes-uploads.zooniverse.org/...</td>\n",
       "      <td>0</td>\n",
       "      <td>NaN</td>\n",
       "      <td>NaN</td>\n",
       "      <td>2017-11-29 15:22:08 UTC</td>\n",
       "      <td>2017-11-29 15:22:08 UTC</td>\n",
       "    </tr>\n",
       "  </tbody>\n",
       "</table>\n",
       "</div>"
      ],
      "text/plain": [
       "   subject_id  project_id  workflow_id  subject_set_id  \\\n",
       "0    15069047        5733          NaN           16811   \n",
       "1    15069048        5733          NaN           16811   \n",
       "2    15069051        5733          NaN           16811   \n",
       "3    15069055        5733          NaN           16811   \n",
       "4    15069058        5733          NaN           16811   \n",
       "\n",
       "                                            metadata  \\\n",
       "0  {\"ra\":212.68791,\"dec\":1.04629,\"nsa_id\":12916,\"...   \n",
       "1  {\"ra\":221.7156558079232,\"dec\":-1.1468751688107...   \n",
       "2  {\"ra\":227.5465212792697,\"dec\":-1.2463287455668...   \n",
       "3  {\"ra\":19.768410730246767,\"dec\":-0.138544312058...   \n",
       "4  {\"ra\":34.74994151816515,\"dec\":-0.6017355103458...   \n",
       "\n",
       "                                           locations  classifications_count  \\\n",
       "0  {\"0\":\"https://panoptes-uploads.zooniverse.org/...                      0   \n",
       "1  {\"0\":\"https://panoptes-uploads.zooniverse.org/...                      0   \n",
       "2  {\"0\":\"https://panoptes-uploads.zooniverse.org/...                      0   \n",
       "3  {\"0\":\"https://panoptes-uploads.zooniverse.org/...                      0   \n",
       "4  {\"0\":\"https://panoptes-uploads.zooniverse.org/...                      0   \n",
       "\n",
       "  retired_at retirement_reason               created_at  \\\n",
       "0        NaN               NaN  2017-11-29 15:22:03 UTC   \n",
       "1        NaN               NaN  2017-11-29 15:22:04 UTC   \n",
       "2        NaN               NaN  2017-11-29 15:22:05 UTC   \n",
       "3        NaN               NaN  2017-11-29 15:22:07 UTC   \n",
       "4        NaN               NaN  2017-11-29 15:22:08 UTC   \n",
       "\n",
       "                updated_at  \n",
       "0  2017-11-29 15:22:03 UTC  \n",
       "1  2017-11-29 15:22:04 UTC  \n",
       "2  2017-11-29 15:22:05 UTC  \n",
       "3  2017-11-29 15:22:07 UTC  \n",
       "4  2017-11-29 15:22:08 UTC  "
      ]
     },
     "execution_count": 92,
     "metadata": {},
     "output_type": "execute_result"
    }
   ],
   "source": [
    "latest_subjects.head()"
   ]
  },
  {
   "cell_type": "code",
   "execution_count": 97,
   "metadata": {},
   "outputs": [
    {
     "data": {
      "text/plain": [
       "(59, 51)"
      ]
     },
     "execution_count": 97,
     "metadata": {},
     "output_type": "execute_result"
    }
   ],
   "source": [
    "missing_subjects = latest_subjects[latest_subjects['iauname'].isin(not_imaged_iaunames)]\n",
    "len(missing_subjects), len(not_imaged_iaunames)"
   ]
  },
  {
   "cell_type": "code",
   "execution_count": 98,
   "metadata": {},
   "outputs": [
    {
     "data": {
      "text/plain": [
       "{'ra': 7.069523066883633,\n",
       " 'dec': 13.823462744243253,\n",
       " 'nsa_id': 41586,\n",
       " 'sample': '',\n",
       " 'IAUNAME': 'J002816.68+134924.5',\n",
       " 'MANGAID': '1-39024 ',\n",
       " 'GZ_bar_votes': 0.0,\n",
       " '#MANGA_TILEID': 7758.0,\n",
       " 'IFUDESIGNSIZE': 127.0,\n",
       " 'explorer_link': 'http://skyserver.sdss.org/dr13/en/tools/chart/navi.aspx?ra=7.0695&dec=13.8235',\n",
       " 'GZ_spiral_votes': 0.0,\n",
       " 'GZ_total_classifications': 0.0}"
      ]
     },
     "execution_count": 98,
     "metadata": {},
     "output_type": "execute_result"
    }
   ],
   "source": [
    "missing_subjects['metadata'].iloc[0]"
   ]
  },
  {
   "cell_type": "code",
   "execution_count": 99,
   "metadata": {},
   "outputs": [
    {
     "data": {
      "text/plain": [
       "{'!ra': 217.37229991,\n",
       " '!dec': 23.30675913,\n",
       " '!mag_g': 14.42172884941101,\n",
       " '!mag_i': 13.11314344406128,\n",
       " '!mag_r': 13.48874032497406,\n",
       " '!mag_u': 16.194055676460266,\n",
       " '!mag_z': 12.768905758857727,\n",
       " '!nsa_id': 453049,\n",
       " '!iauname': 'J142929.35+231824.3',\n",
       " '!redshift': 0.06498405337333679,\n",
       " '!mag_abs_r': -23.14070701599121,\n",
       " '!mag_faruv': 20.554973036050797,\n",
       " '!petroflux': 2484.762939453125,\n",
       " '!petroth50': 8.560646057128906,\n",
       " '!mag_nearuv': 19.39720243215561,\n",
       " '!petrotheta': 19.207775115966797,\n",
       " '!nsa_version': '1_0_0',\n",
       " '!sdss_search': '[Click to view in SDSS](+tab+https://skyserver.sdss.org/dr14/en/tools/chart/navi.aspx?ra=217.37229991&dec=23.30675913&scale=0.1&width=120&height=120&opt=)',\n",
       " '#upload_date': '2018-04-09',\n",
       " '!absolute_size': 24.225904550337294,\n",
       " '!decals_search': '[Click to view in DECALS](+tab+http://www.legacysurvey.org/viewer?ra=217.37229991&dec=23.30675913&zoom=15&layer=decals-dr5)',\n",
       " '!simbad_search': '[Click to search SIMBAD](+tab+http://simbad.u-strasbg.fr/simbad/sim-coo?Coord=217.37229991+%0923.30675913&CooFrame=FK5&CooEpoch=2000&CooEqui=2000&CooDefinedFrames=none&Radius=10.0&Radius.unit=arcmin&submit=submit+query&CoordList=)',\n",
       " '!nasa_ned_search': '[Click to search NASA NED](+tab+https://ned.ipac.caltech.edu/cgi-bin/objsearch?search_type=Near+Position+Search&in_csys=Equatorial&in_equinox=J2000.0&lon=217.37229991d&lat=23.30675913d&radius=0.16666666666666666&hconst=73&omegam=0.27&omegav=0.73&corr_z=1&z_constraint=Unconstrained&z_value1=&z_value2=&z_unit=z&ot_include=ANY&nmp_op=ANY&out_csys=Equatorial&out_equinox=J2000.0&obj_sort=Distance+to+search+center&of=pre_text&zv_breaker=30000.0&list_limit=5&img_stamp=YES)',\n",
       " 'metadata_message': 'Metadata is available in [Talk](+tab+https://www.zooniverse.org/projects/zookeeper/galaxy-zoo/talk)'}"
      ]
     },
     "execution_count": 99,
     "metadata": {},
     "output_type": "execute_result"
    }
   ],
   "source": [
    "missing_subjects['metadata'].iloc[42]"
   ]
  },
  {
   "cell_type": "markdown",
   "metadata": {},
   "source": [
    "These seem to be either test uploads by other people, or early uploads by me ahead of finishing the download code. They can (and must) be removed from the published catalog."
   ]
  },
  {
   "cell_type": "code",
   "execution_count": 100,
   "metadata": {},
   "outputs": [
    {
     "name": "stderr",
     "output_type": "stream",
     "text": [
      "/home/walml/anaconda3/envs/zoobot/lib/python3.7/site-packages/ipykernel_launcher.py:1: UserWarning: Boolean Series key will be reindexed to match DataFrame index.\n",
      "  \"\"\"Entry point for launching an IPython kernel.\n"
     ]
    },
    {
     "data": {
      "text/plain": [
       "226626"
      ]
     },
     "execution_count": 100,
     "metadata": {},
     "output_type": "execute_result"
    }
   ],
   "source": [
    "latest_export = latest_export[was_imaged_galaxy]\n",
    "len(latest_export)"
   ]
  },
  {
   "cell_type": "markdown",
   "metadata": {},
   "source": [
    "### How many did/not pass the selection cuts?"
   ]
  },
  {
   "cell_type": "code",
   "execution_count": 58,
   "metadata": {},
   "outputs": [
    {
     "data": {
      "text/plain": [
       "(343128, 343128)"
      ]
     },
     "execution_count": 58,
     "metadata": {},
     "output_type": "execute_result"
    }
   ],
   "source": [
    "to_upload_cut = apply_selection_cuts(to_upload)\n",
    "len(to_upload), len(to_upload_cut)"
   ]
  },
  {
   "cell_type": "code",
   "execution_count": 59,
   "metadata": {},
   "outputs": [
    {
     "data": {
      "text/plain": [
       "True    239631\n",
       "Name: iauname, dtype: int64"
      ]
     },
     "execution_count": 59,
     "metadata": {},
     "output_type": "execute_result"
    }
   ],
   "source": [
    "was_valid_upload = latest_export['iauname'].isin(to_upload['iauname'])\n",
    "was_valid_upload.value_counts()"
   ]
  },
  {
   "cell_type": "markdown",
   "metadata": {},
   "source": [
    "Therefore all of them passed the selection cuts. Good times."
   ]
  },
  {
   "cell_type": "markdown",
   "metadata": {},
   "source": [
    "### How many had valid images? (I think I forgot this check at first)"
   ]
  },
  {
   "cell_type": "code",
   "execution_count": 60,
   "metadata": {},
   "outputs": [
    {
     "data": {
      "text/plain": [
       "True    239631\n",
       "Name: iauname, dtype: int64"
      ]
     },
     "execution_count": 60,
     "metadata": {},
     "output_type": "execute_result"
    }
   ],
   "source": [
    "was_valid_upload = latest_export['iauname'].isin(to_upload['iauname'])\n",
    "was_valid_upload.value_counts()"
   ]
  },
  {
   "cell_type": "code",
   "execution_count": 61,
   "metadata": {},
   "outputs": [],
   "source": [
    "valid_to_upload = to_upload.query('fits_filled')"
   ]
  },
  {
   "cell_type": "code",
   "execution_count": 62,
   "metadata": {},
   "outputs": [
    {
     "data": {
      "text/plain": [
       "True     226626\n",
       "False     13005\n",
       "Name: iauname, dtype: int64"
      ]
     },
     "execution_count": 62,
     "metadata": {},
     "output_type": "execute_result"
    }
   ],
   "source": [
    "was_valid_upload = latest_export['iauname'].isin(valid_to_upload['iauname'])\n",
    "was_valid_upload.value_counts()"
   ]
  },
  {
   "cell_type": "markdown",
   "metadata": {},
   "source": []
  },
  {
   "cell_type": "code",
   "execution_count": 63,
   "metadata": {},
   "outputs": [
    {
     "data": {
      "text/plain": [
       "(40041, 13005)"
      ]
     },
     "execution_count": 63,
     "metadata": {},
     "output_type": "execute_result"
    }
   ],
   "source": [
    "bad_image_iaunames = latest_export[~was_valid_upload]['iauname']\n",
    "bad_image_subjects = latest_subjects[latest_subjects['iauname'].isin(bad_image_iaunames)]\n",
    "len(bad_image_subjects), len(bad_image_iaunames)  # will include some duplicates, e.g from mistaken uploads or MANGA"
   ]
  },
  {
   "cell_type": "code",
   "execution_count": 64,
   "metadata": {},
   "outputs": [
    {
     "name": "stderr",
     "output_type": "stream",
     "text": [
      "/home/walml/anaconda3/envs/zoobot/lib/python3.7/site-packages/ipykernel_launcher.py:1: SettingWithCopyWarning: \n",
      "A value is trying to be set on a copy of a slice from a DataFrame.\n",
      "Try using .loc[row_indexer,col_indexer] = value instead\n",
      "\n",
      "See the caveats in the documentation: https://pandas.pydata.org/pandas-docs/stable/user_guide/indexing.html#returning-a-view-versus-a-copy\n",
      "  \"\"\"Entry point for launching an IPython kernel.\n"
     ]
    }
   ],
   "source": [
    "bad_image_subjects['locations'] = bad_image_subjects['locations'].apply(json.loads)"
   ]
  },
  {
   "cell_type": "code",
   "execution_count": 65,
   "metadata": {},
   "outputs": [
    {
     "data": {
      "text/plain": [
       "array([{'0': 'https://panoptes-uploads.zooniverse.org/production/subject_location/ef223b3f-fd77-42d3-9207-bb42311f76d9.png'},\n",
       "       {'0': 'https://panoptes-uploads.zooniverse.org/production/subject_location/99a81bf6-0b54-48f1-874d-04360e18140b.png'},\n",
       "       {'0': 'https://panoptes-uploads.zooniverse.org/production/subject_location/6f653c5f-acf1-41ae-b2e1-d182edb1aa89.png'},\n",
       "       {'0': 'https://panoptes-uploads.zooniverse.org/production/subject_location/88696ca1-3a8f-4a6d-96aa-900fc971ee84.png'},\n",
       "       {'0': 'https://panoptes-uploads.zooniverse.org/production/subject_location/eafbe125-9e2e-48c4-a0aa-a4461cc22c4a.png'},\n",
       "       {'0': 'https://panoptes-uploads.zooniverse.org/production/subject_location/f37f3dcc-2cf4-4f4c-a168-b3ef2a2707b5.png'},\n",
       "       {'0': 'https://panoptes-uploads.zooniverse.org/production/subject_location/17d99afe-1221-4096-abbb-ec300ecd9a9c.png'},\n",
       "       {'0': 'https://panoptes-uploads.zooniverse.org/production/subject_location/01080b7d-5b68-4386-8b24-83b80286b9cd.png'},\n",
       "       {'0': 'https://panoptes-uploads.zooniverse.org/production/subject_location/a2df7de2-9ea3-45d8-96a6-2ae15636be65.png'},\n",
       "       {'0': 'https://panoptes-uploads.zooniverse.org/production/subject_location/6252ebf9-d89b-4540-b470-689102681590.png'}],\n",
       "      dtype=object)"
      ]
     },
     "execution_count": 65,
     "metadata": {},
     "output_type": "execute_result"
    }
   ],
   "source": [
    "bad_image_subjects['locations'].sample(10).values"
   ]
  },
  {
   "cell_type": "markdown",
   "metadata": {},
   "source": [
    "Yep, these do seem bad - usually missing a filter - and can be removed. Or, we can probably still include this, but add a 'bad image' flag?"
   ]
  },
  {
   "cell_type": "code",
   "execution_count": 66,
   "metadata": {},
   "outputs": [
    {
     "data": {
      "text/plain": [
       "226626"
      ]
     },
     "execution_count": 66,
     "metadata": {},
     "output_type": "execute_result"
    }
   ],
   "source": [
    "latest_export = latest_export[was_valid_upload]\n",
    "len(latest_export)"
   ]
  },
  {
   "cell_type": "code",
   "execution_count": null,
   "metadata": {},
   "outputs": [],
   "source": []
  },
  {
   "cell_type": "markdown",
   "metadata": {},
   "source": [
    "### How many were in DR1/2?"
   ]
  },
  {
   "cell_type": "code",
   "execution_count": 67,
   "metadata": {},
   "outputs": [
    {
     "data": {
      "text/plain": [
       "(34715, 103712, 226626)"
      ]
     },
     "execution_count": 67,
     "metadata": {},
     "output_type": "execute_result"
    }
   ],
   "source": [
    "was_in_dr1_dr2 = latest_export['iauname'].isin(dr1_dr2['iauname'])  # not including the possible post-hoc DR1 cut\n",
    "was_in_dr1_dr2.sum(), len(dr1_dr2), len(latest_export)"
   ]
  },
  {
   "cell_type": "code",
   "execution_count": 68,
   "metadata": {},
   "outputs": [
    {
     "data": {
      "text/plain": [
       "<matplotlib.axes._subplots.AxesSubplot at 0x7f1b8f347c90>"
      ]
     },
     "execution_count": 68,
     "metadata": {},
     "output_type": "execute_result"
    },
    {
     "data": {
      "image/png": "[encoded data removed]",
      "text/plain": [
       "<Figure size 432x288 with 1 Axes>"
      ]
     },
     "metadata": {
      "needs_background": "light"
     },
     "output_type": "display_data"
    }
   ],
   "source": [
    "_, bins = np.histogram(np.linspace(0., 120.), bins=40)\n",
    "votes = latest_export[was_in_dr1_dr2]['smooth-or-featured_total-votes']\n",
    "votes.hist(bins=bins)"
   ]
  },
  {
   "cell_type": "code",
   "execution_count": 69,
   "metadata": {},
   "outputs": [
    {
     "data": {
      "text/plain": [
       "(24778, 3168, 4858)"
      ]
     },
     "execution_count": 69,
     "metadata": {},
     "output_type": "execute_result"
    }
   ],
   "source": [
    "(votes.values < 7).sum(), ((35 < votes.values) & (votes.values < 45)).sum(), (votes.values > 80).sum()"
   ]
  },
  {
   "cell_type": "code",
   "execution_count": 70,
   "metadata": {},
   "outputs": [
    {
     "data": {
      "text/plain": [
       "5.0    9021\n",
       "4.0    8625\n",
       "3.0    6885\n",
       "6.0     247\n",
       "Name: smooth-or-featured_total-votes, dtype: int64"
      ]
     },
     "execution_count": 70,
     "metadata": {},
     "output_type": "execute_result"
    }
   ],
   "source": [
    "votes[votes < 7].value_counts()"
   ]
  },
  {
   "cell_type": "markdown",
   "metadata": {},
   "source": [
    "I think that the only reasons for joint catalog galaxies not to be uploaded are:\n",
    "- Already classified in DR1/2\n",
    "- Bad fits image\n",
    "\n",
    "Let's verify by cutting down to_upload and seeing if all the remaining galaxies are in latest_export."
   ]
  },
  {
   "cell_type": "code",
   "execution_count": 151,
   "metadata": {},
   "outputs": [
    {
     "data": {
      "text/plain": [
       "343128"
      ]
     },
     "execution_count": 151,
     "metadata": {},
     "output_type": "execute_result"
    }
   ],
   "source": [
    "len(to_upload)"
   ]
  },
  {
   "cell_type": "code",
   "execution_count": 152,
   "metadata": {},
   "outputs": [
    {
     "data": {
      "text/plain": [
       "307484"
      ]
     },
     "execution_count": 152,
     "metadata": {},
     "output_type": "execute_result"
    }
   ],
   "source": [
    "len(to_upload.query('fits_filled'))"
   ]
  },
  {
   "cell_type": "code",
   "execution_count": 153,
   "metadata": {},
   "outputs": [
    {
     "data": {
      "text/plain": [
       "247746"
      ]
     },
     "execution_count": 153,
     "metadata": {},
     "output_type": "execute_result"
    }
   ],
   "source": [
    "not_in_dr1_dr2 = to_upload[~to_upload['iauname'].isin(dr1_dr2['iauname'])]\n",
    "len(not_in_dr1_dr2)"
   ]
  },
  {
   "cell_type": "code",
   "execution_count": 145,
   "metadata": {},
   "outputs": [
    {
     "data": {
      "text/plain": [
       "214288"
      ]
     },
     "execution_count": 145,
     "metadata": {},
     "output_type": "execute_result"
    }
   ],
   "source": [
    "should_be_uploaded = not_in_dr1_dr2.query('fits_filled')\n",
    "len(should_be_uploaded)"
   ]
  },
  {
   "cell_type": "code",
   "execution_count": 146,
   "metadata": {},
   "outputs": [
    {
     "data": {
      "text/plain": [
       "True     191911\n",
       "False     22377\n",
       "Name: iauname, dtype: int64"
      ]
     },
     "execution_count": 146,
     "metadata": {},
     "output_type": "execute_result"
    }
   ],
   "source": [
    "should_be_uploaded['iauname'].isin(latest_export['iauname']).value_counts()"
   ]
  },
  {
   "cell_type": "markdown",
   "metadata": {},
   "source": [
    "Okay, so there's another 10% we could have uploaded? The random uploads are done from '/media/walml/beta/decals/catalogs/decals_master_catalog.csv'"
   ]
  },
  {
   "cell_type": "code",
   "execution_count": 76,
   "metadata": {},
   "outputs": [],
   "source": [
    "master_catalog = pd.read_csv('/media/walml/beta/decals/catalogs/decals_master_catalog.csv')"
   ]
  },
  {
   "cell_type": "code",
   "execution_count": 77,
   "metadata": {},
   "outputs": [
    {
     "data": {
      "text/plain": [
       "True     334027\n",
       "False      9101\n",
       "Name: iauname, dtype: int64"
      ]
     },
     "execution_count": 77,
     "metadata": {},
     "output_type": "execute_result"
    }
   ],
   "source": [
    "to_upload['iauname'].isin(master_catalog['iauname']).value_counts()"
   ]
  },
  {
   "cell_type": "code",
   "execution_count": null,
   "metadata": {},
   "outputs": [],
   "source": []
  },
  {
   "cell_type": "code",
   "execution_count": 78,
   "metadata": {},
   "outputs": [],
   "source": [
    "allegedly_uploadable = pd.read_csv('/media/walml/beta/decals/catalogs/decals_dr5_uploadable_master_catalog_nov_2019.csv')\n",
    "\n",
    "ml_labels = pd.read_csv('/media/walml/beta/decals/results/classifications_2019_10_03.csv')"
   ]
  },
  {
   "cell_type": "code",
   "execution_count": 79,
   "metadata": {},
   "outputs": [
    {
     "data": {
      "text/plain": [
       "(343128, 214280, 214288)"
      ]
     },
     "execution_count": 79,
     "metadata": {},
     "output_type": "execute_result"
    }
   ],
   "source": [
    "len(to_upload), len(allegedly_uploadable), len(should_be_uploaded)  # should be filtered by not in DR1/2, not already classified, filled_fits, and (from to_upload) selection cuts"
   ]
  },
  {
   "cell_type": "markdown",
   "metadata": {},
   "source": [
    "Excellent. Just to refresh things and recover that weird missing 8 galaxies, I'll update the uploadable catalog and then use gz-scripts to upload all those galaxies to decals/wrapping_up_dr5 subject set"
   ]
  },
  {
   "cell_type": "code",
   "execution_count": null,
   "metadata": {},
   "outputs": [],
   "source": []
  },
  {
   "cell_type": "markdown",
   "metadata": {},
   "source": [
    "These weren't included before because I got confused and used/gave the 'decals_master_catalog file' instead of 'decals_dr5_uploadable_master_catalog_nov_2019'. Clear names and clean folders are important for doing the right thing!"
   ]
  },
  {
   "cell_type": "code",
   "execution_count": 80,
   "metadata": {},
   "outputs": [
    {
     "data": {
      "text/plain": [
       "True    334027\n",
       "Name: iauname, dtype: int64"
      ]
     },
     "execution_count": 80,
     "metadata": {},
     "output_type": "execute_result"
    }
   ],
   "source": [
    "master_catalog['iauname'].isin(to_upload['iauname']).value_counts()"
   ]
  },
  {
   "cell_type": "code",
   "execution_count": 81,
   "metadata": {},
   "outputs": [
    {
     "data": {
      "text/plain": [
       "True     298630\n",
       "False     35397\n",
       "Name: iauname, dtype: int64"
      ]
     },
     "execution_count": 81,
     "metadata": {},
     "output_type": "execute_result"
    }
   ],
   "source": [
    "master_catalog['iauname'].isin(to_upload.query('fits_filled')['iauname']).value_counts()"
   ]
  },
  {
   "cell_type": "code",
   "execution_count": 82,
   "metadata": {},
   "outputs": [
    {
     "data": {
      "text/plain": [
       "True     243336\n",
       "False     90691\n",
       "Name: iauname, dtype: int64"
      ]
     },
     "execution_count": 82,
     "metadata": {},
     "output_type": "execute_result"
    }
   ],
   "source": [
    "master_catalog['iauname'].isin(not_in_dr1_dr2['iauname']).value_counts()"
   ]
  },
  {
   "cell_type": "markdown",
   "metadata": {},
   "source": [
    "So uploading from the master catalog is a really bad idea and Tobias and I have probably been doing it. Woops!!\n",
    "\n",
    "This is the catalog I gave tobias to use:"
   ]
  },
  {
   "cell_type": "code",
   "execution_count": 83,
   "metadata": {},
   "outputs": [
    {
     "name": "stderr",
     "output_type": "stream",
     "text": [
      "/home/walml/anaconda3/envs/zoobot/lib/python3.7/site-packages/IPython/core/interactiveshell.py:3063: DtypeWarning: Columns (109) have mixed types.Specify dtype option on import or set low_memory=False.\n",
      "  interactivity=interactivity, compiler=compiler, result=result)\n"
     ]
    }
   ],
   "source": [
    "tobias = pd.read_csv('/home/walml/Downloads/decals_master_catalog_tobias.csv')"
   ]
  },
  {
   "cell_type": "code",
   "execution_count": 84,
   "metadata": {},
   "outputs": [
    {
     "data": {
      "text/plain": [
       "209215"
      ]
     },
     "execution_count": 84,
     "metadata": {},
     "output_type": "execute_result"
    }
   ],
   "source": [
    "len(tobias)"
   ]
  },
  {
   "cell_type": "code",
   "execution_count": 85,
   "metadata": {},
   "outputs": [
    {
     "data": {
      "text/plain": [
       "True    209215\n",
       "Name: iauname, dtype: int64"
      ]
     },
     "execution_count": 85,
     "metadata": {},
     "output_type": "execute_result"
    }
   ],
   "source": [
    "tobias['iauname'].isin(should_be_uploaded['iauname']).value_counts()"
   ]
  },
  {
   "cell_type": "code",
   "execution_count": 86,
   "metadata": {},
   "outputs": [
    {
     "data": {
      "text/plain": [
       "True     209215\n",
       "False      5073\n",
       "Name: iauname, dtype: int64"
      ]
     },
     "execution_count": 86,
     "metadata": {},
     "output_type": "execute_result"
    }
   ],
   "source": [
    "should_be_uploaded['iauname'].isin(tobias['iauname']).value_counts()"
   ]
  },
  {
   "cell_type": "markdown",
   "metadata": {},
   "source": [
    "Hmm. Actually, this *was* the right file and includes all but 5000 of the galaxies which should have been uploaded.\n",
    "\n",
    "Let's use the latest subject export to find all the iaunames not yet uploaded that should have been, and upload them."
   ]
  },
  {
   "cell_type": "code",
   "execution_count": 140,
   "metadata": {},
   "outputs": [
    {
     "data": {
      "text/plain": [
       "True     185137\n",
       "False     29151\n",
       "Name: iauname, dtype: int64"
      ]
     },
     "execution_count": 140,
     "metadata": {},
     "output_type": "execute_result"
    }
   ],
   "source": [
    "should_be_uploaded['iauname'].isin(latest_subjects['iauname']).value_counts()"
   ]
  },
  {
   "cell_type": "code",
   "execution_count": 141,
   "metadata": {},
   "outputs": [
    {
     "data": {
      "text/plain": [
       "29151"
      ]
     },
     "execution_count": 141,
     "metadata": {},
     "output_type": "execute_result"
    }
   ],
   "source": [
    "missing = should_be_uploaded[~should_be_uploaded['iauname'].isin(latest_subjects['iauname'])]\n",
    "len(missing)"
   ]
  },
  {
   "cell_type": "code",
   "execution_count": 144,
   "metadata": {},
   "outputs": [
    {
     "data": {
      "text/plain": [
       "50532     J110821.68+054339.3\n",
       "171085    J144901.89+052422.3\n",
       "102436    J084300.99+300011.9\n",
       "130086    J120420.54+082231.4\n",
       "136040    J170452.00+234131.6\n",
       "307238    J025445.19-011903.9\n",
       "115972    J021956.73-002415.0\n",
       "161370    J131923.95+100058.0\n",
       "114153    J022132.16+002539.5\n",
       "140905    J141035.67+100557.6\n",
       "Name: iauname, dtype: object"
      ]
     },
     "execution_count": 144,
     "metadata": {},
     "output_type": "execute_result"
    }
   ],
   "source": [
    "missing['iauname'].sample(10)"
   ]
  },
  {
   "cell_type": "code",
   "execution_count": null,
   "metadata": {},
   "outputs": [],
   "source": []
  },
  {
   "cell_type": "code",
   "execution_count": 3,
   "metadata": {},
   "outputs": [],
   "source": [
    "dr2_agg = pd.read_csv('/media/walml/beta/galaxy_zoo/decals/gzreduction_ouroborous/working_dir/votes/dr2_aggregated_votes.csv')"
   ]
  },
  {
   "cell_type": "code",
   "execution_count": 4,
   "metadata": {},
   "outputs": [
    {
     "data": {
      "text/html": [
       "<div>\n",
       "<style scoped>\n",
       "    .dataframe tbody tr th:only-of-type {\n",
       "        vertical-align: middle;\n",
       "    }\n",
       "\n",
       "    .dataframe tbody tr th {\n",
       "        vertical-align: top;\n",
       "    }\n",
       "\n",
       "    .dataframe thead th {\n",
       "        text-align: right;\n",
       "    }\n",
       "</style>\n",
       "<table border=\"1\" class=\"dataframe\">\n",
       "  <thead>\n",
       "    <tr style=\"text-align: right;\">\n",
       "      <th></th>\n",
       "      <th>subject_id</th>\n",
       "      <th>smooth-or-featured_smooth</th>\n",
       "      <th>smooth-or-featured_featured-or-disk</th>\n",
       "      <th>smooth-or-featured_artifact</th>\n",
       "      <th>how-rounded_completely</th>\n",
       "      <th>how-rounded_in-between</th>\n",
       "      <th>how-rounded_cigar-shaped</th>\n",
       "      <th>disk-edge-on_yes</th>\n",
       "      <th>disk-edge-on_no</th>\n",
       "      <th>edge-on-bulge_rounded</th>\n",
       "      <th>...</th>\n",
       "      <th>spiral-arm-count_more-than-4_fraction</th>\n",
       "      <th>bulge-size_total-votes</th>\n",
       "      <th>bulge-size_none_fraction</th>\n",
       "      <th>bulge-size_obvious_fraction</th>\n",
       "      <th>bulge-size_dominant_fraction</th>\n",
       "      <th>merging_total-votes</th>\n",
       "      <th>merging_merger_fraction</th>\n",
       "      <th>merging_tidal-debris_fraction</th>\n",
       "      <th>merging_both_fraction</th>\n",
       "      <th>merging_neither_fraction</th>\n",
       "    </tr>\n",
       "  </thead>\n",
       "  <tbody>\n",
       "    <tr>\n",
       "      <th>0</th>\n",
       "      <td>55a7d7a27a726119cd00000b</td>\n",
       "      <td>19</td>\n",
       "      <td>15</td>\n",
       "      <td>0</td>\n",
       "      <td>16</td>\n",
       "      <td>2</td>\n",
       "      <td>1</td>\n",
       "      <td>2</td>\n",
       "      <td>13</td>\n",
       "      <td>2</td>\n",
       "      <td>...</td>\n",
       "      <td>0.125</td>\n",
       "      <td>13</td>\n",
       "      <td>0.000000</td>\n",
       "      <td>0.923077</td>\n",
       "      <td>0.076923</td>\n",
       "      <td>34</td>\n",
       "      <td>0.147059</td>\n",
       "      <td>0.088235</td>\n",
       "      <td>0.088235</td>\n",
       "      <td>0.676471</td>\n",
       "    </tr>\n",
       "    <tr>\n",
       "      <th>1</th>\n",
       "      <td>55a7d7a27a726119cd00000c</td>\n",
       "      <td>33</td>\n",
       "      <td>2</td>\n",
       "      <td>0</td>\n",
       "      <td>28</td>\n",
       "      <td>5</td>\n",
       "      <td>0</td>\n",
       "      <td>1</td>\n",
       "      <td>1</td>\n",
       "      <td>1</td>\n",
       "      <td>...</td>\n",
       "      <td>0.000</td>\n",
       "      <td>1</td>\n",
       "      <td>0.000000</td>\n",
       "      <td>1.000000</td>\n",
       "      <td>0.000000</td>\n",
       "      <td>35</td>\n",
       "      <td>0.200000</td>\n",
       "      <td>0.085714</td>\n",
       "      <td>0.028571</td>\n",
       "      <td>0.685714</td>\n",
       "    </tr>\n",
       "    <tr>\n",
       "      <th>2</th>\n",
       "      <td>55a7d7a27a726119cd00000d</td>\n",
       "      <td>36</td>\n",
       "      <td>1</td>\n",
       "      <td>0</td>\n",
       "      <td>23</td>\n",
       "      <td>13</td>\n",
       "      <td>0</td>\n",
       "      <td>0</td>\n",
       "      <td>1</td>\n",
       "      <td>0</td>\n",
       "      <td>...</td>\n",
       "      <td>0.000</td>\n",
       "      <td>1</td>\n",
       "      <td>0.000000</td>\n",
       "      <td>1.000000</td>\n",
       "      <td>0.000000</td>\n",
       "      <td>37</td>\n",
       "      <td>0.027027</td>\n",
       "      <td>0.027027</td>\n",
       "      <td>0.000000</td>\n",
       "      <td>0.945946</td>\n",
       "    </tr>\n",
       "    <tr>\n",
       "      <th>3</th>\n",
       "      <td>55a7d7a27a726119cd00000e</td>\n",
       "      <td>32</td>\n",
       "      <td>15</td>\n",
       "      <td>0</td>\n",
       "      <td>16</td>\n",
       "      <td>16</td>\n",
       "      <td>0</td>\n",
       "      <td>0</td>\n",
       "      <td>15</td>\n",
       "      <td>0</td>\n",
       "      <td>...</td>\n",
       "      <td>0.250</td>\n",
       "      <td>15</td>\n",
       "      <td>0.266667</td>\n",
       "      <td>0.733333</td>\n",
       "      <td>0.000000</td>\n",
       "      <td>47</td>\n",
       "      <td>0.021277</td>\n",
       "      <td>0.042553</td>\n",
       "      <td>0.021277</td>\n",
       "      <td>0.914894</td>\n",
       "    </tr>\n",
       "    <tr>\n",
       "      <th>4</th>\n",
       "      <td>55a7d7a27a726119cd00000f</td>\n",
       "      <td>40</td>\n",
       "      <td>6</td>\n",
       "      <td>0</td>\n",
       "      <td>10</td>\n",
       "      <td>29</td>\n",
       "      <td>1</td>\n",
       "      <td>0</td>\n",
       "      <td>6</td>\n",
       "      <td>0</td>\n",
       "      <td>...</td>\n",
       "      <td>0.000</td>\n",
       "      <td>6</td>\n",
       "      <td>0.166667</td>\n",
       "      <td>0.666667</td>\n",
       "      <td>0.166667</td>\n",
       "      <td>46</td>\n",
       "      <td>0.086957</td>\n",
       "      <td>0.043478</td>\n",
       "      <td>0.021739</td>\n",
       "      <td>0.847826</td>\n",
       "    </tr>\n",
       "    <tr>\n",
       "      <th>...</th>\n",
       "      <td>...</td>\n",
       "      <td>...</td>\n",
       "      <td>...</td>\n",
       "      <td>...</td>\n",
       "      <td>...</td>\n",
       "      <td>...</td>\n",
       "      <td>...</td>\n",
       "      <td>...</td>\n",
       "      <td>...</td>\n",
       "      <td>...</td>\n",
       "      <td>...</td>\n",
       "      <td>...</td>\n",
       "      <td>...</td>\n",
       "      <td>...</td>\n",
       "      <td>...</td>\n",
       "      <td>...</td>\n",
       "      <td>...</td>\n",
       "      <td>...</td>\n",
       "      <td>...</td>\n",
       "      <td>...</td>\n",
       "      <td>...</td>\n",
       "    </tr>\n",
       "    <tr>\n",
       "      <th>94019</th>\n",
       "      <td>56f3deb65925d90042037015</td>\n",
       "      <td>6</td>\n",
       "      <td>12</td>\n",
       "      <td>0</td>\n",
       "      <td>4</td>\n",
       "      <td>1</td>\n",
       "      <td>1</td>\n",
       "      <td>0</td>\n",
       "      <td>12</td>\n",
       "      <td>0</td>\n",
       "      <td>...</td>\n",
       "      <td>0.000</td>\n",
       "      <td>12</td>\n",
       "      <td>0.500000</td>\n",
       "      <td>0.500000</td>\n",
       "      <td>0.000000</td>\n",
       "      <td>18</td>\n",
       "      <td>0.277778</td>\n",
       "      <td>0.111111</td>\n",
       "      <td>0.000000</td>\n",
       "      <td>0.611111</td>\n",
       "    </tr>\n",
       "    <tr>\n",
       "      <th>94020</th>\n",
       "      <td>56f3deb65925d90042037017</td>\n",
       "      <td>21</td>\n",
       "      <td>15</td>\n",
       "      <td>0</td>\n",
       "      <td>17</td>\n",
       "      <td>4</td>\n",
       "      <td>0</td>\n",
       "      <td>0</td>\n",
       "      <td>15</td>\n",
       "      <td>0</td>\n",
       "      <td>...</td>\n",
       "      <td>0.000</td>\n",
       "      <td>15</td>\n",
       "      <td>0.333333</td>\n",
       "      <td>0.600000</td>\n",
       "      <td>0.066667</td>\n",
       "      <td>36</td>\n",
       "      <td>0.277778</td>\n",
       "      <td>0.027778</td>\n",
       "      <td>0.083333</td>\n",
       "      <td>0.611111</td>\n",
       "    </tr>\n",
       "    <tr>\n",
       "      <th>94021</th>\n",
       "      <td>56f3deb65925d90042037019</td>\n",
       "      <td>22</td>\n",
       "      <td>15</td>\n",
       "      <td>0</td>\n",
       "      <td>2</td>\n",
       "      <td>16</td>\n",
       "      <td>4</td>\n",
       "      <td>11</td>\n",
       "      <td>4</td>\n",
       "      <td>11</td>\n",
       "      <td>...</td>\n",
       "      <td>0.000</td>\n",
       "      <td>4</td>\n",
       "      <td>0.250000</td>\n",
       "      <td>0.750000</td>\n",
       "      <td>0.000000</td>\n",
       "      <td>37</td>\n",
       "      <td>0.540541</td>\n",
       "      <td>0.000000</td>\n",
       "      <td>0.108108</td>\n",
       "      <td>0.351351</td>\n",
       "    </tr>\n",
       "    <tr>\n",
       "      <th>94022</th>\n",
       "      <td>56f3deb65925d9004203701b</td>\n",
       "      <td>30</td>\n",
       "      <td>2</td>\n",
       "      <td>0</td>\n",
       "      <td>26</td>\n",
       "      <td>3</td>\n",
       "      <td>1</td>\n",
       "      <td>0</td>\n",
       "      <td>2</td>\n",
       "      <td>0</td>\n",
       "      <td>...</td>\n",
       "      <td>0.000</td>\n",
       "      <td>2</td>\n",
       "      <td>0.000000</td>\n",
       "      <td>0.000000</td>\n",
       "      <td>1.000000</td>\n",
       "      <td>32</td>\n",
       "      <td>0.093750</td>\n",
       "      <td>0.093750</td>\n",
       "      <td>0.000000</td>\n",
       "      <td>0.812500</td>\n",
       "    </tr>\n",
       "    <tr>\n",
       "      <th>94023</th>\n",
       "      <td>56f3deb65925d9004203701d</td>\n",
       "      <td>9</td>\n",
       "      <td>27</td>\n",
       "      <td>0</td>\n",
       "      <td>0</td>\n",
       "      <td>9</td>\n",
       "      <td>0</td>\n",
       "      <td>5</td>\n",
       "      <td>22</td>\n",
       "      <td>3</td>\n",
       "      <td>...</td>\n",
       "      <td>0.000</td>\n",
       "      <td>22</td>\n",
       "      <td>0.500000</td>\n",
       "      <td>0.454545</td>\n",
       "      <td>0.045455</td>\n",
       "      <td>36</td>\n",
       "      <td>0.222222</td>\n",
       "      <td>0.194444</td>\n",
       "      <td>0.055556</td>\n",
       "      <td>0.527778</td>\n",
       "    </tr>\n",
       "  </tbody>\n",
       "</table>\n",
       "<p>94024 rows × 71 columns</p>\n",
       "</div>"
      ],
      "text/plain": [
       "                     subject_id  smooth-or-featured_smooth  \\\n",
       "0      55a7d7a27a726119cd00000b                         19   \n",
       "1      55a7d7a27a726119cd00000c                         33   \n",
       "2      55a7d7a27a726119cd00000d                         36   \n",
       "3      55a7d7a27a726119cd00000e                         32   \n",
       "4      55a7d7a27a726119cd00000f                         40   \n",
       "...                         ...                        ...   \n",
       "94019  56f3deb65925d90042037015                          6   \n",
       "94020  56f3deb65925d90042037017                         21   \n",
       "94021  56f3deb65925d90042037019                         22   \n",
       "94022  56f3deb65925d9004203701b                         30   \n",
       "94023  56f3deb65925d9004203701d                          9   \n",
       "\n",
       "       smooth-or-featured_featured-or-disk  smooth-or-featured_artifact  \\\n",
       "0                                       15                            0   \n",
       "1                                        2                            0   \n",
       "2                                        1                            0   \n",
       "3                                       15                            0   \n",
       "4                                        6                            0   \n",
       "...                                    ...                          ...   \n",
       "94019                                   12                            0   \n",
       "94020                                   15                            0   \n",
       "94021                                   15                            0   \n",
       "94022                                    2                            0   \n",
       "94023                                   27                            0   \n",
       "\n",
       "       how-rounded_completely  how-rounded_in-between  \\\n",
       "0                          16                       2   \n",
       "1                          28                       5   \n",
       "2                          23                      13   \n",
       "3                          16                      16   \n",
       "4                          10                      29   \n",
       "...                       ...                     ...   \n",
       "94019                       4                       1   \n",
       "94020                      17                       4   \n",
       "94021                       2                      16   \n",
       "94022                      26                       3   \n",
       "94023                       0                       9   \n",
       "\n",
       "       how-rounded_cigar-shaped  disk-edge-on_yes  disk-edge-on_no  \\\n",
       "0                             1                 2               13   \n",
       "1                             0                 1                1   \n",
       "2                             0                 0                1   \n",
       "3                             0                 0               15   \n",
       "4                             1                 0                6   \n",
       "...                         ...               ...              ...   \n",
       "94019                         1                 0               12   \n",
       "94020                         0                 0               15   \n",
       "94021                         4                11                4   \n",
       "94022                         1                 0                2   \n",
       "94023                         0                 5               22   \n",
       "\n",
       "       edge-on-bulge_rounded  ...  spiral-arm-count_more-than-4_fraction  \\\n",
       "0                          2  ...                                  0.125   \n",
       "1                          1  ...                                  0.000   \n",
       "2                          0  ...                                  0.000   \n",
       "3                          0  ...                                  0.250   \n",
       "4                          0  ...                                  0.000   \n",
       "...                      ...  ...                                    ...   \n",
       "94019                      0  ...                                  0.000   \n",
       "94020                      0  ...                                  0.000   \n",
       "94021                     11  ...                                  0.000   \n",
       "94022                      0  ...                                  0.000   \n",
       "94023                      3  ...                                  0.000   \n",
       "\n",
       "       bulge-size_total-votes  bulge-size_none_fraction  \\\n",
       "0                          13                  0.000000   \n",
       "1                           1                  0.000000   \n",
       "2                           1                  0.000000   \n",
       "3                          15                  0.266667   \n",
       "4                           6                  0.166667   \n",
       "...                       ...                       ...   \n",
       "94019                      12                  0.500000   \n",
       "94020                      15                  0.333333   \n",
       "94021                       4                  0.250000   \n",
       "94022                       2                  0.000000   \n",
       "94023                      22                  0.500000   \n",
       "\n",
       "       bulge-size_obvious_fraction  bulge-size_dominant_fraction  \\\n",
       "0                         0.923077                      0.076923   \n",
       "1                         1.000000                      0.000000   \n",
       "2                         1.000000                      0.000000   \n",
       "3                         0.733333                      0.000000   \n",
       "4                         0.666667                      0.166667   \n",
       "...                            ...                           ...   \n",
       "94019                     0.500000                      0.000000   \n",
       "94020                     0.600000                      0.066667   \n",
       "94021                     0.750000                      0.000000   \n",
       "94022                     0.000000                      1.000000   \n",
       "94023                     0.454545                      0.045455   \n",
       "\n",
       "       merging_total-votes  merging_merger_fraction  \\\n",
       "0                       34                 0.147059   \n",
       "1                       35                 0.200000   \n",
       "2                       37                 0.027027   \n",
       "3                       47                 0.021277   \n",
       "4                       46                 0.086957   \n",
       "...                    ...                      ...   \n",
       "94019                   18                 0.277778   \n",
       "94020                   36                 0.277778   \n",
       "94021                   37                 0.540541   \n",
       "94022                   32                 0.093750   \n",
       "94023                   36                 0.222222   \n",
       "\n",
       "       merging_tidal-debris_fraction  merging_both_fraction  \\\n",
       "0                           0.088235               0.088235   \n",
       "1                           0.085714               0.028571   \n",
       "2                           0.027027               0.000000   \n",
       "3                           0.042553               0.021277   \n",
       "4                           0.043478               0.021739   \n",
       "...                              ...                    ...   \n",
       "94019                       0.111111               0.000000   \n",
       "94020                       0.027778               0.083333   \n",
       "94021                       0.000000               0.108108   \n",
       "94022                       0.093750               0.000000   \n",
       "94023                       0.194444               0.055556   \n",
       "\n",
       "       merging_neither_fraction  \n",
       "0                      0.676471  \n",
       "1                      0.685714  \n",
       "2                      0.945946  \n",
       "3                      0.914894  \n",
       "4                      0.847826  \n",
       "...                         ...  \n",
       "94019                  0.611111  \n",
       "94020                  0.611111  \n",
       "94021                  0.351351  \n",
       "94022                  0.812500  \n",
       "94023                  0.527778  \n",
       "\n",
       "[94024 rows x 71 columns]"
      ]
     },
     "execution_count": 4,
     "metadata": {},
     "output_type": "execute_result"
    }
   ],
   "source": [
    "dr2_agg"
   ]
  },
  {
   "cell_type": "code",
   "execution_count": 8,
   "metadata": {},
   "outputs": [
    {
     "data": {
      "text/plain": [
       "array(['subject_id', 'smooth-or-featured_smooth',\n",
       "       'smooth-or-featured_featured-or-disk',\n",
       "       'smooth-or-featured_artifact', 'how-rounded_completely',\n",
       "       'how-rounded_in-between', 'how-rounded_cigar-shaped',\n",
       "       'disk-edge-on_yes', 'disk-edge-on_no', 'edge-on-bulge_rounded',\n",
       "       'edge-on-bulge_boxy', 'edge-on-bulge_none', 'bar_yes', 'bar_no',\n",
       "       'has-spiral-arms_yes', 'has-spiral-arms_no',\n",
       "       'spiral-winding_tight', 'spiral-winding_medium',\n",
       "       'spiral-winding_loose', 'spiral-arm-count_1', 'spiral-arm-count_2',\n",
       "       'spiral-arm-count_3', 'spiral-arm-count_4',\n",
       "       'spiral-arm-count_more-than-4', 'bulge-size_none',\n",
       "       'bulge-size_obvious', 'bulge-size_dominant', 'merging_merger',\n",
       "       'merging_tidal-debris', 'merging_both', 'merging_neither',\n",
       "       'smooth-or-featured_total-votes',\n",
       "       'smooth-or-featured_smooth_fraction',\n",
       "       'smooth-or-featured_featured-or-disk_fraction',\n",
       "       'smooth-or-featured_artifact_fraction', 'how-rounded_total-votes',\n",
       "       'how-rounded_completely_fraction',\n",
       "       'how-rounded_in-between_fraction',\n",
       "       'how-rounded_cigar-shaped_fraction', 'disk-edge-on_total-votes',\n",
       "       'disk-edge-on_yes_fraction', 'disk-edge-on_no_fraction',\n",
       "       'edge-on-bulge_total-votes', 'edge-on-bulge_rounded_fraction',\n",
       "       'edge-on-bulge_boxy_fraction', 'edge-on-bulge_none_fraction',\n",
       "       'bar_total-votes', 'bar_yes_fraction', 'bar_no_fraction',\n",
       "       'has-spiral-arms_total-votes', 'has-spiral-arms_yes_fraction',\n",
       "       'has-spiral-arms_no_fraction', 'spiral-winding_total-votes',\n",
       "       'spiral-winding_tight_fraction', 'spiral-winding_medium_fraction',\n",
       "       'spiral-winding_loose_fraction', 'spiral-arm-count_total-votes',\n",
       "       'spiral-arm-count_1_fraction', 'spiral-arm-count_2_fraction',\n",
       "       'spiral-arm-count_3_fraction', 'spiral-arm-count_4_fraction',\n",
       "       'spiral-arm-count_more-than-4_fraction', 'bulge-size_total-votes',\n",
       "       'bulge-size_none_fraction', 'bulge-size_obvious_fraction',\n",
       "       'bulge-size_dominant_fraction', 'merging_total-votes',\n",
       "       'merging_merger_fraction', 'merging_tidal-debris_fraction',\n",
       "       'merging_both_fraction', 'merging_neither_fraction'], dtype=object)"
      ]
     },
     "execution_count": 8,
     "metadata": {},
     "output_type": "execute_result"
    }
   ],
   "source": [
    "dr2_agg.columns.values"
   ]
  },
  {
   "cell_type": "code",
   "execution_count": 5,
   "metadata": {},
   "outputs": [
    {
     "ename": "NameError",
     "evalue": "name 'dr2_pred' is not defined",
     "output_type": "error",
     "traceback": [
      "\u001b[0;31m---------------------------------------------------------------------------\u001b[0m",
      "\u001b[0;31mNameError\u001b[0m                                 Traceback (most recent call last)",
      "\u001b[0;32m<ipython-input-5-30c45fc8c74d>\u001b[0m in \u001b[0;36m<module>\u001b[0;34m\u001b[0m\n\u001b[0;32m----> 1\u001b[0;31m \u001b[0mdr2_pred\u001b[0m\u001b[0;34m[\u001b[0m\u001b[0;34m'smooth-or-featured_total-votes'\u001b[0m\u001b[0;34m]\u001b[0m\u001b[0;34m.\u001b[0m\u001b[0mhist\u001b[0m\u001b[0;34m(\u001b[0m\u001b[0mbins\u001b[0m\u001b[0;34m=\u001b[0m\u001b[0;36m30\u001b[0m\u001b[0;34m)\u001b[0m\u001b[0;34m\u001b[0m\u001b[0;34m\u001b[0m\u001b[0m\n\u001b[0m",
      "\u001b[0;31mNameError\u001b[0m: name 'dr2_pred' is not defined"
     ]
    }
   ],
   "source": [
    "dr2_pred['smooth-or-featured_total-votes'].hist(bins=30)"
   ]
  },
  {
   "cell_type": "code",
   "execution_count": null,
   "metadata": {},
   "outputs": [],
   "source": []
  },
  {
   "cell_type": "code",
   "execution_count": 16,
   "metadata": {},
   "outputs": [],
   "source": [
    "subjects = pd.read_csv('/media/walml/beta/galaxy_zoo/decals/gzreduction_ouroborous/working_dir/subjects/decals_dr1_and_dr2.csv')"
   ]
  },
  {
   "cell_type": "code",
   "execution_count": 17,
   "metadata": {},
   "outputs": [
    {
     "data": {
      "text/plain": [
       "array(['Unnamed: 0', '_id', 'absolute_size', 'background', 'bad_image',\n",
       "       'band', 'bands', 'camera', 'counters', 'data_release', 'dec',\n",
       "       'dr8objid', 'field', 'flux_radius1_I', 'group_id', 'half_rad_h',\n",
       "       'hubble_id', 'iauname', 'kron_radius_I', 'mag', 'magnitude',\n",
       "       'mangaid', 'mass_log_msun', 'nobs_max', 'nsa_id', 'nsa_z',\n",
       "       'petro_r50_r', 'petro_r90_r', 'petroflux_r', 'petrorad_50_r',\n",
       "       'petrorad_flux', 'petrorad_r', 'priority', 'ra', 'radius_half',\n",
       "       'redshift', 'retire_at', 'sdss_dr12_objid', 'sdss_dr7_id',\n",
       "       'sdss_dr8_id', 'sdss_id', 'sfr', 'simulation', 'snapshot',\n",
       "       'subdir', 'subhalo_id', 'survey', 'subject_id'], dtype=object)"
      ]
     },
     "execution_count": 17,
     "metadata": {},
     "output_type": "execute_result"
    }
   ],
   "source": [
    "subjects.columns.values"
   ]
  },
  {
   "cell_type": "code",
   "execution_count": 18,
   "metadata": {},
   "outputs": [
    {
     "data": {
      "text/plain": [
       "(1, 103712)"
      ]
     },
     "execution_count": 18,
     "metadata": {},
     "output_type": "execute_result"
    }
   ],
   "source": [
    "len(subjects['sdss_dr7_id'].unique()), len(subjects['subject_id'].unique())"
   ]
  },
  {
   "cell_type": "code",
   "execution_count": 24,
   "metadata": {},
   "outputs": [
    {
     "data": {
      "text/plain": [
       "0         decals\n",
       "1         decals\n",
       "2         decals\n",
       "3         decals\n",
       "4         decals\n",
       "           ...  \n",
       "103707    decals\n",
       "103708    decals\n",
       "103709    decals\n",
       "103710    decals\n",
       "103711    decals\n",
       "Name: survey, Length: 103712, dtype: object"
      ]
     },
     "execution_count": 24,
     "metadata": {},
     "output_type": "execute_result"
    }
   ],
   "source": [
    "for col in len(subjects['sdss_dr7_id'].unique())"
   ]
  },
  {
   "cell_type": "code",
   "execution_count": 10,
   "metadata": {},
   "outputs": [],
   "source": [
    "caesar = pd.read_csv('/media/walml/beta/galaxy_zoo/decals/gzreduction_ouroborous/working_dir/raw/classifications/caesar_decals_extracts.csv')"
   ]
  },
  {
   "cell_type": "code",
   "execution_count": 14,
   "metadata": {},
   "outputs": [
    {
     "data": {
      "text/html": [
       "<div>\n",
       "<style scoped>\n",
       "    .dataframe tbody tr th:only-of-type {\n",
       "        vertical-align: middle;\n",
       "    }\n",
       "\n",
       "    .dataframe tbody tr th {\n",
       "        vertical-align: top;\n",
       "    }\n",
       "\n",
       "    .dataframe thead th {\n",
       "        text-align: right;\n",
       "    }\n",
       "</style>\n",
       "<table border=\"1\" class=\"dataframe\">\n",
       "  <thead>\n",
       "    <tr style=\"text-align: right;\">\n",
       "      <th></th>\n",
       "      <th>id</th>\n",
       "      <th>classification_id</th>\n",
       "      <th>classification_at</th>\n",
       "      <th>extractor_key</th>\n",
       "      <th>workflow_id</th>\n",
       "      <th>user_id</th>\n",
       "      <th>subject_id</th>\n",
       "      <th>created_at</th>\n",
       "      <th>updated_at</th>\n",
       "      <th>data.1</th>\n",
       "      <th>data.2</th>\n",
       "      <th>data.0</th>\n",
       "      <th>data.6</th>\n",
       "      <th>data.4</th>\n",
       "      <th>data.</th>\n",
       "      <th>data.5</th>\n",
       "      <th>data.3</th>\n",
       "    </tr>\n",
       "  </thead>\n",
       "  <tbody>\n",
       "    <tr>\n",
       "      <th>0</th>\n",
       "      <td>27130966</td>\n",
       "      <td>95728883</td>\n",
       "      <td>NaN</td>\n",
       "      <td>T0-smooth-or-featured</td>\n",
       "      <td>6122</td>\n",
       "      <td>1530.0</td>\n",
       "      <td>19989955</td>\n",
       "      <td>NaN</td>\n",
       "      <td>NaN</td>\n",
       "      <td>1.0</td>\n",
       "      <td>NaN</td>\n",
       "      <td>NaN</td>\n",
       "      <td>NaN</td>\n",
       "      <td>NaN</td>\n",
       "      <td>NaN</td>\n",
       "      <td>NaN</td>\n",
       "      <td>NaN</td>\n",
       "    </tr>\n",
       "    <tr>\n",
       "      <th>1</th>\n",
       "      <td>27130967</td>\n",
       "      <td>95728883</td>\n",
       "      <td>NaN</td>\n",
       "      <td>T1-how-rounded</td>\n",
       "      <td>6122</td>\n",
       "      <td>1530.0</td>\n",
       "      <td>19989955</td>\n",
       "      <td>NaN</td>\n",
       "      <td>NaN</td>\n",
       "      <td>NaN</td>\n",
       "      <td>NaN</td>\n",
       "      <td>NaN</td>\n",
       "      <td>NaN</td>\n",
       "      <td>NaN</td>\n",
       "      <td>NaN</td>\n",
       "      <td>NaN</td>\n",
       "      <td>NaN</td>\n",
       "    </tr>\n",
       "    <tr>\n",
       "      <th>2</th>\n",
       "      <td>27130968</td>\n",
       "      <td>95728883</td>\n",
       "      <td>NaN</td>\n",
       "      <td>T2-edge-on</td>\n",
       "      <td>6122</td>\n",
       "      <td>1530.0</td>\n",
       "      <td>19989955</td>\n",
       "      <td>NaN</td>\n",
       "      <td>NaN</td>\n",
       "      <td>1.0</td>\n",
       "      <td>NaN</td>\n",
       "      <td>NaN</td>\n",
       "      <td>NaN</td>\n",
       "      <td>NaN</td>\n",
       "      <td>NaN</td>\n",
       "      <td>NaN</td>\n",
       "      <td>NaN</td>\n",
       "    </tr>\n",
       "    <tr>\n",
       "      <th>3</th>\n",
       "      <td>27130969</td>\n",
       "      <td>95728883</td>\n",
       "      <td>NaN</td>\n",
       "      <td>T3-edge-on-bulge</td>\n",
       "      <td>6122</td>\n",
       "      <td>1530.0</td>\n",
       "      <td>19989955</td>\n",
       "      <td>NaN</td>\n",
       "      <td>NaN</td>\n",
       "      <td>NaN</td>\n",
       "      <td>NaN</td>\n",
       "      <td>NaN</td>\n",
       "      <td>NaN</td>\n",
       "      <td>NaN</td>\n",
       "      <td>NaN</td>\n",
       "      <td>NaN</td>\n",
       "      <td>NaN</td>\n",
       "    </tr>\n",
       "    <tr>\n",
       "      <th>4</th>\n",
       "      <td>27130970</td>\n",
       "      <td>95728883</td>\n",
       "      <td>NaN</td>\n",
       "      <td>T4-bar</td>\n",
       "      <td>6122</td>\n",
       "      <td>1530.0</td>\n",
       "      <td>19989955</td>\n",
       "      <td>NaN</td>\n",
       "      <td>NaN</td>\n",
       "      <td>NaN</td>\n",
       "      <td>NaN</td>\n",
       "      <td>1.0</td>\n",
       "      <td>NaN</td>\n",
       "      <td>NaN</td>\n",
       "      <td>NaN</td>\n",
       "      <td>NaN</td>\n",
       "      <td>NaN</td>\n",
       "    </tr>\n",
       "  </tbody>\n",
       "</table>\n",
       "</div>"
      ],
      "text/plain": [
       "         id  classification_id  classification_at          extractor_key  \\\n",
       "0  27130966           95728883                NaN  T0-smooth-or-featured   \n",
       "1  27130967           95728883                NaN         T1-how-rounded   \n",
       "2  27130968           95728883                NaN             T2-edge-on   \n",
       "3  27130969           95728883                NaN       T3-edge-on-bulge   \n",
       "4  27130970           95728883                NaN                 T4-bar   \n",
       "\n",
       "   workflow_id  user_id  subject_id  created_at  updated_at  data.1  data.2  \\\n",
       "0         6122   1530.0    19989955         NaN         NaN     1.0     NaN   \n",
       "1         6122   1530.0    19989955         NaN         NaN     NaN     NaN   \n",
       "2         6122   1530.0    19989955         NaN         NaN     1.0     NaN   \n",
       "3         6122   1530.0    19989955         NaN         NaN     NaN     NaN   \n",
       "4         6122   1530.0    19989955         NaN         NaN     NaN     NaN   \n",
       "\n",
       "   data.0  data.6  data.4  data.  data.5  data.3  \n",
       "0     NaN     NaN     NaN    NaN     NaN     NaN  \n",
       "1     NaN     NaN     NaN    NaN     NaN     NaN  \n",
       "2     NaN     NaN     NaN    NaN     NaN     NaN  \n",
       "3     NaN     NaN     NaN    NaN     NaN     NaN  \n",
       "4     1.0     NaN     NaN    NaN     NaN     NaN  "
      ]
     },
     "execution_count": 14,
     "metadata": {},
     "output_type": "execute_result"
    }
   ],
   "source": [
    "caesar.head()"
   ]
  },
  {
   "cell_type": "code",
   "execution_count": 13,
   "metadata": {},
   "outputs": [
    {
     "data": {
      "text/plain": [
       "269324"
      ]
     },
     "execution_count": 13,
     "metadata": {},
     "output_type": "execute_result"
    }
   ],
   "source": [
    "len(caesar['id'].unique())"
   ]
  },
  {
   "cell_type": "code",
   "execution_count": null,
   "metadata": {},
   "outputs": [],
   "source": []
  },
  {
   "cell_type": "code",
   "execution_count": 5,
   "metadata": {},
   "outputs": [],
   "source": [
    "dr2_pred = pd.read_csv('/media/walml/beta/galaxy_zoo/decals/catalogs/dr2_predictions.csv')"
   ]
  },
  {
   "cell_type": "code",
   "execution_count": 6,
   "metadata": {},
   "outputs": [
    {
     "data": {
      "text/html": [
       "<div>\n",
       "<style scoped>\n",
       "    .dataframe tbody tr th:only-of-type {\n",
       "        vertical-align: middle;\n",
       "    }\n",
       "\n",
       "    .dataframe tbody tr th {\n",
       "        vertical-align: top;\n",
       "    }\n",
       "\n",
       "    .dataframe thead th {\n",
       "        text-align: right;\n",
       "    }\n",
       "</style>\n",
       "<table border=\"1\" class=\"dataframe\">\n",
       "  <thead>\n",
       "    <tr style=\"text-align: right;\">\n",
       "      <th></th>\n",
       "      <th>subject_id</th>\n",
       "      <th>smooth-or-featured_smooth</th>\n",
       "      <th>smooth-or-featured_featured-or-disk</th>\n",
       "      <th>smooth-or-featured_artifact</th>\n",
       "      <th>how-rounded_completely</th>\n",
       "      <th>how-rounded_in-between</th>\n",
       "      <th>how-rounded_cigar-shaped</th>\n",
       "      <th>disk-edge-on_yes</th>\n",
       "      <th>disk-edge-on_no</th>\n",
       "      <th>edge-on-bulge_rounded</th>\n",
       "      <th>...</th>\n",
       "      <th>smooth-or-featured_prediction-encoded</th>\n",
       "      <th>how-rounded_prediction-encoded</th>\n",
       "      <th>disk-edge-on_prediction-encoded</th>\n",
       "      <th>edge-on-bulge_prediction-encoded</th>\n",
       "      <th>bar_prediction-encoded</th>\n",
       "      <th>has-spiral-arms_prediction-encoded</th>\n",
       "      <th>spiral-winding_prediction-encoded</th>\n",
       "      <th>spiral-arm-count_prediction-encoded</th>\n",
       "      <th>bulge-size_prediction-encoded</th>\n",
       "      <th>merging_prediction-encoded</th>\n",
       "    </tr>\n",
       "  </thead>\n",
       "  <tbody>\n",
       "    <tr>\n",
       "      <th>0</th>\n",
       "      <td>55a7d7a27a726119cd00000b</td>\n",
       "      <td>19</td>\n",
       "      <td>15</td>\n",
       "      <td>0</td>\n",
       "      <td>16</td>\n",
       "      <td>2</td>\n",
       "      <td>1</td>\n",
       "      <td>2</td>\n",
       "      <td>13</td>\n",
       "      <td>2</td>\n",
       "      <td>...</td>\n",
       "      <td>2</td>\n",
       "      <td>1</td>\n",
       "      <td>0</td>\n",
       "      <td>2</td>\n",
       "      <td>0</td>\n",
       "      <td>1</td>\n",
       "      <td>2</td>\n",
       "      <td>1</td>\n",
       "      <td>2</td>\n",
       "      <td>2</td>\n",
       "    </tr>\n",
       "    <tr>\n",
       "      <th>1</th>\n",
       "      <td>55a7d7a27a726119cd00000c</td>\n",
       "      <td>33</td>\n",
       "      <td>2</td>\n",
       "      <td>0</td>\n",
       "      <td>28</td>\n",
       "      <td>5</td>\n",
       "      <td>0</td>\n",
       "      <td>1</td>\n",
       "      <td>1</td>\n",
       "      <td>1</td>\n",
       "      <td>...</td>\n",
       "      <td>2</td>\n",
       "      <td>1</td>\n",
       "      <td>1</td>\n",
       "      <td>2</td>\n",
       "      <td>0</td>\n",
       "      <td>0</td>\n",
       "      <td>2</td>\n",
       "      <td>0</td>\n",
       "      <td>2</td>\n",
       "      <td>2</td>\n",
       "    </tr>\n",
       "    <tr>\n",
       "      <th>2</th>\n",
       "      <td>55a7d7a27a726119cd00000d</td>\n",
       "      <td>36</td>\n",
       "      <td>1</td>\n",
       "      <td>0</td>\n",
       "      <td>23</td>\n",
       "      <td>13</td>\n",
       "      <td>0</td>\n",
       "      <td>0</td>\n",
       "      <td>1</td>\n",
       "      <td>0</td>\n",
       "      <td>...</td>\n",
       "      <td>2</td>\n",
       "      <td>1</td>\n",
       "      <td>0</td>\n",
       "      <td>2</td>\n",
       "      <td>0</td>\n",
       "      <td>0</td>\n",
       "      <td>2</td>\n",
       "      <td>0</td>\n",
       "      <td>2</td>\n",
       "      <td>2</td>\n",
       "    </tr>\n",
       "    <tr>\n",
       "      <th>3</th>\n",
       "      <td>55a7d7a27a726119cd00000e</td>\n",
       "      <td>32</td>\n",
       "      <td>15</td>\n",
       "      <td>0</td>\n",
       "      <td>16</td>\n",
       "      <td>16</td>\n",
       "      <td>0</td>\n",
       "      <td>0</td>\n",
       "      <td>15</td>\n",
       "      <td>0</td>\n",
       "      <td>...</td>\n",
       "      <td>2</td>\n",
       "      <td>1</td>\n",
       "      <td>0</td>\n",
       "      <td>2</td>\n",
       "      <td>0</td>\n",
       "      <td>1</td>\n",
       "      <td>2</td>\n",
       "      <td>1</td>\n",
       "      <td>2</td>\n",
       "      <td>2</td>\n",
       "    </tr>\n",
       "    <tr>\n",
       "      <th>4</th>\n",
       "      <td>55a7d7a27a726119cd00000f</td>\n",
       "      <td>40</td>\n",
       "      <td>6</td>\n",
       "      <td>0</td>\n",
       "      <td>10</td>\n",
       "      <td>29</td>\n",
       "      <td>1</td>\n",
       "      <td>0</td>\n",
       "      <td>6</td>\n",
       "      <td>0</td>\n",
       "      <td>...</td>\n",
       "      <td>2</td>\n",
       "      <td>2</td>\n",
       "      <td>0</td>\n",
       "      <td>2</td>\n",
       "      <td>1</td>\n",
       "      <td>0</td>\n",
       "      <td>2</td>\n",
       "      <td>0</td>\n",
       "      <td>2</td>\n",
       "      <td>2</td>\n",
       "    </tr>\n",
       "    <tr>\n",
       "      <th>...</th>\n",
       "      <td>...</td>\n",
       "      <td>...</td>\n",
       "      <td>...</td>\n",
       "      <td>...</td>\n",
       "      <td>...</td>\n",
       "      <td>...</td>\n",
       "      <td>...</td>\n",
       "      <td>...</td>\n",
       "      <td>...</td>\n",
       "      <td>...</td>\n",
       "      <td>...</td>\n",
       "      <td>...</td>\n",
       "      <td>...</td>\n",
       "      <td>...</td>\n",
       "      <td>...</td>\n",
       "      <td>...</td>\n",
       "      <td>...</td>\n",
       "      <td>...</td>\n",
       "      <td>...</td>\n",
       "      <td>...</td>\n",
       "      <td>...</td>\n",
       "    </tr>\n",
       "    <tr>\n",
       "      <th>94019</th>\n",
       "      <td>56f3deb65925d90042037015</td>\n",
       "      <td>6</td>\n",
       "      <td>12</td>\n",
       "      <td>0</td>\n",
       "      <td>4</td>\n",
       "      <td>1</td>\n",
       "      <td>1</td>\n",
       "      <td>0</td>\n",
       "      <td>12</td>\n",
       "      <td>0</td>\n",
       "      <td>...</td>\n",
       "      <td>1</td>\n",
       "      <td>1</td>\n",
       "      <td>0</td>\n",
       "      <td>2</td>\n",
       "      <td>0</td>\n",
       "      <td>1</td>\n",
       "      <td>0</td>\n",
       "      <td>1</td>\n",
       "      <td>1</td>\n",
       "      <td>2</td>\n",
       "    </tr>\n",
       "    <tr>\n",
       "      <th>94020</th>\n",
       "      <td>56f3deb65925d90042037017</td>\n",
       "      <td>21</td>\n",
       "      <td>15</td>\n",
       "      <td>0</td>\n",
       "      <td>17</td>\n",
       "      <td>4</td>\n",
       "      <td>0</td>\n",
       "      <td>0</td>\n",
       "      <td>15</td>\n",
       "      <td>0</td>\n",
       "      <td>...</td>\n",
       "      <td>2</td>\n",
       "      <td>1</td>\n",
       "      <td>0</td>\n",
       "      <td>2</td>\n",
       "      <td>0</td>\n",
       "      <td>0</td>\n",
       "      <td>0</td>\n",
       "      <td>1</td>\n",
       "      <td>2</td>\n",
       "      <td>2</td>\n",
       "    </tr>\n",
       "    <tr>\n",
       "      <th>94021</th>\n",
       "      <td>56f3deb65925d90042037019</td>\n",
       "      <td>22</td>\n",
       "      <td>15</td>\n",
       "      <td>0</td>\n",
       "      <td>2</td>\n",
       "      <td>16</td>\n",
       "      <td>4</td>\n",
       "      <td>11</td>\n",
       "      <td>4</td>\n",
       "      <td>11</td>\n",
       "      <td>...</td>\n",
       "      <td>2</td>\n",
       "      <td>2</td>\n",
       "      <td>1</td>\n",
       "      <td>2</td>\n",
       "      <td>0</td>\n",
       "      <td>0</td>\n",
       "      <td>2</td>\n",
       "      <td>0</td>\n",
       "      <td>2</td>\n",
       "      <td>1</td>\n",
       "    </tr>\n",
       "    <tr>\n",
       "      <th>94022</th>\n",
       "      <td>56f3deb65925d9004203701b</td>\n",
       "      <td>30</td>\n",
       "      <td>2</td>\n",
       "      <td>0</td>\n",
       "      <td>26</td>\n",
       "      <td>3</td>\n",
       "      <td>1</td>\n",
       "      <td>0</td>\n",
       "      <td>2</td>\n",
       "      <td>0</td>\n",
       "      <td>...</td>\n",
       "      <td>2</td>\n",
       "      <td>1</td>\n",
       "      <td>0</td>\n",
       "      <td>2</td>\n",
       "      <td>0</td>\n",
       "      <td>0</td>\n",
       "      <td>2</td>\n",
       "      <td>0</td>\n",
       "      <td>0</td>\n",
       "      <td>2</td>\n",
       "    </tr>\n",
       "    <tr>\n",
       "      <th>94023</th>\n",
       "      <td>56f3deb65925d9004203701d</td>\n",
       "      <td>9</td>\n",
       "      <td>27</td>\n",
       "      <td>0</td>\n",
       "      <td>0</td>\n",
       "      <td>9</td>\n",
       "      <td>0</td>\n",
       "      <td>5</td>\n",
       "      <td>22</td>\n",
       "      <td>3</td>\n",
       "      <td>...</td>\n",
       "      <td>1</td>\n",
       "      <td>2</td>\n",
       "      <td>0</td>\n",
       "      <td>2</td>\n",
       "      <td>0</td>\n",
       "      <td>1</td>\n",
       "      <td>2</td>\n",
       "      <td>1</td>\n",
       "      <td>1</td>\n",
       "      <td>2</td>\n",
       "    </tr>\n",
       "  </tbody>\n",
       "</table>\n",
       "<p>94024 rows × 161 columns</p>\n",
       "</div>"
      ],
      "text/plain": [
       "                     subject_id  smooth-or-featured_smooth  \\\n",
       "0      55a7d7a27a726119cd00000b                         19   \n",
       "1      55a7d7a27a726119cd00000c                         33   \n",
       "2      55a7d7a27a726119cd00000d                         36   \n",
       "3      55a7d7a27a726119cd00000e                         32   \n",
       "4      55a7d7a27a726119cd00000f                         40   \n",
       "...                         ...                        ...   \n",
       "94019  56f3deb65925d90042037015                          6   \n",
       "94020  56f3deb65925d90042037017                         21   \n",
       "94021  56f3deb65925d90042037019                         22   \n",
       "94022  56f3deb65925d9004203701b                         30   \n",
       "94023  56f3deb65925d9004203701d                          9   \n",
       "\n",
       "       smooth-or-featured_featured-or-disk  smooth-or-featured_artifact  \\\n",
       "0                                       15                            0   \n",
       "1                                        2                            0   \n",
       "2                                        1                            0   \n",
       "3                                       15                            0   \n",
       "4                                        6                            0   \n",
       "...                                    ...                          ...   \n",
       "94019                                   12                            0   \n",
       "94020                                   15                            0   \n",
       "94021                                   15                            0   \n",
       "94022                                    2                            0   \n",
       "94023                                   27                            0   \n",
       "\n",
       "       how-rounded_completely  how-rounded_in-between  \\\n",
       "0                          16                       2   \n",
       "1                          28                       5   \n",
       "2                          23                      13   \n",
       "3                          16                      16   \n",
       "4                          10                      29   \n",
       "...                       ...                     ...   \n",
       "94019                       4                       1   \n",
       "94020                      17                       4   \n",
       "94021                       2                      16   \n",
       "94022                      26                       3   \n",
       "94023                       0                       9   \n",
       "\n",
       "       how-rounded_cigar-shaped  disk-edge-on_yes  disk-edge-on_no  \\\n",
       "0                             1                 2               13   \n",
       "1                             0                 1                1   \n",
       "2                             0                 0                1   \n",
       "3                             0                 0               15   \n",
       "4                             1                 0                6   \n",
       "...                         ...               ...              ...   \n",
       "94019                         1                 0               12   \n",
       "94020                         0                 0               15   \n",
       "94021                         4                11                4   \n",
       "94022                         1                 0                2   \n",
       "94023                         0                 5               22   \n",
       "\n",
       "       edge-on-bulge_rounded  ...  smooth-or-featured_prediction-encoded  \\\n",
       "0                          2  ...                                      2   \n",
       "1                          1  ...                                      2   \n",
       "2                          0  ...                                      2   \n",
       "3                          0  ...                                      2   \n",
       "4                          0  ...                                      2   \n",
       "...                      ...  ...                                    ...   \n",
       "94019                      0  ...                                      1   \n",
       "94020                      0  ...                                      2   \n",
       "94021                     11  ...                                      2   \n",
       "94022                      0  ...                                      2   \n",
       "94023                      3  ...                                      1   \n",
       "\n",
       "       how-rounded_prediction-encoded  disk-edge-on_prediction-encoded  \\\n",
       "0                                   1                                0   \n",
       "1                                   1                                1   \n",
       "2                                   1                                0   \n",
       "3                                   1                                0   \n",
       "4                                   2                                0   \n",
       "...                               ...                              ...   \n",
       "94019                               1                                0   \n",
       "94020                               1                                0   \n",
       "94021                               2                                1   \n",
       "94022                               1                                0   \n",
       "94023                               2                                0   \n",
       "\n",
       "       edge-on-bulge_prediction-encoded  bar_prediction-encoded  \\\n",
       "0                                     2                       0   \n",
       "1                                     2                       0   \n",
       "2                                     2                       0   \n",
       "3                                     2                       0   \n",
       "4                                     2                       1   \n",
       "...                                 ...                     ...   \n",
       "94019                                 2                       0   \n",
       "94020                                 2                       0   \n",
       "94021                                 2                       0   \n",
       "94022                                 2                       0   \n",
       "94023                                 2                       0   \n",
       "\n",
       "       has-spiral-arms_prediction-encoded  spiral-winding_prediction-encoded  \\\n",
       "0                                       1                                  2   \n",
       "1                                       0                                  2   \n",
       "2                                       0                                  2   \n",
       "3                                       1                                  2   \n",
       "4                                       0                                  2   \n",
       "...                                   ...                                ...   \n",
       "94019                                   1                                  0   \n",
       "94020                                   0                                  0   \n",
       "94021                                   0                                  2   \n",
       "94022                                   0                                  2   \n",
       "94023                                   1                                  2   \n",
       "\n",
       "       spiral-arm-count_prediction-encoded  bulge-size_prediction-encoded  \\\n",
       "0                                        1                              2   \n",
       "1                                        0                              2   \n",
       "2                                        0                              2   \n",
       "3                                        1                              2   \n",
       "4                                        0                              2   \n",
       "...                                    ...                            ...   \n",
       "94019                                    1                              1   \n",
       "94020                                    1                              2   \n",
       "94021                                    0                              2   \n",
       "94022                                    0                              0   \n",
       "94023                                    1                              1   \n",
       "\n",
       "       merging_prediction-encoded  \n",
       "0                               2  \n",
       "1                               2  \n",
       "2                               2  \n",
       "3                               2  \n",
       "4                               2  \n",
       "...                           ...  \n",
       "94019                           2  \n",
       "94020                           2  \n",
       "94021                           1  \n",
       "94022                           2  \n",
       "94023                           2  \n",
       "\n",
       "[94024 rows x 161 columns]"
      ]
     },
     "execution_count": 6,
     "metadata": {},
     "output_type": "execute_result"
    }
   ],
   "source": [
    "dr2_pred"
   ]
  },
  {
   "cell_type": "code",
   "execution_count": 9,
   "metadata": {},
   "outputs": [
    {
     "data": {
      "text/plain": [
       "<matplotlib.axes._subplots.AxesSubplot at 0x7f4477c4b950>"
      ]
     },
     "execution_count": 9,
     "metadata": {},
     "output_type": "execute_result"
    },
    {
     "data": {
      "image/png": "[encoded data removed]",
      "text/plain": [
       "<Figure size 432x288 with 1 Axes>"
      ]
     },
     "metadata": {
      "needs_background": "light"
     },
     "output_type": "display_data"
    }
   ],
   "source": [
    "dr2_pred['smooth-or-featured_total-votes'].hist(bins=30)"
   ]
  },
  {
   "cell_type": "code",
   "execution_count": null,
   "metadata": {},
   "outputs": [],
   "source": []
  }
 ],
 "metadata": {
  "kernelspec": {
   "display_name": "Python 3",
   "language": "python",
   "name": "python3"
  },
  "language_info": {
   "codemirror_mode": {
    "name": "ipython",
    "version": 3
   },
   "file_extension": ".py",
   "mimetype": "text/x-python",
   "name": "python",
   "nbconvert_exporter": "python",
   "pygments_lexer": "ipython3",
   "version": "3.7.6"
  }
 },
 "nbformat": 4,
 "nbformat_minor": 4
}
