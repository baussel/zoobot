{
 "cells": [
  {
   "cell_type": "code",
   "execution_count": 120,
   "metadata": {},
   "outputs": [],
   "source": [
    "import ast\n",
    "import json\n",
    "\n",
    "import pandas as pd\n",
    "import numpy as np\n",
    "\n",
    "from zoobot import label_metadata\n",
    "from zoobot.estimators import losses"
   ]
  },
  {
   "cell_type": "code",
   "execution_count": 121,
   "metadata": {},
   "outputs": [],
   "source": [
    "m0 = pd.read_csv('/home/walml/repos/zoobot/temp/gz2_allq_it0_m0.csv')\n",
    "m1 = pd.read_csv('/home/walml/repos/zoobot/temp/gz2_allq_it0_m1.csv')\n",
    "\n"
   ]
  },
  {
   "cell_type": "code",
   "execution_count": 122,
   "metadata": {},
   "outputs": [],
   "source": [
    "assert np.all(m0['dr7objid'] == m1['dr7objid'])"
   ]
  },
  {
   "cell_type": "code",
   "execution_count": 123,
   "metadata": {},
   "outputs": [
    {
     "name": "stdout",
     "output_type": "stream",
     "text": [
      "{smooth-or-featured, indices 0 to 1, asked after None: (0, 1), disk-edge-on, indices 2 to 3, asked after <zoobot.estimators.losses.Answer object at 0x7fe57f7551d0>: (2, 3), has-spiral-arms, indices 4 to 5, asked after <zoobot.estimators.losses.Answer object at 0x7fe57f755c90>: (4, 5), bar, indices 6 to 7, asked after <zoobot.estimators.losses.Answer object at 0x7fe57f755c90>: (6, 7), bulge-size, indices 8 to 11, asked after <zoobot.estimators.losses.Answer object at 0x7fe57f755c90>: (8, 11), something-odd, indices 12 to 13, asked after None: (12, 13), how-rounded, indices 14 to 16, asked after <zoobot.estimators.losses.Answer object at 0x7fe57f7557d0>: (14, 16), bulge-shape, indices 17 to 19, asked after <zoobot.estimators.losses.Answer object at 0x7fe57f755590>: (17, 19), spiral-winding, indices 20 to 22, asked after <zoobot.estimators.losses.Answer object at 0x7fe57f755b90>: (20, 22), spiral-count, indices 23 to 28, asked after <zoobot.estimators.losses.Answer object at 0x7fe57f755b90>: (23, 28)}\n"
     ]
    }
   ],
   "source": [
    "\n",
    "questions = label_metadata.gz2_questions\n",
    "# gz2 cols\n",
    "version = 'gz2'\n",
    "label_cols = label_metadata.gz2_label_cols\n",
    "\n",
    "schema = losses.Schema(label_cols, questions, version=version)"
   ]
  },
  {
   "cell_type": "code",
   "execution_count": 124,
   "metadata": {},
   "outputs": [],
   "source": [
    "m_all = m0.copy()\n",
    "for question in schema.questions:\n",
    "    for answer in question.answers:\n",
    "        m0_conc = m0[answer.text + '_concentration'].apply(ast.literal_eval)\n",
    "        m1_conc = m1[answer.text + '_concentration'].apply(ast.literal_eval)\n",
    "        \n",
    "#         print(m0_conc)\n",
    "        concentrations = [(a, b) for a, b in zip(m0_conc, m1_conc)]\n",
    "#         concentrations = np.stack([m0_conc, m1_conc], axis=-1)\n",
    "        m_all[answer.text + '_concentration'] = [json.dumps(x) for x in concentrations]\n",
    "#         print(list(zip(m0_conc, m1_conc))[0])\n",
    "        mean_concentrations = np.mean(concentrations, axis=1).mean(axis=1)  # model and dropout\n",
    "#         print(mean_concentrations.shape)\n",
    "        m_all[answer.text + '_concentration_mean'] = mean_concentrations\n",
    "#         break\n",
    "#     break\n",
    "                                                         \n",
    "                                                         #         print(concentrations[0])\n",
    "#         "
   ]
  },
  {
   "cell_type": "code",
   "execution_count": 125,
   "metadata": {},
   "outputs": [],
   "source": [
    "# np.array(concentrations).shape"
   ]
  },
  {
   "cell_type": "code",
   "execution_count": 126,
   "metadata": {},
   "outputs": [
    {
     "data": {
      "text/plain": [
       "'[[34.94941329956055, 39.27217102050781, 35.92841339111328, 39.33571243286133, 38.794002532958984], [34.602569580078125, 39.943756103515625, 38.082122802734375, 38.76411819458008, 40.76685333251953]]'"
      ]
     },
     "execution_count": 126,
     "metadata": {},
     "output_type": "execute_result"
    }
   ],
   "source": [
    "m_all[answer.text + '_concentration'].iloc[0]"
   ]
  },
  {
   "cell_type": "code",
   "execution_count": 127,
   "metadata": {},
   "outputs": [],
   "source": [
    "# np.array(m_all[answer.text + '_concentration'].iloc[0]).shape"
   ]
  },
  {
   "cell_type": "code",
   "execution_count": 128,
   "metadata": {},
   "outputs": [
    {
     "data": {
      "text/plain": [
       "0        38.043913\n",
       "1         7.973587\n",
       "2        27.516973\n",
       "3        31.797214\n",
       "4         1.305081\n",
       "           ...    \n",
       "14995    20.576980\n",
       "14996    42.553918\n",
       "14997    49.952033\n",
       "14998    25.015487\n",
       "14999     4.502175\n",
       "Name: spiral-count_cant-tell_concentration_mean, Length: 15000, dtype: float64"
      ]
     },
     "execution_count": 128,
     "metadata": {},
     "output_type": "execute_result"
    }
   ],
   "source": [
    "m_all[answer.text + '_concentration_mean']"
   ]
  },
  {
   "cell_type": "code",
   "execution_count": null,
   "metadata": {},
   "outputs": [],
   "source": []
  },
  {
   "cell_type": "code",
   "execution_count": 129,
   "metadata": {},
   "outputs": [],
   "source": [
    "subject_df = pd.read_csv('/media/walml/beta/galaxy_zoo/gz2/subjects/gz2_classifications_and_subjects.csv', usecols=['dr7objid', 'location'])"
   ]
  },
  {
   "cell_type": "code",
   "execution_count": 130,
   "metadata": {},
   "outputs": [
    {
     "data": {
      "text/plain": [
       "587735697522557119    1\n",
       "588023239669842054    1\n",
       "587731499189272666    1\n",
       "587741816248467606    1\n",
       "587729157908136098    1\n",
       "                     ..\n",
       "588017724397256860    1\n",
       "587735343191621644    1\n",
       "587736977420255436    1\n",
       "587736477049094284    1\n",
       "588017992302526501    1\n",
       "Name: dr7objid, Length: 239695, dtype: int64"
      ]
     },
     "execution_count": 130,
     "metadata": {},
     "output_type": "execute_result"
    }
   ],
   "source": [
    "subject_df['dr7objid'].value_counts()"
   ]
  },
  {
   "cell_type": "code",
   "execution_count": 131,
   "metadata": {},
   "outputs": [],
   "source": [
    "for_app = pd.merge(m_all, subject_df, on='dr7objid', how='inner')"
   ]
  },
  {
   "cell_type": "code",
   "execution_count": 132,
   "metadata": {},
   "outputs": [
    {
     "data": {
      "text/plain": [
       "0        38.043913\n",
       "1         7.973587\n",
       "2        27.516973\n",
       "3        31.797214\n",
       "4         1.305081\n",
       "           ...    \n",
       "14995    20.576980\n",
       "14996    42.553918\n",
       "14997    49.952033\n",
       "14998    25.015487\n",
       "14999     4.502175\n",
       "Name: spiral-count_cant-tell_concentration_mean, Length: 15000, dtype: float64"
      ]
     },
     "execution_count": 132,
     "metadata": {},
     "output_type": "execute_result"
    }
   ],
   "source": [
    "for_app[answer.text + '_concentration_mean']"
   ]
  },
  {
   "cell_type": "code",
   "execution_count": 133,
   "metadata": {},
   "outputs": [
    {
     "data": {
      "text/plain": [
       "0         http://s3.amazonaws.com/zoo2/27919.jpg\n",
       "1        http://s3.amazonaws.com/zoo2/227990.jpg\n",
       "2        http://s3.amazonaws.com/zoo2/119556.jpg\n",
       "3         http://s3.amazonaws.com/zoo2/20974.jpg\n",
       "4        http://s3.amazonaws.com/zoo2/208468.jpg\n",
       "                          ...                   \n",
       "14995     http://s3.amazonaws.com/zoo2/62151.jpg\n",
       "14996     http://s3.amazonaws.com/zoo2/86103.jpg\n",
       "14997    http://s3.amazonaws.com/zoo2/170029.jpg\n",
       "14998     http://s3.amazonaws.com/zoo2/40130.jpg\n",
       "14999    http://s3.amazonaws.com/zoo2/158659.jpg\n",
       "Name: location, Length: 15000, dtype: object"
      ]
     },
     "execution_count": 133,
     "metadata": {},
     "output_type": "execute_result"
    }
   ],
   "source": [
    "for_app['location']"
   ]
  },
  {
   "cell_type": "code",
   "execution_count": 134,
   "metadata": {},
   "outputs": [],
   "source": [
    "for_app.to_csv('/home/walml/repos/galaxy-poster/gz2_classifications.csv', index=False)"
   ]
  },
  {
   "cell_type": "code",
   "execution_count": null,
   "metadata": {},
   "outputs": [],
   "source": []
  },
  {
   "cell_type": "code",
   "execution_count": null,
   "metadata": {},
   "outputs": [],
   "source": []
  }
 ],
 "metadata": {
  "kernelspec": {
   "display_name": "Python 3",
   "language": "python",
   "name": "python3"
  },
  "language_info": {
   "codemirror_mode": {
    "name": "ipython",
    "version": 3
   },
   "file_extension": ".py",
   "mimetype": "text/x-python",
   "name": "python",
   "nbconvert_exporter": "python",
   "pygments_lexer": "ipython3",
   "version": "3.7.6"
  }
 },
 "nbformat": 4,
 "nbformat_minor": 4
}
