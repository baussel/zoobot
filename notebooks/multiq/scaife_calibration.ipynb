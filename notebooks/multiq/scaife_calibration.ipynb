{
 "cells": [
  {
   "cell_type": "code",
   "execution_count": 1,
   "metadata": {},
   "outputs": [],
   "source": [
    "import pandas as pd\n",
    "import matplotlib.pyplot as plt"
   ]
  },
  {
   "cell_type": "code",
   "execution_count": 3,
   "metadata": {},
   "outputs": [],
   "source": [
    "import pickle"
   ]
  },
  {
   "cell_type": "code",
   "execution_count": 7,
   "metadata": {},
   "outputs": [],
   "source": [
    "from sklearn.calibration import calibration_curve"
   ]
  },
  {
   "cell_type": "code",
   "execution_count": 5,
   "metadata": {},
   "outputs": [],
   "source": [
    "with open('/home/walml/Downloads/df_spec_classprobs.pkl', 'rb') as f:\n",
    "    df = pickle.load(f)"
   ]
  },
  {
   "cell_type": "code",
   "execution_count": 6,
   "metadata": {},
   "outputs": [
    {
     "data": {
      "text/html": [
       "<div>\n",
       "<style scoped>\n",
       "    .dataframe tbody tr th:only-of-type {\n",
       "        vertical-align: middle;\n",
       "    }\n",
       "\n",
       "    .dataframe tbody tr th {\n",
       "        vertical-align: top;\n",
       "    }\n",
       "\n",
       "    .dataframe thead th {\n",
       "        text-align: right;\n",
       "    }\n",
       "</style>\n",
       "<table border=\"1\" class=\"dataframe\">\n",
       "  <thead>\n",
       "    <tr style=\"text-align: right;\">\n",
       "      <th></th>\n",
       "      <th>bossprimary</th>\n",
       "      <th>sdssprimary</th>\n",
       "      <th>specObjID</th>\n",
       "      <th>objid</th>\n",
       "      <th>Column1</th>\n",
       "      <th>mjd</th>\n",
       "      <th>plate</th>\n",
       "      <th>fiberID</th>\n",
       "      <th>run2d</th>\n",
       "      <th>ra</th>\n",
       "      <th>...</th>\n",
       "      <th>w2err</th>\n",
       "      <th>w3err</th>\n",
       "      <th>w4err</th>\n",
       "      <th>resolvedr</th>\n",
       "      <th>feature_1D</th>\n",
       "      <th>class_pred</th>\n",
       "      <th>prob_g</th>\n",
       "      <th>prob_q</th>\n",
       "      <th>prob_s</th>\n",
       "      <th>prob_best</th>\n",
       "    </tr>\n",
       "  </thead>\n",
       "  <tbody>\n",
       "    <tr>\n",
       "      <th>0</th>\n",
       "      <td>1</td>\n",
       "      <td>0</td>\n",
       "      <td>4.320248e+18</td>\n",
       "      <td>1237648722835538627</td>\n",
       "      <td>4.320248e+18</td>\n",
       "      <td>55572</td>\n",
       "      <td>3837</td>\n",
       "      <td>619</td>\n",
       "      <td>v5_10_0</td>\n",
       "      <td>166.726450</td>\n",
       "      <td>...</td>\n",
       "      <td>0.131</td>\n",
       "      <td>9999.000</td>\n",
       "      <td>9999.000</td>\n",
       "      <td>0.98622</td>\n",
       "      <td>-4.366548</td>\n",
       "      <td>NaN</td>\n",
       "      <td>NaN</td>\n",
       "      <td>NaN</td>\n",
       "      <td>NaN</td>\n",
       "      <td>NaN</td>\n",
       "    </tr>\n",
       "    <tr>\n",
       "      <th>1</th>\n",
       "      <td>1</td>\n",
       "      <td>0</td>\n",
       "      <td>5.337947e+18</td>\n",
       "      <td>1237648722835734721</td>\n",
       "      <td>5.337947e+18</td>\n",
       "      <td>55704</td>\n",
       "      <td>4741</td>\n",
       "      <td>203</td>\n",
       "      <td>v5_10_0</td>\n",
       "      <td>167.128300</td>\n",
       "      <td>...</td>\n",
       "      <td>0.045</td>\n",
       "      <td>0.170</td>\n",
       "      <td>0.214</td>\n",
       "      <td>0.91533</td>\n",
       "      <td>0.598849</td>\n",
       "      <td>NaN</td>\n",
       "      <td>NaN</td>\n",
       "      <td>NaN</td>\n",
       "      <td>NaN</td>\n",
       "      <td>NaN</td>\n",
       "    </tr>\n",
       "    <tr>\n",
       "      <th>2</th>\n",
       "      <td>0</td>\n",
       "      <td>1</td>\n",
       "      <td>5.730867e+17</td>\n",
       "      <td>1237648722836062366</td>\n",
       "      <td>5.730867e+17</td>\n",
       "      <td>52374</td>\n",
       "      <td>509</td>\n",
       "      <td>13</td>\n",
       "      <td>26</td>\n",
       "      <td>167.963190</td>\n",
       "      <td>...</td>\n",
       "      <td>0.055</td>\n",
       "      <td>0.487</td>\n",
       "      <td>9999.000</td>\n",
       "      <td>1.09256</td>\n",
       "      <td>3.042845</td>\n",
       "      <td>GALAXY</td>\n",
       "      <td>1.00</td>\n",
       "      <td>0.00</td>\n",
       "      <td>0.0</td>\n",
       "      <td>1.00</td>\n",
       "    </tr>\n",
       "    <tr>\n",
       "      <th>3</th>\n",
       "      <td>0</td>\n",
       "      <td>1</td>\n",
       "      <td>3.142498e+17</td>\n",
       "      <td>1237648722836521258</td>\n",
       "      <td>3.142498e+17</td>\n",
       "      <td>51984</td>\n",
       "      <td>279</td>\n",
       "      <td>450</td>\n",
       "      <td>26</td>\n",
       "      <td>169.003260</td>\n",
       "      <td>...</td>\n",
       "      <td>0.044</td>\n",
       "      <td>9999.000</td>\n",
       "      <td>9999.000</td>\n",
       "      <td>1.10386</td>\n",
       "      <td>0.218124</td>\n",
       "      <td>NaN</td>\n",
       "      <td>NaN</td>\n",
       "      <td>NaN</td>\n",
       "      <td>NaN</td>\n",
       "      <td>NaN</td>\n",
       "    </tr>\n",
       "    <tr>\n",
       "      <th>4</th>\n",
       "      <td>0</td>\n",
       "      <td>1</td>\n",
       "      <td>3.142729e+17</td>\n",
       "      <td>1237648722836586541</td>\n",
       "      <td>3.142729e+17</td>\n",
       "      <td>51984</td>\n",
       "      <td>279</td>\n",
       "      <td>534</td>\n",
       "      <td>26</td>\n",
       "      <td>169.164000</td>\n",
       "      <td>...</td>\n",
       "      <td>0.031</td>\n",
       "      <td>0.032</td>\n",
       "      <td>0.149</td>\n",
       "      <td>1.39071</td>\n",
       "      <td>4.743540</td>\n",
       "      <td>GALAXY</td>\n",
       "      <td>1.00</td>\n",
       "      <td>0.00</td>\n",
       "      <td>0.0</td>\n",
       "      <td>1.00</td>\n",
       "    </tr>\n",
       "    <tr>\n",
       "      <th>...</th>\n",
       "      <td>...</td>\n",
       "      <td>...</td>\n",
       "      <td>...</td>\n",
       "      <td>...</td>\n",
       "      <td>...</td>\n",
       "      <td>...</td>\n",
       "      <td>...</td>\n",
       "      <td>...</td>\n",
       "      <td>...</td>\n",
       "      <td>...</td>\n",
       "      <td>...</td>\n",
       "      <td>...</td>\n",
       "      <td>...</td>\n",
       "      <td>...</td>\n",
       "      <td>...</td>\n",
       "      <td>...</td>\n",
       "      <td>...</td>\n",
       "      <td>...</td>\n",
       "      <td>...</td>\n",
       "      <td>...</td>\n",
       "      <td>...</td>\n",
       "    </tr>\n",
       "    <tr>\n",
       "      <th>3237997</th>\n",
       "      <td>1</td>\n",
       "      <td>0</td>\n",
       "      <td>4.902186e+18</td>\n",
       "      <td>1237672796106195292</td>\n",
       "      <td>4.902186e+18</td>\n",
       "      <td>55810</td>\n",
       "      <td>4354</td>\n",
       "      <td>65</td>\n",
       "      <td>v5_10_0</td>\n",
       "      <td>1.257021</td>\n",
       "      <td>...</td>\n",
       "      <td>0.111</td>\n",
       "      <td>0.133</td>\n",
       "      <td>0.181</td>\n",
       "      <td>1.15950</td>\n",
       "      <td>-2.299720</td>\n",
       "      <td>GALAXY</td>\n",
       "      <td>0.68</td>\n",
       "      <td>0.32</td>\n",
       "      <td>0.0</td>\n",
       "      <td>0.68</td>\n",
       "    </tr>\n",
       "    <tr>\n",
       "      <th>3237998</th>\n",
       "      <td>1</td>\n",
       "      <td>0</td>\n",
       "      <td>7.685411e+18</td>\n",
       "      <td>1237651067892990333</td>\n",
       "      <td>7.685411e+18</td>\n",
       "      <td>56449</td>\n",
       "      <td>6826</td>\n",
       "      <td>66</td>\n",
       "      <td>v5_10_0</td>\n",
       "      <td>201.320300</td>\n",
       "      <td>...</td>\n",
       "      <td>0.076</td>\n",
       "      <td>0.209</td>\n",
       "      <td>9999.000</td>\n",
       "      <td>0.02016</td>\n",
       "      <td>-1.661871</td>\n",
       "      <td>NaN</td>\n",
       "      <td>NaN</td>\n",
       "      <td>NaN</td>\n",
       "      <td>NaN</td>\n",
       "      <td>NaN</td>\n",
       "    </tr>\n",
       "    <tr>\n",
       "      <th>3237999</th>\n",
       "      <td>1</td>\n",
       "      <td>0</td>\n",
       "      <td>4.801042e+18</td>\n",
       "      <td>1237670014583767642</td>\n",
       "      <td>4.801042e+18</td>\n",
       "      <td>55506</td>\n",
       "      <td>4264</td>\n",
       "      <td>745</td>\n",
       "      <td>v5_10_0</td>\n",
       "      <td>35.042884</td>\n",
       "      <td>...</td>\n",
       "      <td>0.093</td>\n",
       "      <td>9999.000</td>\n",
       "      <td>9999.000</td>\n",
       "      <td>0.82624</td>\n",
       "      <td>-1.653507</td>\n",
       "      <td>GALAXY</td>\n",
       "      <td>1.00</td>\n",
       "      <td>0.00</td>\n",
       "      <td>0.0</td>\n",
       "      <td>1.00</td>\n",
       "    </tr>\n",
       "    <tr>\n",
       "      <th>3238000</th>\n",
       "      <td>1</td>\n",
       "      <td>0</td>\n",
       "      <td>5.695933e+18</td>\n",
       "      <td>1237669698912846246</td>\n",
       "      <td>5.695933e+18</td>\n",
       "      <td>56190</td>\n",
       "      <td>5059</td>\n",
       "      <td>20</td>\n",
       "      <td>v5_10_0</td>\n",
       "      <td>342.716090</td>\n",
       "      <td>...</td>\n",
       "      <td>0.066</td>\n",
       "      <td>9999.000</td>\n",
       "      <td>9999.000</td>\n",
       "      <td>1.07928</td>\n",
       "      <td>-1.477026</td>\n",
       "      <td>GALAXY</td>\n",
       "      <td>1.00</td>\n",
       "      <td>0.00</td>\n",
       "      <td>0.0</td>\n",
       "      <td>1.00</td>\n",
       "    </tr>\n",
       "    <tr>\n",
       "      <th>3238001</th>\n",
       "      <td>0</td>\n",
       "      <td>1</td>\n",
       "      <td>4.797475e+17</td>\n",
       "      <td>1237653652919025908</td>\n",
       "      <td>4.797475e+17</td>\n",
       "      <td>51882</td>\n",
       "      <td>426</td>\n",
       "      <td>415</td>\n",
       "      <td>26</td>\n",
       "      <td>24.466774</td>\n",
       "      <td>...</td>\n",
       "      <td>0.044</td>\n",
       "      <td>0.073</td>\n",
       "      <td>0.519</td>\n",
       "      <td>1.74395</td>\n",
       "      <td>5.902978</td>\n",
       "      <td>NaN</td>\n",
       "      <td>NaN</td>\n",
       "      <td>NaN</td>\n",
       "      <td>NaN</td>\n",
       "      <td>NaN</td>\n",
       "    </tr>\n",
       "  </tbody>\n",
       "</table>\n",
       "<p>3099457 rows × 64 columns</p>\n",
       "</div>"
      ],
      "text/plain": [
       "         bossprimary  sdssprimary     specObjID                objid  \\\n",
       "0                  1            0  4.320248e+18  1237648722835538627   \n",
       "1                  1            0  5.337947e+18  1237648722835734721   \n",
       "2                  0            1  5.730867e+17  1237648722836062366   \n",
       "3                  0            1  3.142498e+17  1237648722836521258   \n",
       "4                  0            1  3.142729e+17  1237648722836586541   \n",
       "...              ...          ...           ...                  ...   \n",
       "3237997            1            0  4.902186e+18  1237672796106195292   \n",
       "3237998            1            0  7.685411e+18  1237651067892990333   \n",
       "3237999            1            0  4.801042e+18  1237670014583767642   \n",
       "3238000            1            0  5.695933e+18  1237669698912846246   \n",
       "3238001            0            1  4.797475e+17  1237653652919025908   \n",
       "\n",
       "              Column1    mjd  plate  fiberID    run2d          ra  ...  w2err  \\\n",
       "0        4.320248e+18  55572   3837      619  v5_10_0  166.726450  ...  0.131   \n",
       "1        5.337947e+18  55704   4741      203  v5_10_0  167.128300  ...  0.045   \n",
       "2        5.730867e+17  52374    509       13       26  167.963190  ...  0.055   \n",
       "3        3.142498e+17  51984    279      450       26  169.003260  ...  0.044   \n",
       "4        3.142729e+17  51984    279      534       26  169.164000  ...  0.031   \n",
       "...               ...    ...    ...      ...      ...         ...  ...    ...   \n",
       "3237997  4.902186e+18  55810   4354       65  v5_10_0    1.257021  ...  0.111   \n",
       "3237998  7.685411e+18  56449   6826       66  v5_10_0  201.320300  ...  0.076   \n",
       "3237999  4.801042e+18  55506   4264      745  v5_10_0   35.042884  ...  0.093   \n",
       "3238000  5.695933e+18  56190   5059       20  v5_10_0  342.716090  ...  0.066   \n",
       "3238001  4.797475e+17  51882    426      415       26   24.466774  ...  0.044   \n",
       "\n",
       "            w3err     w4err  resolvedr feature_1D class_pred prob_g prob_q  \\\n",
       "0        9999.000  9999.000    0.98622  -4.366548        NaN    NaN    NaN   \n",
       "1           0.170     0.214    0.91533   0.598849        NaN    NaN    NaN   \n",
       "2           0.487  9999.000    1.09256   3.042845     GALAXY   1.00   0.00   \n",
       "3        9999.000  9999.000    1.10386   0.218124        NaN    NaN    NaN   \n",
       "4           0.032     0.149    1.39071   4.743540     GALAXY   1.00   0.00   \n",
       "...           ...       ...        ...        ...        ...    ...    ...   \n",
       "3237997     0.133     0.181    1.15950  -2.299720     GALAXY   0.68   0.32   \n",
       "3237998     0.209  9999.000    0.02016  -1.661871        NaN    NaN    NaN   \n",
       "3237999  9999.000  9999.000    0.82624  -1.653507     GALAXY   1.00   0.00   \n",
       "3238000  9999.000  9999.000    1.07928  -1.477026     GALAXY   1.00   0.00   \n",
       "3238001     0.073     0.519    1.74395   5.902978        NaN    NaN    NaN   \n",
       "\n",
       "         prob_s  prob_best  \n",
       "0           NaN        NaN  \n",
       "1           NaN        NaN  \n",
       "2           0.0       1.00  \n",
       "3           NaN        NaN  \n",
       "4           0.0       1.00  \n",
       "...         ...        ...  \n",
       "3237997     0.0       0.68  \n",
       "3237998     NaN        NaN  \n",
       "3237999     0.0       1.00  \n",
       "3238000     0.0       1.00  \n",
       "3238001     NaN        NaN  \n",
       "\n",
       "[3099457 rows x 64 columns]"
      ]
     },
     "execution_count": 6,
     "metadata": {},
     "output_type": "execute_result"
    }
   ],
   "source": [
    "df"
   ]
  },
  {
   "cell_type": "code",
   "execution_count": 10,
   "metadata": {},
   "outputs": [
    {
     "data": {
      "text/plain": [
       "array(['bossprimary', 'sdssprimary', 'specObjID', 'objid', 'Column1',\n",
       "       'mjd', 'plate', 'fiberID', 'run2d', 'ra', 'dec', 'z', 'z_noqso',\n",
       "       'zErr_noqso', 'class', 'programname', 'instrument', 'survey',\n",
       "       'scienceprimary', 'zwarning', 'boss_target1', 'eboss_target1',\n",
       "       'snmedian', 'match_dist', 'cmod_u', 'cmod_g', 'cmod_r', 'cmod_i',\n",
       "       'cmod_z', 'cmoderr_u', 'cmoderr_g', 'cmoderr_r', 'cmoderr_i',\n",
       "       'cmoderr_z', 'psf_u', 'psf_g', 'psf_r', 'psf_i', 'psf_z',\n",
       "       'psferr_u', 'psferr_g', 'psferr_r', 'psferr_i', 'psferr_z',\n",
       "       'ext_u', 'ext_g', 'ext_r', 'ext_i', 'ext_z', 'w1', 'w2', 'w3',\n",
       "       'w4', 'w1err', 'w2err', 'w3err', 'w4err', 'resolvedr',\n",
       "       'feature_1D', 'class_pred', 'prob_g', 'prob_q', 'prob_s',\n",
       "       'prob_best'], dtype=object)"
      ]
     },
     "execution_count": 10,
     "metadata": {},
     "output_type": "execute_result"
    }
   ],
   "source": [
    "df.columns.values"
   ]
  },
  {
   "cell_type": "code",
   "execution_count": 11,
   "metadata": {},
   "outputs": [
    {
     "data": {
      "text/plain": [
       "0          GALAXY\n",
       "1             QSO\n",
       "2          GALAXY\n",
       "3          GALAXY\n",
       "4          GALAXY\n",
       "            ...  \n",
       "3237997    GALAXY\n",
       "3237998       QSO\n",
       "3237999    GALAXY\n",
       "3238000    GALAXY\n",
       "3238001    GALAXY\n",
       "Name: class, Length: 3099457, dtype: object"
      ]
     },
     "execution_count": 11,
     "metadata": {},
     "output_type": "execute_result"
    }
   ],
   "source": [
    "df['class']"
   ]
  },
  {
   "cell_type": "code",
   "execution_count": 33,
   "metadata": {},
   "outputs": [
    {
     "data": {
      "text/plain": [
       "GALAXY    2209333\n",
       "STAR       512236\n",
       "QSO        377888\n",
       "Name: class, dtype: int64"
      ]
     },
     "execution_count": 33,
     "metadata": {},
     "output_type": "execute_result"
    }
   ],
   "source": [
    "df['class'].value_counts()"
   ]
  },
  {
   "cell_type": "code",
   "execution_count": 37,
   "metadata": {},
   "outputs": [
    {
     "data": {
      "text/plain": [
       "0             NaN\n",
       "1             NaN\n",
       "2          GALAXY\n",
       "3             NaN\n",
       "4          GALAXY\n",
       "            ...  \n",
       "3237997    GALAXY\n",
       "3237998       NaN\n",
       "3237999    GALAXY\n",
       "3238000    GALAXY\n",
       "3238001       NaN\n",
       "Name: class_pred, Length: 3099457, dtype: object"
      ]
     },
     "execution_count": 37,
     "metadata": {},
     "output_type": "execute_result"
    }
   ],
   "source": [
    "df['class_pred']"
   ]
  },
  {
   "cell_type": "code",
   "execution_count": 38,
   "metadata": {},
   "outputs": [],
   "source": [
    "def show_calibration(df, n_bins=15):\n",
    "    prob_true, prob_pred = calibration_curve(df['class'] == 'GALAXY', df['prob_g'], n_bins=n_bins)\n",
    "    plt.plot(prob_pred, prob_true, marker='.', label='Galaxy')\n",
    "\n",
    "    prob_true, prob_pred = calibration_curve(df['class'] == 'STAR', df['prob_s'], n_bins=n_bins)\n",
    "    plt.plot(prob_pred, prob_true, marker='.', label='STAR')\n",
    "\n",
    "    prob_true, prob_pred = calibration_curve(df['class'] == 'QSO', df['prob_q'], n_bins=n_bins)\n",
    "    plt.plot(prob_pred, prob_true, marker='.', label='QSO')\n",
    "\n",
    "    plt.plot((0, 1), (0, 1), 'k--', alpha=.5)\n",
    "    plt.xlabel('Predicted p')\n",
    "    plt.ylabel('Actual p')\n",
    "    plt.legend()"
   ]
  },
  {
   "cell_type": "code",
   "execution_count": 39,
   "metadata": {},
   "outputs": [
    {
     "data": {
      "image/png": "[encoded data removed]",
      "text/plain": [
       "<Figure size 432x288 with 1 Axes>"
      ]
     },
     "metadata": {
      "needs_background": "light"
     },
     "output_type": "display_data"
    }
   ],
   "source": [
    "show_calibration(df)"
   ]
  },
  {
   "cell_type": "code",
   "execution_count": 41,
   "metadata": {},
   "outputs": [
    {
     "data": {
      "text/plain": [
       "0           True\n",
       "1           True\n",
       "2          False\n",
       "3           True\n",
       "4          False\n",
       "           ...  \n",
       "3237997    False\n",
       "3237998     True\n",
       "3237999    False\n",
       "3238000    False\n",
       "3238001     True\n",
       "Name: class_pred, Length: 3099457, dtype: bool"
      ]
     },
     "execution_count": 41,
     "metadata": {},
     "output_type": "execute_result"
    }
   ],
   "source": [
    "pd.isnull(df['class_pred'])"
   ]
  },
  {
   "cell_type": "code",
   "execution_count": 44,
   "metadata": {},
   "outputs": [
    {
     "data": {
      "text/plain": [
       "(1549729, 1549728)"
      ]
     },
     "execution_count": 44,
     "metadata": {},
     "output_type": "execute_result"
    }
   ],
   "source": [
    "len(df[~pd.isnull(df['class_pred'])]), len(df[pd.isnull(df['class_pred'])])"
   ]
  },
  {
   "cell_type": "code",
   "execution_count": null,
   "metadata": {},
   "outputs": [],
   "source": [
    "# no need to split out training, already have nan predictions, nice"
   ]
  },
  {
   "cell_type": "code",
   "execution_count": 46,
   "metadata": {},
   "outputs": [],
   "source": [
    "# show_calibration(df[pd.isnull(df['class_pred'])])"
   ]
  },
  {
   "cell_type": "code",
   "execution_count": 47,
   "metadata": {},
   "outputs": [],
   "source": [
    "# show_calibration(df[~pd.isnull(df['class_pred'])])"
   ]
  },
  {
   "cell_type": "code",
   "execution_count": null,
   "metadata": {},
   "outputs": [],
   "source": []
  }
 ],
 "metadata": {
  "kernelspec": {
   "display_name": "Python 3",
   "language": "python",
   "name": "python3"
  },
  "language_info": {
   "codemirror_mode": {
    "name": "ipython",
    "version": 3
   },
   "file_extension": ".py",
   "mimetype": "text/x-python",
   "name": "python",
   "nbconvert_exporter": "python",
   "pygments_lexer": "ipython3",
   "version": "3.7.6"
  }
 },
 "nbformat": 4,
 "nbformat_minor": 4
}
