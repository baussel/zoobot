{
 "cells": [
  {
   "cell_type": "code",
   "execution_count": 9,
   "metadata": {},
   "outputs": [],
   "source": [
    "with open('/home/walml/Downloads/Bookmarks_0', 'rb') as f:\n",
    "    data = f.read()"
   ]
  },
  {
   "cell_type": "code",
   "execution_count": 27,
   "metadata": {},
   "outputs": [
    {
     "data": {
      "text/plain": [
       "\"TD\\x04t#\\x06=(L\\x0c\\x04~\\x0b\\x06a\\x0b\\x00Q\\x06>\\x02\\x1e\\x11\\x01կ\\x06F\\x03s\\x05\\x16*>\\x07s*Jl\\x04Yzv:;վ\\x00\\x02\\x0fQ\\x00?l\\x05'\\x07g$\\x07\\x07,\\x0fu\\x12qT$\\x19`~u켺K\\x19|ӨpW\\x03!BHG߃w\\x0b{\\x00PҤ6/hl\\x05\\t\\x1f\\x00D6\\x018%jN9Y;e\\x7f\\x06Ӿ\\x00i\\x00\\x0cG|\\x0f\\x1d{,bל\\x1e\\x1e|\\x7f?6\\x0b6WOa6@;1A\\x14Løy{fd薃\\x13;\\t\\x00k\\u070f\\x08\\x0bp\\n\""
      ]
     },
     "execution_count": 27,
     "metadata": {},
     "output_type": "execute_result"
    }
   ],
   "source": [
    "data[0]"
   ]
  },
  {
   "cell_type": "code",
   "execution_count": 11,
   "metadata": {},
   "outputs": [],
   "source": [
    "# data"
   ]
  },
  {
   "cell_type": "code",
   "execution_count": 17,
   "metadata": {},
   "outputs": [],
   "source": [
    "# with open('/home/walml/Downloads/Bookmarks_0', 'r', encoding = \"utf-16-be\", errors='replace') as f:\n",
    "#     data = f.readlines()"
   ]
  },
  {
   "cell_type": "code",
   "execution_count": 18,
   "metadata": {},
   "outputs": [],
   "source": [
    "# data"
   ]
  },
  {
   "cell_type": "code",
   "execution_count": 29,
   "metadata": {},
   "outputs": [],
   "source": [
    "with open('/home/walml/Downloads/Bookmarks_0', 'r', encoding = \"utf-8\", errors='surrogateescape') as f:\n",
    "    data = f.readline()"
   ]
  },
  {
   "cell_type": "code",
   "execution_count": 30,
   "metadata": {},
   "outputs": [
    {
     "data": {
      "text/plain": [
       "\"TD\\x04t\\udcef#\\udcee\\udce5\\x06\\udcd7=\\udcd2(L\\udc96\\x0c\\udc95\\x04\\udccf\\udcf5~\\udcee\\x0b\\x06a\\x0b\\udcb1\\udcb6\\x00\\udcabQ\\x06>\\udcdc\\x02\\x1e\\udcd8\\x11\\udcb2\\x01կ\\x06\\udcdaF\\x03s\\udcd1\\x05\\udcf5\\udcc1\\x16\\udc80\\udcb9*>\\udcfc\\x07s\\udcc2*J\\udca2\\udcb6l\\udcf9\\x04Yz\\udc81v\\udca8:\\udcce;\\udcb1\\udcf2վ\\x00\\udc87\\udc91\\udcbb\\udce4\\x02\\x0f\\udcadQ\\udcce\\x00\\udceb\\udce2\\udca7?l\\udcd8\\x05\\udcf3\\udce7'\\udcfe\\x07g$\\udcce\\udcfa\\x07\\udcc6\\udcf8\\udcb1\\udcce\\x07,\\udcf5\\x0fu\\udcb5\\x12qT$\\x19`\\udca4\\udcf2~u\\udce3\\udcb7\\udcf4켺\\udcd1K\\x19|Өp\\udcabW\\x03!\\udce5\\udca8BH\\udcf6\\udcf6G\\udcf6߃\\udcccw\\udcce\\udcf0\\x0b{\\x00\\udcd2PҤ\\udcdb6\\udcfe\\udced/\\udc89\\udc8ah\\udcb7\\udcbc\\udc8dl\\x05\\t\\x1f\\x00D\\udcae\\udc9b\\udc91\\udcfa6\\x018%\\udcf1\\udcd5\\udcf2j\\udc94\\udcd7\\udcfcN9\\udcfeY;\\udcf7\\udc9ae\\x7f\\x06\\udcc2\\udcf1\\udcdf\\udce3Ӿ\\udcb7\\x00\\udcd3i\\x00\\udcb9\\x0c\\udcb4\\udc8e\\udcee\\udcc2G|\\x0f\\udcf8\\udce3\\udcf3\\udcf5\\udce4\\x1d{,\\udccb\\udccfbל\\x1e\\x1e|\\x7f?6\\x0b6WOa6@;1\\udcc4A\\x14\\udce5\\udc96\\udcfbLøy{fd\\udccb薃\\x13;\\t\\udcbc\\x00k\\udcf5\\u070f\\udceb\\udcae\\x08\\udc98\\x0bp\\n\""
      ]
     },
     "execution_count": 30,
     "metadata": {},
     "output_type": "execute_result"
    }
   ],
   "source": [
    "data"
   ]
  },
  {
   "cell_type": "code",
   "execution_count": 34,
   "metadata": {},
   "outputs": [],
   "source": [
    "with open('/home/walml/Downloads/Bookmarks_0', 'r', encoding='latin1') as f:\n",
    "    data = f.readline()"
   ]
  },
  {
   "cell_type": "code",
   "execution_count": 35,
   "metadata": {},
   "outputs": [
    {
     "data": {
      "text/plain": [
       "\"TD\\x04tï#îå\\x06×=Ò(L\\x96\\x0c\\x95\\x04Ïõ~î\\x0b\\x06a\\x0b±¶\\x00«Q\\x06>Ü\\x02\\x1eØ\\x11²\\x01Õ¯\\x06ÚF\\x03sÑ\\x05õÁ\\x16\\x80¹*>ü\\x07sÂ*J¢¶lù\\x04Yz\\x81v¨:Î;±òÕ¾\\x00\\x87\\x91»ä\\x02\\x0f\\xadQÎ\\x00ëâ§?lØ\\x05óç'þ\\x07g$Îú\\x07Æø±Î\\x07,õ\\x0fuµ\\x12qT$\\x19`¤ò~uã·ôì¼ºÑK\\x19|Ó¨p«W\\x03!å¨BHööGöß\\x83ÌwÎð\\x0b{\\x00ÒPÒ¤Û6þí/\\x89\\x8ah·¼\\x8dl\\x05\\t\\x1f\\x00D®\\x9b\\x91ú6\\x018%ñÕòj\\x94×üN9þY;÷\\x9ae\\x7f\\x06ÂñßãÓ¾·\\x00Ói\\x00¹\\x0c´\\x8eîÂG|\\x0føãóõä\\x1d{,ËÏb×\\x9c\\x1e\\x1e|\\x7f?6\\x0b6WOa6@;1ÄA\\x14å\\x96ûLÃ¸y{fdËè\\x96\\x83\\x13;\\t¼\\x00kõÜ\\x8fë®\\x08\\x98\\x0bp\\n\""
      ]
     },
     "execution_count": 35,
     "metadata": {},
     "output_type": "execute_result"
    }
   ],
   "source": [
    "data"
   ]
  },
  {
   "cell_type": "code",
   "execution_count": 22,
   "metadata": {},
   "outputs": [],
   "source": [
    "with open('/home/walml/Downloads/Bookmarks_0', 'r', errors='ignore') as f:\n",
    "    data = f.readlines()"
   ]
  },
  {
   "cell_type": "code",
   "execution_count": 31,
   "metadata": {},
   "outputs": [],
   "source": [
    "# data"
   ]
  },
  {
   "cell_type": "code",
   "execution_count": 36,
   "metadata": {},
   "outputs": [],
   "source": [
    "import sqlite3"
   ]
  },
  {
   "cell_type": "code",
   "execution_count": 38,
   "metadata": {},
   "outputs": [
    {
     "ename": "OperationalError",
     "evalue": "unable to open database file",
     "output_type": "error",
     "traceback": [
      "\u001b[0;31m---------------------------------------------------------------------------\u001b[0m",
      "\u001b[0;31mOperationalError\u001b[0m                          Traceback (most recent call last)",
      "\u001b[0;32m<ipython-input-38-643691a070e6>\u001b[0m in \u001b[0;36m<module>\u001b[0;34m\u001b[0m\n\u001b[0;32m----> 1\u001b[0;31m \u001b[0msqlite3\u001b[0m\u001b[0;34m.\u001b[0m\u001b[0mconnect\u001b[0m\u001b[0;34m(\u001b[0m\u001b[0;34m'~/.config/google-chrome/Default/History'\u001b[0m\u001b[0;34m)\u001b[0m\u001b[0;34m\u001b[0m\u001b[0;34m\u001b[0m\u001b[0m\n\u001b[0m",
      "\u001b[0;31mOperationalError\u001b[0m: unable to open database file"
     ]
    }
   ],
   "source": [
    "sqlite3.connect('~/.config/google-chrome/Default/History')"
   ]
  },
  {
   "cell_type": "code",
   "execution_count": null,
   "metadata": {},
   "outputs": [],
   "source": []
  }
 ],
 "metadata": {
  "kernelspec": {
   "display_name": "Python 3",
   "language": "python",
   "name": "python3"
  },
  "language_info": {
   "codemirror_mode": {
    "name": "ipython",
    "version": 3
   },
   "file_extension": ".py",
   "mimetype": "text/x-python",
   "name": "python",
   "nbconvert_exporter": "python",
   "pygments_lexer": "ipython3",
   "version": "3.7.6"
  }
 },
 "nbformat": 4,
 "nbformat_minor": 4
}
