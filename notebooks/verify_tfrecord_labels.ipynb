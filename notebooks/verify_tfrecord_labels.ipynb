{
 "cells": [
  {
   "cell_type": "code",
   "execution_count": 1,
   "metadata": {},
   "outputs": [],
   "source": [
    "%load_ext autoreload\n",
    "%autoreload 2\n",
    "%matplotlib inline"
   ]
  },
  {
   "cell_type": "code",
   "execution_count": 218,
   "metadata": {},
   "outputs": [],
   "source": [
    "import json\n",
    "import ast\n",
    "import itertools\n",
    "import os\n",
    "import argparse\n",
    "import pickle\n",
    "\n",
    "import pandas as pd\n",
    "import numpy as np\n",
    "import statsmodels.api as sm\n",
    "import matplotlib\n",
    "# matplotlib.use('Agg')\n",
    "import matplotlib.pyplot as plt\n",
    "import seaborn as sns\n",
    "sns.set_context('poster')\n",
    "sns.set()\n",
    "\n",
    "from shared_astro_utils import plotting_utils\n",
    "\n",
    "from zoobot.estimators import input_utils\n",
    "from zoobot.active_learning import metrics, simulation_timeline, analysis\n",
    "\n",
    "from zoobot.tfrecord import read_tfrecord\n",
    "from zoobot.tests import TEST_FIGURE_DIR"
   ]
  },
  {
   "cell_type": "code",
   "execution_count": 219,
   "metadata": {},
   "outputs": [
    {
     "name": "stdout",
     "output_type": "stream",
     "text": [
      "/Data/repos/zoobot/notebooks\n"
     ]
    }
   ],
   "source": [
    "!pwd"
   ]
  },
  {
   "cell_type": "markdown",
   "metadata": {},
   "source": [
    "### Define Records to Load"
   ]
  },
  {
   "cell_type": "code",
   "execution_count": 220,
   "metadata": {},
   "outputs": [],
   "source": [
    "shard_dir = '/Volumes/alpha/uint8_128px_bar_n'"
   ]
  },
  {
   "cell_type": "code",
   "execution_count": 260,
   "metadata": {},
   "outputs": [],
   "source": [
    "oracle = pd.read_csv(\n",
    "    os.path.join(shard_dir, 'oracle.csv'), \n",
    "    usecols=['id_str', 'label'],\n",
    "    dtype={'id_str': str, 'label': int}\n",
    ")"
   ]
  },
  {
   "cell_type": "code",
   "execution_count": 265,
   "metadata": {},
   "outputs": [],
   "source": [
    "catalog = pd.read_csv('../data/basic_regression_labels_with_bars.csv')\n",
    "catalog['id_str'] = catalog['id'].astype(str)\n",
    "catalog['file_loc'] = catalog['png_loc']\n",
    "catalog['label'] = catalog['t03_bar_a06_bar_count']"
   ]
  },
  {
   "cell_type": "code",
   "execution_count": 262,
   "metadata": {},
   "outputs": [
    {
     "data": {
      "text/plain": [
       "array(['dr7objid', 'ra_subject', 'dec_subject', 'total_classifications',\n",
       "       'total_votes', 't01_smooth_or_features_a01_smooth_count',\n",
       "       't01_smooth_or_features_a01_smooth_weighted_fraction',\n",
       "       't01_smooth_or_features_a02_features_or_disk_count',\n",
       "       't01_smooth_or_features_a02_features_or_disk_weighted_fraction',\n",
       "       't01_smooth_or_features_a03_star_or_artifact_count',\n",
       "       't01_smooth_or_features_a03_star_or_artifact_weighted_fraction',\n",
       "       't02_edgeon_a04_yes_count', 't02_edgeon_a04_yes_weighted_fraction',\n",
       "       't02_edgeon_a05_no_count', 't02_edgeon_a05_no_weighted_fraction',\n",
       "       't03_bar_a06_bar_count', 't03_bar_a06_bar_weighted_fraction',\n",
       "       't03_bar_a07_no_bar_count', 't03_bar_a07_no_bar_weighted_fraction',\n",
       "       't04_spiral_a08_spiral_count',\n",
       "       't04_spiral_a08_spiral_weighted_fraction',\n",
       "       't04_spiral_a09_no_spiral_count',\n",
       "       't04_spiral_a09_no_spiral_weighted_fraction',\n",
       "       't07_rounded_a16_completely_round_count',\n",
       "       't07_rounded_a16_completely_round_weighted_fraction',\n",
       "       't07_rounded_a17_in_between_count',\n",
       "       't07_rounded_a17_in_between_weighted_fraction',\n",
       "       't07_rounded_a18_cigar_shaped_count',\n",
       "       't07_rounded_a18_cigar_shaped_weighted_fraction',\n",
       "       't11_arms_number_a31_1_count',\n",
       "       't11_arms_number_a31_1_weighted_fraction',\n",
       "       't11_arms_number_a32_2_count',\n",
       "       't11_arms_number_a32_2_weighted_fraction',\n",
       "       't11_arms_number_a33_3_count',\n",
       "       't11_arms_number_a33_3_weighted_fraction',\n",
       "       't11_arms_number_a34_4_count',\n",
       "       't11_arms_number_a34_4_weighted_fraction',\n",
       "       't11_arms_number_a36_more_than_4_count',\n",
       "       't11_arms_number_a36_more_than_4_weighted_fraction',\n",
       "       't11_arms_number_a37_cant_tell_count',\n",
       "       't11_arms_number_a37_cant_tell_weighted_fraction', 'best_match',\n",
       "       'sky_separation', 'id', 'name', 'project_id', 'location',\n",
       "       'classification_count', 'external_ref', 'created_at', 'updated_at',\n",
       "       'region', 'redshift_bin', 'magsize_bin', 'battle_bin', 'ra', 'dec',\n",
       "       'stripe82', 'stripe82_coadd', 'extra_original', 'png_loc',\n",
       "       'png_ready'], dtype=object)"
      ]
     },
     "execution_count": 262,
     "metadata": {},
     "output_type": "execute_result"
    }
   ],
   "source": [
    "catalog.columns.values"
   ]
  },
  {
   "cell_type": "code",
   "execution_count": 222,
   "metadata": {},
   "outputs": [],
   "source": [
    "training_loc = os.path.join(shard_dir, 'train_shards/s128_shard_0.tfrecord')"
   ]
  },
  {
   "cell_type": "code",
   "execution_count": 223,
   "metadata": {},
   "outputs": [],
   "source": [
    "iteration_dir = '../data/runs/al_baseline_test/iteration_1'\n",
    "tfrecord_dir = os.path.join(iteration_dir, 'acquired_tfrecords')\n",
    "acquired_locs = [os.path.join(tfrecord_dir, loc) for loc in os.listdir(tfrecord_dir)]"
   ]
  },
  {
   "cell_type": "markdown",
   "metadata": {},
   "source": [
    "### Check that labels are recorded correctly, measured via id_strs and catalog"
   ]
  },
  {
   "cell_type": "code",
   "execution_count": null,
   "metadata": {},
   "outputs": [],
   "source": [
    "_ = analysis.verify_tfrecord_matches_catalog(training_loc, catalog)\n",
    "_ = analysis.verify_tfrecord_matches_catalog(acquired_locs, catalog)"
   ]
  },
  {
   "cell_type": "markdown",
   "metadata": {},
   "source": [
    "### Load subjects from all records"
   ]
  },
  {
   "cell_type": "code",
   "execution_count": 245,
   "metadata": {},
   "outputs": [
    {
     "name": "stderr",
     "output_type": "stream",
     "text": [
      "WARNING:root:Loading multiple tfrecords with interleaving, shuffle=False\n"
     ]
    }
   ],
   "source": [
    "size = 128\n",
    "channels = 3\n",
    "n_subjects = 1024\n",
    "\n",
    "training_subjects = read_tfrecord.load_examples_from_tfrecord(\n",
    "    training_loc, \n",
    "    read_tfrecord.custom_feature_spec(['matrix', 'id_str', 'label', 'count']),\n",
    "    n_examples=n_subjects)\n",
    "training_images = np.array([subject['matrix'].astype(np.uint8).reshape(size, size, channels) for subject in training_subjects])\n",
    "\n",
    "acquired_subjects = read_tfrecord.load_examples_from_tfrecord(\n",
    "    acquired_locs, \n",
    "    read_tfrecord.custom_feature_spec(['matrix', 'id_str', 'label', 'count']),\n",
    "    n_examples=n_subjects)\n",
    "acquired_images = np.array([subject['matrix'].astype(np.uint8).reshape(size, size, channels) for subject in acquired_subjects])"
   ]
  },
  {
   "cell_type": "markdown",
   "metadata": {},
   "source": [
    "### Visualise Subjects From All Records"
   ]
  },
  {
   "cell_type": "code",
   "execution_count": 255,
   "metadata": {},
   "outputs": [],
   "source": [
    "n_rows = 6\n",
    "n_cols = 6\n",
    "label_strs = ['k: {}, N: {}, ID: {}'.format(s['label'], s['total_votes'], s['id_str'].decode('utf-8')) for s in subjects]\n",
    "\n",
    "plotting_utils.plot_galaxy_grid(training_images, n_rows, n_cols, 'grid_training.png', labels=label_strs)\n",
    "plotting_utils.plot_galaxy_grid(acquired_images, n_rows, n_cols, 'grid_acquired.png', labels=label_strs)"
   ]
  },
  {
   "cell_type": "code",
   "execution_count": null,
   "metadata": {},
   "outputs": [],
   "source": [
    "bad_id = '164147'\n",
    "matching = catalog[catalog['id_str'] == bad_id]\n",
    "matching"
   ]
  },
  {
   "cell_type": "markdown",
   "metadata": {},
   "source": [
    "### Compare Distributions of Labels, Total Votes"
   ]
  },
  {
   "cell_type": "code",
   "execution_count": 247,
   "metadata": {},
   "outputs": [],
   "source": [
    "def unpack(subjects):\n",
    "    labels = [s['label'] for s in subjects]\n",
    "    total_votes = [s['total_votes'] for s in subjects]\n",
    "    id_strs = [s['id_str'].decode('utf-8') for s in subjects]\n",
    "    return labels, total_votes, id_strs"
   ]
  },
  {
   "cell_type": "code",
   "execution_count": 248,
   "metadata": {},
   "outputs": [],
   "source": [
    "training_labels, training_total_votes, training_id_strs = unpack(training_subjects)\n",
    "acquired_labels, acquired_total_votes, acquired_id_strs = unpack(acquired_subjects)"
   ]
  },
  {
   "cell_type": "code",
   "execution_count": 249,
   "metadata": {},
   "outputs": [
    {
     "data": {
      "image/png": "[encoded data removed]",
      "text/plain": [
       "<Figure size 432x288 with 1 Axes>"
      ]
     },
     "metadata": {},
     "output_type": "display_data"
    }
   ],
   "source": [
    "fig, ax = plt.subplots()\n",
    "ax.hist(training_labels, bins=20, density=True, alpha=0.5)\n",
    "_ = ax.hist(acquired_labels, bins=20, density=True, alpha=0.5)"
   ]
  },
  {
   "cell_type": "code",
   "execution_count": 250,
   "metadata": {},
   "outputs": [
    {
     "data": {
      "image/png": "[encoded data removed]",
      "text/plain": [
       "<Figure size 432x288 with 1 Axes>"
      ]
     },
     "metadata": {},
     "output_type": "display_data"
    }
   ],
   "source": [
    "fig, ax = plt.subplots()\n",
    "ax.hist(training_total_votes, bins=20, density=True, alpha=0.5)\n",
    "_ = ax.hist(acquired_total_votes, bins=20, density=True, alpha=0.5)"
   ]
  },
  {
   "cell_type": "markdown",
   "metadata": {},
   "source": [
    "### Check There Are No Duplicates"
   ]
  },
  {
   "cell_type": "code",
   "execution_count": 251,
   "metadata": {},
   "outputs": [],
   "source": [
    "# no duplicates within train, or within acquired\n",
    "assert len(training_id_strs) == len(set(training_id_strs))\n",
    "assert len(acquired_id_strs) == len(set(acquired_id_strs))\n",
    "# no duplicates shared between training and acquired\n",
    "assert set(training_id_strs) - set(acquired_id_strs) == set(training_id_strs)\n",
    "assert set(acquired_id_strs) - set(training_id_strs) == set(acquired_id_strs)"
   ]
  },
  {
   "cell_type": "markdown",
   "metadata": {},
   "source": [
    "### Check Dimensions and Values of Images are Similar"
   ]
  },
  {
   "cell_type": "code",
   "execution_count": 252,
   "metadata": {},
   "outputs": [
    {
     "data": {
      "text/plain": [
       "((1024, 128, 128, 3), (1024, 128, 128, 3))"
      ]
     },
     "execution_count": 252,
     "metadata": {},
     "output_type": "execute_result"
    }
   ],
   "source": [
    "training_images.shape, acquired_images.shape"
   ]
  },
  {
   "cell_type": "code",
   "execution_count": 253,
   "metadata": {},
   "outputs": [
    {
     "data": {
      "text/plain": [
       "(10.191450794537863, 9.530143876870474)"
      ]
     },
     "execution_count": 253,
     "metadata": {},
     "output_type": "execute_result"
    }
   ],
   "source": [
    "training_images.mean(), acquired_images.mean()"
   ]
  },
  {
   "cell_type": "code",
   "execution_count": 254,
   "metadata": {},
   "outputs": [
    {
     "data": {
      "text/plain": [
       "(array([796., 516., 413., 328., 282., 249., 189., 163., 132.,  80.,  53.,\n",
       "         44.,  28.,  16.,  15.,  10.,   7.,   3.,   4.,   2.]),\n",
       " array([ 20007. ,  30008.7,  40010.4,  50012.1,  60013.8,  70015.5,\n",
       "         80017.2,  90018.9, 100020.6, 110022.3, 120024. , 130025.7,\n",
       "        140027.4, 150029.1, 160030.8, 170032.5, 180034.2, 190035.9,\n",
       "        200037.6, 210039.3, 220041. ]),\n",
       " <a list of 20 Patch objects>)"
      ]
     },
     "execution_count": 254,
     "metadata": {},
     "output_type": "execute_result"
    },
    {
     "data": {
      "image/png": "[encoded data removed]",
      "text/plain": [
       "<Figure size 432x288 with 2 Axes>"
      ]
     },
     "metadata": {},
     "output_type": "display_data"
    }
   ],
   "source": [
    "fig, (ax0, ax1) = plt.subplots(nrows=2)\n",
    "flat_training_image = np.ravel(training_images[0])\n",
    "ax0.hist(flat_training_image[flat_training_image > 20], bins=20, alpha=0.5)\n",
    "flat_acquired_image = np.ravel(acquired_images[0])\n",
    "ax0.hist(flat_acquired_image[flat_acquired_image > 20], bins=20, alpha=0.5)\n",
    "\n",
    "flat_training_batch = np.ravel(np.sum(training_images, axis=0))\n",
    "ax1.hist(flat_training_batch[flat_training_batch > 20000], bins=20, alpha=0.5)\n",
    "flat_acquired_batch = np.ravel(np.sum(acquired_images, axis=0))\n",
    "ax1.hist(flat_acquired_batch[flat_acquired_batch > 20000], bins=20, alpha=0.5)"
   ]
  },
  {
   "cell_type": "code",
   "execution_count": null,
   "metadata": {},
   "outputs": [],
   "source": []
  }
 ],
 "metadata": {
  "kernelspec": {
   "display_name": "Python 3",
   "language": "python",
   "name": "python3"
  },
  "language_info": {
   "codemirror_mode": {
    "name": "ipython",
    "version": 3
   },
   "file_extension": ".py",
   "mimetype": "text/x-python",
   "name": "python",
   "nbconvert_exporter": "python",
   "pygments_lexer": "ipython3",
   "version": "3.6.7"
  }
 },
 "nbformat": 4,
 "nbformat_minor": 2
}
