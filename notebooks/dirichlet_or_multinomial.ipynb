{
 "cells": [
  {
   "cell_type": "code",
   "execution_count": 29,
   "metadata": {},
   "outputs": [
    {
     "name": "stdout",
     "output_type": "stream",
     "text": [
      "The autoreload extension is already loaded. To reload it, use:\n",
      "  %reload_ext autoreload\n"
     ]
    }
   ],
   "source": [
    "%load_ext autoreload\n",
    "%autoreload 2"
   ]
  },
  {
   "cell_type": "code",
   "execution_count": 30,
   "metadata": {},
   "outputs": [],
   "source": [
    "import numpy as np\n",
    "import matplotlib.pyplot as plt\n",
    "import tensorflow as tf\n",
    "import tensorflow_probability as tfp"
   ]
  },
  {
   "cell_type": "code",
   "execution_count": 31,
   "metadata": {},
   "outputs": [
    {
     "data": {
      "text/plain": [
       "<tf.Tensor: shape=(2,), dtype=float32, numpy=array([0.2857143 , 0.71428573], dtype=float32)>"
      ]
     },
     "execution_count": 31,
     "metadata": {},
     "output_type": "execute_result"
    }
   ],
   "source": [
    "tfp.distributions.Dirichlet([.8, 2.], validate_args=True).mean()"
   ]
  },
  {
   "cell_type": "code",
   "execution_count": 32,
   "metadata": {},
   "outputs": [
    {
     "data": {
      "text/plain": [
       "<tf.Tensor: shape=(2,), dtype=float32, numpy=array([2.857143 , 7.1428576], dtype=float32)>"
      ]
     },
     "execution_count": 32,
     "metadata": {},
     "output_type": "execute_result"
    }
   ],
   "source": [
    "tfp.distributions.DirichletMultinomial(10, [.8, 2.], validate_args=True).mean()"
   ]
  },
  {
   "cell_type": "code",
   "execution_count": 33,
   "metadata": {},
   "outputs": [
    {
     "data": {
      "text/plain": [
       "[<matplotlib.lines.Line2D at 0x7f44138f5890>]"
      ]
     },
     "execution_count": 33,
     "metadata": {},
     "output_type": "execute_result"
    },
    {
     "data": {
      "image/png": "[encoded data removed]",
      "text/plain": [
       "<Figure size 432x288 with 1 Axes>"
      ]
     },
     "metadata": {
      "needs_background": "light"
     },
     "output_type": "display_data"
    }
   ],
   "source": [
    "success = np.linspace(0.001, .999, num=1000)\n",
    "failure = 1 - success\n",
    "x = np.stack([success, failure], axis=1)\n",
    "dirichlet_probs = tfp.distributions.Dirichlet([.8, 2.], validate_args=True).prob(x)\n",
    "plt.plot(success, dirichlet_probs / dirichlet_probs.numpy().max())\n",
    "\n",
    "\n"
   ]
  },
  {
   "cell_type": "code",
   "execution_count": 34,
   "metadata": {},
   "outputs": [
    {
     "data": {
      "text/plain": [
       "<matplotlib.collections.PathCollection at 0x7f44135a8f50>"
      ]
     },
     "execution_count": 34,
     "metadata": {},
     "output_type": "execute_result"
    },
    {
     "data": {
      "image/png": "[encoded data removed]",
      "text/plain": [
       "<Figure size 432x288 with 1 Axes>"
      ]
     },
     "metadata": {
      "needs_background": "light"
     },
     "output_type": "display_data"
    }
   ],
   "source": [
    "success = np.linspace(0.001, .999, num=1000)\n",
    "failure = 1 - success\n",
    "x = np.stack([success, failure], axis=1)\n",
    "dirichlet_probs = tfp.distributions.Dirichlet([.8, 2.], validate_args=True).prob(x)\n",
    "plt.plot(success, dirichlet_probs / dirichlet_probs.numpy().max())\n",
    "\n",
    "\n",
    "n = 10\n",
    "success = np.arange(0, n+1)\n",
    "failure = n - success\n",
    "x = np.stack([success, failure], axis=1)\n",
    "multinomial_probs = tfp.distributions.DirichletMultinomial(n, [.8, 2.], validate_args=True).prob(x)\n",
    "plt.scatter(success / n, multinomial_probs / multinomial_probs.numpy().max(), marker='+')\n",
    "\n",
    "n = 100\n",
    "success = np.arange(0, n+1)\n",
    "failure = n - success\n",
    "x = np.stack([success, failure], axis=1)\n",
    "multinomial_probs = tfp.distributions.DirichletMultinomial(n, [.8, 2.], validate_args=True).prob(x)\n",
    "plt.scatter(success / n, multinomial_probs / multinomial_probs.numpy().max(), marker='+')\n",
    "\n",
    "\n",
    "n = 1000\n",
    "success = np.arange(0, n+1)\n",
    "failure = n - success\n",
    "x = np.stack([success, failure], axis=1)\n",
    "multinomial_probs = tfp.distributions.DirichletMultinomial(n, [.8, 2.], validate_args=True).prob(x)\n",
    "plt.scatter(success / n, multinomial_probs / multinomial_probs.numpy().max(), marker='+')\n",
    "\n"
   ]
  },
  {
   "cell_type": "markdown",
   "metadata": {},
   "source": [
    "As you ask more people, the pdf of the observed fraction approximates the pdf of the pure dirichlet distribution\n",
    "ie. dirichlet multimonial approximates dirichlet for large N\n",
    "\n",
    "For training the model, we want dirichlet-multinomial, to account for our uncertainty int he true labels\n",
    "But for reporting our predictions, we want the dirichlet only, without the extra noise from how many people we ask.\n",
    "\n",
    "Bounds reported on the dirichlet must correspond to the same bounds on dirichlet-multimonial at high N, because the distributions approximate each other at high N"
   ]
  },
  {
   "cell_type": "code",
   "execution_count": 35,
   "metadata": {},
   "outputs": [],
   "source": [
    "from zoobot.estimators.dirichlet_stats import beta_confidence_interval"
   ]
  },
  {
   "cell_type": "code",
   "execution_count": 36,
   "metadata": {},
   "outputs": [
    {
     "data": {
      "text/plain": [
       "(0.14485585585585586, 0.3196806806806807)"
      ]
     },
     "execution_count": 36,
     "metadata": {},
     "output_type": "execute_result"
    }
   ],
   "source": [
    "beta_confidence_interval(10, 30, interval_width=.8)"
   ]
  },
  {
   "cell_type": "code",
   "execution_count": 37,
   "metadata": {},
   "outputs": [
    {
     "data": {
      "text/plain": [
       "(0.07192892892892894, 0.999)"
      ]
     },
     "execution_count": 37,
     "metadata": {},
     "output_type": "execute_result"
    }
   ],
   "source": [
    "beta_confidence_interval(1, 3, interval_width=.8)"
   ]
  },
  {
   "cell_type": "code",
   "execution_count": 38,
   "metadata": {},
   "outputs": [
    {
     "data": {
      "text/plain": [
       "(0.001, 0.4225775775775776)"
      ]
     },
     "execution_count": 38,
     "metadata": {},
     "output_type": "execute_result"
    }
   ],
   "source": [
    "beta_confidence_interval(2, 5, interval_width=.8)"
   ]
  },
  {
   "cell_type": "code",
   "execution_count": 39,
   "metadata": {},
   "outputs": [],
   "source": [
    "from zoobot.estimators.dirichlet_stats import DirichletEqualMixture"
   ]
  },
  {
   "cell_type": "code",
   "execution_count": 40,
   "metadata": {},
   "outputs": [
    {
     "data": {
      "text/plain": [
       "[<matplotlib.lines.Line2D at 0x7f441351eb10>]"
      ]
     },
     "execution_count": 40,
     "metadata": {},
     "output_type": "execute_result"
    },
    {
     "data": {
      "image/png": "[encoded data removed]",
      "text/plain": [
       "<Figure size 432x288 with 1 Axes>"
      ]
     },
     "metadata": {
      "needs_background": "light"
     },
     "output_type": "display_data"
    }
   ],
   "source": [
    "mixture_concentrations = np.array([[5., 4.], [6., 3.5]])\n",
    "with_batch = np.expand_dims(mixture_concentrations, axis=0)\n",
    "mixture = DirichletEqualMixture(with_batch)\n",
    "successes = np.linspace(0., 1.)\n",
    "x = np.stack([successes, 1-successes], axis=1)\n",
    "\n",
    "probs = mixture.prob(x)\n",
    "plt.plot(x[:, 0], probs, alpha=.3)\n",
    "\n",
    "mean_probs = mixture.mean_prob(x)\n",
    "plt.plot(x[:, 0], mean_probs)"
   ]
  },
  {
   "cell_type": "code",
   "execution_count": 41,
   "metadata": {},
   "outputs": [
    {
     "data": {
      "text/plain": [
       "<tf.Tensor: shape=(50,), dtype=float64, numpy=\n",
       "array([0.00000000e+00, 1.97156914e-04, 2.83932494e-03, 1.29086255e-02,\n",
       "       3.65517655e-02, 7.97534033e-02, 1.47418879e-01, 2.42797626e-01,\n",
       "       3.67185106e-01, 5.19847332e-01, 6.98118039e-01, 8.97624192e-01,\n",
       "       1.11260096e+00, 1.33626237e+00, 1.56119873e+00, 1.77977641e+00,\n",
       "       1.98451988e+00, 2.16845993e+00, 2.32543559e+00, 2.45034086e+00,\n",
       "       2.53931043e+00, 2.58984135e+00, 2.60085038e+00, 2.57266897e+00,\n",
       "       2.50697980e+00, 2.40670061e+00, 2.27582255e+00, 2.11921142e+00,\n",
       "       1.94238101e+00, 1.75124857e+00, 1.55188255e+00, 1.35025292e+00,\n",
       "       1.15199434e+00, 9.62191459e-01, 7.85195475e-01, 6.24479492e-01,\n",
       "       4.82539188e-01, 3.60843554e-01, 2.59838582e-01, 1.79004625e-01,\n",
       "       1.16965650e-01, 7.16458743e-02, 4.04662711e-02, 2.05700761e-02,\n",
       "       9.06288674e-03, 3.24904582e-03, 8.41866882e-04, 1.20822338e-04,\n",
       "       4.10743571e-06, 0.00000000e+00])>"
      ]
     },
     "execution_count": 41,
     "metadata": {},
     "output_type": "execute_result"
    }
   ],
   "source": [
    "mixture.distributions[0].prob(x)"
   ]
  },
  {
   "cell_type": "code",
   "execution_count": 42,
   "metadata": {},
   "outputs": [
    {
     "data": {
      "text/plain": [
       "[<matplotlib.lines.Line2D at 0x7f4413489d50>]"
      ]
     },
     "execution_count": 42,
     "metadata": {},
     "output_type": "execute_result"
    },
    {
     "data": {
      "image/png": "[encoded data removed]",
      "text/plain": [
       "<Figure size 432x288 with 1 Axes>"
      ]
     },
     "metadata": {
      "needs_background": "light"
     },
     "output_type": "display_data"
    }
   ],
   "source": [
    "beta_mixture = mixture.to_beta(answer_index=1, batch_dim=len(successes))\n",
    "\n",
    "x = successes\n",
    "probs = beta_mixture.prob(x)\n",
    "plt.plot(x, probs, alpha=.3)\n",
    "\n",
    "mean_probs = beta_mixture.mean_prob(x)\n",
    "plt.plot(x, mean_probs)"
   ]
  },
  {
   "cell_type": "code",
   "execution_count": 43,
   "metadata": {},
   "outputs": [
    {
     "data": {
      "text/plain": [
       "(50,)"
      ]
     },
     "execution_count": 43,
     "metadata": {},
     "output_type": "execute_result"
    }
   ],
   "source": [
    "x.shape"
   ]
  },
  {
   "cell_type": "code",
   "execution_count": null,
   "metadata": {},
   "outputs": [],
   "source": []
  },
  {
   "cell_type": "code",
   "execution_count": 44,
   "metadata": {},
   "outputs": [
    {
     "data": {
      "text/plain": [
       "(<tfp.distributions.Dirichlet 'Dirichlet' batch_shape=[1] event_shape=[2] dtype=float64>,\n",
       " <tfp.distributions.Beta 'Beta' batch_shape=[50] event_shape=[] dtype=float32>)"
      ]
     },
     "execution_count": 44,
     "metadata": {},
     "output_type": "execute_result"
    }
   ],
   "source": [
    "mixture.distributions[0], beta_mixture.distributions[0]"
   ]
  },
  {
   "cell_type": "code",
   "execution_count": 45,
   "metadata": {},
   "outputs": [
    {
     "data": {
      "text/plain": [
       "<tf.Tensor: shape=(50, 2), dtype=float32, numpy=\n",
       "array([[        -inf,         -inf],\n",
       "       [ -8.531511  ,  -7.1853776 ],\n",
       "       [ -5.86419   ,  -5.15857   ],\n",
       "       [ -4.34986   ,  -3.9959407 ],\n",
       "       [ -3.3090267 ,  -3.1878414 ],\n",
       "       [ -2.5288162 ,  -2.5745926 ],\n",
       "       [ -1.9144783 ,  -2.085102  ],\n",
       "       [ -1.4155273 ,  -1.6814761 ],\n",
       "       [ -1.0018902 ,  -1.3411255 ],\n",
       "       [ -0.6542206 ,  -1.0495076 ],\n",
       "       [ -0.35936737,  -0.796721  ],\n",
       "       [ -0.10800457,  -0.57572937],\n",
       "       [  0.10669994,  -0.3813653 ],\n",
       "       [  0.28987598,  -0.20973492],\n",
       "       [  0.44545364,  -0.05783844],\n",
       "       [  0.57648754,   0.0766716 ],\n",
       "       [  0.68537617,   0.19565487],\n",
       "       [  0.77401686,   0.30059958],\n",
       "       [  0.8439069 ,   0.39270306],\n",
       "       [  0.8962264 ,   0.47292995],\n",
       "       [  0.9318919 ,   0.5420561 ],\n",
       "       [  0.95159626,   0.60069823],\n",
       "       [  0.9558377 ,   0.6493392 ],\n",
       "       [  0.9449434 ,   0.6883435 ],\n",
       "       [  0.9190779 ,   0.71797085],\n",
       "       [  0.87825584,   0.7383816 ],\n",
       "       [  0.82234097,   0.7496445 ],\n",
       "       [  0.7510433 ,   0.75173616],\n",
       "       [  0.6639142 ,   0.74453926],\n",
       "       [  0.5603285 ,   0.7278378 ],\n",
       "       [  0.4394679 ,   0.70130897],\n",
       "       [  0.30029106,   0.6645105 ],\n",
       "       [  0.14149427,   0.6168606 ],\n",
       "       [ -0.03854179,   0.5576143 ],\n",
       "       [ -0.2418232 ,   0.4858265 ],\n",
       "       [ -0.4708376 ,   0.40030718],\n",
       "       [ -0.7286935 ,   0.29954958],\n",
       "       [ -1.0193119 ,   0.18164015],\n",
       "       [ -1.3476954 ,   0.0441165 ],\n",
       "       [ -1.7203436 ,  -0.1162324 ],\n",
       "       [ -2.145875  ,  -0.30368042],\n",
       "       [ -2.6360207 ,  -0.5240607 ],\n",
       "       [ -3.2072878 ,  -0.7855964 ],\n",
       "       [ -3.8839197 ,  -1.1003819 ],\n",
       "       [ -4.7035675 ,  -1.4872165 ],\n",
       "       [ -5.729393  ,  -1.9776564 ],\n",
       "       [ -7.079892  ,  -2.630927  ],\n",
       "       [ -9.021193  ,  -3.580071  ],\n",
       "       [-12.402716  ,  -5.249779  ],\n",
       "       [        -inf,         -inf]], dtype=float32)>"
      ]
     },
     "execution_count": 45,
     "metadata": {},
     "output_type": "execute_result"
    }
   ],
   "source": [
    "beta_mixture.log_prob(x)"
   ]
  },
  {
   "cell_type": "code",
   "execution_count": 46,
   "metadata": {},
   "outputs": [
    {
     "data": {
      "text/plain": [
       "<tfp.distributions.Beta 'Beta' batch_shape=[50] event_shape=[] dtype=float32>"
      ]
     },
     "execution_count": 46,
     "metadata": {},
     "output_type": "execute_result"
    }
   ],
   "source": [
    "beta_mixture.distributions[0]"
   ]
  },
  {
   "cell_type": "code",
   "execution_count": 47,
   "metadata": {},
   "outputs": [
    {
     "data": {
      "text/plain": [
       "<tf.Tensor: shape=(50,), dtype=float32, numpy=\n",
       "array([        -inf,  -8.531511  ,  -5.86419   ,  -4.34986   ,\n",
       "        -3.3090267 ,  -2.5288162 ,  -1.9144783 ,  -1.4155273 ,\n",
       "        -1.0018902 ,  -0.6542206 ,  -0.35936737,  -0.10800457,\n",
       "         0.10669994,   0.28987598,   0.44545364,   0.57648754,\n",
       "         0.68537617,   0.77401686,   0.8439069 ,   0.8962264 ,\n",
       "         0.9318919 ,   0.95159626,   0.9558377 ,   0.9449434 ,\n",
       "         0.9190779 ,   0.87825584,   0.82234097,   0.7510433 ,\n",
       "         0.6639142 ,   0.5603285 ,   0.4394679 ,   0.30029106,\n",
       "         0.14149427,  -0.03854179,  -0.2418232 ,  -0.4708376 ,\n",
       "        -0.7286935 ,  -1.0193119 ,  -1.3476954 ,  -1.7203436 ,\n",
       "        -2.145875  ,  -2.6360207 ,  -3.2072878 ,  -3.8839197 ,\n",
       "        -4.7035675 ,  -5.729393  ,  -7.079892  ,  -9.021193  ,\n",
       "       -12.402716  ,         -inf], dtype=float32)>"
      ]
     },
     "execution_count": 47,
     "metadata": {},
     "output_type": "execute_result"
    }
   ],
   "source": [
    "beta_mixture.distributions[0].log_prob(x)"
   ]
  },
  {
   "cell_type": "code",
   "execution_count": 48,
   "metadata": {},
   "outputs": [
    {
     "data": {
      "text/plain": [
       "<tf.Tensor: shape=(50,), dtype=float32, numpy=\n",
       "array([0.0000000e+00, 8.1885963e-07, 2.4020352e-05, 1.6698317e-04,\n",
       "       6.4328924e-04, 1.7921977e-03, 4.0653315e-03, 7.9982681e-03,\n",
       "       1.4173233e-02, 2.3178179e-02, 3.5566065e-02, 5.1817529e-02,\n",
       "       7.2309271e-02, 9.7289026e-02, 1.2685925e-01, 1.6096821e-01,\n",
       "       1.9940896e-01, 2.4182715e-01, 2.8773391e-01, 3.3652425e-01,\n",
       "       3.8750255e-01, 4.3990764e-01, 4.9294132e-01, 5.4579836e-01,\n",
       "       5.9769356e-01, 6.4788866e-01, 6.9571763e-01, 7.4060416e-01,\n",
       "       7.8207850e-01, 8.1978774e-01, 8.5350192e-01, 8.8311440e-01,\n",
       "       9.0863723e-01, 9.3019229e-01, 9.4799775e-01, 9.6235204e-01,\n",
       "       9.7361463e-01, 9.8218542e-01, 9.8848391e-01, 9.9292850e-01,\n",
       "       9.9591821e-01, 9.9781650e-01, 9.9893880e-01, 9.9954492e-01,\n",
       "       9.9983543e-01, 9.9995345e-01, 9.9999106e-01, 9.9999917e-01,\n",
       "       1.0000000e+00, 1.0000000e+00], dtype=float32)>"
      ]
     },
     "execution_count": 48,
     "metadata": {},
     "output_type": "execute_result"
    }
   ],
   "source": [
    "beta_mixture.distributions[0].cdf(x)"
   ]
  },
  {
   "cell_type": "code",
   "execution_count": null,
   "metadata": {},
   "outputs": [],
   "source": []
  },
  {
   "cell_type": "code",
   "execution_count": 49,
   "metadata": {},
   "outputs": [
    {
     "data": {
      "text/plain": [
       "<matplotlib.lines.Line2D at 0x7f44133fe190>"
      ]
     },
     "execution_count": 49,
     "metadata": {},
     "output_type": "execute_result"
    },
    {
     "data": {
      "image/png": "[encoded data removed]",
      "text/plain": [
       "<Figure size 432x288 with 1 Axes>"
      ]
     },
     "metadata": {
      "needs_background": "light"
     },
     "output_type": "display_data"
    }
   ],
   "source": [
    "plt.plot(successes, beta_mixture.cdf(x), alpha=.5)\n",
    "plt.plot(successes, beta_mixture.mean_cdf(x))\n",
    "\n",
    "mode = beta_mixture.mean_mode()\n",
    "upper, lower = beta_mixture.confidence_interval(0.8)\n",
    "plt.axvline(mode, color='k')\n",
    "plt.axvline(lower, color='r')\n",
    "plt.axvline(upper, color='r')"
   ]
  },
  {
   "cell_type": "code",
   "execution_count": 50,
   "metadata": {},
   "outputs": [
    {
     "data": {
      "text/plain": [
       "<matplotlib.lines.Line2D at 0x7f44133f2ed0>"
      ]
     },
     "execution_count": 50,
     "metadata": {},
     "output_type": "execute_result"
    },
    {
     "data": {
      "image/png": "[encoded data removed]",
      "text/plain": [
       "<Figure size 432x288 with 1 Axes>"
      ]
     },
     "metadata": {
      "needs_background": "light"
     },
     "output_type": "display_data"
    }
   ],
   "source": [
    "\n",
    "plt.plot(x, probs, alpha=.3)\n",
    "\n",
    "mean_probs = beta_mixture.mean_prob(x)\n",
    "plt.plot(x, mean_probs)\n",
    "upper, lower = beta_mixture.confidence_interval(0.8)\n",
    "plt.axvline(lower, color='r')\n",
    "plt.axvline(upper, color='r')\n",
    "plt.axvline(mode, color='k')\n",
    "plt.xlabel('Concentration[0]')\n",
    "plt.ylabel('')"
   ]
  },
  {
   "cell_type": "code",
   "execution_count": 51,
   "metadata": {},
   "outputs": [],
   "source": [
    "beta = tfp.distributions.Beta(1.2, 1.4)"
   ]
  },
  {
   "cell_type": "code",
   "execution_count": 52,
   "metadata": {},
   "outputs": [
    {
     "data": {
      "text/plain": [
       "<tf.Tensor: shape=(50,), dtype=float32, numpy=\n",
       "array([0.        , 0.7991447 , 0.91027814, 0.9787153 , 1.0276045 ,\n",
       "       1.0648885 , 1.0943258 , 1.1180168 , 1.137262  , 1.1529262 ,\n",
       "       1.1656144 , 1.1757662 , 1.1837118 , 1.1897035 , 1.1939381 ,\n",
       "       1.1965721 , 1.1977291 , 1.197509  , 1.1959918 , 1.1932412 ,\n",
       "       1.1893077 , 1.1842301 , 1.1780374 , 1.1707494 , 1.1623777 ,\n",
       "       1.1529263 , 1.1423912 , 1.1307611 , 1.1180168 , 1.1041311 ,\n",
       "       1.0890673 , 1.0727793 , 1.0552094 , 1.0362865 , 1.0159242 ,\n",
       "       0.99401706, 0.97043604, 0.945022  , 0.91757774, 0.88785493,\n",
       "       0.8555355 , 0.82020384, 0.7813005 , 0.73804563, 0.6892989 ,\n",
       "       0.63327986, 0.5669294 , 0.48412842, 0.36844888, 0.        ],\n",
       "      dtype=float32)>"
      ]
     },
     "execution_count": 52,
     "metadata": {},
     "output_type": "execute_result"
    }
   ],
   "source": [
    "beta.prob(x)"
   ]
  },
  {
   "cell_type": "code",
   "execution_count": 53,
   "metadata": {},
   "outputs": [
    {
     "data": {
      "text/plain": [
       "<tf.Tensor: shape=(50,), dtype=float32, numpy=\n",
       "array([0.        , 0.01364217, 0.03119951, 0.05051949, 0.07101663,\n",
       "       0.0923844 , 0.11442844, 0.13701184, 0.16003162, 0.18340638,\n",
       "       0.2070696 , 0.23096524, 0.25504512, 0.27926677, 0.3035926 ,\n",
       "       0.32798806, 0.35242203, 0.37686563, 0.40129125, 0.42567316,\n",
       "       0.44998696, 0.47420853, 0.49831527, 0.5222845 , 0.5460937 ,\n",
       "       0.56972104, 0.5931446 , 0.61634177, 0.63929045, 0.66196734,\n",
       "       0.68434894, 0.70641077, 0.7281271 , 0.7494713 , 0.7704148 ,\n",
       "       0.7909271 , 0.8109755 , 0.8305243 , 0.84953403, 0.86796093,\n",
       "       0.8857554 , 0.90286034, 0.9192089 , 0.93472064, 0.94929594,\n",
       "       0.96280605, 0.97507447, 0.9858359 , 0.9946197 , 1.        ],\n",
       "      dtype=float32)>"
      ]
     },
     "execution_count": 53,
     "metadata": {},
     "output_type": "execute_result"
    }
   ],
   "source": [
    "beta.cdf(x)"
   ]
  },
  {
   "cell_type": "code",
   "execution_count": 54,
   "metadata": {},
   "outputs": [
    {
     "data": {
      "text/plain": [
       "<tfp.distributions.Beta 'Beta' batch_shape=[] event_shape=[] dtype=float32>"
      ]
     },
     "execution_count": 54,
     "metadata": {},
     "output_type": "execute_result"
    }
   ],
   "source": [
    "beta"
   ]
  },
  {
   "cell_type": "code",
   "execution_count": 55,
   "metadata": {},
   "outputs": [
    {
     "data": {
      "text/plain": [
       "<tf.Tensor: shape=(50,), dtype=float32, numpy=\n",
       "array([0.        , 0.7991447 , 0.91027814, 0.9787153 , 1.0276045 ,\n",
       "       1.0648885 , 1.0943258 , 1.1180168 , 1.137262  , 1.1529262 ,\n",
       "       1.1656144 , 1.1757662 , 1.1837118 , 1.1897035 , 1.1939381 ,\n",
       "       1.1965721 , 1.1977291 , 1.197509  , 1.1959918 , 1.1932412 ,\n",
       "       1.1893077 , 1.1842301 , 1.1780374 , 1.1707494 , 1.1623777 ,\n",
       "       1.1529263 , 1.1423912 , 1.1307611 , 1.1180168 , 1.1041311 ,\n",
       "       1.0890673 , 1.0727793 , 1.0552094 , 1.0362865 , 1.0159242 ,\n",
       "       0.99401706, 0.97043604, 0.945022  , 0.91757774, 0.88785493,\n",
       "       0.8555355 , 0.82020384, 0.7813005 , 0.73804563, 0.6892989 ,\n",
       "       0.63327986, 0.5669294 , 0.48412842, 0.36844888, 0.        ],\n",
       "      dtype=float32)>"
      ]
     },
     "execution_count": 55,
     "metadata": {},
     "output_type": "execute_result"
    }
   ],
   "source": [
    "beta = tfp.distributions.Beta([1.2], [1.4])\n",
    "beta.prob(x)  # supports batch shape 1 -> batch shape None"
   ]
  },
  {
   "cell_type": "code",
   "execution_count": 56,
   "metadata": {},
   "outputs": [
    {
     "ename": "InvalidArgumentError",
     "evalue": "Shapes of a and x are inconsistent: [1] vs. [50] [Op:Betainc]",
     "output_type": "error",
     "traceback": [
      "\u001b[0;31m---------------------------------------------------------------------------\u001b[0m",
      "\u001b[0;31mInvalidArgumentError\u001b[0m                      Traceback (most recent call last)",
      "\u001b[0;32m<ipython-input-56-6fa25b963a27>\u001b[0m in \u001b[0;36m<module>\u001b[0;34m\u001b[0m\n\u001b[0;32m----> 1\u001b[0;31m \u001b[0mbeta\u001b[0m\u001b[0;34m.\u001b[0m\u001b[0mcdf\u001b[0m\u001b[0;34m(\u001b[0m\u001b[0mx\u001b[0m\u001b[0;34m)\u001b[0m  \u001b[0;31m# does not support batch shape 1 -> batch shape None\u001b[0m\u001b[0;34m\u001b[0m\u001b[0;34m\u001b[0m\u001b[0m\n\u001b[0m",
      "\u001b[0;32m~/anaconda3/envs/zoobot/lib/python3.7/site-packages/tensorflow_probability/python/distributions/distribution.py\u001b[0m in \u001b[0;36mcdf\u001b[0;34m(self, value, name, **kwargs)\u001b[0m\n\u001b[1;32m   1053\u001b[0m         \u001b[0mvalues\u001b[0m \u001b[0mof\u001b[0m \u001b[0mtype\u001b[0m\u001b[0;31m \u001b[0m\u001b[0;31m`\u001b[0m\u001b[0mself\u001b[0m\u001b[0;34m.\u001b[0m\u001b[0mdtype\u001b[0m\u001b[0;31m`\u001b[0m\u001b[0;34m.\u001b[0m\u001b[0;34m\u001b[0m\u001b[0;34m\u001b[0m\u001b[0m\n\u001b[1;32m   1054\u001b[0m     \"\"\"\n\u001b[0;32m-> 1055\u001b[0;31m     \u001b[0;32mreturn\u001b[0m \u001b[0mself\u001b[0m\u001b[0;34m.\u001b[0m\u001b[0m_call_cdf\u001b[0m\u001b[0;34m(\u001b[0m\u001b[0mvalue\u001b[0m\u001b[0;34m,\u001b[0m \u001b[0mname\u001b[0m\u001b[0;34m,\u001b[0m \u001b[0;34m**\u001b[0m\u001b[0mkwargs\u001b[0m\u001b[0;34m)\u001b[0m\u001b[0;34m\u001b[0m\u001b[0;34m\u001b[0m\u001b[0m\n\u001b[0m\u001b[1;32m   1056\u001b[0m \u001b[0;34m\u001b[0m\u001b[0m\n\u001b[1;32m   1057\u001b[0m   \u001b[0;32mdef\u001b[0m \u001b[0m_log_survival_function\u001b[0m\u001b[0;34m(\u001b[0m\u001b[0mself\u001b[0m\u001b[0;34m,\u001b[0m \u001b[0mvalue\u001b[0m\u001b[0;34m,\u001b[0m \u001b[0;34m**\u001b[0m\u001b[0mkwargs\u001b[0m\u001b[0;34m)\u001b[0m\u001b[0;34m:\u001b[0m\u001b[0;34m\u001b[0m\u001b[0;34m\u001b[0m\u001b[0m\n",
      "\u001b[0;32m~/anaconda3/envs/zoobot/lib/python3.7/site-packages/tensorflow_probability/python/distributions/distribution.py\u001b[0m in \u001b[0;36m_call_cdf\u001b[0;34m(self, value, name, **kwargs)\u001b[0m\n\u001b[1;32m   1029\u001b[0m     \u001b[0;32mwith\u001b[0m \u001b[0mself\u001b[0m\u001b[0;34m.\u001b[0m\u001b[0m_name_and_control_scope\u001b[0m\u001b[0;34m(\u001b[0m\u001b[0mname\u001b[0m\u001b[0;34m,\u001b[0m \u001b[0mvalue\u001b[0m\u001b[0;34m,\u001b[0m \u001b[0mkwargs\u001b[0m\u001b[0;34m)\u001b[0m\u001b[0;34m:\u001b[0m\u001b[0;34m\u001b[0m\u001b[0;34m\u001b[0m\u001b[0m\n\u001b[1;32m   1030\u001b[0m       \u001b[0;32mif\u001b[0m \u001b[0mhasattr\u001b[0m\u001b[0;34m(\u001b[0m\u001b[0mself\u001b[0m\u001b[0;34m,\u001b[0m \u001b[0;34m'_cdf'\u001b[0m\u001b[0;34m)\u001b[0m\u001b[0;34m:\u001b[0m\u001b[0;34m\u001b[0m\u001b[0;34m\u001b[0m\u001b[0m\n\u001b[0;32m-> 1031\u001b[0;31m         \u001b[0;32mreturn\u001b[0m \u001b[0mself\u001b[0m\u001b[0;34m.\u001b[0m\u001b[0m_cdf\u001b[0m\u001b[0;34m(\u001b[0m\u001b[0mvalue\u001b[0m\u001b[0;34m,\u001b[0m \u001b[0;34m**\u001b[0m\u001b[0mkwargs\u001b[0m\u001b[0;34m)\u001b[0m\u001b[0;34m\u001b[0m\u001b[0;34m\u001b[0m\u001b[0m\n\u001b[0m\u001b[1;32m   1032\u001b[0m       \u001b[0;32mif\u001b[0m \u001b[0mhasattr\u001b[0m\u001b[0;34m(\u001b[0m\u001b[0mself\u001b[0m\u001b[0;34m,\u001b[0m \u001b[0;34m'_log_cdf'\u001b[0m\u001b[0;34m)\u001b[0m\u001b[0;34m:\u001b[0m\u001b[0;34m\u001b[0m\u001b[0;34m\u001b[0m\u001b[0m\n\u001b[1;32m   1033\u001b[0m         \u001b[0;32mreturn\u001b[0m \u001b[0mtf\u001b[0m\u001b[0;34m.\u001b[0m\u001b[0mexp\u001b[0m\u001b[0;34m(\u001b[0m\u001b[0mself\u001b[0m\u001b[0;34m.\u001b[0m\u001b[0m_log_cdf\u001b[0m\u001b[0;34m(\u001b[0m\u001b[0mvalue\u001b[0m\u001b[0;34m,\u001b[0m \u001b[0;34m**\u001b[0m\u001b[0mkwargs\u001b[0m\u001b[0;34m)\u001b[0m\u001b[0;34m)\u001b[0m\u001b[0;34m\u001b[0m\u001b[0;34m\u001b[0m\u001b[0m\n",
      "\u001b[0;32m~/anaconda3/envs/zoobot/lib/python3.7/site-packages/tensorflow_probability/python/internal/distribution_util.py\u001b[0m in \u001b[0;36m_fn\u001b[0;34m(*args, **kwargs)\u001b[0m\n\u001b[1;32m   1322\u001b[0m     \u001b[0;34m@\u001b[0m\u001b[0mfunctools\u001b[0m\u001b[0;34m.\u001b[0m\u001b[0mwraps\u001b[0m\u001b[0;34m(\u001b[0m\u001b[0mfn\u001b[0m\u001b[0;34m)\u001b[0m\u001b[0;34m\u001b[0m\u001b[0;34m\u001b[0m\u001b[0m\n\u001b[1;32m   1323\u001b[0m     \u001b[0;32mdef\u001b[0m \u001b[0m_fn\u001b[0m\u001b[0;34m(\u001b[0m\u001b[0;34m*\u001b[0m\u001b[0margs\u001b[0m\u001b[0;34m,\u001b[0m \u001b[0;34m**\u001b[0m\u001b[0mkwargs\u001b[0m\u001b[0;34m)\u001b[0m\u001b[0;34m:\u001b[0m\u001b[0;34m\u001b[0m\u001b[0;34m\u001b[0m\u001b[0m\n\u001b[0;32m-> 1324\u001b[0;31m       \u001b[0;32mreturn\u001b[0m \u001b[0mfn\u001b[0m\u001b[0;34m(\u001b[0m\u001b[0;34m*\u001b[0m\u001b[0margs\u001b[0m\u001b[0;34m,\u001b[0m \u001b[0;34m**\u001b[0m\u001b[0mkwargs\u001b[0m\u001b[0;34m)\u001b[0m\u001b[0;34m\u001b[0m\u001b[0;34m\u001b[0m\u001b[0m\n\u001b[0m\u001b[1;32m   1325\u001b[0m \u001b[0;34m\u001b[0m\u001b[0m\n\u001b[1;32m   1326\u001b[0m     \u001b[0;32mif\u001b[0m \u001b[0m_fn\u001b[0m\u001b[0;34m.\u001b[0m\u001b[0m__doc__\u001b[0m \u001b[0;32mis\u001b[0m \u001b[0;32mNone\u001b[0m\u001b[0;34m:\u001b[0m\u001b[0;34m\u001b[0m\u001b[0;34m\u001b[0m\u001b[0m\n",
      "\u001b[0;32m~/anaconda3/envs/zoobot/lib/python3.7/site-packages/tensorflow_probability/python/distributions/beta.py\u001b[0m in \u001b[0;36m_cdf\u001b[0;34m(self, x)\u001b[0m\n\u001b[1;32m    270\u001b[0m     \u001b[0mconcentration1\u001b[0m \u001b[0;34m=\u001b[0m \u001b[0mtf\u001b[0m\u001b[0;34m.\u001b[0m\u001b[0mbroadcast_to\u001b[0m\u001b[0;34m(\u001b[0m\u001b[0mconcentration1\u001b[0m\u001b[0;34m,\u001b[0m \u001b[0mshape\u001b[0m\u001b[0;34m)\u001b[0m\u001b[0;34m\u001b[0m\u001b[0;34m\u001b[0m\u001b[0m\n\u001b[1;32m    271\u001b[0m     \u001b[0mconcentration0\u001b[0m \u001b[0;34m=\u001b[0m \u001b[0mtf\u001b[0m\u001b[0;34m.\u001b[0m\u001b[0mbroadcast_to\u001b[0m\u001b[0;34m(\u001b[0m\u001b[0mconcentration0\u001b[0m\u001b[0;34m,\u001b[0m \u001b[0mshape\u001b[0m\u001b[0;34m)\u001b[0m\u001b[0;34m\u001b[0m\u001b[0;34m\u001b[0m\u001b[0m\n\u001b[0;32m--> 272\u001b[0;31m     \u001b[0;32mreturn\u001b[0m \u001b[0mtf\u001b[0m\u001b[0;34m.\u001b[0m\u001b[0mmath\u001b[0m\u001b[0;34m.\u001b[0m\u001b[0mbetainc\u001b[0m\u001b[0;34m(\u001b[0m\u001b[0mconcentration1\u001b[0m\u001b[0;34m,\u001b[0m \u001b[0mconcentration0\u001b[0m\u001b[0;34m,\u001b[0m \u001b[0mx\u001b[0m\u001b[0;34m)\u001b[0m\u001b[0;34m\u001b[0m\u001b[0;34m\u001b[0m\u001b[0m\n\u001b[0m\u001b[1;32m    273\u001b[0m \u001b[0;34m\u001b[0m\u001b[0m\n\u001b[1;32m    274\u001b[0m   \u001b[0;32mdef\u001b[0m \u001b[0m_log_unnormalized_prob\u001b[0m\u001b[0;34m(\u001b[0m\u001b[0mself\u001b[0m\u001b[0;34m,\u001b[0m \u001b[0mx\u001b[0m\u001b[0;34m,\u001b[0m \u001b[0mconcentration1\u001b[0m\u001b[0;34m,\u001b[0m \u001b[0mconcentration0\u001b[0m\u001b[0;34m)\u001b[0m\u001b[0;34m:\u001b[0m\u001b[0;34m\u001b[0m\u001b[0;34m\u001b[0m\u001b[0m\n",
      "\u001b[0;32m~/anaconda3/envs/zoobot/lib/python3.7/site-packages/tensorflow/python/ops/gen_math_ops.py\u001b[0m in \u001b[0;36mbetainc\u001b[0;34m(a, b, x, name)\u001b[0m\n\u001b[1;32m   1633\u001b[0m       \u001b[0;32mreturn\u001b[0m \u001b[0m_result\u001b[0m\u001b[0;34m\u001b[0m\u001b[0;34m\u001b[0m\u001b[0m\n\u001b[1;32m   1634\u001b[0m     \u001b[0;32mexcept\u001b[0m \u001b[0m_core\u001b[0m\u001b[0;34m.\u001b[0m\u001b[0m_NotOkStatusException\u001b[0m \u001b[0;32mas\u001b[0m \u001b[0me\u001b[0m\u001b[0;34m:\u001b[0m\u001b[0;34m\u001b[0m\u001b[0;34m\u001b[0m\u001b[0m\n\u001b[0;32m-> 1635\u001b[0;31m       \u001b[0m_ops\u001b[0m\u001b[0;34m.\u001b[0m\u001b[0mraise_from_not_ok_status\u001b[0m\u001b[0;34m(\u001b[0m\u001b[0me\u001b[0m\u001b[0;34m,\u001b[0m \u001b[0mname\u001b[0m\u001b[0;34m)\u001b[0m\u001b[0;34m\u001b[0m\u001b[0;34m\u001b[0m\u001b[0m\n\u001b[0m\u001b[1;32m   1636\u001b[0m     \u001b[0;32mexcept\u001b[0m \u001b[0m_core\u001b[0m\u001b[0;34m.\u001b[0m\u001b[0m_FallbackException\u001b[0m\u001b[0;34m:\u001b[0m\u001b[0;34m\u001b[0m\u001b[0;34m\u001b[0m\u001b[0m\n\u001b[1;32m   1637\u001b[0m       \u001b[0;32mpass\u001b[0m\u001b[0;34m\u001b[0m\u001b[0;34m\u001b[0m\u001b[0m\n",
      "\u001b[0;32m~/anaconda3/envs/zoobot/lib/python3.7/site-packages/tensorflow/python/framework/ops.py\u001b[0m in \u001b[0;36mraise_from_not_ok_status\u001b[0;34m(e, name)\u001b[0m\n\u001b[1;32m   6841\u001b[0m   \u001b[0mmessage\u001b[0m \u001b[0;34m=\u001b[0m \u001b[0me\u001b[0m\u001b[0;34m.\u001b[0m\u001b[0mmessage\u001b[0m \u001b[0;34m+\u001b[0m \u001b[0;34m(\u001b[0m\u001b[0;34m\" name: \"\u001b[0m \u001b[0;34m+\u001b[0m \u001b[0mname\u001b[0m \u001b[0;32mif\u001b[0m \u001b[0mname\u001b[0m \u001b[0;32mis\u001b[0m \u001b[0;32mnot\u001b[0m \u001b[0;32mNone\u001b[0m \u001b[0;32melse\u001b[0m \u001b[0;34m\"\"\u001b[0m\u001b[0;34m)\u001b[0m\u001b[0;34m\u001b[0m\u001b[0;34m\u001b[0m\u001b[0m\n\u001b[1;32m   6842\u001b[0m   \u001b[0;31m# pylint: disable=protected-access\u001b[0m\u001b[0;34m\u001b[0m\u001b[0;34m\u001b[0m\u001b[0;34m\u001b[0m\u001b[0m\n\u001b[0;32m-> 6843\u001b[0;31m   \u001b[0msix\u001b[0m\u001b[0;34m.\u001b[0m\u001b[0mraise_from\u001b[0m\u001b[0;34m(\u001b[0m\u001b[0mcore\u001b[0m\u001b[0;34m.\u001b[0m\u001b[0m_status_to_exception\u001b[0m\u001b[0;34m(\u001b[0m\u001b[0me\u001b[0m\u001b[0;34m.\u001b[0m\u001b[0mcode\u001b[0m\u001b[0;34m,\u001b[0m \u001b[0mmessage\u001b[0m\u001b[0;34m)\u001b[0m\u001b[0;34m,\u001b[0m \u001b[0;32mNone\u001b[0m\u001b[0;34m)\u001b[0m\u001b[0;34m\u001b[0m\u001b[0;34m\u001b[0m\u001b[0m\n\u001b[0m\u001b[1;32m   6844\u001b[0m   \u001b[0;31m# pylint: enable=protected-access\u001b[0m\u001b[0;34m\u001b[0m\u001b[0;34m\u001b[0m\u001b[0;34m\u001b[0m\u001b[0m\n\u001b[1;32m   6845\u001b[0m \u001b[0;34m\u001b[0m\u001b[0m\n",
      "\u001b[0;32m~/anaconda3/envs/zoobot/lib/python3.7/site-packages/six.py\u001b[0m in \u001b[0;36mraise_from\u001b[0;34m(value, from_value)\u001b[0m\n",
      "\u001b[0;31mInvalidArgumentError\u001b[0m: Shapes of a and x are inconsistent: [1] vs. [50] [Op:Betainc]"
     ]
    }
   ],
   "source": [
    "beta.cdf(x)  # does not support batch shape 1 -> batch shape None"
   ]
  },
  {
   "cell_type": "code",
   "execution_count": null,
   "metadata": {},
   "outputs": [],
   "source": []
  }
 ],
 "metadata": {
  "kernelspec": {
   "display_name": "Python 3",
   "language": "python",
   "name": "python3"
  },
  "language_info": {
   "codemirror_mode": {
    "name": "ipython",
    "version": 3
   },
   "file_extension": ".py",
   "mimetype": "text/x-python",
   "name": "python",
   "nbconvert_exporter": "python",
   "pygments_lexer": "ipython3",
   "version": "3.7.6"
  }
 },
 "nbformat": 4,
 "nbformat_minor": 4
}
