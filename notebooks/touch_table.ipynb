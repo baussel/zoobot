{
 "cells": [
  {
   "cell_type": "code",
   "execution_count": 74,
   "metadata": {},
   "outputs": [
    {
     "name": "stdout",
     "output_type": "stream",
     "text": [
      "The autoreload extension is already loaded. To reload it, use:\n",
      "  %reload_ext autoreload\n"
     ]
    }
   ],
   "source": [
    "%load_ext autoreload\n",
    "%autoreload 2\n",
    "%matplotlib inline"
   ]
  },
  {
   "cell_type": "code",
   "execution_count": 104,
   "metadata": {},
   "outputs": [],
   "source": [
    "import os\n",
    "import json\n",
    "\n",
    "import numpy as np\n",
    "import pandas as pd\n",
    "import seaborn as sns\n",
    "sns.set_context('notebook')\n",
    "import matplotlib.pyplot as plt\n",
    "from PIL import Image"
   ]
  },
  {
   "cell_type": "markdown",
   "metadata": {},
   "source": [
    "For the subjects that have received enough classifications to retire\n",
    "- what fraction of subjects pass a threshold to be confident in the consensus result? \n",
    "- Could you provide your ‘expert classification’ for a subset and compare your expert classification with the consensus result? \n",
    "    - How well does the consensus result match up with your expert classification? Any stats/info that you think can be helpful for me to show how well (or not well) our museum guests do would be helpful.\n",
    "- What is the current retirement limit? Do you think that should be increased/decreased/stay the same based on the results so far? A"
   ]
  },
  {
   "cell_type": "code",
   "execution_count": 76,
   "metadata": {},
   "outputs": [],
   "source": [
    "df = pd.read_csv('touch_table_subject_reductions_2019_10_15.csv')"
   ]
  },
  {
   "cell_type": "code",
   "execution_count": 77,
   "metadata": {},
   "outputs": [
    {
     "data": {
      "text/html": [
       "<div>\n",
       "<style scoped>\n",
       "    .dataframe tbody tr th:only-of-type {\n",
       "        vertical-align: middle;\n",
       "    }\n",
       "\n",
       "    .dataframe tbody tr th {\n",
       "        vertical-align: top;\n",
       "    }\n",
       "\n",
       "    .dataframe thead th {\n",
       "        text-align: right;\n",
       "    }\n",
       "</style>\n",
       "<table border=\"1\" class=\"dataframe\">\n",
       "  <thead>\n",
       "    <tr style=\"text-align: right;\">\n",
       "      <th></th>\n",
       "      <th>id</th>\n",
       "      <th>reducer_key</th>\n",
       "      <th>workflow_id</th>\n",
       "      <th>subject_id</th>\n",
       "      <th>created_at</th>\n",
       "      <th>updated_at</th>\n",
       "      <th>subgroup</th>\n",
       "      <th>lock_version</th>\n",
       "      <th>reducible_id</th>\n",
       "      <th>reducible_type</th>\n",
       "      <th>data.0</th>\n",
       "      <th>data.1</th>\n",
       "      <th>data.2</th>\n",
       "    </tr>\n",
       "  </thead>\n",
       "  <tbody>\n",
       "    <tr>\n",
       "      <th>0</th>\n",
       "      <td>31463358</td>\n",
       "      <td>T0_Stats</td>\n",
       "      <td>11308</td>\n",
       "      <td>30088075</td>\n",
       "      <td>2019-07-09 19:18:19 UTC</td>\n",
       "      <td>2019-10-07 15:16:01 UTC</td>\n",
       "      <td>_default</td>\n",
       "      <td>5</td>\n",
       "      <td>11308</td>\n",
       "      <td>Workflow</td>\n",
       "      <td>6.0</td>\n",
       "      <td>NaN</td>\n",
       "      <td>1.0</td>\n",
       "    </tr>\n",
       "    <tr>\n",
       "      <th>1</th>\n",
       "      <td>31463992</td>\n",
       "      <td>T0_Stats</td>\n",
       "      <td>11308</td>\n",
       "      <td>30087878</td>\n",
       "      <td>2019-07-09 19:24:31 UTC</td>\n",
       "      <td>2019-09-29 18:19:49 UTC</td>\n",
       "      <td>_default</td>\n",
       "      <td>10</td>\n",
       "      <td>11308</td>\n",
       "      <td>Workflow</td>\n",
       "      <td>6.0</td>\n",
       "      <td>4.0</td>\n",
       "      <td>1.0</td>\n",
       "    </tr>\n",
       "    <tr>\n",
       "      <th>2</th>\n",
       "      <td>31468444</td>\n",
       "      <td>T0_Stats</td>\n",
       "      <td>11308</td>\n",
       "      <td>30085221</td>\n",
       "      <td>2019-07-09 20:05:17 UTC</td>\n",
       "      <td>2019-10-15 20:03:51 UTC</td>\n",
       "      <td>_default</td>\n",
       "      <td>10</td>\n",
       "      <td>11308</td>\n",
       "      <td>Workflow</td>\n",
       "      <td>6.0</td>\n",
       "      <td>3.0</td>\n",
       "      <td>2.0</td>\n",
       "    </tr>\n",
       "    <tr>\n",
       "      <th>3</th>\n",
       "      <td>31468451</td>\n",
       "      <td>T0_Stats</td>\n",
       "      <td>11308</td>\n",
       "      <td>34084204</td>\n",
       "      <td>2019-07-09 20:05:23 UTC</td>\n",
       "      <td>2019-07-29 17:34:31 UTC</td>\n",
       "      <td>_default</td>\n",
       "      <td>7</td>\n",
       "      <td>11308</td>\n",
       "      <td>Workflow</td>\n",
       "      <td>NaN</td>\n",
       "      <td>5.0</td>\n",
       "      <td>3.0</td>\n",
       "    </tr>\n",
       "    <tr>\n",
       "      <th>4</th>\n",
       "      <td>31470164</td>\n",
       "      <td>T0_Stats</td>\n",
       "      <td>11308</td>\n",
       "      <td>30089260</td>\n",
       "      <td>2019-07-09 20:27:03 UTC</td>\n",
       "      <td>2019-09-21 20:06:28 UTC</td>\n",
       "      <td>_default</td>\n",
       "      <td>4</td>\n",
       "      <td>11308</td>\n",
       "      <td>Workflow</td>\n",
       "      <td>NaN</td>\n",
       "      <td>6.0</td>\n",
       "      <td>1.0</td>\n",
       "    </tr>\n",
       "  </tbody>\n",
       "</table>\n",
       "</div>"
      ],
      "text/plain": [
       "         id reducer_key  workflow_id  subject_id               created_at  \\\n",
       "0  31463358    T0_Stats        11308    30088075  2019-07-09 19:18:19 UTC   \n",
       "1  31463992    T0_Stats        11308    30087878  2019-07-09 19:24:31 UTC   \n",
       "2  31468444    T0_Stats        11308    30085221  2019-07-09 20:05:17 UTC   \n",
       "3  31468451    T0_Stats        11308    34084204  2019-07-09 20:05:23 UTC   \n",
       "4  31470164    T0_Stats        11308    30089260  2019-07-09 20:27:03 UTC   \n",
       "\n",
       "                updated_at  subgroup  lock_version  reducible_id  \\\n",
       "0  2019-10-07 15:16:01 UTC  _default             5         11308   \n",
       "1  2019-09-29 18:19:49 UTC  _default            10         11308   \n",
       "2  2019-10-15 20:03:51 UTC  _default            10         11308   \n",
       "3  2019-07-29 17:34:31 UTC  _default             7         11308   \n",
       "4  2019-09-21 20:06:28 UTC  _default             4         11308   \n",
       "\n",
       "  reducible_type  data.0  data.1  data.2  \n",
       "0       Workflow     6.0     NaN     1.0  \n",
       "1       Workflow     6.0     4.0     1.0  \n",
       "2       Workflow     6.0     3.0     2.0  \n",
       "3       Workflow     NaN     5.0     3.0  \n",
       "4       Workflow     NaN     6.0     1.0  "
      ]
     },
     "execution_count": 77,
     "metadata": {},
     "output_type": "execute_result"
    }
   ],
   "source": [
    "df.head()"
   ]
  },
  {
   "cell_type": "code",
   "execution_count": 78,
   "metadata": {},
   "outputs": [],
   "source": [
    "df = df.rename(columns={'id': 'extract_id_do_not_use', 'data.0': 'smooth', 'data.1': 'featured', 'data.2': 'artifact'})"
   ]
  },
  {
   "cell_type": "code",
   "execution_count": 79,
   "metadata": {},
   "outputs": [],
   "source": [
    "df = df.fillna(0)"
   ]
  },
  {
   "cell_type": "code",
   "execution_count": 80,
   "metadata": {},
   "outputs": [],
   "source": [
    "df['subject_id'] = df['subject_id'].astype(str)"
   ]
  },
  {
   "cell_type": "code",
   "execution_count": 81,
   "metadata": {},
   "outputs": [],
   "source": [
    "df['total'] = df['smooth'] + df['featured'] + df['artifact']\n",
    "for col in ['smooth', 'featured', 'artifact']:\n",
    "    df[col + '_fraction'] = df[col] / df['total']"
   ]
  },
  {
   "cell_type": "code",
   "execution_count": 82,
   "metadata": {},
   "outputs": [
    {
     "data": {
      "text/html": [
       "<div>\n",
       "<style scoped>\n",
       "    .dataframe tbody tr th:only-of-type {\n",
       "        vertical-align: middle;\n",
       "    }\n",
       "\n",
       "    .dataframe tbody tr th {\n",
       "        vertical-align: top;\n",
       "    }\n",
       "\n",
       "    .dataframe thead th {\n",
       "        text-align: right;\n",
       "    }\n",
       "</style>\n",
       "<table border=\"1\" class=\"dataframe\">\n",
       "  <thead>\n",
       "    <tr style=\"text-align: right;\">\n",
       "      <th></th>\n",
       "      <th>extract_id_do_not_use</th>\n",
       "      <th>reducer_key</th>\n",
       "      <th>workflow_id</th>\n",
       "      <th>subject_id</th>\n",
       "      <th>created_at</th>\n",
       "      <th>updated_at</th>\n",
       "      <th>subgroup</th>\n",
       "      <th>lock_version</th>\n",
       "      <th>reducible_id</th>\n",
       "      <th>reducible_type</th>\n",
       "      <th>smooth</th>\n",
       "      <th>featured</th>\n",
       "      <th>artifact</th>\n",
       "      <th>total</th>\n",
       "      <th>smooth_fraction</th>\n",
       "      <th>featured_fraction</th>\n",
       "      <th>artifact_fraction</th>\n",
       "    </tr>\n",
       "  </thead>\n",
       "  <tbody>\n",
       "    <tr>\n",
       "      <th>0</th>\n",
       "      <td>31463358</td>\n",
       "      <td>T0_Stats</td>\n",
       "      <td>11308</td>\n",
       "      <td>30088075</td>\n",
       "      <td>2019-07-09 19:18:19 UTC</td>\n",
       "      <td>2019-10-07 15:16:01 UTC</td>\n",
       "      <td>_default</td>\n",
       "      <td>5</td>\n",
       "      <td>11308</td>\n",
       "      <td>Workflow</td>\n",
       "      <td>6.0</td>\n",
       "      <td>0.0</td>\n",
       "      <td>1.0</td>\n",
       "      <td>7.0</td>\n",
       "      <td>0.857143</td>\n",
       "      <td>0.000000</td>\n",
       "      <td>0.142857</td>\n",
       "    </tr>\n",
       "    <tr>\n",
       "      <th>1</th>\n",
       "      <td>31463992</td>\n",
       "      <td>T0_Stats</td>\n",
       "      <td>11308</td>\n",
       "      <td>30087878</td>\n",
       "      <td>2019-07-09 19:24:31 UTC</td>\n",
       "      <td>2019-09-29 18:19:49 UTC</td>\n",
       "      <td>_default</td>\n",
       "      <td>10</td>\n",
       "      <td>11308</td>\n",
       "      <td>Workflow</td>\n",
       "      <td>6.0</td>\n",
       "      <td>4.0</td>\n",
       "      <td>1.0</td>\n",
       "      <td>11.0</td>\n",
       "      <td>0.545455</td>\n",
       "      <td>0.363636</td>\n",
       "      <td>0.090909</td>\n",
       "    </tr>\n",
       "    <tr>\n",
       "      <th>2</th>\n",
       "      <td>31468444</td>\n",
       "      <td>T0_Stats</td>\n",
       "      <td>11308</td>\n",
       "      <td>30085221</td>\n",
       "      <td>2019-07-09 20:05:17 UTC</td>\n",
       "      <td>2019-10-15 20:03:51 UTC</td>\n",
       "      <td>_default</td>\n",
       "      <td>10</td>\n",
       "      <td>11308</td>\n",
       "      <td>Workflow</td>\n",
       "      <td>6.0</td>\n",
       "      <td>3.0</td>\n",
       "      <td>2.0</td>\n",
       "      <td>11.0</td>\n",
       "      <td>0.545455</td>\n",
       "      <td>0.272727</td>\n",
       "      <td>0.181818</td>\n",
       "    </tr>\n",
       "    <tr>\n",
       "      <th>3</th>\n",
       "      <td>31468451</td>\n",
       "      <td>T0_Stats</td>\n",
       "      <td>11308</td>\n",
       "      <td>34084204</td>\n",
       "      <td>2019-07-09 20:05:23 UTC</td>\n",
       "      <td>2019-07-29 17:34:31 UTC</td>\n",
       "      <td>_default</td>\n",
       "      <td>7</td>\n",
       "      <td>11308</td>\n",
       "      <td>Workflow</td>\n",
       "      <td>0.0</td>\n",
       "      <td>5.0</td>\n",
       "      <td>3.0</td>\n",
       "      <td>8.0</td>\n",
       "      <td>0.000000</td>\n",
       "      <td>0.625000</td>\n",
       "      <td>0.375000</td>\n",
       "    </tr>\n",
       "    <tr>\n",
       "      <th>4</th>\n",
       "      <td>31470164</td>\n",
       "      <td>T0_Stats</td>\n",
       "      <td>11308</td>\n",
       "      <td>30089260</td>\n",
       "      <td>2019-07-09 20:27:03 UTC</td>\n",
       "      <td>2019-09-21 20:06:28 UTC</td>\n",
       "      <td>_default</td>\n",
       "      <td>4</td>\n",
       "      <td>11308</td>\n",
       "      <td>Workflow</td>\n",
       "      <td>0.0</td>\n",
       "      <td>6.0</td>\n",
       "      <td>1.0</td>\n",
       "      <td>7.0</td>\n",
       "      <td>0.000000</td>\n",
       "      <td>0.857143</td>\n",
       "      <td>0.142857</td>\n",
       "    </tr>\n",
       "  </tbody>\n",
       "</table>\n",
       "</div>"
      ],
      "text/plain": [
       "   extract_id_do_not_use reducer_key  workflow_id subject_id  \\\n",
       "0               31463358    T0_Stats        11308   30088075   \n",
       "1               31463992    T0_Stats        11308   30087878   \n",
       "2               31468444    T0_Stats        11308   30085221   \n",
       "3               31468451    T0_Stats        11308   34084204   \n",
       "4               31470164    T0_Stats        11308   30089260   \n",
       "\n",
       "                created_at               updated_at  subgroup  lock_version  \\\n",
       "0  2019-07-09 19:18:19 UTC  2019-10-07 15:16:01 UTC  _default             5   \n",
       "1  2019-07-09 19:24:31 UTC  2019-09-29 18:19:49 UTC  _default            10   \n",
       "2  2019-07-09 20:05:17 UTC  2019-10-15 20:03:51 UTC  _default            10   \n",
       "3  2019-07-09 20:05:23 UTC  2019-07-29 17:34:31 UTC  _default             7   \n",
       "4  2019-07-09 20:27:03 UTC  2019-09-21 20:06:28 UTC  _default             4   \n",
       "\n",
       "   reducible_id reducible_type  smooth  featured  artifact  total  \\\n",
       "0         11308       Workflow     6.0       0.0       1.0    7.0   \n",
       "1         11308       Workflow     6.0       4.0       1.0   11.0   \n",
       "2         11308       Workflow     6.0       3.0       2.0   11.0   \n",
       "3         11308       Workflow     0.0       5.0       3.0    8.0   \n",
       "4         11308       Workflow     0.0       6.0       1.0    7.0   \n",
       "\n",
       "   smooth_fraction  featured_fraction  artifact_fraction  \n",
       "0         0.857143           0.000000           0.142857  \n",
       "1         0.545455           0.363636           0.090909  \n",
       "2         0.545455           0.272727           0.181818  \n",
       "3         0.000000           0.625000           0.375000  \n",
       "4         0.000000           0.857143           0.142857  "
      ]
     },
     "execution_count": 82,
     "metadata": {},
     "output_type": "execute_result"
    }
   ],
   "source": [
    "df.head()"
   ]
  },
  {
   "cell_type": "code",
   "execution_count": 83,
   "metadata": {},
   "outputs": [
    {
     "data": {
      "text/plain": [
       "<matplotlib.axes._subplots.AxesSubplot at 0x143180940>"
      ]
     },
     "execution_count": 83,
     "metadata": {},
     "output_type": "execute_result"
    },
    {
     "data": {
      "image/png": "[encoded data removed]",
      "text/plain": [
       "<Figure size 432x288 with 1 Axes>"
      ]
     },
     "metadata": {
      "needs_background": "light"
     },
     "output_type": "display_data"
    }
   ],
   "source": [
    "df.query('total < 40')['total'].hist(bins=40)"
   ]
  },
  {
   "cell_type": "code",
   "execution_count": null,
   "metadata": {},
   "outputs": [],
   "source": []
  },
  {
   "cell_type": "code",
   "execution_count": 84,
   "metadata": {},
   "outputs": [
    {
     "data": {
      "text/plain": [
       "2053"
      ]
     },
     "execution_count": 84,
     "metadata": {},
     "output_type": "execute_result"
    }
   ],
   "source": [
    "df10 = df.query('total >= 10')\n",
    "len(df10)"
   ]
  },
  {
   "cell_type": "code",
   "execution_count": 85,
   "metadata": {},
   "outputs": [
    {
     "data": {
      "text/plain": [
       "Text(0,0.5,'Galaxies')"
      ]
     },
     "execution_count": 85,
     "metadata": {},
     "output_type": "execute_result"
    },
    {
     "data": {
      "image/png": "[encoded data removed]",
      "text/plain": [
       "<Figure size 432x288 with 1 Axes>"
      ]
     },
     "metadata": {
      "needs_background": "light"
     },
     "output_type": "display_data"
    }
   ],
   "source": [
    "alpha = 0.2\n",
    "plt.hist(df10['featured_fraction'], bins=15, alpha=alpha, label='featured')\n",
    "plt.hist(df10['smooth_fraction'], bins=15, alpha=alpha, label='smooth')\n",
    "# plt.hist(df['artifact_fraction'], bins=10, alpha=alpha, label='artifact')\n",
    "plt.legend()\n",
    "plt.xlabel('Vote Fraction')\n",
    "plt.ylabel('Galaxies')"
   ]
  },
  {
   "cell_type": "code",
   "execution_count": 86,
   "metadata": {},
   "outputs": [
    {
     "data": {
      "text/plain": [
       "(array([3998., 2357., 1817.,  701.,  551.,  382.,   97.,   32.,   52.,\n",
       "          13.]),\n",
       " array([0. , 0.1, 0.2, 0.3, 0.4, 0.5, 0.6, 0.7, 0.8, 0.9, 1. ]),\n",
       " <a list of 10 Patch objects>)"
      ]
     },
     "execution_count": 86,
     "metadata": {},
     "output_type": "execute_result"
    },
    {
     "data": {
      "image/png": "[encoded data removed]",
      "text/plain": [
       "<Figure size 432x288 with 1 Axes>"
      ]
     },
     "metadata": {
      "needs_background": "light"
     },
     "output_type": "display_data"
    }
   ],
   "source": [
    "plt.hist(df['artifact_fraction'], bins=10, alpha=alpha, label='artifact')"
   ]
  },
  {
   "cell_type": "code",
   "execution_count": 87,
   "metadata": {},
   "outputs": [],
   "source": [
    "cdf = pd.read_csv('u-scientist-touch-table-classifications.csv')"
   ]
  },
  {
   "cell_type": "code",
   "execution_count": 88,
   "metadata": {},
   "outputs": [
    {
     "data": {
      "text/html": [
       "<div>\n",
       "<style scoped>\n",
       "    .dataframe tbody tr th:only-of-type {\n",
       "        vertical-align: middle;\n",
       "    }\n",
       "\n",
       "    .dataframe tbody tr th {\n",
       "        vertical-align: top;\n",
       "    }\n",
       "\n",
       "    .dataframe thead th {\n",
       "        text-align: right;\n",
       "    }\n",
       "</style>\n",
       "<table border=\"1\" class=\"dataframe\">\n",
       "  <thead>\n",
       "    <tr style=\"text-align: right;\">\n",
       "      <th></th>\n",
       "      <th>classification_id</th>\n",
       "      <th>user_name</th>\n",
       "      <th>user_id</th>\n",
       "      <th>user_ip</th>\n",
       "      <th>workflow_id</th>\n",
       "      <th>workflow_name</th>\n",
       "      <th>workflow_version</th>\n",
       "      <th>created_at</th>\n",
       "      <th>gold_standard</th>\n",
       "      <th>expert</th>\n",
       "      <th>metadata</th>\n",
       "      <th>annotations</th>\n",
       "      <th>subject_data</th>\n",
       "      <th>subject_ids</th>\n",
       "    </tr>\n",
       "  </thead>\n",
       "  <tbody>\n",
       "    <tr>\n",
       "      <th>0</th>\n",
       "      <td>173727869</td>\n",
       "      <td>not-logged-in-c8b1ac78344c956f82d3</td>\n",
       "      <td>NaN</td>\n",
       "      <td>c8b1ac78344c956f82d3</td>\n",
       "      <td>11308</td>\n",
       "      <td>U!Scientist (Touch Table)</td>\n",
       "      <td>5.11</td>\n",
       "      <td>2019-07-09 19:18:18 UTC</td>\n",
       "      <td>NaN</td>\n",
       "      <td>NaN</td>\n",
       "      <td>{\"started_at\":\"2019-07-09T19:18:14.236Z\",\"user...</td>\n",
       "      <td>[{\"task\":\"T0\",\"task_label\":\"What type of galax...</td>\n",
       "      <td>{\"30088075\":{\"retired\":null,\"!ra\":316.71045821...</td>\n",
       "      <td>30088075</td>\n",
       "    </tr>\n",
       "    <tr>\n",
       "      <th>1</th>\n",
       "      <td>173727898</td>\n",
       "      <td>not-logged-in-c8b1ac78344c956f82d3</td>\n",
       "      <td>NaN</td>\n",
       "      <td>c8b1ac78344c956f82d3</td>\n",
       "      <td>11308</td>\n",
       "      <td>U!Scientist (Touch Table)</td>\n",
       "      <td>5.11</td>\n",
       "      <td>2019-07-09 19:18:27 UTC</td>\n",
       "      <td>NaN</td>\n",
       "      <td>NaN</td>\n",
       "      <td>{\"started_at\":\"2019-07-09T19:18:24.798Z\",\"user...</td>\n",
       "      <td>[{\"task\":\"T0\",\"task_label\":\"What type of galax...</td>\n",
       "      <td>{\"30088075\":{\"retired\":null,\"!ra\":316.71045821...</td>\n",
       "      <td>30088075</td>\n",
       "    </tr>\n",
       "    <tr>\n",
       "      <th>2</th>\n",
       "      <td>173728764</td>\n",
       "      <td>not-logged-in-c8b1ac78344c956f82d3</td>\n",
       "      <td>NaN</td>\n",
       "      <td>c8b1ac78344c956f82d3</td>\n",
       "      <td>11308</td>\n",
       "      <td>U!Scientist (Touch Table)</td>\n",
       "      <td>5.11</td>\n",
       "      <td>2019-07-09 19:24:29 UTC</td>\n",
       "      <td>NaN</td>\n",
       "      <td>NaN</td>\n",
       "      <td>{\"started_at\":\"2019-07-09T19:24:24.066Z\",\"user...</td>\n",
       "      <td>[{\"task\":\"T0\",\"task_label\":\"What type of galax...</td>\n",
       "      <td>{\"30087878\":{\"retired\":null,\"!ra\":314.13474389...</td>\n",
       "      <td>30087878</td>\n",
       "    </tr>\n",
       "    <tr>\n",
       "      <th>3</th>\n",
       "      <td>173736556</td>\n",
       "      <td>not-logged-in-c8b1ac78344c956f82d3</td>\n",
       "      <td>NaN</td>\n",
       "      <td>c8b1ac78344c956f82d3</td>\n",
       "      <td>11308</td>\n",
       "      <td>U!Scientist (Touch Table)</td>\n",
       "      <td>5.11</td>\n",
       "      <td>2019-07-09 20:05:16 UTC</td>\n",
       "      <td>NaN</td>\n",
       "      <td>NaN</td>\n",
       "      <td>{\"started_at\":\"2019-07-09T20:04:46.417Z\",\"user...</td>\n",
       "      <td>[{\"task\":\"T0\",\"task_label\":\"What type of galax...</td>\n",
       "      <td>{\"30085221\":{\"retired\":null,\"!ra\":255.87632605...</td>\n",
       "      <td>30085221</td>\n",
       "    </tr>\n",
       "    <tr>\n",
       "      <th>4</th>\n",
       "      <td>173736577</td>\n",
       "      <td>not-logged-in-c8b1ac78344c956f82d3</td>\n",
       "      <td>NaN</td>\n",
       "      <td>c8b1ac78344c956f82d3</td>\n",
       "      <td>11308</td>\n",
       "      <td>U!Scientist (Touch Table)</td>\n",
       "      <td>5.11</td>\n",
       "      <td>2019-07-09 20:05:22 UTC</td>\n",
       "      <td>NaN</td>\n",
       "      <td>NaN</td>\n",
       "      <td>{\"started_at\":\"2019-07-09T20:05:19.463Z\",\"user...</td>\n",
       "      <td>[{\"task\":\"T0\",\"task_label\":\"What type of galax...</td>\n",
       "      <td>{\"34084204\":{\"retired\":null,\"!ra\":247.71105430...</td>\n",
       "      <td>34084204</td>\n",
       "    </tr>\n",
       "  </tbody>\n",
       "</table>\n",
       "</div>"
      ],
      "text/plain": [
       "   classification_id                           user_name  user_id  \\\n",
       "0          173727869  not-logged-in-c8b1ac78344c956f82d3      NaN   \n",
       "1          173727898  not-logged-in-c8b1ac78344c956f82d3      NaN   \n",
       "2          173728764  not-logged-in-c8b1ac78344c956f82d3      NaN   \n",
       "3          173736556  not-logged-in-c8b1ac78344c956f82d3      NaN   \n",
       "4          173736577  not-logged-in-c8b1ac78344c956f82d3      NaN   \n",
       "\n",
       "                user_ip  workflow_id              workflow_name  \\\n",
       "0  c8b1ac78344c956f82d3        11308  U!Scientist (Touch Table)   \n",
       "1  c8b1ac78344c956f82d3        11308  U!Scientist (Touch Table)   \n",
       "2  c8b1ac78344c956f82d3        11308  U!Scientist (Touch Table)   \n",
       "3  c8b1ac78344c956f82d3        11308  U!Scientist (Touch Table)   \n",
       "4  c8b1ac78344c956f82d3        11308  U!Scientist (Touch Table)   \n",
       "\n",
       "   workflow_version               created_at  gold_standard  expert  \\\n",
       "0              5.11  2019-07-09 19:18:18 UTC            NaN     NaN   \n",
       "1              5.11  2019-07-09 19:18:27 UTC            NaN     NaN   \n",
       "2              5.11  2019-07-09 19:24:29 UTC            NaN     NaN   \n",
       "3              5.11  2019-07-09 20:05:16 UTC            NaN     NaN   \n",
       "4              5.11  2019-07-09 20:05:22 UTC            NaN     NaN   \n",
       "\n",
       "                                            metadata  \\\n",
       "0  {\"started_at\":\"2019-07-09T19:18:14.236Z\",\"user...   \n",
       "1  {\"started_at\":\"2019-07-09T19:18:24.798Z\",\"user...   \n",
       "2  {\"started_at\":\"2019-07-09T19:24:24.066Z\",\"user...   \n",
       "3  {\"started_at\":\"2019-07-09T20:04:46.417Z\",\"user...   \n",
       "4  {\"started_at\":\"2019-07-09T20:05:19.463Z\",\"user...   \n",
       "\n",
       "                                         annotations  \\\n",
       "0  [{\"task\":\"T0\",\"task_label\":\"What type of galax...   \n",
       "1  [{\"task\":\"T0\",\"task_label\":\"What type of galax...   \n",
       "2  [{\"task\":\"T0\",\"task_label\":\"What type of galax...   \n",
       "3  [{\"task\":\"T0\",\"task_label\":\"What type of galax...   \n",
       "4  [{\"task\":\"T0\",\"task_label\":\"What type of galax...   \n",
       "\n",
       "                                        subject_data  subject_ids  \n",
       "0  {\"30088075\":{\"retired\":null,\"!ra\":316.71045821...     30088075  \n",
       "1  {\"30088075\":{\"retired\":null,\"!ra\":316.71045821...     30088075  \n",
       "2  {\"30087878\":{\"retired\":null,\"!ra\":314.13474389...     30087878  \n",
       "3  {\"30085221\":{\"retired\":null,\"!ra\":255.87632605...     30085221  \n",
       "4  {\"34084204\":{\"retired\":null,\"!ra\":247.71105430...     34084204  "
      ]
     },
     "execution_count": 88,
     "metadata": {},
     "output_type": "execute_result"
    }
   ],
   "source": [
    "cdf.head()"
   ]
  },
  {
   "cell_type": "code",
   "execution_count": 89,
   "metadata": {},
   "outputs": [],
   "source": [
    "subject_data =  [json.loads(x) for x in cdf['subject_data'].unique()]"
   ]
  },
  {
   "cell_type": "code",
   "execution_count": 90,
   "metadata": {},
   "outputs": [
    {
     "data": {
      "text/plain": [
       "{'30088075': {'retired': None,\n",
       "  '!ra': 316.7104582163858,\n",
       "  '!dec': -5.659041718676042,\n",
       "  '!mag_g': 17.77003675699234,\n",
       "  '!mag_i': 16.57677471637726,\n",
       "  '!mag_r': 16.93778097629547,\n",
       "  '!mag_u': 19.49950337409973,\n",
       "  '!mag_z': 16.296133399009705,\n",
       "  '!nsa_id': 102865,\n",
       "  '!iauname': 'J210650.51-053932.6',\n",
       "  '!redshift': 0.05730503797531128,\n",
       "  '!mag_abs_r': -19.40909194946289,\n",
       "  '!mag_faruv': 22.782754134386778,\n",
       "  '!petroflux': 114.4543685913086,\n",
       "  '!petroth50': 1.586470603942871,\n",
       "  '!mag_nearuv': -999.0,\n",
       "  '!petrotheta': 4.047774791717529,\n",
       "  '!nsa_version': '1_0_0',\n",
       "  '!sdss_search': '[Click to view in SDSS](+tab+http://skyserver.sdss.org/dr14/en/tools/chart/navi.aspx?ra=316.7104582163858&dec=-5.659041718676042&scale=0.1&width=120&height=120&opt=)',\n",
       "  '#upload_date': '2019-02-06',\n",
       "  '!absolute_size': 4.54248678802766,\n",
       "  '!decals_search': '[Click to view in DECALS](+tab+http://www.legacysurvey.org/viewer?ra=316.7104582163858&dec=-5.659041718676042&zoom=15&layer=decals-dr5)',\n",
       "  '!simbad_search': '[Click to search SIMBAD](+tab+http://simbad.u-strasbg.fr/simbad/sim-coo?Coord=316.7104582163858+%09-5.659041718676042&CooFrame=FK5&CooEpoch=2000&CooEqui=2000&CooDefinedFrames=none&Radius=10.0&Radius.unit=arcmin&submit=submit+query&CoordList=)',\n",
       "  '!vizier_search': '[Click to search VizieR](+tab+http://vizier.u-strasbg.fr/viz-bin/VizieR?&-c=316.7104582163858,-5.659041718676042&-c.rs=10.0&-out.add=_r&-sort=_r)',\n",
       "  '!nasa_ned_search': '[Click to search NASA NED](+tab+https://ned.ipac.caltech.edu/cgi-bin/objsearch?search_type=Near+Position+Search&in_csys=Equatorial&in_equinox=J2000.0&lon=316.71045822d&lat=-5.65904172d&radius=0.16666666666666666&hconst=73&omegam=0.27&omegav=0.73&corr_z=1&z_constraint=Unconstrained&z_value1=&z_value2=&z_unit=z&ot_include=ANY&nmp_op=ANY&out_csys=Equatorial&out_equinox=J2000.0&obj_sort=Distance+to+search+center&of=pre_text&zv_breaker=30000.0&list_limit=5&img_stamp=YES)',\n",
       "  'metadata_message': 'Metadata is available in [Talk](+tab+https://www.zooniverse.org/projects/zookeeper/galaxy-zoo/talk)'}}"
      ]
     },
     "execution_count": 90,
     "metadata": {},
     "output_type": "execute_result"
    }
   ],
   "source": [
    "subject_data[0]"
   ]
  },
  {
   "cell_type": "code",
   "execution_count": 91,
   "metadata": {},
   "outputs": [],
   "source": [
    "def flatten_subject(subject):\n",
    "    subject_id = list(subject.keys())[0]\n",
    "    subject_data = subject[subject_id]\n",
    "    subject_data.update({'subject_id': subject_id})\n",
    "    return subject_data.copy()"
   ]
  },
  {
   "cell_type": "code",
   "execution_count": 92,
   "metadata": {},
   "outputs": [
    {
     "data": {
      "text/plain": [
       "{'retired': None,\n",
       " '!ra': 316.7104582163858,\n",
       " '!dec': -5.659041718676042,\n",
       " '!mag_g': 17.77003675699234,\n",
       " '!mag_i': 16.57677471637726,\n",
       " '!mag_r': 16.93778097629547,\n",
       " '!mag_u': 19.49950337409973,\n",
       " '!mag_z': 16.296133399009705,\n",
       " '!nsa_id': 102865,\n",
       " '!iauname': 'J210650.51-053932.6',\n",
       " '!redshift': 0.05730503797531128,\n",
       " '!mag_abs_r': -19.40909194946289,\n",
       " '!mag_faruv': 22.782754134386778,\n",
       " '!petroflux': 114.4543685913086,\n",
       " '!petroth50': 1.586470603942871,\n",
       " '!mag_nearuv': -999.0,\n",
       " '!petrotheta': 4.047774791717529,\n",
       " '!nsa_version': '1_0_0',\n",
       " '!sdss_search': '[Click to view in SDSS](+tab+http://skyserver.sdss.org/dr14/en/tools/chart/navi.aspx?ra=316.7104582163858&dec=-5.659041718676042&scale=0.1&width=120&height=120&opt=)',\n",
       " '#upload_date': '2019-02-06',\n",
       " '!absolute_size': 4.54248678802766,\n",
       " '!decals_search': '[Click to view in DECALS](+tab+http://www.legacysurvey.org/viewer?ra=316.7104582163858&dec=-5.659041718676042&zoom=15&layer=decals-dr5)',\n",
       " '!simbad_search': '[Click to search SIMBAD](+tab+http://simbad.u-strasbg.fr/simbad/sim-coo?Coord=316.7104582163858+%09-5.659041718676042&CooFrame=FK5&CooEpoch=2000&CooEqui=2000&CooDefinedFrames=none&Radius=10.0&Radius.unit=arcmin&submit=submit+query&CoordList=)',\n",
       " '!vizier_search': '[Click to search VizieR](+tab+http://vizier.u-strasbg.fr/viz-bin/VizieR?&-c=316.7104582163858,-5.659041718676042&-c.rs=10.0&-out.add=_r&-sort=_r)',\n",
       " '!nasa_ned_search': '[Click to search NASA NED](+tab+https://ned.ipac.caltech.edu/cgi-bin/objsearch?search_type=Near+Position+Search&in_csys=Equatorial&in_equinox=J2000.0&lon=316.71045822d&lat=-5.65904172d&radius=0.16666666666666666&hconst=73&omegam=0.27&omegav=0.73&corr_z=1&z_constraint=Unconstrained&z_value1=&z_value2=&z_unit=z&ot_include=ANY&nmp_op=ANY&out_csys=Equatorial&out_equinox=J2000.0&obj_sort=Distance+to+search+center&of=pre_text&zv_breaker=30000.0&list_limit=5&img_stamp=YES)',\n",
       " 'metadata_message': 'Metadata is available in [Talk](+tab+https://www.zooniverse.org/projects/zookeeper/galaxy-zoo/talk)',\n",
       " 'subject_id': '30088075'}"
      ]
     },
     "execution_count": 92,
     "metadata": {},
     "output_type": "execute_result"
    }
   ],
   "source": [
    "flatten_subject(subject_data[0])"
   ]
  },
  {
   "cell_type": "code",
   "execution_count": 93,
   "metadata": {},
   "outputs": [],
   "source": [
    "subject_data_flat = [flatten_subject(subject) for subject in subject_data]"
   ]
  },
  {
   "cell_type": "code",
   "execution_count": 94,
   "metadata": {},
   "outputs": [],
   "source": [
    "subject_df = pd.DataFrame(data=subject_data_flat)"
   ]
  },
  {
   "cell_type": "code",
   "execution_count": 95,
   "metadata": {},
   "outputs": [
    {
     "data": {
      "text/html": [
       "<div>\n",
       "<style scoped>\n",
       "    .dataframe tbody tr th:only-of-type {\n",
       "        vertical-align: middle;\n",
       "    }\n",
       "\n",
       "    .dataframe tbody tr th {\n",
       "        vertical-align: top;\n",
       "    }\n",
       "\n",
       "    .dataframe thead th {\n",
       "        text-align: right;\n",
       "    }\n",
       "</style>\n",
       "<table border=\"1\" class=\"dataframe\">\n",
       "  <thead>\n",
       "    <tr style=\"text-align: right;\">\n",
       "      <th></th>\n",
       "      <th>retired</th>\n",
       "      <th>!ra</th>\n",
       "      <th>!dec</th>\n",
       "      <th>!mag_g</th>\n",
       "      <th>!mag_i</th>\n",
       "      <th>!mag_r</th>\n",
       "      <th>!mag_u</th>\n",
       "      <th>!mag_z</th>\n",
       "      <th>!nsa_id</th>\n",
       "      <th>!iauname</th>\n",
       "      <th>...</th>\n",
       "      <th>!simbad_search</th>\n",
       "      <th>!vizier_search</th>\n",
       "      <th>!nasa_ned_search</th>\n",
       "      <th>metadata_message</th>\n",
       "      <th>subject_id</th>\n",
       "      <th>!file_loc</th>\n",
       "      <th>#uploader</th>\n",
       "      <th>!petroth90</th>\n",
       "      <th>#retirement_limit</th>\n",
       "      <th>!panstarrs_dr1_search</th>\n",
       "    </tr>\n",
       "  </thead>\n",
       "  <tbody>\n",
       "    <tr>\n",
       "      <th>0</th>\n",
       "      <td>None</td>\n",
       "      <td>316.710458</td>\n",
       "      <td>-5.659042</td>\n",
       "      <td>17.770037</td>\n",
       "      <td>16.576775</td>\n",
       "      <td>16.937781</td>\n",
       "      <td>19.499503</td>\n",
       "      <td>16.296133</td>\n",
       "      <td>102865</td>\n",
       "      <td>J210650.51-053932.6</td>\n",
       "      <td>...</td>\n",
       "      <td>[Click to search SIMBAD](+tab+http://simbad.u-...</td>\n",
       "      <td>[Click to search VizieR](+tab+http://vizier.u-...</td>\n",
       "      <td>[Click to search NASA NED](+tab+https://ned.ip...</td>\n",
       "      <td>Metadata is available in [Talk](+tab+https://w...</td>\n",
       "      <td>30088075</td>\n",
       "      <td>NaN</td>\n",
       "      <td>NaN</td>\n",
       "      <td>NaN</td>\n",
       "      <td>NaN</td>\n",
       "      <td>NaN</td>\n",
       "    </tr>\n",
       "    <tr>\n",
       "      <th>1</th>\n",
       "      <td>None</td>\n",
       "      <td>314.134744</td>\n",
       "      <td>-0.569869</td>\n",
       "      <td>17.199897</td>\n",
       "      <td>16.059467</td>\n",
       "      <td>16.491730</td>\n",
       "      <td>18.459820</td>\n",
       "      <td>15.862835</td>\n",
       "      <td>189122</td>\n",
       "      <td>J205632.33-003411.4</td>\n",
       "      <td>...</td>\n",
       "      <td>[Click to search SIMBAD](+tab+http://simbad.u-...</td>\n",
       "      <td>[Click to search VizieR](+tab+http://vizier.u-...</td>\n",
       "      <td>[Click to search NASA NED](+tab+https://ned.ip...</td>\n",
       "      <td>Metadata is available in [Talk](+tab+https://w...</td>\n",
       "      <td>30087878</td>\n",
       "      <td>NaN</td>\n",
       "      <td>NaN</td>\n",
       "      <td>NaN</td>\n",
       "      <td>NaN</td>\n",
       "      <td>NaN</td>\n",
       "    </tr>\n",
       "    <tr>\n",
       "      <th>2</th>\n",
       "      <td>None</td>\n",
       "      <td>255.876326</td>\n",
       "      <td>24.058582</td>\n",
       "      <td>17.199978</td>\n",
       "      <td>15.870711</td>\n",
       "      <td>16.333262</td>\n",
       "      <td>18.835032</td>\n",
       "      <td>15.550009</td>\n",
       "      <td>343675</td>\n",
       "      <td>J170330.33+240330.9</td>\n",
       "      <td>...</td>\n",
       "      <td>[Click to search SIMBAD](+tab+http://simbad.u-...</td>\n",
       "      <td>[Click to search VizieR](+tab+http://vizier.u-...</td>\n",
       "      <td>[Click to search NASA NED](+tab+https://ned.ip...</td>\n",
       "      <td>Metadata is available in [Talk](+tab+https://w...</td>\n",
       "      <td>30085221</td>\n",
       "      <td>NaN</td>\n",
       "      <td>NaN</td>\n",
       "      <td>NaN</td>\n",
       "      <td>NaN</td>\n",
       "      <td>NaN</td>\n",
       "    </tr>\n",
       "    <tr>\n",
       "      <th>3</th>\n",
       "      <td>None</td>\n",
       "      <td>247.711054</td>\n",
       "      <td>9.003237</td>\n",
       "      <td>NaN</td>\n",
       "      <td>NaN</td>\n",
       "      <td>NaN</td>\n",
       "      <td>NaN</td>\n",
       "      <td>NaN</td>\n",
       "      <td>529811</td>\n",
       "      <td>J163050.64+090011.6</td>\n",
       "      <td>...</td>\n",
       "      <td>[Click to search SIMBAD](+tab+http://simbad.u-...</td>\n",
       "      <td>[Click to search VizieR](+tab+http://vizier.u-...</td>\n",
       "      <td>[Click to search NASA NED](+tab+https://ned.ip...</td>\n",
       "      <td>Metadata is available in [Talk](+tab+https://w...</td>\n",
       "      <td>34084204</td>\n",
       "      <td>/Volumes/alpha/decals/png_native/dr5/J163/J163...</td>\n",
       "      <td>panoptes_oracle</td>\n",
       "      <td>17.658121</td>\n",
       "      <td>40.0</td>\n",
       "      <td>[Click to view in PANSTARRS DR1](+tab+http://p...</td>\n",
       "    </tr>\n",
       "    <tr>\n",
       "      <th>4</th>\n",
       "      <td>None</td>\n",
       "      <td>333.126929</td>\n",
       "      <td>7.272327</td>\n",
       "      <td>16.637574</td>\n",
       "      <td>15.945029</td>\n",
       "      <td>16.202714</td>\n",
       "      <td>17.397260</td>\n",
       "      <td>15.819719</td>\n",
       "      <td>589216</td>\n",
       "      <td>J221230.46+071620.4</td>\n",
       "      <td>...</td>\n",
       "      <td>[Click to search SIMBAD](+tab+http://simbad.u-...</td>\n",
       "      <td>[Click to search VizieR](+tab+http://vizier.u-...</td>\n",
       "      <td>[Click to search NASA NED](+tab+https://ned.ip...</td>\n",
       "      <td>Metadata is available in [Talk](+tab+https://w...</td>\n",
       "      <td>30089260</td>\n",
       "      <td>NaN</td>\n",
       "      <td>NaN</td>\n",
       "      <td>NaN</td>\n",
       "      <td>NaN</td>\n",
       "      <td>NaN</td>\n",
       "    </tr>\n",
       "  </tbody>\n",
       "</table>\n",
       "<p>5 rows × 32 columns</p>\n",
       "</div>"
      ],
      "text/plain": [
       "  retired         !ra       !dec     !mag_g     !mag_i     !mag_r     !mag_u  \\\n",
       "0    None  316.710458  -5.659042  17.770037  16.576775  16.937781  19.499503   \n",
       "1    None  314.134744  -0.569869  17.199897  16.059467  16.491730  18.459820   \n",
       "2    None  255.876326  24.058582  17.199978  15.870711  16.333262  18.835032   \n",
       "3    None  247.711054   9.003237        NaN        NaN        NaN        NaN   \n",
       "4    None  333.126929   7.272327  16.637574  15.945029  16.202714  17.397260   \n",
       "\n",
       "      !mag_z  !nsa_id             !iauname  ...  \\\n",
       "0  16.296133   102865  J210650.51-053932.6  ...   \n",
       "1  15.862835   189122  J205632.33-003411.4  ...   \n",
       "2  15.550009   343675  J170330.33+240330.9  ...   \n",
       "3        NaN   529811  J163050.64+090011.6  ...   \n",
       "4  15.819719   589216  J221230.46+071620.4  ...   \n",
       "\n",
       "                                      !simbad_search  \\\n",
       "0  [Click to search SIMBAD](+tab+http://simbad.u-...   \n",
       "1  [Click to search SIMBAD](+tab+http://simbad.u-...   \n",
       "2  [Click to search SIMBAD](+tab+http://simbad.u-...   \n",
       "3  [Click to search SIMBAD](+tab+http://simbad.u-...   \n",
       "4  [Click to search SIMBAD](+tab+http://simbad.u-...   \n",
       "\n",
       "                                      !vizier_search  \\\n",
       "0  [Click to search VizieR](+tab+http://vizier.u-...   \n",
       "1  [Click to search VizieR](+tab+http://vizier.u-...   \n",
       "2  [Click to search VizieR](+tab+http://vizier.u-...   \n",
       "3  [Click to search VizieR](+tab+http://vizier.u-...   \n",
       "4  [Click to search VizieR](+tab+http://vizier.u-...   \n",
       "\n",
       "                                    !nasa_ned_search  \\\n",
       "0  [Click to search NASA NED](+tab+https://ned.ip...   \n",
       "1  [Click to search NASA NED](+tab+https://ned.ip...   \n",
       "2  [Click to search NASA NED](+tab+https://ned.ip...   \n",
       "3  [Click to search NASA NED](+tab+https://ned.ip...   \n",
       "4  [Click to search NASA NED](+tab+https://ned.ip...   \n",
       "\n",
       "                                    metadata_message  subject_id  \\\n",
       "0  Metadata is available in [Talk](+tab+https://w...    30088075   \n",
       "1  Metadata is available in [Talk](+tab+https://w...    30087878   \n",
       "2  Metadata is available in [Talk](+tab+https://w...    30085221   \n",
       "3  Metadata is available in [Talk](+tab+https://w...    34084204   \n",
       "4  Metadata is available in [Talk](+tab+https://w...    30089260   \n",
       "\n",
       "                                           !file_loc        #uploader  \\\n",
       "0                                                NaN              NaN   \n",
       "1                                                NaN              NaN   \n",
       "2                                                NaN              NaN   \n",
       "3  /Volumes/alpha/decals/png_native/dr5/J163/J163...  panoptes_oracle   \n",
       "4                                                NaN              NaN   \n",
       "\n",
       "  !petroth90 #retirement_limit  \\\n",
       "0        NaN               NaN   \n",
       "1        NaN               NaN   \n",
       "2        NaN               NaN   \n",
       "3  17.658121              40.0   \n",
       "4        NaN               NaN   \n",
       "\n",
       "                               !panstarrs_dr1_search  \n",
       "0                                                NaN  \n",
       "1                                                NaN  \n",
       "2                                                NaN  \n",
       "3  [Click to view in PANSTARRS DR1](+tab+http://p...  \n",
       "4                                                NaN  \n",
       "\n",
       "[5 rows x 32 columns]"
      ]
     },
     "execution_count": 95,
     "metadata": {},
     "output_type": "execute_result"
    }
   ],
   "source": [
    "subject_df.head()"
   ]
  },
  {
   "cell_type": "code",
   "execution_count": 96,
   "metadata": {},
   "outputs": [
    {
     "data": {
      "text/plain": [
       "array(['retired', '!ra', '!dec', '!mag_g', '!mag_i', '!mag_r', '!mag_u',\n",
       "       '!mag_z', '!nsa_id', '!iauname', '!redshift', '!mag_abs_r',\n",
       "       '!mag_faruv', '!petroflux', '!petroth50', '!mag_nearuv',\n",
       "       '!petrotheta', '!nsa_version', '!sdss_search', '#upload_date',\n",
       "       '!absolute_size', '!decals_search', '!simbad_search',\n",
       "       '!vizier_search', '!nasa_ned_search', 'metadata_message',\n",
       "       'subject_id', '!file_loc', '#uploader', '!petroth90',\n",
       "       '#retirement_limit', '!panstarrs_dr1_search'], dtype=object)"
      ]
     },
     "execution_count": 96,
     "metadata": {},
     "output_type": "execute_result"
    }
   ],
   "source": [
    "subject_df.columns.values"
   ]
  },
  {
   "cell_type": "code",
   "execution_count": 97,
   "metadata": {},
   "outputs": [
    {
     "data": {
      "text/plain": [
       "0                                                     NaN\n",
       "1                                                     NaN\n",
       "2                                                     NaN\n",
       "3       /Volumes/alpha/decals/png_native/dr5/J163/J163...\n",
       "4                                                     NaN\n",
       "                              ...                        \n",
       "9995    /Volumes/alpha/decals/png_native/dr5/J164/J164...\n",
       "9996    /Volumes/alpha/decals/png_native/dr5/J163/J163...\n",
       "9997    /Volumes/alpha/decals/png_native/dr5/J163/J163...\n",
       "9998                                                  NaN\n",
       "9999    /Volumes/alpha/decals/png_native/dr5/J163/J163...\n",
       "Name: !file_loc, Length: 10000, dtype: object"
      ]
     },
     "execution_count": 97,
     "metadata": {},
     "output_type": "execute_result"
    }
   ],
   "source": [
    "subject_df['!file_loc']"
   ]
  },
  {
   "cell_type": "code",
   "execution_count": 98,
   "metadata": {},
   "outputs": [
    {
     "data": {
      "text/plain": [
       "/Volumes/alpha/decals/png_native/dr5/J163/J163945.44+234817.3.png    1\n",
       "/Volumes/alpha/decals/png_native/dr5/J163/J163748.43+114732.8.png    1\n",
       "/Volumes/alpha/decals/png_native/dr5/J163/J163315.65+130617.8.png    1\n",
       "/Volumes/alpha/decals/png_native/dr5/J163/J163039.99+243727.8.png    1\n",
       "/Volumes/alpha/decals/png_native/dr5/J163/J163924.01+261436.4.png    1\n",
       "                                                                    ..\n",
       "/Volumes/alpha/decals/png_native/dr5/J164/J164047.76+234431.4.png    1\n",
       "/Volumes/alpha/decals/png_native/dr5/J163/J163238.99+152413.7.png    1\n",
       "/Volumes/alpha/decals/png_native/dr5/J163/J163314.91+171510.2.png    1\n",
       "/Volumes/alpha/decals/png_native/dr5/J163/J163003.20+260337.0.png    1\n",
       "/Volumes/alpha/decals/png_native/dr5/J163/J163312.92+202818.8.png    1\n",
       "Name: !file_loc, Length: 5000, dtype: int64"
      ]
     },
     "execution_count": 98,
     "metadata": {},
     "output_type": "execute_result"
    }
   ],
   "source": [
    "subject_df['!file_loc'].value_counts()"
   ]
  },
  {
   "cell_type": "code",
   "execution_count": 99,
   "metadata": {},
   "outputs": [
    {
     "data": {
      "text/plain": [
       "0       30088075\n",
       "1       30087878\n",
       "2       30085221\n",
       "3       34084204\n",
       "4       30089260\n",
       "          ...   \n",
       "9995    34079029\n",
       "9996    34081711\n",
       "9997    34084202\n",
       "9998    30089057\n",
       "9999    34081131\n",
       "Name: subject_id, Length: 10000, dtype: object"
      ]
     },
     "execution_count": 99,
     "metadata": {},
     "output_type": "execute_result"
    }
   ],
   "source": [
    "subject_df['subject_id']"
   ]
  },
  {
   "cell_type": "code",
   "execution_count": 100,
   "metadata": {},
   "outputs": [],
   "source": [
    "subject_df_mini = subject_df[['!file_loc', '!ra', '!dec', 'subject_id']]"
   ]
  },
  {
   "cell_type": "code",
   "execution_count": null,
   "metadata": {},
   "outputs": [],
   "source": []
  },
  {
   "cell_type": "code",
   "execution_count": 101,
   "metadata": {},
   "outputs": [],
   "source": [
    "master_df = pd.merge(df, subject_df_mini, on='subject_id', how='inner')\n",
    "assert len(df) == len(master_df)"
   ]
  },
  {
   "cell_type": "code",
   "execution_count": 103,
   "metadata": {},
   "outputs": [
    {
     "data": {
      "text/plain": [
       "extract_id_do_not_use                                             34553463\n",
       "reducer_key                                                       T0_Stats\n",
       "workflow_id                                                          11308\n",
       "subject_id                                                        34081131\n",
       "created_at                                         2019-08-08 19:59:18 UTC\n",
       "updated_at                                         2019-10-14 14:44:26 UTC\n",
       "subgroup                                                          _default\n",
       "lock_version                                                             4\n",
       "reducible_id                                                         11308\n",
       "reducible_type                                                    Workflow\n",
       "smooth                                                                   4\n",
       "featured                                                                 1\n",
       "artifact                                                                 0\n",
       "total                                                                    5\n",
       "smooth_fraction                                                        0.8\n",
       "featured_fraction                                                      0.2\n",
       "artifact_fraction                                                        0\n",
       "!file_loc                /Volumes/alpha/decals/png_native/dr5/J163/J163...\n",
       "!ra                                                                249.037\n",
       "!dec                                                               26.4097\n",
       "Name: 9999, dtype: object"
      ]
     },
     "execution_count": 103,
     "metadata": {},
     "output_type": "execute_result"
    }
   ],
   "source": [
    "master_df.iloc[-1]"
   ]
  },
  {
   "cell_type": "code",
   "execution_count": null,
   "metadata": {},
   "outputs": [],
   "source": [
    "\n",
    "def get_galaxy(loc):\n",
    "    "
   ]
  },
  {
   "cell_type": "code",
   "execution_count": 115,
   "metadata": {},
   "outputs": [],
   "source": [
    "def quality_check(df, retirement_limit, n_bins=10):\n",
    "    df = df.query('total >= {}'.format(retirement_limit))\n",
    "    print('Retired: {}'.format(len(df)))\n",
    "    df = df.dropna(subset=['!file_loc'])\n",
    "    df['local_file_loc'] = df['!file_loc'].astype(str).apply(lambda x: '/media' + x[8:])\n",
    "    df['binned_vf'] = pd.cut(df['featured'], n_bins, labels=False)\n",
    "    n_galaxies_per_bin = 5\n",
    "    fig, axes = plt.subplots(n_bins, n_galaxies_per_bin, figsize=(n_bins, n_galaxies_per_bin))\n",
    "    for bin_n in range(n_bins):\n",
    "        selected_df = df.query('binned_vf == {}'.format(bin_n))\n",
    "        assert len(selected_df) > n_galaxies_per_bin\n",
    "        for galaxy_n in range(n_galaxies_per_bin):\n",
    "            galaxy = selected_df.iloc[galaxy_n]\n",
    "            image = Image.open(galaxy['local_file_loc'])\n",
    "            axes[bin_n][galaxy_n].imshow(image)"
   ]
  },
  {
   "cell_type": "code",
   "execution_count": 116,
   "metadata": {},
   "outputs": [
    {
     "name": "stdout",
     "output_type": "stream",
     "text": [
      "Retired: 2053\n"
     ]
    },
    {
     "ename": "FileNotFoundError",
     "evalue": "[Errno 2] No such file or directory: '/media/alpha/decals/png_native/dr5/J163/J163735.45+265046.7.png'",
     "output_type": "error",
     "traceback": [
      "\u001b[0;31m---------------------------------------------------------------------------\u001b[0m",
      "\u001b[0;31mFileNotFoundError\u001b[0m                         Traceback (most recent call last)",
      "\u001b[0;32m<ipython-input-116-0ff8141dc7d8>\u001b[0m in \u001b[0;36m<module>\u001b[0;34m\u001b[0m\n\u001b[0;32m----> 1\u001b[0;31m \u001b[0mquality_check\u001b[0m\u001b[0;34m(\u001b[0m\u001b[0mmaster_df\u001b[0m\u001b[0;34m,\u001b[0m \u001b[0mretirement_limit\u001b[0m\u001b[0;34m=\u001b[0m\u001b[0;36m10\u001b[0m\u001b[0;34m)\u001b[0m\u001b[0;34m\u001b[0m\u001b[0;34m\u001b[0m\u001b[0m\n\u001b[0m",
      "\u001b[0;32m<ipython-input-115-5c358d622725>\u001b[0m in \u001b[0;36mquality_check\u001b[0;34m(df, retirement_limit, n_bins)\u001b[0m\n\u001b[1;32m     12\u001b[0m         \u001b[0;32mfor\u001b[0m \u001b[0mgalaxy_n\u001b[0m \u001b[0;32min\u001b[0m \u001b[0mrange\u001b[0m\u001b[0;34m(\u001b[0m\u001b[0mn_galaxies_per_bin\u001b[0m\u001b[0;34m)\u001b[0m\u001b[0;34m:\u001b[0m\u001b[0;34m\u001b[0m\u001b[0;34m\u001b[0m\u001b[0m\n\u001b[1;32m     13\u001b[0m             \u001b[0mgalaxy\u001b[0m \u001b[0;34m=\u001b[0m \u001b[0mselected_df\u001b[0m\u001b[0;34m.\u001b[0m\u001b[0miloc\u001b[0m\u001b[0;34m[\u001b[0m\u001b[0mgalaxy_n\u001b[0m\u001b[0;34m]\u001b[0m\u001b[0;34m\u001b[0m\u001b[0;34m\u001b[0m\u001b[0m\n\u001b[0;32m---> 14\u001b[0;31m             \u001b[0mimage\u001b[0m \u001b[0;34m=\u001b[0m \u001b[0mImage\u001b[0m\u001b[0;34m.\u001b[0m\u001b[0mopen\u001b[0m\u001b[0;34m(\u001b[0m\u001b[0mgalaxy\u001b[0m\u001b[0;34m[\u001b[0m\u001b[0;34m'local_file_loc'\u001b[0m\u001b[0;34m]\u001b[0m\u001b[0;34m)\u001b[0m\u001b[0;34m\u001b[0m\u001b[0;34m\u001b[0m\u001b[0m\n\u001b[0m\u001b[1;32m     15\u001b[0m             \u001b[0maxes\u001b[0m\u001b[0;34m[\u001b[0m\u001b[0mbin_n\u001b[0m\u001b[0;34m]\u001b[0m\u001b[0;34m[\u001b[0m\u001b[0mgalaxy_n\u001b[0m\u001b[0;34m]\u001b[0m\u001b[0;34m.\u001b[0m\u001b[0mimshow\u001b[0m\u001b[0;34m(\u001b[0m\u001b[0mimage\u001b[0m\u001b[0;34m)\u001b[0m\u001b[0;34m\u001b[0m\u001b[0;34m\u001b[0m\u001b[0m\n",
      "\u001b[0;32m/data/miniconda3/envs/zoobot/lib/python3.6/site-packages/PIL/Image.py\u001b[0m in \u001b[0;36mopen\u001b[0;34m(fp, mode)\u001b[0m\n\u001b[1;32m   2578\u001b[0m \u001b[0;34m\u001b[0m\u001b[0m\n\u001b[1;32m   2579\u001b[0m     \u001b[0;32mif\u001b[0m \u001b[0mfilename\u001b[0m\u001b[0;34m:\u001b[0m\u001b[0;34m\u001b[0m\u001b[0;34m\u001b[0m\u001b[0m\n\u001b[0;32m-> 2580\u001b[0;31m         \u001b[0mfp\u001b[0m \u001b[0;34m=\u001b[0m \u001b[0mbuiltins\u001b[0m\u001b[0;34m.\u001b[0m\u001b[0mopen\u001b[0m\u001b[0;34m(\u001b[0m\u001b[0mfilename\u001b[0m\u001b[0;34m,\u001b[0m \u001b[0;34m\"rb\"\u001b[0m\u001b[0;34m)\u001b[0m\u001b[0;34m\u001b[0m\u001b[0;34m\u001b[0m\u001b[0m\n\u001b[0m\u001b[1;32m   2581\u001b[0m         \u001b[0mexclusive_fp\u001b[0m \u001b[0;34m=\u001b[0m \u001b[0;32mTrue\u001b[0m\u001b[0;34m\u001b[0m\u001b[0;34m\u001b[0m\u001b[0m\n\u001b[1;32m   2582\u001b[0m \u001b[0;34m\u001b[0m\u001b[0m\n",
      "\u001b[0;31mFileNotFoundError\u001b[0m: [Errno 2] No such file or directory: '/media/alpha/decals/png_native/dr5/J163/J163735.45+265046.7.png'"
     ]
    },
    {
     "data": {
      "image/png": "[encoded data removed]",
      "text/plain": [
       "<Figure size 720x360 with 50 Axes>"
      ]
     },
     "metadata": {
      "needs_background": "light"
     },
     "output_type": "display_data"
    }
   ],
   "source": [
    "quality_check(master_df, retirement_limit=10)"
   ]
  },
  {
   "cell_type": "code",
   "execution_count": null,
   "metadata": {},
   "outputs": [],
   "source": []
  },
  {
   "cell_type": "code",
   "execution_count": null,
   "metadata": {},
   "outputs": [],
   "source": []
  },
  {
   "cell_type": "code",
   "execution_count": null,
   "metadata": {},
   "outputs": [],
   "source": []
  },
  {
   "cell_type": "code",
   "execution_count": null,
   "metadata": {},
   "outputs": [],
   "source": []
  }
 ],
 "metadata": {
  "kernelspec": {
   "display_name": "Python 3",
   "language": "python",
   "name": "python3"
  },
  "language_info": {
   "codemirror_mode": {
    "name": "ipython",
    "version": 3
   },
   "file_extension": ".py",
   "mimetype": "text/x-python",
   "name": "python",
   "nbconvert_exporter": "python",
   "pygments_lexer": "ipython3",
   "version": "3.6.7"
  }
 },
 "nbformat": 4,
 "nbformat_minor": 2
}
