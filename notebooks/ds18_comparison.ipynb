{
 "cells": [
  {
   "cell_type": "code",
   "execution_count": 1,
   "metadata": {},
   "outputs": [],
   "source": [
    "%load_ext autoreload\n",
    "%autoreload 2\n",
    "%matplotlib inline"
   ]
  },
  {
   "cell_type": "code",
   "execution_count": 2,
   "metadata": {},
   "outputs": [],
   "source": [
    "import ast\n",
    "import os\n",
    "\n",
    "import pandas as pd\n",
    "import numpy as np\n",
    "from astropy.io import fits\n",
    "from astropy.table import Table\n",
    "from sklearn.dummy import DummyRegressor\n",
    "from sklearn import metrics\n",
    "from sklearn.linear_model import LogisticRegression\n",
    "from sklearn.model_selection import train_test_split\n",
    "import matplotlib.pyplot as plt\n",
    "import seaborn as sns\n",
    "sns.set_context('notebook')\n",
    "from scipy.stats import gaussian_kde\n",
    "\n",
    "from shared_astro_utils import matching_utils\n",
    "\n",
    "from zoobot.active_learning import metrics, simulated_metrics"
   ]
  },
  {
   "cell_type": "code",
   "execution_count": 40,
   "metadata": {},
   "outputs": [],
   "source": [
    "save_dir = '../analysis/ds_nair'\n",
    "if not os.path.isdir(save_dir):\n",
    "    os.mkdir(save_dir)"
   ]
  },
  {
   "cell_type": "markdown",
   "metadata": {},
   "source": [
    "### Load Catalogs"
   ]
  },
  {
   "cell_type": "code",
   "execution_count": 3,
   "metadata": {},
   "outputs": [
    {
     "name": "stdout",
     "output_type": "stream",
     "text": [
      "/home/ubuntu/root/zoobot/notebooks\n"
     ]
    }
   ],
   "source": [
    "!pwd"
   ]
  },
  {
   "cell_type": "code",
   "execution_count": 9,
   "metadata": {},
   "outputs": [
    {
     "name": "stdout",
     "output_type": "stream",
     "text": [
      "Preparing to download data from 's3://galaxy-zoo/dvc/zoobot'\n",
      "Preparing to collect status from s3://galaxy-zoo/dvc/zoobot\n",
      "\u001b[K[##############################] 100% Collecting information\n",
      "\u001b[K[##############################] 100% Analysing status.\n",
      "\u001b[K[##############################] 100% ZOO_model_full_catalogue.fit\n",
      "Checking out '{'scheme': 'local', 'path': '/home/ubuntu/root/zoobot/data/mhc/ZOO_model_full_catalogue.fit'}' with cache '594c85a113cec54346ad100960ae27f2'.\n",
      "\u001b[0m"
     ]
    }
   ],
   "source": [
    "mhc_loc = '../data/mhc/ZOO_model_full_catalogue.fit'\n",
    "if not os.path.isfile(mhc_loc):\n",
    "    !dvc pull -r s3 {mhc_loc}.dvc"
   ]
  },
  {
   "cell_type": "code",
   "execution_count": 10,
   "metadata": {},
   "outputs": [],
   "source": [
    "mhc_catalog = Table.read(mhc_loc)"
   ]
  },
  {
   "cell_type": "code",
   "execution_count": 11,
   "metadata": {},
   "outputs": [],
   "source": [
    "mhc_catalog['dr7objid'] = [str(x) for x in mhc_catalog['dr7objid']]"
   ]
  },
  {
   "cell_type": "code",
   "execution_count": 12,
   "metadata": {},
   "outputs": [],
   "source": [
    "mhc_catalog = mhc_catalog.to_pandas()"
   ]
  },
  {
   "cell_type": "code",
   "execution_count": 13,
   "metadata": {},
   "outputs": [],
   "source": [
    "gz_catalog_loc = '../data/gz2_classifications_and_subjects.csv'\n",
    "if not os.path.isfile(gz_catalog_loc):\n",
    "    !dvc pull -r s3 {gz_catalog_loc}.dvc"
   ]
  },
  {
   "cell_type": "code",
   "execution_count": 14,
   "metadata": {},
   "outputs": [],
   "source": [
    "gz_catalog = pd.read_csv(gz_catalog_loc, dtype={'dr7objid': str})"
   ]
  },
  {
   "cell_type": "markdown",
   "metadata": {},
   "source": [
    "### Check Data"
   ]
  },
  {
   "cell_type": "code",
   "execution_count": 15,
   "metadata": {},
   "outputs": [
    {
     "data": {
      "text/plain": [
       "dr7objid        587722952230174996\n",
       "galcount                         1\n",
       "P_disk                 3.54431e-05\n",
       "P_edge_on                 0.646749\n",
       "P_bar_GZ2               0.00570267\n",
       "P_bulge                 0.00223408\n",
       "P_cigar                   0.992602\n",
       "P_merg                   0.0210895\n",
       "P_bar_Nair10              0.384967\n",
       "TT_pred                    3.40424\n",
       "P_S0                      0.970816\n",
       "Name: 0, dtype: object"
      ]
     },
     "execution_count": 15,
     "metadata": {},
     "output_type": "execute_result"
    }
   ],
   "source": [
    "mhc_catalog.iloc[0]"
   ]
  },
  {
   "cell_type": "code",
   "execution_count": 16,
   "metadata": {},
   "outputs": [
    {
     "data": {
      "text/plain": [
       "dr7objid                                                                                        587732591714893851\n",
       "ra_subject                                                                                                 179.043\n",
       "dec_subject                                                                                                60.5225\n",
       "rastring                                                                                               11:56:10.32\n",
       "decstring                                                                                              +60:31:21.1\n",
       "sample                                                                                                    original\n",
       "gz2_class                                                                                                     Sc+t\n",
       "total_classifications                                                                                           45\n",
       "total_votes                                                                                                    342\n",
       "t01_smooth_or_features_a01_smooth_count                                                                          0\n",
       "t01_smooth_or_features_a01_smooth_weight                                                                         0\n",
       "t01_smooth_or_features_a01_smooth_fraction                                                                       0\n",
       "t01_smooth_or_features_a01_smooth_weighted_fraction                                                              0\n",
       "t01_smooth_or_features_a01_smooth_debiased                                                                       0\n",
       "t01_smooth_or_features_a01_smooth_flag                                                                           0\n",
       "t01_smooth_or_features_a02_features_or_disk_count                                                               42\n",
       "t01_smooth_or_features_a02_features_or_disk_weight                                                              42\n",
       "t01_smooth_or_features_a02_features_or_disk_fraction                                                         0.933\n",
       "t01_smooth_or_features_a02_features_or_disk_weighted_fraction                                                0.988\n",
       "t01_smooth_or_features_a02_features_or_disk_debiased                                                         0.988\n",
       "t01_smooth_or_features_a02_features_or_disk_flag                                                                 1\n",
       "t01_smooth_or_features_a03_star_or_artifact_count                                                                3\n",
       "t01_smooth_or_features_a03_star_or_artifact_weight                                                           0.506\n",
       "t01_smooth_or_features_a03_star_or_artifact_fraction                                                         0.067\n",
       "t01_smooth_or_features_a03_star_or_artifact_weighted_fraction                                                0.012\n",
       "t01_smooth_or_features_a03_star_or_artifact_debiased                                                         0.012\n",
       "t01_smooth_or_features_a03_star_or_artifact_flag                                                                 0\n",
       "t02_edgeon_a04_yes_count                                                                                         2\n",
       "t02_edgeon_a04_yes_weight                                                                                        2\n",
       "t02_edgeon_a04_yes_fraction                                                                                  0.048\n",
       "                                                                                       ...                        \n",
       "t11_arms_number_a36_more_than_4_weighted_fraction                                                             0.45\n",
       "t11_arms_number_a36_more_than_4_debiased                                                                  0.482646\n",
       "t11_arms_number_a36_more_than_4_flag                                                                             0\n",
       "t11_arms_number_a37_cant_tell_count                                                                             16\n",
       "t11_arms_number_a37_cant_tell_weight                                                                            16\n",
       "t11_arms_number_a37_cant_tell_fraction                                                                         0.4\n",
       "t11_arms_number_a37_cant_tell_weighted_fraction                                                                0.4\n",
       "t11_arms_number_a37_cant_tell_debiased                                                                    0.394506\n",
       "t11_arms_number_a37_cant_tell_flag                                                                               0\n",
       "best_match                                                                                                   58956\n",
       "sky_separation                                                                                         4.01821e-07\n",
       "id                                                                                                           58957\n",
       "name                                                                                            587732591714893851\n",
       "project_id                                                                                                       1\n",
       "location                                                                    http://s3.amazonaws.com/zoo2/58957.jpg\n",
       "classification_count                                                                                            45\n",
       "external_ref                                                     http://cas.sdss.org/dr7/en/tools/quicklook/qui...\n",
       "created_at                                                                                     2009-01-30 15:56:45\n",
       "updated_at                                                                                     2010-04-12 05:37:02\n",
       "region                                                                                                           6\n",
       "redshift_bin                                                                                                     2\n",
       "magsize_bin                                                                                                      0\n",
       "battle_bin                                                                                                       2\n",
       "ra                                                                                                         179.043\n",
       "dec                                                                                                        60.5225\n",
       "stripe82                                                                                                         0\n",
       "stripe82_coadd                                                                                                   0\n",
       "extra_original                                                                                                   0\n",
       "png_loc                                                          /Volumes/alpha/gz2/png/587732/5877325917148938...\n",
       "png_ready                                                                                                     True\n",
       "Name: 0, Length: 252, dtype: object"
      ]
     },
     "execution_count": 16,
     "metadata": {},
     "output_type": "execute_result"
    }
   ],
   "source": [
    "gz_catalog.iloc[0]"
   ]
  },
  {
   "cell_type": "code",
   "execution_count": null,
   "metadata": {},
   "outputs": [],
   "source": []
  },
  {
   "cell_type": "markdown",
   "metadata": {},
   "source": [
    "### Merge"
   ]
  },
  {
   "cell_type": "code",
   "execution_count": 17,
   "metadata": {},
   "outputs": [],
   "source": [
    "assert type(gz_catalog.iloc[0]['dr7objid']) == type(mhc_catalog.iloc[0]['dr7objid']) == str"
   ]
  },
  {
   "cell_type": "code",
   "execution_count": 18,
   "metadata": {},
   "outputs": [],
   "source": [
    "df = pd.merge(gz_catalog, mhc_catalog, on='dr7objid', how='inner')"
   ]
  },
  {
   "cell_type": "code",
   "execution_count": 19,
   "metadata": {},
   "outputs": [
    {
     "data": {
      "text/plain": [
       "(239695, 670722, 234795)"
      ]
     },
     "execution_count": 19,
     "metadata": {},
     "output_type": "execute_result"
    }
   ],
   "source": [
    "len(gz_catalog), len(mhc_catalog), len(df)"
   ]
  },
  {
   "cell_type": "markdown",
   "metadata": {},
   "source": [
    "### Filter to current shard galaxies"
   ]
  },
  {
   "cell_type": "code",
   "execution_count": 20,
   "metadata": {},
   "outputs": [
    {
     "data": {
      "text/plain": [
       "73354"
      ]
     },
     "execution_count": 20,
     "metadata": {},
     "output_type": "execute_result"
    }
   ],
   "source": [
    "df['bar_total-votes'] = df['t03_bar_a06_bar_count'] + df['t03_bar_a07_no_bar_count']\n",
    "df['bar_fraction'] = df['t03_bar_a06_bar_count'] / df['bar_total-votes']\n",
    "df = df[df['bar_total-votes'] > 10]\n",
    "len(df)"
   ]
  },
  {
   "cell_type": "code",
   "execution_count": 21,
   "metadata": {},
   "outputs": [
    {
     "data": {
      "text/plain": [
       "<matplotlib.legend.Legend at 0x7fb4082b0a20>"
      ]
     },
     "execution_count": 21,
     "metadata": {},
     "output_type": "execute_result"
    },
    {
     "data": {
      "image/png": "[encoded data removed]",
      "text/plain": [
       "<Figure size 432x288 with 1 Axes>"
      ]
     },
     "metadata": {},
     "output_type": "display_data"
    }
   ],
   "source": [
    "fig, ax = plt.subplots()\n",
    "alpha = 0.5\n",
    "ax.hist(df['P_bar_GZ2'], alpha=alpha)\n",
    "ax.hist(df['bar_fraction'], alpha=alpha)\n",
    "ax.set_xlabel('Observed Bar Vote Fraction')\n",
    "ax.set_ylabel('Count')\n",
    "ax.legend(['MHC', 'GZ2'])"
   ]
  },
  {
   "cell_type": "markdown",
   "metadata": {},
   "source": [
    "### Baseline"
   ]
  },
  {
   "cell_type": "markdown",
   "metadata": {},
   "source": [
    "rmse is not really the right thing to measure, but it'll do"
   ]
  },
  {
   "cell_type": "code",
   "execution_count": 22,
   "metadata": {},
   "outputs": [
    {
     "data": {
      "text/plain": [
       "0.2607518098536792"
      ]
     },
     "execution_count": 22,
     "metadata": {},
     "output_type": "execute_result"
    }
   ],
   "source": [
    "clf = DummyRegressor()\n",
    "train_df, test_df = df[:50000], df[50000:]\n",
    "X_train = np.random.rand(len(train_df), 1)\n",
    "X_test = np.random.rand(len(test_df), 1)\n",
    "Y_train = train_df['bar_fraction']\n",
    "Y_test = test_df['bar_fraction']\n",
    "\n",
    "clf.fit(X_train, Y_train)\n",
    "predictions = clf.predict(X_test)\n",
    "rmse = np.sqrt(metrics.mean_squared_error(Y_test, predictions))\n",
    "rmse  "
   ]
  },
  {
   "cell_type": "markdown",
   "metadata": {},
   "source": [
    "### Compare Against Nair (appeal to expert)"
   ]
  },
  {
   "cell_type": "markdown",
   "metadata": {},
   "source": [
    "DS trained on GZ2 with 0.2 or 0.8 prob, and n total votes > 5 ('high confidence sample')\n",
    "\n",
    "DS trained on Nair with all bars, initializing from trained GZ model.\n",
    "\n",
    "Should be able to do something like: \n",
    "\n",
    "Regress GZ2 to Nair to predict strong bars\n",
    "Ask model to predict strong bars\n",
    "Compare to DS predictions of strong bars\n",
    "\n",
    "Should first check how many strong bars - only 24??"
   ]
  },
  {
   "cell_type": "code",
   "execution_count": 25,
   "metadata": {},
   "outputs": [
    {
     "name": "stdout",
     "output_type": "stream",
     "text": [
      "Preparing to download data from 's3://galaxy-zoo/dvc/zoobot'\n",
      "Preparing to collect status from s3://galaxy-zoo/dvc/zoobot\n",
      "\u001b[K[##############################] 100% Collecting information\n",
      "\u001b[K[##############################] 100% Analysing status.\n",
      "\u001b[K[##############################] 100% nair_sdss_catalog_interpreted.csv\n",
      "Checking out '{'scheme': 'local', 'path': '/home/ubuntu/root/zoobot/data/nair_sdss_catalog_interpreted.csv'}' with cache 'd3c7195b34a4d7c9aaa2d145840f82b7'.\n",
      "\u001b[0m"
     ]
    }
   ],
   "source": [
    "nair_loc = '../data/nair_sdss_catalog_interpreted.csv'\n",
    "if not os.path.isfile(nair_loc):\n",
    "    !dvc pull -r s3 {nair_loc}.dvc\n",
    "nair_df = pd.read_csv(nair_loc)"
   ]
  },
  {
   "cell_type": "code",
   "execution_count": 26,
   "metadata": {},
   "outputs": [
    {
     "data": {
      "text/plain": [
       "iauname        J155341.74-003422.84\n",
       "zs                            0.078\n",
       "q_zs                              1\n",
       "g_mag                         15.82\n",
       "r_mag                        15.058\n",
       "log_m_                       11.083\n",
       "age                           4.459\n",
       "b_a                           0.794\n",
       "sigma                        143.68\n",
       "tt                                3\n",
       "bar                               0\n",
       "ring                             36\n",
       "f_ring                            0\n",
       "lens                              0\n",
       "ttq                               0\n",
       "pair                              0\n",
       "f_pair                            0\n",
       "int                               0\n",
       "nt                                0\n",
       "rc3                                \n",
       "ra                          238.424\n",
       "dec                       -0.573011\n",
       "has_bar                       False\n",
       "has_ring                       True\n",
       "bar_types                        []\n",
       "ring_types    ['inner', 'min_four']\n",
       "Name: 0, dtype: object"
      ]
     },
     "execution_count": 26,
     "metadata": {},
     "output_type": "execute_result"
    }
   ],
   "source": [
    "nair_df.iloc[0]"
   ]
  },
  {
   "cell_type": "code",
   "execution_count": 28,
   "metadata": {},
   "outputs": [],
   "source": [
    "nair_df['bar_types'] = nair_df['bar_types'].apply(ast.literal_eval)"
   ]
  },
  {
   "cell_type": "code",
   "execution_count": 29,
   "metadata": {},
   "outputs": [],
   "source": [
    "nair_df['has_strong_bar'] = ['strong' in bars for bars in nair_df['bar_types']]"
   ]
  },
  {
   "cell_type": "code",
   "execution_count": 30,
   "metadata": {},
   "outputs": [
    {
     "data": {
      "text/plain": [
       "(210, 2612)"
      ]
     },
     "execution_count": 30,
     "metadata": {},
     "output_type": "execute_result"
    }
   ],
   "source": [
    "nair_df['has_strong_bar'].sum(), nair_df['has_bar'].sum()"
   ]
  },
  {
   "cell_type": "code",
   "execution_count": 31,
   "metadata": {},
   "outputs": [],
   "source": [
    "matched, unmatched = matching_utils.match_galaxies_to_catalog_pandas(\n",
    "    galaxies=nair_df,\n",
    "    catalog=df,\n",
    "    galaxy_suffix='_nair'\n",
    ")"
   ]
  },
  {
   "cell_type": "code",
   "execution_count": 32,
   "metadata": {},
   "outputs": [
    {
     "data": {
      "text/plain": [
       "(6051, 7983)"
      ]
     },
     "execution_count": 32,
     "metadata": {},
     "output_type": "execute_result"
    }
   ],
   "source": [
    "len(matched), len(unmatched)  # seems a bit low, no?"
   ]
  },
  {
   "cell_type": "code",
   "execution_count": 33,
   "metadata": {},
   "outputs": [
    {
     "data": {
      "text/plain": [
       "142"
      ]
     },
     "execution_count": 33,
     "metadata": {},
     "output_type": "execute_result"
    }
   ],
   "source": [
    "sum(['strong' in bars for bars in matched['bar_types']])"
   ]
  },
  {
   "cell_type": "markdown",
   "metadata": {},
   "source": [
    "#### Typical GZ2 Bar Fractions (for interest only)"
   ]
  },
  {
   "cell_type": "code",
   "execution_count": 34,
   "metadata": {},
   "outputs": [],
   "source": [
    "# fig, ax = plt.subplots()\n",
    "# has_strong_bar = matched[matched['has_strong_bar']]['bar_fraction']\n",
    "# no_strong_bar = matched[~matched['has_strong_bar']]['bar_fraction']\n",
    "# strong_kde = gaussian_kde(has_strong_bar)\n",
    "# no_strong_kde = gaussian_kde(no_strong_bar)\n",
    "# x = np.linspace(0., 1., 300)\n",
    "# plt.plot(x, strong_kde(x), label='nair: strong bar')\n",
    "# plt.plot(x, no_strong_kde(x), label='nair: not strong bar')\n",
    "# ax.set_xlabel('GZ2 Bar Fraction')\n",
    "# ax.set_ylabel('Prob. Dens. of Having Bar Fraction')"
   ]
  },
  {
   "cell_type": "code",
   "execution_count": 35,
   "metadata": {},
   "outputs": [
    {
     "data": {
      "text/plain": [
       "Text(0,0.5,'Prob. Dens. of Having Bar Fraction')"
      ]
     },
     "execution_count": 35,
     "metadata": {},
     "output_type": "execute_result"
    },
    {
     "data": {
      "image/png": "[encoded data removed]",
      "text/plain": [
       "<Figure size 432x288 with 1 Axes>"
      ]
     },
     "metadata": {},
     "output_type": "display_data"
    }
   ],
   "source": [
    "fig, ax = plt.subplots()\n",
    "has_bar = matched[matched['has_bar']]['bar_fraction']\n",
    "no_bar = matched[~matched['has_bar']]['bar_fraction']\n",
    "bar_kde = gaussian_kde(has_bar)\n",
    "no_bar_kde = gaussian_kde(no_bar)\n",
    "x = np.linspace(0., 1., 300)\n",
    "plt.plot(x, bar_kde(x), label='nair: strong bar')\n",
    "plt.plot(x, no_bar_kde(x), label='nair: not strong bar')\n",
    "ax.set_xlabel('GZ2 Bar Fraction')\n",
    "ax.set_ylabel('Prob. Dens. of Having Bar Fraction')"
   ]
  },
  {
   "cell_type": "markdown",
   "metadata": {},
   "source": [
    "### Predict Nair from GZ2 Votes (WWND) with Logistic Regression"
   ]
  },
  {
   "cell_type": "code",
   "execution_count": 36,
   "metadata": {},
   "outputs": [],
   "source": [
    "train_df, test_df = train_test_split(matched, test_size=0.2, stratify=matched['has_bar'])"
   ]
  },
  {
   "cell_type": "code",
   "execution_count": 37,
   "metadata": {},
   "outputs": [],
   "source": [
    "# strong_clf = LogisticRegression()\n",
    "# strong_clf.fit(matched['bar_fraction'].values.reshape(-1, 1), matched['has_strong_bar'])\n",
    "# strong_predictions = strong_clf.predict_proba(matched['bar_fraction'].values.reshape(-1, 1))[:, 1]\n",
    "# sns.scatterplot(matched['bar_fraction'].values, predictions)\n",
    "# gz2_expected_strong_bars = sum(strong_predictions)\n",
    "# print(gz2_expected_strong_bars)"
   ]
  },
  {
   "cell_type": "code",
   "execution_count": 214,
   "metadata": {},
   "outputs": [],
   "source": [
    "sns.set_style('white')"
   ]
  },
  {
   "cell_type": "code",
   "execution_count": 215,
   "metadata": {},
   "outputs": [
    {
     "name": "stdout",
     "output_type": "stream",
     "text": [
      "Expected bars: 396.0 Actual bars: 379\n"
     ]
    },
    {
     "data": {
      "image/png": "[encoded data removed]",
      "text/plain": [
       "<Figure size 432x288 with 1 Axes>"
      ]
     },
     "metadata": {},
     "output_type": "display_data"
    }
   ],
   "source": [
    "bar_clf = LogisticRegression()\n",
    "bar_clf.fit(train_df['bar_fraction'].values.reshape(-1, 1), train_df['has_bar'])\n",
    "\n",
    "def p_bar_given_gz(bar_fractions): return bar_clf.predict_proba(bar_fractions.values.reshape(-1, 1))[:, 1]\n",
    "\n",
    "# sns.scatterplot(train_df['bar_fraction'].values, p_bar_given_gz(train_df['bar_fraction']))\n",
    "fig, ax = plt.subplots()\n",
    "x = pd.Series(np.linspace(0., 1., 100))\n",
    "ax.plot(x, p_bar_given_gz(x), 'k')\n",
    "ax.set_xlabel('GZ2 Bar Vote Fraction')\n",
    "ax.set_ylabel(r'$p$(Nair Bar | GZ2 Fraction)')\n",
    "plt.savefig(os.path.join(save_dir, 'gz2_fraction_to_nair_latest.png'))\n",
    "\n",
    "gz2_predictions = p_bar_given_gz(test_df['bar_fraction'])\n",
    "\n",
    "# should be similar total num. of expected/observed bars if predict_proba is well-calibrated\n",
    "gz2_expected_bars = np.sum(gz2_predictions)\n",
    "print('Expected bars: {:.1f} Actual bars: {:.0f}'.format(gz2_expected_bars, test_df['has_bar'].sum()))"
   ]
  },
  {
   "cell_type": "code",
   "execution_count": 43,
   "metadata": {},
   "outputs": [
    {
     "data": {
      "text/plain": [
       "(554.4027153210985, 352.87785855870607)"
      ]
     },
     "execution_count": 43,
     "metadata": {},
     "output_type": "execute_result"
    }
   ],
   "source": [
    "sum(test_df['P_bar_Nair10']), sum(test_df['P_bar_GZ2'])"
   ]
  },
  {
   "cell_type": "markdown",
   "metadata": {},
   "source": [
    "Next question: how can you do using the probabilistic model predictions? Hopefully, about as well as with GZ2 predictions but including a window of uncertainty."
   ]
  },
  {
   "cell_type": "code",
   "execution_count": 171,
   "metadata": {},
   "outputs": [],
   "source": [
    "state_dir = '../analysis/uncertainty/al-binomial/bars-full-nair'\n",
    "model_name = 'bars-full-nair'\n",
    "state = metrics.load_iteration_state(state_dir)\n",
    "model = metrics.Model(state, name=model_name)\n",
    "df['subject_id'] = df['id'].astype(str)\n",
    "df['total_votes']  = df['bar_total-votes']\n",
    "df['label']  = df['t03_bar_a06_bar_count']\n",
    "\n",
    "gz_catalog['bar_total-votes'] = gz_catalog['t03_bar_a06_bar_count'] + gz_catalog['t03_bar_a07_no_bar_count']\n",
    "gz_catalog['subject_id'] = gz_catalog['id'].astype(str)\n",
    "gz_catalog['total_votes']  = gz_catalog['bar_total-votes']\n",
    "gz_catalog['label']  = gz_catalog['t03_bar_a06_bar_count']"
   ]
  },
  {
   "cell_type": "code",
   "execution_count": 172,
   "metadata": {},
   "outputs": [],
   "source": [
    "assert set(model.id_strs) - set(gz_catalog['subject_id'].values) == set()"
   ]
  },
  {
   "cell_type": "code",
   "execution_count": 173,
   "metadata": {},
   "outputs": [
    {
     "name": "stderr",
     "output_type": "stream",
     "text": [
      "/home/ubuntu/root/zoobot/zoobot/active_learning/simulated_metrics.py:190: SettingWithCopyWarning: \n",
      "A value is trying to be set on a copy of a slice from a DataFrame.\n",
      "Try using .loc[row_indexer,col_indexer] = value instead\n",
      "\n",
      "See the caveats in the documentation: http://pandas.pydata.org/pandas-docs/stable/indexing.html#indexing-view-versus-copy\n",
      "  filtered_catalog['subject_id'] = filtered_catalog['subject_id'].astype(str)\n"
     ]
    }
   ],
   "source": [
    "sim_model = simulated_metrics.SimulatedModel(model, gz_catalog)"
   ]
  },
  {
   "cell_type": "code",
   "execution_count": 174,
   "metadata": {},
   "outputs": [],
   "source": [
    " # samples from model for gz2 mean bar votes\n",
    "\n",
    "gz2_dl_df = pd.DataFrame({'rho': sim_model.mean_rho_prediction, 'id_str': sim_model.model.id_strs})\n",
    "# # gz2_dl_probs = bin_probs_of_samples(gz2_dl_predictions, n_votes=n_votes).mean(axis=1)  # reduce over forward passes\n",
    "# gz2_dl_probs = np.ones((len(test_df), n_votes)) / n_votes"
   ]
  },
  {
   "cell_type": "code",
   "execution_count": 175,
   "metadata": {},
   "outputs": [
    {
     "name": "stderr",
     "output_type": "stream",
     "text": [
      "/home/ubuntu/anaconda3/envs/tensorflow_p36/lib/python3.6/site-packages/ipykernel_launcher.py:1: SettingWithCopyWarning: \n",
      "A value is trying to be set on a copy of a slice from a DataFrame.\n",
      "Try using .loc[row_indexer,col_indexer] = value instead\n",
      "\n",
      "See the caveats in the documentation: http://pandas.pydata.org/pandas-docs/stable/indexing.html#indexing-view-versus-copy\n",
      "  \"\"\"Entry point for launching an IPython kernel.\n"
     ]
    },
    {
     "data": {
      "text/plain": [
       "1027"
      ]
     },
     "execution_count": 175,
     "metadata": {},
     "output_type": "execute_result"
    }
   ],
   "source": [
    "test_df['id_str'] = test_df['id'].astype(str)\n",
    "gz2_dl_test_df = pd.merge(gz2_dl_df, test_df, how='inner', on='id_str')\n",
    "gz2_dl_test_df['p_nair_bar'] = p_bar_given_gz(gz2_dl_test_df['rho'])\n",
    "len(gz2_dl_test_df)"
   ]
  },
  {
   "cell_type": "code",
   "execution_count": 176,
   "metadata": {},
   "outputs": [
    {
     "data": {
      "text/html": [
       "<div>\n",
       "<style scoped>\n",
       "    .dataframe tbody tr th:only-of-type {\n",
       "        vertical-align: middle;\n",
       "    }\n",
       "\n",
       "    .dataframe tbody tr th {\n",
       "        vertical-align: top;\n",
       "    }\n",
       "\n",
       "    .dataframe thead th {\n",
       "        text-align: right;\n",
       "    }\n",
       "</style>\n",
       "<table border=\"1\" class=\"dataframe\">\n",
       "  <thead>\n",
       "    <tr style=\"text-align: right;\">\n",
       "      <th></th>\n",
       "      <th>bar_fraction</th>\n",
       "      <th>rho</th>\n",
       "      <th>p_nair_bar</th>\n",
       "      <th>has_bar</th>\n",
       "    </tr>\n",
       "  </thead>\n",
       "  <tbody>\n",
       "    <tr>\n",
       "      <th>199</th>\n",
       "      <td>0.933333</td>\n",
       "      <td>0.662720</td>\n",
       "      <td>0.726541</td>\n",
       "      <td>True</td>\n",
       "    </tr>\n",
       "    <tr>\n",
       "      <th>208</th>\n",
       "      <td>0.181818</td>\n",
       "      <td>0.578051</td>\n",
       "      <td>0.609921</td>\n",
       "      <td>False</td>\n",
       "    </tr>\n",
       "    <tr>\n",
       "      <th>936</th>\n",
       "      <td>0.031250</td>\n",
       "      <td>0.337661</td>\n",
       "      <td>0.257646</td>\n",
       "      <td>False</td>\n",
       "    </tr>\n",
       "    <tr>\n",
       "      <th>629</th>\n",
       "      <td>0.142857</td>\n",
       "      <td>0.333559</td>\n",
       "      <td>0.252764</td>\n",
       "      <td>False</td>\n",
       "    </tr>\n",
       "    <tr>\n",
       "      <th>619</th>\n",
       "      <td>0.166667</td>\n",
       "      <td>0.188677</td>\n",
       "      <td>0.120139</td>\n",
       "      <td>False</td>\n",
       "    </tr>\n",
       "    <tr>\n",
       "      <th>807</th>\n",
       "      <td>0.264706</td>\n",
       "      <td>0.185556</td>\n",
       "      <td>0.118089</td>\n",
       "      <td>False</td>\n",
       "    </tr>\n",
       "    <tr>\n",
       "      <th>138</th>\n",
       "      <td>0.780488</td>\n",
       "      <td>0.693727</td>\n",
       "      <td>0.763379</td>\n",
       "      <td>False</td>\n",
       "    </tr>\n",
       "    <tr>\n",
       "      <th>277</th>\n",
       "      <td>0.421053</td>\n",
       "      <td>0.555292</td>\n",
       "      <td>0.575535</td>\n",
       "      <td>True</td>\n",
       "    </tr>\n",
       "    <tr>\n",
       "      <th>295</th>\n",
       "      <td>0.363636</td>\n",
       "      <td>0.438824</td>\n",
       "      <td>0.395369</td>\n",
       "      <td>False</td>\n",
       "    </tr>\n",
       "    <tr>\n",
       "      <th>850</th>\n",
       "      <td>0.181818</td>\n",
       "      <td>0.174411</td>\n",
       "      <td>0.111013</td>\n",
       "      <td>False</td>\n",
       "    </tr>\n",
       "  </tbody>\n",
       "</table>\n",
       "</div>"
      ],
      "text/plain": [
       "     bar_fraction       rho  p_nair_bar  has_bar\n",
       "199      0.933333  0.662720    0.726541     True\n",
       "208      0.181818  0.578051    0.609921    False\n",
       "936      0.031250  0.337661    0.257646    False\n",
       "629      0.142857  0.333559    0.252764    False\n",
       "619      0.166667  0.188677    0.120139    False\n",
       "807      0.264706  0.185556    0.118089    False\n",
       "138      0.780488  0.693727    0.763379    False\n",
       "277      0.421053  0.555292    0.575535     True\n",
       "295      0.363636  0.438824    0.395369    False\n",
       "850      0.181818  0.174411    0.111013    False"
      ]
     },
     "execution_count": 176,
     "metadata": {},
     "output_type": "execute_result"
    }
   ],
   "source": [
    "gz2_dl_test_df[['bar_fraction', 'rho', 'p_nair_bar', 'has_bar',]].sample(10)"
   ]
  },
  {
   "cell_type": "code",
   "execution_count": 177,
   "metadata": {},
   "outputs": [
    {
     "data": {
      "text/plain": [
       "<matplotlib.axes._subplots.AxesSubplot at 0x7fb3e1ba2588>"
      ]
     },
     "execution_count": 177,
     "metadata": {},
     "output_type": "execute_result"
    },
    {
     "data": {
      "image/png": "[encoded data removed]",
      "text/plain": [
       "<Figure size 432x288 with 1 Axes>"
      ]
     },
     "metadata": {},
     "output_type": "display_data"
    }
   ],
   "source": [
    "sns.scatterplot(data=gz2_dl_test_df, x='bar_fraction', y='rho')"
   ]
  },
  {
   "cell_type": "code",
   "execution_count": 178,
   "metadata": {},
   "outputs": [
    {
     "data": {
      "text/plain": [
       "<matplotlib.axes._subplots.AxesSubplot at 0x7fb3e1caddd8>"
      ]
     },
     "execution_count": 178,
     "metadata": {},
     "output_type": "execute_result"
    },
    {
     "data": {
      "image/png": "[encoded data removed]",
      "text/plain": [
       "<Figure size 432x288 with 1 Axes>"
      ]
     },
     "metadata": {},
     "output_type": "display_data"
    }
   ],
   "source": [
    "sns.scatterplot(data=gz2_dl_test_df, x='rho', y='p_nair_bar')"
   ]
  },
  {
   "cell_type": "code",
   "execution_count": 179,
   "metadata": {},
   "outputs": [],
   "source": [
    "# # bootstrap sample for distribution of bar probabilities\n",
    "# n_samples = 100\n",
    "# votes = np.zeros((len(test_df), n_samples))\n",
    "# for galaxy_n in range(len(test_df)):\n",
    "#     for sample_n in range(n_samples):\n",
    "#         votes[galaxy_n, sample_n] = np.random.choice(\n",
    "#             list(range(n_votes)),\n",
    "#             p=gz2_dl_probs[galaxy_n, :]\n",
    "#         )"
   ]
  },
  {
   "cell_type": "code",
   "execution_count": 180,
   "metadata": {},
   "outputs": [],
   "source": [
    "# votes"
   ]
  },
  {
   "cell_type": "code",
   "execution_count": 181,
   "metadata": {},
   "outputs": [],
   "source": [
    "# votes_data = []\n",
    "# for galaxy_n in range(len(votes)):\n",
    "#     for sample_n in range(n_samples):\n",
    "#         votes_data.append(\n",
    "#             {'galaxy': galaxy_n, 'sample': sample_n, 'votes': votes[galaxy_n, sample_n]}\n",
    "#         )\n",
    "# votes_df = pd.DataFrame(data=votes_data)"
   ]
  },
  {
   "cell_type": "code",
   "execution_count": 182,
   "metadata": {},
   "outputs": [],
   "source": [
    "# df = votes_df[votes_df['galaxy'] < 10]\n",
    "# sns.barplot(data=df, x='galaxy', y='votes')"
   ]
  },
  {
   "cell_type": "code",
   "execution_count": 183,
   "metadata": {},
   "outputs": [],
   "source": [
    "# vote_fractions = votes / n_votes"
   ]
  },
  {
   "cell_type": "code",
   "execution_count": null,
   "metadata": {},
   "outputs": [],
   "source": []
  },
  {
   "cell_type": "code",
   "execution_count": 216,
   "metadata": {},
   "outputs": [
    {
     "data": {
      "text/plain": [
       "Text(0,0.5,'True Positive Rate')"
      ]
     },
     "execution_count": 216,
     "metadata": {},
     "output_type": "execute_result"
    },
    {
     "data": {
      "image/png": "[encoded data removed]",
      "text/plain": [
       "<Figure size 432x288 with 1 Axes>"
      ]
     },
     "metadata": {},
     "output_type": "display_data"
    }
   ],
   "source": [
    "import sklearn\n",
    "\n",
    "ds_n_predictions = test_df['P_bar_Nair10']  # model trained on Nair to predict Nair\n",
    "ds_g_predictions = test_df['P_bar_GZ2'] # model trained on GZ2 to predict barredness\n",
    "\n",
    "fpr_gz2, tpr_gz2, _ = sklearn.metrics.roc_curve(test_df['has_bar'], gz2_predictions)\n",
    "auc_gz2 = sklearn.metrics.roc_auc_score(test_df['has_bar'], gz2_predictions)\n",
    "\n",
    "fpr_ds_n, tpr_ds_n, _ = sklearn.metrics.roc_curve(test_df['has_bar'], ds_n_predictions)\n",
    "auc_ds_n = sklearn.metrics.roc_auc_score(test_df['has_bar'], ds_n_predictions)\n",
    "\n",
    "# dl_bar_predictions.sum()\n",
    "\n",
    "fig, ax = plt.subplots()\n",
    "ax.plot(fpr_gz2, tpr_gz2, label='GZ2 Humans + LR (AUC: {:.2f})'.format(auc_gz2))\n",
    "ax.plot(fpr_ds_n, tpr_ds_n, label='DS18 (AUC: {:.2f})'.format(auc_ds_n))\n",
    "# ax.plot(fpr_ds_g, tpr_ds_g, label='DS18-G (AUC: {:.2f})'.format(auc_ds_g))\n",
    "ax.plot([0, 1], [0, 1], 'k--', label='Random (AUC: 0.50)')\n",
    "ax.legend()\n",
    "ax.set_xlabel('False Positive Rate')\n",
    "ax.set_ylabel('True Positive Rate')"
   ]
  },
  {
   "cell_type": "code",
   "execution_count": null,
   "metadata": {},
   "outputs": [],
   "source": []
  },
  {
   "cell_type": "code",
   "execution_count": 217,
   "metadata": {},
   "outputs": [
    {
     "data": {
      "image/png": "[encoded data removed]",
      "text/plain": [
       "<Figure size 432x288 with 1 Axes>"
      ]
     },
     "execution_count": 217,
     "metadata": {},
     "output_type": "execute_result"
    }
   ],
   "source": [
    "\n",
    "fpr_dl, tpr_dl, _ = sklearn.metrics.roc_curve(gz2_dl_test_df['has_bar'], gz2_dl_test_df['p_nair_bar'])\n",
    "auc_dl = sklearn.metrics.roc_auc_score(gz2_dl_test_df['has_bar'], gz2_dl_test_df['p_nair_bar'])\n",
    "ax.plot(fpr_dl, tpr_dl, label='DL (AUC: {:.2f})'.format(auc_dl))\n",
    "ax.legend()\n",
    "fig.tight_layout()\n",
    "fig.savefig(os.path.join(save_dir, 'nair_bar_roc.png'))\n",
    "fig"
   ]
  },
  {
   "cell_type": "markdown",
   "metadata": {},
   "source": [
    "correct: 90% of unbarred, 80% of strong barred?"
   ]
  },
  {
   "cell_type": "code",
   "execution_count": 186,
   "metadata": {},
   "outputs": [],
   "source": [
    "from sklearn.metrics import confusion_matrix"
   ]
  },
  {
   "cell_type": "code",
   "execution_count": 187,
   "metadata": {},
   "outputs": [
    {
     "data": {
      "text/plain": [
       "array([[0.54665566, 0.14037985],\n",
       "       [0.09744013, 0.21552436]])"
      ]
     },
     "execution_count": 187,
     "metadata": {},
     "output_type": "execute_result"
    }
   ],
   "source": [
    "confusion_matrix(test_df['has_bar'], ds_n_predictions > 0.5) / len(test_df)"
   ]
  },
  {
   "cell_type": "code",
   "execution_count": 188,
   "metadata": {},
   "outputs": [
    {
     "data": {
      "text/plain": [
       "array([[0.63680623, 0.0399221 ],\n",
       "       [0.13242454, 0.19084713]])"
      ]
     },
     "execution_count": 188,
     "metadata": {},
     "output_type": "execute_result"
    }
   ],
   "source": [
    "confusion_matrix(gz2_dl_test_df['has_bar'], gz2_dl_test_df['p_nair_bar'] > 0.5) / len(gz2_dl_test_df)"
   ]
  },
  {
   "cell_type": "markdown",
   "metadata": {},
   "source": [
    "You can do a much better job predicting what Nair would have said (bar/no bar) using the GZ2 bar fraction + logistic regression than using the 'improved' DS catalog.\n",
    "\n",
    "DS doesn't report the train/test split - we'll have to ignore that for now, and perhaps send an email.\n",
    "\n",
    "- matched_train -> fit logistic regression WWND\n",
    "- matched_test -> how well can we predict what Nair would have said, using gz2 votes?\n",
    "- matched_test -> how well does ds predict what Nair would have said\n",
    "- matched_test + dl -> how well can we predict what Nair would have said, using gz2 dl-inferred votes?\n",
    "\n",
    "(matched = gz2 + nair intersection"
   ]
  },
  {
   "cell_type": "code",
   "execution_count": 189,
   "metadata": {},
   "outputs": [],
   "source": [
    "# from zoobot.uncertainty import dropout_calibration\n",
    "\n",
    "# dl_bar_predictions_all = np.stack([\n",
    "#     p_bar_given_gz(pd.Series(vote_fractions[:, n])) for n in range(vote_fractions.shape[1])],\n",
    "#     axis=1\n",
    "# )\n",
    "\n"
   ]
  },
  {
   "cell_type": "code",
   "execution_count": 190,
   "metadata": {},
   "outputs": [],
   "source": [
    "# dl_bar_predictions_all.shape"
   ]
  },
  {
   "cell_type": "markdown",
   "metadata": {},
   "source": [
    "This is a good thing to do, but should be for value of posteriors not for DL comparison - DS didn't publish GZ estimates.\n",
    "But maybe someone else did? Would make life much easier!"
   ]
  },
  {
   "cell_type": "code",
   "execution_count": 191,
   "metadata": {},
   "outputs": [],
   "source": [
    "# test_df['log_m_'].sample(10)"
   ]
  },
  {
   "cell_type": "code",
   "execution_count": 192,
   "metadata": {},
   "outputs": [],
   "source": [
    "# dl_bar_predictions_all[:, 0]"
   ]
  },
  {
   "cell_type": "code",
   "execution_count": 193,
   "metadata": {},
   "outputs": [],
   "source": [
    "# ax = sns.jointplot(test_df['log_m_'], ds_g_predictions, xlim=[8, 12], kind='hex')"
   ]
  },
  {
   "cell_type": "code",
   "execution_count": 194,
   "metadata": {},
   "outputs": [],
   "source": [
    "# df = test_df[(8 < test_df['log_m_']) &  (test_df['log_m_'] < 12)]"
   ]
  },
  {
   "cell_type": "code",
   "execution_count": 195,
   "metadata": {},
   "outputs": [],
   "source": [
    "# galaxies, bins = np.histogram(df['log_m_'])\n",
    "# bars, _ = np.histogram(df[df['has_bar']]['log_m_'], bins=bins)"
   ]
  },
  {
   "cell_type": "code",
   "execution_count": 196,
   "metadata": {},
   "outputs": [],
   "source": [
    "# def get_bin_centers(bins):\n",
    "#     return [np.mean(bin_pair) for bin_pair in zip(bins[:-1], bins[1:])]"
   ]
  },
  {
   "cell_type": "code",
   "execution_count": 197,
   "metadata": {},
   "outputs": [],
   "source": [
    "# plt.errorbar(get_bin_centers(bins), values, yerr=np.sqrt(galaxies), fmt='o', markersize=4)"
   ]
  },
  {
   "cell_type": "code",
   "execution_count": 198,
   "metadata": {},
   "outputs": [],
   "source": [
    "# fig, ax = plt.subplots()\n",
    "# ax.scatter(test_df['log_m_'], dl_bar_predictions_all[:, 0])\n",
    "# ax.set_xlim([8, 12])"
   ]
  },
  {
   "cell_type": "code",
   "execution_count": 199,
   "metadata": {},
   "outputs": [],
   "source": [
    "# ax = sns.jointplot(test_df['log_m_'], dl_bar_predictions_all[:, 0], xlim=[8, 12], kind='hex')"
   ]
  },
  {
   "cell_type": "code",
   "execution_count": 233,
   "metadata": {},
   "outputs": [
    {
     "data": {
      "image/png": "[encoded data removed]",
      "text/plain": [
       "<Figure size 432x288 with 1 Axes>"
      ]
     },
     "metadata": {},
     "output_type": "display_data"
    }
   ],
   "source": [
    "from sklearn.calibration import calibration_curve\n",
    "\n",
    "fig, ax = plt.subplots()\n",
    "\n",
    "n_bins = 5\n",
    "marker = 'o'\n",
    "\n",
    "\n",
    "prob_true, prob_pred = calibration_curve(test_df['has_bar'], gz2_predictions, n_bins=n_bins)\n",
    "ax.plot(prob_pred, prob_true, label='GZ2 Humans + LR', marker=marker)\n",
    "\n",
    "# prob_true, prob_pred = calibration_curve(test_df['has_bar'], ds_g_predictions, n_bins=n_bins)\n",
    "# ax.plot(prob_pred, prob_true, label='g', marker=marker)\n",
    "\n",
    "prob_true, prob_pred = calibration_curve(test_df['has_bar'], ds_n_predictions, n_bins=n_bins)\n",
    "ax.plot(prob_pred, prob_true, label='DS+18 CNN', marker=marker)\n",
    "\n",
    "\n",
    "prob_true, prob_pred = calibration_curve(gz2_dl_test_df['has_bar'], gz2_dl_test_df['p_nair_bar'], n_bins=n_bins)\n",
    "ax.plot(prob_pred, prob_true, label='MW+19 BCNN', marker=marker)\n",
    "\n",
    "\n",
    "ax.plot([0, 1], [0, 1], 'k--', label='Perfect')\n",
    "ax.set_xlabel('Predicted $p$(Nair Bar)')\n",
    "ax.set_ylabel('Actual $p$(Nair Bar)')\n",
    "plt.legend()\n",
    "fig.tight_layout()\n",
    "fig.savefig(os.path.join(save_dir, 'ds_calibration_latest.png'))"
   ]
  },
  {
   "cell_type": "code",
   "execution_count": null,
   "metadata": {},
   "outputs": [],
   "source": []
  },
  {
   "cell_type": "code",
   "execution_count": 232,
   "metadata": {},
   "outputs": [
    {
     "data": {
      "text/plain": [
       "<matplotlib.legend.Legend at 0x7fb3e10069b0>"
      ]
     },
     "execution_count": 232,
     "metadata": {},
     "output_type": "execute_result"
    },
    {
     "data": {
      "image/png": "[encoded data removed]",
      "text/plain": [
       "<Figure size 460.8x172.8 with 1 Axes>"
      ]
     },
     "metadata": {},
     "output_type": "display_data"
    }
   ],
   "source": [
    "fig, ax = plt.subplots(figsize=(6.4, 2.4))\n",
    "alpha = 0.4\n",
    "n_bins = 14\n",
    "_, bins, _ = ax.hist(gz2_predictions, alpha=alpha, bins=n_bins, density=False, label='GZ2 Humans + LR')\n",
    "ax.hist(ds_n_predictions, bins=bins, alpha=alpha, density=False, label='DS+18 CNN')\n",
    "ax.hist(gz2_dl_test_df['p_nair_bar'], alpha=alpha, bins=bins, density=False, label='MW+19 BCNN')\n",
    "ax.set_xlabel(r'Predicted $p$(Nair Bar)')\n",
    "ax.set_ylabel('Galaxies')\n",
    "ax.legend()\n",
    "fig.tight_layout()\n",
    "fig.savefig(os.path.join(save_dir, 'prediction_histograms_'))"
   ]
  },
  {
   "cell_type": "code",
   "execution_count": 202,
   "metadata": {},
   "outputs": [
    {
     "data": {
      "text/plain": [
       "1.1791626095423564"
      ]
     },
     "execution_count": 202,
     "metadata": {},
     "output_type": "execute_result"
    }
   ],
   "source": [
    "len(test_df) / len(gz2_dl_test_df)"
   ]
  },
  {
   "cell_type": "code",
   "execution_count": 203,
   "metadata": {},
   "outputs": [
    {
     "data": {
      "text/plain": [
       "1027"
      ]
     },
     "execution_count": 203,
     "metadata": {},
     "output_type": "execute_result"
    }
   ],
   "source": [
    "len(gz2_dl_test_df)"
   ]
  },
  {
   "cell_type": "code",
   "execution_count": 204,
   "metadata": {},
   "outputs": [
    {
     "data": {
      "text/plain": [
       "1211"
      ]
     },
     "execution_count": 204,
     "metadata": {},
     "output_type": "execute_result"
    }
   ],
   "source": [
    "len(test_df)"
   ]
  },
  {
   "cell_type": "code",
   "execution_count": 205,
   "metadata": {},
   "outputs": [
    {
     "data": {
      "text/plain": [
       "379"
      ]
     },
     "execution_count": 205,
     "metadata": {},
     "output_type": "execute_result"
    }
   ],
   "source": [
    "test_df['has_bar'].sum()"
   ]
  },
  {
   "cell_type": "code",
   "execution_count": 219,
   "metadata": {},
   "outputs": [
    {
     "name": "stdout",
     "output_type": "stream",
     "text": [
      "           catalog  predicted_bars\n",
      "0  GZ2 Humans + LR      395.983930\n",
      "1            DS+18      554.402715\n",
      "2       MW+19 BCNN      373.242586\n",
      "actual bars 379\n"
     ]
    },
    {
     "data": {
      "image/png": "[encoded data removed]",
      "text/plain": [
       "<Figure size 432x288 with 1 Axes>"
      ]
     },
     "metadata": {},
     "output_type": "display_data"
    }
   ],
   "source": [
    "data = [\n",
    "    {'catalog': 'GZ2 Humans + LR', 'predicted_bars': gz2_predictions.sum()},\n",
    "    {'catalog': 'DS+18', 'predicted_bars': ds_n_predictions.sum()},\n",
    "    {'catalog': 'MW+19 BCNN', 'predicted_bars': gz2_dl_test_df['p_nair_bar'].sum() * (len(test_df) / len(gz2_dl_test_df))}\n",
    "]\n",
    "bar_totals_df = pd.DataFrame(data=data)\n",
    "print(bar_totals_df)\n",
    "fig, ax = plt.subplots()\n",
    "sns.barplot(data=bar_totals_df, x='predicted_bars', y='catalog', ax=ax)\n",
    "ax.set_ylabel('Catalog')\n",
    "ax.set_xlabel('Predicted Total Nair Bars')\n",
    "ax.axvline(test_df['has_bar'].sum(), linestyle='--', color='k', linewidth=2.)\n",
    "print('actual bars', test_df['has_bar'].sum())\n",
    "ax.text(.62, 1.02, 'Actual Total Nair Bars', transform=ax.transAxes, horizontalalignment='center', fontstyle='italic')\n",
    "fig.tight_layout()\n",
    "fig.savefig(os.path.join(save_dir, 'ds_total_bars_latest.png'))"
   ]
  },
  {
   "cell_type": "code",
   "execution_count": null,
   "metadata": {},
   "outputs": [],
   "source": []
  },
  {
   "cell_type": "code",
   "execution_count": null,
   "metadata": {},
   "outputs": [],
   "source": []
  }
 ],
 "metadata": {
  "kernelspec": {
   "display_name": "Python 3",
   "language": "python",
   "name": "python3"
  },
  "language_info": {
   "codemirror_mode": {
    "name": "ipython",
    "version": 3
   },
   "file_extension": ".py",
   "mimetype": "text/x-python",
   "name": "python",
   "nbconvert_exporter": "python",
   "pygments_lexer": "ipython3",
   "version": "3.6.5"
  }
 },
 "nbformat": 4,
 "nbformat_minor": 2
}
