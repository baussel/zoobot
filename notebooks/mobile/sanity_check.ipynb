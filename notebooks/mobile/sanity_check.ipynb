{
 "cells": [
  {
   "cell_type": "code",
   "execution_count": 24,
   "metadata": {},
   "outputs": [],
   "source": [
    "import json\n",
    "\n",
    "import numpy as np\n",
    "import pandas as pd\n",
    "import matplotlib.pyplot as plt\n",
    "import seaborn as sns\n",
    "sns.set_context('notebook')"
   ]
  },
  {
   "cell_type": "code",
   "execution_count": 2,
   "metadata": {},
   "outputs": [],
   "source": [
    "# smooth = pd.read_csv('/media/walml/beta/misc_downloads/smooth-or-featured-classifications.csv')\n",
    "# spiral = pd.read_csv('/media/walml/beta/misc_downloads/smooth-or-featured-classifications.csv')\n",
    "# merger = pd.read_csv('/media/walml/beta/misc_downloads/smooth-or-featured-classifications.csv')\n",
    "# df = pd.concat([smooth, spiral, merger])"
   ]
  },
  {
   "cell_type": "code",
   "execution_count": 3,
   "metadata": {},
   "outputs": [],
   "source": [
    "usecols = [\n",
    "    'classification_id',\n",
    "    'user_name',\n",
    "    'user_id',\n",
    "    'user_ip',\n",
    "    'workflow_id',\n",
    "    'annotations',\n",
    "    'subject_ids',\n",
    "    'subject_data'\n",
    "]\n",
    "df = pd.read_csv('/media/walml/beta/misc_downloads/galaxy-zoo-mobile-classifications.csv', usecols=usecols)"
   ]
  },
  {
   "cell_type": "code",
   "execution_count": 4,
   "metadata": {},
   "outputs": [
    {
     "data": {
      "text/html": [
       "<div>\n",
       "<style scoped>\n",
       "    .dataframe tbody tr th:only-of-type {\n",
       "        vertical-align: middle;\n",
       "    }\n",
       "\n",
       "    .dataframe tbody tr th {\n",
       "        vertical-align: top;\n",
       "    }\n",
       "\n",
       "    .dataframe thead th {\n",
       "        text-align: right;\n",
       "    }\n",
       "</style>\n",
       "<table border=\"1\" class=\"dataframe\">\n",
       "  <thead>\n",
       "    <tr style=\"text-align: right;\">\n",
       "      <th></th>\n",
       "      <th>classification_id</th>\n",
       "      <th>user_name</th>\n",
       "      <th>user_id</th>\n",
       "      <th>user_ip</th>\n",
       "      <th>workflow_id</th>\n",
       "      <th>annotations</th>\n",
       "      <th>subject_data</th>\n",
       "      <th>subject_ids</th>\n",
       "    </tr>\n",
       "  </thead>\n",
       "  <tbody>\n",
       "    <tr>\n",
       "      <th>0</th>\n",
       "      <td>126740943</td>\n",
       "      <td>hughdickinson</td>\n",
       "      <td>1460166.0</td>\n",
       "      <td>7bd99f267387a4d1760c</td>\n",
       "      <td>6599</td>\n",
       "      <td>[{\"task\":\"T0\",\"task_label\":\"Is the galaxy simp...</td>\n",
       "      <td>{\"20928868\":{\"retired\":{\"id\":24349068,\"workflo...</td>\n",
       "      <td>20928868</td>\n",
       "    </tr>\n",
       "    <tr>\n",
       "      <th>1</th>\n",
       "      <td>126740952</td>\n",
       "      <td>hughdickinson</td>\n",
       "      <td>1460166.0</td>\n",
       "      <td>7bd99f267387a4d1760c</td>\n",
       "      <td>6599</td>\n",
       "      <td>[{\"task\":\"T0\",\"task_label\":\"Is the galaxy simp...</td>\n",
       "      <td>{\"20928088\":{\"retired\":{\"id\":24349370,\"workflo...</td>\n",
       "      <td>20928088</td>\n",
       "    </tr>\n",
       "    <tr>\n",
       "      <th>2</th>\n",
       "      <td>126740967</td>\n",
       "      <td>hughdickinson</td>\n",
       "      <td>1460166.0</td>\n",
       "      <td>7bd99f267387a4d1760c</td>\n",
       "      <td>6599</td>\n",
       "      <td>[{\"task\":\"T0\",\"task_label\":\"Is the galaxy simp...</td>\n",
       "      <td>{\"20928157\":{\"retired\":{\"id\":24349523,\"workflo...</td>\n",
       "      <td>20928157</td>\n",
       "    </tr>\n",
       "    <tr>\n",
       "      <th>3</th>\n",
       "      <td>126740974</td>\n",
       "      <td>hughdickinson</td>\n",
       "      <td>1460166.0</td>\n",
       "      <td>7bd99f267387a4d1760c</td>\n",
       "      <td>6599</td>\n",
       "      <td>[{\"task\":\"T0\",\"task_label\":\"Is the galaxy simp...</td>\n",
       "      <td>{\"20928407\":{\"retired\":{\"id\":24349645,\"workflo...</td>\n",
       "      <td>20928407</td>\n",
       "    </tr>\n",
       "    <tr>\n",
       "      <th>4</th>\n",
       "      <td>126740985</td>\n",
       "      <td>hughdickinson</td>\n",
       "      <td>1460166.0</td>\n",
       "      <td>7bd99f267387a4d1760c</td>\n",
       "      <td>6599</td>\n",
       "      <td>[{\"task\":\"T0\",\"task_label\":\"Is the galaxy simp...</td>\n",
       "      <td>{\"20927797\":{\"retired\":{\"id\":24349568,\"workflo...</td>\n",
       "      <td>20927797</td>\n",
       "    </tr>\n",
       "  </tbody>\n",
       "</table>\n",
       "</div>"
      ],
      "text/plain": [
       "   classification_id      user_name    user_id               user_ip  \\\n",
       "0          126740943  hughdickinson  1460166.0  7bd99f267387a4d1760c   \n",
       "1          126740952  hughdickinson  1460166.0  7bd99f267387a4d1760c   \n",
       "2          126740967  hughdickinson  1460166.0  7bd99f267387a4d1760c   \n",
       "3          126740974  hughdickinson  1460166.0  7bd99f267387a4d1760c   \n",
       "4          126740985  hughdickinson  1460166.0  7bd99f267387a4d1760c   \n",
       "\n",
       "   workflow_id                                        annotations  \\\n",
       "0         6599  [{\"task\":\"T0\",\"task_label\":\"Is the galaxy simp...   \n",
       "1         6599  [{\"task\":\"T0\",\"task_label\":\"Is the galaxy simp...   \n",
       "2         6599  [{\"task\":\"T0\",\"task_label\":\"Is the galaxy simp...   \n",
       "3         6599  [{\"task\":\"T0\",\"task_label\":\"Is the galaxy simp...   \n",
       "4         6599  [{\"task\":\"T0\",\"task_label\":\"Is the galaxy simp...   \n",
       "\n",
       "                                        subject_data  subject_ids  \n",
       "0  {\"20928868\":{\"retired\":{\"id\":24349068,\"workflo...     20928868  \n",
       "1  {\"20928088\":{\"retired\":{\"id\":24349370,\"workflo...     20928088  \n",
       "2  {\"20928157\":{\"retired\":{\"id\":24349523,\"workflo...     20928157  \n",
       "3  {\"20928407\":{\"retired\":{\"id\":24349645,\"workflo...     20928407  \n",
       "4  {\"20927797\":{\"retired\":{\"id\":24349568,\"workflo...     20927797  "
      ]
     },
     "execution_count": 4,
     "metadata": {},
     "output_type": "execute_result"
    }
   ],
   "source": [
    "df.head()"
   ]
  },
  {
   "cell_type": "code",
   "execution_count": 5,
   "metadata": {},
   "outputs": [],
   "source": [
    "df = df[df['workflow_id'].isin([6599, 10277, 8326])]"
   ]
  },
  {
   "cell_type": "code",
   "execution_count": 6,
   "metadata": {},
   "outputs": [
    {
     "data": {
      "text/plain": [
       "6599     1396709\n",
       "10277    1148088\n",
       "8326      655058\n",
       "Name: workflow_id, dtype: int64"
      ]
     },
     "execution_count": 6,
     "metadata": {},
     "output_type": "execute_result"
    }
   ],
   "source": [
    "df['workflow_id'].value_counts()"
   ]
  },
  {
   "cell_type": "code",
   "execution_count": 7,
   "metadata": {},
   "outputs": [],
   "source": [
    "df['annotations'] = df['annotations'].apply(json.loads)"
   ]
  },
  {
   "cell_type": "code",
   "execution_count": 8,
   "metadata": {},
   "outputs": [],
   "source": [
    "workflow_to_question = {\n",
    "    6599: 'smooth-or-featured',\n",
    "    8326: 'has-spiral-arms',\n",
    "    10277: 'merging'\n",
    "}"
   ]
  },
  {
   "cell_type": "code",
   "execution_count": 9,
   "metadata": {},
   "outputs": [],
   "source": [
    "df['question'] = df['workflow_id'].apply(lambda x: workflow_to_question[x])\n",
    "df['question'].value_counts()"
   ]
  },
  {
   "cell_type": "code",
   "execution_count": 10,
   "metadata": {},
   "outputs": [],
   "source": [
    "df['answer'] = df['annotations'].apply(lambda x: x[0].get('value', None))"
   ]
  },
  {
   "cell_type": "code",
   "execution_count": 11,
   "metadata": {},
   "outputs": [
    {
     "data": {
      "text/plain": [
       "No                  1315981\n",
       "Smooth               828379\n",
       "Features or Disk     568330\n",
       "Yes                  487165\n",
       "Name: answer, dtype: int64"
      ]
     },
     "execution_count": 11,
     "metadata": {},
     "output_type": "execute_result"
    }
   ],
   "source": [
    "df['answer'].value_counts()"
   ]
  },
  {
   "cell_type": "code",
   "execution_count": 12,
   "metadata": {},
   "outputs": [],
   "source": [
    "del df['annotations']"
   ]
  },
  {
   "cell_type": "code",
   "execution_count": 13,
   "metadata": {},
   "outputs": [],
   "source": [
    "# df['subject_data'] = df['subject_data'].apply(json.loads)"
   ]
  },
  {
   "cell_type": "code",
   "execution_count": 14,
   "metadata": {},
   "outputs": [],
   "source": [
    "# do with a generator comprehension to avoid blowing up memory loading every subject_data as json\n",
    "iaunames = (list(json.loads(x).values())[0].get('!iauname', None) for x in df['subject_data'])"
   ]
  },
  {
   "cell_type": "code",
   "execution_count": 15,
   "metadata": {},
   "outputs": [],
   "source": [
    "iaunames = list(iaunames)  # evaluate generator comp"
   ]
  },
  {
   "cell_type": "code",
   "execution_count": 16,
   "metadata": {},
   "outputs": [],
   "source": [
    "df['iauname'] = iaunames"
   ]
  },
  {
   "cell_type": "code",
   "execution_count": 17,
   "metadata": {},
   "outputs": [],
   "source": [
    "del df['subject_data']"
   ]
  },
  {
   "cell_type": "code",
   "execution_count": 20,
   "metadata": {},
   "outputs": [
    {
     "name": "stderr",
     "output_type": "stream",
     "text": [
      "/home/walml/anaconda3/envs/zoobot/lib/python3.7/site-packages/ipykernel_launcher.py:3: SettingWithCopyWarning: \n",
      "A value is trying to be set on a copy of a slice from a DataFrame.\n",
      "Try using .loc[row_indexer,col_indexer] = value instead\n",
      "\n",
      "See the caveats in the documentation: https://pandas.pydata.org/pandas-docs/stable/user_guide/indexing.html#returning-a-view-versus-a-copy\n",
      "  This is separate from the ipykernel package so we can avoid doing imports until\n",
      "/home/walml/anaconda3/envs/zoobot/lib/python3.7/site-packages/ipykernel_launcher.py:4: SettingWithCopyWarning: \n",
      "A value is trying to be set on a copy of a slice from a DataFrame.\n",
      "Try using .loc[row_indexer,col_indexer] = value instead\n",
      "\n",
      "See the caveats in the documentation: https://pandas.pydata.org/pandas-docs/stable/user_guide/indexing.html#returning-a-view-versus-a-copy\n",
      "  after removing the cwd from sys.path.\n"
     ]
    }
   ],
   "source": [
    "smooth = df.query('workflow_id == 6599')\n",
    "\n",
    "smooth['smooth-or-featured_smooth'] = smooth['answer'] == 'Smooth'\n",
    "smooth['smooth-or-featured_featured-or-disk'] = smooth['answer'] == 'Features or Disk'\n",
    "\n",
    "smooth_agg = smooth.groupby('iauname').agg({\n",
    "    'smooth-or-featured_smooth': 'mean',\n",
    "    'smooth-or-featured_featured-or-disk': 'mean',\n",
    "    'classification_id': 'count'\n",
    "}).reset_index()\n",
    "\n",
    "smooth_agg = smooth_agg.rename(columns={\n",
    "    'classification_id': 'smooth-or-featured_total-votes', \n",
    "    'smooth-or-featured_smooth': 'smooth-or-featured_smooth_fraction',\n",
    "    'smooth-or-featured_featured-or-disk': 'smooth-or-featured_featured-or-disk_fraction'\n",
    "})"
   ]
  },
  {
   "cell_type": "code",
   "execution_count": 25,
   "metadata": {},
   "outputs": [],
   "source": [
    "assert np.allclose(smooth_agg['smooth-or-featured_smooth_fraction'] + smooth_agg['smooth-or-featured_featured-or-disk_fraction'], 1.)"
   ]
  },
  {
   "cell_type": "code",
   "execution_count": 26,
   "metadata": {},
   "outputs": [
    {
     "name": "stderr",
     "output_type": "stream",
     "text": [
      "/home/walml/anaconda3/envs/zoobot/lib/python3.7/site-packages/ipykernel_launcher.py:3: SettingWithCopyWarning: \n",
      "A value is trying to be set on a copy of a slice from a DataFrame.\n",
      "Try using .loc[row_indexer,col_indexer] = value instead\n",
      "\n",
      "See the caveats in the documentation: https://pandas.pydata.org/pandas-docs/stable/user_guide/indexing.html#returning-a-view-versus-a-copy\n",
      "  This is separate from the ipykernel package so we can avoid doing imports until\n",
      "/home/walml/anaconda3/envs/zoobot/lib/python3.7/site-packages/ipykernel_launcher.py:4: SettingWithCopyWarning: \n",
      "A value is trying to be set on a copy of a slice from a DataFrame.\n",
      "Try using .loc[row_indexer,col_indexer] = value instead\n",
      "\n",
      "See the caveats in the documentation: https://pandas.pydata.org/pandas-docs/stable/user_guide/indexing.html#returning-a-view-versus-a-copy\n",
      "  after removing the cwd from sys.path.\n"
     ]
    }
   ],
   "source": [
    "spiral = df.query('workflow_id == 8326')\n",
    "\n",
    "spiral['has-spiral-arms_yes'] = spiral['answer'] == 'Yes'\n",
    "spiral['has-spiral-arms_no'] = spiral['answer'] == 'No'\n",
    "\n",
    "spiral_agg = spiral.groupby('iauname').agg({\n",
    "    'has-spiral-arms_yes': 'mean',\n",
    "    'has-spiral-arms_no': 'mean',\n",
    "    'classification_id': 'count'\n",
    "}).reset_index()\n",
    "\n",
    "spiral_agg = spiral_agg.rename(columns={\n",
    "    'classification_id': 'has-spiral-arms_total-votes', \n",
    "    'has-spiral-arms_yes': 'has-spiral-arms_yes_fraction',\n",
    "    'has-spiral-arms_no': 'has-spiral-arms_no_fraction'\n",
    "})"
   ]
  },
  {
   "cell_type": "code",
   "execution_count": 27,
   "metadata": {},
   "outputs": [
    {
     "name": "stderr",
     "output_type": "stream",
     "text": [
      "/home/walml/anaconda3/envs/zoobot/lib/python3.7/site-packages/ipykernel_launcher.py:3: SettingWithCopyWarning: \n",
      "A value is trying to be set on a copy of a slice from a DataFrame.\n",
      "Try using .loc[row_indexer,col_indexer] = value instead\n",
      "\n",
      "See the caveats in the documentation: https://pandas.pydata.org/pandas-docs/stable/user_guide/indexing.html#returning-a-view-versus-a-copy\n",
      "  This is separate from the ipykernel package so we can avoid doing imports until\n",
      "/home/walml/anaconda3/envs/zoobot/lib/python3.7/site-packages/ipykernel_launcher.py:4: SettingWithCopyWarning: \n",
      "A value is trying to be set on a copy of a slice from a DataFrame.\n",
      "Try using .loc[row_indexer,col_indexer] = value instead\n",
      "\n",
      "See the caveats in the documentation: https://pandas.pydata.org/pandas-docs/stable/user_guide/indexing.html#returning-a-view-versus-a-copy\n",
      "  after removing the cwd from sys.path.\n"
     ]
    }
   ],
   "source": [
    "merging = df.query('workflow_id == 10277')\n",
    "\n",
    "merging['merging_yes'] = merging['answer'] == 'Yes'\n",
    "merging['merging_no'] = merging['answer'] == 'No'\n",
    "\n",
    "merging_agg = merging.groupby('iauname').agg({\n",
    "    'merging_yes': 'mean',\n",
    "    'merging_no': 'mean',\n",
    "    'classification_id': 'count'\n",
    "}).reset_index()\n",
    "\n",
    "merging_agg = merging_agg.rename(columns={\n",
    "    'classification_id': 'merging_total-votes', \n",
    "    'merging_yes': 'merging_yes_fraction',\n",
    "    'merging_no': 'merging_no_fraction'\n",
    "})"
   ]
  },
  {
   "cell_type": "code",
   "execution_count": 28,
   "metadata": {},
   "outputs": [],
   "source": [
    "agg = pd.merge(smooth_agg, spiral_agg, on='iauname', how='left')\n",
    "agg = pd.merge(agg, merging_agg, on='iauname', how='left')"
   ]
  },
  {
   "cell_type": "code",
   "execution_count": 38,
   "metadata": {},
   "outputs": [],
   "source": [
    "agg = agg[agg['smooth-or-featured_total-votes'] < 60]  # a few galaxies went nuts very early on"
   ]
  },
  {
   "cell_type": "code",
   "execution_count": 39,
   "metadata": {},
   "outputs": [
    {
     "data": {
      "text/plain": [
       "(53165, 31024, 53165, 53012)"
      ]
     },
     "execution_count": 39,
     "metadata": {},
     "output_type": "execute_result"
    }
   ],
   "source": [
    "len(smooth_agg), len(spiral_agg), len(merging_agg), len(agg)"
   ]
  },
  {
   "cell_type": "code",
   "execution_count": 34,
   "metadata": {},
   "outputs": [
    {
     "data": {
      "text/plain": [
       "(0.0, 50.0)"
      ]
     },
     "execution_count": 34,
     "metadata": {},
     "output_type": "execute_result"
    },
    {
     "data": {
      "image/png": "[encoded data removed]",
      "text/plain": [
       "<Figure size 432x288 with 1 Axes>"
      ]
     },
     "metadata": {
      "needs_background": "light"
     },
     "output_type": "display_data"
    }
   ],
   "source": [
    "plt.hist(agg['smooth-or-featured_total-votes'], range=(0, 50), bins=20)\n",
    "plt.xlabel('Smooth or Featured Total Votes (Mobile)')\n",
    "plt.ylabel('Galaxies')\n",
    "plt.xlim([0., 50.])"
   ]
  },
  {
   "cell_type": "code",
   "execution_count": 49,
   "metadata": {},
   "outputs": [
    {
     "data": {
      "text/plain": [
       "<matplotlib.legend.Legend at 0x7f093b15d5d0>"
      ]
     },
     "execution_count": 49,
     "metadata": {},
     "output_type": "execute_result"
    },
    {
     "data": {
      "image/png": "[encoded data removed]",
      "text/plain": [
       "<Figure size 432x288 with 1 Axes>"
      ]
     },
     "metadata": {
      "needs_background": "light"
     },
     "output_type": "display_data"
    }
   ],
   "source": [
    "fig, ax = plt.subplots()\n",
    "\n",
    "ax.set_xlabel('Featured Fraction (Mobile)')\n",
    "ax.set_ylabel('Galaxies')\n",
    "ax.set_xlim([0., 1.])\n",
    "\n",
    "ax.hist(agg[agg['smooth-or-featured_total-votes'] == 10]['smooth-or-featured_featured-or-disk_fraction'], bins=25, label='N == 10')\n",
    "ax.hist(smooth_agg[smooth_agg['smooth-or-featured_total-votes'] == 20]['smooth-or-featured_featured-or-disk_fraction'], bins=40, label='N == 20')\n",
    "ax.hist(agg[agg['smooth-or-featured_total-votes'] > 30]['smooth-or-featured_featured-or-disk_fraction'], bins=40, label='N > 30')\n",
    "\n",
    "plt.legend()"
   ]
  },
  {
   "cell_type": "code",
   "execution_count": 45,
   "metadata": {},
   "outputs": [
    {
     "data": {
      "text/plain": [
       "<seaborn.axisgrid.JointGrid at 0x7f093af5f2d0>"
      ]
     },
     "execution_count": 45,
     "metadata": {},
     "output_type": "execute_result"
    },
    {
     "data": {
      "image/png": "[encoded data removed]",
      "text/plain": [
       "<Figure size 432x432 with 3 Axes>"
      ]
     },
     "metadata": {
      "needs_background": "light"
     },
     "output_type": "display_data"
    }
   ],
   "source": [
    "sns.jointplot(agg['smooth-or-featured_total-votes'], agg['smooth-or-featured_smooth_fraction'], alpha=.01)"
   ]
  },
  {
   "cell_type": "code",
   "execution_count": 51,
   "metadata": {},
   "outputs": [],
   "source": [
    "# retirement until 24th nov 2020 was set to 40.\n",
    "# So featured > smooth and classifications > 10 retired, so only smooth things could get 40 classifications.\n",
    "# Oops. Retirement now correctly set to 10!"
   ]
  },
  {
   "cell_type": "code",
   "execution_count": 59,
   "metadata": {},
   "outputs": [
    {
     "data": {
      "text/html": [
       "<div>\n",
       "<style scoped>\n",
       "    .dataframe tbody tr th:only-of-type {\n",
       "        vertical-align: middle;\n",
       "    }\n",
       "\n",
       "    .dataframe tbody tr th {\n",
       "        vertical-align: top;\n",
       "    }\n",
       "\n",
       "    .dataframe thead th {\n",
       "        text-align: right;\n",
       "    }\n",
       "</style>\n",
       "<table border=\"1\" class=\"dataframe\">\n",
       "  <thead>\n",
       "    <tr style=\"text-align: right;\">\n",
       "      <th></th>\n",
       "      <th>iauname</th>\n",
       "      <th>smooth-or-featured_smooth_fraction</th>\n",
       "      <th>smooth-or-featured_featured-or-disk_fraction</th>\n",
       "      <th>smooth-or-featured_total-votes</th>\n",
       "      <th>has-spiral-arms_yes_fraction</th>\n",
       "      <th>has-spiral-arms_no_fraction</th>\n",
       "      <th>has-spiral-arms_total-votes</th>\n",
       "      <th>merging_yes_fraction</th>\n",
       "      <th>merging_no_fraction</th>\n",
       "      <th>merging_total-votes</th>\n",
       "    </tr>\n",
       "  </thead>\n",
       "  <tbody>\n",
       "    <tr>\n",
       "      <th>0</th>\n",
       "      <td>J000007.82-000226.0</td>\n",
       "      <td>0.125000</td>\n",
       "      <td>0.875000</td>\n",
       "      <td>40</td>\n",
       "      <td>0.933333</td>\n",
       "      <td>0.066667</td>\n",
       "      <td>15.0</td>\n",
       "      <td>0.170213</td>\n",
       "      <td>0.829787</td>\n",
       "      <td>47</td>\n",
       "    </tr>\n",
       "    <tr>\n",
       "      <th>1</th>\n",
       "      <td>J000012.78+010712.7</td>\n",
       "      <td>0.048780</td>\n",
       "      <td>0.951220</td>\n",
       "      <td>41</td>\n",
       "      <td>1.000000</td>\n",
       "      <td>0.000000</td>\n",
       "      <td>15.0</td>\n",
       "      <td>0.450980</td>\n",
       "      <td>0.549020</td>\n",
       "      <td>51</td>\n",
       "    </tr>\n",
       "    <tr>\n",
       "      <th>2</th>\n",
       "      <td>J000150.59+010157.1</td>\n",
       "      <td>0.625000</td>\n",
       "      <td>0.375000</td>\n",
       "      <td>40</td>\n",
       "      <td>0.066667</td>\n",
       "      <td>0.933333</td>\n",
       "      <td>15.0</td>\n",
       "      <td>0.755102</td>\n",
       "      <td>0.244898</td>\n",
       "      <td>49</td>\n",
       "    </tr>\n",
       "    <tr>\n",
       "      <th>3</th>\n",
       "      <td>J000321.63+010334.2</td>\n",
       "      <td>0.975000</td>\n",
       "      <td>0.025000</td>\n",
       "      <td>40</td>\n",
       "      <td>0.000000</td>\n",
       "      <td>1.000000</td>\n",
       "      <td>15.0</td>\n",
       "      <td>0.080000</td>\n",
       "      <td>0.920000</td>\n",
       "      <td>50</td>\n",
       "    </tr>\n",
       "    <tr>\n",
       "      <th>4</th>\n",
       "      <td>J000358.99+000710.7</td>\n",
       "      <td>0.609756</td>\n",
       "      <td>0.390244</td>\n",
       "      <td>41</td>\n",
       "      <td>NaN</td>\n",
       "      <td>NaN</td>\n",
       "      <td>NaN</td>\n",
       "      <td>0.333333</td>\n",
       "      <td>0.666667</td>\n",
       "      <td>12</td>\n",
       "    </tr>\n",
       "    <tr>\n",
       "      <th>...</th>\n",
       "      <td>...</td>\n",
       "      <td>...</td>\n",
       "      <td>...</td>\n",
       "      <td>...</td>\n",
       "      <td>...</td>\n",
       "      <td>...</td>\n",
       "      <td>...</td>\n",
       "      <td>...</td>\n",
       "      <td>...</td>\n",
       "      <td>...</td>\n",
       "    </tr>\n",
       "    <tr>\n",
       "      <th>53160</th>\n",
       "      <td>J235942.21+011017.0</td>\n",
       "      <td>0.853659</td>\n",
       "      <td>0.146341</td>\n",
       "      <td>41</td>\n",
       "      <td>NaN</td>\n",
       "      <td>NaN</td>\n",
       "      <td>NaN</td>\n",
       "      <td>0.000000</td>\n",
       "      <td>1.000000</td>\n",
       "      <td>10</td>\n",
       "    </tr>\n",
       "    <tr>\n",
       "      <th>53161</th>\n",
       "      <td>J235943.64+004241.5</td>\n",
       "      <td>0.900000</td>\n",
       "      <td>0.100000</td>\n",
       "      <td>40</td>\n",
       "      <td>NaN</td>\n",
       "      <td>NaN</td>\n",
       "      <td>NaN</td>\n",
       "      <td>0.142857</td>\n",
       "      <td>0.857143</td>\n",
       "      <td>14</td>\n",
       "    </tr>\n",
       "    <tr>\n",
       "      <th>53162</th>\n",
       "      <td>J235944.62+032243.7</td>\n",
       "      <td>0.900000</td>\n",
       "      <td>0.100000</td>\n",
       "      <td>40</td>\n",
       "      <td>NaN</td>\n",
       "      <td>NaN</td>\n",
       "      <td>NaN</td>\n",
       "      <td>0.166667</td>\n",
       "      <td>0.833333</td>\n",
       "      <td>12</td>\n",
       "    </tr>\n",
       "    <tr>\n",
       "      <th>53163</th>\n",
       "      <td>J235944.90+004643.0</td>\n",
       "      <td>0.400000</td>\n",
       "      <td>0.600000</td>\n",
       "      <td>10</td>\n",
       "      <td>0.000000</td>\n",
       "      <td>1.000000</td>\n",
       "      <td>37.0</td>\n",
       "      <td>0.300000</td>\n",
       "      <td>0.700000</td>\n",
       "      <td>10</td>\n",
       "    </tr>\n",
       "    <tr>\n",
       "      <th>53164</th>\n",
       "      <td>J235948.29+010855.6</td>\n",
       "      <td>0.200000</td>\n",
       "      <td>0.800000</td>\n",
       "      <td>10</td>\n",
       "      <td>1.000000</td>\n",
       "      <td>0.000000</td>\n",
       "      <td>16.0</td>\n",
       "      <td>0.600000</td>\n",
       "      <td>0.400000</td>\n",
       "      <td>10</td>\n",
       "    </tr>\n",
       "  </tbody>\n",
       "</table>\n",
       "<p>53012 rows × 10 columns</p>\n",
       "</div>"
      ],
      "text/plain": [
       "                   iauname  smooth-or-featured_smooth_fraction  \\\n",
       "0      J000007.82-000226.0                            0.125000   \n",
       "1      J000012.78+010712.7                            0.048780   \n",
       "2      J000150.59+010157.1                            0.625000   \n",
       "3      J000321.63+010334.2                            0.975000   \n",
       "4      J000358.99+000710.7                            0.609756   \n",
       "...                    ...                                 ...   \n",
       "53160  J235942.21+011017.0                            0.853659   \n",
       "53161  J235943.64+004241.5                            0.900000   \n",
       "53162  J235944.62+032243.7                            0.900000   \n",
       "53163  J235944.90+004643.0                            0.400000   \n",
       "53164  J235948.29+010855.6                            0.200000   \n",
       "\n",
       "       smooth-or-featured_featured-or-disk_fraction  \\\n",
       "0                                          0.875000   \n",
       "1                                          0.951220   \n",
       "2                                          0.375000   \n",
       "3                                          0.025000   \n",
       "4                                          0.390244   \n",
       "...                                             ...   \n",
       "53160                                      0.146341   \n",
       "53161                                      0.100000   \n",
       "53162                                      0.100000   \n",
       "53163                                      0.600000   \n",
       "53164                                      0.800000   \n",
       "\n",
       "       smooth-or-featured_total-votes  has-spiral-arms_yes_fraction  \\\n",
       "0                                  40                      0.933333   \n",
       "1                                  41                      1.000000   \n",
       "2                                  40                      0.066667   \n",
       "3                                  40                      0.000000   \n",
       "4                                  41                           NaN   \n",
       "...                               ...                           ...   \n",
       "53160                              41                           NaN   \n",
       "53161                              40                           NaN   \n",
       "53162                              40                           NaN   \n",
       "53163                              10                      0.000000   \n",
       "53164                              10                      1.000000   \n",
       "\n",
       "       has-spiral-arms_no_fraction  has-spiral-arms_total-votes  \\\n",
       "0                         0.066667                         15.0   \n",
       "1                         0.000000                         15.0   \n",
       "2                         0.933333                         15.0   \n",
       "3                         1.000000                         15.0   \n",
       "4                              NaN                          NaN   \n",
       "...                            ...                          ...   \n",
       "53160                          NaN                          NaN   \n",
       "53161                          NaN                          NaN   \n",
       "53162                          NaN                          NaN   \n",
       "53163                     1.000000                         37.0   \n",
       "53164                     0.000000                         16.0   \n",
       "\n",
       "       merging_yes_fraction  merging_no_fraction  merging_total-votes  \n",
       "0                  0.170213             0.829787                   47  \n",
       "1                  0.450980             0.549020                   51  \n",
       "2                  0.755102             0.244898                   49  \n",
       "3                  0.080000             0.920000                   50  \n",
       "4                  0.333333             0.666667                   12  \n",
       "...                     ...                  ...                  ...  \n",
       "53160              0.000000             1.000000                   10  \n",
       "53161              0.142857             0.857143                   14  \n",
       "53162              0.166667             0.833333                   12  \n",
       "53163              0.300000             0.700000                   10  \n",
       "53164              0.600000             0.400000                   10  \n",
       "\n",
       "[53012 rows x 10 columns]"
      ]
     },
     "execution_count": 59,
     "metadata": {},
     "output_type": "execute_result"
    }
   ],
   "source": [
    "agg"
   ]
  },
  {
   "cell_type": "code",
   "execution_count": 61,
   "metadata": {},
   "outputs": [
    {
     "data": {
      "text/plain": [
       "(0.0, 50.0)"
      ]
     },
     "execution_count": 61,
     "metadata": {},
     "output_type": "execute_result"
    },
    {
     "data": {
      "image/png": "[encoded data removed]",
      "text/plain": [
       "<Figure size 432x288 with 1 Axes>"
      ]
     },
     "metadata": {
      "needs_background": "light"
     },
     "output_type": "display_data"
    }
   ],
   "source": [
    "plt.hist(agg['has-spiral-arms_total-votes'], range=(0, 50), bins=20)\n",
    "plt.xlabel('Spiral Arms Total Votes (Mobile)')\n",
    "plt.ylabel('Galaxies')\n",
    "plt.xlim([0., 50.])"
   ]
  },
  {
   "cell_type": "code",
   "execution_count": 62,
   "metadata": {},
   "outputs": [
    {
     "data": {
      "text/plain": [
       "(0.0, 50.0)"
      ]
     },
     "execution_count": 62,
     "metadata": {},
     "output_type": "execute_result"
    },
    {
     "data": {
      "image/png": "[encoded data removed]",
      "text/plain": [
       "<Figure size 432x288 with 1 Axes>"
      ]
     },
     "metadata": {
      "needs_background": "light"
     },
     "output_type": "display_data"
    }
   ],
   "source": [
    "plt.hist(agg['merging_total-votes'], range=(0, 50), bins=20)\n",
    "plt.xlabel('Merging Total Votes (Mobile)')\n",
    "plt.ylabel('Galaxies')\n",
    "plt.xlim([0., 50.])"
   ]
  },
  {
   "cell_type": "code",
   "execution_count": null,
   "metadata": {},
   "outputs": [],
   "source": []
  },
  {
   "cell_type": "code",
   "execution_count": null,
   "metadata": {},
   "outputs": [],
   "source": []
  },
  {
   "cell_type": "code",
   "execution_count": null,
   "metadata": {},
   "outputs": [],
   "source": []
  },
  {
   "cell_type": "code",
   "execution_count": 52,
   "metadata": {},
   "outputs": [
    {
     "data": {
      "text/plain": [
       "<matplotlib.axes._subplots.AxesSubplot at 0x7f093b1f6410>"
      ]
     },
     "execution_count": 52,
     "metadata": {},
     "output_type": "execute_result"
    },
    {
     "data": {
      "image/png": "[encoded data removed]",
      "text/plain": [
       "<Figure size 432x288 with 1 Axes>"
      ]
     },
     "metadata": {
      "needs_background": "light"
     },
     "output_type": "display_data"
    }
   ],
   "source": [
    "agg['smooth-or-featured_total-votes'].hist(bins=20)"
   ]
  },
  {
   "cell_type": "code",
   "execution_count": 53,
   "metadata": {},
   "outputs": [
    {
     "data": {
      "text/plain": [
       "<matplotlib.axes._subplots.AxesSubplot at 0x7f093b1c2d90>"
      ]
     },
     "execution_count": 53,
     "metadata": {},
     "output_type": "execute_result"
    },
    {
     "data": {
      "image/png": "[encoded data removed]",
      "text/plain": [
       "<Figure size 432x288 with 1 Axes>"
      ]
     },
     "metadata": {
      "needs_background": "light"
     },
     "output_type": "display_data"
    }
   ],
   "source": [
    "agg['smooth-or-featured_total-votes'].hist(bins=20, range=(0, 50))"
   ]
  },
  {
   "cell_type": "code",
   "execution_count": 54,
   "metadata": {},
   "outputs": [],
   "source": [
    "dr5 = pd.read_parquet('/home/walml/repos/zoobot/current_final_dr5_result.parquet')"
   ]
  },
  {
   "cell_type": "code",
   "execution_count": 55,
   "metadata": {},
   "outputs": [],
   "source": [
    "both = pd.merge(agg, dr5, on='iauname', how='inner', suffixes=('_mobile', '_dr5'))"
   ]
  },
  {
   "cell_type": "code",
   "execution_count": 56,
   "metadata": {},
   "outputs": [
    {
     "data": {
      "text/plain": [
       "(53012, 253225, 37264)"
      ]
     },
     "execution_count": 56,
     "metadata": {},
     "output_type": "execute_result"
    }
   ],
   "source": [
    "len(agg), len(dr5), len(both)"
   ]
  },
  {
   "cell_type": "code",
   "execution_count": null,
   "metadata": {},
   "outputs": [],
   "source": [
    "both['smooth-or-featured_featured-or-disk_fraction_mobile'].hist(bins=20)"
   ]
  },
  {
   "cell_type": "code",
   "execution_count": 57,
   "metadata": {},
   "outputs": [
    {
     "data": {
      "text/plain": [
       "<matplotlib.axes._subplots.AxesSubplot at 0x7f093b29bd90>"
      ]
     },
     "execution_count": 57,
     "metadata": {},
     "output_type": "execute_result"
    },
    {
     "data": {
      "image/png": "[encoded data removed]",
      "text/plain": [
       "<Figure size 432x288 with 1 Axes>"
      ]
     },
     "metadata": {
      "needs_background": "light"
     },
     "output_type": "display_data"
    }
   ],
   "source": [
    "both['smooth-or-featured_featured-or-disk_fraction_mobile'].hist(bins=20)"
   ]
  },
  {
   "cell_type": "code",
   "execution_count": 71,
   "metadata": {},
   "outputs": [
    {
     "data": {
      "text/plain": [
       "<matplotlib.legend.Legend at 0x7f093b5e5d90>"
      ]
     },
     "execution_count": 71,
     "metadata": {},
     "output_type": "execute_result"
    },
    {
     "data": {
      "image/png": "[encoded data removed]",
      "text/plain": [
       "<Figure size 432x288 with 1 Axes>"
      ]
     },
     "metadata": {
      "needs_background": "light"
     },
     "output_type": "display_data"
    }
   ],
   "source": [
    "bins = 25\n",
    "plt.hist(both[both['smooth-or-featured_featured-or-disk_fraction_mobile'] < 0.25]['smooth-or-featured_featured-or-disk_fraction_dr5'], density=True, alpha=.5, label='Mob. Feat. < 0.25', bins=bins)\n",
    "plt.hist(both[both['smooth-or-featured_featured-or-disk_fraction_mobile'] > 0.75]['smooth-or-featured_featured-or-disk_fraction_dr5'], density=True, alpha=.5, label='Mob. Feat. > 0.75', bins=bins)\n",
    "plt.xlabel('DR5 Featured or Disk Fraction')\n",
    "plt.xlim([0., 1.])\n",
    "plt.ylabel('Galaxies (norm)')\n",
    "plt.legend()"
   ]
  },
  {
   "cell_type": "code",
   "execution_count": 64,
   "metadata": {},
   "outputs": [
    {
     "data": {
      "text/plain": [
       "<matplotlib.axes._subplots.AxesSubplot at 0x7f093b3d2d90>"
      ]
     },
     "execution_count": 64,
     "metadata": {},
     "output_type": "execute_result"
    },
    {
     "data": {
      "image/png": "[encoded data removed]",
      "text/plain": [
       "<Figure size 432x288 with 1 Axes>"
      ]
     },
     "metadata": {
      "needs_background": "light"
     },
     "output_type": "display_data"
    }
   ],
   "source": [
    "both['has-spiral-arms_total-votes_mobile'].hist(range=(0, 60), bins=30)\n",
    "# was set to retire at 20, now set to retire at 10"
   ]
  },
  {
   "cell_type": "code",
   "execution_count": 65,
   "metadata": {},
   "outputs": [
    {
     "data": {
      "text/plain": [
       "<matplotlib.axes._subplots.AxesSubplot at 0x7f093b37a050>"
      ]
     },
     "execution_count": 65,
     "metadata": {},
     "output_type": "execute_result"
    },
    {
     "data": {
      "image/png": "[encoded data removed]",
      "text/plain": [
       "<Figure size 432x288 with 1 Axes>"
      ]
     },
     "metadata": {
      "needs_background": "light"
     },
     "output_type": "display_data"
    }
   ],
   "source": [
    "both['has-spiral-arms_yes_fraction_mobile'].hist()"
   ]
  },
  {
   "cell_type": "code",
   "execution_count": null,
   "metadata": {},
   "outputs": [],
   "source": []
  },
  {
   "cell_type": "code",
   "execution_count": 73,
   "metadata": {},
   "outputs": [
    {
     "data": {
      "text/plain": [
       "<matplotlib.legend.Legend at 0x7f093b652310>"
      ]
     },
     "execution_count": 73,
     "metadata": {},
     "output_type": "execute_result"
    },
    {
     "data": {
      "image/png": "[encoded data removed]",
      "text/plain": [
       "<Figure size 432x288 with 1 Axes>"
      ]
     },
     "metadata": {
      "needs_background": "light"
     },
     "output_type": "display_data"
    }
   ],
   "source": [
    "bins = 20\n",
    "plt.hist(both[both['has-spiral-arms_yes_fraction_mobile'] < 0.25]['has-spiral-arms_yes_fraction_dr5'], density=True, alpha=.5, label='Mob. Spiral. < 0.25', bins=bins)\n",
    "plt.hist(both[both['has-spiral-arms_yes_fraction_mobile'] > 0.75]['has-spiral-arms_yes_fraction_dr5'], density=True, alpha=.5, label='Mob. Spiral. > 0.75', bins=bins)\n",
    "plt.xlabel('DR5 Spiral Yes Fraction')\n",
    "plt.xlim([0., 1.])\n",
    "plt.ylabel('Galaxies (norm)')\n",
    "plt.legend()"
   ]
  },
  {
   "cell_type": "code",
   "execution_count": 67,
   "metadata": {},
   "outputs": [
    {
     "data": {
      "text/plain": [
       "<matplotlib.axes._subplots.AxesSubplot at 0x7f093b4b91d0>"
      ]
     },
     "execution_count": 67,
     "metadata": {},
     "output_type": "execute_result"
    },
    {
     "data": {
      "image/png": "[encoded data removed]",
      "text/plain": [
       "<Figure size 432x288 with 1 Axes>"
      ]
     },
     "metadata": {
      "needs_background": "light"
     },
     "output_type": "display_data"
    }
   ],
   "source": [
    "both['merging_merger_fraction'].hist()  # no mobile as no direct equiv. in dr5"
   ]
  },
  {
   "cell_type": "markdown",
   "metadata": {},
   "source": [
    "Very promising for ML prioritisation, perhaps"
   ]
  },
  {
   "cell_type": "code",
   "execution_count": 68,
   "metadata": {},
   "outputs": [
    {
     "data": {
      "text/plain": [
       "<matplotlib.legend.Legend at 0x7f093b4d4f90>"
      ]
     },
     "execution_count": 68,
     "metadata": {},
     "output_type": "execute_result"
    },
    {
     "data": {
      "image/png": "[encoded data removed]",
      "text/plain": [
       "<Figure size 432x288 with 1 Axes>"
      ]
     },
     "metadata": {
      "needs_background": "light"
     },
     "output_type": "display_data"
    }
   ],
   "source": [
    "bins = \n",
    "plt.hist(both[both['merging_merger_fraction'] < 0.25]['merging_merger_fraction'], density=True, alpha=.5, label='Mob. Merger. < 0.25')\n",
    "plt.hist(both[both['merging_merger_fraction'] > 0.75]['merging_merger_fraction'], density=True, alpha=.5, label='Mob. Merger > 0.75')\n",
    "plt.xlabel('DR5 Merger \"Merging\" Fraction')\n",
    "plt.xlim([0., 1.])\n",
    "plt.ylabel('Galaxies (norm)')\n",
    "plt.legend()"
   ]
  },
  {
   "cell_type": "code",
   "execution_count": null,
   "metadata": {},
   "outputs": [],
   "source": []
  }
 ],
 "metadata": {
  "kernelspec": {
   "display_name": "Python 3",
   "language": "python",
   "name": "python3"
  },
  "language_info": {
   "codemirror_mode": {
    "name": "ipython",
    "version": 3
   },
   "file_extension": ".py",
   "mimetype": "text/x-python",
   "name": "python",
   "nbconvert_exporter": "python",
   "pygments_lexer": "ipython3",
   "version": "3.7.6"
  }
 },
 "nbformat": 4,
 "nbformat_minor": 4
}
