{
 "cells": [
  {
   "cell_type": "code",
   "execution_count": 2,
   "metadata": {},
   "outputs": [],
   "source": [
    "%matplotlib inline\n",
    "%load_ext autoreload\n",
    "%autoreload 2"
   ]
  },
  {
   "cell_type": "code",
   "execution_count": 3,
   "metadata": {},
   "outputs": [],
   "source": [
    "import pandas as pd\n",
    "import matplotlib.pyplot as plt\n",
    "import json\n",
    "from PIL import Image"
   ]
  },
  {
   "cell_type": "code",
   "execution_count": 4,
   "metadata": {},
   "outputs": [],
   "source": [
    "df_loc = '/media/mike/beta/decals/results/classifications_2019_10_03.csv'\n",
    "df = pd.read_csv(df_loc)"
   ]
  },
  {
   "cell_type": "markdown",
   "metadata": {},
   "source": [
    "### How many unique galaxies are there?"
   ]
  },
  {
   "cell_type": "code",
   "execution_count": 14,
   "metadata": {},
   "outputs": [],
   "source": [
    "def count_unique(df):\n",
    "    print('{} unique galaxies in {} subjects ({:.3f})'.format(len(df['iauname'].unique()), len(df), len(df['iauname'].unique())/len(df)))"
   ]
  },
  {
   "cell_type": "code",
   "execution_count": 15,
   "metadata": {},
   "outputs": [
    {
     "name": "stdout",
     "output_type": "stream",
     "text": [
      "86957 unique galaxies in 105074 subjects (0.828)\n"
     ]
    }
   ],
   "source": [
    "count_unique(df)"
   ]
  },
  {
   "cell_type": "markdown",
   "metadata": {},
   "source": [
    "Okay, so that's not great. What's going on?\n",
    "\n",
    "## Summary\n",
    "\n",
    "- 4000 repeats from pre-active learning galaxies (15%). 3000 from an accidental re-upload of the first 3000, and 1000 from an unknown mistake.\n",
    "- 7000 repeats from active learning (50%!). I've clearly messed up the selection of galaxies to upload somehow - they should be filtered to only include galaxies not yet labelled.\n",
    "- 5000 repeats from random galaxies, because I accidentally uploaded the same batch on April 12th and April 16th 2019.\n",
    "\n",
    "Total: 19,000. All repeats accounted for.\n",
    "\n",
    "This is way too many repeats to be efficient. How can we fix this for new uploads?\n",
    "\n",
    "### Work needed\n",
    "\n",
    "- Upload routine (shared for random and active) should refuse to upload galaxies which are already labelled. To do this, get the latest classifications before running any uploads.\n",
    "- Add checks that master catalog has no duplicate iaunames\n",
    "- If no duplicate iaunames, debug the active learning loop to see hpw repeat uploads on the same day are possible. Should be a ranked list, and is unit tested!"
   ]
  },
  {
   "cell_type": "markdown",
   "metadata": {},
   "source": [
    "## Investigation"
   ]
  },
  {
   "cell_type": "markdown",
   "metadata": {},
   "source": [
    "How many subjects have each retirement limit?"
   ]
  },
  {
   "cell_type": "code",
   "execution_count": 7,
   "metadata": {},
   "outputs": [
    {
     "data": {
      "text/plain": [
       "53970"
      ]
     },
     "execution_count": 7,
     "metadata": {},
     "output_type": "execute_result"
    }
   ],
   "source": [
    "pd.isnull(df['retirement_limit']).sum()"
   ]
  },
  {
   "cell_type": "code",
   "execution_count": 9,
   "metadata": {},
   "outputs": [
    {
     "data": {
      "text/plain": [
       "3.0     34781\n",
       "40.0    15871\n",
       "10.0      452\n",
       "Name: retirement_limit, dtype: int64"
      ]
     },
     "execution_count": 9,
     "metadata": {},
     "output_type": "execute_result"
    }
   ],
   "source": [
    "df['retirement_limit'].value_counts()"
   ]
  },
  {
   "cell_type": "markdown",
   "metadata": {},
   "source": [
    "### Looking within pre-active-learning galaxies (no retirement limit metadata)\n",
    "\n",
    "Mostly down to two errors. Once, uploading the first 3k galaxies twice (probably a wrong button). Once, 881 previously-uploaded galaxies were re-uploaded as part of a new upload - not sure how."
   ]
  },
  {
   "cell_type": "code",
   "execution_count": 16,
   "metadata": {},
   "outputs": [
    {
     "name": "stdout",
     "output_type": "stream",
     "text": [
      "49886 unique galaxies in 53970 subjects (0.924)\n"
     ]
    }
   ],
   "source": [
    "pre_active =  df[pd.isnull(df['retirement_limit'])]\n",
    "count_unique(pre_active)"
   ]
  },
  {
   "cell_type": "code",
   "execution_count": 27,
   "metadata": {},
   "outputs": [],
   "source": [
    "def count_repeats(df):\n",
    "    return df['iauname'].value_counts().value_counts()"
   ]
  },
  {
   "cell_type": "code",
   "execution_count": 28,
   "metadata": {},
   "outputs": [
    {
     "data": {
      "text/plain": [
       "1    45825\n",
       "2     4038\n",
       "3       23\n",
       "Name: iauname, dtype: int64"
      ]
     },
     "execution_count": 28,
     "metadata": {},
     "output_type": "execute_result"
    }
   ],
   "source": [
    "count_repeats(pre_active)"
   ]
  },
  {
   "cell_type": "code",
   "execution_count": 73,
   "metadata": {},
   "outputs": [],
   "source": [
    "def show_uploads_over_time(df):\n",
    "    df_dup = df[df['iauname'].duplicated(keep=False)]\n",
    "    dup_agg = df_dup.groupby('upload_date').agg('count')\n",
    "    all_agg = df.groupby('upload_date').agg('count')\n",
    "    \n",
    "    fig, axes = plt.subplots(nrows=2, figsize=(20, 14))\n",
    "    \n",
    "    axes[0].scatter(dup_agg.index, dup_agg['subject_id'], label='dup')\n",
    "    axes[0].scatter(all_agg.index, all_agg['subject_id'], label='all', alpha=0.5)\n",
    "    axes[0].legend()\n",
    "    axes[0].set_ylabel('Subjects')\n",
    "    axes[0].set_ylim([0, None])\n",
    "    \n",
    "    axes[1].scatter(dup_agg.index, dup_agg['subject_id'] / all_agg['subject_id'])  # assumes same index\n",
    "    axes[1].set_ylim([0, 1])\n",
    "    axes[1].set_ylabel('Fraction of subjects which are ever uploaded more than once')\n",
    "    "
   ]
  },
  {
   "cell_type": "code",
   "execution_count": 74,
   "metadata": {},
   "outputs": [
    {
     "data": {
      "image/png": "[encoded data removed]",
      "text/plain": [
       "<Figure size 1440x1008 with 2 Axes>"
      ]
     },
     "metadata": {
      "needs_background": "light"
     },
     "output_type": "display_data"
    }
   ],
   "source": [
    "show_uploads_over_time(pre_active)"
   ]
  },
  {
   "cell_type": "code",
   "execution_count": 34,
   "metadata": {},
   "outputs": [],
   "source": [
    "def group_by_duplicate_dates(df, degree=2):\n",
    "    return df.sort_values('upload_date').groupby('iauname').agg({'upload_date': lambda x: json.dumps([y for y in x[:degree]])}).reset_index()"
   ]
  },
  {
   "cell_type": "code",
   "execution_count": 35,
   "metadata": {},
   "outputs": [],
   "source": [
    "grouped_dates = group_by_duplicate_dates(pre_active)"
   ]
  },
  {
   "cell_type": "code",
   "execution_count": 36,
   "metadata": {},
   "outputs": [
    {
     "data": {
      "text/plain": [
       "[\"2018-12-07\"]                  14590\n",
       "[\"2018-05-16\"]                   9955\n",
       "[\"2018-09-28\"]                   5820\n",
       "[\"2018-04-19\"]                   4990\n",
       "[\"2018-11-07\"]                   4987\n",
       "[\"2018-03-22\", \"2018-08-31\"]     2992\n",
       "[\"2019-02-06\"]                   2817\n",
       "[\"2018-03-30\"]                   1995\n",
       "[\"2018-12-07\", \"2019-02-06\"]      881\n",
       "[\"2018-04-09\"]                    671\n",
       "[\"2018-04-09\", \"2018-09-28\"]       66\n",
       "[\"2018-05-16\", \"2018-09-28\"]       45\n",
       "[\"2018-04-09\", \"2018-12-07\"]       29\n",
       "[\"2018-04-09\", \"2018-11-07\"]       13\n",
       "[\"2018-09-28\", \"2018-09-28\"]       11\n",
       "[\"2018-04-19\", \"2018-09-28\"]       10\n",
       "[\"2018-03-22\", \"2018-04-09\"]        8\n",
       "[\"2018-03-30\", \"2018-09-28\"]        3\n",
       "[\"2018-03-30\", \"2018-04-09\"]        2\n",
       "[\"2018-04-09\", \"2019-02-06\"]        1\n",
       "Name: upload_date, dtype: int64"
      ]
     },
     "execution_count": 36,
     "metadata": {},
     "output_type": "execute_result"
    }
   ],
   "source": [
    "grouped_dates['upload_date'].value_counts()"
   ]
  },
  {
   "cell_type": "markdown",
   "metadata": {},
   "source": [
    "On August 31st, 2018, I uploaded exactly the same set of 2992 galaxies as I did at launch (but after Nair). These are the first 3k galaxies. They are incorrectly listed as 'new' in my notes. Probably I typed the wrong command...\n",
    "https://github.com/zooniverse/galaxy-zoo-panoptes/wiki/DECALS-DR5-Subject-Set-History"
   ]
  },
  {
   "cell_type": "code",
   "execution_count": 37,
   "metadata": {},
   "outputs": [
    {
     "data": {
      "text/plain": [
       "2018-12-07    15500\n",
       "2018-05-16    10000\n",
       "2018-09-28     5977\n",
       "2018-04-19     5000\n",
       "2018-11-07     5000\n",
       "2019-02-06     3703\n",
       "2018-03-22     3000\n",
       "2018-08-31     3000\n",
       "2018-03-30     2000\n",
       "2018-04-09      790\n",
       "Name: upload_date, dtype: int64"
      ]
     },
     "execution_count": 37,
     "metadata": {},
     "output_type": "execute_result"
    }
   ],
   "source": [
    "pre_active['upload_date'].value_counts()"
   ]
  },
  {
   "cell_type": "code",
   "execution_count": 38,
   "metadata": {},
   "outputs": [
    {
     "data": {
      "text/plain": [
       "3703"
      ]
     },
     "execution_count": 38,
     "metadata": {},
     "output_type": "execute_result"
    }
   ],
   "source": [
    "(pre_active['upload_date'] == '2019-02-06').sum()"
   ]
  },
  {
   "cell_type": "code",
   "execution_count": 39,
   "metadata": {},
   "outputs": [
    {
     "data": {
      "text/plain": [
       "8145"
      ]
     },
     "execution_count": 39,
     "metadata": {},
     "output_type": "execute_result"
    }
   ],
   "source": [
    "pre_active['iauname'].duplicated(keep=False).sum()"
   ]
  },
  {
   "cell_type": "markdown",
   "metadata": {},
   "source": [
    "On February 6th 2019, as part of a batch of 3703 galaxies (strange number), I accidentally uploaded 881 galaxies that had already been uploaded on six months earlier on 2018-05-16. I'm not sure how this happened."
   ]
  },
  {
   "cell_type": "markdown",
   "metadata": {},
   "source": [
    "### Looking within active learning selected galaxies (retirement = 40)\n",
    "\n",
    "Somehow, active learning is not correctly filtering out galaxies which already have a label, and hence is consistently re-uploading some of the same galaxies"
   ]
  },
  {
   "cell_type": "code",
   "execution_count": 40,
   "metadata": {},
   "outputs": [
    {
     "name": "stdout",
     "output_type": "stream",
     "text": [
      "7237 unique galaxies in 15871 subjects (0.456)\n"
     ]
    }
   ],
   "source": [
    "ret40 = df.query('retirement_limit == 40')\n",
    "count_unique(ret40)\n",
    "# half (!) of active learning galaxies were uploaded once\n",
    "# this is a big problem - how can I be uploading the same galaxies?"
   ]
  },
  {
   "cell_type": "code",
   "execution_count": 41,
   "metadata": {},
   "outputs": [],
   "source": [
    "ret40_dup = ret40[ret40['iauname'].duplicated()]"
   ]
  },
  {
   "cell_type": "code",
   "execution_count": 75,
   "metadata": {},
   "outputs": [
    {
     "data": {
      "image/png": "[encoded data removed]",
      "text/plain": [
       "<Figure size 1440x1008 with 2 Axes>"
      ]
     },
     "metadata": {
      "needs_background": "light"
     },
     "output_type": "display_data"
    }
   ],
   "source": [
    "show_uploads_over_time(ret40)"
   ]
  },
  {
   "cell_type": "code",
   "execution_count": 77,
   "metadata": {},
   "outputs": [],
   "source": [
    "grouped_dates = group_by_duplicate_dates(ret40)"
   ]
  },
  {
   "cell_type": "code",
   "execution_count": 78,
   "metadata": {},
   "outputs": [
    {
     "data": {
      "text/plain": [
       "[\"2019-04-16\"]                  1246\n",
       "[\"2019-08-04\"]                  1064\n",
       "[\"2019-06-28\"]                   962\n",
       "[\"2019-08-23\"]                   940\n",
       "[\"2019-06-21\"]                   594\n",
       "[\"2019-06-13\"]                   577\n",
       "[\"2019-06-28\", \"2019-08-23\"]     300\n",
       "[\"2019-04-17\"]                   239\n",
       "[\"2019-06-13\", \"2019-06-28\"]     197\n",
       "[\"2019-06-13\", \"2019-08-04\"]     195\n",
       "[\"2019-06-21\", \"2019-08-04\"]     189\n",
       "[\"2019-06-21\", \"2019-08-23\"]     187\n",
       "[\"2019-04-18\"]                   125\n",
       "[\"2019-05-27\"]                   107\n",
       "[\"2019-05-31\"]                    88\n",
       "[\"2019-06-03\"]                    39\n",
       "[\"2019-06-03\", \"2019-06-28\"]      35\n",
       "[\"2019-06-03\", \"2019-08-23\"]      28\n",
       "[\"2019-06-03\", \"2019-06-21\"]      25\n",
       "[\"2019-05-31\", \"2019-08-04\"]      20\n",
       "[\"2019-05-31\", \"2019-06-13\"]      19\n",
       "[\"2019-04-16\", \"2019-04-17\"]      11\n",
       "[\"2019-05-27\", \"2019-06-13\"]       9\n",
       "[\"2019-05-27\", \"2019-08-04\"]       8\n",
       "[\"2019-04-16\", \"2019-06-28\"]       6\n",
       "[\"2019-04-16\", \"2019-08-23\"]       4\n",
       "[\"2019-04-16\", \"2019-08-04\"]       4\n",
       "[\"2019-04-16\", \"2019-06-21\"]       3\n",
       "[\"2019-04-16\", \"2019-06-13\"]       2\n",
       "[\"2019-04-17\", \"2019-08-04\"]       2\n",
       "[\"2019-04-16\", \"2019-05-27\"]       2\n",
       "[\"2019-04-17\", \"2019-05-27\"]       2\n",
       "[\"2019-04-18\", \"2019-08-23\"]       1\n",
       "[\"2019-04-16\", \"2019-06-03\"]       1\n",
       "[\"2019-04-18\", \"2019-06-21\"]       1\n",
       "[\"2019-04-18\", \"2019-06-13\"]       1\n",
       "[\"2019-04-17\", \"2019-08-23\"]       1\n",
       "[\"2019-04-17\", \"2019-06-21\"]       1\n",
       "[\"2019-04-16\", \"2019-05-31\"]       1\n",
       "Name: upload_date, dtype: int64"
      ]
     },
     "execution_count": 78,
     "metadata": {},
     "output_type": "execute_result"
    }
   ],
   "source": [
    "grouped_dates['upload_date'].value_counts()"
   ]
  },
  {
   "cell_type": "markdown",
   "metadata": {},
   "source": [
    "Active learning is often requesting labels for the same galaxies *on the same day*. \n",
    "\n",
    "For this to happen, either the subject_id list to upload is not unique or the master catalog has duplicate iaunames."
   ]
  },
  {
   "cell_type": "markdown",
   "metadata": {},
   "source": [
    "### Looking within galaxies with retirement = 3\n",
    "\n",
    "Conclusion: I once accidentally uploaded (mostly) the same batch of galaxies twice, causing 4000/8000 duplicates"
   ]
  },
  {
   "cell_type": "code",
   "execution_count": 46,
   "metadata": {},
   "outputs": [
    {
     "name": "stdout",
     "output_type": "stream",
     "text": [
      "30371 unique galaxies in 34781 subjects (0.873)\n"
     ]
    }
   ],
   "source": [
    "ret3 = df.query('retirement_limit == 3')\n",
    "count_unique(ret3)\n",
    "# 87% of random galaxies were uploaded only once as random-selected"
   ]
  },
  {
   "cell_type": "code",
   "execution_count": 47,
   "metadata": {},
   "outputs": [
    {
     "data": {
      "text/plain": [
       "2210    1\n",
       "2200    1\n",
       "Name: subject_id, dtype: int64"
      ]
     },
     "execution_count": 47,
     "metadata": {},
     "output_type": "execute_result"
    }
   ],
   "source": [
    "ret3_dup = ret3[ret3['iauname'].duplicated()]\n",
    "dup_agg = ret3_dup.groupby('upload_date').agg('count')\n",
    "# fig, ax= plt.subplots(figsize=(20, 5))\n",
    "# ax.plot(dup_agg['subject_id'])\n",
    "dup_agg['subject_id'].value_counts()\n",
    "# for galaxies which have an upload date recorded, I accidentally uploaded the two batches of galaxies on April 12th and April 16th which (mostly) overlapped"
   ]
  },
  {
   "cell_type": "code",
   "execution_count": 48,
   "metadata": {},
   "outputs": [],
   "source": [
    "april_12th = ret3[ret3['upload_date'] == '2019-04-12']\n",
    "april_16th = ret3[ret3['upload_date'] == '2019-04-16']"
   ]
  },
  {
   "cell_type": "code",
   "execution_count": 49,
   "metadata": {},
   "outputs": [
    {
     "data": {
      "text/plain": [
       "(5314, 5000)"
      ]
     },
     "execution_count": 49,
     "metadata": {},
     "output_type": "execute_result"
    }
   ],
   "source": [
    "len(april_12th), len(april_16th)"
   ]
  },
  {
   "cell_type": "code",
   "execution_count": 50,
   "metadata": {},
   "outputs": [
    {
     "data": {
      "text/plain": [
       "True     4410\n",
       "False     904\n",
       "Name: iauname, dtype: int64"
      ]
     },
     "execution_count": 50,
     "metadata": {},
     "output_type": "execute_result"
    }
   ],
   "source": [
    "april_12th['iauname'].isin(april_16th['iauname']).value_counts()"
   ]
  },
  {
   "cell_type": "code",
   "execution_count": 51,
   "metadata": {},
   "outputs": [
    {
     "data": {
      "text/plain": [
       "1"
      ]
     },
     "execution_count": 51,
     "metadata": {},
     "output_type": "execute_result"
    }
   ],
   "source": [
    "april_12th['iauname'].value_counts().max()"
   ]
  },
  {
   "cell_type": "code",
   "execution_count": 52,
   "metadata": {},
   "outputs": [
    {
     "data": {
      "text/plain": [
       "1"
      ]
     },
     "execution_count": 52,
     "metadata": {},
     "output_type": "execute_result"
    }
   ],
   "source": [
    "april_16th['iauname'].value_counts().max()"
   ]
  },
  {
   "cell_type": "code",
   "execution_count": 54,
   "metadata": {},
   "outputs": [
    {
     "data": {
      "text/plain": [
       "0"
      ]
     },
     "execution_count": 54,
     "metadata": {},
     "output_type": "execute_result"
    }
   ],
   "source": [
    "ret3_no_upload = ret3[pd.isnull(ret3['upload_date'])]\n",
    "len(ret3_no_upload)  # every galaxy with retirement=3 has an upload date"
   ]
  },
  {
   "cell_type": "markdown",
   "metadata": {},
   "source": [
    "### Looking at overlap between random (ret3) and active (ret40) subjects\n",
    "\n",
    "444 galaxies have been uploaded as both random and active-learning selected, which is not ideal but a lot less of a problem than the active learning repeats."
   ]
  },
  {
   "cell_type": "code",
   "execution_count": 62,
   "metadata": {},
   "outputs": [],
   "source": [
    "ret3_galaxies = set(ret3['iauname'].unique())\n",
    "ret40_galaxies = set(ret40['iauname'].unique())"
   ]
  },
  {
   "cell_type": "code",
   "execution_count": 65,
   "metadata": {},
   "outputs": [
    {
     "data": {
      "text/plain": [
       "444"
      ]
     },
     "execution_count": 65,
     "metadata": {},
     "output_type": "execute_result"
    }
   ],
   "source": [
    "len(ret3_galaxies.intersection(ret40_galaxies))"
   ]
  },
  {
   "cell_type": "code",
   "execution_count": 66,
   "metadata": {},
   "outputs": [
    {
     "data": {
      "text/plain": [
       "(34781, 15871)"
      ]
     },
     "execution_count": 66,
     "metadata": {},
     "output_type": "execute_result"
    }
   ],
   "source": [
    "len(ret3), len(ret40)"
   ]
  },
  {
   "cell_type": "code",
   "execution_count": null,
   "metadata": {},
   "outputs": [],
   "source": []
  }
 ],
 "metadata": {
  "kernelspec": {
   "display_name": "Python 3",
   "language": "python",
   "name": "python3"
  },
  "language_info": {
   "codemirror_mode": {
    "name": "ipython",
    "version": 3
   },
   "file_extension": ".py",
   "mimetype": "text/x-python",
   "name": "python",
   "nbconvert_exporter": "python",
   "pygments_lexer": "ipython3",
   "version": "3.7.5"
  }
 },
 "nbformat": 4,
 "nbformat_minor": 4
}
