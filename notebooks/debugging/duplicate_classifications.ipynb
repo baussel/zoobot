{
 "cells": [
  {
   "cell_type": "code",
   "execution_count": 1,
   "metadata": {},
   "outputs": [],
   "source": [
    "%matplotlib inline\n",
    "%load_ext autoreload\n",
    "%autoreload 2"
   ]
  },
  {
   "cell_type": "code",
   "execution_count": 2,
   "metadata": {},
   "outputs": [],
   "source": [
    "import pandas as pd\n",
    "import matplotlib.pyplot as plt\n",
    "import json\n",
    "from PIL import Image"
   ]
  },
  {
   "cell_type": "code",
   "execution_count": 3,
   "metadata": {},
   "outputs": [
    {
     "name": "stdout",
     "output_type": "stream",
     "text": [
      "/home/walml/repos/zoobot/notebooks/debugging\n"
     ]
    }
   ],
   "source": [
    "!pwd"
   ]
  },
  {
   "cell_type": "code",
   "execution_count": 4,
   "metadata": {},
   "outputs": [],
   "source": [
    "# df_loc = '/media/mike/beta/decals/results/classifications_2019_10_03.csv'\n",
    "# df_loc = '/media/mike/beta/decals/temp_workdir/classifications/classifications_2020_01_29.csv'\n",
    "df_loc = '/home/walml/repos/zoobot/data/classifications_2020_04_21.csv'\n",
    "df = pd.read_csv(df_loc)"
   ]
  },
  {
   "cell_type": "markdown",
   "metadata": {},
   "source": [
    "### How many unique galaxies are there?"
   ]
  },
  {
   "cell_type": "code",
   "execution_count": 5,
   "metadata": {},
   "outputs": [],
   "source": [
    "def count_unique(df):\n",
    "    print('{} unique galaxies in {} subjects ({:.3f})'.format(len(df['iauname'].unique()), len(df), len(df['iauname'].unique())/len(df)))"
   ]
  },
  {
   "cell_type": "code",
   "execution_count": 6,
   "metadata": {},
   "outputs": [
    {
     "name": "stdout",
     "output_type": "stream",
     "text": [
      "236418 unique galaxies in 263528 subjects (0.897)\n"
     ]
    }
   ],
   "source": [
    "count_unique(df)"
   ]
  },
  {
   "cell_type": "markdown",
   "metadata": {},
   "source": [
    "Real quick, let's save out a list of subject_ids which are duplicates and have retirement=3, to use elsewhere"
   ]
  },
  {
   "cell_type": "code",
   "execution_count": 7,
   "metadata": {},
   "outputs": [
    {
     "data": {
      "text/html": [
       "<div>\n",
       "<style scoped>\n",
       "    .dataframe tbody tr th:only-of-type {\n",
       "        vertical-align: middle;\n",
       "    }\n",
       "\n",
       "    .dataframe tbody tr th {\n",
       "        vertical-align: top;\n",
       "    }\n",
       "\n",
       "    .dataframe thead th {\n",
       "        text-align: right;\n",
       "    }\n",
       "</style>\n",
       "<table border=\"1\" class=\"dataframe\">\n",
       "  <thead>\n",
       "    <tr style=\"text-align: right;\">\n",
       "      <th></th>\n",
       "      <th>subject_id</th>\n",
       "      <th>bar_no</th>\n",
       "      <th>bar_strong</th>\n",
       "      <th>bar_weak</th>\n",
       "      <th>bulge-size_dominant</th>\n",
       "      <th>bulge-size_large</th>\n",
       "      <th>bulge-size_moderate</th>\n",
       "      <th>bulge-size_none</th>\n",
       "      <th>bulge-size_small</th>\n",
       "      <th>disk-edge-on_no</th>\n",
       "      <th>...</th>\n",
       "      <th>merging_both-v1_fraction</th>\n",
       "      <th>merging_neither-v1_fraction</th>\n",
       "      <th>merging_major-disturbance_fraction</th>\n",
       "      <th>merging_minor-disturbance_fraction</th>\n",
       "      <th>merging_none_fraction</th>\n",
       "      <th>iauname</th>\n",
       "      <th>retirement_limit</th>\n",
       "      <th>subject_url</th>\n",
       "      <th>upload_date</th>\n",
       "      <th>uploader</th>\n",
       "    </tr>\n",
       "  </thead>\n",
       "  <tbody>\n",
       "    <tr>\n",
       "      <th>0</th>\n",
       "      <td>20925270</td>\n",
       "      <td>7</td>\n",
       "      <td>0</td>\n",
       "      <td>0</td>\n",
       "      <td>0</td>\n",
       "      <td>5</td>\n",
       "      <td>2</td>\n",
       "      <td>0</td>\n",
       "      <td>0</td>\n",
       "      <td>7</td>\n",
       "      <td>...</td>\n",
       "      <td>0.290323</td>\n",
       "      <td>0.419355</td>\n",
       "      <td>0.000000</td>\n",
       "      <td>0.000000</td>\n",
       "      <td>0.000000</td>\n",
       "      <td>J112735.91-020514.9</td>\n",
       "      <td>NaN</td>\n",
       "      <td>https://panoptes-uploads.zooniverse.org/produc...</td>\n",
       "      <td>2018-04-19</td>\n",
       "      <td>NaN</td>\n",
       "    </tr>\n",
       "    <tr>\n",
       "      <th>1</th>\n",
       "      <td>27363232</td>\n",
       "      <td>9</td>\n",
       "      <td>0</td>\n",
       "      <td>1</td>\n",
       "      <td>0</td>\n",
       "      <td>5</td>\n",
       "      <td>3</td>\n",
       "      <td>0</td>\n",
       "      <td>2</td>\n",
       "      <td>10</td>\n",
       "      <td>...</td>\n",
       "      <td>0.000000</td>\n",
       "      <td>0.000000</td>\n",
       "      <td>0.055556</td>\n",
       "      <td>0.138889</td>\n",
       "      <td>0.333333</td>\n",
       "      <td>J095946.34+040001.3</td>\n",
       "      <td>NaN</td>\n",
       "      <td>https://panoptes-uploads.zooniverse.org/produc...</td>\n",
       "      <td>2018-11-07</td>\n",
       "      <td>NaN</td>\n",
       "    </tr>\n",
       "    <tr>\n",
       "      <th>2</th>\n",
       "      <td>35622993</td>\n",
       "      <td>1</td>\n",
       "      <td>10</td>\n",
       "      <td>10</td>\n",
       "      <td>0</td>\n",
       "      <td>3</td>\n",
       "      <td>13</td>\n",
       "      <td>0</td>\n",
       "      <td>5</td>\n",
       "      <td>21</td>\n",
       "      <td>...</td>\n",
       "      <td>0.000000</td>\n",
       "      <td>0.000000</td>\n",
       "      <td>0.000000</td>\n",
       "      <td>0.153846</td>\n",
       "      <td>0.730769</td>\n",
       "      <td>J012159.00-023544.0</td>\n",
       "      <td>40.0</td>\n",
       "      <td>https://panoptes-uploads.zooniverse.org/produc...</td>\n",
       "      <td>2019-08-04</td>\n",
       "      <td>panoptes_oracle</td>\n",
       "    </tr>\n",
       "    <tr>\n",
       "      <th>3</th>\n",
       "      <td>36239648</td>\n",
       "      <td>3</td>\n",
       "      <td>17</td>\n",
       "      <td>7</td>\n",
       "      <td>0</td>\n",
       "      <td>0</td>\n",
       "      <td>10</td>\n",
       "      <td>2</td>\n",
       "      <td>15</td>\n",
       "      <td>27</td>\n",
       "      <td>...</td>\n",
       "      <td>0.000000</td>\n",
       "      <td>0.000000</td>\n",
       "      <td>0.068966</td>\n",
       "      <td>0.068966</td>\n",
       "      <td>0.862069</td>\n",
       "      <td>J152621.71+131656.7</td>\n",
       "      <td>40.0</td>\n",
       "      <td>https://panoptes-uploads.zooniverse.org/produc...</td>\n",
       "      <td>2019-08-23</td>\n",
       "      <td>panoptes_oracle</td>\n",
       "    </tr>\n",
       "    <tr>\n",
       "      <th>4</th>\n",
       "      <td>21663050</td>\n",
       "      <td>3</td>\n",
       "      <td>0</td>\n",
       "      <td>3</td>\n",
       "      <td>0</td>\n",
       "      <td>1</td>\n",
       "      <td>2</td>\n",
       "      <td>1</td>\n",
       "      <td>2</td>\n",
       "      <td>6</td>\n",
       "      <td>...</td>\n",
       "      <td>0.000000</td>\n",
       "      <td>0.263158</td>\n",
       "      <td>0.052632</td>\n",
       "      <td>0.026316</td>\n",
       "      <td>0.657895</td>\n",
       "      <td>J011510.87-000659.8</td>\n",
       "      <td>NaN</td>\n",
       "      <td>https://panoptes-uploads.zooniverse.org/produc...</td>\n",
       "      <td>2018-05-16</td>\n",
       "      <td>NaN</td>\n",
       "    </tr>\n",
       "    <tr>\n",
       "      <th>...</th>\n",
       "      <td>...</td>\n",
       "      <td>...</td>\n",
       "      <td>...</td>\n",
       "      <td>...</td>\n",
       "      <td>...</td>\n",
       "      <td>...</td>\n",
       "      <td>...</td>\n",
       "      <td>...</td>\n",
       "      <td>...</td>\n",
       "      <td>...</td>\n",
       "      <td>...</td>\n",
       "      <td>...</td>\n",
       "      <td>...</td>\n",
       "      <td>...</td>\n",
       "      <td>...</td>\n",
       "      <td>...</td>\n",
       "      <td>...</td>\n",
       "      <td>...</td>\n",
       "      <td>...</td>\n",
       "      <td>...</td>\n",
       "      <td>...</td>\n",
       "    </tr>\n",
       "    <tr>\n",
       "      <th>263523</th>\n",
       "      <td>38624466</td>\n",
       "      <td>0</td>\n",
       "      <td>0</td>\n",
       "      <td>0</td>\n",
       "      <td>0</td>\n",
       "      <td>0</td>\n",
       "      <td>0</td>\n",
       "      <td>0</td>\n",
       "      <td>0</td>\n",
       "      <td>0</td>\n",
       "      <td>...</td>\n",
       "      <td>NaN</td>\n",
       "      <td>NaN</td>\n",
       "      <td>NaN</td>\n",
       "      <td>NaN</td>\n",
       "      <td>NaN</td>\n",
       "      <td>J104452.21+082641.8</td>\n",
       "      <td>3.0</td>\n",
       "      <td>https://panoptes-uploads.zooniverse.org/produc...</td>\n",
       "      <td>2019-11-27</td>\n",
       "      <td>manual_random_upload</td>\n",
       "    </tr>\n",
       "    <tr>\n",
       "      <th>263524</th>\n",
       "      <td>38622959</td>\n",
       "      <td>0</td>\n",
       "      <td>0</td>\n",
       "      <td>0</td>\n",
       "      <td>0</td>\n",
       "      <td>0</td>\n",
       "      <td>0</td>\n",
       "      <td>0</td>\n",
       "      <td>0</td>\n",
       "      <td>0</td>\n",
       "      <td>...</td>\n",
       "      <td>0.000000</td>\n",
       "      <td>0.000000</td>\n",
       "      <td>0.000000</td>\n",
       "      <td>0.000000</td>\n",
       "      <td>0.000000</td>\n",
       "      <td>J104144.51+244847.0</td>\n",
       "      <td>3.0</td>\n",
       "      <td>https://panoptes-uploads.zooniverse.org/produc...</td>\n",
       "      <td>2019-11-27</td>\n",
       "      <td>manual_random_upload</td>\n",
       "    </tr>\n",
       "    <tr>\n",
       "      <th>263525</th>\n",
       "      <td>37898608</td>\n",
       "      <td>0</td>\n",
       "      <td>0</td>\n",
       "      <td>0</td>\n",
       "      <td>0</td>\n",
       "      <td>0</td>\n",
       "      <td>0</td>\n",
       "      <td>0</td>\n",
       "      <td>0</td>\n",
       "      <td>0</td>\n",
       "      <td>...</td>\n",
       "      <td>NaN</td>\n",
       "      <td>NaN</td>\n",
       "      <td>NaN</td>\n",
       "      <td>NaN</td>\n",
       "      <td>NaN</td>\n",
       "      <td>J100700.61+140731.1</td>\n",
       "      <td>3.0</td>\n",
       "      <td>https://panoptes-uploads.zooniverse.org/produc...</td>\n",
       "      <td>2019-11-08</td>\n",
       "      <td>panoptes_oracle</td>\n",
       "    </tr>\n",
       "    <tr>\n",
       "      <th>263526</th>\n",
       "      <td>38617074</td>\n",
       "      <td>0</td>\n",
       "      <td>0</td>\n",
       "      <td>0</td>\n",
       "      <td>0</td>\n",
       "      <td>0</td>\n",
       "      <td>0</td>\n",
       "      <td>0</td>\n",
       "      <td>0</td>\n",
       "      <td>0</td>\n",
       "      <td>...</td>\n",
       "      <td>NaN</td>\n",
       "      <td>NaN</td>\n",
       "      <td>NaN</td>\n",
       "      <td>NaN</td>\n",
       "      <td>NaN</td>\n",
       "      <td>J103126.06+110240.4</td>\n",
       "      <td>3.0</td>\n",
       "      <td>https://panoptes-uploads.zooniverse.org/produc...</td>\n",
       "      <td>2019-11-27</td>\n",
       "      <td>manual_random_upload</td>\n",
       "    </tr>\n",
       "    <tr>\n",
       "      <th>263527</th>\n",
       "      <td>38600880</td>\n",
       "      <td>0</td>\n",
       "      <td>0</td>\n",
       "      <td>0</td>\n",
       "      <td>0</td>\n",
       "      <td>0</td>\n",
       "      <td>0</td>\n",
       "      <td>0</td>\n",
       "      <td>0</td>\n",
       "      <td>0</td>\n",
       "      <td>...</td>\n",
       "      <td>NaN</td>\n",
       "      <td>NaN</td>\n",
       "      <td>NaN</td>\n",
       "      <td>NaN</td>\n",
       "      <td>NaN</td>\n",
       "      <td>J102602.88+212517.9</td>\n",
       "      <td>3.0</td>\n",
       "      <td>https://panoptes-uploads.zooniverse.org/produc...</td>\n",
       "      <td>2019-11-27</td>\n",
       "      <td>manual_random_upload</td>\n",
       "    </tr>\n",
       "  </tbody>\n",
       "</table>\n",
       "<p>263528 rows × 90 columns</p>\n",
       "</div>"
      ],
      "text/plain": [
       "        subject_id  bar_no  bar_strong  bar_weak  bulge-size_dominant  \\\n",
       "0         20925270       7           0         0                    0   \n",
       "1         27363232       9           0         1                    0   \n",
       "2         35622993       1          10        10                    0   \n",
       "3         36239648       3          17         7                    0   \n",
       "4         21663050       3           0         3                    0   \n",
       "...            ...     ...         ...       ...                  ...   \n",
       "263523    38624466       0           0         0                    0   \n",
       "263524    38622959       0           0         0                    0   \n",
       "263525    37898608       0           0         0                    0   \n",
       "263526    38617074       0           0         0                    0   \n",
       "263527    38600880       0           0         0                    0   \n",
       "\n",
       "        bulge-size_large  bulge-size_moderate  bulge-size_none  \\\n",
       "0                      5                    2                0   \n",
       "1                      5                    3                0   \n",
       "2                      3                   13                0   \n",
       "3                      0                   10                2   \n",
       "4                      1                    2                1   \n",
       "...                  ...                  ...              ...   \n",
       "263523                 0                    0                0   \n",
       "263524                 0                    0                0   \n",
       "263525                 0                    0                0   \n",
       "263526                 0                    0                0   \n",
       "263527                 0                    0                0   \n",
       "\n",
       "        bulge-size_small  disk-edge-on_no  ...  merging_both-v1_fraction  \\\n",
       "0                      0                7  ...                  0.290323   \n",
       "1                      2               10  ...                  0.000000   \n",
       "2                      5               21  ...                  0.000000   \n",
       "3                     15               27  ...                  0.000000   \n",
       "4                      2                6  ...                  0.000000   \n",
       "...                  ...              ...  ...                       ...   \n",
       "263523                 0                0  ...                       NaN   \n",
       "263524                 0                0  ...                  0.000000   \n",
       "263525                 0                0  ...                       NaN   \n",
       "263526                 0                0  ...                       NaN   \n",
       "263527                 0                0  ...                       NaN   \n",
       "\n",
       "        merging_neither-v1_fraction  merging_major-disturbance_fraction  \\\n",
       "0                          0.419355                            0.000000   \n",
       "1                          0.000000                            0.055556   \n",
       "2                          0.000000                            0.000000   \n",
       "3                          0.000000                            0.068966   \n",
       "4                          0.263158                            0.052632   \n",
       "...                             ...                                 ...   \n",
       "263523                          NaN                                 NaN   \n",
       "263524                     0.000000                            0.000000   \n",
       "263525                          NaN                                 NaN   \n",
       "263526                          NaN                                 NaN   \n",
       "263527                          NaN                                 NaN   \n",
       "\n",
       "        merging_minor-disturbance_fraction  merging_none_fraction  \\\n",
       "0                                 0.000000               0.000000   \n",
       "1                                 0.138889               0.333333   \n",
       "2                                 0.153846               0.730769   \n",
       "3                                 0.068966               0.862069   \n",
       "4                                 0.026316               0.657895   \n",
       "...                                    ...                    ...   \n",
       "263523                                 NaN                    NaN   \n",
       "263524                            0.000000               0.000000   \n",
       "263525                                 NaN                    NaN   \n",
       "263526                                 NaN                    NaN   \n",
       "263527                                 NaN                    NaN   \n",
       "\n",
       "                    iauname  retirement_limit  \\\n",
       "0       J112735.91-020514.9               NaN   \n",
       "1       J095946.34+040001.3               NaN   \n",
       "2       J012159.00-023544.0              40.0   \n",
       "3       J152621.71+131656.7              40.0   \n",
       "4       J011510.87-000659.8               NaN   \n",
       "...                     ...               ...   \n",
       "263523  J104452.21+082641.8               3.0   \n",
       "263524  J104144.51+244847.0               3.0   \n",
       "263525  J100700.61+140731.1               3.0   \n",
       "263526  J103126.06+110240.4               3.0   \n",
       "263527  J102602.88+212517.9               3.0   \n",
       "\n",
       "                                              subject_url  upload_date  \\\n",
       "0       https://panoptes-uploads.zooniverse.org/produc...   2018-04-19   \n",
       "1       https://panoptes-uploads.zooniverse.org/produc...   2018-11-07   \n",
       "2       https://panoptes-uploads.zooniverse.org/produc...   2019-08-04   \n",
       "3       https://panoptes-uploads.zooniverse.org/produc...   2019-08-23   \n",
       "4       https://panoptes-uploads.zooniverse.org/produc...   2018-05-16   \n",
       "...                                                   ...          ...   \n",
       "263523  https://panoptes-uploads.zooniverse.org/produc...   2019-11-27   \n",
       "263524  https://panoptes-uploads.zooniverse.org/produc...   2019-11-27   \n",
       "263525  https://panoptes-uploads.zooniverse.org/produc...   2019-11-08   \n",
       "263526  https://panoptes-uploads.zooniverse.org/produc...   2019-11-27   \n",
       "263527  https://panoptes-uploads.zooniverse.org/produc...   2019-11-27   \n",
       "\n",
       "                    uploader  \n",
       "0                        NaN  \n",
       "1                        NaN  \n",
       "2            panoptes_oracle  \n",
       "3            panoptes_oracle  \n",
       "4                        NaN  \n",
       "...                      ...  \n",
       "263523  manual_random_upload  \n",
       "263524  manual_random_upload  \n",
       "263525       panoptes_oracle  \n",
       "263526  manual_random_upload  \n",
       "263527  manual_random_upload  \n",
       "\n",
       "[263528 rows x 90 columns]"
      ]
     },
     "execution_count": 7,
     "metadata": {},
     "output_type": "execute_result"
    }
   ],
   "source": [
    "df"
   ]
  },
  {
   "cell_type": "code",
   "execution_count": 8,
   "metadata": {},
   "outputs": [],
   "source": [
    "counts = df.query('retirement_limit==3').groupby('iauname').agg({'subject_id': ['count', 'first']}).reset_index()['subject_id']"
   ]
  },
  {
   "cell_type": "code",
   "execution_count": 9,
   "metadata": {},
   "outputs": [
    {
     "data": {
      "text/plain": [
       "1    174186\n",
       "2      5400\n",
       "3         3\n",
       "Name: count, dtype: int64"
      ]
     },
     "execution_count": 9,
     "metadata": {},
     "output_type": "execute_result"
    }
   ],
   "source": [
    "counts['count'].value_counts()"
   ]
  },
  {
   "cell_type": "code",
   "execution_count": 10,
   "metadata": {},
   "outputs": [],
   "source": [
    "duplicates = counts[counts['count'] > 1]['first']\n",
    "not_duplicates = counts[counts['count'] == 1]['first']"
   ]
  },
  {
   "cell_type": "code",
   "execution_count": 11,
   "metadata": {},
   "outputs": [
    {
     "data": {
      "text/plain": [
       "(5403, 174186)"
      ]
     },
     "execution_count": 11,
     "metadata": {},
     "output_type": "execute_result"
    }
   ],
   "source": [
    "len(duplicates), len(not_duplicates)"
   ]
  },
  {
   "cell_type": "code",
   "execution_count": 12,
   "metadata": {},
   "outputs": [],
   "source": [
    "pd.DataFrame(data={'subject_id': not_duplicates.values}).to_csv('not_duplicates.csv', index=False)\n",
    "pd.DataFrame(data={'subject_id': duplicates.values}).to_csv('duplicates.csv', index=False)"
   ]
  },
  {
   "cell_type": "markdown",
   "metadata": {},
   "source": [
    "Okay, so that's not great. What's going on?\n",
    "\n",
    "## Summary\n",
    "\n",
    "- 4000 repeats from pre-active learning galaxies (15%). 3000 from an accidental re-upload of the first 3000, and 1000 from an unknown mistake.\n",
    "- 7000 repeats from active learning (50%!). I've clearly messed up the selection of galaxies to upload somehow - they should be filtered to only include galaxies not yet labelled.\n",
    "- 5000 repeats from random galaxies, because I accidentally uploaded the same batch on April 12th and April 16th 2019.\n",
    "\n",
    "Total: 19,000. All repeats accounted for.\n",
    "\n",
    "This is way too many repeats to be efficient. How can we fix this for new uploads?\n",
    "\n",
    "### Work needed\n",
    "\n",
    "- Upload routine (shared for random and active) should refuse to upload galaxies which are already labelled. To do this, get the latest classifications before running any uploads.\n",
    "- Add checks that master catalog has no duplicate iaunames\n",
    "- If no duplicate iaunames, debug the active learning loop to see hpw repeat uploads on the same day are possible. Should be a ranked list, and is unit tested!"
   ]
  },
  {
   "cell_type": "markdown",
   "metadata": {},
   "source": [
    "## Investigation"
   ]
  },
  {
   "cell_type": "markdown",
   "metadata": {},
   "source": [
    "How many subjects have each retirement limit?"
   ]
  },
  {
   "cell_type": "code",
   "execution_count": 6,
   "metadata": {},
   "outputs": [
    {
     "data": {
      "text/plain": [
       "53970"
      ]
     },
     "execution_count": 6,
     "metadata": {},
     "output_type": "execute_result"
    }
   ],
   "source": [
    "pd.isnull(df['retirement_limit']).sum()"
   ]
  },
  {
   "cell_type": "code",
   "execution_count": 7,
   "metadata": {},
   "outputs": [
    {
     "data": {
      "text/plain": [
       "3.0     141375\n",
       "40.0     24111\n",
       "10.0       452\n",
       "Name: retirement_limit, dtype: int64"
      ]
     },
     "execution_count": 7,
     "metadata": {},
     "output_type": "execute_result"
    }
   ],
   "source": [
    "df['retirement_limit'].value_counts()"
   ]
  },
  {
   "cell_type": "markdown",
   "metadata": {},
   "source": [
    "(Excluding pre-active learning, which have no explicit limit)"
   ]
  },
  {
   "cell_type": "markdown",
   "metadata": {},
   "source": [
    "### Looking within pre-active-learning galaxies (no retirement limit metadata)\n",
    "\n",
    "Mostly down to two errors. Once, uploading the first 3k galaxies twice (probably a wrong button). Once, 881 previously-uploaded galaxies were re-uploaded as part of a new upload - not sure how."
   ]
  },
  {
   "cell_type": "code",
   "execution_count": 8,
   "metadata": {},
   "outputs": [
    {
     "name": "stdout",
     "output_type": "stream",
     "text": [
      "49886 unique galaxies in 53970 subjects (0.924)\n"
     ]
    }
   ],
   "source": [
    "pre_active =  df[pd.isnull(df['retirement_limit'])]\n",
    "count_unique(pre_active)"
   ]
  },
  {
   "cell_type": "code",
   "execution_count": 9,
   "metadata": {},
   "outputs": [],
   "source": [
    "def count_repeats(df):\n",
    "    return df['iauname'].value_counts().value_counts()"
   ]
  },
  {
   "cell_type": "code",
   "execution_count": 10,
   "metadata": {},
   "outputs": [
    {
     "data": {
      "text/plain": [
       "1    45825\n",
       "2     4038\n",
       "3       23\n",
       "Name: iauname, dtype: int64"
      ]
     },
     "execution_count": 10,
     "metadata": {},
     "output_type": "execute_result"
    }
   ],
   "source": [
    "count_repeats(pre_active)"
   ]
  },
  {
   "cell_type": "code",
   "execution_count": 11,
   "metadata": {},
   "outputs": [],
   "source": [
    "def show_uploads_over_time(df):\n",
    "    df_dup = df[df['iauname'].duplicated(keep=False)]\n",
    "    dup_agg = df_dup.groupby('upload_date').agg('count')\n",
    "    all_agg = df.groupby('upload_date').agg('count')\n",
    "    \n",
    "    fig, axes = plt.subplots(nrows=2, figsize=(20, 14))\n",
    "    \n",
    "    axes[0].scatter(dup_agg.index, dup_agg['subject_id'], label='dup')\n",
    "    axes[0].scatter(all_agg.index, all_agg['subject_id'], label='all', alpha=0.5)\n",
    "    axes[0].legend()\n",
    "    axes[0].set_ylabel('Subjects')\n",
    "    axes[0].set_ylim([0, None])\n",
    "    \n",
    "    axes[1].scatter(dup_agg.index, dup_agg['subject_id'] / all_agg['subject_id'])  # assumes same index\n",
    "    axes[1].set_ylim([0, 1])\n",
    "    axes[1].set_ylabel('Fraction of subjects which are ever uploaded more than once')\n",
    "    "
   ]
  },
  {
   "cell_type": "code",
   "execution_count": 12,
   "metadata": {},
   "outputs": [
    {
     "data": {
      "image/png": "[encoded data removed]",
      "text/plain": [
       "<Figure size 1440x1008 with 2 Axes>"
      ]
     },
     "metadata": {
      "needs_background": "light"
     },
     "output_type": "display_data"
    }
   ],
   "source": [
    "show_uploads_over_time(pre_active)"
   ]
  },
  {
   "cell_type": "code",
   "execution_count": 13,
   "metadata": {},
   "outputs": [],
   "source": [
    "def group_by_duplicate_dates(df, degree=2):\n",
    "    return df.sort_values('upload_date').groupby('iauname').agg({'upload_date': lambda x: json.dumps([y for y in x[:degree]])}).reset_index()"
   ]
  },
  {
   "cell_type": "code",
   "execution_count": 14,
   "metadata": {},
   "outputs": [],
   "source": [
    "grouped_dates = group_by_duplicate_dates(pre_active)"
   ]
  },
  {
   "cell_type": "code",
   "execution_count": 15,
   "metadata": {},
   "outputs": [
    {
     "data": {
      "text/plain": [
       "[\"2018-12-07\"]                  14590\n",
       "[\"2018-05-16\"]                   9955\n",
       "[\"2018-09-28\"]                   5820\n",
       "[\"2018-04-19\"]                   4990\n",
       "[\"2018-11-07\"]                   4987\n",
       "[\"2018-03-22\", \"2018-08-31\"]     2992\n",
       "[\"2019-02-06\"]                   2817\n",
       "[\"2018-03-30\"]                   1995\n",
       "[\"2018-12-07\", \"2019-02-06\"]      881\n",
       "[\"2018-04-09\"]                    671\n",
       "[\"2018-04-09\", \"2018-09-28\"]       66\n",
       "[\"2018-05-16\", \"2018-09-28\"]       45\n",
       "[\"2018-04-09\", \"2018-12-07\"]       29\n",
       "[\"2018-04-09\", \"2018-11-07\"]       13\n",
       "[\"2018-09-28\", \"2018-09-28\"]       11\n",
       "[\"2018-04-19\", \"2018-09-28\"]       10\n",
       "[\"2018-03-22\", \"2018-04-09\"]        8\n",
       "[\"2018-03-30\", \"2018-09-28\"]        3\n",
       "[\"2018-03-30\", \"2018-04-09\"]        2\n",
       "[\"2018-04-09\", \"2019-02-06\"]        1\n",
       "Name: upload_date, dtype: int64"
      ]
     },
     "execution_count": 15,
     "metadata": {},
     "output_type": "execute_result"
    }
   ],
   "source": [
    "grouped_dates['upload_date'].value_counts()"
   ]
  },
  {
   "cell_type": "markdown",
   "metadata": {},
   "source": [
    "On August 31st, 2018, I uploaded exactly the same set of 2992 galaxies as I did at launch (but after Nair). These are the first 3k galaxies. They are incorrectly listed as 'new' in my notes. Probably I typed the wrong command...\n",
    "https://github.com/zooniverse/galaxy-zoo-panoptes/wiki/DECALS-DR5-Subject-Set-History"
   ]
  },
  {
   "cell_type": "code",
   "execution_count": 16,
   "metadata": {},
   "outputs": [
    {
     "data": {
      "text/plain": [
       "2018-12-07    15500\n",
       "2018-05-16    10000\n",
       "2018-09-28     5977\n",
       "2018-04-19     5000\n",
       "2018-11-07     5000\n",
       "2019-02-06     3703\n",
       "2018-03-22     3000\n",
       "2018-08-31     3000\n",
       "2018-03-30     2000\n",
       "2018-04-09      790\n",
       "Name: upload_date, dtype: int64"
      ]
     },
     "execution_count": 16,
     "metadata": {},
     "output_type": "execute_result"
    }
   ],
   "source": [
    "pre_active['upload_date'].value_counts()"
   ]
  },
  {
   "cell_type": "code",
   "execution_count": 17,
   "metadata": {},
   "outputs": [
    {
     "data": {
      "text/plain": [
       "3703"
      ]
     },
     "execution_count": 17,
     "metadata": {},
     "output_type": "execute_result"
    }
   ],
   "source": [
    "(pre_active['upload_date'] == '2019-02-06').sum()"
   ]
  },
  {
   "cell_type": "code",
   "execution_count": 18,
   "metadata": {},
   "outputs": [
    {
     "data": {
      "text/plain": [
       "8145"
      ]
     },
     "execution_count": 18,
     "metadata": {},
     "output_type": "execute_result"
    }
   ],
   "source": [
    "pre_active['iauname'].duplicated(keep=False).sum()"
   ]
  },
  {
   "cell_type": "markdown",
   "metadata": {},
   "source": [
    "On February 6th 2019, as part of a batch of 3703 galaxies (strange number), I accidentally uploaded 881 galaxies that had already been uploaded on six months earlier on 2018-05-16. I'm not sure how this happened."
   ]
  },
  {
   "cell_type": "markdown",
   "metadata": {},
   "source": [
    "### Looking within active learning selected galaxies (retirement = 40)\n",
    "\n",
    "Somehow, active learning is not correctly filtering out galaxies which already have a label, and hence is consistently re-uploading some of the same galaxies"
   ]
  },
  {
   "cell_type": "code",
   "execution_count": 19,
   "metadata": {},
   "outputs": [
    {
     "name": "stdout",
     "output_type": "stream",
     "text": [
      "7926 unique galaxies in 24111 subjects (0.329)\n"
     ]
    }
   ],
   "source": [
    "ret40 = df.query('retirement_limit == 40')\n",
    "count_unique(ret40)\n",
    "# half (!) of active learning galaxies were uploaded once\n",
    "# this is a big problem - how can I be uploading the same galaxies?"
   ]
  },
  {
   "cell_type": "code",
   "execution_count": 20,
   "metadata": {},
   "outputs": [],
   "source": [
    "ret40_dup = ret40[ret40['iauname'].duplicated()]"
   ]
  },
  {
   "cell_type": "code",
   "execution_count": 21,
   "metadata": {},
   "outputs": [
    {
     "data": {
      "image/png": "[encoded data removed]",
      "text/plain": [
       "<Figure size 1440x1008 with 2 Axes>"
      ]
     },
     "metadata": {
      "needs_background": "light"
     },
     "output_type": "display_data"
    }
   ],
   "source": [
    "show_uploads_over_time(ret40)"
   ]
  },
  {
   "cell_type": "code",
   "execution_count": 22,
   "metadata": {},
   "outputs": [],
   "source": [
    "grouped_dates = group_by_duplicate_dates(ret40)"
   ]
  },
  {
   "cell_type": "code",
   "execution_count": 23,
   "metadata": {},
   "outputs": [
    {
     "data": {
      "text/plain": [
       "[\"2019-04-16\"]                  1243\n",
       "[\"2019-08-23\"]                   940\n",
       "[\"2019-08-04\"]                   899\n",
       "[\"2019-06-28\"]                   788\n",
       "[\"2019-10-09\"]                   689\n",
       "[\"2019-06-21\"]                   594\n",
       "[\"2019-06-13\"]                   353\n",
       "[\"2019-06-28\", \"2019-08-23\"]     300\n",
       "[\"2019-04-17\"]                   239\n",
       "[\"2019-06-13\", \"2019-10-09\"]     224\n",
       "[\"2019-06-13\", \"2019-06-28\"]     197\n",
       "[\"2019-06-13\", \"2019-08-04\"]     195\n",
       "[\"2019-06-21\", \"2019-08-04\"]     189\n",
       "[\"2019-06-21\", \"2019-08-23\"]     187\n",
       "[\"2019-06-28\", \"2019-10-09\"]     174\n",
       "[\"2019-08-04\", \"2019-10-09\"]     165\n",
       "[\"2019-04-18\"]                   125\n",
       "[\"2019-05-27\"]                   100\n",
       "[\"2019-05-31\"]                    81\n",
       "[\"2019-06-03\"]                    39\n",
       "[\"2019-06-03\", \"2019-06-28\"]      35\n",
       "[\"2019-06-03\", \"2019-08-23\"]      28\n",
       "[\"2019-06-03\", \"2019-06-21\"]      25\n",
       "[\"2019-05-31\", \"2019-08-04\"]      20\n",
       "[\"2019-05-31\", \"2019-06-13\"]      19\n",
       "[\"2019-04-16\", \"2019-04-17\"]      11\n",
       "[\"2019-05-27\", \"2019-06-13\"]       9\n",
       "[\"2019-05-27\", \"2019-08-04\"]       8\n",
       "[\"2019-05-31\", \"2019-10-09\"]       7\n",
       "[\"2019-05-27\", \"2019-10-09\"]       7\n",
       "[\"2019-04-16\", \"2019-06-28\"]       6\n",
       "[\"2019-04-16\", \"2019-08-04\"]       4\n",
       "[\"2019-04-16\", \"2019-08-23\"]       4\n",
       "[\"2019-04-16\", \"2019-10-09\"]       3\n",
       "[\"2019-04-16\", \"2019-06-21\"]       3\n",
       "[\"2019-04-16\", \"2019-05-27\"]       2\n",
       "[\"2019-04-17\", \"2019-08-04\"]       2\n",
       "[\"2019-04-17\", \"2019-05-27\"]       2\n",
       "[\"2019-04-16\", \"2019-06-13\"]       2\n",
       "[\"2019-04-18\", \"2019-06-13\"]       1\n",
       "[\"2019-04-18\", \"2019-06-21\"]       1\n",
       "[\"2019-04-17\", \"2019-08-23\"]       1\n",
       "[\"2019-04-16\", \"2019-05-31\"]       1\n",
       "[\"2019-04-18\", \"2019-08-23\"]       1\n",
       "[\"2019-04-17\", \"2019-06-21\"]       1\n",
       "[\"2019-04-16\", \"2019-06-03\"]       1\n",
       "Name: upload_date, dtype: int64"
      ]
     },
     "execution_count": 23,
     "metadata": {},
     "output_type": "execute_result"
    }
   ],
   "source": [
    "grouped_dates['upload_date'].value_counts()"
   ]
  },
  {
   "cell_type": "markdown",
   "metadata": {},
   "source": [
    "Active learning is often requesting labels for the same galaxies *on the same day*. \n",
    "\n",
    "For this to happen, either the subject_id list to upload is not unique or the master catalog has duplicate iaunames."
   ]
  },
  {
   "cell_type": "markdown",
   "metadata": {},
   "source": [
    "### Looking within galaxies with retirement = 3\n",
    "\n",
    "Conclusion: I once accidentally uploaded (mostly) the same batch of galaxies twice, causing 4000/8000 duplicates"
   ]
  },
  {
   "cell_type": "code",
   "execution_count": 24,
   "metadata": {},
   "outputs": [
    {
     "name": "stdout",
     "output_type": "stream",
     "text": [
      "135974 unique galaxies in 141375 subjects (0.962)\n"
     ]
    }
   ],
   "source": [
    "ret3 = df.query('retirement_limit == 3')\n",
    "count_unique(ret3)\n",
    "# 87% of random galaxies were uploaded only once as random-selected"
   ]
  },
  {
   "cell_type": "code",
   "execution_count": 25,
   "metadata": {},
   "outputs": [
    {
     "data": {
      "text/plain": [
       "98      1\n",
       "109     1\n",
       "31      1\n",
       "2200    1\n",
       "166     1\n",
       "5       1\n",
       "2       1\n",
       "3       1\n",
       "2210    1\n",
       "145     1\n",
       "432     1\n",
       "Name: subject_id, dtype: int64"
      ]
     },
     "execution_count": 25,
     "metadata": {},
     "output_type": "execute_result"
    }
   ],
   "source": [
    "ret3_dup = ret3[ret3['iauname'].duplicated()]\n",
    "dup_agg = ret3_dup.groupby('upload_date').agg('count')\n",
    "# fig, ax= plt.subplots(figsize=(20, 5))\n",
    "# ax.plot(dup_agg['subject_id'])\n",
    "dup_agg['subject_id'].value_counts()\n",
    "# for galaxies which have an upload date recorded, I accidentally uploaded the two batches of galaxies on April 12th and April 16th which (mostly) overlapped"
   ]
  },
  {
   "cell_type": "code",
   "execution_count": 26,
   "metadata": {},
   "outputs": [],
   "source": [
    "april_12th = ret3[ret3['upload_date'] == '2019-04-12']\n",
    "april_16th = ret3[ret3['upload_date'] == '2019-04-16']"
   ]
  },
  {
   "cell_type": "code",
   "execution_count": 27,
   "metadata": {},
   "outputs": [
    {
     "data": {
      "text/plain": [
       "(5314, 5000)"
      ]
     },
     "execution_count": 27,
     "metadata": {},
     "output_type": "execute_result"
    }
   ],
   "source": [
    "len(april_12th), len(april_16th)"
   ]
  },
  {
   "cell_type": "code",
   "execution_count": 28,
   "metadata": {},
   "outputs": [
    {
     "data": {
      "text/plain": [
       "True     4410\n",
       "False     904\n",
       "Name: iauname, dtype: int64"
      ]
     },
     "execution_count": 28,
     "metadata": {},
     "output_type": "execute_result"
    }
   ],
   "source": [
    "april_12th['iauname'].isin(april_16th['iauname']).value_counts()"
   ]
  },
  {
   "cell_type": "code",
   "execution_count": 29,
   "metadata": {},
   "outputs": [
    {
     "data": {
      "text/plain": [
       "1"
      ]
     },
     "execution_count": 29,
     "metadata": {},
     "output_type": "execute_result"
    }
   ],
   "source": [
    "april_12th['iauname'].value_counts().max()"
   ]
  },
  {
   "cell_type": "code",
   "execution_count": 30,
   "metadata": {},
   "outputs": [
    {
     "data": {
      "text/plain": [
       "1"
      ]
     },
     "execution_count": 30,
     "metadata": {},
     "output_type": "execute_result"
    }
   ],
   "source": [
    "april_16th['iauname'].value_counts().max()"
   ]
  },
  {
   "cell_type": "code",
   "execution_count": 31,
   "metadata": {},
   "outputs": [
    {
     "data": {
      "text/plain": [
       "0"
      ]
     },
     "execution_count": 31,
     "metadata": {},
     "output_type": "execute_result"
    }
   ],
   "source": [
    "ret3_no_upload = ret3[pd.isnull(ret3['upload_date'])]\n",
    "len(ret3_no_upload)  # every galaxy with retirement=3 has an upload date"
   ]
  },
  {
   "cell_type": "markdown",
   "metadata": {},
   "source": [
    "### Looking at overlap between random (ret3) and active (ret40) subjects\n",
    "\n",
    "444 galaxies have been uploaded as both random and active-learning selected, which is not ideal but a lot less of a problem than the active learning repeats."
   ]
  },
  {
   "cell_type": "code",
   "execution_count": 32,
   "metadata": {},
   "outputs": [],
   "source": [
    "ret3_galaxies = set(ret3['iauname'].unique())\n",
    "ret40_galaxies = set(ret40['iauname'].unique())"
   ]
  },
  {
   "cell_type": "code",
   "execution_count": 33,
   "metadata": {},
   "outputs": [
    {
     "data": {
      "text/plain": [
       "880"
      ]
     },
     "execution_count": 33,
     "metadata": {},
     "output_type": "execute_result"
    }
   ],
   "source": [
    "len(ret3_galaxies.intersection(ret40_galaxies))"
   ]
  },
  {
   "cell_type": "code",
   "execution_count": 34,
   "metadata": {},
   "outputs": [
    {
     "data": {
      "text/plain": [
       "(141375, 24111)"
      ]
     },
     "execution_count": 34,
     "metadata": {},
     "output_type": "execute_result"
    }
   ],
   "source": [
    "len(ret3), len(ret40)"
   ]
  },
  {
   "cell_type": "code",
   "execution_count": 35,
   "metadata": {},
   "outputs": [
    {
     "data": {
      "text/plain": [
       "0         2018-04-19\n",
       "1         2018-11-07\n",
       "2         2019-08-04\n",
       "3         2019-08-23\n",
       "4         2018-05-16\n",
       "             ...    \n",
       "219903    2019-11-27\n",
       "219904    2019-11-27\n",
       "219905    2019-11-08\n",
       "219906    2019-11-27\n",
       "219907    2019-11-27\n",
       "Name: upload_date, Length: 219908, dtype: object"
      ]
     },
     "execution_count": 35,
     "metadata": {},
     "output_type": "execute_result"
    }
   ],
   "source": [
    "df['upload_date']"
   ]
  },
  {
   "cell_type": "code",
   "execution_count": 36,
   "metadata": {},
   "outputs": [],
   "source": [
    "df['upload_date'] = pd.to_datetime(df['upload_date'])"
   ]
  },
  {
   "cell_type": "code",
   "execution_count": 37,
   "metadata": {},
   "outputs": [
    {
     "data": {
      "text/plain": [
       "Timestamp('2020-03-31 00:00:00')"
      ]
     },
     "execution_count": 37,
     "metadata": {},
     "output_type": "execute_result"
    }
   ],
   "source": [
    "df['upload_date'].max()"
   ]
  },
  {
   "cell_type": "code",
   "execution_count": 38,
   "metadata": {},
   "outputs": [],
   "source": [
    "dedup = df.drop_duplicates(subset=['iauname'], keep='first')"
   ]
  },
  {
   "cell_type": "code",
   "execution_count": 39,
   "metadata": {},
   "outputs": [
    {
     "data": {
      "text/plain": [
       "192803"
      ]
     },
     "execution_count": 39,
     "metadata": {},
     "output_type": "execute_result"
    }
   ],
   "source": [
    "len(dedup)"
   ]
  },
  {
   "cell_type": "code",
   "execution_count": 41,
   "metadata": {},
   "outputs": [
    {
     "data": {
      "text/plain": [
       "array(['subject_id', 'bar_no', 'bar_strong', 'bar_weak',\n",
       "       'bulge-size_dominant', 'bulge-size_large', 'bulge-size_moderate',\n",
       "       'bulge-size_none', 'bulge-size_small', 'disk-edge-on_no',\n",
       "       'disk-edge-on_yes', 'edge-on-bulge_boxy', 'edge-on-bulge_none',\n",
       "       'edge-on-bulge_rounded', 'has-spiral-arms_no',\n",
       "       'has-spiral-arms_yes', 'how-rounded_cigar-shaped',\n",
       "       'how-rounded_in-between', 'how-rounded_round', 'merging_both-v1',\n",
       "       'merging_major-disturbance', 'merging_merger',\n",
       "       'merging_minor-disturbance', 'merging_neither-v1', 'merging_none',\n",
       "       'merging_tidal-debris-v1', 'smooth-or-featured_artifact',\n",
       "       'smooth-or-featured_featured-or-disk', 'smooth-or-featured_smooth',\n",
       "       'spiral-arm-count_1', 'spiral-arm-count_2', 'spiral-arm-count_3',\n",
       "       'spiral-arm-count_4', 'spiral-arm-count_cant-tell',\n",
       "       'spiral-arm-count_more-than-4', 'spiral-winding_loose',\n",
       "       'spiral-winding_medium', 'spiral-winding_tight',\n",
       "       'smooth-or-featured_total-votes', 'how-rounded_total-votes',\n",
       "       'disk-edge-on_total-votes', 'edge-on-bulge_total-votes',\n",
       "       'bar_total-votes', 'has-spiral-arms_total-votes',\n",
       "       'spiral-winding_total-votes', 'spiral-arm-count_total-votes',\n",
       "       'bulge-size_total-votes', 'merging_total-votes',\n",
       "       'smooth-or-featured_smooth_fraction',\n",
       "       'smooth-or-featured_featured-or-disk_fraction',\n",
       "       'smooth-or-featured_artifact_fraction',\n",
       "       'how-rounded_round_fraction', 'how-rounded_in-between_fraction',\n",
       "       'how-rounded_cigar-shaped_fraction', 'disk-edge-on_yes_fraction',\n",
       "       'disk-edge-on_no_fraction', 'edge-on-bulge_rounded_fraction',\n",
       "       'edge-on-bulge_boxy_fraction', 'edge-on-bulge_none_fraction',\n",
       "       'bar_strong_fraction', 'bar_weak_fraction', 'bar_no_fraction',\n",
       "       'has-spiral-arms_yes_fraction', 'has-spiral-arms_no_fraction',\n",
       "       'spiral-winding_tight_fraction', 'spiral-winding_medium_fraction',\n",
       "       'spiral-winding_loose_fraction', 'spiral-arm-count_1_fraction',\n",
       "       'spiral-arm-count_2_fraction', 'spiral-arm-count_3_fraction',\n",
       "       'spiral-arm-count_4_fraction',\n",
       "       'spiral-arm-count_more-than-4_fraction',\n",
       "       'spiral-arm-count_cant-tell_fraction', 'bulge-size_none_fraction',\n",
       "       'bulge-size_small_fraction', 'bulge-size_moderate_fraction',\n",
       "       'bulge-size_large_fraction', 'bulge-size_dominant_fraction',\n",
       "       'merging_merger_fraction', 'merging_tidal-debris-v1_fraction',\n",
       "       'merging_both-v1_fraction', 'merging_neither-v1_fraction',\n",
       "       'merging_major-disturbance_fraction',\n",
       "       'merging_minor-disturbance_fraction', 'merging_none_fraction',\n",
       "       'iauname', 'retirement_limit', 'subject_url', 'upload_date',\n",
       "       'uploader'], dtype=object)"
      ]
     },
     "execution_count": 41,
     "metadata": {},
     "output_type": "execute_result"
    }
   ],
   "source": [
    "dedup.columns.values"
   ]
  },
  {
   "cell_type": "code",
   "execution_count": 40,
   "metadata": {},
   "outputs": [
    {
     "ename": "AssertionError",
     "evalue": "",
     "output_type": "error",
     "traceback": [
      "\u001b[0;31m---------------------------------------------------------------------------\u001b[0m",
      "\u001b[0;31mAssertionError\u001b[0m                            Traceback (most recent call last)",
      "\u001b[0;32m<ipython-input-40-a871fdc9ebee>\u001b[0m in \u001b[0;36m<module>\u001b[0;34m\u001b[0m\n\u001b[0;32m----> 1\u001b[0;31m \u001b[0;32massert\u001b[0m \u001b[0;32mFalse\u001b[0m\u001b[0;34m\u001b[0m\u001b[0;34m\u001b[0m\u001b[0m\n\u001b[0m",
      "\u001b[0;31mAssertionError\u001b[0m: "
     ]
    }
   ],
   "source": [
    "assert False"
   ]
  },
  {
   "cell_type": "code",
   "execution_count": 42,
   "metadata": {},
   "outputs": [],
   "source": [
    "dedup.to_csv('/home/walml/repos/zoobot/data/classifications_2020_04_09_dedup.csv', index=False)"
   ]
  },
  {
   "cell_type": "code",
   "execution_count": null,
   "metadata": {},
   "outputs": [],
   "source": []
  },
  {
   "cell_type": "code",
   "execution_count": null,
   "metadata": {},
   "outputs": [],
   "source": []
  },
  {
   "cell_type": "code",
   "execution_count": null,
   "metadata": {},
   "outputs": [],
   "source": []
  },
  {
   "cell_type": "code",
   "execution_count": null,
   "metadata": {},
   "outputs": [],
   "source": []
  },
  {
   "cell_type": "code",
   "execution_count": null,
   "metadata": {},
   "outputs": [],
   "source": []
  },
  {
   "cell_type": "code",
   "execution_count": null,
   "metadata": {},
   "outputs": [],
   "source": []
  },
  {
   "cell_type": "code",
   "execution_count": null,
   "metadata": {},
   "outputs": [],
   "source": []
  },
  {
   "cell_type": "code",
   "execution_count": null,
   "metadata": {},
   "outputs": [],
   "source": []
  },
  {
   "cell_type": "code",
   "execution_count": null,
   "metadata": {},
   "outputs": [],
   "source": []
  }
 ],
 "metadata": {
  "kernelspec": {
   "display_name": "Python 3",
   "language": "python",
   "name": "python3"
  },
  "language_info": {
   "codemirror_mode": {
    "name": "ipython",
    "version": 3
   },
   "file_extension": ".py",
   "mimetype": "text/x-python",
   "name": "python",
   "nbconvert_exporter": "python",
   "pygments_lexer": "ipython3",
   "version": "3.7.6"
  }
 },
 "nbformat": 4,
 "nbformat_minor": 4
}
