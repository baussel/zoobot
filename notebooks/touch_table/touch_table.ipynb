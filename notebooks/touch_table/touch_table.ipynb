{
 "cells": [
  {
   "cell_type": "code",
   "execution_count": 1,
   "metadata": {},
   "outputs": [],
   "source": [
    "%load_ext autoreload\n",
    "%autoreload 2\n",
    "%matplotlib inline"
   ]
  },
  {
   "cell_type": "code",
   "execution_count": 2,
   "metadata": {},
   "outputs": [],
   "source": [
    "import os\n",
    "import json\n",
    "\n",
    "import numpy as np\n",
    "import pandas as pd\n",
    "import seaborn as sns\n",
    "sns.set_context('notebook')\n",
    "import matplotlib.pyplot as plt\n",
    "import matplotlib.gridspec as gridspec\n",
    "from PIL import Image"
   ]
  },
  {
   "cell_type": "markdown",
   "metadata": {},
   "source": [
    "For the subjects that have received enough classifications to retire\n",
    "- what fraction of subjects pass a threshold to be confident in the consensus result? \n",
    "- Could you provide your ‘expert classification’ for a subset and compare your expert classification with the consensus result? \n",
    "    - How well does the consensus result match up with your expert classification? Any stats/info that you think can be helpful for me to show how well (or not well) our museum guests do would be helpful.\n",
    "- What is the current retirement limit? Do you think that should be increased/decreased/stay the same based on the results so far? A"
   ]
  },
  {
   "cell_type": "code",
   "execution_count": 3,
   "metadata": {},
   "outputs": [],
   "source": [
    "df = pd.read_csv('touch_table_subject_reductions_2019_10_15.csv')"
   ]
  },
  {
   "cell_type": "code",
   "execution_count": 4,
   "metadata": {},
   "outputs": [
    {
     "data": {
      "text/html": [
       "<div>\n",
       "<style scoped>\n",
       "    .dataframe tbody tr th:only-of-type {\n",
       "        vertical-align: middle;\n",
       "    }\n",
       "\n",
       "    .dataframe tbody tr th {\n",
       "        vertical-align: top;\n",
       "    }\n",
       "\n",
       "    .dataframe thead th {\n",
       "        text-align: right;\n",
       "    }\n",
       "</style>\n",
       "<table border=\"1\" class=\"dataframe\">\n",
       "  <thead>\n",
       "    <tr style=\"text-align: right;\">\n",
       "      <th></th>\n",
       "      <th>id</th>\n",
       "      <th>reducer_key</th>\n",
       "      <th>workflow_id</th>\n",
       "      <th>subject_id</th>\n",
       "      <th>created_at</th>\n",
       "      <th>updated_at</th>\n",
       "      <th>subgroup</th>\n",
       "      <th>lock_version</th>\n",
       "      <th>reducible_id</th>\n",
       "      <th>reducible_type</th>\n",
       "      <th>data.0</th>\n",
       "      <th>data.1</th>\n",
       "      <th>data.2</th>\n",
       "    </tr>\n",
       "  </thead>\n",
       "  <tbody>\n",
       "    <tr>\n",
       "      <th>0</th>\n",
       "      <td>31463358</td>\n",
       "      <td>T0_Stats</td>\n",
       "      <td>11308</td>\n",
       "      <td>30088075</td>\n",
       "      <td>2019-07-09 19:18:19 UTC</td>\n",
       "      <td>2019-10-07 15:16:01 UTC</td>\n",
       "      <td>_default</td>\n",
       "      <td>5</td>\n",
       "      <td>11308</td>\n",
       "      <td>Workflow</td>\n",
       "      <td>6.0</td>\n",
       "      <td>NaN</td>\n",
       "      <td>1.0</td>\n",
       "    </tr>\n",
       "    <tr>\n",
       "      <th>1</th>\n",
       "      <td>31463992</td>\n",
       "      <td>T0_Stats</td>\n",
       "      <td>11308</td>\n",
       "      <td>30087878</td>\n",
       "      <td>2019-07-09 19:24:31 UTC</td>\n",
       "      <td>2019-09-29 18:19:49 UTC</td>\n",
       "      <td>_default</td>\n",
       "      <td>10</td>\n",
       "      <td>11308</td>\n",
       "      <td>Workflow</td>\n",
       "      <td>6.0</td>\n",
       "      <td>4.0</td>\n",
       "      <td>1.0</td>\n",
       "    </tr>\n",
       "    <tr>\n",
       "      <th>2</th>\n",
       "      <td>31468444</td>\n",
       "      <td>T0_Stats</td>\n",
       "      <td>11308</td>\n",
       "      <td>30085221</td>\n",
       "      <td>2019-07-09 20:05:17 UTC</td>\n",
       "      <td>2019-10-15 20:03:51 UTC</td>\n",
       "      <td>_default</td>\n",
       "      <td>10</td>\n",
       "      <td>11308</td>\n",
       "      <td>Workflow</td>\n",
       "      <td>6.0</td>\n",
       "      <td>3.0</td>\n",
       "      <td>2.0</td>\n",
       "    </tr>\n",
       "    <tr>\n",
       "      <th>3</th>\n",
       "      <td>31468451</td>\n",
       "      <td>T0_Stats</td>\n",
       "      <td>11308</td>\n",
       "      <td>34084204</td>\n",
       "      <td>2019-07-09 20:05:23 UTC</td>\n",
       "      <td>2019-07-29 17:34:31 UTC</td>\n",
       "      <td>_default</td>\n",
       "      <td>7</td>\n",
       "      <td>11308</td>\n",
       "      <td>Workflow</td>\n",
       "      <td>NaN</td>\n",
       "      <td>5.0</td>\n",
       "      <td>3.0</td>\n",
       "    </tr>\n",
       "    <tr>\n",
       "      <th>4</th>\n",
       "      <td>31470164</td>\n",
       "      <td>T0_Stats</td>\n",
       "      <td>11308</td>\n",
       "      <td>30089260</td>\n",
       "      <td>2019-07-09 20:27:03 UTC</td>\n",
       "      <td>2019-09-21 20:06:28 UTC</td>\n",
       "      <td>_default</td>\n",
       "      <td>4</td>\n",
       "      <td>11308</td>\n",
       "      <td>Workflow</td>\n",
       "      <td>NaN</td>\n",
       "      <td>6.0</td>\n",
       "      <td>1.0</td>\n",
       "    </tr>\n",
       "  </tbody>\n",
       "</table>\n",
       "</div>"
      ],
      "text/plain": [
       "         id reducer_key  workflow_id  subject_id               created_at  \\\n",
       "0  31463358    T0_Stats        11308    30088075  2019-07-09 19:18:19 UTC   \n",
       "1  31463992    T0_Stats        11308    30087878  2019-07-09 19:24:31 UTC   \n",
       "2  31468444    T0_Stats        11308    30085221  2019-07-09 20:05:17 UTC   \n",
       "3  31468451    T0_Stats        11308    34084204  2019-07-09 20:05:23 UTC   \n",
       "4  31470164    T0_Stats        11308    30089260  2019-07-09 20:27:03 UTC   \n",
       "\n",
       "                updated_at  subgroup  lock_version  reducible_id  \\\n",
       "0  2019-10-07 15:16:01 UTC  _default             5         11308   \n",
       "1  2019-09-29 18:19:49 UTC  _default            10         11308   \n",
       "2  2019-10-15 20:03:51 UTC  _default            10         11308   \n",
       "3  2019-07-29 17:34:31 UTC  _default             7         11308   \n",
       "4  2019-09-21 20:06:28 UTC  _default             4         11308   \n",
       "\n",
       "  reducible_type  data.0  data.1  data.2  \n",
       "0       Workflow     6.0     NaN     1.0  \n",
       "1       Workflow     6.0     4.0     1.0  \n",
       "2       Workflow     6.0     3.0     2.0  \n",
       "3       Workflow     NaN     5.0     3.0  \n",
       "4       Workflow     NaN     6.0     1.0  "
      ]
     },
     "execution_count": 4,
     "metadata": {},
     "output_type": "execute_result"
    }
   ],
   "source": [
    "df.head()"
   ]
  },
  {
   "cell_type": "code",
   "execution_count": 5,
   "metadata": {},
   "outputs": [],
   "source": [
    "df = df.rename(columns={'id': 'extract_id_do_not_use', 'data.0': 'smooth', 'data.1': 'featured', 'data.2': 'artifact'})"
   ]
  },
  {
   "cell_type": "code",
   "execution_count": 6,
   "metadata": {},
   "outputs": [],
   "source": [
    "df = df.fillna(0)"
   ]
  },
  {
   "cell_type": "code",
   "execution_count": 7,
   "metadata": {},
   "outputs": [],
   "source": [
    "df['subject_id'] = df['subject_id'].astype(str)"
   ]
  },
  {
   "cell_type": "code",
   "execution_count": 8,
   "metadata": {},
   "outputs": [],
   "source": [
    "df['total'] = df['smooth'] + df['featured'] + df['artifact']\n",
    "for col in ['smooth', 'featured', 'artifact']:\n",
    "    df[col + '_fraction'] = df[col] / df['total']"
   ]
  },
  {
   "cell_type": "code",
   "execution_count": 9,
   "metadata": {},
   "outputs": [
    {
     "data": {
      "text/html": [
       "<div>\n",
       "<style scoped>\n",
       "    .dataframe tbody tr th:only-of-type {\n",
       "        vertical-align: middle;\n",
       "    }\n",
       "\n",
       "    .dataframe tbody tr th {\n",
       "        vertical-align: top;\n",
       "    }\n",
       "\n",
       "    .dataframe thead th {\n",
       "        text-align: right;\n",
       "    }\n",
       "</style>\n",
       "<table border=\"1\" class=\"dataframe\">\n",
       "  <thead>\n",
       "    <tr style=\"text-align: right;\">\n",
       "      <th></th>\n",
       "      <th>extract_id_do_not_use</th>\n",
       "      <th>reducer_key</th>\n",
       "      <th>workflow_id</th>\n",
       "      <th>subject_id</th>\n",
       "      <th>created_at</th>\n",
       "      <th>updated_at</th>\n",
       "      <th>subgroup</th>\n",
       "      <th>lock_version</th>\n",
       "      <th>reducible_id</th>\n",
       "      <th>reducible_type</th>\n",
       "      <th>smooth</th>\n",
       "      <th>featured</th>\n",
       "      <th>artifact</th>\n",
       "      <th>total</th>\n",
       "      <th>smooth_fraction</th>\n",
       "      <th>featured_fraction</th>\n",
       "      <th>artifact_fraction</th>\n",
       "    </tr>\n",
       "  </thead>\n",
       "  <tbody>\n",
       "    <tr>\n",
       "      <th>0</th>\n",
       "      <td>31463358</td>\n",
       "      <td>T0_Stats</td>\n",
       "      <td>11308</td>\n",
       "      <td>30088075</td>\n",
       "      <td>2019-07-09 19:18:19 UTC</td>\n",
       "      <td>2019-10-07 15:16:01 UTC</td>\n",
       "      <td>_default</td>\n",
       "      <td>5</td>\n",
       "      <td>11308</td>\n",
       "      <td>Workflow</td>\n",
       "      <td>6.0</td>\n",
       "      <td>0.0</td>\n",
       "      <td>1.0</td>\n",
       "      <td>7.0</td>\n",
       "      <td>0.857143</td>\n",
       "      <td>0.000000</td>\n",
       "      <td>0.142857</td>\n",
       "    </tr>\n",
       "    <tr>\n",
       "      <th>1</th>\n",
       "      <td>31463992</td>\n",
       "      <td>T0_Stats</td>\n",
       "      <td>11308</td>\n",
       "      <td>30087878</td>\n",
       "      <td>2019-07-09 19:24:31 UTC</td>\n",
       "      <td>2019-09-29 18:19:49 UTC</td>\n",
       "      <td>_default</td>\n",
       "      <td>10</td>\n",
       "      <td>11308</td>\n",
       "      <td>Workflow</td>\n",
       "      <td>6.0</td>\n",
       "      <td>4.0</td>\n",
       "      <td>1.0</td>\n",
       "      <td>11.0</td>\n",
       "      <td>0.545455</td>\n",
       "      <td>0.363636</td>\n",
       "      <td>0.090909</td>\n",
       "    </tr>\n",
       "    <tr>\n",
       "      <th>2</th>\n",
       "      <td>31468444</td>\n",
       "      <td>T0_Stats</td>\n",
       "      <td>11308</td>\n",
       "      <td>30085221</td>\n",
       "      <td>2019-07-09 20:05:17 UTC</td>\n",
       "      <td>2019-10-15 20:03:51 UTC</td>\n",
       "      <td>_default</td>\n",
       "      <td>10</td>\n",
       "      <td>11308</td>\n",
       "      <td>Workflow</td>\n",
       "      <td>6.0</td>\n",
       "      <td>3.0</td>\n",
       "      <td>2.0</td>\n",
       "      <td>11.0</td>\n",
       "      <td>0.545455</td>\n",
       "      <td>0.272727</td>\n",
       "      <td>0.181818</td>\n",
       "    </tr>\n",
       "    <tr>\n",
       "      <th>3</th>\n",
       "      <td>31468451</td>\n",
       "      <td>T0_Stats</td>\n",
       "      <td>11308</td>\n",
       "      <td>34084204</td>\n",
       "      <td>2019-07-09 20:05:23 UTC</td>\n",
       "      <td>2019-07-29 17:34:31 UTC</td>\n",
       "      <td>_default</td>\n",
       "      <td>7</td>\n",
       "      <td>11308</td>\n",
       "      <td>Workflow</td>\n",
       "      <td>0.0</td>\n",
       "      <td>5.0</td>\n",
       "      <td>3.0</td>\n",
       "      <td>8.0</td>\n",
       "      <td>0.000000</td>\n",
       "      <td>0.625000</td>\n",
       "      <td>0.375000</td>\n",
       "    </tr>\n",
       "    <tr>\n",
       "      <th>4</th>\n",
       "      <td>31470164</td>\n",
       "      <td>T0_Stats</td>\n",
       "      <td>11308</td>\n",
       "      <td>30089260</td>\n",
       "      <td>2019-07-09 20:27:03 UTC</td>\n",
       "      <td>2019-09-21 20:06:28 UTC</td>\n",
       "      <td>_default</td>\n",
       "      <td>4</td>\n",
       "      <td>11308</td>\n",
       "      <td>Workflow</td>\n",
       "      <td>0.0</td>\n",
       "      <td>6.0</td>\n",
       "      <td>1.0</td>\n",
       "      <td>7.0</td>\n",
       "      <td>0.000000</td>\n",
       "      <td>0.857143</td>\n",
       "      <td>0.142857</td>\n",
       "    </tr>\n",
       "  </tbody>\n",
       "</table>\n",
       "</div>"
      ],
      "text/plain": [
       "   extract_id_do_not_use reducer_key  workflow_id subject_id  \\\n",
       "0               31463358    T0_Stats        11308   30088075   \n",
       "1               31463992    T0_Stats        11308   30087878   \n",
       "2               31468444    T0_Stats        11308   30085221   \n",
       "3               31468451    T0_Stats        11308   34084204   \n",
       "4               31470164    T0_Stats        11308   30089260   \n",
       "\n",
       "                created_at               updated_at  subgroup  lock_version  \\\n",
       "0  2019-07-09 19:18:19 UTC  2019-10-07 15:16:01 UTC  _default             5   \n",
       "1  2019-07-09 19:24:31 UTC  2019-09-29 18:19:49 UTC  _default            10   \n",
       "2  2019-07-09 20:05:17 UTC  2019-10-15 20:03:51 UTC  _default            10   \n",
       "3  2019-07-09 20:05:23 UTC  2019-07-29 17:34:31 UTC  _default             7   \n",
       "4  2019-07-09 20:27:03 UTC  2019-09-21 20:06:28 UTC  _default             4   \n",
       "\n",
       "   reducible_id reducible_type  smooth  featured  artifact  total  \\\n",
       "0         11308       Workflow     6.0       0.0       1.0    7.0   \n",
       "1         11308       Workflow     6.0       4.0       1.0   11.0   \n",
       "2         11308       Workflow     6.0       3.0       2.0   11.0   \n",
       "3         11308       Workflow     0.0       5.0       3.0    8.0   \n",
       "4         11308       Workflow     0.0       6.0       1.0    7.0   \n",
       "\n",
       "   smooth_fraction  featured_fraction  artifact_fraction  \n",
       "0         0.857143           0.000000           0.142857  \n",
       "1         0.545455           0.363636           0.090909  \n",
       "2         0.545455           0.272727           0.181818  \n",
       "3         0.000000           0.625000           0.375000  \n",
       "4         0.000000           0.857143           0.142857  "
      ]
     },
     "execution_count": 9,
     "metadata": {},
     "output_type": "execute_result"
    }
   ],
   "source": [
    "df.head()"
   ]
  },
  {
   "cell_type": "code",
   "execution_count": 10,
   "metadata": {},
   "outputs": [
    {
     "data": {
      "text/plain": [
       "Text(0,0.5,'Galaxies')"
      ]
     },
     "execution_count": 10,
     "metadata": {},
     "output_type": "execute_result"
    },
    {
     "data": {
      "image/png": "[encoded data removed]",
      "text/plain": [
       "<Figure size 432x288 with 1 Axes>"
      ]
     },
     "metadata": {
      "needs_background": "light"
     },
     "output_type": "display_data"
    }
   ],
   "source": [
    "df.query('total < 30')['total'].hist(bins=30)\n",
    "plt.xlabel('Total Votes')\n",
    "plt.ylabel('Galaxies')"
   ]
  },
  {
   "cell_type": "code",
   "execution_count": null,
   "metadata": {},
   "outputs": [],
   "source": []
  },
  {
   "cell_type": "code",
   "execution_count": 11,
   "metadata": {},
   "outputs": [
    {
     "data": {
      "text/plain": [
       "2053"
      ]
     },
     "execution_count": 11,
     "metadata": {},
     "output_type": "execute_result"
    }
   ],
   "source": [
    "df10 = df.query('total >= 10')\n",
    "len(df10)"
   ]
  },
  {
   "cell_type": "code",
   "execution_count": 12,
   "metadata": {},
   "outputs": [
    {
     "data": {
      "text/plain": [
       "Text(0,0.5,'Galaxies')"
      ]
     },
     "execution_count": 12,
     "metadata": {},
     "output_type": "execute_result"
    },
    {
     "data": {
      "image/png": "[encoded data removed]",
      "text/plain": [
       "<Figure size 432x288 with 1 Axes>"
      ]
     },
     "metadata": {
      "needs_background": "light"
     },
     "output_type": "display_data"
    }
   ],
   "source": [
    "alpha = 0.2\n",
    "plt.hist(df10['featured_fraction'], bins=15, alpha=alpha, label='featured')\n",
    "plt.hist(df10['smooth_fraction'], bins=15, alpha=alpha, label='smooth')\n",
    "# plt.hist(df['artifact_fraction'], bins=10, alpha=alpha, label='artifact')\n",
    "plt.legend()\n",
    "plt.xlabel('Vote Fraction')\n",
    "plt.ylabel('Galaxies')"
   ]
  },
  {
   "cell_type": "code",
   "execution_count": 13,
   "metadata": {},
   "outputs": [
    {
     "data": {
      "text/plain": [
       "(array([3998., 2357., 1817.,  701.,  551.,  382.,   97.,   32.,   52.,\n",
       "          13.]),\n",
       " array([0. , 0.1, 0.2, 0.3, 0.4, 0.5, 0.6, 0.7, 0.8, 0.9, 1. ]),\n",
       " <a list of 10 Patch objects>)"
      ]
     },
     "execution_count": 13,
     "metadata": {},
     "output_type": "execute_result"
    },
    {
     "data": {
      "image/png": "[encoded data removed]",
      "text/plain": [
       "<Figure size 432x288 with 1 Axes>"
      ]
     },
     "metadata": {
      "needs_background": "light"
     },
     "output_type": "display_data"
    }
   ],
   "source": [
    "plt.hist(df['artifact_fraction'], bins=10, alpha=alpha, label='artifact')"
   ]
  },
  {
   "cell_type": "code",
   "execution_count": 14,
   "metadata": {},
   "outputs": [
    {
     "ename": "EmptyDataError",
     "evalue": "No columns to parse from file",
     "output_type": "error",
     "traceback": [
      "\u001b[0;31m---------------------------------------------------------------------------\u001b[0m",
      "\u001b[0;31mEmptyDataError\u001b[0m                            Traceback (most recent call last)",
      "\u001b[0;32m<ipython-input-14-749004deb0c3>\u001b[0m in \u001b[0;36m<module>\u001b[0;34m\u001b[0m\n\u001b[0;32m----> 1\u001b[0;31m \u001b[0mcdf\u001b[0m \u001b[0;34m=\u001b[0m \u001b[0mpd\u001b[0m\u001b[0;34m.\u001b[0m\u001b[0mread_csv\u001b[0m\u001b[0;34m(\u001b[0m\u001b[0;34m'touch_table_classifications_2019-10-15.csv'\u001b[0m\u001b[0;34m)\u001b[0m\u001b[0;34m\u001b[0m\u001b[0;34m\u001b[0m\u001b[0m\n\u001b[0m",
      "\u001b[0;32m/data/miniconda3/envs/zoobot/lib/python3.6/site-packages/pandas/io/parsers.py\u001b[0m in \u001b[0;36mparser_f\u001b[0;34m(filepath_or_buffer, sep, delimiter, header, names, index_col, usecols, squeeze, prefix, mangle_dupe_cols, dtype, engine, converters, true_values, false_values, skipinitialspace, skiprows, skipfooter, nrows, na_values, keep_default_na, na_filter, verbose, skip_blank_lines, parse_dates, infer_datetime_format, keep_date_col, date_parser, dayfirst, cache_dates, iterator, chunksize, compression, thousands, decimal, lineterminator, quotechar, quoting, doublequote, escapechar, comment, encoding, dialect, error_bad_lines, warn_bad_lines, delim_whitespace, low_memory, memory_map, float_precision)\u001b[0m\n\u001b[1;32m    683\u001b[0m         )\n\u001b[1;32m    684\u001b[0m \u001b[0;34m\u001b[0m\u001b[0m\n\u001b[0;32m--> 685\u001b[0;31m         \u001b[0;32mreturn\u001b[0m \u001b[0m_read\u001b[0m\u001b[0;34m(\u001b[0m\u001b[0mfilepath_or_buffer\u001b[0m\u001b[0;34m,\u001b[0m \u001b[0mkwds\u001b[0m\u001b[0;34m)\u001b[0m\u001b[0;34m\u001b[0m\u001b[0;34m\u001b[0m\u001b[0m\n\u001b[0m\u001b[1;32m    686\u001b[0m \u001b[0;34m\u001b[0m\u001b[0m\n\u001b[1;32m    687\u001b[0m     \u001b[0mparser_f\u001b[0m\u001b[0;34m.\u001b[0m\u001b[0m__name__\u001b[0m \u001b[0;34m=\u001b[0m \u001b[0mname\u001b[0m\u001b[0;34m\u001b[0m\u001b[0;34m\u001b[0m\u001b[0m\n",
      "\u001b[0;32m/data/miniconda3/envs/zoobot/lib/python3.6/site-packages/pandas/io/parsers.py\u001b[0m in \u001b[0;36m_read\u001b[0;34m(filepath_or_buffer, kwds)\u001b[0m\n\u001b[1;32m    455\u001b[0m \u001b[0;34m\u001b[0m\u001b[0m\n\u001b[1;32m    456\u001b[0m     \u001b[0;31m# Create the parser.\u001b[0m\u001b[0;34m\u001b[0m\u001b[0;34m\u001b[0m\u001b[0;34m\u001b[0m\u001b[0m\n\u001b[0;32m--> 457\u001b[0;31m     \u001b[0mparser\u001b[0m \u001b[0;34m=\u001b[0m \u001b[0mTextFileReader\u001b[0m\u001b[0;34m(\u001b[0m\u001b[0mfp_or_buf\u001b[0m\u001b[0;34m,\u001b[0m \u001b[0;34m**\u001b[0m\u001b[0mkwds\u001b[0m\u001b[0;34m)\u001b[0m\u001b[0;34m\u001b[0m\u001b[0;34m\u001b[0m\u001b[0m\n\u001b[0m\u001b[1;32m    458\u001b[0m \u001b[0;34m\u001b[0m\u001b[0m\n\u001b[1;32m    459\u001b[0m     \u001b[0;32mif\u001b[0m \u001b[0mchunksize\u001b[0m \u001b[0;32mor\u001b[0m \u001b[0miterator\u001b[0m\u001b[0;34m:\u001b[0m\u001b[0;34m\u001b[0m\u001b[0;34m\u001b[0m\u001b[0m\n",
      "\u001b[0;32m/data/miniconda3/envs/zoobot/lib/python3.6/site-packages/pandas/io/parsers.py\u001b[0m in \u001b[0;36m__init__\u001b[0;34m(self, f, engine, **kwds)\u001b[0m\n\u001b[1;32m    893\u001b[0m             \u001b[0mself\u001b[0m\u001b[0;34m.\u001b[0m\u001b[0moptions\u001b[0m\u001b[0;34m[\u001b[0m\u001b[0;34m\"has_index_names\"\u001b[0m\u001b[0;34m]\u001b[0m \u001b[0;34m=\u001b[0m \u001b[0mkwds\u001b[0m\u001b[0;34m[\u001b[0m\u001b[0;34m\"has_index_names\"\u001b[0m\u001b[0;34m]\u001b[0m\u001b[0;34m\u001b[0m\u001b[0;34m\u001b[0m\u001b[0m\n\u001b[1;32m    894\u001b[0m \u001b[0;34m\u001b[0m\u001b[0m\n\u001b[0;32m--> 895\u001b[0;31m         \u001b[0mself\u001b[0m\u001b[0;34m.\u001b[0m\u001b[0m_make_engine\u001b[0m\u001b[0;34m(\u001b[0m\u001b[0mself\u001b[0m\u001b[0;34m.\u001b[0m\u001b[0mengine\u001b[0m\u001b[0;34m)\u001b[0m\u001b[0;34m\u001b[0m\u001b[0;34m\u001b[0m\u001b[0m\n\u001b[0m\u001b[1;32m    896\u001b[0m \u001b[0;34m\u001b[0m\u001b[0m\n\u001b[1;32m    897\u001b[0m     \u001b[0;32mdef\u001b[0m \u001b[0mclose\u001b[0m\u001b[0;34m(\u001b[0m\u001b[0mself\u001b[0m\u001b[0;34m)\u001b[0m\u001b[0;34m:\u001b[0m\u001b[0;34m\u001b[0m\u001b[0;34m\u001b[0m\u001b[0m\n",
      "\u001b[0;32m/data/miniconda3/envs/zoobot/lib/python3.6/site-packages/pandas/io/parsers.py\u001b[0m in \u001b[0;36m_make_engine\u001b[0;34m(self, engine)\u001b[0m\n\u001b[1;32m   1133\u001b[0m     \u001b[0;32mdef\u001b[0m \u001b[0m_make_engine\u001b[0m\u001b[0;34m(\u001b[0m\u001b[0mself\u001b[0m\u001b[0;34m,\u001b[0m \u001b[0mengine\u001b[0m\u001b[0;34m=\u001b[0m\u001b[0;34m\"c\"\u001b[0m\u001b[0;34m)\u001b[0m\u001b[0;34m:\u001b[0m\u001b[0;34m\u001b[0m\u001b[0;34m\u001b[0m\u001b[0m\n\u001b[1;32m   1134\u001b[0m         \u001b[0;32mif\u001b[0m \u001b[0mengine\u001b[0m \u001b[0;34m==\u001b[0m \u001b[0;34m\"c\"\u001b[0m\u001b[0;34m:\u001b[0m\u001b[0;34m\u001b[0m\u001b[0;34m\u001b[0m\u001b[0m\n\u001b[0;32m-> 1135\u001b[0;31m             \u001b[0mself\u001b[0m\u001b[0;34m.\u001b[0m\u001b[0m_engine\u001b[0m \u001b[0;34m=\u001b[0m \u001b[0mCParserWrapper\u001b[0m\u001b[0;34m(\u001b[0m\u001b[0mself\u001b[0m\u001b[0;34m.\u001b[0m\u001b[0mf\u001b[0m\u001b[0;34m,\u001b[0m \u001b[0;34m**\u001b[0m\u001b[0mself\u001b[0m\u001b[0;34m.\u001b[0m\u001b[0moptions\u001b[0m\u001b[0;34m)\u001b[0m\u001b[0;34m\u001b[0m\u001b[0;34m\u001b[0m\u001b[0m\n\u001b[0m\u001b[1;32m   1136\u001b[0m         \u001b[0;32melse\u001b[0m\u001b[0;34m:\u001b[0m\u001b[0;34m\u001b[0m\u001b[0;34m\u001b[0m\u001b[0m\n\u001b[1;32m   1137\u001b[0m             \u001b[0;32mif\u001b[0m \u001b[0mengine\u001b[0m \u001b[0;34m==\u001b[0m \u001b[0;34m\"python\"\u001b[0m\u001b[0;34m:\u001b[0m\u001b[0;34m\u001b[0m\u001b[0;34m\u001b[0m\u001b[0m\n",
      "\u001b[0;32m/data/miniconda3/envs/zoobot/lib/python3.6/site-packages/pandas/io/parsers.py\u001b[0m in \u001b[0;36m__init__\u001b[0;34m(self, src, **kwds)\u001b[0m\n\u001b[1;32m   1904\u001b[0m         \u001b[0mkwds\u001b[0m\u001b[0;34m[\u001b[0m\u001b[0;34m\"usecols\"\u001b[0m\u001b[0;34m]\u001b[0m \u001b[0;34m=\u001b[0m \u001b[0mself\u001b[0m\u001b[0;34m.\u001b[0m\u001b[0musecols\u001b[0m\u001b[0;34m\u001b[0m\u001b[0;34m\u001b[0m\u001b[0m\n\u001b[1;32m   1905\u001b[0m \u001b[0;34m\u001b[0m\u001b[0m\n\u001b[0;32m-> 1906\u001b[0;31m         \u001b[0mself\u001b[0m\u001b[0;34m.\u001b[0m\u001b[0m_reader\u001b[0m \u001b[0;34m=\u001b[0m \u001b[0mparsers\u001b[0m\u001b[0;34m.\u001b[0m\u001b[0mTextReader\u001b[0m\u001b[0;34m(\u001b[0m\u001b[0msrc\u001b[0m\u001b[0;34m,\u001b[0m \u001b[0;34m**\u001b[0m\u001b[0mkwds\u001b[0m\u001b[0;34m)\u001b[0m\u001b[0;34m\u001b[0m\u001b[0;34m\u001b[0m\u001b[0m\n\u001b[0m\u001b[1;32m   1907\u001b[0m         \u001b[0mself\u001b[0m\u001b[0;34m.\u001b[0m\u001b[0munnamed_cols\u001b[0m \u001b[0;34m=\u001b[0m \u001b[0mself\u001b[0m\u001b[0;34m.\u001b[0m\u001b[0m_reader\u001b[0m\u001b[0;34m.\u001b[0m\u001b[0munnamed_cols\u001b[0m\u001b[0;34m\u001b[0m\u001b[0;34m\u001b[0m\u001b[0m\n\u001b[1;32m   1908\u001b[0m \u001b[0;34m\u001b[0m\u001b[0m\n",
      "\u001b[0;32mpandas/_libs/parsers.pyx\u001b[0m in \u001b[0;36mpandas._libs.parsers.TextReader.__cinit__\u001b[0;34m()\u001b[0m\n",
      "\u001b[0;31mEmptyDataError\u001b[0m: No columns to parse from file"
     ]
    }
   ],
   "source": [
    "cdf = pd.read_csv('touch_table_classifications_2019-10-15.csv')"
   ]
  },
  {
   "cell_type": "code",
   "execution_count": null,
   "metadata": {},
   "outputs": [],
   "source": [
    "cdf.head()"
   ]
  },
  {
   "cell_type": "code",
   "execution_count": null,
   "metadata": {},
   "outputs": [],
   "source": [
    "subject_data =  [json.loads(x) for x in cdf['subject_data'].unique()]"
   ]
  },
  {
   "cell_type": "code",
   "execution_count": null,
   "metadata": {},
   "outputs": [],
   "source": [
    "subject_data[0]"
   ]
  },
  {
   "cell_type": "code",
   "execution_count": null,
   "metadata": {},
   "outputs": [],
   "source": [
    "def flatten_subject(subject):\n",
    "    subject_id = list(subject.keys())[0]\n",
    "    subject_data = subject[subject_id]\n",
    "    subject_data.update({'subject_id': subject_id})\n",
    "    return subject_data.copy()"
   ]
  },
  {
   "cell_type": "code",
   "execution_count": null,
   "metadata": {},
   "outputs": [],
   "source": [
    "flatten_subject(subject_data[0])"
   ]
  },
  {
   "cell_type": "code",
   "execution_count": null,
   "metadata": {},
   "outputs": [],
   "source": [
    "subject_data_flat = [flatten_subject(subject) for subject in subject_data]"
   ]
  },
  {
   "cell_type": "code",
   "execution_count": null,
   "metadata": {},
   "outputs": [],
   "source": [
    "subject_df = pd.DataFrame(data=subject_data_flat)"
   ]
  },
  {
   "cell_type": "code",
   "execution_count": null,
   "metadata": {},
   "outputs": [],
   "source": [
    "subject_df.head()"
   ]
  },
  {
   "cell_type": "code",
   "execution_count": null,
   "metadata": {},
   "outputs": [],
   "source": [
    "subject_df.columns.values"
   ]
  },
  {
   "cell_type": "code",
   "execution_count": null,
   "metadata": {},
   "outputs": [],
   "source": [
    "subject_df_mini = subject_df[['!file_loc', '!ra', '!dec', 'subject_id']]"
   ]
  },
  {
   "cell_type": "code",
   "execution_count": null,
   "metadata": {},
   "outputs": [],
   "source": [
    "master_df = pd.merge(df, subject_df_mini, on='subject_id', how='inner')\n",
    "assert len(df) == len(master_df)"
   ]
  },
  {
   "cell_type": "code",
   "execution_count": null,
   "metadata": {},
   "outputs": [],
   "source": [
    "master_df.iloc[-1]"
   ]
  },
  {
   "cell_type": "code",
   "execution_count": null,
   "metadata": {},
   "outputs": [],
   "source": []
  },
  {
   "cell_type": "code",
   "execution_count": null,
   "metadata": {},
   "outputs": [],
   "source": [
    "def quality_check(df, retirement_limit, n_bins=10, n_galaxies_per_bin=10):\n",
    "    df = df.query('total >= {}'.format(retirement_limit)).sort_values('total', ascending=True)\n",
    "    print('Retired: {}'.format(len(df)))\n",
    "    df = df.dropna(subset=['!file_loc'])\n",
    "    df['local_file_loc'] = df['!file_loc'].astype(str).apply(lambda x: '/media/mike' + x[8:])\n",
    "    df['binned_vf'], bins = pd.cut(df['featured_fraction'], n_bins, labels=False, retbins=True)\n",
    "    print(bins)\n",
    "    print(df['binned_vf'].value_counts())\n",
    "    \n",
    "    scale = 3\n",
    "    plt.figure(figsize=(scale * n_galaxies_per_bin, scale * n_bins))\n",
    "    gs1 = gridspec.GridSpec(n_galaxies_per_bin, n_bins)\n",
    "    gs1.update(wspace=0.0, hspace=0.0)\n",
    "    for bin_n in range(n_bins):\n",
    "        selected_df = df.query('binned_vf == {}'.format(bin_n))\n",
    "        for galaxy_n in range(n_galaxies_per_bin):\n",
    "            if galaxy_n < len(selected_df):\n",
    "                galaxy = selected_df.iloc[galaxy_n]\n",
    "                image = Image.open(galaxy['local_file_loc'])\n",
    "                ax = plt.subplot(gs1[galaxy_n, bin_n])\n",
    "                ax.imshow(image)\n",
    "                ax.text(50, 50, 'Feat = {:.2f}'.format(galaxy['featured_fraction']), fontsize=16, color='r')\n",
    "                ax.text(50, 120, 'N = {}'.format(galaxy['total']), fontsize=16, color='r')\n",
    "                if galaxy_n == 0:\n",
    "                    ax.text(80, -50, 'Feat: {:.2f} to {:.2f}'.format(bins[bin_n], bins[bin_n + 1]), fontsize=16, color='black')\n",
    "                ax.axis('off')\n",
    "    plt.savefig('touch_table_retirement_{}.pdf'.format(retirement_limit))\n",
    "    return df"
   ]
  },
  {
   "cell_type": "code",
   "execution_count": null,
   "metadata": {},
   "outputs": [],
   "source": [
    "df_ret20 = quality_check(master_df, retirement_limit=20)"
   ]
  },
  {
   "cell_type": "markdown",
   "metadata": {},
   "source": [
    "Roughly, below 20% or above 45% are reliably smooth/featured."
   ]
  },
  {
   "cell_type": "code",
   "execution_count": null,
   "metadata": {},
   "outputs": [],
   "source": []
  },
  {
   "cell_type": "code",
   "execution_count": null,
   "metadata": {},
   "outputs": [],
   "source": [
    "df_ret10 = quality_check(master_df, retirement_limit=10)"
   ]
  },
  {
   "cell_type": "code",
   "execution_count": null,
   "metadata": {},
   "outputs": [],
   "source": [
    "df_ret10['is_smooth'] = df_ret10['featured_fraction'] < .25 \n",
    "df_ret10['is_featured'] = df_ret10['featured_fraction'] > .50\n",
    "print(df_ret10['is_smooth'].value_counts())\n",
    "print(df_ret10['is_featured'].value_counts())\n",
    "print(len(df_ret10))"
   ]
  },
  {
   "cell_type": "code",
   "execution_count": null,
   "metadata": {},
   "outputs": [],
   "source": [
    "len(master_df.query('total > 25'))"
   ]
  },
  {
   "cell_type": "code",
   "execution_count": null,
   "metadata": {},
   "outputs": [],
   "source": [
    "master_df['total'].max()"
   ]
  },
  {
   "cell_type": "markdown",
   "metadata": {},
   "source": [
    "Below 20% or 50%+"
   ]
  },
  {
   "cell_type": "code",
   "execution_count": null,
   "metadata": {},
   "outputs": [],
   "source": [
    "_ = quality_check(master_df, retirement_limit=5)"
   ]
  },
  {
   "cell_type": "markdown",
   "metadata": {},
   "source": [
    "Below 20 or above 50"
   ]
  },
  {
   "cell_type": "code",
   "execution_count": null,
   "metadata": {},
   "outputs": [],
   "source": []
  }
 ],
 "metadata": {
  "kernelspec": {
   "display_name": "Python 3",
   "language": "python",
   "name": "python3"
  },
  "language_info": {
   "codemirror_mode": {
    "name": "ipython",
    "version": 3
   },
   "file_extension": ".py",
   "mimetype": "text/x-python",
   "name": "python",
   "nbconvert_exporter": "python",
   "pygments_lexer": "ipython3",
   "version": "3.7.6"
  }
 },
 "nbformat": 4,
 "nbformat_minor": 4
}
