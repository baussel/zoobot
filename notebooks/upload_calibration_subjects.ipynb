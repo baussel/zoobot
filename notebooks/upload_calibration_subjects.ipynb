{
 "cells": [
  {
   "cell_type": "code",
   "execution_count": 21,
   "metadata": {},
   "outputs": [],
   "source": [
    "import os\n",
    "\n",
    "import pandas as pd\n",
    "import matplotlib.pyplot as plt\n",
    "import seaborn as sns\n",
    "sns.set_context('notebook')\n",
    "\n",
    "from zoobot.active_learning import mock_panoptes"
   ]
  },
  {
   "cell_type": "code",
   "execution_count": 2,
   "metadata": {},
   "outputs": [],
   "source": [
    "df = pd.read_csv('decals_smooth_may_eval_shards/eval_df.csv')"
   ]
  },
  {
   "cell_type": "code",
   "execution_count": 3,
   "metadata": {},
   "outputs": [
    {
     "data": {
      "text/html": [
       "<div>\n",
       "<style scoped>\n",
       "    .dataframe tbody tr th:only-of-type {\n",
       "        vertical-align: middle;\n",
       "    }\n",
       "\n",
       "    .dataframe tbody tr th {\n",
       "        vertical-align: top;\n",
       "    }\n",
       "\n",
       "    .dataframe thead th {\n",
       "        text-align: right;\n",
       "    }\n",
       "</style>\n",
       "<table border=\"1\" class=\"dataframe\">\n",
       "  <thead>\n",
       "    <tr style=\"text-align: right;\">\n",
       "      <th></th>\n",
       "      <th>Unnamed: 0</th>\n",
       "      <th>index</th>\n",
       "      <th>iauname</th>\n",
       "      <th>nsa_id</th>\n",
       "      <th>ra</th>\n",
       "      <th>dec</th>\n",
       "      <th>petrotheta</th>\n",
       "      <th>petroth50</th>\n",
       "      <th>petroth90</th>\n",
       "      <th>redshift</th>\n",
       "      <th>...</th>\n",
       "      <th>merging_tidal-debris-v1_fraction</th>\n",
       "      <th>merging_both-v1_fraction</th>\n",
       "      <th>merging_neither-v1_fraction</th>\n",
       "      <th>merging_major-disturbance_fraction</th>\n",
       "      <th>merging_minor-disturbance_fraction</th>\n",
       "      <th>merging_none_fraction</th>\n",
       "      <th>subject_url</th>\n",
       "      <th>id_str</th>\n",
       "      <th>total_votes</th>\n",
       "      <th>label</th>\n",
       "    </tr>\n",
       "  </thead>\n",
       "  <tbody>\n",
       "    <tr>\n",
       "      <th>0</th>\n",
       "      <td>39395</td>\n",
       "      <td>38247</td>\n",
       "      <td>J151023.19+020737.5</td>\n",
       "      <td>75247</td>\n",
       "      <td>227.596645</td>\n",
       "      <td>2.127095</td>\n",
       "      <td>10.039089</td>\n",
       "      <td>3.625160</td>\n",
       "      <td>12.012248</td>\n",
       "      <td>0.133477</td>\n",
       "      <td>...</td>\n",
       "      <td>NaN</td>\n",
       "      <td>NaN</td>\n",
       "      <td>NaN</td>\n",
       "      <td>NaN</td>\n",
       "      <td>NaN</td>\n",
       "      <td>NaN</td>\n",
       "      <td>https://panoptes-uploads.zooniverse.org/produc...</td>\n",
       "      <td>J151023.19+020737.5</td>\n",
       "      <td>40</td>\n",
       "      <td>28</td>\n",
       "    </tr>\n",
       "    <tr>\n",
       "      <th>1</th>\n",
       "      <td>39396</td>\n",
       "      <td>24507</td>\n",
       "      <td>J015708.34+122855.0</td>\n",
       "      <td>45340</td>\n",
       "      <td>29.284754</td>\n",
       "      <td>12.481938</td>\n",
       "      <td>4.007525</td>\n",
       "      <td>1.796733</td>\n",
       "      <td>5.273066</td>\n",
       "      <td>0.064523</td>\n",
       "      <td>...</td>\n",
       "      <td>NaN</td>\n",
       "      <td>NaN</td>\n",
       "      <td>NaN</td>\n",
       "      <td>NaN</td>\n",
       "      <td>NaN</td>\n",
       "      <td>NaN</td>\n",
       "      <td>https://panoptes-uploads.zooniverse.org/produc...</td>\n",
       "      <td>J015708.34+122855.0</td>\n",
       "      <td>40</td>\n",
       "      <td>31</td>\n",
       "    </tr>\n",
       "    <tr>\n",
       "      <th>2</th>\n",
       "      <td>39397</td>\n",
       "      <td>84946</td>\n",
       "      <td>J091427.67+073429.7</td>\n",
       "      <td>227823</td>\n",
       "      <td>138.615322</td>\n",
       "      <td>7.574948</td>\n",
       "      <td>9.430567</td>\n",
       "      <td>4.355278</td>\n",
       "      <td>11.992848</td>\n",
       "      <td>0.080103</td>\n",
       "      <td>...</td>\n",
       "      <td>NaN</td>\n",
       "      <td>NaN</td>\n",
       "      <td>NaN</td>\n",
       "      <td>NaN</td>\n",
       "      <td>NaN</td>\n",
       "      <td>NaN</td>\n",
       "      <td>https://panoptes-uploads.zooniverse.org/produc...</td>\n",
       "      <td>J091427.67+073429.7</td>\n",
       "      <td>40</td>\n",
       "      <td>17</td>\n",
       "    </tr>\n",
       "    <tr>\n",
       "      <th>3</th>\n",
       "      <td>39398</td>\n",
       "      <td>36266</td>\n",
       "      <td>J141021.96+020037.9</td>\n",
       "      <td>72994</td>\n",
       "      <td>212.591544</td>\n",
       "      <td>2.010540</td>\n",
       "      <td>4.746917</td>\n",
       "      <td>1.781377</td>\n",
       "      <td>5.054409</td>\n",
       "      <td>0.126106</td>\n",
       "      <td>...</td>\n",
       "      <td>NaN</td>\n",
       "      <td>NaN</td>\n",
       "      <td>NaN</td>\n",
       "      <td>NaN</td>\n",
       "      <td>NaN</td>\n",
       "      <td>NaN</td>\n",
       "      <td>https://panoptes-uploads.zooniverse.org/produc...</td>\n",
       "      <td>J141021.96+020037.9</td>\n",
       "      <td>40</td>\n",
       "      <td>17</td>\n",
       "    </tr>\n",
       "    <tr>\n",
       "      <th>4</th>\n",
       "      <td>39399</td>\n",
       "      <td>25322</td>\n",
       "      <td>J025835.45-075405.0</td>\n",
       "      <td>53634</td>\n",
       "      <td>44.647754</td>\n",
       "      <td>-7.901432</td>\n",
       "      <td>8.151851</td>\n",
       "      <td>3.819922</td>\n",
       "      <td>9.021725</td>\n",
       "      <td>0.148645</td>\n",
       "      <td>...</td>\n",
       "      <td>NaN</td>\n",
       "      <td>NaN</td>\n",
       "      <td>NaN</td>\n",
       "      <td>NaN</td>\n",
       "      <td>NaN</td>\n",
       "      <td>NaN</td>\n",
       "      <td>https://panoptes-uploads.zooniverse.org/produc...</td>\n",
       "      <td>J025835.45-075405.0</td>\n",
       "      <td>40</td>\n",
       "      <td>27</td>\n",
       "    </tr>\n",
       "  </tbody>\n",
       "</table>\n",
       "<p>5 rows × 106 columns</p>\n",
       "</div>"
      ],
      "text/plain": [
       "   Unnamed: 0  index              iauname  nsa_id          ra        dec  \\\n",
       "0       39395  38247  J151023.19+020737.5   75247  227.596645   2.127095   \n",
       "1       39396  24507  J015708.34+122855.0   45340   29.284754  12.481938   \n",
       "2       39397  84946  J091427.67+073429.7  227823  138.615322   7.574948   \n",
       "3       39398  36266  J141021.96+020037.9   72994  212.591544   2.010540   \n",
       "4       39399  25322  J025835.45-075405.0   53634   44.647754  -7.901432   \n",
       "\n",
       "   petrotheta  petroth50  petroth90  redshift  ...  \\\n",
       "0   10.039089   3.625160  12.012248  0.133477  ...   \n",
       "1    4.007525   1.796733   5.273066  0.064523  ...   \n",
       "2    9.430567   4.355278  11.992848  0.080103  ...   \n",
       "3    4.746917   1.781377   5.054409  0.126106  ...   \n",
       "4    8.151851   3.819922   9.021725  0.148645  ...   \n",
       "\n",
       "  merging_tidal-debris-v1_fraction merging_both-v1_fraction  \\\n",
       "0                              NaN                      NaN   \n",
       "1                              NaN                      NaN   \n",
       "2                              NaN                      NaN   \n",
       "3                              NaN                      NaN   \n",
       "4                              NaN                      NaN   \n",
       "\n",
       "   merging_neither-v1_fraction  merging_major-disturbance_fraction  \\\n",
       "0                          NaN                                 NaN   \n",
       "1                          NaN                                 NaN   \n",
       "2                          NaN                                 NaN   \n",
       "3                          NaN                                 NaN   \n",
       "4                          NaN                                 NaN   \n",
       "\n",
       "   merging_minor-disturbance_fraction merging_none_fraction  \\\n",
       "0                                 NaN                   NaN   \n",
       "1                                 NaN                   NaN   \n",
       "2                                 NaN                   NaN   \n",
       "3                                 NaN                   NaN   \n",
       "4                                 NaN                   NaN   \n",
       "\n",
       "                                         subject_url               id_str  \\\n",
       "0  https://panoptes-uploads.zooniverse.org/produc...  J151023.19+020737.5   \n",
       "1  https://panoptes-uploads.zooniverse.org/produc...  J015708.34+122855.0   \n",
       "2  https://panoptes-uploads.zooniverse.org/produc...  J091427.67+073429.7   \n",
       "3  https://panoptes-uploads.zooniverse.org/produc...  J141021.96+020037.9   \n",
       "4  https://panoptes-uploads.zooniverse.org/produc...  J025835.45-075405.0   \n",
       "\n",
       "   total_votes  label  \n",
       "0           40     28  \n",
       "1           40     31  \n",
       "2           40     17  \n",
       "3           40     17  \n",
       "4           40     27  \n",
       "\n",
       "[5 rows x 106 columns]"
      ]
     },
     "execution_count": 3,
     "metadata": {},
     "output_type": "execute_result"
    }
   ],
   "source": [
    "df.head()"
   ]
  },
  {
   "cell_type": "code",
   "execution_count": 6,
   "metadata": {},
   "outputs": [],
   "source": [
    "df['aws_file_loc'] = df['file_loc']"
   ]
  },
  {
   "cell_type": "code",
   "execution_count": 11,
   "metadata": {},
   "outputs": [],
   "source": [
    "df['file_loc'] = df['aws_file_loc'].apply(lambda x: '/Volumes/alpha/' + x[36:])"
   ]
  },
  {
   "cell_type": "code",
   "execution_count": 12,
   "metadata": {},
   "outputs": [
    {
     "data": {
      "text/plain": [
       "0       /Volumes/alpha/decals/png_native/dr5/J151/J151...\n",
       "1       /Volumes/alpha/decals/png_native/dr5/J015/J015...\n",
       "2       /Volumes/alpha/decals/png_native/dr5/J091/J091...\n",
       "3       /Volumes/alpha/decals/png_native/dr5/J141/J141...\n",
       "4       /Volumes/alpha/decals/png_native/dr5/J025/J025...\n",
       "                              ...                        \n",
       "4995    /Volumes/alpha/decals/png_native/dr5/J020/J020...\n",
       "4996    /Volumes/alpha/decals/png_native/dr5/J132/J132...\n",
       "4997    /Volumes/alpha/decals/png_native/dr5/J105/J105...\n",
       "4998    /Volumes/alpha/decals/png_native/dr5/J101/J101...\n",
       "4999    /Volumes/alpha/decals/png_native/dr5/J102/J102...\n",
       "Name: file_loc, Length: 5000, dtype: object"
      ]
     },
     "execution_count": 12,
     "metadata": {},
     "output_type": "execute_result"
    }
   ],
   "source": [
    "df['file_loc']"
   ]
  },
  {
   "cell_type": "code",
   "execution_count": 19,
   "metadata": {},
   "outputs": [
    {
     "data": {
      "text/plain": [
       "0       J151023.19+020737.5\n",
       "1       J015708.34+122855.0\n",
       "2       J091427.67+073429.7\n",
       "3       J141021.96+020037.9\n",
       "4       J025835.45-075405.0\n",
       "               ...         \n",
       "4995    J020609.10+000137.0\n",
       "4996    J132649.77+010307.4\n",
       "4997    J105847.32+103337.9\n",
       "4998    J101018.04+023719.1\n",
       "4999    J102333.96+060249.7\n",
       "Name: id_str, Length: 5000, dtype: object"
      ]
     },
     "execution_count": 19,
     "metadata": {},
     "output_type": "execute_result"
    }
   ],
   "source": [
    "df['id_str']"
   ]
  },
  {
   "cell_type": "code",
   "execution_count": 15,
   "metadata": {},
   "outputs": [],
   "source": [
    "assert all([os.path.isfile(x) for x in df['file_loc']])"
   ]
  },
  {
   "cell_type": "code",
   "execution_count": 16,
   "metadata": {},
   "outputs": [],
   "source": [
    "login_loc = '../zooniverse_login.json'"
   ]
  },
  {
   "cell_type": "code",
   "execution_count": 26,
   "metadata": {},
   "outputs": [],
   "source": [
    "selected = slice(0, 150)  # if these are always increased, you'll never upload a galaxy twice\n",
    "name = 'calibration'\n",
    "project_id = '5733'  # main GZ project\n",
    "retirement = 5"
   ]
  },
  {
   "cell_type": "code",
   "execution_count": 27,
   "metadata": {},
   "outputs": [],
   "source": [
    "upload_loc = 'latest_calibration_subjects.csv'"
   ]
  },
  {
   "cell_type": "code",
   "execution_count": 28,
   "metadata": {},
   "outputs": [
    {
     "name": "stderr",
     "output_type": "stream",
     "text": [
      "100%|██████████| 150/150 [02:00<00:00,  5.68 subjects uploaded/s]"
     ]
    }
   ],
   "source": [
    "df[selected].to_csv(upload_loc)\n",
    "panoptes = mock_panoptes.Panoptes(\n",
    "    catalog_loc=upload_loc,\n",
    "    login_loc=login_loc,\n",
    "    project_id=project_id,\n",
    "    # don't worry about these, not getting labels\n",
    "    workflow_ids=[],\n",
    "    last_id=None,\n",
    "    question=None\n",
    ")\n",
    "panoptes.request_labels(df[selected]['id_str'].values, name=name, retirement=retirement)\n"
   ]
  },
  {
   "cell_type": "code",
   "execution_count": null,
   "metadata": {},
   "outputs": [],
   "source": []
  }
 ],
 "metadata": {
  "kernelspec": {
   "display_name": "Python 3",
   "language": "python",
   "name": "python3"
  },
  "language_info": {
   "codemirror_mode": {
    "name": "ipython",
    "version": 3
   },
   "file_extension": ".py",
   "mimetype": "text/x-python",
   "name": "python",
   "nbconvert_exporter": "python",
   "pygments_lexer": "ipython3",
   "version": "3.6.7"
  }
 },
 "nbformat": 4,
 "nbformat_minor": 2
}
