{
 "cells": [
  {
   "cell_type": "code",
   "execution_count": 33,
   "metadata": {},
   "outputs": [],
   "source": [
    "import json\n",
    "\n",
    "import pandas as pd\n",
    "import numpy as np\n",
    "import matplotlib.pyplot as plt\n",
    "from astropy.table import Table"
   ]
  },
  {
   "cell_type": "code",
   "execution_count": 34,
   "metadata": {},
   "outputs": [],
   "source": [
    "should_be_uploaded = pd.read_csv('should_be_uploaded.csv')"
   ]
  },
  {
   "cell_type": "code",
   "execution_count": 35,
   "metadata": {},
   "outputs": [
    {
     "data": {
      "text/plain": [
       "220801"
      ]
     },
     "execution_count": 35,
     "metadata": {},
     "output_type": "execute_result"
    }
   ],
   "source": [
    "len(should_be_uploaded)"
   ]
  },
  {
   "cell_type": "code",
   "execution_count": null,
   "metadata": {},
   "outputs": [],
   "source": []
  },
  {
   "cell_type": "code",
   "execution_count": 36,
   "metadata": {},
   "outputs": [],
   "source": [
    "latest_classifications = pd.read_csv('~/Downloads/classifications_final.csv')  # only if at least 1 classification"
   ]
  },
  {
   "cell_type": "code",
   "execution_count": null,
   "metadata": {},
   "outputs": [],
   "source": []
  },
  {
   "cell_type": "code",
   "execution_count": null,
   "metadata": {},
   "outputs": [],
   "source": []
  },
  {
   "cell_type": "code",
   "execution_count": 37,
   "metadata": {},
   "outputs": [
    {
     "data": {
      "text/plain": [
       "436559"
      ]
     },
     "execution_count": 37,
     "metadata": {},
     "output_type": "execute_result"
    }
   ],
   "source": [
    "\n",
    "# latest_subjects = pd.read_csv('/home/walml/repos/gz-panoptes-reduction/data/latest_subjects_export.csv')\n",
    "# latest_subjects = pd.read_csv('/media/walml/beta/misc_downloads/galaxy-zoo-subjects_2020_10_24.csv')\n",
    "# latest_subjects = pd.read_csv('/media/walml/beta/misc_downloads/galaxy-zoo-subjects_2020_10_27.csv')\n",
    "latest_subjects = pd.read_csv('/media/walml/beta/misc_downloads/galaxy-zoo-subjects_2020_10_28.csv')\n",
    "latest_subjects = latest_subjects[latest_subjects['workflow_id'].isin([6122.0, 10582.0, 10581.0])]  # decals public workflows\n",
    "# latest_subjects = latest_subjects[latest_subjects['workflow_id'].isin([10582.0])]  # decals enhanced\n",
    "latest_subjects = latest_subjects[~latest_subjects['subject_set_id'].isin([77652])]  # remove eagle subjects\n",
    "len(latest_subjects)"
   ]
  },
  {
   "cell_type": "code",
   "execution_count": 38,
   "metadata": {},
   "outputs": [],
   "source": [
    "latest_subjects['metadata'] = latest_subjects['metadata'].apply(json.loads)\n",
    "\n",
    "def get_iauname(metadata):\n",
    "    possible_keys = ['iauname', '!iauname', 'IAUNAME', '!IAUNAME']\n",
    "    for key in possible_keys:\n",
    "        if key in metadata.keys():\n",
    "            return metadata[key]\n",
    "    return np.nan\n",
    "\n",
    "latest_subjects['iauname'] = latest_subjects['metadata'].apply(get_iauname)\n",
    "assert pd.isna(latest_subjects['iauname']).sum()  == 0"
   ]
  },
  {
   "cell_type": "code",
   "execution_count": 39,
   "metadata": {},
   "outputs": [
    {
     "data": {
      "text/plain": [
       "74905    357026\n",
       "85299     21900\n",
       "67383     15000\n",
       "21156     10000\n",
       "74807      5765\n",
       "60259      5000\n",
       "20603      5000\n",
       "60995      5000\n",
       "20036      3000\n",
       "51756      3000\n",
       "20156      2000\n",
       "19832      1601\n",
       "60258       977\n",
       "20354       790\n",
       "67382       500\n",
       "Name: subject_set_id, dtype: int64"
      ]
     },
     "execution_count": 39,
     "metadata": {},
     "output_type": "execute_result"
    }
   ],
   "source": [
    "latest_subjects['subject_set_id'].value_counts()"
   ]
  },
  {
   "cell_type": "markdown",
   "metadata": {},
   "source": [
    "## Which subjects still require classifications?\n",
    "\n",
    "- in should_be_uploaded\n",
    "- < 5 classifications (iauname, including duplicates)\n",
    "\n"
   ]
  },
  {
   "cell_type": "code",
   "execution_count": 40,
   "metadata": {},
   "outputs": [],
   "source": [
    "enough_classifications = latest_classifications[latest_classifications['smooth-or-featured_total-votes'] >= 5]['iauname']\n",
    "needs_classifications = should_be_uploaded[~should_be_uploaded['iauname'].isin(enough_classifications)]\n",
    "# this is ex"
   ]
  },
  {
   "cell_type": "code",
   "execution_count": 41,
   "metadata": {},
   "outputs": [
    {
     "data": {
      "text/plain": [
       "34971"
      ]
     },
     "execution_count": 41,
     "metadata": {},
     "output_type": "execute_result"
    }
   ],
   "source": [
    "len(needs_classifications)"
   ]
  },
  {
   "cell_type": "markdown",
   "metadata": {},
   "source": [
    "We can subtract out the 9074 I just uploaded to missing_e, they will all have retirement=5 correctly"
   ]
  },
  {
   "cell_type": "code",
   "execution_count": 42,
   "metadata": {},
   "outputs": [],
   "source": [
    "have_just_uploaded = pd.read_csv('missing_galaxies_no_classifications_not_85299.csv')"
   ]
  },
  {
   "cell_type": "code",
   "execution_count": 43,
   "metadata": {},
   "outputs": [
    {
     "data": {
      "text/plain": [
       "25897"
      ]
     },
     "execution_count": 43,
     "metadata": {},
     "output_type": "execute_result"
    }
   ],
   "source": [
    "needs_metadata_check = set(needs_classifications['iauname']) - set(have_just_uploaded['iauname'])\n",
    "len(needs_metadata_check)"
   ]
  },
  {
   "cell_type": "markdown",
   "metadata": {},
   "source": [
    "All these galaxies must have correct metadata to retire at 5 total classifications rather than 3, unless they are duplicates.\n",
    "\n",
    "Only the enhanced workflow subjects matter as the other is a simple duplicate."
   ]
  },
  {
   "cell_type": "code",
   "execution_count": 44,
   "metadata": {},
   "outputs": [
    {
     "data": {
      "text/plain": [
       "24986"
      ]
     },
     "execution_count": 44,
     "metadata": {},
     "output_type": "execute_result"
    }
   ],
   "source": [
    "subjects_to_check = latest_subjects[latest_subjects['iauname'].isin(needs_metadata_check)].query('workflow_id == 10582').reset_index()\n",
    "len(subjects_to_check) \n",
    "# about 1k to investigate, why did this drop?!"
   ]
  },
  {
   "cell_type": "code",
   "execution_count": 45,
   "metadata": {},
   "outputs": [],
   "source": [
    "assert subjects_to_check['iauname'].value_counts().max()  # no duplicates, happily"
   ]
  },
  {
   "cell_type": "code",
   "execution_count": 46,
   "metadata": {},
   "outputs": [
    {
     "data": {
      "text/plain": [
       "5    24986\n",
       "Name: retirement_limit, dtype: int64"
      ]
     },
     "execution_count": 46,
     "metadata": {},
     "output_type": "execute_result"
    }
   ],
   "source": [
    "subjects_to_check['retirement_limit'] = subjects_to_check['metadata'].apply(lambda x: x['#retirement_limit'])\n",
    "subjects_to_check['retirement_limit'].value_counts()"
   ]
  },
  {
   "cell_type": "markdown",
   "metadata": {},
   "source": [
    "The 5k with retirement=3 need that increased to retirement=5"
   ]
  },
  {
   "cell_type": "code",
   "execution_count": 47,
   "metadata": {},
   "outputs": [
    {
     "data": {
      "text/plain": [
       "0"
      ]
     },
     "execution_count": 47,
     "metadata": {},
     "output_type": "execute_result"
    }
   ],
   "source": [
    "# iaunames_to_set_retirement_5 = subjects_to_check.query('retirement_limit == \"3\"')['iauname']\n",
    "# set_retirement_5 = should_be_uploaded[should_be_uploaded['iauname'].isin(iaunames_to_set_retirement_5)]\n",
    "\n",
    "set_retirement_5 = subjects_to_check.query('retirement_limit == \"3\"')\n",
    "\n",
    "len(set_retirement_5)"
   ]
  },
  {
   "cell_type": "code",
   "execution_count": 48,
   "metadata": {},
   "outputs": [
    {
     "data": {
      "text/plain": [
       "47213582    1\n",
       "47207878    1\n",
       "47198899    1\n",
       "34212532    1\n",
       "34216630    1\n",
       "           ..\n",
       "47207760    1\n",
       "47205715    1\n",
       "41869379    1\n",
       "42302805    1\n",
       "41975808    1\n",
       "Name: subject_id, Length: 24986, dtype: int64"
      ]
     },
     "execution_count": 48,
     "metadata": {},
     "output_type": "execute_result"
    }
   ],
   "source": [
    "subjects_to_check['subject_id'].value_counts()"
   ]
  },
  {
   "cell_type": "code",
   "execution_count": 49,
   "metadata": {},
   "outputs": [],
   "source": [
    "# set_retirement_5.to_csv('set_retirement_5.csv', index=False)"
   ]
  },
  {
   "cell_type": "code",
   "execution_count": null,
   "metadata": {},
   "outputs": [],
   "source": []
  },
  {
   "cell_type": "markdown",
   "metadata": {},
   "source": [
    "Now let's return to the 1k drop.\n",
    "\n",
    "These galaxies should_be_uploaded but \n",
    "- don't have >=5 classifications\n",
    "- are *not* in latest_subjects\n"
   ]
  },
  {
   "cell_type": "code",
   "execution_count": 50,
   "metadata": {},
   "outputs": [
    {
     "data": {
      "text/plain": [
       "911"
      ]
     },
     "execution_count": 50,
     "metadata": {},
     "output_type": "execute_result"
    }
   ],
   "source": [
    "mysterious_1k = needs_metadata_check - set(subjects_to_check['iauname'])\n",
    "len(mysterious_1k)"
   ]
  },
  {
   "cell_type": "markdown",
   "metadata": {},
   "source": [
    "\n",
    "Shouldn't these have been in the batch just uploaded? Well, that only included galaxies with NO classifications. Do they have classifications? "
   ]
  },
  {
   "cell_type": "code",
   "execution_count": 51,
   "metadata": {},
   "outputs": [
    {
     "data": {
      "text/plain": [
       "911"
      ]
     },
     "execution_count": 51,
     "metadata": {},
     "output_type": "execute_result"
    }
   ],
   "source": [
    "latest_classifications['iauname'].isin(mysterious_1k).sum()  # yes, they all have some classifications!"
   ]
  },
  {
   "cell_type": "code",
   "execution_count": 52,
   "metadata": {},
   "outputs": [
    {
     "data": {
      "text/plain": [
       "1.0    452\n",
       "2.0    293\n",
       "3.0    123\n",
       "4.0     43\n",
       "Name: smooth-or-featured_total-votes, dtype: int64"
      ]
     },
     "execution_count": 52,
     "metadata": {},
     "output_type": "execute_result"
    }
   ],
   "source": [
    "mysterious_1k_classifications = latest_classifications[latest_classifications['iauname'].isin(mysterious_1k)]\n",
    "mysterious_1k_classifications['smooth-or-featured_total-votes'].value_counts()"
   ]
  },
  {
   "cell_type": "markdown",
   "metadata": {},
   "source": [
    "I don't know why these guys didn't show up in the subjects export. \n",
    "\n",
    "Either way, they should all have retirement=5 - but I need to know which subjects these are first! \n",
    "\n",
    "Are they in the raw classifications export?\n",
    "\n",
    "TODO continue"
   ]
  },
  {
   "cell_type": "code",
   "execution_count": null,
   "metadata": {},
   "outputs": [],
   "source": []
  },
  {
   "cell_type": "code",
   "execution_count": null,
   "metadata": {},
   "outputs": [],
   "source": []
  },
  {
   "cell_type": "markdown",
   "metadata": {},
   "source": [
    "As for the rest of the galaxies - everything with >= 5 classifications and not retired needs retirement=5 and retire_now=1.\n",
    "\n",
    "This won't include galaxies missing from the subjects export, but there's nothing I can do about that."
   ]
  },
  {
   "cell_type": "code",
   "execution_count": 53,
   "metadata": {},
   "outputs": [],
   "source": [
    "should_be_retired = latest_subjects[latest_subjects['iauname'].isin(set(enough_classifications))].query('workflow_id == \"10582\"')"
   ]
  },
  {
   "cell_type": "code",
   "execution_count": 54,
   "metadata": {},
   "outputs": [],
   "source": [
    "assert should_be_retired['subject_id'].value_counts().max() == 1"
   ]
  },
  {
   "cell_type": "code",
   "execution_count": 55,
   "metadata": {},
   "outputs": [
    {
     "data": {
      "text/plain": [
       "1    161929\n",
       "2         3\n",
       "Name: iauname, dtype: int64"
      ]
     },
     "execution_count": 55,
     "metadata": {},
     "output_type": "execute_result"
    }
   ],
   "source": [
    "should_be_retired['iauname'].value_counts().value_counts()"
   ]
  },
  {
   "cell_type": "code",
   "execution_count": 59,
   "metadata": {},
   "outputs": [
    {
     "data": {
      "text/plain": [
       "(0.0, 0)"
      ]
     },
     "execution_count": 59,
     "metadata": {},
     "output_type": "execute_result"
    }
   ],
   "source": [
    "pd.isna(should_be_retired['retired_at']).mean(), pd.isna(should_be_retired['retired_at']).sum()"
   ]
  },
  {
   "cell_type": "code",
   "execution_count": 57,
   "metadata": {},
   "outputs": [],
   "source": [
    "send_manual_retirement = should_be_retired[pd.isna(should_be_retired['retired_at'])]['subject_id']"
   ]
  },
  {
   "cell_type": "code",
   "execution_count": 58,
   "metadata": {},
   "outputs": [
    {
     "ename": "AssertionError",
     "evalue": "",
     "output_type": "error",
     "traceback": [
      "\u001b[0;31m---------------------------------------------------------------------------\u001b[0m",
      "\u001b[0;31mAssertionError\u001b[0m                            Traceback (most recent call last)",
      "\u001b[0;32m<ipython-input-58-a871fdc9ebee>\u001b[0m in \u001b[0;36m<module>\u001b[0;34m\u001b[0m\n\u001b[0;32m----> 1\u001b[0;31m \u001b[0;32massert\u001b[0m \u001b[0;32mFalse\u001b[0m\u001b[0;34m\u001b[0m\u001b[0;34m\u001b[0m\u001b[0m\n\u001b[0m",
      "\u001b[0;31mAssertionError\u001b[0m: "
     ]
    }
   ],
   "source": [
    "assert False"
   ]
  },
  {
   "cell_type": "code",
   "execution_count": null,
   "metadata": {},
   "outputs": [],
   "source": [
    "send_manual_retirement"
   ]
  },
  {
   "cell_type": "code",
   "execution_count": null,
   "metadata": {},
   "outputs": [],
   "source": [
    "# with open('for_manual_retirement_classification_count.txt', 'w') as f:\n",
    "#     for subject in send_manual_retirement:\n",
    "#         f.write(str(subject) + '\\n')"
   ]
  },
  {
   "cell_type": "code",
   "execution_count": null,
   "metadata": {},
   "outputs": [],
   "source": []
  },
  {
   "cell_type": "markdown",
   "metadata": {},
   "source": [
    "Only a 80% of these are actually listed as retired!\n",
    "\n",
    "Update - now 83% are retired"
   ]
  },
  {
   "cell_type": "code",
   "execution_count": null,
   "metadata": {},
   "outputs": [],
   "source": [
    "# should_be_retired['retirement_limit'] = should_be_retired['metadata'].apply(lambda x: x['#retirement_limit'])\n",
    "should_be_retired['retire_now'] = should_be_retired['metadata'].apply(lambda x: x.get('!retire_now', 0))\n",
    "# should_be_retired['retirement_limit'].value_counts()"
   ]
  },
  {
   "cell_type": "code",
   "execution_count": null,
   "metadata": {},
   "outputs": [],
   "source": [
    "should_be_retired['retire_now'].value_counts()"
   ]
  },
  {
   "cell_type": "code",
   "execution_count": null,
   "metadata": {},
   "outputs": [],
   "source": []
  },
  {
   "cell_type": "markdown",
   "metadata": {},
   "source": [
    "About 2/3rds have retirement_limit=5, and so should retire when I re-run Caesar."
   ]
  },
  {
   "cell_type": "markdown",
   "metadata": {},
   "source": [
    "How many need updates i.e. are not retired and have retirement=3?"
   ]
  },
  {
   "cell_type": "code",
   "execution_count": null,
   "metadata": {},
   "outputs": [],
   "source": [
    "# needs_update = (should_be_retired['retirement_limit'] == 3) & (pd.isna(should_be_retired['retired_at']))\n",
    "# needs_update.mean(), needs_update.sum()  # about 30k"
   ]
  },
  {
   "cell_type": "code",
   "execution_count": null,
   "metadata": {},
   "outputs": [],
   "source": [
    "# should_be_retired[needs_update].to_csv('set_retirement_5_retire_now_as_enough_classifications.csv', index=False)\n",
    "# triggered with retire_now=1"
   ]
  },
  {
   "cell_type": "code",
   "execution_count": null,
   "metadata": {},
   "outputs": [],
   "source": [
    "assert (pd.isna(should_be_retired['retired_at']) == pd.isna(should_be_retired['retirement_reason'])).any()  # equiv."
   ]
  },
  {
   "cell_type": "code",
   "execution_count": null,
   "metadata": {},
   "outputs": [],
   "source": [
    "needs_update = (should_be_retired['retire_now'] == 0) & (pd.isna(should_be_retired['retired_at']))\n",
    "# pd.isna(should_be_retired['retired_at']).mean()\n",
    "needs_update.mean(), needs_update.sum()  # about 30k"
   ]
  },
  {
   "cell_type": "code",
   "execution_count": null,
   "metadata": {},
   "outputs": [],
   "source": [
    "# should_be_retired[needs_update].to_csv('set_retire_now_as_enough_classifications_not_retired.csv', index=False)"
   ]
  },
  {
   "cell_type": "code",
   "execution_count": null,
   "metadata": {},
   "outputs": [],
   "source": []
  },
  {
   "cell_type": "code",
   "execution_count": null,
   "metadata": {},
   "outputs": [],
   "source": []
  },
  {
   "cell_type": "code",
   "execution_count": null,
   "metadata": {},
   "outputs": [],
   "source": [
    "expect_to_retire = (should_be_retired['retire_now'] == 1) & (pd.isna(should_be_retired['retired_at']))\n",
    "expect_to_retire.sum()"
   ]
  },
  {
   "cell_type": "code",
   "execution_count": null,
   "metadata": {},
   "outputs": [],
   "source": [
    "should_be_retired[expect_to_retire]"
   ]
  },
  {
   "cell_type": "code",
   "execution_count": null,
   "metadata": {},
   "outputs": [],
   "source": []
  },
  {
   "cell_type": "code",
   "execution_count": null,
   "metadata": {},
   "outputs": [],
   "source": [
    "assert False"
   ]
  },
  {
   "cell_type": "code",
   "execution_count": null,
   "metadata": {
    "jupyter": {
     "source_hidden": true
    }
   },
   "outputs": [],
   "source": []
  },
  {
   "cell_type": "code",
   "execution_count": null,
   "metadata": {},
   "outputs": [],
   "source": []
  },
  {
   "cell_type": "code",
   "execution_count": 60,
   "metadata": {},
   "outputs": [],
   "source": [
    "latest_subjects['active'] = pd.isna(latest_subjects['retired_at'])"
   ]
  },
  {
   "cell_type": "code",
   "execution_count": 69,
   "metadata": {},
   "outputs": [
    {
     "data": {
      "text/plain": [
       "74905    178513\n",
       "85299     21900\n",
       "Name: subject_set_id, dtype: int64"
      ]
     },
     "execution_count": 69,
     "metadata": {},
     "output_type": "execute_result"
    }
   ],
   "source": [
    "workflow = latest_subjects.query('workflow_id == 10582').reset_index()\n",
    "workflow['subject_set_id'].value_counts()"
   ]
  },
  {
   "cell_type": "code",
   "execution_count": 70,
   "metadata": {},
   "outputs": [
    {
     "data": {
      "text/plain": [
       "74905    12580\n",
       "85299     2550\n",
       "Name: subject_set_id, dtype: int64"
      ]
     },
     "execution_count": 70,
     "metadata": {},
     "output_type": "execute_result"
    }
   ],
   "source": [
    "workflow.query('active')['subject_set_id'].value_counts()"
   ]
  },
  {
   "cell_type": "code",
   "execution_count": 71,
   "metadata": {},
   "outputs": [
    {
     "data": {
      "text/plain": [
       "3.0    751\n",
       "4.0    702\n",
       "2.0    619\n",
       "1.0    374\n",
       "Name: smooth-or-featured_total-votes, dtype: int64"
      ]
     },
     "execution_count": 71,
     "metadata": {},
     "output_type": "execute_result"
    }
   ],
   "source": [
    "missing_subjects = set(workflow.query('active').query('subject_set_id == 85299')['iauname'])\n",
    "classifications = latest_classifications[latest_classifications['iauname'].isin(missing_subjects)]\n",
    "classifications['smooth-or-featured_total-votes'].value_counts()\n"
   ]
  },
  {
   "cell_type": "code",
   "execution_count": 72,
   "metadata": {},
   "outputs": [],
   "source": [
    "workflow['retire_now'] = workflow['metadata'].apply(lambda x: x.get('!retire_now', 0))"
   ]
  },
  {
   "cell_type": "code",
   "execution_count": 74,
   "metadata": {},
   "outputs": [
    {
     "data": {
      "text/plain": [
       "False"
      ]
     },
     "execution_count": 74,
     "metadata": {},
     "output_type": "execute_result"
    }
   ],
   "source": [
    "(workflow['retire_now'] & workflow['active']).any()"
   ]
  },
  {
   "cell_type": "code",
   "execution_count": null,
   "metadata": {},
   "outputs": [],
   "source": []
  },
  {
   "cell_type": "code",
   "execution_count": null,
   "metadata": {},
   "outputs": [],
   "source": []
  },
  {
   "cell_type": "code",
   "execution_count": null,
   "metadata": {},
   "outputs": [],
   "source": [
    "(should_be_retired['retire_now'] == 0).mean()"
   ]
  },
  {
   "cell_type": "code",
   "execution_count": null,
   "metadata": {},
   "outputs": [],
   "source": [
    "not_retired = pd.isna(should_be_retired['retired_at'])\n",
    "no_retirement_trigger = (should_be_retired['retire_now'] == 0)"
   ]
  },
  {
   "cell_type": "code",
   "execution_count": null,
   "metadata": {},
   "outputs": [],
   "source": [
    "(not_retired & no_retirement_trigger).mean()"
   ]
  },
  {
   "cell_type": "code",
   "execution_count": null,
   "metadata": {},
   "outputs": [],
   "source": [
    "(not_retired | no_retirement_trigger).mean()"
   ]
  },
  {
   "cell_type": "code",
   "execution_count": null,
   "metadata": {},
   "outputs": [],
   "source": []
  },
  {
   "cell_type": "code",
   "execution_count": null,
   "metadata": {},
   "outputs": [],
   "source": [
    "# latest_subjects_sat = latest_subjects\n",
    "# latest_subjects_mon = latest_subjects"
   ]
  },
  {
   "cell_type": "code",
   "execution_count": null,
   "metadata": {},
   "outputs": [],
   "source": []
  },
  {
   "cell_type": "code",
   "execution_count": null,
   "metadata": {},
   "outputs": [],
   "source": [
    "linked_sets = [85299, 74905, 74909]"
   ]
  },
  {
   "cell_type": "code",
   "execution_count": null,
   "metadata": {},
   "outputs": [],
   "source": [
    "latest_subjects_sat = latest_subjects_sat[latest_subjects_sat['subject_set_id'].isin(linked_sets)].reset_index()\n",
    "latest_subjects_mon = latest_subjects_mon[latest_subjects_mon['subject_set_id'].isin(linked_sets)].reset_index()"
   ]
  },
  {
   "cell_type": "code",
   "execution_count": null,
   "metadata": {},
   "outputs": [],
   "source": []
  },
  {
   "cell_type": "code",
   "execution_count": null,
   "metadata": {},
   "outputs": [],
   "source": [
    "latest_subjects_sat['retirement_reason'].value_counts()"
   ]
  },
  {
   "cell_type": "code",
   "execution_count": null,
   "metadata": {},
   "outputs": [],
   "source": [
    "latest_subjects_mon['retirement_reason'].value_counts()"
   ]
  },
  {
   "cell_type": "code",
   "execution_count": null,
   "metadata": {},
   "outputs": [],
   "source": [
    "latest_subjects_sat['retirement_limit'] = latest_subjects_sat['metadata'].apply(lambda x: x['#retirement_limit'])\n",
    "latest_subjects_sat['retire_now'] = latest_subjects_sat['metadata'].apply(lambda x: x.get('!retire_now', 0))\n",
    "latest_subjects_sat['retirement_limit'].value_counts()\n",
    "\n",
    "latest_subjects_mon['retirement_limit'] = latest_subjects_mon['metadata'].apply(lambda x: x['#retirement_limit'])\n",
    "latest_subjects_mon['retire_now'] = latest_subjects_mon['metadata'].apply(lambda x: x.get('!retire_now', 0))\n",
    "latest_subjects_mon['retirement_limit'].value_counts()"
   ]
  },
  {
   "cell_type": "code",
   "execution_count": null,
   "metadata": {},
   "outputs": [],
   "source": [
    "latest_subjects_sat['retired'] = ~pd.isna(latest_subjects_sat['retired_at'])\n",
    "latest_subjects_mon['retired'] = ~pd.isna(latest_subjects_mon['retired_at'])"
   ]
  },
  {
   "cell_type": "code",
   "execution_count": null,
   "metadata": {},
   "outputs": [],
   "source": [
    "unretired_since_sat = latest_subjects_sat['retired'] & ~latest_subjects_mon['retired']\n",
    "retired_since_sat = ~latest_subjects_sat['retired'] & latest_subjects_mon['retired']"
   ]
  },
  {
   "cell_type": "code",
   "execution_count": null,
   "metadata": {},
   "outputs": [],
   "source": [
    "retired_since_sat.sum(), unretired_since_sat.sum()"
   ]
  },
  {
   "cell_type": "code",
   "execution_count": null,
   "metadata": {},
   "outputs": [],
   "source": [
    "latest_subjects_sat['retirement_limit'] = latest_subjects_sat['metadata'].apply(lambda x: x['#retirement_limit'])\n",
    "latest_subjects_sat['retire_now'] = latest_subjects_sat['metadata'].apply(lambda x: x.get('!retire_now', 0))\n",
    "latest_subjects_sat['retirement_limit'].value_counts()"
   ]
  },
  {
   "cell_type": "code",
   "execution_count": null,
   "metadata": {},
   "outputs": [],
   "source": [
    "latest_subjects_mon['retirement_limit'] = latest_subjects_mon['metadata'].apply(lambda x: x['#retirement_limit'])\n",
    "latest_subjects_mon['retire_now'] = latest_subjects_mon['metadata'].apply(lambda x: x.get('!retire_now', 0))\n",
    "latest_subjects_mon['retirement_limit'].value_counts()"
   ]
  },
  {
   "cell_type": "code",
   "execution_count": null,
   "metadata": {},
   "outputs": [],
   "source": [
    "latest_subjects_sat['retire_now'].value_counts()"
   ]
  },
  {
   "cell_type": "code",
   "execution_count": null,
   "metadata": {},
   "outputs": [],
   "source": [
    "latest_subjects_mon['retire_now'].value_counts()"
   ]
  },
  {
   "cell_type": "code",
   "execution_count": null,
   "metadata": {},
   "outputs": [],
   "source": []
  },
  {
   "cell_type": "code",
   "execution_count": null,
   "metadata": {},
   "outputs": [],
   "source": [
    "latest_subjects_mon[retired_since_sat]['retirement_limit'].value_counts()"
   ]
  },
  {
   "cell_type": "code",
   "execution_count": null,
   "metadata": {},
   "outputs": [],
   "source": [
    "latest_subjects_mon[retired_since_sat]['retire_now'].value_counts()"
   ]
  },
  {
   "cell_type": "code",
   "execution_count": null,
   "metadata": {},
   "outputs": [],
   "source": []
  },
  {
   "cell_type": "code",
   "execution_count": null,
   "metadata": {},
   "outputs": [],
   "source": [
    "((latest_subjects_mon[retired_since_sat]['retirement_limit'] == 5) | (latest_subjects_mon[retired_since_sat]['retire_now'] == 1)).mean()"
   ]
  },
  {
   "cell_type": "code",
   "execution_count": null,
   "metadata": {},
   "outputs": [],
   "source": [
    "((latest_subjects_mon[retired_since_sat]['retirement_limit'] == 3) & (latest_subjects_mon[retired_since_sat]['retirement_reason'] == 'classification_count')).mean()"
   ]
  },
  {
   "cell_type": "code",
   "execution_count": null,
   "metadata": {},
   "outputs": [],
   "source": []
  },
  {
   "cell_type": "code",
   "execution_count": null,
   "metadata": {},
   "outputs": [],
   "source": []
  },
  {
   "cell_type": "code",
   "execution_count": null,
   "metadata": {},
   "outputs": [],
   "source": [
    "((latest_subjects_mon['retirement_limit'] == 3)  & (~latest_subjects_mon['retired']) & (~latest_subjects_mon['retire_now'] == 1)).sum()"
   ]
  },
  {
   "cell_type": "code",
   "execution_count": null,
   "metadata": {},
   "outputs": [],
   "source": []
  },
  {
   "cell_type": "code",
   "execution_count": null,
   "metadata": {},
   "outputs": [],
   "source": [
    "((latest_subjects_sat['retire_now'] == 0) & (latest_subjects_mon['retire_now'] == 1)).sum()"
   ]
  },
  {
   "cell_type": "code",
   "execution_count": null,
   "metadata": {},
   "outputs": [],
   "source": [
    "((latest_subjects_sat['retire_now'] == 0) & (latest_subjects_mon['retire_now'] == 1) & (latest_subjects_mon['retirement_reason'] == 'flagged')).sum()"
   ]
  },
  {
   "cell_type": "code",
   "execution_count": null,
   "metadata": {},
   "outputs": [],
   "source": [
    "latest_subjects_sat[(latest_subjects_sat['retire_now'] == 0) & (latest_subjects_mon['retire_now'] == 1) & (latest_subjects_mon['retirement_reason'] == 'flagged')]['subject_id']"
   ]
  },
  {
   "cell_type": "code",
   "execution_count": null,
   "metadata": {},
   "outputs": [],
   "source": []
  },
  {
   "cell_type": "code",
   "execution_count": null,
   "metadata": {},
   "outputs": [],
   "source": []
  },
  {
   "cell_type": "code",
   "execution_count": null,
   "metadata": {},
   "outputs": [],
   "source": []
  },
  {
   "cell_type": "code",
   "execution_count": null,
   "metadata": {},
   "outputs": [],
   "source": [
    "latest_subjects_mon[(latest_subjects_mon['retire_now'] == 1) & (~latest_subjects_mon['retired'])]['subject_id']"
   ]
  },
  {
   "cell_type": "code",
   "execution_count": null,
   "metadata": {},
   "outputs": [],
   "source": [
    "latest_subjects_mon.query('subject_id == 32497930').iloc[0]['metadata']"
   ]
  },
  {
   "cell_type": "code",
   "execution_count": null,
   "metadata": {},
   "outputs": [],
   "source": []
  },
  {
   "cell_type": "code",
   "execution_count": null,
   "metadata": {},
   "outputs": [],
   "source": [
    "len(latest_subjects_sat) == len(latest_subjects_mon)"
   ]
  },
  {
   "cell_type": "code",
   "execution_count": null,
   "metadata": {},
   "outputs": [],
   "source": []
  },
  {
   "cell_type": "code",
   "execution_count": null,
   "metadata": {},
   "outputs": [],
   "source": [
    "latest_subjects['retirement_reason'].value_counts()"
   ]
  },
  {
   "cell_type": "raw",
   "metadata": {},
   "source": [
    "classification_count    203379\n",
    "flagged                    694"
   ]
  },
  {
   "cell_type": "code",
   "execution_count": null,
   "metadata": {},
   "outputs": [],
   "source": [
    "json.loads(latest_subjects.query('subject_id == \"47209182\"')['locations'].iloc[0])['0']"
   ]
  },
  {
   "cell_type": "code",
   "execution_count": null,
   "metadata": {},
   "outputs": [],
   "source": [
    "latest_subjects['metadata'].values[-1]"
   ]
  },
  {
   "cell_type": "code",
   "execution_count": null,
   "metadata": {},
   "outputs": [],
   "source": [
    "latest_classifications['smooth-or-featured_total-votes'].sum()"
   ]
  },
  {
   "cell_type": "code",
   "execution_count": null,
   "metadata": {},
   "outputs": [],
   "source": []
  },
  {
   "cell_type": "code",
   "execution_count": null,
   "metadata": {},
   "outputs": [],
   "source": [
    "eagle = pd.read_csv('/media/walml/beta/misc_downloads/galaxy-zoo-subjects_2020_10_24.csv').query('subject_set_id == \"77652\"')"
   ]
  },
  {
   "cell_type": "code",
   "execution_count": null,
   "metadata": {},
   "outputs": [],
   "source": [
    "eagle"
   ]
  },
  {
   "cell_type": "code",
   "execution_count": null,
   "metadata": {},
   "outputs": [],
   "source": [
    "eagle['classifications_count'].hist()"
   ]
  },
  {
   "cell_type": "code",
   "execution_count": null,
   "metadata": {},
   "outputs": [],
   "source": [
    "pd.isna(eagle['retired_at']).mean()"
   ]
  },
  {
   "cell_type": "code",
   "execution_count": null,
   "metadata": {},
   "outputs": [],
   "source": []
  },
  {
   "cell_type": "code",
   "execution_count": null,
   "metadata": {},
   "outputs": [],
   "source": [
    "pd.isna(latest_subjects.query('subject_set_id == \"74905\"')['retired_at']).sum()"
   ]
  },
  {
   "cell_type": "code",
   "execution_count": null,
   "metadata": {},
   "outputs": [],
   "source": [
    "pd.isna(should_be_retired.query('subject_set_id == \"74905\"')['retired_at']).sum()"
   ]
  },
  {
   "cell_type": "code",
   "execution_count": null,
   "metadata": {},
   "outputs": [],
   "source": []
  },
  {
   "cell_type": "code",
   "execution_count": null,
   "metadata": {},
   "outputs": [],
   "source": []
  },
  {
   "cell_type": "code",
   "execution_count": null,
   "metadata": {},
   "outputs": [],
   "source": []
  },
  {
   "cell_type": "code",
   "execution_count": null,
   "metadata": {},
   "outputs": [],
   "source": [
    "all_s = pd.read_csv('/media/walml/beta/misc_downloads/galaxy-zoo-subjects_2020_10_24.csv')\n"
   ]
  },
  {
   "cell_type": "code",
   "execution_count": null,
   "metadata": {},
   "outputs": [],
   "source": [
    "\n",
    "s = [39357184,41985466,39690308,40354405,32503186]\n",
    "\n",
    "all_s[all_s['subject_id'].isin(s)]['subject_set_id'].value_counts()"
   ]
  },
  {
   "cell_type": "code",
   "execution_count": null,
   "metadata": {},
   "outputs": [],
   "source": []
  }
 ],
 "metadata": {
  "kernelspec": {
   "display_name": "Python 3",
   "language": "python",
   "name": "python3"
  },
  "language_info": {
   "codemirror_mode": {
    "name": "ipython",
    "version": 3
   },
   "file_extension": ".py",
   "mimetype": "text/x-python",
   "name": "python",
   "nbconvert_exporter": "python",
   "pygments_lexer": "ipython3",
   "version": "3.7.6"
  }
 },
 "nbformat": 4,
 "nbformat_minor": 4
}
