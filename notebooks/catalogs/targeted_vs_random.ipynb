{
 "cells": [
  {
   "cell_type": "code",
   "execution_count": 31,
   "metadata": {},
   "outputs": [],
   "source": [
    "import json\n",
    "\n",
    "import pandas as pd\n",
    "import matplotlib.pyplot as plt\n",
    "import seaborn as sns\n",
    "from astropy.table import Table\n",
    "sns.set_context('notebook')"
   ]
  },
  {
   "cell_type": "code",
   "execution_count": 2,
   "metadata": {},
   "outputs": [],
   "source": [
    "dr5_c = pd.read_csv('/home/walml/repos/zoobot/current_final_dr5_result_without_metadata.csv')"
   ]
  },
  {
   "cell_type": "code",
   "execution_count": 3,
   "metadata": {},
   "outputs": [],
   "source": [
    "\n",
    "nsa = Table.read('/media/walml/beta/galaxy_zoo/decals/catalogs/raw/nsa_v1_0_0.fits')\n",
    "nsa = nsa[['RA', 'DEC', 'IAUNAME']]\n",
    "\n",
    "nsa = nsa.to_pandas()\n",
    "for col in nsa.columns.values:\n",
    "    nsa[col.lower()] = nsa[col]\n",
    "    del nsa[col]\n",
    "\n",
    "nsa['iauname'] = nsa['iauname'].str.decode('utf8')"
   ]
  },
  {
   "cell_type": "code",
   "execution_count": 4,
   "metadata": {},
   "outputs": [
    {
     "data": {
      "text/html": [
       "<div>\n",
       "<style scoped>\n",
       "    .dataframe tbody tr th:only-of-type {\n",
       "        vertical-align: middle;\n",
       "    }\n",
       "\n",
       "    .dataframe tbody tr th {\n",
       "        vertical-align: top;\n",
       "    }\n",
       "\n",
       "    .dataframe thead th {\n",
       "        text-align: right;\n",
       "    }\n",
       "</style>\n",
       "<table border=\"1\" class=\"dataframe\">\n",
       "  <thead>\n",
       "    <tr style=\"text-align: right;\">\n",
       "      <th></th>\n",
       "      <th>ra</th>\n",
       "      <th>dec</th>\n",
       "      <th>iauname</th>\n",
       "    </tr>\n",
       "  </thead>\n",
       "  <tbody>\n",
       "    <tr>\n",
       "      <th>0</th>\n",
       "      <td>146.714215</td>\n",
       "      <td>-1.041280</td>\n",
       "      <td>J094651.40-010228.5</td>\n",
       "    </tr>\n",
       "    <tr>\n",
       "      <th>1</th>\n",
       "      <td>146.628585</td>\n",
       "      <td>-0.765162</td>\n",
       "      <td>J094630.85-004554.5</td>\n",
       "    </tr>\n",
       "    <tr>\n",
       "      <th>2</th>\n",
       "      <td>146.631706</td>\n",
       "      <td>-0.988347</td>\n",
       "      <td>J094631.59-005917.7</td>\n",
       "    </tr>\n",
       "    <tr>\n",
       "      <th>3</th>\n",
       "      <td>146.934129</td>\n",
       "      <td>-0.670405</td>\n",
       "      <td>J094744.18-004013.4</td>\n",
       "    </tr>\n",
       "    <tr>\n",
       "      <th>4</th>\n",
       "      <td>146.963500</td>\n",
       "      <td>-0.544776</td>\n",
       "      <td>J094751.74-003242.0</td>\n",
       "    </tr>\n",
       "    <tr>\n",
       "      <th>...</th>\n",
       "      <td>...</td>\n",
       "      <td>...</td>\n",
       "      <td>...</td>\n",
       "    </tr>\n",
       "    <tr>\n",
       "      <th>641404</th>\n",
       "      <td>357.755712</td>\n",
       "      <td>-10.010851</td>\n",
       "      <td>J235101.08-100042.7</td>\n",
       "    </tr>\n",
       "    <tr>\n",
       "      <th>641405</th>\n",
       "      <td>358.197549</td>\n",
       "      <td>-10.883763</td>\n",
       "      <td>J235247.10-105259.6</td>\n",
       "    </tr>\n",
       "    <tr>\n",
       "      <th>641406</th>\n",
       "      <td>358.336971</td>\n",
       "      <td>-10.544118</td>\n",
       "      <td>J235320.91-103238.7</td>\n",
       "    </tr>\n",
       "    <tr>\n",
       "      <th>641407</th>\n",
       "      <td>358.530488</td>\n",
       "      <td>-10.405839</td>\n",
       "      <td>J235406.94-102419.7</td>\n",
       "    </tr>\n",
       "    <tr>\n",
       "      <th>641408</th>\n",
       "      <td>358.562009</td>\n",
       "      <td>-10.236361</td>\n",
       "      <td>J235414.90-101409.4</td>\n",
       "    </tr>\n",
       "  </tbody>\n",
       "</table>\n",
       "<p>641409 rows × 3 columns</p>\n",
       "</div>"
      ],
      "text/plain": [
       "                ra        dec              iauname\n",
       "0       146.714215  -1.041280  J094651.40-010228.5\n",
       "1       146.628585  -0.765162  J094630.85-004554.5\n",
       "2       146.631706  -0.988347  J094631.59-005917.7\n",
       "3       146.934129  -0.670405  J094744.18-004013.4\n",
       "4       146.963500  -0.544776  J094751.74-003242.0\n",
       "...            ...        ...                  ...\n",
       "641404  357.755712 -10.010851  J235101.08-100042.7\n",
       "641405  358.197549 -10.883763  J235247.10-105259.6\n",
       "641406  358.336971 -10.544118  J235320.91-103238.7\n",
       "641407  358.530488 -10.405839  J235406.94-102419.7\n",
       "641408  358.562009 -10.236361  J235414.90-101409.4\n",
       "\n",
       "[641409 rows x 3 columns]"
      ]
     },
     "execution_count": 4,
     "metadata": {},
     "output_type": "execute_result"
    }
   ],
   "source": [
    "nsa"
   ]
  },
  {
   "cell_type": "code",
   "execution_count": 5,
   "metadata": {},
   "outputs": [],
   "source": [
    "nsa_classified = pd.merge(nsa, dr5_c, on='iauname', how='inner')"
   ]
  },
  {
   "cell_type": "code",
   "execution_count": 6,
   "metadata": {},
   "outputs": [],
   "source": [
    "nsa_classified['high_retirement'] = nsa_classified['smooth-or-featured_total-votes'] > 37"
   ]
  },
  {
   "cell_type": "code",
   "execution_count": 7,
   "metadata": {},
   "outputs": [],
   "source": [
    "nsa_classified = nsa_classified.reset_index(drop=True)"
   ]
  },
  {
   "cell_type": "code",
   "execution_count": 8,
   "metadata": {},
   "outputs": [
    {
     "data": {
      "text/plain": [
       "active_baseline    192496\n",
       "pre_active          50946\n",
       "active_priority      6939\n",
       "calibration          1594\n",
       "targeted             1250\n",
       "Name: upload_group, dtype: int64"
      ]
     },
     "execution_count": 8,
     "metadata": {},
     "output_type": "execute_result"
    }
   ],
   "source": [
    "nsa_classified['upload_group'].value_counts()"
   ]
  },
  {
   "cell_type": "code",
   "execution_count": 9,
   "metadata": {},
   "outputs": [
    {
     "data": {
      "text/plain": [
       "(array([6035., 3268., 1527., 3568., 3114., 1774.,  723.,  186.,  263.,\n",
       "        1237., 1668., 1579.,  364.,  116.,  179.,  138.,  216.,  166.,\n",
       "         182.,  162.,  179.,  143.,  130.,  136.,  169.,  158.,  138.,\n",
       "         139.,  163.,  224.,  202.,  192.,  171.,  175.,  171.,  231.,\n",
       "         219.,  169.,  177.,  207.]),\n",
       " array([     0.   ,   6330.025,  12660.05 ,  18990.075,  25320.1  ,\n",
       "         31650.125,  37980.15 ,  44310.175,  50640.2  ,  56970.225,\n",
       "         63300.25 ,  69630.275,  75960.3  ,  82290.325,  88620.35 ,\n",
       "         94950.375, 101280.4  , 107610.425, 113940.45 , 120270.475,\n",
       "        126600.5  , 132930.525, 139260.55 , 145590.575, 151920.6  ,\n",
       "        158250.625, 164580.65 , 170910.675, 177240.7  , 183570.725,\n",
       "        189900.75 , 196230.775, 202560.8  , 208890.825, 215220.85 ,\n",
       "        221550.875, 227880.9  , 234210.925, 240540.95 , 246870.975,\n",
       "        253201.   ]),\n",
       " <a list of 40 Patch objects>)"
      ]
     },
     "execution_count": 9,
     "metadata": {},
     "output_type": "execute_result"
    },
    {
     "data": {
      "image/png": "[encoded data removed]",
      "text/plain": [
       "<Figure size 432x288 with 1 Axes>"
      ]
     },
     "metadata": {
      "needs_background": "light"
     },
     "output_type": "display_data"
    }
   ],
   "source": [
    "plt.hist(nsa_classified[nsa_classified['high_retirement']].index.values, bins=40)"
   ]
  },
  {
   "cell_type": "code",
   "execution_count": 10,
   "metadata": {},
   "outputs": [
    {
     "data": {
      "text/plain": [
       "(array([5.909e+03, 3.263e+03, 1.490e+03, 3.438e+03, 3.088e+03, 1.719e+03,\n",
       "        6.110e+02, 1.600e+01, 1.500e+02, 1.110e+03, 1.598e+03, 1.547e+03,\n",
       "        2.350e+02, 8.000e+00, 1.000e+01, 3.000e+00, 2.000e+01, 1.400e+01,\n",
       "        1.600e+01, 1.800e+01, 1.000e+01, 1.400e+01, 8.000e+00, 1.000e+01,\n",
       "        2.100e+01, 1.900e+01, 8.000e+00, 1.800e+01, 9.000e+00, 2.600e+01,\n",
       "        2.400e+01, 1.100e+01, 2.700e+01, 1.300e+01, 1.000e+00, 3.000e+00,\n",
       "        1.800e+01, 8.000e+00, 1.200e+01, 1.900e+01]),\n",
       " array([     0.   ,   6329.525,  12659.05 ,  18988.575,  25318.1  ,\n",
       "         31647.625,  37977.15 ,  44306.675,  50636.2  ,  56965.725,\n",
       "         63295.25 ,  69624.775,  75954.3  ,  82283.825,  88613.35 ,\n",
       "         94942.875, 101272.4  , 107601.925, 113931.45 , 120260.975,\n",
       "        126590.5  , 132920.025, 139249.55 , 145579.075, 151908.6  ,\n",
       "        158238.125, 164567.65 , 170897.175, 177226.7  , 183556.225,\n",
       "        189885.75 , 196215.275, 202544.8  , 208874.325, 215203.85 ,\n",
       "        221533.375, 227862.9  , 234192.425, 240521.95 , 246851.475,\n",
       "        253181.   ]),\n",
       " <a list of 40 Patch objects>)"
      ]
     },
     "execution_count": 10,
     "metadata": {},
     "output_type": "execute_result"
    },
    {
     "data": {
      "image/png": "[encoded data removed]",
      "text/plain": [
       "<Figure size 432x288 with 1 Axes>"
      ]
     },
     "metadata": {
      "needs_background": "light"
     },
     "output_type": "display_data"
    }
   ],
   "source": [
    "plt.hist(nsa_classified[nsa_classified['upload_group'].isin(['pre_active', 'targeted'])].query('high_retirement').index.values, bins=40)"
   ]
  },
  {
   "cell_type": "code",
   "execution_count": 11,
   "metadata": {},
   "outputs": [
    {
     "data": {
      "text/plain": [
       "(array([619., 764., 761., 760., 750., 743., 738., 609., 594., 456., 504.,\n",
       "        557., 526., 296., 380.,  97.,  29.,   8.,  10.,   9.,  23., 540.,\n",
       "        318., 249., 410.,  40.,  16., 532., 563., 529., 555., 552., 572.,\n",
       "        565., 546., 557., 524., 163., 196., 241., 246., 187., 197., 209.,\n",
       "        292., 265., 187., 180., 180.,  88.,  57., 166., 169., 166.,   0.,\n",
       "          0.,   0.,   0.,   0.,   0.,   0.,   0.,   0.,   0.,   0.,   0.,\n",
       "          0.,   0.,  54.,  92.,   0.,   0.,   0.,   0.,   0.,  20., 185.,\n",
       "        195., 165., 140., 152., 174., 181., 220., 215., 280.,  20., 207.,\n",
       "        202., 219., 174., 119., 142., 174., 207., 220., 208., 210., 218.,\n",
       "        213.]),\n",
       " array([    0.  ,   767.99,  1535.98,  2303.97,  3071.96,  3839.95,\n",
       "         4607.94,  5375.93,  6143.92,  6911.91,  7679.9 ,  8447.89,\n",
       "         9215.88,  9983.87, 10751.86, 11519.85, 12287.84, 13055.83,\n",
       "        13823.82, 14591.81, 15359.8 , 16127.79, 16895.78, 17663.77,\n",
       "        18431.76, 19199.75, 19967.74, 20735.73, 21503.72, 22271.71,\n",
       "        23039.7 , 23807.69, 24575.68, 25343.67, 26111.66, 26879.65,\n",
       "        27647.64, 28415.63, 29183.62, 29951.61, 30719.6 , 31487.59,\n",
       "        32255.58, 33023.57, 33791.56, 34559.55, 35327.54, 36095.53,\n",
       "        36863.52, 37631.51, 38399.5 , 39167.49, 39935.48, 40703.47,\n",
       "        41471.46, 42239.45, 43007.44, 43775.43, 44543.42, 45311.41,\n",
       "        46079.4 , 46847.39, 47615.38, 48383.37, 49151.36, 49919.35,\n",
       "        50687.34, 51455.33, 52223.32, 52991.31, 53759.3 , 54527.29,\n",
       "        55295.28, 56063.27, 56831.26, 57599.25, 58367.24, 59135.23,\n",
       "        59903.22, 60671.21, 61439.2 , 62207.19, 62975.18, 63743.17,\n",
       "        64511.16, 65279.15, 66047.14, 66815.13, 67583.12, 68351.11,\n",
       "        69119.1 , 69887.09, 70655.08, 71423.07, 72191.06, 72959.05,\n",
       "        73727.04, 74495.03, 75263.02, 76031.01, 76799.  ]),\n",
       " <a list of 100 Patch objects>)"
      ]
     },
     "execution_count": 11,
     "metadata": {},
     "output_type": "execute_result"
    },
    {
     "data": {
      "image/png": "[encoded data removed]",
      "text/plain": [
       "<Figure size 432x288 with 1 Axes>"
      ]
     },
     "metadata": {
      "needs_background": "light"
     },
     "output_type": "display_data"
    }
   ],
   "source": [
    "plt.hist(nsa_classified[nsa_classified['upload_group'].isin(['pre_active'])].query('high_retirement').index.values, bins=100)"
   ]
  },
  {
   "cell_type": "code",
   "execution_count": 12,
   "metadata": {},
   "outputs": [],
   "source": [
    "# broadly, galaxies from 0-42k and 57k-73k were uploaded and classified to N=40, and the rest were not (N=5)\n",
    "# getting the exact numbers:\n",
    "random = nsa_classified[nsa_classified['upload_group'].isin(['pre_active'])]"
   ]
  },
  {
   "cell_type": "code",
   "execution_count": 13,
   "metadata": {},
   "outputs": [
    {
     "data": {
      "text/plain": [
       "41402    False\n",
       "41403    False\n",
       "41404    False\n",
       "41405     True\n",
       "41406    False\n",
       "41407    False\n",
       "41408     True\n",
       "41409    False\n",
       "52772    False\n",
       "52773    False\n",
       "52774    False\n",
       "52775    False\n",
       "52776    False\n",
       "52777    False\n",
       "52778    False\n",
       "52779     True\n",
       "52780    False\n",
       "52781     True\n",
       "52782     True\n",
       "52783    False\n",
       "52784    False\n",
       "52785     True\n",
       "52786    False\n",
       "52787    False\n",
       "52788    False\n",
       "52789     True\n",
       "52790    False\n",
       "52791    False\n",
       "52792    False\n",
       "52793     True\n",
       "Name: high_retirement, dtype: bool"
      ]
     },
     "execution_count": 13,
     "metadata": {},
     "output_type": "execute_result"
    }
   ],
   "source": [
    "# <= 41442\n",
    "random.iloc[35460:35490]['high_retirement']"
   ]
  },
  {
   "cell_type": "code",
   "execution_count": 14,
   "metadata": {},
   "outputs": [
    {
     "data": {
      "text/plain": [
       "53268     True\n",
       "53269     True\n",
       "53270    False\n",
       "53271     True\n",
       "53272    False\n",
       "53273    False\n",
       "53274    False\n",
       "53275    False\n",
       "58294    False\n",
       "58295     True\n",
       "58296    False\n",
       "58297    False\n",
       "58298    False\n",
       "58299    False\n",
       "58300    False\n",
       "58301    False\n",
       "58302    False\n",
       "58303     True\n",
       "58304    False\n",
       "58305    False\n",
       "Name: high_retirement, dtype: bool"
      ]
     },
     "execution_count": 14,
     "metadata": {},
     "output_type": "execute_result"
    }
   ],
   "source": [
    "# >= 54615, except for a little spike near 5k\n",
    "random.iloc[35960:35980]['high_retirement']"
   ]
  },
  {
   "cell_type": "code",
   "execution_count": 15,
   "metadata": {},
   "outputs": [
    {
     "data": {
      "text/plain": [
       "76801"
      ]
     },
     "execution_count": 15,
     "metadata": {},
     "output_type": "execute_result"
    }
   ],
   "source": [
    "# <=72710\n",
    "random.index.values.max()"
   ]
  },
  {
   "cell_type": "code",
   "execution_count": null,
   "metadata": {},
   "outputs": [],
   "source": []
  },
  {
   "cell_type": "code",
   "execution_count": null,
   "metadata": {},
   "outputs": [],
   "source": []
  },
  {
   "cell_type": "code",
   "execution_count": null,
   "metadata": {},
   "outputs": [],
   "source": []
  },
  {
   "cell_type": "code",
   "execution_count": 39,
   "metadata": {},
   "outputs": [],
   "source": [
    "targeted = nsa_classified[nsa_classified['upload_group'].isin(['targeted'])]  # index not reset, important"
   ]
  },
  {
   "cell_type": "code",
   "execution_count": 40,
   "metadata": {},
   "outputs": [
    {
     "data": {
      "text/plain": [
       "<matplotlib.lines.Line2D at 0x7fad8d02a950>"
      ]
     },
     "execution_count": 40,
     "metadata": {},
     "output_type": "execute_result"
    },
    {
     "data": {
      "image/png": "[encoded data removed]",
      "text/plain": [
       "<Figure size 432x288 with 1 Axes>"
      ]
     },
     "metadata": {
      "needs_background": "light"
     },
     "output_type": "display_data"
    }
   ],
   "source": [
    "plt.hist(targeted.index.values, bins=40)\n",
    "plt.axvline(41442, color='r')\n",
    "plt.axvline(54615, color='r')\n",
    "plt.axvline(72710, color='r')"
   ]
  },
  {
   "cell_type": "code",
   "execution_count": 41,
   "metadata": {},
   "outputs": [
    {
     "data": {
      "text/plain": [
       "(1250, 105, 0.084)"
      ]
     },
     "execution_count": 41,
     "metadata": {},
     "output_type": "execute_result"
    }
   ],
   "source": [
    "would_have_included = (targeted.index.values <= 41442) | ( (targeted.index.values >= 54615) & (targeted.index.values < 72710))\n",
    "len(targeted), would_have_included.sum(), would_have_included.mean()"
   ]
  },
  {
   "cell_type": "code",
   "execution_count": 42,
   "metadata": {},
   "outputs": [
    {
     "data": {
      "text/plain": [
       "1145"
      ]
     },
     "execution_count": 42,
     "metadata": {},
     "output_type": "execute_result"
    }
   ],
   "source": [
    "len(targeted) - would_have_included.sum()"
   ]
  },
  {
   "cell_type": "code",
   "execution_count": 43,
   "metadata": {},
   "outputs": [],
   "source": [
    "with open('targeted_galaxies_would_include.json', 'w') as f:\n",
    "    json.dump(list(targeted[would_have_included]['iauname']), f)"
   ]
  },
  {
   "cell_type": "code",
   "execution_count": null,
   "metadata": {},
   "outputs": [],
   "source": []
  },
  {
   "cell_type": "code",
   "execution_count": null,
   "metadata": {},
   "outputs": [],
   "source": []
  },
  {
   "cell_type": "code",
   "execution_count": 44,
   "metadata": {},
   "outputs": [],
   "source": [
    "calibration = nsa_classified[nsa_classified['upload_group'].isin(['calibration'])]"
   ]
  },
  {
   "cell_type": "code",
   "execution_count": 45,
   "metadata": {},
   "outputs": [
    {
     "data": {
      "text/plain": [
       "(1594, 943, 0.5915934755332497)"
      ]
     },
     "execution_count": 45,
     "metadata": {},
     "output_type": "execute_result"
    }
   ],
   "source": [
    "would_have_included = (calibration.index.values <= 41442) | ( (calibration.index.values >= 54615) & (calibration.index.values < 72710))\n",
    "len(calibration), would_have_included.sum(), would_have_included.mean()"
   ]
  },
  {
   "cell_type": "code",
   "execution_count": 46,
   "metadata": {},
   "outputs": [
    {
     "data": {
      "text/plain": [
       "651"
      ]
     },
     "execution_count": 46,
     "metadata": {},
     "output_type": "execute_result"
    }
   ],
   "source": [
    "len(calibration) - would_have_included.sum()"
   ]
  },
  {
   "cell_type": "code",
   "execution_count": 47,
   "metadata": {},
   "outputs": [],
   "source": [
    "with open('calibration_galaxies_would_include.json', 'w') as f:\n",
    "    json.dump(list(calibration[would_have_included]['iauname']), f)"
   ]
  },
  {
   "cell_type": "code",
   "execution_count": null,
   "metadata": {},
   "outputs": [],
   "source": []
  },
  {
   "cell_type": "code",
   "execution_count": null,
   "metadata": {},
   "outputs": [],
   "source": []
  },
  {
   "cell_type": "code",
   "execution_count": 48,
   "metadata": {},
   "outputs": [
    {
     "name": "stdout",
     "output_type": "stream",
     "text": [
      "/home/walml/repos/zoobot/notebooks/catalogs\n"
     ]
    }
   ],
   "source": [
    "!pwd"
   ]
  },
  {
   "cell_type": "code",
   "execution_count": null,
   "metadata": {},
   "outputs": [],
   "source": []
  }
 ],
 "metadata": {
  "kernelspec": {
   "display_name": "Python 3",
   "language": "python",
   "name": "python3"
  },
  "language_info": {
   "codemirror_mode": {
    "name": "ipython",
    "version": 3
   },
   "file_extension": ".py",
   "mimetype": "text/x-python",
   "name": "python",
   "nbconvert_exporter": "python",
   "pygments_lexer": "ipython3",
   "version": "3.7.6"
  }
 },
 "nbformat": 4,
 "nbformat_minor": 4
}
