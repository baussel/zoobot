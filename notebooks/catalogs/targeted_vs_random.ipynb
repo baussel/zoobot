{
 "cells": [
  {
   "cell_type": "code",
   "execution_count": 4,
   "metadata": {},
   "outputs": [],
   "source": [
    "import pandas as pd\n",
    "import matplotlib.pyplot as plt\n",
    "import seaborn as sns\n",
    "from astropy.table import Table\n",
    "sns.set_context('notebook')"
   ]
  },
  {
   "cell_type": "code",
   "execution_count": 2,
   "metadata": {},
   "outputs": [],
   "source": [
    "dr5_c = pd.read_csv('/home/walml/repos/zoobot/current_final_dr5_result_without_metadata.csv')"
   ]
  },
  {
   "cell_type": "code",
   "execution_count": 5,
   "metadata": {},
   "outputs": [],
   "source": [
    "\n",
    "nsa = Table.read('/media/walml/beta/galaxy_zoo/decals/catalogs/raw/nsa_v1_0_0.fits')\n",
    "nsa = nsa[['RA', 'DEC', 'IAUNAME']]\n",
    "\n",
    "nsa = nsa.to_pandas()\n",
    "for col in nsa.columns.values:\n",
    "    nsa[col.lower()] = nsa[col]\n",
    "    del nsa[col]\n",
    "\n",
    "nsa['iauname'] = nsa['iauname'].str.decode('utf8')"
   ]
  },
  {
   "cell_type": "code",
   "execution_count": 144,
   "metadata": {},
   "outputs": [
    {
     "data": {
      "text/html": [
       "<div>\n",
       "<style scoped>\n",
       "    .dataframe tbody tr th:only-of-type {\n",
       "        vertical-align: middle;\n",
       "    }\n",
       "\n",
       "    .dataframe tbody tr th {\n",
       "        vertical-align: top;\n",
       "    }\n",
       "\n",
       "    .dataframe thead th {\n",
       "        text-align: right;\n",
       "    }\n",
       "</style>\n",
       "<table border=\"1\" class=\"dataframe\">\n",
       "  <thead>\n",
       "    <tr style=\"text-align: right;\">\n",
       "      <th></th>\n",
       "      <th>ra</th>\n",
       "      <th>dec</th>\n",
       "      <th>iauname</th>\n",
       "    </tr>\n",
       "  </thead>\n",
       "  <tbody>\n",
       "    <tr>\n",
       "      <th>0</th>\n",
       "      <td>146.714215</td>\n",
       "      <td>-1.041280</td>\n",
       "      <td>J094651.40-010228.5</td>\n",
       "    </tr>\n",
       "    <tr>\n",
       "      <th>1</th>\n",
       "      <td>146.628585</td>\n",
       "      <td>-0.765162</td>\n",
       "      <td>J094630.85-004554.5</td>\n",
       "    </tr>\n",
       "    <tr>\n",
       "      <th>2</th>\n",
       "      <td>146.631706</td>\n",
       "      <td>-0.988347</td>\n",
       "      <td>J094631.59-005917.7</td>\n",
       "    </tr>\n",
       "    <tr>\n",
       "      <th>3</th>\n",
       "      <td>146.934129</td>\n",
       "      <td>-0.670405</td>\n",
       "      <td>J094744.18-004013.4</td>\n",
       "    </tr>\n",
       "    <tr>\n",
       "      <th>4</th>\n",
       "      <td>146.963500</td>\n",
       "      <td>-0.544776</td>\n",
       "      <td>J094751.74-003242.0</td>\n",
       "    </tr>\n",
       "    <tr>\n",
       "      <th>...</th>\n",
       "      <td>...</td>\n",
       "      <td>...</td>\n",
       "      <td>...</td>\n",
       "    </tr>\n",
       "    <tr>\n",
       "      <th>641404</th>\n",
       "      <td>357.755712</td>\n",
       "      <td>-10.010851</td>\n",
       "      <td>J235101.08-100042.7</td>\n",
       "    </tr>\n",
       "    <tr>\n",
       "      <th>641405</th>\n",
       "      <td>358.197549</td>\n",
       "      <td>-10.883763</td>\n",
       "      <td>J235247.10-105259.6</td>\n",
       "    </tr>\n",
       "    <tr>\n",
       "      <th>641406</th>\n",
       "      <td>358.336971</td>\n",
       "      <td>-10.544118</td>\n",
       "      <td>J235320.91-103238.7</td>\n",
       "    </tr>\n",
       "    <tr>\n",
       "      <th>641407</th>\n",
       "      <td>358.530488</td>\n",
       "      <td>-10.405839</td>\n",
       "      <td>J235406.94-102419.7</td>\n",
       "    </tr>\n",
       "    <tr>\n",
       "      <th>641408</th>\n",
       "      <td>358.562009</td>\n",
       "      <td>-10.236361</td>\n",
       "      <td>J235414.90-101409.4</td>\n",
       "    </tr>\n",
       "  </tbody>\n",
       "</table>\n",
       "<p>641409 rows × 3 columns</p>\n",
       "</div>"
      ],
      "text/plain": [
       "                ra        dec              iauname\n",
       "0       146.714215  -1.041280  J094651.40-010228.5\n",
       "1       146.628585  -0.765162  J094630.85-004554.5\n",
       "2       146.631706  -0.988347  J094631.59-005917.7\n",
       "3       146.934129  -0.670405  J094744.18-004013.4\n",
       "4       146.963500  -0.544776  J094751.74-003242.0\n",
       "...            ...        ...                  ...\n",
       "641404  357.755712 -10.010851  J235101.08-100042.7\n",
       "641405  358.197549 -10.883763  J235247.10-105259.6\n",
       "641406  358.336971 -10.544118  J235320.91-103238.7\n",
       "641407  358.530488 -10.405839  J235406.94-102419.7\n",
       "641408  358.562009 -10.236361  J235414.90-101409.4\n",
       "\n",
       "[641409 rows x 3 columns]"
      ]
     },
     "execution_count": 144,
     "metadata": {},
     "output_type": "execute_result"
    }
   ],
   "source": [
    "nsa"
   ]
  },
  {
   "cell_type": "code",
   "execution_count": 55,
   "metadata": {},
   "outputs": [],
   "source": [
    "nsa_classified = pd.merge(nsa, dr5_c, on='iauname', how='inner')"
   ]
  },
  {
   "cell_type": "code",
   "execution_count": 56,
   "metadata": {},
   "outputs": [],
   "source": [
    "nsa_classified['high_retirement'] = nsa_classified['smooth-or-featured_total-votes'] > 37"
   ]
  },
  {
   "cell_type": "code",
   "execution_count": 57,
   "metadata": {},
   "outputs": [],
   "source": [
    "nsa_classified = nsa_classified.reset_index(drop=True)"
   ]
  },
  {
   "cell_type": "code",
   "execution_count": 58,
   "metadata": {},
   "outputs": [
    {
     "data": {
      "text/plain": [
       "active_random               163821\n",
       "pre_active                   50946\n",
       "active_priority               6999\n",
       "targeted                      1387\n",
       "calibration_nair_dr2_dr5      1262\n",
       "Name: upload_group, dtype: int64"
      ]
     },
     "execution_count": 58,
     "metadata": {},
     "output_type": "execute_result"
    }
   ],
   "source": [
    "nsa_classified['upload_group'].value_counts()"
   ]
  },
  {
   "cell_type": "code",
   "execution_count": 59,
   "metadata": {},
   "outputs": [
    {
     "data": {
      "text/plain": [
       "(array([5608., 5610., 5375., 3816., 5599., 4113., 4719., 2015.,  774.,\n",
       "        1583., 4594., 4265., 5258.,  282.,  307.,  204.,  224.,  342.,\n",
       "         195.,  219.,  247.,  236.,  141.,  180.,  196.,  251.,  195.,\n",
       "         164.,  201.,  305.,  185.,  317.,  273.,  247.,  254.,  256.,\n",
       "         331.,  191.,  237.,  339.]),\n",
       " array([     0.   ,   5610.325,  11220.65 ,  16830.975,  22441.3  ,\n",
       "         28051.625,  33661.95 ,  39272.275,  44882.6  ,  50492.925,\n",
       "         56103.25 ,  61713.575,  67323.9  ,  72934.225,  78544.55 ,\n",
       "         84154.875,  89765.2  ,  95375.525, 100985.85 , 106596.175,\n",
       "        112206.5  , 117816.825, 123427.15 , 129037.475, 134647.8  ,\n",
       "        140258.125, 145868.45 , 151478.775, 157089.1  , 162699.425,\n",
       "        168309.75 , 173920.075, 179530.4  , 185140.725, 190751.05 ,\n",
       "        196361.375, 201971.7  , 207582.025, 213192.35 , 218802.675,\n",
       "        224413.   ]),\n",
       " <a list of 40 Patch objects>)"
      ]
     },
     "execution_count": 59,
     "metadata": {},
     "output_type": "execute_result"
    },
    {
     "data": {
      "image/png": "[encoded data removed]",
      "text/plain": [
       "<Figure size 432x288 with 1 Axes>"
      ]
     },
     "metadata": {
      "needs_background": "light"
     },
     "output_type": "display_data"
    }
   ],
   "source": [
    "plt.hist(nsa_classified[nsa_classified['high_retirement']].index.values, bins=40)"
   ]
  },
  {
   "cell_type": "code",
   "execution_count": 60,
   "metadata": {},
   "outputs": [
    {
     "data": {
      "text/plain": [
       "(array([5.405e+03, 5.542e+03, 5.301e+03, 3.482e+03, 5.598e+03, 3.904e+03,\n",
       "        4.620e+03, 1.761e+03, 5.370e+02, 1.368e+03, 4.373e+03, 4.114e+03,\n",
       "        5.215e+03, 4.500e+01, 4.000e+01, 3.000e+01, 3.300e+01, 6.200e+01,\n",
       "        3.800e+01, 4.300e+01, 5.200e+01, 4.800e+01, 1.800e+01, 4.500e+01,\n",
       "        5.400e+01, 7.100e+01, 4.000e+01, 3.200e+01, 4.300e+01, 5.800e+01,\n",
       "        3.500e+01, 5.500e+01, 7.600e+01, 4.400e+01, 9.000e+00, 5.000e+00,\n",
       "        3.600e+01, 2.000e+01, 2.000e+01, 6.100e+01]),\n",
       " array([     0. ,   5609.4,  11218.8,  16828.2,  22437.6,  28047. ,\n",
       "         33656.4,  39265.8,  44875.2,  50484.6,  56094. ,  61703.4,\n",
       "         67312.8,  72922.2,  78531.6,  84141. ,  89750.4,  95359.8,\n",
       "        100969.2, 106578.6, 112188. , 117797.4, 123406.8, 129016.2,\n",
       "        134625.6, 140235. , 145844.4, 151453.8, 157063.2, 162672.6,\n",
       "        168282. , 173891.4, 179500.8, 185110.2, 190719.6, 196329. ,\n",
       "        201938.4, 207547.8, 213157.2, 218766.6, 224376. ]),\n",
       " <a list of 40 Patch objects>)"
      ]
     },
     "execution_count": 60,
     "metadata": {},
     "output_type": "execute_result"
    },
    {
     "data": {
      "image/png": "[encoded data removed]",
      "text/plain": [
       "<Figure size 432x288 with 1 Axes>"
      ]
     },
     "metadata": {
      "needs_background": "light"
     },
     "output_type": "display_data"
    }
   ],
   "source": [
    "plt.hist(nsa_classified[nsa_classified['upload_group'].isin(['pre_active', 'targeted'])].query('high_retirement').index.values, bins=40)"
   ]
  },
  {
   "cell_type": "code",
   "execution_count": 61,
   "metadata": {},
   "outputs": [
    {
     "data": {
      "text/plain": [
       "(array([579., 723., 724., 715., 715., 697., 718., 720., 715., 708., 726.,\n",
       "        719., 718., 718., 723., 710., 725., 690., 525., 727., 717., 681.,\n",
       "        725., 483., 438., 426., 268.,   0., 571., 727., 728., 726., 726.,\n",
       "        727., 727., 727., 721., 724., 581., 389., 429., 633., 565., 456.,\n",
       "        519., 529., 725., 725., 727., 727., 726., 473., 195., 521., 687.,\n",
       "        619., 405.,   0.,   0.,   0.,   0.,   0.,   0.,   0.,   0.,   0.,\n",
       "          0.,   0., 328., 172.,   0.,   0.,   0.,   0.,   0., 606., 632.,\n",
       "        717., 386., 461., 311., 575., 662., 716., 722., 429., 384., 726.,\n",
       "        602., 465., 495., 597., 443., 721., 724., 719., 723., 724., 723.,\n",
       "        715.]),\n",
       " array([    0. ,   727.1,  1454.2,  2181.3,  2908.4,  3635.5,  4362.6,\n",
       "         5089.7,  5816.8,  6543.9,  7271. ,  7998.1,  8725.2,  9452.3,\n",
       "        10179.4, 10906.5, 11633.6, 12360.7, 13087.8, 13814.9, 14542. ,\n",
       "        15269.1, 15996.2, 16723.3, 17450.4, 18177.5, 18904.6, 19631.7,\n",
       "        20358.8, 21085.9, 21813. , 22540.1, 23267.2, 23994.3, 24721.4,\n",
       "        25448.5, 26175.6, 26902.7, 27629.8, 28356.9, 29084. , 29811.1,\n",
       "        30538.2, 31265.3, 31992.4, 32719.5, 33446.6, 34173.7, 34900.8,\n",
       "        35627.9, 36355. , 37082.1, 37809.2, 38536.3, 39263.4, 39990.5,\n",
       "        40717.6, 41444.7, 42171.8, 42898.9, 43626. , 44353.1, 45080.2,\n",
       "        45807.3, 46534.4, 47261.5, 47988.6, 48715.7, 49442.8, 50169.9,\n",
       "        50897. , 51624.1, 52351.2, 53078.3, 53805.4, 54532.5, 55259.6,\n",
       "        55986.7, 56713.8, 57440.9, 58168. , 58895.1, 59622.2, 60349.3,\n",
       "        61076.4, 61803.5, 62530.6, 63257.7, 63984.8, 64711.9, 65439. ,\n",
       "        66166.1, 66893.2, 67620.3, 68347.4, 69074.5, 69801.6, 70528.7,\n",
       "        71255.8, 71982.9, 72710. ]),\n",
       " <a list of 100 Patch objects>)"
      ]
     },
     "execution_count": 61,
     "metadata": {},
     "output_type": "execute_result"
    },
    {
     "data": {
      "image/png": "[encoded data removed]",
      "text/plain": [
       "<Figure size 432x288 with 1 Axes>"
      ]
     },
     "metadata": {
      "needs_background": "light"
     },
     "output_type": "display_data"
    }
   ],
   "source": [
    "plt.hist(nsa_classified[nsa_classified['upload_group'].isin(['pre_active'])].query('high_retirement').index.values, bins=100)"
   ]
  },
  {
   "cell_type": "code",
   "execution_count": 62,
   "metadata": {},
   "outputs": [],
   "source": [
    "# broadly, galaxies from 0-42k and 57k-73k were uploaded and classified to N=40, and the rest were not (N=5)\n",
    "# getting the exact numbers:\n",
    "random = nsa_classified[nsa_classified['upload_group'].isin(['pre_active'])]"
   ]
  },
  {
   "cell_type": "code",
   "execution_count": 96,
   "metadata": {},
   "outputs": [
    {
     "data": {
      "text/plain": [
       "41135    True\n",
       "41136    True\n",
       "41137    True\n",
       "41138    True\n",
       "41139    True\n",
       "41140    True\n",
       "41141    True\n",
       "41142    True\n",
       "49841    True\n",
       "49842    True\n",
       "49843    True\n",
       "49844    True\n",
       "49845    True\n",
       "49846    True\n",
       "49847    True\n",
       "49848    True\n",
       "49849    True\n",
       "49850    True\n",
       "49851    True\n",
       "49852    True\n",
       "49853    True\n",
       "49854    True\n",
       "49855    True\n",
       "49856    True\n",
       "49857    True\n",
       "49858    True\n",
       "49859    True\n",
       "49860    True\n",
       "49861    True\n",
       "49862    True\n",
       "Name: high_retirement, dtype: bool"
      ]
     },
     "execution_count": 96,
     "metadata": {},
     "output_type": "execute_result"
    }
   ],
   "source": [
    "# <= 41442\n",
    "random.iloc[35460:35490]['high_retirement']"
   ]
  },
  {
   "cell_type": "code",
   "execution_count": 127,
   "metadata": {},
   "outputs": [
    {
     "data": {
      "text/plain": [
       "50336    True\n",
       "50337    True\n",
       "50338    True\n",
       "50339    True\n",
       "50340    True\n",
       "50341    True\n",
       "50342    True\n",
       "50343    True\n",
       "54615    True\n",
       "54616    True\n",
       "54617    True\n",
       "54618    True\n",
       "54619    True\n",
       "54620    True\n",
       "54621    True\n",
       "54622    True\n",
       "54623    True\n",
       "54624    True\n",
       "54625    True\n",
       "54626    True\n",
       "Name: high_retirement, dtype: bool"
      ]
     },
     "execution_count": 127,
     "metadata": {},
     "output_type": "execute_result"
    }
   ],
   "source": [
    "# >= 54615, except for a little spike near 5k\n",
    "random.iloc[35960:35980]['high_retirement']"
   ]
  },
  {
   "cell_type": "code",
   "execution_count": 129,
   "metadata": {},
   "outputs": [
    {
     "data": {
      "text/plain": [
       "72710"
      ]
     },
     "execution_count": 129,
     "metadata": {},
     "output_type": "execute_result"
    }
   ],
   "source": [
    "# <=72710\n",
    "random.index.values.max()"
   ]
  },
  {
   "cell_type": "code",
   "execution_count": null,
   "metadata": {},
   "outputs": [],
   "source": []
  },
  {
   "cell_type": "code",
   "execution_count": null,
   "metadata": {},
   "outputs": [],
   "source": []
  },
  {
   "cell_type": "code",
   "execution_count": null,
   "metadata": {},
   "outputs": [],
   "source": []
  },
  {
   "cell_type": "code",
   "execution_count": 135,
   "metadata": {},
   "outputs": [],
   "source": [
    "targeted = nsa_classified[nsa_classified['upload_group'].isin(['targeted'])]"
   ]
  },
  {
   "cell_type": "code",
   "execution_count": 136,
   "metadata": {},
   "outputs": [
    {
     "data": {
      "text/plain": [
       "<matplotlib.lines.Line2D at 0x7f883b143850>"
      ]
     },
     "execution_count": 136,
     "metadata": {},
     "output_type": "execute_result"
    },
    {
     "data": {
      "image/png": "[encoded data removed]",
      "text/plain": [
       "<Figure size 432x288 with 1 Axes>"
      ]
     },
     "metadata": {
      "needs_background": "light"
     },
     "output_type": "display_data"
    }
   ],
   "source": [
    "plt.hist(targeted.index.values, bins=40)\n",
    "plt.axvline(41442, color='r')\n",
    "plt.axvline(54615, color='r')\n",
    "plt.axvline(72710, color='r')"
   ]
  },
  {
   "cell_type": "code",
   "execution_count": 142,
   "metadata": {},
   "outputs": [
    {
     "data": {
      "text/plain": [
       "(1387, 177, 0.12761355443403027)"
      ]
     },
     "execution_count": 142,
     "metadata": {},
     "output_type": "execute_result"
    }
   ],
   "source": [
    "would_have_included = (targeted.index.values <= 41442) | ( (targeted.index.values >= 54615) & (targeted.index.values < 72710))\n",
    "len(targeted), would_have_included.sum(), would_have_included.mean()"
   ]
  },
  {
   "cell_type": "code",
   "execution_count": 143,
   "metadata": {},
   "outputs": [
    {
     "data": {
      "text/plain": [
       "1210"
      ]
     },
     "execution_count": 143,
     "metadata": {},
     "output_type": "execute_result"
    }
   ],
   "source": [
    "len(targeted) - would_have_included.sum()"
   ]
  },
  {
   "cell_type": "code",
   "execution_count": null,
   "metadata": {},
   "outputs": [],
   "source": []
  }
 ],
 "metadata": {
  "kernelspec": {
   "display_name": "Python 3",
   "language": "python",
   "name": "python3"
  },
  "language_info": {
   "codemirror_mode": {
    "name": "ipython",
    "version": 3
   },
   "file_extension": ".py",
   "mimetype": "text/x-python",
   "name": "python",
   "nbconvert_exporter": "python",
   "pygments_lexer": "ipython3",
   "version": "3.7.6"
  }
 },
 "nbformat": 4,
 "nbformat_minor": 4
}
