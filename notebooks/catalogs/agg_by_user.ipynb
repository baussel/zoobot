{
 "cells": [
  {
   "cell_type": "code",
   "execution_count": 1,
   "metadata": {},
   "outputs": [],
   "source": [
    "%load_ext autoreload\n",
    "%autoreload 2\n"
   ]
  },
  {
   "cell_type": "code",
   "execution_count": 2,
   "metadata": {},
   "outputs": [],
   "source": [
    "# !pip install umap-learn[plot]"
   ]
  },
  {
   "cell_type": "code",
   "execution_count": 3,
   "metadata": {},
   "outputs": [],
   "source": [
    "\n",
    "import os\n",
    "import glob\n",
    "import json\n",
    "\n",
    "import numpy as np\n",
    "import pandas as pd\n",
    "import matplotlib.pyplot as plt\n",
    "import seaborn as sns\n",
    "sns.set_context('notebook')\n",
    "import sklearn\n",
    "import umap\n",
    "import umap.plot\n",
    "import hdbscan"
   ]
  },
  {
   "cell_type": "code",
   "execution_count": 4,
   "metadata": {},
   "outputs": [],
   "source": [
    "# debug umap.plot imports\n",
    "# import pandas as pd\n",
    "# import datashader as ds\n",
    "# import datashader.transfer_functions as tf\n",
    "# import datashader.bundling as bd\n",
    "# import matplotlib.pyplot as plt\n",
    "# import colorcet\n",
    "# import matplotlib.colors\n",
    "# import matplotlib.cm\n",
    "# import bokeh.plotting as bpl\n",
    "# import bokeh.transform as btr\n",
    "# import holoviews as hv\n",
    "# import holoviews.operation.datashader as hd"
   ]
  },
  {
   "cell_type": "code",
   "execution_count": 5,
   "metadata": {},
   "outputs": [],
   "source": [
    "new_flat = False\n",
    "if new_flat:\n",
    "    flat_dir = '/media/walml/beta/galaxy_zoo/decals/dr5/volunteer_reduction/2020_09_25/flat'\n",
    "    assert os.path.isdir(flat_dir)\n",
    "    flat_json_locs = glob.glob(flat_dir + '/*.json')\n",
    "    print(len(flat_json_locs))\n",
    "    df = pd.DataFrame()\n",
    "    for loc in flat_json_locs:\n",
    "        with open(loc, 'r') as f:\n",
    "            data = [json.loads(line) for line in f.readlines()]\n",
    "            loc_df = pd.DataFrame(data=data)\n",
    "            df = pd.concat([df, loc_df], axis=0)  # concat as we go to save memory\n",
    "    df.to_csv('flat_classification_df_three_workflows.csv', index=False)"
   ]
  },
  {
   "cell_type": "code",
   "execution_count": null,
   "metadata": {},
   "outputs": [],
   "source": []
  },
  {
   "cell_type": "code",
   "execution_count": null,
   "metadata": {},
   "outputs": [],
   "source": []
  },
  {
   "cell_type": "code",
   "execution_count": null,
   "metadata": {},
   "outputs": [],
   "source": []
  },
  {
   "cell_type": "code",
   "execution_count": null,
   "metadata": {},
   "outputs": [],
   "source": []
  },
  {
   "cell_type": "code",
   "execution_count": null,
   "metadata": {},
   "outputs": [],
   "source": []
  },
  {
   "cell_type": "code",
   "execution_count": 6,
   "metadata": {},
   "outputs": [],
   "source": [
    "df = pd.read_csv('flat_classification_df_three_workflows.csv')"
   ]
  },
  {
   "cell_type": "code",
   "execution_count": 7,
   "metadata": {},
   "outputs": [
    {
     "data": {
      "text/html": [
       "<div>\n",
       "<style scoped>\n",
       "    .dataframe tbody tr th:only-of-type {\n",
       "        vertical-align: middle;\n",
       "    }\n",
       "\n",
       "    .dataframe tbody tr th {\n",
       "        vertical-align: top;\n",
       "    }\n",
       "\n",
       "    .dataframe thead th {\n",
       "        text-align: right;\n",
       "    }\n",
       "</style>\n",
       "<table border=\"1\" class=\"dataframe\">\n",
       "  <thead>\n",
       "    <tr style=\"text-align: right;\">\n",
       "      <th></th>\n",
       "      <th>created_at</th>\n",
       "      <th>workflow_id</th>\n",
       "      <th>user_id</th>\n",
       "      <th>subject_id</th>\n",
       "      <th>classification_id</th>\n",
       "      <th>question</th>\n",
       "      <th>response</th>\n",
       "      <th>response_id</th>\n",
       "    </tr>\n",
       "  </thead>\n",
       "  <tbody>\n",
       "    <tr>\n",
       "      <th>0</th>\n",
       "      <td>2019-08-30T22:15:40.000+01:00</td>\n",
       "      <td>10582</td>\n",
       "      <td>NaN</td>\n",
       "      <td>34215267</td>\n",
       "      <td>181049318</td>\n",
       "      <td>smooth-or-featured</td>\n",
       "      <td>artifact</td>\n",
       "      <td>3301379143</td>\n",
       "    </tr>\n",
       "    <tr>\n",
       "      <th>1</th>\n",
       "      <td>2019-08-30T22:15:42.000+01:00</td>\n",
       "      <td>10582</td>\n",
       "      <td>NaN</td>\n",
       "      <td>34061008</td>\n",
       "      <td>181049323</td>\n",
       "      <td>smooth-or-featured</td>\n",
       "      <td>artifact</td>\n",
       "      <td>3294366787</td>\n",
       "    </tr>\n",
       "    <tr>\n",
       "      <th>2</th>\n",
       "      <td>2019-08-30T22:15:45.000+01:00</td>\n",
       "      <td>10582</td>\n",
       "      <td>NaN</td>\n",
       "      <td>35622689</td>\n",
       "      <td>181049329</td>\n",
       "      <td>smooth-or-featured</td>\n",
       "      <td>artifact</td>\n",
       "      <td>3304983625</td>\n",
       "    </tr>\n",
       "    <tr>\n",
       "      <th>3</th>\n",
       "      <td>2019-08-30T22:15:47.000+01:00</td>\n",
       "      <td>10582</td>\n",
       "      <td>NaN</td>\n",
       "      <td>32510739</td>\n",
       "      <td>181049336</td>\n",
       "      <td>smooth-or-featured</td>\n",
       "      <td>artifact</td>\n",
       "      <td>3301510215</td>\n",
       "    </tr>\n",
       "    <tr>\n",
       "      <th>4</th>\n",
       "      <td>2019-08-30T22:15:48.000+01:00</td>\n",
       "      <td>10582</td>\n",
       "      <td>1392258.0</td>\n",
       "      <td>36257844</td>\n",
       "      <td>181049344</td>\n",
       "      <td>smooth-or-featured</td>\n",
       "      <td>featured-or-disk</td>\n",
       "      <td>856493870</td>\n",
       "    </tr>\n",
       "    <tr>\n",
       "      <th>...</th>\n",
       "      <td>...</td>\n",
       "      <td>...</td>\n",
       "      <td>...</td>\n",
       "      <td>...</td>\n",
       "      <td>...</td>\n",
       "      <td>...</td>\n",
       "      <td>...</td>\n",
       "      <td>...</td>\n",
       "    </tr>\n",
       "    <tr>\n",
       "      <th>17713201</th>\n",
       "      <td>2020-05-03T20:51:28.000+01:00</td>\n",
       "      <td>10581</td>\n",
       "      <td>2050319.0</td>\n",
       "      <td>36216781</td>\n",
       "      <td>234512256</td>\n",
       "      <td>disk-edge-on</td>\n",
       "      <td>no</td>\n",
       "      <td>1240205091</td>\n",
       "    </tr>\n",
       "    <tr>\n",
       "      <th>17713202</th>\n",
       "      <td>2020-05-03T20:51:28.000+01:00</td>\n",
       "      <td>10581</td>\n",
       "      <td>2050319.0</td>\n",
       "      <td>36216781</td>\n",
       "      <td>234512256</td>\n",
       "      <td>bar</td>\n",
       "      <td>weak</td>\n",
       "      <td>554632364</td>\n",
       "    </tr>\n",
       "    <tr>\n",
       "      <th>17713203</th>\n",
       "      <td>2020-05-03T20:51:28.000+01:00</td>\n",
       "      <td>10581</td>\n",
       "      <td>2050319.0</td>\n",
       "      <td>36216781</td>\n",
       "      <td>234512256</td>\n",
       "      <td>has-spiral-arms</td>\n",
       "      <td>no</td>\n",
       "      <td>1658062976</td>\n",
       "    </tr>\n",
       "    <tr>\n",
       "      <th>17713204</th>\n",
       "      <td>2020-05-03T20:51:28.000+01:00</td>\n",
       "      <td>10581</td>\n",
       "      <td>2050319.0</td>\n",
       "      <td>36216781</td>\n",
       "      <td>234512256</td>\n",
       "      <td>bulge-size</td>\n",
       "      <td>small</td>\n",
       "      <td>1410271199</td>\n",
       "    </tr>\n",
       "    <tr>\n",
       "      <th>17713205</th>\n",
       "      <td>2020-05-03T20:51:28.000+01:00</td>\n",
       "      <td>10581</td>\n",
       "      <td>2050319.0</td>\n",
       "      <td>36216781</td>\n",
       "      <td>234512256</td>\n",
       "      <td>merging</td>\n",
       "      <td>major-disturbance</td>\n",
       "      <td>2933656466</td>\n",
       "    </tr>\n",
       "  </tbody>\n",
       "</table>\n",
       "<p>17713206 rows × 8 columns</p>\n",
       "</div>"
      ],
      "text/plain": [
       "                             created_at  workflow_id    user_id  subject_id  \\\n",
       "0         2019-08-30T22:15:40.000+01:00        10582        NaN    34215267   \n",
       "1         2019-08-30T22:15:42.000+01:00        10582        NaN    34061008   \n",
       "2         2019-08-30T22:15:45.000+01:00        10582        NaN    35622689   \n",
       "3         2019-08-30T22:15:47.000+01:00        10582        NaN    32510739   \n",
       "4         2019-08-30T22:15:48.000+01:00        10582  1392258.0    36257844   \n",
       "...                                 ...          ...        ...         ...   \n",
       "17713201  2020-05-03T20:51:28.000+01:00        10581  2050319.0    36216781   \n",
       "17713202  2020-05-03T20:51:28.000+01:00        10581  2050319.0    36216781   \n",
       "17713203  2020-05-03T20:51:28.000+01:00        10581  2050319.0    36216781   \n",
       "17713204  2020-05-03T20:51:28.000+01:00        10581  2050319.0    36216781   \n",
       "17713205  2020-05-03T20:51:28.000+01:00        10581  2050319.0    36216781   \n",
       "\n",
       "          classification_id            question           response  \\\n",
       "0                 181049318  smooth-or-featured           artifact   \n",
       "1                 181049323  smooth-or-featured           artifact   \n",
       "2                 181049329  smooth-or-featured           artifact   \n",
       "3                 181049336  smooth-or-featured           artifact   \n",
       "4                 181049344  smooth-or-featured   featured-or-disk   \n",
       "...                     ...                 ...                ...   \n",
       "17713201          234512256        disk-edge-on                 no   \n",
       "17713202          234512256                 bar               weak   \n",
       "17713203          234512256     has-spiral-arms                 no   \n",
       "17713204          234512256          bulge-size              small   \n",
       "17713205          234512256             merging  major-disturbance   \n",
       "\n",
       "          response_id  \n",
       "0          3301379143  \n",
       "1          3294366787  \n",
       "2          3304983625  \n",
       "3          3301510215  \n",
       "4           856493870  \n",
       "...               ...  \n",
       "17713201   1240205091  \n",
       "17713202    554632364  \n",
       "17713203   1658062976  \n",
       "17713204   1410271199  \n",
       "17713205   2933656466  \n",
       "\n",
       "[17713206 rows x 8 columns]"
      ]
     },
     "execution_count": 7,
     "metadata": {},
     "output_type": "execute_result"
    }
   ],
   "source": [
    "df  # 9080350 from original only, 17713206 from all three"
   ]
  },
  {
   "cell_type": "code",
   "execution_count": 8,
   "metadata": {},
   "outputs": [],
   "source": [
    "# while we're here, lets' check per-galaxy (per subject, really) progress\n",
    "by_galaxy = df.groupby('subject_id').agg({'classification_id': lambda x: len(set(x))})"
   ]
  },
  {
   "cell_type": "code",
   "execution_count": 24,
   "metadata": {},
   "outputs": [],
   "source": [
    "by_galaxy_new = pd.read_csv('~/Downloads/classifications_final.csv')"
   ]
  },
  {
   "cell_type": "code",
   "execution_count": 44,
   "metadata": {},
   "outputs": [
    {
     "data": {
      "text/plain": [
       "Text(0, 0.5, 'Count')"
      ]
     },
     "execution_count": 44,
     "metadata": {},
     "output_type": "execute_result"
    },
    {
     "data": {
      "image/png": "[encoded data removed]",
      "text/plain": [
       "<Figure size 432x288 with 1 Axes>"
      ]
     },
     "metadata": {
      "needs_background": "light"
     },
     "output_type": "display_data"
    }
   ],
   "source": [
    "# plt.hist(by_galaxy['classification_id'], range=[0, 60], bins=40)\n",
    "plt.hist(by_galaxy_new['smooth-or-featured_total-votes'], range=[0, 60], bins=40)\n",
    "plt.xlabel('Subject classifications')\n",
    "plt.ylabel('Count')"
   ]
  },
  {
   "cell_type": "code",
   "execution_count": 30,
   "metadata": {},
   "outputs": [
    {
     "data": {
      "text/plain": [
       "<matplotlib.legend.Legend at 0x7fdde9648b90>"
      ]
     },
     "execution_count": 30,
     "metadata": {},
     "output_type": "execute_result"
    },
    {
     "data": {
      "image/png": "[encoded data removed]",
      "text/plain": [
       "<Figure size 432x288 with 1 Axes>"
      ]
     },
     "metadata": {
      "needs_background": "light"
     },
     "output_type": "display_data"
    }
   ],
   "source": [
    "plt.hist(by_galaxy['classification_id'], range=[0, 10], bins=40, alpha=.5, label='old')\n",
    "plt.hist(by_galaxy_new['smooth-or-featured_total-votes'], range=[0, 10], bins=40, alpha=.5, label='new')\n",
    "plt.xlabel('Subject classifications')\n",
    "plt.ylabel('Count')\n",
    "plt.legend()"
   ]
  },
  {
   "cell_type": "code",
   "execution_count": 10,
   "metadata": {},
   "outputs": [],
   "source": [
    "counts = by_galaxy['classification_id'].value_counts()"
   ]
  },
  {
   "cell_type": "code",
   "execution_count": 12,
   "metadata": {},
   "outputs": [
    {
     "data": {
      "text/plain": [
       "1      4115\n",
       "2      5096\n",
       "3      9282\n",
       "4     16571\n",
       "5    140561\n",
       "6     12010\n",
       "7      7510\n",
       "8      4133\n",
       "9      1968\n",
       "Name: classification_id, dtype: int64"
      ]
     },
     "execution_count": 12,
     "metadata": {},
     "output_type": "execute_result"
    }
   ],
   "source": [
    "counts[counts.index < 10].sort_index()"
   ]
  },
  {
   "cell_type": "code",
   "execution_count": 13,
   "metadata": {},
   "outputs": [],
   "source": [
    "by_classi = df.groupby('classification_id').agg({'subject_id': 'first', 'created_at': 'first'})\n"
   ]
  },
  {
   "cell_type": "code",
   "execution_count": 14,
   "metadata": {},
   "outputs": [
    {
     "data": {
      "text/plain": [
       "classification_id\n",
       "97849522          2018-03-20T00:00:02.000Z\n",
       "97849528          2018-03-20T00:00:03.000Z\n",
       "97849533          2018-03-20T00:00:06.000Z\n",
       "97849553          2018-03-20T00:00:14.000Z\n",
       "97849579          2018-03-20T00:00:25.000Z\n",
       "                         ...              \n",
       "273046266    2020-09-11T10:45:53.000+01:00\n",
       "273046304    2020-09-11T10:46:05.000+01:00\n",
       "273046346    2020-09-11T10:46:20.000+01:00\n",
       "273046353    2020-09-11T10:46:22.000+01:00\n",
       "273046450    2020-09-11T10:46:53.000+01:00\n",
       "Name: created_at, Length: 4408516, dtype: object"
      ]
     },
     "execution_count": 14,
     "metadata": {},
     "output_type": "execute_result"
    }
   ],
   "source": [
    "by_classi['created_at']"
   ]
  },
  {
   "cell_type": "code",
   "execution_count": 15,
   "metadata": {},
   "outputs": [],
   "source": [
    "by_classi['created_at_dt'] = pd.to_datetime(by_classi['created_at'].apply(lambda x: x.split('T')[0]), infer_datetime_format=True)  # day resolution, for speed"
   ]
  },
  {
   "cell_type": "code",
   "execution_count": 16,
   "metadata": {},
   "outputs": [],
   "source": [
    "still_classifying = by_classi[by_classi['created_at_dt'] > pd.to_datetime('2019-09-01')].reset_index()"
   ]
  },
  {
   "cell_type": "code",
   "execution_count": 17,
   "metadata": {},
   "outputs": [
    {
     "data": {
      "text/plain": [
       "0         2019-09-02\n",
       "1         2019-09-02\n",
       "2         2019-09-02\n",
       "3         2019-09-02\n",
       "4         2019-09-02\n",
       "             ...    \n",
       "1793754   2020-09-11\n",
       "1793755   2020-09-11\n",
       "1793756   2020-09-11\n",
       "1793757   2020-09-11\n",
       "1793758   2020-09-11\n",
       "Name: created_at_dt, Length: 1793759, dtype: datetime64[ns]"
      ]
     },
     "execution_count": 17,
     "metadata": {},
     "output_type": "execute_result"
    }
   ],
   "source": [
    "still_classifying['created_at_dt']"
   ]
  },
  {
   "cell_type": "code",
   "execution_count": 18,
   "metadata": {},
   "outputs": [],
   "source": [
    "still_classifying = still_classifying.groupby('subject_id').agg({'classification_id': lambda x: len(set(x))})"
   ]
  },
  {
   "cell_type": "code",
   "execution_count": 19,
   "metadata": {},
   "outputs": [
    {
     "data": {
      "text/plain": [
       "(array([7.32800e+03, 1.80540e+04, 2.89450e+04, 1.27902e+05, 1.92710e+04,\n",
       "        4.33600e+03, 3.08300e+03, 5.17000e+02, 5.58000e+02, 2.05000e+02,\n",
       "        3.28000e+02, 1.75000e+02, 3.37000e+02, 2.24000e+02, 5.17000e+02,\n",
       "        3.37000e+02, 8.74000e+02, 5.98000e+02, 1.50600e+03, 9.30000e+02,\n",
       "        1.99900e+03, 1.12600e+03, 2.34600e+03, 1.24000e+03, 2.46100e+03,\n",
       "        1.27400e+03, 2.88300e+03, 1.25400e+03, 1.67900e+03, 5.52000e+02,\n",
       "        5.12000e+02, 1.06000e+02, 8.10000e+01, 2.80000e+01, 2.20000e+01,\n",
       "        1.20000e+01, 1.20000e+01, 9.00000e+00, 4.00000e+00, 5.00000e+00]),\n",
       " array([ 0. ,  1.5,  3. ,  4.5,  6. ,  7.5,  9. , 10.5, 12. , 13.5, 15. ,\n",
       "        16.5, 18. , 19.5, 21. , 22.5, 24. , 25.5, 27. , 28.5, 30. , 31.5,\n",
       "        33. , 34.5, 36. , 37.5, 39. , 40.5, 42. , 43.5, 45. , 46.5, 48. ,\n",
       "        49.5, 51. , 52.5, 54. , 55.5, 57. , 58.5, 60. ]),\n",
       " <a list of 40 Patch objects>)"
      ]
     },
     "execution_count": 19,
     "metadata": {},
     "output_type": "execute_result"
    },
    {
     "data": {
      "image/png": "[encoded data removed]",
      "text/plain": [
       "<Figure size 432x288 with 1 Axes>"
      ]
     },
     "metadata": {
      "needs_background": "light"
     },
     "output_type": "display_data"
    }
   ],
   "source": [
    "plt.hist(still_classifying['classification_id'], range=[0, 60], bins=40)"
   ]
  },
  {
   "cell_type": "code",
   "execution_count": 20,
   "metadata": {},
   "outputs": [
    {
     "data": {
      "text/plain": [
       "array([4, 1, 3, ..., 3, 1, 2])"
      ]
     },
     "execution_count": 20,
     "metadata": {},
     "output_type": "execute_result"
    }
   ],
   "source": [
    "5 - still_classifying['classification_id'].values"
   ]
  },
  {
   "cell_type": "code",
   "execution_count": 21,
   "metadata": {},
   "outputs": [
    {
     "data": {
      "text/plain": [
       "array([4, 1, 3, ..., 3, 1, 2])"
      ]
     },
     "execution_count": 21,
     "metadata": {},
     "output_type": "execute_result"
    }
   ],
   "source": [
    "min_remaining_maybe_neg = 5 - still_classifying['classification_id'].values\n",
    "min_remaining = np.max([min_remaining_maybe_neg, np.zeros_like(min_remaining_maybe_neg)], axis=0)\n",
    "min_remaining"
   ]
  },
  {
   "cell_type": "code",
   "execution_count": 22,
   "metadata": {},
   "outputs": [
    {
     "data": {
      "text/plain": [
       "122337"
      ]
     },
     "execution_count": 22,
     "metadata": {},
     "output_type": "execute_result"
    }
   ],
   "source": [
    "min_remaining.sum()"
   ]
  },
  {
   "cell_type": "code",
   "execution_count": null,
   "metadata": {},
   "outputs": [],
   "source": [
    "# plus around 20k x 5 classifications for the missed galaxies I uploaded since then"
   ]
  },
  {
   "cell_type": "code",
   "execution_count": null,
   "metadata": {},
   "outputs": [],
   "source": []
  },
  {
   "cell_type": "code",
   "execution_count": 12,
   "metadata": {},
   "outputs": [],
   "source": [
    "# by_galaxy.query['classification_id'].value_counts()"
   ]
  },
  {
   "cell_type": "code",
   "execution_count": 13,
   "metadata": {},
   "outputs": [],
   "source": [
    "# plt.hist(by_galaxy['classification_id'])"
   ]
  },
  {
   "cell_type": "code",
   "execution_count": 14,
   "metadata": {},
   "outputs": [
    {
     "ename": "AssertionError",
     "evalue": "",
     "output_type": "error",
     "traceback": [
      "\u001b[0;31m---------------------------------------------------------------------------\u001b[0m",
      "\u001b[0;31mAssertionError\u001b[0m                            Traceback (most recent call last)",
      "\u001b[0;32m<ipython-input-14-a871fdc9ebee>\u001b[0m in \u001b[0;36m<module>\u001b[0;34m\u001b[0m\n\u001b[0;32m----> 1\u001b[0;31m \u001b[0;32massert\u001b[0m \u001b[0;32mFalse\u001b[0m\u001b[0;34m\u001b[0m\u001b[0;34m\u001b[0m\u001b[0m\n\u001b[0m",
      "\u001b[0;31mAssertionError\u001b[0m: "
     ]
    }
   ],
   "source": [
    "assert False"
   ]
  },
  {
   "cell_type": "code",
   "execution_count": null,
   "metadata": {},
   "outputs": [],
   "source": [
    "df['question_response'] = df['question'] + '_' + df['response']"
   ]
  },
  {
   "cell_type": "code",
   "execution_count": null,
   "metadata": {},
   "outputs": [],
   "source": [
    "by_user = pd.pivot_table(df, index=['user_id'], columns=['question_response'], values='response', aggfunc='count')\n",
    "by_user = by_user.fillna(0)"
   ]
  },
  {
   "cell_type": "code",
   "execution_count": null,
   "metadata": {},
   "outputs": [],
   "source": [
    "totals = pd.pivot_table(df, index=['user_id'], columns=['question'], values='response', aggfunc='count')\n",
    "totals = totals.fillna(0)"
   ]
  },
  {
   "cell_type": "code",
   "execution_count": null,
   "metadata": {},
   "outputs": [],
   "source": [
    "del df # save memory"
   ]
  },
  {
   "cell_type": "code",
   "execution_count": null,
   "metadata": {},
   "outputs": [],
   "source": [
    "questions = list(totals.columns.values)\n",
    "questions"
   ]
  },
  {
   "cell_type": "code",
   "execution_count": null,
   "metadata": {},
   "outputs": [],
   "source": [
    "totals"
   ]
  },
  {
   "cell_type": "code",
   "execution_count": null,
   "metadata": {},
   "outputs": [],
   "source": [
    "by_user"
   ]
  },
  {
   "cell_type": "code",
   "execution_count": null,
   "metadata": {},
   "outputs": [],
   "source": [
    "by_user_totals = pd.merge(by_user, totals, how='inner', on='user_id')"
   ]
  },
  {
   "cell_type": "code",
   "execution_count": null,
   "metadata": {},
   "outputs": [],
   "source": [
    "answers = []\n",
    "for question in questions:\n",
    "    for col in by_user_totals.columns.values:\n",
    "        if col.startswith(question) and len(col) > len(question):\n",
    "            answers.append(col)\n",
    "            by_user_totals[col + '_fraction'] = by_user_totals[col] / by_user_totals[question]"
   ]
  },
  {
   "cell_type": "code",
   "execution_count": null,
   "metadata": {},
   "outputs": [],
   "source": [
    "plt.hist(np.log10(by_user_totals['smooth-or-featured']), bins=40)"
   ]
  },
  {
   "cell_type": "code",
   "execution_count": null,
   "metadata": {},
   "outputs": [],
   "source": [
    "by_user_totals['smooth-or-featured'].argmax()  # does not include not-logged-in"
   ]
  },
  {
   "cell_type": "code",
   "execution_count": null,
   "metadata": {},
   "outputs": [],
   "source": []
  },
  {
   "cell_type": "code",
   "execution_count": null,
   "metadata": {},
   "outputs": [],
   "source": []
  },
  {
   "cell_type": "code",
   "execution_count": null,
   "metadata": {},
   "outputs": [],
   "source": []
  },
  {
   "cell_type": "code",
   "execution_count": null,
   "metadata": {},
   "outputs": [],
   "source": [
    "# power_users = by_user_totals[by_user_totals['smooth-or-featured'] > 18]  # top 50% of users, 90% of classifications\n",
    "power_users = by_user_totals[by_user_totals['smooth-or-featured'] > 47]  # top 25% of users, 80% of classifications\n",
    "len(power_users)"
   ]
  },
  {
   "cell_type": "code",
   "execution_count": null,
   "metadata": {},
   "outputs": [],
   "source": [
    "filled_questions = power_users.dropna(subset=questions)\n",
    "len(filled_questions)"
   ]
  },
  {
   "cell_type": "code",
   "execution_count": null,
   "metadata": {},
   "outputs": [],
   "source": [
    "_, bins = np.histogram(np.linspace(0, 1), bins=40)\n",
    "filled_questions['smooth-or-featured_smooth_fraction'].hist(bins=bins)\n",
    "mean_frac = filled_questions['smooth-or-featured_smooth'].sum() / filled_questions['smooth-or-featured'].sum()\n",
    "plt.axvline(mean_frac, color='r')"
   ]
  },
  {
   "cell_type": "code",
   "execution_count": null,
   "metadata": {},
   "outputs": [],
   "source": [
    "from scipy.stats import binom"
   ]
  },
  {
   "cell_type": "code",
   "execution_count": null,
   "metadata": {},
   "outputs": [],
   "source": [
    "draws = 500\n",
    "observed_fractions = []\n",
    "for draw in range(draws):\n",
    "    observed_fractions.append(binom(n=filled_questions['smooth-or-featured'].astype(int), p=mean_frac).rvs()/filled_questions['smooth-or-featured'])\n"
   ]
  },
  {
   "cell_type": "code",
   "execution_count": null,
   "metadata": {},
   "outputs": [],
   "source": [
    "filled_questions['smooth-or-featured_smooth_fraction'].hist(bins=bins, density=True, alpha=.5, label='actual')\n",
    "plt.hist(np.array(observed_fractions).flatten(), bins=bins, density=True, alpha=.5, label='binomial')\n",
    "plt.xlabel('Mean \"Smooth\" Fraction of User')\n",
    "plt.ylabel('Users (normalised)')\n",
    "plt.legend()"
   ]
  },
  {
   "cell_type": "code",
   "execution_count": null,
   "metadata": {},
   "outputs": [],
   "source": [
    "draws = 500\n",
    "observed_fractions = []\n",
    "for draw in range(draws):\n",
    "    observed_fractions.append(binom(n=filled_questions['smooth-or-featured'].astype(int), p=filled_questions['smooth-or-featured_smooth_fraction']).rvs()/filled_questions['smooth-or-featured'])\n",
    "plt.hist(np.array(observed_fractions).flatten(), bins=bins)"
   ]
  },
  {
   "cell_type": "code",
   "execution_count": null,
   "metadata": {},
   "outputs": [],
   "source": [
    "filled_questions['smooth-or-featured_artifact_fraction'].hist(bins=40)\n",
    "plt.axvline(filled_questions['smooth-or-featured_artifact'].sum() / filled_questions['smooth-or-featured'].sum(), color='r')"
   ]
  },
  {
   "cell_type": "code",
   "execution_count": null,
   "metadata": {},
   "outputs": [],
   "source": [
    "filled_questions['has-spiral-arms_yes_fraction'].hist(bins=20)\n",
    "plt.axvline(filled_questions['has-spiral-arms_yes'].sum() / filled_questions['has-spiral-arms'].sum(), color='r')"
   ]
  },
  {
   "cell_type": "code",
   "execution_count": null,
   "metadata": {},
   "outputs": [],
   "source": [
    "filled_questions['bar_no_fraction'].hist(bins=20)\n",
    "plt.axvline(filled_questions['bar_no'].sum() / filled_questions['bar'].sum(), color='r')"
   ]
  },
  {
   "cell_type": "code",
   "execution_count": null,
   "metadata": {},
   "outputs": [],
   "source": [
    "# optionally rescale"
   ]
  },
  {
   "cell_type": "code",
   "execution_count": null,
   "metadata": {},
   "outputs": [],
   "source": [
    "mapper = umap.UMAP().fit(filled_questions[questions])  # accidentally using the TOTAL votes, smooth-ish\n",
    "umap.plot.points(mapper)"
   ]
  },
  {
   "cell_type": "code",
   "execution_count": null,
   "metadata": {},
   "outputs": [],
   "source": [
    "key_questions = ['smooth-or-featured', 'bar', 'has-spiral-arms', 'spiral-count']\n",
    "key_answers = [a for q in key_questions for a in answers if a.startswith(q) and not '_fraction' in a]\n",
    "key_fractions = [a + '_fraction' for a in key_answers]\n",
    "key_fractions"
   ]
  },
  {
   "cell_type": "code",
   "execution_count": null,
   "metadata": {},
   "outputs": [],
   "source": [
    "# manual tweak to remove one answer from each q, because it provides no more information\n",
    "key_answers_cut = key_answers[:2] + key_answers[3:5] + key_answers[6:7] + key_answers[8:10]\n",
    "key_fractions_cut = key_fractions[:2] + key_fractions[3:5] + key_fractions[6:7] + key_fractions[8:10]\n",
    "key_fractions_cut"
   ]
  },
  {
   "cell_type": "code",
   "execution_count": null,
   "metadata": {},
   "outputs": [],
   "source": [
    "filled_answers = filled_questions.dropna(subset=key_fractions)\n",
    "len(filled_answers)"
   ]
  },
  {
   "cell_type": "code",
   "execution_count": null,
   "metadata": {},
   "outputs": [],
   "source": [
    "mapper = umap.UMAP().fit(filled_answers[key_fractions])\n",
    "umap.plot.points(mapper)"
   ]
  },
  {
   "cell_type": "code",
   "execution_count": null,
   "metadata": {},
   "outputs": [],
   "source": [
    "mapper = umap.UMAP().fit(filled_answers[key_fractions_cut])\n",
    "umap.plot.points(mapper)"
   ]
  },
  {
   "cell_type": "code",
   "execution_count": null,
   "metadata": {},
   "outputs": [],
   "source": [
    "# plt.scatter(\n",
    "#     embedding[:, 0],\n",
    "#     embedding[:, 1],\n",
    "#     s=1,\n",
    "#     c=filled_answers['smooth-or-featured']\n",
    "# )\n",
    "# #     c=[sns.color_palette()[x] for x in penguins.species_short.map({\"Adelie\":0, \"Chinstrap\":1, \"Gentoo\":2})])\n",
    "# plt.gca().set_aspect('equal', 'datalim')\n",
    "# plt.title('GZ volunteers by fraction', fontsize=24)"
   ]
  },
  {
   "cell_type": "code",
   "execution_count": null,
   "metadata": {},
   "outputs": [],
   "source": []
  },
  {
   "cell_type": "code",
   "execution_count": null,
   "metadata": {},
   "outputs": [],
   "source": [
    "mapper = umap.UMAP().fit(filled_answers[key_fractions])\n",
    "outlier_scores = sklearn.neighbors.LocalOutlierFactor(contamination=0.05).fit_predict(filled_answers[key_fractions_cut])\n",
    "umap.plot.points(mapper, labels=outlier_scores > 0)"
   ]
  },
  {
   "cell_type": "code",
   "execution_count": null,
   "metadata": {},
   "outputs": [],
   "source": [
    "umap.plot.points(mapper, values=filled_answers['smooth-or-featured_artifact_fraction'])"
   ]
  },
  {
   "cell_type": "code",
   "execution_count": null,
   "metadata": {},
   "outputs": [],
   "source": [
    "umap.plot.points(mapper, values=filled_answers['smooth-or-featured_smooth_fraction'])"
   ]
  },
  {
   "cell_type": "code",
   "execution_count": null,
   "metadata": {},
   "outputs": [],
   "source": [
    "umap.plot.points(mapper, values=filled_answers['has-spiral-arms_yes_fraction'])"
   ]
  },
  {
   "cell_type": "code",
   "execution_count": null,
   "metadata": {},
   "outputs": [],
   "source": [
    "umap.plot.points(mapper, values=filled_answers['bar_no_fraction'])"
   ]
  },
  {
   "cell_type": "code",
   "execution_count": null,
   "metadata": {},
   "outputs": [],
   "source": [
    "filled_answers['total-votes-rank'] = np.argsort(filled_answers['smooth-or-featured'])"
   ]
  },
  {
   "cell_type": "code",
   "execution_count": null,
   "metadata": {},
   "outputs": [],
   "source": [
    "umap.plot.points(mapper, values=filled_answers['total-votes-rank'])"
   ]
  },
  {
   "cell_type": "code",
   "execution_count": null,
   "metadata": {},
   "outputs": [],
   "source": [
    "# mapper = umap.UMAP().fit(filled_answers[key_fractions_cut])\n",
    "outlier_scores = sklearn.neighbors.LocalOutlierFactor(contamination=0.05).fit_predict(mapper.embedding_)\n",
    "umap.plot.points(mapper, labels=outlier_scores > 0)"
   ]
  },
  {
   "cell_type": "code",
   "execution_count": null,
   "metadata": {},
   "outputs": [],
   "source": []
  },
  {
   "cell_type": "code",
   "execution_count": null,
   "metadata": {},
   "outputs": [],
   "source": [
    "# fit directly to the embedding\n",
    "clusterer = hdbscan.HDBSCAN(min_cluster_size=20, min_samples=10, cluster_selection_epsilon=0.3).fit(mapper.embedding_)"
   ]
  },
  {
   "cell_type": "code",
   "execution_count": null,
   "metadata": {},
   "outputs": [],
   "source": [
    "umap.plot.points(mapper, labels=clusterer.labels_)"
   ]
  },
  {
   "cell_type": "code",
   "execution_count": null,
   "metadata": {},
   "outputs": [],
   "source": [
    "clusterer.labels_.max()"
   ]
  },
  {
   "cell_type": "code",
   "execution_count": null,
   "metadata": {},
   "outputs": [],
   "source": [
    "value_counts = pd.value_counts(clusterer.labels_)\n",
    "value_counts"
   ]
  },
  {
   "cell_type": "code",
   "execution_count": null,
   "metadata": {},
   "outputs": [],
   "source": [
    "len(filled_answers)"
   ]
  },
  {
   "cell_type": "code",
   "execution_count": null,
   "metadata": {},
   "outputs": [],
   "source": [
    "_, bins = np.histogram(np.linspace(0, 1), bins=20)\n",
    "clusters = np.arange(np.max(clusterer.labels_))  # exclude -1, outliers\n",
    "main_label = 1\n",
    "remaining_label = 0\n",
    "\n",
    "remaining = filled_answers[clusterer.labels_ == remaining_label]\n",
    "fig, axes = plt.subplots(nrows=len(key_fractions_cut), figsize=(6, 14))\n",
    "for ax_n, a in enumerate(key_fractions_cut):\n",
    "    ax = axes[ax_n]\n",
    "    for cluster in clusters:\n",
    "        sample = filled_answers[clusterer.labels_ == cluster]\n",
    "        try:\n",
    "            sns.kdeplot(sample[a], label=cluster, alpha=.5, ax=ax)\n",
    "        except:\n",
    "            ax.plot(np.linspace(0, 1), np.zeros(50), label=cluster)  # just to keep the colors cycling correctly\n",
    "    #     ax.hist(remaining[a], bins=bins, label='remaining', density=True, alpha=.5)\n",
    "    ax.legend()\n",
    "    ax.set_xlim([0., 1.])\n",
    "    ax.set_xlabel(a)\n",
    "fig.tight_layout()"
   ]
  },
  {
   "cell_type": "code",
   "execution_count": null,
   "metadata": {},
   "outputs": [],
   "source": [
    "clusterer.condensed_tree_.plot(select_clusters=True)"
   ]
  },
  {
   "cell_type": "code",
   "execution_count": null,
   "metadata": {},
   "outputs": [],
   "source": [
    "sns.distplot(clusterer.outlier_scores_[np.isfinite(clusterer.outlier_scores_)], rug=True)"
   ]
  },
  {
   "cell_type": "code",
   "execution_count": null,
   "metadata": {},
   "outputs": [],
   "source": []
  },
  {
   "cell_type": "code",
   "execution_count": null,
   "metadata": {},
   "outputs": [],
   "source": []
  },
  {
   "cell_type": "code",
   "execution_count": null,
   "metadata": {},
   "outputs": [],
   "source": [
    "clusterer = hdbscan.HDBSCAN().fit(filled_answers[key_fractions])\n",
    "pd.value_counts(clusterer.labels_)"
   ]
  },
  {
   "cell_type": "code",
   "execution_count": null,
   "metadata": {},
   "outputs": [],
   "source": [
    "clusterer.condensed_tree_.plot(select_clusters=True)"
   ]
  },
  {
   "cell_type": "code",
   "execution_count": null,
   "metadata": {},
   "outputs": [],
   "source": [
    "umap.plot.points(mapper, labels=clusterer.labels_)"
   ]
  },
  {
   "cell_type": "code",
   "execution_count": null,
   "metadata": {},
   "outputs": [],
   "source": [
    "umap.plot.points(mapper, labels=clusterer.labels_ == 0)"
   ]
  },
  {
   "cell_type": "code",
   "execution_count": null,
   "metadata": {},
   "outputs": [],
   "source": [
    "umap.plot.points(mapper, labels=clusterer.labels_ == -1)"
   ]
  },
  {
   "cell_type": "code",
   "execution_count": null,
   "metadata": {},
   "outputs": [],
   "source": [
    "sns.distplot(clusterer.outlier_scores_[np.isfinite(clusterer.outlier_scores_)], rug=True)"
   ]
  },
  {
   "cell_type": "code",
   "execution_count": null,
   "metadata": {},
   "outputs": [],
   "source": [
    "# plt.scatter(\n",
    "#     mapper.embedding_[:, 0],\n",
    "#     mapper.embedding_[:, 1],\n",
    "#     c=clusterer.outlier_scores_ < 0.1,\n",
    "#     s=1.\n",
    "# )\n",
    "# plt.gca().set_aspect('equal', 'datalim')\n",
    "# plt.title('UMAP projection of the Penguin dataset', fontsize=24)\n"
   ]
  },
  {
   "cell_type": "code",
   "execution_count": null,
   "metadata": {},
   "outputs": [],
   "source": [
    "_, bins = np.histogram(np.linspace(0, 1), bins=20)\n",
    "main_sample = filled_answers[clusterer.labels_ == 6]\n",
    "remaining = filled_answers[clusterer.labels_ != 6]\n",
    "fig, axes = plt.subplots(nrows=len(key_fractions_cut), figsize=(6, 14))\n",
    "for ax_n, a in enumerate(key_fractions_cut):\n",
    "    ax = axes[ax_n]\n",
    "    ax.hist(main_sample[a], bins=bins, label='main', density=True, alpha=.5)\n",
    "    ax.hist(remaining[a], bins=bins, label='remaining', density=True, alpha=.5)\n",
    "    ax.legend()\n",
    "    ax.set_xlabel(a)\n",
    "fig.tight_layout()"
   ]
  },
  {
   "cell_type": "code",
   "execution_count": null,
   "metadata": {},
   "outputs": [],
   "source": [
    "main_sample['smooth-or-featured_smooth'].sum(), remaining['smooth-or-featured_smooth'].sum()"
   ]
  },
  {
   "cell_type": "code",
   "execution_count": null,
   "metadata": {},
   "outputs": [],
   "source": []
  },
  {
   "cell_type": "code",
   "execution_count": null,
   "metadata": {},
   "outputs": [],
   "source": []
  },
  {
   "cell_type": "code",
   "execution_count": null,
   "metadata": {},
   "outputs": [],
   "source": [
    "key_fractions_cut"
   ]
  },
  {
   "cell_type": "code",
   "execution_count": null,
   "metadata": {},
   "outputs": [],
   "source": [
    "renamer = {\n",
    "    'smooth-or-featured_artifact_fraction': 'artifact_',\n",
    "     'smooth-or-featured_featured-or-disk_fraction': 'featured_',\n",
    "     'bar_no_fraction': 'bar_no_',\n",
    "     'bar_strong_fraction': 'bar_strong_',\n",
    "     'has-spiral-arms_no_fraction': 'spiral_no_',\n",
    "     'spiral-winding_loose_fraction': 'spiral_loose_',\n",
    "     'spiral-winding_medium_fraction': 'winding_med_'\n",
    "}"
   ]
  },
  {
   "cell_type": "code",
   "execution_count": null,
   "metadata": {},
   "outputs": [],
   "source": [
    "to_plot = filled_answers.copy()\n",
    "to_plot = to_plot.rename(columns=renamer)\n",
    "to_plot[renamer.values()]"
   ]
  },
  {
   "cell_type": "code",
   "execution_count": null,
   "metadata": {},
   "outputs": [],
   "source": [
    "to_plot['bar_no_']"
   ]
  },
  {
   "cell_type": "code",
   "execution_count": null,
   "metadata": {},
   "outputs": [],
   "source": [
    "to_plot.query('hdbscan_main_cluster')['artifact_'].mean()"
   ]
  },
  {
   "cell_type": "code",
   "execution_count": null,
   "metadata": {},
   "outputs": [],
   "source": [
    "to_plot.query('not hdbscan_main_cluster')['artifact_'].mean()"
   ]
  },
  {
   "cell_type": "code",
   "execution_count": null,
   "metadata": {},
   "outputs": [],
   "source": [
    "to_plot['hdbscan_cluster'] = clusterer.labels_\n",
    "to_plot['hdbscan_main_cluster'] = clusterer.labels_ == 1\n",
    "sns.pairplot(to_plot, vars=list(renamer.values()), hue='hdbscan_main_cluster', kind='kde')"
   ]
  },
  {
   "cell_type": "code",
   "execution_count": null,
   "metadata": {},
   "outputs": [],
   "source": [
    "to_plot['artifact_']"
   ]
  },
  {
   "cell_type": "code",
   "execution_count": null,
   "metadata": {},
   "outputs": [],
   "source": [
    "to_plot['featured_']"
   ]
  },
  {
   "cell_type": "code",
   "execution_count": null,
   "metadata": {},
   "outputs": [],
   "source": []
  }
 ],
 "metadata": {
  "kernelspec": {
   "display_name": "Python 3",
   "language": "python",
   "name": "python3"
  },
  "language_info": {
   "codemirror_mode": {
    "name": "ipython",
    "version": 3
   },
   "file_extension": ".py",
   "mimetype": "text/x-python",
   "name": "python",
   "nbconvert_exporter": "python",
   "pygments_lexer": "ipython3",
   "version": "3.7.6"
  }
 },
 "nbformat": 4,
 "nbformat_minor": 4
}
