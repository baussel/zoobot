{
 "cells": [
  {
   "cell_type": "code",
   "execution_count": 1,
   "metadata": {},
   "outputs": [],
   "source": [
    "import matplotlib.pyplot as plt\n",
    "import pandas as pd\n",
    "from astropy.table import Table\n",
    "import os\n",
    "import numpy as np\n",
    "import cartopy.crs as ccrs\n",
    "import json"
   ]
  },
  {
   "cell_type": "code",
   "execution_count": 2,
   "metadata": {},
   "outputs": [],
   "source": [
    "os.chdir('/home/walml/repos/zoobot')"
   ]
  },
  {
   "cell_type": "code",
   "execution_count": 3,
   "metadata": {},
   "outputs": [],
   "source": [
    "nsa = Table.read('/media/walml/beta/galaxy_zoo/decals/catalogs/raw/nsa_v1_0_0.fits')\n",
    "\n",
    "nsa = nsa[['RA', 'DEC', 'IAUNAME', 'PETROTHETA']].to_pandas()\n",
    "\n",
    "for col in nsa.columns.values:\n",
    "    nsa[col.lower()] = nsa[col]\n",
    "    del nsa[col]\n",
    "\n",
    "nsa['iauname'] = nsa['iauname'].str.decode('utf8')"
   ]
  },
  {
   "cell_type": "code",
   "execution_count": 4,
   "metadata": {},
   "outputs": [
    {
     "data": {
      "text/html": [
       "<div>\n",
       "<style scoped>\n",
       "    .dataframe tbody tr th:only-of-type {\n",
       "        vertical-align: middle;\n",
       "    }\n",
       "\n",
       "    .dataframe tbody tr th {\n",
       "        vertical-align: top;\n",
       "    }\n",
       "\n",
       "    .dataframe thead th {\n",
       "        text-align: right;\n",
       "    }\n",
       "</style>\n",
       "<table border=\"1\" class=\"dataframe\">\n",
       "  <thead>\n",
       "    <tr style=\"text-align: right;\">\n",
       "      <th></th>\n",
       "      <th>ra</th>\n",
       "      <th>dec</th>\n",
       "      <th>iauname</th>\n",
       "      <th>petrotheta</th>\n",
       "    </tr>\n",
       "  </thead>\n",
       "  <tbody>\n",
       "    <tr>\n",
       "      <th>0</th>\n",
       "      <td>146.714215</td>\n",
       "      <td>-1.041280</td>\n",
       "      <td>J094651.40-010228.5</td>\n",
       "      <td>7.247893</td>\n",
       "    </tr>\n",
       "    <tr>\n",
       "      <th>1</th>\n",
       "      <td>146.628585</td>\n",
       "      <td>-0.765162</td>\n",
       "      <td>J094630.85-004554.5</td>\n",
       "      <td>5.617822</td>\n",
       "    </tr>\n",
       "    <tr>\n",
       "      <th>2</th>\n",
       "      <td>146.631706</td>\n",
       "      <td>-0.988347</td>\n",
       "      <td>J094631.59-005917.7</td>\n",
       "      <td>4.769891</td>\n",
       "    </tr>\n",
       "    <tr>\n",
       "      <th>3</th>\n",
       "      <td>146.934129</td>\n",
       "      <td>-0.670405</td>\n",
       "      <td>J094744.18-004013.4</td>\n",
       "      <td>6.243227</td>\n",
       "    </tr>\n",
       "    <tr>\n",
       "      <th>4</th>\n",
       "      <td>146.963500</td>\n",
       "      <td>-0.544776</td>\n",
       "      <td>J094751.74-003242.0</td>\n",
       "      <td>8.891541</td>\n",
       "    </tr>\n",
       "    <tr>\n",
       "      <th>...</th>\n",
       "      <td>...</td>\n",
       "      <td>...</td>\n",
       "      <td>...</td>\n",
       "      <td>...</td>\n",
       "    </tr>\n",
       "    <tr>\n",
       "      <th>641404</th>\n",
       "      <td>357.755712</td>\n",
       "      <td>-10.010851</td>\n",
       "      <td>J235101.08-100042.7</td>\n",
       "      <td>17.017670</td>\n",
       "    </tr>\n",
       "    <tr>\n",
       "      <th>641405</th>\n",
       "      <td>358.197549</td>\n",
       "      <td>-10.883763</td>\n",
       "      <td>J235247.10-105259.6</td>\n",
       "      <td>17.845497</td>\n",
       "    </tr>\n",
       "    <tr>\n",
       "      <th>641406</th>\n",
       "      <td>358.336971</td>\n",
       "      <td>-10.544118</td>\n",
       "      <td>J235320.91-103238.7</td>\n",
       "      <td>5.330101</td>\n",
       "    </tr>\n",
       "    <tr>\n",
       "      <th>641407</th>\n",
       "      <td>358.530488</td>\n",
       "      <td>-10.405839</td>\n",
       "      <td>J235406.94-102419.7</td>\n",
       "      <td>27.653702</td>\n",
       "    </tr>\n",
       "    <tr>\n",
       "      <th>641408</th>\n",
       "      <td>358.562009</td>\n",
       "      <td>-10.236361</td>\n",
       "      <td>J235414.90-101409.4</td>\n",
       "      <td>7.805213</td>\n",
       "    </tr>\n",
       "  </tbody>\n",
       "</table>\n",
       "<p>641409 rows × 4 columns</p>\n",
       "</div>"
      ],
      "text/plain": [
       "                ra        dec              iauname  petrotheta\n",
       "0       146.714215  -1.041280  J094651.40-010228.5    7.247893\n",
       "1       146.628585  -0.765162  J094630.85-004554.5    5.617822\n",
       "2       146.631706  -0.988347  J094631.59-005917.7    4.769891\n",
       "3       146.934129  -0.670405  J094744.18-004013.4    6.243227\n",
       "4       146.963500  -0.544776  J094751.74-003242.0    8.891541\n",
       "...            ...        ...                  ...         ...\n",
       "641404  357.755712 -10.010851  J235101.08-100042.7   17.017670\n",
       "641405  358.197549 -10.883763  J235247.10-105259.6   17.845497\n",
       "641406  358.336971 -10.544118  J235320.91-103238.7    5.330101\n",
       "641407  358.530488 -10.405839  J235406.94-102419.7   27.653702\n",
       "641408  358.562009 -10.236361  J235414.90-101409.4    7.805213\n",
       "\n",
       "[641409 rows x 4 columns]"
      ]
     },
     "execution_count": 4,
     "metadata": {},
     "output_type": "execute_result"
    }
   ],
   "source": [
    "nsa"
   ]
  },
  {
   "cell_type": "code",
   "execution_count": 5,
   "metadata": {},
   "outputs": [],
   "source": [
    "decals_joint = Table.read('/media/walml/beta/galaxy_zoo/decals/catalogs/nsa_v1_0_0_decals_dr5.fits').to_pandas()"
   ]
  },
  {
   "cell_type": "code",
   "execution_count": 6,
   "metadata": {},
   "outputs": [
    {
     "data": {
      "text/plain": [
       "343128"
      ]
     },
     "execution_count": 6,
     "metadata": {},
     "output_type": "execute_result"
    }
   ],
   "source": [
    "len(decals_joint)"
   ]
  },
  {
   "cell_type": "code",
   "execution_count": 7,
   "metadata": {},
   "outputs": [
    {
     "data": {
      "text/html": [
       "<div>\n",
       "<style scoped>\n",
       "    .dataframe tbody tr th:only-of-type {\n",
       "        vertical-align: middle;\n",
       "    }\n",
       "\n",
       "    .dataframe tbody tr th {\n",
       "        vertical-align: top;\n",
       "    }\n",
       "\n",
       "    .dataframe thead th {\n",
       "        text-align: right;\n",
       "    }\n",
       "</style>\n",
       "<table border=\"1\" class=\"dataframe\">\n",
       "  <thead>\n",
       "    <tr style=\"text-align: right;\">\n",
       "      <th></th>\n",
       "      <th>iauname</th>\n",
       "      <th>nsa_id</th>\n",
       "      <th>ra</th>\n",
       "      <th>dec</th>\n",
       "      <th>petrotheta</th>\n",
       "      <th>petroth50</th>\n",
       "      <th>petroth90</th>\n",
       "      <th>z</th>\n",
       "      <th>fits_loc</th>\n",
       "      <th>png_loc</th>\n",
       "    </tr>\n",
       "  </thead>\n",
       "  <tbody>\n",
       "    <tr>\n",
       "      <th>0</th>\n",
       "      <td>b'J094651.40-010228.5'</td>\n",
       "      <td>0</td>\n",
       "      <td>146.714215</td>\n",
       "      <td>-1.041280</td>\n",
       "      <td>7.247893</td>\n",
       "      <td>3.464192</td>\n",
       "      <td>10.453795</td>\n",
       "      <td>0.021222</td>\n",
       "      <td>b'/Volumes/alpha/decals/fits_native/dr5/J094/J...</td>\n",
       "      <td>b'/Volumes/alpha/decals/png_native/dr5/J094/J0...</td>\n",
       "    </tr>\n",
       "    <tr>\n",
       "      <th>1</th>\n",
       "      <td>b'J094630.85-004554.5'</td>\n",
       "      <td>1</td>\n",
       "      <td>146.628585</td>\n",
       "      <td>-0.765162</td>\n",
       "      <td>5.617822</td>\n",
       "      <td>2.326989</td>\n",
       "      <td>6.721991</td>\n",
       "      <td>0.064656</td>\n",
       "      <td>b'/Volumes/alpha/decals/fits_native/dr5/J094/J...</td>\n",
       "      <td>b'/Volumes/alpha/decals/png_native/dr5/J094/J0...</td>\n",
       "    </tr>\n",
       "    <tr>\n",
       "      <th>2</th>\n",
       "      <td>b'J094631.59-005917.7'</td>\n",
       "      <td>2</td>\n",
       "      <td>146.631706</td>\n",
       "      <td>-0.988347</td>\n",
       "      <td>4.769891</td>\n",
       "      <td>2.278736</td>\n",
       "      <td>5.177910</td>\n",
       "      <td>0.052654</td>\n",
       "      <td>b'/Volumes/alpha/decals/fits_native/dr5/J094/J...</td>\n",
       "      <td>b'/Volumes/alpha/decals/png_native/dr5/J094/J0...</td>\n",
       "    </tr>\n",
       "    <tr>\n",
       "      <th>3</th>\n",
       "      <td>b'J094744.18-004013.4'</td>\n",
       "      <td>3</td>\n",
       "      <td>146.934129</td>\n",
       "      <td>-0.670405</td>\n",
       "      <td>6.243227</td>\n",
       "      <td>2.655191</td>\n",
       "      <td>9.177605</td>\n",
       "      <td>0.121270</td>\n",
       "      <td>b'/Volumes/alpha/decals/fits_native/dr5/J094/J...</td>\n",
       "      <td>b'/Volumes/alpha/decals/png_native/dr5/J094/J0...</td>\n",
       "    </tr>\n",
       "    <tr>\n",
       "      <th>4</th>\n",
       "      <td>b'J094751.74-003242.0'</td>\n",
       "      <td>4</td>\n",
       "      <td>146.963500</td>\n",
       "      <td>-0.544776</td>\n",
       "      <td>8.891541</td>\n",
       "      <td>4.383704</td>\n",
       "      <td>10.253274</td>\n",
       "      <td>0.055981</td>\n",
       "      <td>b'/Volumes/alpha/decals/fits_native/dr5/J094/J...</td>\n",
       "      <td>b'/Volumes/alpha/decals/png_native/dr5/J094/J0...</td>\n",
       "    </tr>\n",
       "    <tr>\n",
       "      <th>...</th>\n",
       "      <td>...</td>\n",
       "      <td>...</td>\n",
       "      <td>...</td>\n",
       "      <td>...</td>\n",
       "      <td>...</td>\n",
       "      <td>...</td>\n",
       "      <td>...</td>\n",
       "      <td>...</td>\n",
       "      <td>...</td>\n",
       "      <td>...</td>\n",
       "    </tr>\n",
       "    <tr>\n",
       "      <th>343123</th>\n",
       "      <td>b'J230924.60-001458.1'</td>\n",
       "      <td>698646</td>\n",
       "      <td>347.352267</td>\n",
       "      <td>-0.249637</td>\n",
       "      <td>7.473316</td>\n",
       "      <td>3.746857</td>\n",
       "      <td>8.638098</td>\n",
       "      <td>0.116300</td>\n",
       "      <td>b'/Volumes/alpha/decals/fits_native/dr5/J230/J...</td>\n",
       "      <td>b'/Volumes/alpha/decals/png_native/dr5/J230/J2...</td>\n",
       "    </tr>\n",
       "    <tr>\n",
       "      <th>343124</th>\n",
       "      <td>b'J235101.08-100042.7'</td>\n",
       "      <td>698661</td>\n",
       "      <td>357.755712</td>\n",
       "      <td>-10.010851</td>\n",
       "      <td>17.017670</td>\n",
       "      <td>7.430995</td>\n",
       "      <td>19.937094</td>\n",
       "      <td>0.074300</td>\n",
       "      <td>b'/Volumes/alpha/decals/fits_native/dr5/J235/J...</td>\n",
       "      <td>b'/Volumes/alpha/decals/png_native/dr5/J235/J2...</td>\n",
       "    </tr>\n",
       "    <tr>\n",
       "      <th>343125</th>\n",
       "      <td>b'J235247.10-105259.6'</td>\n",
       "      <td>698664</td>\n",
       "      <td>358.197549</td>\n",
       "      <td>-10.883763</td>\n",
       "      <td>17.845497</td>\n",
       "      <td>8.614392</td>\n",
       "      <td>18.517103</td>\n",
       "      <td>0.076100</td>\n",
       "      <td>b'/Volumes/alpha/decals/fits_native/dr5/J235/J...</td>\n",
       "      <td>b'/Volumes/alpha/decals/png_native/dr5/J235/J2...</td>\n",
       "    </tr>\n",
       "    <tr>\n",
       "      <th>343126</th>\n",
       "      <td>b'J235320.91-103238.7'</td>\n",
       "      <td>698665</td>\n",
       "      <td>358.336971</td>\n",
       "      <td>-10.544118</td>\n",
       "      <td>5.330101</td>\n",
       "      <td>2.929065</td>\n",
       "      <td>7.437321</td>\n",
       "      <td>0.077100</td>\n",
       "      <td>b'/Volumes/alpha/decals/fits_native/dr5/J235/J...</td>\n",
       "      <td>b'/Volumes/alpha/decals/png_native/dr5/J235/J2...</td>\n",
       "    </tr>\n",
       "    <tr>\n",
       "      <th>343127</th>\n",
       "      <td>b'J235414.90-101409.4'</td>\n",
       "      <td>698667</td>\n",
       "      <td>358.562009</td>\n",
       "      <td>-10.236361</td>\n",
       "      <td>7.805213</td>\n",
       "      <td>3.951229</td>\n",
       "      <td>9.888474</td>\n",
       "      <td>0.074800</td>\n",
       "      <td>b'/Volumes/alpha/decals/fits_native/dr5/J235/J...</td>\n",
       "      <td>b'/Volumes/alpha/decals/png_native/dr5/J235/J2...</td>\n",
       "    </tr>\n",
       "  </tbody>\n",
       "</table>\n",
       "<p>343128 rows × 10 columns</p>\n",
       "</div>"
      ],
      "text/plain": [
       "                       iauname  nsa_id          ra        dec  petrotheta  \\\n",
       "0       b'J094651.40-010228.5'       0  146.714215  -1.041280    7.247893   \n",
       "1       b'J094630.85-004554.5'       1  146.628585  -0.765162    5.617822   \n",
       "2       b'J094631.59-005917.7'       2  146.631706  -0.988347    4.769891   \n",
       "3       b'J094744.18-004013.4'       3  146.934129  -0.670405    6.243227   \n",
       "4       b'J094751.74-003242.0'       4  146.963500  -0.544776    8.891541   \n",
       "...                        ...     ...         ...        ...         ...   \n",
       "343123  b'J230924.60-001458.1'  698646  347.352267  -0.249637    7.473316   \n",
       "343124  b'J235101.08-100042.7'  698661  357.755712 -10.010851   17.017670   \n",
       "343125  b'J235247.10-105259.6'  698664  358.197549 -10.883763   17.845497   \n",
       "343126  b'J235320.91-103238.7'  698665  358.336971 -10.544118    5.330101   \n",
       "343127  b'J235414.90-101409.4'  698667  358.562009 -10.236361    7.805213   \n",
       "\n",
       "        petroth50  petroth90         z  \\\n",
       "0        3.464192  10.453795  0.021222   \n",
       "1        2.326989   6.721991  0.064656   \n",
       "2        2.278736   5.177910  0.052654   \n",
       "3        2.655191   9.177605  0.121270   \n",
       "4        4.383704  10.253274  0.055981   \n",
       "...           ...        ...       ...   \n",
       "343123   3.746857   8.638098  0.116300   \n",
       "343124   7.430995  19.937094  0.074300   \n",
       "343125   8.614392  18.517103  0.076100   \n",
       "343126   2.929065   7.437321  0.077100   \n",
       "343127   3.951229   9.888474  0.074800   \n",
       "\n",
       "                                                 fits_loc  \\\n",
       "0       b'/Volumes/alpha/decals/fits_native/dr5/J094/J...   \n",
       "1       b'/Volumes/alpha/decals/fits_native/dr5/J094/J...   \n",
       "2       b'/Volumes/alpha/decals/fits_native/dr5/J094/J...   \n",
       "3       b'/Volumes/alpha/decals/fits_native/dr5/J094/J...   \n",
       "4       b'/Volumes/alpha/decals/fits_native/dr5/J094/J...   \n",
       "...                                                   ...   \n",
       "343123  b'/Volumes/alpha/decals/fits_native/dr5/J230/J...   \n",
       "343124  b'/Volumes/alpha/decals/fits_native/dr5/J235/J...   \n",
       "343125  b'/Volumes/alpha/decals/fits_native/dr5/J235/J...   \n",
       "343126  b'/Volumes/alpha/decals/fits_native/dr5/J235/J...   \n",
       "343127  b'/Volumes/alpha/decals/fits_native/dr5/J235/J...   \n",
       "\n",
       "                                                  png_loc  \n",
       "0       b'/Volumes/alpha/decals/png_native/dr5/J094/J0...  \n",
       "1       b'/Volumes/alpha/decals/png_native/dr5/J094/J0...  \n",
       "2       b'/Volumes/alpha/decals/png_native/dr5/J094/J0...  \n",
       "3       b'/Volumes/alpha/decals/png_native/dr5/J094/J0...  \n",
       "4       b'/Volumes/alpha/decals/png_native/dr5/J094/J0...  \n",
       "...                                                   ...  \n",
       "343123  b'/Volumes/alpha/decals/png_native/dr5/J230/J2...  \n",
       "343124  b'/Volumes/alpha/decals/png_native/dr5/J235/J2...  \n",
       "343125  b'/Volumes/alpha/decals/png_native/dr5/J235/J2...  \n",
       "343126  b'/Volumes/alpha/decals/png_native/dr5/J235/J2...  \n",
       "343127  b'/Volumes/alpha/decals/png_native/dr5/J235/J2...  \n",
       "\n",
       "[343128 rows x 10 columns]"
      ]
     },
     "execution_count": 7,
     "metadata": {},
     "output_type": "execute_result"
    }
   ],
   "source": [
    "decals_joint"
   ]
  },
  {
   "cell_type": "code",
   "execution_count": null,
   "metadata": {},
   "outputs": [],
   "source": []
  },
  {
   "cell_type": "code",
   "execution_count": 8,
   "metadata": {},
   "outputs": [],
   "source": [
    "decals_joint['iauname'] = decals_joint['iauname'].apply(lambda x: x.decode())"
   ]
  },
  {
   "cell_type": "code",
   "execution_count": 9,
   "metadata": {},
   "outputs": [
    {
     "data": {
      "text/plain": [
       "0         J094651.40-010228.5\n",
       "1         J094630.85-004554.5\n",
       "2         J094631.59-005917.7\n",
       "3         J094744.18-004013.4\n",
       "4         J094751.74-003242.0\n",
       "                 ...         \n",
       "343123    J230924.60-001458.1\n",
       "343124    J235101.08-100042.7\n",
       "343125    J235247.10-105259.6\n",
       "343126    J235320.91-103238.7\n",
       "343127    J235414.90-101409.4\n",
       "Name: iauname, Length: 343128, dtype: object"
      ]
     },
     "execution_count": 9,
     "metadata": {},
     "output_type": "execute_result"
    }
   ],
   "source": [
    "decals_joint['iauname']"
   ]
  },
  {
   "cell_type": "code",
   "execution_count": 11,
   "metadata": {},
   "outputs": [
    {
     "name": "stderr",
     "output_type": "stream",
     "text": [
      "/home/walml/anaconda3/envs/zoobot/lib/python3.7/site-packages/IPython/core/interactiveshell.py:3331: TableReplaceWarning: converted column 'background' from integer to float\n",
      "  exec(code_obj, self.user_global_ns, self.user_ns)\n",
      "/home/walml/anaconda3/envs/zoobot/lib/python3.7/site-packages/IPython/core/interactiveshell.py:3331: TableReplaceWarning: converted column 'bad_image' from integer to float\n",
      "  exec(code_obj, self.user_global_ns, self.user_ns)\n",
      "/home/walml/anaconda3/envs/zoobot/lib/python3.7/site-packages/IPython/core/interactiveshell.py:3331: TableReplaceWarning: converted column 'band' from integer to float\n",
      "  exec(code_obj, self.user_global_ns, self.user_ns)\n",
      "/home/walml/anaconda3/envs/zoobot/lib/python3.7/site-packages/IPython/core/interactiveshell.py:3331: TableReplaceWarning: converted column 'bands' from integer to float\n",
      "  exec(code_obj, self.user_global_ns, self.user_ns)\n",
      "/home/walml/anaconda3/envs/zoobot/lib/python3.7/site-packages/IPython/core/interactiveshell.py:3331: TableReplaceWarning: converted column 'camera' from integer to float\n",
      "  exec(code_obj, self.user_global_ns, self.user_ns)\n",
      "/home/walml/anaconda3/envs/zoobot/lib/python3.7/site-packages/IPython/core/interactiveshell.py:3331: TableReplaceWarning: converted column 'dr8objid' from integer to float\n",
      "  exec(code_obj, self.user_global_ns, self.user_ns)\n",
      "/home/walml/anaconda3/envs/zoobot/lib/python3.7/site-packages/IPython/core/interactiveshell.py:3331: TableReplaceWarning: converted column 'field' from integer to float\n",
      "  exec(code_obj, self.user_global_ns, self.user_ns)\n",
      "/home/walml/anaconda3/envs/zoobot/lib/python3.7/site-packages/IPython/core/interactiveshell.py:3331: TableReplaceWarning: converted column 'flux_radius1_I' from integer to float\n",
      "  exec(code_obj, self.user_global_ns, self.user_ns)\n",
      "/home/walml/anaconda3/envs/zoobot/lib/python3.7/site-packages/IPython/core/interactiveshell.py:3331: TableReplaceWarning: converted column 'half_rad_h' from integer to float\n",
      "  exec(code_obj, self.user_global_ns, self.user_ns)\n",
      "/home/walml/anaconda3/envs/zoobot/lib/python3.7/site-packages/IPython/core/interactiveshell.py:3331: TableReplaceWarning: converted column 'hubble_id' from integer to float\n",
      "  exec(code_obj, self.user_global_ns, self.user_ns)\n",
      "/home/walml/anaconda3/envs/zoobot/lib/python3.7/site-packages/IPython/core/interactiveshell.py:3331: TableReplaceWarning: converted column 'kron_radius_I' from integer to float\n",
      "  exec(code_obj, self.user_global_ns, self.user_ns)\n",
      "/home/walml/anaconda3/envs/zoobot/lib/python3.7/site-packages/IPython/core/interactiveshell.py:3331: TableReplaceWarning: converted column 'magnitude' from integer to float\n",
      "  exec(code_obj, self.user_global_ns, self.user_ns)\n",
      "/home/walml/anaconda3/envs/zoobot/lib/python3.7/site-packages/IPython/core/interactiveshell.py:3331: TableReplaceWarning: converted column 'mangaid' from integer to float\n",
      "  exec(code_obj, self.user_global_ns, self.user_ns)\n",
      "/home/walml/anaconda3/envs/zoobot/lib/python3.7/site-packages/IPython/core/interactiveshell.py:3331: TableReplaceWarning: converted column 'mass_log_msun' from integer to float\n",
      "  exec(code_obj, self.user_global_ns, self.user_ns)\n",
      "/home/walml/anaconda3/envs/zoobot/lib/python3.7/site-packages/IPython/core/interactiveshell.py:3331: TableReplaceWarning: converted column 'nsa_z' from integer to float\n",
      "  exec(code_obj, self.user_global_ns, self.user_ns)\n",
      "/home/walml/anaconda3/envs/zoobot/lib/python3.7/site-packages/IPython/core/interactiveshell.py:3331: TableReplaceWarning: converted column 'petro_r50_r' from integer to float\n",
      "  exec(code_obj, self.user_global_ns, self.user_ns)\n",
      "/home/walml/anaconda3/envs/zoobot/lib/python3.7/site-packages/IPython/core/interactiveshell.py:3331: TableReplaceWarning: converted column 'petro_r90_r' from integer to float\n",
      "  exec(code_obj, self.user_global_ns, self.user_ns)\n",
      "/home/walml/anaconda3/envs/zoobot/lib/python3.7/site-packages/IPython/core/interactiveshell.py:3331: TableReplaceWarning: converted column 'petrorad_flux' from integer to float\n",
      "  exec(code_obj, self.user_global_ns, self.user_ns)\n",
      "/home/walml/anaconda3/envs/zoobot/lib/python3.7/site-packages/IPython/core/interactiveshell.py:3331: TableReplaceWarning: converted column 'priority' from integer to float\n",
      "  exec(code_obj, self.user_global_ns, self.user_ns)\n",
      "/home/walml/anaconda3/envs/zoobot/lib/python3.7/site-packages/IPython/core/interactiveshell.py:3331: TableReplaceWarning: converted column 'radius_half' from integer to float\n",
      "  exec(code_obj, self.user_global_ns, self.user_ns)\n",
      "/home/walml/anaconda3/envs/zoobot/lib/python3.7/site-packages/IPython/core/interactiveshell.py:3331: TableReplaceWarning: converted column 'sdss_dr12_objid' from integer to float\n",
      "  exec(code_obj, self.user_global_ns, self.user_ns)\n",
      "/home/walml/anaconda3/envs/zoobot/lib/python3.7/site-packages/IPython/core/interactiveshell.py:3331: TableReplaceWarning: converted column 'sdss_dr7_id' from integer to float\n",
      "  exec(code_obj, self.user_global_ns, self.user_ns)\n",
      "/home/walml/anaconda3/envs/zoobot/lib/python3.7/site-packages/IPython/core/interactiveshell.py:3331: TableReplaceWarning: converted column 'sdss_dr8_id' from integer to float\n",
      "  exec(code_obj, self.user_global_ns, self.user_ns)\n",
      "/home/walml/anaconda3/envs/zoobot/lib/python3.7/site-packages/IPython/core/interactiveshell.py:3331: TableReplaceWarning: converted column 'sdss_id' from integer to float\n",
      "  exec(code_obj, self.user_global_ns, self.user_ns)\n",
      "/home/walml/anaconda3/envs/zoobot/lib/python3.7/site-packages/IPython/core/interactiveshell.py:3331: TableReplaceWarning: converted column 'sfr' from integer to float\n",
      "  exec(code_obj, self.user_global_ns, self.user_ns)\n",
      "/home/walml/anaconda3/envs/zoobot/lib/python3.7/site-packages/IPython/core/interactiveshell.py:3331: TableReplaceWarning: converted column 'simulation' from integer to float\n",
      "  exec(code_obj, self.user_global_ns, self.user_ns)\n",
      "/home/walml/anaconda3/envs/zoobot/lib/python3.7/site-packages/IPython/core/interactiveshell.py:3331: TableReplaceWarning: converted column 'snapshot' from integer to float\n",
      "  exec(code_obj, self.user_global_ns, self.user_ns)\n",
      "/home/walml/anaconda3/envs/zoobot/lib/python3.7/site-packages/IPython/core/interactiveshell.py:3331: TableReplaceWarning: converted column 'subdir' from integer to float\n",
      "  exec(code_obj, self.user_global_ns, self.user_ns)\n",
      "/home/walml/anaconda3/envs/zoobot/lib/python3.7/site-packages/IPython/core/interactiveshell.py:3331: TableReplaceWarning: converted column 'subhalo_id' from integer to float\n",
      "  exec(code_obj, self.user_global_ns, self.user_ns)\n"
     ]
    }
   ],
   "source": [
    "dr1_dr2 = Table.read('/media/walml/beta/galaxy_zoo/decals/dr1_dr2/subjects/decals_dr1_and_dr2.csv').to_pandas()"
   ]
  },
  {
   "cell_type": "code",
   "execution_count": 13,
   "metadata": {},
   "outputs": [],
   "source": [
    "nsa_and_dr12 = pd.merge(nsa, dr1_dr2, on='iauname', how='inner')"
   ]
  },
  {
   "cell_type": "code",
   "execution_count": 14,
   "metadata": {},
   "outputs": [
    {
     "data": {
      "text/plain": [
       "(103712, 103712)"
      ]
     },
     "execution_count": 14,
     "metadata": {},
     "output_type": "execute_result"
    }
   ],
   "source": [
    "len(dr1_dr2), len(nsa_and_dr12)"
   ]
  },
  {
   "cell_type": "code",
   "execution_count": 15,
   "metadata": {},
   "outputs": [
    {
     "data": {
      "text/plain": [
       "(343128, 343128)"
      ]
     },
     "execution_count": 15,
     "metadata": {},
     "output_type": "execute_result"
    }
   ],
   "source": [
    "nsa_and_dr5 = pd.merge(nsa, decals_joint, on='iauname', how='inner')\n",
    "len(decals_joint), len(nsa_and_dr5)"
   ]
  },
  {
   "cell_type": "markdown",
   "metadata": {},
   "source": [
    "Let's verify the selection cuts that I think were made, were actually made"
   ]
  },
  {
   "cell_type": "code",
   "execution_count": 16,
   "metadata": {},
   "outputs": [
    {
     "name": "stdout",
     "output_type": "stream",
     "text": [
      "background\n",
      "bad_image\n",
      "band\n",
      "bands\n",
      "camera\n",
      "dr8objid\n",
      "field\n",
      "flux_radius1_I\n",
      "half_rad_h\n",
      "hubble_id\n",
      "kron_radius_I\n",
      "magnitude\n",
      "mangaid\n",
      "mass_log_msun\n",
      "nsa_z\n",
      "petro_r50_r\n",
      "petro_r90_r\n",
      "petrorad_flux\n",
      "priority\n",
      "radius_half\n",
      "sdss_dr12_objid\n",
      "sdss_dr7_id\n",
      "sdss_dr8_id\n",
      "sdss_id\n",
      "sfr\n",
      "simulation\n",
      "snapshot\n",
      "subdir\n",
      "subhalo_id\n"
     ]
    }
   ],
   "source": [
    "valid_cols = []\n",
    "for col in dr1_dr2.columns.values:\n",
    "    if np.all(pd.isna(dr1_dr2[col])):\n",
    "        print(col)\n",
    "    else:\n",
    "        valid_cols.append(col)"
   ]
  },
  {
   "cell_type": "code",
   "execution_count": 17,
   "metadata": {},
   "outputs": [],
   "source": [
    "dr1_dr2_valid = dr1_dr2[valid_cols]"
   ]
  },
  {
   "cell_type": "code",
   "execution_count": null,
   "metadata": {},
   "outputs": [],
   "source": []
  },
  {
   "cell_type": "code",
   "execution_count": 18,
   "metadata": {},
   "outputs": [
    {
     "data": {
      "text/plain": [
       "(42117, 61595, 103712)"
      ]
     },
     "execution_count": 18,
     "metadata": {},
     "output_type": "execute_result"
    }
   ],
   "source": [
    "dr1 = dr1_dr2_valid.query('data_release == \"DR1\"')\n",
    "dr2 = dr1_dr2_valid.query('data_release == \"DR2\"')\n",
    "len(dr1), len(dr2), len(dr1) + len(dr2)"
   ]
  },
  {
   "cell_type": "markdown",
   "metadata": {},
   "source": [
    "For DR1, no cuts were applied. For DR2, petrotheta > 3 was applied."
   ]
  },
  {
   "cell_type": "code",
   "execution_count": 19,
   "metadata": {},
   "outputs": [
    {
     "data": {
      "text/plain": [
       "array(['_id', 'absolute_size', 'counters', 'data_release', 'dec',\n",
       "       'group_id', 'iauname', 'mag', 'nobs_max', 'nsa_id', 'petroflux_r',\n",
       "       'petrorad_50_r', 'petrorad_r', 'ra', 'redshift', 'retire_at',\n",
       "       'survey'], dtype=object)"
      ]
     },
     "execution_count": 19,
     "metadata": {},
     "output_type": "execute_result"
    }
   ],
   "source": [
    "dr1.columns.values"
   ]
  },
  {
   "cell_type": "code",
   "execution_count": 20,
   "metadata": {},
   "outputs": [
    {
     "data": {
      "text/plain": [
       "3.0006349086761475"
      ]
     },
     "execution_count": 20,
     "metadata": {},
     "output_type": "execute_result"
    }
   ],
   "source": [
    "dr2['petrorad_r'].min()"
   ]
  },
  {
   "cell_type": "code",
   "execution_count": 21,
   "metadata": {},
   "outputs": [
    {
     "data": {
      "text/plain": [
       "<matplotlib.legend.Legend at 0x7f4a943cb150>"
      ]
     },
     "execution_count": 21,
     "metadata": {},
     "output_type": "execute_result"
    },
    {
     "data": {
      "image/png": "[encoded data removed]",
      "text/plain": [
       "<Figure size 432x288 with 1 Axes>"
      ]
     },
     "metadata": {
      "needs_background": "light"
     },
     "output_type": "display_data"
    }
   ],
   "source": [
    "fig, ax = plt.subplots()\n",
    "_, bins = np.histogram(np.linspace(0., 15.), bins=30)\n",
    "ax.hist(dr1.query('petrorad_r < 20')['petrorad_r'], bins, alpha=.5, label='DR1', density=True)\n",
    "ax.hist(dr2.query('petrorad_r < 20')['petrorad_r'], bins, alpha=.5, label='DR2', density=True)\n",
    "ax.legend()"
   ]
  },
  {
   "cell_type": "markdown",
   "metadata": {},
   "source": [
    "Coleman said PETROTHETA > 3 - let's check that's the same as 'petrorad_r' here"
   ]
  },
  {
   "cell_type": "code",
   "execution_count": 22,
   "metadata": {},
   "outputs": [
    {
     "data": {
      "text/plain": [
       "ra                        148.453\n",
       "dec                      0.204961\n",
       "iauname       J095348.63+001217.8\n",
       "petrotheta                3.00063\n",
       "Name: 661, dtype: object"
      ]
     },
     "execution_count": 22,
     "metadata": {},
     "output_type": "execute_result"
    }
   ],
   "source": [
    "min_r_index = np.argmin(dr2['petrorad_r'])\n",
    "min_r_iauname = dr2.iloc[min_r_index]['iauname']\n",
    "nsa[nsa['iauname'] == min_r_iauname].squeeze()"
   ]
  },
  {
   "cell_type": "markdown",
   "metadata": {},
   "source": [
    "Yep, checks out - it was just renamed.\n"
   ]
  },
  {
   "cell_type": "code",
   "execution_count": 23,
   "metadata": {},
   "outputs": [
    {
     "name": "stderr",
     "output_type": "stream",
     "text": [
      "/home/walml/anaconda3/envs/zoobot/lib/python3.7/site-packages/ipykernel_launcher.py:1: SettingWithCopyWarning: \n",
      "A value is trying to be set on a copy of a slice from a DataFrame.\n",
      "Try using .loc[row_indexer,col_indexer] = value instead\n",
      "\n",
      "See the caveats in the documentation: https://pandas.pydata.org/pandas-docs/stable/user_guide/indexing.html#returning-a-view-versus-a-copy\n",
      "  \"\"\"Entry point for launching an IPython kernel.\n",
      "/home/walml/anaconda3/envs/zoobot/lib/python3.7/site-packages/ipykernel_launcher.py:2: SettingWithCopyWarning: \n",
      "A value is trying to be set on a copy of a slice from a DataFrame.\n",
      "Try using .loc[row_indexer,col_indexer] = value instead\n",
      "\n",
      "See the caveats in the documentation: https://pandas.pydata.org/pandas-docs/stable/user_guide/indexing.html#returning-a-view-versus-a-copy\n",
      "  \n",
      "/home/walml/anaconda3/envs/zoobot/lib/python3.7/site-packages/ipykernel_launcher.py:3: SettingWithCopyWarning: \n",
      "A value is trying to be set on a copy of a slice from a DataFrame.\n",
      "Try using .loc[row_indexer,col_indexer] = value instead\n",
      "\n",
      "See the caveats in the documentation: https://pandas.pydata.org/pandas-docs/stable/user_guide/indexing.html#returning-a-view-versus-a-copy\n",
      "  This is separate from the ipykernel package so we can avoid doing imports until\n"
     ]
    }
   ],
   "source": [
    "dr1['petrotheta'] = dr1['petrorad_r']\n",
    "dr2['petrotheta'] = dr2['petrorad_r']\n",
    "dr1_dr2_valid['petrotheta'] = dr1_dr2_valid['petrorad_r']"
   ]
  },
  {
   "cell_type": "markdown",
   "metadata": {},
   "source": [
    "\n",
    "Coleman also removed galaxies with suspicious petrotheta, as did I - https://github.com/zooniverse/decals/blob/master/decals/a_download_decals/get_catalogs/selection_cuts.py#L28"
   ]
  },
  {
   "cell_type": "markdown",
   "metadata": {},
   "source": [
    "In theory then, if we apply those same two cuts retrospectively to DR1, we should have all DR1/DR2 galaxies in the DR5 joint catalog"
   ]
  },
  {
   "cell_type": "code",
   "execution_count": 24,
   "metadata": {},
   "outputs": [
    {
     "name": "stdout",
     "output_type": "stream",
     "text": [
      "42117 37514\n",
      "61595 61595\n"
     ]
    }
   ],
   "source": [
    "\n",
    "# https://github.com/zooniverse/decals/blob/master/decals/a_download_decals/get_catalogs/selection_cuts.py#L28\n",
    "def apply_selection_cuts(input_catalog, snap_tolerance=1e-3):\n",
    "    \"\"\"\n",
    "    Select only galaxies with petrotheta > 3 and not within 1e-3 of bad measurement snap value\n",
    "    Args:\n",
    "        catalog (astropy.Table): Galaxy catalog including NSA information\n",
    "        snap_tolerance (float): Minimum deviation from bad measurement snap value allowed\n",
    "    Returns:\n",
    "        (astropy.Table) catalog of galaxies matching selection criteria above\n",
    "    \"\"\"\n",
    "\n",
    "    # Galaxies should be sufficiently extended across the sky\n",
    "    petrotheta_above_3 = input_catalog['petrotheta'] > 3\n",
    "\n",
    "    # NSA catalog’s petrotheta calculation sometimes fails to a ‘default’ value\n",
    "    # Any galaxies with petrotheta within 1e-3 of the snap_to value likely has the wrong size.\n",
    "    bad_petrotheta_value = 27.653702  # this 'magic' value can be confirmed by looking at petrotheta histograms\n",
    "    snap_lower_limit = bad_petrotheta_value - snap_tolerance\n",
    "    snap_upper_limit = bad_petrotheta_value + snap_tolerance\n",
    "\n",
    "    above_snap_lower_limit = input_catalog['petrotheta'] > snap_lower_limit\n",
    "    below_snap_upper_limit = input_catalog['petrotheta'] < snap_upper_limit\n",
    "    within_snap_window = above_snap_lower_limit & below_snap_upper_limit\n",
    "\n",
    "    selected_catalog = input_catalog[petrotheta_above_3 & ~ within_snap_window]\n",
    "    return selected_catalog\n",
    "\n",
    "dr1_cut = apply_selection_cuts(dr1)\n",
    "print(len(dr1), len(dr1_cut))  # should be lower\n",
    "\n",
    "dr2_cut = apply_selection_cuts(dr2)\n",
    "print(len(dr2_cut), len(dr2))  # should not change"
   ]
  },
  {
   "cell_type": "code",
   "execution_count": 25,
   "metadata": {},
   "outputs": [
    {
     "name": "stdout",
     "output_type": "stream",
     "text": [
      "343128 343128\n"
     ]
    }
   ],
   "source": [
    "decals_joint_cut = apply_selection_cuts(decals_joint)\n",
    "print(len(decals_joint), len(decals_joint_cut))  # obviously should also have already been applied"
   ]
  },
  {
   "cell_type": "code",
   "execution_count": 26,
   "metadata": {},
   "outputs": [],
   "source": [
    "# already checked that all DR1/2 galaxies are in NSA. Are they all in DR5?"
   ]
  },
  {
   "cell_type": "code",
   "execution_count": 27,
   "metadata": {},
   "outputs": [],
   "source": [
    "dr1_dr2_cut = apply_selection_cuts(dr1_dr2_valid)\n",
    "dr5_and_dr1_dr2 = pd.merge(decals_joint, dr1_dr2_cut, on='iauname', how='inner')"
   ]
  },
  {
   "cell_type": "code",
   "execution_count": 28,
   "metadata": {},
   "outputs": [
    {
     "data": {
      "text/plain": [
       "(97790, 99109)"
      ]
     },
     "execution_count": 28,
     "metadata": {},
     "output_type": "execute_result"
    }
   ],
   "source": [
    "len(dr5_and_dr1_dr2), len(dr1_cut) + len(dr2_cut)  # okay, still dropping 1300 galaxies. Which?"
   ]
  },
  {
   "cell_type": "code",
   "execution_count": 29,
   "metadata": {},
   "outputs": [
    {
     "data": {
      "text/plain": [
       "1319"
      ]
     },
     "execution_count": 29,
     "metadata": {},
     "output_type": "execute_result"
    }
   ],
   "source": [
    "dr5_not_dr1_dr2 = dr1_dr2_cut[~dr1_dr2_cut['iauname'].isin(decals_joint['iauname'])]\n",
    "len(dr5_not_dr1_dr2)"
   ]
  },
  {
   "cell_type": "code",
   "execution_count": 30,
   "metadata": {},
   "outputs": [
    {
     "data": {
      "text/plain": [
       "DR2    884\n",
       "DR1    435\n",
       "Name: data_release, dtype: int64"
      ]
     },
     "execution_count": 30,
     "metadata": {},
     "output_type": "execute_result"
    }
   ],
   "source": [
    "dr5_not_dr1_dr2['data_release'].value_counts()"
   ]
  },
  {
   "cell_type": "code",
   "execution_count": 31,
   "metadata": {},
   "outputs": [
    {
     "data": {
      "text/plain": [
       "1941       7.470318\n",
       "2012       8.978271\n",
       "2018       4.330838\n",
       "2021       5.566817\n",
       "2031       5.566817\n",
       "            ...    \n",
       "102980     4.330838\n",
       "103161     8.085743\n",
       "103175    10.529021\n",
       "103194     7.155531\n",
       "103221     9.624050\n",
       "Name: petrotheta, Length: 1319, dtype: float64"
      ]
     },
     "execution_count": 31,
     "metadata": {},
     "output_type": "execute_result"
    }
   ],
   "source": [
    "dr5_not_dr1_dr2['petrotheta']"
   ]
  },
  {
   "cell_type": "code",
   "execution_count": 32,
   "metadata": {},
   "outputs": [
    {
     "data": {
      "text/plain": [
       "1941      0.076049\n",
       "2012      0.058630\n",
       "2018      0.055588\n",
       "2021      0.055906\n",
       "2031      0.060712\n",
       "            ...   \n",
       "102980    0.044473\n",
       "103161    0.135384\n",
       "103175    0.125000\n",
       "103194    0.081100\n",
       "103221    0.086672\n",
       "Name: redshift, Length: 1319, dtype: float64"
      ]
     },
     "execution_count": 32,
     "metadata": {},
     "output_type": "execute_result"
    }
   ],
   "source": [
    "dr5_not_dr1_dr2['redshift']"
   ]
  },
  {
   "cell_type": "markdown",
   "metadata": {},
   "source": [
    "Okay, it's not obvious why those are missing. It's possible some bricks with grz observations were removed on the DECALS side? I think I will press on and potentially remove these 1300 galaxies from the final catalog."
   ]
  },
  {
   "cell_type": "markdown",
   "metadata": {},
   "source": [
    "## From Catalog to Images"
   ]
  },
  {
   "cell_type": "code",
   "execution_count": 33,
   "metadata": {},
   "outputs": [
    {
     "data": {
      "text/plain": [
       "(343128, 343128)"
      ]
     },
     "execution_count": 33,
     "metadata": {},
     "output_type": "execute_result"
    }
   ],
   "source": [
    "to_upload = Table.read('/media/walml/beta/galaxy_zoo/decals/catalogs/dr5_nsa1_0_0_to_upload.fits').to_pandas()  # same table, now with png_ready/fits_ready/fits_filled cols added\n",
    "to_upload['iauname'] = to_upload['iauname'].str.decode('utf8')\n",
    "len(decals_joint), len(to_upload)"
   ]
  },
  {
   "cell_type": "code",
   "execution_count": 34,
   "metadata": {},
   "outputs": [
    {
     "data": {
      "text/plain": [
       "True    343128\n",
       "Name: fits_ready, dtype: int64"
      ]
     },
     "execution_count": 34,
     "metadata": {},
     "output_type": "execute_result"
    }
   ],
   "source": [
    "to_upload['fits_ready'].value_counts()"
   ]
  },
  {
   "cell_type": "code",
   "execution_count": 35,
   "metadata": {},
   "outputs": [
    {
     "data": {
      "text/plain": [
       "True    343128\n",
       "Name: png_ready, dtype: int64"
      ]
     },
     "execution_count": 35,
     "metadata": {},
     "output_type": "execute_result"
    }
   ],
   "source": [
    "to_upload['png_ready'].value_counts()"
   ]
  },
  {
   "cell_type": "code",
   "execution_count": 36,
   "metadata": {},
   "outputs": [
    {
     "data": {
      "text/plain": [
       "True     309398\n",
       "False     33730\n",
       "Name: fits_filled, dtype: int64"
      ]
     },
     "execution_count": 36,
     "metadata": {},
     "output_type": "execute_result"
    }
   ],
   "source": [
    "to_upload['fits_filled'].value_counts()  # >20% of pixels in any band being 0 or nan"
   ]
  },
  {
   "cell_type": "code",
   "execution_count": 37,
   "metadata": {},
   "outputs": [
    {
     "data": {
      "text/plain": [
       "99109"
      ]
     },
     "execution_count": 37,
     "metadata": {},
     "output_type": "execute_result"
    }
   ],
   "source": [
    "len(dr1_dr2_cut)"
   ]
  },
  {
   "cell_type": "code",
   "execution_count": 38,
   "metadata": {},
   "outputs": [
    {
     "data": {
      "text/plain": [
       "93292"
      ]
     },
     "execution_count": 38,
     "metadata": {},
     "output_type": "execute_result"
    }
   ],
   "source": [
    "# And how many were already in DR1/2?\n",
    "np.sum(to_upload.query('fits_filled')['iauname'].isin(dr1_dr2_cut['iauname'])) # which is a little lower than all, because of the 10% or so with bad fits data (we lose about 6% here)"
   ]
  },
  {
   "cell_type": "markdown",
   "metadata": {},
   "source": [
    "## So 307,484 galaxies could have been uploaded, some of which were in DR1/2. Which actually were?"
   ]
  },
  {
   "cell_type": "code",
   "execution_count": 176,
   "metadata": {},
   "outputs": [
    {
     "data": {
      "text/plain": [
       "244013"
      ]
     },
     "execution_count": 176,
     "metadata": {},
     "output_type": "execute_result"
    }
   ],
   "source": [
    "latest_export = pd.read_csv('~/Downloads/classifications_final.csv')\n",
    "len(latest_export)"
   ]
  },
  {
   "cell_type": "code",
   "execution_count": 177,
   "metadata": {},
   "outputs": [
    {
     "data": {
      "text/plain": [
       "32"
      ]
     },
     "execution_count": 177,
     "metadata": {},
     "output_type": "execute_result"
    }
   ],
   "source": [
    "np.sum(latest_export['iauname'].duplicated())"
   ]
  },
  {
   "cell_type": "code",
   "execution_count": 178,
   "metadata": {},
   "outputs": [
    {
     "data": {
      "text/html": [
       "<div>\n",
       "<style scoped>\n",
       "    .dataframe tbody tr th:only-of-type {\n",
       "        vertical-align: middle;\n",
       "    }\n",
       "\n",
       "    .dataframe tbody tr th {\n",
       "        vertical-align: top;\n",
       "    }\n",
       "\n",
       "    .dataframe thead th {\n",
       "        text-align: right;\n",
       "    }\n",
       "</style>\n",
       "<table border=\"1\" class=\"dataframe\">\n",
       "  <thead>\n",
       "    <tr style=\"text-align: right;\">\n",
       "      <th></th>\n",
       "      <th>iauname</th>\n",
       "      <th>smooth-or-featured_artifact</th>\n",
       "      <th>smooth-or-featured_featured-or-disk</th>\n",
       "      <th>smooth-or-featured_smooth</th>\n",
       "      <th>how-rounded_cigar-shaped</th>\n",
       "      <th>how-rounded_in-between</th>\n",
       "      <th>how-rounded_round</th>\n",
       "      <th>disk-edge-on_no</th>\n",
       "      <th>disk-edge-on_yes</th>\n",
       "      <th>edge-on-bulge_boxy</th>\n",
       "      <th>...</th>\n",
       "      <th>spiral-arm-count_more-than-4_fraction</th>\n",
       "      <th>bulge-size_none_fraction</th>\n",
       "      <th>bulge-size_small_fraction</th>\n",
       "      <th>bulge-size_moderate_fraction</th>\n",
       "      <th>bulge-size_large_fraction</th>\n",
       "      <th>bulge-size_dominant_fraction</th>\n",
       "      <th>merging_none_fraction</th>\n",
       "      <th>merging_minor-disturbance_fraction</th>\n",
       "      <th>merging_major-disturbance_fraction</th>\n",
       "      <th>merging_merger_fraction</th>\n",
       "    </tr>\n",
       "  </thead>\n",
       "  <tbody>\n",
       "    <tr>\n",
       "      <th>0</th>\n",
       "      <td>J000000.80+004200.0</td>\n",
       "      <td>0.0</td>\n",
       "      <td>2.0</td>\n",
       "      <td>3.0</td>\n",
       "      <td>0.0</td>\n",
       "      <td>1.0</td>\n",
       "      <td>2.0</td>\n",
       "      <td>2.0</td>\n",
       "      <td>0.0</td>\n",
       "      <td>0.0</td>\n",
       "      <td>...</td>\n",
       "      <td>0.0</td>\n",
       "      <td>0.0</td>\n",
       "      <td>0.0</td>\n",
       "      <td>0.00</td>\n",
       "      <td>1.00</td>\n",
       "      <td>0.0</td>\n",
       "      <td>0.40</td>\n",
       "      <td>0.00</td>\n",
       "      <td>0.0</td>\n",
       "      <td>0.60</td>\n",
       "    </tr>\n",
       "    <tr>\n",
       "      <th>1</th>\n",
       "      <td>J000001.03+003228.7</td>\n",
       "      <td>0.0</td>\n",
       "      <td>1.0</td>\n",
       "      <td>4.0</td>\n",
       "      <td>0.0</td>\n",
       "      <td>4.0</td>\n",
       "      <td>0.0</td>\n",
       "      <td>1.0</td>\n",
       "      <td>0.0</td>\n",
       "      <td>0.0</td>\n",
       "      <td>...</td>\n",
       "      <td>0.0</td>\n",
       "      <td>0.0</td>\n",
       "      <td>0.0</td>\n",
       "      <td>0.00</td>\n",
       "      <td>1.00</td>\n",
       "      <td>0.0</td>\n",
       "      <td>0.20</td>\n",
       "      <td>0.20</td>\n",
       "      <td>0.0</td>\n",
       "      <td>0.60</td>\n",
       "    </tr>\n",
       "    <tr>\n",
       "      <th>2</th>\n",
       "      <td>J000001.55-000533.3</td>\n",
       "      <td>0.0</td>\n",
       "      <td>0.0</td>\n",
       "      <td>5.0</td>\n",
       "      <td>1.0</td>\n",
       "      <td>3.0</td>\n",
       "      <td>1.0</td>\n",
       "      <td>0.0</td>\n",
       "      <td>0.0</td>\n",
       "      <td>0.0</td>\n",
       "      <td>...</td>\n",
       "      <td>0.0</td>\n",
       "      <td>0.0</td>\n",
       "      <td>0.0</td>\n",
       "      <td>0.00</td>\n",
       "      <td>0.00</td>\n",
       "      <td>0.0</td>\n",
       "      <td>0.60</td>\n",
       "      <td>0.00</td>\n",
       "      <td>0.2</td>\n",
       "      <td>0.20</td>\n",
       "    </tr>\n",
       "    <tr>\n",
       "      <th>3</th>\n",
       "      <td>J000001.85+004309.3</td>\n",
       "      <td>1.0</td>\n",
       "      <td>1.0</td>\n",
       "      <td>3.0</td>\n",
       "      <td>0.0</td>\n",
       "      <td>3.0</td>\n",
       "      <td>0.0</td>\n",
       "      <td>0.0</td>\n",
       "      <td>1.0</td>\n",
       "      <td>0.0</td>\n",
       "      <td>...</td>\n",
       "      <td>0.0</td>\n",
       "      <td>0.0</td>\n",
       "      <td>0.0</td>\n",
       "      <td>0.00</td>\n",
       "      <td>0.00</td>\n",
       "      <td>0.0</td>\n",
       "      <td>0.75</td>\n",
       "      <td>0.25</td>\n",
       "      <td>0.0</td>\n",
       "      <td>0.00</td>\n",
       "    </tr>\n",
       "    <tr>\n",
       "      <th>4</th>\n",
       "      <td>J000002.29-042805.0</td>\n",
       "      <td>1.0</td>\n",
       "      <td>4.0</td>\n",
       "      <td>0.0</td>\n",
       "      <td>0.0</td>\n",
       "      <td>0.0</td>\n",
       "      <td>0.0</td>\n",
       "      <td>4.0</td>\n",
       "      <td>0.0</td>\n",
       "      <td>0.0</td>\n",
       "      <td>...</td>\n",
       "      <td>0.0</td>\n",
       "      <td>0.0</td>\n",
       "      <td>0.5</td>\n",
       "      <td>0.25</td>\n",
       "      <td>0.25</td>\n",
       "      <td>0.0</td>\n",
       "      <td>0.25</td>\n",
       "      <td>0.50</td>\n",
       "      <td>0.0</td>\n",
       "      <td>0.25</td>\n",
       "    </tr>\n",
       "  </tbody>\n",
       "</table>\n",
       "<p>5 rows × 83 columns</p>\n",
       "</div>"
      ],
      "text/plain": [
       "               iauname  smooth-or-featured_artifact  \\\n",
       "0  J000000.80+004200.0                          0.0   \n",
       "1  J000001.03+003228.7                          0.0   \n",
       "2  J000001.55-000533.3                          0.0   \n",
       "3  J000001.85+004309.3                          1.0   \n",
       "4  J000002.29-042805.0                          1.0   \n",
       "\n",
       "   smooth-or-featured_featured-or-disk  smooth-or-featured_smooth  \\\n",
       "0                                  2.0                        3.0   \n",
       "1                                  1.0                        4.0   \n",
       "2                                  0.0                        5.0   \n",
       "3                                  1.0                        3.0   \n",
       "4                                  4.0                        0.0   \n",
       "\n",
       "   how-rounded_cigar-shaped  how-rounded_in-between  how-rounded_round  \\\n",
       "0                       0.0                     1.0                2.0   \n",
       "1                       0.0                     4.0                0.0   \n",
       "2                       1.0                     3.0                1.0   \n",
       "3                       0.0                     3.0                0.0   \n",
       "4                       0.0                     0.0                0.0   \n",
       "\n",
       "   disk-edge-on_no  disk-edge-on_yes  edge-on-bulge_boxy  ...  \\\n",
       "0              2.0               0.0                 0.0  ...   \n",
       "1              1.0               0.0                 0.0  ...   \n",
       "2              0.0               0.0                 0.0  ...   \n",
       "3              0.0               1.0                 0.0  ...   \n",
       "4              4.0               0.0                 0.0  ...   \n",
       "\n",
       "   spiral-arm-count_more-than-4_fraction  bulge-size_none_fraction  \\\n",
       "0                                    0.0                       0.0   \n",
       "1                                    0.0                       0.0   \n",
       "2                                    0.0                       0.0   \n",
       "3                                    0.0                       0.0   \n",
       "4                                    0.0                       0.0   \n",
       "\n",
       "   bulge-size_small_fraction  bulge-size_moderate_fraction  \\\n",
       "0                        0.0                          0.00   \n",
       "1                        0.0                          0.00   \n",
       "2                        0.0                          0.00   \n",
       "3                        0.0                          0.00   \n",
       "4                        0.5                          0.25   \n",
       "\n",
       "   bulge-size_large_fraction  bulge-size_dominant_fraction  \\\n",
       "0                       1.00                           0.0   \n",
       "1                       1.00                           0.0   \n",
       "2                       0.00                           0.0   \n",
       "3                       0.00                           0.0   \n",
       "4                       0.25                           0.0   \n",
       "\n",
       "   merging_none_fraction  merging_minor-disturbance_fraction  \\\n",
       "0                   0.40                                0.00   \n",
       "1                   0.20                                0.20   \n",
       "2                   0.60                                0.00   \n",
       "3                   0.75                                0.25   \n",
       "4                   0.25                                0.50   \n",
       "\n",
       "   merging_major-disturbance_fraction  merging_merger_fraction  \n",
       "0                                 0.0                     0.60  \n",
       "1                                 0.0                     0.60  \n",
       "2                                 0.2                     0.20  \n",
       "3                                 0.0                     0.00  \n",
       "4                                 0.0                     0.25  \n",
       "\n",
       "[5 rows x 83 columns]"
      ]
     },
     "execution_count": 178,
     "metadata": {},
     "output_type": "execute_result"
    }
   ],
   "source": [
    "latest_export.head()"
   ]
  },
  {
   "cell_type": "code",
   "execution_count": 179,
   "metadata": {},
   "outputs": [
    {
     "data": {
      "text/plain": [
       "array(['iauname', 'smooth-or-featured_artifact',\n",
       "       'smooth-or-featured_featured-or-disk', 'smooth-or-featured_smooth',\n",
       "       'how-rounded_cigar-shaped', 'how-rounded_in-between',\n",
       "       'how-rounded_round', 'disk-edge-on_no', 'disk-edge-on_yes',\n",
       "       'edge-on-bulge_boxy', 'edge-on-bulge_none',\n",
       "       'edge-on-bulge_rounded', 'bar_no', 'bar_weak', 'bar_strong',\n",
       "       'has-spiral-arms_no', 'has-spiral-arms_yes',\n",
       "       'spiral-winding_loose', 'spiral-winding_medium',\n",
       "       'spiral-winding_tight', 'spiral-arm-count_1', 'spiral-arm-count_2',\n",
       "       'spiral-arm-count_3', 'spiral-arm-count_4',\n",
       "       'spiral-arm-count_cant-tell', 'spiral-arm-count_more-than-4',\n",
       "       'bulge-size_none', 'bulge-size_small', 'bulge-size_moderate',\n",
       "       'bulge-size_large', 'bulge-size_dominant', 'merging_none',\n",
       "       'merging_minor-disturbance', 'merging_major-disturbance',\n",
       "       'merging_merger', 'ra', 'dec', 'redshift', 'subject_id',\n",
       "       'smooth-or-featured_total-votes', 'how-rounded_total-votes',\n",
       "       'disk-edge-on_total-votes', 'edge-on-bulge_total-votes',\n",
       "       'bar_total-votes', 'has-spiral-arms_total-votes',\n",
       "       'spiral-winding_total-votes', 'spiral-arm-count_total-votes',\n",
       "       'bulge-size_total-votes', 'merging_total-votes',\n",
       "       'smooth-or-featured_artifact_fraction',\n",
       "       'smooth-or-featured_featured-or-disk_fraction',\n",
       "       'smooth-or-featured_smooth_fraction',\n",
       "       'how-rounded_cigar-shaped_fraction',\n",
       "       'how-rounded_in-between_fraction', 'how-rounded_round_fraction',\n",
       "       'disk-edge-on_no_fraction', 'disk-edge-on_yes_fraction',\n",
       "       'edge-on-bulge_boxy_fraction', 'edge-on-bulge_none_fraction',\n",
       "       'edge-on-bulge_rounded_fraction', 'bar_no_fraction',\n",
       "       'bar_weak_fraction', 'bar_strong_fraction',\n",
       "       'has-spiral-arms_no_fraction', 'has-spiral-arms_yes_fraction',\n",
       "       'spiral-winding_loose_fraction', 'spiral-winding_medium_fraction',\n",
       "       'spiral-winding_tight_fraction', 'spiral-arm-count_1_fraction',\n",
       "       'spiral-arm-count_2_fraction', 'spiral-arm-count_3_fraction',\n",
       "       'spiral-arm-count_4_fraction',\n",
       "       'spiral-arm-count_cant-tell_fraction',\n",
       "       'spiral-arm-count_more-than-4_fraction',\n",
       "       'bulge-size_none_fraction', 'bulge-size_small_fraction',\n",
       "       'bulge-size_moderate_fraction', 'bulge-size_large_fraction',\n",
       "       'bulge-size_dominant_fraction', 'merging_none_fraction',\n",
       "       'merging_minor-disturbance_fraction',\n",
       "       'merging_major-disturbance_fraction', 'merging_merger_fraction'],\n",
       "      dtype=object)"
      ]
     },
     "execution_count": 179,
     "metadata": {},
     "output_type": "execute_result"
    }
   ],
   "source": [
    "latest_export.columns.values"
   ]
  },
  {
   "cell_type": "code",
   "execution_count": 180,
   "metadata": {},
   "outputs": [
    {
     "data": {
      "text/plain": [
       "False    243980\n",
       "True         33\n",
       "Name: iauname, dtype: int64"
      ]
     },
     "execution_count": 180,
     "metadata": {},
     "output_type": "execute_result"
    }
   ],
   "source": [
    "pd.isna(latest_export['iauname']).value_counts()"
   ]
  },
  {
   "cell_type": "code",
   "execution_count": 181,
   "metadata": {},
   "outputs": [],
   "source": [
    "latest_export = latest_export.dropna(subset=['iauname'])"
   ]
  },
  {
   "cell_type": "code",
   "execution_count": 182,
   "metadata": {},
   "outputs": [
    {
     "data": {
      "text/plain": [
       "True    243980\n",
       "Name: iauname, dtype: int64"
      ]
     },
     "execution_count": 182,
     "metadata": {},
     "output_type": "execute_result"
    }
   ],
   "source": [
    "was_known_galaxy = latest_export['iauname'].isin(nsa['iauname'])\n",
    "was_known_galaxy.value_counts()"
   ]
  },
  {
   "cell_type": "code",
   "execution_count": 183,
   "metadata": {},
   "outputs": [
    {
     "data": {
      "text/plain": [
       "True    243980\n",
       "Name: iauname, dtype: int64"
      ]
     },
     "execution_count": 183,
     "metadata": {},
     "output_type": "execute_result"
    }
   ],
   "source": [
    "was_imaged_galaxy = latest_export['iauname'].isin(to_upload['iauname'])\n",
    "was_imaged_galaxy.value_counts()"
   ]
  },
  {
   "cell_type": "code",
   "execution_count": 184,
   "metadata": {},
   "outputs": [],
   "source": [
    "not_imaged_iaunames = latest_export[~was_imaged_galaxy]['iauname']"
   ]
  },
  {
   "cell_type": "code",
   "execution_count": null,
   "metadata": {},
   "outputs": [],
   "source": []
  },
  {
   "cell_type": "code",
   "execution_count": 186,
   "metadata": {},
   "outputs": [],
   "source": [
    "latest_subjects = pd.read_csv('/home/walml/repos/gz-panoptes-reduction/data/latest_subjects_export.csv')"
   ]
  },
  {
   "cell_type": "code",
   "execution_count": 187,
   "metadata": {},
   "outputs": [
    {
     "data": {
      "text/plain": [
       "724915"
      ]
     },
     "execution_count": 187,
     "metadata": {},
     "output_type": "execute_result"
    }
   ],
   "source": [
    "len(latest_subjects)"
   ]
  },
  {
   "cell_type": "code",
   "execution_count": 188,
   "metadata": {},
   "outputs": [
    {
     "data": {
      "text/plain": [
       "6122.0     230381\n",
       "10582.0    204763\n",
       "11308.0     50000\n",
       "10581.0     19866\n",
       "6527.0       1601\n",
       "5653.0        875\n",
       "12410.0       150\n",
       "Name: workflow_id, dtype: int64"
      ]
     },
     "execution_count": 188,
     "metadata": {},
     "output_type": "execute_result"
    }
   ],
   "source": [
    "latest_subjects['workflow_id'].value_counts()"
   ]
  },
  {
   "cell_type": "code",
   "execution_count": 189,
   "metadata": {},
   "outputs": [
    {
     "data": {
      "text/plain": [
       "455010"
      ]
     },
     "execution_count": 189,
     "metadata": {},
     "output_type": "execute_result"
    }
   ],
   "source": [
    "latest_subjects = latest_subjects[latest_subjects['workflow_id'].isin([6122.0, 10582.0, 10581.0])]  # decals public workflows\n",
    "len(latest_subjects)"
   ]
  },
  {
   "cell_type": "code",
   "execution_count": 190,
   "metadata": {},
   "outputs": [
    {
     "data": {
      "text/plain": [
       "426808"
      ]
     },
     "execution_count": 190,
     "metadata": {},
     "output_type": "execute_result"
    }
   ],
   "source": [
    "latest_subjects = latest_subjects[~latest_subjects['subject_set_id'].isin([77652])]  # remove eagle subjects\n",
    "len(latest_subjects)"
   ]
  },
  {
   "cell_type": "code",
   "execution_count": 191,
   "metadata": {},
   "outputs": [],
   "source": [
    "# latest_subjects['metadata'][10000]"
   ]
  },
  {
   "cell_type": "code",
   "execution_count": 192,
   "metadata": {},
   "outputs": [],
   "source": [
    "latest_subjects['metadata'] = latest_subjects['metadata'].apply(json.loads)"
   ]
  },
  {
   "cell_type": "code",
   "execution_count": 193,
   "metadata": {},
   "outputs": [],
   "source": [
    "def get_iauname(metadata):\n",
    "    possible_keys = ['iauname', '!iauname', 'IAUNAME', '!IAUNAME']\n",
    "    for key in possible_keys:\n",
    "        if key in metadata.keys():\n",
    "            return metadata[key]\n",
    "    return np.nan"
   ]
  },
  {
   "cell_type": "code",
   "execution_count": 194,
   "metadata": {},
   "outputs": [],
   "source": [
    "latest_subjects['iauname'] = latest_subjects['metadata'].apply(get_iauname)"
   ]
  },
  {
   "cell_type": "code",
   "execution_count": 195,
   "metadata": {},
   "outputs": [
    {
     "data": {
      "text/plain": [
       "0"
      ]
     },
     "execution_count": 195,
     "metadata": {},
     "output_type": "execute_result"
    }
   ],
   "source": [
    "pd.isna(latest_subjects['iauname']).sum()"
   ]
  },
  {
   "cell_type": "code",
   "execution_count": 196,
   "metadata": {},
   "outputs": [
    {
     "data": {
      "text/html": [
       "<div>\n",
       "<style scoped>\n",
       "    .dataframe tbody tr th:only-of-type {\n",
       "        vertical-align: middle;\n",
       "    }\n",
       "\n",
       "    .dataframe tbody tr th {\n",
       "        vertical-align: top;\n",
       "    }\n",
       "\n",
       "    .dataframe thead th {\n",
       "        text-align: right;\n",
       "    }\n",
       "</style>\n",
       "<table border=\"1\" class=\"dataframe\">\n",
       "  <thead>\n",
       "    <tr style=\"text-align: right;\">\n",
       "      <th></th>\n",
       "      <th>subject_id</th>\n",
       "      <th>project_id</th>\n",
       "      <th>workflow_id</th>\n",
       "      <th>subject_set_id</th>\n",
       "      <th>metadata</th>\n",
       "      <th>locations</th>\n",
       "      <th>classifications_count</th>\n",
       "      <th>retired_at</th>\n",
       "      <th>retirement_reason</th>\n",
       "      <th>created_at</th>\n",
       "      <th>updated_at</th>\n",
       "      <th>iauname</th>\n",
       "    </tr>\n",
       "  </thead>\n",
       "  <tbody>\n",
       "    <tr>\n",
       "      <th>1750</th>\n",
       "      <td>20271125</td>\n",
       "      <td>5733</td>\n",
       "      <td>10582.0</td>\n",
       "      <td>19829</td>\n",
       "      <td>{'!ra': 353.4075512603494, '!dec': -0.35736895...</td>\n",
       "      <td>{\"0\":\"https://panoptes-uploads.zooniverse.org/...</td>\n",
       "      <td>0</td>\n",
       "      <td>NaN</td>\n",
       "      <td>NaN</td>\n",
       "      <td>2018-03-15 17:57:21 UTC</td>\n",
       "      <td>2018-03-15 17:57:21 UTC</td>\n",
       "      <td>J233337.80-002126.4</td>\n",
       "    </tr>\n",
       "    <tr>\n",
       "      <th>1751</th>\n",
       "      <td>20271126</td>\n",
       "      <td>5733</td>\n",
       "      <td>10582.0</td>\n",
       "      <td>19829</td>\n",
       "      <td>{'!ra': 337.55507303486337, '!dec': 0.22841043...</td>\n",
       "      <td>{\"0\":\"https://panoptes-uploads.zooniverse.org/...</td>\n",
       "      <td>0</td>\n",
       "      <td>NaN</td>\n",
       "      <td>NaN</td>\n",
       "      <td>2018-03-15 17:57:21 UTC</td>\n",
       "      <td>2018-03-15 17:57:21 UTC</td>\n",
       "      <td>J223013.21+001342.3</td>\n",
       "    </tr>\n",
       "    <tr>\n",
       "      <th>1752</th>\n",
       "      <td>20271127</td>\n",
       "      <td>5733</td>\n",
       "      <td>10582.0</td>\n",
       "      <td>19829</td>\n",
       "      <td>{'!ra': 350.6611891757893, '!dec': -0.98440176...</td>\n",
       "      <td>{\"0\":\"https://panoptes-uploads.zooniverse.org/...</td>\n",
       "      <td>0</td>\n",
       "      <td>NaN</td>\n",
       "      <td>NaN</td>\n",
       "      <td>2018-03-15 17:57:21 UTC</td>\n",
       "      <td>2018-03-15 17:57:21 UTC</td>\n",
       "      <td>J232238.68-005903.7</td>\n",
       "    </tr>\n",
       "    <tr>\n",
       "      <th>1753</th>\n",
       "      <td>20271128</td>\n",
       "      <td>5733</td>\n",
       "      <td>10582.0</td>\n",
       "      <td>19829</td>\n",
       "      <td>{'!ra': 329.6570599508664, '!dec': 11.82026888...</td>\n",
       "      <td>{\"0\":\"https://panoptes-uploads.zooniverse.org/...</td>\n",
       "      <td>4</td>\n",
       "      <td>NaN</td>\n",
       "      <td>NaN</td>\n",
       "      <td>2018-03-15 17:57:21 UTC</td>\n",
       "      <td>2018-03-15 17:57:21 UTC</td>\n",
       "      <td>J215837.69+114912.9</td>\n",
       "    </tr>\n",
       "    <tr>\n",
       "      <th>1754</th>\n",
       "      <td>20271129</td>\n",
       "      <td>5733</td>\n",
       "      <td>10582.0</td>\n",
       "      <td>19829</td>\n",
       "      <td>{'!ra': 116.35664803487302, '!dec': 23.9896794...</td>\n",
       "      <td>{\"0\":\"https://panoptes-uploads.zooniverse.org/...</td>\n",
       "      <td>0</td>\n",
       "      <td>NaN</td>\n",
       "      <td>NaN</td>\n",
       "      <td>2018-03-15 17:57:21 UTC</td>\n",
       "      <td>2018-03-15 17:57:21 UTC</td>\n",
       "      <td>J074525.59+235922.8</td>\n",
       "    </tr>\n",
       "  </tbody>\n",
       "</table>\n",
       "</div>"
      ],
      "text/plain": [
       "      subject_id  project_id  workflow_id  subject_set_id  \\\n",
       "1750    20271125        5733      10582.0           19829   \n",
       "1751    20271126        5733      10582.0           19829   \n",
       "1752    20271127        5733      10582.0           19829   \n",
       "1753    20271128        5733      10582.0           19829   \n",
       "1754    20271129        5733      10582.0           19829   \n",
       "\n",
       "                                               metadata  \\\n",
       "1750  {'!ra': 353.4075512603494, '!dec': -0.35736895...   \n",
       "1751  {'!ra': 337.55507303486337, '!dec': 0.22841043...   \n",
       "1752  {'!ra': 350.6611891757893, '!dec': -0.98440176...   \n",
       "1753  {'!ra': 329.6570599508664, '!dec': 11.82026888...   \n",
       "1754  {'!ra': 116.35664803487302, '!dec': 23.9896794...   \n",
       "\n",
       "                                              locations  \\\n",
       "1750  {\"0\":\"https://panoptes-uploads.zooniverse.org/...   \n",
       "1751  {\"0\":\"https://panoptes-uploads.zooniverse.org/...   \n",
       "1752  {\"0\":\"https://panoptes-uploads.zooniverse.org/...   \n",
       "1753  {\"0\":\"https://panoptes-uploads.zooniverse.org/...   \n",
       "1754  {\"0\":\"https://panoptes-uploads.zooniverse.org/...   \n",
       "\n",
       "      classifications_count retired_at retirement_reason  \\\n",
       "1750                      0        NaN               NaN   \n",
       "1751                      0        NaN               NaN   \n",
       "1752                      0        NaN               NaN   \n",
       "1753                      4        NaN               NaN   \n",
       "1754                      0        NaN               NaN   \n",
       "\n",
       "                   created_at               updated_at              iauname  \n",
       "1750  2018-03-15 17:57:21 UTC  2018-03-15 17:57:21 UTC  J233337.80-002126.4  \n",
       "1751  2018-03-15 17:57:21 UTC  2018-03-15 17:57:21 UTC  J223013.21+001342.3  \n",
       "1752  2018-03-15 17:57:21 UTC  2018-03-15 17:57:21 UTC  J232238.68-005903.7  \n",
       "1753  2018-03-15 17:57:21 UTC  2018-03-15 17:57:21 UTC  J215837.69+114912.9  \n",
       "1754  2018-03-15 17:57:21 UTC  2018-03-15 17:57:21 UTC  J074525.59+235922.8  "
      ]
     },
     "execution_count": 196,
     "metadata": {},
     "output_type": "execute_result"
    }
   ],
   "source": [
    "latest_subjects.head()"
   ]
  },
  {
   "cell_type": "code",
   "execution_count": 197,
   "metadata": {},
   "outputs": [
    {
     "data": {
      "text/plain": [
       "(0, 0)"
      ]
     },
     "execution_count": 197,
     "metadata": {},
     "output_type": "execute_result"
    }
   ],
   "source": [
    "missing_subjects = latest_subjects[latest_subjects['iauname'].isin(not_imaged_iaunames)]\n",
    "len(missing_subjects), len(not_imaged_iaunames)"
   ]
  },
  {
   "cell_type": "code",
   "execution_count": 199,
   "metadata": {},
   "outputs": [],
   "source": [
    "# missing_subjects['metadata'].iloc[0]"
   ]
  },
  {
   "cell_type": "code",
   "execution_count": 201,
   "metadata": {},
   "outputs": [],
   "source": [
    "# missing_subjects['metadata'].iloc[42]"
   ]
  },
  {
   "cell_type": "markdown",
   "metadata": {},
   "source": [
    "These seem to be either test uploads by other people, or early uploads by me ahead of finishing the download code. They can (and must) be removed from the published catalog."
   ]
  },
  {
   "cell_type": "code",
   "execution_count": 202,
   "metadata": {},
   "outputs": [],
   "source": [
    "# latest_export = latest_export[was_imaged_galaxy]\n",
    "# len(latest_export)"
   ]
  },
  {
   "cell_type": "markdown",
   "metadata": {},
   "source": [
    "### How many did/not pass the selection cuts?"
   ]
  },
  {
   "cell_type": "code",
   "execution_count": 203,
   "metadata": {},
   "outputs": [
    {
     "data": {
      "text/plain": [
       "(343128, 343128)"
      ]
     },
     "execution_count": 203,
     "metadata": {},
     "output_type": "execute_result"
    }
   ],
   "source": [
    "to_upload_cut = apply_selection_cuts(to_upload)\n",
    "len(to_upload), len(to_upload_cut)"
   ]
  },
  {
   "cell_type": "code",
   "execution_count": 204,
   "metadata": {},
   "outputs": [
    {
     "data": {
      "text/plain": [
       "True    243980\n",
       "Name: iauname, dtype: int64"
      ]
     },
     "execution_count": 204,
     "metadata": {},
     "output_type": "execute_result"
    }
   ],
   "source": [
    "was_valid_upload = latest_export['iauname'].isin(to_upload['iauname'])\n",
    "was_valid_upload.value_counts()"
   ]
  },
  {
   "cell_type": "markdown",
   "metadata": {},
   "source": [
    "Therefore all of them passed the selection cuts. Good times."
   ]
  },
  {
   "cell_type": "markdown",
   "metadata": {},
   "source": [
    "### How many had valid images? (I think I forgot this check at first)"
   ]
  },
  {
   "cell_type": "code",
   "execution_count": 205,
   "metadata": {},
   "outputs": [
    {
     "data": {
      "text/plain": [
       "True    243980\n",
       "Name: iauname, dtype: int64"
      ]
     },
     "execution_count": 205,
     "metadata": {},
     "output_type": "execute_result"
    }
   ],
   "source": [
    "was_valid_upload = latest_export['iauname'].isin(to_upload['iauname'])\n",
    "was_valid_upload.value_counts()"
   ]
  },
  {
   "cell_type": "code",
   "execution_count": 206,
   "metadata": {},
   "outputs": [],
   "source": [
    "valid_to_upload = to_upload.query('fits_filled')"
   ]
  },
  {
   "cell_type": "code",
   "execution_count": 207,
   "metadata": {},
   "outputs": [
    {
     "data": {
      "text/plain": [
       "True    243980\n",
       "Name: iauname, dtype: int64"
      ]
     },
     "execution_count": 207,
     "metadata": {},
     "output_type": "execute_result"
    }
   ],
   "source": [
    "was_valid_upload = latest_export['iauname'].isin(valid_to_upload['iauname'])\n",
    "was_valid_upload.value_counts()"
   ]
  },
  {
   "cell_type": "markdown",
   "metadata": {},
   "source": [
    "12k were uploaded without fits_filled=True"
   ]
  },
  {
   "cell_type": "code",
   "execution_count": 208,
   "metadata": {},
   "outputs": [
    {
     "data": {
      "text/plain": [
       "(0, 0)"
      ]
     },
     "execution_count": 208,
     "metadata": {},
     "output_type": "execute_result"
    }
   ],
   "source": [
    "bad_image_iaunames = latest_export[~was_valid_upload]['iauname']\n",
    "bad_image_subjects = latest_subjects[latest_subjects['iauname'].isin(bad_image_iaunames)]\n",
    "len(bad_image_subjects), len(bad_image_iaunames)  # will include some duplicates, e.g from mistaken uploads or MANGA"
   ]
  },
  {
   "cell_type": "code",
   "execution_count": 209,
   "metadata": {},
   "outputs": [],
   "source": [
    "bad_image_subjects['locations'] = bad_image_subjects['locations'].apply(json.loads)"
   ]
  },
  {
   "cell_type": "code",
   "execution_count": 212,
   "metadata": {},
   "outputs": [],
   "source": [
    "# bad_image_subjects['locations'].sample(10).values"
   ]
  },
  {
   "cell_type": "markdown",
   "metadata": {},
   "source": [
    "Yep, these do seem bad - usually missing a filter - and can be removed. Or, we can probably still include this, but add a 'bad image' flag?"
   ]
  },
  {
   "cell_type": "code",
   "execution_count": 211,
   "metadata": {},
   "outputs": [
    {
     "data": {
      "text/plain": [
       "243980"
      ]
     },
     "execution_count": 211,
     "metadata": {},
     "output_type": "execute_result"
    }
   ],
   "source": [
    "latest_export = latest_export[was_valid_upload]\n",
    "len(latest_export)"
   ]
  },
  {
   "cell_type": "markdown",
   "metadata": {},
   "source": [
    "I decided to remove them, and this is done in decals_dr5_fixes.ipynb"
   ]
  },
  {
   "cell_type": "markdown",
   "metadata": {},
   "source": [
    "### How many were in DR1/2?"
   ]
  },
  {
   "cell_type": "code",
   "execution_count": 213,
   "metadata": {},
   "outputs": [
    {
     "data": {
      "text/plain": [
       "(36450, 103712, 243980)"
      ]
     },
     "execution_count": 213,
     "metadata": {},
     "output_type": "execute_result"
    }
   ],
   "source": [
    "was_in_dr1_dr2 = latest_export['iauname'].isin(dr1_dr2['iauname'])  # not including the possible post-hoc DR1 cut\n",
    "was_in_dr1_dr2.sum(), len(dr1_dr2), len(latest_export)"
   ]
  },
  {
   "cell_type": "code",
   "execution_count": 214,
   "metadata": {},
   "outputs": [
    {
     "data": {
      "text/plain": [
       "<matplotlib.axes._subplots.AxesSubplot at 0x7f4a1a2d9c10>"
      ]
     },
     "execution_count": 214,
     "metadata": {},
     "output_type": "execute_result"
    },
    {
     "data": {
      "image/png": "[encoded data removed]",
      "text/plain": [
       "<Figure size 432x288 with 1 Axes>"
      ]
     },
     "metadata": {
      "needs_background": "light"
     },
     "output_type": "display_data"
    }
   ],
   "source": [
    "_, bins = np.histogram(np.linspace(0., 120.), bins=40)\n",
    "votes = latest_export[was_in_dr1_dr2]['smooth-or-featured_total-votes']\n",
    "votes.hist(bins=bins)"
   ]
  },
  {
   "cell_type": "code",
   "execution_count": 215,
   "metadata": {},
   "outputs": [
    {
     "data": {
      "text/plain": [
       "(24527, 2338, 4979)"
      ]
     },
     "execution_count": 215,
     "metadata": {},
     "output_type": "execute_result"
    }
   ],
   "source": [
    "(votes.values < 7).sum(), ((35 < votes.values) & (votes.values < 45)).sum(), (votes.values > 80).sum()"
   ]
  },
  {
   "cell_type": "code",
   "execution_count": 216,
   "metadata": {},
   "outputs": [
    {
     "data": {
      "text/plain": [
       "5.0    19460\n",
       "4.0     2101\n",
       "6.0     1652\n",
       "3.0      811\n",
       "2.0      327\n",
       "1.0      176\n",
       "Name: smooth-or-featured_total-votes, dtype: int64"
      ]
     },
     "execution_count": 216,
     "metadata": {},
     "output_type": "execute_result"
    }
   ],
   "source": [
    "votes[votes < 7].value_counts()"
   ]
  },
  {
   "cell_type": "code",
   "execution_count": null,
   "metadata": {},
   "outputs": [],
   "source": []
  },
  {
   "cell_type": "markdown",
   "metadata": {},
   "source": [
    "I think that the only reasons for joint catalog galaxies not to be uploaded are:\n",
    "- Already classified in DR1/2\n",
    "- Bad fits image\n",
    "\n",
    "Let's verify by cutting down to_upload and seeing if all the remaining galaxies are in latest_export."
   ]
  },
  {
   "cell_type": "code",
   "execution_count": 217,
   "metadata": {},
   "outputs": [
    {
     "data": {
      "text/plain": [
       "343128"
      ]
     },
     "execution_count": 217,
     "metadata": {},
     "output_type": "execute_result"
    }
   ],
   "source": [
    "len(to_upload)"
   ]
  },
  {
   "cell_type": "code",
   "execution_count": 218,
   "metadata": {},
   "outputs": [
    {
     "data": {
      "text/plain": [
       "309398"
      ]
     },
     "execution_count": 218,
     "metadata": {},
     "output_type": "execute_result"
    }
   ],
   "source": [
    "len(to_upload.query('fits_filled'))"
   ]
  },
  {
   "cell_type": "code",
   "execution_count": 219,
   "metadata": {},
   "outputs": [],
   "source": [
    "# not_in_dr1_dr2 = to_upload[~to_upload['iauname'].isin(dr1_dr2['iauname'])]\n",
    "# len(not_in_dr1_dr2) NO not all subjects were classified"
   ]
  },
  {
   "cell_type": "code",
   "execution_count": 220,
   "metadata": {},
   "outputs": [],
   "source": [
    "#dr1/2 raw classifications\n",
    "dr1_c = pd.read_csv('/media/walml/beta/galaxy_zoo/decals/gzreduction_ouroborous/working_dir/raw/classifications/2017-10-15_galaxy_zoo_decals_classifications.csv')\n",
    "dr2_c = pd.read_csv('/media/walml/beta/galaxy_zoo/decals/gzreduction_ouroborous/working_dir/raw/classifications/2017-10-15_galaxy_zoo_decals_dr2_classifications.csv')"
   ]
  },
  {
   "cell_type": "code",
   "execution_count": 221,
   "metadata": {},
   "outputs": [
    {
     "name": "stdout",
     "output_type": "stream",
     "text": [
      "103712 94024\n",
      "253908\n"
     ]
    },
    {
     "name": "stderr",
     "output_type": "stream",
     "text": [
      "/home/walml/anaconda3/envs/zoobot/lib/python3.7/site-packages/IPython/core/interactiveshell.py:3063: DtypeWarning: Columns (23) have mixed types.Specify dtype option on import or set low_memory=False.\n",
      "  interactivity=interactivity, compiler=compiler, result=result)\n"
     ]
    }
   ],
   "source": [
    "dr1_subject_ids = set(dr1_c['subject_id'])\n",
    "dr2_subject_ids = set(dr2_c['subject_id'])\n",
    "dr1_2_subject_ids = dr1_subject_ids.union(dr2_subject_ids)\n",
    "dr1_dr2_subjects = pd.read_csv('/media/walml/beta/galaxy_zoo/decals/dr1_dr2/subjects/decals_dr1_and_dr2_with_subj_id.csv')\n",
    "dr1_dr2_classified = dr1_dr2_subjects[dr1_dr2_subjects['subject_id'].isin(dr1_2_subject_ids)]\n",
    "print(len(dr1_dr2_subjects), len(dr1_dr2_classified))\n",
    "\n",
    "dr1_dr2_classified_iaunames = dr1_dr2_classified['iauname']\n",
    "not_classified_in_dr1_dr2 = to_upload[~to_upload['iauname'].isin(dr1_dr2_classified_iaunames)]\n",
    "print(len(not_classified_in_dr1_dr2))"
   ]
  },
  {
   "cell_type": "code",
   "execution_count": 222,
   "metadata": {},
   "outputs": [
    {
     "data": {
      "text/plain": [
       "220801"
      ]
     },
     "execution_count": 222,
     "metadata": {},
     "output_type": "execute_result"
    }
   ],
   "source": [
    "should_be_uploaded = not_classified_in_dr1_dr2.query('fits_filled')\n",
    "len(should_be_uploaded)"
   ]
  },
  {
   "cell_type": "code",
   "execution_count": 223,
   "metadata": {},
   "outputs": [
    {
     "data": {
      "text/plain": [
       "True     211228\n",
       "False      9573\n",
       "Name: iauname, dtype: int64"
      ]
     },
     "execution_count": 223,
     "metadata": {},
     "output_type": "execute_result"
    }
   ],
   "source": [
    "should_be_uploaded['iauname'].isin(latest_export['iauname']).value_counts()"
   ]
  },
  {
   "cell_type": "markdown",
   "metadata": {},
   "source": [
    "Okay, so there's another 10% we could have uploaded? The random uploads are done from '/media/walml/beta/decals/catalogs/decals_master_catalog.csv'"
   ]
  },
  {
   "cell_type": "code",
   "execution_count": 224,
   "metadata": {},
   "outputs": [],
   "source": [
    "master_catalog = pd.read_csv('/media/walml/beta/galaxy_zoo/decals/catalogs/decals_master_catalog.csv')"
   ]
  },
  {
   "cell_type": "code",
   "execution_count": 225,
   "metadata": {},
   "outputs": [
    {
     "data": {
      "text/plain": [
       "True     334027\n",
       "False      9101\n",
       "Name: iauname, dtype: int64"
      ]
     },
     "execution_count": 225,
     "metadata": {},
     "output_type": "execute_result"
    }
   ],
   "source": [
    "to_upload['iauname'].isin(master_catalog['iauname']).value_counts()"
   ]
  },
  {
   "cell_type": "code",
   "execution_count": null,
   "metadata": {},
   "outputs": [],
   "source": []
  },
  {
   "cell_type": "code",
   "execution_count": 226,
   "metadata": {},
   "outputs": [],
   "source": [
    "allegedly_uploadable = pd.read_csv('/media/walml/beta/galaxy_zoo/decals/catalogs/decals_dr5_uploadable_master_catalog_nov_2019.csv')\n"
   ]
  },
  {
   "cell_type": "code",
   "execution_count": 227,
   "metadata": {},
   "outputs": [
    {
     "data": {
      "text/plain": [
       "(343128, 214280, 220801)"
      ]
     },
     "execution_count": 227,
     "metadata": {},
     "output_type": "execute_result"
    }
   ],
   "source": [
    "len(to_upload), len(allegedly_uploadable), len(should_be_uploaded)  # should be filtered by not in DR1/2, not already classified, filled_fits, and (from to_upload) selection cuts"
   ]
  },
  {
   "cell_type": "code",
   "execution_count": null,
   "metadata": {},
   "outputs": [],
   "source": [
    "(343128, 214280, 220801)"
   ]
  },
  {
   "cell_type": "markdown",
   "metadata": {},
   "source": [
    "Excellent. Just to refresh things and recover that weird missing 8 galaxies, I'll update the uploadable catalog and then use gz-scripts to upload all those galaxies to decals/wrapping_up_dr5 subject set"
   ]
  },
  {
   "cell_type": "code",
   "execution_count": null,
   "metadata": {},
   "outputs": [],
   "source": []
  },
  {
   "cell_type": "markdown",
   "metadata": {},
   "source": [
    "These weren't included before because I got confused and used/gave the 'decals_master_catalog file' instead of 'decals_dr5_uploadable_master_catalog_nov_2019'. Clear names and clean folders are important for doing the right thing!"
   ]
  },
  {
   "cell_type": "code",
   "execution_count": 228,
   "metadata": {},
   "outputs": [
    {
     "data": {
      "text/plain": [
       "True    334027\n",
       "Name: iauname, dtype: int64"
      ]
     },
     "execution_count": 228,
     "metadata": {},
     "output_type": "execute_result"
    }
   ],
   "source": [
    "master_catalog['iauname'].isin(to_upload['iauname']).value_counts()"
   ]
  },
  {
   "cell_type": "code",
   "execution_count": 229,
   "metadata": {},
   "outputs": [
    {
     "data": {
      "text/plain": [
       "True     300535\n",
       "False     33492\n",
       "Name: iauname, dtype: int64"
      ]
     },
     "execution_count": 229,
     "metadata": {},
     "output_type": "execute_result"
    }
   ],
   "source": [
    "master_catalog['iauname'].isin(to_upload.query('fits_filled')['iauname']).value_counts()"
   ]
  },
  {
   "cell_type": "code",
   "execution_count": 230,
   "metadata": {},
   "outputs": [
    {
     "data": {
      "text/plain": [
       "True     249369\n",
       "False     84658\n",
       "Name: iauname, dtype: int64"
      ]
     },
     "execution_count": 230,
     "metadata": {},
     "output_type": "execute_result"
    }
   ],
   "source": [
    "master_catalog['iauname'].isin(not_classified_in_dr1_dr2['iauname']).value_counts()"
   ]
  },
  {
   "cell_type": "markdown",
   "metadata": {},
   "source": [
    "So uploading from the master catalog is a really bad idea and Tobias and I have probably been doing it. Woops!!\n",
    "\n",
    "This is the catalog I gave tobias to use:"
   ]
  },
  {
   "cell_type": "code",
   "execution_count": 231,
   "metadata": {},
   "outputs": [
    {
     "name": "stderr",
     "output_type": "stream",
     "text": [
      "/home/walml/anaconda3/envs/zoobot/lib/python3.7/site-packages/IPython/core/interactiveshell.py:3063: DtypeWarning: Columns (109) have mixed types.Specify dtype option on import or set low_memory=False.\n",
      "  interactivity=interactivity, compiler=compiler, result=result)\n"
     ]
    }
   ],
   "source": [
    "tobias = pd.read_csv('/home/walml/Downloads/decals_master_catalog_tobias.csv')"
   ]
  },
  {
   "cell_type": "code",
   "execution_count": 100,
   "metadata": {},
   "outputs": [
    {
     "data": {
      "text/plain": [
       "209215"
      ]
     },
     "execution_count": 100,
     "metadata": {},
     "output_type": "execute_result"
    }
   ],
   "source": [
    "len(tobias)"
   ]
  },
  {
   "cell_type": "code",
   "execution_count": 101,
   "metadata": {},
   "outputs": [
    {
     "data": {
      "text/plain": [
       "True     208775\n",
       "False       440\n",
       "Name: iauname, dtype: int64"
      ]
     },
     "execution_count": 101,
     "metadata": {},
     "output_type": "execute_result"
    }
   ],
   "source": [
    "tobias['iauname'].isin(should_be_uploaded['iauname']).value_counts()"
   ]
  },
  {
   "cell_type": "code",
   "execution_count": 102,
   "metadata": {},
   "outputs": [
    {
     "data": {
      "text/plain": [
       "True     208775\n",
       "False     12026\n",
       "Name: iauname, dtype: int64"
      ]
     },
     "execution_count": 102,
     "metadata": {},
     "output_type": "execute_result"
    }
   ],
   "source": [
    "should_be_uploaded['iauname'].isin(tobias['iauname']).value_counts()"
   ]
  },
  {
   "cell_type": "markdown",
   "metadata": {},
   "source": [
    "Hmm. Actually, this *was* the right file and includes all but 5000 of the galaxies which should have been uploaded.\n",
    "\n",
    "Let's use the latest subject export to find all the iaunames not yet uploaded that should have been, and upload them."
   ]
  },
  {
   "cell_type": "code",
   "execution_count": 103,
   "metadata": {},
   "outputs": [
    {
     "data": {
      "text/plain": [
       "True     191664\n",
       "False     29137\n",
       "Name: iauname, dtype: int64"
      ]
     },
     "execution_count": 103,
     "metadata": {},
     "output_type": "execute_result"
    }
   ],
   "source": [
    "should_be_uploaded['iauname'].isin(latest_subjects['iauname']).value_counts()"
   ]
  },
  {
   "cell_type": "markdown",
   "metadata": {},
   "source": [
    "So that's weird - there are 26k galaxies which should be uploaded missing from the latest classification export, but 33k missing from the latest subjects export. Shouldn't the subjects export include every subject in classifications export?"
   ]
  },
  {
   "cell_type": "code",
   "execution_count": 104,
   "metadata": {},
   "outputs": [
    {
     "data": {
      "text/plain": [
       "True     402336\n",
       "False     24472\n",
       "Name: iauname, dtype: int64"
      ]
     },
     "execution_count": 104,
     "metadata": {},
     "output_type": "execute_result"
    }
   ],
   "source": [
    "latest_subjects['iauname'].isin(latest_export['iauname']).value_counts()"
   ]
  },
  {
   "cell_type": "code",
   "execution_count": null,
   "metadata": {},
   "outputs": [],
   "source": []
  },
  {
   "cell_type": "code",
   "execution_count": null,
   "metadata": {},
   "outputs": [],
   "source": []
  },
  {
   "cell_type": "code",
   "execution_count": 232,
   "metadata": {},
   "outputs": [
    {
     "data": {
      "text/plain": [
       "29137"
      ]
     },
     "execution_count": 232,
     "metadata": {},
     "output_type": "execute_result"
    }
   ],
   "source": [
    "missing = should_be_uploaded[~should_be_uploaded['iauname'].isin(latest_subjects['iauname'])]\n",
    "len(missing)"
   ]
  },
  {
   "cell_type": "code",
   "execution_count": 233,
   "metadata": {},
   "outputs": [
    {
     "data": {
      "text/plain": [
       "316859    J021333.46-113643.9\n",
       "178096    J074747.84+173226.8\n",
       "136022    J170640.34+235458.8\n",
       "189980    J134450.67+292854.3\n",
       "102638    J084644.86+304532.2\n",
       "70506     J075654.91+280525.5\n",
       "200441    J150307.77+233709.3\n",
       "163967    J135257.80+093848.8\n",
       "62919     J030411.86-011322.5\n",
       "192288    J140856.76+242724.7\n",
       "Name: iauname, dtype: object"
      ]
     },
     "execution_count": 233,
     "metadata": {},
     "output_type": "execute_result"
    }
   ],
   "source": [
    "missing['iauname'].sample(10)"
   ]
  },
  {
   "cell_type": "markdown",
   "metadata": {},
   "source": [
    "These can be safely uploaded as a new subject set"
   ]
  },
  {
   "cell_type": "code",
   "execution_count": 234,
   "metadata": {},
   "outputs": [
    {
     "name": "stderr",
     "output_type": "stream",
     "text": [
      "/home/walml/anaconda3/envs/zoobot/lib/python3.7/site-packages/ipykernel_launcher.py:1: SettingWithCopyWarning: \n",
      "A value is trying to be set on a copy of a slice from a DataFrame.\n",
      "Try using .loc[row_indexer,col_indexer] = value instead\n",
      "\n",
      "See the caveats in the documentation: https://pandas.pydata.org/pandas-docs/stable/user_guide/indexing.html#returning-a-view-versus-a-copy\n",
      "  \"\"\"Entry point for launching an IPython kernel.\n",
      "/home/walml/anaconda3/envs/zoobot/lib/python3.7/site-packages/ipykernel_launcher.py:2: SettingWithCopyWarning: \n",
      "A value is trying to be set on a copy of a slice from a DataFrame.\n",
      "Try using .loc[row_indexer,col_indexer] = value instead\n",
      "\n",
      "See the caveats in the documentation: https://pandas.pydata.org/pandas-docs/stable/user_guide/indexing.html#returning-a-view-versus-a-copy\n",
      "  \n"
     ]
    }
   ],
   "source": [
    "missing['png_loc'] = missing['png_loc'].apply(lambda x: x.decode('utf8'))\n",
    "missing['fits_loc'] = missing['fits_loc'].apply(lambda x: x.decode('utf8'))"
   ]
  },
  {
   "cell_type": "code",
   "execution_count": 235,
   "metadata": {},
   "outputs": [
    {
     "data": {
      "text/html": [
       "<div>\n",
       "<style scoped>\n",
       "    .dataframe tbody tr th:only-of-type {\n",
       "        vertical-align: middle;\n",
       "    }\n",
       "\n",
       "    .dataframe tbody tr th {\n",
       "        vertical-align: top;\n",
       "    }\n",
       "\n",
       "    .dataframe thead th {\n",
       "        text-align: right;\n",
       "    }\n",
       "</style>\n",
       "<table border=\"1\" class=\"dataframe\">\n",
       "  <thead>\n",
       "    <tr style=\"text-align: right;\">\n",
       "      <th></th>\n",
       "      <th>iauname</th>\n",
       "      <th>nsa_id</th>\n",
       "      <th>ra</th>\n",
       "      <th>dec</th>\n",
       "      <th>petrotheta</th>\n",
       "      <th>petroth50</th>\n",
       "      <th>petroth90</th>\n",
       "      <th>z</th>\n",
       "      <th>fits_loc</th>\n",
       "      <th>png_loc</th>\n",
       "      <th>fits_ready</th>\n",
       "      <th>fits_filled</th>\n",
       "      <th>png_ready</th>\n",
       "    </tr>\n",
       "  </thead>\n",
       "  <tbody>\n",
       "    <tr>\n",
       "      <th>14208</th>\n",
       "      <td>J152824.24-002951.3</td>\n",
       "      <td>16333</td>\n",
       "      <td>232.101003</td>\n",
       "      <td>-0.497560</td>\n",
       "      <td>11.394722</td>\n",
       "      <td>5.300970</td>\n",
       "      <td>12.203951</td>\n",
       "      <td>0.057843</td>\n",
       "      <td>/Volumes/EXTERNAL/decals/fits/dr5/J152/J152824...</td>\n",
       "      <td>/Volumes/EXTERNAL/decals/png/dr5/J152/J152824....</td>\n",
       "      <td>True</td>\n",
       "      <td>True</td>\n",
       "      <td>True</td>\n",
       "    </tr>\n",
       "    <tr>\n",
       "      <th>16290</th>\n",
       "      <td>J120208.92-030136.9</td>\n",
       "      <td>18671</td>\n",
       "      <td>180.537134</td>\n",
       "      <td>-3.026832</td>\n",
       "      <td>31.546129</td>\n",
       "      <td>17.297550</td>\n",
       "      <td>46.023430</td>\n",
       "      <td>0.052493</td>\n",
       "      <td>/Volumes/EXTERNAL/decals/fits/dr5/J120/J120208...</td>\n",
       "      <td>/Volumes/EXTERNAL/decals/png/dr5/J120/J120208....</td>\n",
       "      <td>True</td>\n",
       "      <td>True</td>\n",
       "      <td>True</td>\n",
       "    </tr>\n",
       "    <tr>\n",
       "      <th>20516</th>\n",
       "      <td>J153221.48+003021.5</td>\n",
       "      <td>26956</td>\n",
       "      <td>233.089534</td>\n",
       "      <td>0.505969</td>\n",
       "      <td>8.704482</td>\n",
       "      <td>3.753158</td>\n",
       "      <td>12.340964</td>\n",
       "      <td>0.086825</td>\n",
       "      <td>/Volumes/EXTERNAL/decals/fits/dr5/J153/J153221...</td>\n",
       "      <td>/Volumes/EXTERNAL/decals/png/dr5/J153/J153221....</td>\n",
       "      <td>True</td>\n",
       "      <td>True</td>\n",
       "      <td>True</td>\n",
       "    </tr>\n",
       "    <tr>\n",
       "      <th>20669</th>\n",
       "      <td>J162220.24-003525.5</td>\n",
       "      <td>27167</td>\n",
       "      <td>245.584363</td>\n",
       "      <td>-0.590422</td>\n",
       "      <td>7.437321</td>\n",
       "      <td>3.518912</td>\n",
       "      <td>7.995928</td>\n",
       "      <td>0.044573</td>\n",
       "      <td>/Volumes/EXTERNAL/decals/fits/dr5/J162/J162220...</td>\n",
       "      <td>/Volumes/EXTERNAL/decals/png/dr5/J162/J162220....</td>\n",
       "      <td>True</td>\n",
       "      <td>True</td>\n",
       "      <td>True</td>\n",
       "    </tr>\n",
       "    <tr>\n",
       "      <th>20752</th>\n",
       "      <td>J163058.78+001620.0</td>\n",
       "      <td>27270</td>\n",
       "      <td>247.744970</td>\n",
       "      <td>0.272281</td>\n",
       "      <td>9.324070</td>\n",
       "      <td>4.247065</td>\n",
       "      <td>9.624050</td>\n",
       "      <td>0.113730</td>\n",
       "      <td>/Volumes/EXTERNAL/decals/fits/dr5/J163/J163058...</td>\n",
       "      <td>/Volumes/EXTERNAL/decals/png/dr5/J163/J163058....</td>\n",
       "      <td>True</td>\n",
       "      <td>True</td>\n",
       "      <td>True</td>\n",
       "    </tr>\n",
       "    <tr>\n",
       "      <th>...</th>\n",
       "      <td>...</td>\n",
       "      <td>...</td>\n",
       "      <td>...</td>\n",
       "      <td>...</td>\n",
       "      <td>...</td>\n",
       "      <td>...</td>\n",
       "      <td>...</td>\n",
       "      <td>...</td>\n",
       "      <td>...</td>\n",
       "      <td>...</td>\n",
       "      <td>...</td>\n",
       "      <td>...</td>\n",
       "      <td>...</td>\n",
       "    </tr>\n",
       "    <tr>\n",
       "      <th>343073</th>\n",
       "      <td>J142431.49-003142.4</td>\n",
       "      <td>698428</td>\n",
       "      <td>216.131200</td>\n",
       "      <td>-0.528175</td>\n",
       "      <td>5.513321</td>\n",
       "      <td>2.764185</td>\n",
       "      <td>5.407866</td>\n",
       "      <td>0.072400</td>\n",
       "      <td>/Volumes/EXTERNAL/decals/fits/dr5/J142/J142431...</td>\n",
       "      <td>/Volumes/EXTERNAL/decals/png/dr5/J142/J142431....</td>\n",
       "      <td>True</td>\n",
       "      <td>True</td>\n",
       "      <td>True</td>\n",
       "    </tr>\n",
       "    <tr>\n",
       "      <th>343095</th>\n",
       "      <td>J144321.99-003753.1</td>\n",
       "      <td>698496</td>\n",
       "      <td>220.841699</td>\n",
       "      <td>-0.631355</td>\n",
       "      <td>4.146680</td>\n",
       "      <td>1.851529</td>\n",
       "      <td>5.675371</td>\n",
       "      <td>0.149900</td>\n",
       "      <td>/Volumes/EXTERNAL/decals/fits/dr5/J144/J144321...</td>\n",
       "      <td>/Volumes/EXTERNAL/decals/png/dr5/J144/J144321....</td>\n",
       "      <td>True</td>\n",
       "      <td>True</td>\n",
       "      <td>True</td>\n",
       "    </tr>\n",
       "    <tr>\n",
       "      <th>343107</th>\n",
       "      <td>J143619.83-010748.1</td>\n",
       "      <td>698522</td>\n",
       "      <td>219.083613</td>\n",
       "      <td>-1.130237</td>\n",
       "      <td>18.740425</td>\n",
       "      <td>7.763114</td>\n",
       "      <td>25.235826</td>\n",
       "      <td>0.105971</td>\n",
       "      <td>/Volumes/EXTERNAL/decals/fits/dr5/J143/J143619...</td>\n",
       "      <td>/Volumes/EXTERNAL/decals/png/dr5/J143/J143619....</td>\n",
       "      <td>True</td>\n",
       "      <td>True</td>\n",
       "      <td>True</td>\n",
       "    </tr>\n",
       "    <tr>\n",
       "      <th>343116</th>\n",
       "      <td>J144612.39-014833.1</td>\n",
       "      <td>698548</td>\n",
       "      <td>221.550819</td>\n",
       "      <td>-1.814557</td>\n",
       "      <td>4.897500</td>\n",
       "      <td>2.093886</td>\n",
       "      <td>7.086283</td>\n",
       "      <td>0.080386</td>\n",
       "      <td>/Volumes/EXTERNAL/decals/fits/dr5/J144/J144612...</td>\n",
       "      <td>/Volumes/EXTERNAL/decals/png/dr5/J144/J144612....</td>\n",
       "      <td>True</td>\n",
       "      <td>True</td>\n",
       "      <td>True</td>\n",
       "    </tr>\n",
       "    <tr>\n",
       "      <th>343124</th>\n",
       "      <td>J235101.08-100042.7</td>\n",
       "      <td>698661</td>\n",
       "      <td>357.755712</td>\n",
       "      <td>-10.010851</td>\n",
       "      <td>17.017670</td>\n",
       "      <td>7.430995</td>\n",
       "      <td>19.937094</td>\n",
       "      <td>0.074300</td>\n",
       "      <td>/Volumes/EXTERNAL/decals/fits/dr5/J235/J235101...</td>\n",
       "      <td>/Volumes/EXTERNAL/decals/png/dr5/J235/J235101....</td>\n",
       "      <td>True</td>\n",
       "      <td>True</td>\n",
       "      <td>True</td>\n",
       "    </tr>\n",
       "  </tbody>\n",
       "</table>\n",
       "<p>29137 rows × 13 columns</p>\n",
       "</div>"
      ],
      "text/plain": [
       "                    iauname  nsa_id          ra        dec  petrotheta  \\\n",
       "14208   J152824.24-002951.3   16333  232.101003  -0.497560   11.394722   \n",
       "16290   J120208.92-030136.9   18671  180.537134  -3.026832   31.546129   \n",
       "20516   J153221.48+003021.5   26956  233.089534   0.505969    8.704482   \n",
       "20669   J162220.24-003525.5   27167  245.584363  -0.590422    7.437321   \n",
       "20752   J163058.78+001620.0   27270  247.744970   0.272281    9.324070   \n",
       "...                     ...     ...         ...        ...         ...   \n",
       "343073  J142431.49-003142.4  698428  216.131200  -0.528175    5.513321   \n",
       "343095  J144321.99-003753.1  698496  220.841699  -0.631355    4.146680   \n",
       "343107  J143619.83-010748.1  698522  219.083613  -1.130237   18.740425   \n",
       "343116  J144612.39-014833.1  698548  221.550819  -1.814557    4.897500   \n",
       "343124  J235101.08-100042.7  698661  357.755712 -10.010851   17.017670   \n",
       "\n",
       "        petroth50  petroth90         z  \\\n",
       "14208    5.300970  12.203951  0.057843   \n",
       "16290   17.297550  46.023430  0.052493   \n",
       "20516    3.753158  12.340964  0.086825   \n",
       "20669    3.518912   7.995928  0.044573   \n",
       "20752    4.247065   9.624050  0.113730   \n",
       "...           ...        ...       ...   \n",
       "343073   2.764185   5.407866  0.072400   \n",
       "343095   1.851529   5.675371  0.149900   \n",
       "343107   7.763114  25.235826  0.105971   \n",
       "343116   2.093886   7.086283  0.080386   \n",
       "343124   7.430995  19.937094  0.074300   \n",
       "\n",
       "                                                 fits_loc  \\\n",
       "14208   /Volumes/EXTERNAL/decals/fits/dr5/J152/J152824...   \n",
       "16290   /Volumes/EXTERNAL/decals/fits/dr5/J120/J120208...   \n",
       "20516   /Volumes/EXTERNAL/decals/fits/dr5/J153/J153221...   \n",
       "20669   /Volumes/EXTERNAL/decals/fits/dr5/J162/J162220...   \n",
       "20752   /Volumes/EXTERNAL/decals/fits/dr5/J163/J163058...   \n",
       "...                                                   ...   \n",
       "343073  /Volumes/EXTERNAL/decals/fits/dr5/J142/J142431...   \n",
       "343095  /Volumes/EXTERNAL/decals/fits/dr5/J144/J144321...   \n",
       "343107  /Volumes/EXTERNAL/decals/fits/dr5/J143/J143619...   \n",
       "343116  /Volumes/EXTERNAL/decals/fits/dr5/J144/J144612...   \n",
       "343124  /Volumes/EXTERNAL/decals/fits/dr5/J235/J235101...   \n",
       "\n",
       "                                                  png_loc  fits_ready  \\\n",
       "14208   /Volumes/EXTERNAL/decals/png/dr5/J152/J152824....        True   \n",
       "16290   /Volumes/EXTERNAL/decals/png/dr5/J120/J120208....        True   \n",
       "20516   /Volumes/EXTERNAL/decals/png/dr5/J153/J153221....        True   \n",
       "20669   /Volumes/EXTERNAL/decals/png/dr5/J162/J162220....        True   \n",
       "20752   /Volumes/EXTERNAL/decals/png/dr5/J163/J163058....        True   \n",
       "...                                                   ...         ...   \n",
       "343073  /Volumes/EXTERNAL/decals/png/dr5/J142/J142431....        True   \n",
       "343095  /Volumes/EXTERNAL/decals/png/dr5/J144/J144321....        True   \n",
       "343107  /Volumes/EXTERNAL/decals/png/dr5/J143/J143619....        True   \n",
       "343116  /Volumes/EXTERNAL/decals/png/dr5/J144/J144612....        True   \n",
       "343124  /Volumes/EXTERNAL/decals/png/dr5/J235/J235101....        True   \n",
       "\n",
       "        fits_filled  png_ready  \n",
       "14208          True       True  \n",
       "16290          True       True  \n",
       "20516          True       True  \n",
       "20669          True       True  \n",
       "20752          True       True  \n",
       "...             ...        ...  \n",
       "343073         True       True  \n",
       "343095         True       True  \n",
       "343107         True       True  \n",
       "343116         True       True  \n",
       "343124         True       True  \n",
       "\n",
       "[29137 rows x 13 columns]"
      ]
     },
     "execution_count": 235,
     "metadata": {},
     "output_type": "execute_result"
    }
   ],
   "source": [
    "missing"
   ]
  },
  {
   "cell_type": "code",
   "execution_count": 236,
   "metadata": {},
   "outputs": [
    {
     "name": "stderr",
     "output_type": "stream",
     "text": [
      "/home/walml/anaconda3/envs/zoobot/lib/python3.7/site-packages/ipykernel_launcher.py:1: SettingWithCopyWarning: \n",
      "A value is trying to be set on a copy of a slice from a DataFrame.\n",
      "Try using .loc[row_indexer,col_indexer] = value instead\n",
      "\n",
      "See the caveats in the documentation: https://pandas.pydata.org/pandas-docs/stable/user_guide/indexing.html#returning-a-view-versus-a-copy\n",
      "  \"\"\"Entry point for launching an IPython kernel.\n"
     ]
    }
   ],
   "source": [
    "missing['relative_png_loc'] = missing['png_loc'].apply(lambda x: x.replace('/Volumes/EXTERNAL/decals/png/dr5/', ''))"
   ]
  },
  {
   "cell_type": "code",
   "execution_count": 237,
   "metadata": {},
   "outputs": [
    {
     "data": {
      "text/plain": [
       "14208     J152/J152824.24-002951.3.png\n",
       "16290     J120/J120208.92-030136.9.png\n",
       "20516     J153/J153221.48+003021.5.png\n",
       "20669     J162/J162220.24-003525.5.png\n",
       "20752     J163/J163058.78+001620.0.png\n",
       "                      ...             \n",
       "343073    J142/J142431.49-003142.4.png\n",
       "343095    J144/J144321.99-003753.1.png\n",
       "343107    J143/J143619.83-010748.1.png\n",
       "343116    J144/J144612.39-014833.1.png\n",
       "343124    J235/J235101.08-100042.7.png\n",
       "Name: relative_png_loc, Length: 29137, dtype: object"
      ]
     },
     "execution_count": 237,
     "metadata": {},
     "output_type": "execute_result"
    }
   ],
   "source": [
    "missing['relative_png_loc']"
   ]
  },
  {
   "cell_type": "code",
   "execution_count": 238,
   "metadata": {},
   "outputs": [
    {
     "name": "stderr",
     "output_type": "stream",
     "text": [
      "/home/walml/anaconda3/envs/zoobot/lib/python3.7/site-packages/ipykernel_launcher.py:1: SettingWithCopyWarning: \n",
      "A value is trying to be set on a copy of a slice from a DataFrame.\n",
      "Try using .loc[row_indexer,col_indexer] = value instead\n",
      "\n",
      "See the caveats in the documentation: https://pandas.pydata.org/pandas-docs/stable/user_guide/indexing.html#returning-a-view-versus-a-copy\n",
      "  \"\"\"Entry point for launching an IPython kernel.\n",
      "/home/walml/anaconda3/envs/zoobot/lib/python3.7/site-packages/ipykernel_launcher.py:4: SettingWithCopyWarning: \n",
      "A value is trying to be set on a copy of a slice from a DataFrame.\n",
      "Try using .loc[row_indexer,col_indexer] = value instead\n",
      "\n",
      "See the caveats in the documentation: https://pandas.pydata.org/pandas-docs/stable/user_guide/indexing.html#returning-a-view-versus-a-copy\n",
      "  after removing the cwd from sys.path.\n"
     ]
    }
   ],
   "source": [
    "missing['redshift'] = missing['z']\n",
    "del missing['z']\n",
    "\n",
    "missing['nsa_version'] = '1_0_0'"
   ]
  },
  {
   "cell_type": "code",
   "execution_count": 239,
   "metadata": {},
   "outputs": [
    {
     "data": {
      "text/plain": [
       "29137"
      ]
     },
     "execution_count": 239,
     "metadata": {},
     "output_type": "execute_result"
    }
   ],
   "source": [
    "len(missing)"
   ]
  },
  {
   "cell_type": "code",
   "execution_count": 128,
   "metadata": {},
   "outputs": [],
   "source": [
    "# this was 33k - what changed??"
   ]
  },
  {
   "cell_type": "code",
   "execution_count": 169,
   "metadata": {},
   "outputs": [],
   "source": [
    "iaunames_uploaded = []\n",
    "\n",
    "with open('/home/walml/repos/gz-scripts/missing_dr5_2020_07_20_iaunames.json', 'r') as f:\n",
    "    iaunames_uploaded += (json.load(f)['iaunames'])\n",
    "    \n",
    "with open('/home/walml/repos/gz-scripts/missing_decals_dr5_subjects_d_iaunames.json', 'r') as f:\n",
    "    iaunames_uploaded += (json.load(f)['iaunames'])"
   ]
  },
  {
   "cell_type": "code",
   "execution_count": null,
   "metadata": {},
   "outputs": [],
   "source": []
  },
  {
   "cell_type": "code",
   "execution_count": 170,
   "metadata": {},
   "outputs": [
    {
     "ename": "AssertionError",
     "evalue": "",
     "output_type": "error",
     "traceback": [
      "\u001b[0;31m---------------------------------------------------------------------------\u001b[0m",
      "\u001b[0;31mAssertionError\u001b[0m                            Traceback (most recent call last)",
      "\u001b[0;32m<ipython-input-170-9bc27e5ecfd8>\u001b[0m in \u001b[0;36m<module>\u001b[0;34m\u001b[0m\n\u001b[0;32m----> 1\u001b[0;31m \u001b[0;32massert\u001b[0m \u001b[0mmissing\u001b[0m\u001b[0;34m[\u001b[0m\u001b[0;34m'iauname'\u001b[0m\u001b[0;34m]\u001b[0m\u001b[0;34m.\u001b[0m\u001b[0misin\u001b[0m\u001b[0;34m(\u001b[0m\u001b[0miaunames_uploaded\u001b[0m\u001b[0;34m)\u001b[0m\u001b[0;34m.\u001b[0m\u001b[0mall\u001b[0m\u001b[0;34m(\u001b[0m\u001b[0;34m)\u001b[0m  \u001b[0;31m# expect no new missing galaxies, all should be uploaded now\u001b[0m\u001b[0;34m\u001b[0m\u001b[0;34m\u001b[0m\u001b[0m\n\u001b[0m",
      "\u001b[0;31mAssertionError\u001b[0m: "
     ]
    }
   ],
   "source": [
    "assert missing['iauname'].isin(iaunames_uploaded).all()  # expect no new missing galaxies, all should be uploaded now"
   ]
  },
  {
   "cell_type": "code",
   "execution_count": 171,
   "metadata": {},
   "outputs": [
    {
     "data": {
      "text/plain": [
       "1455"
      ]
     },
     "execution_count": 171,
     "metadata": {},
     "output_type": "execute_result"
    }
   ],
   "source": [
    "no_longer_missing_iaunames = set(iaunames_uploaded) - set(missing['iauname']) # these were uploaded, but are apparently no longer missing?\n",
    "len(no_longer_missing_iaunames)"
   ]
  },
  {
   "cell_type": "code",
   "execution_count": 161,
   "metadata": {},
   "outputs": [],
   "source": [
    "example_iauname = list(no_longer_missing_iaunames)[1500]"
   ]
  },
  {
   "cell_type": "code",
   "execution_count": 162,
   "metadata": {},
   "outputs": [
    {
     "data": {
      "text/html": [
       "<div>\n",
       "<style scoped>\n",
       "    .dataframe tbody tr th:only-of-type {\n",
       "        vertical-align: middle;\n",
       "    }\n",
       "\n",
       "    .dataframe tbody tr th {\n",
       "        vertical-align: top;\n",
       "    }\n",
       "\n",
       "    .dataframe thead th {\n",
       "        text-align: right;\n",
       "    }\n",
       "</style>\n",
       "<table border=\"1\" class=\"dataframe\">\n",
       "  <thead>\n",
       "    <tr style=\"text-align: right;\">\n",
       "      <th></th>\n",
       "      <th>subject_id</th>\n",
       "      <th>project_id</th>\n",
       "      <th>workflow_id</th>\n",
       "      <th>subject_set_id</th>\n",
       "      <th>metadata</th>\n",
       "      <th>locations</th>\n",
       "      <th>classifications_count</th>\n",
       "      <th>retired_at</th>\n",
       "      <th>retirement_reason</th>\n",
       "      <th>created_at</th>\n",
       "      <th>updated_at</th>\n",
       "      <th>iauname</th>\n",
       "    </tr>\n",
       "  </thead>\n",
       "  <tbody>\n",
       "    <tr>\n",
       "      <th>130906</th>\n",
       "      <td>34240248</td>\n",
       "      <td>5733</td>\n",
       "      <td>10582.0</td>\n",
       "      <td>74909</td>\n",
       "      <td>{'!ra': 168.8554971236716, '!dec': 6.023747554...</td>\n",
       "      <td>{\"0\":\"https://panoptes-uploads.zooniverse.org/...</td>\n",
       "      <td>40</td>\n",
       "      <td>2019-09-20 15:44:21 UTC</td>\n",
       "      <td>classification_count</td>\n",
       "      <td>2019-06-21 12:18:17 UTC</td>\n",
       "      <td>2019-06-21 12:18:17 UTC</td>\n",
       "      <td>J111525.30+060125.8</td>\n",
       "    </tr>\n",
       "  </tbody>\n",
       "</table>\n",
       "</div>"
      ],
      "text/plain": [
       "        subject_id  project_id  workflow_id  subject_set_id  \\\n",
       "130906    34240248        5733      10582.0           74909   \n",
       "\n",
       "                                                 metadata  \\\n",
       "130906  {'!ra': 168.8554971236716, '!dec': 6.023747554...   \n",
       "\n",
       "                                                locations  \\\n",
       "130906  {\"0\":\"https://panoptes-uploads.zooniverse.org/...   \n",
       "\n",
       "        classifications_count               retired_at     retirement_reason  \\\n",
       "130906                     40  2019-09-20 15:44:21 UTC  classification_count   \n",
       "\n",
       "                     created_at               updated_at              iauname  \n",
       "130906  2019-06-21 12:18:17 UTC  2019-06-21 12:18:17 UTC  J111525.30+060125.8  "
      ]
     },
     "execution_count": 162,
     "metadata": {},
     "output_type": "execute_result"
    }
   ],
   "source": [
    "latest_subjects.query(f'iauname == \"{example_iauname}\"')"
   ]
  },
  {
   "cell_type": "code",
   "execution_count": 163,
   "metadata": {},
   "outputs": [
    {
     "data": {
      "text/html": [
       "<div>\n",
       "<style scoped>\n",
       "    .dataframe tbody tr th:only-of-type {\n",
       "        vertical-align: middle;\n",
       "    }\n",
       "\n",
       "    .dataframe tbody tr th {\n",
       "        vertical-align: top;\n",
       "    }\n",
       "\n",
       "    .dataframe thead th {\n",
       "        text-align: right;\n",
       "    }\n",
       "</style>\n",
       "<table border=\"1\" class=\"dataframe\">\n",
       "  <thead>\n",
       "    <tr style=\"text-align: right;\">\n",
       "      <th></th>\n",
       "      <th>iauname</th>\n",
       "      <th>smooth-or-featured_artifact</th>\n",
       "      <th>smooth-or-featured_featured-or-disk</th>\n",
       "      <th>smooth-or-featured_smooth</th>\n",
       "      <th>how-rounded_cigar-shaped</th>\n",
       "      <th>how-rounded_in-between</th>\n",
       "      <th>how-rounded_round</th>\n",
       "      <th>disk-edge-on_no</th>\n",
       "      <th>disk-edge-on_yes</th>\n",
       "      <th>edge-on-bulge_boxy</th>\n",
       "      <th>...</th>\n",
       "      <th>spiral-arm-count_more-than-4_fraction</th>\n",
       "      <th>bulge-size_none_fraction</th>\n",
       "      <th>bulge-size_small_fraction</th>\n",
       "      <th>bulge-size_moderate_fraction</th>\n",
       "      <th>bulge-size_large_fraction</th>\n",
       "      <th>bulge-size_dominant_fraction</th>\n",
       "      <th>merging_none_fraction</th>\n",
       "      <th>merging_minor-disturbance_fraction</th>\n",
       "      <th>merging_major-disturbance_fraction</th>\n",
       "      <th>merging_merger_fraction</th>\n",
       "    </tr>\n",
       "  </thead>\n",
       "  <tbody>\n",
       "    <tr>\n",
       "      <th>100892</th>\n",
       "      <td>J111525.30+060125.8</td>\n",
       "      <td>3.0</td>\n",
       "      <td>31.0</td>\n",
       "      <td>6.0</td>\n",
       "      <td>0.0</td>\n",
       "      <td>6.0</td>\n",
       "      <td>0.0</td>\n",
       "      <td>31.0</td>\n",
       "      <td>0.0</td>\n",
       "      <td>0.0</td>\n",
       "      <td>...</td>\n",
       "      <td>0.148148</td>\n",
       "      <td>0.129032</td>\n",
       "      <td>0.322581</td>\n",
       "      <td>0.516129</td>\n",
       "      <td>0.032258</td>\n",
       "      <td>0.0</td>\n",
       "      <td>0.648649</td>\n",
       "      <td>0.243243</td>\n",
       "      <td>0.108108</td>\n",
       "      <td>0.0</td>\n",
       "    </tr>\n",
       "  </tbody>\n",
       "</table>\n",
       "<p>1 rows × 83 columns</p>\n",
       "</div>"
      ],
      "text/plain": [
       "                    iauname  smooth-or-featured_artifact  \\\n",
       "100892  J111525.30+060125.8                          3.0   \n",
       "\n",
       "        smooth-or-featured_featured-or-disk  smooth-or-featured_smooth  \\\n",
       "100892                                 31.0                        6.0   \n",
       "\n",
       "        how-rounded_cigar-shaped  how-rounded_in-between  how-rounded_round  \\\n",
       "100892                       0.0                     6.0                0.0   \n",
       "\n",
       "        disk-edge-on_no  disk-edge-on_yes  edge-on-bulge_boxy  ...  \\\n",
       "100892             31.0               0.0                 0.0  ...   \n",
       "\n",
       "        spiral-arm-count_more-than-4_fraction  bulge-size_none_fraction  \\\n",
       "100892                               0.148148                  0.129032   \n",
       "\n",
       "        bulge-size_small_fraction  bulge-size_moderate_fraction  \\\n",
       "100892                   0.322581                      0.516129   \n",
       "\n",
       "        bulge-size_large_fraction  bulge-size_dominant_fraction  \\\n",
       "100892                   0.032258                           0.0   \n",
       "\n",
       "        merging_none_fraction  merging_minor-disturbance_fraction  \\\n",
       "100892               0.648649                            0.243243   \n",
       "\n",
       "        merging_major-disturbance_fraction  merging_merger_fraction  \n",
       "100892                            0.108108                      0.0  \n",
       "\n",
       "[1 rows x 83 columns]"
      ]
     },
     "execution_count": 163,
     "metadata": {},
     "output_type": "execute_result"
    }
   ],
   "source": [
    "latest_export.query(f'iauname == \"{example_iauname}\"')"
   ]
  },
  {
   "cell_type": "code",
   "execution_count": 164,
   "metadata": {},
   "outputs": [
    {
     "data": {
      "text/html": [
       "<div>\n",
       "<style scoped>\n",
       "    .dataframe tbody tr th:only-of-type {\n",
       "        vertical-align: middle;\n",
       "    }\n",
       "\n",
       "    .dataframe tbody tr th {\n",
       "        vertical-align: top;\n",
       "    }\n",
       "\n",
       "    .dataframe thead th {\n",
       "        text-align: right;\n",
       "    }\n",
       "</style>\n",
       "<table border=\"1\" class=\"dataframe\">\n",
       "  <thead>\n",
       "    <tr style=\"text-align: right;\">\n",
       "      <th></th>\n",
       "      <th>_id</th>\n",
       "      <th>absolute_size</th>\n",
       "      <th>background</th>\n",
       "      <th>bad_image</th>\n",
       "      <th>band</th>\n",
       "      <th>bands</th>\n",
       "      <th>camera</th>\n",
       "      <th>counters</th>\n",
       "      <th>data_release</th>\n",
       "      <th>dec</th>\n",
       "      <th>...</th>\n",
       "      <th>sdss_dr12_objid</th>\n",
       "      <th>sdss_dr7_id</th>\n",
       "      <th>sdss_dr8_id</th>\n",
       "      <th>sdss_id</th>\n",
       "      <th>sfr</th>\n",
       "      <th>simulation</th>\n",
       "      <th>snapshot</th>\n",
       "      <th>subdir</th>\n",
       "      <th>subhalo_id</th>\n",
       "      <th>survey</th>\n",
       "    </tr>\n",
       "  </thead>\n",
       "  <tbody>\n",
       "  </tbody>\n",
       "</table>\n",
       "<p>0 rows × 46 columns</p>\n",
       "</div>"
      ],
      "text/plain": [
       "Empty DataFrame\n",
       "Columns: [_id, absolute_size, background, bad_image, band, bands, camera, counters, data_release, dec, dr8objid, field, flux_radius1_I, group_id, half_rad_h, hubble_id, iauname, kron_radius_I, mag, magnitude, mangaid, mass_log_msun, nobs_max, nsa_id, nsa_z, petro_r50_r, petro_r90_r, petroflux_r, petrorad_50_r, petrorad_flux, petrorad_r, priority, ra, radius_half, redshift, retire_at, sdss_dr12_objid, sdss_dr7_id, sdss_dr8_id, sdss_id, sfr, simulation, snapshot, subdir, subhalo_id, survey]\n",
       "Index: []\n",
       "\n",
       "[0 rows x 46 columns]"
      ]
     },
     "execution_count": 164,
     "metadata": {},
     "output_type": "execute_result"
    }
   ],
   "source": [
    "dr1_dr2.query(f'iauname == \"{example_iauname}\"')"
   ]
  },
  {
   "cell_type": "code",
   "execution_count": 165,
   "metadata": {},
   "outputs": [
    {
     "data": {
      "text/html": [
       "<div>\n",
       "<style scoped>\n",
       "    .dataframe tbody tr th:only-of-type {\n",
       "        vertical-align: middle;\n",
       "    }\n",
       "\n",
       "    .dataframe tbody tr th {\n",
       "        vertical-align: top;\n",
       "    }\n",
       "\n",
       "    .dataframe thead th {\n",
       "        text-align: right;\n",
       "    }\n",
       "</style>\n",
       "<table border=\"1\" class=\"dataframe\">\n",
       "  <thead>\n",
       "    <tr style=\"text-align: right;\">\n",
       "      <th></th>\n",
       "      <th>iauname</th>\n",
       "      <th>nsa_id</th>\n",
       "      <th>ra</th>\n",
       "      <th>dec</th>\n",
       "      <th>petrotheta</th>\n",
       "      <th>petroth50</th>\n",
       "      <th>petroth90</th>\n",
       "      <th>z</th>\n",
       "      <th>fits_loc</th>\n",
       "      <th>png_loc</th>\n",
       "      <th>fits_ready</th>\n",
       "      <th>fits_filled</th>\n",
       "      <th>png_ready</th>\n",
       "    </tr>\n",
       "  </thead>\n",
       "  <tbody>\n",
       "    <tr>\n",
       "      <th>128100</th>\n",
       "      <td>J111525.30+060125.8</td>\n",
       "      <td>326738</td>\n",
       "      <td>168.855497</td>\n",
       "      <td>6.023748</td>\n",
       "      <td>8.844737</td>\n",
       "      <td>4.383704</td>\n",
       "      <td>8.844737</td>\n",
       "      <td>0.047636</td>\n",
       "      <td>b'/Volumes/EXTERNAL/decals/fits/dr5/J111/J1115...</td>\n",
       "      <td>b'/Volumes/EXTERNAL/decals/png/dr5/J111/J11152...</td>\n",
       "      <td>True</td>\n",
       "      <td>True</td>\n",
       "      <td>True</td>\n",
       "    </tr>\n",
       "  </tbody>\n",
       "</table>\n",
       "</div>"
      ],
      "text/plain": [
       "                    iauname  nsa_id          ra       dec  petrotheta  \\\n",
       "128100  J111525.30+060125.8  326738  168.855497  6.023748    8.844737   \n",
       "\n",
       "        petroth50  petroth90         z  \\\n",
       "128100   4.383704   8.844737  0.047636   \n",
       "\n",
       "                                                 fits_loc  \\\n",
       "128100  b'/Volumes/EXTERNAL/decals/fits/dr5/J111/J1115...   \n",
       "\n",
       "                                                  png_loc  fits_ready  \\\n",
       "128100  b'/Volumes/EXTERNAL/decals/png/dr5/J111/J11152...        True   \n",
       "\n",
       "        fits_filled  png_ready  \n",
       "128100         True       True  "
      ]
     },
     "execution_count": 165,
     "metadata": {},
     "output_type": "execute_result"
    }
   ],
   "source": [
    "should_be_uploaded.query(f'iauname == \"{example_iauname}\"')"
   ]
  },
  {
   "cell_type": "markdown",
   "metadata": {},
   "source": [
    "Well, I can't work out what changed, but these are all galaxies that are legit. classified and were somehow dropped before. Checks out in progress_report.ipynb as well.\n",
    "\n",
    "Let's \n",
    "- remake missing_galaxies.csv\n",
    "- use metadata to instantly retire any missing subject set galaxies\n",
    "- reupload missing_d subject set as missing_e subjet set without the 2.5k that have actually already been classified"
   ]
  },
  {
   "cell_type": "code",
   "execution_count": null,
   "metadata": {},
   "outputs": [],
   "source": [
    "assert False"
   ]
  },
  {
   "cell_type": "code",
   "execution_count": 172,
   "metadata": {},
   "outputs": [],
   "source": [
    "missing.to_csv('dr5_missing_galaxies_2020_10_21.csv', index=False)"
   ]
  },
  {
   "cell_type": "code",
   "execution_count": 175,
   "metadata": {},
   "outputs": [
    {
     "data": {
      "text/html": [
       "<div>\n",
       "<style scoped>\n",
       "    .dataframe tbody tr th:only-of-type {\n",
       "        vertical-align: middle;\n",
       "    }\n",
       "\n",
       "    .dataframe tbody tr th {\n",
       "        vertical-align: top;\n",
       "    }\n",
       "\n",
       "    .dataframe thead th {\n",
       "        text-align: right;\n",
       "    }\n",
       "</style>\n",
       "<table border=\"1\" class=\"dataframe\">\n",
       "  <thead>\n",
       "    <tr style=\"text-align: right;\">\n",
       "      <th></th>\n",
       "      <th>iauname</th>\n",
       "      <th>nsa_id</th>\n",
       "      <th>ra</th>\n",
       "      <th>dec</th>\n",
       "      <th>petrotheta</th>\n",
       "      <th>petroth50</th>\n",
       "      <th>petroth90</th>\n",
       "      <th>fits_loc</th>\n",
       "      <th>png_loc</th>\n",
       "      <th>fits_ready</th>\n",
       "      <th>fits_filled</th>\n",
       "      <th>png_ready</th>\n",
       "      <th>relative_png_loc</th>\n",
       "      <th>redshift</th>\n",
       "      <th>nsa_version</th>\n",
       "    </tr>\n",
       "  </thead>\n",
       "  <tbody>\n",
       "  </tbody>\n",
       "</table>\n",
       "</div>"
      ],
      "text/plain": [
       "Empty DataFrame\n",
       "Columns: [iauname, nsa_id, ra, dec, petrotheta, petroth50, petroth90, fits_loc, png_loc, fits_ready, fits_filled, png_ready, relative_png_loc, redshift, nsa_version]\n",
       "Index: []"
      ]
     },
     "execution_count": 175,
     "metadata": {},
     "output_type": "execute_result"
    }
   ],
   "source": [
    "missing.query('iauname == \"J022416.06+003341.6\"')"
   ]
  },
  {
   "cell_type": "code",
   "execution_count": 173,
   "metadata": {},
   "outputs": [
    {
     "data": {
      "text/plain": [
       "29137"
      ]
     },
     "execution_count": 173,
     "metadata": {},
     "output_type": "execute_result"
    }
   ],
   "source": [
    "\n",
    "missing = pd.read_csv('dr5_missing_galaxies_2020_10_21.csv')\n",
    "len(missing)\n",
    "\n",
    "# missing = pd.read_csv('dr5_missing_galaxies.csv')\n",
    "# len(missing)"
   ]
  },
  {
   "cell_type": "code",
   "execution_count": null,
   "metadata": {},
   "outputs": [],
   "source": []
  },
  {
   "cell_type": "code",
   "execution_count": null,
   "metadata": {},
   "outputs": [],
   "source": []
  },
  {
   "cell_type": "code",
   "execution_count": null,
   "metadata": {},
   "outputs": [],
   "source": [
    "dr1_raw = pd.read_csv('/media/walml/beta/galaxy_zoo/decals/gzreduction_ouroborous/working_dir/raw/classifications/2017-10-15_galaxy_zoo_decals_classifications.csv').drop_duplicates()\n",
    "dr2_raw = pd.read_csv('/media/walml/beta/galaxy_zoo/decals/gzreduction_ouroborous/working_dir/raw/classifications/2017-10-15_galaxy_zoo_decals_dr2_classifications.csv').drop_duplicates()"
   ]
  },
  {
   "cell_type": "code",
   "execution_count": null,
   "metadata": {},
   "outputs": [],
   "source": [
    "dr1_raw.groupby('subject_id').agg({'id': 'count'}).reset_index()['id'].hist(bins=40)"
   ]
  },
  {
   "cell_type": "code",
   "execution_count": null,
   "metadata": {},
   "outputs": [],
   "source": [
    "dr2_raw.groupby('subject_id').agg({'id': 'count'}).reset_index()['id'].hist(bins=40)"
   ]
  },
  {
   "cell_type": "code",
   "execution_count": null,
   "metadata": {},
   "outputs": [],
   "source": []
  }
 ],
 "metadata": {
  "kernelspec": {
   "display_name": "Python 3",
   "language": "python",
   "name": "python3"
  },
  "language_info": {
   "codemirror_mode": {
    "name": "ipython",
    "version": 3
   },
   "file_extension": ".py",
   "mimetype": "text/x-python",
   "name": "python",
   "nbconvert_exporter": "python",
   "pygments_lexer": "ipython3",
   "version": "3.7.6"
  }
 },
 "nbformat": 4,
 "nbformat_minor": 4
}
