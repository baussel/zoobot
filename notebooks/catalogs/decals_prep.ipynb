{
 "cells": [
  {
   "cell_type": "code",
   "execution_count": 1,
   "metadata": {},
   "outputs": [],
   "source": [
    "import matplotlib.pyplot as plt\n",
    "import pandas as pd\n",
    "from astropy.table import Table\n",
    "import os\n",
    "import numpy as np\n",
    "import cartopy.crs as ccrs\n",
    "import json"
   ]
  },
  {
   "cell_type": "code",
   "execution_count": 2,
   "metadata": {},
   "outputs": [],
   "source": [
    "os.chdir('/home/walml/repos/zoobot')"
   ]
  },
  {
   "cell_type": "code",
   "execution_count": 3,
   "metadata": {},
   "outputs": [],
   "source": [
    "nsa = Table.read('/media/walml/beta/galaxy_zoo/decals/catalogs/raw/nsa_v1_0_0.fits')\n",
    "\n",
    "nsa = nsa[['RA', 'DEC', 'IAUNAME', 'PETROTHETA']].to_pandas()\n",
    "\n",
    "for col in nsa.columns.values:\n",
    "    nsa[col.lower()] = nsa[col]\n",
    "    del nsa[col]\n",
    "\n",
    "nsa['iauname'] = nsa['iauname'].str.decode('utf8')"
   ]
  },
  {
   "cell_type": "code",
   "execution_count": 4,
   "metadata": {},
   "outputs": [
    {
     "data": {
      "text/html": [
       "<div>\n",
       "<style scoped>\n",
       "    .dataframe tbody tr th:only-of-type {\n",
       "        vertical-align: middle;\n",
       "    }\n",
       "\n",
       "    .dataframe tbody tr th {\n",
       "        vertical-align: top;\n",
       "    }\n",
       "\n",
       "    .dataframe thead th {\n",
       "        text-align: right;\n",
       "    }\n",
       "</style>\n",
       "<table border=\"1\" class=\"dataframe\">\n",
       "  <thead>\n",
       "    <tr style=\"text-align: right;\">\n",
       "      <th></th>\n",
       "      <th>ra</th>\n",
       "      <th>dec</th>\n",
       "      <th>iauname</th>\n",
       "      <th>petrotheta</th>\n",
       "    </tr>\n",
       "  </thead>\n",
       "  <tbody>\n",
       "    <tr>\n",
       "      <th>0</th>\n",
       "      <td>146.714215</td>\n",
       "      <td>-1.041280</td>\n",
       "      <td>J094651.40-010228.5</td>\n",
       "      <td>7.247893</td>\n",
       "    </tr>\n",
       "    <tr>\n",
       "      <th>1</th>\n",
       "      <td>146.628585</td>\n",
       "      <td>-0.765162</td>\n",
       "      <td>J094630.85-004554.5</td>\n",
       "      <td>5.617822</td>\n",
       "    </tr>\n",
       "    <tr>\n",
       "      <th>2</th>\n",
       "      <td>146.631706</td>\n",
       "      <td>-0.988347</td>\n",
       "      <td>J094631.59-005917.7</td>\n",
       "      <td>4.769891</td>\n",
       "    </tr>\n",
       "    <tr>\n",
       "      <th>3</th>\n",
       "      <td>146.934129</td>\n",
       "      <td>-0.670405</td>\n",
       "      <td>J094744.18-004013.4</td>\n",
       "      <td>6.243227</td>\n",
       "    </tr>\n",
       "    <tr>\n",
       "      <th>4</th>\n",
       "      <td>146.963500</td>\n",
       "      <td>-0.544776</td>\n",
       "      <td>J094751.74-003242.0</td>\n",
       "      <td>8.891541</td>\n",
       "    </tr>\n",
       "    <tr>\n",
       "      <th>...</th>\n",
       "      <td>...</td>\n",
       "      <td>...</td>\n",
       "      <td>...</td>\n",
       "      <td>...</td>\n",
       "    </tr>\n",
       "    <tr>\n",
       "      <th>641404</th>\n",
       "      <td>357.755712</td>\n",
       "      <td>-10.010851</td>\n",
       "      <td>J235101.08-100042.7</td>\n",
       "      <td>17.017670</td>\n",
       "    </tr>\n",
       "    <tr>\n",
       "      <th>641405</th>\n",
       "      <td>358.197549</td>\n",
       "      <td>-10.883763</td>\n",
       "      <td>J235247.10-105259.6</td>\n",
       "      <td>17.845497</td>\n",
       "    </tr>\n",
       "    <tr>\n",
       "      <th>641406</th>\n",
       "      <td>358.336971</td>\n",
       "      <td>-10.544118</td>\n",
       "      <td>J235320.91-103238.7</td>\n",
       "      <td>5.330101</td>\n",
       "    </tr>\n",
       "    <tr>\n",
       "      <th>641407</th>\n",
       "      <td>358.530488</td>\n",
       "      <td>-10.405839</td>\n",
       "      <td>J235406.94-102419.7</td>\n",
       "      <td>27.653702</td>\n",
       "    </tr>\n",
       "    <tr>\n",
       "      <th>641408</th>\n",
       "      <td>358.562009</td>\n",
       "      <td>-10.236361</td>\n",
       "      <td>J235414.90-101409.4</td>\n",
       "      <td>7.805213</td>\n",
       "    </tr>\n",
       "  </tbody>\n",
       "</table>\n",
       "<p>641409 rows × 4 columns</p>\n",
       "</div>"
      ],
      "text/plain": [
       "                ra        dec              iauname  petrotheta\n",
       "0       146.714215  -1.041280  J094651.40-010228.5    7.247893\n",
       "1       146.628585  -0.765162  J094630.85-004554.5    5.617822\n",
       "2       146.631706  -0.988347  J094631.59-005917.7    4.769891\n",
       "3       146.934129  -0.670405  J094744.18-004013.4    6.243227\n",
       "4       146.963500  -0.544776  J094751.74-003242.0    8.891541\n",
       "...            ...        ...                  ...         ...\n",
       "641404  357.755712 -10.010851  J235101.08-100042.7   17.017670\n",
       "641405  358.197549 -10.883763  J235247.10-105259.6   17.845497\n",
       "641406  358.336971 -10.544118  J235320.91-103238.7    5.330101\n",
       "641407  358.530488 -10.405839  J235406.94-102419.7   27.653702\n",
       "641408  358.562009 -10.236361  J235414.90-101409.4    7.805213\n",
       "\n",
       "[641409 rows x 4 columns]"
      ]
     },
     "execution_count": 4,
     "metadata": {},
     "output_type": "execute_result"
    }
   ],
   "source": [
    "nsa"
   ]
  },
  {
   "cell_type": "code",
   "execution_count": 5,
   "metadata": {},
   "outputs": [],
   "source": [
    "decals_joint = Table.read('/media/walml/beta/galaxy_zoo/decals/catalogs/nsa_v1_0_0_decals_dr5.fits').to_pandas()\n"
   ]
  },
  {
   "cell_type": "code",
   "execution_count": 6,
   "metadata": {},
   "outputs": [
    {
     "data": {
      "text/plain": [
       "343128"
      ]
     },
     "execution_count": 6,
     "metadata": {},
     "output_type": "execute_result"
    }
   ],
   "source": [
    "len(decals_joint)"
   ]
  },
  {
   "cell_type": "code",
   "execution_count": 7,
   "metadata": {},
   "outputs": [
    {
     "data": {
      "text/html": [
       "<div>\n",
       "<style scoped>\n",
       "    .dataframe tbody tr th:only-of-type {\n",
       "        vertical-align: middle;\n",
       "    }\n",
       "\n",
       "    .dataframe tbody tr th {\n",
       "        vertical-align: top;\n",
       "    }\n",
       "\n",
       "    .dataframe thead th {\n",
       "        text-align: right;\n",
       "    }\n",
       "</style>\n",
       "<table border=\"1\" class=\"dataframe\">\n",
       "  <thead>\n",
       "    <tr style=\"text-align: right;\">\n",
       "      <th></th>\n",
       "      <th>iauname</th>\n",
       "      <th>nsa_id</th>\n",
       "      <th>ra</th>\n",
       "      <th>dec</th>\n",
       "      <th>petrotheta</th>\n",
       "      <th>petroth50</th>\n",
       "      <th>petroth90</th>\n",
       "      <th>z</th>\n",
       "      <th>fits_loc</th>\n",
       "      <th>png_loc</th>\n",
       "    </tr>\n",
       "  </thead>\n",
       "  <tbody>\n",
       "    <tr>\n",
       "      <th>0</th>\n",
       "      <td>b'J094651.40-010228.5'</td>\n",
       "      <td>0</td>\n",
       "      <td>146.714215</td>\n",
       "      <td>-1.041280</td>\n",
       "      <td>7.247893</td>\n",
       "      <td>3.464192</td>\n",
       "      <td>10.453795</td>\n",
       "      <td>0.021222</td>\n",
       "      <td>b'/Volumes/alpha/decals/fits_native/dr5/J094/J...</td>\n",
       "      <td>b'/Volumes/alpha/decals/png_native/dr5/J094/J0...</td>\n",
       "    </tr>\n",
       "    <tr>\n",
       "      <th>1</th>\n",
       "      <td>b'J094630.85-004554.5'</td>\n",
       "      <td>1</td>\n",
       "      <td>146.628585</td>\n",
       "      <td>-0.765162</td>\n",
       "      <td>5.617822</td>\n",
       "      <td>2.326989</td>\n",
       "      <td>6.721991</td>\n",
       "      <td>0.064656</td>\n",
       "      <td>b'/Volumes/alpha/decals/fits_native/dr5/J094/J...</td>\n",
       "      <td>b'/Volumes/alpha/decals/png_native/dr5/J094/J0...</td>\n",
       "    </tr>\n",
       "    <tr>\n",
       "      <th>2</th>\n",
       "      <td>b'J094631.59-005917.7'</td>\n",
       "      <td>2</td>\n",
       "      <td>146.631706</td>\n",
       "      <td>-0.988347</td>\n",
       "      <td>4.769891</td>\n",
       "      <td>2.278736</td>\n",
       "      <td>5.177910</td>\n",
       "      <td>0.052654</td>\n",
       "      <td>b'/Volumes/alpha/decals/fits_native/dr5/J094/J...</td>\n",
       "      <td>b'/Volumes/alpha/decals/png_native/dr5/J094/J0...</td>\n",
       "    </tr>\n",
       "    <tr>\n",
       "      <th>3</th>\n",
       "      <td>b'J094744.18-004013.4'</td>\n",
       "      <td>3</td>\n",
       "      <td>146.934129</td>\n",
       "      <td>-0.670405</td>\n",
       "      <td>6.243227</td>\n",
       "      <td>2.655191</td>\n",
       "      <td>9.177605</td>\n",
       "      <td>0.121270</td>\n",
       "      <td>b'/Volumes/alpha/decals/fits_native/dr5/J094/J...</td>\n",
       "      <td>b'/Volumes/alpha/decals/png_native/dr5/J094/J0...</td>\n",
       "    </tr>\n",
       "    <tr>\n",
       "      <th>4</th>\n",
       "      <td>b'J094751.74-003242.0'</td>\n",
       "      <td>4</td>\n",
       "      <td>146.963500</td>\n",
       "      <td>-0.544776</td>\n",
       "      <td>8.891541</td>\n",
       "      <td>4.383704</td>\n",
       "      <td>10.253274</td>\n",
       "      <td>0.055981</td>\n",
       "      <td>b'/Volumes/alpha/decals/fits_native/dr5/J094/J...</td>\n",
       "      <td>b'/Volumes/alpha/decals/png_native/dr5/J094/J0...</td>\n",
       "    </tr>\n",
       "    <tr>\n",
       "      <th>...</th>\n",
       "      <td>...</td>\n",
       "      <td>...</td>\n",
       "      <td>...</td>\n",
       "      <td>...</td>\n",
       "      <td>...</td>\n",
       "      <td>...</td>\n",
       "      <td>...</td>\n",
       "      <td>...</td>\n",
       "      <td>...</td>\n",
       "      <td>...</td>\n",
       "    </tr>\n",
       "    <tr>\n",
       "      <th>343123</th>\n",
       "      <td>b'J230924.60-001458.1'</td>\n",
       "      <td>698646</td>\n",
       "      <td>347.352267</td>\n",
       "      <td>-0.249637</td>\n",
       "      <td>7.473316</td>\n",
       "      <td>3.746857</td>\n",
       "      <td>8.638098</td>\n",
       "      <td>0.116300</td>\n",
       "      <td>b'/Volumes/alpha/decals/fits_native/dr5/J230/J...</td>\n",
       "      <td>b'/Volumes/alpha/decals/png_native/dr5/J230/J2...</td>\n",
       "    </tr>\n",
       "    <tr>\n",
       "      <th>343124</th>\n",
       "      <td>b'J235101.08-100042.7'</td>\n",
       "      <td>698661</td>\n",
       "      <td>357.755712</td>\n",
       "      <td>-10.010851</td>\n",
       "      <td>17.017670</td>\n",
       "      <td>7.430995</td>\n",
       "      <td>19.937094</td>\n",
       "      <td>0.074300</td>\n",
       "      <td>b'/Volumes/alpha/decals/fits_native/dr5/J235/J...</td>\n",
       "      <td>b'/Volumes/alpha/decals/png_native/dr5/J235/J2...</td>\n",
       "    </tr>\n",
       "    <tr>\n",
       "      <th>343125</th>\n",
       "      <td>b'J235247.10-105259.6'</td>\n",
       "      <td>698664</td>\n",
       "      <td>358.197549</td>\n",
       "      <td>-10.883763</td>\n",
       "      <td>17.845497</td>\n",
       "      <td>8.614392</td>\n",
       "      <td>18.517103</td>\n",
       "      <td>0.076100</td>\n",
       "      <td>b'/Volumes/alpha/decals/fits_native/dr5/J235/J...</td>\n",
       "      <td>b'/Volumes/alpha/decals/png_native/dr5/J235/J2...</td>\n",
       "    </tr>\n",
       "    <tr>\n",
       "      <th>343126</th>\n",
       "      <td>b'J235320.91-103238.7'</td>\n",
       "      <td>698665</td>\n",
       "      <td>358.336971</td>\n",
       "      <td>-10.544118</td>\n",
       "      <td>5.330101</td>\n",
       "      <td>2.929065</td>\n",
       "      <td>7.437321</td>\n",
       "      <td>0.077100</td>\n",
       "      <td>b'/Volumes/alpha/decals/fits_native/dr5/J235/J...</td>\n",
       "      <td>b'/Volumes/alpha/decals/png_native/dr5/J235/J2...</td>\n",
       "    </tr>\n",
       "    <tr>\n",
       "      <th>343127</th>\n",
       "      <td>b'J235414.90-101409.4'</td>\n",
       "      <td>698667</td>\n",
       "      <td>358.562009</td>\n",
       "      <td>-10.236361</td>\n",
       "      <td>7.805213</td>\n",
       "      <td>3.951229</td>\n",
       "      <td>9.888474</td>\n",
       "      <td>0.074800</td>\n",
       "      <td>b'/Volumes/alpha/decals/fits_native/dr5/J235/J...</td>\n",
       "      <td>b'/Volumes/alpha/decals/png_native/dr5/J235/J2...</td>\n",
       "    </tr>\n",
       "  </tbody>\n",
       "</table>\n",
       "<p>343128 rows × 10 columns</p>\n",
       "</div>"
      ],
      "text/plain": [
       "                       iauname  nsa_id          ra        dec  petrotheta  \\\n",
       "0       b'J094651.40-010228.5'       0  146.714215  -1.041280    7.247893   \n",
       "1       b'J094630.85-004554.5'       1  146.628585  -0.765162    5.617822   \n",
       "2       b'J094631.59-005917.7'       2  146.631706  -0.988347    4.769891   \n",
       "3       b'J094744.18-004013.4'       3  146.934129  -0.670405    6.243227   \n",
       "4       b'J094751.74-003242.0'       4  146.963500  -0.544776    8.891541   \n",
       "...                        ...     ...         ...        ...         ...   \n",
       "343123  b'J230924.60-001458.1'  698646  347.352267  -0.249637    7.473316   \n",
       "343124  b'J235101.08-100042.7'  698661  357.755712 -10.010851   17.017670   \n",
       "343125  b'J235247.10-105259.6'  698664  358.197549 -10.883763   17.845497   \n",
       "343126  b'J235320.91-103238.7'  698665  358.336971 -10.544118    5.330101   \n",
       "343127  b'J235414.90-101409.4'  698667  358.562009 -10.236361    7.805213   \n",
       "\n",
       "        petroth50  petroth90         z  \\\n",
       "0        3.464192  10.453795  0.021222   \n",
       "1        2.326989   6.721991  0.064656   \n",
       "2        2.278736   5.177910  0.052654   \n",
       "3        2.655191   9.177605  0.121270   \n",
       "4        4.383704  10.253274  0.055981   \n",
       "...           ...        ...       ...   \n",
       "343123   3.746857   8.638098  0.116300   \n",
       "343124   7.430995  19.937094  0.074300   \n",
       "343125   8.614392  18.517103  0.076100   \n",
       "343126   2.929065   7.437321  0.077100   \n",
       "343127   3.951229   9.888474  0.074800   \n",
       "\n",
       "                                                 fits_loc  \\\n",
       "0       b'/Volumes/alpha/decals/fits_native/dr5/J094/J...   \n",
       "1       b'/Volumes/alpha/decals/fits_native/dr5/J094/J...   \n",
       "2       b'/Volumes/alpha/decals/fits_native/dr5/J094/J...   \n",
       "3       b'/Volumes/alpha/decals/fits_native/dr5/J094/J...   \n",
       "4       b'/Volumes/alpha/decals/fits_native/dr5/J094/J...   \n",
       "...                                                   ...   \n",
       "343123  b'/Volumes/alpha/decals/fits_native/dr5/J230/J...   \n",
       "343124  b'/Volumes/alpha/decals/fits_native/dr5/J235/J...   \n",
       "343125  b'/Volumes/alpha/decals/fits_native/dr5/J235/J...   \n",
       "343126  b'/Volumes/alpha/decals/fits_native/dr5/J235/J...   \n",
       "343127  b'/Volumes/alpha/decals/fits_native/dr5/J235/J...   \n",
       "\n",
       "                                                  png_loc  \n",
       "0       b'/Volumes/alpha/decals/png_native/dr5/J094/J0...  \n",
       "1       b'/Volumes/alpha/decals/png_native/dr5/J094/J0...  \n",
       "2       b'/Volumes/alpha/decals/png_native/dr5/J094/J0...  \n",
       "3       b'/Volumes/alpha/decals/png_native/dr5/J094/J0...  \n",
       "4       b'/Volumes/alpha/decals/png_native/dr5/J094/J0...  \n",
       "...                                                   ...  \n",
       "343123  b'/Volumes/alpha/decals/png_native/dr5/J230/J2...  \n",
       "343124  b'/Volumes/alpha/decals/png_native/dr5/J235/J2...  \n",
       "343125  b'/Volumes/alpha/decals/png_native/dr5/J235/J2...  \n",
       "343126  b'/Volumes/alpha/decals/png_native/dr5/J235/J2...  \n",
       "343127  b'/Volumes/alpha/decals/png_native/dr5/J235/J2...  \n",
       "\n",
       "[343128 rows x 10 columns]"
      ]
     },
     "execution_count": 7,
     "metadata": {},
     "output_type": "execute_result"
    }
   ],
   "source": [
    "decals_joint"
   ]
  },
  {
   "cell_type": "code",
   "execution_count": null,
   "metadata": {},
   "outputs": [],
   "source": []
  },
  {
   "cell_type": "code",
   "execution_count": 8,
   "metadata": {},
   "outputs": [],
   "source": [
    "decals_joint['iauname'] = decals_joint['iauname'].apply(lambda x: x.decode())"
   ]
  },
  {
   "cell_type": "code",
   "execution_count": 9,
   "metadata": {},
   "outputs": [
    {
     "data": {
      "text/plain": [
       "0         J094651.40-010228.5\n",
       "1         J094630.85-004554.5\n",
       "2         J094631.59-005917.7\n",
       "3         J094744.18-004013.4\n",
       "4         J094751.74-003242.0\n",
       "                 ...         \n",
       "343123    J230924.60-001458.1\n",
       "343124    J235101.08-100042.7\n",
       "343125    J235247.10-105259.6\n",
       "343126    J235320.91-103238.7\n",
       "343127    J235414.90-101409.4\n",
       "Name: iauname, Length: 343128, dtype: object"
      ]
     },
     "execution_count": 9,
     "metadata": {},
     "output_type": "execute_result"
    }
   ],
   "source": [
    "decals_joint['iauname']"
   ]
  },
  {
   "cell_type": "code",
   "execution_count": 10,
   "metadata": {},
   "outputs": [
    {
     "name": "stderr",
     "output_type": "stream",
     "text": [
      "/home/walml/anaconda3/envs/zoobot/lib/python3.7/site-packages/IPython/core/interactiveshell.py:3331: TableReplaceWarning: converted column 'background' from integer to float\n",
      "  exec(code_obj, self.user_global_ns, self.user_ns)\n",
      "/home/walml/anaconda3/envs/zoobot/lib/python3.7/site-packages/IPython/core/interactiveshell.py:3331: TableReplaceWarning: converted column 'bad_image' from integer to float\n",
      "  exec(code_obj, self.user_global_ns, self.user_ns)\n",
      "/home/walml/anaconda3/envs/zoobot/lib/python3.7/site-packages/IPython/core/interactiveshell.py:3331: TableReplaceWarning: converted column 'band' from integer to float\n",
      "  exec(code_obj, self.user_global_ns, self.user_ns)\n",
      "/home/walml/anaconda3/envs/zoobot/lib/python3.7/site-packages/IPython/core/interactiveshell.py:3331: TableReplaceWarning: converted column 'bands' from integer to float\n",
      "  exec(code_obj, self.user_global_ns, self.user_ns)\n",
      "/home/walml/anaconda3/envs/zoobot/lib/python3.7/site-packages/IPython/core/interactiveshell.py:3331: TableReplaceWarning: converted column 'camera' from integer to float\n",
      "  exec(code_obj, self.user_global_ns, self.user_ns)\n",
      "/home/walml/anaconda3/envs/zoobot/lib/python3.7/site-packages/IPython/core/interactiveshell.py:3331: TableReplaceWarning: converted column 'dr8objid' from integer to float\n",
      "  exec(code_obj, self.user_global_ns, self.user_ns)\n",
      "/home/walml/anaconda3/envs/zoobot/lib/python3.7/site-packages/IPython/core/interactiveshell.py:3331: TableReplaceWarning: converted column 'field' from integer to float\n",
      "  exec(code_obj, self.user_global_ns, self.user_ns)\n",
      "/home/walml/anaconda3/envs/zoobot/lib/python3.7/site-packages/IPython/core/interactiveshell.py:3331: TableReplaceWarning: converted column 'flux_radius1_I' from integer to float\n",
      "  exec(code_obj, self.user_global_ns, self.user_ns)\n",
      "/home/walml/anaconda3/envs/zoobot/lib/python3.7/site-packages/IPython/core/interactiveshell.py:3331: TableReplaceWarning: converted column 'half_rad_h' from integer to float\n",
      "  exec(code_obj, self.user_global_ns, self.user_ns)\n",
      "/home/walml/anaconda3/envs/zoobot/lib/python3.7/site-packages/IPython/core/interactiveshell.py:3331: TableReplaceWarning: converted column 'hubble_id' from integer to float\n",
      "  exec(code_obj, self.user_global_ns, self.user_ns)\n",
      "/home/walml/anaconda3/envs/zoobot/lib/python3.7/site-packages/IPython/core/interactiveshell.py:3331: TableReplaceWarning: converted column 'kron_radius_I' from integer to float\n",
      "  exec(code_obj, self.user_global_ns, self.user_ns)\n",
      "/home/walml/anaconda3/envs/zoobot/lib/python3.7/site-packages/IPython/core/interactiveshell.py:3331: TableReplaceWarning: converted column 'magnitude' from integer to float\n",
      "  exec(code_obj, self.user_global_ns, self.user_ns)\n",
      "/home/walml/anaconda3/envs/zoobot/lib/python3.7/site-packages/IPython/core/interactiveshell.py:3331: TableReplaceWarning: converted column 'mangaid' from integer to float\n",
      "  exec(code_obj, self.user_global_ns, self.user_ns)\n",
      "/home/walml/anaconda3/envs/zoobot/lib/python3.7/site-packages/IPython/core/interactiveshell.py:3331: TableReplaceWarning: converted column 'mass_log_msun' from integer to float\n",
      "  exec(code_obj, self.user_global_ns, self.user_ns)\n",
      "/home/walml/anaconda3/envs/zoobot/lib/python3.7/site-packages/IPython/core/interactiveshell.py:3331: TableReplaceWarning: converted column 'nsa_z' from integer to float\n",
      "  exec(code_obj, self.user_global_ns, self.user_ns)\n",
      "/home/walml/anaconda3/envs/zoobot/lib/python3.7/site-packages/IPython/core/interactiveshell.py:3331: TableReplaceWarning: converted column 'petro_r50_r' from integer to float\n",
      "  exec(code_obj, self.user_global_ns, self.user_ns)\n",
      "/home/walml/anaconda3/envs/zoobot/lib/python3.7/site-packages/IPython/core/interactiveshell.py:3331: TableReplaceWarning: converted column 'petro_r90_r' from integer to float\n",
      "  exec(code_obj, self.user_global_ns, self.user_ns)\n",
      "/home/walml/anaconda3/envs/zoobot/lib/python3.7/site-packages/IPython/core/interactiveshell.py:3331: TableReplaceWarning: converted column 'petrorad_flux' from integer to float\n",
      "  exec(code_obj, self.user_global_ns, self.user_ns)\n",
      "/home/walml/anaconda3/envs/zoobot/lib/python3.7/site-packages/IPython/core/interactiveshell.py:3331: TableReplaceWarning: converted column 'priority' from integer to float\n",
      "  exec(code_obj, self.user_global_ns, self.user_ns)\n",
      "/home/walml/anaconda3/envs/zoobot/lib/python3.7/site-packages/IPython/core/interactiveshell.py:3331: TableReplaceWarning: converted column 'radius_half' from integer to float\n",
      "  exec(code_obj, self.user_global_ns, self.user_ns)\n",
      "/home/walml/anaconda3/envs/zoobot/lib/python3.7/site-packages/IPython/core/interactiveshell.py:3331: TableReplaceWarning: converted column 'sdss_dr12_objid' from integer to float\n",
      "  exec(code_obj, self.user_global_ns, self.user_ns)\n",
      "/home/walml/anaconda3/envs/zoobot/lib/python3.7/site-packages/IPython/core/interactiveshell.py:3331: TableReplaceWarning: converted column 'sdss_dr7_id' from integer to float\n",
      "  exec(code_obj, self.user_global_ns, self.user_ns)\n",
      "/home/walml/anaconda3/envs/zoobot/lib/python3.7/site-packages/IPython/core/interactiveshell.py:3331: TableReplaceWarning: converted column 'sdss_dr8_id' from integer to float\n",
      "  exec(code_obj, self.user_global_ns, self.user_ns)\n",
      "/home/walml/anaconda3/envs/zoobot/lib/python3.7/site-packages/IPython/core/interactiveshell.py:3331: TableReplaceWarning: converted column 'sdss_id' from integer to float\n",
      "  exec(code_obj, self.user_global_ns, self.user_ns)\n",
      "/home/walml/anaconda3/envs/zoobot/lib/python3.7/site-packages/IPython/core/interactiveshell.py:3331: TableReplaceWarning: converted column 'sfr' from integer to float\n",
      "  exec(code_obj, self.user_global_ns, self.user_ns)\n",
      "/home/walml/anaconda3/envs/zoobot/lib/python3.7/site-packages/IPython/core/interactiveshell.py:3331: TableReplaceWarning: converted column 'simulation' from integer to float\n",
      "  exec(code_obj, self.user_global_ns, self.user_ns)\n",
      "/home/walml/anaconda3/envs/zoobot/lib/python3.7/site-packages/IPython/core/interactiveshell.py:3331: TableReplaceWarning: converted column 'snapshot' from integer to float\n",
      "  exec(code_obj, self.user_global_ns, self.user_ns)\n",
      "/home/walml/anaconda3/envs/zoobot/lib/python3.7/site-packages/IPython/core/interactiveshell.py:3331: TableReplaceWarning: converted column 'subdir' from integer to float\n",
      "  exec(code_obj, self.user_global_ns, self.user_ns)\n",
      "/home/walml/anaconda3/envs/zoobot/lib/python3.7/site-packages/IPython/core/interactiveshell.py:3331: TableReplaceWarning: converted column 'subhalo_id' from integer to float\n",
      "  exec(code_obj, self.user_global_ns, self.user_ns)\n"
     ]
    }
   ],
   "source": [
    "dr1_dr2 = Table.read('/media/walml/beta/galaxy_zoo/decals/catalogs/raw/decals_dr1_and_dr2.csv').to_pandas()"
   ]
  },
  {
   "cell_type": "markdown",
   "metadata": {},
   "source": [
    "Yes, that's what causes the duplication. I will need to double-check these have reasonable classifications by eye"
   ]
  },
  {
   "cell_type": "code",
   "execution_count": 11,
   "metadata": {},
   "outputs": [
    {
     "data": {
      "text/plain": [
       "0         J094651.40-010228.5\n",
       "1         J094630.85-004554.5\n",
       "2         J094631.59-005917.7\n",
       "3         J094744.18-004013.4\n",
       "4         J094751.74-003242.0\n",
       "                 ...         \n",
       "641404    J235101.08-100042.7\n",
       "641405    J235247.10-105259.6\n",
       "641406    J235320.91-103238.7\n",
       "641407    J235406.94-102419.7\n",
       "641408    J235414.90-101409.4\n",
       "Name: iauname, Length: 641409, dtype: object"
      ]
     },
     "execution_count": 11,
     "metadata": {},
     "output_type": "execute_result"
    }
   ],
   "source": [
    "nsa['iauname']"
   ]
  },
  {
   "cell_type": "code",
   "execution_count": 12,
   "metadata": {},
   "outputs": [],
   "source": [
    "nsa_and_dr12 = pd.merge(nsa, dr1_dr2, on='iauname', how='inner')"
   ]
  },
  {
   "cell_type": "code",
   "execution_count": 13,
   "metadata": {},
   "outputs": [
    {
     "data": {
      "text/plain": [
       "(103712, 103712)"
      ]
     },
     "execution_count": 13,
     "metadata": {},
     "output_type": "execute_result"
    }
   ],
   "source": [
    "len(dr1_dr2), len(nsa_and_dr12)"
   ]
  },
  {
   "cell_type": "code",
   "execution_count": 14,
   "metadata": {},
   "outputs": [
    {
     "data": {
      "text/plain": [
       "(343128, 343128)"
      ]
     },
     "execution_count": 14,
     "metadata": {},
     "output_type": "execute_result"
    }
   ],
   "source": [
    "nsa_and_dr5 = pd.merge(nsa, decals_joint, on='iauname', how='inner')\n",
    "len(decals_joint), len(nsa_and_dr5)"
   ]
  },
  {
   "cell_type": "markdown",
   "metadata": {},
   "source": [
    "Let's verify the selection cuts that I think were made, were actually made"
   ]
  },
  {
   "cell_type": "code",
   "execution_count": 15,
   "metadata": {},
   "outputs": [
    {
     "name": "stdout",
     "output_type": "stream",
     "text": [
      "background\n",
      "bad_image\n",
      "band\n",
      "bands\n",
      "camera\n",
      "dr8objid\n",
      "field\n",
      "flux_radius1_I\n",
      "half_rad_h\n",
      "hubble_id\n",
      "kron_radius_I\n",
      "magnitude\n",
      "mangaid\n",
      "mass_log_msun\n",
      "nsa_z\n",
      "petro_r50_r\n",
      "petro_r90_r\n",
      "petrorad_flux\n",
      "priority\n",
      "radius_half\n",
      "sdss_dr12_objid\n",
      "sdss_dr7_id\n",
      "sdss_dr8_id\n",
      "sdss_id\n",
      "sfr\n",
      "simulation\n",
      "snapshot\n",
      "subdir\n",
      "subhalo_id\n"
     ]
    }
   ],
   "source": [
    "valid_cols = []\n",
    "for col in dr1_dr2.columns.values:\n",
    "    if np.all(pd.isna(dr1_dr2[col])):\n",
    "        print(col)\n",
    "    else:\n",
    "        valid_cols.append(col)"
   ]
  },
  {
   "cell_type": "code",
   "execution_count": 16,
   "metadata": {},
   "outputs": [],
   "source": [
    "dr1_dr2_valid = dr1_dr2[valid_cols]"
   ]
  },
  {
   "cell_type": "code",
   "execution_count": null,
   "metadata": {},
   "outputs": [],
   "source": []
  },
  {
   "cell_type": "code",
   "execution_count": 17,
   "metadata": {},
   "outputs": [
    {
     "data": {
      "text/plain": [
       "(42117, 61595, 103712)"
      ]
     },
     "execution_count": 17,
     "metadata": {},
     "output_type": "execute_result"
    }
   ],
   "source": [
    "dr1 = dr1_dr2_valid.query('data_release == \"DR1\"')\n",
    "dr2 = dr1_dr2_valid.query('data_release == \"DR2\"')\n",
    "len(dr1), len(dr2), len(dr1) + len(dr2)"
   ]
  },
  {
   "cell_type": "markdown",
   "metadata": {},
   "source": [
    "For DR1, no cuts were applied. For DR2, petrotheta > 3 was applied."
   ]
  },
  {
   "cell_type": "code",
   "execution_count": 18,
   "metadata": {},
   "outputs": [
    {
     "data": {
      "text/plain": [
       "array(['col0', '_id', 'absolute_size', 'counters', 'data_release', 'dec',\n",
       "       'group_id', 'iauname', 'mag', 'nobs_max', 'nsa_id', 'petroflux_r',\n",
       "       'petrorad_50_r', 'petrorad_r', 'ra', 'redshift', 'retire_at',\n",
       "       'survey', 'subject_id'], dtype=object)"
      ]
     },
     "execution_count": 18,
     "metadata": {},
     "output_type": "execute_result"
    }
   ],
   "source": [
    "dr1.columns.values"
   ]
  },
  {
   "cell_type": "code",
   "execution_count": 19,
   "metadata": {},
   "outputs": [
    {
     "data": {
      "text/plain": [
       "3.0006349086761475"
      ]
     },
     "execution_count": 19,
     "metadata": {},
     "output_type": "execute_result"
    }
   ],
   "source": [
    "dr2['petrorad_r'].min()"
   ]
  },
  {
   "cell_type": "code",
   "execution_count": 20,
   "metadata": {},
   "outputs": [
    {
     "data": {
      "text/plain": [
       "<matplotlib.legend.Legend at 0x7f3e68939e50>"
      ]
     },
     "execution_count": 20,
     "metadata": {},
     "output_type": "execute_result"
    },
    {
     "data": {
      "image/png": "[encoded data removed]",
      "text/plain": [
       "<Figure size 432x288 with 1 Axes>"
      ]
     },
     "metadata": {
      "needs_background": "light"
     },
     "output_type": "display_data"
    }
   ],
   "source": [
    "fig, ax = plt.subplots()\n",
    "_, bins = np.histogram(np.linspace(0., 15.), bins=30)\n",
    "ax.hist(dr1.query('petrorad_r < 20')['petrorad_r'], bins, alpha=.5, label='DR1', density=True)\n",
    "ax.hist(dr2.query('petrorad_r < 20')['petrorad_r'], bins, alpha=.5, label='DR2', density=True)\n",
    "ax.legend()"
   ]
  },
  {
   "cell_type": "markdown",
   "metadata": {},
   "source": [
    "Coleman said PETROTHETA > 3 - let's check that's the same as 'petrorad_r' here"
   ]
  },
  {
   "cell_type": "code",
   "execution_count": 21,
   "metadata": {},
   "outputs": [
    {
     "data": {
      "text/plain": [
       "ra                        148.453\n",
       "dec                      0.204961\n",
       "iauname       J095348.63+001217.8\n",
       "petrotheta                3.00063\n",
       "Name: 661, dtype: object"
      ]
     },
     "execution_count": 21,
     "metadata": {},
     "output_type": "execute_result"
    }
   ],
   "source": [
    "min_r_index = np.argmin(dr2['petrorad_r'])\n",
    "min_r_iauname = dr2.iloc[min_r_index]['iauname']\n",
    "nsa[nsa['iauname'] == min_r_iauname].squeeze()"
   ]
  },
  {
   "cell_type": "markdown",
   "metadata": {},
   "source": [
    "Yep, checks out - it was just renamed.\n"
   ]
  },
  {
   "cell_type": "code",
   "execution_count": 22,
   "metadata": {},
   "outputs": [
    {
     "name": "stderr",
     "output_type": "stream",
     "text": [
      "/home/walml/anaconda3/envs/zoobot/lib/python3.7/site-packages/ipykernel_launcher.py:1: SettingWithCopyWarning: \n",
      "A value is trying to be set on a copy of a slice from a DataFrame.\n",
      "Try using .loc[row_indexer,col_indexer] = value instead\n",
      "\n",
      "See the caveats in the documentation: https://pandas.pydata.org/pandas-docs/stable/user_guide/indexing.html#returning-a-view-versus-a-copy\n",
      "  \"\"\"Entry point for launching an IPython kernel.\n",
      "/home/walml/anaconda3/envs/zoobot/lib/python3.7/site-packages/ipykernel_launcher.py:2: SettingWithCopyWarning: \n",
      "A value is trying to be set on a copy of a slice from a DataFrame.\n",
      "Try using .loc[row_indexer,col_indexer] = value instead\n",
      "\n",
      "See the caveats in the documentation: https://pandas.pydata.org/pandas-docs/stable/user_guide/indexing.html#returning-a-view-versus-a-copy\n",
      "  \n",
      "/home/walml/anaconda3/envs/zoobot/lib/python3.7/site-packages/ipykernel_launcher.py:3: SettingWithCopyWarning: \n",
      "A value is trying to be set on a copy of a slice from a DataFrame.\n",
      "Try using .loc[row_indexer,col_indexer] = value instead\n",
      "\n",
      "See the caveats in the documentation: https://pandas.pydata.org/pandas-docs/stable/user_guide/indexing.html#returning-a-view-versus-a-copy\n",
      "  This is separate from the ipykernel package so we can avoid doing imports until\n"
     ]
    }
   ],
   "source": [
    "dr1['petrotheta'] = dr1['petrorad_r']\n",
    "dr2['petrotheta'] = dr2['petrorad_r']\n",
    "dr1_dr2_valid['petrotheta'] = dr1_dr2_valid['petrorad_r']"
   ]
  },
  {
   "cell_type": "markdown",
   "metadata": {},
   "source": [
    "\n",
    "Coleman also removed galaxies with suspicious petrotheta, as did I - https://github.com/zooniverse/decals/blob/master/decals/a_download_decals/get_catalogs/selection_cuts.py#L28"
   ]
  },
  {
   "cell_type": "markdown",
   "metadata": {},
   "source": [
    "In theory then, if we apply those same two cuts retrospectively to DR1, we should have all DR1/DR2 galaxies in the DR5 joint catalog"
   ]
  },
  {
   "cell_type": "code",
   "execution_count": 23,
   "metadata": {},
   "outputs": [
    {
     "name": "stdout",
     "output_type": "stream",
     "text": [
      "42117 37514\n",
      "61595 61595\n"
     ]
    }
   ],
   "source": [
    "\n",
    "# https://github.com/zooniverse/decals/blob/master/decals/a_download_decals/get_catalogs/selection_cuts.py#L28\n",
    "def apply_selection_cuts(input_catalog, snap_tolerance=1e-3):\n",
    "    \"\"\"\n",
    "    Select only galaxies with petrotheta > 3 and not within 1e-3 of bad measurement snap value\n",
    "    Args:\n",
    "        catalog (astropy.Table): Galaxy catalog including NSA information\n",
    "        snap_tolerance (float): Minimum deviation from bad measurement snap value allowed\n",
    "    Returns:\n",
    "        (astropy.Table) catalog of galaxies matching selection criteria above\n",
    "    \"\"\"\n",
    "\n",
    "    # Galaxies should be sufficiently extended across the sky\n",
    "    petrotheta_above_3 = input_catalog['petrotheta'] > 3\n",
    "\n",
    "    # NSA catalog’s petrotheta calculation sometimes fails to a ‘default’ value\n",
    "    # Any galaxies with petrotheta within 1e-3 of the snap_to value likely has the wrong size.\n",
    "    bad_petrotheta_value = 27.653702  # this 'magic' value can be confirmed by looking at petrotheta histograms\n",
    "    snap_lower_limit = bad_petrotheta_value - snap_tolerance\n",
    "    snap_upper_limit = bad_petrotheta_value + snap_tolerance\n",
    "\n",
    "    above_snap_lower_limit = input_catalog['petrotheta'] > snap_lower_limit\n",
    "    below_snap_upper_limit = input_catalog['petrotheta'] < snap_upper_limit\n",
    "    within_snap_window = above_snap_lower_limit & below_snap_upper_limit\n",
    "\n",
    "    selected_catalog = input_catalog[petrotheta_above_3 & ~ within_snap_window]\n",
    "    return selected_catalog\n",
    "\n",
    "dr1_cut = apply_selection_cuts(dr1)\n",
    "print(len(dr1), len(dr1_cut))  # should be lower\n",
    "\n",
    "dr2_cut = apply_selection_cuts(dr2)\n",
    "print(len(dr2_cut), len(dr2))  # should not change"
   ]
  },
  {
   "cell_type": "code",
   "execution_count": 24,
   "metadata": {},
   "outputs": [
    {
     "name": "stdout",
     "output_type": "stream",
     "text": [
      "343128 343128\n"
     ]
    }
   ],
   "source": [
    "decals_joint_cut = apply_selection_cuts(decals_joint)\n",
    "print(len(decals_joint), len(decals_joint_cut))  # obviously should also have already been applied"
   ]
  },
  {
   "cell_type": "code",
   "execution_count": 25,
   "metadata": {},
   "outputs": [],
   "source": [
    "# already checked that all DR1/2 galaxies are in NSA. Are they all in DR5?"
   ]
  },
  {
   "cell_type": "code",
   "execution_count": 26,
   "metadata": {},
   "outputs": [],
   "source": [
    "dr1_dr2_cut = apply_selection_cuts(dr1_dr2_valid)\n",
    "dr5_and_dr1_dr2 = pd.merge(decals_joint, dr1_dr2_cut, on='iauname', how='inner')"
   ]
  },
  {
   "cell_type": "code",
   "execution_count": 27,
   "metadata": {},
   "outputs": [
    {
     "data": {
      "text/plain": [
       "(97790, 99109)"
      ]
     },
     "execution_count": 27,
     "metadata": {},
     "output_type": "execute_result"
    }
   ],
   "source": [
    "len(dr5_and_dr1_dr2), len(dr1_cut) + len(dr2_cut)  # okay, still dropping 1300 galaxies. Which?"
   ]
  },
  {
   "cell_type": "code",
   "execution_count": 28,
   "metadata": {},
   "outputs": [
    {
     "data": {
      "text/plain": [
       "1319"
      ]
     },
     "execution_count": 28,
     "metadata": {},
     "output_type": "execute_result"
    }
   ],
   "source": [
    "dr5_not_dr1_dr2 = dr1_dr2_cut[~dr1_dr2_cut['iauname'].isin(decals_joint['iauname'])]\n",
    "len(dr5_not_dr1_dr2)"
   ]
  },
  {
   "cell_type": "code",
   "execution_count": 29,
   "metadata": {},
   "outputs": [
    {
     "data": {
      "text/plain": [
       "DR2    884\n",
       "DR1    435\n",
       "Name: data_release, dtype: int64"
      ]
     },
     "execution_count": 29,
     "metadata": {},
     "output_type": "execute_result"
    }
   ],
   "source": [
    "dr5_not_dr1_dr2['data_release'].value_counts()"
   ]
  },
  {
   "cell_type": "code",
   "execution_count": 30,
   "metadata": {},
   "outputs": [
    {
     "data": {
      "text/plain": [
       "1941       7.470318\n",
       "2012       8.978271\n",
       "2018       4.330838\n",
       "2021       5.566817\n",
       "2031       5.566817\n",
       "            ...    \n",
       "102980     4.330838\n",
       "103161     8.085743\n",
       "103175    10.529021\n",
       "103194     7.155531\n",
       "103221     9.624050\n",
       "Name: petrotheta, Length: 1319, dtype: float64"
      ]
     },
     "execution_count": 30,
     "metadata": {},
     "output_type": "execute_result"
    }
   ],
   "source": [
    "dr5_not_dr1_dr2['petrotheta']"
   ]
  },
  {
   "cell_type": "code",
   "execution_count": 31,
   "metadata": {},
   "outputs": [
    {
     "data": {
      "text/plain": [
       "1941      0.076049\n",
       "2012      0.058630\n",
       "2018      0.055588\n",
       "2021      0.055906\n",
       "2031      0.060712\n",
       "            ...   \n",
       "102980    0.044473\n",
       "103161    0.135384\n",
       "103175    0.125000\n",
       "103194    0.081100\n",
       "103221    0.086672\n",
       "Name: redshift, Length: 1319, dtype: float64"
      ]
     },
     "execution_count": 31,
     "metadata": {},
     "output_type": "execute_result"
    }
   ],
   "source": [
    "dr5_not_dr1_dr2['redshift']"
   ]
  },
  {
   "cell_type": "markdown",
   "metadata": {},
   "source": [
    "Okay, it's not obvious why those are missing. It's possible some bricks with grz observations were removed on the DECALS side? I think I will press on and potentially remove these 1300 galaxies from the final catalog."
   ]
  },
  {
   "cell_type": "markdown",
   "metadata": {},
   "source": [
    "## From Catalog to Images"
   ]
  },
  {
   "cell_type": "code",
   "execution_count": 32,
   "metadata": {},
   "outputs": [
    {
     "data": {
      "text/plain": [
       "(343128, 343128)"
      ]
     },
     "execution_count": 32,
     "metadata": {},
     "output_type": "execute_result"
    }
   ],
   "source": [
    "to_upload = Table.read('/media/walml/beta/galaxy_zoo/decals/catalogs/dr5_nsa1_0_0_to_upload.fits').to_pandas()  # same table, now with png_ready/fits_ready/fits_filled cols added\n",
    "to_upload['iauname'] = to_upload['iauname'].str.decode('utf8')\n",
    "len(decals_joint), len(to_upload)"
   ]
  },
  {
   "cell_type": "code",
   "execution_count": 33,
   "metadata": {},
   "outputs": [
    {
     "data": {
      "text/plain": [
       "True    343128\n",
       "Name: fits_ready, dtype: int64"
      ]
     },
     "execution_count": 33,
     "metadata": {},
     "output_type": "execute_result"
    }
   ],
   "source": [
    "to_upload['fits_ready'].value_counts()"
   ]
  },
  {
   "cell_type": "code",
   "execution_count": 34,
   "metadata": {},
   "outputs": [
    {
     "data": {
      "text/plain": [
       "True    343128\n",
       "Name: png_ready, dtype: int64"
      ]
     },
     "execution_count": 34,
     "metadata": {},
     "output_type": "execute_result"
    }
   ],
   "source": [
    "to_upload['png_ready'].value_counts()"
   ]
  },
  {
   "cell_type": "code",
   "execution_count": 35,
   "metadata": {},
   "outputs": [
    {
     "data": {
      "text/plain": [
       "True     309398\n",
       "False     33730\n",
       "Name: fits_filled, dtype: int64"
      ]
     },
     "execution_count": 35,
     "metadata": {},
     "output_type": "execute_result"
    }
   ],
   "source": [
    "to_upload['fits_filled'].value_counts()  # >20% of pixels in any band being 0 or nan"
   ]
  },
  {
   "cell_type": "code",
   "execution_count": 36,
   "metadata": {},
   "outputs": [
    {
     "data": {
      "text/plain": [
       "99109"
      ]
     },
     "execution_count": 36,
     "metadata": {},
     "output_type": "execute_result"
    }
   ],
   "source": [
    "len(dr1_dr2_cut)"
   ]
  },
  {
   "cell_type": "code",
   "execution_count": 37,
   "metadata": {},
   "outputs": [
    {
     "data": {
      "text/plain": [
       "93292"
      ]
     },
     "execution_count": 37,
     "metadata": {},
     "output_type": "execute_result"
    }
   ],
   "source": [
    "# And how many were already in DR1/2?\n",
    "np.sum(to_upload.query('fits_filled')['iauname'].isin(dr1_dr2_cut['iauname'])) # which is a little lower than all, because of the 10% or so with bad fits data (we lose about 6% here)"
   ]
  },
  {
   "cell_type": "markdown",
   "metadata": {},
   "source": [
    "## So 307,484 galaxies could have been uploaded, some of which were in DR1/2. Which actually were?"
   ]
  },
  {
   "cell_type": "code",
   "execution_count": 38,
   "metadata": {},
   "outputs": [
    {
     "data": {
      "text/plain": [
       "239715"
      ]
     },
     "execution_count": 38,
     "metadata": {},
     "output_type": "execute_result"
    }
   ],
   "source": [
    "latest_export = pd.read_csv('/home/walml/Downloads/classifications_200520.csv')\n",
    "len(latest_export)"
   ]
  },
  {
   "cell_type": "code",
   "execution_count": 39,
   "metadata": {},
   "outputs": [
    {
     "data": {
      "text/plain": [
       "32"
      ]
     },
     "execution_count": 39,
     "metadata": {},
     "output_type": "execute_result"
    }
   ],
   "source": [
    "np.sum(latest_export['iauname'].duplicated())"
   ]
  },
  {
   "cell_type": "code",
   "execution_count": 40,
   "metadata": {},
   "outputs": [
    {
     "data": {
      "text/html": [
       "<div>\n",
       "<style scoped>\n",
       "    .dataframe tbody tr th:only-of-type {\n",
       "        vertical-align: middle;\n",
       "    }\n",
       "\n",
       "    .dataframe tbody tr th {\n",
       "        vertical-align: top;\n",
       "    }\n",
       "\n",
       "    .dataframe thead th {\n",
       "        text-align: right;\n",
       "    }\n",
       "</style>\n",
       "<table border=\"1\" class=\"dataframe\">\n",
       "  <thead>\n",
       "    <tr style=\"text-align: right;\">\n",
       "      <th></th>\n",
       "      <th>iauname</th>\n",
       "      <th>smooth-or-featured_artifact</th>\n",
       "      <th>smooth-or-featured_featured-or-disk</th>\n",
       "      <th>smooth-or-featured_smooth</th>\n",
       "      <th>how-rounded_cigar-shaped</th>\n",
       "      <th>how-rounded_in-between</th>\n",
       "      <th>how-rounded_round</th>\n",
       "      <th>disk-edge-on_no</th>\n",
       "      <th>disk-edge-on_yes</th>\n",
       "      <th>edge-on-bulge_boxy</th>\n",
       "      <th>...</th>\n",
       "      <th>bulge-size_obvious-v1_fraction</th>\n",
       "      <th>bulge-size_tiny-v1_fraction</th>\n",
       "      <th>bulge-size_none-v1_fraction</th>\n",
       "      <th>merging_none_fraction</th>\n",
       "      <th>merging_minor-disturbance_fraction</th>\n",
       "      <th>merging_major-disturbance_fraction</th>\n",
       "      <th>merging_merger_fraction</th>\n",
       "      <th>merging_both-v1_fraction</th>\n",
       "      <th>merging_neither-v1_fraction</th>\n",
       "      <th>merging_tidal-debris-v1_fraction</th>\n",
       "    </tr>\n",
       "  </thead>\n",
       "  <tbody>\n",
       "    <tr>\n",
       "      <th>0</th>\n",
       "      <td>J000000.80+004200.0</td>\n",
       "      <td>0.0</td>\n",
       "      <td>2.0</td>\n",
       "      <td>3.0</td>\n",
       "      <td>0.0</td>\n",
       "      <td>1.0</td>\n",
       "      <td>2.0</td>\n",
       "      <td>2.0</td>\n",
       "      <td>0.0</td>\n",
       "      <td>0.0</td>\n",
       "      <td>...</td>\n",
       "      <td>0.0</td>\n",
       "      <td>0.0</td>\n",
       "      <td>0.0</td>\n",
       "      <td>0.400000</td>\n",
       "      <td>0.000000</td>\n",
       "      <td>0.00</td>\n",
       "      <td>0.60</td>\n",
       "      <td>0.0</td>\n",
       "      <td>0.0</td>\n",
       "      <td>0.0</td>\n",
       "    </tr>\n",
       "    <tr>\n",
       "      <th>1</th>\n",
       "      <td>J000001.03+003228.7</td>\n",
       "      <td>0.0</td>\n",
       "      <td>1.0</td>\n",
       "      <td>4.0</td>\n",
       "      <td>0.0</td>\n",
       "      <td>4.0</td>\n",
       "      <td>0.0</td>\n",
       "      <td>1.0</td>\n",
       "      <td>0.0</td>\n",
       "      <td>0.0</td>\n",
       "      <td>...</td>\n",
       "      <td>0.0</td>\n",
       "      <td>0.0</td>\n",
       "      <td>0.0</td>\n",
       "      <td>0.200000</td>\n",
       "      <td>0.200000</td>\n",
       "      <td>0.00</td>\n",
       "      <td>0.60</td>\n",
       "      <td>0.0</td>\n",
       "      <td>0.0</td>\n",
       "      <td>0.0</td>\n",
       "    </tr>\n",
       "    <tr>\n",
       "      <th>2</th>\n",
       "      <td>J000001.55-000533.3</td>\n",
       "      <td>0.0</td>\n",
       "      <td>0.0</td>\n",
       "      <td>4.0</td>\n",
       "      <td>1.0</td>\n",
       "      <td>2.0</td>\n",
       "      <td>1.0</td>\n",
       "      <td>0.0</td>\n",
       "      <td>0.0</td>\n",
       "      <td>0.0</td>\n",
       "      <td>...</td>\n",
       "      <td>0.0</td>\n",
       "      <td>0.0</td>\n",
       "      <td>0.0</td>\n",
       "      <td>0.500000</td>\n",
       "      <td>0.000000</td>\n",
       "      <td>0.25</td>\n",
       "      <td>0.25</td>\n",
       "      <td>0.0</td>\n",
       "      <td>0.0</td>\n",
       "      <td>0.0</td>\n",
       "    </tr>\n",
       "    <tr>\n",
       "      <th>3</th>\n",
       "      <td>J000001.85+004309.3</td>\n",
       "      <td>1.0</td>\n",
       "      <td>1.0</td>\n",
       "      <td>2.0</td>\n",
       "      <td>0.0</td>\n",
       "      <td>2.0</td>\n",
       "      <td>0.0</td>\n",
       "      <td>0.0</td>\n",
       "      <td>1.0</td>\n",
       "      <td>0.0</td>\n",
       "      <td>...</td>\n",
       "      <td>0.0</td>\n",
       "      <td>0.0</td>\n",
       "      <td>0.0</td>\n",
       "      <td>0.666667</td>\n",
       "      <td>0.333333</td>\n",
       "      <td>0.00</td>\n",
       "      <td>0.00</td>\n",
       "      <td>0.0</td>\n",
       "      <td>0.0</td>\n",
       "      <td>0.0</td>\n",
       "    </tr>\n",
       "    <tr>\n",
       "      <th>4</th>\n",
       "      <td>J000002.29-042805.0</td>\n",
       "      <td>1.0</td>\n",
       "      <td>4.0</td>\n",
       "      <td>0.0</td>\n",
       "      <td>0.0</td>\n",
       "      <td>0.0</td>\n",
       "      <td>0.0</td>\n",
       "      <td>4.0</td>\n",
       "      <td>0.0</td>\n",
       "      <td>0.0</td>\n",
       "      <td>...</td>\n",
       "      <td>0.0</td>\n",
       "      <td>0.0</td>\n",
       "      <td>0.0</td>\n",
       "      <td>0.250000</td>\n",
       "      <td>0.500000</td>\n",
       "      <td>0.00</td>\n",
       "      <td>0.25</td>\n",
       "      <td>0.0</td>\n",
       "      <td>0.0</td>\n",
       "      <td>0.0</td>\n",
       "    </tr>\n",
       "  </tbody>\n",
       "</table>\n",
       "<p>5 rows × 95 columns</p>\n",
       "</div>"
      ],
      "text/plain": [
       "               iauname  smooth-or-featured_artifact  \\\n",
       "0  J000000.80+004200.0                          0.0   \n",
       "1  J000001.03+003228.7                          0.0   \n",
       "2  J000001.55-000533.3                          0.0   \n",
       "3  J000001.85+004309.3                          1.0   \n",
       "4  J000002.29-042805.0                          1.0   \n",
       "\n",
       "   smooth-or-featured_featured-or-disk  smooth-or-featured_smooth  \\\n",
       "0                                  2.0                        3.0   \n",
       "1                                  1.0                        4.0   \n",
       "2                                  0.0                        4.0   \n",
       "3                                  1.0                        2.0   \n",
       "4                                  4.0                        0.0   \n",
       "\n",
       "   how-rounded_cigar-shaped  how-rounded_in-between  how-rounded_round  \\\n",
       "0                       0.0                     1.0                2.0   \n",
       "1                       0.0                     4.0                0.0   \n",
       "2                       1.0                     2.0                1.0   \n",
       "3                       0.0                     2.0                0.0   \n",
       "4                       0.0                     0.0                0.0   \n",
       "\n",
       "   disk-edge-on_no  disk-edge-on_yes  edge-on-bulge_boxy  ...  \\\n",
       "0              2.0               0.0                 0.0  ...   \n",
       "1              1.0               0.0                 0.0  ...   \n",
       "2              0.0               0.0                 0.0  ...   \n",
       "3              0.0               1.0                 0.0  ...   \n",
       "4              4.0               0.0                 0.0  ...   \n",
       "\n",
       "   bulge-size_obvious-v1_fraction  bulge-size_tiny-v1_fraction  \\\n",
       "0                             0.0                          0.0   \n",
       "1                             0.0                          0.0   \n",
       "2                             0.0                          0.0   \n",
       "3                             0.0                          0.0   \n",
       "4                             0.0                          0.0   \n",
       "\n",
       "   bulge-size_none-v1_fraction  merging_none_fraction  \\\n",
       "0                          0.0               0.400000   \n",
       "1                          0.0               0.200000   \n",
       "2                          0.0               0.500000   \n",
       "3                          0.0               0.666667   \n",
       "4                          0.0               0.250000   \n",
       "\n",
       "   merging_minor-disturbance_fraction  merging_major-disturbance_fraction  \\\n",
       "0                            0.000000                                0.00   \n",
       "1                            0.200000                                0.00   \n",
       "2                            0.000000                                0.25   \n",
       "3                            0.333333                                0.00   \n",
       "4                            0.500000                                0.00   \n",
       "\n",
       "   merging_merger_fraction  merging_both-v1_fraction  \\\n",
       "0                     0.60                       0.0   \n",
       "1                     0.60                       0.0   \n",
       "2                     0.25                       0.0   \n",
       "3                     0.00                       0.0   \n",
       "4                     0.25                       0.0   \n",
       "\n",
       "   merging_neither-v1_fraction  merging_tidal-debris-v1_fraction  \n",
       "0                          0.0                               0.0  \n",
       "1                          0.0                               0.0  \n",
       "2                          0.0                               0.0  \n",
       "3                          0.0                               0.0  \n",
       "4                          0.0                               0.0  \n",
       "\n",
       "[5 rows x 95 columns]"
      ]
     },
     "execution_count": 40,
     "metadata": {},
     "output_type": "execute_result"
    }
   ],
   "source": [
    "latest_export.head()"
   ]
  },
  {
   "cell_type": "code",
   "execution_count": 41,
   "metadata": {},
   "outputs": [
    {
     "data": {
      "text/plain": [
       "array(['iauname', 'smooth-or-featured_artifact',\n",
       "       'smooth-or-featured_featured-or-disk', 'smooth-or-featured_smooth',\n",
       "       'how-rounded_cigar-shaped', 'how-rounded_in-between',\n",
       "       'how-rounded_round', 'disk-edge-on_no', 'disk-edge-on_yes',\n",
       "       'edge-on-bulge_boxy', 'edge-on-bulge_none',\n",
       "       'edge-on-bulge_rounded', 'bar_no', 'bar_weak', 'bar_strong',\n",
       "       'has-spiral-arms_no', 'has-spiral-arms_yes',\n",
       "       'spiral-winding_loose', 'spiral-winding_medium',\n",
       "       'spiral-winding_tight', 'spiral-arm-count_1', 'spiral-arm-count_2',\n",
       "       'spiral-arm-count_3', 'spiral-arm-count_4',\n",
       "       'spiral-arm-count_cant-tell', 'spiral-arm-count_more-than-4',\n",
       "       'bulge-size_none', 'bulge-size_small', 'bulge-size_moderate',\n",
       "       'bulge-size_large', 'bulge-size_dominant', 'bulge-size_obvious-v1',\n",
       "       'bulge-size_tiny-v1', 'bulge-size_none-v1', 'merging_none',\n",
       "       'merging_minor-disturbance', 'merging_major-disturbance',\n",
       "       'merging_merger', 'merging_both-v1', 'merging_neither-v1',\n",
       "       'merging_tidal-debris-v1', 'ra', 'dec', 'redshift', 'subject_id',\n",
       "       'smooth-or-featured_total-votes', 'how-rounded_total-votes',\n",
       "       'disk-edge-on_total-votes', 'edge-on-bulge_total-votes',\n",
       "       'bar_total-votes', 'has-spiral-arms_total-votes',\n",
       "       'spiral-winding_total-votes', 'spiral-arm-count_total-votes',\n",
       "       'bulge-size_total-votes', 'merging_total-votes',\n",
       "       'smooth-or-featured_artifact_fraction',\n",
       "       'smooth-or-featured_featured-or-disk_fraction',\n",
       "       'smooth-or-featured_smooth_fraction',\n",
       "       'how-rounded_cigar-shaped_fraction',\n",
       "       'how-rounded_in-between_fraction', 'how-rounded_round_fraction',\n",
       "       'disk-edge-on_no_fraction', 'disk-edge-on_yes_fraction',\n",
       "       'edge-on-bulge_boxy_fraction', 'edge-on-bulge_none_fraction',\n",
       "       'edge-on-bulge_rounded_fraction', 'bar_no_fraction',\n",
       "       'bar_weak_fraction', 'bar_strong_fraction',\n",
       "       'has-spiral-arms_no_fraction', 'has-spiral-arms_yes_fraction',\n",
       "       'spiral-winding_loose_fraction', 'spiral-winding_medium_fraction',\n",
       "       'spiral-winding_tight_fraction', 'spiral-arm-count_1_fraction',\n",
       "       'spiral-arm-count_2_fraction', 'spiral-arm-count_3_fraction',\n",
       "       'spiral-arm-count_4_fraction',\n",
       "       'spiral-arm-count_cant-tell_fraction',\n",
       "       'spiral-arm-count_more-than-4_fraction',\n",
       "       'bulge-size_none_fraction', 'bulge-size_small_fraction',\n",
       "       'bulge-size_moderate_fraction', 'bulge-size_large_fraction',\n",
       "       'bulge-size_dominant_fraction', 'bulge-size_obvious-v1_fraction',\n",
       "       'bulge-size_tiny-v1_fraction', 'bulge-size_none-v1_fraction',\n",
       "       'merging_none_fraction', 'merging_minor-disturbance_fraction',\n",
       "       'merging_major-disturbance_fraction', 'merging_merger_fraction',\n",
       "       'merging_both-v1_fraction', 'merging_neither-v1_fraction',\n",
       "       'merging_tidal-debris-v1_fraction'], dtype=object)"
      ]
     },
     "execution_count": 41,
     "metadata": {},
     "output_type": "execute_result"
    }
   ],
   "source": [
    "latest_export.columns.values"
   ]
  },
  {
   "cell_type": "code",
   "execution_count": 42,
   "metadata": {},
   "outputs": [
    {
     "data": {
      "text/plain": [
       "False    239682\n",
       "True         33\n",
       "Name: iauname, dtype: int64"
      ]
     },
     "execution_count": 42,
     "metadata": {},
     "output_type": "execute_result"
    }
   ],
   "source": [
    "pd.isna(latest_export['iauname']).value_counts()"
   ]
  },
  {
   "cell_type": "code",
   "execution_count": 43,
   "metadata": {},
   "outputs": [],
   "source": [
    "latest_export = latest_export.dropna(subset=['iauname'])"
   ]
  },
  {
   "cell_type": "code",
   "execution_count": 44,
   "metadata": {},
   "outputs": [
    {
     "data": {
      "text/plain": [
       "True    239682\n",
       "Name: iauname, dtype: int64"
      ]
     },
     "execution_count": 44,
     "metadata": {},
     "output_type": "execute_result"
    }
   ],
   "source": [
    "was_known_galaxy = latest_export['iauname'].isin(nsa['iauname'])\n",
    "was_known_galaxy.value_counts()"
   ]
  },
  {
   "cell_type": "code",
   "execution_count": 45,
   "metadata": {},
   "outputs": [
    {
     "data": {
      "text/plain": [
       "True     239631\n",
       "False        51\n",
       "Name: iauname, dtype: int64"
      ]
     },
     "execution_count": 45,
     "metadata": {},
     "output_type": "execute_result"
    }
   ],
   "source": [
    "was_imaged_galaxy = latest_export['iauname'].isin(to_upload['iauname'])\n",
    "was_imaged_galaxy.value_counts()"
   ]
  },
  {
   "cell_type": "code",
   "execution_count": 46,
   "metadata": {},
   "outputs": [],
   "source": [
    "not_imaged_iaunames = latest_export[~was_imaged_galaxy]['iauname']"
   ]
  },
  {
   "cell_type": "code",
   "execution_count": null,
   "metadata": {},
   "outputs": [],
   "source": []
  },
  {
   "cell_type": "code",
   "execution_count": 47,
   "metadata": {},
   "outputs": [],
   "source": [
    "latest_subjects = pd.read_csv('/home/walml/repos/gz-panoptes-reduction/data/latest_subjects_export.csv')"
   ]
  },
  {
   "cell_type": "code",
   "execution_count": 48,
   "metadata": {},
   "outputs": [
    {
     "data": {
      "text/plain": [
       "715548"
      ]
     },
     "execution_count": 48,
     "metadata": {},
     "output_type": "execute_result"
    }
   ],
   "source": [
    "len(latest_subjects)"
   ]
  },
  {
   "cell_type": "code",
   "execution_count": 49,
   "metadata": {},
   "outputs": [
    {
     "data": {
      "text/plain": [
       "6122.0     230381\n",
       "10582.0    192614\n",
       "11308.0     50000\n",
       "10581.0     19867\n",
       "6527.0       1601\n",
       "5653.0        875\n",
       "12410.0       150\n",
       "Name: workflow_id, dtype: int64"
      ]
     },
     "execution_count": 49,
     "metadata": {},
     "output_type": "execute_result"
    }
   ],
   "source": [
    "latest_subjects['workflow_id'].value_counts()"
   ]
  },
  {
   "cell_type": "code",
   "execution_count": 50,
   "metadata": {},
   "outputs": [
    {
     "data": {
      "text/plain": [
       "442862"
      ]
     },
     "execution_count": 50,
     "metadata": {},
     "output_type": "execute_result"
    }
   ],
   "source": [
    "latest_subjects = latest_subjects[latest_subjects['workflow_id'].isin([6122.0, 10582.0, 10581.0])]  # decals public workflows\n",
    "len(latest_subjects)"
   ]
  },
  {
   "cell_type": "code",
   "execution_count": 51,
   "metadata": {},
   "outputs": [
    {
     "data": {
      "text/plain": [
       "414660"
      ]
     },
     "execution_count": 51,
     "metadata": {},
     "output_type": "execute_result"
    }
   ],
   "source": [
    "latest_subjects = latest_subjects[~latest_subjects['subject_set_id'].isin([77652])]  # remove eagle subjects\n",
    "len(latest_subjects)"
   ]
  },
  {
   "cell_type": "code",
   "execution_count": 52,
   "metadata": {},
   "outputs": [
    {
     "data": {
      "text/plain": [
       "'{\"!ra\":199.83293823928753,\"!dec\":-1.0749441501917854,\"!mag_g\":16.980735659599304,\"!mag_i\":15.506054162979126,\"!mag_r\":15.984987616539001,\"!mag_u\":18.876254558563232,\"!mag_z\":15.15299677848816,\"!nsa_id\":10755,\"!iauname\":\"J131919.89-010429.7\",\"!redshift\":0.08300412446260452,\"!mag_abs_r\":-21.241125106811523,\"!mag_faruv\":-999.0,\"!petroflux\":345.6597900390625,\"!petroth50\":3.882611036300659,\"!mag_nearuv\":22.02775824815035,\"!petrotheta\":9.777639389038086,\"!nsa_version\":\"1_0_0\",\"#upload_date\":\"2018-03-30\",\"!absolute_size\":15.42694563997034,\"!decals_search\":\"[Click to view in DECALS](+tab+http://www.legacysurvey.org/viewer?ra=199.83293823928753\\\\u0026dec=-1.0749441501917854\\\\u0026zoom=15\\\\u0026layer=decals-dr5)\",\"!simbad_search\":\"[Click to search SIMBAD](+tab+http://simbad.u-strasbg.fr/simbad/sim-coo?Coord=199.83293823928753+%09-1.0749441501917854\\\\u0026CooFrame=FK5\\\\u0026CooEpoch=2000\\\\u0026CooEqui=2000\\\\u0026CooDefinedFrames=none\\\\u0026Radius=10.0\\\\u0026Radius.unit=arcmin\\\\u0026submit=submit+query\\\\u0026CoordList=)\",\"!nasa_ned_search\":\"[Click to search NASA NED](+tab+https://ned.ipac.caltech.edu/cgi-bin/objsearch?search_type=Near+Position+Search\\\\u0026in_csys=Equatorial\\\\u0026in_equinox=J2000.0\\\\u0026lon=199.83293824d\\\\u0026lat=-1.07494415d\\\\u0026radius=0.16666666666666666\\\\u0026hconst=73\\\\u0026omegam=0.27\\\\u0026omegav=0.73\\\\u0026corr_z=1\\\\u0026z_constraint=Unconstrained\\\\u0026z_value1=\\\\u0026z_value2=\\\\u0026z_unit=z\\\\u0026ot_include=ANY\\\\u0026nmp_op=ANY\\\\u0026out_csys=Equatorial\\\\u0026out_equinox=J2000.0\\\\u0026obj_sort=Distance+to+search+center\\\\u0026of=pre_text\\\\u0026zv_breaker=30000.0\\\\u0026list_limit=5\\\\u0026img_stamp=YES)\",\"metadata_message\":\"Metadata is available in [Talk](+tab+https://www.zooniverse.org/projects/zookeeper/galaxy-zoo/talk)\"}'"
      ]
     },
     "execution_count": 52,
     "metadata": {},
     "output_type": "execute_result"
    }
   ],
   "source": [
    "latest_subjects['metadata'][10000]"
   ]
  },
  {
   "cell_type": "code",
   "execution_count": 53,
   "metadata": {},
   "outputs": [],
   "source": [
    "latest_subjects['metadata'] = latest_subjects['metadata'].apply(json.loads)"
   ]
  },
  {
   "cell_type": "code",
   "execution_count": 54,
   "metadata": {},
   "outputs": [],
   "source": [
    "def get_iauname(metadata):\n",
    "    possible_keys = ['iauname', '!iauname', 'IAUNAME', '!IAUNAME']\n",
    "    for key in possible_keys:\n",
    "        if key in metadata.keys():\n",
    "            return metadata[key]\n",
    "    return np.nan"
   ]
  },
  {
   "cell_type": "code",
   "execution_count": 55,
   "metadata": {},
   "outputs": [],
   "source": [
    "latest_subjects['iauname'] = latest_subjects['metadata'].apply(get_iauname)"
   ]
  },
  {
   "cell_type": "code",
   "execution_count": 56,
   "metadata": {},
   "outputs": [
    {
     "data": {
      "text/plain": [
       "0"
      ]
     },
     "execution_count": 56,
     "metadata": {},
     "output_type": "execute_result"
    }
   ],
   "source": [
    "pd.isna(latest_subjects['iauname']).sum()"
   ]
  },
  {
   "cell_type": "code",
   "execution_count": 57,
   "metadata": {},
   "outputs": [
    {
     "data": {
      "text/html": [
       "<div>\n",
       "<style scoped>\n",
       "    .dataframe tbody tr th:only-of-type {\n",
       "        vertical-align: middle;\n",
       "    }\n",
       "\n",
       "    .dataframe tbody tr th {\n",
       "        vertical-align: top;\n",
       "    }\n",
       "\n",
       "    .dataframe thead th {\n",
       "        text-align: right;\n",
       "    }\n",
       "</style>\n",
       "<table border=\"1\" class=\"dataframe\">\n",
       "  <thead>\n",
       "    <tr style=\"text-align: right;\">\n",
       "      <th></th>\n",
       "      <th>subject_id</th>\n",
       "      <th>project_id</th>\n",
       "      <th>workflow_id</th>\n",
       "      <th>subject_set_id</th>\n",
       "      <th>metadata</th>\n",
       "      <th>locations</th>\n",
       "      <th>classifications_count</th>\n",
       "      <th>retired_at</th>\n",
       "      <th>retirement_reason</th>\n",
       "      <th>created_at</th>\n",
       "      <th>updated_at</th>\n",
       "      <th>iauname</th>\n",
       "    </tr>\n",
       "  </thead>\n",
       "  <tbody>\n",
       "    <tr>\n",
       "      <th>2250</th>\n",
       "      <td>20283538</td>\n",
       "      <td>5733</td>\n",
       "      <td>6122.0</td>\n",
       "      <td>19832</td>\n",
       "      <td>{'!ra': 116.4483378146343, '!dec': 25.86208586...</td>\n",
       "      <td>{\"0\":\"https://panoptes-uploads.zooniverse.org/...</td>\n",
       "      <td>40</td>\n",
       "      <td>2018-03-20 22:25:30 UTC</td>\n",
       "      <td>classification_count</td>\n",
       "      <td>2018-03-15 18:17:16 UTC</td>\n",
       "      <td>2018-03-15 18:17:16 UTC</td>\n",
       "      <td>J074547.59+255143.5</td>\n",
       "    </tr>\n",
       "    <tr>\n",
       "      <th>2252</th>\n",
       "      <td>20283539</td>\n",
       "      <td>5733</td>\n",
       "      <td>6122.0</td>\n",
       "      <td>19832</td>\n",
       "      <td>{'!ra': 323.31862288433615, '!dec': 11.6900743...</td>\n",
       "      <td>{\"0\":\"https://panoptes-uploads.zooniverse.org/...</td>\n",
       "      <td>40</td>\n",
       "      <td>2018-03-19 19:51:28 UTC</td>\n",
       "      <td>classification_count</td>\n",
       "      <td>2018-03-15 18:17:16 UTC</td>\n",
       "      <td>2018-03-15 18:17:16 UTC</td>\n",
       "      <td>J213316.46+114124.2</td>\n",
       "    </tr>\n",
       "    <tr>\n",
       "      <th>2254</th>\n",
       "      <td>20283540</td>\n",
       "      <td>5733</td>\n",
       "      <td>6122.0</td>\n",
       "      <td>19832</td>\n",
       "      <td>{'!ra': 321.47404187434915, '!dec': 0.41605876...</td>\n",
       "      <td>{\"0\":\"https://panoptes-uploads.zooniverse.org/...</td>\n",
       "      <td>40</td>\n",
       "      <td>2018-03-20 15:39:15 UTC</td>\n",
       "      <td>classification_count</td>\n",
       "      <td>2018-03-15 18:17:16 UTC</td>\n",
       "      <td>2018-03-15 18:17:16 UTC</td>\n",
       "      <td>J212553.76+002457.7</td>\n",
       "    </tr>\n",
       "    <tr>\n",
       "      <th>2256</th>\n",
       "      <td>20283541</td>\n",
       "      <td>5733</td>\n",
       "      <td>6122.0</td>\n",
       "      <td>19832</td>\n",
       "      <td>{'!ra': 337.0527522979068, '!dec': 0.543208463...</td>\n",
       "      <td>{\"0\":\"https://panoptes-uploads.zooniverse.org/...</td>\n",
       "      <td>40</td>\n",
       "      <td>2018-03-20 21:13:41 UTC</td>\n",
       "      <td>classification_count</td>\n",
       "      <td>2018-03-15 18:17:16 UTC</td>\n",
       "      <td>2018-03-15 18:17:16 UTC</td>\n",
       "      <td>J222812.65+003235.5</td>\n",
       "    </tr>\n",
       "    <tr>\n",
       "      <th>2258</th>\n",
       "      <td>20283542</td>\n",
       "      <td>5733</td>\n",
       "      <td>6122.0</td>\n",
       "      <td>19832</td>\n",
       "      <td>{'!ra': 119.21033791857249, '!dec': 28.3758651...</td>\n",
       "      <td>{\"0\":\"https://panoptes-uploads.zooniverse.org/...</td>\n",
       "      <td>40</td>\n",
       "      <td>2018-03-20 16:02:39 UTC</td>\n",
       "      <td>classification_count</td>\n",
       "      <td>2018-03-15 18:17:16 UTC</td>\n",
       "      <td>2018-03-15 18:17:16 UTC</td>\n",
       "      <td>J075650.47+282233.0</td>\n",
       "    </tr>\n",
       "  </tbody>\n",
       "</table>\n",
       "</div>"
      ],
      "text/plain": [
       "      subject_id  project_id  workflow_id  subject_set_id  \\\n",
       "2250    20283538        5733       6122.0           19832   \n",
       "2252    20283539        5733       6122.0           19832   \n",
       "2254    20283540        5733       6122.0           19832   \n",
       "2256    20283541        5733       6122.0           19832   \n",
       "2258    20283542        5733       6122.0           19832   \n",
       "\n",
       "                                               metadata  \\\n",
       "2250  {'!ra': 116.4483378146343, '!dec': 25.86208586...   \n",
       "2252  {'!ra': 323.31862288433615, '!dec': 11.6900743...   \n",
       "2254  {'!ra': 321.47404187434915, '!dec': 0.41605876...   \n",
       "2256  {'!ra': 337.0527522979068, '!dec': 0.543208463...   \n",
       "2258  {'!ra': 119.21033791857249, '!dec': 28.3758651...   \n",
       "\n",
       "                                              locations  \\\n",
       "2250  {\"0\":\"https://panoptes-uploads.zooniverse.org/...   \n",
       "2252  {\"0\":\"https://panoptes-uploads.zooniverse.org/...   \n",
       "2254  {\"0\":\"https://panoptes-uploads.zooniverse.org/...   \n",
       "2256  {\"0\":\"https://panoptes-uploads.zooniverse.org/...   \n",
       "2258  {\"0\":\"https://panoptes-uploads.zooniverse.org/...   \n",
       "\n",
       "      classifications_count               retired_at     retirement_reason  \\\n",
       "2250                     40  2018-03-20 22:25:30 UTC  classification_count   \n",
       "2252                     40  2018-03-19 19:51:28 UTC  classification_count   \n",
       "2254                     40  2018-03-20 15:39:15 UTC  classification_count   \n",
       "2256                     40  2018-03-20 21:13:41 UTC  classification_count   \n",
       "2258                     40  2018-03-20 16:02:39 UTC  classification_count   \n",
       "\n",
       "                   created_at               updated_at              iauname  \n",
       "2250  2018-03-15 18:17:16 UTC  2018-03-15 18:17:16 UTC  J074547.59+255143.5  \n",
       "2252  2018-03-15 18:17:16 UTC  2018-03-15 18:17:16 UTC  J213316.46+114124.2  \n",
       "2254  2018-03-15 18:17:16 UTC  2018-03-15 18:17:16 UTC  J212553.76+002457.7  \n",
       "2256  2018-03-15 18:17:16 UTC  2018-03-15 18:17:16 UTC  J222812.65+003235.5  \n",
       "2258  2018-03-15 18:17:16 UTC  2018-03-15 18:17:16 UTC  J075650.47+282233.0  "
      ]
     },
     "execution_count": 57,
     "metadata": {},
     "output_type": "execute_result"
    }
   ],
   "source": [
    "latest_subjects.head()"
   ]
  },
  {
   "cell_type": "code",
   "execution_count": 58,
   "metadata": {},
   "outputs": [
    {
     "data": {
      "text/plain": [
       "(45, 51)"
      ]
     },
     "execution_count": 58,
     "metadata": {},
     "output_type": "execute_result"
    }
   ],
   "source": [
    "missing_subjects = latest_subjects[latest_subjects['iauname'].isin(not_imaged_iaunames)]\n",
    "len(missing_subjects), len(not_imaged_iaunames)"
   ]
  },
  {
   "cell_type": "code",
   "execution_count": 59,
   "metadata": {},
   "outputs": [
    {
     "data": {
      "text/plain": [
       "{'!ra': 13.955534,\n",
       " '!dec': -9.96841836,\n",
       " '!mag_g': 17.472795248031616,\n",
       " '!mag_i': 16.25398874282837,\n",
       " '!mag_r': 16.551242470741272,\n",
       " '!mag_u': 18.98674875497818,\n",
       " '!mag_z': 16.030859351158142,\n",
       " '!nsa_id': 108814,\n",
       " '!iauname': 'J005549.32-095806.2',\n",
       " '!redshift': 0.05509662628173828,\n",
       " '!mag_abs_r': -19.694210052490234,\n",
       " '!mag_faruv': 23.00110176205635,\n",
       " '!petroflux': 207.20045471191406,\n",
       " '!petroth50': 1.656927466392517,\n",
       " '!mag_nearuv': 22.102905586361885,\n",
       " '!petrotheta': 3.710850715637207,\n",
       " '!nsa_version': '1_0_0',\n",
       " '!sdss_search': '[Click to view in SDSS](+tab+https://skyserver.sdss.org/dr14/en/tools/chart/navi.aspx?ra=13.955534&dec=-9.96841836&scale=0.1&width=120&height=120&opt=)',\n",
       " '#upload_date': '2018-04-09',\n",
       " '!absolute_size': 4.014254465537618,\n",
       " '!decals_search': '[Click to view in DECALS](+tab+http://www.legacysurvey.org/viewer?ra=13.955534&dec=-9.96841836&zoom=15&layer=decals-dr5)',\n",
       " '!simbad_search': '[Click to search SIMBAD](+tab+http://simbad.u-strasbg.fr/simbad/sim-coo?Coord=13.955534+%09-9.96841836&CooFrame=FK5&CooEpoch=2000&CooEqui=2000&CooDefinedFrames=none&Radius=10.0&Radius.unit=arcmin&submit=submit+query&CoordList=)',\n",
       " '!nasa_ned_search': '[Click to search NASA NED](+tab+https://ned.ipac.caltech.edu/cgi-bin/objsearch?search_type=Near+Position+Search&in_csys=Equatorial&in_equinox=J2000.0&lon=13.95553400d&lat=-9.96841836d&radius=0.16666666666666666&hconst=73&omegam=0.27&omegav=0.73&corr_z=1&z_constraint=Unconstrained&z_value1=&z_value2=&z_unit=z&ot_include=ANY&nmp_op=ANY&out_csys=Equatorial&out_equinox=J2000.0&obj_sort=Distance+to+search+center&of=pre_text&zv_breaker=30000.0&list_limit=5&img_stamp=YES)',\n",
       " 'metadata_message': 'Metadata is available in [Talk](+tab+https://www.zooniverse.org/projects/zookeeper/galaxy-zoo/talk)'}"
      ]
     },
     "execution_count": 59,
     "metadata": {},
     "output_type": "execute_result"
    }
   ],
   "source": [
    "missing_subjects['metadata'].iloc[0]"
   ]
  },
  {
   "cell_type": "code",
   "execution_count": 60,
   "metadata": {},
   "outputs": [
    {
     "data": {
      "text/plain": [
       "{'!ra': 194.5528182,\n",
       " '!dec': 26.39687848,\n",
       " '!mag_g': 13.907611966133118,\n",
       " '!mag_i': 12.693479061126709,\n",
       " '!mag_r': 13.10900092124939,\n",
       " '!mag_u': 15.225940942764282,\n",
       " '!mag_z': 12.04756498336792,\n",
       " '!nsa_id': 671989,\n",
       " '!iauname': 'J125812.39+262349.9',\n",
       " '!redshift': 0.019662102684378624,\n",
       " '!mag_abs_r': -20.827449798583984,\n",
       " '!mag_faruv': 20.269951671361923,\n",
       " '!petroflux': 5892.244140625,\n",
       " '!petroth50': 18.740535736083984,\n",
       " '!mag_nearuv': 19.039023220539093,\n",
       " '!petrotheta': 41.58325958251953,\n",
       " '!nsa_version': '1_0_0',\n",
       " '!sdss_search': '[Click to view in SDSS](+tab+https://skyserver.sdss.org/dr14/en/tools/chart/navi.aspx?ra=194.5528182&dec=26.39687848&scale=0.1&width=120&height=120&opt=)',\n",
       " '#upload_date': '2018-04-09',\n",
       " '!absolute_size': 16.740997047990632,\n",
       " '!decals_search': '[Click to view in DECALS](+tab+http://www.legacysurvey.org/viewer?ra=194.5528182&dec=26.39687848&zoom=15&layer=decals-dr5)',\n",
       " '!simbad_search': '[Click to search SIMBAD](+tab+http://simbad.u-strasbg.fr/simbad/sim-coo?Coord=194.5528182+%0926.39687848&CooFrame=FK5&CooEpoch=2000&CooEqui=2000&CooDefinedFrames=none&Radius=10.0&Radius.unit=arcmin&submit=submit+query&CoordList=)',\n",
       " '!nasa_ned_search': '[Click to search NASA NED](+tab+https://ned.ipac.caltech.edu/cgi-bin/objsearch?search_type=Near+Position+Search&in_csys=Equatorial&in_equinox=J2000.0&lon=194.55281820d&lat=26.39687848d&radius=0.16666666666666666&hconst=73&omegam=0.27&omegav=0.73&corr_z=1&z_constraint=Unconstrained&z_value1=&z_value2=&z_unit=z&ot_include=ANY&nmp_op=ANY&out_csys=Equatorial&out_equinox=J2000.0&obj_sort=Distance+to+search+center&of=pre_text&zv_breaker=30000.0&list_limit=5&img_stamp=YES)',\n",
       " 'metadata_message': 'Metadata is available in [Talk](+tab+https://www.zooniverse.org/projects/zookeeper/galaxy-zoo/talk)'}"
      ]
     },
     "execution_count": 60,
     "metadata": {},
     "output_type": "execute_result"
    }
   ],
   "source": [
    "missing_subjects['metadata'].iloc[42]"
   ]
  },
  {
   "cell_type": "markdown",
   "metadata": {},
   "source": [
    "These seem to be either test uploads by other people, or early uploads by me ahead of finishing the download code. They can (and must) be removed from the published catalog."
   ]
  },
  {
   "cell_type": "code",
   "execution_count": 61,
   "metadata": {},
   "outputs": [
    {
     "data": {
      "text/plain": [
       "239631"
      ]
     },
     "execution_count": 61,
     "metadata": {},
     "output_type": "execute_result"
    }
   ],
   "source": [
    "latest_export = latest_export[was_imaged_galaxy]\n",
    "len(latest_export)"
   ]
  },
  {
   "cell_type": "markdown",
   "metadata": {},
   "source": [
    "### How many did/not pass the selection cuts?"
   ]
  },
  {
   "cell_type": "code",
   "execution_count": 62,
   "metadata": {},
   "outputs": [
    {
     "data": {
      "text/plain": [
       "(343128, 343128)"
      ]
     },
     "execution_count": 62,
     "metadata": {},
     "output_type": "execute_result"
    }
   ],
   "source": [
    "to_upload_cut = apply_selection_cuts(to_upload)\n",
    "len(to_upload), len(to_upload_cut)"
   ]
  },
  {
   "cell_type": "code",
   "execution_count": 63,
   "metadata": {},
   "outputs": [
    {
     "data": {
      "text/plain": [
       "True    239631\n",
       "Name: iauname, dtype: int64"
      ]
     },
     "execution_count": 63,
     "metadata": {},
     "output_type": "execute_result"
    }
   ],
   "source": [
    "was_valid_upload = latest_export['iauname'].isin(to_upload['iauname'])\n",
    "was_valid_upload.value_counts()"
   ]
  },
  {
   "cell_type": "markdown",
   "metadata": {},
   "source": [
    "Therefore all of them passed the selection cuts. Good times."
   ]
  },
  {
   "cell_type": "markdown",
   "metadata": {},
   "source": [
    "### How many had valid images? (I think I forgot this check at first)"
   ]
  },
  {
   "cell_type": "code",
   "execution_count": 64,
   "metadata": {},
   "outputs": [
    {
     "data": {
      "text/plain": [
       "True    239631\n",
       "Name: iauname, dtype: int64"
      ]
     },
     "execution_count": 64,
     "metadata": {},
     "output_type": "execute_result"
    }
   ],
   "source": [
    "was_valid_upload = latest_export['iauname'].isin(to_upload['iauname'])\n",
    "was_valid_upload.value_counts()"
   ]
  },
  {
   "cell_type": "code",
   "execution_count": 65,
   "metadata": {},
   "outputs": [],
   "source": [
    "valid_to_upload = to_upload.query('fits_filled')"
   ]
  },
  {
   "cell_type": "code",
   "execution_count": 66,
   "metadata": {},
   "outputs": [
    {
     "data": {
      "text/plain": [
       "True     227126\n",
       "False     12505\n",
       "Name: iauname, dtype: int64"
      ]
     },
     "execution_count": 66,
     "metadata": {},
     "output_type": "execute_result"
    }
   ],
   "source": [
    "was_valid_upload = latest_export['iauname'].isin(valid_to_upload['iauname'])\n",
    "was_valid_upload.value_counts()"
   ]
  },
  {
   "cell_type": "markdown",
   "metadata": {},
   "source": []
  },
  {
   "cell_type": "code",
   "execution_count": 67,
   "metadata": {},
   "outputs": [
    {
     "data": {
      "text/plain": [
       "(23305, 12505)"
      ]
     },
     "execution_count": 67,
     "metadata": {},
     "output_type": "execute_result"
    }
   ],
   "source": [
    "bad_image_iaunames = latest_export[~was_valid_upload]['iauname']\n",
    "bad_image_subjects = latest_subjects[latest_subjects['iauname'].isin(bad_image_iaunames)]\n",
    "len(bad_image_subjects), len(bad_image_iaunames)  # will include some duplicates, e.g from mistaken uploads or MANGA"
   ]
  },
  {
   "cell_type": "code",
   "execution_count": 68,
   "metadata": {},
   "outputs": [
    {
     "name": "stderr",
     "output_type": "stream",
     "text": [
      "/home/walml/anaconda3/envs/zoobot/lib/python3.7/site-packages/ipykernel_launcher.py:1: SettingWithCopyWarning: \n",
      "A value is trying to be set on a copy of a slice from a DataFrame.\n",
      "Try using .loc[row_indexer,col_indexer] = value instead\n",
      "\n",
      "See the caveats in the documentation: https://pandas.pydata.org/pandas-docs/stable/user_guide/indexing.html#returning-a-view-versus-a-copy\n",
      "  \"\"\"Entry point for launching an IPython kernel.\n"
     ]
    }
   ],
   "source": [
    "bad_image_subjects['locations'] = bad_image_subjects['locations'].apply(json.loads)"
   ]
  },
  {
   "cell_type": "code",
   "execution_count": 69,
   "metadata": {},
   "outputs": [
    {
     "data": {
      "text/plain": [
       "array([{'0': 'https://panoptes-uploads.zooniverse.org/production/subject_location/9557940d-0853-40ec-99d2-f5e25a729e7f.png'},\n",
       "       {'0': 'https://panoptes-uploads.zooniverse.org/production/subject_location/363f50b2-4139-4bb3-b405-fb337f36c469.png'},\n",
       "       {'0': 'https://panoptes-uploads.zooniverse.org/production/subject_location/2b878ec6-ad4f-4ec6-82bd-f1e28897747c.png'},\n",
       "       {'0': 'https://panoptes-uploads.zooniverse.org/production/subject_location/00874737-1322-42a2-a7ce-f1b22c6a11a8.png'},\n",
       "       {'0': 'https://panoptes-uploads.zooniverse.org/production/subject_location/4619dbb1-b8b0-4706-9d28-68618687766a.png'},\n",
       "       {'0': 'https://panoptes-uploads.zooniverse.org/production/subject_location/46e21998-f795-4254-917f-d82dba0feb05.png'},\n",
       "       {'0': 'https://panoptes-uploads.zooniverse.org/production/subject_location/29bdaa14-04a8-4daf-9b88-34754fe0f175.png'},\n",
       "       {'0': 'https://panoptes-uploads.zooniverse.org/production/subject_location/d3a0e675-d9c2-4349-8236-5abc6c61bf51.png'},\n",
       "       {'0': 'https://panoptes-uploads.zooniverse.org/production/subject_location/3c05ea08-07c1-486c-8731-9508277f44ab.png'},\n",
       "       {'0': 'https://panoptes-uploads.zooniverse.org/production/subject_location/ddafe445-e4b5-455a-ac63-186284ec7c78.png'}],\n",
       "      dtype=object)"
      ]
     },
     "execution_count": 69,
     "metadata": {},
     "output_type": "execute_result"
    }
   ],
   "source": [
    "bad_image_subjects['locations'].sample(10).values"
   ]
  },
  {
   "cell_type": "markdown",
   "metadata": {},
   "source": [
    "Yep, these do seem bad - usually missing a filter - and can be removed. Or, we can probably still include this, but add a 'bad image' flag?"
   ]
  },
  {
   "cell_type": "code",
   "execution_count": 70,
   "metadata": {},
   "outputs": [
    {
     "data": {
      "text/plain": [
       "227126"
      ]
     },
     "execution_count": 70,
     "metadata": {},
     "output_type": "execute_result"
    }
   ],
   "source": [
    "latest_export = latest_export[was_valid_upload]\n",
    "len(latest_export)"
   ]
  },
  {
   "cell_type": "code",
   "execution_count": null,
   "metadata": {},
   "outputs": [],
   "source": []
  },
  {
   "cell_type": "markdown",
   "metadata": {},
   "source": [
    "### How many were in DR1/2?"
   ]
  },
  {
   "cell_type": "code",
   "execution_count": 71,
   "metadata": {},
   "outputs": [
    {
     "data": {
      "text/plain": [
       "(34738, 103712, 227126)"
      ]
     },
     "execution_count": 71,
     "metadata": {},
     "output_type": "execute_result"
    }
   ],
   "source": [
    "was_in_dr1_dr2 = latest_export['iauname'].isin(dr1_dr2['iauname'])  # not including the possible post-hoc DR1 cut\n",
    "was_in_dr1_dr2.sum(), len(dr1_dr2), len(latest_export)"
   ]
  },
  {
   "cell_type": "code",
   "execution_count": 72,
   "metadata": {},
   "outputs": [
    {
     "data": {
      "text/plain": [
       "<matplotlib.axes._subplots.AxesSubplot at 0x7f3e51cf7d10>"
      ]
     },
     "execution_count": 72,
     "metadata": {},
     "output_type": "execute_result"
    },
    {
     "data": {
      "image/png": "[encoded data removed]",
      "text/plain": [
       "<Figure size 432x288 with 1 Axes>"
      ]
     },
     "metadata": {
      "needs_background": "light"
     },
     "output_type": "display_data"
    }
   ],
   "source": [
    "_, bins = np.histogram(np.linspace(0., 120.), bins=40)\n",
    "votes = latest_export[was_in_dr1_dr2]['smooth-or-featured_total-votes']\n",
    "votes.hist(bins=bins)"
   ]
  },
  {
   "cell_type": "code",
   "execution_count": 73,
   "metadata": {},
   "outputs": [
    {
     "data": {
      "text/plain": [
       "(24800, 3170, 4858)"
      ]
     },
     "execution_count": 73,
     "metadata": {},
     "output_type": "execute_result"
    }
   ],
   "source": [
    "(votes.values < 7).sum(), ((35 < votes.values) & (votes.values < 45)).sum(), (votes.values > 80).sum()"
   ]
  },
  {
   "cell_type": "code",
   "execution_count": 74,
   "metadata": {},
   "outputs": [
    {
     "data": {
      "text/plain": [
       "5.0    9029\n",
       "4.0    8634\n",
       "3.0    6890\n",
       "6.0     247\n",
       "Name: smooth-or-featured_total-votes, dtype: int64"
      ]
     },
     "execution_count": 74,
     "metadata": {},
     "output_type": "execute_result"
    }
   ],
   "source": [
    "votes[votes < 7].value_counts()"
   ]
  },
  {
   "cell_type": "code",
   "execution_count": null,
   "metadata": {},
   "outputs": [],
   "source": []
  },
  {
   "cell_type": "markdown",
   "metadata": {},
   "source": [
    "I think that the only reasons for joint catalog galaxies not to be uploaded are:\n",
    "- Already classified in DR1/2\n",
    "- Bad fits image\n",
    "\n",
    "Let's verify by cutting down to_upload and seeing if all the remaining galaxies are in latest_export."
   ]
  },
  {
   "cell_type": "code",
   "execution_count": 75,
   "metadata": {},
   "outputs": [
    {
     "data": {
      "text/plain": [
       "343128"
      ]
     },
     "execution_count": 75,
     "metadata": {},
     "output_type": "execute_result"
    }
   ],
   "source": [
    "len(to_upload)"
   ]
  },
  {
   "cell_type": "code",
   "execution_count": 76,
   "metadata": {},
   "outputs": [
    {
     "data": {
      "text/plain": [
       "309398"
      ]
     },
     "execution_count": 76,
     "metadata": {},
     "output_type": "execute_result"
    }
   ],
   "source": [
    "len(to_upload.query('fits_filled'))"
   ]
  },
  {
   "cell_type": "code",
   "execution_count": 77,
   "metadata": {},
   "outputs": [],
   "source": [
    "# not_in_dr1_dr2 = to_upload[~to_upload['iauname'].isin(dr1_dr2['iauname'])]\n",
    "# len(not_in_dr1_dr2) NO not all subjects were classified"
   ]
  },
  {
   "cell_type": "code",
   "execution_count": 103,
   "metadata": {},
   "outputs": [
    {
     "name": "stdout",
     "output_type": "stream",
     "text": [
      "103712 94024\n",
      "253908\n"
     ]
    }
   ],
   "source": [
    "#dr1/2 raw classifications\n",
    "dr1_c = pd.read_csv('/media/walml/beta/galaxy_zoo/decals/gzreduction_ouroborous/working_dir/raw/classifications/2017-10-15_galaxy_zoo_decals_classifications.csv')\n",
    "dr2_c = pd.read_csv('/media/walml/beta/galaxy_zoo/decals/gzreduction_ouroborous/working_dir/raw/classifications/2017-10-15_galaxy_zoo_decals_dr2_classifications.csv')\n",
    "\n",
    "dr1_subject_ids = set(dr1_c['subject_id'])\n",
    "dr2_subject_ids = set(dr2_c['subject_id'])\n",
    "dr1_2_subject_ids = dr1_subject_ids.union(dr2_subject_ids)\n",
    "dr1_dr2_subjects = pd.read_csv('/media/walml/beta/galaxy_zoo/decals/catalogs/raw/decals_dr1_and_dr2.csv')\n",
    "dr1_dr2_classified = dr1_dr2_subjects[dr1_dr2_subjects['subject_id'].isin(dr1_2_subject_ids)]\n",
    "print(len(dr1_dr2_subjects), len(dr1_dr2_classified))\n",
    "\n",
    "dr1_dr2_classified_iaunames = dr1_dr2_classified['iauname']\n",
    "not_classified_in_dr1_dr2 = to_upload[~to_upload['iauname'].isin(dr1_dr2_classified_iaunames)]\n",
    "print(len(not_classified_in_dr1_dr2))"
   ]
  },
  {
   "cell_type": "code",
   "execution_count": 104,
   "metadata": {},
   "outputs": [
    {
     "data": {
      "text/plain": [
       "220801"
      ]
     },
     "execution_count": 104,
     "metadata": {},
     "output_type": "execute_result"
    }
   ],
   "source": [
    "should_be_uploaded = not_classified_in_dr1_dr2.query('fits_filled')\n",
    "len(should_be_uploaded)"
   ]
  },
  {
   "cell_type": "code",
   "execution_count": 105,
   "metadata": {},
   "outputs": [
    {
     "data": {
      "text/plain": [
       "True     194374\n",
       "False     26427\n",
       "Name: iauname, dtype: int64"
      ]
     },
     "execution_count": 105,
     "metadata": {},
     "output_type": "execute_result"
    }
   ],
   "source": [
    "should_be_uploaded['iauname'].isin(latest_export['iauname']).value_counts()"
   ]
  },
  {
   "cell_type": "markdown",
   "metadata": {},
   "source": [
    "Okay, so there's another 10% we could have uploaded? The random uploads are done from '/media/walml/beta/decals/catalogs/decals_master_catalog.csv'"
   ]
  },
  {
   "cell_type": "code",
   "execution_count": 106,
   "metadata": {},
   "outputs": [],
   "source": [
    "master_catalog = pd.read_csv('/media/walml/beta/galaxy_zoo/decals/catalogs/decals_master_catalog.csv')"
   ]
  },
  {
   "cell_type": "code",
   "execution_count": 107,
   "metadata": {},
   "outputs": [
    {
     "data": {
      "text/plain": [
       "True     334027\n",
       "False      9101\n",
       "Name: iauname, dtype: int64"
      ]
     },
     "execution_count": 107,
     "metadata": {},
     "output_type": "execute_result"
    }
   ],
   "source": [
    "to_upload['iauname'].isin(master_catalog['iauname']).value_counts()"
   ]
  },
  {
   "cell_type": "code",
   "execution_count": null,
   "metadata": {},
   "outputs": [],
   "source": []
  },
  {
   "cell_type": "code",
   "execution_count": 108,
   "metadata": {},
   "outputs": [],
   "source": [
    "allegedly_uploadable = pd.read_csv('/media/walml/beta/galaxy_zoo/decals/catalogs/decals_dr5_uploadable_master_catalog_nov_2019.csv')\n",
    "\n",
    "ml_labels = pd.read_csv('/media/walml/beta/galaxy_zoo/decals/results/classifications_2019_10_03.csv')"
   ]
  },
  {
   "cell_type": "code",
   "execution_count": 109,
   "metadata": {},
   "outputs": [
    {
     "data": {
      "text/plain": [
       "(343128, 214280, 220801)"
      ]
     },
     "execution_count": 109,
     "metadata": {},
     "output_type": "execute_result"
    }
   ],
   "source": [
    "len(to_upload), len(allegedly_uploadable), len(should_be_uploaded)  # should be filtered by not in DR1/2, not already classified, filled_fits, and (from to_upload) selection cuts"
   ]
  },
  {
   "cell_type": "markdown",
   "metadata": {},
   "source": [
    "Excellent. Just to refresh things and recover that weird missing 8 galaxies, I'll update the uploadable catalog and then use gz-scripts to upload all those galaxies to decals/wrapping_up_dr5 subject set"
   ]
  },
  {
   "cell_type": "code",
   "execution_count": null,
   "metadata": {},
   "outputs": [],
   "source": []
  },
  {
   "cell_type": "markdown",
   "metadata": {},
   "source": [
    "These weren't included before because I got confused and used/gave the 'decals_master_catalog file' instead of 'decals_dr5_uploadable_master_catalog_nov_2019'. Clear names and clean folders are important for doing the right thing!"
   ]
  },
  {
   "cell_type": "code",
   "execution_count": 110,
   "metadata": {},
   "outputs": [
    {
     "data": {
      "text/plain": [
       "True    334027\n",
       "Name: iauname, dtype: int64"
      ]
     },
     "execution_count": 110,
     "metadata": {},
     "output_type": "execute_result"
    }
   ],
   "source": [
    "master_catalog['iauname'].isin(to_upload['iauname']).value_counts()"
   ]
  },
  {
   "cell_type": "code",
   "execution_count": 111,
   "metadata": {},
   "outputs": [
    {
     "data": {
      "text/plain": [
       "True     300535\n",
       "False     33492\n",
       "Name: iauname, dtype: int64"
      ]
     },
     "execution_count": 111,
     "metadata": {},
     "output_type": "execute_result"
    }
   ],
   "source": [
    "master_catalog['iauname'].isin(to_upload.query('fits_filled')['iauname']).value_counts()"
   ]
  },
  {
   "cell_type": "code",
   "execution_count": 112,
   "metadata": {},
   "outputs": [
    {
     "data": {
      "text/plain": [
       "True     249369\n",
       "False     84658\n",
       "Name: iauname, dtype: int64"
      ]
     },
     "execution_count": 112,
     "metadata": {},
     "output_type": "execute_result"
    }
   ],
   "source": [
    "master_catalog['iauname'].isin(not_classified_in_dr1_dr2['iauname']).value_counts()"
   ]
  },
  {
   "cell_type": "markdown",
   "metadata": {},
   "source": [
    "So uploading from the master catalog is a really bad idea and Tobias and I have probably been doing it. Woops!!\n",
    "\n",
    "This is the catalog I gave tobias to use:"
   ]
  },
  {
   "cell_type": "code",
   "execution_count": 113,
   "metadata": {},
   "outputs": [
    {
     "name": "stderr",
     "output_type": "stream",
     "text": [
      "/home/walml/anaconda3/envs/zoobot/lib/python3.7/site-packages/IPython/core/interactiveshell.py:3063: DtypeWarning: Columns (109) have mixed types.Specify dtype option on import or set low_memory=False.\n",
      "  interactivity=interactivity, compiler=compiler, result=result)\n"
     ]
    }
   ],
   "source": [
    "tobias = pd.read_csv('/home/walml/Downloads/decals_master_catalog_tobias.csv')"
   ]
  },
  {
   "cell_type": "code",
   "execution_count": 114,
   "metadata": {},
   "outputs": [
    {
     "data": {
      "text/plain": [
       "209215"
      ]
     },
     "execution_count": 114,
     "metadata": {},
     "output_type": "execute_result"
    }
   ],
   "source": [
    "len(tobias)"
   ]
  },
  {
   "cell_type": "code",
   "execution_count": 115,
   "metadata": {},
   "outputs": [
    {
     "data": {
      "text/plain": [
       "True     208775\n",
       "False       440\n",
       "Name: iauname, dtype: int64"
      ]
     },
     "execution_count": 115,
     "metadata": {},
     "output_type": "execute_result"
    }
   ],
   "source": [
    "tobias['iauname'].isin(should_be_uploaded['iauname']).value_counts()"
   ]
  },
  {
   "cell_type": "code",
   "execution_count": 116,
   "metadata": {},
   "outputs": [
    {
     "data": {
      "text/plain": [
       "True     208775\n",
       "False     12026\n",
       "Name: iauname, dtype: int64"
      ]
     },
     "execution_count": 116,
     "metadata": {},
     "output_type": "execute_result"
    }
   ],
   "source": [
    "should_be_uploaded['iauname'].isin(tobias['iauname']).value_counts()"
   ]
  },
  {
   "cell_type": "markdown",
   "metadata": {},
   "source": [
    "Hmm. Actually, this *was* the right file and includes all but 5000 of the galaxies which should have been uploaded.\n",
    "\n",
    "Let's use the latest subject export to find all the iaunames not yet uploaded that should have been, and upload them."
   ]
  },
  {
   "cell_type": "code",
   "execution_count": 117,
   "metadata": {},
   "outputs": [
    {
     "data": {
      "text/plain": [
       "True     187445\n",
       "False     33356\n",
       "Name: iauname, dtype: int64"
      ]
     },
     "execution_count": 117,
     "metadata": {},
     "output_type": "execute_result"
    }
   ],
   "source": [
    "should_be_uploaded['iauname'].isin(latest_subjects['iauname']).value_counts()"
   ]
  },
  {
   "cell_type": "code",
   "execution_count": 118,
   "metadata": {},
   "outputs": [
    {
     "data": {
      "text/plain": [
       "33356"
      ]
     },
     "execution_count": 118,
     "metadata": {},
     "output_type": "execute_result"
    }
   ],
   "source": [
    "missing = should_be_uploaded[~should_be_uploaded['iauname'].isin(latest_subjects['iauname'])]\n",
    "len(missing)"
   ]
  },
  {
   "cell_type": "code",
   "execution_count": 119,
   "metadata": {},
   "outputs": [
    {
     "data": {
      "text/plain": [
       "58014     J021734.13-080843.2\n",
       "114086    J021253.37+005345.3\n",
       "322102    J104723.89-033108.9\n",
       "232618    J084604.56+135923.5\n",
       "271134    J140345.38+154618.4\n",
       "217866    J083149.45+170217.5\n",
       "59192     J002004.89-011459.5\n",
       "317029    J022533.49-082514.9\n",
       "314663    J231921.89+163401.0\n",
       "60508     J030051.56+004826.5\n",
       "Name: iauname, dtype: object"
      ]
     },
     "execution_count": 119,
     "metadata": {},
     "output_type": "execute_result"
    }
   ],
   "source": [
    "missing['iauname'].sample(10)"
   ]
  },
  {
   "cell_type": "markdown",
   "metadata": {},
   "source": [
    "These can be safely uploaded as a new subject set"
   ]
  },
  {
   "cell_type": "code",
   "execution_count": 120,
   "metadata": {},
   "outputs": [
    {
     "name": "stderr",
     "output_type": "stream",
     "text": [
      "/home/walml/anaconda3/envs/zoobot/lib/python3.7/site-packages/ipykernel_launcher.py:1: SettingWithCopyWarning: \n",
      "A value is trying to be set on a copy of a slice from a DataFrame.\n",
      "Try using .loc[row_indexer,col_indexer] = value instead\n",
      "\n",
      "See the caveats in the documentation: https://pandas.pydata.org/pandas-docs/stable/user_guide/indexing.html#returning-a-view-versus-a-copy\n",
      "  \"\"\"Entry point for launching an IPython kernel.\n",
      "/home/walml/anaconda3/envs/zoobot/lib/python3.7/site-packages/ipykernel_launcher.py:2: SettingWithCopyWarning: \n",
      "A value is trying to be set on a copy of a slice from a DataFrame.\n",
      "Try using .loc[row_indexer,col_indexer] = value instead\n",
      "\n",
      "See the caveats in the documentation: https://pandas.pydata.org/pandas-docs/stable/user_guide/indexing.html#returning-a-view-versus-a-copy\n",
      "  \n"
     ]
    }
   ],
   "source": [
    "missing['png_loc'] = missing['png_loc'].apply(lambda x: x.decode('utf8'))\n",
    "missing['fits_loc'] = missing['fits_loc'].apply(lambda x: x.decode('utf8'))"
   ]
  },
  {
   "cell_type": "code",
   "execution_count": 121,
   "metadata": {},
   "outputs": [
    {
     "data": {
      "text/html": [
       "<div>\n",
       "<style scoped>\n",
       "    .dataframe tbody tr th:only-of-type {\n",
       "        vertical-align: middle;\n",
       "    }\n",
       "\n",
       "    .dataframe tbody tr th {\n",
       "        vertical-align: top;\n",
       "    }\n",
       "\n",
       "    .dataframe thead th {\n",
       "        text-align: right;\n",
       "    }\n",
       "</style>\n",
       "<table border=\"1\" class=\"dataframe\">\n",
       "  <thead>\n",
       "    <tr style=\"text-align: right;\">\n",
       "      <th></th>\n",
       "      <th>iauname</th>\n",
       "      <th>nsa_id</th>\n",
       "      <th>ra</th>\n",
       "      <th>dec</th>\n",
       "      <th>petrotheta</th>\n",
       "      <th>petroth50</th>\n",
       "      <th>petroth90</th>\n",
       "      <th>z</th>\n",
       "      <th>fits_loc</th>\n",
       "      <th>png_loc</th>\n",
       "      <th>fits_ready</th>\n",
       "      <th>fits_filled</th>\n",
       "      <th>png_ready</th>\n",
       "    </tr>\n",
       "  </thead>\n",
       "  <tbody>\n",
       "    <tr>\n",
       "      <th>14208</th>\n",
       "      <td>J152824.24-002951.3</td>\n",
       "      <td>16333</td>\n",
       "      <td>232.101003</td>\n",
       "      <td>-0.497560</td>\n",
       "      <td>11.394722</td>\n",
       "      <td>5.300970</td>\n",
       "      <td>12.203951</td>\n",
       "      <td>0.057843</td>\n",
       "      <td>/Volumes/EXTERNAL/decals/fits/dr5/J152/J152824...</td>\n",
       "      <td>/Volumes/EXTERNAL/decals/png/dr5/J152/J152824....</td>\n",
       "      <td>True</td>\n",
       "      <td>True</td>\n",
       "      <td>True</td>\n",
       "    </tr>\n",
       "    <tr>\n",
       "      <th>16290</th>\n",
       "      <td>J120208.92-030136.9</td>\n",
       "      <td>18671</td>\n",
       "      <td>180.537134</td>\n",
       "      <td>-3.026832</td>\n",
       "      <td>31.546129</td>\n",
       "      <td>17.297550</td>\n",
       "      <td>46.023430</td>\n",
       "      <td>0.052493</td>\n",
       "      <td>/Volumes/EXTERNAL/decals/fits/dr5/J120/J120208...</td>\n",
       "      <td>/Volumes/EXTERNAL/decals/png/dr5/J120/J120208....</td>\n",
       "      <td>True</td>\n",
       "      <td>True</td>\n",
       "      <td>True</td>\n",
       "    </tr>\n",
       "    <tr>\n",
       "      <th>20516</th>\n",
       "      <td>J153221.48+003021.5</td>\n",
       "      <td>26956</td>\n",
       "      <td>233.089534</td>\n",
       "      <td>0.505969</td>\n",
       "      <td>8.704482</td>\n",
       "      <td>3.753158</td>\n",
       "      <td>12.340964</td>\n",
       "      <td>0.086825</td>\n",
       "      <td>/Volumes/EXTERNAL/decals/fits/dr5/J153/J153221...</td>\n",
       "      <td>/Volumes/EXTERNAL/decals/png/dr5/J153/J153221....</td>\n",
       "      <td>True</td>\n",
       "      <td>True</td>\n",
       "      <td>True</td>\n",
       "    </tr>\n",
       "    <tr>\n",
       "      <th>20669</th>\n",
       "      <td>J162220.24-003525.5</td>\n",
       "      <td>27167</td>\n",
       "      <td>245.584363</td>\n",
       "      <td>-0.590422</td>\n",
       "      <td>7.437321</td>\n",
       "      <td>3.518912</td>\n",
       "      <td>7.995928</td>\n",
       "      <td>0.044573</td>\n",
       "      <td>/Volumes/EXTERNAL/decals/fits/dr5/J162/J162220...</td>\n",
       "      <td>/Volumes/EXTERNAL/decals/png/dr5/J162/J162220....</td>\n",
       "      <td>True</td>\n",
       "      <td>True</td>\n",
       "      <td>True</td>\n",
       "    </tr>\n",
       "    <tr>\n",
       "      <th>20752</th>\n",
       "      <td>J163058.78+001620.0</td>\n",
       "      <td>27270</td>\n",
       "      <td>247.744970</td>\n",
       "      <td>0.272281</td>\n",
       "      <td>9.324070</td>\n",
       "      <td>4.247065</td>\n",
       "      <td>9.624050</td>\n",
       "      <td>0.113730</td>\n",
       "      <td>/Volumes/EXTERNAL/decals/fits/dr5/J163/J163058...</td>\n",
       "      <td>/Volumes/EXTERNAL/decals/png/dr5/J163/J163058....</td>\n",
       "      <td>True</td>\n",
       "      <td>True</td>\n",
       "      <td>True</td>\n",
       "    </tr>\n",
       "    <tr>\n",
       "      <th>...</th>\n",
       "      <td>...</td>\n",
       "      <td>...</td>\n",
       "      <td>...</td>\n",
       "      <td>...</td>\n",
       "      <td>...</td>\n",
       "      <td>...</td>\n",
       "      <td>...</td>\n",
       "      <td>...</td>\n",
       "      <td>...</td>\n",
       "      <td>...</td>\n",
       "      <td>...</td>\n",
       "      <td>...</td>\n",
       "      <td>...</td>\n",
       "    </tr>\n",
       "    <tr>\n",
       "      <th>343095</th>\n",
       "      <td>J144321.99-003753.1</td>\n",
       "      <td>698496</td>\n",
       "      <td>220.841699</td>\n",
       "      <td>-0.631355</td>\n",
       "      <td>4.146680</td>\n",
       "      <td>1.851529</td>\n",
       "      <td>5.675371</td>\n",
       "      <td>0.149900</td>\n",
       "      <td>/Volumes/EXTERNAL/decals/fits/dr5/J144/J144321...</td>\n",
       "      <td>/Volumes/EXTERNAL/decals/png/dr5/J144/J144321....</td>\n",
       "      <td>True</td>\n",
       "      <td>True</td>\n",
       "      <td>True</td>\n",
       "    </tr>\n",
       "    <tr>\n",
       "      <th>343101</th>\n",
       "      <td>J143913.73-002317.4</td>\n",
       "      <td>698509</td>\n",
       "      <td>219.807135</td>\n",
       "      <td>-0.388077</td>\n",
       "      <td>5.814044</td>\n",
       "      <td>2.711314</td>\n",
       "      <td>5.702838</td>\n",
       "      <td>0.138800</td>\n",
       "      <td>/Volumes/EXTERNAL/decals/fits/dr5/J143/J143913...</td>\n",
       "      <td>/Volumes/EXTERNAL/decals/png/dr5/J143/J143913....</td>\n",
       "      <td>True</td>\n",
       "      <td>True</td>\n",
       "      <td>True</td>\n",
       "    </tr>\n",
       "    <tr>\n",
       "      <th>343107</th>\n",
       "      <td>J143619.83-010748.1</td>\n",
       "      <td>698522</td>\n",
       "      <td>219.083613</td>\n",
       "      <td>-1.130237</td>\n",
       "      <td>18.740425</td>\n",
       "      <td>7.763114</td>\n",
       "      <td>25.235826</td>\n",
       "      <td>0.105971</td>\n",
       "      <td>/Volumes/EXTERNAL/decals/fits/dr5/J143/J143619...</td>\n",
       "      <td>/Volumes/EXTERNAL/decals/png/dr5/J143/J143619....</td>\n",
       "      <td>True</td>\n",
       "      <td>True</td>\n",
       "      <td>True</td>\n",
       "    </tr>\n",
       "    <tr>\n",
       "      <th>343116</th>\n",
       "      <td>J144612.39-014833.1</td>\n",
       "      <td>698548</td>\n",
       "      <td>221.550819</td>\n",
       "      <td>-1.814557</td>\n",
       "      <td>4.897500</td>\n",
       "      <td>2.093886</td>\n",
       "      <td>7.086283</td>\n",
       "      <td>0.080386</td>\n",
       "      <td>/Volumes/EXTERNAL/decals/fits/dr5/J144/J144612...</td>\n",
       "      <td>/Volumes/EXTERNAL/decals/png/dr5/J144/J144612....</td>\n",
       "      <td>True</td>\n",
       "      <td>True</td>\n",
       "      <td>True</td>\n",
       "    </tr>\n",
       "    <tr>\n",
       "      <th>343124</th>\n",
       "      <td>J235101.08-100042.7</td>\n",
       "      <td>698661</td>\n",
       "      <td>357.755712</td>\n",
       "      <td>-10.010851</td>\n",
       "      <td>17.017670</td>\n",
       "      <td>7.430995</td>\n",
       "      <td>19.937094</td>\n",
       "      <td>0.074300</td>\n",
       "      <td>/Volumes/EXTERNAL/decals/fits/dr5/J235/J235101...</td>\n",
       "      <td>/Volumes/EXTERNAL/decals/png/dr5/J235/J235101....</td>\n",
       "      <td>True</td>\n",
       "      <td>True</td>\n",
       "      <td>True</td>\n",
       "    </tr>\n",
       "  </tbody>\n",
       "</table>\n",
       "<p>33356 rows × 13 columns</p>\n",
       "</div>"
      ],
      "text/plain": [
       "                    iauname  nsa_id          ra        dec  petrotheta  \\\n",
       "14208   J152824.24-002951.3   16333  232.101003  -0.497560   11.394722   \n",
       "16290   J120208.92-030136.9   18671  180.537134  -3.026832   31.546129   \n",
       "20516   J153221.48+003021.5   26956  233.089534   0.505969    8.704482   \n",
       "20669   J162220.24-003525.5   27167  245.584363  -0.590422    7.437321   \n",
       "20752   J163058.78+001620.0   27270  247.744970   0.272281    9.324070   \n",
       "...                     ...     ...         ...        ...         ...   \n",
       "343095  J144321.99-003753.1  698496  220.841699  -0.631355    4.146680   \n",
       "343101  J143913.73-002317.4  698509  219.807135  -0.388077    5.814044   \n",
       "343107  J143619.83-010748.1  698522  219.083613  -1.130237   18.740425   \n",
       "343116  J144612.39-014833.1  698548  221.550819  -1.814557    4.897500   \n",
       "343124  J235101.08-100042.7  698661  357.755712 -10.010851   17.017670   \n",
       "\n",
       "        petroth50  petroth90         z  \\\n",
       "14208    5.300970  12.203951  0.057843   \n",
       "16290   17.297550  46.023430  0.052493   \n",
       "20516    3.753158  12.340964  0.086825   \n",
       "20669    3.518912   7.995928  0.044573   \n",
       "20752    4.247065   9.624050  0.113730   \n",
       "...           ...        ...       ...   \n",
       "343095   1.851529   5.675371  0.149900   \n",
       "343101   2.711314   5.702838  0.138800   \n",
       "343107   7.763114  25.235826  0.105971   \n",
       "343116   2.093886   7.086283  0.080386   \n",
       "343124   7.430995  19.937094  0.074300   \n",
       "\n",
       "                                                 fits_loc  \\\n",
       "14208   /Volumes/EXTERNAL/decals/fits/dr5/J152/J152824...   \n",
       "16290   /Volumes/EXTERNAL/decals/fits/dr5/J120/J120208...   \n",
       "20516   /Volumes/EXTERNAL/decals/fits/dr5/J153/J153221...   \n",
       "20669   /Volumes/EXTERNAL/decals/fits/dr5/J162/J162220...   \n",
       "20752   /Volumes/EXTERNAL/decals/fits/dr5/J163/J163058...   \n",
       "...                                                   ...   \n",
       "343095  /Volumes/EXTERNAL/decals/fits/dr5/J144/J144321...   \n",
       "343101  /Volumes/EXTERNAL/decals/fits/dr5/J143/J143913...   \n",
       "343107  /Volumes/EXTERNAL/decals/fits/dr5/J143/J143619...   \n",
       "343116  /Volumes/EXTERNAL/decals/fits/dr5/J144/J144612...   \n",
       "343124  /Volumes/EXTERNAL/decals/fits/dr5/J235/J235101...   \n",
       "\n",
       "                                                  png_loc  fits_ready  \\\n",
       "14208   /Volumes/EXTERNAL/decals/png/dr5/J152/J152824....        True   \n",
       "16290   /Volumes/EXTERNAL/decals/png/dr5/J120/J120208....        True   \n",
       "20516   /Volumes/EXTERNAL/decals/png/dr5/J153/J153221....        True   \n",
       "20669   /Volumes/EXTERNAL/decals/png/dr5/J162/J162220....        True   \n",
       "20752   /Volumes/EXTERNAL/decals/png/dr5/J163/J163058....        True   \n",
       "...                                                   ...         ...   \n",
       "343095  /Volumes/EXTERNAL/decals/png/dr5/J144/J144321....        True   \n",
       "343101  /Volumes/EXTERNAL/decals/png/dr5/J143/J143913....        True   \n",
       "343107  /Volumes/EXTERNAL/decals/png/dr5/J143/J143619....        True   \n",
       "343116  /Volumes/EXTERNAL/decals/png/dr5/J144/J144612....        True   \n",
       "343124  /Volumes/EXTERNAL/decals/png/dr5/J235/J235101....        True   \n",
       "\n",
       "        fits_filled  png_ready  \n",
       "14208          True       True  \n",
       "16290          True       True  \n",
       "20516          True       True  \n",
       "20669          True       True  \n",
       "20752          True       True  \n",
       "...             ...        ...  \n",
       "343095         True       True  \n",
       "343101         True       True  \n",
       "343107         True       True  \n",
       "343116         True       True  \n",
       "343124         True       True  \n",
       "\n",
       "[33356 rows x 13 columns]"
      ]
     },
     "execution_count": 121,
     "metadata": {},
     "output_type": "execute_result"
    }
   ],
   "source": [
    "missing"
   ]
  },
  {
   "cell_type": "code",
   "execution_count": 122,
   "metadata": {},
   "outputs": [
    {
     "name": "stderr",
     "output_type": "stream",
     "text": [
      "/home/walml/anaconda3/envs/zoobot/lib/python3.7/site-packages/ipykernel_launcher.py:1: SettingWithCopyWarning: \n",
      "A value is trying to be set on a copy of a slice from a DataFrame.\n",
      "Try using .loc[row_indexer,col_indexer] = value instead\n",
      "\n",
      "See the caveats in the documentation: https://pandas.pydata.org/pandas-docs/stable/user_guide/indexing.html#returning-a-view-versus-a-copy\n",
      "  \"\"\"Entry point for launching an IPython kernel.\n"
     ]
    }
   ],
   "source": [
    "missing['relative_png_loc'] = missing['png_loc'].apply(lambda x: x.replace('/Volumes/EXTERNAL/decals/png/dr5/', ''))"
   ]
  },
  {
   "cell_type": "code",
   "execution_count": 123,
   "metadata": {},
   "outputs": [
    {
     "data": {
      "text/plain": [
       "14208     J152/J152824.24-002951.3.png\n",
       "16290     J120/J120208.92-030136.9.png\n",
       "20516     J153/J153221.48+003021.5.png\n",
       "20669     J162/J162220.24-003525.5.png\n",
       "20752     J163/J163058.78+001620.0.png\n",
       "                      ...             \n",
       "343095    J144/J144321.99-003753.1.png\n",
       "343101    J143/J143913.73-002317.4.png\n",
       "343107    J143/J143619.83-010748.1.png\n",
       "343116    J144/J144612.39-014833.1.png\n",
       "343124    J235/J235101.08-100042.7.png\n",
       "Name: relative_png_loc, Length: 33356, dtype: object"
      ]
     },
     "execution_count": 123,
     "metadata": {},
     "output_type": "execute_result"
    }
   ],
   "source": [
    "missing['relative_png_loc']"
   ]
  },
  {
   "cell_type": "code",
   "execution_count": 124,
   "metadata": {},
   "outputs": [
    {
     "name": "stderr",
     "output_type": "stream",
     "text": [
      "/home/walml/anaconda3/envs/zoobot/lib/python3.7/site-packages/ipykernel_launcher.py:1: SettingWithCopyWarning: \n",
      "A value is trying to be set on a copy of a slice from a DataFrame.\n",
      "Try using .loc[row_indexer,col_indexer] = value instead\n",
      "\n",
      "See the caveats in the documentation: https://pandas.pydata.org/pandas-docs/stable/user_guide/indexing.html#returning-a-view-versus-a-copy\n",
      "  \"\"\"Entry point for launching an IPython kernel.\n",
      "/home/walml/anaconda3/envs/zoobot/lib/python3.7/site-packages/ipykernel_launcher.py:4: SettingWithCopyWarning: \n",
      "A value is trying to be set on a copy of a slice from a DataFrame.\n",
      "Try using .loc[row_indexer,col_indexer] = value instead\n",
      "\n",
      "See the caveats in the documentation: https://pandas.pydata.org/pandas-docs/stable/user_guide/indexing.html#returning-a-view-versus-a-copy\n",
      "  after removing the cwd from sys.path.\n"
     ]
    }
   ],
   "source": [
    "missing['redshift'] = missing['z']\n",
    "del missing['z']\n",
    "\n",
    "missing['nsa_version'] = '1_0_0'"
   ]
  },
  {
   "cell_type": "code",
   "execution_count": 126,
   "metadata": {},
   "outputs": [],
   "source": [
    "missing.to_csv('dr5_missing_galaxies.csv', index=False)"
   ]
  },
  {
   "cell_type": "code",
   "execution_count": null,
   "metadata": {},
   "outputs": [],
   "source": []
  },
  {
   "cell_type": "code",
   "execution_count": null,
   "metadata": {},
   "outputs": [],
   "source": []
  },
  {
   "cell_type": "code",
   "execution_count": null,
   "metadata": {},
   "outputs": [],
   "source": []
  },
  {
   "cell_type": "code",
   "execution_count": null,
   "metadata": {},
   "outputs": [],
   "source": [
    "dr1_raw = pd.read_csv('/media/walml/beta/galaxy_zoo/decals/gzreduction_ouroborous/working_dir/raw/classifications/2017-10-15_galaxy_zoo_decals_classifications.csv').drop_duplicates()\n",
    "dr2_raw = pd.read_csv('/media/walml/beta/galaxy_zoo/decals/gzreduction_ouroborous/working_dir/raw/classifications/2017-10-15_galaxy_zoo_decals_dr2_classifications.csv').drop_duplicates()"
   ]
  },
  {
   "cell_type": "code",
   "execution_count": null,
   "metadata": {},
   "outputs": [],
   "source": [
    "dr1_raw.groupby('subject_id').agg({'id': 'count'}).reset_index()['id'].hist(bins=40)"
   ]
  },
  {
   "cell_type": "code",
   "execution_count": null,
   "metadata": {},
   "outputs": [],
   "source": [
    "dr2_raw.groupby('subject_id').agg({'id': 'count'}).reset_index()['id'].hist(bins=40)"
   ]
  },
  {
   "cell_type": "code",
   "execution_count": null,
   "metadata": {},
   "outputs": [],
   "source": []
  }
 ],
 "metadata": {
  "kernelspec": {
   "display_name": "Python 3",
   "language": "python",
   "name": "python3"
  },
  "language_info": {
   "codemirror_mode": {
    "name": "ipython",
    "version": 3
   },
   "file_extension": ".py",
   "mimetype": "text/x-python",
   "name": "python",
   "nbconvert_exporter": "python",
   "pygments_lexer": "ipython3",
   "version": "3.7.6"
  }
 },
 "nbformat": 4,
 "nbformat_minor": 4
}
