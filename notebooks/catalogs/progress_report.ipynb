{
 "cells": [
  {
   "cell_type": "code",
   "execution_count": 1,
   "metadata": {},
   "outputs": [],
   "source": [
    "%load_ext autoreload\n",
    "%autoreload 2\n"
   ]
  },
  {
   "cell_type": "code",
   "execution_count": 2,
   "metadata": {},
   "outputs": [],
   "source": [
    "import os\n",
    "import glob\n",
    "import json\n",
    "\n",
    "import numpy as np\n",
    "import pandas as pd\n",
    "import matplotlib.pyplot as plt\n",
    "import seaborn as sns\n",
    "sns.set_context('notebook')\n",
    "import sklearn"
   ]
  },
  {
   "cell_type": "code",
   "execution_count": 3,
   "metadata": {},
   "outputs": [],
   "source": [
    "df = pd.read_csv('~/Downloads/classifications_2020_10_21_aggregated.csv')"
   ]
  },
  {
   "cell_type": "code",
   "execution_count": 56,
   "metadata": {},
   "outputs": [
    {
     "data": {
      "text/plain": [
       "array(['iauname', 'smooth-or-featured_artifact',\n",
       "       'smooth-or-featured_featured-or-disk', 'smooth-or-featured_smooth',\n",
       "       'how-rounded_cigar-shaped', 'how-rounded_in-between',\n",
       "       'how-rounded_round', 'disk-edge-on_no', 'disk-edge-on_yes',\n",
       "       'edge-on-bulge_boxy', 'edge-on-bulge_none',\n",
       "       'edge-on-bulge_rounded', 'bar_no', 'bar_weak', 'bar_strong',\n",
       "       'has-spiral-arms_no', 'has-spiral-arms_yes',\n",
       "       'spiral-winding_loose', 'spiral-winding_medium',\n",
       "       'spiral-winding_tight', 'spiral-arm-count_1', 'spiral-arm-count_2',\n",
       "       'spiral-arm-count_3', 'spiral-arm-count_4',\n",
       "       'spiral-arm-count_cant-tell', 'spiral-arm-count_more-than-4',\n",
       "       'bulge-size_none', 'bulge-size_small', 'bulge-size_moderate',\n",
       "       'bulge-size_large', 'bulge-size_dominant', 'merging_none',\n",
       "       'merging_minor-disturbance', 'merging_major-disturbance',\n",
       "       'merging_merger', 'ra', 'dec', 'redshift', 'subject_id',\n",
       "       'smooth-or-featured_total-votes', 'how-rounded_total-votes',\n",
       "       'disk-edge-on_total-votes', 'edge-on-bulge_total-votes',\n",
       "       'bar_total-votes', 'has-spiral-arms_total-votes',\n",
       "       'spiral-winding_total-votes', 'spiral-arm-count_total-votes',\n",
       "       'bulge-size_total-votes', 'merging_total-votes',\n",
       "       'smooth-or-featured_artifact_fraction',\n",
       "       'smooth-or-featured_featured-or-disk_fraction',\n",
       "       'smooth-or-featured_smooth_fraction',\n",
       "       'how-rounded_cigar-shaped_fraction',\n",
       "       'how-rounded_in-between_fraction', 'how-rounded_round_fraction',\n",
       "       'disk-edge-on_no_fraction', 'disk-edge-on_yes_fraction',\n",
       "       'edge-on-bulge_boxy_fraction', 'edge-on-bulge_none_fraction',\n",
       "       'edge-on-bulge_rounded_fraction', 'bar_no_fraction',\n",
       "       'bar_weak_fraction', 'bar_strong_fraction',\n",
       "       'has-spiral-arms_no_fraction', 'has-spiral-arms_yes_fraction',\n",
       "       'spiral-winding_loose_fraction', 'spiral-winding_medium_fraction',\n",
       "       'spiral-winding_tight_fraction', 'spiral-arm-count_1_fraction',\n",
       "       'spiral-arm-count_2_fraction', 'spiral-arm-count_3_fraction',\n",
       "       'spiral-arm-count_4_fraction',\n",
       "       'spiral-arm-count_cant-tell_fraction',\n",
       "       'spiral-arm-count_more-than-4_fraction',\n",
       "       'bulge-size_none_fraction', 'bulge-size_small_fraction',\n",
       "       'bulge-size_moderate_fraction', 'bulge-size_large_fraction',\n",
       "       'bulge-size_dominant_fraction', 'merging_none_fraction',\n",
       "       'merging_minor-disturbance_fraction',\n",
       "       'merging_major-disturbance_fraction', 'merging_merger_fraction'],\n",
       "      dtype=object)"
      ]
     },
     "execution_count": 56,
     "metadata": {},
     "output_type": "execute_result"
    }
   ],
   "source": [
    "df.columns.values"
   ]
  },
  {
   "cell_type": "code",
   "execution_count": 9,
   "metadata": {},
   "outputs": [
    {
     "data": {
      "text/plain": [
       "1.0"
      ]
     },
     "execution_count": 9,
     "metadata": {},
     "output_type": "execute_result"
    }
   ],
   "source": [
    "df['smooth-or-featured_total-votes'].min()  # only includes galaxies with at least 1 vote"
   ]
  },
  {
   "cell_type": "code",
   "execution_count": 4,
   "metadata": {},
   "outputs": [
    {
     "data": {
      "text/plain": [
       "Text(0, 0.5, 'Count')"
      ]
     },
     "execution_count": 4,
     "metadata": {},
     "output_type": "execute_result"
    },
    {
     "data": {
      "image/png": "[encoded data removed]",
      "text/plain": [
       "<Figure size 432x288 with 1 Axes>"
      ]
     },
     "metadata": {
      "needs_background": "light"
     },
     "output_type": "display_data"
    }
   ],
   "source": [
    "# plt.hist(by_galaxy['classification_id'], range=[0, 60], bins=40)\n",
    "plt.hist(df['smooth-or-featured_total-votes'], range=[0, 60], bins=40)\n",
    "plt.xlabel('Subject classifications')\n",
    "plt.ylabel('Count')"
   ]
  },
  {
   "cell_type": "code",
   "execution_count": 8,
   "metadata": {},
   "outputs": [
    {
     "data": {
      "text/plain": [
       "array([0., 0., 0., ..., 4., 4., 4.])"
      ]
     },
     "execution_count": 8,
     "metadata": {},
     "output_type": "execute_result"
    }
   ],
   "source": [
    "remaining = np.max([5 - df['smooth-or-featured_total-votes'], np.zeros(len(df))], axis=0)\n",
    "remaining"
   ]
  },
  {
   "cell_type": "code",
   "execution_count": 10,
   "metadata": {},
   "outputs": [
    {
     "data": {
      "text/plain": [
       "47951.0"
      ]
     },
     "execution_count": 10,
     "metadata": {},
     "output_type": "execute_result"
    }
   ],
   "source": [
    "remaining.sum()"
   ]
  },
  {
   "cell_type": "code",
   "execution_count": 11,
   "metadata": {},
   "outputs": [
    {
     "data": {
      "text/plain": [
       "(array([216511.,  14933.,   6917.,   3424.,   2228.]),\n",
       " array([0. , 0.8, 1.6, 2.4, 3.2, 4. ]),\n",
       " <a list of 5 Patch objects>)"
      ]
     },
     "execution_count": 11,
     "metadata": {},
     "output_type": "execute_result"
    },
    {
     "data": {
      "image/png": "[encoded data removed]",
      "text/plain": [
       "<Figure size 432x288 with 1 Axes>"
      ]
     },
     "metadata": {
      "needs_background": "light"
     },
     "output_type": "display_data"
    }
   ],
   "source": [
    "plt.hist(remaining, bins=5)"
   ]
  },
  {
   "cell_type": "code",
   "execution_count": 12,
   "metadata": {},
   "outputs": [
    {
     "data": {
      "text/plain": [
       "0.0    216511\n",
       "1.0     14933\n",
       "2.0      6917\n",
       "3.0      3424\n",
       "4.0      2228\n",
       "dtype: int64"
      ]
     },
     "execution_count": 12,
     "metadata": {},
     "output_type": "execute_result"
    }
   ],
   "source": [
    "pd.value_counts(remaining)"
   ]
  },
  {
   "cell_type": "code",
   "execution_count": null,
   "metadata": {},
   "outputs": [],
   "source": [
    "## Let's specifically check for the missing galaxy sets, which may not have been classified yet"
   ]
  },
  {
   "cell_type": "code",
   "execution_count": 34,
   "metadata": {},
   "outputs": [],
   "source": [
    "missing_iaunames_loc = '/home/walml/repos/gz-scripts/missing_dr5_2020_07_20_iaunames.json'  # iaunames in missing_decals_dr5_subjects\n",
    "with open(missing_iaunames_loc, 'r') as f:\n",
    "    iaunames_part_a = json.load(f)['iaunames']"
   ]
  },
  {
   "cell_type": "code",
   "execution_count": 35,
   "metadata": {},
   "outputs": [
    {
     "data": {
      "text/plain": [
       "21900"
      ]
     },
     "execution_count": 35,
     "metadata": {},
     "output_type": "execute_result"
    }
   ],
   "source": [
    "len(iaunames_part_a)"
   ]
  },
  {
   "cell_type": "code",
   "execution_count": 36,
   "metadata": {},
   "outputs": [
    {
     "data": {
      "text/plain": [
       "21401"
      ]
     },
     "execution_count": 36,
     "metadata": {},
     "output_type": "execute_result"
    }
   ],
   "source": [
    "df['iauname'].isin(iaunames_part_a).sum()  # all but 500 have recieved some classification, so this set is already included in remaining, above"
   ]
  },
  {
   "cell_type": "code",
   "execution_count": null,
   "metadata": {},
   "outputs": [],
   "source": []
  },
  {
   "cell_type": "code",
   "execution_count": 31,
   "metadata": {},
   "outputs": [],
   "source": [
    "missing_iaunames_loc = '/home/walml/repos/gz-scripts/missing_decals_dr5_subjects_d_iaunames.json'  # iaunames in missing_decals_dr5_subjects\n",
    "with open(missing_iaunames_loc, 'r') as f:\n",
    "    iaunames_part_d = json.load(f)['iaunames']"
   ]
  },
  {
   "cell_type": "code",
   "execution_count": 32,
   "metadata": {},
   "outputs": [
    {
     "data": {
      "text/plain": [
       "11456"
      ]
     },
     "execution_count": 32,
     "metadata": {},
     "output_type": "execute_result"
    }
   ],
   "source": [
    "len(iaunames_part_d)"
   ]
  },
  {
   "cell_type": "code",
   "execution_count": 33,
   "metadata": {},
   "outputs": [
    {
     "data": {
      "text/plain": [
       "2382"
      ]
     },
     "execution_count": 33,
     "metadata": {},
     "output_type": "execute_result"
    }
   ],
   "source": [
    "df['iauname'].isin(iaunames_part_d).sum()  # all but 500 have recieved some classification, so this set is already included in remaining, above"
   ]
  },
  {
   "cell_type": "code",
   "execution_count": 40,
   "metadata": {},
   "outputs": [
    {
     "data": {
      "text/plain": [
       "<matplotlib.axes._subplots.AxesSubplot at 0x7f377205ba50>"
      ]
     },
     "execution_count": 40,
     "metadata": {},
     "output_type": "execute_result"
    },
    {
     "data": {
      "image/png": "[encoded data removed]",
      "text/plain": [
       "<Figure size 432x288 with 1 Axes>"
      ]
     },
     "metadata": {
      "needs_background": "light"
     },
     "output_type": "display_data"
    }
   ],
   "source": [
    "df[df['iauname'].isin(iaunames_part_d)]['smooth-or-featured_total-votes'].hist(bins=40)"
   ]
  },
  {
   "cell_type": "code",
   "execution_count": 44,
   "metadata": {},
   "outputs": [
    {
     "data": {
      "text/plain": [
       "0"
      ]
     },
     "execution_count": 44,
     "metadata": {},
     "output_type": "execute_result"
    }
   ],
   "source": [
    "df['iauname'].isin(missing_iaunames).sum() "
   ]
  },
  {
   "cell_type": "code",
   "execution_count": null,
   "metadata": {},
   "outputs": [],
   "source": []
  },
  {
   "cell_type": "code",
   "execution_count": 41,
   "metadata": {},
   "outputs": [
    {
     "data": {
      "text/html": [
       "<div>\n",
       "<style scoped>\n",
       "    .dataframe tbody tr th:only-of-type {\n",
       "        vertical-align: middle;\n",
       "    }\n",
       "\n",
       "    .dataframe tbody tr th {\n",
       "        vertical-align: top;\n",
       "    }\n",
       "\n",
       "    .dataframe thead th {\n",
       "        text-align: right;\n",
       "    }\n",
       "</style>\n",
       "<table border=\"1\" class=\"dataframe\">\n",
       "  <thead>\n",
       "    <tr style=\"text-align: right;\">\n",
       "      <th></th>\n",
       "      <th>iauname</th>\n",
       "      <th>nsa_id</th>\n",
       "      <th>ra</th>\n",
       "      <th>dec</th>\n",
       "      <th>petrotheta</th>\n",
       "      <th>petroth50</th>\n",
       "      <th>petroth90</th>\n",
       "      <th>fits_loc</th>\n",
       "      <th>png_loc</th>\n",
       "      <th>fits_ready</th>\n",
       "      <th>fits_filled</th>\n",
       "      <th>png_ready</th>\n",
       "      <th>relative_png_loc</th>\n",
       "      <th>redshift</th>\n",
       "      <th>nsa_version</th>\n",
       "    </tr>\n",
       "  </thead>\n",
       "  <tbody>\n",
       "    <tr>\n",
       "      <th>0</th>\n",
       "      <td>J152824.24-002951.3</td>\n",
       "      <td>16333</td>\n",
       "      <td>232.101003</td>\n",
       "      <td>-0.497560</td>\n",
       "      <td>11.394722</td>\n",
       "      <td>5.300970</td>\n",
       "      <td>12.203951</td>\n",
       "      <td>/Volumes/EXTERNAL/decals/fits/dr5/J152/J152824...</td>\n",
       "      <td>/Volumes/EXTERNAL/decals/png/dr5/J152/J152824....</td>\n",
       "      <td>True</td>\n",
       "      <td>True</td>\n",
       "      <td>True</td>\n",
       "      <td>J152/J152824.24-002951.3.png</td>\n",
       "      <td>0.057843</td>\n",
       "      <td>1_0_0</td>\n",
       "    </tr>\n",
       "    <tr>\n",
       "      <th>1</th>\n",
       "      <td>J120208.92-030136.9</td>\n",
       "      <td>18671</td>\n",
       "      <td>180.537134</td>\n",
       "      <td>-3.026832</td>\n",
       "      <td>31.546130</td>\n",
       "      <td>17.297550</td>\n",
       "      <td>46.023430</td>\n",
       "      <td>/Volumes/EXTERNAL/decals/fits/dr5/J120/J120208...</td>\n",
       "      <td>/Volumes/EXTERNAL/decals/png/dr5/J120/J120208....</td>\n",
       "      <td>True</td>\n",
       "      <td>True</td>\n",
       "      <td>True</td>\n",
       "      <td>J120/J120208.92-030136.9.png</td>\n",
       "      <td>0.052493</td>\n",
       "      <td>1_0_0</td>\n",
       "    </tr>\n",
       "    <tr>\n",
       "      <th>2</th>\n",
       "      <td>J153221.48+003021.5</td>\n",
       "      <td>26956</td>\n",
       "      <td>233.089534</td>\n",
       "      <td>0.505969</td>\n",
       "      <td>8.704482</td>\n",
       "      <td>3.753158</td>\n",
       "      <td>12.340964</td>\n",
       "      <td>/Volumes/EXTERNAL/decals/fits/dr5/J153/J153221...</td>\n",
       "      <td>/Volumes/EXTERNAL/decals/png/dr5/J153/J153221....</td>\n",
       "      <td>True</td>\n",
       "      <td>True</td>\n",
       "      <td>True</td>\n",
       "      <td>J153/J153221.48+003021.5.png</td>\n",
       "      <td>0.086825</td>\n",
       "      <td>1_0_0</td>\n",
       "    </tr>\n",
       "    <tr>\n",
       "      <th>3</th>\n",
       "      <td>J162220.24-003525.5</td>\n",
       "      <td>27167</td>\n",
       "      <td>245.584363</td>\n",
       "      <td>-0.590422</td>\n",
       "      <td>7.437321</td>\n",
       "      <td>3.518912</td>\n",
       "      <td>7.995928</td>\n",
       "      <td>/Volumes/EXTERNAL/decals/fits/dr5/J162/J162220...</td>\n",
       "      <td>/Volumes/EXTERNAL/decals/png/dr5/J162/J162220....</td>\n",
       "      <td>True</td>\n",
       "      <td>True</td>\n",
       "      <td>True</td>\n",
       "      <td>J162/J162220.24-003525.5.png</td>\n",
       "      <td>0.044573</td>\n",
       "      <td>1_0_0</td>\n",
       "    </tr>\n",
       "    <tr>\n",
       "      <th>4</th>\n",
       "      <td>J163058.78+001620.0</td>\n",
       "      <td>27270</td>\n",
       "      <td>247.744970</td>\n",
       "      <td>0.272281</td>\n",
       "      <td>9.324070</td>\n",
       "      <td>4.247065</td>\n",
       "      <td>9.624050</td>\n",
       "      <td>/Volumes/EXTERNAL/decals/fits/dr5/J163/J163058...</td>\n",
       "      <td>/Volumes/EXTERNAL/decals/png/dr5/J163/J163058....</td>\n",
       "      <td>True</td>\n",
       "      <td>True</td>\n",
       "      <td>True</td>\n",
       "      <td>J163/J163058.78+001620.0.png</td>\n",
       "      <td>0.113730</td>\n",
       "      <td>1_0_0</td>\n",
       "    </tr>\n",
       "    <tr>\n",
       "      <th>...</th>\n",
       "      <td>...</td>\n",
       "      <td>...</td>\n",
       "      <td>...</td>\n",
       "      <td>...</td>\n",
       "      <td>...</td>\n",
       "      <td>...</td>\n",
       "      <td>...</td>\n",
       "      <td>...</td>\n",
       "      <td>...</td>\n",
       "      <td>...</td>\n",
       "      <td>...</td>\n",
       "      <td>...</td>\n",
       "      <td>...</td>\n",
       "      <td>...</td>\n",
       "      <td>...</td>\n",
       "    </tr>\n",
       "    <tr>\n",
       "      <th>29132</th>\n",
       "      <td>J142431.49-003142.4</td>\n",
       "      <td>698428</td>\n",
       "      <td>216.131200</td>\n",
       "      <td>-0.528175</td>\n",
       "      <td>5.513321</td>\n",
       "      <td>2.764185</td>\n",
       "      <td>5.407866</td>\n",
       "      <td>/Volumes/EXTERNAL/decals/fits/dr5/J142/J142431...</td>\n",
       "      <td>/Volumes/EXTERNAL/decals/png/dr5/J142/J142431....</td>\n",
       "      <td>True</td>\n",
       "      <td>True</td>\n",
       "      <td>True</td>\n",
       "      <td>J142/J142431.49-003142.4.png</td>\n",
       "      <td>0.072400</td>\n",
       "      <td>1_0_0</td>\n",
       "    </tr>\n",
       "    <tr>\n",
       "      <th>29133</th>\n",
       "      <td>J144321.99-003753.1</td>\n",
       "      <td>698496</td>\n",
       "      <td>220.841699</td>\n",
       "      <td>-0.631355</td>\n",
       "      <td>4.146680</td>\n",
       "      <td>1.851529</td>\n",
       "      <td>5.675371</td>\n",
       "      <td>/Volumes/EXTERNAL/decals/fits/dr5/J144/J144321...</td>\n",
       "      <td>/Volumes/EXTERNAL/decals/png/dr5/J144/J144321....</td>\n",
       "      <td>True</td>\n",
       "      <td>True</td>\n",
       "      <td>True</td>\n",
       "      <td>J144/J144321.99-003753.1.png</td>\n",
       "      <td>0.149900</td>\n",
       "      <td>1_0_0</td>\n",
       "    </tr>\n",
       "    <tr>\n",
       "      <th>29134</th>\n",
       "      <td>J143619.83-010748.1</td>\n",
       "      <td>698522</td>\n",
       "      <td>219.083613</td>\n",
       "      <td>-1.130237</td>\n",
       "      <td>18.740425</td>\n",
       "      <td>7.763114</td>\n",
       "      <td>25.235826</td>\n",
       "      <td>/Volumes/EXTERNAL/decals/fits/dr5/J143/J143619...</td>\n",
       "      <td>/Volumes/EXTERNAL/decals/png/dr5/J143/J143619....</td>\n",
       "      <td>True</td>\n",
       "      <td>True</td>\n",
       "      <td>True</td>\n",
       "      <td>J143/J143619.83-010748.1.png</td>\n",
       "      <td>0.105971</td>\n",
       "      <td>1_0_0</td>\n",
       "    </tr>\n",
       "    <tr>\n",
       "      <th>29135</th>\n",
       "      <td>J144612.39-014833.1</td>\n",
       "      <td>698548</td>\n",
       "      <td>221.550819</td>\n",
       "      <td>-1.814557</td>\n",
       "      <td>4.897500</td>\n",
       "      <td>2.093886</td>\n",
       "      <td>7.086283</td>\n",
       "      <td>/Volumes/EXTERNAL/decals/fits/dr5/J144/J144612...</td>\n",
       "      <td>/Volumes/EXTERNAL/decals/png/dr5/J144/J144612....</td>\n",
       "      <td>True</td>\n",
       "      <td>True</td>\n",
       "      <td>True</td>\n",
       "      <td>J144/J144612.39-014833.1.png</td>\n",
       "      <td>0.080386</td>\n",
       "      <td>1_0_0</td>\n",
       "    </tr>\n",
       "    <tr>\n",
       "      <th>29136</th>\n",
       "      <td>J235101.08-100042.7</td>\n",
       "      <td>698661</td>\n",
       "      <td>357.755712</td>\n",
       "      <td>-10.010851</td>\n",
       "      <td>17.017670</td>\n",
       "      <td>7.430995</td>\n",
       "      <td>19.937094</td>\n",
       "      <td>/Volumes/EXTERNAL/decals/fits/dr5/J235/J235101...</td>\n",
       "      <td>/Volumes/EXTERNAL/decals/png/dr5/J235/J235101....</td>\n",
       "      <td>True</td>\n",
       "      <td>True</td>\n",
       "      <td>True</td>\n",
       "      <td>J235/J235101.08-100042.7.png</td>\n",
       "      <td>0.074300</td>\n",
       "      <td>1_0_0</td>\n",
       "    </tr>\n",
       "  </tbody>\n",
       "</table>\n",
       "<p>29137 rows × 15 columns</p>\n",
       "</div>"
      ],
      "text/plain": [
       "                   iauname  nsa_id          ra        dec  petrotheta  \\\n",
       "0      J152824.24-002951.3   16333  232.101003  -0.497560   11.394722   \n",
       "1      J120208.92-030136.9   18671  180.537134  -3.026832   31.546130   \n",
       "2      J153221.48+003021.5   26956  233.089534   0.505969    8.704482   \n",
       "3      J162220.24-003525.5   27167  245.584363  -0.590422    7.437321   \n",
       "4      J163058.78+001620.0   27270  247.744970   0.272281    9.324070   \n",
       "...                    ...     ...         ...        ...         ...   \n",
       "29132  J142431.49-003142.4  698428  216.131200  -0.528175    5.513321   \n",
       "29133  J144321.99-003753.1  698496  220.841699  -0.631355    4.146680   \n",
       "29134  J143619.83-010748.1  698522  219.083613  -1.130237   18.740425   \n",
       "29135  J144612.39-014833.1  698548  221.550819  -1.814557    4.897500   \n",
       "29136  J235101.08-100042.7  698661  357.755712 -10.010851   17.017670   \n",
       "\n",
       "       petroth50  petroth90  \\\n",
       "0       5.300970  12.203951   \n",
       "1      17.297550  46.023430   \n",
       "2       3.753158  12.340964   \n",
       "3       3.518912   7.995928   \n",
       "4       4.247065   9.624050   \n",
       "...          ...        ...   \n",
       "29132   2.764185   5.407866   \n",
       "29133   1.851529   5.675371   \n",
       "29134   7.763114  25.235826   \n",
       "29135   2.093886   7.086283   \n",
       "29136   7.430995  19.937094   \n",
       "\n",
       "                                                fits_loc  \\\n",
       "0      /Volumes/EXTERNAL/decals/fits/dr5/J152/J152824...   \n",
       "1      /Volumes/EXTERNAL/decals/fits/dr5/J120/J120208...   \n",
       "2      /Volumes/EXTERNAL/decals/fits/dr5/J153/J153221...   \n",
       "3      /Volumes/EXTERNAL/decals/fits/dr5/J162/J162220...   \n",
       "4      /Volumes/EXTERNAL/decals/fits/dr5/J163/J163058...   \n",
       "...                                                  ...   \n",
       "29132  /Volumes/EXTERNAL/decals/fits/dr5/J142/J142431...   \n",
       "29133  /Volumes/EXTERNAL/decals/fits/dr5/J144/J144321...   \n",
       "29134  /Volumes/EXTERNAL/decals/fits/dr5/J143/J143619...   \n",
       "29135  /Volumes/EXTERNAL/decals/fits/dr5/J144/J144612...   \n",
       "29136  /Volumes/EXTERNAL/decals/fits/dr5/J235/J235101...   \n",
       "\n",
       "                                                 png_loc  fits_ready  \\\n",
       "0      /Volumes/EXTERNAL/decals/png/dr5/J152/J152824....        True   \n",
       "1      /Volumes/EXTERNAL/decals/png/dr5/J120/J120208....        True   \n",
       "2      /Volumes/EXTERNAL/decals/png/dr5/J153/J153221....        True   \n",
       "3      /Volumes/EXTERNAL/decals/png/dr5/J162/J162220....        True   \n",
       "4      /Volumes/EXTERNAL/decals/png/dr5/J163/J163058....        True   \n",
       "...                                                  ...         ...   \n",
       "29132  /Volumes/EXTERNAL/decals/png/dr5/J142/J142431....        True   \n",
       "29133  /Volumes/EXTERNAL/decals/png/dr5/J144/J144321....        True   \n",
       "29134  /Volumes/EXTERNAL/decals/png/dr5/J143/J143619....        True   \n",
       "29135  /Volumes/EXTERNAL/decals/png/dr5/J144/J144612....        True   \n",
       "29136  /Volumes/EXTERNAL/decals/png/dr5/J235/J235101....        True   \n",
       "\n",
       "       fits_filled  png_ready              relative_png_loc  redshift  \\\n",
       "0             True       True  J152/J152824.24-002951.3.png  0.057843   \n",
       "1             True       True  J120/J120208.92-030136.9.png  0.052493   \n",
       "2             True       True  J153/J153221.48+003021.5.png  0.086825   \n",
       "3             True       True  J162/J162220.24-003525.5.png  0.044573   \n",
       "4             True       True  J163/J163058.78+001620.0.png  0.113730   \n",
       "...            ...        ...                           ...       ...   \n",
       "29132         True       True  J142/J142431.49-003142.4.png  0.072400   \n",
       "29133         True       True  J144/J144321.99-003753.1.png  0.149900   \n",
       "29134         True       True  J143/J143619.83-010748.1.png  0.105971   \n",
       "29135         True       True  J144/J144612.39-014833.1.png  0.080386   \n",
       "29136         True       True  J235/J235101.08-100042.7.png  0.074300   \n",
       "\n",
       "      nsa_version  \n",
       "0           1_0_0  \n",
       "1           1_0_0  \n",
       "2           1_0_0  \n",
       "3           1_0_0  \n",
       "4           1_0_0  \n",
       "...           ...  \n",
       "29132       1_0_0  \n",
       "29133       1_0_0  \n",
       "29134       1_0_0  \n",
       "29135       1_0_0  \n",
       "29136       1_0_0  \n",
       "\n",
       "[29137 rows x 15 columns]"
      ]
     },
     "execution_count": 41,
     "metadata": {},
     "output_type": "execute_result"
    }
   ],
   "source": [
    "missing_galaxies = pd.read_csv('/home/walml/repos/zoobot/dr5_missing_galaxies_2020_10_21.csv')\n",
    "# missing_iaunames = list(missing_galaxies['iauname'])\n",
    "missing_galaxies"
   ]
  },
  {
   "cell_type": "code",
   "execution_count": 45,
   "metadata": {},
   "outputs": [],
   "source": [
    "missing_iaunames = missing_galaxies['iauname']"
   ]
  },
  {
   "cell_type": "code",
   "execution_count": 55,
   "metadata": {},
   "outputs": [
    {
     "data": {
      "text/plain": [
       "19564"
      ]
     },
     "execution_count": 55,
     "metadata": {},
     "output_type": "execute_result"
    }
   ],
   "source": [
    "df['iauname'].isin(missing_iaunames).sum() "
   ]
  },
  {
   "cell_type": "code",
   "execution_count": 47,
   "metadata": {},
   "outputs": [],
   "source": [
    "missing_but_in_export = df[df['iauname'].isin(missing_iaunames)]"
   ]
  },
  {
   "cell_type": "code",
   "execution_count": 49,
   "metadata": {},
   "outputs": [
    {
     "data": {
      "text/plain": [
       "<matplotlib.axes._subplots.AxesSubplot at 0x7f3771075290>"
      ]
     },
     "execution_count": 49,
     "metadata": {},
     "output_type": "execute_result"
    },
    {
     "data": {
      "image/png": "[encoded data removed]",
      "text/plain": [
       "<Figure size 432x288 with 1 Axes>"
      ]
     },
     "metadata": {
      "needs_background": "light"
     },
     "output_type": "display_data"
    }
   ],
   "source": [
    "missing_but_in_export['smooth-or-featured_total-votes'].hist(bins=40)  # these are all already counted"
   ]
  },
  {
   "cell_type": "code",
   "execution_count": 53,
   "metadata": {},
   "outputs": [
    {
     "data": {
      "text/plain": [
       "9573"
      ]
     },
     "execution_count": 53,
     "metadata": {},
     "output_type": "execute_result"
    }
   ],
   "source": [
    "missing_and_not_in_export = set(missing_iaunames) - set(df['iauname'])\n",
    "len(missing_and_not_in_export)  # these all need 5 classifications"
   ]
  },
  {
   "cell_type": "code",
   "execution_count": 54,
   "metadata": {},
   "outputs": [
    {
     "data": {
      "text/plain": [
       "95816"
      ]
     },
     "execution_count": 54,
     "metadata": {},
     "output_type": "execute_result"
    }
   ],
   "source": [
    "47951 + (5*9573)  # classifications for uploaded but less than 5, plus 10k with no classifications yet"
   ]
  },
  {
   "cell_type": "code",
   "execution_count": null,
   "metadata": {},
   "outputs": [],
   "source": []
  }
 ],
 "metadata": {
  "kernelspec": {
   "display_name": "Python 3",
   "language": "python",
   "name": "python3"
  },
  "language_info": {
   "codemirror_mode": {
    "name": "ipython",
    "version": 3
   },
   "file_extension": ".py",
   "mimetype": "text/x-python",
   "name": "python",
   "nbconvert_exporter": "python",
   "pygments_lexer": "ipython3",
   "version": "3.7.6"
  }
 },
 "nbformat": 4,
 "nbformat_minor": 4
}
