{
 "cells": [
  {
   "cell_type": "code",
   "execution_count": 1,
   "metadata": {},
   "outputs": [],
   "source": [
    "%matplotlib inline"
   ]
  },
  {
   "cell_type": "code",
   "execution_count": 2,
   "metadata": {},
   "outputs": [],
   "source": [
    "import os\n",
    "\n",
    "import pandas as pd\n",
    "import numpy as np\n",
    "import matplotlib.pyplot as plt\n",
    "import tensorflow as tf  # version 2.1 or higher required!\n",
    "\n",
    "# To make life easy, we've released some code for working with the predictions - let's import that first.\n",
    "from zoobot.estimators import concentration_utils, losses, dirichlet_stats\n",
    "from zoobot import label_metadata"
   ]
  },
  {
   "cell_type": "code",
   "execution_count": 3,
   "metadata": {},
   "outputs": [],
   "source": [
    "os.chdir('/home/walml/repos/zoobot')"
   ]
  },
  {
   "cell_type": "code",
   "execution_count": 4,
   "metadata": {},
   "outputs": [
    {
     "name": "stdout",
     "output_type": "stream",
     "text": [
      "Galaxies with ML predictions: 309398\n"
     ]
    }
   ],
   "source": [
    "ml_loc = 'results/temp/decals_n2_allq_m0_all.csv'  # load the predictions (only one model here)\n",
    "ml = pd.read_csv(ml_loc)\n",
    "print('Galaxies with ML predictions: ' + str(len(ml)))"
   ]
  },
  {
   "cell_type": "code",
   "execution_count": 5,
   "metadata": {},
   "outputs": [],
   "source": [
    "concentration_cols = [a + '_concentration' for a in label_metadata.decals_label_cols]"
   ]
  },
  {
   "cell_type": "code",
   "execution_count": 6,
   "metadata": {},
   "outputs": [
    {
     "data": {
      "text/plain": [
       "(309398, 34, 5)"
      ]
     },
     "execution_count": 6,
     "metadata": {},
     "output_type": "execute_result"
    }
   ],
   "source": [
    "concentrations = concentration_utils.load_all_concentrations(ml, concentration_cols)\n",
    "concentrations.shape"
   ]
  },
  {
   "cell_type": "markdown",
   "metadata": {},
   "source": [
    "These are the predictions themselves - dirichlet concentrations for each (galaxy, answer, forward pass). These define posteriors for the number of responses per answer. You can visualise the posteriors like so:"
   ]
  },
  {
   "cell_type": "code",
   "execution_count": 7,
   "metadata": {},
   "outputs": [],
   "source": [
    "# TODO"
   ]
  },
  {
   "cell_type": "code",
   "execution_count": null,
   "metadata": {},
   "outputs": [],
   "source": []
  },
  {
   "cell_type": "code",
   "execution_count": null,
   "metadata": {},
   "outputs": [],
   "source": []
  },
  {
   "cell_type": "markdown",
   "metadata": {},
   "source": [
    "Many people will be happy to just use the posterior means as a 'best guess' prediction. We release these precalculated, but should you wish to repeat or tweak the calculation, here's how to do it:"
   ]
  },
  {
   "cell_type": "code",
   "execution_count": 8,
   "metadata": {},
   "outputs": [],
   "source": [
    "# TODO refactor this into release package\n",
    "def apply_over_questions(concentrations, question_index_groups, func):\n",
    "    results = []\n",
    "    for q_n in range(len(question_index_groups)):\n",
    "        q_indices = question_index_groups[q_n]\n",
    "        q_start = q_indices[0]\n",
    "        q_end = q_indices[1]\n",
    "        q_result = func(concentrations[:, q_start:q_end+1])\n",
    "        results.append(q_result)\n",
    "    \n",
    "    results = np.concatenate(results, axis=1)\n",
    "    return results  # leave the reduce_sum to the estimator\n",
    "\n",
    "def mean_for_answers(concentrations_for_q, total_votes):\n",
    "     return dirichlet_stats.DirichletEqualMixture(total_votes, concentrations_for_q).mean()"
   ]
  },
  {
   "cell_type": "markdown",
   "metadata": {},
   "source": [
    "Create a Schema object describing the decision tree. "
   ]
  },
  {
   "cell_type": "code",
   "execution_count": 9,
   "metadata": {},
   "outputs": [
    {
     "name": "stdout",
     "output_type": "stream",
     "text": [
      "{smooth-or-featured, indices 0 to 2, asked after None: (0, 2), disk-edge-on, indices 3 to 4, asked after smooth-or-featured_featured-or-disk, index 1: (3, 4), has-spiral-arms, indices 5 to 6, asked after disk-edge-on_no, index 4: (5, 6), bar, indices 7 to 9, asked after disk-edge-on_no, index 4: (7, 9), bulge-size, indices 10 to 14, asked after disk-edge-on_no, index 4: (10, 14), how-rounded, indices 15 to 17, asked after smooth-or-featured_smooth, index 0: (15, 17), edge-on-bulge, indices 18 to 20, asked after disk-edge-on_yes, index 3: (18, 20), spiral-winding, indices 21 to 23, asked after has-spiral-arms_yes, index 5: (21, 23), spiral-arm-count, indices 24 to 29, asked after has-spiral-arms_yes, index 5: (24, 29), merging, indices 30 to 33, asked after None: (30, 33)}\n"
     ]
    }
   ],
   "source": [
    "schema = losses.Schema(label_metadata.decals_label_cols, label_metadata.decals_questions, version='decals')\n",
    "# could refactor to get_decals_schema"
   ]
  },
  {
   "cell_type": "code",
   "execution_count": 30,
   "metadata": {},
   "outputs": [],
   "source": [
    "func = lambda x: mean_for_answers(x, np.ones(len(x)))  # the mean prediction for one answer per question is the predicted fraction of volunteers giving each answer\n",
    "\n",
    "# mean_answers = apply_over_questions(concentrations, schema.question_index_groups, func)  # calculate the mean prediction for every question\n",
    "mean_answers = apply_over_questions(concentrations[:, :, :1], schema.question_index_groups, func)  # calculate the mean prediction for every question"
   ]
  },
  {
   "cell_type": "code",
   "execution_count": 31,
   "metadata": {},
   "outputs": [
    {
     "data": {
      "text/plain": [
       "(309398, 34)"
      ]
     },
     "execution_count": 31,
     "metadata": {},
     "output_type": "execute_result"
    }
   ],
   "source": [
    "mean_answers.shape  # shape of (galaxies, mean prediction for answer)"
   ]
  },
  {
   "cell_type": "markdown",
   "metadata": {},
   "source": [
    "Here's what the predictions for the 0th galaxy look like. Notice how with the schema object, it's easy to loop over answers."
   ]
  },
  {
   "cell_type": "code",
   "execution_count": 32,
   "metadata": {},
   "outputs": [
    {
     "name": "stdout",
     "output_type": "stream",
     "text": [
      "smooth-or-featured_smooth: 0.37\n",
      "smooth-or-featured_featured-or-disk: 0.57\n",
      "smooth-or-featured_artifact: 0.06\n",
      "disk-edge-on_yes: 0.11\n",
      "disk-edge-on_no: 0.89\n",
      "has-spiral-arms_yes: 0.19\n",
      "has-spiral-arms_no: 0.81\n",
      "bar_strong: 0.04\n",
      "bar_weak: 0.09\n",
      "bar_no: 0.87\n",
      "bulge-size_dominant: 0.09\n",
      "bulge-size_large: 0.37\n",
      "bulge-size_moderate: 0.51\n",
      "bulge-size_small: 0.02\n",
      "bulge-size_none: 0.01\n",
      "how-rounded_round: 0.26\n",
      "how-rounded_in-between: 0.72\n",
      "how-rounded_cigar-shaped: 0.02\n",
      "edge-on-bulge_boxy: 0.06\n",
      "edge-on-bulge_none: 0.08\n",
      "edge-on-bulge_rounded: 0.86\n",
      "spiral-winding_tight: 0.59\n",
      "spiral-winding_medium: 0.23\n",
      "spiral-winding_loose: 0.19\n",
      "spiral-arm-count_1: 0.33\n",
      "spiral-arm-count_2: 0.32\n",
      "spiral-arm-count_3: 0.02\n",
      "spiral-arm-count_4: 0.01\n",
      "spiral-arm-count_more-than-4: 0.01\n",
      "spiral-arm-count_cant-tell: 0.32\n",
      "merging_none: 0.77\n",
      "merging_minor-disturbance: 0.13\n",
      "merging_major-disturbance: 0.09\n",
      "merging_merger: 0.01\n"
     ]
    }
   ],
   "source": [
    "for answer_n, answer in enumerate(schema.answers):\n",
    "    print('{}: {:.2f}'.format(answer.text, mean_answers[0][answer_n]))"
   ]
  },
  {
   "cell_type": "markdown",
   "metadata": {},
   "source": [
    "These are the mean posterior values we publish, precalculated for convenience."
   ]
  },
  {
   "cell_type": "code",
   "execution_count": 33,
   "metadata": {},
   "outputs": [
    {
     "data": {
      "text/html": [
       "<div>\n",
       "<style scoped>\n",
       "    .dataframe tbody tr th:only-of-type {\n",
       "        vertical-align: middle;\n",
       "    }\n",
       "\n",
       "    .dataframe tbody tr th {\n",
       "        vertical-align: top;\n",
       "    }\n",
       "\n",
       "    .dataframe thead th {\n",
       "        text-align: right;\n",
       "    }\n",
       "</style>\n",
       "<table border=\"1\" class=\"dataframe\">\n",
       "  <thead>\n",
       "    <tr style=\"text-align: right;\">\n",
       "      <th></th>\n",
       "      <th>iauname</th>\n",
       "      <th>smooth-or-featured_smooth_fraction</th>\n",
       "      <th>smooth-or-featured_featured-or-disk_fraction</th>\n",
       "      <th>smooth-or-featured_artifact_fraction</th>\n",
       "      <th>disk-edge-on_yes_fraction</th>\n",
       "      <th>disk-edge-on_no_fraction</th>\n",
       "      <th>has-spiral-arms_yes_fraction</th>\n",
       "      <th>has-spiral-arms_no_fraction</th>\n",
       "      <th>bar_strong_fraction</th>\n",
       "      <th>bar_weak_fraction</th>\n",
       "      <th>...</th>\n",
       "      <th>spiral-arm-count_1_fraction</th>\n",
       "      <th>spiral-arm-count_2_fraction</th>\n",
       "      <th>spiral-arm-count_3_fraction</th>\n",
       "      <th>spiral-arm-count_4_fraction</th>\n",
       "      <th>spiral-arm-count_more-than-4_fraction</th>\n",
       "      <th>spiral-arm-count_cant-tell_fraction</th>\n",
       "      <th>merging_none_fraction</th>\n",
       "      <th>merging_minor-disturbance_fraction</th>\n",
       "      <th>merging_major-disturbance_fraction</th>\n",
       "      <th>merging_merger_fraction</th>\n",
       "    </tr>\n",
       "  </thead>\n",
       "  <tbody>\n",
       "    <tr>\n",
       "      <th>163851</th>\n",
       "      <td>J080140.73+200557.5</td>\n",
       "      <td>0.422781</td>\n",
       "      <td>0.479273</td>\n",
       "      <td>0.097945</td>\n",
       "      <td>0.033052</td>\n",
       "      <td>0.966948</td>\n",
       "      <td>0.777842</td>\n",
       "      <td>0.222158</td>\n",
       "      <td>0.149351</td>\n",
       "      <td>0.598537</td>\n",
       "      <td>...</td>\n",
       "      <td>0.030308</td>\n",
       "      <td>0.682954</td>\n",
       "      <td>0.040398</td>\n",
       "      <td>0.013016</td>\n",
       "      <td>0.011538</td>\n",
       "      <td>0.221786</td>\n",
       "      <td>0.642019</td>\n",
       "      <td>0.256277</td>\n",
       "      <td>0.050169</td>\n",
       "      <td>0.051534</td>\n",
       "    </tr>\n",
       "  </tbody>\n",
       "</table>\n",
       "<p>1 rows × 35 columns</p>\n",
       "</div>"
      ],
      "text/plain": [
       "                    iauname  smooth-or-featured_smooth_fraction  \\\n",
       "163851  J080140.73+200557.5                            0.422781   \n",
       "\n",
       "        smooth-or-featured_featured-or-disk_fraction  \\\n",
       "163851                                      0.479273   \n",
       "\n",
       "        smooth-or-featured_artifact_fraction  disk-edge-on_yes_fraction  \\\n",
       "163851                              0.097945                   0.033052   \n",
       "\n",
       "        disk-edge-on_no_fraction  has-spiral-arms_yes_fraction  \\\n",
       "163851                  0.966948                      0.777842   \n",
       "\n",
       "        has-spiral-arms_no_fraction  bar_strong_fraction  bar_weak_fraction  \\\n",
       "163851                     0.222158             0.149351           0.598537   \n",
       "\n",
       "        ...  spiral-arm-count_1_fraction  spiral-arm-count_2_fraction  \\\n",
       "163851  ...                     0.030308                     0.682954   \n",
       "\n",
       "        spiral-arm-count_3_fraction  spiral-arm-count_4_fraction  \\\n",
       "163851                     0.040398                     0.013016   \n",
       "\n",
       "        spiral-arm-count_more-than-4_fraction  \\\n",
       "163851                               0.011538   \n",
       "\n",
       "        spiral-arm-count_cant-tell_fraction  merging_none_fraction  \\\n",
       "163851                             0.221786               0.642019   \n",
       "\n",
       "        merging_minor-disturbance_fraction  \\\n",
       "163851                            0.256277   \n",
       "\n",
       "        merging_major-disturbance_fraction  merging_merger_fraction  \n",
       "163851                            0.050169                 0.051534  \n",
       "\n",
       "[1 rows x 35 columns]"
      ]
     },
     "execution_count": 33,
     "metadata": {},
     "output_type": "execute_result"
    }
   ],
   "source": [
    "\n",
    "df_p = pd.DataFrame(data=mean_answers, columns=[a + '_fraction' for a in schema.label_cols])\n",
    "df_p = pd.concat([ml[['iauname']], df_p], axis=1)\n",
    "df_f = df_p.copy()\n",
    "df_f.sample()\n",
    "# df_f.to_csv('results/temp/decals_n2_allq_m0_all_mean.csv', index=False)"
   ]
  },
  {
   "cell_type": "code",
   "execution_count": 34,
   "metadata": {},
   "outputs": [
    {
     "data": {
      "text/plain": [
       "(0.0, 1.0)"
      ]
     },
     "execution_count": 34,
     "metadata": {},
     "output_type": "execute_result"
    },
    {
     "data": {
      "image/png": "[encoded data removed]",
      "text/plain": [
       "<Figure size 432x288 with 1 Axes>"
      ]
     },
     "metadata": {
      "needs_background": "light"
     },
     "output_type": "display_data"
    }
   ],
   "source": [
    "df_f['smooth-or-featured_featured-or-disk_fraction'].hist(bins=40, range=[0., 1.])\n",
    "plt.xlim(0., 1.)"
   ]
  },
  {
   "cell_type": "code",
   "execution_count": null,
   "metadata": {},
   "outputs": [],
   "source": []
  },
  {
   "cell_type": "code",
   "execution_count": null,
   "metadata": {},
   "outputs": [],
   "source": []
  },
  {
   "cell_type": "code",
   "execution_count": 35,
   "metadata": {},
   "outputs": [],
   "source": [
    "df_f.to_csv('results/temp/decals_n2_allq_m0_all_first.csv', index=False)"
   ]
  },
  {
   "cell_type": "code",
   "execution_count": null,
   "metadata": {},
   "outputs": [],
   "source": []
  },
  {
   "cell_type": "code",
   "execution_count": null,
   "metadata": {},
   "outputs": [],
   "source": []
  },
  {
   "cell_type": "code",
   "execution_count": null,
   "metadata": {},
   "outputs": [],
   "source": []
  },
  {
   "cell_type": "code",
   "execution_count": null,
   "metadata": {},
   "outputs": [],
   "source": []
  }
 ],
 "metadata": {
  "kernelspec": {
   "display_name": "Python 3",
   "language": "python",
   "name": "python3"
  },
  "language_info": {
   "codemirror_mode": {
    "name": "ipython",
    "version": 3
   },
   "file_extension": ".py",
   "mimetype": "text/x-python",
   "name": "python",
   "nbconvert_exporter": "python",
   "pygments_lexer": "ipython3",
   "version": "3.7.6"
  }
 },
 "nbformat": 4,
 "nbformat_minor": 4
}
