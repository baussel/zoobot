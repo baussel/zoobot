{
 "cells": [
  {
   "cell_type": "code",
   "execution_count": 48,
   "metadata": {},
   "outputs": [],
   "source": [
    "import matplotlib.pyplot as plt\n",
    "import pandas as pd\n",
    "from astropy.table import Table\n",
    "import os\n",
    "import numpy as np\n",
    "import cartopy.crs as ccrs\n",
    "from shared_astro_utils import matching_utils\n",
    "from astropy import units as u\n",
    "from PIL import Image\n",
    "import matplotlib.gridspec as gridspec\n",
    "import seaborn as sns\n",
    "sns.set_context('notebook')"
   ]
  },
  {
   "cell_type": "code",
   "execution_count": 49,
   "metadata": {},
   "outputs": [],
   "source": [
    "os.chdir('/home/walml/repos/zoobot')"
   ]
  },
  {
   "cell_type": "code",
   "execution_count": 50,
   "metadata": {},
   "outputs": [],
   "source": [
    "gz2 = pd.read_csv('data/gz2/gz2_classifications_and_subjects.csv')\n",
    "\n",
    "dr2 = pd.read_csv('current_final_dr2_result.csv')\n",
    "\n",
    "dr5 = pd.read_csv('current_final_dr5_result.csv')"
   ]
  },
  {
   "cell_type": "code",
   "execution_count": 51,
   "metadata": {},
   "outputs": [
    {
     "data": {
      "text/plain": [
       "(239695, 94024, 224415)"
      ]
     },
     "execution_count": 51,
     "metadata": {},
     "output_type": "execute_result"
    }
   ],
   "source": [
    "len(gz2), len(dr2), len(dr5)  # aggregated by galaxy already"
   ]
  },
  {
   "cell_type": "code",
   "execution_count": 52,
   "metadata": {},
   "outputs": [
    {
     "data": {
      "text/plain": [
       "59919"
      ]
     },
     "execution_count": 52,
     "metadata": {},
     "output_type": "execute_result"
    }
   ],
   "source": [
    "dr5_retired = dr5[dr5['smooth-or-featured_total-votes'] > 36]\n",
    "len(dr5_retired)"
   ]
  },
  {
   "cell_type": "code",
   "execution_count": 53,
   "metadata": {},
   "outputs": [
    {
     "data": {
      "text/plain": [
       "35253"
      ]
     },
     "execution_count": 53,
     "metadata": {},
     "output_type": "execute_result"
    }
   ],
   "source": [
    "dr2_retired = dr2[dr2['smooth-or-featured_total-votes'] > 36]\n",
    "len(dr2_retired)"
   ]
  },
  {
   "cell_type": "code",
   "execution_count": 54,
   "metadata": {},
   "outputs": [
    {
     "data": {
      "text/plain": [
       "pre_active                  50946\n",
       "active_priority              6012\n",
       "targeted                     1387\n",
       "calibration_nair_dr2_dr5     1262\n",
       "active_random                 312\n",
       "Name: upload_group, dtype: int64"
      ]
     },
     "execution_count": 54,
     "metadata": {},
     "output_type": "execute_result"
    }
   ],
   "source": [
    "dr5_retired['upload_group'].value_counts()"
   ]
  },
  {
   "cell_type": "code",
   "execution_count": 55,
   "metadata": {},
   "outputs": [],
   "source": [
    "dr5_pre_active = dr5_retired.query('upload_group == \"pre_active\"')"
   ]
  },
  {
   "cell_type": "code",
   "execution_count": 56,
   "metadata": {},
   "outputs": [],
   "source": [
    "# in this case, we'll use the dr5 classifications if available, otherwise dr2"
   ]
  },
  {
   "cell_type": "code",
   "execution_count": 57,
   "metadata": {},
   "outputs": [
    {
     "data": {
      "text/plain": [
       "5362"
      ]
     },
     "execution_count": 57,
     "metadata": {},
     "output_type": "execute_result"
    }
   ],
   "source": [
    "dr2['iauname'].isin(dr5_pre_active['iauname']).sum()"
   ]
  },
  {
   "cell_type": "code",
   "execution_count": 58,
   "metadata": {},
   "outputs": [],
   "source": [
    "# dr2_only = dr2[~dr2['iauname'].isin(dr5_pre_active['iauname'])]\n",
    "# decals = pd.concat([dr5_pre_active, dr2_only], axis=0)"
   ]
  },
  {
   "cell_type": "code",
   "execution_count": 59,
   "metadata": {},
   "outputs": [],
   "source": [
    "decals = dr2"
   ]
  },
  {
   "cell_type": "code",
   "execution_count": 60,
   "metadata": {},
   "outputs": [
    {
     "data": {
      "text/html": [
       "<div>\n",
       "<style scoped>\n",
       "    .dataframe tbody tr th:only-of-type {\n",
       "        vertical-align: middle;\n",
       "    }\n",
       "\n",
       "    .dataframe tbody tr th {\n",
       "        vertical-align: top;\n",
       "    }\n",
       "\n",
       "    .dataframe thead th {\n",
       "        text-align: right;\n",
       "    }\n",
       "</style>\n",
       "<table border=\"1\" class=\"dataframe\">\n",
       "  <thead>\n",
       "    <tr style=\"text-align: right;\">\n",
       "      <th></th>\n",
       "      <th>subject_id</th>\n",
       "      <th>smooth-or-featured_smooth</th>\n",
       "      <th>smooth-or-featured_featured-or-disk</th>\n",
       "      <th>smooth-or-featured_artifact</th>\n",
       "      <th>how-rounded_completely</th>\n",
       "      <th>how-rounded_in-between</th>\n",
       "      <th>how-rounded_cigar-shaped</th>\n",
       "      <th>disk-edge-on_yes</th>\n",
       "      <th>disk-edge-on_no</th>\n",
       "      <th>edge-on-bulge_rounded</th>\n",
       "      <th>...</th>\n",
       "      <th>bulge-size_obvious_fraction</th>\n",
       "      <th>bulge-size_dominant_fraction</th>\n",
       "      <th>merging_total-votes</th>\n",
       "      <th>merging_merger_fraction</th>\n",
       "      <th>merging_tidal-debris_fraction</th>\n",
       "      <th>merging_both_fraction</th>\n",
       "      <th>merging_neither_fraction</th>\n",
       "      <th>iauname</th>\n",
       "      <th>ra</th>\n",
       "      <th>dec</th>\n",
       "    </tr>\n",
       "  </thead>\n",
       "  <tbody>\n",
       "    <tr>\n",
       "      <th>63143</th>\n",
       "      <td>56f3dcdb5925d90042027edd</td>\n",
       "      <td>30</td>\n",
       "      <td>3</td>\n",
       "      <td>0</td>\n",
       "      <td>25</td>\n",
       "      <td>5</td>\n",
       "      <td>0</td>\n",
       "      <td>1</td>\n",
       "      <td>2</td>\n",
       "      <td>0</td>\n",
       "      <td>...</td>\n",
       "      <td>0.500000</td>\n",
       "      <td>0.500000</td>\n",
       "      <td>33</td>\n",
       "      <td>0.151515</td>\n",
       "      <td>0.212121</td>\n",
       "      <td>0.000000</td>\n",
       "      <td>0.636364</td>\n",
       "      <td>J082047.17+211359.8</td>\n",
       "      <td>125.196595</td>\n",
       "      <td>21.233286</td>\n",
       "    </tr>\n",
       "    <tr>\n",
       "      <th>68237</th>\n",
       "      <td>56f3dd2a5925d9004202a6a9</td>\n",
       "      <td>16</td>\n",
       "      <td>16</td>\n",
       "      <td>0</td>\n",
       "      <td>5</td>\n",
       "      <td>11</td>\n",
       "      <td>0</td>\n",
       "      <td>2</td>\n",
       "      <td>14</td>\n",
       "      <td>2</td>\n",
       "      <td>...</td>\n",
       "      <td>0.785714</td>\n",
       "      <td>0.214286</td>\n",
       "      <td>32</td>\n",
       "      <td>0.062500</td>\n",
       "      <td>0.093750</td>\n",
       "      <td>0.062500</td>\n",
       "      <td>0.781250</td>\n",
       "      <td>J100351.67+283805.5</td>\n",
       "      <td>150.965354</td>\n",
       "      <td>28.634890</td>\n",
       "    </tr>\n",
       "    <tr>\n",
       "      <th>80459</th>\n",
       "      <td>56f3dde55925d90042030625</td>\n",
       "      <td>32</td>\n",
       "      <td>2</td>\n",
       "      <td>0</td>\n",
       "      <td>6</td>\n",
       "      <td>26</td>\n",
       "      <td>0</td>\n",
       "      <td>1</td>\n",
       "      <td>1</td>\n",
       "      <td>1</td>\n",
       "      <td>...</td>\n",
       "      <td>1.000000</td>\n",
       "      <td>0.000000</td>\n",
       "      <td>34</td>\n",
       "      <td>0.176471</td>\n",
       "      <td>0.058824</td>\n",
       "      <td>0.000000</td>\n",
       "      <td>0.764706</td>\n",
       "      <td>J151831.04+124303.7</td>\n",
       "      <td>229.629370</td>\n",
       "      <td>12.717679</td>\n",
       "    </tr>\n",
       "    <tr>\n",
       "      <th>63702</th>\n",
       "      <td>56f3dce35925d9004202833b</td>\n",
       "      <td>22</td>\n",
       "      <td>8</td>\n",
       "      <td>0</td>\n",
       "      <td>8</td>\n",
       "      <td>14</td>\n",
       "      <td>0</td>\n",
       "      <td>4</td>\n",
       "      <td>4</td>\n",
       "      <td>2</td>\n",
       "      <td>...</td>\n",
       "      <td>0.250000</td>\n",
       "      <td>0.250000</td>\n",
       "      <td>30</td>\n",
       "      <td>0.100000</td>\n",
       "      <td>0.166667</td>\n",
       "      <td>0.000000</td>\n",
       "      <td>0.733333</td>\n",
       "      <td>J095248.19+290326.0</td>\n",
       "      <td>148.200826</td>\n",
       "      <td>29.057222</td>\n",
       "    </tr>\n",
       "    <tr>\n",
       "      <th>85641</th>\n",
       "      <td>56f3de355925d90042032ea1</td>\n",
       "      <td>11</td>\n",
       "      <td>16</td>\n",
       "      <td>0</td>\n",
       "      <td>7</td>\n",
       "      <td>4</td>\n",
       "      <td>0</td>\n",
       "      <td>1</td>\n",
       "      <td>15</td>\n",
       "      <td>1</td>\n",
       "      <td>...</td>\n",
       "      <td>0.600000</td>\n",
       "      <td>0.400000</td>\n",
       "      <td>27</td>\n",
       "      <td>0.481481</td>\n",
       "      <td>0.037037</td>\n",
       "      <td>0.407407</td>\n",
       "      <td>0.074074</td>\n",
       "      <td>J160645.76+193028.8</td>\n",
       "      <td>241.688895</td>\n",
       "      <td>19.506952</td>\n",
       "    </tr>\n",
       "  </tbody>\n",
       "</table>\n",
       "<p>5 rows × 74 columns</p>\n",
       "</div>"
      ],
      "text/plain": [
       "                     subject_id  smooth-or-featured_smooth  \\\n",
       "63143  56f3dcdb5925d90042027edd                         30   \n",
       "68237  56f3dd2a5925d9004202a6a9                         16   \n",
       "80459  56f3dde55925d90042030625                         32   \n",
       "63702  56f3dce35925d9004202833b                         22   \n",
       "85641  56f3de355925d90042032ea1                         11   \n",
       "\n",
       "       smooth-or-featured_featured-or-disk  smooth-or-featured_artifact  \\\n",
       "63143                                    3                            0   \n",
       "68237                                   16                            0   \n",
       "80459                                    2                            0   \n",
       "63702                                    8                            0   \n",
       "85641                                   16                            0   \n",
       "\n",
       "       how-rounded_completely  how-rounded_in-between  \\\n",
       "63143                      25                       5   \n",
       "68237                       5                      11   \n",
       "80459                       6                      26   \n",
       "63702                       8                      14   \n",
       "85641                       7                       4   \n",
       "\n",
       "       how-rounded_cigar-shaped  disk-edge-on_yes  disk-edge-on_no  \\\n",
       "63143                         0                 1                2   \n",
       "68237                         0                 2               14   \n",
       "80459                         0                 1                1   \n",
       "63702                         0                 4                4   \n",
       "85641                         0                 1               15   \n",
       "\n",
       "       edge-on-bulge_rounded  ...  bulge-size_obvious_fraction  \\\n",
       "63143                      0  ...                     0.500000   \n",
       "68237                      2  ...                     0.785714   \n",
       "80459                      1  ...                     1.000000   \n",
       "63702                      2  ...                     0.250000   \n",
       "85641                      1  ...                     0.600000   \n",
       "\n",
       "       bulge-size_dominant_fraction  merging_total-votes  \\\n",
       "63143                      0.500000                   33   \n",
       "68237                      0.214286                   32   \n",
       "80459                      0.000000                   34   \n",
       "63702                      0.250000                   30   \n",
       "85641                      0.400000                   27   \n",
       "\n",
       "       merging_merger_fraction  merging_tidal-debris_fraction  \\\n",
       "63143                 0.151515                       0.212121   \n",
       "68237                 0.062500                       0.093750   \n",
       "80459                 0.176471                       0.058824   \n",
       "63702                 0.100000                       0.166667   \n",
       "85641                 0.481481                       0.037037   \n",
       "\n",
       "       merging_both_fraction  merging_neither_fraction              iauname  \\\n",
       "63143               0.000000                  0.636364  J082047.17+211359.8   \n",
       "68237               0.062500                  0.781250  J100351.67+283805.5   \n",
       "80459               0.000000                  0.764706  J151831.04+124303.7   \n",
       "63702               0.000000                  0.733333  J095248.19+290326.0   \n",
       "85641               0.407407                  0.074074  J160645.76+193028.8   \n",
       "\n",
       "               ra        dec  \n",
       "63143  125.196595  21.233286  \n",
       "68237  150.965354  28.634890  \n",
       "80459  229.629370  12.717679  \n",
       "63702  148.200826  29.057222  \n",
       "85641  241.688895  19.506952  \n",
       "\n",
       "[5 rows x 74 columns]"
      ]
     },
     "execution_count": 60,
     "metadata": {},
     "output_type": "execute_result"
    }
   ],
   "source": [
    "decals.sample(5)"
   ]
  },
  {
   "cell_type": "code",
   "execution_count": 61,
   "metadata": {},
   "outputs": [
    {
     "data": {
      "text/plain": [
       "<matplotlib.axes._subplots.AxesSubplot at 0x7f707c248a90>"
      ]
     },
     "execution_count": 61,
     "metadata": {},
     "output_type": "execute_result"
    },
    {
     "data": {
      "image/png": "[encoded data removed]",
      "text/plain": [
       "<Figure size 432x288 with 1 Axes>"
      ]
     },
     "metadata": {
      "needs_background": "light"
     },
     "output_type": "display_data"
    }
   ],
   "source": [
    "decals['smooth-or-featured_total-votes'].hist(bins=30)"
   ]
  },
  {
   "cell_type": "code",
   "execution_count": 62,
   "metadata": {},
   "outputs": [
    {
     "data": {
      "text/plain": [
       "0        0.441176\n",
       "1        0.057143\n",
       "2        0.027027\n",
       "3        0.319149\n",
       "4        0.130435\n",
       "           ...   \n",
       "94019    0.666667\n",
       "94020    0.416667\n",
       "94021    0.405405\n",
       "94022    0.062500\n",
       "94023    0.750000\n",
       "Name: smooth-or-featured_featured-or-disk_fraction, Length: 94024, dtype: float64"
      ]
     },
     "execution_count": 62,
     "metadata": {},
     "output_type": "execute_result"
    }
   ],
   "source": [
    "decals['smooth-or-featured_featured-or-disk_fraction']"
   ]
  },
  {
   "cell_type": "code",
   "execution_count": 63,
   "metadata": {},
   "outputs": [
    {
     "data": {
      "text/plain": [
       "<matplotlib.axes._subplots.AxesSubplot at 0x7f707d231290>"
      ]
     },
     "execution_count": 63,
     "metadata": {},
     "output_type": "execute_result"
    },
    {
     "data": {
      "image/png": "[encoded data removed]",
      "text/plain": [
       "<Figure size 432x288 with 1 Axes>"
      ]
     },
     "metadata": {
      "needs_background": "light"
     },
     "output_type": "display_data"
    }
   ],
   "source": [
    "decals['smooth-or-featured_featured-or-disk_fraction'].hist(range=[0., 1.], alpha=.5, density=True)\n",
    "gz2['t01_smooth_or_features_a02_features_or_disk_fraction'].hist(range=[0., 1.], alpha=.5, density=True)"
   ]
  },
  {
   "cell_type": "markdown",
   "metadata": {},
   "source": [
    "Not that big a shift - but remember decals goes much deeper! Let's crossmatch"
   ]
  },
  {
   "cell_type": "code",
   "execution_count": 64,
   "metadata": {},
   "outputs": [
    {
     "data": {
      "text/plain": [
       "33124"
      ]
     },
     "execution_count": 64,
     "metadata": {},
     "output_type": "execute_result"
    }
   ],
   "source": [
    "decals_gz2, _ = matching_utils.match_galaxies_to_catalog_pandas(decals, gz2)\n",
    "len(decals_gz2)"
   ]
  },
  {
   "cell_type": "code",
   "execution_count": 65,
   "metadata": {},
   "outputs": [
    {
     "data": {
      "text/plain": [
       "<matplotlib.axes._subplots.AxesSubplot at 0x7f707ddafbd0>"
      ]
     },
     "execution_count": 65,
     "metadata": {},
     "output_type": "execute_result"
    },
    {
     "data": {
      "image/png": "[encoded data removed]",
      "text/plain": [
       "<Figure size 432x288 with 1 Axes>"
      ]
     },
     "metadata": {
      "needs_background": "light"
     },
     "output_type": "display_data"
    }
   ],
   "source": [
    "bins = 20\n",
    "decals_gz2['smooth-or-featured_featured-or-disk_fraction'].hist(range=[0., 1.], alpha=.5, density=True, bins=bins)\n",
    "gz2['t01_smooth_or_features_a02_features_or_disk_fraction'].hist(range=[0., 1.], alpha=.5, density=True, bins=bins)"
   ]
  },
  {
   "cell_type": "code",
   "execution_count": 66,
   "metadata": {},
   "outputs": [
    {
     "data": {
      "image/png": "[encoded data removed]",
      "text/plain": [
       "<Figure size 432x432 with 3 Axes>"
      ]
     },
     "metadata": {
      "needs_background": "light"
     },
     "output_type": "display_data"
    }
   ],
   "source": [
    "\n",
    "g = sns.jointplot(data=decals_gz2, y='smooth-or-featured_featured-or-disk_fraction', x='t01_smooth_or_features_a02_features_or_disk_fraction', kind='hex', xlim=[0., 1.], ylim=[0., 1.])"
   ]
  },
  {
   "cell_type": "code",
   "execution_count": 67,
   "metadata": {},
   "outputs": [
    {
     "data": {
      "text/plain": [
       "<matplotlib.legend.Legend at 0x7f706ede4190>"
      ]
     },
     "execution_count": 67,
     "metadata": {},
     "output_type": "execute_result"
    },
    {
     "data": {
      "image/png": "[encoded data removed]",
      "text/plain": [
       "<Figure size 432x288 with 1 Axes>"
      ]
     },
     "metadata": {
      "needs_background": "light"
     },
     "output_type": "display_data"
    }
   ],
   "source": [
    "decals_gz2['smooth-or-featured_artifact_fraction'].hist(range=[0., .3], density=True, alpha=.5, label='DECALS')\n",
    "decals_gz2['t01_smooth_or_features_a03_star_or_artifact_fraction'].hist(range=[0., .3], density=True, alpha=.5, label='GZ2')\n",
    "plt.legend()"
   ]
  },
  {
   "cell_type": "code",
   "execution_count": null,
   "metadata": {},
   "outputs": [],
   "source": []
  },
  {
   "cell_type": "code",
   "execution_count": 68,
   "metadata": {},
   "outputs": [
    {
     "data": {
      "text/plain": [
       "Text(23.125, 0.5, 'GZ DECaLS \"Featured\" fraction')"
      ]
     },
     "execution_count": 68,
     "metadata": {},
     "output_type": "execute_result"
    },
    {
     "data": {
      "image/png": "[encoded data removed]",
      "text/plain": [
       "<Figure size 432x432 with 3 Axes>"
      ]
     },
     "metadata": {
      "needs_background": "light"
     },
     "output_type": "display_data"
    }
   ],
   "source": [
    "g = sns.jointplot(data=decals_gz2, y='smooth-or-featured_featured-or-disk_fraction', x='t01_smooth_or_features_a02_features_or_disk_fraction', kind='hex', xlim=[0., 1.], ylim=[0., 1.])\n",
    "# https://github.com/mwaskom/seaborn/blob/master/seaborn/axisgrid.py#L1741\n",
    "g.ax_joint.plot([0, 1.], [0., 1.], 'k--', alpha=.5)\n",
    "g.ax_joint.set_xlabel('GZ2 \"Featured\" fraction')\n",
    "g.ax_joint.set_ylabel('GZ DECaLS \"Featured\" fraction')\n",
    "# plt.savefig('featured_comparison.pdf')\n",
    "# plt.savefig('featured_comparison.png')"
   ]
  },
  {
   "cell_type": "code",
   "execution_count": null,
   "metadata": {},
   "outputs": [],
   "source": []
  },
  {
   "cell_type": "code",
   "execution_count": null,
   "metadata": {},
   "outputs": [],
   "source": []
  },
  {
   "cell_type": "code",
   "execution_count": null,
   "metadata": {},
   "outputs": [],
   "source": []
  },
  {
   "cell_type": "code",
   "execution_count": 69,
   "metadata": {},
   "outputs": [],
   "source": [
    "decals_gz2['smooth-or-featured_featured-or-disk_fraction_no_artifacts'] = decals_gz2['smooth-or-featured_featured-or-disk'] / (decals_gz2['smooth-or-featured_smooth'] + decals_gz2['smooth-or-featured_featured-or-disk'])\n",
    "decals_gz2['t01_smooth_or_features_a02_features_or_disk_fraction_no_artifacts'] = decals_gz2['t01_smooth_or_features_a02_features_or_disk_count'] / (decals_gz2['t01_smooth_or_features_a01_smooth_count'] + decals_gz2['t01_smooth_or_features_a02_features_or_disk_count'])"
   ]
  },
  {
   "cell_type": "code",
   "execution_count": 70,
   "metadata": {},
   "outputs": [
    {
     "ename": "ValueError",
     "evalue": "Could not interpret input 'smooth-or-featured_smooth_fraction_no_artifacts'",
     "output_type": "error",
     "traceback": [
      "\u001b[0;31m---------------------------------------------------------------------------\u001b[0m",
      "\u001b[0;31mValueError\u001b[0m                                Traceback (most recent call last)",
      "\u001b[0;32m<ipython-input-70-d1984e8bbaec>\u001b[0m in \u001b[0;36m<module>\u001b[0;34m\u001b[0m\n\u001b[0;32m----> 1\u001b[0;31m \u001b[0mg\u001b[0m \u001b[0;34m=\u001b[0m \u001b[0msns\u001b[0m\u001b[0;34m.\u001b[0m\u001b[0mjointplot\u001b[0m\u001b[0;34m(\u001b[0m\u001b[0mdata\u001b[0m\u001b[0;34m=\u001b[0m\u001b[0mdecals_gz2\u001b[0m\u001b[0;34m,\u001b[0m \u001b[0my\u001b[0m\u001b[0;34m=\u001b[0m\u001b[0;34m'smooth-or-featured_smooth_fraction_no_artifacts'\u001b[0m\u001b[0;34m,\u001b[0m \u001b[0mx\u001b[0m\u001b[0;34m=\u001b[0m\u001b[0;34m't01_smooth_or_features_a02_features_or_disk_fraction_no_artifacts'\u001b[0m\u001b[0;34m,\u001b[0m \u001b[0mkind\u001b[0m\u001b[0;34m=\u001b[0m\u001b[0;34m'hex'\u001b[0m\u001b[0;34m,\u001b[0m \u001b[0mxlim\u001b[0m\u001b[0;34m=\u001b[0m\u001b[0;34m[\u001b[0m\u001b[0;36m0.\u001b[0m\u001b[0;34m,\u001b[0m \u001b[0;36m1.\u001b[0m\u001b[0;34m]\u001b[0m\u001b[0;34m,\u001b[0m \u001b[0mylim\u001b[0m\u001b[0;34m=\u001b[0m\u001b[0;34m[\u001b[0m\u001b[0;36m0.\u001b[0m\u001b[0;34m,\u001b[0m \u001b[0;36m1.\u001b[0m\u001b[0;34m]\u001b[0m\u001b[0;34m)\u001b[0m\u001b[0;34m\u001b[0m\u001b[0;34m\u001b[0m\u001b[0m\n\u001b[0m\u001b[1;32m      2\u001b[0m \u001b[0;31m# https://github.com/mwaskom/seaborn/blob/master/seaborn/axisgrid.py#L1741\u001b[0m\u001b[0;34m\u001b[0m\u001b[0;34m\u001b[0m\u001b[0;34m\u001b[0m\u001b[0m\n\u001b[1;32m      3\u001b[0m \u001b[0mg\u001b[0m\u001b[0;34m.\u001b[0m\u001b[0max_joint\u001b[0m\u001b[0;34m.\u001b[0m\u001b[0mplot\u001b[0m\u001b[0;34m(\u001b[0m\u001b[0;34m[\u001b[0m\u001b[0;36m0\u001b[0m\u001b[0;34m,\u001b[0m \u001b[0;36m1.\u001b[0m\u001b[0;34m]\u001b[0m\u001b[0;34m,\u001b[0m \u001b[0;34m[\u001b[0m\u001b[0;36m0.\u001b[0m\u001b[0;34m,\u001b[0m \u001b[0;36m1.\u001b[0m\u001b[0;34m]\u001b[0m\u001b[0;34m,\u001b[0m \u001b[0;34m'k--'\u001b[0m\u001b[0;34m,\u001b[0m \u001b[0malpha\u001b[0m\u001b[0;34m=\u001b[0m\u001b[0;36m.5\u001b[0m\u001b[0;34m)\u001b[0m\u001b[0;34m\u001b[0m\u001b[0;34m\u001b[0m\u001b[0m\n",
      "\u001b[0;32m~/anaconda3/envs/zoobot/lib/python3.7/site-packages/seaborn/axisgrid.py\u001b[0m in \u001b[0;36mjointplot\u001b[0;34m(x, y, data, kind, stat_func, color, height, ratio, space, dropna, xlim, ylim, joint_kws, marginal_kws, annot_kws, **kwargs)\u001b[0m\n\u001b[1;32m   2282\u001b[0m     grid = JointGrid(x, y, data, dropna=dropna,\n\u001b[1;32m   2283\u001b[0m                      \u001b[0mheight\u001b[0m\u001b[0;34m=\u001b[0m\u001b[0mheight\u001b[0m\u001b[0;34m,\u001b[0m \u001b[0mratio\u001b[0m\u001b[0;34m=\u001b[0m\u001b[0mratio\u001b[0m\u001b[0;34m,\u001b[0m \u001b[0mspace\u001b[0m\u001b[0;34m=\u001b[0m\u001b[0mspace\u001b[0m\u001b[0;34m,\u001b[0m\u001b[0;34m\u001b[0m\u001b[0;34m\u001b[0m\u001b[0m\n\u001b[0;32m-> 2284\u001b[0;31m                      xlim=xlim, ylim=ylim)\n\u001b[0m\u001b[1;32m   2285\u001b[0m \u001b[0;34m\u001b[0m\u001b[0m\n\u001b[1;32m   2286\u001b[0m     \u001b[0;31m# Plot the data using the grid\u001b[0m\u001b[0;34m\u001b[0m\u001b[0;34m\u001b[0m\u001b[0;34m\u001b[0m\u001b[0m\n",
      "\u001b[0;32m~/anaconda3/envs/zoobot/lib/python3.7/site-packages/seaborn/axisgrid.py\u001b[0m in \u001b[0;36m__init__\u001b[0;34m(self, x, y, data, height, ratio, space, dropna, xlim, ylim, size)\u001b[0m\n\u001b[1;32m   1707\u001b[0m             \u001b[0;32mif\u001b[0m \u001b[0misinstance\u001b[0m\u001b[0;34m(\u001b[0m\u001b[0mvar\u001b[0m\u001b[0;34m,\u001b[0m \u001b[0mstring_types\u001b[0m\u001b[0;34m)\u001b[0m\u001b[0;34m:\u001b[0m\u001b[0;34m\u001b[0m\u001b[0;34m\u001b[0m\u001b[0m\n\u001b[1;32m   1708\u001b[0m                 \u001b[0merr\u001b[0m \u001b[0;34m=\u001b[0m \u001b[0;34m\"Could not interpret input '{}'\"\u001b[0m\u001b[0;34m.\u001b[0m\u001b[0mformat\u001b[0m\u001b[0;34m(\u001b[0m\u001b[0mvar\u001b[0m\u001b[0;34m)\u001b[0m\u001b[0;34m\u001b[0m\u001b[0;34m\u001b[0m\u001b[0m\n\u001b[0;32m-> 1709\u001b[0;31m                 \u001b[0;32mraise\u001b[0m \u001b[0mValueError\u001b[0m\u001b[0;34m(\u001b[0m\u001b[0merr\u001b[0m\u001b[0;34m)\u001b[0m\u001b[0;34m\u001b[0m\u001b[0;34m\u001b[0m\u001b[0m\n\u001b[0m\u001b[1;32m   1710\u001b[0m \u001b[0;34m\u001b[0m\u001b[0m\n\u001b[1;32m   1711\u001b[0m         \u001b[0;31m# Find the names of the variables\u001b[0m\u001b[0;34m\u001b[0m\u001b[0;34m\u001b[0m\u001b[0;34m\u001b[0m\u001b[0m\n",
      "\u001b[0;31mValueError\u001b[0m: Could not interpret input 'smooth-or-featured_smooth_fraction_no_artifacts'"
     ]
    },
    {
     "data": {
      "image/png": "[encoded data removed]",
      "text/plain": [
       "<Figure size 432x432 with 3 Axes>"
      ]
     },
     "metadata": {
      "needs_background": "light"
     },
     "output_type": "display_data"
    }
   ],
   "source": [
    "g = sns.jointplot(data=decals_gz2, y='smooth-or-featured_smooth_fraction_no_artifacts', x='t01_smooth_or_features_a02_features_or_disk_fraction_no_artifacts', kind='hex', xlim=[0., 1.], ylim=[0., 1.])\n",
    "# https://github.com/mwaskom/seaborn/blob/master/seaborn/axisgrid.py#L1741\n",
    "g.ax_joint.plot([0, 1.], [0., 1.], 'k--', alpha=.5)"
   ]
  },
  {
   "cell_type": "code",
   "execution_count": null,
   "metadata": {},
   "outputs": [],
   "source": [
    "# fig, ax = plt.subplots(with sns.color_palette(\"Blues\"):\n",
    "#     plt.hexbin(decals_gz2['smooth-or-featured_featured-or-disk_fraction'], decals_gz2['t01_smooth_or_features_a02_features_or_disk_fraction'], gridsize=30, cmap='Blues')\n",
    "#     # cmap=sns.color_palette(\"Blues\")"
   ]
  },
  {
   "cell_type": "code",
   "execution_count": null,
   "metadata": {},
   "outputs": [],
   "source": []
  },
  {
   "cell_type": "code",
   "execution_count": null,
   "metadata": {},
   "outputs": [],
   "source": [
    "decals_gz2['gz2_png_loc'] = decals_gz2['png_loc'].apply(lambda x: x.replace('/Volumes/alpha', '/media/walml/beta/galaxy_zoo'))\n",
    "decals_gz2['gz2_png_loc']"
   ]
  },
  {
   "cell_type": "code",
   "execution_count": null,
   "metadata": {},
   "outputs": [],
   "source": [
    "decals_gz2['decals_png_loc'] = decals_gz2['iauname'].apply(lambda x: '/media/walml/beta/decals/png_native/dr5/' + x[:4] + '/' + x + '.png')\n",
    "decals_gz2['decals_png_loc']"
   ]
  },
  {
   "cell_type": "code",
   "execution_count": null,
   "metadata": {},
   "outputs": [],
   "source": [
    "def show_image_comparison(df, num_galaxies=5):\n",
    "    df = df.query('both_images_exist')\n",
    "    scale = 3.\n",
    "    plt.figure(figsize=(scale * 2, scale * num_galaxies * 1.025))\n",
    "    gs1 = gridspec.GridSpec(num_galaxies, 2)\n",
    "    gs1.update(wspace=0.0, hspace=0.0)\n",
    "    text_locs = (30, 60)\n",
    "    size = 14\n",
    "    for row_n in range(num_galaxies):\n",
    "        \n",
    "        galaxy = df.iloc[row_n]\n",
    "        \n",
    "        data = np.array(Image.open(galaxy['gz2_png_loc']))\n",
    "        ax = plt.subplot(gs1[row_n, 0])\n",
    "        ax.imshow(data)\n",
    "        ax.axis('off')\n",
    "        ax.text(*text_locs, 'GZ2: {:.2f}'.format(galaxy['t01_smooth_or_features_a02_features_or_disk_fraction']), color='r', size=size)\n",
    "        \n",
    "        data = np.array(Image.open(galaxy['decals_png_loc']))\n",
    "        ax = plt.subplot(gs1[row_n, 1])\n",
    "        ax.imshow(data)\n",
    "        ax.axis('off')\n",
    "        ax.text(*text_locs, 'DECaLS:{:.2f}'.format(galaxy['smooth-or-featured_featured-or-disk_fraction']), color='r', size=size)\n",
    "        \n",
    "\n"
   ]
  },
  {
   "cell_type": "code",
   "execution_count": null,
   "metadata": {},
   "outputs": [],
   "source": [
    "decals_gz2['change_in_featured_frac'] = decals_gz2['smooth-or-featured_featured-or-disk_fraction'] - decals_gz2['t01_smooth_or_features_a02_features_or_disk_fraction']\n",
    "somewhat_featured = decals_gz2[(decals_gz2['t01_smooth_or_features_a02_features_or_disk_fraction'] > 0.25) & (decals_gz2['t01_smooth_or_features_a02_features_or_disk_fraction'] < 0.75)]\n",
    "len(decals_gz2), len(somewhat_featured)"
   ]
  },
  {
   "cell_type": "code",
   "execution_count": null,
   "metadata": {},
   "outputs": [],
   "source": [
    "median_pc_increase = (somewhat_featured['change_in_featured_frac'] / decals_gz2['smooth-or-featured_featured-or-disk_fraction']).median()\n",
    "median_pc_increase"
   ]
  },
  {
   "cell_type": "code",
   "execution_count": null,
   "metadata": {},
   "outputs": [],
   "source": [
    "median_increase = somewhat_featured['change_in_featured_frac'].median()\n",
    "median_increase"
   ]
  },
  {
   "cell_type": "code",
   "execution_count": null,
   "metadata": {},
   "outputs": [],
   "source": [
    "show_image_comparison(somewhat_featured.sample(10))"
   ]
  },
  {
   "cell_type": "code",
   "execution_count": null,
   "metadata": {},
   "outputs": [],
   "source": [
    "decals_gz2['gz2_png_exists'] = decals_gz2['gz2_png_loc'].apply(os.path.isfile)\n",
    "decals_gz2['decals_png_exists'] = decals_gz2['decals_png_loc'].apply(os.path.isfile)\n",
    "decals_gz2['both_images_exist'] = decals_gz2['gz2_png_exists'] & decals_gz2['decals_png_exists']"
   ]
  },
  {
   "cell_type": "code",
   "execution_count": null,
   "metadata": {},
   "outputs": [],
   "source": [
    "bad_iaunames = ['J152639.16+010632.0']  # dodgy images"
   ]
  },
  {
   "cell_type": "code",
   "execution_count": null,
   "metadata": {},
   "outputs": [],
   "source": [
    "decals_gz2 = decals_gz2[~decals_gz2['iauname'].isin(bad_iaunames)]"
   ]
  },
  {
   "cell_type": "code",
   "execution_count": null,
   "metadata": {},
   "outputs": [],
   "source": [
    "\n",
    "show_image_comparison(decals_gz2.sort_values('change_in_featured_frac', ascending=False))"
   ]
  },
  {
   "cell_type": "code",
   "execution_count": null,
   "metadata": {},
   "outputs": [],
   "source": [
    "decals_gz2['change_in_featured_frac'] = decals_gz2['smooth-or-featured_featured-or-disk_fraction'] - decals_gz2['t01_smooth_or_features_a02_features_or_disk_fraction']\n",
    "show_image_comparison(decals_gz2.sort_values('change_in_featured_frac', ascending=False)[:1000].sample(10), num_galaxies=6)\n",
    "# plt.gcf().savefig('featured_galaxies_big_shift.pdf')\n",
    "# plt.gcf().savefig('featured_galaxies_big_shift.png')"
   ]
  },
  {
   "cell_type": "code",
   "execution_count": null,
   "metadata": {},
   "outputs": [],
   "source": [
    "decals_gz2.columns.values"
   ]
  },
  {
   "cell_type": "code",
   "execution_count": null,
   "metadata": {},
   "outputs": [],
   "source": []
  },
  {
   "cell_type": "code",
   "execution_count": null,
   "metadata": {},
   "outputs": [],
   "source": [
    "## and for featured galaxies"
   ]
  },
  {
   "cell_type": "code",
   "execution_count": null,
   "metadata": {},
   "outputs": [],
   "source": [
    "featured = decals_gz2[(decals_gz2['t01_smooth_or_features_a02_features_or_disk_fraction'] > .5) & (decals_gz2['smooth-or-featured_featured-or-disk_fraction'] > 0.5)]\n",
    "featured['t04_spiral_a08_spiral_fraction'].hist(alpha=.5, density=True, label='GZ2', bins=30)\n",
    "featured['has-spiral-arms_yes_fraction'].hist(alpha=.5, density=True, label='DECALS', bins=30)\n",
    "plt.legend()\n",
    "plt.xlim([0., 1.])"
   ]
  },
  {
   "cell_type": "code",
   "execution_count": null,
   "metadata": {},
   "outputs": [],
   "source": [
    "featured['t04_spiral_a08_spiral_fraction'].median(), featured['has-spiral-arms_yes_fraction'].median()"
   ]
  },
  {
   "cell_type": "code",
   "execution_count": null,
   "metadata": {},
   "outputs": [],
   "source": [
    "featured['t04_spiral_a08_spiral_fraction'].median(), featured['has-spiral-arms_yes_fraction'].median()"
   ]
  },
  {
   "cell_type": "code",
   "execution_count": null,
   "metadata": {},
   "outputs": [],
   "source": [
    "\n",
    "featured['t03_bar_a06_bar_fraction'].hist(alpha=.5, density=True, label='GZ2', bins=30)\n",
    "featured['bar_yes_fraction'].hist(alpha=.5, density=True, label='DECALS', bins=30)\n",
    "plt.legend()\n",
    "plt.xlim([0., 1.])"
   ]
  },
  {
   "cell_type": "code",
   "execution_count": null,
   "metadata": {},
   "outputs": [],
   "source": [
    "featured['t03_bar_a06_bar_fraction'].median(), featured['bar_yes_fraction'].median()"
   ]
  },
  {
   "cell_type": "code",
   "execution_count": null,
   "metadata": {},
   "outputs": [],
   "source": [
    "\n",
    "featured['t11_arms_number_a37_cant_tell_fraction'].hist(alpha=.5, density=True, label='GZ2', bins=30)\n",
    "featured['spiral-arm-count_cant-tell_fraction'].hist(alpha=.5, density=True, label='DECALS', bins=30)\n",
    "plt.legend()\n",
    "plt.xlim([0., 1.])"
   ]
  },
  {
   "cell_type": "code",
   "execution_count": null,
   "metadata": {},
   "outputs": [],
   "source": [
    "\n",
    "g = sns.joifeatured['has-spiral-arms_yes_fraction'].hist()ntplot(data=decals_gz2, y='has-spiral-arms_yes_fraction', x='t01_smooth_or_features_a02_features_or_disk_fraction', kind='hex', xlim=[0., 1.], ylim=[0., 1.])\n",
    "# https://github.com/mwaskom/seaborn/blob/master/seaborn/axisgrid.py#L1741\n",
    "g.ax_joint.plot([0, 1.], [0., 1.], 'k--', alpha=.5)\n",
    "# g.ax_joint.set_xlabel('GZ2 \"Featured\" fraction')\n",
    "# g.ax_joint.set_ylabel('GZ DECaLS \"Featured\" fraction')\n",
    "# plt.savefig('featured_comparison.pdf')\n",
    "# plt.savefig('featured_comparison.png')"
   ]
  }
 ],
 "metadata": {
  "kernelspec": {
   "display_name": "Python 3",
   "language": "python",
   "name": "python3"
  },
  "language_info": {
   "codemirror_mode": {
    "name": "ipython",
    "version": 3
   },
   "file_extension": ".py",
   "mimetype": "text/x-python",
   "name": "python",
   "nbconvert_exporter": "python",
   "pygments_lexer": "ipython3",
   "version": "3.7.6"
  }
 },
 "nbformat": 4,
 "nbformat_minor": 4
}
