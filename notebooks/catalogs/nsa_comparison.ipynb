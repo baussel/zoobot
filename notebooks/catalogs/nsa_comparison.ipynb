{
 "cells": [
  {
   "cell_type": "code",
   "execution_count": 31,
   "metadata": {},
   "outputs": [],
   "source": [
    "from astropy.table import Table\n",
    "import numpy as np"
   ]
  },
  {
   "cell_type": "code",
   "execution_count": 10,
   "metadata": {},
   "outputs": [],
   "source": [
    "v100 = Table.read('/media/walml/beta/galaxy_zoo/decals/catalogs/raw/nsa_v1_0_0.fits')"
   ]
  },
  {
   "cell_type": "code",
   "execution_count": 11,
   "metadata": {},
   "outputs": [],
   "source": [
    "v101 = Table.read('/media/walml/beta/galaxy_zoo/decals/catalogs/raw/nsa_v1_0_1.fits')"
   ]
  },
  {
   "cell_type": "code",
   "execution_count": 12,
   "metadata": {},
   "outputs": [
    {
     "data": {
      "text/plain": [
       "True"
      ]
     },
     "execution_count": 12,
     "metadata": {},
     "output_type": "execute_result"
    }
   ],
   "source": [
    "set(v100['IAUNAME']) == set(v101['IAUNAME'])"
   ]
  },
  {
   "cell_type": "code",
   "execution_count": 14,
   "metadata": {},
   "outputs": [
    {
     "data": {
      "text/plain": [
       "True"
      ]
     },
     "execution_count": 14,
     "metadata": {},
     "output_type": "execute_result"
    }
   ],
   "source": [
    "all(v100['Z'] == v101['Z'])"
   ]
  },
  {
   "cell_type": "code",
   "execution_count": 17,
   "metadata": {},
   "outputs": [
    {
     "data": {
      "text/plain": [
       "<TableColumns names=('IAUNAME','SUBDIR','RA','DEC','ISDSS','INED','ISIXDF','IALFALFA','IZCAT','ITWODF','MAG','Z','ZSRC','SIZE','RUN','CAMCOL','FIELD','RERUN','XPOS','YPOS','NSAID','ZDIST','NMGY','NMGY_IVAR','OK','RNMGY','ABSMAG','AMIVAR','EXTINCTION','KCORRECT','KCOEFF','MTOL','B300','B1000','METS','MASS','XCEN','YCEN','NPROF','PROFMEAN','PROFMEAN_IVAR','QSTOKES','USTOKES','BASTOKES','PHISTOKES','PETROFLUX','PETROFLUX_IVAR','FIBERFLUX','FIBERFLUX_IVAR','BA50','PHI50','BA90','PHI90','SERSICFLUX','SERSICFLUX_IVAR','SERSIC_N','SERSIC_BA','SERSIC_PHI','ASYMMETRY','CLUMPY','DFLAGS','AID','PID','DVERSION','PROFTHETA','PETROTHETA','PETROTH50','PETROTH90','SERSIC_TH50','PLATE','FIBERID','MJD','RACAT','DECCAT','ZSDSSLINE','SURVEY','PROGRAMNAME','PLATEQUALITY','TILE','PLUG_RA','PLUG_DEC')>"
      ]
     },
     "execution_count": 17,
     "metadata": {},
     "output_type": "execute_result"
    }
   ],
   "source": [
    "v100.columns"
   ]
  },
  {
   "cell_type": "code",
   "execution_count": 18,
   "metadata": {},
   "outputs": [
    {
     "data": {
      "text/plain": [
       "<TableColumns names=('IAUNAME','SUBDIR','RA','DEC','ISDSS','INED','ISIXDF','IALFALFA','IZCAT','ITWODF','MAG','Z','ZSRC','SIZE','RUN','CAMCOL','FIELD','RERUN','XPOS','YPOS','NSAID','ZDIST','SERSIC_NMGY','SERSIC_NMGY_IVAR','SERSIC_OK','SERSIC_RNMGY','SERSIC_ABSMAG','SERSIC_AMIVAR','EXTINCTION','SERSIC_KCORRECT','SERSIC_KCOEFF','SERSIC_MTOL','SERSIC_B300','SERSIC_B1000','SERSIC_METS','SERSIC_MASS','XCEN','YCEN','NPROF','PROFMEAN','PROFMEAN_IVAR','QSTOKES','USTOKES','BASTOKES','PHISTOKES','PETRO_FLUX','PETRO_FLUX_IVAR','FIBER_FLUX','FIBER_FLUX_IVAR','PETRO_BA50','PETRO_PHI50','PETRO_BA90','PETRO_PHI90','SERSIC_FLUX','SERSIC_FLUX_IVAR','SERSIC_N','SERSIC_BA','SERSIC_PHI','ASYMMETRY','CLUMPY','DFLAGS','AID','PID','DVERSION','PROFTHETA','PETRO_THETA','PETRO_TH50','PETRO_TH90','SERSIC_TH50','PLATE','FIBERID','MJD','RACAT','DECCAT','ZSDSSLINE','SURVEY','PROGRAMNAME','PLATEQUALITY','TILE','PLUG_RA','PLUG_DEC','ELPETRO_BA','ELPETRO_PHI','ELPETRO_FLUX_R','ELPETRO_FLUX_IVAR_R','ELPETRO_THETA_R','ELPETRO_TH50_R','ELPETRO_TH90_R','ELPETRO_THETA','ELPETRO_FLUX','ELPETRO_FLUX_IVAR','ELPETRO_TH50','ELPETRO_TH90','ELPETRO_APCORR_R','ELPETRO_APCORR','ELPETRO_APCORR_SELF','ELPETRO_NMGY','ELPETRO_NMGY_IVAR','ELPETRO_OK','ELPETRO_RNMGY','ELPETRO_ABSMAG','ELPETRO_AMIVAR','ELPETRO_KCORRECT','ELPETRO_KCOEFF','ELPETRO_MASS','ELPETRO_MTOL','ELPETRO_B300','ELPETRO_B1000','ELPETRO_METS','IN_DR7_LSS')>"
      ]
     },
     "execution_count": 18,
     "metadata": {},
     "output_type": "execute_result"
    }
   ],
   "source": [
    "v101.columns"
   ]
  },
  {
   "cell_type": "code",
   "execution_count": 36,
   "metadata": {},
   "outputs": [
    {
     "name": "stdout",
     "output_type": "stream",
     "text": [
      "MAG\n",
      "RA\n",
      "DEC\n",
      "Z\n",
      "PETROTH50\n",
      "PETROTH90\n"
     ]
    }
   ],
   "source": [
    "col_pairs = [\n",
    "    ('MAG', 'MAG'),\n",
    "#     ('NMGY', 'SERSIC_NMGY'),\n",
    "    ('RA', 'RA'),\n",
    "    ('DEC', 'DEC'),\n",
    "    ('Z', 'Z'),\n",
    "    ('PETROTH50', 'PETRO_TH50'),\n",
    "    ('PETROTH90', 'PETRO_TH90')\n",
    "]\n",
    "\n",
    "for col_a, col_b in col_pairs:\n",
    "    print(col_a)\n",
    "    assert np.all(v100[col_a] == v101[col_b])"
   ]
  },
  {
   "cell_type": "code",
   "execution_count": 35,
   "metadata": {},
   "outputs": [
    {
     "data": {
      "text/plain": [
       "0.9999984409323848"
      ]
     },
     "execution_count": 35,
     "metadata": {},
     "output_type": "execute_result"
    }
   ],
   "source": [
    "(v100['NMGY'] == v101['SERSIC_NMGY']).mean()"
   ]
  },
  {
   "cell_type": "code",
   "execution_count": null,
   "metadata": {},
   "outputs": [],
   "source": []
  }
 ],
 "metadata": {
  "kernelspec": {
   "display_name": "Python 3",
   "language": "python",
   "name": "python3"
  },
  "language_info": {
   "codemirror_mode": {
    "name": "ipython",
    "version": 3
   },
   "file_extension": ".py",
   "mimetype": "text/x-python",
   "name": "python",
   "nbconvert_exporter": "python",
   "pygments_lexer": "ipython3",
   "version": "3.7.6"
  }
 },
 "nbformat": 4,
 "nbformat_minor": 4
}
