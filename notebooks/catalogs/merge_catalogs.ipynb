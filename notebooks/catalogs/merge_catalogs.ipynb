{
 "cells": [
  {
   "cell_type": "code",
   "execution_count": 1,
   "metadata": {},
   "outputs": [],
   "source": [
    "import os\n",
    "import json\n",
    "import os\n",
    "\n",
    "import matplotlib.pyplot as plt\n",
    "import pandas as pd\n",
    "from astropy.table import Table\n",
    "import numpy as np\n",
    "import cartopy.crs as ccrs\n",
    "import seaborn as sns\n",
    "from astropy.table import Table\n",
    "from matplotlib.ticker import FuncFormatter"
   ]
  },
  {
   "cell_type": "code",
   "execution_count": 2,
   "metadata": {},
   "outputs": [],
   "source": [
    "os.chdir('/home/walml/repos/zoobot')"
   ]
  },
  {
   "cell_type": "code",
   "execution_count": 3,
   "metadata": {},
   "outputs": [
    {
     "name": "stderr",
     "output_type": "stream",
     "text": [
      "/home/walml/anaconda3/envs/zoobot/lib/python3.7/site-packages/IPython/core/interactiveshell.py:3063: DtypeWarning: Columns (93) have mixed types.Specify dtype option on import or set low_memory=False.\n",
      "  interactivity=interactivity, compiler=compiler, result=result)\n"
     ]
    }
   ],
   "source": [
    "# 'Fixed' classifications from *_fixes.ipynb\n",
    "# dr2_c = pd.read_csv('dr2_aggregated_votes_all_subjects.csv')  # now also includes subject info, like DR5\n",
    "dr2_c = pd.read_csv('dr2_aggregated_votes_good_subjects.csv')  # now also includes subject info, like DR5\n",
    "assert not any(dr2_c['iauname'].duplicated())\n",
    "# will get from NSA again anyway\n",
    "del dr2_c['ra']\n",
    "del dr2_c['dec']\n",
    "del dr2_c['redshift']\n",
    "\n",
    "dr5_c = pd.read_parquet('/home/walml/repos/zoobot/current_final_dr5_result_without_metadata.parquet')\n",
    "assert not any(dr5_c['iauname'].duplicated())"
   ]
  },
  {
   "cell_type": "code",
   "execution_count": 4,
   "metadata": {},
   "outputs": [
    {
     "data": {
      "text/plain": [
       "92960"
      ]
     },
     "execution_count": 4,
     "metadata": {},
     "output_type": "execute_result"
    }
   ],
   "source": [
    "len(dr2_c)"
   ]
  },
  {
   "cell_type": "code",
   "execution_count": 5,
   "metadata": {},
   "outputs": [
    {
     "data": {
      "text/plain": [
       "active_baseline    192557\n",
       "pre_active          50946\n",
       "active_priority      6939\n",
       "calibration          1594\n",
       "targeted             1250\n",
       "Name: upload_group, dtype: int64"
      ]
     },
     "execution_count": 5,
     "metadata": {},
     "output_type": "execute_result"
    }
   ],
   "source": [
    "dr5_c['upload_group'].value_counts()"
   ]
  },
  {
   "cell_type": "markdown",
   "metadata": {},
   "source": [
    "### Merge DR1/2 subject catalog with iauname, ra, dec, from NSA.\n"
   ]
  },
  {
   "cell_type": "code",
   "execution_count": 6,
   "metadata": {},
   "outputs": [],
   "source": [
    "\n",
    "# nsa = Table.read('/media/walml/beta/galaxy_zoo/decals/catalogs/raw/nsa_v1_0_0.fits')\n",
    "nsa = Table.read('/media/walml/beta/galaxy_zoo/decals/catalogs/raw/nsa_v1_0_1.fits')\n",
    "\n",
    "nsa = nsa[['RA', 'DEC', 'IAUNAME', 'PETRO_THETA', 'PETRO_TH50', 'PETRO_TH90', 'ELPETRO_ABSMAG', 'SERSIC_NMGY', 'Z']]\n",
    "\n",
    "nsa['ELPETRO_ABSMAG_R'] = nsa['ELPETRO_ABSMAG'][:, 4]\n",
    "nsa['SERSIC_NMGY_R'] = nsa['SERSIC_NMGY'][:, 4]\n",
    "del nsa['ELPETRO_ABSMAG']\n",
    "del nsa['SERSIC_NMGY']\n",
    "\n",
    "nsa['REDSHIFT'] = nsa['Z']\n",
    "del nsa['Z']\n",
    "\n",
    "nsa = nsa.to_pandas()\n",
    "for col in nsa.columns.values:\n",
    "    nsa[col.lower()] = nsa[col]\n",
    "    del nsa[col]\n",
    "\n",
    "nsa['iauname'] = nsa['iauname'].str.decode('utf8')\n",
    "assert not any(nsa['iauname'].duplicated())\n"
   ]
  },
  {
   "cell_type": "code",
   "execution_count": 7,
   "metadata": {},
   "outputs": [
    {
     "data": {
      "text/plain": [
       "Index(['ra', 'dec', 'iauname', 'petro_theta', 'petro_th50', 'petro_th90',\n",
       "       'elpetro_absmag_r', 'sersic_nmgy_r', 'redshift'],\n",
       "      dtype='object')"
      ]
     },
     "execution_count": 7,
     "metadata": {},
     "output_type": "execute_result"
    }
   ],
   "source": [
    "nsa.columns"
   ]
  },
  {
   "cell_type": "code",
   "execution_count": 8,
   "metadata": {},
   "outputs": [
    {
     "data": {
      "text/html": [
       "<div>\n",
       "<style scoped>\n",
       "    .dataframe tbody tr th:only-of-type {\n",
       "        vertical-align: middle;\n",
       "    }\n",
       "\n",
       "    .dataframe tbody tr th {\n",
       "        vertical-align: top;\n",
       "    }\n",
       "\n",
       "    .dataframe thead th {\n",
       "        text-align: right;\n",
       "    }\n",
       "</style>\n",
       "<table border=\"1\" class=\"dataframe\">\n",
       "  <thead>\n",
       "    <tr style=\"text-align: right;\">\n",
       "      <th></th>\n",
       "      <th>ra</th>\n",
       "      <th>dec</th>\n",
       "      <th>iauname</th>\n",
       "      <th>petro_theta</th>\n",
       "      <th>petro_th50</th>\n",
       "      <th>petro_th90</th>\n",
       "      <th>elpetro_absmag_r</th>\n",
       "      <th>sersic_nmgy_r</th>\n",
       "      <th>redshift</th>\n",
       "    </tr>\n",
       "  </thead>\n",
       "  <tbody>\n",
       "    <tr>\n",
       "      <th>0</th>\n",
       "      <td>146.714215</td>\n",
       "      <td>-1.041280</td>\n",
       "      <td>J094651.40-010228.5</td>\n",
       "      <td>7.247893</td>\n",
       "      <td>3.464192</td>\n",
       "      <td>10.453795</td>\n",
       "      <td>-19.303656</td>\n",
       "      <td>1789.257202</td>\n",
       "      <td>0.021222</td>\n",
       "    </tr>\n",
       "    <tr>\n",
       "      <th>1</th>\n",
       "      <td>146.628585</td>\n",
       "      <td>-0.765162</td>\n",
       "      <td>J094630.85-004554.5</td>\n",
       "      <td>5.617822</td>\n",
       "      <td>2.326989</td>\n",
       "      <td>6.721991</td>\n",
       "      <td>-19.976496</td>\n",
       "      <td>229.840393</td>\n",
       "      <td>0.064656</td>\n",
       "    </tr>\n",
       "    <tr>\n",
       "      <th>2</th>\n",
       "      <td>146.631706</td>\n",
       "      <td>-0.988347</td>\n",
       "      <td>J094631.59-005917.7</td>\n",
       "      <td>4.769891</td>\n",
       "      <td>2.278736</td>\n",
       "      <td>5.177910</td>\n",
       "      <td>-18.431812</td>\n",
       "      <td>82.228149</td>\n",
       "      <td>0.052654</td>\n",
       "    </tr>\n",
       "    <tr>\n",
       "      <th>3</th>\n",
       "      <td>146.934129</td>\n",
       "      <td>-0.670405</td>\n",
       "      <td>J094744.18-004013.4</td>\n",
       "      <td>6.243227</td>\n",
       "      <td>2.655191</td>\n",
       "      <td>9.177605</td>\n",
       "      <td>-21.559162</td>\n",
       "      <td>277.761200</td>\n",
       "      <td>0.121270</td>\n",
       "    </tr>\n",
       "    <tr>\n",
       "      <th>4</th>\n",
       "      <td>146.963500</td>\n",
       "      <td>-0.544776</td>\n",
       "      <td>J094751.74-003242.0</td>\n",
       "      <td>8.891541</td>\n",
       "      <td>4.383704</td>\n",
       "      <td>10.253274</td>\n",
       "      <td>-19.100992</td>\n",
       "      <td>132.772156</td>\n",
       "      <td>0.055981</td>\n",
       "    </tr>\n",
       "  </tbody>\n",
       "</table>\n",
       "</div>"
      ],
      "text/plain": [
       "           ra       dec              iauname  petro_theta  petro_th50  \\\n",
       "0  146.714215 -1.041280  J094651.40-010228.5     7.247893    3.464192   \n",
       "1  146.628585 -0.765162  J094630.85-004554.5     5.617822    2.326989   \n",
       "2  146.631706 -0.988347  J094631.59-005917.7     4.769891    2.278736   \n",
       "3  146.934129 -0.670405  J094744.18-004013.4     6.243227    2.655191   \n",
       "4  146.963500 -0.544776  J094751.74-003242.0     8.891541    4.383704   \n",
       "\n",
       "   petro_th90  elpetro_absmag_r  sersic_nmgy_r  redshift  \n",
       "0   10.453795        -19.303656    1789.257202  0.021222  \n",
       "1    6.721991        -19.976496     229.840393  0.064656  \n",
       "2    5.177910        -18.431812      82.228149  0.052654  \n",
       "3    9.177605        -21.559162     277.761200  0.121270  \n",
       "4   10.253274        -19.100992     132.772156  0.055981  "
      ]
     },
     "execution_count": 8,
     "metadata": {},
     "output_type": "execute_result"
    }
   ],
   "source": [
    "nsa.head()"
   ]
  },
  {
   "cell_type": "code",
   "execution_count": 9,
   "metadata": {},
   "outputs": [],
   "source": [
    "# metadata_cols = ['iauname', 'ra', 'dec', 'petrotheta', 'petroth50', 'petroth90', 'rnmgy_r', 'redshift']\n",
    "dr2 = pd.merge(dr2_c, nsa, on='iauname', how='inner')\n",
    "assert len(dr2) == len(dr2_c)  # all must match exactly once\n",
    "assert not any(dr2['subject_id'].duplicated())\n",
    "assert not any(dr2['iauname'].duplicated())"
   ]
  },
  {
   "cell_type": "code",
   "execution_count": 10,
   "metadata": {},
   "outputs": [
    {
     "data": {
      "text/plain": [
       "dr2_jpeg_filled           False\n",
       "good_subject_image         True\n",
       "ra                       158.66\n",
       "dec                    -0.85268\n",
       "petro_theta             5.98512\n",
       "petro_th50              2.88914\n",
       "petro_th90              6.54693\n",
       "elpetro_absmag_r        -21.084\n",
       "sersic_nmgy_r           520.811\n",
       "redshift              0.0737827\n",
       "Name: 0, dtype: object"
      ]
     },
     "execution_count": 10,
     "metadata": {},
     "output_type": "execute_result"
    }
   ],
   "source": [
    "dr2.iloc[0][-10:]  # "
   ]
  },
  {
   "cell_type": "code",
   "execution_count": 11,
   "metadata": {},
   "outputs": [],
   "source": [
    "dr2['active_learning_on'] = False\n",
    "dr2['upload_group'] = 'pre_active'"
   ]
  },
  {
   "cell_type": "code",
   "execution_count": 12,
   "metadata": {},
   "outputs": [
    {
     "data": {
      "text/html": [
       "<div>\n",
       "<style scoped>\n",
       "    .dataframe tbody tr th:only-of-type {\n",
       "        vertical-align: middle;\n",
       "    }\n",
       "\n",
       "    .dataframe tbody tr th {\n",
       "        vertical-align: top;\n",
       "    }\n",
       "\n",
       "    .dataframe thead th {\n",
       "        text-align: right;\n",
       "    }\n",
       "</style>\n",
       "<table border=\"1\" class=\"dataframe\">\n",
       "  <thead>\n",
       "    <tr style=\"text-align: right;\">\n",
       "      <th></th>\n",
       "      <th>subject_id</th>\n",
       "      <th>smooth-or-featured_smooth</th>\n",
       "      <th>smooth-or-featured_featured-or-disk</th>\n",
       "      <th>smooth-or-featured_artifact</th>\n",
       "      <th>how-rounded_completely</th>\n",
       "      <th>how-rounded_in-between</th>\n",
       "      <th>how-rounded_cigar-shaped</th>\n",
       "      <th>disk-edge-on_yes</th>\n",
       "      <th>disk-edge-on_no</th>\n",
       "      <th>edge-on-bulge_rounded</th>\n",
       "      <th>...</th>\n",
       "      <th>ra</th>\n",
       "      <th>dec</th>\n",
       "      <th>petro_theta</th>\n",
       "      <th>petro_th50</th>\n",
       "      <th>petro_th90</th>\n",
       "      <th>elpetro_absmag_r</th>\n",
       "      <th>sersic_nmgy_r</th>\n",
       "      <th>redshift</th>\n",
       "      <th>active_learning_on</th>\n",
       "      <th>upload_group</th>\n",
       "    </tr>\n",
       "  </thead>\n",
       "  <tbody>\n",
       "    <tr>\n",
       "      <th>0</th>\n",
       "      <td>55a7d7a27a726119cd00000b</td>\n",
       "      <td>19</td>\n",
       "      <td>15</td>\n",
       "      <td>5</td>\n",
       "      <td>16</td>\n",
       "      <td>2</td>\n",
       "      <td>1</td>\n",
       "      <td>2</td>\n",
       "      <td>13</td>\n",
       "      <td>2</td>\n",
       "      <td>...</td>\n",
       "      <td>158.659544</td>\n",
       "      <td>-0.852680</td>\n",
       "      <td>5.985117</td>\n",
       "      <td>2.889140</td>\n",
       "      <td>6.546928</td>\n",
       "      <td>-21.083954</td>\n",
       "      <td>520.810913</td>\n",
       "      <td>0.073783</td>\n",
       "      <td>False</td>\n",
       "      <td>pre_active</td>\n",
       "    </tr>\n",
       "    <tr>\n",
       "      <th>1</th>\n",
       "      <td>55a7d7a27a726119cd00000c</td>\n",
       "      <td>31</td>\n",
       "      <td>2</td>\n",
       "      <td>3</td>\n",
       "      <td>27</td>\n",
       "      <td>4</td>\n",
       "      <td>0</td>\n",
       "      <td>1</td>\n",
       "      <td>1</td>\n",
       "      <td>1</td>\n",
       "      <td>...</td>\n",
       "      <td>158.928432</td>\n",
       "      <td>-0.752741</td>\n",
       "      <td>3.493677</td>\n",
       "      <td>1.599772</td>\n",
       "      <td>4.897500</td>\n",
       "      <td>-20.905863</td>\n",
       "      <td>157.557159</td>\n",
       "      <td>0.115605</td>\n",
       "      <td>False</td>\n",
       "      <td>pre_active</td>\n",
       "    </tr>\n",
       "    <tr>\n",
       "      <th>2</th>\n",
       "      <td>55a7d7a27a726119cd00000d</td>\n",
       "      <td>33</td>\n",
       "      <td>1</td>\n",
       "      <td>7</td>\n",
       "      <td>21</td>\n",
       "      <td>12</td>\n",
       "      <td>0</td>\n",
       "      <td>0</td>\n",
       "      <td>1</td>\n",
       "      <td>0</td>\n",
       "      <td>...</td>\n",
       "      <td>158.757099</td>\n",
       "      <td>-0.831234</td>\n",
       "      <td>2.698255</td>\n",
       "      <td>1.326934</td>\n",
       "      <td>3.000635</td>\n",
       "      <td>-19.841774</td>\n",
       "      <td>58.042347</td>\n",
       "      <td>0.118851</td>\n",
       "      <td>False</td>\n",
       "      <td>pre_active</td>\n",
       "    </tr>\n",
       "    <tr>\n",
       "      <th>3</th>\n",
       "      <td>55a7d7a27a726119cd00000e</td>\n",
       "      <td>31</td>\n",
       "      <td>14</td>\n",
       "      <td>4</td>\n",
       "      <td>15</td>\n",
       "      <td>16</td>\n",
       "      <td>0</td>\n",
       "      <td>0</td>\n",
       "      <td>14</td>\n",
       "      <td>0</td>\n",
       "      <td>...</td>\n",
       "      <td>159.207820</td>\n",
       "      <td>-0.631470</td>\n",
       "      <td>6.951218</td>\n",
       "      <td>3.622341</td>\n",
       "      <td>7.018666</td>\n",
       "      <td>-19.598785</td>\n",
       "      <td>173.327042</td>\n",
       "      <td>0.063560</td>\n",
       "      <td>False</td>\n",
       "      <td>pre_active</td>\n",
       "    </tr>\n",
       "    <tr>\n",
       "      <th>4</th>\n",
       "      <td>55a7d7a27a726119cd00000f</td>\n",
       "      <td>40</td>\n",
       "      <td>6</td>\n",
       "      <td>5</td>\n",
       "      <td>10</td>\n",
       "      <td>29</td>\n",
       "      <td>1</td>\n",
       "      <td>0</td>\n",
       "      <td>6</td>\n",
       "      <td>0</td>\n",
       "      <td>...</td>\n",
       "      <td>159.196722</td>\n",
       "      <td>-0.682358</td>\n",
       "      <td>4.589167</td>\n",
       "      <td>2.078999</td>\n",
       "      <td>5.593759</td>\n",
       "      <td>-20.028103</td>\n",
       "      <td>106.315079</td>\n",
       "      <td>0.095834</td>\n",
       "      <td>False</td>\n",
       "      <td>pre_active</td>\n",
       "    </tr>\n",
       "    <tr>\n",
       "      <th>...</th>\n",
       "      <td>...</td>\n",
       "      <td>...</td>\n",
       "      <td>...</td>\n",
       "      <td>...</td>\n",
       "      <td>...</td>\n",
       "      <td>...</td>\n",
       "      <td>...</td>\n",
       "      <td>...</td>\n",
       "      <td>...</td>\n",
       "      <td>...</td>\n",
       "      <td>...</td>\n",
       "      <td>...</td>\n",
       "      <td>...</td>\n",
       "      <td>...</td>\n",
       "      <td>...</td>\n",
       "      <td>...</td>\n",
       "      <td>...</td>\n",
       "      <td>...</td>\n",
       "      <td>...</td>\n",
       "      <td>...</td>\n",
       "      <td>...</td>\n",
       "    </tr>\n",
       "    <tr>\n",
       "      <th>92955</th>\n",
       "      <td>56f3deb65925d90042037015</td>\n",
       "      <td>6</td>\n",
       "      <td>12</td>\n",
       "      <td>10</td>\n",
       "      <td>4</td>\n",
       "      <td>1</td>\n",
       "      <td>1</td>\n",
       "      <td>0</td>\n",
       "      <td>12</td>\n",
       "      <td>0</td>\n",
       "      <td>...</td>\n",
       "      <td>217.692900</td>\n",
       "      <td>-1.673523</td>\n",
       "      <td>10.527441</td>\n",
       "      <td>5.647549</td>\n",
       "      <td>11.515634</td>\n",
       "      <td>-18.833578</td>\n",
       "      <td>104.730103</td>\n",
       "      <td>0.055447</td>\n",
       "      <td>False</td>\n",
       "      <td>pre_active</td>\n",
       "    </tr>\n",
       "    <tr>\n",
       "      <th>92956</th>\n",
       "      <td>56f3deb65925d90042037017</td>\n",
       "      <td>21</td>\n",
       "      <td>15</td>\n",
       "      <td>4</td>\n",
       "      <td>17</td>\n",
       "      <td>4</td>\n",
       "      <td>0</td>\n",
       "      <td>0</td>\n",
       "      <td>15</td>\n",
       "      <td>0</td>\n",
       "      <td>...</td>\n",
       "      <td>217.054418</td>\n",
       "      <td>-1.929178</td>\n",
       "      <td>6.721991</td>\n",
       "      <td>3.366963</td>\n",
       "      <td>9.033441</td>\n",
       "      <td>-18.913054</td>\n",
       "      <td>109.902344</td>\n",
       "      <td>0.054090</td>\n",
       "      <td>False</td>\n",
       "      <td>pre_active</td>\n",
       "    </tr>\n",
       "    <tr>\n",
       "      <th>92957</th>\n",
       "      <td>56f3deb65925d90042037019</td>\n",
       "      <td>22</td>\n",
       "      <td>15</td>\n",
       "      <td>2</td>\n",
       "      <td>2</td>\n",
       "      <td>16</td>\n",
       "      <td>4</td>\n",
       "      <td>11</td>\n",
       "      <td>4</td>\n",
       "      <td>11</td>\n",
       "      <td>...</td>\n",
       "      <td>216.944227</td>\n",
       "      <td>-1.432235</td>\n",
       "      <td>5.407866</td>\n",
       "      <td>2.608586</td>\n",
       "      <td>8.073513</td>\n",
       "      <td>-21.807213</td>\n",
       "      <td>236.407684</td>\n",
       "      <td>0.138307</td>\n",
       "      <td>False</td>\n",
       "      <td>pre_active</td>\n",
       "    </tr>\n",
       "    <tr>\n",
       "      <th>92958</th>\n",
       "      <td>56f3deb65925d9004203701b</td>\n",
       "      <td>30</td>\n",
       "      <td>2</td>\n",
       "      <td>3</td>\n",
       "      <td>26</td>\n",
       "      <td>3</td>\n",
       "      <td>1</td>\n",
       "      <td>0</td>\n",
       "      <td>2</td>\n",
       "      <td>0</td>\n",
       "      <td>...</td>\n",
       "      <td>216.924991</td>\n",
       "      <td>-1.755687</td>\n",
       "      <td>15.874659</td>\n",
       "      <td>5.831343</td>\n",
       "      <td>21.499472</td>\n",
       "      <td>-21.364548</td>\n",
       "      <td>1709.476807</td>\n",
       "      <td>0.053837</td>\n",
       "      <td>False</td>\n",
       "      <td>pre_active</td>\n",
       "    </tr>\n",
       "    <tr>\n",
       "      <th>92959</th>\n",
       "      <td>56f3deb65925d9004203701d</td>\n",
       "      <td>8</td>\n",
       "      <td>27</td>\n",
       "      <td>2</td>\n",
       "      <td>0</td>\n",
       "      <td>8</td>\n",
       "      <td>0</td>\n",
       "      <td>5</td>\n",
       "      <td>22</td>\n",
       "      <td>3</td>\n",
       "      <td>...</td>\n",
       "      <td>218.320058</td>\n",
       "      <td>-1.252597</td>\n",
       "      <td>9.726173</td>\n",
       "      <td>4.572752</td>\n",
       "      <td>9.986246</td>\n",
       "      <td>-20.237579</td>\n",
       "      <td>165.695953</td>\n",
       "      <td>0.082070</td>\n",
       "      <td>False</td>\n",
       "      <td>pre_active</td>\n",
       "    </tr>\n",
       "  </tbody>\n",
       "</table>\n",
       "<p>92960 rows × 131 columns</p>\n",
       "</div>"
      ],
      "text/plain": [
       "                     subject_id  smooth-or-featured_smooth  \\\n",
       "0      55a7d7a27a726119cd00000b                         19   \n",
       "1      55a7d7a27a726119cd00000c                         31   \n",
       "2      55a7d7a27a726119cd00000d                         33   \n",
       "3      55a7d7a27a726119cd00000e                         31   \n",
       "4      55a7d7a27a726119cd00000f                         40   \n",
       "...                         ...                        ...   \n",
       "92955  56f3deb65925d90042037015                          6   \n",
       "92956  56f3deb65925d90042037017                         21   \n",
       "92957  56f3deb65925d90042037019                         22   \n",
       "92958  56f3deb65925d9004203701b                         30   \n",
       "92959  56f3deb65925d9004203701d                          8   \n",
       "\n",
       "       smooth-or-featured_featured-or-disk  smooth-or-featured_artifact  \\\n",
       "0                                       15                            5   \n",
       "1                                        2                            3   \n",
       "2                                        1                            7   \n",
       "3                                       14                            4   \n",
       "4                                        6                            5   \n",
       "...                                    ...                          ...   \n",
       "92955                                   12                           10   \n",
       "92956                                   15                            4   \n",
       "92957                                   15                            2   \n",
       "92958                                    2                            3   \n",
       "92959                                   27                            2   \n",
       "\n",
       "       how-rounded_completely  how-rounded_in-between  \\\n",
       "0                          16                       2   \n",
       "1                          27                       4   \n",
       "2                          21                      12   \n",
       "3                          15                      16   \n",
       "4                          10                      29   \n",
       "...                       ...                     ...   \n",
       "92955                       4                       1   \n",
       "92956                      17                       4   \n",
       "92957                       2                      16   \n",
       "92958                      26                       3   \n",
       "92959                       0                       8   \n",
       "\n",
       "       how-rounded_cigar-shaped  disk-edge-on_yes  disk-edge-on_no  \\\n",
       "0                             1                 2               13   \n",
       "1                             0                 1                1   \n",
       "2                             0                 0                1   \n",
       "3                             0                 0               14   \n",
       "4                             1                 0                6   \n",
       "...                         ...               ...              ...   \n",
       "92955                         1                 0               12   \n",
       "92956                         0                 0               15   \n",
       "92957                         4                11                4   \n",
       "92958                         1                 0                2   \n",
       "92959                         0                 5               22   \n",
       "\n",
       "       edge-on-bulge_rounded  ...          ra       dec  petro_theta  \\\n",
       "0                          2  ...  158.659544 -0.852680     5.985117   \n",
       "1                          1  ...  158.928432 -0.752741     3.493677   \n",
       "2                          0  ...  158.757099 -0.831234     2.698255   \n",
       "3                          0  ...  159.207820 -0.631470     6.951218   \n",
       "4                          0  ...  159.196722 -0.682358     4.589167   \n",
       "...                      ...  ...         ...       ...          ...   \n",
       "92955                      0  ...  217.692900 -1.673523    10.527441   \n",
       "92956                      0  ...  217.054418 -1.929178     6.721991   \n",
       "92957                     11  ...  216.944227 -1.432235     5.407866   \n",
       "92958                      0  ...  216.924991 -1.755687    15.874659   \n",
       "92959                      3  ...  218.320058 -1.252597     9.726173   \n",
       "\n",
       "       petro_th50  petro_th90  elpetro_absmag_r  sersic_nmgy_r  redshift  \\\n",
       "0        2.889140    6.546928        -21.083954     520.810913  0.073783   \n",
       "1        1.599772    4.897500        -20.905863     157.557159  0.115605   \n",
       "2        1.326934    3.000635        -19.841774      58.042347  0.118851   \n",
       "3        3.622341    7.018666        -19.598785     173.327042  0.063560   \n",
       "4        2.078999    5.593759        -20.028103     106.315079  0.095834   \n",
       "...           ...         ...               ...            ...       ...   \n",
       "92955    5.647549   11.515634        -18.833578     104.730103  0.055447   \n",
       "92956    3.366963    9.033441        -18.913054     109.902344  0.054090   \n",
       "92957    2.608586    8.073513        -21.807213     236.407684  0.138307   \n",
       "92958    5.831343   21.499472        -21.364548    1709.476807  0.053837   \n",
       "92959    4.572752    9.986246        -20.237579     165.695953  0.082070   \n",
       "\n",
       "       active_learning_on  upload_group  \n",
       "0                   False    pre_active  \n",
       "1                   False    pre_active  \n",
       "2                   False    pre_active  \n",
       "3                   False    pre_active  \n",
       "4                   False    pre_active  \n",
       "...                   ...           ...  \n",
       "92955               False    pre_active  \n",
       "92956               False    pre_active  \n",
       "92957               False    pre_active  \n",
       "92958               False    pre_active  \n",
       "92959               False    pre_active  \n",
       "\n",
       "[92960 rows x 131 columns]"
      ]
     },
     "execution_count": 12,
     "metadata": {},
     "output_type": "execute_result"
    }
   ],
   "source": [
    "dr2"
   ]
  },
  {
   "cell_type": "code",
   "execution_count": null,
   "metadata": {},
   "outputs": [],
   "source": []
  },
  {
   "cell_type": "code",
   "execution_count": null,
   "metadata": {},
   "outputs": [],
   "source": []
  },
  {
   "cell_type": "markdown",
   "metadata": {},
   "source": [
    "## Repeat the same process with DR5. Classifications already include some metadata, so no need for subject catalog."
   ]
  },
  {
   "cell_type": "code",
   "execution_count": null,
   "metadata": {},
   "outputs": [],
   "source": []
  },
  {
   "cell_type": "code",
   "execution_count": 13,
   "metadata": {},
   "outputs": [],
   "source": [
    "\n",
    "metadata_cols = ['iauname', 'ra', 'dec', 'redshift', 'petro_theta', 'petro_th50', 'petro_th90', 'sersic_nmgy_r', 'elpetro_absmag_r']  # ra, dec, redshift already included\n",
    "dr5 = pd.merge(dr5_c, nsa[metadata_cols], on='iauname', how='inner')\n",
    "assert len(dr5) == len(dr5_c)"
   ]
  },
  {
   "cell_type": "code",
   "execution_count": 14,
   "metadata": {},
   "outputs": [
    {
     "data": {
      "text/plain": [
       "active_baseline    192557\n",
       "pre_active          50946\n",
       "active_priority      6939\n",
       "calibration          1594\n",
       "targeted             1250\n",
       "Name: upload_group, dtype: int64"
      ]
     },
     "execution_count": 14,
     "metadata": {},
     "output_type": "execute_result"
    }
   ],
   "source": [
    "dr5['upload_group'].value_counts()"
   ]
  },
  {
   "cell_type": "code",
   "execution_count": 15,
   "metadata": {},
   "outputs": [],
   "source": [
    "dr5['active_learning_on'] = dr5['upload_group'].isin(['active_random', 'active_priority'])"
   ]
  },
  {
   "cell_type": "code",
   "execution_count": 16,
   "metadata": {},
   "outputs": [
    {
     "data": {
      "text/html": [
       "<div>\n",
       "<style scoped>\n",
       "    .dataframe tbody tr th:only-of-type {\n",
       "        vertical-align: middle;\n",
       "    }\n",
       "\n",
       "    .dataframe tbody tr th {\n",
       "        vertical-align: top;\n",
       "    }\n",
       "\n",
       "    .dataframe thead th {\n",
       "        text-align: right;\n",
       "    }\n",
       "</style>\n",
       "<table border=\"1\" class=\"dataframe\">\n",
       "  <thead>\n",
       "    <tr style=\"text-align: right;\">\n",
       "      <th></th>\n",
       "      <th>iauname</th>\n",
       "      <th>bar_no</th>\n",
       "      <th>bar_strong</th>\n",
       "      <th>bar_weak</th>\n",
       "      <th>bulge-size_dominant</th>\n",
       "      <th>bulge-size_large</th>\n",
       "      <th>bulge-size_moderate</th>\n",
       "      <th>bulge-size_none</th>\n",
       "      <th>bulge-size_small</th>\n",
       "      <th>disk-edge-on_no</th>\n",
       "      <th>...</th>\n",
       "      <th>upload_group</th>\n",
       "      <th>ra</th>\n",
       "      <th>dec</th>\n",
       "      <th>redshift</th>\n",
       "      <th>petro_theta</th>\n",
       "      <th>petro_th50</th>\n",
       "      <th>petro_th90</th>\n",
       "      <th>sersic_nmgy_r</th>\n",
       "      <th>elpetro_absmag_r</th>\n",
       "      <th>active_learning_on</th>\n",
       "    </tr>\n",
       "  </thead>\n",
       "  <tbody>\n",
       "    <tr>\n",
       "      <th>0</th>\n",
       "      <td>J112953.88-000427.4</td>\n",
       "      <td>13</td>\n",
       "      <td>2</td>\n",
       "      <td>1</td>\n",
       "      <td>1</td>\n",
       "      <td>6</td>\n",
       "      <td>9</td>\n",
       "      <td>0</td>\n",
       "      <td>0</td>\n",
       "      <td>16</td>\n",
       "      <td>...</td>\n",
       "      <td>pre_active</td>\n",
       "      <td>172.474526</td>\n",
       "      <td>-0.074281</td>\n",
       "      <td>0.124142</td>\n",
       "      <td>4.202472</td>\n",
       "      <td>1.835066</td>\n",
       "      <td>5.414066</td>\n",
       "      <td>167.262878</td>\n",
       "      <td>-21.253342</td>\n",
       "      <td>False</td>\n",
       "    </tr>\n",
       "    <tr>\n",
       "      <th>1</th>\n",
       "      <td>J104325.29+190335.0</td>\n",
       "      <td>2</td>\n",
       "      <td>0</td>\n",
       "      <td>0</td>\n",
       "      <td>1</td>\n",
       "      <td>0</td>\n",
       "      <td>1</td>\n",
       "      <td>0</td>\n",
       "      <td>0</td>\n",
       "      <td>2</td>\n",
       "      <td>...</td>\n",
       "      <td>targeted</td>\n",
       "      <td>160.856533</td>\n",
       "      <td>19.060441</td>\n",
       "      <td>0.049088</td>\n",
       "      <td>10.757237</td>\n",
       "      <td>4.405412</td>\n",
       "      <td>14.320828</td>\n",
       "      <td>2941.729248</td>\n",
       "      <td>-21.775410</td>\n",
       "      <td>False</td>\n",
       "    </tr>\n",
       "    <tr>\n",
       "      <th>2</th>\n",
       "      <td>J104629.54+115415.1</td>\n",
       "      <td>2</td>\n",
       "      <td>0</td>\n",
       "      <td>2</td>\n",
       "      <td>0</td>\n",
       "      <td>0</td>\n",
       "      <td>2</td>\n",
       "      <td>0</td>\n",
       "      <td>2</td>\n",
       "      <td>4</td>\n",
       "      <td>...</td>\n",
       "      <td>active_baseline</td>\n",
       "      <td>161.623135</td>\n",
       "      <td>11.904197</td>\n",
       "      <td>0.092906</td>\n",
       "      <td>9.726173</td>\n",
       "      <td>4.719870</td>\n",
       "      <td>13.139816</td>\n",
       "      <td>125.076324</td>\n",
       "      <td>-19.947397</td>\n",
       "      <td>False</td>\n",
       "    </tr>\n",
       "    <tr>\n",
       "      <th>3</th>\n",
       "      <td>J082950.68+125621.8</td>\n",
       "      <td>0</td>\n",
       "      <td>0</td>\n",
       "      <td>0</td>\n",
       "      <td>0</td>\n",
       "      <td>0</td>\n",
       "      <td>0</td>\n",
       "      <td>0</td>\n",
       "      <td>0</td>\n",
       "      <td>0</td>\n",
       "      <td>...</td>\n",
       "      <td>active_baseline</td>\n",
       "      <td>127.461190</td>\n",
       "      <td>12.939386</td>\n",
       "      <td>0.066619</td>\n",
       "      <td>6.528331</td>\n",
       "      <td>2.929065</td>\n",
       "      <td>7.224961</td>\n",
       "      <td>173.592026</td>\n",
       "      <td>-19.800629</td>\n",
       "      <td>False</td>\n",
       "    </tr>\n",
       "    <tr>\n",
       "      <th>4</th>\n",
       "      <td>J122056.00-015022.0</td>\n",
       "      <td>3</td>\n",
       "      <td>0</td>\n",
       "      <td>0</td>\n",
       "      <td>0</td>\n",
       "      <td>0</td>\n",
       "      <td>2</td>\n",
       "      <td>0</td>\n",
       "      <td>1</td>\n",
       "      <td>3</td>\n",
       "      <td>...</td>\n",
       "      <td>active_baseline</td>\n",
       "      <td>185.233342</td>\n",
       "      <td>-1.839340</td>\n",
       "      <td>0.070042</td>\n",
       "      <td>5.054409</td>\n",
       "      <td>2.521897</td>\n",
       "      <td>6.496888</td>\n",
       "      <td>88.826881</td>\n",
       "      <td>-19.013256</td>\n",
       "      <td>False</td>\n",
       "    </tr>\n",
       "    <tr>\n",
       "      <th>...</th>\n",
       "      <td>...</td>\n",
       "      <td>...</td>\n",
       "      <td>...</td>\n",
       "      <td>...</td>\n",
       "      <td>...</td>\n",
       "      <td>...</td>\n",
       "      <td>...</td>\n",
       "      <td>...</td>\n",
       "      <td>...</td>\n",
       "      <td>...</td>\n",
       "      <td>...</td>\n",
       "      <td>...</td>\n",
       "      <td>...</td>\n",
       "      <td>...</td>\n",
       "      <td>...</td>\n",
       "      <td>...</td>\n",
       "      <td>...</td>\n",
       "      <td>...</td>\n",
       "      <td>...</td>\n",
       "      <td>...</td>\n",
       "      <td>...</td>\n",
       "    </tr>\n",
       "    <tr>\n",
       "      <th>253281</th>\n",
       "      <td>J144017.17+234347.3</td>\n",
       "      <td>0</td>\n",
       "      <td>0</td>\n",
       "      <td>0</td>\n",
       "      <td>0</td>\n",
       "      <td>0</td>\n",
       "      <td>0</td>\n",
       "      <td>0</td>\n",
       "      <td>0</td>\n",
       "      <td>0</td>\n",
       "      <td>...</td>\n",
       "      <td>active_baseline</td>\n",
       "      <td>220.071553</td>\n",
       "      <td>23.729825</td>\n",
       "      <td>0.135569</td>\n",
       "      <td>5.128151</td>\n",
       "      <td>2.160872</td>\n",
       "      <td>6.818261</td>\n",
       "      <td>125.146088</td>\n",
       "      <td>-21.286007</td>\n",
       "      <td>False</td>\n",
       "    </tr>\n",
       "    <tr>\n",
       "      <th>253282</th>\n",
       "      <td>J133751.46+253954.0</td>\n",
       "      <td>0</td>\n",
       "      <td>0</td>\n",
       "      <td>0</td>\n",
       "      <td>0</td>\n",
       "      <td>0</td>\n",
       "      <td>0</td>\n",
       "      <td>0</td>\n",
       "      <td>0</td>\n",
       "      <td>0</td>\n",
       "      <td>...</td>\n",
       "      <td>active_baseline</td>\n",
       "      <td>204.464417</td>\n",
       "      <td>25.665029</td>\n",
       "      <td>0.031913</td>\n",
       "      <td>4.545066</td>\n",
       "      <td>2.009910</td>\n",
       "      <td>5.407866</td>\n",
       "      <td>342.469788</td>\n",
       "      <td>-18.737637</td>\n",
       "      <td>False</td>\n",
       "    </tr>\n",
       "    <tr>\n",
       "      <th>253283</th>\n",
       "      <td>J130734.26+061155.7</td>\n",
       "      <td>0</td>\n",
       "      <td>0</td>\n",
       "      <td>0</td>\n",
       "      <td>0</td>\n",
       "      <td>0</td>\n",
       "      <td>0</td>\n",
       "      <td>0</td>\n",
       "      <td>0</td>\n",
       "      <td>0</td>\n",
       "      <td>...</td>\n",
       "      <td>active_baseline</td>\n",
       "      <td>196.892784</td>\n",
       "      <td>6.198813</td>\n",
       "      <td>0.137835</td>\n",
       "      <td>5.253455</td>\n",
       "      <td>2.213671</td>\n",
       "      <td>7.401498</td>\n",
       "      <td>221.358963</td>\n",
       "      <td>-21.575876</td>\n",
       "      <td>False</td>\n",
       "    </tr>\n",
       "    <tr>\n",
       "      <th>253284</th>\n",
       "      <td>J163830.70+315116.7</td>\n",
       "      <td>0</td>\n",
       "      <td>0</td>\n",
       "      <td>0</td>\n",
       "      <td>0</td>\n",
       "      <td>0</td>\n",
       "      <td>0</td>\n",
       "      <td>0</td>\n",
       "      <td>0</td>\n",
       "      <td>0</td>\n",
       "      <td>...</td>\n",
       "      <td>active_baseline</td>\n",
       "      <td>249.627951</td>\n",
       "      <td>31.854632</td>\n",
       "      <td>0.059837</td>\n",
       "      <td>37.860394</td>\n",
       "      <td>17.295427</td>\n",
       "      <td>43.632080</td>\n",
       "      <td>749.883667</td>\n",
       "      <td>-21.012257</td>\n",
       "      <td>False</td>\n",
       "    </tr>\n",
       "    <tr>\n",
       "      <th>253285</th>\n",
       "      <td>J141631.85+185904.1</td>\n",
       "      <td>0</td>\n",
       "      <td>0</td>\n",
       "      <td>0</td>\n",
       "      <td>0</td>\n",
       "      <td>0</td>\n",
       "      <td>0</td>\n",
       "      <td>0</td>\n",
       "      <td>0</td>\n",
       "      <td>0</td>\n",
       "      <td>...</td>\n",
       "      <td>active_baseline</td>\n",
       "      <td>214.132744</td>\n",
       "      <td>18.984493</td>\n",
       "      <td>0.079122</td>\n",
       "      <td>105.420822</td>\n",
       "      <td>72.359802</td>\n",
       "      <td>96.698135</td>\n",
       "      <td>62908.093750</td>\n",
       "      <td>-21.265265</td>\n",
       "      <td>False</td>\n",
       "    </tr>\n",
       "  </tbody>\n",
       "</table>\n",
       "<p>253286 rows × 97 columns</p>\n",
       "</div>"
      ],
      "text/plain": [
       "                    iauname  bar_no  bar_strong  bar_weak  \\\n",
       "0       J112953.88-000427.4      13           2         1   \n",
       "1       J104325.29+190335.0       2           0         0   \n",
       "2       J104629.54+115415.1       2           0         2   \n",
       "3       J082950.68+125621.8       0           0         0   \n",
       "4       J122056.00-015022.0       3           0         0   \n",
       "...                     ...     ...         ...       ...   \n",
       "253281  J144017.17+234347.3       0           0         0   \n",
       "253282  J133751.46+253954.0       0           0         0   \n",
       "253283  J130734.26+061155.7       0           0         0   \n",
       "253284  J163830.70+315116.7       0           0         0   \n",
       "253285  J141631.85+185904.1       0           0         0   \n",
       "\n",
       "        bulge-size_dominant  bulge-size_large  bulge-size_moderate  \\\n",
       "0                         1                 6                    9   \n",
       "1                         1                 0                    1   \n",
       "2                         0                 0                    2   \n",
       "3                         0                 0                    0   \n",
       "4                         0                 0                    2   \n",
       "...                     ...               ...                  ...   \n",
       "253281                    0                 0                    0   \n",
       "253282                    0                 0                    0   \n",
       "253283                    0                 0                    0   \n",
       "253284                    0                 0                    0   \n",
       "253285                    0                 0                    0   \n",
       "\n",
       "        bulge-size_none  bulge-size_small  disk-edge-on_no  ...  \\\n",
       "0                     0                 0               16  ...   \n",
       "1                     0                 0                2  ...   \n",
       "2                     0                 2                4  ...   \n",
       "3                     0                 0                0  ...   \n",
       "4                     0                 1                3  ...   \n",
       "...                 ...               ...              ...  ...   \n",
       "253281                0                 0                0  ...   \n",
       "253282                0                 0                0  ...   \n",
       "253283                0                 0                0  ...   \n",
       "253284                0                 0                0  ...   \n",
       "253285                0                 0                0  ...   \n",
       "\n",
       "           upload_group          ra        dec  redshift  petro_theta  \\\n",
       "0            pre_active  172.474526  -0.074281  0.124142     4.202472   \n",
       "1              targeted  160.856533  19.060441  0.049088    10.757237   \n",
       "2       active_baseline  161.623135  11.904197  0.092906     9.726173   \n",
       "3       active_baseline  127.461190  12.939386  0.066619     6.528331   \n",
       "4       active_baseline  185.233342  -1.839340  0.070042     5.054409   \n",
       "...                 ...         ...        ...       ...          ...   \n",
       "253281  active_baseline  220.071553  23.729825  0.135569     5.128151   \n",
       "253282  active_baseline  204.464417  25.665029  0.031913     4.545066   \n",
       "253283  active_baseline  196.892784   6.198813  0.137835     5.253455   \n",
       "253284  active_baseline  249.627951  31.854632  0.059837    37.860394   \n",
       "253285  active_baseline  214.132744  18.984493  0.079122   105.420822   \n",
       "\n",
       "        petro_th50  petro_th90  sersic_nmgy_r  elpetro_absmag_r  \\\n",
       "0         1.835066    5.414066     167.262878        -21.253342   \n",
       "1         4.405412   14.320828    2941.729248        -21.775410   \n",
       "2         4.719870   13.139816     125.076324        -19.947397   \n",
       "3         2.929065    7.224961     173.592026        -19.800629   \n",
       "4         2.521897    6.496888      88.826881        -19.013256   \n",
       "...            ...         ...            ...               ...   \n",
       "253281    2.160872    6.818261     125.146088        -21.286007   \n",
       "253282    2.009910    5.407866     342.469788        -18.737637   \n",
       "253283    2.213671    7.401498     221.358963        -21.575876   \n",
       "253284   17.295427   43.632080     749.883667        -21.012257   \n",
       "253285   72.359802   96.698135   62908.093750        -21.265265   \n",
       "\n",
       "        active_learning_on  \n",
       "0                    False  \n",
       "1                    False  \n",
       "2                    False  \n",
       "3                    False  \n",
       "4                    False  \n",
       "...                    ...  \n",
       "253281               False  \n",
       "253282               False  \n",
       "253283               False  \n",
       "253284               False  \n",
       "253285               False  \n",
       "\n",
       "[253286 rows x 97 columns]"
      ]
     },
     "execution_count": 16,
     "metadata": {},
     "output_type": "execute_result"
    }
   ],
   "source": [
    "dr5"
   ]
  },
  {
   "cell_type": "code",
   "execution_count": null,
   "metadata": {},
   "outputs": [],
   "source": []
  },
  {
   "cell_type": "code",
   "execution_count": null,
   "metadata": {},
   "outputs": [],
   "source": []
  },
  {
   "cell_type": "markdown",
   "metadata": {},
   "source": [
    "## Work out which galaxies are shared"
   ]
  },
  {
   "cell_type": "code",
   "execution_count": 17,
   "metadata": {},
   "outputs": [],
   "source": [
    "dr5['in_gzd_ab'] = dr5['iauname'].isin(dr2['iauname'])\n",
    "dr2['in_gzd_c'] = dr2['iauname'].isin(dr5['iauname'])"
   ]
  },
  {
   "cell_type": "code",
   "execution_count": 18,
   "metadata": {},
   "outputs": [
    {
     "data": {
      "text/plain": [
       "False    220829\n",
       "True      32457\n",
       "Name: in_gzd_ab, dtype: int64"
      ]
     },
     "execution_count": 18,
     "metadata": {},
     "output_type": "execute_result"
    }
   ],
   "source": [
    "dr5['in_gzd_ab'].value_counts()"
   ]
  },
  {
   "cell_type": "code",
   "execution_count": 19,
   "metadata": {},
   "outputs": [
    {
     "data": {
      "text/plain": [
       "active_baseline    23214\n",
       "pre_active          5350\n",
       "active_priority     2082\n",
       "calibration         1497\n",
       "targeted             314\n",
       "Name: upload_group, dtype: int64"
      ]
     },
     "execution_count": 19,
     "metadata": {},
     "output_type": "execute_result"
    }
   ],
   "source": [
    "dr5.query('in_gzd_ab')['upload_group'].value_counts()"
   ]
  },
  {
   "cell_type": "code",
   "execution_count": 20,
   "metadata": {},
   "outputs": [
    {
     "data": {
      "text/plain": [
       "<matplotlib.axes._subplots.AxesSubplot at 0x7f4db8d63090>"
      ]
     },
     "execution_count": 20,
     "metadata": {},
     "output_type": "execute_result"
    },
    {
     "data": {
      "image/png": "[encoded data removed]",
      "text/plain": [
       "<Figure size 432x288 with 1 Axes>"
      ]
     },
     "metadata": {
      "needs_background": "light"
     },
     "output_type": "display_data"
    }
   ],
   "source": [
    "dr5.query('in_gzd_ab')['smooth-or-featured_total-votes'].hist(range=(0, 100))"
   ]
  },
  {
   "cell_type": "code",
   "execution_count": 21,
   "metadata": {},
   "outputs": [
    {
     "data": {
      "text/plain": [
       "False    60503\n",
       "True     32457\n",
       "Name: in_gzd_c, dtype: int64"
      ]
     },
     "execution_count": 21,
     "metadata": {},
     "output_type": "execute_result"
    }
   ],
   "source": [
    "dr2['in_gzd_c'].value_counts()"
   ]
  },
  {
   "cell_type": "code",
   "execution_count": null,
   "metadata": {},
   "outputs": [],
   "source": []
  },
  {
   "cell_type": "markdown",
   "metadata": {},
   "source": [
    "## Check the calibration galaxies are shared"
   ]
  },
  {
   "cell_type": "markdown",
   "metadata": {},
   "source": [
    "1497 calibration is less than 1594 (DR5 'calibration' subjects with good images)- why not all calibration in DR2?\n",
    "\n"
   ]
  },
  {
   "cell_type": "code",
   "execution_count": 22,
   "metadata": {},
   "outputs": [
    {
     "name": "stderr",
     "output_type": "stream",
     "text": [
      "/home/walml/anaconda3/envs/zoobot/lib/python3.7/site-packages/IPython/core/interactiveshell.py:3331: TableReplaceWarning: converted column 'dr8objid' from integer to float\n",
      "  exec(code_obj, self.user_global_ns, self.user_ns)\n"
     ]
    }
   ],
   "source": [
    "dr2_subjects = Table.read('/media/walml/beta/galaxy_zoo/decals/dr1_dr2/subjects/decals_dr1_and_dr2_with_subj_id.csv')[['dr8objid', 'iauname']].to_pandas()"
   ]
  },
  {
   "cell_type": "code",
   "execution_count": 23,
   "metadata": {},
   "outputs": [
    {
     "data": {
      "text/plain": [
       "1633"
      ]
     },
     "execution_count": 23,
     "metadata": {},
     "output_type": "execute_result"
    }
   ],
   "source": [
    "dr2_subjects['iauname'].isin(dr5.query('upload_group == \"calibration\"')['iauname']).sum()  # includes 7k missed"
   ]
  },
  {
   "cell_type": "code",
   "execution_count": 24,
   "metadata": {},
   "outputs": [
    {
     "data": {
      "text/plain": [
       "1497"
      ]
     },
     "execution_count": 24,
     "metadata": {},
     "output_type": "execute_result"
    }
   ],
   "source": [
    "dr2_c['iauname'].isin(dr5.query('upload_group == \"calibration\"')['iauname']).sum()  # actually classified"
   ]
  },
  {
   "cell_type": "code",
   "execution_count": 25,
   "metadata": {},
   "outputs": [],
   "source": [
    "with open('dr1_subjects_never_classified.txt', 'r') as f:\n",
    "    dr1_subjects_not_classified_not_repeat = set(f.readlines()[0].split('/n'))"
   ]
  },
  {
   "cell_type": "code",
   "execution_count": 26,
   "metadata": {},
   "outputs": [
    {
     "data": {
      "text/plain": [
       "(97, 7275)"
      ]
     },
     "execution_count": 26,
     "metadata": {},
     "output_type": "execute_result"
    }
   ],
   "source": [
    "dropped_calibration = set(dr5.query('upload_group == \"calibration\"')['iauname']) - set(dr2_c['iauname'])\n",
    "len(dropped_calibration), len(dr1_subjects_not_classified_not_repeat)"
   ]
  },
  {
   "cell_type": "code",
   "execution_count": 27,
   "metadata": {},
   "outputs": [
    {
     "data": {
      "text/plain": [
       "{'J074918.64+292635.6',\n",
       " 'J080303.45+274438.3',\n",
       " 'J100207.04+030327.6',\n",
       " 'J112132.56+025314.1',\n",
       " 'J142406.00+345335.0',\n",
       " 'J215144.16+113431.5'}"
      ]
     },
     "execution_count": 27,
     "metadata": {},
     "output_type": "execute_result"
    }
   ],
   "source": [
    "dropped_calibration - dr1_subjects_not_classified_not_repeat\n"
   ]
  },
  {
   "cell_type": "markdown",
   "metadata": {},
   "source": [
    "Every dropped calibration subject (1601 -> 1503) is a galaxy in the DR1 lost set (i.e the 9k subjects not classified in DR1, - the 2k later classified in DR2).\n",
    "So this is simply because I picked that 1601 assuming every DR1/2 subject was classified, which wasn't true.\n",
    "\n",
    "Only the 1503 are actually useful calibration subjects. The dropped 91 were not classified in DR1/2. The 1497 drop is almost certainly retrospectively bad images in DR1/2. I have made sure the bar notebook counts galaxies starting from this 1497."
   ]
  },
  {
   "cell_type": "markdown",
   "metadata": {},
   "source": [
    "## Update upload groups accounting for selection effects"
   ]
  },
  {
   "cell_type": "code",
   "execution_count": 28,
   "metadata": {},
   "outputs": [],
   "source": [
    "# using the \"targeted vs random\" notebook"
   ]
  },
  {
   "cell_type": "code",
   "execution_count": 29,
   "metadata": {},
   "outputs": [],
   "source": [
    "with open('notebooks/catalogs/targeted_galaxies_would_include.json', 'r') as f:\n",
    "    targeted_would_include_anyway = json.load(f)\n",
    "dr5.loc[dr5['iauname'].isin(targeted_would_include_anyway), 'upload_group'] = 'pre_active'"
   ]
  },
  {
   "cell_type": "code",
   "execution_count": 30,
   "metadata": {},
   "outputs": [],
   "source": [
    "with open('notebooks/catalogs/calibration_galaxies_would_include.json', 'r') as f:\n",
    "    calibration_would_include_anyway = json.load(f)\n",
    "dr5.loc[dr5['iauname'].isin(calibration_would_include_anyway), 'upload_group'] = 'pre_active'"
   ]
  },
  {
   "cell_type": "code",
   "execution_count": 31,
   "metadata": {},
   "outputs": [
    {
     "data": {
      "text/plain": [
       "active_baseline    192557\n",
       "pre_active          51994\n",
       "active_priority      6939\n",
       "targeted             1145\n",
       "calibration           651\n",
       "Name: upload_group, dtype: int64"
      ]
     },
     "execution_count": 31,
     "metadata": {},
     "output_type": "execute_result"
    }
   ],
   "source": [
    "dr5['upload_group'].value_counts()"
   ]
  },
  {
   "cell_type": "code",
   "execution_count": null,
   "metadata": {},
   "outputs": [],
   "source": []
  },
  {
   "cell_type": "markdown",
   "metadata": {},
   "source": [
    "Why are the rest included in btoh? Must be a mistake I made. \n",
    "- Could leave in DR5 catalog, with column added flagging that they are also in DR2\n",
    "- Could drop from DR5 (but this reduces the new answers)\n",
    "- Could drop from DR2 (but this would make DR2 non-random, bad selection effects)\n",
    "\n",
    "Probably best to flag that they are also in DR2 and leave it at that. Paper will need updating, in calibration selection effects section."
   ]
  },
  {
   "cell_type": "code",
   "execution_count": 32,
   "metadata": {},
   "outputs": [],
   "source": [
    "# active_baseline    23214\n",
    "# pre_active          5350\n",
    "# active_priority     2082\n",
    "# calibration         1497\n",
    "# targeted             314\n",
    "# Name: upload_group, dtype: i"
   ]
  },
  {
   "cell_type": "code",
   "execution_count": null,
   "metadata": {},
   "outputs": [],
   "source": []
  },
  {
   "cell_type": "code",
   "execution_count": null,
   "metadata": {},
   "outputs": [],
   "source": []
  },
  {
   "cell_type": "code",
   "execution_count": null,
   "metadata": {},
   "outputs": [],
   "source": []
  },
  {
   "cell_type": "markdown",
   "metadata": {},
   "source": [
    "## Make plots of galaxies per DR"
   ]
  },
  {
   "cell_type": "code",
   "execution_count": 33,
   "metadata": {},
   "outputs": [],
   "source": [
    "def custom_fmt(x, pos):\n",
    "    if x == 0:\n",
    "        return 0\n",
    "    # in mpl, spaces take up half a character, so add 2 spaces per extra 0 to align labels\n",
    "    if x == 5000:\n",
    "        return '    5,000'  # extra space for lining up y axis\n",
    "    if x == 50000:\n",
    "        return '  50,000'\n",
    "    if x == 10000:\n",
    "        return '  10,000'\n",
    "    if x == 100000:\n",
    "        return '100,000'\n",
    "    return x"
   ]
  },
  {
   "cell_type": "code",
   "execution_count": 34,
   "metadata": {},
   "outputs": [],
   "source": [
    "comma_fmt = FuncFormatter(custom_fmt)"
   ]
  },
  {
   "cell_type": "code",
   "execution_count": 35,
   "metadata": {},
   "outputs": [],
   "source": [
    "color_cycle = ['#1f77b4', '#ff7f0e', '#2ca02c']"
   ]
  },
  {
   "cell_type": "code",
   "execution_count": 36,
   "metadata": {},
   "outputs": [
    {
     "data": {
      "image/png": "[encoded data removed]",
      "text/plain": [
       "<Figure size 576x432 with 3 Axes>"
      ]
     },
     "metadata": {},
     "output_type": "display_data"
    }
   ],
   "source": [
    "sns.set_context('notebook')\n",
    "sns.set(font_scale=1.5)\n",
    "sns.set_style('white')\n",
    "_, bins = np.histogram(np.linspace(0, 100), bins=40)\n",
    "fig, axes = plt.subplots(nrows=3, figsize=(8, 6), sharex=True)\n",
    "axes[0].hist(dr2.query('data_release == \"DR1\"')['smooth-or-featured_total-votes'], bins=bins, color=color_cycle[0])\n",
    "axes[0].legend(['GZD-1'])\n",
    "axes[1].hist(dr2.query('data_release == \"DR2\"')['smooth-or-featured_total-votes'], bins=bins, color=color_cycle[1])\n",
    "axes[1].legend(['GZD-2'])\n",
    "axes[2].hist(dr5['smooth-or-featured_total-votes'], bins=bins, color=color_cycle[2])\n",
    "axes[2].legend(['GZD-5'])\n",
    "for ax in axes:\n",
    "    ax.set_xlim(0, 100)\n",
    "    ax.set_ylabel('Galaxies')\n",
    "axes[2].set_xlabel('Classifications per galaxy')\n",
    "axes[0].yaxis.set_major_formatter(comma_fmt)\n",
    "axes[1].yaxis.set_major_formatter(comma_fmt)\n",
    "axes[2].yaxis.set_major_formatter(comma_fmt)\n",
    "fig.tight_layout()\n",
    "fig.savefig('latest_totals_per_dr.png')\n",
    "fig.savefig('latest_totals_per_dr.pdf')"
   ]
  },
  {
   "cell_type": "code",
   "execution_count": 37,
   "metadata": {},
   "outputs": [
    {
     "data": {
      "text/plain": [
       "86094"
      ]
     },
     "execution_count": 37,
     "metadata": {},
     "output_type": "execute_result"
    }
   ],
   "source": [
    "(dr2['smooth-or-featured_total-votes'] > 30).sum()"
   ]
  },
  {
   "cell_type": "code",
   "execution_count": 38,
   "metadata": {},
   "outputs": [
    {
     "data": {
      "text/plain": [
       "63007"
      ]
     },
     "execution_count": 38,
     "metadata": {},
     "output_type": "execute_result"
    }
   ],
   "source": [
    "(dr2['smooth-or-featured_total-votes'] > 35).sum()"
   ]
  },
  {
   "cell_type": "code",
   "execution_count": 39,
   "metadata": {},
   "outputs": [
    {
     "data": {
      "text/plain": [
       "54592"
      ]
     },
     "execution_count": 39,
     "metadata": {},
     "output_type": "execute_result"
    }
   ],
   "source": [
    "(dr5['smooth-or-featured_total-votes'] > 35).sum()"
   ]
  },
  {
   "cell_type": "code",
   "execution_count": 40,
   "metadata": {},
   "outputs": [
    {
     "data": {
      "text/plain": [
       "(0.9853722669235567, 0.9622482095338866)"
      ]
     },
     "execution_count": 40,
     "metadata": {},
     "output_type": "execute_result"
    }
   ],
   "source": [
    "(dr5['smooth-or-featured_total-votes'] >= 3).mean(), (dr5['smooth-or-featured_total-votes'] >= 4).mean()"
   ]
  },
  {
   "cell_type": "code",
   "execution_count": 41,
   "metadata": {},
   "outputs": [
    {
     "data": {
      "text/plain": [
       "(array([1.94353e+05, 4.98300e+04, 8.02300e+03, 9.87000e+02, 6.00000e+01,\n",
       "        4.00000e+00, 8.00000e+00, 2.00000e+00, 1.50000e+01, 4.00000e+00]),\n",
       " array([  1. ,  31.2,  61.4,  91.6, 121.8, 152. , 182.2, 212.4, 242.6,\n",
       "        272.8, 303. ]),\n",
       " <a list of 10 Patch objects>)"
      ]
     },
     "execution_count": 41,
     "metadata": {},
     "output_type": "execute_result"
    },
    {
     "data": {
      "image/png": "[encoded data removed]",
      "text/plain": [
       "<Figure size 432x288 with 1 Axes>"
      ]
     },
     "metadata": {},
     "output_type": "display_data"
    }
   ],
   "source": [
    "plt.hist(dr5['smooth-or-featured_total-votes'])"
   ]
  },
  {
   "cell_type": "code",
   "execution_count": 42,
   "metadata": {},
   "outputs": [],
   "source": [
    "def get_png_loc(iauname): # relative\n",
    "    return f'png_native/dr5/{iauname[:4]}/{iauname}.png'"
   ]
  },
  {
   "cell_type": "code",
   "execution_count": 43,
   "metadata": {},
   "outputs": [],
   "source": [
    "dr5['png_loc'] = dr5['iauname'].apply(get_png_loc)\n",
    "dr5['local_png_loc'] = dr5['png_loc'].apply(lambda x: os.path.join('/media/walml/beta/decals', x))"
   ]
  },
  {
   "cell_type": "code",
   "execution_count": 44,
   "metadata": {},
   "outputs": [],
   "source": [
    "dr5['png_exists'] = dr5['local_png_loc'].apply(os.path.isfile)"
   ]
  },
  {
   "cell_type": "code",
   "execution_count": 45,
   "metadata": {},
   "outputs": [
    {
     "data": {
      "text/plain": [
       "1.0"
      ]
     },
     "execution_count": 45,
     "metadata": {},
     "output_type": "execute_result"
    }
   ],
   "source": [
    "dr5['png_exists'].mean()"
   ]
  },
  {
   "cell_type": "code",
   "execution_count": 46,
   "metadata": {},
   "outputs": [],
   "source": [
    "assert all(dr5['png_exists'])"
   ]
  },
  {
   "cell_type": "code",
   "execution_count": 50,
   "metadata": {},
   "outputs": [
    {
     "data": {
      "text/plain": [
       "(92960, 253286)"
      ]
     },
     "execution_count": 50,
     "metadata": {},
     "output_type": "execute_result"
    }
   ],
   "source": [
    "len(dr2), len(dr5)"
   ]
  },
  {
   "cell_type": "code",
   "execution_count": 49,
   "metadata": {},
   "outputs": [],
   "source": [
    "# dr2.to_csv('current_final_dr2_result.csv', index=False)\n",
    "dr2.to_parquet('current_final_dr2_result.parquet', index=False)\n",
    "# Final number: 92,960 galaxies"
   ]
  },
  {
   "cell_type": "code",
   "execution_count": 48,
   "metadata": {},
   "outputs": [],
   "source": [
    "# dr5.to_csv('current_final_dr5_result.csv', index=False)\n",
    "dr5.to_parquet('current_final_dr5_result.parquet', index=False)\n",
    "# Final number: 253,286 galaxies"
   ]
  },
  {
   "cell_type": "code",
   "execution_count": null,
   "metadata": {},
   "outputs": [],
   "source": []
  }
 ],
 "metadata": {
  "kernelspec": {
   "display_name": "Python 3",
   "language": "python",
   "name": "python3"
  },
  "language_info": {
   "codemirror_mode": {
    "name": "ipython",
    "version": 3
   },
   "file_extension": ".py",
   "mimetype": "text/x-python",
   "name": "python",
   "nbconvert_exporter": "python",
   "pygments_lexer": "ipython3",
   "version": "3.7.6"
  }
 },
 "nbformat": 4,
 "nbformat_minor": 4
}
