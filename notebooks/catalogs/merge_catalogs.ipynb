{
 "cells": [
  {
   "cell_type": "code",
   "execution_count": 3,
   "metadata": {},
   "outputs": [],
   "source": [
    "import matplotlib.pyplot as plt\n",
    "import pandas as pd\n",
    "from astropy.table import Table\n",
    "import os\n",
    "import numpy as np\n",
    "import cartopy.crs as ccrs\n",
    "import json\n",
    "import os\n",
    "import seaborn as sns\n",
    "from astropy.table import Table"
   ]
  },
  {
   "cell_type": "code",
   "execution_count": 4,
   "metadata": {},
   "outputs": [],
   "source": [
    "os.chdir('/home/walml/repos/zoobot')"
   ]
  },
  {
   "cell_type": "code",
   "execution_count": 5,
   "metadata": {},
   "outputs": [
    {
     "name": "stderr",
     "output_type": "stream",
     "text": [
      "/home/walml/anaconda3/envs/zoobot/lib/python3.7/site-packages/IPython/core/interactiveshell.py:3063: DtypeWarning: Columns (22) have mixed types.Specify dtype option on import or set low_memory=False.\n",
      "  interactivity=interactivity, compiler=compiler, result=result)\n"
     ]
    }
   ],
   "source": [
    " # pretend is cleaned classifications\n",
    "    \n",
    "# make sure this is re-run with clean classifications, if needed\n",
    "dr2_c = pd.read_csv('/media/walml/beta/galaxy_zoo/decals/gzreduction_ouroborous/working_dir/votes/dr2_aggregated_votes.csv')\n",
    "dr2_s = pd.read_csv('/media/walml/beta/galaxy_zoo/decals/classifications/dr1_dr2/decals_dr1_and_dr2.csv')\n",
    "\n",
    "dr5_c = pd.read_csv('/home/walml/Downloads/classifications_200520.csv') "
   ]
  },
  {
   "cell_type": "markdown",
   "metadata": {},
   "source": [
    "### Merge each with subject data: iauname, ra, dec. DR5 already has this. (move to dr2 fixes?)\n"
   ]
  },
  {
   "cell_type": "code",
   "execution_count": 6,
   "metadata": {},
   "outputs": [
    {
     "data": {
      "text/plain": [
       "array(['subject_id', 'smooth-or-featured_smooth',\n",
       "       'smooth-or-featured_featured-or-disk',\n",
       "       'smooth-or-featured_artifact', 'how-rounded_completely',\n",
       "       'how-rounded_in-between', 'how-rounded_cigar-shaped',\n",
       "       'disk-edge-on_yes', 'disk-edge-on_no', 'edge-on-bulge_rounded',\n",
       "       'edge-on-bulge_boxy', 'edge-on-bulge_none', 'bar_yes', 'bar_no',\n",
       "       'has-spiral-arms_yes', 'has-spiral-arms_no',\n",
       "       'spiral-winding_tight', 'spiral-winding_medium',\n",
       "       'spiral-winding_loose', 'spiral-arm-count_1', 'spiral-arm-count_2',\n",
       "       'spiral-arm-count_3', 'spiral-arm-count_4',\n",
       "       'spiral-arm-count_more-than-4', 'bulge-size_none',\n",
       "       'bulge-size_obvious', 'bulge-size_dominant', 'merging_merger',\n",
       "       'merging_tidal-debris', 'merging_both', 'merging_neither',\n",
       "       'smooth-or-featured_total-votes',\n",
       "       'smooth-or-featured_smooth_fraction',\n",
       "       'smooth-or-featured_featured-or-disk_fraction',\n",
       "       'smooth-or-featured_artifact_fraction', 'how-rounded_total-votes',\n",
       "       'how-rounded_completely_fraction',\n",
       "       'how-rounded_in-between_fraction',\n",
       "       'how-rounded_cigar-shaped_fraction', 'disk-edge-on_total-votes',\n",
       "       'disk-edge-on_yes_fraction', 'disk-edge-on_no_fraction',\n",
       "       'edge-on-bulge_total-votes', 'edge-on-bulge_rounded_fraction',\n",
       "       'edge-on-bulge_boxy_fraction', 'edge-on-bulge_none_fraction',\n",
       "       'bar_total-votes', 'bar_yes_fraction', 'bar_no_fraction',\n",
       "       'has-spiral-arms_total-votes', 'has-spiral-arms_yes_fraction',\n",
       "       'has-spiral-arms_no_fraction', 'spiral-winding_total-votes',\n",
       "       'spiral-winding_tight_fraction', 'spiral-winding_medium_fraction',\n",
       "       'spiral-winding_loose_fraction', 'spiral-arm-count_total-votes',\n",
       "       'spiral-arm-count_1_fraction', 'spiral-arm-count_2_fraction',\n",
       "       'spiral-arm-count_3_fraction', 'spiral-arm-count_4_fraction',\n",
       "       'spiral-arm-count_more-than-4_fraction', 'bulge-size_total-votes',\n",
       "       'bulge-size_none_fraction', 'bulge-size_obvious_fraction',\n",
       "       'bulge-size_dominant_fraction', 'merging_total-votes',\n",
       "       'merging_merger_fraction', 'merging_tidal-debris_fraction',\n",
       "       'merging_both_fraction', 'merging_neither_fraction'], dtype=object)"
      ]
     },
     "execution_count": 6,
     "metadata": {},
     "output_type": "execute_result"
    }
   ],
   "source": [
    "dr2_c.columns.values"
   ]
  },
  {
   "cell_type": "code",
   "execution_count": 7,
   "metadata": {},
   "outputs": [
    {
     "data": {
      "text/plain": [
       "array(['_id', 'absolute_size', 'background', 'bad_image', 'band', 'bands',\n",
       "       'camera', 'counters', 'data_release', 'dec', 'dr8objid', 'field',\n",
       "       'flux_radius1_I', 'group_id', 'half_rad_h', 'hubble_id', 'iauname',\n",
       "       'kron_radius_I', 'mag', 'magnitude', 'mangaid', 'mass_log_msun',\n",
       "       'nobs_max', 'nsa_id', 'nsa_z', 'petro_r50_r', 'petro_r90_r',\n",
       "       'petroflux_r', 'petrorad_50_r', 'petrorad_flux', 'petrorad_r',\n",
       "       'priority', 'ra', 'radius_half', 'redshift', 'retire_at',\n",
       "       'sdss_dr12_objid', 'sdss_dr7_id', 'sdss_dr8_id', 'sdss_id', 'sfr',\n",
       "       'simulation', 'snapshot', 'subdir', 'subhalo_id', 'survey'],\n",
       "      dtype=object)"
      ]
     },
     "execution_count": 7,
     "metadata": {},
     "output_type": "execute_result"
    }
   ],
   "source": [
    "dr2_s.columns.values"
   ]
  },
  {
   "cell_type": "code",
   "execution_count": 8,
   "metadata": {},
   "outputs": [],
   "source": [
    "dr2_s['subject_id'] = dr2_s['_id'].str[9:-1]"
   ]
  },
  {
   "cell_type": "code",
   "execution_count": 9,
   "metadata": {},
   "outputs": [],
   "source": [
    "dr2 = pd.merge(dr2_c, dr2_s[['iauname', 'ra', 'dec', 'subject_id']], on='subject_id', how='inner')"
   ]
  },
  {
   "cell_type": "code",
   "execution_count": 10,
   "metadata": {},
   "outputs": [],
   "source": [
    "dr2.to_csv('current_final_dr2_result.csv', index=False)"
   ]
  },
  {
   "cell_type": "code",
   "execution_count": null,
   "metadata": {},
   "outputs": [],
   "source": []
  },
  {
   "cell_type": "code",
   "execution_count": null,
   "metadata": {},
   "outputs": [],
   "source": []
  },
  {
   "cell_type": "code",
   "execution_count": null,
   "metadata": {},
   "outputs": [],
   "source": []
  },
  {
   "cell_type": "code",
   "execution_count": null,
   "metadata": {},
   "outputs": [],
   "source": []
  },
  {
   "cell_type": "code",
   "execution_count": null,
   "metadata": {},
   "outputs": [],
   "source": []
  },
  {
   "cell_type": "markdown",
   "metadata": {},
   "source": [
    "Which subjects were actually classified?"
   ]
  },
  {
   "cell_type": "code",
   "execution_count": 6,
   "metadata": {},
   "outputs": [
    {
     "name": "stderr",
     "output_type": "stream",
     "text": [
      "/home/walml/anaconda3/envs/zoobot/lib/python3.7/site-packages/IPython/core/interactiveshell.py:3063: DtypeWarning: Columns (23) have mixed types.Specify dtype option on import or set low_memory=False.\n",
      "  interactivity=interactivity, compiler=compiler, result=result)\n"
     ]
    },
    {
     "data": {
      "text/plain": [
       "(103712, 94024)"
      ]
     },
     "execution_count": 6,
     "metadata": {},
     "output_type": "execute_result"
    }
   ],
   "source": [
    "dr1_subject_ids = set(dr1_c['subject_id'])\n",
    "dr2_subject_ids = set(dr2_c['subject_id'])\n",
    "dr1_2_subject_ids = dr1_subject_ids.union(dr2_subject_ids)\n",
    "dr1_dr2_subjects = pd.read_csv('/media/walml/beta/galaxy_zoo/decals/catalogs/raw/decals_dr1_and_dr2.csv')\n",
    "dr1_dr2_classified = dr1_dr2_subjects[dr1_dr2_subjects['subject_id'].isin(dr1_2_subject_ids)]\n",
    "len(dr1_dr2_subjects), len(dr1_dr2_classified)\n"
   ]
  },
  {
   "cell_type": "code",
   "execution_count": 7,
   "metadata": {},
   "outputs": [
    {
     "ename": "NameError",
     "evalue": "name 'to_upload' is not defined",
     "output_type": "error",
     "traceback": [
      "\u001b[0;31m---------------------------------------------------------------------------\u001b[0m",
      "\u001b[0;31mNameError\u001b[0m                                 Traceback (most recent call last)",
      "\u001b[0;32m<ipython-input-7-feaad27232a8>\u001b[0m in \u001b[0;36m<module>\u001b[0;34m\u001b[0m\n\u001b[1;32m      1\u001b[0m \u001b[0mdr1_dr2_classified_iaunames\u001b[0m \u001b[0;34m=\u001b[0m \u001b[0mdr1_dr2_subjects\u001b[0m\u001b[0;34m[\u001b[0m\u001b[0;34m'iauname'\u001b[0m\u001b[0;34m]\u001b[0m\u001b[0;34m\u001b[0m\u001b[0;34m\u001b[0m\u001b[0m\n\u001b[0;32m----> 2\u001b[0;31m \u001b[0mnot_classified_in_dr1_dr2\u001b[0m \u001b[0;34m=\u001b[0m \u001b[0mto_upload\u001b[0m\u001b[0;34m[\u001b[0m\u001b[0;34m~\u001b[0m\u001b[0mto_upload\u001b[0m\u001b[0;34m[\u001b[0m\u001b[0;34m'iauname'\u001b[0m\u001b[0;34m]\u001b[0m\u001b[0;34m.\u001b[0m\u001b[0misin\u001b[0m\u001b[0;34m(\u001b[0m\u001b[0mdr1_dr2_classified_iaunames\u001b[0m\u001b[0;34m)\u001b[0m\u001b[0;34m]\u001b[0m\u001b[0;34m\u001b[0m\u001b[0;34m\u001b[0m\u001b[0m\n\u001b[0m\u001b[1;32m      3\u001b[0m \u001b[0mshould_be_uploaded\u001b[0m \u001b[0;34m=\u001b[0m \u001b[0mnot_classified_in_dr1_dr2\u001b[0m\u001b[0;34m.\u001b[0m\u001b[0mquery\u001b[0m\u001b[0;34m(\u001b[0m\u001b[0;34m'fits_filled'\u001b[0m\u001b[0;34m)\u001b[0m  \u001b[0;31m# these should all be uploaded\u001b[0m\u001b[0;34m\u001b[0m\u001b[0;34m\u001b[0m\u001b[0m\n\u001b[1;32m      4\u001b[0m \u001b[0mlen\u001b[0m\u001b[0;34m(\u001b[0m\u001b[0mshould_be_uploaded\u001b[0m\u001b[0;34m)\u001b[0m\u001b[0;34m\u001b[0m\u001b[0;34m\u001b[0m\u001b[0m\n",
      "\u001b[0;31mNameError\u001b[0m: name 'to_upload' is not defined"
     ]
    }
   ],
   "source": [
    "dr1_dr2_classified_iaunames = dr1_dr2_subjects['iauname']\n",
    "not_classified_in_dr1_dr2 = to_upload[~to_upload['iauname'].isin(dr1_dr2_classified_iaunames)]\n",
    "should_be_uploaded = not_classified_in_dr1_dr2.query('fits_filled')  # these should all be uploaded\n",
    "len(should_be_uploaded)"
   ]
  },
  {
   "cell_type": "markdown",
   "metadata": {},
   "source": [
    "These classified subjects should not be uploaded again"
   ]
  }
 ],
 "metadata": {
  "kernelspec": {
   "display_name": "Python 3",
   "language": "python",
   "name": "python3"
  },
  "language_info": {
   "codemirror_mode": {
    "name": "ipython",
    "version": 3
   },
   "file_extension": ".py",
   "mimetype": "text/x-python",
   "name": "python",
   "nbconvert_exporter": "python",
   "pygments_lexer": "ipython3",
   "version": "3.7.6"
  }
 },
 "nbformat": 4,
 "nbformat_minor": 4
}
