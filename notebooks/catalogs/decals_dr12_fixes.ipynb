{
 "cells": [
  {
   "cell_type": "code",
   "execution_count": 1,
   "metadata": {},
   "outputs": [],
   "source": [
    "import matplotlib.pyplot as plt\n",
    "import pandas as pd\n",
    "from astropy.table import Table\n",
    "import os\n",
    "import numpy as np\n",
    "import cartopy.crs as ccrs\n",
    "import json\n",
    "import os\n",
    "import seaborn as sns"
   ]
  },
  {
   "cell_type": "code",
   "execution_count": 2,
   "metadata": {},
   "outputs": [],
   "source": [
    "from astropy.table import Table"
   ]
  },
  {
   "cell_type": "code",
   "execution_count": 3,
   "metadata": {},
   "outputs": [],
   "source": [
    "os.chdir('/home/walml/repos/zoobot')"
   ]
  },
  {
   "cell_type": "markdown",
   "metadata": {},
   "source": [
    "## Remove DR1/2 repeats"
   ]
  },
  {
   "cell_type": "code",
   "execution_count": 4,
   "metadata": {},
   "outputs": [
    {
     "name": "stderr",
     "output_type": "stream",
     "text": [
      "/home/walml/anaconda3/envs/zoobot/lib/python3.7/site-packages/IPython/core/interactiveshell.py:3331: TableReplaceWarning: converted column 'background' from integer to float\n",
      "  exec(code_obj, self.user_global_ns, self.user_ns)\n",
      "/home/walml/anaconda3/envs/zoobot/lib/python3.7/site-packages/IPython/core/interactiveshell.py:3331: TableReplaceWarning: converted column 'bad_image' from integer to float\n",
      "  exec(code_obj, self.user_global_ns, self.user_ns)\n",
      "/home/walml/anaconda3/envs/zoobot/lib/python3.7/site-packages/IPython/core/interactiveshell.py:3331: TableReplaceWarning: converted column 'band' from integer to float\n",
      "  exec(code_obj, self.user_global_ns, self.user_ns)\n",
      "/home/walml/anaconda3/envs/zoobot/lib/python3.7/site-packages/IPython/core/interactiveshell.py:3331: TableReplaceWarning: converted column 'bands' from integer to float\n",
      "  exec(code_obj, self.user_global_ns, self.user_ns)\n",
      "/home/walml/anaconda3/envs/zoobot/lib/python3.7/site-packages/IPython/core/interactiveshell.py:3331: TableReplaceWarning: converted column 'camera' from integer to float\n",
      "  exec(code_obj, self.user_global_ns, self.user_ns)\n",
      "/home/walml/anaconda3/envs/zoobot/lib/python3.7/site-packages/IPython/core/interactiveshell.py:3331: TableReplaceWarning: converted column 'dr8objid' from integer to float\n",
      "  exec(code_obj, self.user_global_ns, self.user_ns)\n",
      "/home/walml/anaconda3/envs/zoobot/lib/python3.7/site-packages/IPython/core/interactiveshell.py:3331: TableReplaceWarning: converted column 'field' from integer to float\n",
      "  exec(code_obj, self.user_global_ns, self.user_ns)\n",
      "/home/walml/anaconda3/envs/zoobot/lib/python3.7/site-packages/IPython/core/interactiveshell.py:3331: TableReplaceWarning: converted column 'flux_radius1_I' from integer to float\n",
      "  exec(code_obj, self.user_global_ns, self.user_ns)\n",
      "/home/walml/anaconda3/envs/zoobot/lib/python3.7/site-packages/IPython/core/interactiveshell.py:3331: TableReplaceWarning: converted column 'half_rad_h' from integer to float\n",
      "  exec(code_obj, self.user_global_ns, self.user_ns)\n",
      "/home/walml/anaconda3/envs/zoobot/lib/python3.7/site-packages/IPython/core/interactiveshell.py:3331: TableReplaceWarning: converted column 'hubble_id' from integer to float\n",
      "  exec(code_obj, self.user_global_ns, self.user_ns)\n",
      "/home/walml/anaconda3/envs/zoobot/lib/python3.7/site-packages/IPython/core/interactiveshell.py:3331: TableReplaceWarning: converted column 'kron_radius_I' from integer to float\n",
      "  exec(code_obj, self.user_global_ns, self.user_ns)\n",
      "/home/walml/anaconda3/envs/zoobot/lib/python3.7/site-packages/IPython/core/interactiveshell.py:3331: TableReplaceWarning: converted column 'magnitude' from integer to float\n",
      "  exec(code_obj, self.user_global_ns, self.user_ns)\n",
      "/home/walml/anaconda3/envs/zoobot/lib/python3.7/site-packages/IPython/core/interactiveshell.py:3331: TableReplaceWarning: converted column 'mangaid' from integer to float\n",
      "  exec(code_obj, self.user_global_ns, self.user_ns)\n",
      "/home/walml/anaconda3/envs/zoobot/lib/python3.7/site-packages/IPython/core/interactiveshell.py:3331: TableReplaceWarning: converted column 'mass_log_msun' from integer to float\n",
      "  exec(code_obj, self.user_global_ns, self.user_ns)\n",
      "/home/walml/anaconda3/envs/zoobot/lib/python3.7/site-packages/IPython/core/interactiveshell.py:3331: TableReplaceWarning: converted column 'nsa_z' from integer to float\n",
      "  exec(code_obj, self.user_global_ns, self.user_ns)\n",
      "/home/walml/anaconda3/envs/zoobot/lib/python3.7/site-packages/IPython/core/interactiveshell.py:3331: TableReplaceWarning: converted column 'petro_r50_r' from integer to float\n",
      "  exec(code_obj, self.user_global_ns, self.user_ns)\n",
      "/home/walml/anaconda3/envs/zoobot/lib/python3.7/site-packages/IPython/core/interactiveshell.py:3331: TableReplaceWarning: converted column 'petro_r90_r' from integer to float\n",
      "  exec(code_obj, self.user_global_ns, self.user_ns)\n",
      "/home/walml/anaconda3/envs/zoobot/lib/python3.7/site-packages/IPython/core/interactiveshell.py:3331: TableReplaceWarning: converted column 'petrorad_flux' from integer to float\n",
      "  exec(code_obj, self.user_global_ns, self.user_ns)\n",
      "/home/walml/anaconda3/envs/zoobot/lib/python3.7/site-packages/IPython/core/interactiveshell.py:3331: TableReplaceWarning: converted column 'priority' from integer to float\n",
      "  exec(code_obj, self.user_global_ns, self.user_ns)\n",
      "/home/walml/anaconda3/envs/zoobot/lib/python3.7/site-packages/IPython/core/interactiveshell.py:3331: TableReplaceWarning: converted column 'radius_half' from integer to float\n",
      "  exec(code_obj, self.user_global_ns, self.user_ns)\n",
      "/home/walml/anaconda3/envs/zoobot/lib/python3.7/site-packages/IPython/core/interactiveshell.py:3331: TableReplaceWarning: converted column 'sdss_dr12_objid' from integer to float\n",
      "  exec(code_obj, self.user_global_ns, self.user_ns)\n",
      "/home/walml/anaconda3/envs/zoobot/lib/python3.7/site-packages/IPython/core/interactiveshell.py:3331: TableReplaceWarning: converted column 'sdss_dr7_id' from integer to float\n",
      "  exec(code_obj, self.user_global_ns, self.user_ns)\n",
      "/home/walml/anaconda3/envs/zoobot/lib/python3.7/site-packages/IPython/core/interactiveshell.py:3331: TableReplaceWarning: converted column 'sdss_dr8_id' from integer to float\n",
      "  exec(code_obj, self.user_global_ns, self.user_ns)\n",
      "/home/walml/anaconda3/envs/zoobot/lib/python3.7/site-packages/IPython/core/interactiveshell.py:3331: TableReplaceWarning: converted column 'sdss_id' from integer to float\n",
      "  exec(code_obj, self.user_global_ns, self.user_ns)\n",
      "/home/walml/anaconda3/envs/zoobot/lib/python3.7/site-packages/IPython/core/interactiveshell.py:3331: TableReplaceWarning: converted column 'sfr' from integer to float\n",
      "  exec(code_obj, self.user_global_ns, self.user_ns)\n",
      "/home/walml/anaconda3/envs/zoobot/lib/python3.7/site-packages/IPython/core/interactiveshell.py:3331: TableReplaceWarning: converted column 'simulation' from integer to float\n",
      "  exec(code_obj, self.user_global_ns, self.user_ns)\n",
      "/home/walml/anaconda3/envs/zoobot/lib/python3.7/site-packages/IPython/core/interactiveshell.py:3331: TableReplaceWarning: converted column 'snapshot' from integer to float\n",
      "  exec(code_obj, self.user_global_ns, self.user_ns)\n",
      "/home/walml/anaconda3/envs/zoobot/lib/python3.7/site-packages/IPython/core/interactiveshell.py:3331: TableReplaceWarning: converted column 'subdir' from integer to float\n",
      "  exec(code_obj, self.user_global_ns, self.user_ns)\n",
      "/home/walml/anaconda3/envs/zoobot/lib/python3.7/site-packages/IPython/core/interactiveshell.py:3331: TableReplaceWarning: converted column 'subhalo_id' from integer to float\n",
      "  exec(code_obj, self.user_global_ns, self.user_ns)\n"
     ]
    }
   ],
   "source": [
    "dr1_dr2 = Table.read('/media/walml/beta/galaxy_zoo/decals/catalogs/raw/decals_dr1_and_dr2.csv').to_pandas()"
   ]
  },
  {
   "cell_type": "code",
   "execution_count": 5,
   "metadata": {},
   "outputs": [],
   "source": [
    "del dr1_dr2['_id']"
   ]
  },
  {
   "cell_type": "code",
   "execution_count": 6,
   "metadata": {},
   "outputs": [
    {
     "data": {
      "text/plain": [
       "2413"
      ]
     },
     "execution_count": 6,
     "metadata": {},
     "output_type": "execute_result"
    }
   ],
   "source": [
    "(dr1_dr2['iauname'].value_counts() > 1).sum()"
   ]
  },
  {
   "cell_type": "code",
   "execution_count": 7,
   "metadata": {},
   "outputs": [],
   "source": [
    "counts = dr1_dr2['iauname'].value_counts() > 1\n",
    "repeating_iaunames = counts[counts].index.values\n",
    "repeating_iaunames = [a for a in repeating_iaunames]"
   ]
  },
  {
   "cell_type": "code",
   "execution_count": 8,
   "metadata": {},
   "outputs": [
    {
     "data": {
      "text/plain": [
       "2413"
      ]
     },
     "execution_count": 8,
     "metadata": {},
     "output_type": "execute_result"
    }
   ],
   "source": [
    "len(repeating_iaunames)"
   ]
  },
  {
   "cell_type": "code",
   "execution_count": 9,
   "metadata": {},
   "outputs": [
    {
     "data": {
      "text/plain": [
       "(4826, 4826)"
      ]
     },
     "execution_count": 9,
     "metadata": {},
     "output_type": "execute_result"
    }
   ],
   "source": [
    "repeating_subject_ids = dr1_dr2[dr1_dr2['iauname'].isin(repeating_iaunames)]['subject_id']\n",
    "len(repeating_subject_ids), len(set(repeating_subject_ids))"
   ]
  },
  {
   "cell_type": "code",
   "execution_count": 10,
   "metadata": {},
   "outputs": [
    {
     "data": {
      "text/html": [
       "<div>\n",
       "<style scoped>\n",
       "    .dataframe tbody tr th:only-of-type {\n",
       "        vertical-align: middle;\n",
       "    }\n",
       "\n",
       "    .dataframe tbody tr th {\n",
       "        vertical-align: top;\n",
       "    }\n",
       "\n",
       "    .dataframe thead th {\n",
       "        text-align: right;\n",
       "    }\n",
       "</style>\n",
       "<table border=\"1\" class=\"dataframe\">\n",
       "  <thead>\n",
       "    <tr style=\"text-align: right;\">\n",
       "      <th></th>\n",
       "      <th>col0</th>\n",
       "      <th>absolute_size</th>\n",
       "      <th>background</th>\n",
       "      <th>bad_image</th>\n",
       "      <th>band</th>\n",
       "      <th>bands</th>\n",
       "      <th>camera</th>\n",
       "      <th>counters</th>\n",
       "      <th>data_release</th>\n",
       "      <th>dec</th>\n",
       "      <th>...</th>\n",
       "      <th>sdss_dr7_id</th>\n",
       "      <th>sdss_dr8_id</th>\n",
       "      <th>sdss_id</th>\n",
       "      <th>sfr</th>\n",
       "      <th>simulation</th>\n",
       "      <th>snapshot</th>\n",
       "      <th>subdir</th>\n",
       "      <th>subhalo_id</th>\n",
       "      <th>survey</th>\n",
       "      <th>subject_id</th>\n",
       "    </tr>\n",
       "  </thead>\n",
       "  <tbody>\n",
       "    <tr>\n",
       "      <th>26666</th>\n",
       "      <td>26666</td>\n",
       "      <td>10.090934</td>\n",
       "      <td>NaN</td>\n",
       "      <td>NaN</td>\n",
       "      <td>NaN</td>\n",
       "      <td>NaN</td>\n",
       "      <td>NaN</td>\n",
       "      <td>{\"feature\": 0, \"smooth\": 0, \"star\": 0}</td>\n",
       "      <td>DR1</td>\n",
       "      <td>6.041827</td>\n",
       "      <td>...</td>\n",
       "      <td>NaN</td>\n",
       "      <td>NaN</td>\n",
       "      <td>NaN</td>\n",
       "      <td>NaN</td>\n",
       "      <td>NaN</td>\n",
       "      <td>NaN</td>\n",
       "      <td>NaN</td>\n",
       "      <td>NaN</td>\n",
       "      <td>decals</td>\n",
       "      <td>55a7d7ae7a726119cd00682a</td>\n",
       "    </tr>\n",
       "    <tr>\n",
       "      <th>70144</th>\n",
       "      <td>70144</td>\n",
       "      <td>10.090934</td>\n",
       "      <td>NaN</td>\n",
       "      <td>NaN</td>\n",
       "      <td>NaN</td>\n",
       "      <td>NaN</td>\n",
       "      <td>NaN</td>\n",
       "      <td>{\"star\": 0, \"smooth\": 0, \"feature\": 0}</td>\n",
       "      <td>DR2</td>\n",
       "      <td>6.041827</td>\n",
       "      <td>...</td>\n",
       "      <td>NaN</td>\n",
       "      <td>NaN</td>\n",
       "      <td>NaN</td>\n",
       "      <td>NaN</td>\n",
       "      <td>NaN</td>\n",
       "      <td>NaN</td>\n",
       "      <td>NaN</td>\n",
       "      <td>NaN</td>\n",
       "      <td>decals</td>\n",
       "      <td>56f3dcb25925d900420269df</td>\n",
       "    </tr>\n",
       "  </tbody>\n",
       "</table>\n",
       "<p>2 rows × 47 columns</p>\n",
       "</div>"
      ],
      "text/plain": [
       "        col0  absolute_size  background  bad_image  band  bands  camera  \\\n",
       "26666  26666      10.090934         NaN        NaN   NaN    NaN     NaN   \n",
       "70144  70144      10.090934         NaN        NaN   NaN    NaN     NaN   \n",
       "\n",
       "                                     counters data_release       dec  ...  \\\n",
       "26666  {\"feature\": 0, \"smooth\": 0, \"star\": 0}          DR1  6.041827  ...   \n",
       "70144  {\"star\": 0, \"smooth\": 0, \"feature\": 0}          DR2  6.041827  ...   \n",
       "\n",
       "       sdss_dr7_id  sdss_dr8_id  sdss_id sfr  simulation  snapshot subdir  \\\n",
       "26666          NaN          NaN      NaN NaN         NaN       NaN    NaN   \n",
       "70144          NaN          NaN      NaN NaN         NaN       NaN    NaN   \n",
       "\n",
       "       subhalo_id  survey                subject_id  \n",
       "26666         NaN  decals  55a7d7ae7a726119cd00682a  \n",
       "70144         NaN  decals  56f3dcb25925d900420269df  \n",
       "\n",
       "[2 rows x 47 columns]"
      ]
     },
     "execution_count": 10,
     "metadata": {},
     "output_type": "execute_result"
    }
   ],
   "source": [
    "dr1_dr2[dr1_dr2['iauname'] == 'J154253.87+060230.5'].squeeze()"
   ]
  },
  {
   "cell_type": "markdown",
   "metadata": {},
   "source": [
    "Different: _id, data_release, nobs_max (new), retire_at\n",
    "    \n",
    "This repeat is a galaxy uploaded in both DR1 and DR2. That's always true:\n"
   ]
  },
  {
   "cell_type": "code",
   "execution_count": 11,
   "metadata": {},
   "outputs": [
    {
     "data": {
      "text/plain": [
       "(2413, 0)"
      ]
     },
     "execution_count": 11,
     "metadata": {},
     "output_type": "execute_result"
    }
   ],
   "source": [
    "dr1_dr2.duplicated('iauname').sum(), dr1_dr2.duplicated(subset=['iauname', 'data_release']).sum()"
   ]
  },
  {
   "cell_type": "code",
   "execution_count": 12,
   "metadata": {},
   "outputs": [
    {
     "data": {
      "text/plain": [
       "DR2    61595\n",
       "DR1    42117\n",
       "Name: data_release, dtype: int64"
      ]
     },
     "execution_count": 12,
     "metadata": {},
     "output_type": "execute_result"
    }
   ],
   "source": [
    "dr1_dr2['data_release'].value_counts()"
   ]
  },
  {
   "cell_type": "markdown",
   "metadata": {},
   "source": [
    "Let's remove the DR1 duplicates from the DR1 classifications file"
   ]
  },
  {
   "cell_type": "code",
   "execution_count": 13,
   "metadata": {},
   "outputs": [],
   "source": [
    "dr1 = pd.read_csv('/media/walml/beta/galaxy_zoo/decals/gzreduction_ouroborous/working_dir/raw/classifications/2017-10-15_galaxy_zoo_decals_classifications.csv')\n",
    "dr2 = pd.read_csv('/media/walml/beta/galaxy_zoo/decals/gzreduction_ouroborous/working_dir/raw/classifications/2017-10-15_galaxy_zoo_decals_dr2_classifications.csv')"
   ]
  },
  {
   "cell_type": "code",
   "execution_count": 14,
   "metadata": {},
   "outputs": [
    {
     "data": {
      "text/plain": [
       "array(['id', 'subject_id', 'user', 'created_at', 'lang', 'user_agent',\n",
       "       'decals-0', 'decals-1', 'decals-2', 'decals-3', 'decals-4',\n",
       "       'decals-5', 'decals-6', 'decals-7', 'decals-8', 'decals-9',\n",
       "       'decals-10', 'decals-11'], dtype=object)"
      ]
     },
     "execution_count": 14,
     "metadata": {},
     "output_type": "execute_result"
    }
   ],
   "source": [
    "dr1.columns.values"
   ]
  },
  {
   "cell_type": "code",
   "execution_count": 17,
   "metadata": {},
   "outputs": [
    {
     "data": {
      "text/plain": [
       "a-0    914957\n",
       "a-1    489894\n",
       "a-2    312316\n",
       "a-3         4\n",
       "Name: decals-0, dtype: int64"
      ]
     },
     "execution_count": 17,
     "metadata": {},
     "output_type": "execute_result"
    }
   ],
   "source": [
    "dr1['decals-0'].value_counts()"
   ]
  },
  {
   "cell_type": "code",
   "execution_count": 18,
   "metadata": {},
   "outputs": [
    {
     "data": {
      "text/plain": [
       "a-0    1284174\n",
       "a-1     683792\n",
       "a-2     507486\n",
       "a-3          8\n",
       "Name: decals-0, dtype: int64"
      ]
     },
     "execution_count": 18,
     "metadata": {},
     "output_type": "execute_result"
    }
   ],
   "source": [
    "dr2['decals-0'].value_counts()"
   ]
  },
  {
   "cell_type": "code",
   "execution_count": null,
   "metadata": {},
   "outputs": [],
   "source": [
    "# all classified subjects are in the subject catalog\n",
    "dr1['subject_id'].isin(dr1_dr2['subject_id']).mean(), dr2['subject_id'].isin(dr1_dr2['subject_id']).mean()"
   ]
  },
  {
   "cell_type": "code",
   "execution_count": null,
   "metadata": {},
   "outputs": [],
   "source": [
    "dr1_with_subjects = pd.merge(dr1, dr1_dr2, on='subject_id', how='inner')"
   ]
  },
  {
   "cell_type": "code",
   "execution_count": null,
   "metadata": {},
   "outputs": [],
   "source": [
    "dr1_subjects_per_iauname = dr1_with_subjects.groupby('subject_id').agg({'iauname': lambda x: len(set(x))}).reset_index()\n",
    "dr1_subjects_per_iauname['iauname'].value_counts()"
   ]
  },
  {
   "cell_type": "code",
   "execution_count": null,
   "metadata": {},
   "outputs": [],
   "source": [
    "dr2_with_subjects = pd.merge(dr2, dr1_dr2, on='subject_id', how='inner')"
   ]
  },
  {
   "cell_type": "code",
   "execution_count": null,
   "metadata": {},
   "outputs": [],
   "source": [
    "dr2_subjects_per_iauname = dr2_with_subjects.groupby('subject_id').agg({'iauname': lambda x: len(set(x))}).reset_index()\n",
    "dr2_subjects_per_iauname['iauname'].value_counts()"
   ]
  },
  {
   "cell_type": "code",
   "execution_count": null,
   "metadata": {},
   "outputs": [],
   "source": [
    "set(dr1_with_subjects['iauname']).intersection(dr2_with_subjects['iauname'])"
   ]
  },
  {
   "cell_type": "markdown",
   "metadata": {},
   "source": [
    "So the subject catalog includes subject_ids with the same iauname (duplicates one), but the recorded classifications do not?\n",
    "\n",
    "All but 1 DR2 subject has been classified, but 10k DR1 galaxies have not (42k vs 32k)."
   ]
  },
  {
   "cell_type": "code",
   "execution_count": null,
   "metadata": {},
   "outputs": [],
   "source": [
    "dr1_subjects = dr1_dr2.query('data_release == \"DR1\"')\n",
    "len(dr1_subjects), dr1_subjects['iauname'].isin(repeating_iaunames).sum()"
   ]
  },
  {
   "cell_type": "code",
   "execution_count": null,
   "metadata": {},
   "outputs": [],
   "source": [
    "dr1_subjects_not_classified = dr1_subjects[~dr1_subjects['subject_id'].isin(dr1['subject_id'])]\n",
    "len(dr1_subjects_not_classified), dr1_subjects_not_classified['iauname'].isin(repeating_iaunames).sum()\n"
   ]
  },
  {
   "cell_type": "markdown",
   "metadata": {},
   "source": [
    "All the repeating subjects were not classified, so I assume they noticed beforehand and removed them! Good times. So ultimately, *there's no work needed to tweak the classifications*.\n",
    "\n",
    "However, there are still 7.5k of 42k DR1 subjects with no classifications. Why is that?"
   ]
  },
  {
   "cell_type": "code",
   "execution_count": null,
   "metadata": {},
   "outputs": [],
   "source": []
  },
  {
   "cell_type": "code",
   "execution_count": null,
   "metadata": {},
   "outputs": [],
   "source": [
    "dr1_subjects_not_classified.iloc[0]"
   ]
  },
  {
   "cell_type": "code",
   "execution_count": null,
   "metadata": {},
   "outputs": [],
   "source": [
    "_, bins = np.histogram(np.linspace(0, 10), bins=30)\n",
    "dr1_subjects_not_classified['petrorad_r'].hist(bins=bins, density=True, alpha=.5)\n",
    "dr1_subjects['petrorad_r'].hist(bins=bins, density=True, alpha=.5)"
   ]
  },
  {
   "cell_type": "code",
   "execution_count": null,
   "metadata": {},
   "outputs": [],
   "source": [
    "sns.scatterplot(data=dr1_subjects_not_classified, x='ra', y='dec', alpha=.3)"
   ]
  },
  {
   "cell_type": "code",
   "execution_count": null,
   "metadata": {},
   "outputs": [],
   "source": [
    "sns.scatterplot(data=dr1_subjects, x='ra', y='dec', alpha=.3)"
   ]
  },
  {
   "cell_type": "markdown",
   "metadata": {},
   "source": [
    "There's no obvious trend in size or location. For DR2, about 1/3rd of galaxies had bad images, and this would give about the right number of missing galaxies here. Perhaps the subject catalog includes those bad-image galaxies. \n",
    "\n",
    "Adam has now sent the DR1 images, so we can check...except it doesn't include these pics. So they were definitely never even uploaded."
   ]
  },
  {
   "cell_type": "code",
   "execution_count": null,
   "metadata": {},
   "outputs": [],
   "source": [
    "dr1_subjects_not_classified['iauname']"
   ]
  },
  {
   "cell_type": "code",
   "execution_count": null,
   "metadata": {},
   "outputs": [],
   "source": [
    "assert False"
   ]
  },
  {
   "cell_type": "markdown",
   "metadata": {},
   "source": [
    "# Aggregated "
   ]
  },
  {
   "cell_type": "markdown",
   "metadata": {},
   "source": [
    "I used these files to produce aggregated classifications:"
   ]
  },
  {
   "cell_type": "code",
   "execution_count": null,
   "metadata": {},
   "outputs": [],
   "source": [
    "# nope, this is for Nair comparison - same for panoptes probably\n",
    "# aggregated = pd.read_csv('/media/walml/beta/galaxy_zoo/decals/gzreduction_ouroborous/working_dir/output/dr2_predictions_with_subject.csv')"
   ]
  },
  {
   "cell_type": "code",
   "execution_count": 23,
   "metadata": {},
   "outputs": [],
   "source": [
    "# also has a version with predictions added, most likely etc\n",
    "aggregated = pd.read_csv('/media/walml/beta/galaxy_zoo/decals/gzreduction_ouroborous/working_dir/votes/dr2_aggregated_votes.csv')"
   ]
  },
  {
   "cell_type": "code",
   "execution_count": 24,
   "metadata": {},
   "outputs": [
    {
     "data": {
      "text/html": [
       "<div>\n",
       "<style scoped>\n",
       "    .dataframe tbody tr th:only-of-type {\n",
       "        vertical-align: middle;\n",
       "    }\n",
       "\n",
       "    .dataframe tbody tr th {\n",
       "        vertical-align: top;\n",
       "    }\n",
       "\n",
       "    .dataframe thead th {\n",
       "        text-align: right;\n",
       "    }\n",
       "</style>\n",
       "<table border=\"1\" class=\"dataframe\">\n",
       "  <thead>\n",
       "    <tr style=\"text-align: right;\">\n",
       "      <th></th>\n",
       "      <th>subject_id</th>\n",
       "      <th>smooth-or-featured_smooth</th>\n",
       "      <th>smooth-or-featured_featured-or-disk</th>\n",
       "      <th>smooth-or-featured_artifact</th>\n",
       "      <th>how-rounded_completely</th>\n",
       "      <th>how-rounded_in-between</th>\n",
       "      <th>how-rounded_cigar-shaped</th>\n",
       "      <th>disk-edge-on_yes</th>\n",
       "      <th>disk-edge-on_no</th>\n",
       "      <th>edge-on-bulge_rounded</th>\n",
       "      <th>...</th>\n",
       "      <th>spiral-arm-count_more-than-4_fraction</th>\n",
       "      <th>bulge-size_total-votes</th>\n",
       "      <th>bulge-size_none_fraction</th>\n",
       "      <th>bulge-size_obvious_fraction</th>\n",
       "      <th>bulge-size_dominant_fraction</th>\n",
       "      <th>merging_total-votes</th>\n",
       "      <th>merging_merger_fraction</th>\n",
       "      <th>merging_tidal-debris_fraction</th>\n",
       "      <th>merging_both_fraction</th>\n",
       "      <th>merging_neither_fraction</th>\n",
       "    </tr>\n",
       "  </thead>\n",
       "  <tbody>\n",
       "    <tr>\n",
       "      <th>0</th>\n",
       "      <td>55a7d7a27a726119cd00000b</td>\n",
       "      <td>19</td>\n",
       "      <td>15</td>\n",
       "      <td>11</td>\n",
       "      <td>16</td>\n",
       "      <td>2</td>\n",
       "      <td>1</td>\n",
       "      <td>2</td>\n",
       "      <td>13</td>\n",
       "      <td>2</td>\n",
       "      <td>...</td>\n",
       "      <td>0.125</td>\n",
       "      <td>13</td>\n",
       "      <td>0.000000</td>\n",
       "      <td>0.923077</td>\n",
       "      <td>0.076923</td>\n",
       "      <td>34</td>\n",
       "      <td>0.147059</td>\n",
       "      <td>0.088235</td>\n",
       "      <td>0.088235</td>\n",
       "      <td>0.676471</td>\n",
       "    </tr>\n",
       "    <tr>\n",
       "      <th>1</th>\n",
       "      <td>55a7d7a27a726119cd00000c</td>\n",
       "      <td>33</td>\n",
       "      <td>2</td>\n",
       "      <td>6</td>\n",
       "      <td>28</td>\n",
       "      <td>5</td>\n",
       "      <td>0</td>\n",
       "      <td>1</td>\n",
       "      <td>1</td>\n",
       "      <td>1</td>\n",
       "      <td>...</td>\n",
       "      <td>0.000</td>\n",
       "      <td>1</td>\n",
       "      <td>0.000000</td>\n",
       "      <td>1.000000</td>\n",
       "      <td>0.000000</td>\n",
       "      <td>35</td>\n",
       "      <td>0.200000</td>\n",
       "      <td>0.085714</td>\n",
       "      <td>0.028571</td>\n",
       "      <td>0.685714</td>\n",
       "    </tr>\n",
       "    <tr>\n",
       "      <th>2</th>\n",
       "      <td>55a7d7a27a726119cd00000d</td>\n",
       "      <td>36</td>\n",
       "      <td>1</td>\n",
       "      <td>10</td>\n",
       "      <td>23</td>\n",
       "      <td>13</td>\n",
       "      <td>0</td>\n",
       "      <td>0</td>\n",
       "      <td>1</td>\n",
       "      <td>0</td>\n",
       "      <td>...</td>\n",
       "      <td>0.000</td>\n",
       "      <td>1</td>\n",
       "      <td>0.000000</td>\n",
       "      <td>1.000000</td>\n",
       "      <td>0.000000</td>\n",
       "      <td>37</td>\n",
       "      <td>0.027027</td>\n",
       "      <td>0.027027</td>\n",
       "      <td>0.000000</td>\n",
       "      <td>0.945946</td>\n",
       "    </tr>\n",
       "    <tr>\n",
       "      <th>3</th>\n",
       "      <td>55a7d7a27a726119cd00000e</td>\n",
       "      <td>32</td>\n",
       "      <td>15</td>\n",
       "      <td>6</td>\n",
       "      <td>16</td>\n",
       "      <td>16</td>\n",
       "      <td>0</td>\n",
       "      <td>0</td>\n",
       "      <td>15</td>\n",
       "      <td>0</td>\n",
       "      <td>...</td>\n",
       "      <td>0.250</td>\n",
       "      <td>15</td>\n",
       "      <td>0.266667</td>\n",
       "      <td>0.733333</td>\n",
       "      <td>0.000000</td>\n",
       "      <td>47</td>\n",
       "      <td>0.021277</td>\n",
       "      <td>0.042553</td>\n",
       "      <td>0.021277</td>\n",
       "      <td>0.914894</td>\n",
       "    </tr>\n",
       "    <tr>\n",
       "      <th>4</th>\n",
       "      <td>55a7d7a27a726119cd00000f</td>\n",
       "      <td>40</td>\n",
       "      <td>6</td>\n",
       "      <td>7</td>\n",
       "      <td>10</td>\n",
       "      <td>29</td>\n",
       "      <td>1</td>\n",
       "      <td>0</td>\n",
       "      <td>6</td>\n",
       "      <td>0</td>\n",
       "      <td>...</td>\n",
       "      <td>0.000</td>\n",
       "      <td>6</td>\n",
       "      <td>0.166667</td>\n",
       "      <td>0.666667</td>\n",
       "      <td>0.166667</td>\n",
       "      <td>46</td>\n",
       "      <td>0.086957</td>\n",
       "      <td>0.043478</td>\n",
       "      <td>0.021739</td>\n",
       "      <td>0.847826</td>\n",
       "    </tr>\n",
       "    <tr>\n",
       "      <th>...</th>\n",
       "      <td>...</td>\n",
       "      <td>...</td>\n",
       "      <td>...</td>\n",
       "      <td>...</td>\n",
       "      <td>...</td>\n",
       "      <td>...</td>\n",
       "      <td>...</td>\n",
       "      <td>...</td>\n",
       "      <td>...</td>\n",
       "      <td>...</td>\n",
       "      <td>...</td>\n",
       "      <td>...</td>\n",
       "      <td>...</td>\n",
       "      <td>...</td>\n",
       "      <td>...</td>\n",
       "      <td>...</td>\n",
       "      <td>...</td>\n",
       "      <td>...</td>\n",
       "      <td>...</td>\n",
       "      <td>...</td>\n",
       "      <td>...</td>\n",
       "    </tr>\n",
       "    <tr>\n",
       "      <th>94019</th>\n",
       "      <td>56f3deb65925d90042037015</td>\n",
       "      <td>6</td>\n",
       "      <td>12</td>\n",
       "      <td>22</td>\n",
       "      <td>4</td>\n",
       "      <td>1</td>\n",
       "      <td>1</td>\n",
       "      <td>0</td>\n",
       "      <td>12</td>\n",
       "      <td>0</td>\n",
       "      <td>...</td>\n",
       "      <td>0.000</td>\n",
       "      <td>12</td>\n",
       "      <td>0.500000</td>\n",
       "      <td>0.500000</td>\n",
       "      <td>0.000000</td>\n",
       "      <td>18</td>\n",
       "      <td>0.277778</td>\n",
       "      <td>0.111111</td>\n",
       "      <td>0.000000</td>\n",
       "      <td>0.611111</td>\n",
       "    </tr>\n",
       "    <tr>\n",
       "      <th>94020</th>\n",
       "      <td>56f3deb65925d90042037017</td>\n",
       "      <td>21</td>\n",
       "      <td>15</td>\n",
       "      <td>4</td>\n",
       "      <td>17</td>\n",
       "      <td>4</td>\n",
       "      <td>0</td>\n",
       "      <td>0</td>\n",
       "      <td>15</td>\n",
       "      <td>0</td>\n",
       "      <td>...</td>\n",
       "      <td>0.000</td>\n",
       "      <td>15</td>\n",
       "      <td>0.333333</td>\n",
       "      <td>0.600000</td>\n",
       "      <td>0.066667</td>\n",
       "      <td>36</td>\n",
       "      <td>0.277778</td>\n",
       "      <td>0.027778</td>\n",
       "      <td>0.083333</td>\n",
       "      <td>0.611111</td>\n",
       "    </tr>\n",
       "    <tr>\n",
       "      <th>94021</th>\n",
       "      <td>56f3deb65925d90042037019</td>\n",
       "      <td>22</td>\n",
       "      <td>15</td>\n",
       "      <td>3</td>\n",
       "      <td>2</td>\n",
       "      <td>16</td>\n",
       "      <td>4</td>\n",
       "      <td>11</td>\n",
       "      <td>4</td>\n",
       "      <td>11</td>\n",
       "      <td>...</td>\n",
       "      <td>0.000</td>\n",
       "      <td>4</td>\n",
       "      <td>0.250000</td>\n",
       "      <td>0.750000</td>\n",
       "      <td>0.000000</td>\n",
       "      <td>37</td>\n",
       "      <td>0.540541</td>\n",
       "      <td>0.000000</td>\n",
       "      <td>0.108108</td>\n",
       "      <td>0.351351</td>\n",
       "    </tr>\n",
       "    <tr>\n",
       "      <th>94022</th>\n",
       "      <td>56f3deb65925d9004203701b</td>\n",
       "      <td>30</td>\n",
       "      <td>2</td>\n",
       "      <td>8</td>\n",
       "      <td>26</td>\n",
       "      <td>3</td>\n",
       "      <td>1</td>\n",
       "      <td>0</td>\n",
       "      <td>2</td>\n",
       "      <td>0</td>\n",
       "      <td>...</td>\n",
       "      <td>0.000</td>\n",
       "      <td>2</td>\n",
       "      <td>0.000000</td>\n",
       "      <td>0.000000</td>\n",
       "      <td>1.000000</td>\n",
       "      <td>32</td>\n",
       "      <td>0.093750</td>\n",
       "      <td>0.093750</td>\n",
       "      <td>0.000000</td>\n",
       "      <td>0.812500</td>\n",
       "    </tr>\n",
       "    <tr>\n",
       "      <th>94023</th>\n",
       "      <td>56f3deb65925d9004203701d</td>\n",
       "      <td>9</td>\n",
       "      <td>27</td>\n",
       "      <td>4</td>\n",
       "      <td>0</td>\n",
       "      <td>9</td>\n",
       "      <td>0</td>\n",
       "      <td>5</td>\n",
       "      <td>22</td>\n",
       "      <td>3</td>\n",
       "      <td>...</td>\n",
       "      <td>0.000</td>\n",
       "      <td>22</td>\n",
       "      <td>0.500000</td>\n",
       "      <td>0.454545</td>\n",
       "      <td>0.045455</td>\n",
       "      <td>36</td>\n",
       "      <td>0.222222</td>\n",
       "      <td>0.194444</td>\n",
       "      <td>0.055556</td>\n",
       "      <td>0.527778</td>\n",
       "    </tr>\n",
       "  </tbody>\n",
       "</table>\n",
       "<p>94024 rows × 71 columns</p>\n",
       "</div>"
      ],
      "text/plain": [
       "                     subject_id  smooth-or-featured_smooth  \\\n",
       "0      55a7d7a27a726119cd00000b                         19   \n",
       "1      55a7d7a27a726119cd00000c                         33   \n",
       "2      55a7d7a27a726119cd00000d                         36   \n",
       "3      55a7d7a27a726119cd00000e                         32   \n",
       "4      55a7d7a27a726119cd00000f                         40   \n",
       "...                         ...                        ...   \n",
       "94019  56f3deb65925d90042037015                          6   \n",
       "94020  56f3deb65925d90042037017                         21   \n",
       "94021  56f3deb65925d90042037019                         22   \n",
       "94022  56f3deb65925d9004203701b                         30   \n",
       "94023  56f3deb65925d9004203701d                          9   \n",
       "\n",
       "       smooth-or-featured_featured-or-disk  smooth-or-featured_artifact  \\\n",
       "0                                       15                           11   \n",
       "1                                        2                            6   \n",
       "2                                        1                           10   \n",
       "3                                       15                            6   \n",
       "4                                        6                            7   \n",
       "...                                    ...                          ...   \n",
       "94019                                   12                           22   \n",
       "94020                                   15                            4   \n",
       "94021                                   15                            3   \n",
       "94022                                    2                            8   \n",
       "94023                                   27                            4   \n",
       "\n",
       "       how-rounded_completely  how-rounded_in-between  \\\n",
       "0                          16                       2   \n",
       "1                          28                       5   \n",
       "2                          23                      13   \n",
       "3                          16                      16   \n",
       "4                          10                      29   \n",
       "...                       ...                     ...   \n",
       "94019                       4                       1   \n",
       "94020                      17                       4   \n",
       "94021                       2                      16   \n",
       "94022                      26                       3   \n",
       "94023                       0                       9   \n",
       "\n",
       "       how-rounded_cigar-shaped  disk-edge-on_yes  disk-edge-on_no  \\\n",
       "0                             1                 2               13   \n",
       "1                             0                 1                1   \n",
       "2                             0                 0                1   \n",
       "3                             0                 0               15   \n",
       "4                             1                 0                6   \n",
       "...                         ...               ...              ...   \n",
       "94019                         1                 0               12   \n",
       "94020                         0                 0               15   \n",
       "94021                         4                11                4   \n",
       "94022                         1                 0                2   \n",
       "94023                         0                 5               22   \n",
       "\n",
       "       edge-on-bulge_rounded  ...  spiral-arm-count_more-than-4_fraction  \\\n",
       "0                          2  ...                                  0.125   \n",
       "1                          1  ...                                  0.000   \n",
       "2                          0  ...                                  0.000   \n",
       "3                          0  ...                                  0.250   \n",
       "4                          0  ...                                  0.000   \n",
       "...                      ...  ...                                    ...   \n",
       "94019                      0  ...                                  0.000   \n",
       "94020                      0  ...                                  0.000   \n",
       "94021                     11  ...                                  0.000   \n",
       "94022                      0  ...                                  0.000   \n",
       "94023                      3  ...                                  0.000   \n",
       "\n",
       "       bulge-size_total-votes  bulge-size_none_fraction  \\\n",
       "0                          13                  0.000000   \n",
       "1                           1                  0.000000   \n",
       "2                           1                  0.000000   \n",
       "3                          15                  0.266667   \n",
       "4                           6                  0.166667   \n",
       "...                       ...                       ...   \n",
       "94019                      12                  0.500000   \n",
       "94020                      15                  0.333333   \n",
       "94021                       4                  0.250000   \n",
       "94022                       2                  0.000000   \n",
       "94023                      22                  0.500000   \n",
       "\n",
       "       bulge-size_obvious_fraction  bulge-size_dominant_fraction  \\\n",
       "0                         0.923077                      0.076923   \n",
       "1                         1.000000                      0.000000   \n",
       "2                         1.000000                      0.000000   \n",
       "3                         0.733333                      0.000000   \n",
       "4                         0.666667                      0.166667   \n",
       "...                            ...                           ...   \n",
       "94019                     0.500000                      0.000000   \n",
       "94020                     0.600000                      0.066667   \n",
       "94021                     0.750000                      0.000000   \n",
       "94022                     0.000000                      1.000000   \n",
       "94023                     0.454545                      0.045455   \n",
       "\n",
       "       merging_total-votes  merging_merger_fraction  \\\n",
       "0                       34                 0.147059   \n",
       "1                       35                 0.200000   \n",
       "2                       37                 0.027027   \n",
       "3                       47                 0.021277   \n",
       "4                       46                 0.086957   \n",
       "...                    ...                      ...   \n",
       "94019                   18                 0.277778   \n",
       "94020                   36                 0.277778   \n",
       "94021                   37                 0.540541   \n",
       "94022                   32                 0.093750   \n",
       "94023                   36                 0.222222   \n",
       "\n",
       "       merging_tidal-debris_fraction  merging_both_fraction  \\\n",
       "0                           0.088235               0.088235   \n",
       "1                           0.085714               0.028571   \n",
       "2                           0.027027               0.000000   \n",
       "3                           0.042553               0.021277   \n",
       "4                           0.043478               0.021739   \n",
       "...                              ...                    ...   \n",
       "94019                       0.111111               0.000000   \n",
       "94020                       0.027778               0.083333   \n",
       "94021                       0.000000               0.108108   \n",
       "94022                       0.093750               0.000000   \n",
       "94023                       0.194444               0.055556   \n",
       "\n",
       "       merging_neither_fraction  \n",
       "0                      0.676471  \n",
       "1                      0.685714  \n",
       "2                      0.945946  \n",
       "3                      0.914894  \n",
       "4                      0.847826  \n",
       "...                         ...  \n",
       "94019                  0.611111  \n",
       "94020                  0.611111  \n",
       "94021                  0.351351  \n",
       "94022                  0.812500  \n",
       "94023                  0.527778  \n",
       "\n",
       "[94024 rows x 71 columns]"
      ]
     },
     "execution_count": 24,
     "metadata": {},
     "output_type": "execute_result"
    }
   ],
   "source": [
    "aggregated"
   ]
  },
  {
   "cell_type": "code",
   "execution_count": 25,
   "metadata": {},
   "outputs": [
    {
     "data": {
      "text/plain": [
       "819802"
      ]
     },
     "execution_count": 25,
     "metadata": {},
     "output_type": "execute_result"
    }
   ],
   "source": [
    "aggregated['smooth-or-featured_artifact'].sum()"
   ]
  },
  {
   "cell_type": "code",
   "execution_count": 26,
   "metadata": {},
   "outputs": [
    {
     "data": {
      "text/plain": [
       "32430"
      ]
     },
     "execution_count": 26,
     "metadata": {},
     "output_type": "execute_result"
    }
   ],
   "source": [
    "len(set(dr1['subject_id']))"
   ]
  },
  {
   "cell_type": "code",
   "execution_count": null,
   "metadata": {},
   "outputs": [],
   "source": []
  }
 ],
 "metadata": {
  "kernelspec": {
   "display_name": "Python 3",
   "language": "python",
   "name": "python3"
  },
  "language_info": {
   "codemirror_mode": {
    "name": "ipython",
    "version": 3
   },
   "file_extension": ".py",
   "mimetype": "text/x-python",
   "name": "python",
   "nbconvert_exporter": "python",
   "pygments_lexer": "ipython3",
   "version": "3.7.6"
  }
 },
 "nbformat": 4,
 "nbformat_minor": 4
}
