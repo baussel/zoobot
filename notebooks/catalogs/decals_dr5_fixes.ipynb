{
 "cells": [
  {
   "cell_type": "code",
   "execution_count": 1,
   "metadata": {},
   "outputs": [],
   "source": [
    "import matplotlib.pyplot as plt\n",
    "import pandas as pd\n",
    "from astropy.table import Table\n",
    "import os\n",
    "import numpy as np\n",
    "# import cartopy.crs as ccrs\n",
    "import json\n",
    "import os\n",
    "import seaborn as sns\n",
    "from astropy.table import Table"
   ]
  },
  {
   "cell_type": "code",
   "execution_count": 2,
   "metadata": {},
   "outputs": [],
   "source": [
    "os.chdir('/home/walml/repos/zoobot')"
   ]
  },
  {
   "cell_type": "markdown",
   "metadata": {},
   "source": [
    "Pretend this is the final decals catalog"
   ]
  },
  {
   "cell_type": "code",
   "execution_count": 3,
   "metadata": {},
   "outputs": [],
   "source": [
    "# latest_export = pd.read_csv('/media/walml/beta/galaxy_zoo/decals/dr5/volunteer_reduction/2020_11_10_tobias/output/classifications_final.csv')  # Tobias offline aggregated classifications"
   ]
  },
  {
   "cell_type": "code",
   "execution_count": 4,
   "metadata": {},
   "outputs": [],
   "source": [
    "latest_export = pd.read_parquet('/home/walml/repos/gz-panoptes-reduction/temp/latest_aggregated.parquet')"
   ]
  },
  {
   "cell_type": "code",
   "execution_count": 5,
   "metadata": {},
   "outputs": [
    {
     "data": {
      "text/html": [
       "<div>\n",
       "<style scoped>\n",
       "    .dataframe tbody tr th:only-of-type {\n",
       "        vertical-align: middle;\n",
       "    }\n",
       "\n",
       "    .dataframe tbody tr th {\n",
       "        vertical-align: top;\n",
       "    }\n",
       "\n",
       "    .dataframe thead th {\n",
       "        text-align: right;\n",
       "    }\n",
       "</style>\n",
       "<table border=\"1\" class=\"dataframe\">\n",
       "  <thead>\n",
       "    <tr style=\"text-align: right;\">\n",
       "      <th></th>\n",
       "      <th>iauname</th>\n",
       "      <th>bar_no</th>\n",
       "      <th>bar_strong</th>\n",
       "      <th>bar_weak</th>\n",
       "      <th>bulge-size_dominant</th>\n",
       "      <th>bulge-size_large</th>\n",
       "      <th>bulge-size_moderate</th>\n",
       "      <th>bulge-size_none</th>\n",
       "      <th>bulge-size_small</th>\n",
       "      <th>disk-edge-on_no</th>\n",
       "      <th>...</th>\n",
       "      <th>bulge-size_moderate_fraction</th>\n",
       "      <th>bulge-size_large_fraction</th>\n",
       "      <th>bulge-size_dominant_fraction</th>\n",
       "      <th>merging_merger_fraction</th>\n",
       "      <th>merging_tidal-debris-v1_fraction</th>\n",
       "      <th>merging_both-v1_fraction</th>\n",
       "      <th>merging_neither-v1_fraction</th>\n",
       "      <th>merging_major-disturbance_fraction</th>\n",
       "      <th>merging_minor-disturbance_fraction</th>\n",
       "      <th>merging_none_fraction</th>\n",
       "    </tr>\n",
       "  </thead>\n",
       "  <tbody>\n",
       "    <tr>\n",
       "      <th>0</th>\n",
       "      <td>J112953.88-000427.4</td>\n",
       "      <td>13</td>\n",
       "      <td>2</td>\n",
       "      <td>1</td>\n",
       "      <td>1</td>\n",
       "      <td>6</td>\n",
       "      <td>9</td>\n",
       "      <td>0</td>\n",
       "      <td>0</td>\n",
       "      <td>16</td>\n",
       "      <td>...</td>\n",
       "      <td>0.562500</td>\n",
       "      <td>0.375</td>\n",
       "      <td>0.0625</td>\n",
       "      <td>0.000000</td>\n",
       "      <td>0.0</td>\n",
       "      <td>0.0</td>\n",
       "      <td>0.000000</td>\n",
       "      <td>0.0625</td>\n",
       "      <td>0.100</td>\n",
       "      <td>0.8375</td>\n",
       "    </tr>\n",
       "    <tr>\n",
       "      <th>1</th>\n",
       "      <td>J104325.29+190335.0</td>\n",
       "      <td>2</td>\n",
       "      <td>0</td>\n",
       "      <td>0</td>\n",
       "      <td>1</td>\n",
       "      <td>0</td>\n",
       "      <td>1</td>\n",
       "      <td>0</td>\n",
       "      <td>0</td>\n",
       "      <td>2</td>\n",
       "      <td>...</td>\n",
       "      <td>0.500000</td>\n",
       "      <td>0.000</td>\n",
       "      <td>0.5000</td>\n",
       "      <td>0.057143</td>\n",
       "      <td>0.0</td>\n",
       "      <td>0.0</td>\n",
       "      <td>0.942857</td>\n",
       "      <td>0.0000</td>\n",
       "      <td>0.000</td>\n",
       "      <td>0.0000</td>\n",
       "    </tr>\n",
       "    <tr>\n",
       "      <th>2</th>\n",
       "      <td>J104629.54+115415.1</td>\n",
       "      <td>2</td>\n",
       "      <td>0</td>\n",
       "      <td>2</td>\n",
       "      <td>0</td>\n",
       "      <td>0</td>\n",
       "      <td>2</td>\n",
       "      <td>0</td>\n",
       "      <td>2</td>\n",
       "      <td>4</td>\n",
       "      <td>...</td>\n",
       "      <td>0.500000</td>\n",
       "      <td>0.000</td>\n",
       "      <td>0.0000</td>\n",
       "      <td>0.000000</td>\n",
       "      <td>0.0</td>\n",
       "      <td>0.0</td>\n",
       "      <td>0.000000</td>\n",
       "      <td>0.0000</td>\n",
       "      <td>0.200</td>\n",
       "      <td>0.8000</td>\n",
       "    </tr>\n",
       "    <tr>\n",
       "      <th>3</th>\n",
       "      <td>J082950.68+125621.8</td>\n",
       "      <td>0</td>\n",
       "      <td>0</td>\n",
       "      <td>0</td>\n",
       "      <td>0</td>\n",
       "      <td>0</td>\n",
       "      <td>0</td>\n",
       "      <td>0</td>\n",
       "      <td>0</td>\n",
       "      <td>0</td>\n",
       "      <td>...</td>\n",
       "      <td>NaN</td>\n",
       "      <td>NaN</td>\n",
       "      <td>NaN</td>\n",
       "      <td>0.000000</td>\n",
       "      <td>0.0</td>\n",
       "      <td>0.0</td>\n",
       "      <td>0.000000</td>\n",
       "      <td>0.0000</td>\n",
       "      <td>0.125</td>\n",
       "      <td>0.8750</td>\n",
       "    </tr>\n",
       "    <tr>\n",
       "      <th>4</th>\n",
       "      <td>J122056.00-015022.0</td>\n",
       "      <td>3</td>\n",
       "      <td>0</td>\n",
       "      <td>0</td>\n",
       "      <td>0</td>\n",
       "      <td>0</td>\n",
       "      <td>2</td>\n",
       "      <td>0</td>\n",
       "      <td>1</td>\n",
       "      <td>3</td>\n",
       "      <td>...</td>\n",
       "      <td>0.666667</td>\n",
       "      <td>0.000</td>\n",
       "      <td>0.0000</td>\n",
       "      <td>0.000000</td>\n",
       "      <td>0.0</td>\n",
       "      <td>0.0</td>\n",
       "      <td>0.000000</td>\n",
       "      <td>0.0000</td>\n",
       "      <td>0.000</td>\n",
       "      <td>1.0000</td>\n",
       "    </tr>\n",
       "    <tr>\n",
       "      <th>...</th>\n",
       "      <td>...</td>\n",
       "      <td>...</td>\n",
       "      <td>...</td>\n",
       "      <td>...</td>\n",
       "      <td>...</td>\n",
       "      <td>...</td>\n",
       "      <td>...</td>\n",
       "      <td>...</td>\n",
       "      <td>...</td>\n",
       "      <td>...</td>\n",
       "      <td>...</td>\n",
       "      <td>...</td>\n",
       "      <td>...</td>\n",
       "      <td>...</td>\n",
       "      <td>...</td>\n",
       "      <td>...</td>\n",
       "      <td>...</td>\n",
       "      <td>...</td>\n",
       "      <td>...</td>\n",
       "      <td>...</td>\n",
       "      <td>...</td>\n",
       "    </tr>\n",
       "    <tr>\n",
       "      <th>265833</th>\n",
       "      <td>J144017.17+234347.3</td>\n",
       "      <td>0</td>\n",
       "      <td>0</td>\n",
       "      <td>0</td>\n",
       "      <td>0</td>\n",
       "      <td>0</td>\n",
       "      <td>0</td>\n",
       "      <td>0</td>\n",
       "      <td>0</td>\n",
       "      <td>0</td>\n",
       "      <td>...</td>\n",
       "      <td>NaN</td>\n",
       "      <td>NaN</td>\n",
       "      <td>NaN</td>\n",
       "      <td>NaN</td>\n",
       "      <td>NaN</td>\n",
       "      <td>NaN</td>\n",
       "      <td>NaN</td>\n",
       "      <td>NaN</td>\n",
       "      <td>NaN</td>\n",
       "      <td>NaN</td>\n",
       "    </tr>\n",
       "    <tr>\n",
       "      <th>265834</th>\n",
       "      <td>J133751.46+253954.0</td>\n",
       "      <td>0</td>\n",
       "      <td>0</td>\n",
       "      <td>0</td>\n",
       "      <td>0</td>\n",
       "      <td>0</td>\n",
       "      <td>0</td>\n",
       "      <td>0</td>\n",
       "      <td>0</td>\n",
       "      <td>0</td>\n",
       "      <td>...</td>\n",
       "      <td>NaN</td>\n",
       "      <td>NaN</td>\n",
       "      <td>NaN</td>\n",
       "      <td>0.000000</td>\n",
       "      <td>0.0</td>\n",
       "      <td>0.0</td>\n",
       "      <td>0.000000</td>\n",
       "      <td>0.0000</td>\n",
       "      <td>0.000</td>\n",
       "      <td>1.0000</td>\n",
       "    </tr>\n",
       "    <tr>\n",
       "      <th>265835</th>\n",
       "      <td>J130734.26+061155.7</td>\n",
       "      <td>0</td>\n",
       "      <td>0</td>\n",
       "      <td>0</td>\n",
       "      <td>0</td>\n",
       "      <td>0</td>\n",
       "      <td>0</td>\n",
       "      <td>0</td>\n",
       "      <td>0</td>\n",
       "      <td>0</td>\n",
       "      <td>...</td>\n",
       "      <td>NaN</td>\n",
       "      <td>NaN</td>\n",
       "      <td>NaN</td>\n",
       "      <td>0.000000</td>\n",
       "      <td>0.0</td>\n",
       "      <td>0.0</td>\n",
       "      <td>0.000000</td>\n",
       "      <td>0.0000</td>\n",
       "      <td>0.000</td>\n",
       "      <td>1.0000</td>\n",
       "    </tr>\n",
       "    <tr>\n",
       "      <th>265836</th>\n",
       "      <td>J163830.70+315116.7</td>\n",
       "      <td>0</td>\n",
       "      <td>0</td>\n",
       "      <td>0</td>\n",
       "      <td>0</td>\n",
       "      <td>0</td>\n",
       "      <td>0</td>\n",
       "      <td>0</td>\n",
       "      <td>0</td>\n",
       "      <td>0</td>\n",
       "      <td>...</td>\n",
       "      <td>NaN</td>\n",
       "      <td>NaN</td>\n",
       "      <td>NaN</td>\n",
       "      <td>NaN</td>\n",
       "      <td>NaN</td>\n",
       "      <td>NaN</td>\n",
       "      <td>NaN</td>\n",
       "      <td>NaN</td>\n",
       "      <td>NaN</td>\n",
       "      <td>NaN</td>\n",
       "    </tr>\n",
       "    <tr>\n",
       "      <th>265837</th>\n",
       "      <td>J141631.85+185904.1</td>\n",
       "      <td>0</td>\n",
       "      <td>0</td>\n",
       "      <td>0</td>\n",
       "      <td>0</td>\n",
       "      <td>0</td>\n",
       "      <td>0</td>\n",
       "      <td>0</td>\n",
       "      <td>0</td>\n",
       "      <td>0</td>\n",
       "      <td>...</td>\n",
       "      <td>NaN</td>\n",
       "      <td>NaN</td>\n",
       "      <td>NaN</td>\n",
       "      <td>NaN</td>\n",
       "      <td>NaN</td>\n",
       "      <td>NaN</td>\n",
       "      <td>NaN</td>\n",
       "      <td>NaN</td>\n",
       "      <td>NaN</td>\n",
       "      <td>NaN</td>\n",
       "    </tr>\n",
       "  </tbody>\n",
       "</table>\n",
       "<p>265838 rows × 85 columns</p>\n",
       "</div>"
      ],
      "text/plain": [
       "                    iauname  bar_no  bar_strong  bar_weak  \\\n",
       "0       J112953.88-000427.4      13           2         1   \n",
       "1       J104325.29+190335.0       2           0         0   \n",
       "2       J104629.54+115415.1       2           0         2   \n",
       "3       J082950.68+125621.8       0           0         0   \n",
       "4       J122056.00-015022.0       3           0         0   \n",
       "...                     ...     ...         ...       ...   \n",
       "265833  J144017.17+234347.3       0           0         0   \n",
       "265834  J133751.46+253954.0       0           0         0   \n",
       "265835  J130734.26+061155.7       0           0         0   \n",
       "265836  J163830.70+315116.7       0           0         0   \n",
       "265837  J141631.85+185904.1       0           0         0   \n",
       "\n",
       "        bulge-size_dominant  bulge-size_large  bulge-size_moderate  \\\n",
       "0                         1                 6                    9   \n",
       "1                         1                 0                    1   \n",
       "2                         0                 0                    2   \n",
       "3                         0                 0                    0   \n",
       "4                         0                 0                    2   \n",
       "...                     ...               ...                  ...   \n",
       "265833                    0                 0                    0   \n",
       "265834                    0                 0                    0   \n",
       "265835                    0                 0                    0   \n",
       "265836                    0                 0                    0   \n",
       "265837                    0                 0                    0   \n",
       "\n",
       "        bulge-size_none  bulge-size_small  disk-edge-on_no  ...  \\\n",
       "0                     0                 0               16  ...   \n",
       "1                     0                 0                2  ...   \n",
       "2                     0                 2                4  ...   \n",
       "3                     0                 0                0  ...   \n",
       "4                     0                 1                3  ...   \n",
       "...                 ...               ...              ...  ...   \n",
       "265833                0                 0                0  ...   \n",
       "265834                0                 0                0  ...   \n",
       "265835                0                 0                0  ...   \n",
       "265836                0                 0                0  ...   \n",
       "265837                0                 0                0  ...   \n",
       "\n",
       "        bulge-size_moderate_fraction  bulge-size_large_fraction  \\\n",
       "0                           0.562500                      0.375   \n",
       "1                           0.500000                      0.000   \n",
       "2                           0.500000                      0.000   \n",
       "3                                NaN                        NaN   \n",
       "4                           0.666667                      0.000   \n",
       "...                              ...                        ...   \n",
       "265833                           NaN                        NaN   \n",
       "265834                           NaN                        NaN   \n",
       "265835                           NaN                        NaN   \n",
       "265836                           NaN                        NaN   \n",
       "265837                           NaN                        NaN   \n",
       "\n",
       "        bulge-size_dominant_fraction  merging_merger_fraction  \\\n",
       "0                             0.0625                 0.000000   \n",
       "1                             0.5000                 0.057143   \n",
       "2                             0.0000                 0.000000   \n",
       "3                                NaN                 0.000000   \n",
       "4                             0.0000                 0.000000   \n",
       "...                              ...                      ...   \n",
       "265833                           NaN                      NaN   \n",
       "265834                           NaN                 0.000000   \n",
       "265835                           NaN                 0.000000   \n",
       "265836                           NaN                      NaN   \n",
       "265837                           NaN                      NaN   \n",
       "\n",
       "        merging_tidal-debris-v1_fraction  merging_both-v1_fraction  \\\n",
       "0                                    0.0                       0.0   \n",
       "1                                    0.0                       0.0   \n",
       "2                                    0.0                       0.0   \n",
       "3                                    0.0                       0.0   \n",
       "4                                    0.0                       0.0   \n",
       "...                                  ...                       ...   \n",
       "265833                               NaN                       NaN   \n",
       "265834                               0.0                       0.0   \n",
       "265835                               0.0                       0.0   \n",
       "265836                               NaN                       NaN   \n",
       "265837                               NaN                       NaN   \n",
       "\n",
       "        merging_neither-v1_fraction  merging_major-disturbance_fraction  \\\n",
       "0                          0.000000                              0.0625   \n",
       "1                          0.942857                              0.0000   \n",
       "2                          0.000000                              0.0000   \n",
       "3                          0.000000                              0.0000   \n",
       "4                          0.000000                              0.0000   \n",
       "...                             ...                                 ...   \n",
       "265833                          NaN                                 NaN   \n",
       "265834                     0.000000                              0.0000   \n",
       "265835                     0.000000                              0.0000   \n",
       "265836                          NaN                                 NaN   \n",
       "265837                          NaN                                 NaN   \n",
       "\n",
       "        merging_minor-disturbance_fraction  merging_none_fraction  \n",
       "0                                    0.100                 0.8375  \n",
       "1                                    0.000                 0.0000  \n",
       "2                                    0.200                 0.8000  \n",
       "3                                    0.125                 0.8750  \n",
       "4                                    0.000                 1.0000  \n",
       "...                                    ...                    ...  \n",
       "265833                                 NaN                    NaN  \n",
       "265834                               0.000                 1.0000  \n",
       "265835                               0.000                 1.0000  \n",
       "265836                                 NaN                    NaN  \n",
       "265837                                 NaN                    NaN  \n",
       "\n",
       "[265838 rows x 85 columns]"
      ]
     },
     "execution_count": 5,
     "metadata": {},
     "output_type": "execute_result"
    }
   ],
   "source": [
    "latest_export"
   ]
  },
  {
   "cell_type": "code",
   "execution_count": 6,
   "metadata": {},
   "outputs": [
    {
     "data": {
      "text/plain": [
       "1"
      ]
     },
     "execution_count": 6,
     "metadata": {},
     "output_type": "execute_result"
    }
   ],
   "source": [
    "pd.isna(latest_export['iauname']).sum() # all galaxies with no iauname are grouped! Including EAGLE"
   ]
  },
  {
   "cell_type": "code",
   "execution_count": 7,
   "metadata": {},
   "outputs": [
    {
     "data": {
      "text/plain": [
       "iauname                                   None\n",
       "bar_no                                  109827\n",
       "bar_strong                               18003\n",
       "bar_weak                                 33480\n",
       "bulge-size_dominant                      13439\n",
       "                                        ...   \n",
       "merging_both-v1_fraction                     0\n",
       "merging_neither-v1_fraction                  0\n",
       "merging_major-disturbance_fraction    0.143465\n",
       "merging_minor-disturbance_fraction    0.210717\n",
       "merging_none_fraction                 0.605108\n",
       "Name: 56371, Length: 85, dtype: object"
      ]
     },
     "execution_count": 7,
     "metadata": {},
     "output_type": "execute_result"
    }
   ],
   "source": [
    "latest_export[pd.isna(latest_export['iauname'])].squeeze()"
   ]
  },
  {
   "cell_type": "code",
   "execution_count": 8,
   "metadata": {},
   "outputs": [],
   "source": [
    "latest_export = latest_export.dropna(subset=['iauname'])"
   ]
  },
  {
   "cell_type": "code",
   "execution_count": 9,
   "metadata": {},
   "outputs": [],
   "source": [
    "to_upload = Table.read('/media/walml/beta/galaxy_zoo/decals/catalogs/dr5_nsa1_0_0_to_upload.fits').to_pandas()  # joint catalog, after selection cuts\n",
    "to_upload['iauname'] = to_upload['iauname'].str.decode('utf8')"
   ]
  },
  {
   "cell_type": "code",
   "execution_count": 10,
   "metadata": {},
   "outputs": [],
   "source": [
    "# correct these paths, in case useful in the final uploadable catalog\n",
    "to_upload = to_upload.rename(index=str, columns={\n",
    "    'fits_loc': 'local_fits_loc',\n",
    "    'png_loc': 'local_png_loc'\n",
    "})\n",
    "to_upload['png_loc'] = to_upload['local_png_loc'].str.decode('utf-8')\n",
    "to_upload['png_loc'] = to_upload['png_loc'].str.replace('/Volumes/EXTERNAL/decals/png/', 'png_native/')"
   ]
  },
  {
   "cell_type": "code",
   "execution_count": 11,
   "metadata": {},
   "outputs": [],
   "source": [
    "# to_upload.query('fits_filled').to_csv('dr5_with_fits_filled.csv', index=False)  # all galaxies with DR5 fits_filled (includes DR1/2 galaxies)"
   ]
  },
  {
   "cell_type": "code",
   "execution_count": 12,
   "metadata": {},
   "outputs": [],
   "source": [
    "#dr1/2 raw classifications\n",
    "dr1_c = pd.read_csv('/media/walml/beta/galaxy_zoo/decals/gzreduction_ouroborous/working_dir/raw/classifications/2017-10-15_galaxy_zoo_decals_classifications.csv')\n",
    "dr2_c = pd.read_csv('/media/walml/beta/galaxy_zoo/decals/gzreduction_ouroborous/working_dir/raw/classifications/2017-10-15_galaxy_zoo_decals_dr2_classifications.csv')\n"
   ]
  },
  {
   "cell_type": "markdown",
   "metadata": {},
   "source": [
    "## Remove galaxies with classifications that we shouldn't publish \n",
    "\n",
    "Because they don't have fits_filled"
   ]
  },
  {
   "cell_type": "code",
   "execution_count": 13,
   "metadata": {},
   "outputs": [
    {
     "data": {
      "text/plain": [
       "True     253287\n",
       "False     12550\n",
       "Name: iauname, dtype: int64"
      ]
     },
     "execution_count": 13,
     "metadata": {},
     "output_type": "execute_result"
    }
   ],
   "source": [
    "# and in decals, passed selection cuts, implicitly. Removes some test uploads, some of whcih have nan iaunames\n",
    "good_images = latest_export['iauname'].isin(to_upload.query('fits_filled')['iauname'])  \n",
    "good_images.value_counts()"
   ]
  },
  {
   "cell_type": "code",
   "execution_count": 14,
   "metadata": {},
   "outputs": [
    {
     "data": {
      "text/plain": [
       "12550"
      ]
     },
     "execution_count": 14,
     "metadata": {},
     "output_type": "execute_result"
    }
   ],
   "source": [
    "bad_iaunames = set(latest_export[~good_images]['iauname'])\n",
    "len(bad_iaunames)"
   ]
  },
  {
   "cell_type": "code",
   "execution_count": 15,
   "metadata": {},
   "outputs": [],
   "source": [
    "# # save for use in other projects, if needed - remember these are still in the flat tables\n",
    "# with open('data/bad_iaunames.json', 'w') as f:\n",
    "#     json.dump(list(bad_iaunames), f)"
   ]
  },
  {
   "cell_type": "code",
   "execution_count": 16,
   "metadata": {},
   "outputs": [],
   "source": [
    "safe_export = latest_export[good_images]  # use good images going forward"
   ]
  },
  {
   "cell_type": "markdown",
   "metadata": {},
   "source": [
    "### Check Retirement, Check Old Merger Votes are Excluded"
   ]
  },
  {
   "cell_type": "code",
   "execution_count": 17,
   "metadata": {},
   "outputs": [
    {
     "data": {
      "text/plain": [
       "0     135822\n",
       "1      57838\n",
       "2      22839\n",
       "3      12362\n",
       "4       8129\n",
       "       ...  \n",
       "51         1\n",
       "47         1\n",
       "42         1\n",
       "41         1\n",
       "88         1\n",
       "Length: 70, dtype: int64"
      ]
     },
     "execution_count": 17,
     "metadata": {},
     "output_type": "execute_result"
    }
   ],
   "source": [
    "(safe_export['smooth-or-featured_total-votes'] - safe_export['merging_total-votes'] ).value_counts()"
   ]
  },
  {
   "cell_type": "code",
   "execution_count": 18,
   "metadata": {},
   "outputs": [
    {
     "data": {
      "image/png": "[encoded data removed]",
      "text/plain": [
       "<Figure size 432x288 with 1 Axes>"
      ]
     },
     "metadata": {
      "needs_background": "light"
     },
     "output_type": "display_data"
    }
   ],
   "source": [
    "_ = plt.hist(safe_export['smooth-or-featured_total-votes'], bins=40)"
   ]
  },
  {
   "cell_type": "code",
   "execution_count": 19,
   "metadata": {},
   "outputs": [
    {
     "data": {
      "image/png": "[encoded data removed]",
      "text/plain": [
       "<Figure size 432x288 with 1 Axes>"
      ]
     },
     "metadata": {
      "needs_background": "light"
     },
     "output_type": "display_data"
    }
   ],
   "source": [
    "_, bins = np.histogram(np.linspace(0., 100), bins=30)\n",
    "_ = plt.hist(safe_export['smooth-or-featured_total-votes'], bins=bins)"
   ]
  },
  {
   "cell_type": "code",
   "execution_count": 20,
   "metadata": {},
   "outputs": [
    {
     "data": {
      "text/plain": [
       "0.9853723246751709"
      ]
     },
     "execution_count": 20,
     "metadata": {},
     "output_type": "execute_result"
    }
   ],
   "source": [
    "(safe_export['smooth-or-featured_total-votes'] > 2).mean()  # 98% have 3 or more votes, good for ML"
   ]
  },
  {
   "cell_type": "code",
   "execution_count": 21,
   "metadata": {},
   "outputs": [
    {
     "data": {
      "image/png": "[encoded data removed]",
      "text/plain": [
       "<Figure size 432x288 with 1 Axes>"
      ]
     },
     "metadata": {
      "needs_background": "light"
     },
     "output_type": "display_data"
    }
   ],
   "source": [
    "_, bins = np.histogram(np.linspace(0., 20), bins=20)\n",
    "_ = plt.hist(safe_export['smooth-or-featured_total-votes'], bins=bins)"
   ]
  },
  {
   "cell_type": "code",
   "execution_count": 22,
   "metadata": {},
   "outputs": [
    {
     "data": {
      "text/plain": [
       "(0.0, 100)"
      ]
     },
     "execution_count": 22,
     "metadata": {},
     "output_type": "execute_result"
    },
    {
     "data": {
      "image/png": "[encoded data removed]",
      "text/plain": [
       "<Figure size 432x288 with 1 Axes>"
      ]
     },
     "metadata": {
      "needs_background": "light"
     },
     "output_type": "display_data"
    }
   ],
   "source": [
    "fig, ax = plt.subplots()\n",
    "sns.scatterplot(safe_export['smooth-or-featured_total-votes'], safe_export['merging_total-votes'], ax=ax, alpha=.01, s=5.)\n",
    "ax.plot([0., 100.], [0., 100.], 'k--')\n",
    "ax.set_xlim([0., 100])\n",
    "ax.set_ylim([0., 100])\n",
    "# some galaxies (esp. at 40 or 80, the dr5 duplicates) have slightly fewer merger votes because the old votes are excluded. But NONE have MORE merger votes, which was an aggregation bug I found previously."
   ]
  },
  {
   "cell_type": "code",
   "execution_count": 23,
   "metadata": {},
   "outputs": [
    {
     "name": "stderr",
     "output_type": "stream",
     "text": [
      "/home/walml/anaconda3/envs/zoobot/lib/python3.7/site-packages/ipykernel_launcher.py:1: SettingWithCopyWarning: \n",
      "A value is trying to be set on a copy of a slice from a DataFrame.\n",
      "Try using .loc[row_indexer,col_indexer] = value instead\n",
      "\n",
      "See the caveats in the documentation: https://pandas.pydata.org/pandas-docs/stable/user_guide/indexing.html#returning-a-view-versus-a-copy\n",
      "  \"\"\"Entry point for launching an IPython kernel.\n"
     ]
    }
   ],
   "source": [
    "safe_export['merge_minus_smooth'] = safe_export['merging_total-votes'] - safe_export['smooth-or-featured_total-votes']"
   ]
  },
  {
   "cell_type": "code",
   "execution_count": 24,
   "metadata": {},
   "outputs": [],
   "source": [
    "assert not any((safe_export['merge_minus_smooth'] > 0))  # should not be possible!"
   ]
  },
  {
   "cell_type": "markdown",
   "metadata": {},
   "source": [
    "# Flag galaxies by origin"
   ]
  },
  {
   "cell_type": "code",
   "execution_count": 25,
   "metadata": {},
   "outputs": [],
   "source": [
    "calibration_subject_sets = [\n",
    "#     19829,  # nair 250 each  # superceded by below set\n",
    "    19832  # nair all\n",
    "]\n",
    "\n",
    "pre_active_subject_sets = [\n",
    "    20036,  # first 3k\n",
    "    20156, # 3k-5k,\n",
    "    20603,  # 5k\n",
    "    21156, # 10k\n",
    "    51756, # 3k\n",
    "    60259,  # 5k\n",
    "    60995, # +5k   \n",
    "    67383,  # +15k,\n",
    "    67382,  # +500\n",
    "    74807  # decals classic mode subjects, going to include as 'pre-active'\n",
    "]\n",
    "\n",
    "targeted_observations = [\n",
    "    20354, # yjan 790\n",
    "    60258  # yjan 1100ish (id/date is a touch strange)\n",
    "]\n",
    "\n",
    "active_baseline = [74905, 85299, 87884, 88772]  # random, missing, missing_d, missing_e\n",
    "\n",
    "active_priority = [74909]\n",
    "\n",
    "\n",
    "\n",
    "# and will add the newly-found galaxies to active_baseline"
   ]
  },
  {
   "cell_type": "code",
   "execution_count": 26,
   "metadata": {},
   "outputs": [],
   "source": [
    "set_namer = {\n",
    "    'calibration_nair_dr2_dr5': calibration_subject_sets,\n",
    "    'pre_active': pre_active_subject_sets,\n",
    "    'targeted': targeted_observations,\n",
    "    'active_baseline': active_baseline,\n",
    "    'active_priority': active_priority\n",
    "}"
   ]
  },
  {
   "cell_type": "code",
   "execution_count": 27,
   "metadata": {},
   "outputs": [],
   "source": [
    "exclude = {\n",
    "    16811,\n",
    "    74894,\n",
    "    83000,\n",
    "    60988,\n",
    "    83139,\n",
    "    76070,\n",
    "    78914,\n",
    "    76288,\n",
    "    19829,\n",
    "    83000,\n",
    "    83139,\n",
    "    77652  # eagle\n",
    "}"
   ]
  },
  {
   "cell_type": "markdown",
   "metadata": {},
   "source": [
    "I need to check the vote distribution for active learning vs random. If it worked right, there should be more featured galaxies in priority set."
   ]
  },
  {
   "cell_type": "code",
   "execution_count": 28,
   "metadata": {},
   "outputs": [],
   "source": [
    "latest_subjects = pd.read_csv('/media/walml/beta/galaxy_zoo/decals/dr5/volunteer_reduction/2020_11_10_tobias/data/galaxy-zoo-subjects.csv')"
   ]
  },
  {
   "cell_type": "code",
   "execution_count": 29,
   "metadata": {},
   "outputs": [],
   "source": [
    "latest_subjects = latest_subjects[~latest_subjects['subject_set_id'].isin(exclude)]"
   ]
  },
  {
   "cell_type": "code",
   "execution_count": 30,
   "metadata": {},
   "outputs": [],
   "source": [
    "latest_subjects['workflow_id'] = latest_subjects['workflow_id'].fillna('inactive')"
   ]
  },
  {
   "cell_type": "code",
   "execution_count": 31,
   "metadata": {},
   "outputs": [
    {
     "data": {
      "text/plain": [
       "6122.0      230381\n",
       "10582.0     209487\n",
       "inactive     21504\n",
       "10581.0       5765\n",
       "11308.0       5000\n",
       "6527.0        1601\n",
       "5653.0         875\n",
       "12410.0        150\n",
       "16875.0         30\n",
       "Name: workflow_id, dtype: int64"
      ]
     },
     "execution_count": 31,
     "metadata": {},
     "output_type": "execute_result"
    }
   ],
   "source": [
    "latest_subjects['workflow_id'].value_counts()"
   ]
  },
  {
   "cell_type": "code",
   "execution_count": 32,
   "metadata": {},
   "outputs": [],
   "source": [
    "# latest_subjects[(latest_subjects['subject_set_id'] == int(74909))]"
   ]
  },
  {
   "cell_type": "code",
   "execution_count": 33,
   "metadata": {},
   "outputs": [
    {
     "data": {
      "text/plain": [
       "6122.0      230381\n",
       "10582.0     209487\n",
       "inactive     21504\n",
       "10581.0       5765\n",
       "Name: workflow_id, dtype: int64"
      ]
     },
     "execution_count": 33,
     "metadata": {},
     "output_type": "execute_result"
    }
   ],
   "source": [
    "latest_subjects = latest_subjects[latest_subjects['workflow_id'].isin([6122.0, 10582.0, 10581.0, 'inactive'])]  # decals public workflows. 'inactive' to catch unchecked sets\n",
    "latest_subjects['workflow_id'].value_counts()"
   ]
  },
  {
   "cell_type": "code",
   "execution_count": 34,
   "metadata": {},
   "outputs": [
    {
     "data": {
      "text/plain": [
       "74905    357026\n",
       "85299     21900\n",
       "67383     15000\n",
       "87884     11456\n",
       "74909     10048\n",
       "21156     10000\n",
       "88772      9074\n",
       "74807      5765\n",
       "60259      5000\n",
       "60995      5000\n",
       "20603      5000\n",
       "20036      3000\n",
       "51756      3000\n",
       "20156      2000\n",
       "19832      1601\n",
       "60258       977\n",
       "20354       790\n",
       "67382       500\n",
       "Name: subject_set_id, dtype: int64"
      ]
     },
     "execution_count": 34,
     "metadata": {},
     "output_type": "execute_result"
    }
   ],
   "source": [
    "latest_subjects['subject_set_id'].value_counts()"
   ]
  },
  {
   "cell_type": "code",
   "execution_count": 35,
   "metadata": {},
   "outputs": [],
   "source": [
    "latest_subjects['metadata'] = latest_subjects['metadata'].apply(json.loads)"
   ]
  },
  {
   "cell_type": "code",
   "execution_count": 36,
   "metadata": {},
   "outputs": [],
   "source": [
    "def get_iauname(metadata):\n",
    "    possible_keys = ['iauname', '!iauname', 'IAUNAME', '!IAUNAME']\n",
    "    for key in possible_keys:\n",
    "        if key in metadata.keys():\n",
    "            return metadata[key]\n",
    "    return np.nan"
   ]
  },
  {
   "cell_type": "code",
   "execution_count": 37,
   "metadata": {},
   "outputs": [],
   "source": [
    "latest_subjects['iauname'] = latest_subjects['metadata'].apply(get_iauname)"
   ]
  },
  {
   "cell_type": "code",
   "execution_count": 38,
   "metadata": {},
   "outputs": [],
   "source": [
    "assert not any(pd.isna(latest_subjects['iauname']))"
   ]
  },
  {
   "cell_type": "code",
   "execution_count": 39,
   "metadata": {},
   "outputs": [
    {
     "data": {
      "text/plain": [
       "74905    357026\n",
       "85299     21900\n",
       "67383     15000\n",
       "87884     11456\n",
       "74909     10048\n",
       "21156     10000\n",
       "88772      9074\n",
       "74807      5765\n",
       "60259      5000\n",
       "60995      5000\n",
       "20603      5000\n",
       "20036      3000\n",
       "51756      3000\n",
       "20156      2000\n",
       "19832      1601\n",
       "60258       977\n",
       "20354       790\n",
       "67382       500\n",
       "Name: subject_set_id, dtype: int64"
      ]
     },
     "execution_count": 39,
     "metadata": {},
     "output_type": "execute_result"
    }
   ],
   "source": [
    "latest_subjects['subject_set_id'].value_counts()"
   ]
  },
  {
   "cell_type": "code",
   "execution_count": 40,
   "metadata": {},
   "outputs": [],
   "source": [
    "expected_sets = set(calibration_subject_sets + pre_active_subject_sets + targeted_observations + active_baseline + active_priority)\n",
    "actual_sets = set(latest_subjects['subject_set_id'].unique())"
   ]
  },
  {
   "cell_type": "code",
   "execution_count": 41,
   "metadata": {},
   "outputs": [
    {
     "data": {
      "text/plain": [
       "set()"
      ]
     },
     "execution_count": 41,
     "metadata": {},
     "output_type": "execute_result"
    }
   ],
   "source": [
    "actual_sets.difference(expected_sets)"
   ]
  },
  {
   "cell_type": "code",
   "execution_count": 42,
   "metadata": {},
   "outputs": [],
   "source": [
    "assert actual_sets.difference(expected_sets) == set()"
   ]
  },
  {
   "cell_type": "code",
   "execution_count": 43,
   "metadata": {},
   "outputs": [],
   "source": [
    "# 74807 is an early active-learning-random upload, made just before turning active learning on, to the 'classic' (as opposed to enhanced) workflow\n",
    "# they were pretty much all classified to N=100, probably because I hadn't yet got caesar working right on 'classic'\n",
    "# about half of the galaxies (not subjects) are also in either pre-active-learning uploads or enhanced mode random uploads\n",
    "# https://www.zooniverse.org/lab/5733/subject-sets/74807\n",
    "# because they are random and highly classified, I list them in the data release as 'pre-active'"
   ]
  },
  {
   "cell_type": "code",
   "execution_count": 44,
   "metadata": {},
   "outputs": [],
   "source": [
    "# classic_ids = latest_subjects.query('subject_set_id == \"74807\"')['subject_id']"
   ]
  },
  {
   "cell_type": "code",
   "execution_count": 45,
   "metadata": {},
   "outputs": [],
   "source": [
    "# good_export = latest_export[good_images]\n",
    "# good_export[good_export['subject_id'].isin(classic_ids)]['smooth-or-featured_total-votes'].hist(bins=40)"
   ]
  },
  {
   "cell_type": "code",
   "execution_count": 46,
   "metadata": {},
   "outputs": [],
   "source": [
    "# latest_subjects.query('subject_set_id == \"74807\"')['metadata'].iloc[5]"
   ]
  },
  {
   "cell_type": "code",
   "execution_count": 47,
   "metadata": {},
   "outputs": [],
   "source": [
    "# latest_subjects.query('subject_set_id == \"74905\"')['metadata'].iloc[0]"
   ]
  },
  {
   "cell_type": "code",
   "execution_count": 48,
   "metadata": {},
   "outputs": [
    {
     "data": {
      "text/plain": [
       "(5765, 3067, 2698)"
      ]
     },
     "execution_count": 48,
     "metadata": {},
     "output_type": "execute_result"
    }
   ],
   "source": [
    "classic = latest_subjects.query('subject_set_id == \"74807\"')\n",
    "in_both = classic[classic['iauname'].isin(latest_subjects.query('subject_set_id != \"74807\"')['iauname'])]\n",
    "only_in_classic = classic[~classic['iauname'].isin(latest_subjects.query('subject_set_id != \"74807\"')['iauname'])]\n",
    "len(classic), len(only_in_classic), len(in_both)"
   ]
  },
  {
   "cell_type": "code",
   "execution_count": 49,
   "metadata": {},
   "outputs": [
    {
     "data": {
      "text/plain": [
       "74905    5324\n",
       "74807    2698\n",
       "74909      67\n",
       "Name: subject_set_id, dtype: int64"
      ]
     },
     "execution_count": 49,
     "metadata": {},
     "output_type": "execute_result"
    }
   ],
   "source": [
    "latest_subjects[latest_subjects['iauname'].isin(in_both['iauname'])]['subject_set_id'].value_counts()  # which other subject sets are they in? random, (classic), a few active. Not calibration."
   ]
  },
  {
   "cell_type": "code",
   "execution_count": 50,
   "metadata": {},
   "outputs": [
    {
     "data": {
      "text/plain": [
       "'{\"0\":\"https://panoptes-uploads.zooniverse.org/production/subject_location/51d32137-5405-4966-b01b-0e17035a86bc.png\"}'"
      ]
     },
     "execution_count": 50,
     "metadata": {},
     "output_type": "execute_result"
    }
   ],
   "source": [
    "latest_subjects.query('subject_set_id == \"74807\"')['locations'].iloc[0]"
   ]
  },
  {
   "cell_type": "code",
   "execution_count": null,
   "metadata": {},
   "outputs": [],
   "source": []
  },
  {
   "cell_type": "markdown",
   "metadata": {},
   "source": [
    "*Checking this way around is important!*\n",
    "\n",
    "Subject sets not checked on any workflow will not be included in the export, and so those galaxies won't be marked as in that upload_group and may be dropped in the merges below."
   ]
  },
  {
   "cell_type": "code",
   "execution_count": 51,
   "metadata": {},
   "outputs": [
    {
     "data": {
      "text/plain": [
       "set()"
      ]
     },
     "execution_count": 51,
     "metadata": {},
     "output_type": "execute_result"
    }
   ],
   "source": [
    "expected_sets.difference(actual_sets)  # these have labels but are not actually included in the export.\n",
    "# 19829 is a small calibration set superceded by nair_all. \n",
    "# 74909 is the active learning priority set though! What happened to those galaxies?!"
   ]
  },
  {
   "cell_type": "code",
   "execution_count": 52,
   "metadata": {},
   "outputs": [],
   "source": [
    "assert expected_sets.difference(actual_sets) == set()"
   ]
  },
  {
   "cell_type": "markdown",
   "metadata": {},
   "source": [
    "### Name each set"
   ]
  },
  {
   "cell_type": "code",
   "execution_count": 53,
   "metadata": {},
   "outputs": [],
   "source": [
    "def name_subject_set(subject_set_id):\n",
    "    for key, ids in set_namer.items():\n",
    "        if subject_set_id in ids:\n",
    "            return key\n",
    "    return 'failed'"
   ]
  },
  {
   "cell_type": "code",
   "execution_count": 54,
   "metadata": {},
   "outputs": [
    {
     "data": {
      "text/plain": [
       "active_baseline             399456\n",
       "pre_active                   54265\n",
       "active_priority              10048\n",
       "targeted                      1767\n",
       "calibration_nair_dr2_dr5      1601\n",
       "Name: upload_group, dtype: int64"
      ]
     },
     "execution_count": 54,
     "metadata": {},
     "output_type": "execute_result"
    }
   ],
   "source": [
    "latest_subjects['upload_group'] = latest_subjects['subject_set_id'].apply(lambda x: name_subject_set(int(x)))\n",
    "latest_subjects['upload_group'].value_counts()"
   ]
  },
  {
   "cell_type": "code",
   "execution_count": 55,
   "metadata": {},
   "outputs": [
    {
     "data": {
      "text/html": [
       "<div>\n",
       "<style scoped>\n",
       "    .dataframe tbody tr th:only-of-type {\n",
       "        vertical-align: middle;\n",
       "    }\n",
       "\n",
       "    .dataframe tbody tr th {\n",
       "        vertical-align: top;\n",
       "    }\n",
       "\n",
       "    .dataframe thead th {\n",
       "        text-align: right;\n",
       "    }\n",
       "</style>\n",
       "<table border=\"1\" class=\"dataframe\">\n",
       "  <thead>\n",
       "    <tr style=\"text-align: right;\">\n",
       "      <th></th>\n",
       "      <th>subject_id</th>\n",
       "      <th>project_id</th>\n",
       "      <th>workflow_id</th>\n",
       "      <th>subject_set_id</th>\n",
       "      <th>metadata</th>\n",
       "      <th>locations</th>\n",
       "      <th>classifications_count</th>\n",
       "      <th>retired_at</th>\n",
       "      <th>retirement_reason</th>\n",
       "      <th>created_at</th>\n",
       "      <th>updated_at</th>\n",
       "      <th>iauname</th>\n",
       "      <th>upload_group</th>\n",
       "    </tr>\n",
       "  </thead>\n",
       "  <tbody>\n",
       "  </tbody>\n",
       "</table>\n",
       "</div>"
      ],
      "text/plain": [
       "Empty DataFrame\n",
       "Columns: [subject_id, project_id, workflow_id, subject_set_id, metadata, locations, classifications_count, retired_at, retirement_reason, created_at, updated_at, iauname, upload_group]\n",
       "Index: []"
      ]
     },
     "execution_count": 55,
     "metadata": {},
     "output_type": "execute_result"
    }
   ],
   "source": [
    "latest_subjects.query('upload_group == \"failed\"')"
   ]
  },
  {
   "cell_type": "code",
   "execution_count": 56,
   "metadata": {},
   "outputs": [],
   "source": [
    "# assigning galaxies (iaunames) into subject sets may be awkward due to duplicates - check how many are in several"
   ]
  },
  {
   "cell_type": "code",
   "execution_count": 57,
   "metadata": {},
   "outputs": [],
   "source": [
    "t = latest_subjects.groupby('iauname').agg({'upload_group': lambda x: tuple(set(x))})"
   ]
  },
  {
   "cell_type": "code",
   "execution_count": 58,
   "metadata": {},
   "outputs": [
    {
     "data": {
      "text/plain": [
       "(active_baseline,)                                              203998\n",
       "(pre_active,)                                                    48357\n",
       "(active_priority, active_baseline)                                5058\n",
       "(active_priority,)                                                2737\n",
       "(active_baseline, pre_active)                                     2638\n",
       "(targeted,)                                                       1430\n",
       "(calibration_nair_dr2_dr5,)                                       1266\n",
       "(pre_active, targeted)                                             198\n",
       "(targeted, calibration_nair_dr2_dr5)                               139\n",
       "(active_baseline, calibration_nair_dr2_dr5)                        136\n",
       "(active_priority, calibration_nair_dr2_dr5)                         52\n",
       "(active_priority, pre_active)                                       42\n",
       "(active_priority, active_baseline, pre_active)                      28\n",
       "(active_priority, active_baseline, calibration_nair_dr2_dr5)         8\n",
       "Name: upload_group, dtype: int64"
      ]
     },
     "execution_count": 58,
     "metadata": {},
     "output_type": "execute_result"
    }
   ],
   "source": [
    "t['upload_group'].value_counts()"
   ]
  },
  {
   "cell_type": "markdown",
   "metadata": {},
   "source": [
    "Good - mostly the duplicates are all within the same subject sets. Let's resolve as follows:\n",
    "- active_priority + active_baseline = active_priority\n",
    "- calibration = pre_active, because they were selected before active learning. Slight silent bias as they are brighter, but no way to avoid\n",
    "- calibration + anything = anything, calibration is not a random subset so preserve anything's selection func\n",
    "- targeted + anything = anything, would have been in anything either way\n",
    "- pre_active + active_priority = pre_active (should not have been reclassified)\n",
    "- active_baseline + pre_active = pre_active (should not have been reclassified)"
   ]
  },
  {
   "cell_type": "code",
   "execution_count": 59,
   "metadata": {},
   "outputs": [],
   "source": [
    "def group_metadata(x):\n",
    "    pass  # TODO\n",
    "\n",
    "def group_locations(x):\n",
    "    return json.dumps([json.loads(row)['0'] for row in x.values])  # list of unique urls, assuming 0 is the only key in each row\n",
    "\n",
    "def group_upload_group(x):\n",
    "    \n",
    "    x = list(x)\n",
    "    \n",
    "    # only return calibration if that's the only set\n",
    "#     if set(x) == set(['calibration_nair_dr2_dr5']):\n",
    "#         return x.iloc[0]\n",
    "# changed my mind - calibration will be flagged separately, and galaxies in and only in calibration are effectively early pre-active uploads\n",
    "#     assert not x.empty\n",
    "    assert x\n",
    "\n",
    "    if 'calibration_nair_dr2_dr5' in x:  # calibration galaxy, already classified in DR2, would not have been reclassified\n",
    "        return 'calibration'\n",
    "    \n",
    "    x_unique = set(x)\n",
    "    if len(x_unique) == 1:  # just calibration or just one other subject set\n",
    "        return list(x_unique)[0]\n",
    "\n",
    "    if x_unique == set(('pre_active', 'active_baseline')):\n",
    "        return 'pre_active'\n",
    "    \n",
    "    if x_unique == set(('active_baseline', 'active_priority')):\n",
    "        return 'active_priority'\n",
    "    \n",
    "    if x_unique == set(('targeted', 'pre_active')):\n",
    "        return 'pre_active'\n",
    "    \n",
    "    if x_unique == set(('active_priority', 'pre_active')):\n",
    "        return 'pre_active'\n",
    "    \n",
    "    if x_unique == set(('active_priority', 'active_baseline')):\n",
    "        return 'active_priority'\n",
    "    \n",
    "    if x_unique == set(('active_priority', 'active_baseline', 'pre_active')):\n",
    "        return 'pre_active'\n",
    "\n",
    "    raise ValueError('{}, {} not understood'.format(x, x_unique))\n"
   ]
  },
  {
   "cell_type": "code",
   "execution_count": 60,
   "metadata": {},
   "outputs": [
    {
     "data": {
      "text/plain": [
       "active_baseline             399456\n",
       "pre_active                   54265\n",
       "active_priority              10048\n",
       "targeted                      1767\n",
       "calibration_nair_dr2_dr5      1601\n",
       "Name: upload_group, dtype: int64"
      ]
     },
     "execution_count": 60,
     "metadata": {},
     "output_type": "execute_result"
    }
   ],
   "source": [
    "latest_subjects['upload_group'].value_counts()  # individual names, before grouping"
   ]
  },
  {
   "cell_type": "code",
   "execution_count": 61,
   "metadata": {},
   "outputs": [],
   "source": [
    "grouped_subjects = latest_subjects.groupby('iauname').agg({'locations': group_locations, 'upload_group': group_upload_group}).reset_index()  # TODO add grouping of upload_groups"
   ]
  },
  {
   "cell_type": "code",
   "execution_count": 62,
   "metadata": {},
   "outputs": [
    {
     "data": {
      "text/plain": [
       "active_baseline    203998\n",
       "pre_active          51263\n",
       "active_priority      7795\n",
       "calibration          1601\n",
       "targeted             1430\n",
       "Name: upload_group, dtype: int64"
      ]
     },
     "execution_count": 62,
     "metadata": {},
     "output_type": "execute_result"
    }
   ],
   "source": [
    "grouped_subjects['upload_group'].value_counts()  # these are all subjects on project. they MIGHT have classifications"
   ]
  },
  {
   "cell_type": "code",
   "execution_count": 63,
   "metadata": {},
   "outputs": [
    {
     "data": {
      "text/plain": [
       "(253286, 253287)"
      ]
     },
     "execution_count": 63,
     "metadata": {},
     "output_type": "execute_result"
    }
   ],
   "source": [
    "final_df = pd.merge(safe_export, grouped_subjects, on='iauname', how='inner')  # safe export are the galaxies which DO have classifications and are safe (i.e.have filled images)\n",
    "# this merge does drop a few subjects which weren't actually classified. in particular, 6 calibration subjects are dropped for bad images.\n",
    "len(final_df), len(safe_export)  # previously commented that will loose the five k 'bad metadata' galaxies from DR5 classic workflow, but I actually want to keep them?"
   ]
  },
  {
   "cell_type": "code",
   "execution_count": 64,
   "metadata": {},
   "outputs": [
    {
     "data": {
      "text/plain": [
       "active_baseline    192557\n",
       "pre_active          50946\n",
       "active_priority      6939\n",
       "calibration          1594\n",
       "targeted             1250\n",
       "Name: upload_group, dtype: int64"
      ]
     },
     "execution_count": 64,
     "metadata": {},
     "output_type": "execute_result"
    }
   ],
   "source": [
    "final_df['upload_group'].value_counts()"
   ]
  },
  {
   "cell_type": "code",
   "execution_count": 65,
   "metadata": {},
   "outputs": [
    {
     "data": {
      "text/html": [
       "<div>\n",
       "<style scoped>\n",
       "    .dataframe tbody tr th:only-of-type {\n",
       "        vertical-align: middle;\n",
       "    }\n",
       "\n",
       "    .dataframe tbody tr th {\n",
       "        vertical-align: top;\n",
       "    }\n",
       "\n",
       "    .dataframe thead th {\n",
       "        text-align: right;\n",
       "    }\n",
       "</style>\n",
       "<table border=\"1\" class=\"dataframe\">\n",
       "  <thead>\n",
       "    <tr style=\"text-align: right;\">\n",
       "      <th></th>\n",
       "      <th>iauname</th>\n",
       "      <th>bar_no</th>\n",
       "      <th>bar_strong</th>\n",
       "      <th>bar_weak</th>\n",
       "      <th>bulge-size_dominant</th>\n",
       "      <th>bulge-size_large</th>\n",
       "      <th>bulge-size_moderate</th>\n",
       "      <th>bulge-size_none</th>\n",
       "      <th>bulge-size_small</th>\n",
       "      <th>disk-edge-on_no</th>\n",
       "      <th>...</th>\n",
       "      <th>merging_merger_fraction</th>\n",
       "      <th>merging_tidal-debris-v1_fraction</th>\n",
       "      <th>merging_both-v1_fraction</th>\n",
       "      <th>merging_neither-v1_fraction</th>\n",
       "      <th>merging_major-disturbance_fraction</th>\n",
       "      <th>merging_minor-disturbance_fraction</th>\n",
       "      <th>merging_none_fraction</th>\n",
       "      <th>merge_minus_smooth</th>\n",
       "      <th>locations</th>\n",
       "      <th>upload_group</th>\n",
       "    </tr>\n",
       "  </thead>\n",
       "  <tbody>\n",
       "    <tr>\n",
       "      <th>0</th>\n",
       "      <td>J112953.88-000427.4</td>\n",
       "      <td>13</td>\n",
       "      <td>2</td>\n",
       "      <td>1</td>\n",
       "      <td>1</td>\n",
       "      <td>6</td>\n",
       "      <td>9</td>\n",
       "      <td>0</td>\n",
       "      <td>0</td>\n",
       "      <td>16</td>\n",
       "      <td>...</td>\n",
       "      <td>0.000000</td>\n",
       "      <td>0.0</td>\n",
       "      <td>0.0</td>\n",
       "      <td>0.000000</td>\n",
       "      <td>0.0625</td>\n",
       "      <td>0.100</td>\n",
       "      <td>0.8375</td>\n",
       "      <td>-4</td>\n",
       "      <td>[\"https://panoptes-uploads.zooniverse.org/prod...</td>\n",
       "      <td>pre_active</td>\n",
       "    </tr>\n",
       "    <tr>\n",
       "      <th>1</th>\n",
       "      <td>J104325.29+190335.0</td>\n",
       "      <td>2</td>\n",
       "      <td>0</td>\n",
       "      <td>0</td>\n",
       "      <td>1</td>\n",
       "      <td>0</td>\n",
       "      <td>1</td>\n",
       "      <td>0</td>\n",
       "      <td>0</td>\n",
       "      <td>2</td>\n",
       "      <td>...</td>\n",
       "      <td>0.057143</td>\n",
       "      <td>0.0</td>\n",
       "      <td>0.0</td>\n",
       "      <td>0.942857</td>\n",
       "      <td>0.0000</td>\n",
       "      <td>0.000</td>\n",
       "      <td>0.0000</td>\n",
       "      <td>-2</td>\n",
       "      <td>[\"https://panoptes-uploads.zooniverse.org/prod...</td>\n",
       "      <td>targeted</td>\n",
       "    </tr>\n",
       "    <tr>\n",
       "      <th>2</th>\n",
       "      <td>J104629.54+115415.1</td>\n",
       "      <td>2</td>\n",
       "      <td>0</td>\n",
       "      <td>2</td>\n",
       "      <td>0</td>\n",
       "      <td>0</td>\n",
       "      <td>2</td>\n",
       "      <td>0</td>\n",
       "      <td>2</td>\n",
       "      <td>4</td>\n",
       "      <td>...</td>\n",
       "      <td>0.000000</td>\n",
       "      <td>0.0</td>\n",
       "      <td>0.0</td>\n",
       "      <td>0.000000</td>\n",
       "      <td>0.0000</td>\n",
       "      <td>0.200</td>\n",
       "      <td>0.8000</td>\n",
       "      <td>0</td>\n",
       "      <td>[\"https://panoptes-uploads.zooniverse.org/prod...</td>\n",
       "      <td>active_baseline</td>\n",
       "    </tr>\n",
       "    <tr>\n",
       "      <th>3</th>\n",
       "      <td>J082950.68+125621.8</td>\n",
       "      <td>0</td>\n",
       "      <td>0</td>\n",
       "      <td>0</td>\n",
       "      <td>0</td>\n",
       "      <td>0</td>\n",
       "      <td>0</td>\n",
       "      <td>0</td>\n",
       "      <td>0</td>\n",
       "      <td>0</td>\n",
       "      <td>...</td>\n",
       "      <td>0.000000</td>\n",
       "      <td>0.0</td>\n",
       "      <td>0.0</td>\n",
       "      <td>0.000000</td>\n",
       "      <td>0.0000</td>\n",
       "      <td>0.125</td>\n",
       "      <td>0.8750</td>\n",
       "      <td>0</td>\n",
       "      <td>[\"https://panoptes-uploads.zooniverse.org/prod...</td>\n",
       "      <td>active_baseline</td>\n",
       "    </tr>\n",
       "    <tr>\n",
       "      <th>4</th>\n",
       "      <td>J122056.00-015022.0</td>\n",
       "      <td>3</td>\n",
       "      <td>0</td>\n",
       "      <td>0</td>\n",
       "      <td>0</td>\n",
       "      <td>0</td>\n",
       "      <td>2</td>\n",
       "      <td>0</td>\n",
       "      <td>1</td>\n",
       "      <td>3</td>\n",
       "      <td>...</td>\n",
       "      <td>0.000000</td>\n",
       "      <td>0.0</td>\n",
       "      <td>0.0</td>\n",
       "      <td>0.000000</td>\n",
       "      <td>0.0000</td>\n",
       "      <td>0.000</td>\n",
       "      <td>1.0000</td>\n",
       "      <td>0</td>\n",
       "      <td>[\"https://panoptes-uploads.zooniverse.org/prod...</td>\n",
       "      <td>active_baseline</td>\n",
       "    </tr>\n",
       "    <tr>\n",
       "      <th>...</th>\n",
       "      <td>...</td>\n",
       "      <td>...</td>\n",
       "      <td>...</td>\n",
       "      <td>...</td>\n",
       "      <td>...</td>\n",
       "      <td>...</td>\n",
       "      <td>...</td>\n",
       "      <td>...</td>\n",
       "      <td>...</td>\n",
       "      <td>...</td>\n",
       "      <td>...</td>\n",
       "      <td>...</td>\n",
       "      <td>...</td>\n",
       "      <td>...</td>\n",
       "      <td>...</td>\n",
       "      <td>...</td>\n",
       "      <td>...</td>\n",
       "      <td>...</td>\n",
       "      <td>...</td>\n",
       "      <td>...</td>\n",
       "      <td>...</td>\n",
       "    </tr>\n",
       "    <tr>\n",
       "      <th>253281</th>\n",
       "      <td>J144017.17+234347.3</td>\n",
       "      <td>0</td>\n",
       "      <td>0</td>\n",
       "      <td>0</td>\n",
       "      <td>0</td>\n",
       "      <td>0</td>\n",
       "      <td>0</td>\n",
       "      <td>0</td>\n",
       "      <td>0</td>\n",
       "      <td>0</td>\n",
       "      <td>...</td>\n",
       "      <td>NaN</td>\n",
       "      <td>NaN</td>\n",
       "      <td>NaN</td>\n",
       "      <td>NaN</td>\n",
       "      <td>NaN</td>\n",
       "      <td>NaN</td>\n",
       "      <td>NaN</td>\n",
       "      <td>-3</td>\n",
       "      <td>[\"https://panoptes-uploads.zooniverse.org/prod...</td>\n",
       "      <td>active_baseline</td>\n",
       "    </tr>\n",
       "    <tr>\n",
       "      <th>253282</th>\n",
       "      <td>J133751.46+253954.0</td>\n",
       "      <td>0</td>\n",
       "      <td>0</td>\n",
       "      <td>0</td>\n",
       "      <td>0</td>\n",
       "      <td>0</td>\n",
       "      <td>0</td>\n",
       "      <td>0</td>\n",
       "      <td>0</td>\n",
       "      <td>0</td>\n",
       "      <td>...</td>\n",
       "      <td>0.000000</td>\n",
       "      <td>0.0</td>\n",
       "      <td>0.0</td>\n",
       "      <td>0.000000</td>\n",
       "      <td>0.0000</td>\n",
       "      <td>0.000</td>\n",
       "      <td>1.0000</td>\n",
       "      <td>0</td>\n",
       "      <td>[\"https://panoptes-uploads.zooniverse.org/prod...</td>\n",
       "      <td>active_baseline</td>\n",
       "    </tr>\n",
       "    <tr>\n",
       "      <th>253283</th>\n",
       "      <td>J130734.26+061155.7</td>\n",
       "      <td>0</td>\n",
       "      <td>0</td>\n",
       "      <td>0</td>\n",
       "      <td>0</td>\n",
       "      <td>0</td>\n",
       "      <td>0</td>\n",
       "      <td>0</td>\n",
       "      <td>0</td>\n",
       "      <td>0</td>\n",
       "      <td>...</td>\n",
       "      <td>0.000000</td>\n",
       "      <td>0.0</td>\n",
       "      <td>0.0</td>\n",
       "      <td>0.000000</td>\n",
       "      <td>0.0000</td>\n",
       "      <td>0.000</td>\n",
       "      <td>1.0000</td>\n",
       "      <td>0</td>\n",
       "      <td>[\"https://panoptes-uploads.zooniverse.org/prod...</td>\n",
       "      <td>active_baseline</td>\n",
       "    </tr>\n",
       "    <tr>\n",
       "      <th>253284</th>\n",
       "      <td>J163830.70+315116.7</td>\n",
       "      <td>0</td>\n",
       "      <td>0</td>\n",
       "      <td>0</td>\n",
       "      <td>0</td>\n",
       "      <td>0</td>\n",
       "      <td>0</td>\n",
       "      <td>0</td>\n",
       "      <td>0</td>\n",
       "      <td>0</td>\n",
       "      <td>...</td>\n",
       "      <td>NaN</td>\n",
       "      <td>NaN</td>\n",
       "      <td>NaN</td>\n",
       "      <td>NaN</td>\n",
       "      <td>NaN</td>\n",
       "      <td>NaN</td>\n",
       "      <td>NaN</td>\n",
       "      <td>-6</td>\n",
       "      <td>[\"https://panoptes-uploads.zooniverse.org/prod...</td>\n",
       "      <td>active_baseline</td>\n",
       "    </tr>\n",
       "    <tr>\n",
       "      <th>253285</th>\n",
       "      <td>J141631.85+185904.1</td>\n",
       "      <td>0</td>\n",
       "      <td>0</td>\n",
       "      <td>0</td>\n",
       "      <td>0</td>\n",
       "      <td>0</td>\n",
       "      <td>0</td>\n",
       "      <td>0</td>\n",
       "      <td>0</td>\n",
       "      <td>0</td>\n",
       "      <td>...</td>\n",
       "      <td>NaN</td>\n",
       "      <td>NaN</td>\n",
       "      <td>NaN</td>\n",
       "      <td>NaN</td>\n",
       "      <td>NaN</td>\n",
       "      <td>NaN</td>\n",
       "      <td>NaN</td>\n",
       "      <td>-5</td>\n",
       "      <td>[\"https://panoptes-uploads.zooniverse.org/prod...</td>\n",
       "      <td>active_baseline</td>\n",
       "    </tr>\n",
       "  </tbody>\n",
       "</table>\n",
       "<p>253286 rows × 88 columns</p>\n",
       "</div>"
      ],
      "text/plain": [
       "                    iauname  bar_no  bar_strong  bar_weak  \\\n",
       "0       J112953.88-000427.4      13           2         1   \n",
       "1       J104325.29+190335.0       2           0         0   \n",
       "2       J104629.54+115415.1       2           0         2   \n",
       "3       J082950.68+125621.8       0           0         0   \n",
       "4       J122056.00-015022.0       3           0         0   \n",
       "...                     ...     ...         ...       ...   \n",
       "253281  J144017.17+234347.3       0           0         0   \n",
       "253282  J133751.46+253954.0       0           0         0   \n",
       "253283  J130734.26+061155.7       0           0         0   \n",
       "253284  J163830.70+315116.7       0           0         0   \n",
       "253285  J141631.85+185904.1       0           0         0   \n",
       "\n",
       "        bulge-size_dominant  bulge-size_large  bulge-size_moderate  \\\n",
       "0                         1                 6                    9   \n",
       "1                         1                 0                    1   \n",
       "2                         0                 0                    2   \n",
       "3                         0                 0                    0   \n",
       "4                         0                 0                    2   \n",
       "...                     ...               ...                  ...   \n",
       "253281                    0                 0                    0   \n",
       "253282                    0                 0                    0   \n",
       "253283                    0                 0                    0   \n",
       "253284                    0                 0                    0   \n",
       "253285                    0                 0                    0   \n",
       "\n",
       "        bulge-size_none  bulge-size_small  disk-edge-on_no  ...  \\\n",
       "0                     0                 0               16  ...   \n",
       "1                     0                 0                2  ...   \n",
       "2                     0                 2                4  ...   \n",
       "3                     0                 0                0  ...   \n",
       "4                     0                 1                3  ...   \n",
       "...                 ...               ...              ...  ...   \n",
       "253281                0                 0                0  ...   \n",
       "253282                0                 0                0  ...   \n",
       "253283                0                 0                0  ...   \n",
       "253284                0                 0                0  ...   \n",
       "253285                0                 0                0  ...   \n",
       "\n",
       "        merging_merger_fraction  merging_tidal-debris-v1_fraction  \\\n",
       "0                      0.000000                               0.0   \n",
       "1                      0.057143                               0.0   \n",
       "2                      0.000000                               0.0   \n",
       "3                      0.000000                               0.0   \n",
       "4                      0.000000                               0.0   \n",
       "...                         ...                               ...   \n",
       "253281                      NaN                               NaN   \n",
       "253282                 0.000000                               0.0   \n",
       "253283                 0.000000                               0.0   \n",
       "253284                      NaN                               NaN   \n",
       "253285                      NaN                               NaN   \n",
       "\n",
       "        merging_both-v1_fraction  merging_neither-v1_fraction  \\\n",
       "0                            0.0                     0.000000   \n",
       "1                            0.0                     0.942857   \n",
       "2                            0.0                     0.000000   \n",
       "3                            0.0                     0.000000   \n",
       "4                            0.0                     0.000000   \n",
       "...                          ...                          ...   \n",
       "253281                       NaN                          NaN   \n",
       "253282                       0.0                     0.000000   \n",
       "253283                       0.0                     0.000000   \n",
       "253284                       NaN                          NaN   \n",
       "253285                       NaN                          NaN   \n",
       "\n",
       "        merging_major-disturbance_fraction  \\\n",
       "0                                   0.0625   \n",
       "1                                   0.0000   \n",
       "2                                   0.0000   \n",
       "3                                   0.0000   \n",
       "4                                   0.0000   \n",
       "...                                    ...   \n",
       "253281                                 NaN   \n",
       "253282                              0.0000   \n",
       "253283                              0.0000   \n",
       "253284                                 NaN   \n",
       "253285                                 NaN   \n",
       "\n",
       "        merging_minor-disturbance_fraction  merging_none_fraction  \\\n",
       "0                                    0.100                 0.8375   \n",
       "1                                    0.000                 0.0000   \n",
       "2                                    0.200                 0.8000   \n",
       "3                                    0.125                 0.8750   \n",
       "4                                    0.000                 1.0000   \n",
       "...                                    ...                    ...   \n",
       "253281                                 NaN                    NaN   \n",
       "253282                               0.000                 1.0000   \n",
       "253283                               0.000                 1.0000   \n",
       "253284                                 NaN                    NaN   \n",
       "253285                                 NaN                    NaN   \n",
       "\n",
       "        merge_minus_smooth                                          locations  \\\n",
       "0                       -4  [\"https://panoptes-uploads.zooniverse.org/prod...   \n",
       "1                       -2  [\"https://panoptes-uploads.zooniverse.org/prod...   \n",
       "2                        0  [\"https://panoptes-uploads.zooniverse.org/prod...   \n",
       "3                        0  [\"https://panoptes-uploads.zooniverse.org/prod...   \n",
       "4                        0  [\"https://panoptes-uploads.zooniverse.org/prod...   \n",
       "...                    ...                                                ...   \n",
       "253281                  -3  [\"https://panoptes-uploads.zooniverse.org/prod...   \n",
       "253282                   0  [\"https://panoptes-uploads.zooniverse.org/prod...   \n",
       "253283                   0  [\"https://panoptes-uploads.zooniverse.org/prod...   \n",
       "253284                  -6  [\"https://panoptes-uploads.zooniverse.org/prod...   \n",
       "253285                  -5  [\"https://panoptes-uploads.zooniverse.org/prod...   \n",
       "\n",
       "           upload_group  \n",
       "0            pre_active  \n",
       "1              targeted  \n",
       "2       active_baseline  \n",
       "3       active_baseline  \n",
       "4       active_baseline  \n",
       "...                 ...  \n",
       "253281  active_baseline  \n",
       "253282  active_baseline  \n",
       "253283  active_baseline  \n",
       "253284  active_baseline  \n",
       "253285  active_baseline  \n",
       "\n",
       "[253286 rows x 88 columns]"
      ]
     },
     "execution_count": 65,
     "metadata": {},
     "output_type": "execute_result"
    }
   ],
   "source": [
    "final_df"
   ]
  },
  {
   "cell_type": "code",
   "execution_count": 66,
   "metadata": {},
   "outputs": [],
   "source": [
    "dropped_iaunames = set(safe_export['iauname']) - set(final_df['iauname'])\n",
    "assert len(dropped_iaunames) == 1  # this one galaxy is not in the subjects export, will drop"
   ]
  },
  {
   "cell_type": "code",
   "execution_count": 67,
   "metadata": {},
   "outputs": [],
   "source": [
    "# safe_export[safe_export['iauname'].isin(dropped_iaunames)].squeeze()[:30]"
   ]
  },
  {
   "cell_type": "code",
   "execution_count": 68,
   "metadata": {},
   "outputs": [],
   "source": [
    "# latest_subjects['iauname'].isin(dropped_iaunames).any()  "
   ]
  },
  {
   "cell_type": "code",
   "execution_count": null,
   "metadata": {},
   "outputs": [],
   "source": []
  },
  {
   "cell_type": "code",
   "execution_count": 69,
   "metadata": {},
   "outputs": [],
   "source": [
    "# # add calibration flag!\n",
    "# before_flag = len(final_df)\n",
    "# maybe_calibration = latest_subjects.groupby('iauname').agg({'upload_group': lambda x: 'calibration_nair_dr2_dr5' in x}).reset_index()  # TODO add grouping of upload_groups\n",
    "# maybe_calibration = maybe_calibration.rename(columns={'upload_group': 'dr2_dr5_nair_overlap'})\n",
    "# final_df = pd.merge(final_df, maybe_calibration, on='iauname', how='inner')\n",
    "# assert len(final_df) == before_flag"
   ]
  },
  {
   "cell_type": "code",
   "execution_count": null,
   "metadata": {},
   "outputs": [],
   "source": []
  },
  {
   "cell_type": "code",
   "execution_count": 70,
   "metadata": {},
   "outputs": [
    {
     "data": {
      "text/plain": [
       "array(['iauname', 'bar_no', 'bar_strong', 'bar_weak',\n",
       "       'bulge-size_dominant', 'bulge-size_large', 'bulge-size_moderate',\n",
       "       'bulge-size_none', 'bulge-size_small', 'disk-edge-on_no',\n",
       "       'disk-edge-on_yes', 'edge-on-bulge_boxy', 'edge-on-bulge_none',\n",
       "       'edge-on-bulge_rounded', 'has-spiral-arms_no',\n",
       "       'has-spiral-arms_yes', 'how-rounded_cigar-shaped',\n",
       "       'how-rounded_in-between', 'how-rounded_round', 'merging_both-v1',\n",
       "       'merging_major-disturbance', 'merging_merger',\n",
       "       'merging_minor-disturbance', 'merging_neither-v1', 'merging_none',\n",
       "       'merging_tidal-debris-v1', 'smooth-or-featured_artifact',\n",
       "       'smooth-or-featured_featured-or-disk', 'smooth-or-featured_smooth',\n",
       "       'spiral-arm-count_1', 'spiral-arm-count_2', 'spiral-arm-count_3',\n",
       "       'spiral-arm-count_4', 'spiral-arm-count_cant-tell',\n",
       "       'spiral-arm-count_more-than-4', 'spiral-winding_loose',\n",
       "       'spiral-winding_medium', 'spiral-winding_tight',\n",
       "       'smooth-or-featured_total-votes', 'how-rounded_total-votes',\n",
       "       'disk-edge-on_total-votes', 'edge-on-bulge_total-votes',\n",
       "       'bar_total-votes', 'has-spiral-arms_total-votes',\n",
       "       'spiral-winding_total-votes', 'spiral-arm-count_total-votes',\n",
       "       'bulge-size_total-votes', 'merging_total-votes',\n",
       "       'smooth-or-featured_smooth_fraction',\n",
       "       'smooth-or-featured_featured-or-disk_fraction',\n",
       "       'smooth-or-featured_artifact_fraction',\n",
       "       'how-rounded_round_fraction', 'how-rounded_in-between_fraction',\n",
       "       'how-rounded_cigar-shaped_fraction', 'disk-edge-on_yes_fraction',\n",
       "       'disk-edge-on_no_fraction', 'edge-on-bulge_rounded_fraction',\n",
       "       'edge-on-bulge_boxy_fraction', 'edge-on-bulge_none_fraction',\n",
       "       'bar_strong_fraction', 'bar_weak_fraction', 'bar_no_fraction',\n",
       "       'has-spiral-arms_yes_fraction', 'has-spiral-arms_no_fraction',\n",
       "       'spiral-winding_tight_fraction', 'spiral-winding_medium_fraction',\n",
       "       'spiral-winding_loose_fraction', 'spiral-arm-count_1_fraction',\n",
       "       'spiral-arm-count_2_fraction', 'spiral-arm-count_3_fraction',\n",
       "       'spiral-arm-count_4_fraction',\n",
       "       'spiral-arm-count_more-than-4_fraction',\n",
       "       'spiral-arm-count_cant-tell_fraction', 'bulge-size_none_fraction',\n",
       "       'bulge-size_small_fraction', 'bulge-size_moderate_fraction',\n",
       "       'bulge-size_large_fraction', 'bulge-size_dominant_fraction',\n",
       "       'merging_merger_fraction', 'merging_tidal-debris-v1_fraction',\n",
       "       'merging_both-v1_fraction', 'merging_neither-v1_fraction',\n",
       "       'merging_major-disturbance_fraction',\n",
       "       'merging_minor-disturbance_fraction', 'merging_none_fraction',\n",
       "       'merge_minus_smooth', 'locations', 'upload_group'], dtype=object)"
      ]
     },
     "execution_count": 70,
     "metadata": {},
     "output_type": "execute_result"
    }
   ],
   "source": [
    "final_df.columns.values"
   ]
  },
  {
   "cell_type": "code",
   "execution_count": 71,
   "metadata": {},
   "outputs": [
    {
     "data": {
      "text/plain": [
       "3834872"
      ]
     },
     "execution_count": 71,
     "metadata": {},
     "output_type": "execute_result"
    }
   ],
   "source": [
    "final_df['smooth-or-featured_total-votes'].sum()"
   ]
  },
  {
   "cell_type": "code",
   "execution_count": 72,
   "metadata": {},
   "outputs": [],
   "source": [
    "# merge in NSA later in merge_catalogs"
   ]
  },
  {
   "cell_type": "code",
   "execution_count": null,
   "metadata": {},
   "outputs": [],
   "source": []
  },
  {
   "cell_type": "code",
   "execution_count": 73,
   "metadata": {},
   "outputs": [],
   "source": [
    "final_df.to_parquet('current_final_dr5_result_without_metadata.parquet', index=False)"
   ]
  },
  {
   "cell_type": "code",
   "execution_count": 74,
   "metadata": {},
   "outputs": [],
   "source": [
    "# final_df.to_csv('current_final_dr5_result_without_metadata.csv', index=False)"
   ]
  },
  {
   "cell_type": "code",
   "execution_count": null,
   "metadata": {},
   "outputs": [],
   "source": []
  }
 ],
 "metadata": {
  "kernelspec": {
   "display_name": "Python 3",
   "language": "python",
   "name": "python3"
  },
  "language_info": {
   "codemirror_mode": {
    "name": "ipython",
    "version": 3
   },
   "file_extension": ".py",
   "mimetype": "text/x-python",
   "name": "python",
   "nbconvert_exporter": "python",
   "pygments_lexer": "ipython3",
   "version": "3.7.6"
  }
 },
 "nbformat": 4,
 "nbformat_minor": 4
}
