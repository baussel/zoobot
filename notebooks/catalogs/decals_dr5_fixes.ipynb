{
 "cells": [
  {
   "cell_type": "code",
   "execution_count": 1,
   "metadata": {},
   "outputs": [],
   "source": [
    "import matplotlib.pyplot as plt\n",
    "import pandas as pd\n",
    "from astropy.table import Table\n",
    "import os\n",
    "import numpy as np\n",
    "# import cartopy.crs as ccrs\n",
    "import json\n",
    "import os\n",
    "import seaborn as sns\n",
    "from astropy.table import Table"
   ]
  },
  {
   "cell_type": "code",
   "execution_count": 2,
   "metadata": {},
   "outputs": [],
   "source": [
    "os.chdir('/home/walml/repos/zoobot')"
   ]
  },
  {
   "cell_type": "markdown",
   "metadata": {},
   "source": [
    "Pretend this is the final decals catalog"
   ]
  },
  {
   "cell_type": "code",
   "execution_count": 3,
   "metadata": {},
   "outputs": [],
   "source": [
    "latest_export = pd.read_csv('/home/walml/Downloads/classifications_200520.csv')  # Tobias offline aggregated classifications"
   ]
  },
  {
   "cell_type": "code",
   "execution_count": 4,
   "metadata": {},
   "outputs": [],
   "source": [
    "latest_export = latest_export.dropna(subset=['iauname'])  # a few test uploads don't have iaunames, we want to remove these (and would remove below anyway) but lets keep nan out of the iaunames ot remove set"
   ]
  },
  {
   "cell_type": "code",
   "execution_count": 118,
   "metadata": {},
   "outputs": [],
   "source": [
    "to_upload = Table.read('/media/walml/beta/galaxy_zoo/decals/catalogs/dr5_nsa1_0_0_to_upload.fits').to_pandas()  # joint catalog, after selection cuts\n",
    "to_upload['iauname'] = to_upload['iauname'].str.decode('utf8')\n",
    "\n"
   ]
  },
  {
   "cell_type": "code",
   "execution_count": 119,
   "metadata": {},
   "outputs": [],
   "source": [
    "#dr1/2 raw classifications\n",
    "dr1_c = pd.read_csv('/media/walml/beta/galaxy_zoo/decals/gzreduction_ouroborous/working_dir/raw/classifications/2017-10-15_galaxy_zoo_decals_classifications.csv')\n",
    "dr2_c = pd.read_csv('/media/walml/beta/galaxy_zoo/decals/gzreduction_ouroborous/working_dir/raw/classifications/2017-10-15_galaxy_zoo_decals_dr2_classifications.csv')\n"
   ]
  },
  {
   "cell_type": "markdown",
   "metadata": {},
   "source": [
    "## Remove galaxies with classifications that we shouldn't publish "
   ]
  },
  {
   "cell_type": "code",
   "execution_count": 120,
   "metadata": {},
   "outputs": [],
   "source": [
    "bad_iaunames = set()  "
   ]
  },
  {
   "cell_type": "code",
   "execution_count": 121,
   "metadata": {},
   "outputs": [
    {
     "data": {
      "text/plain": [
       "True     227126\n",
       "False     12556\n",
       "Name: iauname, dtype: int64"
      ]
     },
     "execution_count": 121,
     "metadata": {},
     "output_type": "execute_result"
    }
   ],
   "source": [
    "# and in decals, passed selection cuts, implicitly. Removes some test uploads, some of whcih have nan iaunames\n",
    "good_images = latest_export['iauname'].isin(to_upload.query('fits_filled')['iauname'])  \n",
    "good_images.value_counts()"
   ]
  },
  {
   "cell_type": "code",
   "execution_count": 122,
   "metadata": {},
   "outputs": [
    {
     "data": {
      "text/plain": [
       "array(['iauname', 'nsa_id', 'ra', 'dec', 'petrotheta', 'petroth50',\n",
       "       'petroth90', 'z', 'fits_loc', 'png_loc', 'fits_ready',\n",
       "       'fits_filled', 'png_ready'], dtype=object)"
      ]
     },
     "execution_count": 122,
     "metadata": {},
     "output_type": "execute_result"
    }
   ],
   "source": [
    "to_upload.columns.values"
   ]
  },
  {
   "cell_type": "code",
   "execution_count": null,
   "metadata": {},
   "outputs": [],
   "source": []
  },
  {
   "cell_type": "code",
   "execution_count": 123,
   "metadata": {},
   "outputs": [],
   "source": [
    "to_upload = to_upload.rename(index=str, columns={\n",
    "    'fits_loc': 'local_fits_loc',\n",
    "    'png_loc': 'local_png_loc'\n",
    "})\n",
    "                       "
   ]
  },
  {
   "cell_type": "code",
   "execution_count": 124,
   "metadata": {},
   "outputs": [
    {
     "data": {
      "text/plain": [
       "0         b'/Volumes/EXTERNAL/decals/png/dr5/J094/J09465...\n",
       "1         b'/Volumes/EXTERNAL/decals/png/dr5/J094/J09463...\n",
       "2         b'/Volumes/EXTERNAL/decals/png/dr5/J094/J09463...\n",
       "3         b'/Volumes/EXTERNAL/decals/png/dr5/J094/J09474...\n",
       "4         b'/Volumes/EXTERNAL/decals/png/dr5/J094/J09475...\n",
       "                                ...                        \n",
       "343123    b'/Volumes/EXTERNAL/decals/png/dr5/J230/J23092...\n",
       "343124    b'/Volumes/EXTERNAL/decals/png/dr5/J235/J23510...\n",
       "343125    b'/Volumes/EXTERNAL/decals/png/dr5/J235/J23524...\n",
       "343126    b'/Volumes/EXTERNAL/decals/png/dr5/J235/J23532...\n",
       "343127    b'/Volumes/EXTERNAL/decals/png/dr5/J235/J23541...\n",
       "Name: local_png_loc, Length: 343128, dtype: object"
      ]
     },
     "execution_count": 124,
     "metadata": {},
     "output_type": "execute_result"
    }
   ],
   "source": [
    "to_upload['local_png_loc']"
   ]
  },
  {
   "cell_type": "code",
   "execution_count": 125,
   "metadata": {},
   "outputs": [],
   "source": [
    "to_upload['png_loc'] = to_upload['local_png_loc'].str.decode('utf-8')\n",
    " "
   ]
  },
  {
   "cell_type": "code",
   "execution_count": 126,
   "metadata": {},
   "outputs": [],
   "source": [
    "to_upload['png_loc'] = to_upload['png_loc'].str.replace('/Volumes/EXTERNAL/decals/png/', 'png_native/')  "
   ]
  },
  {
   "cell_type": "code",
   "execution_count": 127,
   "metadata": {},
   "outputs": [
    {
     "data": {
      "text/plain": [
       "0         png_native/dr5/J094/J094651.40-010228.5.png\n",
       "1         png_native/dr5/J094/J094630.85-004554.5.png\n",
       "2         png_native/dr5/J094/J094631.59-005917.7.png\n",
       "3         png_native/dr5/J094/J094744.18-004013.4.png\n",
       "4         png_native/dr5/J094/J094751.74-003242.0.png\n",
       "                             ...                     \n",
       "343123    png_native/dr5/J230/J230924.60-001458.1.png\n",
       "343124    png_native/dr5/J235/J235101.08-100042.7.png\n",
       "343125    png_native/dr5/J235/J235247.10-105259.6.png\n",
       "343126    png_native/dr5/J235/J235320.91-103238.7.png\n",
       "343127    png_native/dr5/J235/J235414.90-101409.4.png\n",
       "Name: png_loc, Length: 343128, dtype: object"
      ]
     },
     "execution_count": 127,
     "metadata": {},
     "output_type": "execute_result"
    }
   ],
   "source": [
    "to_upload['png_loc']"
   ]
  },
  {
   "cell_type": "code",
   "execution_count": 128,
   "metadata": {},
   "outputs": [],
   "source": [
    "to_upload.query('fits_filled').to_csv('final_dr5_uploadable_catalog.csv', index=False)  # use for master catalog"
   ]
  },
  {
   "cell_type": "code",
   "execution_count": null,
   "metadata": {},
   "outputs": [],
   "source": []
  },
  {
   "cell_type": "code",
   "execution_count": 129,
   "metadata": {},
   "outputs": [],
   "source": [
    "bad_iaunames = bad_iaunames.union(set(latest_export[~good_images]['iauname']))"
   ]
  },
  {
   "cell_type": "code",
   "execution_count": 130,
   "metadata": {},
   "outputs": [
    {
     "data": {
      "text/plain": [
       "12556"
      ]
     },
     "execution_count": 130,
     "metadata": {},
     "output_type": "execute_result"
    }
   ],
   "source": [
    "len(bad_iaunames)"
   ]
  },
  {
   "cell_type": "code",
   "execution_count": 131,
   "metadata": {},
   "outputs": [
    {
     "data": {
      "text/plain": [
       "0"
      ]
     },
     "execution_count": 131,
     "metadata": {},
     "output_type": "execute_result"
    }
   ],
   "source": [
    "np.sum(latest_export[good_images]['iauname'].duplicated())"
   ]
  },
  {
   "cell_type": "markdown",
   "metadata": {},
   "source": [
    "## Flag galaxies with earlier question versions (bulge, merger)"
   ]
  },
  {
   "cell_type": "code",
   "execution_count": 12,
   "metadata": {},
   "outputs": [],
   "source": [
    "# merger_v1_answers = ['merging_both-v1', 'merging_neither-v1',\n",
    "#        'merging_tidal-debris-v1']\n",
    "# bulge_size_v1_answers = ['bulge-size_obvious-v1',\n",
    "#        'bulge-size_tiny-v1', 'bulge-size_none-v1']"
   ]
  },
  {
   "cell_type": "code",
   "execution_count": 13,
   "metadata": {},
   "outputs": [
    {
     "ename": "KeyError",
     "evalue": "\"None of [Index(['bulge-size_obvious-v1', 'bulge-size_tiny-v1', 'bulge-size_none-v1'], dtype='object')] are in the [columns]\"",
     "output_type": "error",
     "traceback": [
      "\u001b[0;31m---------------------------------------------------------------------------\u001b[0m",
      "\u001b[0;31mKeyError\u001b[0m                                  Traceback (most recent call last)",
      "\u001b[0;32m<ipython-input-13-b48d2dee64b2>\u001b[0m in \u001b[0;36m<module>\u001b[0;34m\u001b[0m\n\u001b[0;32m----> 1\u001b[0;31m \u001b[0mhas_v1_bulge_answers\u001b[0m \u001b[0;34m=\u001b[0m \u001b[0mlatest_export\u001b[0m\u001b[0;34m[\u001b[0m\u001b[0mbulge_size_v1_answers\u001b[0m\u001b[0;34m]\u001b[0m\u001b[0;34m.\u001b[0m\u001b[0msum\u001b[0m\u001b[0;34m(\u001b[0m\u001b[0maxis\u001b[0m\u001b[0;34m=\u001b[0m\u001b[0;36m1\u001b[0m\u001b[0;34m)\u001b[0m \u001b[0;34m>\u001b[0m \u001b[0;36m0\u001b[0m\u001b[0;34m\u001b[0m\u001b[0;34m\u001b[0m\u001b[0m\n\u001b[0m\u001b[1;32m      2\u001b[0m \u001b[0mhas_v1_bulge_answers\u001b[0m\u001b[0;34m.\u001b[0m\u001b[0mvalue_counts\u001b[0m\u001b[0;34m(\u001b[0m\u001b[0;34m)\u001b[0m\u001b[0;34m\u001b[0m\u001b[0;34m\u001b[0m\u001b[0m\n",
      "\u001b[0;32m~/anaconda3/envs/zoobot/lib/python3.7/site-packages/pandas/core/frame.py\u001b[0m in \u001b[0;36m__getitem__\u001b[0;34m(self, key)\u001b[0m\n\u001b[1;32m   2804\u001b[0m             \u001b[0;32mif\u001b[0m \u001b[0mis_iterator\u001b[0m\u001b[0;34m(\u001b[0m\u001b[0mkey\u001b[0m\u001b[0;34m)\u001b[0m\u001b[0;34m:\u001b[0m\u001b[0;34m\u001b[0m\u001b[0;34m\u001b[0m\u001b[0m\n\u001b[1;32m   2805\u001b[0m                 \u001b[0mkey\u001b[0m \u001b[0;34m=\u001b[0m \u001b[0mlist\u001b[0m\u001b[0;34m(\u001b[0m\u001b[0mkey\u001b[0m\u001b[0;34m)\u001b[0m\u001b[0;34m\u001b[0m\u001b[0;34m\u001b[0m\u001b[0m\n\u001b[0;32m-> 2806\u001b[0;31m             \u001b[0mindexer\u001b[0m \u001b[0;34m=\u001b[0m \u001b[0mself\u001b[0m\u001b[0;34m.\u001b[0m\u001b[0mloc\u001b[0m\u001b[0;34m.\u001b[0m\u001b[0m_get_listlike_indexer\u001b[0m\u001b[0;34m(\u001b[0m\u001b[0mkey\u001b[0m\u001b[0;34m,\u001b[0m \u001b[0maxis\u001b[0m\u001b[0;34m=\u001b[0m\u001b[0;36m1\u001b[0m\u001b[0;34m,\u001b[0m \u001b[0mraise_missing\u001b[0m\u001b[0;34m=\u001b[0m\u001b[0;32mTrue\u001b[0m\u001b[0;34m)\u001b[0m\u001b[0;34m[\u001b[0m\u001b[0;36m1\u001b[0m\u001b[0;34m]\u001b[0m\u001b[0;34m\u001b[0m\u001b[0;34m\u001b[0m\u001b[0m\n\u001b[0m\u001b[1;32m   2807\u001b[0m \u001b[0;34m\u001b[0m\u001b[0m\n\u001b[1;32m   2808\u001b[0m         \u001b[0;31m# take() does not accept boolean indexers\u001b[0m\u001b[0;34m\u001b[0m\u001b[0;34m\u001b[0m\u001b[0;34m\u001b[0m\u001b[0m\n",
      "\u001b[0;32m~/anaconda3/envs/zoobot/lib/python3.7/site-packages/pandas/core/indexing.py\u001b[0m in \u001b[0;36m_get_listlike_indexer\u001b[0;34m(self, key, axis, raise_missing)\u001b[0m\n\u001b[1;32m   1551\u001b[0m \u001b[0;34m\u001b[0m\u001b[0m\n\u001b[1;32m   1552\u001b[0m         self._validate_read_indexer(\n\u001b[0;32m-> 1553\u001b[0;31m             \u001b[0mkeyarr\u001b[0m\u001b[0;34m,\u001b[0m \u001b[0mindexer\u001b[0m\u001b[0;34m,\u001b[0m \u001b[0mo\u001b[0m\u001b[0;34m.\u001b[0m\u001b[0m_get_axis_number\u001b[0m\u001b[0;34m(\u001b[0m\u001b[0maxis\u001b[0m\u001b[0;34m)\u001b[0m\u001b[0;34m,\u001b[0m \u001b[0mraise_missing\u001b[0m\u001b[0;34m=\u001b[0m\u001b[0mraise_missing\u001b[0m\u001b[0;34m\u001b[0m\u001b[0;34m\u001b[0m\u001b[0m\n\u001b[0m\u001b[1;32m   1554\u001b[0m         )\n\u001b[1;32m   1555\u001b[0m         \u001b[0;32mreturn\u001b[0m \u001b[0mkeyarr\u001b[0m\u001b[0;34m,\u001b[0m \u001b[0mindexer\u001b[0m\u001b[0;34m\u001b[0m\u001b[0;34m\u001b[0m\u001b[0m\n",
      "\u001b[0;32m~/anaconda3/envs/zoobot/lib/python3.7/site-packages/pandas/core/indexing.py\u001b[0m in \u001b[0;36m_validate_read_indexer\u001b[0;34m(self, key, indexer, axis, raise_missing)\u001b[0m\n\u001b[1;32m   1638\u001b[0m             \u001b[0;32mif\u001b[0m \u001b[0mmissing\u001b[0m \u001b[0;34m==\u001b[0m \u001b[0mlen\u001b[0m\u001b[0;34m(\u001b[0m\u001b[0mindexer\u001b[0m\u001b[0;34m)\u001b[0m\u001b[0;34m:\u001b[0m\u001b[0;34m\u001b[0m\u001b[0;34m\u001b[0m\u001b[0m\n\u001b[1;32m   1639\u001b[0m                 \u001b[0maxis_name\u001b[0m \u001b[0;34m=\u001b[0m \u001b[0mself\u001b[0m\u001b[0;34m.\u001b[0m\u001b[0mobj\u001b[0m\u001b[0;34m.\u001b[0m\u001b[0m_get_axis_name\u001b[0m\u001b[0;34m(\u001b[0m\u001b[0maxis\u001b[0m\u001b[0;34m)\u001b[0m\u001b[0;34m\u001b[0m\u001b[0;34m\u001b[0m\u001b[0m\n\u001b[0;32m-> 1640\u001b[0;31m                 \u001b[0;32mraise\u001b[0m \u001b[0mKeyError\u001b[0m\u001b[0;34m(\u001b[0m\u001b[0;34mf\"None of [{key}] are in the [{axis_name}]\"\u001b[0m\u001b[0;34m)\u001b[0m\u001b[0;34m\u001b[0m\u001b[0;34m\u001b[0m\u001b[0m\n\u001b[0m\u001b[1;32m   1641\u001b[0m \u001b[0;34m\u001b[0m\u001b[0m\n\u001b[1;32m   1642\u001b[0m             \u001b[0;31m# We (temporarily) allow for some missing keys with .loc, except in\u001b[0m\u001b[0;34m\u001b[0m\u001b[0;34m\u001b[0m\u001b[0;34m\u001b[0m\u001b[0m\n",
      "\u001b[0;31mKeyError\u001b[0m: \"None of [Index(['bulge-size_obvious-v1', 'bulge-size_tiny-v1', 'bulge-size_none-v1'], dtype='object')] are in the [columns]\""
     ]
    }
   ],
   "source": [
    "# has_v1_bulge_answers = latest_export[bulge_size_v1_answers].sum(axis=1) > 0\n",
    "# has_v1_bulge_answers.value_counts()"
   ]
  },
  {
   "cell_type": "markdown",
   "metadata": {},
   "source": [
    "Let's just drop that guy and not worry about it"
   ]
  },
  {
   "cell_type": "code",
   "execution_count": null,
   "metadata": {},
   "outputs": [],
   "source": [
    "# has_v1_merger_answers = latest_export[merger_v1_answers].sum(axis=1) > 0\n",
    "# has_v1_merger_answers.value_counts()"
   ]
  },
  {
   "cell_type": "markdown",
   "metadata": {},
   "source": [
    "Enough of those that we should probably publish.\n",
    "\n",
    "Check they only ever have v1, not both:"
   ]
  },
  {
   "cell_type": "code",
   "execution_count": null,
   "metadata": {},
   "outputs": [],
   "source": [
    "# merger_v2_answers = ['merging_none', # from renamed from neither\n",
    "#                      'merging_minor-disturbance', # new\n",
    "#                      'merging_major-disturbance', # new\n",
    "#                      'merging_merger'] # unchanged?\n",
    "\n",
    "# new_v2_answers = ['merging_none', # from renamed from neither\n",
    "#                      'merging_minor-disturbance', # new\n",
    "#                      'merging_major-disturbance']\n",
    "\n",
    "# shared_merger_answers = ['merging_merger']\n",
    "\n",
    "# # has_v2_merger_answers = latest_export[merger_v2_answers].sum(axis=1) > 0\n",
    "# # (has_v2_merger_answers & has_v1_merger_answers).sum()\n",
    "\n",
    "# has_new_merger_answers = latest_export[new_v2_answers].sum(axis=1) > 0\n",
    "\n",
    "# print(has_new_merger_answers.mean())\n",
    "# print(has_v1_merger_answers.mean())\n",
    "# print((has_new_merger_answers & has_v1_merger_answers).mean())"
   ]
  },
  {
   "cell_type": "markdown",
   "metadata": {},
   "source": [
    "Okay, that's awkward - 5% of galaxies have answers for *both* v1 answers *and* the new v2 answers...\n",
    "I think that for clarity it would be best to wipe the v1 answers for galaxies with both."
   ]
  },
  {
   "cell_type": "code",
   "execution_count": null,
   "metadata": {},
   "outputs": [],
   "source": [
    "# has_both = has_new_merger_answers & has_v1_merger_answers"
   ]
  },
  {
   "cell_type": "code",
   "execution_count": null,
   "metadata": {},
   "outputs": [],
   "source": [
    "\n",
    "# latest_export.loc[has_both, merger_v1_answers] = 0\n",
    "\n",
    "# # check modifying slice still worked\n",
    "# has_new_merger_answers = latest_export[new_v2_answers].sum(axis=1) > 0\n",
    "# has_v1_merger_answers = latest_export[merger_v1_answers].sum(axis=1) > 0\n",
    "# (has_new_merger_answers & has_v1_merger_answers).mean()"
   ]
  },
  {
   "cell_type": "code",
   "execution_count": null,
   "metadata": {},
   "outputs": [],
   "source": []
  },
  {
   "cell_type": "code",
   "execution_count": null,
   "metadata": {},
   "outputs": [],
   "source": [
    "# with open('data/bad_iaunames.json', 'w') as f:\n",
    "#     json.dump(list(bad_iaunames), f)"
   ]
  },
  {
   "cell_type": "markdown",
   "metadata": {},
   "source": [
    "# Flag galaxies by origin"
   ]
  },
  {
   "cell_type": "code",
   "execution_count": 14,
   "metadata": {},
   "outputs": [],
   "source": [
    "calibration_subject_sets = [\n",
    "    19829,  # nair 250 each\n",
    "    19832  # nair all\n",
    "]\n",
    "\n",
    "pre_active_subject_sets = [\n",
    "    20036,  # first 3k\n",
    "    20156, # 3k-5k,\n",
    "    20603,  # 5k\n",
    "    21156, # 10k\n",
    "    51756, # 3k\n",
    "    60259,  # 5k\n",
    "    60995, # +5k   \n",
    "    67383,  # +15k,\n",
    "    67382,  # +500\n",
    "    74807  # decals classic subjects, going to include as 'pre-active'\n",
    "]\n",
    "\n",
    "targeted_observations = [\n",
    "    20354, # yjan 790\n",
    "    60258  # yjan 1100ish (id/date is a touch strange)\n",
    "]    \n",
    "\n",
    "active_random = [74905]\n",
    "\n",
    "active_priority = [74909]\n",
    "\n",
    "# and will add the newly-found galaxies to active_random"
   ]
  },
  {
   "cell_type": "code",
   "execution_count": 15,
   "metadata": {},
   "outputs": [],
   "source": [
    "set_namer = {\n",
    "    'calibration_nair_dr2_dr5': calibration_subject_sets,\n",
    "    'pre_active': pre_active_subject_sets,\n",
    "    'targeted': targeted_observations,\n",
    "    'active_random': active_random,\n",
    "    'active_priority': active_priority\n",
    "}"
   ]
  },
  {
   "cell_type": "markdown",
   "metadata": {},
   "source": [
    "I need to check the vote distribution for active learning vs random. If it worked right, there should be more featured galaxies in priority set."
   ]
  },
  {
   "cell_type": "code",
   "execution_count": 16,
   "metadata": {},
   "outputs": [],
   "source": [
    "latest_subjects = pd.read_csv('/home/walml/repos/gz-panoptes-reduction/data/latest_subjects_export.csv')"
   ]
  },
  {
   "cell_type": "code",
   "execution_count": 17,
   "metadata": {},
   "outputs": [
    {
     "data": {
      "text/plain": [
       "6122.0     230381\n",
       "10582.0    204763\n",
       "10581.0     19866\n",
       "Name: workflow_id, dtype: int64"
      ]
     },
     "execution_count": 17,
     "metadata": {},
     "output_type": "execute_result"
    }
   ],
   "source": [
    "latest_subjects = latest_subjects[latest_subjects['workflow_id'].isin([6122.0, 10582.0, 10581.0])]  # decals public workflows\n",
    "latest_subjects['workflow_id'].value_counts()"
   ]
  },
  {
   "cell_type": "code",
   "execution_count": 18,
   "metadata": {},
   "outputs": [
    {
     "data": {
      "text/plain": [
       "6122.0     230381\n",
       "10582.0    190662\n",
       "10581.0      5765\n",
       "Name: workflow_id, dtype: int64"
      ]
     },
     "execution_count": 18,
     "metadata": {},
     "output_type": "execute_result"
    }
   ],
   "source": [
    "latest_subjects = latest_subjects[~latest_subjects['subject_set_id'].isin([77652])]  # remove eagle subjects\n",
    "latest_subjects['workflow_id'].value_counts()  # eagle is 15k in each of normal and enhanced workflows"
   ]
  },
  {
   "cell_type": "code",
   "execution_count": 19,
   "metadata": {},
   "outputs": [
    {
     "data": {
      "text/plain": [
       "74905    357026\n",
       "67383     15000\n",
       "74909     10048\n",
       "21156     10000\n",
       "74807      5765\n",
       "60259      5000\n",
       "20603      5000\n",
       "60995      5000\n",
       "19832      3202\n",
       "20036      3000\n",
       "51756      3000\n",
       "20156      2000\n",
       "60258       977\n",
       "20354       790\n",
       "19829       500\n",
       "67382       500\n",
       "Name: subject_set_id, dtype: int64"
      ]
     },
     "execution_count": 19,
     "metadata": {},
     "output_type": "execute_result"
    }
   ],
   "source": [
    "latest_subjects['subject_set_id'].value_counts()"
   ]
  },
  {
   "cell_type": "code",
   "execution_count": 20,
   "metadata": {},
   "outputs": [],
   "source": [
    "latest_subjects['metadata'] = latest_subjects['metadata'].apply(json.loads)"
   ]
  },
  {
   "cell_type": "code",
   "execution_count": 21,
   "metadata": {},
   "outputs": [],
   "source": [
    "def get_iauname(metadata):\n",
    "    possible_keys = ['iauname', '!iauname', 'IAUNAME', '!IAUNAME']\n",
    "    for key in possible_keys:\n",
    "        if key in metadata.keys():\n",
    "            return metadata[key]\n",
    "    return np.nan"
   ]
  },
  {
   "cell_type": "code",
   "execution_count": 22,
   "metadata": {},
   "outputs": [],
   "source": [
    "latest_subjects['iauname'] = latest_subjects['metadata'].apply(get_iauname)"
   ]
  },
  {
   "cell_type": "code",
   "execution_count": 23,
   "metadata": {},
   "outputs": [
    {
     "data": {
      "text/plain": [
       "0"
      ]
     },
     "execution_count": 23,
     "metadata": {},
     "output_type": "execute_result"
    }
   ],
   "source": [
    "pd.isna(latest_subjects['iauname']).sum()"
   ]
  },
  {
   "cell_type": "code",
   "execution_count": 24,
   "metadata": {},
   "outputs": [
    {
     "data": {
      "text/plain": [
       "74905    357026\n",
       "67383     15000\n",
       "74909     10048\n",
       "21156     10000\n",
       "74807      5765\n",
       "60259      5000\n",
       "20603      5000\n",
       "60995      5000\n",
       "19832      3202\n",
       "20036      3000\n",
       "51756      3000\n",
       "20156      2000\n",
       "60258       977\n",
       "20354       790\n",
       "19829       500\n",
       "67382       500\n",
       "Name: subject_set_id, dtype: int64"
      ]
     },
     "execution_count": 24,
     "metadata": {},
     "output_type": "execute_result"
    }
   ],
   "source": [
    "latest_subjects['subject_set_id'].value_counts()"
   ]
  },
  {
   "cell_type": "code",
   "execution_count": 25,
   "metadata": {},
   "outputs": [],
   "source": [
    "expected_sets = set(calibration_subject_sets + pre_active_subject_sets + targeted_observations + active_random + active_priority)\n",
    "actual_sets = set(latest_subjects['subject_set_id'].unique())\n"
   ]
  },
  {
   "cell_type": "code",
   "execution_count": 26,
   "metadata": {},
   "outputs": [
    {
     "data": {
      "text/plain": [
       "{19829,\n",
       " 19832,\n",
       " 20036,\n",
       " 20156,\n",
       " 20354,\n",
       " 20603,\n",
       " 21156,\n",
       " 51756,\n",
       " 60258,\n",
       " 60259,\n",
       " 60995,\n",
       " 67382,\n",
       " 67383,\n",
       " 74807,\n",
       " 74905,\n",
       " 74909}"
      ]
     },
     "execution_count": 26,
     "metadata": {},
     "output_type": "execute_result"
    }
   ],
   "source": [
    "expected_sets"
   ]
  },
  {
   "cell_type": "code",
   "execution_count": 27,
   "metadata": {},
   "outputs": [
    {
     "data": {
      "text/plain": [
       "{19829,\n",
       " 19832,\n",
       " 20036,\n",
       " 20156,\n",
       " 20354,\n",
       " 20603,\n",
       " 21156,\n",
       " 51756,\n",
       " 60258,\n",
       " 60259,\n",
       " 60995,\n",
       " 67382,\n",
       " 67383,\n",
       " 74807,\n",
       " 74905,\n",
       " 74909}"
      ]
     },
     "execution_count": 27,
     "metadata": {},
     "output_type": "execute_result"
    }
   ],
   "source": [
    "actual_sets"
   ]
  },
  {
   "cell_type": "code",
   "execution_count": 28,
   "metadata": {},
   "outputs": [
    {
     "data": {
      "text/plain": [
       "set()"
      ]
     },
     "execution_count": 28,
     "metadata": {},
     "output_type": "execute_result"
    }
   ],
   "source": [
    "actual_sets.difference(expected_sets)"
   ]
  },
  {
   "cell_type": "code",
   "execution_count": 29,
   "metadata": {},
   "outputs": [],
   "source": [
    "# 74807 is an early active-learning-random upload with bad metadata and can be cut (any lost galaxies should be replaced)\n",
    "# https://www.zooniverse.org/lab/5733/subject-sets/74807"
   ]
  },
  {
   "cell_type": "code",
   "execution_count": 30,
   "metadata": {},
   "outputs": [],
   "source": [
    "classic_ids = latest_subjects.query('subject_set_id == \"74807\"')['subject_id']"
   ]
  },
  {
   "cell_type": "code",
   "execution_count": 31,
   "metadata": {},
   "outputs": [
    {
     "data": {
      "text/plain": [
       "<matplotlib.axes._subplots.AxesSubplot at 0x7f68e166db10>"
      ]
     },
     "execution_count": 31,
     "metadata": {},
     "output_type": "execute_result"
    },
    {
     "data": {
      "image/png": "[encoded data removed]",
      "text/plain": [
       "<Figure size 432x288 with 1 Axes>"
      ]
     },
     "metadata": {
      "needs_background": "light"
     },
     "output_type": "display_data"
    }
   ],
   "source": [
    "good_export = latest_export[good_images]\n",
    "good_export[good_export['subject_id'].isin(classic_ids)]['smooth-or-featured_total-votes'].hist(bins=40)"
   ]
  },
  {
   "cell_type": "code",
   "execution_count": 32,
   "metadata": {},
   "outputs": [
    {
     "data": {
      "text/plain": [
       "{'!ra': 146.60722345852503,\n",
       " '!dec': -1.2407756685509388,\n",
       " '!nsa_id': 11,\n",
       " '!iauname': 'J094625.73-011426.7',\n",
       " '!file_loc': '/Volumes/alpha/decals/png_native/dr5/J094/J094625.73-011426.7.png',\n",
       " '!redshift': 0.0906017,\n",
       " '!petroth50': 4.337675599999999,\n",
       " '!petroth90': 14.22231,\n",
       " '!petrotheta': 10.695449,\n",
       " '!fits_filled': True,\n",
       " '!nsa_version': 'v1_0_0',\n",
       " '!sdss_search': '[Click to view in SDSS](+tab+http://skyserver.sdss.org/dr14/en/tools/chart/navi.aspx?ra=146.60722345852503&dec=-1.2407756685509388&scale=0.1&width=120&height=120&opt=)',\n",
       " '#upload_date': '2019-04-12',\n",
       " '!decals_search': '[Click to view in DECALS](+tab+http://www.legacysurvey.org/viewer?ra=146.60722345852503&dec=-1.2407756685509388&zoom=15&layer=decals-dr5)',\n",
       " '!local_png_loc': '/Volumes/alpha/decals/png_native/dr5/J094/J094625.73-011426.7.png',\n",
       " '!simbad_search': '[Click to search SIMBAD](+tab+http://simbad.u-strasbg.fr/simbad/sim-coo?Coord=146.60722345852503+%09-1.2407756685509388&CooFrame=FK5&CooEpoch=2000&CooEqui=2000&CooDefinedFrames=none&Radius=10.0&Radius.unit=arcmin&submit=submit+query&CoordList=)',\n",
       " '!vizier_search': '[Click to search VizieR](+tab+http://vizier.u-strasbg.fr/viz-bin/VizieR?&-c=146.60722345852503,-1.2407756685509388&-c.rs=10.0&-out.add=_r&-sort=_r)',\n",
       " '!local_fits_loc': '/Volumes/alpha/decals/fits_native/dr5/J094/J094625.73-011426.7.fits',\n",
       " '!nasa_ned_search': '[Click to search NASA NED](+tab+https://ned.ipac.caltech.edu/cgi-bin/objsearch?search_type=Near+Position+Search&in_csys=Equatorial&in_equinox=J2000.0&lon=146.60722346d&lat=-1.24077567d&radius=0.16666666666666666&hconst=73&omegam=0.27&omegav=0.73&corr_z=1&z_constraint=Unconstrained&z_value1=&z_value2=&z_unit=z&ot_include=ANY&nmp_op=ANY&out_csys=Equatorial&out_equinox=J2000.0&obj_sort=Distance+to+search+center&of=pre_text&zv_breaker=30000.0&list_limit=5&img_stamp=YES)',\n",
       " 'metadata_message': 'Metadata is available in [Talk](+tab+https://www.zooniverse.org/projects/zookeeper/galaxy-zoo/talk)',\n",
       " '#retirement_limit': 3,\n",
       " '!panstarrs_dr1_search': '[Click to view in PANSTARRS DR1](+tab+http://ps1images.stsci.edu/cgi-bin/ps1cutouts?pos=146.60722345852503-1.240776&filter=color&filter=g&filter=r&filter=i&filter=z&filter=y&filetypes=stack&auxiliary=data&size=240&output_size=0&verbose=0&autoscale=99.500000&catlist=)'}"
      ]
     },
     "execution_count": 32,
     "metadata": {},
     "output_type": "execute_result"
    }
   ],
   "source": [
    "latest_subjects.query('subject_set_id == \"74807\"')['metadata'].iloc[5]"
   ]
  },
  {
   "cell_type": "code",
   "execution_count": 33,
   "metadata": {},
   "outputs": [
    {
     "data": {
      "text/plain": [
       "{'!ra': 146.93412887297967,\n",
       " '!dec': -0.6704053610430766,\n",
       " '!nsa_id': 3,\n",
       " '!iauname': 'J094744.18-004013.4',\n",
       " '!file_loc': '/Volumes/alpha/decals/png_native/dr5/J094/J094744.18-004013.4.png',\n",
       " '!redshift': 0.121270485,\n",
       " '#uploader': 'panoptes_oracle',\n",
       " '!petroth50': 2.6551907000000003,\n",
       " '!petroth90': 9.177605,\n",
       " '!petrotheta': 6.243227,\n",
       " '!nsa_version': 'v1_0_0',\n",
       " '!sdss_search': '[Click to view in SDSS](+tab+http://skyserver.sdss.org/dr14/en/tools/chart/navi.aspx?ra=146.93412887297967&dec=-0.6704053610430766&scale=0.1&width=120&height=120&opt=)',\n",
       " '#upload_date': '2019-04-16',\n",
       " '!decals_search': '[Click to view in DECALS](+tab+http://www.legacysurvey.org/viewer?ra=146.93412887297967&dec=-0.6704053610430766&zoom=15&layer=decals-dr5)',\n",
       " '!simbad_search': '[Click to search SIMBAD](+tab+http://simbad.u-strasbg.fr/simbad/sim-coo?Coord=146.93412887297967+%09-0.6704053610430766&CooFrame=FK5&CooEpoch=2000&CooEqui=2000&CooDefinedFrames=none&Radius=10.0&Radius.unit=arcmin&submit=submit+query&CoordList=)',\n",
       " '!vizier_search': '[Click to search VizieR](+tab+http://vizier.u-strasbg.fr/viz-bin/VizieR?&-c=146.93412887297967,-0.6704053610430766&-c.rs=10.0&-out.add=_r&-sort=_r)',\n",
       " '!nasa_ned_search': '[Click to search NASA NED](+tab+https://ned.ipac.caltech.edu/cgi-bin/objsearch?search_type=Near+Position+Search&in_csys=Equatorial&in_equinox=J2000.0&lon=146.93412887d&lat=-0.67040536d&radius=0.16666666666666666&hconst=73&omegam=0.27&omegav=0.73&corr_z=1&z_constraint=Unconstrained&z_value1=&z_value2=&z_unit=z&ot_include=ANY&nmp_op=ANY&out_csys=Equatorial&out_equinox=J2000.0&obj_sort=Distance+to+search+center&of=pre_text&zv_breaker=30000.0&list_limit=5&img_stamp=YES)',\n",
       " 'metadata_message': 'Metadata is available in [Talk](+tab+https://www.zooniverse.org/projects/zookeeper/galaxy-zoo/talk)',\n",
       " '#retirement_limit': 3,\n",
       " '!panstarrs_dr1_search': '[Click to view in PANSTARRS DR1](+tab+http://ps1images.stsci.edu/cgi-bin/ps1cutouts?pos=146.93412887297967-0.670405&filter=color&filter=g&filter=r&filter=i&filter=z&filter=y&filetypes=stack&auxiliary=data&size=240&output_size=0&verbose=0&autoscale=99.500000&catlist=)'}"
      ]
     },
     "execution_count": 33,
     "metadata": {},
     "output_type": "execute_result"
    }
   ],
   "source": [
    "latest_subjects.query('subject_set_id == \"74905\"')['metadata'].iloc[0]"
   ]
  },
  {
   "cell_type": "code",
   "execution_count": 43,
   "metadata": {},
   "outputs": [
    {
     "data": {
      "text/plain": [
       "(5765, 3067, 2698)"
      ]
     },
     "execution_count": 43,
     "metadata": {},
     "output_type": "execute_result"
    }
   ],
   "source": [
    "classic = latest_subjects.query('subject_set_id == \"74807\"')\n",
    "in_both = classic[classic['iauname'].isin(latest_subjects.query('subject_set_id != \"74807\"')['iauname'])]\n",
    "only_in_classic = classic[~classic['iauname'].isin(latest_subjects.query('subject_set_id != \"74807\"')['iauname'])]\n",
    "len(classic), len(only_in_classic), len(in_both)"
   ]
  },
  {
   "cell_type": "code",
   "execution_count": 44,
   "metadata": {},
   "outputs": [
    {
     "data": {
      "text/plain": [
       "74905    5324\n",
       "74807    2698\n",
       "74909      67\n",
       "Name: subject_set_id, dtype: int64"
      ]
     },
     "execution_count": 44,
     "metadata": {},
     "output_type": "execute_result"
    }
   ],
   "source": [
    "latest_subjects[latest_subjects['iauname'].isin(in_both['iauname'])]['subject_set_id'].value_counts()  # which other subject sets are they in? random, (classic), a few active. Not calibration."
   ]
  },
  {
   "cell_type": "code",
   "execution_count": 45,
   "metadata": {},
   "outputs": [
    {
     "data": {
      "text/plain": [
       "'{\"0\":\"https://panoptes-uploads.zooniverse.org/production/subject_location/51d32137-5405-4966-b01b-0e17035a86bc.png\"}'"
      ]
     },
     "execution_count": 45,
     "metadata": {},
     "output_type": "execute_result"
    }
   ],
   "source": [
    "latest_subjects.query('subject_set_id == \"74807\"')['locations'].iloc[0]"
   ]
  },
  {
   "cell_type": "code",
   "execution_count": null,
   "metadata": {},
   "outputs": [],
   "source": []
  },
  {
   "cell_type": "code",
   "execution_count": null,
   "metadata": {},
   "outputs": [],
   "source": []
  },
  {
   "cell_type": "code",
   "execution_count": 46,
   "metadata": {},
   "outputs": [
    {
     "data": {
      "text/plain": [
       "set()"
      ]
     },
     "execution_count": 46,
     "metadata": {},
     "output_type": "execute_result"
    }
   ],
   "source": [
    "expected_sets.difference(actual_sets)"
   ]
  },
  {
   "cell_type": "code",
   "execution_count": 47,
   "metadata": {},
   "outputs": [],
   "source": [
    "# latest_subjects = latest_subjects.query('subject_set_id != \"74807\"')"
   ]
  },
  {
   "cell_type": "code",
   "execution_count": 48,
   "metadata": {},
   "outputs": [
    {
     "data": {
      "text/plain": [
       "6122.0     230381\n",
       "10582.0    190662\n",
       "10581.0      5765\n",
       "Name: workflow_id, dtype: int64"
      ]
     },
     "execution_count": 48,
     "metadata": {},
     "output_type": "execute_result"
    }
   ],
   "source": [
    "latest_subjects['workflow_id'].value_counts()  # this is simply the 10581 galaxies, which nobody really classifies"
   ]
  },
  {
   "cell_type": "code",
   "execution_count": 49,
   "metadata": {},
   "outputs": [],
   "source": [
    "def name_subject_set(subject_set_id):\n",
    "    for key, ids in set_namer.items():\n",
    "        if subject_set_id in ids:\n",
    "            return key\n",
    "    return 'failed'"
   ]
  },
  {
   "cell_type": "markdown",
   "metadata": {},
   "source": [
    "# TODO when loading final catalog, use set namer above to add set name column"
   ]
  },
  {
   "cell_type": "code",
   "execution_count": 65,
   "metadata": {},
   "outputs": [
    {
     "data": {
      "text/plain": [
       "active_random               357026\n",
       "pre_active                   54265\n",
       "active_priority              10048\n",
       "calibration_nair_dr2_dr5      3702\n",
       "targeted                      1767\n",
       "Name: upload_group, dtype: int64"
      ]
     },
     "execution_count": 65,
     "metadata": {},
     "output_type": "execute_result"
    }
   ],
   "source": [
    "latest_subjects['upload_group'] = latest_subjects['subject_set_id'].apply(lambda x: name_subject_set(int(x)))\n",
    "latest_subjects['upload_group'].value_counts()"
   ]
  },
  {
   "cell_type": "code",
   "execution_count": 66,
   "metadata": {},
   "outputs": [
    {
     "data": {
      "text/html": [
       "<div>\n",
       "<style scoped>\n",
       "    .dataframe tbody tr th:only-of-type {\n",
       "        vertical-align: middle;\n",
       "    }\n",
       "\n",
       "    .dataframe tbody tr th {\n",
       "        vertical-align: top;\n",
       "    }\n",
       "\n",
       "    .dataframe thead th {\n",
       "        text-align: right;\n",
       "    }\n",
       "</style>\n",
       "<table border=\"1\" class=\"dataframe\">\n",
       "  <thead>\n",
       "    <tr style=\"text-align: right;\">\n",
       "      <th></th>\n",
       "      <th>subject_id</th>\n",
       "      <th>project_id</th>\n",
       "      <th>workflow_id</th>\n",
       "      <th>subject_set_id</th>\n",
       "      <th>metadata</th>\n",
       "      <th>locations</th>\n",
       "      <th>classifications_count</th>\n",
       "      <th>retired_at</th>\n",
       "      <th>retirement_reason</th>\n",
       "      <th>created_at</th>\n",
       "      <th>updated_at</th>\n",
       "      <th>iauname</th>\n",
       "      <th>upload_group</th>\n",
       "    </tr>\n",
       "  </thead>\n",
       "  <tbody>\n",
       "  </tbody>\n",
       "</table>\n",
       "</div>"
      ],
      "text/plain": [
       "Empty DataFrame\n",
       "Columns: [subject_id, project_id, workflow_id, subject_set_id, metadata, locations, classifications_count, retired_at, retirement_reason, created_at, updated_at, iauname, upload_group]\n",
       "Index: []"
      ]
     },
     "execution_count": 66,
     "metadata": {},
     "output_type": "execute_result"
    }
   ],
   "source": [
    "latest_subjects.query('upload_group == \"failed\"')"
   ]
  },
  {
   "cell_type": "code",
   "execution_count": 67,
   "metadata": {},
   "outputs": [],
   "source": [
    "# assigning galaxies (iaunames) into subject sets may be awkward due to duplicates - check how many are in several"
   ]
  },
  {
   "cell_type": "code",
   "execution_count": 68,
   "metadata": {},
   "outputs": [],
   "source": [
    "t = latest_subjects.groupby('iauname').agg({'upload_group': lambda x: tuple(set(x))})"
   ]
  },
  {
   "cell_type": "code",
   "execution_count": 69,
   "metadata": {},
   "outputs": [
    {
     "data": {
      "text/plain": [
       "(active_random,)                                              174861\n",
       "(pre_active,)                                                  48357\n",
       "(active_priority,)                                              6956\n",
       "(active_random, pre_active)                                     2638\n",
       "(targeted,)                                                     1430\n",
       "(calibration_nair_dr2_dr5,)                                     1266\n",
       "(active_priority, active_random)                                 839\n",
       "(pre_active, targeted)                                           198\n",
       "(targeted, calibration_nair_dr2_dr5)                             139\n",
       "(active_random, calibration_nair_dr2_dr5)                        136\n",
       "(active_priority, calibration_nair_dr2_dr5)                       52\n",
       "(active_priority, pre_active)                                     42\n",
       "(active_priority, active_random, pre_active)                      28\n",
       "(active_priority, active_random, calibration_nair_dr2_dr5)         8\n",
       "Name: upload_group, dtype: int64"
      ]
     },
     "execution_count": 69,
     "metadata": {},
     "output_type": "execute_result"
    }
   ],
   "source": [
    "t['upload_group'].value_counts()"
   ]
  },
  {
   "cell_type": "markdown",
   "metadata": {},
   "source": [
    "Good - mostly the duplicates are all within the same subject sets. Let's resolve as follows:\n",
    "- active_priority + active_random = active_priority\n",
    "- calibration + anything = anything, use calibration as a separate column\n",
    "- targeted + anything = anything, would have been in anything either way\n",
    "- pre_active + active_priority = pre_active (should not have been reclassified)\n",
    "- active_random + pre_active = pre_active (should not have been reclassified)"
   ]
  },
  {
   "cell_type": "code",
   "execution_count": 70,
   "metadata": {},
   "outputs": [],
   "source": [
    "# TODO actually name this"
   ]
  },
  {
   "cell_type": "code",
   "execution_count": 71,
   "metadata": {},
   "outputs": [
    {
     "data": {
      "text/plain": [
       "array(['subject_id', 'project_id', 'workflow_id', 'subject_set_id',\n",
       "       'metadata', 'locations', 'classifications_count', 'retired_at',\n",
       "       'retirement_reason', 'created_at', 'updated_at', 'iauname',\n",
       "       'upload_group'], dtype=object)"
      ]
     },
     "execution_count": 71,
     "metadata": {},
     "output_type": "execute_result"
    }
   ],
   "source": [
    "latest_subjects.columns.values"
   ]
  },
  {
   "cell_type": "code",
   "execution_count": 72,
   "metadata": {},
   "outputs": [
    {
     "data": {
      "text/plain": [
       "{'https://panoptes-uploads.zooniverse.org/production/subject_location/25d8c934-68b2-4eb7-8b15-1036868abb3f.png',\n",
       " 'https://panoptes-uploads.zooniverse.org/production/subject_location/29e683ca-c3e3-4289-a6f1-70988f9376d7.png',\n",
       " 'https://panoptes-uploads.zooniverse.org/production/subject_location/6222903d-11f8-4527-8802-19856a161e37.png'}"
      ]
     },
     "execution_count": 72,
     "metadata": {},
     "output_type": "execute_result"
    }
   ],
   "source": [
    "data = {json.loads(x)['0'] for x in latest_subjects['locations'][:3].values}\n",
    "data"
   ]
  },
  {
   "cell_type": "code",
   "execution_count": 90,
   "metadata": {},
   "outputs": [],
   "source": [
    "def group_metadata(x):\n",
    "    pass  # TODO\n",
    "\n",
    "def group_locations(x):\n",
    "    return json.dumps([json.loads(row)['0'] for row in x.values])  # list of unique urls, assuming 0 is the only key in each row\n",
    "\n",
    "def group_upload_group(x):\n",
    "    \n",
    "    # only return calibration if that's the only set\n",
    "    if set(x) == set(['calibration_nair_dr2_dr5']):\n",
    "        return x.iloc[0]\n",
    "\n",
    "    # drop calibration, will flag separately\n",
    "    x_unique = set(x.values) - set(['calibration_nair_dr2_dr5'])\n",
    "    if len(x_unique) == 1:  # just calibration or just one other subject set\n",
    "        return list(x_unique)[0]\n",
    "\n",
    "    if x_unique == set(('pre_active', 'active_random')):\n",
    "        return 'pre_active'\n",
    "    \n",
    "    if x_unique == set(('active_random', 'active_priority')):\n",
    "        return 'active_priority'\n",
    "    \n",
    "    if x_unique == set(('targeted', 'pre_active')):\n",
    "        return 'pre_active'\n",
    "    \n",
    "    if x_unique == set(('active_priority', 'pre_active')):\n",
    "        return 'pre_active'\n",
    "    \n",
    "    if x_unique == set(('active_priority', 'active_random')):\n",
    "        return 'active_priority'\n",
    "    \n",
    "    if x_unique == set(('active_priority', 'active_random', 'pre_active')):\n",
    "        return 'pre_active'\n",
    "\n",
    "    raise ValueError('{}, {} not understood'.format(x, x_unique))\n"
   ]
  },
  {
   "cell_type": "code",
   "execution_count": 91,
   "metadata": {},
   "outputs": [],
   "source": [
    "# latest_subjects.groupby('iauname').agg({'locations': group_locations, 'upload_group': group_upload_group})"
   ]
  },
  {
   "cell_type": "code",
   "execution_count": 92,
   "metadata": {},
   "outputs": [],
   "source": [
    "grouped_subjects = latest_subjects.groupby('iauname').agg({'locations': group_locations, 'upload_group': group_upload_group}).reset_index()  # TODO add grouping of upload_groups"
   ]
  },
  {
   "cell_type": "code",
   "execution_count": 93,
   "metadata": {},
   "outputs": [
    {
     "data": {
      "text/plain": [
       "active_random               174997\n",
       "pre_active                   51263\n",
       "active_priority               7855\n",
       "targeted                      1569\n",
       "calibration_nair_dr2_dr5      1266\n",
       "Name: upload_group, dtype: int64"
      ]
     },
     "execution_count": 93,
     "metadata": {},
     "output_type": "execute_result"
    }
   ],
   "source": [
    "grouped_subjects['upload_group'].value_counts()"
   ]
  },
  {
   "cell_type": "code",
   "execution_count": 94,
   "metadata": {},
   "outputs": [
    {
     "data": {
      "text/plain": [
       "0         [\"https://panoptes-uploads.zooniverse.org/prod...\n",
       "1         [\"https://panoptes-uploads.zooniverse.org/prod...\n",
       "2         [\"https://panoptes-uploads.zooniverse.org/prod...\n",
       "3         [\"https://panoptes-uploads.zooniverse.org/prod...\n",
       "4         [\"https://panoptes-uploads.zooniverse.org/prod...\n",
       "                                ...                        \n",
       "236945    [\"https://panoptes-uploads.zooniverse.org/prod...\n",
       "236946    [\"https://panoptes-uploads.zooniverse.org/prod...\n",
       "236947    [\"https://panoptes-uploads.zooniverse.org/prod...\n",
       "236948    [\"https://panoptes-uploads.zooniverse.org/prod...\n",
       "236949    [\"https://panoptes-uploads.zooniverse.org/prod...\n",
       "Name: locations, Length: 236950, dtype: object"
      ]
     },
     "execution_count": 94,
     "metadata": {},
     "output_type": "execute_result"
    }
   ],
   "source": [
    "grouped_subjects['locations']"
   ]
  },
  {
   "cell_type": "code",
   "execution_count": null,
   "metadata": {},
   "outputs": [],
   "source": []
  },
  {
   "cell_type": "code",
   "execution_count": 95,
   "metadata": {},
   "outputs": [],
   "source": [
    "final_df = pd.merge(latest_export[good_images], grouped_subjects, on='iauname', how='inner')"
   ]
  },
  {
   "cell_type": "code",
   "execution_count": 96,
   "metadata": {},
   "outputs": [
    {
     "data": {
      "text/plain": [
       "(224415, 227126)"
      ]
     },
     "execution_count": 96,
     "metadata": {},
     "output_type": "execute_result"
    }
   ],
   "source": [
    "len(final_df), len(latest_export[good_images])  # will loose the five k 'bad metadata' galaxies from DR5 classic workflow\n"
   ]
  },
  {
   "cell_type": "code",
   "execution_count": 97,
   "metadata": {},
   "outputs": [
    {
     "data": {
      "text/plain": [
       "array(['iauname', 'smooth-or-featured_artifact',\n",
       "       'smooth-or-featured_featured-or-disk', 'smooth-or-featured_smooth',\n",
       "       'how-rounded_cigar-shaped', 'how-rounded_in-between',\n",
       "       'how-rounded_round', 'disk-edge-on_no', 'disk-edge-on_yes',\n",
       "       'edge-on-bulge_boxy', 'edge-on-bulge_none',\n",
       "       'edge-on-bulge_rounded', 'bar_no', 'bar_weak', 'bar_strong',\n",
       "       'has-spiral-arms_no', 'has-spiral-arms_yes',\n",
       "       'spiral-winding_loose', 'spiral-winding_medium',\n",
       "       'spiral-winding_tight', 'spiral-arm-count_1', 'spiral-arm-count_2',\n",
       "       'spiral-arm-count_3', 'spiral-arm-count_4',\n",
       "       'spiral-arm-count_cant-tell', 'spiral-arm-count_more-than-4',\n",
       "       'bulge-size_none', 'bulge-size_small', 'bulge-size_moderate',\n",
       "       'bulge-size_large', 'bulge-size_dominant', 'merging_none',\n",
       "       'merging_minor-disturbance', 'merging_major-disturbance',\n",
       "       'merging_merger', 'ra', 'dec', 'redshift', 'subject_id',\n",
       "       'smooth-or-featured_total-votes', 'how-rounded_total-votes',\n",
       "       'disk-edge-on_total-votes', 'edge-on-bulge_total-votes',\n",
       "       'bar_total-votes', 'has-spiral-arms_total-votes',\n",
       "       'spiral-winding_total-votes', 'spiral-arm-count_total-votes',\n",
       "       'bulge-size_total-votes', 'merging_total-votes',\n",
       "       'smooth-or-featured_artifact_fraction',\n",
       "       'smooth-or-featured_featured-or-disk_fraction',\n",
       "       'smooth-or-featured_smooth_fraction',\n",
       "       'how-rounded_cigar-shaped_fraction',\n",
       "       'how-rounded_in-between_fraction', 'how-rounded_round_fraction',\n",
       "       'disk-edge-on_no_fraction', 'disk-edge-on_yes_fraction',\n",
       "       'edge-on-bulge_boxy_fraction', 'edge-on-bulge_none_fraction',\n",
       "       'edge-on-bulge_rounded_fraction', 'bar_no_fraction',\n",
       "       'bar_weak_fraction', 'bar_strong_fraction',\n",
       "       'has-spiral-arms_no_fraction', 'has-spiral-arms_yes_fraction',\n",
       "       'spiral-winding_loose_fraction', 'spiral-winding_medium_fraction',\n",
       "       'spiral-winding_tight_fraction', 'spiral-arm-count_1_fraction',\n",
       "       'spiral-arm-count_2_fraction', 'spiral-arm-count_3_fraction',\n",
       "       'spiral-arm-count_4_fraction',\n",
       "       'spiral-arm-count_cant-tell_fraction',\n",
       "       'spiral-arm-count_more-than-4_fraction',\n",
       "       'bulge-size_none_fraction', 'bulge-size_small_fraction',\n",
       "       'bulge-size_moderate_fraction', 'bulge-size_large_fraction',\n",
       "       'bulge-size_dominant_fraction', 'merging_none_fraction',\n",
       "       'merging_minor-disturbance_fraction',\n",
       "       'merging_major-disturbance_fraction', 'merging_merger_fraction',\n",
       "       'locations', 'upload_group'], dtype=object)"
      ]
     },
     "execution_count": 97,
     "metadata": {},
     "output_type": "execute_result"
    }
   ],
   "source": [
    "final_df.columns.values"
   ]
  },
  {
   "cell_type": "code",
   "execution_count": 98,
   "metadata": {},
   "outputs": [
    {
     "data": {
      "text/plain": [
       "3579643.0"
      ]
     },
     "execution_count": 98,
     "metadata": {},
     "output_type": "execute_result"
    }
   ],
   "source": [
    "final_df['smooth-or-featured_total-votes'].sum()"
   ]
  },
  {
   "cell_type": "code",
   "execution_count": 101,
   "metadata": {},
   "outputs": [],
   "source": [
    "# final_df.to_csv('current_final_dr5_result.csv', index=False)"
   ]
  },
  {
   "cell_type": "code",
   "execution_count": 132,
   "metadata": {},
   "outputs": [
    {
     "data": {
      "text/plain": [
       "array(['iauname', 'smooth-or-featured_artifact',\n",
       "       'smooth-or-featured_featured-or-disk', 'smooth-or-featured_smooth',\n",
       "       'how-rounded_cigar-shaped', 'how-rounded_in-between',\n",
       "       'how-rounded_round', 'disk-edge-on_no', 'disk-edge-on_yes',\n",
       "       'edge-on-bulge_boxy', 'edge-on-bulge_none',\n",
       "       'edge-on-bulge_rounded', 'bar_no', 'bar_weak', 'bar_strong',\n",
       "       'has-spiral-arms_no', 'has-spiral-arms_yes',\n",
       "       'spiral-winding_loose', 'spiral-winding_medium',\n",
       "       'spiral-winding_tight', 'spiral-arm-count_1', 'spiral-arm-count_2',\n",
       "       'spiral-arm-count_3', 'spiral-arm-count_4',\n",
       "       'spiral-arm-count_cant-tell', 'spiral-arm-count_more-than-4',\n",
       "       'bulge-size_none', 'bulge-size_small', 'bulge-size_moderate',\n",
       "       'bulge-size_large', 'bulge-size_dominant', 'merging_none',\n",
       "       'merging_minor-disturbance', 'merging_major-disturbance',\n",
       "       'merging_merger', 'ra', 'dec', 'redshift', 'subject_id',\n",
       "       'smooth-or-featured_total-votes', 'how-rounded_total-votes',\n",
       "       'disk-edge-on_total-votes', 'edge-on-bulge_total-votes',\n",
       "       'bar_total-votes', 'has-spiral-arms_total-votes',\n",
       "       'spiral-winding_total-votes', 'spiral-arm-count_total-votes',\n",
       "       'bulge-size_total-votes', 'merging_total-votes',\n",
       "       'smooth-or-featured_artifact_fraction',\n",
       "       'smooth-or-featured_featured-or-disk_fraction',\n",
       "       'smooth-or-featured_smooth_fraction',\n",
       "       'how-rounded_cigar-shaped_fraction',\n",
       "       'how-rounded_in-between_fraction', 'how-rounded_round_fraction',\n",
       "       'disk-edge-on_no_fraction', 'disk-edge-on_yes_fraction',\n",
       "       'edge-on-bulge_boxy_fraction', 'edge-on-bulge_none_fraction',\n",
       "       'edge-on-bulge_rounded_fraction', 'bar_no_fraction',\n",
       "       'bar_weak_fraction', 'bar_strong_fraction',\n",
       "       'has-spiral-arms_no_fraction', 'has-spiral-arms_yes_fraction',\n",
       "       'spiral-winding_loose_fraction', 'spiral-winding_medium_fraction',\n",
       "       'spiral-winding_tight_fraction', 'spiral-arm-count_1_fraction',\n",
       "       'spiral-arm-count_2_fraction', 'spiral-arm-count_3_fraction',\n",
       "       'spiral-arm-count_4_fraction',\n",
       "       'spiral-arm-count_cant-tell_fraction',\n",
       "       'spiral-arm-count_more-than-4_fraction',\n",
       "       'bulge-size_none_fraction', 'bulge-size_small_fraction',\n",
       "       'bulge-size_moderate_fraction', 'bulge-size_large_fraction',\n",
       "       'bulge-size_dominant_fraction', 'merging_none_fraction',\n",
       "       'merging_minor-disturbance_fraction',\n",
       "       'merging_major-disturbance_fraction', 'merging_merger_fraction',\n",
       "       'locations', 'upload_group'], dtype=object)"
      ]
     },
     "execution_count": 132,
     "metadata": {},
     "output_type": "execute_result"
    }
   ],
   "source": [
    "final_df.columns.values"
   ]
  },
  {
   "cell_type": "code",
   "execution_count": null,
   "metadata": {},
   "outputs": [],
   "source": []
  },
  {
   "cell_type": "code",
   "execution_count": null,
   "metadata": {},
   "outputs": [],
   "source": []
  },
  {
   "cell_type": "code",
   "execution_count": 100,
   "metadata": {},
   "outputs": [
    {
     "data": {
      "text/html": [
       "<div>\n",
       "<style scoped>\n",
       "    .dataframe tbody tr th:only-of-type {\n",
       "        vertical-align: middle;\n",
       "    }\n",
       "\n",
       "    .dataframe tbody tr th {\n",
       "        vertical-align: top;\n",
       "    }\n",
       "\n",
       "    .dataframe thead th {\n",
       "        text-align: right;\n",
       "    }\n",
       "</style>\n",
       "<table border=\"1\" class=\"dataframe\">\n",
       "  <thead>\n",
       "    <tr style=\"text-align: right;\">\n",
       "      <th></th>\n",
       "      <th>subject_set_id</th>\n",
       "      <th>counts</th>\n",
       "    </tr>\n",
       "  </thead>\n",
       "  <tbody>\n",
       "    <tr>\n",
       "      <th>14</th>\n",
       "      <td>74905</td>\n",
       "      <td>357026</td>\n",
       "    </tr>\n",
       "    <tr>\n",
       "      <th>12</th>\n",
       "      <td>67383</td>\n",
       "      <td>15000</td>\n",
       "    </tr>\n",
       "    <tr>\n",
       "      <th>15</th>\n",
       "      <td>74909</td>\n",
       "      <td>10048</td>\n",
       "    </tr>\n",
       "    <tr>\n",
       "      <th>6</th>\n",
       "      <td>21156</td>\n",
       "      <td>10000</td>\n",
       "    </tr>\n",
       "    <tr>\n",
       "      <th>13</th>\n",
       "      <td>74807</td>\n",
       "      <td>5765</td>\n",
       "    </tr>\n",
       "    <tr>\n",
       "      <th>5</th>\n",
       "      <td>20603</td>\n",
       "      <td>5000</td>\n",
       "    </tr>\n",
       "    <tr>\n",
       "      <th>9</th>\n",
       "      <td>60259</td>\n",
       "      <td>5000</td>\n",
       "    </tr>\n",
       "    <tr>\n",
       "      <th>10</th>\n",
       "      <td>60995</td>\n",
       "      <td>5000</td>\n",
       "    </tr>\n",
       "    <tr>\n",
       "      <th>1</th>\n",
       "      <td>19832</td>\n",
       "      <td>3202</td>\n",
       "    </tr>\n",
       "    <tr>\n",
       "      <th>2</th>\n",
       "      <td>20036</td>\n",
       "      <td>3000</td>\n",
       "    </tr>\n",
       "    <tr>\n",
       "      <th>7</th>\n",
       "      <td>51756</td>\n",
       "      <td>3000</td>\n",
       "    </tr>\n",
       "    <tr>\n",
       "      <th>3</th>\n",
       "      <td>20156</td>\n",
       "      <td>2000</td>\n",
       "    </tr>\n",
       "    <tr>\n",
       "      <th>8</th>\n",
       "      <td>60258</td>\n",
       "      <td>977</td>\n",
       "    </tr>\n",
       "    <tr>\n",
       "      <th>4</th>\n",
       "      <td>20354</td>\n",
       "      <td>790</td>\n",
       "    </tr>\n",
       "    <tr>\n",
       "      <th>0</th>\n",
       "      <td>19829</td>\n",
       "      <td>500</td>\n",
       "    </tr>\n",
       "    <tr>\n",
       "      <th>11</th>\n",
       "      <td>67382</td>\n",
       "      <td>500</td>\n",
       "    </tr>\n",
       "  </tbody>\n",
       "</table>\n",
       "</div>"
      ],
      "text/plain": [
       "    subject_set_id  counts\n",
       "14           74905  357026\n",
       "12           67383   15000\n",
       "15           74909   10048\n",
       "6            21156   10000\n",
       "13           74807    5765\n",
       "5            20603    5000\n",
       "9            60259    5000\n",
       "10           60995    5000\n",
       "1            19832    3202\n",
       "2            20036    3000\n",
       "7            51756    3000\n",
       "3            20156    2000\n",
       "8            60258     977\n",
       "4            20354     790\n",
       "0            19829     500\n",
       "11           67382     500"
      ]
     },
     "execution_count": 100,
     "metadata": {},
     "output_type": "execute_result"
    }
   ],
   "source": [
    "latest_subjects['counts'] = latest_subjects['subject_set_id']\n",
    "iauname_counts_by_set = latest_subjects.groupby('subject_set_id').agg({'counts': 'count'})\n",
    "iauname_counts_by_set.reset_index().sort_values('counts', ascending=False)"
   ]
  },
  {
   "cell_type": "code",
   "execution_count": null,
   "metadata": {},
   "outputs": [],
   "source": [
    "iauname_counts_by_set.columns.values"
   ]
  },
  {
   "cell_type": "code",
   "execution_count": null,
   "metadata": {},
   "outputs": [],
   "source": []
  }
 ],
 "metadata": {
  "kernelspec": {
   "display_name": "Python 3",
   "language": "python",
   "name": "python3"
  },
  "language_info": {
   "codemirror_mode": {
    "name": "ipython",
    "version": 3
   },
   "file_extension": ".py",
   "mimetype": "text/x-python",
   "name": "python",
   "nbconvert_exporter": "python",
   "pygments_lexer": "ipython3",
   "version": "3.7.6"
  }
 },
 "nbformat": 4,
 "nbformat_minor": 4
}
