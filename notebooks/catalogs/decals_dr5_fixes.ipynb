{
 "cells": [
  {
   "cell_type": "code",
   "execution_count": 1,
   "metadata": {},
   "outputs": [],
   "source": [
    "import matplotlib.pyplot as plt\n",
    "import pandas as pd\n",
    "from astropy.table import Table\n",
    "import os\n",
    "import numpy as np\n",
    "# import cartopy.crs as ccrs\n",
    "import json\n",
    "import os\n",
    "import seaborn as sns\n",
    "from astropy.table import Table"
   ]
  },
  {
   "cell_type": "code",
   "execution_count": 2,
   "metadata": {},
   "outputs": [],
   "source": [
    "os.chdir('/home/walml/repos/zoobot')"
   ]
  },
  {
   "cell_type": "markdown",
   "metadata": {},
   "source": [
    "Pretend this is the final decals catalog"
   ]
  },
  {
   "cell_type": "code",
   "execution_count": 3,
   "metadata": {},
   "outputs": [],
   "source": [
    "latest_export = pd.read_csv('/home/walml/Downloads/classifications_200520.csv')  # Tobias offline aggregated classifications"
   ]
  },
  {
   "cell_type": "code",
   "execution_count": 4,
   "metadata": {},
   "outputs": [],
   "source": [
    "latest_export = latest_export.dropna(subset=['iauname'])  # a few test uploads don't have iaunames, we want to remove these (and would remove below anyway) but lets keep nan out of the iaunames ot remove set"
   ]
  },
  {
   "cell_type": "code",
   "execution_count": 5,
   "metadata": {},
   "outputs": [],
   "source": [
    "to_upload = Table.read('/media/walml/beta/galaxy_zoo/decals/catalogs/dr5_nsa1_0_0_to_upload.fits').to_pandas()  # joint catalog, after selection cuts\n",
    "to_upload['iauname'] = to_upload['iauname'].str.decode('utf8')\n",
    "\n"
   ]
  },
  {
   "cell_type": "code",
   "execution_count": 6,
   "metadata": {},
   "outputs": [],
   "source": [
    "#dr1/2 raw classifications\n",
    "dr1_c = pd.read_csv('/media/walml/beta/galaxy_zoo/decals/gzreduction_ouroborous/working_dir/raw/classifications/2017-10-15_galaxy_zoo_decals_classifications.csv')\n",
    "dr2_c = pd.read_csv('/media/walml/beta/galaxy_zoo/decals/gzreduction_ouroborous/working_dir/raw/classifications/2017-10-15_galaxy_zoo_decals_dr2_classifications.csv')\n"
   ]
  },
  {
   "cell_type": "markdown",
   "metadata": {},
   "source": [
    "## Remove galaxies with classifications that we shouldn't publish \n",
    "\n",
    "Because they don't have fits_filled"
   ]
  },
  {
   "cell_type": "code",
   "execution_count": 7,
   "metadata": {},
   "outputs": [],
   "source": [
    "bad_iaunames = set()  "
   ]
  },
  {
   "cell_type": "code",
   "execution_count": 8,
   "metadata": {},
   "outputs": [
    {
     "data": {
      "text/plain": [
       "True     227126\n",
       "False     12556\n",
       "Name: iauname, dtype: int64"
      ]
     },
     "execution_count": 8,
     "metadata": {},
     "output_type": "execute_result"
    }
   ],
   "source": [
    "# and in decals, passed selection cuts, implicitly. Removes some test uploads, some of whcih have nan iaunames\n",
    "good_images = latest_export['iauname'].isin(to_upload.query('fits_filled')['iauname'])  \n",
    "good_images.value_counts()"
   ]
  },
  {
   "cell_type": "code",
   "execution_count": 9,
   "metadata": {},
   "outputs": [
    {
     "data": {
      "text/plain": [
       "array(['iauname', 'nsa_id', 'ra', 'dec', 'petrotheta', 'petroth50',\n",
       "       'petroth90', 'z', 'fits_loc', 'png_loc', 'fits_ready',\n",
       "       'fits_filled', 'png_ready'], dtype=object)"
      ]
     },
     "execution_count": 9,
     "metadata": {},
     "output_type": "execute_result"
    }
   ],
   "source": [
    "to_upload.columns.values"
   ]
  },
  {
   "cell_type": "code",
   "execution_count": null,
   "metadata": {},
   "outputs": [],
   "source": []
  },
  {
   "cell_type": "code",
   "execution_count": 10,
   "metadata": {},
   "outputs": [],
   "source": [
    "to_upload = to_upload.rename(index=str, columns={\n",
    "    'fits_loc': 'local_fits_loc',\n",
    "    'png_loc': 'local_png_loc'\n",
    "})\n",
    "                       "
   ]
  },
  {
   "cell_type": "code",
   "execution_count": 11,
   "metadata": {},
   "outputs": [
    {
     "data": {
      "text/plain": [
       "0         b'/Volumes/EXTERNAL/decals/png/dr5/J094/J09465...\n",
       "1         b'/Volumes/EXTERNAL/decals/png/dr5/J094/J09463...\n",
       "2         b'/Volumes/EXTERNAL/decals/png/dr5/J094/J09463...\n",
       "3         b'/Volumes/EXTERNAL/decals/png/dr5/J094/J09474...\n",
       "4         b'/Volumes/EXTERNAL/decals/png/dr5/J094/J09475...\n",
       "                                ...                        \n",
       "343123    b'/Volumes/EXTERNAL/decals/png/dr5/J230/J23092...\n",
       "343124    b'/Volumes/EXTERNAL/decals/png/dr5/J235/J23510...\n",
       "343125    b'/Volumes/EXTERNAL/decals/png/dr5/J235/J23524...\n",
       "343126    b'/Volumes/EXTERNAL/decals/png/dr5/J235/J23532...\n",
       "343127    b'/Volumes/EXTERNAL/decals/png/dr5/J235/J23541...\n",
       "Name: local_png_loc, Length: 343128, dtype: object"
      ]
     },
     "execution_count": 11,
     "metadata": {},
     "output_type": "execute_result"
    }
   ],
   "source": [
    "to_upload['local_png_loc']"
   ]
  },
  {
   "cell_type": "code",
   "execution_count": 12,
   "metadata": {},
   "outputs": [],
   "source": [
    "to_upload['png_loc'] = to_upload['local_png_loc'].str.decode('utf-8')\n",
    " "
   ]
  },
  {
   "cell_type": "code",
   "execution_count": 13,
   "metadata": {},
   "outputs": [],
   "source": [
    "to_upload['png_loc'] = to_upload['png_loc'].str.replace('/Volumes/EXTERNAL/decals/png/', 'png_native/')  "
   ]
  },
  {
   "cell_type": "code",
   "execution_count": 14,
   "metadata": {},
   "outputs": [
    {
     "data": {
      "text/plain": [
       "0         png_native/dr5/J094/J094651.40-010228.5.png\n",
       "1         png_native/dr5/J094/J094630.85-004554.5.png\n",
       "2         png_native/dr5/J094/J094631.59-005917.7.png\n",
       "3         png_native/dr5/J094/J094744.18-004013.4.png\n",
       "4         png_native/dr5/J094/J094751.74-003242.0.png\n",
       "                             ...                     \n",
       "343123    png_native/dr5/J230/J230924.60-001458.1.png\n",
       "343124    png_native/dr5/J235/J235101.08-100042.7.png\n",
       "343125    png_native/dr5/J235/J235247.10-105259.6.png\n",
       "343126    png_native/dr5/J235/J235320.91-103238.7.png\n",
       "343127    png_native/dr5/J235/J235414.90-101409.4.png\n",
       "Name: png_loc, Length: 343128, dtype: object"
      ]
     },
     "execution_count": 14,
     "metadata": {},
     "output_type": "execute_result"
    }
   ],
   "source": [
    "to_upload['png_loc']"
   ]
  },
  {
   "cell_type": "code",
   "execution_count": 15,
   "metadata": {},
   "outputs": [],
   "source": [
    "to_upload.query('fits_filled').to_csv('final_dr5_uploadable_catalog.csv', index=False)  # use for master catalog"
   ]
  },
  {
   "cell_type": "code",
   "execution_count": null,
   "metadata": {},
   "outputs": [],
   "source": []
  },
  {
   "cell_type": "code",
   "execution_count": 16,
   "metadata": {},
   "outputs": [],
   "source": [
    "bad_iaunames = bad_iaunames.union(set(latest_export[~good_images]['iauname']))"
   ]
  },
  {
   "cell_type": "code",
   "execution_count": 17,
   "metadata": {},
   "outputs": [
    {
     "data": {
      "text/plain": [
       "12556"
      ]
     },
     "execution_count": 17,
     "metadata": {},
     "output_type": "execute_result"
    }
   ],
   "source": [
    "len(bad_iaunames)"
   ]
  },
  {
   "cell_type": "code",
   "execution_count": 18,
   "metadata": {},
   "outputs": [
    {
     "data": {
      "text/plain": [
       "0"
      ]
     },
     "execution_count": 18,
     "metadata": {},
     "output_type": "execute_result"
    }
   ],
   "source": [
    "np.sum(latest_export[good_images]['iauname'].duplicated())"
   ]
  },
  {
   "cell_type": "code",
   "execution_count": 19,
   "metadata": {},
   "outputs": [],
   "source": [
    "# with open('data/bad_iaunames.json', 'w') as f:\n",
    "#     json.dump(list(bad_iaunames), f)\n",
    "# sent to Tobias and EXCLUDED from future aggregations"
   ]
  },
  {
   "cell_type": "markdown",
   "metadata": {},
   "source": [
    "## Flag galaxies with earlier question versions (bulge, merger)"
   ]
  },
  {
   "cell_type": "code",
   "execution_count": 24,
   "metadata": {},
   "outputs": [
    {
     "data": {
      "text/plain": [
       "array(['iauname', 'smooth-or-featured_artifact',\n",
       "       'smooth-or-featured_featured-or-disk', 'smooth-or-featured_smooth',\n",
       "       'how-rounded_cigar-shaped', 'how-rounded_in-between',\n",
       "       'how-rounded_round', 'disk-edge-on_no', 'disk-edge-on_yes',\n",
       "       'edge-on-bulge_boxy', 'edge-on-bulge_none',\n",
       "       'edge-on-bulge_rounded', 'bar_no', 'bar_weak', 'bar_strong',\n",
       "       'has-spiral-arms_no', 'has-spiral-arms_yes',\n",
       "       'spiral-winding_loose', 'spiral-winding_medium',\n",
       "       'spiral-winding_tight', 'spiral-arm-count_1', 'spiral-arm-count_2',\n",
       "       'spiral-arm-count_3', 'spiral-arm-count_4',\n",
       "       'spiral-arm-count_cant-tell', 'spiral-arm-count_more-than-4',\n",
       "       'bulge-size_none', 'bulge-size_small', 'bulge-size_moderate',\n",
       "       'bulge-size_large', 'bulge-size_dominant', 'merging_none',\n",
       "       'merging_minor-disturbance', 'merging_major-disturbance',\n",
       "       'merging_merger', 'ra', 'dec', 'redshift', 'subject_id',\n",
       "       'smooth-or-featured_total-votes', 'how-rounded_total-votes',\n",
       "       'disk-edge-on_total-votes', 'edge-on-bulge_total-votes',\n",
       "       'bar_total-votes', 'has-spiral-arms_total-votes',\n",
       "       'spiral-winding_total-votes', 'spiral-arm-count_total-votes',\n",
       "       'bulge-size_total-votes', 'merging_total-votes',\n",
       "       'smooth-or-featured_artifact_fraction',\n",
       "       'smooth-or-featured_featured-or-disk_fraction',\n",
       "       'smooth-or-featured_smooth_fraction',\n",
       "       'how-rounded_cigar-shaped_fraction',\n",
       "       'how-rounded_in-between_fraction', 'how-rounded_round_fraction',\n",
       "       'disk-edge-on_no_fraction', 'disk-edge-on_yes_fraction',\n",
       "       'edge-on-bulge_boxy_fraction', 'edge-on-bulge_none_fraction',\n",
       "       'edge-on-bulge_rounded_fraction', 'bar_no_fraction',\n",
       "       'bar_weak_fraction', 'bar_strong_fraction',\n",
       "       'has-spiral-arms_no_fraction', 'has-spiral-arms_yes_fraction',\n",
       "       'spiral-winding_loose_fraction', 'spiral-winding_medium_fraction',\n",
       "       'spiral-winding_tight_fraction', 'spiral-arm-count_1_fraction',\n",
       "       'spiral-arm-count_2_fraction', 'spiral-arm-count_3_fraction',\n",
       "       'spiral-arm-count_4_fraction',\n",
       "       'spiral-arm-count_cant-tell_fraction',\n",
       "       'spiral-arm-count_more-than-4_fraction',\n",
       "       'bulge-size_none_fraction', 'bulge-size_small_fraction',\n",
       "       'bulge-size_moderate_fraction', 'bulge-size_large_fraction',\n",
       "       'bulge-size_dominant_fraction', 'merging_none_fraction',\n",
       "       'merging_minor-disturbance_fraction',\n",
       "       'merging_major-disturbance_fraction', 'merging_merger_fraction'],\n",
       "      dtype=object)"
      ]
     },
     "execution_count": 24,
     "metadata": {},
     "output_type": "execute_result"
    }
   ],
   "source": [
    "latest_export.columns.values"
   ]
  },
  {
   "cell_type": "code",
   "execution_count": 28,
   "metadata": {},
   "outputs": [
    {
     "data": {
      "text/plain": [
       "0.0      109089\n",
       "1.0       54423\n",
       "2.0       18165\n",
       "3.0        8862\n",
       "40.0       6718\n",
       "          ...  \n",
       "123.0         1\n",
       "187.0         1\n",
       "106.0         1\n",
       "94.0          1\n",
       "75.0          1\n",
       "Length: 120, dtype: int64"
      ]
     },
     "execution_count": 28,
     "metadata": {},
     "output_type": "execute_result"
    }
   ],
   "source": [
    "(latest_export['smooth-or-featured_total-votes']- latest_export['merging_total-votes'] ).value_counts()"
   ]
  },
  {
   "cell_type": "code",
   "execution_count": 20,
   "metadata": {},
   "outputs": [],
   "source": [
    "merger_v1_answers = ['merging_both-v1', 'merging_neither-v1',\n",
    "       'merging_tidal-debris-v1']\n",
    "bulge_size_v1_answers = ['bulge-size_obvious-v1',\n",
    "       'bulge-size_tiny-v1', 'bulge-size_none-v1']"
   ]
  },
  {
   "cell_type": "code",
   "execution_count": 21,
   "metadata": {},
   "outputs": [
    {
     "ename": "KeyError",
     "evalue": "\"None of [Index(['bulge-size_obvious-v1', 'bulge-size_tiny-v1', 'bulge-size_none-v1'], dtype='object')] are in the [columns]\"",
     "output_type": "error",
     "traceback": [
      "\u001b[0;31m---------------------------------------------------------------------------\u001b[0m",
      "\u001b[0;31mKeyError\u001b[0m                                  Traceback (most recent call last)",
      "\u001b[0;32m<ipython-input-21-b48d2dee64b2>\u001b[0m in \u001b[0;36m<module>\u001b[0;34m\u001b[0m\n\u001b[0;32m----> 1\u001b[0;31m \u001b[0mhas_v1_bulge_answers\u001b[0m \u001b[0;34m=\u001b[0m \u001b[0mlatest_export\u001b[0m\u001b[0;34m[\u001b[0m\u001b[0mbulge_size_v1_answers\u001b[0m\u001b[0;34m]\u001b[0m\u001b[0;34m.\u001b[0m\u001b[0msum\u001b[0m\u001b[0;34m(\u001b[0m\u001b[0maxis\u001b[0m\u001b[0;34m=\u001b[0m\u001b[0;36m1\u001b[0m\u001b[0;34m)\u001b[0m \u001b[0;34m>\u001b[0m \u001b[0;36m0\u001b[0m\u001b[0;34m\u001b[0m\u001b[0;34m\u001b[0m\u001b[0m\n\u001b[0m\u001b[1;32m      2\u001b[0m \u001b[0mhas_v1_bulge_answers\u001b[0m\u001b[0;34m.\u001b[0m\u001b[0mvalue_counts\u001b[0m\u001b[0;34m(\u001b[0m\u001b[0;34m)\u001b[0m\u001b[0;34m\u001b[0m\u001b[0;34m\u001b[0m\u001b[0m\n",
      "\u001b[0;32m~/anaconda3/envs/zoobot/lib/python3.7/site-packages/pandas/core/frame.py\u001b[0m in \u001b[0;36m__getitem__\u001b[0;34m(self, key)\u001b[0m\n\u001b[1;32m   2804\u001b[0m             \u001b[0;32mif\u001b[0m \u001b[0mis_iterator\u001b[0m\u001b[0;34m(\u001b[0m\u001b[0mkey\u001b[0m\u001b[0;34m)\u001b[0m\u001b[0;34m:\u001b[0m\u001b[0;34m\u001b[0m\u001b[0;34m\u001b[0m\u001b[0m\n\u001b[1;32m   2805\u001b[0m                 \u001b[0mkey\u001b[0m \u001b[0;34m=\u001b[0m \u001b[0mlist\u001b[0m\u001b[0;34m(\u001b[0m\u001b[0mkey\u001b[0m\u001b[0;34m)\u001b[0m\u001b[0;34m\u001b[0m\u001b[0;34m\u001b[0m\u001b[0m\n\u001b[0;32m-> 2806\u001b[0;31m             \u001b[0mindexer\u001b[0m \u001b[0;34m=\u001b[0m \u001b[0mself\u001b[0m\u001b[0;34m.\u001b[0m\u001b[0mloc\u001b[0m\u001b[0;34m.\u001b[0m\u001b[0m_get_listlike_indexer\u001b[0m\u001b[0;34m(\u001b[0m\u001b[0mkey\u001b[0m\u001b[0;34m,\u001b[0m \u001b[0maxis\u001b[0m\u001b[0;34m=\u001b[0m\u001b[0;36m1\u001b[0m\u001b[0;34m,\u001b[0m \u001b[0mraise_missing\u001b[0m\u001b[0;34m=\u001b[0m\u001b[0;32mTrue\u001b[0m\u001b[0;34m)\u001b[0m\u001b[0;34m[\u001b[0m\u001b[0;36m1\u001b[0m\u001b[0;34m]\u001b[0m\u001b[0;34m\u001b[0m\u001b[0;34m\u001b[0m\u001b[0m\n\u001b[0m\u001b[1;32m   2807\u001b[0m \u001b[0;34m\u001b[0m\u001b[0m\n\u001b[1;32m   2808\u001b[0m         \u001b[0;31m# take() does not accept boolean indexers\u001b[0m\u001b[0;34m\u001b[0m\u001b[0;34m\u001b[0m\u001b[0;34m\u001b[0m\u001b[0m\n",
      "\u001b[0;32m~/anaconda3/envs/zoobot/lib/python3.7/site-packages/pandas/core/indexing.py\u001b[0m in \u001b[0;36m_get_listlike_indexer\u001b[0;34m(self, key, axis, raise_missing)\u001b[0m\n\u001b[1;32m   1551\u001b[0m \u001b[0;34m\u001b[0m\u001b[0m\n\u001b[1;32m   1552\u001b[0m         self._validate_read_indexer(\n\u001b[0;32m-> 1553\u001b[0;31m             \u001b[0mkeyarr\u001b[0m\u001b[0;34m,\u001b[0m \u001b[0mindexer\u001b[0m\u001b[0;34m,\u001b[0m \u001b[0mo\u001b[0m\u001b[0;34m.\u001b[0m\u001b[0m_get_axis_number\u001b[0m\u001b[0;34m(\u001b[0m\u001b[0maxis\u001b[0m\u001b[0;34m)\u001b[0m\u001b[0;34m,\u001b[0m \u001b[0mraise_missing\u001b[0m\u001b[0;34m=\u001b[0m\u001b[0mraise_missing\u001b[0m\u001b[0;34m\u001b[0m\u001b[0;34m\u001b[0m\u001b[0m\n\u001b[0m\u001b[1;32m   1554\u001b[0m         )\n\u001b[1;32m   1555\u001b[0m         \u001b[0;32mreturn\u001b[0m \u001b[0mkeyarr\u001b[0m\u001b[0;34m,\u001b[0m \u001b[0mindexer\u001b[0m\u001b[0;34m\u001b[0m\u001b[0;34m\u001b[0m\u001b[0m\n",
      "\u001b[0;32m~/anaconda3/envs/zoobot/lib/python3.7/site-packages/pandas/core/indexing.py\u001b[0m in \u001b[0;36m_validate_read_indexer\u001b[0;34m(self, key, indexer, axis, raise_missing)\u001b[0m\n\u001b[1;32m   1638\u001b[0m             \u001b[0;32mif\u001b[0m \u001b[0mmissing\u001b[0m \u001b[0;34m==\u001b[0m \u001b[0mlen\u001b[0m\u001b[0;34m(\u001b[0m\u001b[0mindexer\u001b[0m\u001b[0;34m)\u001b[0m\u001b[0;34m:\u001b[0m\u001b[0;34m\u001b[0m\u001b[0;34m\u001b[0m\u001b[0m\n\u001b[1;32m   1639\u001b[0m                 \u001b[0maxis_name\u001b[0m \u001b[0;34m=\u001b[0m \u001b[0mself\u001b[0m\u001b[0;34m.\u001b[0m\u001b[0mobj\u001b[0m\u001b[0;34m.\u001b[0m\u001b[0m_get_axis_name\u001b[0m\u001b[0;34m(\u001b[0m\u001b[0maxis\u001b[0m\u001b[0;34m)\u001b[0m\u001b[0;34m\u001b[0m\u001b[0;34m\u001b[0m\u001b[0m\n\u001b[0;32m-> 1640\u001b[0;31m                 \u001b[0;32mraise\u001b[0m \u001b[0mKeyError\u001b[0m\u001b[0;34m(\u001b[0m\u001b[0;34mf\"None of [{key}] are in the [{axis_name}]\"\u001b[0m\u001b[0;34m)\u001b[0m\u001b[0;34m\u001b[0m\u001b[0;34m\u001b[0m\u001b[0m\n\u001b[0m\u001b[1;32m   1641\u001b[0m \u001b[0;34m\u001b[0m\u001b[0m\n\u001b[1;32m   1642\u001b[0m             \u001b[0;31m# We (temporarily) allow for some missing keys with .loc, except in\u001b[0m\u001b[0;34m\u001b[0m\u001b[0;34m\u001b[0m\u001b[0;34m\u001b[0m\u001b[0m\n",
      "\u001b[0;31mKeyError\u001b[0m: \"None of [Index(['bulge-size_obvious-v1', 'bulge-size_tiny-v1', 'bulge-size_none-v1'], dtype='object')] are in the [columns]\""
     ]
    }
   ],
   "source": [
    "has_v1_bulge_answers = latest_export[bulge_size_v1_answers].sum(axis=1) > 0\n",
    "has_v1_bulge_answers.value_counts()"
   ]
  },
  {
   "cell_type": "markdown",
   "metadata": {},
   "source": [
    "Let's just drop that guy and not worry about it"
   ]
  },
  {
   "cell_type": "code",
   "execution_count": null,
   "metadata": {},
   "outputs": [],
   "source": [
    "has_v1_merger_answers = latest_export[merger_v1_answers].sum(axis=1) > 0\n",
    "has_v1_merger_answers.value_counts()"
   ]
  },
  {
   "cell_type": "markdown",
   "metadata": {},
   "source": [
    "Enough of those that we should probably publish.\n",
    "\n",
    "Check they only ever have v1, not both:"
   ]
  },
  {
   "cell_type": "code",
   "execution_count": null,
   "metadata": {},
   "outputs": [],
   "source": [
    "merger_v2_answers = ['merging_none', # from renamed from neither\n",
    "                     'merging_minor-disturbance', # new\n",
    "                     'merging_major-disturbance', # new\n",
    "                     'merging_merger'] # unchanged?\n",
    "\n",
    "new_v2_answers = ['merging_none', # from renamed from neither\n",
    "                     'merging_minor-disturbance', # new\n",
    "                     'merging_major-disturbance']\n",
    "shared_merger_answers = ['merging_merger']\n",
    "\n",
    "# has_v2_merger_answers = latest_export[merger_v2_answers].sum(axis=1) > 0\n",
    "# (has_v2_merger_answers & has_v1_merger_answers).sum()\n",
    "\n",
    "has_new_merger_answers = latest_export[new_v2_answers].sum(axis=1) > 0\n",
    "\n",
    "print(has_new_merger_answers.mean())\n",
    "print(has_v1_merger_answers.mean())\n",
    "print((has_new_merger_answers & has_v1_merger_answers).mean())"
   ]
  },
  {
   "cell_type": "markdown",
   "metadata": {},
   "source": [
    "Okay, that's awkward - 5% of galaxies have answers for *both* v1 answers *and* the new v2 answers...\n",
    "I think that for clarity it would be best to wipe the v1 answers for galaxies with both."
   ]
  },
  {
   "cell_type": "code",
   "execution_count": null,
   "metadata": {},
   "outputs": [],
   "source": [
    "has_both = has_new_merger_answers & has_v1_merger_answers"
   ]
  },
  {
   "cell_type": "code",
   "execution_count": null,
   "metadata": {},
   "outputs": [],
   "source": [
    "\n",
    "# latest_export.loc[has_both, merger_v1_answers] = 0\n",
    "\n",
    "# # check modifying slice still worked\n",
    "# has_new_merger_answers = latest_export[new_v2_answers].sum(axis=1) > 0\n",
    "# has_v1_merger_answers = latest_export[merger_v1_answers].sum(axis=1) > 0\n",
    "# (has_new_merger_answers & has_v1_merger_answers).mean()"
   ]
  },
  {
   "cell_type": "code",
   "execution_count": null,
   "metadata": {},
   "outputs": [],
   "source": [
    "assert False"
   ]
  },
  {
   "cell_type": "markdown",
   "metadata": {},
   "source": [
    "# Flag galaxies by origin"
   ]
  },
  {
   "cell_type": "code",
   "execution_count": null,
   "metadata": {},
   "outputs": [],
   "source": [
    "calibration_subject_sets = [\n",
    "    19829,  # nair 250 each\n",
    "    19832  # nair all\n",
    "]\n",
    "\n",
    "pre_active_subject_sets = [\n",
    "    20036,  # first 3k\n",
    "    20156, # 3k-5k,\n",
    "    20603,  # 5k\n",
    "    21156, # 10k\n",
    "    51756, # 3k\n",
    "    60259,  # 5k\n",
    "    60995, # +5k   \n",
    "    67383,  # +15k,\n",
    "    67382,  # +500\n",
    "    74807  # decals classic subjects, going to include as 'pre-active'\n",
    "]\n",
    "\n",
    "targeted_observations = [\n",
    "    20354, # yjan 790\n",
    "    60258  # yjan 1100ish (id/date is a touch strange)\n",
    "]    \n",
    "\n",
    "active_baseline = [74905]\n",
    "\n",
    "active_priority = [74909]\n",
    "\n",
    "# and will add the newly-found galaxies to active_baseline"
   ]
  },
  {
   "cell_type": "code",
   "execution_count": null,
   "metadata": {},
   "outputs": [],
   "source": [
    "set_namer = {\n",
    "    'calibration_nair_dr2_dr5': calibration_subject_sets,\n",
    "    'pre_active': pre_active_subject_sets,\n",
    "    'targeted': targeted_observations,\n",
    "    'active_baseline': active_baseline,\n",
    "    'active_priority': active_priority\n",
    "}"
   ]
  },
  {
   "cell_type": "markdown",
   "metadata": {},
   "source": [
    "I need to check the vote distribution for active learning vs random. If it worked right, there should be more featured galaxies in priority set."
   ]
  },
  {
   "cell_type": "code",
   "execution_count": null,
   "metadata": {},
   "outputs": [],
   "source": [
    "latest_subjects = pd.read_csv('/home/walml/repos/gz-panoptes-reduction/data/latest_subjects_export.csv')"
   ]
  },
  {
   "cell_type": "code",
   "execution_count": null,
   "metadata": {},
   "outputs": [],
   "source": [
    "latest_subjects = latest_subjects[latest_subjects['workflow_id'].isin([6122.0, 10582.0, 10581.0])]  # decals public workflows\n",
    "latest_subjects['workflow_id'].value_counts()"
   ]
  },
  {
   "cell_type": "code",
   "execution_count": null,
   "metadata": {},
   "outputs": [],
   "source": [
    "latest_subjects = latest_subjects[~latest_subjects['subject_set_id'].isin([77652])]  # remove eagle subjects\n",
    "latest_subjects['workflow_id'].value_counts()  # eagle is 15k in each of normal and enhanced workflows"
   ]
  },
  {
   "cell_type": "code",
   "execution_count": null,
   "metadata": {},
   "outputs": [],
   "source": [
    "latest_subjects['subject_set_id'].value_counts()"
   ]
  },
  {
   "cell_type": "code",
   "execution_count": null,
   "metadata": {},
   "outputs": [],
   "source": [
    "latest_subjects['metadata'] = latest_subjects['metadata'].apply(json.loads)"
   ]
  },
  {
   "cell_type": "code",
   "execution_count": null,
   "metadata": {},
   "outputs": [],
   "source": [
    "def get_iauname(metadata):\n",
    "    possible_keys = ['iauname', '!iauname', 'IAUNAME', '!IAUNAME']\n",
    "    for key in possible_keys:\n",
    "        if key in metadata.keys():\n",
    "            return metadata[key]\n",
    "    return np.nan"
   ]
  },
  {
   "cell_type": "code",
   "execution_count": null,
   "metadata": {},
   "outputs": [],
   "source": [
    "latest_subjects['iauname'] = latest_subjects['metadata'].apply(get_iauname)"
   ]
  },
  {
   "cell_type": "code",
   "execution_count": null,
   "metadata": {},
   "outputs": [],
   "source": [
    "pd.isna(latest_subjects['iauname']).sum()"
   ]
  },
  {
   "cell_type": "code",
   "execution_count": null,
   "metadata": {},
   "outputs": [],
   "source": [
    "latest_subjects['subject_set_id'].value_counts()"
   ]
  },
  {
   "cell_type": "code",
   "execution_count": null,
   "metadata": {},
   "outputs": [],
   "source": [
    "expected_sets = set(calibration_subject_sets + pre_active_subject_sets + targeted_observations + active_baseline + active_priority)\n",
    "actual_sets = set(latest_subjects['subject_set_id'].unique())\n"
   ]
  },
  {
   "cell_type": "code",
   "execution_count": null,
   "metadata": {},
   "outputs": [],
   "source": [
    "expected_sets"
   ]
  },
  {
   "cell_type": "code",
   "execution_count": null,
   "metadata": {},
   "outputs": [],
   "source": [
    "actual_sets"
   ]
  },
  {
   "cell_type": "code",
   "execution_count": null,
   "metadata": {},
   "outputs": [],
   "source": [
    "actual_sets.difference(expected_sets)"
   ]
  },
  {
   "cell_type": "code",
   "execution_count": null,
   "metadata": {},
   "outputs": [],
   "source": [
    "# 74807 is an early active-learning-random upload, made just before turning active learning on, to the 'classic' (as opposed to enhanced) workflow\n",
    "# they were pretty much all classified to N=100, probably because I hadn't yet got caesar working right on 'classic'\n",
    "# about half of the galaxies (not subjects) are also in either pre-active-learning uploads or enhanced mode random uploads\n",
    "# https://www.zooniverse.org/lab/5733/subject-sets/74807\n",
    "# because they are random and highly classified, I list them in the data release as 'pre-active'"
   ]
  },
  {
   "cell_type": "code",
   "execution_count": null,
   "metadata": {},
   "outputs": [],
   "source": [
    "classic_ids = latest_subjects.query('subject_set_id == \"74807\"')['subject_id']"
   ]
  },
  {
   "cell_type": "code",
   "execution_count": null,
   "metadata": {},
   "outputs": [],
   "source": [
    "good_export = latest_export[good_images]\n",
    "good_export[good_export['subject_id'].isin(classic_ids)]['smooth-or-featured_total-votes'].hist(bins=40)"
   ]
  },
  {
   "cell_type": "code",
   "execution_count": null,
   "metadata": {},
   "outputs": [],
   "source": [
    "latest_subjects.query('subject_set_id == \"74807\"')['metadata'].iloc[5]"
   ]
  },
  {
   "cell_type": "code",
   "execution_count": null,
   "metadata": {},
   "outputs": [],
   "source": [
    "latest_subjects.query('subject_set_id == \"74905\"')['metadata'].iloc[0]"
   ]
  },
  {
   "cell_type": "code",
   "execution_count": null,
   "metadata": {},
   "outputs": [],
   "source": [
    "classic = latest_subjects.query('subject_set_id == \"74807\"')\n",
    "in_both = classic[classic['iauname'].isin(latest_subjects.query('subject_set_id != \"74807\"')['iauname'])]\n",
    "only_in_classic = classic[~classic['iauname'].isin(latest_subjects.query('subject_set_id != \"74807\"')['iauname'])]\n",
    "len(classic), len(only_in_classic), len(in_both)"
   ]
  },
  {
   "cell_type": "code",
   "execution_count": null,
   "metadata": {},
   "outputs": [],
   "source": [
    "latest_subjects[latest_subjects['iauname'].isin(in_both['iauname'])]['subject_set_id'].value_counts()  # which other subject sets are they in? random, (classic), a few active. Not calibration."
   ]
  },
  {
   "cell_type": "code",
   "execution_count": null,
   "metadata": {},
   "outputs": [],
   "source": [
    "latest_subjects.query('subject_set_id == \"74807\"')['locations'].iloc[0]"
   ]
  },
  {
   "cell_type": "code",
   "execution_count": null,
   "metadata": {},
   "outputs": [],
   "source": []
  },
  {
   "cell_type": "code",
   "execution_count": null,
   "metadata": {},
   "outputs": [],
   "source": []
  },
  {
   "cell_type": "code",
   "execution_count": null,
   "metadata": {},
   "outputs": [],
   "source": [
    "expected_sets.difference(actual_sets)"
   ]
  },
  {
   "cell_type": "code",
   "execution_count": null,
   "metadata": {},
   "outputs": [],
   "source": [
    "# latest_subjects = latest_subjects.query('subject_set_id != \"74807\"')"
   ]
  },
  {
   "cell_type": "code",
   "execution_count": null,
   "metadata": {},
   "outputs": [],
   "source": [
    "latest_subjects['workflow_id'].value_counts()  # 74807 is simply the 'classic mode' galaxies, which nobody really classifies - note, 5765 length!"
   ]
  },
  {
   "cell_type": "code",
   "execution_count": null,
   "metadata": {},
   "outputs": [],
   "source": [
    "def name_subject_set(subject_set_id):\n",
    "    for key, ids in set_namer.items():\n",
    "        if subject_set_id in ids:\n",
    "            return key\n",
    "    return 'failed'"
   ]
  },
  {
   "cell_type": "markdown",
   "metadata": {},
   "source": [
    "# TODO when loading final catalog, use set namer above to add set name column"
   ]
  },
  {
   "cell_type": "code",
   "execution_count": null,
   "metadata": {},
   "outputs": [],
   "source": [
    "latest_subjects['upload_group'] = latest_subjects['subject_set_id'].apply(lambda x: name_subject_set(int(x)))\n",
    "latest_subjects['upload_group'].value_counts()"
   ]
  },
  {
   "cell_type": "code",
   "execution_count": null,
   "metadata": {},
   "outputs": [],
   "source": [
    "latest_subjects.query('upload_group == \"failed\"')"
   ]
  },
  {
   "cell_type": "code",
   "execution_count": null,
   "metadata": {},
   "outputs": [],
   "source": [
    "# assigning galaxies (iaunames) into subject sets may be awkward due to duplicates - check how many are in several"
   ]
  },
  {
   "cell_type": "code",
   "execution_count": null,
   "metadata": {},
   "outputs": [],
   "source": [
    "t = latest_subjects.groupby('iauname').agg({'upload_group': lambda x: tuple(set(x))})"
   ]
  },
  {
   "cell_type": "code",
   "execution_count": null,
   "metadata": {},
   "outputs": [],
   "source": [
    "t['upload_group'].value_counts()"
   ]
  },
  {
   "cell_type": "markdown",
   "metadata": {},
   "source": [
    "Good - mostly the duplicates are all within the same subject sets. Let's resolve as follows:\n",
    "- active_priority + active_baseline = active_priority\n",
    "- calibration + anything = anything, calibration is not a random subset so preserve anything's selection func\n",
    "- targeted + anything = anything, would have been in anything either way\n",
    "- pre_active + active_priority = pre_active (should not have been reclassified)\n",
    "- active_baseline + pre_active = pre_active (should not have been reclassified)"
   ]
  },
  {
   "cell_type": "code",
   "execution_count": null,
   "metadata": {},
   "outputs": [],
   "source": [
    "# TODO actually name this"
   ]
  },
  {
   "cell_type": "code",
   "execution_count": null,
   "metadata": {},
   "outputs": [],
   "source": [
    "latest_subjects.columns.values"
   ]
  },
  {
   "cell_type": "code",
   "execution_count": null,
   "metadata": {},
   "outputs": [],
   "source": [
    "data = {json.loads(x)['0'] for x in latest_subjects['locations'][:3].values}\n",
    "data"
   ]
  },
  {
   "cell_type": "code",
   "execution_count": null,
   "metadata": {},
   "outputs": [],
   "source": [
    "def group_metadata(x):\n",
    "    pass  # TODO\n",
    "\n",
    "def group_locations(x):\n",
    "    return json.dumps([json.loads(row)['0'] for row in x.values])  # list of unique urls, assuming 0 is the only key in each row\n",
    "\n",
    "def group_upload_group(x):\n",
    "    \n",
    "    # only return calibration if that's the only set\n",
    "#     if set(x) == set(['calibration_nair_dr2_dr5']):\n",
    "#         return x.iloc[0]\n",
    "# changed my mind - calibration will be flagged separately, and galaxies in and only in calibration are effectively early pre-active uploads\n",
    "    if x == ['calibration_nair_dr2_dr5']:\n",
    "        return 'pre_active'\n",
    "\n",
    "    # drop calibration, will flag separately\n",
    "    x_unique = set(x.values) - set(['calibration_nair_dr2_dr5'])\n",
    "    if len(x_unique) == 1:  # just calibration or just one other subject set\n",
    "        return list(x_unique)[0]\n",
    "\n",
    "    if x_unique == set(('pre_active', 'active_baseline')):\n",
    "        return 'pre_active'\n",
    "    \n",
    "    if x_unique == set(('active_baseline', 'active_priority')):\n",
    "        return 'active_priority'\n",
    "    \n",
    "    if x_unique == set(('targeted', 'pre_active')):\n",
    "        return 'pre_active'\n",
    "    \n",
    "    if x_unique == set(('active_priority', 'pre_active')):\n",
    "        return 'pre_active'\n",
    "    \n",
    "    if x_unique == set(('active_priority', 'active_baseline')):\n",
    "        return 'active_priority'\n",
    "    \n",
    "    if x_unique == set(('active_priority', 'active_baseline', 'pre_active')):\n",
    "        return 'pre_active'\n",
    "\n",
    "    raise ValueError('{}, {} not understood'.format(x, x_unique))\n"
   ]
  },
  {
   "cell_type": "code",
   "execution_count": null,
   "metadata": {},
   "outputs": [],
   "source": [
    "# latest_subjects.groupby('iauname').agg({'locations': group_locations, 'upload_group': group_upload_group})"
   ]
  },
  {
   "cell_type": "code",
   "execution_count": null,
   "metadata": {},
   "outputs": [],
   "source": [
    "grouped_subjects = latest_subjects.groupby('iauname').agg({'locations': group_locations, 'upload_group': group_upload_group}).reset_index()  # TODO add grouping of upload_groups"
   ]
  },
  {
   "cell_type": "code",
   "execution_count": null,
   "metadata": {},
   "outputs": [],
   "source": [
    "grouped_subjects['upload_group'].value_counts()"
   ]
  },
  {
   "cell_type": "code",
   "execution_count": null,
   "metadata": {},
   "outputs": [],
   "source": [
    "grouped_subjects['locations']"
   ]
  },
  {
   "cell_type": "code",
   "execution_count": null,
   "metadata": {},
   "outputs": [],
   "source": [
    "# add calibration flag!\n",
    "maybe_calibration = latest_subjects.groupby('iauname').agg({'upload_group': lamba x: 'calibration_nair_dr2_dr5' in x}).reset_index()  # TODO add grouping of upload_groups\n",
    "maybe_calibration = maybe_calibration.rename(columns={'calibration_nair_dr2_dr5': 'dr2_dr5_nair_overlap'})"
   ]
  },
  {
   "cell_type": "code",
   "execution_count": null,
   "metadata": {},
   "outputs": [],
   "source": [
    "final_df = pd.merge(latest_export[good_images], grouped_subjects, on='iauname', how='inner')\n"
   ]
  },
  {
   "cell_type": "code",
   "execution_count": null,
   "metadata": {},
   "outputs": [],
   "source": [
    "len(final_df), len(latest_export[good_images])  # previously commented that will loose the five k 'bad metadata' galaxies from DR5 classic workflow, but I actually want to keep them?"
   ]
  },
  {
   "cell_type": "code",
   "execution_count": null,
   "metadata": {},
   "outputs": [],
   "source": [
    "final_df = pd.merge(final_df, maybe_calibration, on='iauname', how='inner')"
   ]
  },
  {
   "cell_type": "code",
   "execution_count": null,
   "metadata": {},
   "outputs": [],
   "source": [
    "len(final_df), len(latest_export[good_images])"
   ]
  },
  {
   "cell_type": "code",
   "execution_count": null,
   "metadata": {},
   "outputs": [],
   "source": [
    "final_df.columns.values"
   ]
  },
  {
   "cell_type": "code",
   "execution_count": null,
   "metadata": {},
   "outputs": [],
   "source": [
    "final_df['smooth-or-featured_total-votes'].sum()"
   ]
  },
  {
   "cell_type": "code",
   "execution_count": null,
   "metadata": {},
   "outputs": [],
   "source": []
  },
  {
   "cell_type": "code",
   "execution_count": null,
   "metadata": {},
   "outputs": [],
   "source": []
  },
  {
   "cell_type": "code",
   "execution_count": null,
   "metadata": {},
   "outputs": [],
   "source": [
    "# merge in NSA later in merge_catalogs"
   ]
  },
  {
   "cell_type": "code",
   "execution_count": null,
   "metadata": {},
   "outputs": [],
   "source": [
    "final_df.to_csv('current_final_dr5_result_without_metadata.csv', index=False)"
   ]
  },
  {
   "cell_type": "code",
   "execution_count": null,
   "metadata": {},
   "outputs": [],
   "source": [
    "final_df.columns.values"
   ]
  },
  {
   "cell_type": "code",
   "execution_count": null,
   "metadata": {},
   "outputs": [],
   "source": []
  },
  {
   "cell_type": "code",
   "execution_count": null,
   "metadata": {},
   "outputs": [],
   "source": []
  },
  {
   "cell_type": "code",
   "execution_count": null,
   "metadata": {},
   "outputs": [],
   "source": [
    "latest_subjects['counts'] = latest_subjects['subject_set_id']\n",
    "iauname_counts_by_set = latest_subjects.groupby('subject_set_id').agg({'counts': 'count'})\n",
    "iauname_counts_by_set.reset_index().sort_values('counts', ascending=False)"
   ]
  },
  {
   "cell_type": "code",
   "execution_count": null,
   "metadata": {},
   "outputs": [],
   "source": [
    "iauname_counts_by_set.columns.values"
   ]
  },
  {
   "cell_type": "code",
   "execution_count": null,
   "metadata": {},
   "outputs": [],
   "source": []
  }
 ],
 "metadata": {
  "kernelspec": {
   "display_name": "Python 3",
   "language": "python",
   "name": "python3"
  },
  "language_info": {
   "codemirror_mode": {
    "name": "ipython",
    "version": 3
   },
   "file_extension": ".py",
   "mimetype": "text/x-python",
   "name": "python",
   "nbconvert_exporter": "python",
   "pygments_lexer": "ipython3",
   "version": "3.7.6"
  }
 },
 "nbformat": 4,
 "nbformat_minor": 4
}
