{
 "cells": [
  {
   "cell_type": "code",
   "execution_count": 1,
   "metadata": {},
   "outputs": [],
   "source": [
    "import json\n",
    "\n",
    "import pandas as pd\n",
    "import numpy as np\n",
    "import matplotlib.pyplot as plt\n",
    "from astropy.table import Table"
   ]
  },
  {
   "cell_type": "code",
   "execution_count": 2,
   "metadata": {},
   "outputs": [],
   "source": [
    "\n",
    "# https://github.com/zooniverse/decals/blob/master/decals/a_download_decals/get_catalogs/selection_cuts.py#L28\n",
    "def apply_selection_cuts(input_catalog, snap_tolerance=1e-3):\n",
    "    \"\"\"\n",
    "    Select only galaxies with petrotheta > 3 and not within 1e-3 of bad measurement snap value\n",
    "    Args:\n",
    "        catalog (astropy.Table): Galaxy catalog including NSA information\n",
    "        snap_tolerance (float): Minimum deviation from bad measurement snap value allowed\n",
    "    Returns:\n",
    "        (astropy.Table) catalog of galaxies matching selection criteria above\n",
    "    \"\"\"\n",
    "\n",
    "    # Galaxies should be sufficiently extended across the sky\n",
    "    petrotheta_above_3 = input_catalog['petrotheta'] > 3\n",
    "\n",
    "    # NSA catalog’s petrotheta calculation sometimes fails to a ‘default’ value\n",
    "    # Any galaxies with petrotheta within 1e-3 of the snap_to value likely has the wrong size.\n",
    "    bad_petrotheta_value = 27.653702  # this 'magic' value can be confirmed by looking at petrotheta histograms\n",
    "    snap_lower_limit = bad_petrotheta_value - snap_tolerance\n",
    "    snap_upper_limit = bad_petrotheta_value + snap_tolerance\n",
    "\n",
    "    above_snap_lower_limit = input_catalog['petrotheta'] > snap_lower_limit\n",
    "    below_snap_upper_limit = input_catalog['petrotheta'] < snap_upper_limit\n",
    "    within_snap_window = above_snap_lower_limit & below_snap_upper_limit\n",
    "\n",
    "    selected_catalog = input_catalog[petrotheta_above_3 & ~ within_snap_window]\n",
    "    return selected_catalog\n"
   ]
  },
  {
   "cell_type": "code",
   "execution_count": null,
   "metadata": {},
   "outputs": [],
   "source": []
  },
  {
   "cell_type": "code",
   "execution_count": 3,
   "metadata": {},
   "outputs": [
    {
     "name": "stderr",
     "output_type": "stream",
     "text": [
      "/home/walml/anaconda3/envs/zoobot/lib/python3.7/site-packages/IPython/core/interactiveshell.py:3331: TableReplaceWarning: converted column 'background' from integer to float\n",
      "  exec(code_obj, self.user_global_ns, self.user_ns)\n",
      "/home/walml/anaconda3/envs/zoobot/lib/python3.7/site-packages/IPython/core/interactiveshell.py:3331: TableReplaceWarning: converted column 'bad_image' from integer to float\n",
      "  exec(code_obj, self.user_global_ns, self.user_ns)\n",
      "/home/walml/anaconda3/envs/zoobot/lib/python3.7/site-packages/IPython/core/interactiveshell.py:3331: TableReplaceWarning: converted column 'band' from integer to float\n",
      "  exec(code_obj, self.user_global_ns, self.user_ns)\n",
      "/home/walml/anaconda3/envs/zoobot/lib/python3.7/site-packages/IPython/core/interactiveshell.py:3331: TableReplaceWarning: converted column 'bands' from integer to float\n",
      "  exec(code_obj, self.user_global_ns, self.user_ns)\n",
      "/home/walml/anaconda3/envs/zoobot/lib/python3.7/site-packages/IPython/core/interactiveshell.py:3331: TableReplaceWarning: converted column 'camera' from integer to float\n",
      "  exec(code_obj, self.user_global_ns, self.user_ns)\n",
      "/home/walml/anaconda3/envs/zoobot/lib/python3.7/site-packages/IPython/core/interactiveshell.py:3331: TableReplaceWarning: converted column 'dr8objid' from integer to float\n",
      "  exec(code_obj, self.user_global_ns, self.user_ns)\n",
      "/home/walml/anaconda3/envs/zoobot/lib/python3.7/site-packages/IPython/core/interactiveshell.py:3331: TableReplaceWarning: converted column 'field' from integer to float\n",
      "  exec(code_obj, self.user_global_ns, self.user_ns)\n",
      "/home/walml/anaconda3/envs/zoobot/lib/python3.7/site-packages/IPython/core/interactiveshell.py:3331: TableReplaceWarning: converted column 'flux_radius1_I' from integer to float\n",
      "  exec(code_obj, self.user_global_ns, self.user_ns)\n",
      "/home/walml/anaconda3/envs/zoobot/lib/python3.7/site-packages/IPython/core/interactiveshell.py:3331: TableReplaceWarning: converted column 'half_rad_h' from integer to float\n",
      "  exec(code_obj, self.user_global_ns, self.user_ns)\n",
      "/home/walml/anaconda3/envs/zoobot/lib/python3.7/site-packages/IPython/core/interactiveshell.py:3331: TableReplaceWarning: converted column 'hubble_id' from integer to float\n",
      "  exec(code_obj, self.user_global_ns, self.user_ns)\n",
      "/home/walml/anaconda3/envs/zoobot/lib/python3.7/site-packages/IPython/core/interactiveshell.py:3331: TableReplaceWarning: converted column 'kron_radius_I' from integer to float\n",
      "  exec(code_obj, self.user_global_ns, self.user_ns)\n",
      "/home/walml/anaconda3/envs/zoobot/lib/python3.7/site-packages/IPython/core/interactiveshell.py:3331: TableReplaceWarning: converted column 'magnitude' from integer to float\n",
      "  exec(code_obj, self.user_global_ns, self.user_ns)\n",
      "/home/walml/anaconda3/envs/zoobot/lib/python3.7/site-packages/IPython/core/interactiveshell.py:3331: TableReplaceWarning: converted column 'mangaid' from integer to float\n",
      "  exec(code_obj, self.user_global_ns, self.user_ns)\n",
      "/home/walml/anaconda3/envs/zoobot/lib/python3.7/site-packages/IPython/core/interactiveshell.py:3331: TableReplaceWarning: converted column 'mass_log_msun' from integer to float\n",
      "  exec(code_obj, self.user_global_ns, self.user_ns)\n",
      "/home/walml/anaconda3/envs/zoobot/lib/python3.7/site-packages/IPython/core/interactiveshell.py:3331: TableReplaceWarning: converted column 'nsa_z' from integer to float\n",
      "  exec(code_obj, self.user_global_ns, self.user_ns)\n",
      "/home/walml/anaconda3/envs/zoobot/lib/python3.7/site-packages/IPython/core/interactiveshell.py:3331: TableReplaceWarning: converted column 'petro_r50_r' from integer to float\n",
      "  exec(code_obj, self.user_global_ns, self.user_ns)\n",
      "/home/walml/anaconda3/envs/zoobot/lib/python3.7/site-packages/IPython/core/interactiveshell.py:3331: TableReplaceWarning: converted column 'petro_r90_r' from integer to float\n",
      "  exec(code_obj, self.user_global_ns, self.user_ns)\n",
      "/home/walml/anaconda3/envs/zoobot/lib/python3.7/site-packages/IPython/core/interactiveshell.py:3331: TableReplaceWarning: converted column 'petrorad_flux' from integer to float\n",
      "  exec(code_obj, self.user_global_ns, self.user_ns)\n",
      "/home/walml/anaconda3/envs/zoobot/lib/python3.7/site-packages/IPython/core/interactiveshell.py:3331: TableReplaceWarning: converted column 'priority' from integer to float\n",
      "  exec(code_obj, self.user_global_ns, self.user_ns)\n",
      "/home/walml/anaconda3/envs/zoobot/lib/python3.7/site-packages/IPython/core/interactiveshell.py:3331: TableReplaceWarning: converted column 'radius_half' from integer to float\n",
      "  exec(code_obj, self.user_global_ns, self.user_ns)\n",
      "/home/walml/anaconda3/envs/zoobot/lib/python3.7/site-packages/IPython/core/interactiveshell.py:3331: TableReplaceWarning: converted column 'sdss_dr12_objid' from integer to float\n",
      "  exec(code_obj, self.user_global_ns, self.user_ns)\n",
      "/home/walml/anaconda3/envs/zoobot/lib/python3.7/site-packages/IPython/core/interactiveshell.py:3331: TableReplaceWarning: converted column 'sdss_dr7_id' from integer to float\n",
      "  exec(code_obj, self.user_global_ns, self.user_ns)\n",
      "/home/walml/anaconda3/envs/zoobot/lib/python3.7/site-packages/IPython/core/interactiveshell.py:3331: TableReplaceWarning: converted column 'sdss_dr8_id' from integer to float\n",
      "  exec(code_obj, self.user_global_ns, self.user_ns)\n",
      "/home/walml/anaconda3/envs/zoobot/lib/python3.7/site-packages/IPython/core/interactiveshell.py:3331: TableReplaceWarning: converted column 'sdss_id' from integer to float\n",
      "  exec(code_obj, self.user_global_ns, self.user_ns)\n",
      "/home/walml/anaconda3/envs/zoobot/lib/python3.7/site-packages/IPython/core/interactiveshell.py:3331: TableReplaceWarning: converted column 'sfr' from integer to float\n",
      "  exec(code_obj, self.user_global_ns, self.user_ns)\n",
      "/home/walml/anaconda3/envs/zoobot/lib/python3.7/site-packages/IPython/core/interactiveshell.py:3331: TableReplaceWarning: converted column 'simulation' from integer to float\n",
      "  exec(code_obj, self.user_global_ns, self.user_ns)\n",
      "/home/walml/anaconda3/envs/zoobot/lib/python3.7/site-packages/IPython/core/interactiveshell.py:3331: TableReplaceWarning: converted column 'snapshot' from integer to float\n",
      "  exec(code_obj, self.user_global_ns, self.user_ns)\n",
      "/home/walml/anaconda3/envs/zoobot/lib/python3.7/site-packages/IPython/core/interactiveshell.py:3331: TableReplaceWarning: converted column 'subdir' from integer to float\n",
      "  exec(code_obj, self.user_global_ns, self.user_ns)\n",
      "/home/walml/anaconda3/envs/zoobot/lib/python3.7/site-packages/IPython/core/interactiveshell.py:3331: TableReplaceWarning: converted column 'subhalo_id' from integer to float\n",
      "  exec(code_obj, self.user_global_ns, self.user_ns)\n"
     ]
    }
   ],
   "source": [
    "dr2_s = Table.read('/media/walml/beta/galaxy_zoo/decals/dr1_dr2/subjects/decals_dr1_and_dr2_with_subj_id.csv').to_pandas()\n",
    "# dr2_s = dr2_s[['dr8objid', 'sdss_id']]"
   ]
  },
  {
   "cell_type": "code",
   "execution_count": 4,
   "metadata": {},
   "outputs": [],
   "source": [
    "dr2_c = pd.read_csv('/media/walml/beta/galaxy_zoo/decals/gzreduction_ouroborous/working_dir/votes/dr2_aggregated_votes.csv')"
   ]
  },
  {
   "cell_type": "code",
   "execution_count": 5,
   "metadata": {},
   "outputs": [],
   "source": [
    "dr2_c_and_s = pd.merge(dr2_c, dr2_s, on='subject_id', how='inner')  # may drop some unclassified subjects, but all classifications must match\n",
    "assert len(dr2_c) == len(dr2_c_and_s)"
   ]
  },
  {
   "cell_type": "code",
   "execution_count": null,
   "metadata": {},
   "outputs": [],
   "source": []
  },
  {
   "cell_type": "code",
   "execution_count": null,
   "metadata": {},
   "outputs": [],
   "source": []
  },
  {
   "cell_type": "markdown",
   "metadata": {},
   "source": [
    "# which could be uploaded?"
   ]
  },
  {
   "cell_type": "code",
   "execution_count": 6,
   "metadata": {},
   "outputs": [
    {
     "data": {
      "text/plain": [
       "343128"
      ]
     },
     "execution_count": 6,
     "metadata": {},
     "output_type": "execute_result"
    }
   ],
   "source": [
    "to_upload = Table.read('/media/walml/beta/galaxy_zoo/decals/catalogs/dr5_nsa1_0_0_to_upload.fits').to_pandas()  # same table, now with png_ready/fits_ready/fits_filled cols added\n",
    "to_upload['iauname'] = to_upload['iauname'].str.decode('utf8')\n",
    "len(to_upload)"
   ]
  },
  {
   "cell_type": "code",
   "execution_count": 7,
   "metadata": {},
   "outputs": [],
   "source": [
    "to_upload['nsa_version'] = 'v1_0_0'\n",
    "to_upload['redshift'] = to_upload['z']"
   ]
  },
  {
   "cell_type": "code",
   "execution_count": 8,
   "metadata": {},
   "outputs": [],
   "source": [
    "# should be uploaded if not in DR1/2 and fits_filled"
   ]
  },
  {
   "cell_type": "code",
   "execution_count": 9,
   "metadata": {},
   "outputs": [
    {
     "data": {
      "text/plain": [
       "89220"
      ]
     },
     "execution_count": 9,
     "metadata": {},
     "output_type": "execute_result"
    }
   ],
   "source": [
    "to_upload['in_dr2'] = to_upload['iauname'].isin(dr2_c_and_s['iauname'])\n",
    "to_upload['in_dr2'].sum()"
   ]
  },
  {
   "cell_type": "code",
   "execution_count": 20,
   "metadata": {},
   "outputs": [
    {
     "data": {
      "text/plain": [
       "(-89221, 0, -0.0)"
      ]
     },
     "execution_count": 20,
     "metadata": {},
     "output_type": "execute_result"
    }
   ],
   "source": []
  },
  {
   "cell_type": "code",
   "execution_count": 13,
   "metadata": {},
   "outputs": [
    {
     "data": {
      "text/plain": [
       "220801"
      ]
     },
     "execution_count": 13,
     "metadata": {},
     "output_type": "execute_result"
    }
   ],
   "source": [
    "should_be_uploaded = to_upload[(to_upload['fits_filled'] & ~to_upload['in_dr2'])]  # important not!\n",
    "len(should_be_uploaded)"
   ]
  },
  {
   "cell_type": "code",
   "execution_count": 14,
   "metadata": {},
   "outputs": [
    {
     "name": "stderr",
     "output_type": "stream",
     "text": [
      "/home/walml/anaconda3/envs/zoobot/lib/python3.7/site-packages/ipykernel_launcher.py:1: SettingWithCopyWarning: \n",
      "A value is trying to be set on a copy of a slice from a DataFrame.\n",
      "Try using .loc[row_indexer,col_indexer] = value instead\n",
      "\n",
      "See the caveats in the documentation: https://pandas.pydata.org/pandas-docs/stable/user_guide/indexing.html#returning-a-view-versus-a-copy\n",
      "  \"\"\"Entry point for launching an IPython kernel.\n",
      "/home/walml/anaconda3/envs/zoobot/lib/python3.7/site-packages/ipykernel_launcher.py:2: SettingWithCopyWarning: \n",
      "A value is trying to be set on a copy of a slice from a DataFrame.\n",
      "Try using .loc[row_indexer,col_indexer] = value instead\n",
      "\n",
      "See the caveats in the documentation: https://pandas.pydata.org/pandas-docs/stable/user_guide/indexing.html#returning-a-view-versus-a-copy\n",
      "  \n"
     ]
    }
   ],
   "source": [
    "should_be_uploaded['png_loc'] = should_be_uploaded['png_loc'].apply(lambda x: x.decode('utf8'))\n",
    "should_be_uploaded['relative_png_loc'] = should_be_uploaded['png_loc'].apply(lambda x: x.replace('/Volumes/EXTERNAL/decals/png/dr5/', ''))"
   ]
  },
  {
   "cell_type": "code",
   "execution_count": 17,
   "metadata": {},
   "outputs": [],
   "source": [
    "with_cuts = apply_selection_cuts(should_be_uploaded)\n",
    "assert len(with_cuts) == len(should_be_uploaded)  # I have already applied these cuts in the creation of to_upload.fits"
   ]
  },
  {
   "cell_type": "code",
   "execution_count": 13,
   "metadata": {},
   "outputs": [],
   "source": [
    "should_be_uploaded.to_csv('should_be_uploaded.csv', index=False)"
   ]
  },
  {
   "cell_type": "markdown",
   "metadata": {},
   "source": [
    "## what's been uploaded?"
   ]
  },
  {
   "cell_type": "code",
   "execution_count": 14,
   "metadata": {},
   "outputs": [
    {
     "name": "stderr",
     "output_type": "stream",
     "text": [
      "/home/walml/anaconda3/envs/zoobot/lib/python3.7/site-packages/IPython/core/interactiveshell.py:3063: DtypeWarning: Columns (7,8) have mixed types.Specify dtype option on import or set low_memory=False.\n",
      "  interactivity=interactivity, compiler=compiler, result=result)\n"
     ]
    },
    {
     "data": {
      "text/plain": [
       "788491"
      ]
     },
     "execution_count": 14,
     "metadata": {},
     "output_type": "execute_result"
    }
   ],
   "source": [
    "\n",
    "# latest_subjects = pd.read_csv('/home/walml/repos/gz-panoptes-reduction/data/latest_subjects_export.csv')\n",
    "latest_subjects = pd.read_csv('/media/walml/beta/misc_downloads/galaxy-zoo-subjects.csv')\n",
    "len(latest_subjects)"
   ]
  },
  {
   "cell_type": "code",
   "execution_count": 15,
   "metadata": {},
   "outputs": [
    {
     "data": {
      "text/plain": [
       "436559"
      ]
     },
     "execution_count": 15,
     "metadata": {},
     "output_type": "execute_result"
    }
   ],
   "source": [
    "latest_subjects = latest_subjects[latest_subjects['workflow_id'].isin([6122.0, 10582.0, 10581.0])]  # decals public workflows\n",
    "# latest_subjects = latest_subjects[latest_subjects['workflow_id'].isin([10582.0])]  # decals enhanced\n",
    "latest_subjects = latest_subjects[~latest_subjects['subject_set_id'].isin([77652])]  # remove eagle subjects\n",
    "len(latest_subjects)"
   ]
  },
  {
   "cell_type": "code",
   "execution_count": 16,
   "metadata": {},
   "outputs": [
    {
     "data": {
      "text/html": [
       "<div>\n",
       "<style scoped>\n",
       "    .dataframe tbody tr th:only-of-type {\n",
       "        vertical-align: middle;\n",
       "    }\n",
       "\n",
       "    .dataframe tbody tr th {\n",
       "        vertical-align: top;\n",
       "    }\n",
       "\n",
       "    .dataframe thead th {\n",
       "        text-align: right;\n",
       "    }\n",
       "</style>\n",
       "<table border=\"1\" class=\"dataframe\">\n",
       "  <thead>\n",
       "    <tr style=\"text-align: right;\">\n",
       "      <th></th>\n",
       "      <th>subject_id</th>\n",
       "      <th>project_id</th>\n",
       "      <th>workflow_id</th>\n",
       "      <th>subject_set_id</th>\n",
       "      <th>metadata</th>\n",
       "      <th>locations</th>\n",
       "      <th>classifications_count</th>\n",
       "      <th>retired_at</th>\n",
       "      <th>retirement_reason</th>\n",
       "      <th>created_at</th>\n",
       "      <th>updated_at</th>\n",
       "    </tr>\n",
       "  </thead>\n",
       "  <tbody>\n",
       "    <tr>\n",
       "      <th>2250</th>\n",
       "      <td>20283538</td>\n",
       "      <td>5733</td>\n",
       "      <td>6122.0</td>\n",
       "      <td>19832</td>\n",
       "      <td>{\"!ra\":116.4483378146343,\"!dec\":25.86208586745...</td>\n",
       "      <td>{\"0\":\"https://panoptes-uploads.zooniverse.org/...</td>\n",
       "      <td>40</td>\n",
       "      <td>2018-03-20 22:25:30 UTC</td>\n",
       "      <td>classification_count</td>\n",
       "      <td>2018-03-15 18:17:16 UTC</td>\n",
       "      <td>2018-03-15 18:17:16 UTC</td>\n",
       "    </tr>\n",
       "    <tr>\n",
       "      <th>2252</th>\n",
       "      <td>20283539</td>\n",
       "      <td>5733</td>\n",
       "      <td>6122.0</td>\n",
       "      <td>19832</td>\n",
       "      <td>{\"!ra\":323.31862288433615,\"!dec\":11.6900743271...</td>\n",
       "      <td>{\"0\":\"https://panoptes-uploads.zooniverse.org/...</td>\n",
       "      <td>40</td>\n",
       "      <td>2018-03-19 19:51:28 UTC</td>\n",
       "      <td>classification_count</td>\n",
       "      <td>2018-03-15 18:17:16 UTC</td>\n",
       "      <td>2018-03-15 18:17:16 UTC</td>\n",
       "    </tr>\n",
       "    <tr>\n",
       "      <th>2254</th>\n",
       "      <td>20283540</td>\n",
       "      <td>5733</td>\n",
       "      <td>6122.0</td>\n",
       "      <td>19832</td>\n",
       "      <td>{\"!ra\":321.47404187434915,\"!dec\":0.41605876776...</td>\n",
       "      <td>{\"0\":\"https://panoptes-uploads.zooniverse.org/...</td>\n",
       "      <td>40</td>\n",
       "      <td>2018-03-20 15:39:15 UTC</td>\n",
       "      <td>classification_count</td>\n",
       "      <td>2018-03-15 18:17:16 UTC</td>\n",
       "      <td>2018-03-15 18:17:16 UTC</td>\n",
       "    </tr>\n",
       "    <tr>\n",
       "      <th>2256</th>\n",
       "      <td>20283541</td>\n",
       "      <td>5733</td>\n",
       "      <td>6122.0</td>\n",
       "      <td>19832</td>\n",
       "      <td>{\"!ra\":337.0527522979068,\"!dec\":0.543208463333...</td>\n",
       "      <td>{\"0\":\"https://panoptes-uploads.zooniverse.org/...</td>\n",
       "      <td>40</td>\n",
       "      <td>2018-03-20 21:13:41 UTC</td>\n",
       "      <td>classification_count</td>\n",
       "      <td>2018-03-15 18:17:16 UTC</td>\n",
       "      <td>2018-03-15 18:17:16 UTC</td>\n",
       "    </tr>\n",
       "    <tr>\n",
       "      <th>2258</th>\n",
       "      <td>20283542</td>\n",
       "      <td>5733</td>\n",
       "      <td>6122.0</td>\n",
       "      <td>19832</td>\n",
       "      <td>{\"!ra\":119.21033791857249,\"!dec\":28.3758651318...</td>\n",
       "      <td>{\"0\":\"https://panoptes-uploads.zooniverse.org/...</td>\n",
       "      <td>40</td>\n",
       "      <td>2018-03-20 16:02:39 UTC</td>\n",
       "      <td>classification_count</td>\n",
       "      <td>2018-03-15 18:17:16 UTC</td>\n",
       "      <td>2018-03-15 18:17:16 UTC</td>\n",
       "    </tr>\n",
       "    <tr>\n",
       "      <th>...</th>\n",
       "      <td>...</td>\n",
       "      <td>...</td>\n",
       "      <td>...</td>\n",
       "      <td>...</td>\n",
       "      <td>...</td>\n",
       "      <td>...</td>\n",
       "      <td>...</td>\n",
       "      <td>...</td>\n",
       "      <td>...</td>\n",
       "      <td>...</td>\n",
       "      <td>...</td>\n",
       "    </tr>\n",
       "    <tr>\n",
       "      <th>772820</th>\n",
       "      <td>47217984</td>\n",
       "      <td>5733</td>\n",
       "      <td>10582.0</td>\n",
       "      <td>85299</td>\n",
       "      <td>{\"!ra\":170.01910635775005,\"!dec\":23.9484406442...</td>\n",
       "      <td>{\"0\":\"https://panoptes-uploads.zooniverse.org/...</td>\n",
       "      <td>12</td>\n",
       "      <td>NaN</td>\n",
       "      <td>NaN</td>\n",
       "      <td>2020-06-22 02:24:25 UTC</td>\n",
       "      <td>2020-06-22 02:24:25 UTC</td>\n",
       "    </tr>\n",
       "    <tr>\n",
       "      <th>772821</th>\n",
       "      <td>47217985</td>\n",
       "      <td>5733</td>\n",
       "      <td>10582.0</td>\n",
       "      <td>85299</td>\n",
       "      <td>{\"!ra\":215.2050027217024,\"!dec\":22.31331097960...</td>\n",
       "      <td>{\"0\":\"https://panoptes-uploads.zooniverse.org/...</td>\n",
       "      <td>5</td>\n",
       "      <td>NaN</td>\n",
       "      <td>NaN</td>\n",
       "      <td>2020-06-22 02:24:26 UTC</td>\n",
       "      <td>2020-06-22 02:24:26 UTC</td>\n",
       "    </tr>\n",
       "    <tr>\n",
       "      <th>772822</th>\n",
       "      <td>47217986</td>\n",
       "      <td>5733</td>\n",
       "      <td>10582.0</td>\n",
       "      <td>85299</td>\n",
       "      <td>{\"!ra\":233.3496977796491,\"!dec\":18.84022338841...</td>\n",
       "      <td>{\"0\":\"https://panoptes-uploads.zooniverse.org/...</td>\n",
       "      <td>6</td>\n",
       "      <td>NaN</td>\n",
       "      <td>NaN</td>\n",
       "      <td>2020-06-22 02:24:27 UTC</td>\n",
       "      <td>2020-06-22 02:24:27 UTC</td>\n",
       "    </tr>\n",
       "    <tr>\n",
       "      <th>772823</th>\n",
       "      <td>47217987</td>\n",
       "      <td>5733</td>\n",
       "      <td>10582.0</td>\n",
       "      <td>85299</td>\n",
       "      <td>{\"!ra\":131.76375574276742,\"!dec\":15.2477306104...</td>\n",
       "      <td>{\"0\":\"https://panoptes-uploads.zooniverse.org/...</td>\n",
       "      <td>9</td>\n",
       "      <td>NaN</td>\n",
       "      <td>NaN</td>\n",
       "      <td>2020-06-22 02:24:30 UTC</td>\n",
       "      <td>2020-06-22 02:24:30 UTC</td>\n",
       "    </tr>\n",
       "    <tr>\n",
       "      <th>772824</th>\n",
       "      <td>47217988</td>\n",
       "      <td>5733</td>\n",
       "      <td>10582.0</td>\n",
       "      <td>85299</td>\n",
       "      <td>{\"!ra\":128.13047164860077,\"!dec\":11.8128988594...</td>\n",
       "      <td>{\"0\":\"https://panoptes-uploads.zooniverse.org/...</td>\n",
       "      <td>9</td>\n",
       "      <td>NaN</td>\n",
       "      <td>NaN</td>\n",
       "      <td>2020-06-22 02:24:31 UTC</td>\n",
       "      <td>2020-06-22 02:24:31 UTC</td>\n",
       "    </tr>\n",
       "  </tbody>\n",
       "</table>\n",
       "<p>436559 rows × 11 columns</p>\n",
       "</div>"
      ],
      "text/plain": [
       "        subject_id  project_id  workflow_id  subject_set_id  \\\n",
       "2250      20283538        5733       6122.0           19832   \n",
       "2252      20283539        5733       6122.0           19832   \n",
       "2254      20283540        5733       6122.0           19832   \n",
       "2256      20283541        5733       6122.0           19832   \n",
       "2258      20283542        5733       6122.0           19832   \n",
       "...            ...         ...          ...             ...   \n",
       "772820    47217984        5733      10582.0           85299   \n",
       "772821    47217985        5733      10582.0           85299   \n",
       "772822    47217986        5733      10582.0           85299   \n",
       "772823    47217987        5733      10582.0           85299   \n",
       "772824    47217988        5733      10582.0           85299   \n",
       "\n",
       "                                                 metadata  \\\n",
       "2250    {\"!ra\":116.4483378146343,\"!dec\":25.86208586745...   \n",
       "2252    {\"!ra\":323.31862288433615,\"!dec\":11.6900743271...   \n",
       "2254    {\"!ra\":321.47404187434915,\"!dec\":0.41605876776...   \n",
       "2256    {\"!ra\":337.0527522979068,\"!dec\":0.543208463333...   \n",
       "2258    {\"!ra\":119.21033791857249,\"!dec\":28.3758651318...   \n",
       "...                                                   ...   \n",
       "772820  {\"!ra\":170.01910635775005,\"!dec\":23.9484406442...   \n",
       "772821  {\"!ra\":215.2050027217024,\"!dec\":22.31331097960...   \n",
       "772822  {\"!ra\":233.3496977796491,\"!dec\":18.84022338841...   \n",
       "772823  {\"!ra\":131.76375574276742,\"!dec\":15.2477306104...   \n",
       "772824  {\"!ra\":128.13047164860077,\"!dec\":11.8128988594...   \n",
       "\n",
       "                                                locations  \\\n",
       "2250    {\"0\":\"https://panoptes-uploads.zooniverse.org/...   \n",
       "2252    {\"0\":\"https://panoptes-uploads.zooniverse.org/...   \n",
       "2254    {\"0\":\"https://panoptes-uploads.zooniverse.org/...   \n",
       "2256    {\"0\":\"https://panoptes-uploads.zooniverse.org/...   \n",
       "2258    {\"0\":\"https://panoptes-uploads.zooniverse.org/...   \n",
       "...                                                   ...   \n",
       "772820  {\"0\":\"https://panoptes-uploads.zooniverse.org/...   \n",
       "772821  {\"0\":\"https://panoptes-uploads.zooniverse.org/...   \n",
       "772822  {\"0\":\"https://panoptes-uploads.zooniverse.org/...   \n",
       "772823  {\"0\":\"https://panoptes-uploads.zooniverse.org/...   \n",
       "772824  {\"0\":\"https://panoptes-uploads.zooniverse.org/...   \n",
       "\n",
       "        classifications_count               retired_at     retirement_reason  \\\n",
       "2250                       40  2018-03-20 22:25:30 UTC  classification_count   \n",
       "2252                       40  2018-03-19 19:51:28 UTC  classification_count   \n",
       "2254                       40  2018-03-20 15:39:15 UTC  classification_count   \n",
       "2256                       40  2018-03-20 21:13:41 UTC  classification_count   \n",
       "2258                       40  2018-03-20 16:02:39 UTC  classification_count   \n",
       "...                       ...                      ...                   ...   \n",
       "772820                     12                      NaN                   NaN   \n",
       "772821                      5                      NaN                   NaN   \n",
       "772822                      6                      NaN                   NaN   \n",
       "772823                      9                      NaN                   NaN   \n",
       "772824                      9                      NaN                   NaN   \n",
       "\n",
       "                     created_at               updated_at  \n",
       "2250    2018-03-15 18:17:16 UTC  2018-03-15 18:17:16 UTC  \n",
       "2252    2018-03-15 18:17:16 UTC  2018-03-15 18:17:16 UTC  \n",
       "2254    2018-03-15 18:17:16 UTC  2018-03-15 18:17:16 UTC  \n",
       "2256    2018-03-15 18:17:16 UTC  2018-03-15 18:17:16 UTC  \n",
       "2258    2018-03-15 18:17:16 UTC  2018-03-15 18:17:16 UTC  \n",
       "...                         ...                      ...  \n",
       "772820  2020-06-22 02:24:25 UTC  2020-06-22 02:24:25 UTC  \n",
       "772821  2020-06-22 02:24:26 UTC  2020-06-22 02:24:26 UTC  \n",
       "772822  2020-06-22 02:24:27 UTC  2020-06-22 02:24:27 UTC  \n",
       "772823  2020-06-22 02:24:30 UTC  2020-06-22 02:24:30 UTC  \n",
       "772824  2020-06-22 02:24:31 UTC  2020-06-22 02:24:31 UTC  \n",
       "\n",
       "[436559 rows x 11 columns]"
      ]
     },
     "execution_count": 16,
     "metadata": {},
     "output_type": "execute_result"
    }
   ],
   "source": [
    "latest_subjects"
   ]
  },
  {
   "cell_type": "code",
   "execution_count": 17,
   "metadata": {},
   "outputs": [],
   "source": [
    "latest_subjects['metadata'] = latest_subjects['metadata'].apply(json.loads)"
   ]
  },
  {
   "cell_type": "code",
   "execution_count": 18,
   "metadata": {},
   "outputs": [],
   "source": [
    "def get_iauname(metadata):\n",
    "    possible_keys = ['iauname', '!iauname', 'IAUNAME', '!IAUNAME']\n",
    "    for key in possible_keys:\n",
    "        if key in metadata.keys():\n",
    "            return metadata[key]\n",
    "    return np.nan"
   ]
  },
  {
   "cell_type": "code",
   "execution_count": 19,
   "metadata": {},
   "outputs": [],
   "source": [
    "latest_subjects['iauname'] = latest_subjects['metadata'].apply(get_iauname)"
   ]
  },
  {
   "cell_type": "code",
   "execution_count": 20,
   "metadata": {},
   "outputs": [
    {
     "data": {
      "text/plain": [
       "0"
      ]
     },
     "execution_count": 20,
     "metadata": {},
     "output_type": "execute_result"
    }
   ],
   "source": [
    "pd.isna(latest_subjects['iauname']).sum()"
   ]
  },
  {
   "cell_type": "code",
   "execution_count": 21,
   "metadata": {},
   "outputs": [
    {
     "data": {
      "text/plain": [
       "11456"
      ]
     },
     "execution_count": 21,
     "metadata": {},
     "output_type": "execute_result"
    }
   ],
   "source": [
    "missing_from_subjects = should_be_uploaded[~should_be_uploaded['iauname'].isin(latest_subjects['iauname'])]  # should be uploaded, but is not in subjects export\n",
    "len(missing_from_subjects)  # exported right after classifications"
   ]
  },
  {
   "cell_type": "code",
   "execution_count": 22,
   "metadata": {},
   "outputs": [
    {
     "data": {
      "text/html": [
       "<div>\n",
       "<style scoped>\n",
       "    .dataframe tbody tr th:only-of-type {\n",
       "        vertical-align: middle;\n",
       "    }\n",
       "\n",
       "    .dataframe tbody tr th {\n",
       "        vertical-align: top;\n",
       "    }\n",
       "\n",
       "    .dataframe thead th {\n",
       "        text-align: right;\n",
       "    }\n",
       "</style>\n",
       "<table border=\"1\" class=\"dataframe\">\n",
       "  <thead>\n",
       "    <tr style=\"text-align: right;\">\n",
       "      <th></th>\n",
       "      <th>iauname</th>\n",
       "      <th>nsa_id</th>\n",
       "      <th>ra</th>\n",
       "      <th>dec</th>\n",
       "      <th>petrotheta</th>\n",
       "      <th>petroth50</th>\n",
       "      <th>petroth90</th>\n",
       "      <th>z</th>\n",
       "      <th>fits_loc</th>\n",
       "      <th>png_loc</th>\n",
       "      <th>fits_ready</th>\n",
       "      <th>fits_filled</th>\n",
       "      <th>png_ready</th>\n",
       "      <th>nsa_version</th>\n",
       "      <th>redshift</th>\n",
       "      <th>in_dr2</th>\n",
       "      <th>relative_png_loc</th>\n",
       "    </tr>\n",
       "  </thead>\n",
       "  <tbody>\n",
       "    <tr>\n",
       "      <th>20896</th>\n",
       "      <td>J215202.24+010834.5</td>\n",
       "      <td>27953</td>\n",
       "      <td>328.009357</td>\n",
       "      <td>1.142945</td>\n",
       "      <td>5.566817</td>\n",
       "      <td>2.379937</td>\n",
       "      <td>6.013899</td>\n",
       "      <td>0.115884</td>\n",
       "      <td>b'/Volumes/EXTERNAL/decals/fits/dr5/J215/J2152...</td>\n",
       "      <td>/Volumes/EXTERNAL/decals/png/dr5/J215/J215202....</td>\n",
       "      <td>True</td>\n",
       "      <td>True</td>\n",
       "      <td>True</td>\n",
       "      <td>v1_0_0</td>\n",
       "      <td>0.115884</td>\n",
       "      <td>False</td>\n",
       "      <td>J215/J215202.24+010834.5.png</td>\n",
       "    </tr>\n",
       "    <tr>\n",
       "      <th>22651</th>\n",
       "      <td>J224938.18+002508.5</td>\n",
       "      <td>30060</td>\n",
       "      <td>342.409052</td>\n",
       "      <td>0.419040</td>\n",
       "      <td>6.951218</td>\n",
       "      <td>3.434981</td>\n",
       "      <td>7.767619</td>\n",
       "      <td>0.101616</td>\n",
       "      <td>b'/Volumes/EXTERNAL/decals/fits/dr5/J224/J2249...</td>\n",
       "      <td>/Volumes/EXTERNAL/decals/png/dr5/J224/J224938....</td>\n",
       "      <td>True</td>\n",
       "      <td>True</td>\n",
       "      <td>True</td>\n",
       "      <td>v1_0_0</td>\n",
       "      <td>0.101616</td>\n",
       "      <td>False</td>\n",
       "      <td>J224/J224938.18+002508.5.png</td>\n",
       "    </tr>\n",
       "    <tr>\n",
       "      <th>22659</th>\n",
       "      <td>J225759.79-005519.6</td>\n",
       "      <td>30069</td>\n",
       "      <td>344.499138</td>\n",
       "      <td>-0.922141</td>\n",
       "      <td>5.798562</td>\n",
       "      <td>2.364125</td>\n",
       "      <td>7.086283</td>\n",
       "      <td>0.045398</td>\n",
       "      <td>b'/Volumes/EXTERNAL/decals/fits/dr5/J225/J2257...</td>\n",
       "      <td>/Volumes/EXTERNAL/decals/png/dr5/J225/J225759....</td>\n",
       "      <td>True</td>\n",
       "      <td>True</td>\n",
       "      <td>True</td>\n",
       "      <td>v1_0_0</td>\n",
       "      <td>0.045398</td>\n",
       "      <td>False</td>\n",
       "      <td>J225/J225759.79-005519.6.png</td>\n",
       "    </tr>\n",
       "    <tr>\n",
       "      <th>22662</th>\n",
       "      <td>J225804.46-002744.2</td>\n",
       "      <td>30072</td>\n",
       "      <td>344.518524</td>\n",
       "      <td>-0.462451</td>\n",
       "      <td>18.527157</td>\n",
       "      <td>8.654810</td>\n",
       "      <td>27.184856</td>\n",
       "      <td>0.016207</td>\n",
       "      <td>b'/Volumes/EXTERNAL/decals/fits/dr5/J225/J2258...</td>\n",
       "      <td>/Volumes/EXTERNAL/decals/png/dr5/J225/J225804....</td>\n",
       "      <td>True</td>\n",
       "      <td>True</td>\n",
       "      <td>True</td>\n",
       "      <td>v1_0_0</td>\n",
       "      <td>0.016207</td>\n",
       "      <td>False</td>\n",
       "      <td>J225/J225804.46-002744.2.png</td>\n",
       "    </tr>\n",
       "    <tr>\n",
       "      <th>22680</th>\n",
       "      <td>J225521.47-005651.9</td>\n",
       "      <td>30093</td>\n",
       "      <td>343.839469</td>\n",
       "      <td>-0.947811</td>\n",
       "      <td>12.797614</td>\n",
       "      <td>5.273067</td>\n",
       "      <td>17.658121</td>\n",
       "      <td>0.109974</td>\n",
       "      <td>b'/Volumes/EXTERNAL/decals/fits/dr5/J225/J2255...</td>\n",
       "      <td>/Volumes/EXTERNAL/decals/png/dr5/J225/J225521....</td>\n",
       "      <td>True</td>\n",
       "      <td>True</td>\n",
       "      <td>True</td>\n",
       "      <td>v1_0_0</td>\n",
       "      <td>0.109974</td>\n",
       "      <td>False</td>\n",
       "      <td>J225/J225521.47-005651.9.png</td>\n",
       "    </tr>\n",
       "    <tr>\n",
       "      <th>...</th>\n",
       "      <td>...</td>\n",
       "      <td>...</td>\n",
       "      <td>...</td>\n",
       "      <td>...</td>\n",
       "      <td>...</td>\n",
       "      <td>...</td>\n",
       "      <td>...</td>\n",
       "      <td>...</td>\n",
       "      <td>...</td>\n",
       "      <td>...</td>\n",
       "      <td>...</td>\n",
       "      <td>...</td>\n",
       "      <td>...</td>\n",
       "      <td>...</td>\n",
       "      <td>...</td>\n",
       "      <td>...</td>\n",
       "      <td>...</td>\n",
       "    </tr>\n",
       "    <tr>\n",
       "      <th>343036</th>\n",
       "      <td>J135947.14+014021.8</td>\n",
       "      <td>698357</td>\n",
       "      <td>209.946212</td>\n",
       "      <td>1.672686</td>\n",
       "      <td>6.752739</td>\n",
       "      <td>3.951229</td>\n",
       "      <td>11.879787</td>\n",
       "      <td>0.139400</td>\n",
       "      <td>b'/Volumes/EXTERNAL/decals/fits/dr5/J135/J1359...</td>\n",
       "      <td>/Volumes/EXTERNAL/decals/png/dr5/J135/J135947....</td>\n",
       "      <td>True</td>\n",
       "      <td>True</td>\n",
       "      <td>True</td>\n",
       "      <td>v1_0_0</td>\n",
       "      <td>0.139400</td>\n",
       "      <td>False</td>\n",
       "      <td>J135/J135947.14+014021.8.png</td>\n",
       "    </tr>\n",
       "    <tr>\n",
       "      <th>343060</th>\n",
       "      <td>J142413.43+014628.7</td>\n",
       "      <td>698407</td>\n",
       "      <td>216.059344</td>\n",
       "      <td>1.780008</td>\n",
       "      <td>57.861927</td>\n",
       "      <td>21.499472</td>\n",
       "      <td>52.799202</td>\n",
       "      <td>0.111200</td>\n",
       "      <td>b'/Volumes/EXTERNAL/decals/fits/dr5/J142/J1424...</td>\n",
       "      <td>/Volumes/EXTERNAL/decals/png/dr5/J142/J142413....</td>\n",
       "      <td>True</td>\n",
       "      <td>True</td>\n",
       "      <td>True</td>\n",
       "      <td>v1_0_0</td>\n",
       "      <td>0.111200</td>\n",
       "      <td>False</td>\n",
       "      <td>J142/J142413.43+014628.7.png</td>\n",
       "    </tr>\n",
       "    <tr>\n",
       "      <th>343073</th>\n",
       "      <td>J142431.49-003142.4</td>\n",
       "      <td>698428</td>\n",
       "      <td>216.131200</td>\n",
       "      <td>-0.528175</td>\n",
       "      <td>5.513321</td>\n",
       "      <td>2.764185</td>\n",
       "      <td>5.407866</td>\n",
       "      <td>0.072400</td>\n",
       "      <td>b'/Volumes/EXTERNAL/decals/fits/dr5/J142/J1424...</td>\n",
       "      <td>/Volumes/EXTERNAL/decals/png/dr5/J142/J142431....</td>\n",
       "      <td>True</td>\n",
       "      <td>True</td>\n",
       "      <td>True</td>\n",
       "      <td>v1_0_0</td>\n",
       "      <td>0.072400</td>\n",
       "      <td>False</td>\n",
       "      <td>J142/J142431.49-003142.4.png</td>\n",
       "    </tr>\n",
       "    <tr>\n",
       "      <th>343107</th>\n",
       "      <td>J143619.83-010748.1</td>\n",
       "      <td>698522</td>\n",
       "      <td>219.083613</td>\n",
       "      <td>-1.130237</td>\n",
       "      <td>18.740425</td>\n",
       "      <td>7.763114</td>\n",
       "      <td>25.235826</td>\n",
       "      <td>0.105971</td>\n",
       "      <td>b'/Volumes/EXTERNAL/decals/fits/dr5/J143/J1436...</td>\n",
       "      <td>/Volumes/EXTERNAL/decals/png/dr5/J143/J143619....</td>\n",
       "      <td>True</td>\n",
       "      <td>True</td>\n",
       "      <td>True</td>\n",
       "      <td>v1_0_0</td>\n",
       "      <td>0.105971</td>\n",
       "      <td>False</td>\n",
       "      <td>J143/J143619.83-010748.1.png</td>\n",
       "    </tr>\n",
       "    <tr>\n",
       "      <th>343124</th>\n",
       "      <td>J235101.08-100042.7</td>\n",
       "      <td>698661</td>\n",
       "      <td>357.755712</td>\n",
       "      <td>-10.010851</td>\n",
       "      <td>17.017670</td>\n",
       "      <td>7.430995</td>\n",
       "      <td>19.937094</td>\n",
       "      <td>0.074300</td>\n",
       "      <td>b'/Volumes/EXTERNAL/decals/fits/dr5/J235/J2351...</td>\n",
       "      <td>/Volumes/EXTERNAL/decals/png/dr5/J235/J235101....</td>\n",
       "      <td>True</td>\n",
       "      <td>True</td>\n",
       "      <td>True</td>\n",
       "      <td>v1_0_0</td>\n",
       "      <td>0.074300</td>\n",
       "      <td>False</td>\n",
       "      <td>J235/J235101.08-100042.7.png</td>\n",
       "    </tr>\n",
       "  </tbody>\n",
       "</table>\n",
       "<p>11456 rows × 17 columns</p>\n",
       "</div>"
      ],
      "text/plain": [
       "                    iauname  nsa_id          ra        dec  petrotheta  \\\n",
       "20896   J215202.24+010834.5   27953  328.009357   1.142945    5.566817   \n",
       "22651   J224938.18+002508.5   30060  342.409052   0.419040    6.951218   \n",
       "22659   J225759.79-005519.6   30069  344.499138  -0.922141    5.798562   \n",
       "22662   J225804.46-002744.2   30072  344.518524  -0.462451   18.527157   \n",
       "22680   J225521.47-005651.9   30093  343.839469  -0.947811   12.797614   \n",
       "...                     ...     ...         ...        ...         ...   \n",
       "343036  J135947.14+014021.8  698357  209.946212   1.672686    6.752739   \n",
       "343060  J142413.43+014628.7  698407  216.059344   1.780008   57.861927   \n",
       "343073  J142431.49-003142.4  698428  216.131200  -0.528175    5.513321   \n",
       "343107  J143619.83-010748.1  698522  219.083613  -1.130237   18.740425   \n",
       "343124  J235101.08-100042.7  698661  357.755712 -10.010851   17.017670   \n",
       "\n",
       "        petroth50  petroth90         z  \\\n",
       "20896    2.379937   6.013899  0.115884   \n",
       "22651    3.434981   7.767619  0.101616   \n",
       "22659    2.364125   7.086283  0.045398   \n",
       "22662    8.654810  27.184856  0.016207   \n",
       "22680    5.273067  17.658121  0.109974   \n",
       "...           ...        ...       ...   \n",
       "343036   3.951229  11.879787  0.139400   \n",
       "343060  21.499472  52.799202  0.111200   \n",
       "343073   2.764185   5.407866  0.072400   \n",
       "343107   7.763114  25.235826  0.105971   \n",
       "343124   7.430995  19.937094  0.074300   \n",
       "\n",
       "                                                 fits_loc  \\\n",
       "20896   b'/Volumes/EXTERNAL/decals/fits/dr5/J215/J2152...   \n",
       "22651   b'/Volumes/EXTERNAL/decals/fits/dr5/J224/J2249...   \n",
       "22659   b'/Volumes/EXTERNAL/decals/fits/dr5/J225/J2257...   \n",
       "22662   b'/Volumes/EXTERNAL/decals/fits/dr5/J225/J2258...   \n",
       "22680   b'/Volumes/EXTERNAL/decals/fits/dr5/J225/J2255...   \n",
       "...                                                   ...   \n",
       "343036  b'/Volumes/EXTERNAL/decals/fits/dr5/J135/J1359...   \n",
       "343060  b'/Volumes/EXTERNAL/decals/fits/dr5/J142/J1424...   \n",
       "343073  b'/Volumes/EXTERNAL/decals/fits/dr5/J142/J1424...   \n",
       "343107  b'/Volumes/EXTERNAL/decals/fits/dr5/J143/J1436...   \n",
       "343124  b'/Volumes/EXTERNAL/decals/fits/dr5/J235/J2351...   \n",
       "\n",
       "                                                  png_loc  fits_ready  \\\n",
       "20896   /Volumes/EXTERNAL/decals/png/dr5/J215/J215202....        True   \n",
       "22651   /Volumes/EXTERNAL/decals/png/dr5/J224/J224938....        True   \n",
       "22659   /Volumes/EXTERNAL/decals/png/dr5/J225/J225759....        True   \n",
       "22662   /Volumes/EXTERNAL/decals/png/dr5/J225/J225804....        True   \n",
       "22680   /Volumes/EXTERNAL/decals/png/dr5/J225/J225521....        True   \n",
       "...                                                   ...         ...   \n",
       "343036  /Volumes/EXTERNAL/decals/png/dr5/J135/J135947....        True   \n",
       "343060  /Volumes/EXTERNAL/decals/png/dr5/J142/J142413....        True   \n",
       "343073  /Volumes/EXTERNAL/decals/png/dr5/J142/J142431....        True   \n",
       "343107  /Volumes/EXTERNAL/decals/png/dr5/J143/J143619....        True   \n",
       "343124  /Volumes/EXTERNAL/decals/png/dr5/J235/J235101....        True   \n",
       "\n",
       "        fits_filled  png_ready nsa_version  redshift  in_dr2  \\\n",
       "20896          True       True      v1_0_0  0.115884   False   \n",
       "22651          True       True      v1_0_0  0.101616   False   \n",
       "22659          True       True      v1_0_0  0.045398   False   \n",
       "22662          True       True      v1_0_0  0.016207   False   \n",
       "22680          True       True      v1_0_0  0.109974   False   \n",
       "...             ...        ...         ...       ...     ...   \n",
       "343036         True       True      v1_0_0  0.139400   False   \n",
       "343060         True       True      v1_0_0  0.111200   False   \n",
       "343073         True       True      v1_0_0  0.072400   False   \n",
       "343107         True       True      v1_0_0  0.105971   False   \n",
       "343124         True       True      v1_0_0  0.074300   False   \n",
       "\n",
       "                    relative_png_loc  \n",
       "20896   J215/J215202.24+010834.5.png  \n",
       "22651   J224/J224938.18+002508.5.png  \n",
       "22659   J225/J225759.79-005519.6.png  \n",
       "22662   J225/J225804.46-002744.2.png  \n",
       "22680   J225/J225521.47-005651.9.png  \n",
       "...                              ...  \n",
       "343036  J135/J135947.14+014021.8.png  \n",
       "343060  J142/J142413.43+014628.7.png  \n",
       "343073  J142/J142431.49-003142.4.png  \n",
       "343107  J143/J143619.83-010748.1.png  \n",
       "343124  J235/J235101.08-100042.7.png  \n",
       "\n",
       "[11456 rows x 17 columns]"
      ]
     },
     "execution_count": 22,
     "metadata": {},
     "output_type": "execute_result"
    }
   ],
   "source": [
    "missing_from_subjects"
   ]
  },
  {
   "cell_type": "markdown",
   "metadata": {},
   "source": [
    "These iauname galaxies should have been uploaded, but are not in the subject export. Could be not uploaded, could since have been somehow deactivated."
   ]
  },
  {
   "cell_type": "code",
   "execution_count": 23,
   "metadata": {},
   "outputs": [
    {
     "data": {
      "text/plain": [
       "9573"
      ]
     },
     "execution_count": 23,
     "metadata": {},
     "output_type": "execute_result"
    }
   ],
   "source": [
    "latest_classifications = pd.read_csv('~/Downloads/classifications_final.csv')  # only if at least 1 classification\n",
    "missing_from_classifications = should_be_uploaded[~should_be_uploaded['iauname'].isin(latest_classifications['iauname'])]  # should be uploaded, but has not been classified\n",
    "len(missing_from_classifications)  # these have all not recieved 1 classification\n",
    "# all 9k need exactly 5 classifications"
   ]
  },
  {
   "cell_type": "markdown",
   "metadata": {},
   "source": [
    "Galaxies to upload must\n",
    "- Not have recieved any classifications\n",
    "- Not be in the inactive subject set (d, is deleted so doesn't show, all good)\n",
    "- Not be in the active subject set (a) as they might just not have been classified yet"
   ]
  },
  {
   "cell_type": "code",
   "execution_count": 24,
   "metadata": {},
   "outputs": [],
   "source": [
    "no_classifications = set(missing_from_classifications['iauname'])"
   ]
  },
  {
   "cell_type": "code",
   "execution_count": 25,
   "metadata": {},
   "outputs": [],
   "source": [
    "# latest_subjects['subject_set_id'].value_counts()\n",
    "in_missing_subject_set_a = set(latest_subjects.query('subject_set_id == \"85299\"')['iauname'])"
   ]
  },
  {
   "cell_type": "code",
   "execution_count": 26,
   "metadata": {},
   "outputs": [
    {
     "data": {
      "text/plain": [
       "9074"
      ]
     },
     "execution_count": 26,
     "metadata": {},
     "output_type": "execute_result"
    }
   ],
   "source": [
    "iaunames_to_upload = (no_classifications - in_missing_subject_set_a)\n",
    "len(iaunames_to_upload)"
   ]
  },
  {
   "cell_type": "code",
   "execution_count": 27,
   "metadata": {},
   "outputs": [],
   "source": [
    "will_upload = should_be_uploaded[should_be_uploaded['iauname'].isin(iaunames_to_upload)]\n",
    "assert len(iaunames_to_upload) == len(will_upload)"
   ]
  },
  {
   "cell_type": "code",
   "execution_count": 28,
   "metadata": {},
   "outputs": [
    {
     "name": "stdout",
     "output_type": "stream",
     "text": [
      "/home/walml/repos/zoobot/notebooks/catalogs\n"
     ]
    }
   ],
   "source": [
    "!pwd"
   ]
  },
  {
   "cell_type": "code",
   "execution_count": 29,
   "metadata": {},
   "outputs": [],
   "source": [
    "will_upload.to_csv('missing_galaxies_no_classifications_not_85299.csv', index=False)"
   ]
  },
  {
   "cell_type": "code",
   "execution_count": 30,
   "metadata": {},
   "outputs": [
    {
     "ename": "AssertionError",
     "evalue": "",
     "output_type": "error",
     "traceback": [
      "\u001b[0;31m---------------------------------------------------------------------------\u001b[0m",
      "\u001b[0;31mAssertionError\u001b[0m                            Traceback (most recent call last)",
      "\u001b[0;32m<ipython-input-30-a871fdc9ebee>\u001b[0m in \u001b[0;36m<module>\u001b[0;34m\u001b[0m\n\u001b[0;32m----> 1\u001b[0;31m \u001b[0;32massert\u001b[0m \u001b[0;32mFalse\u001b[0m\u001b[0;34m\u001b[0m\u001b[0;34m\u001b[0m\u001b[0m\n\u001b[0m",
      "\u001b[0;31mAssertionError\u001b[0m: "
     ]
    }
   ],
   "source": [
    "assert False"
   ]
  },
  {
   "cell_type": "code",
   "execution_count": null,
   "metadata": {},
   "outputs": [],
   "source": []
  },
  {
   "cell_type": "code",
   "execution_count": null,
   "metadata": {},
   "outputs": [],
   "source": []
  },
  {
   "cell_type": "markdown",
   "metadata": {},
   "source": [
    "These iauname galaxies should have been uploaded, but have not recieved any classifications. Could be not uploaded, could be new, could be awaiting activation."
   ]
  },
  {
   "cell_type": "code",
   "execution_count": null,
   "metadata": {},
   "outputs": [],
   "source": [
    "# pd.isna(latest_classifications['iauname']).sum()  # 33 have no iauname, Tobias to review"
   ]
  },
  {
   "cell_type": "code",
   "execution_count": null,
   "metadata": {},
   "outputs": [],
   "source": [
    "# so we need 9k*5 for these galaxies not classified, plus enough to finish should_be_uploaded"
   ]
  },
  {
   "cell_type": "code",
   "execution_count": null,
   "metadata": {},
   "outputs": [],
   "source": [
    "latest_subjects"
   ]
  },
  {
   "cell_type": "code",
   "execution_count": null,
   "metadata": {},
   "outputs": [],
   "source": [
    "latest_subjects.duplicated(subset=['subject_id', 'subject_set_id']).mean()"
   ]
  },
  {
   "cell_type": "code",
   "execution_count": null,
   "metadata": {},
   "outputs": [],
   "source": [
    "latest_subjects.duplicated(subset=['subject_id', 'subject_set_id', 'workflow_id']).mean()"
   ]
  },
  {
   "cell_type": "code",
   "execution_count": null,
   "metadata": {},
   "outputs": [],
   "source": []
  },
  {
   "cell_type": "code",
   "execution_count": null,
   "metadata": {},
   "outputs": [],
   "source": [
    "# making sure the random subjects have retirement=5 if they are in should_be_uploaded and are not duplicates"
   ]
  },
  {
   "cell_type": "code",
   "execution_count": null,
   "metadata": {},
   "outputs": [],
   "source": [
    "random = latest_subjects.query('subject_set_id == \"74905\"')\n",
    "random['iauname'].value_counts().value_counts()  # apparently they are ALL duplicated exactly twice??\n",
    "# random_metadata = list(latest_subjects.query('subject_set_id == \"74905\"')['metadata'])"
   ]
  },
  {
   "cell_type": "code",
   "execution_count": null,
   "metadata": {},
   "outputs": [],
   "source": [
    "random['subject_id'].value_counts()"
   ]
  },
  {
   "cell_type": "code",
   "execution_count": null,
   "metadata": {},
   "outputs": [],
   "source": [
    "random_metadata[0]"
   ]
  },
  {
   "cell_type": "code",
   "execution_count": null,
   "metadata": {},
   "outputs": [],
   "source": [
    "retirement_limits = [g.get('#retirement_limit', None) for g in random_metadata]"
   ]
  },
  {
   "cell_type": "code",
   "execution_count": null,
   "metadata": {},
   "outputs": [],
   "source": [
    "pd.value_counts(retirement_limits)"
   ]
  },
  {
   "cell_type": "code",
   "execution_count": null,
   "metadata": {},
   "outputs": [],
   "source": [
    "not_duplicates = pd.read_csv('/home/walml/repos/zoobot/notebooks/debugging/not_duplicates.csv')['subject_id']"
   ]
  },
  {
   "cell_type": "code",
   "execution_count": null,
   "metadata": {},
   "outputs": [],
   "source": [
    "retirement_limits = [g.get('#retirement_limit', None) for g in random_metadata if g['subject_id'] not in not_duplicates]\n",
    "pd.value_counts(retirement_limits)"
   ]
  },
  {
   "cell_type": "code",
   "execution_count": null,
   "metadata": {},
   "outputs": [],
   "source": [
    "latest_subjects['subject_set_id'].value_counts()  # there's no 74909 as it isn't active! only includes active subject sets in the export. 74909 is not going to reactivate though, conside fully classified"
   ]
  },
  {
   "cell_type": "code",
   "execution_count": null,
   "metadata": {},
   "outputs": [],
   "source": [
    "unretired = latest_subjects[pd.isna(latest_subjects['retired_at'])]\n",
    "unretired['subject_set_id'].value_counts()  #  concerning - two in three random galaxies are not retired? maybe caesar needs a refresh to apply the new rule, don't want to use 200k classifications just for final retirements"
   ]
  },
  {
   "cell_type": "code",
   "execution_count": null,
   "metadata": {},
   "outputs": [],
   "source": [
    "unretired"
   ]
  },
  {
   "cell_type": "code",
   "execution_count": null,
   "metadata": {},
   "outputs": [],
   "source": [
    "32497877"
   ]
  },
  {
   "cell_type": "code",
   "execution_count": null,
   "metadata": {},
   "outputs": [],
   "source": [
    "random_or_missing_a_subjects = latest_subjects[latest_subjects['subject_set_id'].isin([74905, 85299])]\n",
    "len(random_or_missing_a_subjects)"
   ]
  },
  {
   "cell_type": "code",
   "execution_count": null,
   "metadata": {},
   "outputs": [],
   "source": [
    "set(should_be_uploaded['iauname']) - set(latest_classifications['iauname']) - set(random_or_missing_a_subjects['iauname'])"
   ]
  },
  {
   "cell_type": "code",
   "execution_count": null,
   "metadata": {},
   "outputs": [],
   "source": []
  },
  {
   "cell_type": "code",
   "execution_count": null,
   "metadata": {},
   "outputs": [],
   "source": []
  },
  {
   "cell_type": "markdown",
   "metadata": {},
   "source": [
    "# separately..."
   ]
  },
  {
   "cell_type": "markdown",
   "metadata": {},
   "source": [
    "What about galaxies which have <5 classifications but should actually not be uploaded, or never finish? I should turn them off"
   ]
  },
  {
   "cell_type": "code",
   "execution_count": null,
   "metadata": {},
   "outputs": [],
   "source": [
    "wrongly_classified = latest_classifications[~latest_classifications['iauname'].isin(should_be_uploaded['iauname'])]"
   ]
  },
  {
   "cell_type": "code",
   "execution_count": null,
   "metadata": {},
   "outputs": [],
   "source": [
    "wrongly_classified"
   ]
  },
  {
   "cell_type": "code",
   "execution_count": null,
   "metadata": {},
   "outputs": [],
   "source": [
    "wrongly_classified['smooth-or-featured_total-votes'].hist(bins=40)"
   ]
  },
  {
   "cell_type": "code",
   "execution_count": null,
   "metadata": {},
   "outputs": [],
   "source": [
    "wrongly_classified['smooth-or-featured_total-votes'].hist(bins=10, range=(0, 10))"
   ]
  },
  {
   "cell_type": "code",
   "execution_count": null,
   "metadata": {},
   "outputs": [],
   "source": [
    "wrongly_classified"
   ]
  },
  {
   "cell_type": "code",
   "execution_count": null,
   "metadata": {},
   "outputs": [],
   "source": []
  }
 ],
 "metadata": {
  "kernelspec": {
   "display_name": "Python 3",
   "language": "python",
   "name": "python3"
  },
  "language_info": {
   "codemirror_mode": {
    "name": "ipython",
    "version": 3
   },
   "file_extension": ".py",
   "mimetype": "text/x-python",
   "name": "python",
   "nbconvert_exporter": "python",
   "pygments_lexer": "ipython3",
   "version": "3.7.6"
  }
 },
 "nbformat": 4,
 "nbformat_minor": 4
}
