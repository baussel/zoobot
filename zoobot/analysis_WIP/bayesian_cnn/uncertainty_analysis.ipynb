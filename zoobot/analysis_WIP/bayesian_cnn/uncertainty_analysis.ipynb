{
 "cells": [
  {
   "cell_type": "code",
   "execution_count": 1,
   "metadata": {},
   "outputs": [],
   "source": [
    "%load_ext autoreload\n",
    "%autoreload 2 "
   ]
  },
  {
   "cell_type": "code",
   "execution_count": 2,
   "metadata": {},
   "outputs": [
    {
     "name": "stderr",
     "output_type": "stream",
     "text": [
      "/data/anaconda3/envs/py36/lib/python3.6/site-packages/h5py/__init__.py:36: FutureWarning: Conversion of the second argument of issubdtype from `float` to `np.floating` is deprecated. In future, it will be treated as `np.float64 == np.dtype(float).type`.\n",
      "  from ._conv import register_converters as _register_converters\n"
     ]
    }
   ],
   "source": [
    "import pandas as pd\n",
    "import numpy as np\n",
    "import tensorflow as tf\n",
    "%matplotlib inline\n",
    "import matplotlib.pyplot as plt\n",
    "import seaborn as sns\n",
    "sns.set_context('notebook')\n",
    "from tensorflow.contrib import predictor"
   ]
  },
  {
   "cell_type": "code",
   "execution_count": 3,
   "metadata": {},
   "outputs": [],
   "source": [
    "import sys\n",
    "sys.path.insert(0, '/Data/repos/zoobot')\n",
    "from zoobot.tfrecord import catalog_to_tfrecord"
   ]
  },
  {
   "cell_type": "markdown",
   "metadata": {},
   "source": [
    "### What's the Problem?\n",
    "\n",
    "Given a galaxy image, we want to know if the galaxy is 'smooth' or featured.\n",
    "\n",
    "We have a set of crowdsourced answers. Each galaxy has about 40 responses. \n",
    "\n",
    "Let's aim to predict the crowd majority vote."
   ]
  },
  {
   "cell_type": "markdown",
   "metadata": {},
   "source": [
    "### Look at the crowd labels\n",
    "\n",
    "Load all crowd answers. How common is each response?"
   ]
  },
  {
   "cell_type": "code",
   "execution_count": 4,
   "metadata": {},
   "outputs": [],
   "source": [
    "columns_to_save = [\n",
    "    'smooth-or-featured_smooth',\n",
    "    'smooth-or-featured_featured-or-disk',\n",
    "    'smooth-or-featured_total-votes',\n",
    "    'smooth-or-featured_smooth_fraction',\n",
    "    'smooth-or-featured_featured-or-disk_fraction',\n",
    "    'smooth-or-featured_smooth_min',\n",
    "    'smooth-or-featured_smooth_max',\n",
    "    'smooth-or-featured_featured-or-disk_min',\n",
    "    'smooth-or-featured_featured-or-disk_max',\n",
    "    'smooth-or-featured_prediction-encoded',  # 0 for artifact, 1 for featured, 2 for smooth\n",
    "    'classifications_count',\n",
    "    'subject_id',\n",
    "    'nsa_id',\n",
    "    'ra',\n",
    "    'dec']\n",
    "\n",
    "df_loc = '/data/repos/zoobot/zoobot/data/panoptes_featured_s28_l0.5_train.tfrecord.csv'\n",
    "df = pd.read_csv(df_loc, usecols=columns_to_save + ['fits_loc', 'png_loc', 'png_ready'], dtype={'fits_loc': str})"
   ]
  },
  {
   "cell_type": "code",
   "execution_count": 5,
   "metadata": {},
   "outputs": [
    {
     "data": {
      "text/plain": [
       "<matplotlib.legend.Legend at 0x1c24f52e10>"
      ]
     },
     "execution_count": 5,
     "metadata": {},
     "output_type": "execute_result"
    },
    {
     "data": {
      "image/png": "[encoded data removed]",
      "text/plain": [
       "<matplotlib.figure.Figure at 0x1c24d31eb8>"
      ]
     },
     "metadata": {},
     "output_type": "display_data"
    }
   ],
   "source": [
    "fraction_col = 'smooth-or-featured_smooth_fraction'\n",
    "df['label'] = df[fraction_col] > 0.5\n",
    "ax = df[fraction_col].hist(bins=40)\n",
    "ax.axvline(0.5, c='k')\n",
    "plt.xlabel('Vote fraction for \"Smooth\"')\n",
    "plt.ylabel('Count')\n",
    "plt.legend(['Majority vote bin'])"
   ]
  },
  {
   "cell_type": "code",
   "execution_count": 6,
   "metadata": {},
   "outputs": [
    {
     "name": "stdout",
     "output_type": "stream",
     "text": [
      "2    4651\n",
      "1    2411\n",
      "Name: smooth-or-featured_prediction-encoded, dtype: int64\n",
      "0.5235302983992943\n"
     ]
    }
   ],
   "source": [
    "print(df['smooth-or-featured_prediction-encoded'].value_counts())\n",
    "print(df[fraction_col].mean())"
   ]
  },
  {
   "cell_type": "code",
   "execution_count": 7,
   "metadata": {},
   "outputs": [
    {
     "name": "stdout",
     "output_type": "stream",
     "text": [
      "0.5235302983992943\n",
      "0.3547887205672672\n"
     ]
    }
   ],
   "source": [
    "print(df['smooth-or-featured_smooth_fraction'].mean())\n",
    "print(df['smooth-or-featured_featured-or-disk_fraction'].mean())"
   ]
  },
  {
   "cell_type": "markdown",
   "metadata": {},
   "source": [
    "The crowd somewhat separates 'smooth' from 'featured' galaxies, but there's clearly a continuum. \n",
    "\n",
    "Let's start with the binary case (what would the majority say) and then move on to regression (what fraction would say 'smooth)."
   ]
  },
  {
   "cell_type": "code",
   "execution_count": 8,
   "metadata": {},
   "outputs": [
    {
     "data": {
      "text/plain": [
       "'Fraction of galaxies which the crowd thinks are smooth: 0.38%'"
      ]
     },
     "execution_count": 8,
     "metadata": {},
     "output_type": "execute_result"
    }
   ],
   "source": [
    "'Fraction of galaxies which the crowd thinks are smooth: {:.2f}%'.format(np.mean((df[fraction_col] < 0.5).astype(float)))"
   ]
  },
  {
   "cell_type": "markdown",
   "metadata": {},
   "source": [
    "Smooth galaxies are a little less common than featured galaxies - bear this in mind when looking at accuracy. A dumb majority class classifier would get 60% accuracy."
   ]
  },
  {
   "cell_type": "markdown",
   "metadata": {},
   "source": [
    "### Train Bayesian CNN\n",
    "\n",
    "See https://github.com/RustyPanda/zoobot/tree/master/zoobot\n",
    "\n",
    "Training is done on .tfrecord files after a simple 80/20 train/test split."
   ]
  },
  {
   "cell_type": "markdown",
   "metadata": {},
   "source": [
    "### Load saved models at untrained, mid-training and trained stages"
   ]
  },
  {
   "cell_type": "code",
   "execution_count": 9,
   "metadata": {},
   "outputs": [
    {
     "name": "stdout",
     "output_type": "stream",
     "text": [
      "INFO:tensorflow:Restoring parameters from b'/Data/repos/zoobot/zoobot/runs/bayesian_panoptes_featured_s64_l0.5_120k_test/1526633289/variables/variables'\n",
      "INFO:tensorflow:Restoring parameters from b'/Data/repos/zoobot/zoobot/runs/bayesian_panoptes_featured_s64_l0.5_120k_test/1526636416/variables/variables'\n",
      "INFO:tensorflow:Restoring parameters from b'/Data/repos/zoobot/zoobot/runs/bayesian_panoptes_featured_s64_l0.5_120k_test/1526639533/variables/variables'\n"
     ]
    }
   ],
   "source": [
    "untrained_model_loc = '/Data/repos/zoobot/zoobot/runs/bayesian_panoptes_featured_s64_l0.5_120k_test/1526633289'  # needs update\n",
    "midtrained_model_loc = '/Data/repos/zoobot/zoobot/runs/bayesian_panoptes_featured_s64_l0.5_120k_test/1526636416' \n",
    "trained_model_loc = '/Data/repos/zoobot/zoobot/runs/bayesian_panoptes_featured_s64_l0.5_120k_test/1526639533' \n",
    "\n",
    "untrained_model_unwrapped = predictor.from_saved_model(untrained_model_loc)\n",
    "midtrained_model_unwrapped = predictor.from_saved_model(midtrained_model_loc)\n",
    "trained_model_unwrapped = predictor.from_saved_model(trained_model_loc)\n",
    "\n",
    "# wrap to avoid having to pass around dicts all the time\n",
    "untrained_model = lambda x: 1 - untrained_model_unwrapped({'examples': x})['all_predictions']\n",
    "midtrained_model = lambda x: 1 - midtrained_model_unwrapped({'examples': x})['all_predictions']\n",
    "trained_model = lambda x: 1 - trained_model_unwrapped({'examples': x})['all_predictions']\n",
    "\n",
    "models = [untrained_model, midtrained_model, trained_model]"
   ]
  },
  {
   "cell_type": "markdown",
   "metadata": {},
   "source": [
    "## How accurate are the model samples on test data?"
   ]
  },
  {
   "cell_type": "code",
   "execution_count": 10,
   "metadata": {},
   "outputs": [],
   "source": [
    "n_examples = 200\n",
    "samples_per_example = 1000"
   ]
  },
  {
   "cell_type": "markdown",
   "metadata": {},
   "source": [
    "### Load the the test catalog (galaxy labels)"
   ]
  },
  {
   "cell_type": "code",
   "execution_count": 11,
   "metadata": {},
   "outputs": [],
   "source": [
    "train_df = pd.read_csv('/data/repos/zoobot/zoobot/data/panoptes_featured_s64_l0.5_train.tfrecord.csv', usecols=[fraction_col])\n",
    "train_data = train_df[:n_examples]  # index will match tfrecord examples"
   ]
  },
  {
   "cell_type": "code",
   "execution_count": 12,
   "metadata": {},
   "outputs": [],
   "source": [
    "test_df = pd.read_csv('/data/repos/zoobot/zoobot/data/panoptes_featured_s64_l0.5_test.tfrecord.csv', usecols=[fraction_col])\n",
    "test_data = test_df[:n_examples]  # index will match tfrecord examples"
   ]
  },
  {
   "cell_type": "markdown",
   "metadata": {},
   "source": [
    "### Load serialized galaxy examples"
   ]
  },
  {
   "cell_type": "code",
   "execution_count": 13,
   "metadata": {},
   "outputs": [],
   "source": [
    "def load_examples_from_tfrecord(tfrecord_loc, n_examples):\n",
    "    # see http://www.machinelearninguru.com/deep_learning/tensorflow/basics/tfrecord/tfrecord.html\n",
    "    with tf.Session() as sess:\n",
    "        # Create a list of filenames and pass it to a queue\n",
    "        filename_queue = tf.train.string_input_producer([tfrecord_loc], num_epochs=1)\n",
    "        # Define a reader and read the next record\n",
    "        reader = tf.TFRecordReader()\n",
    "        _, serialized_example = reader.read(filename_queue)\n",
    "\n",
    "        # Initialize all global and local variables\n",
    "        init_op = tf.group(tf.global_variables_initializer(), tf.local_variables_initializer())\n",
    "        sess.run(init_op)\n",
    "        # Create a coordinator and run all QueueRunner objects\n",
    "        coord = tf.train.Coordinator()\n",
    "        threads = tf.train.start_queue_runners(coord=coord)\n",
    "\n",
    "        # execute\n",
    "        return [sess.run(serialized_example) for n in range(n_examples)]\n"
   ]
  },
  {
   "cell_type": "code",
   "execution_count": 14,
   "metadata": {},
   "outputs": [],
   "source": [
    "tfrecord_loc = '/data/repos/zoobot/zoobot/data/panoptes_featured_s64_l0.5_train.tfrecord'\n",
    "train_examples = load_examples_from_tfrecord(tfrecord_loc, n_examples)"
   ]
  },
  {
   "cell_type": "code",
   "execution_count": 15,
   "metadata": {},
   "outputs": [],
   "source": [
    "tfrecord_loc = '/data/repos/zoobot/zoobot/data/panoptes_featured_s64_l0.5_test.tfrecord'\n",
    "test_examples = load_examples_from_tfrecord(tfrecord_loc, n_examples)"
   ]
  },
  {
   "cell_type": "markdown",
   "metadata": {},
   "source": [
    "Double check that these have genuinely different data:"
   ]
  },
  {
   "cell_type": "code",
   "execution_count": 16,
   "metadata": {},
   "outputs": [
    {
     "name": "stdout",
     "output_type": "stream",
     "text": [
      "200\n",
      "200\n"
     ]
    }
   ],
   "source": [
    "print(len(train_examples))\n",
    "print(len(test_examples))"
   ]
  },
  {
   "cell_type": "code",
   "execution_count": 17,
   "metadata": {},
   "outputs": [
    {
     "data": {
      "text/plain": [
       "False"
      ]
     },
     "execution_count": 17,
     "metadata": {},
     "output_type": "execute_result"
    }
   ],
   "source": [
    "train_examples[0] == test_examples[0]"
   ]
  },
  {
   "cell_type": "code",
   "execution_count": 18,
   "metadata": {},
   "outputs": [
    {
     "name": "stdout",
     "output_type": "stream",
     "text": [
      "b\"\\n\\xda\\x86\\x03\\n3\\n'sm\"\n",
      "b'\\n\\xda\\x86\\x03\\n\\x0f\\n\\x03de'\n"
     ]
    }
   ],
   "source": [
    "print(train_examples[0][:10])\n",
    "print(test_examples[0][:10])"
   ]
  },
  {
   "cell_type": "markdown",
   "metadata": {},
   "source": [
    "Double check that tfrecord and data catalog indices align i.e. first example from tfrecord is first example in data catalog, etc."
   ]
  },
  {
   "cell_type": "code",
   "execution_count": 19,
   "metadata": {},
   "outputs": [],
   "source": [
    "def parse_example(example):\n",
    "    with tf.Session() as sess:\n",
    "        \n",
    "            features = {\n",
    "#                 'matrix': tf.FixedLenFeature([], tf.float32),\n",
    "                'label': tf.FixedLenFeature([], tf.int64),\n",
    "              }\n",
    "\n",
    "            parsed_example = tf.parse_single_example(example, features=features)\n",
    "            return sess.run(parsed_example)\n",
    "            "
   ]
  },
  {
   "cell_type": "code",
   "execution_count": 20,
   "metadata": {},
   "outputs": [],
   "source": [
    "train_record_labels = [parse_example(train_examples[n])['label'] for n in range(30)]\n",
    "train_data_labels = (train_df[fraction_col] > 0.5).astype(int)[:30]"
   ]
  },
  {
   "cell_type": "code",
   "execution_count": 21,
   "metadata": {},
   "outputs": [
    {
     "name": "stdout",
     "output_type": "stream",
     "text": [
      "[1, 0, 1, 0, 1, 1, 1, 1, 1, 1, 1, 1, 1, 1, 1, 0, 1, 0, 0, 1, 1, 0, 1, 1, 1, 0, 1, 0, 1, 1]\n",
      "[1, 0, 1, 0, 1, 1, 1, 1, 1, 1, 1, 1, 1, 1, 1, 0, 1, 0, 0, 1, 1, 0, 1, 1, 1, 0, 1, 0, 1, 1]\n"
     ]
    }
   ],
   "source": [
    "print(train_record_labels)\n",
    "print(list(train_data_labels.values))\n",
    "assert (train_record_labels == train_data_labels.values).all()"
   ]
  },
  {
   "cell_type": "markdown",
   "metadata": {},
   "source": [
    "### Make model predictions"
   ]
  },
  {
   "cell_type": "code",
   "execution_count": 25,
   "metadata": {},
   "outputs": [],
   "source": [
    "def get_samples_of_examples(model, examples, samples_per_example):\n",
    "    results_store = []\n",
    "    for nth_run in range(int(samples_per_example / 10)):\n",
    "        results_store.append(model(examples))\n",
    "    return np.concatenate(results_store, axis=1)"
   ]
  },
  {
   "cell_type": "code",
   "execution_count": 26,
   "metadata": {},
   "outputs": [],
   "source": [
    "all_model_results_train = np.array([get_samples_of_examples(model, train_examples, samples_per_example) for model in models])\n",
    "# dimensions of [model, example, sample], values of sample\n",
    "mean_model_results_train = np.mean(all_model_results_train, axis=2) # averaged over all samples\n",
    "# dimensions of [model, example], values of mean sample"
   ]
  },
  {
   "cell_type": "code",
   "execution_count": 27,
   "metadata": {},
   "outputs": [],
   "source": [
    "all_model_results_test = np.array([get_samples_of_examples(model, test_examples, samples_per_example) for model in models])\n",
    "mean_model_results_test = np.mean(all_model_results_test, axis=2)"
   ]
  },
  {
   "cell_type": "code",
   "execution_count": 34,
   "metadata": {},
   "outputs": [
    {
     "data": {
      "image/png": "[encoded data removed]",
      "text/plain": [
       "<matplotlib.figure.Figure at 0x1c2bf42d30>"
      ]
     },
     "metadata": {},
     "output_type": "display_data"
    }
   ],
   "source": [
    "fig, axes = plt.subplots(2, 3, sharex=True, sharey=True, figsize=(8, 6))\n",
    "for model_n in range(len(models)):\n",
    "    sns.regplot(train_data[fraction_col], mean_model_results_train[model_n], ax=axes[0][model_n])\n",
    "    sns.regplot(test_data[fraction_col], mean_model_results_test[model_n], ax=axes[1][model_n])\n",
    "    axes[0][model_n].set_title(['Untrained', 'Midtrained', 'Trained'][model_n])\n",
    "    axes[0][model_n].set_xlabel('')\n",
    "    axes[1][model_n].set_xlabel('True label')\n",
    "axes[0][0].set_ylabel('Train prediction')\n",
    "axes[1][0].set_ylabel('Test prediction')\n",
    "plt.tight_layout()"
   ]
  },
  {
   "cell_type": "markdown",
   "metadata": {},
   "source": [
    "Not looking like great..."
   ]
  },
  {
   "cell_type": "markdown",
   "metadata": {},
   "source": [
    "### What do the sample distributions of the trained model look like?"
   ]
  },
  {
   "cell_type": "code",
   "execution_count": null,
   "metadata": {},
   "outputs": [],
   "source": [
    "def are_labels_correct(results, fractions):\n",
    "    correct_labels = fractions > 0.5\n",
    "    predicted_labels = pd.Series(np.mean(results, axis=1)) > 0.5\n",
    "    return correct_labels == predicted_labels"
   ]
  },
  {
   "cell_type": "code",
   "execution_count": null,
   "metadata": {},
   "outputs": [],
   "source": [
    "print(are_labels_correct(all_model_results_train[0], train_data[fraction_col]).mean())\n",
    "print(are_labels_correct(all_model_results_test[0], test_data[fraction_col]).mean())"
   ]
  },
  {
   "cell_type": "code",
   "execution_count": null,
   "metadata": {},
   "outputs": [],
   "source": [
    "def view_samples(results, data):\n",
    "    correct = are_labels_correct(results, data[fraction_col])\n",
    "    fig, axes = plt.subplots(len(data), figsize=(4, n_examples), sharex=True, sharey=True)\n",
    "    for galaxy_n, ax in enumerate(axes):\n",
    "        ax.hist(results[galaxy_n, :])\n",
    "        c='r'\n",
    "        if correct[galaxy_n]:\n",
    "            c='g'\n",
    "        ax.axvline(data.iloc[galaxy_n][fraction_col], c=c)"
   ]
  },
  {
   "cell_type": "markdown",
   "metadata": {},
   "source": [
    "#### Sample distributions on train data with untrained model"
   ]
  },
  {
   "cell_type": "code",
   "execution_count": null,
   "metadata": {
    "scrolled": true
   },
   "outputs": [],
   "source": [
    "view_samples(all_model_results_train[0, :20, :], train_data[:20])"
   ]
  },
  {
   "cell_type": "markdown",
   "metadata": {},
   "source": [
    "#### Sample distributions on train data with trained model"
   ]
  },
  {
   "cell_type": "code",
   "execution_count": null,
   "metadata": {
    "scrolled": true
   },
   "outputs": [],
   "source": [
    "view_samples(all_model_results_train[2, :20, :], train_data[:20])"
   ]
  },
  {
   "cell_type": "code",
   "execution_count": null,
   "metadata": {
    "scrolled": true
   },
   "outputs": [],
   "source": [
    "view_samples(all_model_results_test[2, :20, :], test_data[:20])"
   ]
  },
  {
   "cell_type": "code",
   "execution_count": null,
   "metadata": {},
   "outputs": [],
   "source": [
    "from scipy.stats import kurtosis"
   ]
  },
  {
   "cell_type": "code",
   "execution_count": null,
   "metadata": {},
   "outputs": [],
   "source": [
    "def get_kurtosis(model_results):\n",
    "    return np.array([kurtosis(model_results[n, :]) for n in range(len(model_results))])"
   ]
  },
  {
   "cell_type": "code",
   "execution_count": null,
   "metadata": {},
   "outputs": [],
   "source": [
    "untrained_train_k = get_kurtosis(all_model_results_train[0])\n",
    "trained_train_k = get_kurtosis(all_model_results_train[2])\n",
    "trained_test_k = get_kurtosis(all_model_results_test[2])"
   ]
  },
  {
   "cell_type": "code",
   "execution_count": null,
   "metadata": {},
   "outputs": [],
   "source": [
    "print(untrained_train_k.mean())\n",
    "print(trained_train_k.mean())\n",
    "print(trained_test_k.mean())"
   ]
  }
 ],
 "metadata": {
  "kernelspec": {
   "display_name": "Python 3",
   "language": "python",
   "name": "python3"
  },
  "language_info": {
   "codemirror_mode": {
    "name": "ipython",
    "version": 3
   },
   "file_extension": ".py",
   "mimetype": "text/x-python",
   "name": "python",
   "nbconvert_exporter": "python",
   "pygments_lexer": "ipython3",
   "version": "3.6.4"
  }
 },
 "nbformat": 4,
 "nbformat_minor": 2
}
